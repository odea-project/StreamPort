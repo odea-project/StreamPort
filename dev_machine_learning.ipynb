{
 "cells": [
  {
   "cell_type": "code",
   "execution_count": 1,
   "metadata": {},
   "outputs": [
    {
     "name": "stdout",
     "output_type": "stream",
     "text": [
      "\n",
      "MachineLearningAnalyses \n",
      "  variables: 22 rows, 33 columns\n",
      "  metadata: 22 rows, 14 columns\n",
      "\n"
     ]
    },
    {
     "data": {
      "application/vnd.plotly.v1+json": {
       "config": {
        "plotlyServerURL": "https://plot.ly"
       },
       "data": [
        {
         "hovertemplate": "<b>%{text}</b><br><b>x: </b>%{x}<br><b>batch_position: </b>%{y}<extra></extra>",
         "mode": "lines",
         "name": "batch_position",
         "text": [
          "index: 17<br>name: 210812_Pac--005<br>path: D:/ExtractedSignals\\210812_Pac 2021-08-12 10-30-07\\210812_Pac--005.D<br>batch: 210812_Pac 2021-08-12 10-30-07<br>batch_position: 5<br>idle_time: 279.0<br>sample: NaCl 0,9%<br>method: SAA_411_Pac.M<br>timestamp: 2021-08-12 10:50:23<br>detector: G1315C<br>pump: G7110B<br>start_time: 2021-08-12 10:50:57<br>end_time: 2021-08-12 10:54:57<br>runtime: 239.7000000000036",
          "index: 18<br>name: 210812_Pac--006<br>path: D:/ExtractedSignals\\210812_Pac 2021-08-12 10-30-07\\210812_Pac--006.D<br>batch: 210812_Pac 2021-08-12 10-30-07<br>batch_position: 6<br>idle_time: 279.0<br>sample: Blank<br>method: SAA_411_Pac.M<br>timestamp: 2021-08-12 10:55:02<br>detector: G1315C<br>pump: G7110B<br>start_time: 2021-08-12 10:55:36<br>end_time: 2021-08-12 10:59:36<br>runtime: 239.7000000000036",
          "index: 19<br>name: 210812_Pac--007<br>path: D:/ExtractedSignals\\210812_Pac 2021-08-12 10-30-07\\210812_Pac--007.D<br>batch: 210812_Pac 2021-08-12 10-30-07<br>batch_position: 7<br>idle_time: 279.0<br>sample: 0.025 mg/ml<br>method: SAA_411_Pac.M<br>timestamp: 2021-08-12 10:59:41<br>detector: G1315C<br>pump: G7110B<br>start_time: 2021-08-12 11:00:15<br>end_time: 2021-08-12 11:04:15<br>runtime: 239.7000000000036",
          "index: 20<br>name: 210812_Pac--008<br>path: D:/ExtractedSignals\\210812_Pac 2021-08-12 10-30-07\\210812_Pac--008.D<br>batch: 210812_Pac 2021-08-12 10-30-07<br>batch_position: 8<br>idle_time: 279.0<br>sample: Blank<br>method: SAA_411_Pac.M<br>timestamp: 2021-08-12 11:04:20<br>detector: G1315C<br>pump: G7110B<br>start_time: 2021-08-12 11:04:54<br>end_time: 2021-08-12 11:08:54<br>runtime: 239.7000000000036",
          "index: 21<br>name: 210812_Pac--009<br>path: D:/ExtractedSignals\\210812_Pac 2021-08-12 10-30-07\\210812_Pac--009.D<br>batch: 210812_Pac 2021-08-12 10-30-07<br>batch_position: 9<br>idle_time: 279.0<br>sample: 210806/036 :10<br>method: SAA_411_Pac.M<br>timestamp: 2021-08-12 11:08:59<br>detector: G1315C<br>pump: G7110B<br>start_time: 2021-08-12 11:09:32<br>end_time: 2021-08-12 11:13:32<br>runtime: 239.7000000000036",
          "index: 22<br>name: 210812_Pac--010<br>path: D:/ExtractedSignals\\210812_Pac 2021-08-12 10-30-07\\210812_Pac--010.D<br>batch: 210812_Pac 2021-08-12 10-30-07<br>batch_position: 10<br>idle_time: 278.0<br>sample: 210806/036 :10<br>method: SAA_411_Pac.M<br>timestamp: 2021-08-12 11:13:37<br>detector: G7110B<br>pump: G7110B<br>start_time: 2021-08-12 11:14:11<br>end_time: 2021-08-12 11:18:11<br>runtime: 239.7000000000036",
          "index: 23<br>name: 210812_Pac--011<br>path: D:/ExtractedSignals\\210812_Pac 2021-08-12 10-30-07\\210812_Pac--011.D<br>batch: 210812_Pac 2021-08-12 10-30-07<br>batch_position: 11<br>idle_time: 279.0<br>sample: 210806/036 :10<br>method: SAA_411_Pac.M<br>timestamp: 2021-08-12 11:18:16<br>detector: G7110B<br>pump: G7110B<br>start_time: 2021-08-12 11:18:50<br>end_time: 2021-08-12 11:22:50<br>runtime: 239.7000000000036",
          "index: 24<br>name: 210812_Pac--012<br>path: D:/ExtractedSignals\\210812_Pac 2021-08-12 10-30-07\\210812_Pac--012.D<br>batch: 210812_Pac 2021-08-12 10-30-07<br>batch_position: 12<br>idle_time: 279.0<br>sample: Blank<br>method: SAA_411_Pac.M<br>timestamp: 2021-08-12 11:22:55<br>detector: G1315C<br>pump: G7110B<br>start_time: 2021-08-12 11:23:29<br>end_time: 2021-08-12 11:27:29<br>runtime: 239.7000000000036",
          "index: 25<br>name: 210812_Pac--013<br>path: D:/ExtractedSignals\\210812_Pac 2021-08-12 10-30-07\\210812_Pac--013.D<br>batch: 210812_Pac 2021-08-12 10-30-07<br>batch_position: 13<br>idle_time: 279.0<br>sample: 0.025 mg/ml<br>method: SAA_411_Pac.M<br>timestamp: 2021-08-12 11:27:34<br>detector: G1315C<br>pump: G7110B<br>start_time: 2021-08-12 11:28:08<br>end_time: 2021-08-12 11:32:08<br>runtime: 239.7000000000036",
          "index: 26<br>name: 210812_Pac--014<br>path: D:/ExtractedSignals\\210812_Pac 2021-08-12 10-30-07\\210812_Pac--014.D<br>batch: 210812_Pac 2021-08-12 10-30-07<br>batch_position: 14<br>idle_time: 279.0<br>sample: Blank<br>method: SAA_411_Pac.M<br>timestamp: 2021-08-12 11:32:13<br>detector: G7110B<br>pump: G7110B<br>start_time: 2021-08-12 11:32:46<br>end_time: 2021-08-12 11:36:47<br>runtime: 239.7000000000036",
          "index: 85<br>name: 210813_Pac--003<br>path: D:/ExtractedSignals\\210813_Pac 2021-08-13 10-37-27\\210813_Pac--003.D<br>batch: 210813_Pac 2021-08-13 10-37-27<br>batch_position: 3<br>idle_time: 278.0<br>sample: Blank<br>method: SAA_411_Pac.M<br>timestamp: 2021-08-13 10:48:34<br>detector: G1315C<br>pump: G7116B<br>start_time: 2021-08-13 10:49:08<br>end_time: 2021-08-13 10:53:08<br>runtime: 239.7000000000036",
          "index: 86<br>name: 210813_Pac--004<br>path: D:/ExtractedSignals\\210813_Pac 2021-08-13 10-37-27\\210813_Pac--004.D<br>batch: 210813_Pac 2021-08-13 10-37-27<br>batch_position: 4<br>idle_time: 279.0<br>sample: Blank<br>method: SAA_411_Pac.M<br>timestamp: 2021-08-13 10:53:13<br>detector: G1315C<br>pump: G7110B<br>start_time: 2021-08-13 10:53:47<br>end_time: 2021-08-13 10:57:47<br>runtime: 239.7000000000036",
          "index: 87<br>name: 210813_Pac--005<br>path: D:/ExtractedSignals\\210813_Pac 2021-08-13 10-37-27\\210813_Pac--005.D<br>batch: 210813_Pac 2021-08-13 10-37-27<br>batch_position: 5<br>idle_time: 279.0<br>sample: NaCl 0,9%<br>method: SAA_411_Pac.M<br>timestamp: 2021-08-13 10:57:52<br>detector: G7110B<br>pump: G7110B<br>start_time: 2021-08-13 10:58:26<br>end_time: 2021-08-13 11:02:27<br>runtime: 239.7000000000036",
          "index: 88<br>name: 210813_Pac--006<br>path: D:/ExtractedSignals\\210813_Pac 2021-08-13 10-37-27\\210813_Pac--006.D<br>batch: 210813_Pac 2021-08-13 10-37-27<br>batch_position: 6<br>idle_time: 279.0<br>sample: Blank<br>method: SAA_411_Pac.M<br>timestamp: 2021-08-13 11:02:31<br>detector: G1315C<br>pump: G7110B<br>start_time: 2021-08-13 11:03:05<br>end_time: 2021-08-13 11:07:06<br>runtime: 239.7000000000036",
          "index: 89<br>name: 210813_Pac--007<br>path: D:/ExtractedSignals\\210813_Pac 2021-08-13 10-37-27\\210813_Pac--007.D<br>batch: 210813_Pac 2021-08-13 10-37-27<br>batch_position: 7<br>idle_time: 279.0<br>sample: 0.025 mg/ml<br>method: SAA_411_Pac.M<br>timestamp: 2021-08-13 11:07:10<br>detector: G1315C<br>pump: G7116B<br>start_time: 2021-08-13 11:07:44<br>end_time: 2021-08-13 11:11:45<br>runtime: 239.7000000000036",
          "index: 90<br>name: 210813_Pac--008<br>path: D:/ExtractedSignals\\210813_Pac 2021-08-13 10-37-27\\210813_Pac--008.D<br>batch: 210813_Pac 2021-08-13 10-37-27<br>batch_position: 8<br>idle_time: 279.0<br>sample: Blank<br>method: SAA_411_Pac.M<br>timestamp: 2021-08-13 11:11:49<br>detector: G1315C<br>pump: G7110B<br>start_time: 2021-08-13 11:12:23<br>end_time: 2021-08-13 11:16:23<br>runtime: 239.7000000000036",
          "index: 91<br>name: 210813_Pac--009<br>path: D:/ExtractedSignals\\210813_Pac 2021-08-13 10-37-27\\210813_Pac--009.D<br>batch: 210813_Pac 2021-08-13 10-37-27<br>batch_position: 9<br>idle_time: 279.0<br>sample: 210812/004 :20<br>method: SAA_411_Pac.M<br>timestamp: 2021-08-13 11:16:28<br>detector: G1315C<br>pump: G7110B<br>start_time: 2021-08-13 11:17:02<br>end_time: 2021-08-13 11:21:03<br>runtime: 239.7000000000036",
          "index: 92<br>name: 210813_Pac--010<br>path: D:/ExtractedSignals\\210813_Pac 2021-08-13 10-37-27\\210813_Pac--010.D<br>batch: 210813_Pac 2021-08-13 10-37-27<br>batch_position: 10<br>idle_time: 280.0<br>sample: 210812/004 :20<br>method: SAA_411_Pac.M<br>timestamp: 2021-08-13 11:21:08<br>detector: G1315C<br>pump: G7110B<br>start_time: 2021-08-13 11:21:41<br>end_time: 2021-08-13 11:25:42<br>runtime: 239.7000000000036",
          "index: 93<br>name: 210813_Pac--011<br>path: D:/ExtractedSignals\\210813_Pac 2021-08-13 10-37-27\\210813_Pac--011.D<br>batch: 210813_Pac 2021-08-13 10-37-27<br>batch_position: 11<br>idle_time: 278.0<br>sample: 210812/004 :20<br>method: SAA_411_Pac.M<br>timestamp: 2021-08-13 11:25:46<br>detector: G1315C<br>pump: G7110B<br>start_time: 2021-08-13 11:26:21<br>end_time: 2021-08-13 11:30:21<br>runtime: 239.7000000000036",
          "index: 94<br>name: 210813_Pac--012<br>path: D:/ExtractedSignals\\210813_Pac 2021-08-13 10-37-27\\210813_Pac--012.D<br>batch: 210813_Pac 2021-08-13 10-37-27<br>batch_position: 12<br>idle_time: 280.0<br>sample: Blank<br>method: SAA_411_Pac.M<br>timestamp: 2021-08-13 11:30:26<br>detector: G1315C<br>pump: G7110B<br>start_time: 2021-08-13 11:30:59<br>end_time: 2021-08-13 11:34:59<br>runtime: 239.7000000000036",
          "index: 95<br>name: 210813_Pac--013<br>path: D:/ExtractedSignals\\210813_Pac 2021-08-13 10-37-27\\210813_Pac--013.D<br>batch: 210813_Pac 2021-08-13 10-37-27<br>batch_position: 13<br>idle_time: 278.0<br>sample: 0.025 mg/ml<br>method: SAA_411_Pac.M<br>timestamp: 2021-08-13 11:35:04<br>detector: G1315C<br>pump: G7110B<br>start_time: 2021-08-13 11:35:38<br>end_time: 2021-08-13 11:39:38<br>runtime: 239.7000000000036",
          "index: 96<br>name: 210813_Pac--014<br>path: D:/ExtractedSignals\\210813_Pac 2021-08-13 10-37-27\\210813_Pac--014.D<br>batch: 210813_Pac 2021-08-13 10-37-27<br>batch_position: 14<br>idle_time: 279.0<br>sample: Blank<br>method: SAA_411_Pac.M<br>timestamp: 2021-08-13 11:39:43<br>detector: G1315C<br>pump: G7110B<br>start_time: 2021-08-13 11:40:16<br>end_time: 2021-08-13 11:44:17<br>runtime: 239.7000000000036"
         ],
         "type": "scatter",
         "x": [
          0,
          1,
          2,
          3,
          4,
          5,
          6,
          7,
          8,
          9,
          10,
          11,
          12,
          13,
          14,
          15,
          16,
          17,
          18,
          19,
          20,
          21
         ],
         "y": [
          0.2105263157894736,
          0.2631578947368421,
          0.3157894736842105,
          0.3684210526315789,
          0.4210526315789473,
          0.4736842105263157,
          0.5263157894736843,
          0.5789473684210527,
          0.631578947368421,
          0.6842105263157894,
          0.1052631578947368,
          0.1578947368421052,
          0.2105263157894736,
          0.2631578947368421,
          0.3157894736842105,
          0.3684210526315789,
          0.4210526315789473,
          0.4736842105263157,
          0.5263157894736843,
          0.5789473684210527,
          0.631578947368421,
          0.6842105263157894
         ]
        },
        {
         "hovertemplate": "<b>%{text}</b><br><b>x: </b>%{x}<br><b>run_type: </b>%{y}<extra></extra>",
         "mode": "lines",
         "name": "run_type",
         "text": [
          "index: 17<br>name: 210812_Pac--005<br>path: D:/ExtractedSignals\\210812_Pac 2021-08-12 10-30-07\\210812_Pac--005.D<br>batch: 210812_Pac 2021-08-12 10-30-07<br>batch_position: 5<br>idle_time: 279.0<br>sample: NaCl 0,9%<br>method: SAA_411_Pac.M<br>timestamp: 2021-08-12 10:50:23<br>detector: G1315C<br>pump: G7110B<br>start_time: 2021-08-12 10:50:57<br>end_time: 2021-08-12 10:54:57<br>runtime: 239.7000000000036",
          "index: 18<br>name: 210812_Pac--006<br>path: D:/ExtractedSignals\\210812_Pac 2021-08-12 10-30-07\\210812_Pac--006.D<br>batch: 210812_Pac 2021-08-12 10-30-07<br>batch_position: 6<br>idle_time: 279.0<br>sample: Blank<br>method: SAA_411_Pac.M<br>timestamp: 2021-08-12 10:55:02<br>detector: G1315C<br>pump: G7110B<br>start_time: 2021-08-12 10:55:36<br>end_time: 2021-08-12 10:59:36<br>runtime: 239.7000000000036",
          "index: 19<br>name: 210812_Pac--007<br>path: D:/ExtractedSignals\\210812_Pac 2021-08-12 10-30-07\\210812_Pac--007.D<br>batch: 210812_Pac 2021-08-12 10-30-07<br>batch_position: 7<br>idle_time: 279.0<br>sample: 0.025 mg/ml<br>method: SAA_411_Pac.M<br>timestamp: 2021-08-12 10:59:41<br>detector: G1315C<br>pump: G7110B<br>start_time: 2021-08-12 11:00:15<br>end_time: 2021-08-12 11:04:15<br>runtime: 239.7000000000036",
          "index: 20<br>name: 210812_Pac--008<br>path: D:/ExtractedSignals\\210812_Pac 2021-08-12 10-30-07\\210812_Pac--008.D<br>batch: 210812_Pac 2021-08-12 10-30-07<br>batch_position: 8<br>idle_time: 279.0<br>sample: Blank<br>method: SAA_411_Pac.M<br>timestamp: 2021-08-12 11:04:20<br>detector: G1315C<br>pump: G7110B<br>start_time: 2021-08-12 11:04:54<br>end_time: 2021-08-12 11:08:54<br>runtime: 239.7000000000036",
          "index: 21<br>name: 210812_Pac--009<br>path: D:/ExtractedSignals\\210812_Pac 2021-08-12 10-30-07\\210812_Pac--009.D<br>batch: 210812_Pac 2021-08-12 10-30-07<br>batch_position: 9<br>idle_time: 279.0<br>sample: 210806/036 :10<br>method: SAA_411_Pac.M<br>timestamp: 2021-08-12 11:08:59<br>detector: G1315C<br>pump: G7110B<br>start_time: 2021-08-12 11:09:32<br>end_time: 2021-08-12 11:13:32<br>runtime: 239.7000000000036",
          "index: 22<br>name: 210812_Pac--010<br>path: D:/ExtractedSignals\\210812_Pac 2021-08-12 10-30-07\\210812_Pac--010.D<br>batch: 210812_Pac 2021-08-12 10-30-07<br>batch_position: 10<br>idle_time: 278.0<br>sample: 210806/036 :10<br>method: SAA_411_Pac.M<br>timestamp: 2021-08-12 11:13:37<br>detector: G7110B<br>pump: G7110B<br>start_time: 2021-08-12 11:14:11<br>end_time: 2021-08-12 11:18:11<br>runtime: 239.7000000000036",
          "index: 23<br>name: 210812_Pac--011<br>path: D:/ExtractedSignals\\210812_Pac 2021-08-12 10-30-07\\210812_Pac--011.D<br>batch: 210812_Pac 2021-08-12 10-30-07<br>batch_position: 11<br>idle_time: 279.0<br>sample: 210806/036 :10<br>method: SAA_411_Pac.M<br>timestamp: 2021-08-12 11:18:16<br>detector: G7110B<br>pump: G7110B<br>start_time: 2021-08-12 11:18:50<br>end_time: 2021-08-12 11:22:50<br>runtime: 239.7000000000036",
          "index: 24<br>name: 210812_Pac--012<br>path: D:/ExtractedSignals\\210812_Pac 2021-08-12 10-30-07\\210812_Pac--012.D<br>batch: 210812_Pac 2021-08-12 10-30-07<br>batch_position: 12<br>idle_time: 279.0<br>sample: Blank<br>method: SAA_411_Pac.M<br>timestamp: 2021-08-12 11:22:55<br>detector: G1315C<br>pump: G7110B<br>start_time: 2021-08-12 11:23:29<br>end_time: 2021-08-12 11:27:29<br>runtime: 239.7000000000036",
          "index: 25<br>name: 210812_Pac--013<br>path: D:/ExtractedSignals\\210812_Pac 2021-08-12 10-30-07\\210812_Pac--013.D<br>batch: 210812_Pac 2021-08-12 10-30-07<br>batch_position: 13<br>idle_time: 279.0<br>sample: 0.025 mg/ml<br>method: SAA_411_Pac.M<br>timestamp: 2021-08-12 11:27:34<br>detector: G1315C<br>pump: G7110B<br>start_time: 2021-08-12 11:28:08<br>end_time: 2021-08-12 11:32:08<br>runtime: 239.7000000000036",
          "index: 26<br>name: 210812_Pac--014<br>path: D:/ExtractedSignals\\210812_Pac 2021-08-12 10-30-07\\210812_Pac--014.D<br>batch: 210812_Pac 2021-08-12 10-30-07<br>batch_position: 14<br>idle_time: 279.0<br>sample: Blank<br>method: SAA_411_Pac.M<br>timestamp: 2021-08-12 11:32:13<br>detector: G7110B<br>pump: G7110B<br>start_time: 2021-08-12 11:32:46<br>end_time: 2021-08-12 11:36:47<br>runtime: 239.7000000000036",
          "index: 85<br>name: 210813_Pac--003<br>path: D:/ExtractedSignals\\210813_Pac 2021-08-13 10-37-27\\210813_Pac--003.D<br>batch: 210813_Pac 2021-08-13 10-37-27<br>batch_position: 3<br>idle_time: 278.0<br>sample: Blank<br>method: SAA_411_Pac.M<br>timestamp: 2021-08-13 10:48:34<br>detector: G1315C<br>pump: G7116B<br>start_time: 2021-08-13 10:49:08<br>end_time: 2021-08-13 10:53:08<br>runtime: 239.7000000000036",
          "index: 86<br>name: 210813_Pac--004<br>path: D:/ExtractedSignals\\210813_Pac 2021-08-13 10-37-27\\210813_Pac--004.D<br>batch: 210813_Pac 2021-08-13 10-37-27<br>batch_position: 4<br>idle_time: 279.0<br>sample: Blank<br>method: SAA_411_Pac.M<br>timestamp: 2021-08-13 10:53:13<br>detector: G1315C<br>pump: G7110B<br>start_time: 2021-08-13 10:53:47<br>end_time: 2021-08-13 10:57:47<br>runtime: 239.7000000000036",
          "index: 87<br>name: 210813_Pac--005<br>path: D:/ExtractedSignals\\210813_Pac 2021-08-13 10-37-27\\210813_Pac--005.D<br>batch: 210813_Pac 2021-08-13 10-37-27<br>batch_position: 5<br>idle_time: 279.0<br>sample: NaCl 0,9%<br>method: SAA_411_Pac.M<br>timestamp: 2021-08-13 10:57:52<br>detector: G7110B<br>pump: G7110B<br>start_time: 2021-08-13 10:58:26<br>end_time: 2021-08-13 11:02:27<br>runtime: 239.7000000000036",
          "index: 88<br>name: 210813_Pac--006<br>path: D:/ExtractedSignals\\210813_Pac 2021-08-13 10-37-27\\210813_Pac--006.D<br>batch: 210813_Pac 2021-08-13 10-37-27<br>batch_position: 6<br>idle_time: 279.0<br>sample: Blank<br>method: SAA_411_Pac.M<br>timestamp: 2021-08-13 11:02:31<br>detector: G1315C<br>pump: G7110B<br>start_time: 2021-08-13 11:03:05<br>end_time: 2021-08-13 11:07:06<br>runtime: 239.7000000000036",
          "index: 89<br>name: 210813_Pac--007<br>path: D:/ExtractedSignals\\210813_Pac 2021-08-13 10-37-27\\210813_Pac--007.D<br>batch: 210813_Pac 2021-08-13 10-37-27<br>batch_position: 7<br>idle_time: 279.0<br>sample: 0.025 mg/ml<br>method: SAA_411_Pac.M<br>timestamp: 2021-08-13 11:07:10<br>detector: G1315C<br>pump: G7116B<br>start_time: 2021-08-13 11:07:44<br>end_time: 2021-08-13 11:11:45<br>runtime: 239.7000000000036",
          "index: 90<br>name: 210813_Pac--008<br>path: D:/ExtractedSignals\\210813_Pac 2021-08-13 10-37-27\\210813_Pac--008.D<br>batch: 210813_Pac 2021-08-13 10-37-27<br>batch_position: 8<br>idle_time: 279.0<br>sample: Blank<br>method: SAA_411_Pac.M<br>timestamp: 2021-08-13 11:11:49<br>detector: G1315C<br>pump: G7110B<br>start_time: 2021-08-13 11:12:23<br>end_time: 2021-08-13 11:16:23<br>runtime: 239.7000000000036",
          "index: 91<br>name: 210813_Pac--009<br>path: D:/ExtractedSignals\\210813_Pac 2021-08-13 10-37-27\\210813_Pac--009.D<br>batch: 210813_Pac 2021-08-13 10-37-27<br>batch_position: 9<br>idle_time: 279.0<br>sample: 210812/004 :20<br>method: SAA_411_Pac.M<br>timestamp: 2021-08-13 11:16:28<br>detector: G1315C<br>pump: G7110B<br>start_time: 2021-08-13 11:17:02<br>end_time: 2021-08-13 11:21:03<br>runtime: 239.7000000000036",
          "index: 92<br>name: 210813_Pac--010<br>path: D:/ExtractedSignals\\210813_Pac 2021-08-13 10-37-27\\210813_Pac--010.D<br>batch: 210813_Pac 2021-08-13 10-37-27<br>batch_position: 10<br>idle_time: 280.0<br>sample: 210812/004 :20<br>method: SAA_411_Pac.M<br>timestamp: 2021-08-13 11:21:08<br>detector: G1315C<br>pump: G7110B<br>start_time: 2021-08-13 11:21:41<br>end_time: 2021-08-13 11:25:42<br>runtime: 239.7000000000036",
          "index: 93<br>name: 210813_Pac--011<br>path: D:/ExtractedSignals\\210813_Pac 2021-08-13 10-37-27\\210813_Pac--011.D<br>batch: 210813_Pac 2021-08-13 10-37-27<br>batch_position: 11<br>idle_time: 278.0<br>sample: 210812/004 :20<br>method: SAA_411_Pac.M<br>timestamp: 2021-08-13 11:25:46<br>detector: G1315C<br>pump: G7110B<br>start_time: 2021-08-13 11:26:21<br>end_time: 2021-08-13 11:30:21<br>runtime: 239.7000000000036",
          "index: 94<br>name: 210813_Pac--012<br>path: D:/ExtractedSignals\\210813_Pac 2021-08-13 10-37-27\\210813_Pac--012.D<br>batch: 210813_Pac 2021-08-13 10-37-27<br>batch_position: 12<br>idle_time: 280.0<br>sample: Blank<br>method: SAA_411_Pac.M<br>timestamp: 2021-08-13 11:30:26<br>detector: G1315C<br>pump: G7110B<br>start_time: 2021-08-13 11:30:59<br>end_time: 2021-08-13 11:34:59<br>runtime: 239.7000000000036",
          "index: 95<br>name: 210813_Pac--013<br>path: D:/ExtractedSignals\\210813_Pac 2021-08-13 10-37-27\\210813_Pac--013.D<br>batch: 210813_Pac 2021-08-13 10-37-27<br>batch_position: 13<br>idle_time: 278.0<br>sample: 0.025 mg/ml<br>method: SAA_411_Pac.M<br>timestamp: 2021-08-13 11:35:04<br>detector: G1315C<br>pump: G7110B<br>start_time: 2021-08-13 11:35:38<br>end_time: 2021-08-13 11:39:38<br>runtime: 239.7000000000036",
          "index: 96<br>name: 210813_Pac--014<br>path: D:/ExtractedSignals\\210813_Pac 2021-08-13 10-37-27\\210813_Pac--014.D<br>batch: 210813_Pac 2021-08-13 10-37-27<br>batch_position: 14<br>idle_time: 279.0<br>sample: Blank<br>method: SAA_411_Pac.M<br>timestamp: 2021-08-13 11:39:43<br>detector: G1315C<br>pump: G7110B<br>start_time: 2021-08-13 11:40:16<br>end_time: 2021-08-13 11:44:17<br>runtime: 239.7000000000036"
         ],
         "type": "scatter",
         "x": [
          0,
          1,
          2,
          3,
          4,
          5,
          6,
          7,
          8,
          9,
          10,
          11,
          12,
          13,
          14,
          15,
          16,
          17,
          18,
          19,
          20,
          21
         ],
         "y": [
          1,
          0,
          1,
          0,
          1,
          1,
          1,
          0,
          1,
          0,
          0,
          0,
          1,
          0,
          1,
          0,
          1,
          1,
          1,
          0,
          1,
          0
         ]
        },
        {
         "hovertemplate": "<b>%{text}</b><br><b>x: </b>%{x}<br><b>idle_time: </b>%{y}<extra></extra>",
         "mode": "lines",
         "name": "idle_time",
         "text": [
          "index: 17<br>name: 210812_Pac--005<br>path: D:/ExtractedSignals\\210812_Pac 2021-08-12 10-30-07\\210812_Pac--005.D<br>batch: 210812_Pac 2021-08-12 10-30-07<br>batch_position: 5<br>idle_time: 279.0<br>sample: NaCl 0,9%<br>method: SAA_411_Pac.M<br>timestamp: 2021-08-12 10:50:23<br>detector: G1315C<br>pump: G7110B<br>start_time: 2021-08-12 10:50:57<br>end_time: 2021-08-12 10:54:57<br>runtime: 239.7000000000036",
          "index: 18<br>name: 210812_Pac--006<br>path: D:/ExtractedSignals\\210812_Pac 2021-08-12 10-30-07\\210812_Pac--006.D<br>batch: 210812_Pac 2021-08-12 10-30-07<br>batch_position: 6<br>idle_time: 279.0<br>sample: Blank<br>method: SAA_411_Pac.M<br>timestamp: 2021-08-12 10:55:02<br>detector: G1315C<br>pump: G7110B<br>start_time: 2021-08-12 10:55:36<br>end_time: 2021-08-12 10:59:36<br>runtime: 239.7000000000036",
          "index: 19<br>name: 210812_Pac--007<br>path: D:/ExtractedSignals\\210812_Pac 2021-08-12 10-30-07\\210812_Pac--007.D<br>batch: 210812_Pac 2021-08-12 10-30-07<br>batch_position: 7<br>idle_time: 279.0<br>sample: 0.025 mg/ml<br>method: SAA_411_Pac.M<br>timestamp: 2021-08-12 10:59:41<br>detector: G1315C<br>pump: G7110B<br>start_time: 2021-08-12 11:00:15<br>end_time: 2021-08-12 11:04:15<br>runtime: 239.7000000000036",
          "index: 20<br>name: 210812_Pac--008<br>path: D:/ExtractedSignals\\210812_Pac 2021-08-12 10-30-07\\210812_Pac--008.D<br>batch: 210812_Pac 2021-08-12 10-30-07<br>batch_position: 8<br>idle_time: 279.0<br>sample: Blank<br>method: SAA_411_Pac.M<br>timestamp: 2021-08-12 11:04:20<br>detector: G1315C<br>pump: G7110B<br>start_time: 2021-08-12 11:04:54<br>end_time: 2021-08-12 11:08:54<br>runtime: 239.7000000000036",
          "index: 21<br>name: 210812_Pac--009<br>path: D:/ExtractedSignals\\210812_Pac 2021-08-12 10-30-07\\210812_Pac--009.D<br>batch: 210812_Pac 2021-08-12 10-30-07<br>batch_position: 9<br>idle_time: 279.0<br>sample: 210806/036 :10<br>method: SAA_411_Pac.M<br>timestamp: 2021-08-12 11:08:59<br>detector: G1315C<br>pump: G7110B<br>start_time: 2021-08-12 11:09:32<br>end_time: 2021-08-12 11:13:32<br>runtime: 239.7000000000036",
          "index: 22<br>name: 210812_Pac--010<br>path: D:/ExtractedSignals\\210812_Pac 2021-08-12 10-30-07\\210812_Pac--010.D<br>batch: 210812_Pac 2021-08-12 10-30-07<br>batch_position: 10<br>idle_time: 278.0<br>sample: 210806/036 :10<br>method: SAA_411_Pac.M<br>timestamp: 2021-08-12 11:13:37<br>detector: G7110B<br>pump: G7110B<br>start_time: 2021-08-12 11:14:11<br>end_time: 2021-08-12 11:18:11<br>runtime: 239.7000000000036",
          "index: 23<br>name: 210812_Pac--011<br>path: D:/ExtractedSignals\\210812_Pac 2021-08-12 10-30-07\\210812_Pac--011.D<br>batch: 210812_Pac 2021-08-12 10-30-07<br>batch_position: 11<br>idle_time: 279.0<br>sample: 210806/036 :10<br>method: SAA_411_Pac.M<br>timestamp: 2021-08-12 11:18:16<br>detector: G7110B<br>pump: G7110B<br>start_time: 2021-08-12 11:18:50<br>end_time: 2021-08-12 11:22:50<br>runtime: 239.7000000000036",
          "index: 24<br>name: 210812_Pac--012<br>path: D:/ExtractedSignals\\210812_Pac 2021-08-12 10-30-07\\210812_Pac--012.D<br>batch: 210812_Pac 2021-08-12 10-30-07<br>batch_position: 12<br>idle_time: 279.0<br>sample: Blank<br>method: SAA_411_Pac.M<br>timestamp: 2021-08-12 11:22:55<br>detector: G1315C<br>pump: G7110B<br>start_time: 2021-08-12 11:23:29<br>end_time: 2021-08-12 11:27:29<br>runtime: 239.7000000000036",
          "index: 25<br>name: 210812_Pac--013<br>path: D:/ExtractedSignals\\210812_Pac 2021-08-12 10-30-07\\210812_Pac--013.D<br>batch: 210812_Pac 2021-08-12 10-30-07<br>batch_position: 13<br>idle_time: 279.0<br>sample: 0.025 mg/ml<br>method: SAA_411_Pac.M<br>timestamp: 2021-08-12 11:27:34<br>detector: G1315C<br>pump: G7110B<br>start_time: 2021-08-12 11:28:08<br>end_time: 2021-08-12 11:32:08<br>runtime: 239.7000000000036",
          "index: 26<br>name: 210812_Pac--014<br>path: D:/ExtractedSignals\\210812_Pac 2021-08-12 10-30-07\\210812_Pac--014.D<br>batch: 210812_Pac 2021-08-12 10-30-07<br>batch_position: 14<br>idle_time: 279.0<br>sample: Blank<br>method: SAA_411_Pac.M<br>timestamp: 2021-08-12 11:32:13<br>detector: G7110B<br>pump: G7110B<br>start_time: 2021-08-12 11:32:46<br>end_time: 2021-08-12 11:36:47<br>runtime: 239.7000000000036",
          "index: 85<br>name: 210813_Pac--003<br>path: D:/ExtractedSignals\\210813_Pac 2021-08-13 10-37-27\\210813_Pac--003.D<br>batch: 210813_Pac 2021-08-13 10-37-27<br>batch_position: 3<br>idle_time: 278.0<br>sample: Blank<br>method: SAA_411_Pac.M<br>timestamp: 2021-08-13 10:48:34<br>detector: G1315C<br>pump: G7116B<br>start_time: 2021-08-13 10:49:08<br>end_time: 2021-08-13 10:53:08<br>runtime: 239.7000000000036",
          "index: 86<br>name: 210813_Pac--004<br>path: D:/ExtractedSignals\\210813_Pac 2021-08-13 10-37-27\\210813_Pac--004.D<br>batch: 210813_Pac 2021-08-13 10-37-27<br>batch_position: 4<br>idle_time: 279.0<br>sample: Blank<br>method: SAA_411_Pac.M<br>timestamp: 2021-08-13 10:53:13<br>detector: G1315C<br>pump: G7110B<br>start_time: 2021-08-13 10:53:47<br>end_time: 2021-08-13 10:57:47<br>runtime: 239.7000000000036",
          "index: 87<br>name: 210813_Pac--005<br>path: D:/ExtractedSignals\\210813_Pac 2021-08-13 10-37-27\\210813_Pac--005.D<br>batch: 210813_Pac 2021-08-13 10-37-27<br>batch_position: 5<br>idle_time: 279.0<br>sample: NaCl 0,9%<br>method: SAA_411_Pac.M<br>timestamp: 2021-08-13 10:57:52<br>detector: G7110B<br>pump: G7110B<br>start_time: 2021-08-13 10:58:26<br>end_time: 2021-08-13 11:02:27<br>runtime: 239.7000000000036",
          "index: 88<br>name: 210813_Pac--006<br>path: D:/ExtractedSignals\\210813_Pac 2021-08-13 10-37-27\\210813_Pac--006.D<br>batch: 210813_Pac 2021-08-13 10-37-27<br>batch_position: 6<br>idle_time: 279.0<br>sample: Blank<br>method: SAA_411_Pac.M<br>timestamp: 2021-08-13 11:02:31<br>detector: G1315C<br>pump: G7110B<br>start_time: 2021-08-13 11:03:05<br>end_time: 2021-08-13 11:07:06<br>runtime: 239.7000000000036",
          "index: 89<br>name: 210813_Pac--007<br>path: D:/ExtractedSignals\\210813_Pac 2021-08-13 10-37-27\\210813_Pac--007.D<br>batch: 210813_Pac 2021-08-13 10-37-27<br>batch_position: 7<br>idle_time: 279.0<br>sample: 0.025 mg/ml<br>method: SAA_411_Pac.M<br>timestamp: 2021-08-13 11:07:10<br>detector: G1315C<br>pump: G7116B<br>start_time: 2021-08-13 11:07:44<br>end_time: 2021-08-13 11:11:45<br>runtime: 239.7000000000036",
          "index: 90<br>name: 210813_Pac--008<br>path: D:/ExtractedSignals\\210813_Pac 2021-08-13 10-37-27\\210813_Pac--008.D<br>batch: 210813_Pac 2021-08-13 10-37-27<br>batch_position: 8<br>idle_time: 279.0<br>sample: Blank<br>method: SAA_411_Pac.M<br>timestamp: 2021-08-13 11:11:49<br>detector: G1315C<br>pump: G7110B<br>start_time: 2021-08-13 11:12:23<br>end_time: 2021-08-13 11:16:23<br>runtime: 239.7000000000036",
          "index: 91<br>name: 210813_Pac--009<br>path: D:/ExtractedSignals\\210813_Pac 2021-08-13 10-37-27\\210813_Pac--009.D<br>batch: 210813_Pac 2021-08-13 10-37-27<br>batch_position: 9<br>idle_time: 279.0<br>sample: 210812/004 :20<br>method: SAA_411_Pac.M<br>timestamp: 2021-08-13 11:16:28<br>detector: G1315C<br>pump: G7110B<br>start_time: 2021-08-13 11:17:02<br>end_time: 2021-08-13 11:21:03<br>runtime: 239.7000000000036",
          "index: 92<br>name: 210813_Pac--010<br>path: D:/ExtractedSignals\\210813_Pac 2021-08-13 10-37-27\\210813_Pac--010.D<br>batch: 210813_Pac 2021-08-13 10-37-27<br>batch_position: 10<br>idle_time: 280.0<br>sample: 210812/004 :20<br>method: SAA_411_Pac.M<br>timestamp: 2021-08-13 11:21:08<br>detector: G1315C<br>pump: G7110B<br>start_time: 2021-08-13 11:21:41<br>end_time: 2021-08-13 11:25:42<br>runtime: 239.7000000000036",
          "index: 93<br>name: 210813_Pac--011<br>path: D:/ExtractedSignals\\210813_Pac 2021-08-13 10-37-27\\210813_Pac--011.D<br>batch: 210813_Pac 2021-08-13 10-37-27<br>batch_position: 11<br>idle_time: 278.0<br>sample: 210812/004 :20<br>method: SAA_411_Pac.M<br>timestamp: 2021-08-13 11:25:46<br>detector: G1315C<br>pump: G7110B<br>start_time: 2021-08-13 11:26:21<br>end_time: 2021-08-13 11:30:21<br>runtime: 239.7000000000036",
          "index: 94<br>name: 210813_Pac--012<br>path: D:/ExtractedSignals\\210813_Pac 2021-08-13 10-37-27\\210813_Pac--012.D<br>batch: 210813_Pac 2021-08-13 10-37-27<br>batch_position: 12<br>idle_time: 280.0<br>sample: Blank<br>method: SAA_411_Pac.M<br>timestamp: 2021-08-13 11:30:26<br>detector: G1315C<br>pump: G7110B<br>start_time: 2021-08-13 11:30:59<br>end_time: 2021-08-13 11:34:59<br>runtime: 239.7000000000036",
          "index: 95<br>name: 210813_Pac--013<br>path: D:/ExtractedSignals\\210813_Pac 2021-08-13 10-37-27\\210813_Pac--013.D<br>batch: 210813_Pac 2021-08-13 10-37-27<br>batch_position: 13<br>idle_time: 278.0<br>sample: 0.025 mg/ml<br>method: SAA_411_Pac.M<br>timestamp: 2021-08-13 11:35:04<br>detector: G1315C<br>pump: G7110B<br>start_time: 2021-08-13 11:35:38<br>end_time: 2021-08-13 11:39:38<br>runtime: 239.7000000000036",
          "index: 96<br>name: 210813_Pac--014<br>path: D:/ExtractedSignals\\210813_Pac 2021-08-13 10-37-27\\210813_Pac--014.D<br>batch: 210813_Pac 2021-08-13 10-37-27<br>batch_position: 14<br>idle_time: 279.0<br>sample: Blank<br>method: SAA_411_Pac.M<br>timestamp: 2021-08-13 11:39:43<br>detector: G1315C<br>pump: G7110B<br>start_time: 2021-08-13 11:40:16<br>end_time: 2021-08-13 11:44:17<br>runtime: 239.7000000000036"
         ],
         "type": "scatter",
         "x": [
          0,
          1,
          2,
          3,
          4,
          5,
          6,
          7,
          8,
          9,
          10,
          11,
          12,
          13,
          14,
          15,
          16,
          17,
          18,
          19,
          20,
          21
         ],
         "y": [
          0.0193770373053241,
          0.0193770373053241,
          0.0193770373053241,
          0.0193770373053241,
          0.0193770373053241,
          0.0191959434987323,
          0.0193770373053241,
          0.0193770373053241,
          0.0193770373053241,
          0.0193770373053241,
          0.0191959434987323,
          0.0193770373053241,
          0.0193770373053241,
          0.0193770373053241,
          0.0193770373053241,
          0.0193770373053241,
          0.0193770373053241,
          0.0195581311119159,
          0.0191959434987323,
          0.0195581311119159,
          0.0191959434987323,
          0.0193770373053241
         ]
        },
        {
         "hovertemplate": "<b>%{text}</b><br><b>x: </b>%{x}<br><b>pressure_max: </b>%{y}<extra></extra>",
         "mode": "lines",
         "name": "pressure_max",
         "text": [
          "index: 17<br>name: 210812_Pac--005<br>path: D:/ExtractedSignals\\210812_Pac 2021-08-12 10-30-07\\210812_Pac--005.D<br>batch: 210812_Pac 2021-08-12 10-30-07<br>batch_position: 5<br>idle_time: 279.0<br>sample: NaCl 0,9%<br>method: SAA_411_Pac.M<br>timestamp: 2021-08-12 10:50:23<br>detector: G1315C<br>pump: G7110B<br>start_time: 2021-08-12 10:50:57<br>end_time: 2021-08-12 10:54:57<br>runtime: 239.7000000000036",
          "index: 18<br>name: 210812_Pac--006<br>path: D:/ExtractedSignals\\210812_Pac 2021-08-12 10-30-07\\210812_Pac--006.D<br>batch: 210812_Pac 2021-08-12 10-30-07<br>batch_position: 6<br>idle_time: 279.0<br>sample: Blank<br>method: SAA_411_Pac.M<br>timestamp: 2021-08-12 10:55:02<br>detector: G1315C<br>pump: G7110B<br>start_time: 2021-08-12 10:55:36<br>end_time: 2021-08-12 10:59:36<br>runtime: 239.7000000000036",
          "index: 19<br>name: 210812_Pac--007<br>path: D:/ExtractedSignals\\210812_Pac 2021-08-12 10-30-07\\210812_Pac--007.D<br>batch: 210812_Pac 2021-08-12 10-30-07<br>batch_position: 7<br>idle_time: 279.0<br>sample: 0.025 mg/ml<br>method: SAA_411_Pac.M<br>timestamp: 2021-08-12 10:59:41<br>detector: G1315C<br>pump: G7110B<br>start_time: 2021-08-12 11:00:15<br>end_time: 2021-08-12 11:04:15<br>runtime: 239.7000000000036",
          "index: 20<br>name: 210812_Pac--008<br>path: D:/ExtractedSignals\\210812_Pac 2021-08-12 10-30-07\\210812_Pac--008.D<br>batch: 210812_Pac 2021-08-12 10-30-07<br>batch_position: 8<br>idle_time: 279.0<br>sample: Blank<br>method: SAA_411_Pac.M<br>timestamp: 2021-08-12 11:04:20<br>detector: G1315C<br>pump: G7110B<br>start_time: 2021-08-12 11:04:54<br>end_time: 2021-08-12 11:08:54<br>runtime: 239.7000000000036",
          "index: 21<br>name: 210812_Pac--009<br>path: D:/ExtractedSignals\\210812_Pac 2021-08-12 10-30-07\\210812_Pac--009.D<br>batch: 210812_Pac 2021-08-12 10-30-07<br>batch_position: 9<br>idle_time: 279.0<br>sample: 210806/036 :10<br>method: SAA_411_Pac.M<br>timestamp: 2021-08-12 11:08:59<br>detector: G1315C<br>pump: G7110B<br>start_time: 2021-08-12 11:09:32<br>end_time: 2021-08-12 11:13:32<br>runtime: 239.7000000000036",
          "index: 22<br>name: 210812_Pac--010<br>path: D:/ExtractedSignals\\210812_Pac 2021-08-12 10-30-07\\210812_Pac--010.D<br>batch: 210812_Pac 2021-08-12 10-30-07<br>batch_position: 10<br>idle_time: 278.0<br>sample: 210806/036 :10<br>method: SAA_411_Pac.M<br>timestamp: 2021-08-12 11:13:37<br>detector: G7110B<br>pump: G7110B<br>start_time: 2021-08-12 11:14:11<br>end_time: 2021-08-12 11:18:11<br>runtime: 239.7000000000036",
          "index: 23<br>name: 210812_Pac--011<br>path: D:/ExtractedSignals\\210812_Pac 2021-08-12 10-30-07\\210812_Pac--011.D<br>batch: 210812_Pac 2021-08-12 10-30-07<br>batch_position: 11<br>idle_time: 279.0<br>sample: 210806/036 :10<br>method: SAA_411_Pac.M<br>timestamp: 2021-08-12 11:18:16<br>detector: G7110B<br>pump: G7110B<br>start_time: 2021-08-12 11:18:50<br>end_time: 2021-08-12 11:22:50<br>runtime: 239.7000000000036",
          "index: 24<br>name: 210812_Pac--012<br>path: D:/ExtractedSignals\\210812_Pac 2021-08-12 10-30-07\\210812_Pac--012.D<br>batch: 210812_Pac 2021-08-12 10-30-07<br>batch_position: 12<br>idle_time: 279.0<br>sample: Blank<br>method: SAA_411_Pac.M<br>timestamp: 2021-08-12 11:22:55<br>detector: G1315C<br>pump: G7110B<br>start_time: 2021-08-12 11:23:29<br>end_time: 2021-08-12 11:27:29<br>runtime: 239.7000000000036",
          "index: 25<br>name: 210812_Pac--013<br>path: D:/ExtractedSignals\\210812_Pac 2021-08-12 10-30-07\\210812_Pac--013.D<br>batch: 210812_Pac 2021-08-12 10-30-07<br>batch_position: 13<br>idle_time: 279.0<br>sample: 0.025 mg/ml<br>method: SAA_411_Pac.M<br>timestamp: 2021-08-12 11:27:34<br>detector: G1315C<br>pump: G7110B<br>start_time: 2021-08-12 11:28:08<br>end_time: 2021-08-12 11:32:08<br>runtime: 239.7000000000036",
          "index: 26<br>name: 210812_Pac--014<br>path: D:/ExtractedSignals\\210812_Pac 2021-08-12 10-30-07\\210812_Pac--014.D<br>batch: 210812_Pac 2021-08-12 10-30-07<br>batch_position: 14<br>idle_time: 279.0<br>sample: Blank<br>method: SAA_411_Pac.M<br>timestamp: 2021-08-12 11:32:13<br>detector: G7110B<br>pump: G7110B<br>start_time: 2021-08-12 11:32:46<br>end_time: 2021-08-12 11:36:47<br>runtime: 239.7000000000036",
          "index: 85<br>name: 210813_Pac--003<br>path: D:/ExtractedSignals\\210813_Pac 2021-08-13 10-37-27\\210813_Pac--003.D<br>batch: 210813_Pac 2021-08-13 10-37-27<br>batch_position: 3<br>idle_time: 278.0<br>sample: Blank<br>method: SAA_411_Pac.M<br>timestamp: 2021-08-13 10:48:34<br>detector: G1315C<br>pump: G7116B<br>start_time: 2021-08-13 10:49:08<br>end_time: 2021-08-13 10:53:08<br>runtime: 239.7000000000036",
          "index: 86<br>name: 210813_Pac--004<br>path: D:/ExtractedSignals\\210813_Pac 2021-08-13 10-37-27\\210813_Pac--004.D<br>batch: 210813_Pac 2021-08-13 10-37-27<br>batch_position: 4<br>idle_time: 279.0<br>sample: Blank<br>method: SAA_411_Pac.M<br>timestamp: 2021-08-13 10:53:13<br>detector: G1315C<br>pump: G7110B<br>start_time: 2021-08-13 10:53:47<br>end_time: 2021-08-13 10:57:47<br>runtime: 239.7000000000036",
          "index: 87<br>name: 210813_Pac--005<br>path: D:/ExtractedSignals\\210813_Pac 2021-08-13 10-37-27\\210813_Pac--005.D<br>batch: 210813_Pac 2021-08-13 10-37-27<br>batch_position: 5<br>idle_time: 279.0<br>sample: NaCl 0,9%<br>method: SAA_411_Pac.M<br>timestamp: 2021-08-13 10:57:52<br>detector: G7110B<br>pump: G7110B<br>start_time: 2021-08-13 10:58:26<br>end_time: 2021-08-13 11:02:27<br>runtime: 239.7000000000036",
          "index: 88<br>name: 210813_Pac--006<br>path: D:/ExtractedSignals\\210813_Pac 2021-08-13 10-37-27\\210813_Pac--006.D<br>batch: 210813_Pac 2021-08-13 10-37-27<br>batch_position: 6<br>idle_time: 279.0<br>sample: Blank<br>method: SAA_411_Pac.M<br>timestamp: 2021-08-13 11:02:31<br>detector: G1315C<br>pump: G7110B<br>start_time: 2021-08-13 11:03:05<br>end_time: 2021-08-13 11:07:06<br>runtime: 239.7000000000036",
          "index: 89<br>name: 210813_Pac--007<br>path: D:/ExtractedSignals\\210813_Pac 2021-08-13 10-37-27\\210813_Pac--007.D<br>batch: 210813_Pac 2021-08-13 10-37-27<br>batch_position: 7<br>idle_time: 279.0<br>sample: 0.025 mg/ml<br>method: SAA_411_Pac.M<br>timestamp: 2021-08-13 11:07:10<br>detector: G1315C<br>pump: G7116B<br>start_time: 2021-08-13 11:07:44<br>end_time: 2021-08-13 11:11:45<br>runtime: 239.7000000000036",
          "index: 90<br>name: 210813_Pac--008<br>path: D:/ExtractedSignals\\210813_Pac 2021-08-13 10-37-27\\210813_Pac--008.D<br>batch: 210813_Pac 2021-08-13 10-37-27<br>batch_position: 8<br>idle_time: 279.0<br>sample: Blank<br>method: SAA_411_Pac.M<br>timestamp: 2021-08-13 11:11:49<br>detector: G1315C<br>pump: G7110B<br>start_time: 2021-08-13 11:12:23<br>end_time: 2021-08-13 11:16:23<br>runtime: 239.7000000000036",
          "index: 91<br>name: 210813_Pac--009<br>path: D:/ExtractedSignals\\210813_Pac 2021-08-13 10-37-27\\210813_Pac--009.D<br>batch: 210813_Pac 2021-08-13 10-37-27<br>batch_position: 9<br>idle_time: 279.0<br>sample: 210812/004 :20<br>method: SAA_411_Pac.M<br>timestamp: 2021-08-13 11:16:28<br>detector: G1315C<br>pump: G7110B<br>start_time: 2021-08-13 11:17:02<br>end_time: 2021-08-13 11:21:03<br>runtime: 239.7000000000036",
          "index: 92<br>name: 210813_Pac--010<br>path: D:/ExtractedSignals\\210813_Pac 2021-08-13 10-37-27\\210813_Pac--010.D<br>batch: 210813_Pac 2021-08-13 10-37-27<br>batch_position: 10<br>idle_time: 280.0<br>sample: 210812/004 :20<br>method: SAA_411_Pac.M<br>timestamp: 2021-08-13 11:21:08<br>detector: G1315C<br>pump: G7110B<br>start_time: 2021-08-13 11:21:41<br>end_time: 2021-08-13 11:25:42<br>runtime: 239.7000000000036",
          "index: 93<br>name: 210813_Pac--011<br>path: D:/ExtractedSignals\\210813_Pac 2021-08-13 10-37-27\\210813_Pac--011.D<br>batch: 210813_Pac 2021-08-13 10-37-27<br>batch_position: 11<br>idle_time: 278.0<br>sample: 210812/004 :20<br>method: SAA_411_Pac.M<br>timestamp: 2021-08-13 11:25:46<br>detector: G1315C<br>pump: G7110B<br>start_time: 2021-08-13 11:26:21<br>end_time: 2021-08-13 11:30:21<br>runtime: 239.7000000000036",
          "index: 94<br>name: 210813_Pac--012<br>path: D:/ExtractedSignals\\210813_Pac 2021-08-13 10-37-27\\210813_Pac--012.D<br>batch: 210813_Pac 2021-08-13 10-37-27<br>batch_position: 12<br>idle_time: 280.0<br>sample: Blank<br>method: SAA_411_Pac.M<br>timestamp: 2021-08-13 11:30:26<br>detector: G1315C<br>pump: G7110B<br>start_time: 2021-08-13 11:30:59<br>end_time: 2021-08-13 11:34:59<br>runtime: 239.7000000000036",
          "index: 95<br>name: 210813_Pac--013<br>path: D:/ExtractedSignals\\210813_Pac 2021-08-13 10-37-27\\210813_Pac--013.D<br>batch: 210813_Pac 2021-08-13 10-37-27<br>batch_position: 13<br>idle_time: 278.0<br>sample: 0.025 mg/ml<br>method: SAA_411_Pac.M<br>timestamp: 2021-08-13 11:35:04<br>detector: G1315C<br>pump: G7110B<br>start_time: 2021-08-13 11:35:38<br>end_time: 2021-08-13 11:39:38<br>runtime: 239.7000000000036",
          "index: 96<br>name: 210813_Pac--014<br>path: D:/ExtractedSignals\\210813_Pac 2021-08-13 10-37-27\\210813_Pac--014.D<br>batch: 210813_Pac 2021-08-13 10-37-27<br>batch_position: 14<br>idle_time: 279.0<br>sample: Blank<br>method: SAA_411_Pac.M<br>timestamp: 2021-08-13 11:39:43<br>detector: G1315C<br>pump: G7110B<br>start_time: 2021-08-13 11:40:16<br>end_time: 2021-08-13 11:44:17<br>runtime: 239.7000000000036"
         ],
         "type": "scatter",
         "x": [
          0,
          1,
          2,
          3,
          4,
          5,
          6,
          7,
          8,
          9,
          10,
          11,
          12,
          13,
          14,
          15,
          16,
          17,
          18,
          19,
          20,
          21
         ],
         "y": [
          0.5346769413159449,
          0.5240071132187318,
          0.5376407824540608,
          0.508595139300533,
          0.5269709543568459,
          0.508595139300533,
          0.508595139300533,
          0.508595139300533,
          0.505631298162418,
          0.4979253112033199,
          0.5346769413159449,
          0.5269709543568459,
          0.5163011262596329,
          0.4979253112033199,
          0.5163011262596329,
          0.499110847658565,
          0.50207468879668,
          0.4943687018375819,
          0.50207468879668,
          0.4860699466508591,
          0.4979253112033199,
          0.4759928867812681
         ]
        },
        {
         "hovertemplate": "<b>%{text}</b><br><b>x: </b>%{x}<br><b>pressure_min: </b>%{y}<extra></extra>",
         "mode": "lines",
         "name": "pressure_min",
         "text": [
          "index: 17<br>name: 210812_Pac--005<br>path: D:/ExtractedSignals\\210812_Pac 2021-08-12 10-30-07\\210812_Pac--005.D<br>batch: 210812_Pac 2021-08-12 10-30-07<br>batch_position: 5<br>idle_time: 279.0<br>sample: NaCl 0,9%<br>method: SAA_411_Pac.M<br>timestamp: 2021-08-12 10:50:23<br>detector: G1315C<br>pump: G7110B<br>start_time: 2021-08-12 10:50:57<br>end_time: 2021-08-12 10:54:57<br>runtime: 239.7000000000036",
          "index: 18<br>name: 210812_Pac--006<br>path: D:/ExtractedSignals\\210812_Pac 2021-08-12 10-30-07\\210812_Pac--006.D<br>batch: 210812_Pac 2021-08-12 10-30-07<br>batch_position: 6<br>idle_time: 279.0<br>sample: Blank<br>method: SAA_411_Pac.M<br>timestamp: 2021-08-12 10:55:02<br>detector: G1315C<br>pump: G7110B<br>start_time: 2021-08-12 10:55:36<br>end_time: 2021-08-12 10:59:36<br>runtime: 239.7000000000036",
          "index: 19<br>name: 210812_Pac--007<br>path: D:/ExtractedSignals\\210812_Pac 2021-08-12 10-30-07\\210812_Pac--007.D<br>batch: 210812_Pac 2021-08-12 10-30-07<br>batch_position: 7<br>idle_time: 279.0<br>sample: 0.025 mg/ml<br>method: SAA_411_Pac.M<br>timestamp: 2021-08-12 10:59:41<br>detector: G1315C<br>pump: G7110B<br>start_time: 2021-08-12 11:00:15<br>end_time: 2021-08-12 11:04:15<br>runtime: 239.7000000000036",
          "index: 20<br>name: 210812_Pac--008<br>path: D:/ExtractedSignals\\210812_Pac 2021-08-12 10-30-07\\210812_Pac--008.D<br>batch: 210812_Pac 2021-08-12 10-30-07<br>batch_position: 8<br>idle_time: 279.0<br>sample: Blank<br>method: SAA_411_Pac.M<br>timestamp: 2021-08-12 11:04:20<br>detector: G1315C<br>pump: G7110B<br>start_time: 2021-08-12 11:04:54<br>end_time: 2021-08-12 11:08:54<br>runtime: 239.7000000000036",
          "index: 21<br>name: 210812_Pac--009<br>path: D:/ExtractedSignals\\210812_Pac 2021-08-12 10-30-07\\210812_Pac--009.D<br>batch: 210812_Pac 2021-08-12 10-30-07<br>batch_position: 9<br>idle_time: 279.0<br>sample: 210806/036 :10<br>method: SAA_411_Pac.M<br>timestamp: 2021-08-12 11:08:59<br>detector: G1315C<br>pump: G7110B<br>start_time: 2021-08-12 11:09:32<br>end_time: 2021-08-12 11:13:32<br>runtime: 239.7000000000036",
          "index: 22<br>name: 210812_Pac--010<br>path: D:/ExtractedSignals\\210812_Pac 2021-08-12 10-30-07\\210812_Pac--010.D<br>batch: 210812_Pac 2021-08-12 10-30-07<br>batch_position: 10<br>idle_time: 278.0<br>sample: 210806/036 :10<br>method: SAA_411_Pac.M<br>timestamp: 2021-08-12 11:13:37<br>detector: G7110B<br>pump: G7110B<br>start_time: 2021-08-12 11:14:11<br>end_time: 2021-08-12 11:18:11<br>runtime: 239.7000000000036",
          "index: 23<br>name: 210812_Pac--011<br>path: D:/ExtractedSignals\\210812_Pac 2021-08-12 10-30-07\\210812_Pac--011.D<br>batch: 210812_Pac 2021-08-12 10-30-07<br>batch_position: 11<br>idle_time: 279.0<br>sample: 210806/036 :10<br>method: SAA_411_Pac.M<br>timestamp: 2021-08-12 11:18:16<br>detector: G7110B<br>pump: G7110B<br>start_time: 2021-08-12 11:18:50<br>end_time: 2021-08-12 11:22:50<br>runtime: 239.7000000000036",
          "index: 24<br>name: 210812_Pac--012<br>path: D:/ExtractedSignals\\210812_Pac 2021-08-12 10-30-07\\210812_Pac--012.D<br>batch: 210812_Pac 2021-08-12 10-30-07<br>batch_position: 12<br>idle_time: 279.0<br>sample: Blank<br>method: SAA_411_Pac.M<br>timestamp: 2021-08-12 11:22:55<br>detector: G1315C<br>pump: G7110B<br>start_time: 2021-08-12 11:23:29<br>end_time: 2021-08-12 11:27:29<br>runtime: 239.7000000000036",
          "index: 25<br>name: 210812_Pac--013<br>path: D:/ExtractedSignals\\210812_Pac 2021-08-12 10-30-07\\210812_Pac--013.D<br>batch: 210812_Pac 2021-08-12 10-30-07<br>batch_position: 13<br>idle_time: 279.0<br>sample: 0.025 mg/ml<br>method: SAA_411_Pac.M<br>timestamp: 2021-08-12 11:27:34<br>detector: G1315C<br>pump: G7110B<br>start_time: 2021-08-12 11:28:08<br>end_time: 2021-08-12 11:32:08<br>runtime: 239.7000000000036",
          "index: 26<br>name: 210812_Pac--014<br>path: D:/ExtractedSignals\\210812_Pac 2021-08-12 10-30-07\\210812_Pac--014.D<br>batch: 210812_Pac 2021-08-12 10-30-07<br>batch_position: 14<br>idle_time: 279.0<br>sample: Blank<br>method: SAA_411_Pac.M<br>timestamp: 2021-08-12 11:32:13<br>detector: G7110B<br>pump: G7110B<br>start_time: 2021-08-12 11:32:46<br>end_time: 2021-08-12 11:36:47<br>runtime: 239.7000000000036",
          "index: 85<br>name: 210813_Pac--003<br>path: D:/ExtractedSignals\\210813_Pac 2021-08-13 10-37-27\\210813_Pac--003.D<br>batch: 210813_Pac 2021-08-13 10-37-27<br>batch_position: 3<br>idle_time: 278.0<br>sample: Blank<br>method: SAA_411_Pac.M<br>timestamp: 2021-08-13 10:48:34<br>detector: G1315C<br>pump: G7116B<br>start_time: 2021-08-13 10:49:08<br>end_time: 2021-08-13 10:53:08<br>runtime: 239.7000000000036",
          "index: 86<br>name: 210813_Pac--004<br>path: D:/ExtractedSignals\\210813_Pac 2021-08-13 10-37-27\\210813_Pac--004.D<br>batch: 210813_Pac 2021-08-13 10-37-27<br>batch_position: 4<br>idle_time: 279.0<br>sample: Blank<br>method: SAA_411_Pac.M<br>timestamp: 2021-08-13 10:53:13<br>detector: G1315C<br>pump: G7110B<br>start_time: 2021-08-13 10:53:47<br>end_time: 2021-08-13 10:57:47<br>runtime: 239.7000000000036",
          "index: 87<br>name: 210813_Pac--005<br>path: D:/ExtractedSignals\\210813_Pac 2021-08-13 10-37-27\\210813_Pac--005.D<br>batch: 210813_Pac 2021-08-13 10-37-27<br>batch_position: 5<br>idle_time: 279.0<br>sample: NaCl 0,9%<br>method: SAA_411_Pac.M<br>timestamp: 2021-08-13 10:57:52<br>detector: G7110B<br>pump: G7110B<br>start_time: 2021-08-13 10:58:26<br>end_time: 2021-08-13 11:02:27<br>runtime: 239.7000000000036",
          "index: 88<br>name: 210813_Pac--006<br>path: D:/ExtractedSignals\\210813_Pac 2021-08-13 10-37-27\\210813_Pac--006.D<br>batch: 210813_Pac 2021-08-13 10-37-27<br>batch_position: 6<br>idle_time: 279.0<br>sample: Blank<br>method: SAA_411_Pac.M<br>timestamp: 2021-08-13 11:02:31<br>detector: G1315C<br>pump: G7110B<br>start_time: 2021-08-13 11:03:05<br>end_time: 2021-08-13 11:07:06<br>runtime: 239.7000000000036",
          "index: 89<br>name: 210813_Pac--007<br>path: D:/ExtractedSignals\\210813_Pac 2021-08-13 10-37-27\\210813_Pac--007.D<br>batch: 210813_Pac 2021-08-13 10-37-27<br>batch_position: 7<br>idle_time: 279.0<br>sample: 0.025 mg/ml<br>method: SAA_411_Pac.M<br>timestamp: 2021-08-13 11:07:10<br>detector: G1315C<br>pump: G7116B<br>start_time: 2021-08-13 11:07:44<br>end_time: 2021-08-13 11:11:45<br>runtime: 239.7000000000036",
          "index: 90<br>name: 210813_Pac--008<br>path: D:/ExtractedSignals\\210813_Pac 2021-08-13 10-37-27\\210813_Pac--008.D<br>batch: 210813_Pac 2021-08-13 10-37-27<br>batch_position: 8<br>idle_time: 279.0<br>sample: Blank<br>method: SAA_411_Pac.M<br>timestamp: 2021-08-13 11:11:49<br>detector: G1315C<br>pump: G7110B<br>start_time: 2021-08-13 11:12:23<br>end_time: 2021-08-13 11:16:23<br>runtime: 239.7000000000036",
          "index: 91<br>name: 210813_Pac--009<br>path: D:/ExtractedSignals\\210813_Pac 2021-08-13 10-37-27\\210813_Pac--009.D<br>batch: 210813_Pac 2021-08-13 10-37-27<br>batch_position: 9<br>idle_time: 279.0<br>sample: 210812/004 :20<br>method: SAA_411_Pac.M<br>timestamp: 2021-08-13 11:16:28<br>detector: G1315C<br>pump: G7110B<br>start_time: 2021-08-13 11:17:02<br>end_time: 2021-08-13 11:21:03<br>runtime: 239.7000000000036",
          "index: 92<br>name: 210813_Pac--010<br>path: D:/ExtractedSignals\\210813_Pac 2021-08-13 10-37-27\\210813_Pac--010.D<br>batch: 210813_Pac 2021-08-13 10-37-27<br>batch_position: 10<br>idle_time: 280.0<br>sample: 210812/004 :20<br>method: SAA_411_Pac.M<br>timestamp: 2021-08-13 11:21:08<br>detector: G1315C<br>pump: G7110B<br>start_time: 2021-08-13 11:21:41<br>end_time: 2021-08-13 11:25:42<br>runtime: 239.7000000000036",
          "index: 93<br>name: 210813_Pac--011<br>path: D:/ExtractedSignals\\210813_Pac 2021-08-13 10-37-27\\210813_Pac--011.D<br>batch: 210813_Pac 2021-08-13 10-37-27<br>batch_position: 11<br>idle_time: 278.0<br>sample: 210812/004 :20<br>method: SAA_411_Pac.M<br>timestamp: 2021-08-13 11:25:46<br>detector: G1315C<br>pump: G7110B<br>start_time: 2021-08-13 11:26:21<br>end_time: 2021-08-13 11:30:21<br>runtime: 239.7000000000036",
          "index: 94<br>name: 210813_Pac--012<br>path: D:/ExtractedSignals\\210813_Pac 2021-08-13 10-37-27\\210813_Pac--012.D<br>batch: 210813_Pac 2021-08-13 10-37-27<br>batch_position: 12<br>idle_time: 280.0<br>sample: Blank<br>method: SAA_411_Pac.M<br>timestamp: 2021-08-13 11:30:26<br>detector: G1315C<br>pump: G7110B<br>start_time: 2021-08-13 11:30:59<br>end_time: 2021-08-13 11:34:59<br>runtime: 239.7000000000036",
          "index: 95<br>name: 210813_Pac--013<br>path: D:/ExtractedSignals\\210813_Pac 2021-08-13 10-37-27\\210813_Pac--013.D<br>batch: 210813_Pac 2021-08-13 10-37-27<br>batch_position: 13<br>idle_time: 278.0<br>sample: 0.025 mg/ml<br>method: SAA_411_Pac.M<br>timestamp: 2021-08-13 11:35:04<br>detector: G1315C<br>pump: G7110B<br>start_time: 2021-08-13 11:35:38<br>end_time: 2021-08-13 11:39:38<br>runtime: 239.7000000000036",
          "index: 96<br>name: 210813_Pac--014<br>path: D:/ExtractedSignals\\210813_Pac 2021-08-13 10-37-27\\210813_Pac--014.D<br>batch: 210813_Pac 2021-08-13 10-37-27<br>batch_position: 14<br>idle_time: 279.0<br>sample: Blank<br>method: SAA_411_Pac.M<br>timestamp: 2021-08-13 11:39:43<br>detector: G1315C<br>pump: G7110B<br>start_time: 2021-08-13 11:40:16<br>end_time: 2021-08-13 11:44:17<br>runtime: 239.7000000000036"
         ],
         "type": "scatter",
         "x": [
          0,
          1,
          2,
          3,
          4,
          5,
          6,
          7,
          8,
          9,
          10,
          11,
          12,
          13,
          14,
          15,
          16,
          17,
          18,
          19,
          20,
          21
         ],
         "y": [
          0.9503138075313808,
          0.940899581589958,
          0.9442991631799162,
          0.940899581589958,
          0.9393305439330544,
          0.9427301255230124,
          0.940899581589958,
          0.9427301255230124,
          0.940899581589958,
          0.9393305439330544,
          0.935930962343096,
          0.940899581589958,
          0.940899581589958,
          0.9456066945606694,
          0.938807531380753,
          0.9380230125523012,
          0.940899581589958,
          0.940899581589958,
          0.9442991631799162,
          0.940899581589958,
          0.940899581589958,
          0.9393305439330544
         ]
        },
        {
         "hovertemplate": "<b>%{text}</b><br><b>x: </b>%{x}<br><b>pressure_mean: </b>%{y}<extra></extra>",
         "mode": "lines",
         "name": "pressure_mean",
         "text": [
          "index: 17<br>name: 210812_Pac--005<br>path: D:/ExtractedSignals\\210812_Pac 2021-08-12 10-30-07\\210812_Pac--005.D<br>batch: 210812_Pac 2021-08-12 10-30-07<br>batch_position: 5<br>idle_time: 279.0<br>sample: NaCl 0,9%<br>method: SAA_411_Pac.M<br>timestamp: 2021-08-12 10:50:23<br>detector: G1315C<br>pump: G7110B<br>start_time: 2021-08-12 10:50:57<br>end_time: 2021-08-12 10:54:57<br>runtime: 239.7000000000036",
          "index: 18<br>name: 210812_Pac--006<br>path: D:/ExtractedSignals\\210812_Pac 2021-08-12 10-30-07\\210812_Pac--006.D<br>batch: 210812_Pac 2021-08-12 10-30-07<br>batch_position: 6<br>idle_time: 279.0<br>sample: Blank<br>method: SAA_411_Pac.M<br>timestamp: 2021-08-12 10:55:02<br>detector: G1315C<br>pump: G7110B<br>start_time: 2021-08-12 10:55:36<br>end_time: 2021-08-12 10:59:36<br>runtime: 239.7000000000036",
          "index: 19<br>name: 210812_Pac--007<br>path: D:/ExtractedSignals\\210812_Pac 2021-08-12 10-30-07\\210812_Pac--007.D<br>batch: 210812_Pac 2021-08-12 10-30-07<br>batch_position: 7<br>idle_time: 279.0<br>sample: 0.025 mg/ml<br>method: SAA_411_Pac.M<br>timestamp: 2021-08-12 10:59:41<br>detector: G1315C<br>pump: G7110B<br>start_time: 2021-08-12 11:00:15<br>end_time: 2021-08-12 11:04:15<br>runtime: 239.7000000000036",
          "index: 20<br>name: 210812_Pac--008<br>path: D:/ExtractedSignals\\210812_Pac 2021-08-12 10-30-07\\210812_Pac--008.D<br>batch: 210812_Pac 2021-08-12 10-30-07<br>batch_position: 8<br>idle_time: 279.0<br>sample: Blank<br>method: SAA_411_Pac.M<br>timestamp: 2021-08-12 11:04:20<br>detector: G1315C<br>pump: G7110B<br>start_time: 2021-08-12 11:04:54<br>end_time: 2021-08-12 11:08:54<br>runtime: 239.7000000000036",
          "index: 21<br>name: 210812_Pac--009<br>path: D:/ExtractedSignals\\210812_Pac 2021-08-12 10-30-07\\210812_Pac--009.D<br>batch: 210812_Pac 2021-08-12 10-30-07<br>batch_position: 9<br>idle_time: 279.0<br>sample: 210806/036 :10<br>method: SAA_411_Pac.M<br>timestamp: 2021-08-12 11:08:59<br>detector: G1315C<br>pump: G7110B<br>start_time: 2021-08-12 11:09:32<br>end_time: 2021-08-12 11:13:32<br>runtime: 239.7000000000036",
          "index: 22<br>name: 210812_Pac--010<br>path: D:/ExtractedSignals\\210812_Pac 2021-08-12 10-30-07\\210812_Pac--010.D<br>batch: 210812_Pac 2021-08-12 10-30-07<br>batch_position: 10<br>idle_time: 278.0<br>sample: 210806/036 :10<br>method: SAA_411_Pac.M<br>timestamp: 2021-08-12 11:13:37<br>detector: G7110B<br>pump: G7110B<br>start_time: 2021-08-12 11:14:11<br>end_time: 2021-08-12 11:18:11<br>runtime: 239.7000000000036",
          "index: 23<br>name: 210812_Pac--011<br>path: D:/ExtractedSignals\\210812_Pac 2021-08-12 10-30-07\\210812_Pac--011.D<br>batch: 210812_Pac 2021-08-12 10-30-07<br>batch_position: 11<br>idle_time: 279.0<br>sample: 210806/036 :10<br>method: SAA_411_Pac.M<br>timestamp: 2021-08-12 11:18:16<br>detector: G7110B<br>pump: G7110B<br>start_time: 2021-08-12 11:18:50<br>end_time: 2021-08-12 11:22:50<br>runtime: 239.7000000000036",
          "index: 24<br>name: 210812_Pac--012<br>path: D:/ExtractedSignals\\210812_Pac 2021-08-12 10-30-07\\210812_Pac--012.D<br>batch: 210812_Pac 2021-08-12 10-30-07<br>batch_position: 12<br>idle_time: 279.0<br>sample: Blank<br>method: SAA_411_Pac.M<br>timestamp: 2021-08-12 11:22:55<br>detector: G1315C<br>pump: G7110B<br>start_time: 2021-08-12 11:23:29<br>end_time: 2021-08-12 11:27:29<br>runtime: 239.7000000000036",
          "index: 25<br>name: 210812_Pac--013<br>path: D:/ExtractedSignals\\210812_Pac 2021-08-12 10-30-07\\210812_Pac--013.D<br>batch: 210812_Pac 2021-08-12 10-30-07<br>batch_position: 13<br>idle_time: 279.0<br>sample: 0.025 mg/ml<br>method: SAA_411_Pac.M<br>timestamp: 2021-08-12 11:27:34<br>detector: G1315C<br>pump: G7110B<br>start_time: 2021-08-12 11:28:08<br>end_time: 2021-08-12 11:32:08<br>runtime: 239.7000000000036",
          "index: 26<br>name: 210812_Pac--014<br>path: D:/ExtractedSignals\\210812_Pac 2021-08-12 10-30-07\\210812_Pac--014.D<br>batch: 210812_Pac 2021-08-12 10-30-07<br>batch_position: 14<br>idle_time: 279.0<br>sample: Blank<br>method: SAA_411_Pac.M<br>timestamp: 2021-08-12 11:32:13<br>detector: G7110B<br>pump: G7110B<br>start_time: 2021-08-12 11:32:46<br>end_time: 2021-08-12 11:36:47<br>runtime: 239.7000000000036",
          "index: 85<br>name: 210813_Pac--003<br>path: D:/ExtractedSignals\\210813_Pac 2021-08-13 10-37-27\\210813_Pac--003.D<br>batch: 210813_Pac 2021-08-13 10-37-27<br>batch_position: 3<br>idle_time: 278.0<br>sample: Blank<br>method: SAA_411_Pac.M<br>timestamp: 2021-08-13 10:48:34<br>detector: G1315C<br>pump: G7116B<br>start_time: 2021-08-13 10:49:08<br>end_time: 2021-08-13 10:53:08<br>runtime: 239.7000000000036",
          "index: 86<br>name: 210813_Pac--004<br>path: D:/ExtractedSignals\\210813_Pac 2021-08-13 10-37-27\\210813_Pac--004.D<br>batch: 210813_Pac 2021-08-13 10-37-27<br>batch_position: 4<br>idle_time: 279.0<br>sample: Blank<br>method: SAA_411_Pac.M<br>timestamp: 2021-08-13 10:53:13<br>detector: G1315C<br>pump: G7110B<br>start_time: 2021-08-13 10:53:47<br>end_time: 2021-08-13 10:57:47<br>runtime: 239.7000000000036",
          "index: 87<br>name: 210813_Pac--005<br>path: D:/ExtractedSignals\\210813_Pac 2021-08-13 10-37-27\\210813_Pac--005.D<br>batch: 210813_Pac 2021-08-13 10-37-27<br>batch_position: 5<br>idle_time: 279.0<br>sample: NaCl 0,9%<br>method: SAA_411_Pac.M<br>timestamp: 2021-08-13 10:57:52<br>detector: G7110B<br>pump: G7110B<br>start_time: 2021-08-13 10:58:26<br>end_time: 2021-08-13 11:02:27<br>runtime: 239.7000000000036",
          "index: 88<br>name: 210813_Pac--006<br>path: D:/ExtractedSignals\\210813_Pac 2021-08-13 10-37-27\\210813_Pac--006.D<br>batch: 210813_Pac 2021-08-13 10-37-27<br>batch_position: 6<br>idle_time: 279.0<br>sample: Blank<br>method: SAA_411_Pac.M<br>timestamp: 2021-08-13 11:02:31<br>detector: G1315C<br>pump: G7110B<br>start_time: 2021-08-13 11:03:05<br>end_time: 2021-08-13 11:07:06<br>runtime: 239.7000000000036",
          "index: 89<br>name: 210813_Pac--007<br>path: D:/ExtractedSignals\\210813_Pac 2021-08-13 10-37-27\\210813_Pac--007.D<br>batch: 210813_Pac 2021-08-13 10-37-27<br>batch_position: 7<br>idle_time: 279.0<br>sample: 0.025 mg/ml<br>method: SAA_411_Pac.M<br>timestamp: 2021-08-13 11:07:10<br>detector: G1315C<br>pump: G7116B<br>start_time: 2021-08-13 11:07:44<br>end_time: 2021-08-13 11:11:45<br>runtime: 239.7000000000036",
          "index: 90<br>name: 210813_Pac--008<br>path: D:/ExtractedSignals\\210813_Pac 2021-08-13 10-37-27\\210813_Pac--008.D<br>batch: 210813_Pac 2021-08-13 10-37-27<br>batch_position: 8<br>idle_time: 279.0<br>sample: Blank<br>method: SAA_411_Pac.M<br>timestamp: 2021-08-13 11:11:49<br>detector: G1315C<br>pump: G7110B<br>start_time: 2021-08-13 11:12:23<br>end_time: 2021-08-13 11:16:23<br>runtime: 239.7000000000036",
          "index: 91<br>name: 210813_Pac--009<br>path: D:/ExtractedSignals\\210813_Pac 2021-08-13 10-37-27\\210813_Pac--009.D<br>batch: 210813_Pac 2021-08-13 10-37-27<br>batch_position: 9<br>idle_time: 279.0<br>sample: 210812/004 :20<br>method: SAA_411_Pac.M<br>timestamp: 2021-08-13 11:16:28<br>detector: G1315C<br>pump: G7110B<br>start_time: 2021-08-13 11:17:02<br>end_time: 2021-08-13 11:21:03<br>runtime: 239.7000000000036",
          "index: 92<br>name: 210813_Pac--010<br>path: D:/ExtractedSignals\\210813_Pac 2021-08-13 10-37-27\\210813_Pac--010.D<br>batch: 210813_Pac 2021-08-13 10-37-27<br>batch_position: 10<br>idle_time: 280.0<br>sample: 210812/004 :20<br>method: SAA_411_Pac.M<br>timestamp: 2021-08-13 11:21:08<br>detector: G1315C<br>pump: G7110B<br>start_time: 2021-08-13 11:21:41<br>end_time: 2021-08-13 11:25:42<br>runtime: 239.7000000000036",
          "index: 93<br>name: 210813_Pac--011<br>path: D:/ExtractedSignals\\210813_Pac 2021-08-13 10-37-27\\210813_Pac--011.D<br>batch: 210813_Pac 2021-08-13 10-37-27<br>batch_position: 11<br>idle_time: 278.0<br>sample: 210812/004 :20<br>method: SAA_411_Pac.M<br>timestamp: 2021-08-13 11:25:46<br>detector: G1315C<br>pump: G7110B<br>start_time: 2021-08-13 11:26:21<br>end_time: 2021-08-13 11:30:21<br>runtime: 239.7000000000036",
          "index: 94<br>name: 210813_Pac--012<br>path: D:/ExtractedSignals\\210813_Pac 2021-08-13 10-37-27\\210813_Pac--012.D<br>batch: 210813_Pac 2021-08-13 10-37-27<br>batch_position: 12<br>idle_time: 280.0<br>sample: Blank<br>method: SAA_411_Pac.M<br>timestamp: 2021-08-13 11:30:26<br>detector: G1315C<br>pump: G7110B<br>start_time: 2021-08-13 11:30:59<br>end_time: 2021-08-13 11:34:59<br>runtime: 239.7000000000036",
          "index: 95<br>name: 210813_Pac--013<br>path: D:/ExtractedSignals\\210813_Pac 2021-08-13 10-37-27\\210813_Pac--013.D<br>batch: 210813_Pac 2021-08-13 10-37-27<br>batch_position: 13<br>idle_time: 278.0<br>sample: 0.025 mg/ml<br>method: SAA_411_Pac.M<br>timestamp: 2021-08-13 11:35:04<br>detector: G1315C<br>pump: G7110B<br>start_time: 2021-08-13 11:35:38<br>end_time: 2021-08-13 11:39:38<br>runtime: 239.7000000000036",
          "index: 96<br>name: 210813_Pac--014<br>path: D:/ExtractedSignals\\210813_Pac 2021-08-13 10-37-27\\210813_Pac--014.D<br>batch: 210813_Pac 2021-08-13 10-37-27<br>batch_position: 14<br>idle_time: 279.0<br>sample: Blank<br>method: SAA_411_Pac.M<br>timestamp: 2021-08-13 11:39:43<br>detector: G1315C<br>pump: G7110B<br>start_time: 2021-08-13 11:40:16<br>end_time: 2021-08-13 11:44:17<br>runtime: 239.7000000000036"
         ],
         "type": "scatter",
         "x": [
          0,
          1,
          2,
          3,
          4,
          5,
          6,
          7,
          8,
          9,
          10,
          11,
          12,
          13,
          14,
          15,
          16,
          17,
          18,
          19,
          20,
          21
         ],
         "y": [
          0.8612566238060749,
          0.8541642584326673,
          0.8543316722165605,
          0.8506202680693234,
          0.8498441855996984,
          0.8483960563690135,
          0.8480927185367656,
          0.8450720955502148,
          0.8466601348717301,
          0.8450848508861318,
          0.8560209570169047,
          0.8501347680960306,
          0.8486730863209314,
          0.8458031357398875,
          0.8467709468524968,
          0.8428076248209214,
          0.8448496743801887,
          0.8421284031834076,
          0.844322320960918,
          0.8411374730244509,
          0.8427577992899985,
          0.8396407140755874
         ]
        },
        {
         "hovertemplate": "<b>%{text}</b><br><b>x: </b>%{x}<br><b>pressure_std: </b>%{y}<extra></extra>",
         "mode": "lines",
         "name": "pressure_std",
         "text": [
          "index: 17<br>name: 210812_Pac--005<br>path: D:/ExtractedSignals\\210812_Pac 2021-08-12 10-30-07\\210812_Pac--005.D<br>batch: 210812_Pac 2021-08-12 10-30-07<br>batch_position: 5<br>idle_time: 279.0<br>sample: NaCl 0,9%<br>method: SAA_411_Pac.M<br>timestamp: 2021-08-12 10:50:23<br>detector: G1315C<br>pump: G7110B<br>start_time: 2021-08-12 10:50:57<br>end_time: 2021-08-12 10:54:57<br>runtime: 239.7000000000036",
          "index: 18<br>name: 210812_Pac--006<br>path: D:/ExtractedSignals\\210812_Pac 2021-08-12 10-30-07\\210812_Pac--006.D<br>batch: 210812_Pac 2021-08-12 10-30-07<br>batch_position: 6<br>idle_time: 279.0<br>sample: Blank<br>method: SAA_411_Pac.M<br>timestamp: 2021-08-12 10:55:02<br>detector: G1315C<br>pump: G7110B<br>start_time: 2021-08-12 10:55:36<br>end_time: 2021-08-12 10:59:36<br>runtime: 239.7000000000036",
          "index: 19<br>name: 210812_Pac--007<br>path: D:/ExtractedSignals\\210812_Pac 2021-08-12 10-30-07\\210812_Pac--007.D<br>batch: 210812_Pac 2021-08-12 10-30-07<br>batch_position: 7<br>idle_time: 279.0<br>sample: 0.025 mg/ml<br>method: SAA_411_Pac.M<br>timestamp: 2021-08-12 10:59:41<br>detector: G1315C<br>pump: G7110B<br>start_time: 2021-08-12 11:00:15<br>end_time: 2021-08-12 11:04:15<br>runtime: 239.7000000000036",
          "index: 20<br>name: 210812_Pac--008<br>path: D:/ExtractedSignals\\210812_Pac 2021-08-12 10-30-07\\210812_Pac--008.D<br>batch: 210812_Pac 2021-08-12 10-30-07<br>batch_position: 8<br>idle_time: 279.0<br>sample: Blank<br>method: SAA_411_Pac.M<br>timestamp: 2021-08-12 11:04:20<br>detector: G1315C<br>pump: G7110B<br>start_time: 2021-08-12 11:04:54<br>end_time: 2021-08-12 11:08:54<br>runtime: 239.7000000000036",
          "index: 21<br>name: 210812_Pac--009<br>path: D:/ExtractedSignals\\210812_Pac 2021-08-12 10-30-07\\210812_Pac--009.D<br>batch: 210812_Pac 2021-08-12 10-30-07<br>batch_position: 9<br>idle_time: 279.0<br>sample: 210806/036 :10<br>method: SAA_411_Pac.M<br>timestamp: 2021-08-12 11:08:59<br>detector: G1315C<br>pump: G7110B<br>start_time: 2021-08-12 11:09:32<br>end_time: 2021-08-12 11:13:32<br>runtime: 239.7000000000036",
          "index: 22<br>name: 210812_Pac--010<br>path: D:/ExtractedSignals\\210812_Pac 2021-08-12 10-30-07\\210812_Pac--010.D<br>batch: 210812_Pac 2021-08-12 10-30-07<br>batch_position: 10<br>idle_time: 278.0<br>sample: 210806/036 :10<br>method: SAA_411_Pac.M<br>timestamp: 2021-08-12 11:13:37<br>detector: G7110B<br>pump: G7110B<br>start_time: 2021-08-12 11:14:11<br>end_time: 2021-08-12 11:18:11<br>runtime: 239.7000000000036",
          "index: 23<br>name: 210812_Pac--011<br>path: D:/ExtractedSignals\\210812_Pac 2021-08-12 10-30-07\\210812_Pac--011.D<br>batch: 210812_Pac 2021-08-12 10-30-07<br>batch_position: 11<br>idle_time: 279.0<br>sample: 210806/036 :10<br>method: SAA_411_Pac.M<br>timestamp: 2021-08-12 11:18:16<br>detector: G7110B<br>pump: G7110B<br>start_time: 2021-08-12 11:18:50<br>end_time: 2021-08-12 11:22:50<br>runtime: 239.7000000000036",
          "index: 24<br>name: 210812_Pac--012<br>path: D:/ExtractedSignals\\210812_Pac 2021-08-12 10-30-07\\210812_Pac--012.D<br>batch: 210812_Pac 2021-08-12 10-30-07<br>batch_position: 12<br>idle_time: 279.0<br>sample: Blank<br>method: SAA_411_Pac.M<br>timestamp: 2021-08-12 11:22:55<br>detector: G1315C<br>pump: G7110B<br>start_time: 2021-08-12 11:23:29<br>end_time: 2021-08-12 11:27:29<br>runtime: 239.7000000000036",
          "index: 25<br>name: 210812_Pac--013<br>path: D:/ExtractedSignals\\210812_Pac 2021-08-12 10-30-07\\210812_Pac--013.D<br>batch: 210812_Pac 2021-08-12 10-30-07<br>batch_position: 13<br>idle_time: 279.0<br>sample: 0.025 mg/ml<br>method: SAA_411_Pac.M<br>timestamp: 2021-08-12 11:27:34<br>detector: G1315C<br>pump: G7110B<br>start_time: 2021-08-12 11:28:08<br>end_time: 2021-08-12 11:32:08<br>runtime: 239.7000000000036",
          "index: 26<br>name: 210812_Pac--014<br>path: D:/ExtractedSignals\\210812_Pac 2021-08-12 10-30-07\\210812_Pac--014.D<br>batch: 210812_Pac 2021-08-12 10-30-07<br>batch_position: 14<br>idle_time: 279.0<br>sample: Blank<br>method: SAA_411_Pac.M<br>timestamp: 2021-08-12 11:32:13<br>detector: G7110B<br>pump: G7110B<br>start_time: 2021-08-12 11:32:46<br>end_time: 2021-08-12 11:36:47<br>runtime: 239.7000000000036",
          "index: 85<br>name: 210813_Pac--003<br>path: D:/ExtractedSignals\\210813_Pac 2021-08-13 10-37-27\\210813_Pac--003.D<br>batch: 210813_Pac 2021-08-13 10-37-27<br>batch_position: 3<br>idle_time: 278.0<br>sample: Blank<br>method: SAA_411_Pac.M<br>timestamp: 2021-08-13 10:48:34<br>detector: G1315C<br>pump: G7116B<br>start_time: 2021-08-13 10:49:08<br>end_time: 2021-08-13 10:53:08<br>runtime: 239.7000000000036",
          "index: 86<br>name: 210813_Pac--004<br>path: D:/ExtractedSignals\\210813_Pac 2021-08-13 10-37-27\\210813_Pac--004.D<br>batch: 210813_Pac 2021-08-13 10-37-27<br>batch_position: 4<br>idle_time: 279.0<br>sample: Blank<br>method: SAA_411_Pac.M<br>timestamp: 2021-08-13 10:53:13<br>detector: G1315C<br>pump: G7110B<br>start_time: 2021-08-13 10:53:47<br>end_time: 2021-08-13 10:57:47<br>runtime: 239.7000000000036",
          "index: 87<br>name: 210813_Pac--005<br>path: D:/ExtractedSignals\\210813_Pac 2021-08-13 10-37-27\\210813_Pac--005.D<br>batch: 210813_Pac 2021-08-13 10-37-27<br>batch_position: 5<br>idle_time: 279.0<br>sample: NaCl 0,9%<br>method: SAA_411_Pac.M<br>timestamp: 2021-08-13 10:57:52<br>detector: G7110B<br>pump: G7110B<br>start_time: 2021-08-13 10:58:26<br>end_time: 2021-08-13 11:02:27<br>runtime: 239.7000000000036",
          "index: 88<br>name: 210813_Pac--006<br>path: D:/ExtractedSignals\\210813_Pac 2021-08-13 10-37-27\\210813_Pac--006.D<br>batch: 210813_Pac 2021-08-13 10-37-27<br>batch_position: 6<br>idle_time: 279.0<br>sample: Blank<br>method: SAA_411_Pac.M<br>timestamp: 2021-08-13 11:02:31<br>detector: G1315C<br>pump: G7110B<br>start_time: 2021-08-13 11:03:05<br>end_time: 2021-08-13 11:07:06<br>runtime: 239.7000000000036",
          "index: 89<br>name: 210813_Pac--007<br>path: D:/ExtractedSignals\\210813_Pac 2021-08-13 10-37-27\\210813_Pac--007.D<br>batch: 210813_Pac 2021-08-13 10-37-27<br>batch_position: 7<br>idle_time: 279.0<br>sample: 0.025 mg/ml<br>method: SAA_411_Pac.M<br>timestamp: 2021-08-13 11:07:10<br>detector: G1315C<br>pump: G7116B<br>start_time: 2021-08-13 11:07:44<br>end_time: 2021-08-13 11:11:45<br>runtime: 239.7000000000036",
          "index: 90<br>name: 210813_Pac--008<br>path: D:/ExtractedSignals\\210813_Pac 2021-08-13 10-37-27\\210813_Pac--008.D<br>batch: 210813_Pac 2021-08-13 10-37-27<br>batch_position: 8<br>idle_time: 279.0<br>sample: Blank<br>method: SAA_411_Pac.M<br>timestamp: 2021-08-13 11:11:49<br>detector: G1315C<br>pump: G7110B<br>start_time: 2021-08-13 11:12:23<br>end_time: 2021-08-13 11:16:23<br>runtime: 239.7000000000036",
          "index: 91<br>name: 210813_Pac--009<br>path: D:/ExtractedSignals\\210813_Pac 2021-08-13 10-37-27\\210813_Pac--009.D<br>batch: 210813_Pac 2021-08-13 10-37-27<br>batch_position: 9<br>idle_time: 279.0<br>sample: 210812/004 :20<br>method: SAA_411_Pac.M<br>timestamp: 2021-08-13 11:16:28<br>detector: G1315C<br>pump: G7110B<br>start_time: 2021-08-13 11:17:02<br>end_time: 2021-08-13 11:21:03<br>runtime: 239.7000000000036",
          "index: 92<br>name: 210813_Pac--010<br>path: D:/ExtractedSignals\\210813_Pac 2021-08-13 10-37-27\\210813_Pac--010.D<br>batch: 210813_Pac 2021-08-13 10-37-27<br>batch_position: 10<br>idle_time: 280.0<br>sample: 210812/004 :20<br>method: SAA_411_Pac.M<br>timestamp: 2021-08-13 11:21:08<br>detector: G1315C<br>pump: G7110B<br>start_time: 2021-08-13 11:21:41<br>end_time: 2021-08-13 11:25:42<br>runtime: 239.7000000000036",
          "index: 93<br>name: 210813_Pac--011<br>path: D:/ExtractedSignals\\210813_Pac 2021-08-13 10-37-27\\210813_Pac--011.D<br>batch: 210813_Pac 2021-08-13 10-37-27<br>batch_position: 11<br>idle_time: 278.0<br>sample: 210812/004 :20<br>method: SAA_411_Pac.M<br>timestamp: 2021-08-13 11:25:46<br>detector: G1315C<br>pump: G7110B<br>start_time: 2021-08-13 11:26:21<br>end_time: 2021-08-13 11:30:21<br>runtime: 239.7000000000036",
          "index: 94<br>name: 210813_Pac--012<br>path: D:/ExtractedSignals\\210813_Pac 2021-08-13 10-37-27\\210813_Pac--012.D<br>batch: 210813_Pac 2021-08-13 10-37-27<br>batch_position: 12<br>idle_time: 280.0<br>sample: Blank<br>method: SAA_411_Pac.M<br>timestamp: 2021-08-13 11:30:26<br>detector: G1315C<br>pump: G7110B<br>start_time: 2021-08-13 11:30:59<br>end_time: 2021-08-13 11:34:59<br>runtime: 239.7000000000036",
          "index: 95<br>name: 210813_Pac--013<br>path: D:/ExtractedSignals\\210813_Pac 2021-08-13 10-37-27\\210813_Pac--013.D<br>batch: 210813_Pac 2021-08-13 10-37-27<br>batch_position: 13<br>idle_time: 278.0<br>sample: 0.025 mg/ml<br>method: SAA_411_Pac.M<br>timestamp: 2021-08-13 11:35:04<br>detector: G1315C<br>pump: G7110B<br>start_time: 2021-08-13 11:35:38<br>end_time: 2021-08-13 11:39:38<br>runtime: 239.7000000000036",
          "index: 96<br>name: 210813_Pac--014<br>path: D:/ExtractedSignals\\210813_Pac 2021-08-13 10-37-27\\210813_Pac--014.D<br>batch: 210813_Pac 2021-08-13 10-37-27<br>batch_position: 14<br>idle_time: 279.0<br>sample: Blank<br>method: SAA_411_Pac.M<br>timestamp: 2021-08-13 11:39:43<br>detector: G1315C<br>pump: G7110B<br>start_time: 2021-08-13 11:40:16<br>end_time: 2021-08-13 11:44:17<br>runtime: 239.7000000000036"
         ],
         "type": "scatter",
         "x": [
          0,
          1,
          2,
          3,
          4,
          5,
          6,
          7,
          8,
          9,
          10,
          11,
          12,
          13,
          14,
          15,
          16,
          17,
          18,
          19,
          20,
          21
         ],
         "y": [
          0.1832621135017824,
          0.1822831722232634,
          0.1919992277724551,
          0.1802807425293442,
          0.1904067874921171,
          0.1850696119053254,
          0.182330617106021,
          0.1721471731332262,
          0.1798570071223713,
          0.1661272610415038,
          0.2019060193633344,
          0.1864980597519003,
          0.1844794625046093,
          0.1754444373346888,
          0.1837886613042503,
          0.1667272099870065,
          0.1790632264723477,
          0.176326469572964,
          0.174227999499571,
          0.1712562751578497,
          0.1778344224152785,
          0.1632656594931647
         ]
        },
        {
         "hovertemplate": "<b>%{text}</b><br><b>x: </b>%{x}<br><b>pressure_range: </b>%{y}<extra></extra>",
         "mode": "lines",
         "name": "pressure_range",
         "text": [
          "index: 17<br>name: 210812_Pac--005<br>path: D:/ExtractedSignals\\210812_Pac 2021-08-12 10-30-07\\210812_Pac--005.D<br>batch: 210812_Pac 2021-08-12 10-30-07<br>batch_position: 5<br>idle_time: 279.0<br>sample: NaCl 0,9%<br>method: SAA_411_Pac.M<br>timestamp: 2021-08-12 10:50:23<br>detector: G1315C<br>pump: G7110B<br>start_time: 2021-08-12 10:50:57<br>end_time: 2021-08-12 10:54:57<br>runtime: 239.7000000000036",
          "index: 18<br>name: 210812_Pac--006<br>path: D:/ExtractedSignals\\210812_Pac 2021-08-12 10-30-07\\210812_Pac--006.D<br>batch: 210812_Pac 2021-08-12 10-30-07<br>batch_position: 6<br>idle_time: 279.0<br>sample: Blank<br>method: SAA_411_Pac.M<br>timestamp: 2021-08-12 10:55:02<br>detector: G1315C<br>pump: G7110B<br>start_time: 2021-08-12 10:55:36<br>end_time: 2021-08-12 10:59:36<br>runtime: 239.7000000000036",
          "index: 19<br>name: 210812_Pac--007<br>path: D:/ExtractedSignals\\210812_Pac 2021-08-12 10-30-07\\210812_Pac--007.D<br>batch: 210812_Pac 2021-08-12 10-30-07<br>batch_position: 7<br>idle_time: 279.0<br>sample: 0.025 mg/ml<br>method: SAA_411_Pac.M<br>timestamp: 2021-08-12 10:59:41<br>detector: G1315C<br>pump: G7110B<br>start_time: 2021-08-12 11:00:15<br>end_time: 2021-08-12 11:04:15<br>runtime: 239.7000000000036",
          "index: 20<br>name: 210812_Pac--008<br>path: D:/ExtractedSignals\\210812_Pac 2021-08-12 10-30-07\\210812_Pac--008.D<br>batch: 210812_Pac 2021-08-12 10-30-07<br>batch_position: 8<br>idle_time: 279.0<br>sample: Blank<br>method: SAA_411_Pac.M<br>timestamp: 2021-08-12 11:04:20<br>detector: G1315C<br>pump: G7110B<br>start_time: 2021-08-12 11:04:54<br>end_time: 2021-08-12 11:08:54<br>runtime: 239.7000000000036",
          "index: 21<br>name: 210812_Pac--009<br>path: D:/ExtractedSignals\\210812_Pac 2021-08-12 10-30-07\\210812_Pac--009.D<br>batch: 210812_Pac 2021-08-12 10-30-07<br>batch_position: 9<br>idle_time: 279.0<br>sample: 210806/036 :10<br>method: SAA_411_Pac.M<br>timestamp: 2021-08-12 11:08:59<br>detector: G1315C<br>pump: G7110B<br>start_time: 2021-08-12 11:09:32<br>end_time: 2021-08-12 11:13:32<br>runtime: 239.7000000000036",
          "index: 22<br>name: 210812_Pac--010<br>path: D:/ExtractedSignals\\210812_Pac 2021-08-12 10-30-07\\210812_Pac--010.D<br>batch: 210812_Pac 2021-08-12 10-30-07<br>batch_position: 10<br>idle_time: 278.0<br>sample: 210806/036 :10<br>method: SAA_411_Pac.M<br>timestamp: 2021-08-12 11:13:37<br>detector: G7110B<br>pump: G7110B<br>start_time: 2021-08-12 11:14:11<br>end_time: 2021-08-12 11:18:11<br>runtime: 239.7000000000036",
          "index: 23<br>name: 210812_Pac--011<br>path: D:/ExtractedSignals\\210812_Pac 2021-08-12 10-30-07\\210812_Pac--011.D<br>batch: 210812_Pac 2021-08-12 10-30-07<br>batch_position: 11<br>idle_time: 279.0<br>sample: 210806/036 :10<br>method: SAA_411_Pac.M<br>timestamp: 2021-08-12 11:18:16<br>detector: G7110B<br>pump: G7110B<br>start_time: 2021-08-12 11:18:50<br>end_time: 2021-08-12 11:22:50<br>runtime: 239.7000000000036",
          "index: 24<br>name: 210812_Pac--012<br>path: D:/ExtractedSignals\\210812_Pac 2021-08-12 10-30-07\\210812_Pac--012.D<br>batch: 210812_Pac 2021-08-12 10-30-07<br>batch_position: 12<br>idle_time: 279.0<br>sample: Blank<br>method: SAA_411_Pac.M<br>timestamp: 2021-08-12 11:22:55<br>detector: G1315C<br>pump: G7110B<br>start_time: 2021-08-12 11:23:29<br>end_time: 2021-08-12 11:27:29<br>runtime: 239.7000000000036",
          "index: 25<br>name: 210812_Pac--013<br>path: D:/ExtractedSignals\\210812_Pac 2021-08-12 10-30-07\\210812_Pac--013.D<br>batch: 210812_Pac 2021-08-12 10-30-07<br>batch_position: 13<br>idle_time: 279.0<br>sample: 0.025 mg/ml<br>method: SAA_411_Pac.M<br>timestamp: 2021-08-12 11:27:34<br>detector: G1315C<br>pump: G7110B<br>start_time: 2021-08-12 11:28:08<br>end_time: 2021-08-12 11:32:08<br>runtime: 239.7000000000036",
          "index: 26<br>name: 210812_Pac--014<br>path: D:/ExtractedSignals\\210812_Pac 2021-08-12 10-30-07\\210812_Pac--014.D<br>batch: 210812_Pac 2021-08-12 10-30-07<br>batch_position: 14<br>idle_time: 279.0<br>sample: Blank<br>method: SAA_411_Pac.M<br>timestamp: 2021-08-12 11:32:13<br>detector: G7110B<br>pump: G7110B<br>start_time: 2021-08-12 11:32:46<br>end_time: 2021-08-12 11:36:47<br>runtime: 239.7000000000036",
          "index: 85<br>name: 210813_Pac--003<br>path: D:/ExtractedSignals\\210813_Pac 2021-08-13 10-37-27\\210813_Pac--003.D<br>batch: 210813_Pac 2021-08-13 10-37-27<br>batch_position: 3<br>idle_time: 278.0<br>sample: Blank<br>method: SAA_411_Pac.M<br>timestamp: 2021-08-13 10:48:34<br>detector: G1315C<br>pump: G7116B<br>start_time: 2021-08-13 10:49:08<br>end_time: 2021-08-13 10:53:08<br>runtime: 239.7000000000036",
          "index: 86<br>name: 210813_Pac--004<br>path: D:/ExtractedSignals\\210813_Pac 2021-08-13 10-37-27\\210813_Pac--004.D<br>batch: 210813_Pac 2021-08-13 10-37-27<br>batch_position: 4<br>idle_time: 279.0<br>sample: Blank<br>method: SAA_411_Pac.M<br>timestamp: 2021-08-13 10:53:13<br>detector: G1315C<br>pump: G7110B<br>start_time: 2021-08-13 10:53:47<br>end_time: 2021-08-13 10:57:47<br>runtime: 239.7000000000036",
          "index: 87<br>name: 210813_Pac--005<br>path: D:/ExtractedSignals\\210813_Pac 2021-08-13 10-37-27\\210813_Pac--005.D<br>batch: 210813_Pac 2021-08-13 10-37-27<br>batch_position: 5<br>idle_time: 279.0<br>sample: NaCl 0,9%<br>method: SAA_411_Pac.M<br>timestamp: 2021-08-13 10:57:52<br>detector: G7110B<br>pump: G7110B<br>start_time: 2021-08-13 10:58:26<br>end_time: 2021-08-13 11:02:27<br>runtime: 239.7000000000036",
          "index: 88<br>name: 210813_Pac--006<br>path: D:/ExtractedSignals\\210813_Pac 2021-08-13 10-37-27\\210813_Pac--006.D<br>batch: 210813_Pac 2021-08-13 10-37-27<br>batch_position: 6<br>idle_time: 279.0<br>sample: Blank<br>method: SAA_411_Pac.M<br>timestamp: 2021-08-13 11:02:31<br>detector: G1315C<br>pump: G7110B<br>start_time: 2021-08-13 11:03:05<br>end_time: 2021-08-13 11:07:06<br>runtime: 239.7000000000036",
          "index: 89<br>name: 210813_Pac--007<br>path: D:/ExtractedSignals\\210813_Pac 2021-08-13 10-37-27\\210813_Pac--007.D<br>batch: 210813_Pac 2021-08-13 10-37-27<br>batch_position: 7<br>idle_time: 279.0<br>sample: 0.025 mg/ml<br>method: SAA_411_Pac.M<br>timestamp: 2021-08-13 11:07:10<br>detector: G1315C<br>pump: G7116B<br>start_time: 2021-08-13 11:07:44<br>end_time: 2021-08-13 11:11:45<br>runtime: 239.7000000000036",
          "index: 90<br>name: 210813_Pac--008<br>path: D:/ExtractedSignals\\210813_Pac 2021-08-13 10-37-27\\210813_Pac--008.D<br>batch: 210813_Pac 2021-08-13 10-37-27<br>batch_position: 8<br>idle_time: 279.0<br>sample: Blank<br>method: SAA_411_Pac.M<br>timestamp: 2021-08-13 11:11:49<br>detector: G1315C<br>pump: G7110B<br>start_time: 2021-08-13 11:12:23<br>end_time: 2021-08-13 11:16:23<br>runtime: 239.7000000000036",
          "index: 91<br>name: 210813_Pac--009<br>path: D:/ExtractedSignals\\210813_Pac 2021-08-13 10-37-27\\210813_Pac--009.D<br>batch: 210813_Pac 2021-08-13 10-37-27<br>batch_position: 9<br>idle_time: 279.0<br>sample: 210812/004 :20<br>method: SAA_411_Pac.M<br>timestamp: 2021-08-13 11:16:28<br>detector: G1315C<br>pump: G7110B<br>start_time: 2021-08-13 11:17:02<br>end_time: 2021-08-13 11:21:03<br>runtime: 239.7000000000036",
          "index: 92<br>name: 210813_Pac--010<br>path: D:/ExtractedSignals\\210813_Pac 2021-08-13 10-37-27\\210813_Pac--010.D<br>batch: 210813_Pac 2021-08-13 10-37-27<br>batch_position: 10<br>idle_time: 280.0<br>sample: 210812/004 :20<br>method: SAA_411_Pac.M<br>timestamp: 2021-08-13 11:21:08<br>detector: G1315C<br>pump: G7110B<br>start_time: 2021-08-13 11:21:41<br>end_time: 2021-08-13 11:25:42<br>runtime: 239.7000000000036",
          "index: 93<br>name: 210813_Pac--011<br>path: D:/ExtractedSignals\\210813_Pac 2021-08-13 10-37-27\\210813_Pac--011.D<br>batch: 210813_Pac 2021-08-13 10-37-27<br>batch_position: 11<br>idle_time: 278.0<br>sample: 210812/004 :20<br>method: SAA_411_Pac.M<br>timestamp: 2021-08-13 11:25:46<br>detector: G1315C<br>pump: G7110B<br>start_time: 2021-08-13 11:26:21<br>end_time: 2021-08-13 11:30:21<br>runtime: 239.7000000000036",
          "index: 94<br>name: 210813_Pac--012<br>path: D:/ExtractedSignals\\210813_Pac 2021-08-13 10-37-27\\210813_Pac--012.D<br>batch: 210813_Pac 2021-08-13 10-37-27<br>batch_position: 12<br>idle_time: 280.0<br>sample: Blank<br>method: SAA_411_Pac.M<br>timestamp: 2021-08-13 11:30:26<br>detector: G1315C<br>pump: G7110B<br>start_time: 2021-08-13 11:30:59<br>end_time: 2021-08-13 11:34:59<br>runtime: 239.7000000000036",
          "index: 95<br>name: 210813_Pac--013<br>path: D:/ExtractedSignals\\210813_Pac 2021-08-13 10-37-27\\210813_Pac--013.D<br>batch: 210813_Pac 2021-08-13 10-37-27<br>batch_position: 13<br>idle_time: 278.0<br>sample: 0.025 mg/ml<br>method: SAA_411_Pac.M<br>timestamp: 2021-08-13 11:35:04<br>detector: G1315C<br>pump: G7110B<br>start_time: 2021-08-13 11:35:38<br>end_time: 2021-08-13 11:39:38<br>runtime: 239.7000000000036",
          "index: 96<br>name: 210813_Pac--014<br>path: D:/ExtractedSignals\\210813_Pac 2021-08-13 10-37-27\\210813_Pac--014.D<br>batch: 210813_Pac 2021-08-13 10-37-27<br>batch_position: 14<br>idle_time: 279.0<br>sample: Blank<br>method: SAA_411_Pac.M<br>timestamp: 2021-08-13 11:39:43<br>detector: G1315C<br>pump: G7110B<br>start_time: 2021-08-13 11:40:16<br>end_time: 2021-08-13 11:44:17<br>runtime: 239.7000000000036"
         ],
         "type": "scatter",
         "x": [
          0,
          1,
          2,
          3,
          4,
          5,
          6,
          7,
          8,
          9,
          10,
          11,
          12,
          13,
          14,
          15,
          16,
          17,
          18,
          19,
          20,
          21
         ],
         "y": [
          0.0627062706270626,
          0.068646864686469,
          0.0719471947194725,
          0.0600660066006604,
          0.0722772277227725,
          0.0577557755775579,
          0.0600660066006604,
          0.0577557755775579,
          0.0584158415841589,
          0.0561056105610564,
          0.080858085808581,
          0.0702970297029705,
          0.064356435643565,
          0.0481848184818487,
          0.0669966996699675,
          0.0584158415841589,
          0.0564356435643567,
          0.0521452145214527,
          0.0521452145214524,
          0.047524752475248,
          0.0541254125412546,
          0.043894389438944
         ]
        },
        {
         "hovertemplate": "<b>%{text}</b><br><b>x: </b>%{x}<br><b>runtime: </b>%{y}<extra></extra>",
         "mode": "lines",
         "name": "runtime",
         "text": [
          "index: 17<br>name: 210812_Pac--005<br>path: D:/ExtractedSignals\\210812_Pac 2021-08-12 10-30-07\\210812_Pac--005.D<br>batch: 210812_Pac 2021-08-12 10-30-07<br>batch_position: 5<br>idle_time: 279.0<br>sample: NaCl 0,9%<br>method: SAA_411_Pac.M<br>timestamp: 2021-08-12 10:50:23<br>detector: G1315C<br>pump: G7110B<br>start_time: 2021-08-12 10:50:57<br>end_time: 2021-08-12 10:54:57<br>runtime: 239.7000000000036",
          "index: 18<br>name: 210812_Pac--006<br>path: D:/ExtractedSignals\\210812_Pac 2021-08-12 10-30-07\\210812_Pac--006.D<br>batch: 210812_Pac 2021-08-12 10-30-07<br>batch_position: 6<br>idle_time: 279.0<br>sample: Blank<br>method: SAA_411_Pac.M<br>timestamp: 2021-08-12 10:55:02<br>detector: G1315C<br>pump: G7110B<br>start_time: 2021-08-12 10:55:36<br>end_time: 2021-08-12 10:59:36<br>runtime: 239.7000000000036",
          "index: 19<br>name: 210812_Pac--007<br>path: D:/ExtractedSignals\\210812_Pac 2021-08-12 10-30-07\\210812_Pac--007.D<br>batch: 210812_Pac 2021-08-12 10-30-07<br>batch_position: 7<br>idle_time: 279.0<br>sample: 0.025 mg/ml<br>method: SAA_411_Pac.M<br>timestamp: 2021-08-12 10:59:41<br>detector: G1315C<br>pump: G7110B<br>start_time: 2021-08-12 11:00:15<br>end_time: 2021-08-12 11:04:15<br>runtime: 239.7000000000036",
          "index: 20<br>name: 210812_Pac--008<br>path: D:/ExtractedSignals\\210812_Pac 2021-08-12 10-30-07\\210812_Pac--008.D<br>batch: 210812_Pac 2021-08-12 10-30-07<br>batch_position: 8<br>idle_time: 279.0<br>sample: Blank<br>method: SAA_411_Pac.M<br>timestamp: 2021-08-12 11:04:20<br>detector: G1315C<br>pump: G7110B<br>start_time: 2021-08-12 11:04:54<br>end_time: 2021-08-12 11:08:54<br>runtime: 239.7000000000036",
          "index: 21<br>name: 210812_Pac--009<br>path: D:/ExtractedSignals\\210812_Pac 2021-08-12 10-30-07\\210812_Pac--009.D<br>batch: 210812_Pac 2021-08-12 10-30-07<br>batch_position: 9<br>idle_time: 279.0<br>sample: 210806/036 :10<br>method: SAA_411_Pac.M<br>timestamp: 2021-08-12 11:08:59<br>detector: G1315C<br>pump: G7110B<br>start_time: 2021-08-12 11:09:32<br>end_time: 2021-08-12 11:13:32<br>runtime: 239.7000000000036",
          "index: 22<br>name: 210812_Pac--010<br>path: D:/ExtractedSignals\\210812_Pac 2021-08-12 10-30-07\\210812_Pac--010.D<br>batch: 210812_Pac 2021-08-12 10-30-07<br>batch_position: 10<br>idle_time: 278.0<br>sample: 210806/036 :10<br>method: SAA_411_Pac.M<br>timestamp: 2021-08-12 11:13:37<br>detector: G7110B<br>pump: G7110B<br>start_time: 2021-08-12 11:14:11<br>end_time: 2021-08-12 11:18:11<br>runtime: 239.7000000000036",
          "index: 23<br>name: 210812_Pac--011<br>path: D:/ExtractedSignals\\210812_Pac 2021-08-12 10-30-07\\210812_Pac--011.D<br>batch: 210812_Pac 2021-08-12 10-30-07<br>batch_position: 11<br>idle_time: 279.0<br>sample: 210806/036 :10<br>method: SAA_411_Pac.M<br>timestamp: 2021-08-12 11:18:16<br>detector: G7110B<br>pump: G7110B<br>start_time: 2021-08-12 11:18:50<br>end_time: 2021-08-12 11:22:50<br>runtime: 239.7000000000036",
          "index: 24<br>name: 210812_Pac--012<br>path: D:/ExtractedSignals\\210812_Pac 2021-08-12 10-30-07\\210812_Pac--012.D<br>batch: 210812_Pac 2021-08-12 10-30-07<br>batch_position: 12<br>idle_time: 279.0<br>sample: Blank<br>method: SAA_411_Pac.M<br>timestamp: 2021-08-12 11:22:55<br>detector: G1315C<br>pump: G7110B<br>start_time: 2021-08-12 11:23:29<br>end_time: 2021-08-12 11:27:29<br>runtime: 239.7000000000036",
          "index: 25<br>name: 210812_Pac--013<br>path: D:/ExtractedSignals\\210812_Pac 2021-08-12 10-30-07\\210812_Pac--013.D<br>batch: 210812_Pac 2021-08-12 10-30-07<br>batch_position: 13<br>idle_time: 279.0<br>sample: 0.025 mg/ml<br>method: SAA_411_Pac.M<br>timestamp: 2021-08-12 11:27:34<br>detector: G1315C<br>pump: G7110B<br>start_time: 2021-08-12 11:28:08<br>end_time: 2021-08-12 11:32:08<br>runtime: 239.7000000000036",
          "index: 26<br>name: 210812_Pac--014<br>path: D:/ExtractedSignals\\210812_Pac 2021-08-12 10-30-07\\210812_Pac--014.D<br>batch: 210812_Pac 2021-08-12 10-30-07<br>batch_position: 14<br>idle_time: 279.0<br>sample: Blank<br>method: SAA_411_Pac.M<br>timestamp: 2021-08-12 11:32:13<br>detector: G7110B<br>pump: G7110B<br>start_time: 2021-08-12 11:32:46<br>end_time: 2021-08-12 11:36:47<br>runtime: 239.7000000000036",
          "index: 85<br>name: 210813_Pac--003<br>path: D:/ExtractedSignals\\210813_Pac 2021-08-13 10-37-27\\210813_Pac--003.D<br>batch: 210813_Pac 2021-08-13 10-37-27<br>batch_position: 3<br>idle_time: 278.0<br>sample: Blank<br>method: SAA_411_Pac.M<br>timestamp: 2021-08-13 10:48:34<br>detector: G1315C<br>pump: G7116B<br>start_time: 2021-08-13 10:49:08<br>end_time: 2021-08-13 10:53:08<br>runtime: 239.7000000000036",
          "index: 86<br>name: 210813_Pac--004<br>path: D:/ExtractedSignals\\210813_Pac 2021-08-13 10-37-27\\210813_Pac--004.D<br>batch: 210813_Pac 2021-08-13 10-37-27<br>batch_position: 4<br>idle_time: 279.0<br>sample: Blank<br>method: SAA_411_Pac.M<br>timestamp: 2021-08-13 10:53:13<br>detector: G1315C<br>pump: G7110B<br>start_time: 2021-08-13 10:53:47<br>end_time: 2021-08-13 10:57:47<br>runtime: 239.7000000000036",
          "index: 87<br>name: 210813_Pac--005<br>path: D:/ExtractedSignals\\210813_Pac 2021-08-13 10-37-27\\210813_Pac--005.D<br>batch: 210813_Pac 2021-08-13 10-37-27<br>batch_position: 5<br>idle_time: 279.0<br>sample: NaCl 0,9%<br>method: SAA_411_Pac.M<br>timestamp: 2021-08-13 10:57:52<br>detector: G7110B<br>pump: G7110B<br>start_time: 2021-08-13 10:58:26<br>end_time: 2021-08-13 11:02:27<br>runtime: 239.7000000000036",
          "index: 88<br>name: 210813_Pac--006<br>path: D:/ExtractedSignals\\210813_Pac 2021-08-13 10-37-27\\210813_Pac--006.D<br>batch: 210813_Pac 2021-08-13 10-37-27<br>batch_position: 6<br>idle_time: 279.0<br>sample: Blank<br>method: SAA_411_Pac.M<br>timestamp: 2021-08-13 11:02:31<br>detector: G1315C<br>pump: G7110B<br>start_time: 2021-08-13 11:03:05<br>end_time: 2021-08-13 11:07:06<br>runtime: 239.7000000000036",
          "index: 89<br>name: 210813_Pac--007<br>path: D:/ExtractedSignals\\210813_Pac 2021-08-13 10-37-27\\210813_Pac--007.D<br>batch: 210813_Pac 2021-08-13 10-37-27<br>batch_position: 7<br>idle_time: 279.0<br>sample: 0.025 mg/ml<br>method: SAA_411_Pac.M<br>timestamp: 2021-08-13 11:07:10<br>detector: G1315C<br>pump: G7116B<br>start_time: 2021-08-13 11:07:44<br>end_time: 2021-08-13 11:11:45<br>runtime: 239.7000000000036",
          "index: 90<br>name: 210813_Pac--008<br>path: D:/ExtractedSignals\\210813_Pac 2021-08-13 10-37-27\\210813_Pac--008.D<br>batch: 210813_Pac 2021-08-13 10-37-27<br>batch_position: 8<br>idle_time: 279.0<br>sample: Blank<br>method: SAA_411_Pac.M<br>timestamp: 2021-08-13 11:11:49<br>detector: G1315C<br>pump: G7110B<br>start_time: 2021-08-13 11:12:23<br>end_time: 2021-08-13 11:16:23<br>runtime: 239.7000000000036",
          "index: 91<br>name: 210813_Pac--009<br>path: D:/ExtractedSignals\\210813_Pac 2021-08-13 10-37-27\\210813_Pac--009.D<br>batch: 210813_Pac 2021-08-13 10-37-27<br>batch_position: 9<br>idle_time: 279.0<br>sample: 210812/004 :20<br>method: SAA_411_Pac.M<br>timestamp: 2021-08-13 11:16:28<br>detector: G1315C<br>pump: G7110B<br>start_time: 2021-08-13 11:17:02<br>end_time: 2021-08-13 11:21:03<br>runtime: 239.7000000000036",
          "index: 92<br>name: 210813_Pac--010<br>path: D:/ExtractedSignals\\210813_Pac 2021-08-13 10-37-27\\210813_Pac--010.D<br>batch: 210813_Pac 2021-08-13 10-37-27<br>batch_position: 10<br>idle_time: 280.0<br>sample: 210812/004 :20<br>method: SAA_411_Pac.M<br>timestamp: 2021-08-13 11:21:08<br>detector: G1315C<br>pump: G7110B<br>start_time: 2021-08-13 11:21:41<br>end_time: 2021-08-13 11:25:42<br>runtime: 239.7000000000036",
          "index: 93<br>name: 210813_Pac--011<br>path: D:/ExtractedSignals\\210813_Pac 2021-08-13 10-37-27\\210813_Pac--011.D<br>batch: 210813_Pac 2021-08-13 10-37-27<br>batch_position: 11<br>idle_time: 278.0<br>sample: 210812/004 :20<br>method: SAA_411_Pac.M<br>timestamp: 2021-08-13 11:25:46<br>detector: G1315C<br>pump: G7110B<br>start_time: 2021-08-13 11:26:21<br>end_time: 2021-08-13 11:30:21<br>runtime: 239.7000000000036",
          "index: 94<br>name: 210813_Pac--012<br>path: D:/ExtractedSignals\\210813_Pac 2021-08-13 10-37-27\\210813_Pac--012.D<br>batch: 210813_Pac 2021-08-13 10-37-27<br>batch_position: 12<br>idle_time: 280.0<br>sample: Blank<br>method: SAA_411_Pac.M<br>timestamp: 2021-08-13 11:30:26<br>detector: G1315C<br>pump: G7110B<br>start_time: 2021-08-13 11:30:59<br>end_time: 2021-08-13 11:34:59<br>runtime: 239.7000000000036",
          "index: 95<br>name: 210813_Pac--013<br>path: D:/ExtractedSignals\\210813_Pac 2021-08-13 10-37-27\\210813_Pac--013.D<br>batch: 210813_Pac 2021-08-13 10-37-27<br>batch_position: 13<br>idle_time: 278.0<br>sample: 0.025 mg/ml<br>method: SAA_411_Pac.M<br>timestamp: 2021-08-13 11:35:04<br>detector: G1315C<br>pump: G7110B<br>start_time: 2021-08-13 11:35:38<br>end_time: 2021-08-13 11:39:38<br>runtime: 239.7000000000036",
          "index: 96<br>name: 210813_Pac--014<br>path: D:/ExtractedSignals\\210813_Pac 2021-08-13 10-37-27\\210813_Pac--014.D<br>batch: 210813_Pac 2021-08-13 10-37-27<br>batch_position: 14<br>idle_time: 279.0<br>sample: Blank<br>method: SAA_411_Pac.M<br>timestamp: 2021-08-13 11:39:43<br>detector: G1315C<br>pump: G7110B<br>start_time: 2021-08-13 11:40:16<br>end_time: 2021-08-13 11:44:17<br>runtime: 239.7000000000036"
         ],
         "type": "scatter",
         "x": [
          0,
          1,
          2,
          3,
          4,
          5,
          6,
          7,
          8,
          9,
          10,
          11,
          12,
          13,
          14,
          15,
          16,
          17,
          18,
          19,
          20,
          21
         ],
         "y": [
          1,
          1,
          1,
          1,
          1,
          1,
          1,
          1,
          1,
          1,
          1,
          1,
          1,
          1,
          1,
          1,
          1,
          1,
          1,
          1,
          1,
          1
         ]
        },
        {
         "hovertemplate": "<b>%{text}</b><br><b>x: </b>%{x}<br><b>residual_mean: </b>%{y}<extra></extra>",
         "mode": "lines",
         "name": "residual_mean",
         "text": [
          "index: 17<br>name: 210812_Pac--005<br>path: D:/ExtractedSignals\\210812_Pac 2021-08-12 10-30-07\\210812_Pac--005.D<br>batch: 210812_Pac 2021-08-12 10-30-07<br>batch_position: 5<br>idle_time: 279.0<br>sample: NaCl 0,9%<br>method: SAA_411_Pac.M<br>timestamp: 2021-08-12 10:50:23<br>detector: G1315C<br>pump: G7110B<br>start_time: 2021-08-12 10:50:57<br>end_time: 2021-08-12 10:54:57<br>runtime: 239.7000000000036",
          "index: 18<br>name: 210812_Pac--006<br>path: D:/ExtractedSignals\\210812_Pac 2021-08-12 10-30-07\\210812_Pac--006.D<br>batch: 210812_Pac 2021-08-12 10-30-07<br>batch_position: 6<br>idle_time: 279.0<br>sample: Blank<br>method: SAA_411_Pac.M<br>timestamp: 2021-08-12 10:55:02<br>detector: G1315C<br>pump: G7110B<br>start_time: 2021-08-12 10:55:36<br>end_time: 2021-08-12 10:59:36<br>runtime: 239.7000000000036",
          "index: 19<br>name: 210812_Pac--007<br>path: D:/ExtractedSignals\\210812_Pac 2021-08-12 10-30-07\\210812_Pac--007.D<br>batch: 210812_Pac 2021-08-12 10-30-07<br>batch_position: 7<br>idle_time: 279.0<br>sample: 0.025 mg/ml<br>method: SAA_411_Pac.M<br>timestamp: 2021-08-12 10:59:41<br>detector: G1315C<br>pump: G7110B<br>start_time: 2021-08-12 11:00:15<br>end_time: 2021-08-12 11:04:15<br>runtime: 239.7000000000036",
          "index: 20<br>name: 210812_Pac--008<br>path: D:/ExtractedSignals\\210812_Pac 2021-08-12 10-30-07\\210812_Pac--008.D<br>batch: 210812_Pac 2021-08-12 10-30-07<br>batch_position: 8<br>idle_time: 279.0<br>sample: Blank<br>method: SAA_411_Pac.M<br>timestamp: 2021-08-12 11:04:20<br>detector: G1315C<br>pump: G7110B<br>start_time: 2021-08-12 11:04:54<br>end_time: 2021-08-12 11:08:54<br>runtime: 239.7000000000036",
          "index: 21<br>name: 210812_Pac--009<br>path: D:/ExtractedSignals\\210812_Pac 2021-08-12 10-30-07\\210812_Pac--009.D<br>batch: 210812_Pac 2021-08-12 10-30-07<br>batch_position: 9<br>idle_time: 279.0<br>sample: 210806/036 :10<br>method: SAA_411_Pac.M<br>timestamp: 2021-08-12 11:08:59<br>detector: G1315C<br>pump: G7110B<br>start_time: 2021-08-12 11:09:32<br>end_time: 2021-08-12 11:13:32<br>runtime: 239.7000000000036",
          "index: 22<br>name: 210812_Pac--010<br>path: D:/ExtractedSignals\\210812_Pac 2021-08-12 10-30-07\\210812_Pac--010.D<br>batch: 210812_Pac 2021-08-12 10-30-07<br>batch_position: 10<br>idle_time: 278.0<br>sample: 210806/036 :10<br>method: SAA_411_Pac.M<br>timestamp: 2021-08-12 11:13:37<br>detector: G7110B<br>pump: G7110B<br>start_time: 2021-08-12 11:14:11<br>end_time: 2021-08-12 11:18:11<br>runtime: 239.7000000000036",
          "index: 23<br>name: 210812_Pac--011<br>path: D:/ExtractedSignals\\210812_Pac 2021-08-12 10-30-07\\210812_Pac--011.D<br>batch: 210812_Pac 2021-08-12 10-30-07<br>batch_position: 11<br>idle_time: 279.0<br>sample: 210806/036 :10<br>method: SAA_411_Pac.M<br>timestamp: 2021-08-12 11:18:16<br>detector: G7110B<br>pump: G7110B<br>start_time: 2021-08-12 11:18:50<br>end_time: 2021-08-12 11:22:50<br>runtime: 239.7000000000036",
          "index: 24<br>name: 210812_Pac--012<br>path: D:/ExtractedSignals\\210812_Pac 2021-08-12 10-30-07\\210812_Pac--012.D<br>batch: 210812_Pac 2021-08-12 10-30-07<br>batch_position: 12<br>idle_time: 279.0<br>sample: Blank<br>method: SAA_411_Pac.M<br>timestamp: 2021-08-12 11:22:55<br>detector: G1315C<br>pump: G7110B<br>start_time: 2021-08-12 11:23:29<br>end_time: 2021-08-12 11:27:29<br>runtime: 239.7000000000036",
          "index: 25<br>name: 210812_Pac--013<br>path: D:/ExtractedSignals\\210812_Pac 2021-08-12 10-30-07\\210812_Pac--013.D<br>batch: 210812_Pac 2021-08-12 10-30-07<br>batch_position: 13<br>idle_time: 279.0<br>sample: 0.025 mg/ml<br>method: SAA_411_Pac.M<br>timestamp: 2021-08-12 11:27:34<br>detector: G1315C<br>pump: G7110B<br>start_time: 2021-08-12 11:28:08<br>end_time: 2021-08-12 11:32:08<br>runtime: 239.7000000000036",
          "index: 26<br>name: 210812_Pac--014<br>path: D:/ExtractedSignals\\210812_Pac 2021-08-12 10-30-07\\210812_Pac--014.D<br>batch: 210812_Pac 2021-08-12 10-30-07<br>batch_position: 14<br>idle_time: 279.0<br>sample: Blank<br>method: SAA_411_Pac.M<br>timestamp: 2021-08-12 11:32:13<br>detector: G7110B<br>pump: G7110B<br>start_time: 2021-08-12 11:32:46<br>end_time: 2021-08-12 11:36:47<br>runtime: 239.7000000000036",
          "index: 85<br>name: 210813_Pac--003<br>path: D:/ExtractedSignals\\210813_Pac 2021-08-13 10-37-27\\210813_Pac--003.D<br>batch: 210813_Pac 2021-08-13 10-37-27<br>batch_position: 3<br>idle_time: 278.0<br>sample: Blank<br>method: SAA_411_Pac.M<br>timestamp: 2021-08-13 10:48:34<br>detector: G1315C<br>pump: G7116B<br>start_time: 2021-08-13 10:49:08<br>end_time: 2021-08-13 10:53:08<br>runtime: 239.7000000000036",
          "index: 86<br>name: 210813_Pac--004<br>path: D:/ExtractedSignals\\210813_Pac 2021-08-13 10-37-27\\210813_Pac--004.D<br>batch: 210813_Pac 2021-08-13 10-37-27<br>batch_position: 4<br>idle_time: 279.0<br>sample: Blank<br>method: SAA_411_Pac.M<br>timestamp: 2021-08-13 10:53:13<br>detector: G1315C<br>pump: G7110B<br>start_time: 2021-08-13 10:53:47<br>end_time: 2021-08-13 10:57:47<br>runtime: 239.7000000000036",
          "index: 87<br>name: 210813_Pac--005<br>path: D:/ExtractedSignals\\210813_Pac 2021-08-13 10-37-27\\210813_Pac--005.D<br>batch: 210813_Pac 2021-08-13 10-37-27<br>batch_position: 5<br>idle_time: 279.0<br>sample: NaCl 0,9%<br>method: SAA_411_Pac.M<br>timestamp: 2021-08-13 10:57:52<br>detector: G7110B<br>pump: G7110B<br>start_time: 2021-08-13 10:58:26<br>end_time: 2021-08-13 11:02:27<br>runtime: 239.7000000000036",
          "index: 88<br>name: 210813_Pac--006<br>path: D:/ExtractedSignals\\210813_Pac 2021-08-13 10-37-27\\210813_Pac--006.D<br>batch: 210813_Pac 2021-08-13 10-37-27<br>batch_position: 6<br>idle_time: 279.0<br>sample: Blank<br>method: SAA_411_Pac.M<br>timestamp: 2021-08-13 11:02:31<br>detector: G1315C<br>pump: G7110B<br>start_time: 2021-08-13 11:03:05<br>end_time: 2021-08-13 11:07:06<br>runtime: 239.7000000000036",
          "index: 89<br>name: 210813_Pac--007<br>path: D:/ExtractedSignals\\210813_Pac 2021-08-13 10-37-27\\210813_Pac--007.D<br>batch: 210813_Pac 2021-08-13 10-37-27<br>batch_position: 7<br>idle_time: 279.0<br>sample: 0.025 mg/ml<br>method: SAA_411_Pac.M<br>timestamp: 2021-08-13 11:07:10<br>detector: G1315C<br>pump: G7116B<br>start_time: 2021-08-13 11:07:44<br>end_time: 2021-08-13 11:11:45<br>runtime: 239.7000000000036",
          "index: 90<br>name: 210813_Pac--008<br>path: D:/ExtractedSignals\\210813_Pac 2021-08-13 10-37-27\\210813_Pac--008.D<br>batch: 210813_Pac 2021-08-13 10-37-27<br>batch_position: 8<br>idle_time: 279.0<br>sample: Blank<br>method: SAA_411_Pac.M<br>timestamp: 2021-08-13 11:11:49<br>detector: G1315C<br>pump: G7110B<br>start_time: 2021-08-13 11:12:23<br>end_time: 2021-08-13 11:16:23<br>runtime: 239.7000000000036",
          "index: 91<br>name: 210813_Pac--009<br>path: D:/ExtractedSignals\\210813_Pac 2021-08-13 10-37-27\\210813_Pac--009.D<br>batch: 210813_Pac 2021-08-13 10-37-27<br>batch_position: 9<br>idle_time: 279.0<br>sample: 210812/004 :20<br>method: SAA_411_Pac.M<br>timestamp: 2021-08-13 11:16:28<br>detector: G1315C<br>pump: G7110B<br>start_time: 2021-08-13 11:17:02<br>end_time: 2021-08-13 11:21:03<br>runtime: 239.7000000000036",
          "index: 92<br>name: 210813_Pac--010<br>path: D:/ExtractedSignals\\210813_Pac 2021-08-13 10-37-27\\210813_Pac--010.D<br>batch: 210813_Pac 2021-08-13 10-37-27<br>batch_position: 10<br>idle_time: 280.0<br>sample: 210812/004 :20<br>method: SAA_411_Pac.M<br>timestamp: 2021-08-13 11:21:08<br>detector: G1315C<br>pump: G7110B<br>start_time: 2021-08-13 11:21:41<br>end_time: 2021-08-13 11:25:42<br>runtime: 239.7000000000036",
          "index: 93<br>name: 210813_Pac--011<br>path: D:/ExtractedSignals\\210813_Pac 2021-08-13 10-37-27\\210813_Pac--011.D<br>batch: 210813_Pac 2021-08-13 10-37-27<br>batch_position: 11<br>idle_time: 278.0<br>sample: 210812/004 :20<br>method: SAA_411_Pac.M<br>timestamp: 2021-08-13 11:25:46<br>detector: G1315C<br>pump: G7110B<br>start_time: 2021-08-13 11:26:21<br>end_time: 2021-08-13 11:30:21<br>runtime: 239.7000000000036",
          "index: 94<br>name: 210813_Pac--012<br>path: D:/ExtractedSignals\\210813_Pac 2021-08-13 10-37-27\\210813_Pac--012.D<br>batch: 210813_Pac 2021-08-13 10-37-27<br>batch_position: 12<br>idle_time: 280.0<br>sample: Blank<br>method: SAA_411_Pac.M<br>timestamp: 2021-08-13 11:30:26<br>detector: G1315C<br>pump: G7110B<br>start_time: 2021-08-13 11:30:59<br>end_time: 2021-08-13 11:34:59<br>runtime: 239.7000000000036",
          "index: 95<br>name: 210813_Pac--013<br>path: D:/ExtractedSignals\\210813_Pac 2021-08-13 10-37-27\\210813_Pac--013.D<br>batch: 210813_Pac 2021-08-13 10-37-27<br>batch_position: 13<br>idle_time: 278.0<br>sample: 0.025 mg/ml<br>method: SAA_411_Pac.M<br>timestamp: 2021-08-13 11:35:04<br>detector: G1315C<br>pump: G7110B<br>start_time: 2021-08-13 11:35:38<br>end_time: 2021-08-13 11:39:38<br>runtime: 239.7000000000036",
          "index: 96<br>name: 210813_Pac--014<br>path: D:/ExtractedSignals\\210813_Pac 2021-08-13 10-37-27\\210813_Pac--014.D<br>batch: 210813_Pac 2021-08-13 10-37-27<br>batch_position: 14<br>idle_time: 279.0<br>sample: Blank<br>method: SAA_411_Pac.M<br>timestamp: 2021-08-13 11:39:43<br>detector: G1315C<br>pump: G7110B<br>start_time: 2021-08-13 11:40:16<br>end_time: 2021-08-13 11:44:17<br>runtime: 239.7000000000036"
         ],
         "type": "scatter",
         "x": [
          0,
          1,
          2,
          3,
          4,
          5,
          6,
          7,
          8,
          9,
          10,
          11,
          12,
          13,
          14,
          15,
          16,
          17,
          18,
          19,
          20,
          21
         ],
         "y": [
          0.0096998615274724,
          0.0098065679177011,
          0.0090102918053357,
          0.0119368248274576,
          0.012384061176221,
          0.0239087953256293,
          0.0089266866664855,
          0.0065429432637567,
          0.0064488507201952,
          0.0065990608631726,
          0.0107808078244698,
          0.0080554928419134,
          0.0090115687526003,
          0.0060262122518015,
          0.0321726679286861,
          0.0055760646064348,
          0.0026654337136055,
          0.0085252248632677,
          0.0029029074429218,
          0.0086163578468264,
          0.0061422743013794,
          0.0119497170439024
         ]
        },
        {
         "hovertemplate": "<b>%{text}</b><br><b>x: </b>%{x}<br><b>residual_std: </b>%{y}<extra></extra>",
         "mode": "lines",
         "name": "residual_std",
         "text": [
          "index: 17<br>name: 210812_Pac--005<br>path: D:/ExtractedSignals\\210812_Pac 2021-08-12 10-30-07\\210812_Pac--005.D<br>batch: 210812_Pac 2021-08-12 10-30-07<br>batch_position: 5<br>idle_time: 279.0<br>sample: NaCl 0,9%<br>method: SAA_411_Pac.M<br>timestamp: 2021-08-12 10:50:23<br>detector: G1315C<br>pump: G7110B<br>start_time: 2021-08-12 10:50:57<br>end_time: 2021-08-12 10:54:57<br>runtime: 239.7000000000036",
          "index: 18<br>name: 210812_Pac--006<br>path: D:/ExtractedSignals\\210812_Pac 2021-08-12 10-30-07\\210812_Pac--006.D<br>batch: 210812_Pac 2021-08-12 10-30-07<br>batch_position: 6<br>idle_time: 279.0<br>sample: Blank<br>method: SAA_411_Pac.M<br>timestamp: 2021-08-12 10:55:02<br>detector: G1315C<br>pump: G7110B<br>start_time: 2021-08-12 10:55:36<br>end_time: 2021-08-12 10:59:36<br>runtime: 239.7000000000036",
          "index: 19<br>name: 210812_Pac--007<br>path: D:/ExtractedSignals\\210812_Pac 2021-08-12 10-30-07\\210812_Pac--007.D<br>batch: 210812_Pac 2021-08-12 10-30-07<br>batch_position: 7<br>idle_time: 279.0<br>sample: 0.025 mg/ml<br>method: SAA_411_Pac.M<br>timestamp: 2021-08-12 10:59:41<br>detector: G1315C<br>pump: G7110B<br>start_time: 2021-08-12 11:00:15<br>end_time: 2021-08-12 11:04:15<br>runtime: 239.7000000000036",
          "index: 20<br>name: 210812_Pac--008<br>path: D:/ExtractedSignals\\210812_Pac 2021-08-12 10-30-07\\210812_Pac--008.D<br>batch: 210812_Pac 2021-08-12 10-30-07<br>batch_position: 8<br>idle_time: 279.0<br>sample: Blank<br>method: SAA_411_Pac.M<br>timestamp: 2021-08-12 11:04:20<br>detector: G1315C<br>pump: G7110B<br>start_time: 2021-08-12 11:04:54<br>end_time: 2021-08-12 11:08:54<br>runtime: 239.7000000000036",
          "index: 21<br>name: 210812_Pac--009<br>path: D:/ExtractedSignals\\210812_Pac 2021-08-12 10-30-07\\210812_Pac--009.D<br>batch: 210812_Pac 2021-08-12 10-30-07<br>batch_position: 9<br>idle_time: 279.0<br>sample: 210806/036 :10<br>method: SAA_411_Pac.M<br>timestamp: 2021-08-12 11:08:59<br>detector: G1315C<br>pump: G7110B<br>start_time: 2021-08-12 11:09:32<br>end_time: 2021-08-12 11:13:32<br>runtime: 239.7000000000036",
          "index: 22<br>name: 210812_Pac--010<br>path: D:/ExtractedSignals\\210812_Pac 2021-08-12 10-30-07\\210812_Pac--010.D<br>batch: 210812_Pac 2021-08-12 10-30-07<br>batch_position: 10<br>idle_time: 278.0<br>sample: 210806/036 :10<br>method: SAA_411_Pac.M<br>timestamp: 2021-08-12 11:13:37<br>detector: G7110B<br>pump: G7110B<br>start_time: 2021-08-12 11:14:11<br>end_time: 2021-08-12 11:18:11<br>runtime: 239.7000000000036",
          "index: 23<br>name: 210812_Pac--011<br>path: D:/ExtractedSignals\\210812_Pac 2021-08-12 10-30-07\\210812_Pac--011.D<br>batch: 210812_Pac 2021-08-12 10-30-07<br>batch_position: 11<br>idle_time: 279.0<br>sample: 210806/036 :10<br>method: SAA_411_Pac.M<br>timestamp: 2021-08-12 11:18:16<br>detector: G7110B<br>pump: G7110B<br>start_time: 2021-08-12 11:18:50<br>end_time: 2021-08-12 11:22:50<br>runtime: 239.7000000000036",
          "index: 24<br>name: 210812_Pac--012<br>path: D:/ExtractedSignals\\210812_Pac 2021-08-12 10-30-07\\210812_Pac--012.D<br>batch: 210812_Pac 2021-08-12 10-30-07<br>batch_position: 12<br>idle_time: 279.0<br>sample: Blank<br>method: SAA_411_Pac.M<br>timestamp: 2021-08-12 11:22:55<br>detector: G1315C<br>pump: G7110B<br>start_time: 2021-08-12 11:23:29<br>end_time: 2021-08-12 11:27:29<br>runtime: 239.7000000000036",
          "index: 25<br>name: 210812_Pac--013<br>path: D:/ExtractedSignals\\210812_Pac 2021-08-12 10-30-07\\210812_Pac--013.D<br>batch: 210812_Pac 2021-08-12 10-30-07<br>batch_position: 13<br>idle_time: 279.0<br>sample: 0.025 mg/ml<br>method: SAA_411_Pac.M<br>timestamp: 2021-08-12 11:27:34<br>detector: G1315C<br>pump: G7110B<br>start_time: 2021-08-12 11:28:08<br>end_time: 2021-08-12 11:32:08<br>runtime: 239.7000000000036",
          "index: 26<br>name: 210812_Pac--014<br>path: D:/ExtractedSignals\\210812_Pac 2021-08-12 10-30-07\\210812_Pac--014.D<br>batch: 210812_Pac 2021-08-12 10-30-07<br>batch_position: 14<br>idle_time: 279.0<br>sample: Blank<br>method: SAA_411_Pac.M<br>timestamp: 2021-08-12 11:32:13<br>detector: G7110B<br>pump: G7110B<br>start_time: 2021-08-12 11:32:46<br>end_time: 2021-08-12 11:36:47<br>runtime: 239.7000000000036",
          "index: 85<br>name: 210813_Pac--003<br>path: D:/ExtractedSignals\\210813_Pac 2021-08-13 10-37-27\\210813_Pac--003.D<br>batch: 210813_Pac 2021-08-13 10-37-27<br>batch_position: 3<br>idle_time: 278.0<br>sample: Blank<br>method: SAA_411_Pac.M<br>timestamp: 2021-08-13 10:48:34<br>detector: G1315C<br>pump: G7116B<br>start_time: 2021-08-13 10:49:08<br>end_time: 2021-08-13 10:53:08<br>runtime: 239.7000000000036",
          "index: 86<br>name: 210813_Pac--004<br>path: D:/ExtractedSignals\\210813_Pac 2021-08-13 10-37-27\\210813_Pac--004.D<br>batch: 210813_Pac 2021-08-13 10-37-27<br>batch_position: 4<br>idle_time: 279.0<br>sample: Blank<br>method: SAA_411_Pac.M<br>timestamp: 2021-08-13 10:53:13<br>detector: G1315C<br>pump: G7110B<br>start_time: 2021-08-13 10:53:47<br>end_time: 2021-08-13 10:57:47<br>runtime: 239.7000000000036",
          "index: 87<br>name: 210813_Pac--005<br>path: D:/ExtractedSignals\\210813_Pac 2021-08-13 10-37-27\\210813_Pac--005.D<br>batch: 210813_Pac 2021-08-13 10-37-27<br>batch_position: 5<br>idle_time: 279.0<br>sample: NaCl 0,9%<br>method: SAA_411_Pac.M<br>timestamp: 2021-08-13 10:57:52<br>detector: G7110B<br>pump: G7110B<br>start_time: 2021-08-13 10:58:26<br>end_time: 2021-08-13 11:02:27<br>runtime: 239.7000000000036",
          "index: 88<br>name: 210813_Pac--006<br>path: D:/ExtractedSignals\\210813_Pac 2021-08-13 10-37-27\\210813_Pac--006.D<br>batch: 210813_Pac 2021-08-13 10-37-27<br>batch_position: 6<br>idle_time: 279.0<br>sample: Blank<br>method: SAA_411_Pac.M<br>timestamp: 2021-08-13 11:02:31<br>detector: G1315C<br>pump: G7110B<br>start_time: 2021-08-13 11:03:05<br>end_time: 2021-08-13 11:07:06<br>runtime: 239.7000000000036",
          "index: 89<br>name: 210813_Pac--007<br>path: D:/ExtractedSignals\\210813_Pac 2021-08-13 10-37-27\\210813_Pac--007.D<br>batch: 210813_Pac 2021-08-13 10-37-27<br>batch_position: 7<br>idle_time: 279.0<br>sample: 0.025 mg/ml<br>method: SAA_411_Pac.M<br>timestamp: 2021-08-13 11:07:10<br>detector: G1315C<br>pump: G7116B<br>start_time: 2021-08-13 11:07:44<br>end_time: 2021-08-13 11:11:45<br>runtime: 239.7000000000036",
          "index: 90<br>name: 210813_Pac--008<br>path: D:/ExtractedSignals\\210813_Pac 2021-08-13 10-37-27\\210813_Pac--008.D<br>batch: 210813_Pac 2021-08-13 10-37-27<br>batch_position: 8<br>idle_time: 279.0<br>sample: Blank<br>method: SAA_411_Pac.M<br>timestamp: 2021-08-13 11:11:49<br>detector: G1315C<br>pump: G7110B<br>start_time: 2021-08-13 11:12:23<br>end_time: 2021-08-13 11:16:23<br>runtime: 239.7000000000036",
          "index: 91<br>name: 210813_Pac--009<br>path: D:/ExtractedSignals\\210813_Pac 2021-08-13 10-37-27\\210813_Pac--009.D<br>batch: 210813_Pac 2021-08-13 10-37-27<br>batch_position: 9<br>idle_time: 279.0<br>sample: 210812/004 :20<br>method: SAA_411_Pac.M<br>timestamp: 2021-08-13 11:16:28<br>detector: G1315C<br>pump: G7110B<br>start_time: 2021-08-13 11:17:02<br>end_time: 2021-08-13 11:21:03<br>runtime: 239.7000000000036",
          "index: 92<br>name: 210813_Pac--010<br>path: D:/ExtractedSignals\\210813_Pac 2021-08-13 10-37-27\\210813_Pac--010.D<br>batch: 210813_Pac 2021-08-13 10-37-27<br>batch_position: 10<br>idle_time: 280.0<br>sample: 210812/004 :20<br>method: SAA_411_Pac.M<br>timestamp: 2021-08-13 11:21:08<br>detector: G1315C<br>pump: G7110B<br>start_time: 2021-08-13 11:21:41<br>end_time: 2021-08-13 11:25:42<br>runtime: 239.7000000000036",
          "index: 93<br>name: 210813_Pac--011<br>path: D:/ExtractedSignals\\210813_Pac 2021-08-13 10-37-27\\210813_Pac--011.D<br>batch: 210813_Pac 2021-08-13 10-37-27<br>batch_position: 11<br>idle_time: 278.0<br>sample: 210812/004 :20<br>method: SAA_411_Pac.M<br>timestamp: 2021-08-13 11:25:46<br>detector: G1315C<br>pump: G7110B<br>start_time: 2021-08-13 11:26:21<br>end_time: 2021-08-13 11:30:21<br>runtime: 239.7000000000036",
          "index: 94<br>name: 210813_Pac--012<br>path: D:/ExtractedSignals\\210813_Pac 2021-08-13 10-37-27\\210813_Pac--012.D<br>batch: 210813_Pac 2021-08-13 10-37-27<br>batch_position: 12<br>idle_time: 280.0<br>sample: Blank<br>method: SAA_411_Pac.M<br>timestamp: 2021-08-13 11:30:26<br>detector: G1315C<br>pump: G7110B<br>start_time: 2021-08-13 11:30:59<br>end_time: 2021-08-13 11:34:59<br>runtime: 239.7000000000036",
          "index: 95<br>name: 210813_Pac--013<br>path: D:/ExtractedSignals\\210813_Pac 2021-08-13 10-37-27\\210813_Pac--013.D<br>batch: 210813_Pac 2021-08-13 10-37-27<br>batch_position: 13<br>idle_time: 278.0<br>sample: 0.025 mg/ml<br>method: SAA_411_Pac.M<br>timestamp: 2021-08-13 11:35:04<br>detector: G1315C<br>pump: G7110B<br>start_time: 2021-08-13 11:35:38<br>end_time: 2021-08-13 11:39:38<br>runtime: 239.7000000000036",
          "index: 96<br>name: 210813_Pac--014<br>path: D:/ExtractedSignals\\210813_Pac 2021-08-13 10-37-27\\210813_Pac--014.D<br>batch: 210813_Pac 2021-08-13 10-37-27<br>batch_position: 14<br>idle_time: 279.0<br>sample: Blank<br>method: SAA_411_Pac.M<br>timestamp: 2021-08-13 11:39:43<br>detector: G1315C<br>pump: G7110B<br>start_time: 2021-08-13 11:40:16<br>end_time: 2021-08-13 11:44:17<br>runtime: 239.7000000000036"
         ],
         "type": "scatter",
         "x": [
          0,
          1,
          2,
          3,
          4,
          5,
          6,
          7,
          8,
          9,
          10,
          11,
          12,
          13,
          14,
          15,
          16,
          17,
          18,
          19,
          20,
          21
         ],
         "y": [
          0.0017205031686378,
          0.0035823630206617,
          0.0025823271911531,
          0.0054383560363168,
          0.0024977897830568,
          0.0053160367920734,
          0.0020935029892374,
          0.0031160679680108,
          0.0014961497358927,
          0.0033045409580216,
          0.0033586354416818,
          0.0018125655423547,
          0.0017599876146744,
          0.0008411838209332,
          0.0043210690531386,
          0.0018182146840894,
          0,
          0.0022584406780566,
          0.0014821098792187,
          0.0017874972653496,
          0.0018206585404514,
          0.0028697475351032
         ]
        },
        {
         "hovertemplate": "<b>%{text}</b><br><b>x: </b>%{x}<br><b>residual_sum: </b>%{y}<extra></extra>",
         "mode": "lines",
         "name": "residual_sum",
         "text": [
          "index: 17<br>name: 210812_Pac--005<br>path: D:/ExtractedSignals\\210812_Pac 2021-08-12 10-30-07\\210812_Pac--005.D<br>batch: 210812_Pac 2021-08-12 10-30-07<br>batch_position: 5<br>idle_time: 279.0<br>sample: NaCl 0,9%<br>method: SAA_411_Pac.M<br>timestamp: 2021-08-12 10:50:23<br>detector: G1315C<br>pump: G7110B<br>start_time: 2021-08-12 10:50:57<br>end_time: 2021-08-12 10:54:57<br>runtime: 239.7000000000036",
          "index: 18<br>name: 210812_Pac--006<br>path: D:/ExtractedSignals\\210812_Pac 2021-08-12 10-30-07\\210812_Pac--006.D<br>batch: 210812_Pac 2021-08-12 10-30-07<br>batch_position: 6<br>idle_time: 279.0<br>sample: Blank<br>method: SAA_411_Pac.M<br>timestamp: 2021-08-12 10:55:02<br>detector: G1315C<br>pump: G7110B<br>start_time: 2021-08-12 10:55:36<br>end_time: 2021-08-12 10:59:36<br>runtime: 239.7000000000036",
          "index: 19<br>name: 210812_Pac--007<br>path: D:/ExtractedSignals\\210812_Pac 2021-08-12 10-30-07\\210812_Pac--007.D<br>batch: 210812_Pac 2021-08-12 10-30-07<br>batch_position: 7<br>idle_time: 279.0<br>sample: 0.025 mg/ml<br>method: SAA_411_Pac.M<br>timestamp: 2021-08-12 10:59:41<br>detector: G1315C<br>pump: G7110B<br>start_time: 2021-08-12 11:00:15<br>end_time: 2021-08-12 11:04:15<br>runtime: 239.7000000000036",
          "index: 20<br>name: 210812_Pac--008<br>path: D:/ExtractedSignals\\210812_Pac 2021-08-12 10-30-07\\210812_Pac--008.D<br>batch: 210812_Pac 2021-08-12 10-30-07<br>batch_position: 8<br>idle_time: 279.0<br>sample: Blank<br>method: SAA_411_Pac.M<br>timestamp: 2021-08-12 11:04:20<br>detector: G1315C<br>pump: G7110B<br>start_time: 2021-08-12 11:04:54<br>end_time: 2021-08-12 11:08:54<br>runtime: 239.7000000000036",
          "index: 21<br>name: 210812_Pac--009<br>path: D:/ExtractedSignals\\210812_Pac 2021-08-12 10-30-07\\210812_Pac--009.D<br>batch: 210812_Pac 2021-08-12 10-30-07<br>batch_position: 9<br>idle_time: 279.0<br>sample: 210806/036 :10<br>method: SAA_411_Pac.M<br>timestamp: 2021-08-12 11:08:59<br>detector: G1315C<br>pump: G7110B<br>start_time: 2021-08-12 11:09:32<br>end_time: 2021-08-12 11:13:32<br>runtime: 239.7000000000036",
          "index: 22<br>name: 210812_Pac--010<br>path: D:/ExtractedSignals\\210812_Pac 2021-08-12 10-30-07\\210812_Pac--010.D<br>batch: 210812_Pac 2021-08-12 10-30-07<br>batch_position: 10<br>idle_time: 278.0<br>sample: 210806/036 :10<br>method: SAA_411_Pac.M<br>timestamp: 2021-08-12 11:13:37<br>detector: G7110B<br>pump: G7110B<br>start_time: 2021-08-12 11:14:11<br>end_time: 2021-08-12 11:18:11<br>runtime: 239.7000000000036",
          "index: 23<br>name: 210812_Pac--011<br>path: D:/ExtractedSignals\\210812_Pac 2021-08-12 10-30-07\\210812_Pac--011.D<br>batch: 210812_Pac 2021-08-12 10-30-07<br>batch_position: 11<br>idle_time: 279.0<br>sample: 210806/036 :10<br>method: SAA_411_Pac.M<br>timestamp: 2021-08-12 11:18:16<br>detector: G7110B<br>pump: G7110B<br>start_time: 2021-08-12 11:18:50<br>end_time: 2021-08-12 11:22:50<br>runtime: 239.7000000000036",
          "index: 24<br>name: 210812_Pac--012<br>path: D:/ExtractedSignals\\210812_Pac 2021-08-12 10-30-07\\210812_Pac--012.D<br>batch: 210812_Pac 2021-08-12 10-30-07<br>batch_position: 12<br>idle_time: 279.0<br>sample: Blank<br>method: SAA_411_Pac.M<br>timestamp: 2021-08-12 11:22:55<br>detector: G1315C<br>pump: G7110B<br>start_time: 2021-08-12 11:23:29<br>end_time: 2021-08-12 11:27:29<br>runtime: 239.7000000000036",
          "index: 25<br>name: 210812_Pac--013<br>path: D:/ExtractedSignals\\210812_Pac 2021-08-12 10-30-07\\210812_Pac--013.D<br>batch: 210812_Pac 2021-08-12 10-30-07<br>batch_position: 13<br>idle_time: 279.0<br>sample: 0.025 mg/ml<br>method: SAA_411_Pac.M<br>timestamp: 2021-08-12 11:27:34<br>detector: G1315C<br>pump: G7110B<br>start_time: 2021-08-12 11:28:08<br>end_time: 2021-08-12 11:32:08<br>runtime: 239.7000000000036",
          "index: 26<br>name: 210812_Pac--014<br>path: D:/ExtractedSignals\\210812_Pac 2021-08-12 10-30-07\\210812_Pac--014.D<br>batch: 210812_Pac 2021-08-12 10-30-07<br>batch_position: 14<br>idle_time: 279.0<br>sample: Blank<br>method: SAA_411_Pac.M<br>timestamp: 2021-08-12 11:32:13<br>detector: G7110B<br>pump: G7110B<br>start_time: 2021-08-12 11:32:46<br>end_time: 2021-08-12 11:36:47<br>runtime: 239.7000000000036",
          "index: 85<br>name: 210813_Pac--003<br>path: D:/ExtractedSignals\\210813_Pac 2021-08-13 10-37-27\\210813_Pac--003.D<br>batch: 210813_Pac 2021-08-13 10-37-27<br>batch_position: 3<br>idle_time: 278.0<br>sample: Blank<br>method: SAA_411_Pac.M<br>timestamp: 2021-08-13 10:48:34<br>detector: G1315C<br>pump: G7116B<br>start_time: 2021-08-13 10:49:08<br>end_time: 2021-08-13 10:53:08<br>runtime: 239.7000000000036",
          "index: 86<br>name: 210813_Pac--004<br>path: D:/ExtractedSignals\\210813_Pac 2021-08-13 10-37-27\\210813_Pac--004.D<br>batch: 210813_Pac 2021-08-13 10-37-27<br>batch_position: 4<br>idle_time: 279.0<br>sample: Blank<br>method: SAA_411_Pac.M<br>timestamp: 2021-08-13 10:53:13<br>detector: G1315C<br>pump: G7110B<br>start_time: 2021-08-13 10:53:47<br>end_time: 2021-08-13 10:57:47<br>runtime: 239.7000000000036",
          "index: 87<br>name: 210813_Pac--005<br>path: D:/ExtractedSignals\\210813_Pac 2021-08-13 10-37-27\\210813_Pac--005.D<br>batch: 210813_Pac 2021-08-13 10-37-27<br>batch_position: 5<br>idle_time: 279.0<br>sample: NaCl 0,9%<br>method: SAA_411_Pac.M<br>timestamp: 2021-08-13 10:57:52<br>detector: G7110B<br>pump: G7110B<br>start_time: 2021-08-13 10:58:26<br>end_time: 2021-08-13 11:02:27<br>runtime: 239.7000000000036",
          "index: 88<br>name: 210813_Pac--006<br>path: D:/ExtractedSignals\\210813_Pac 2021-08-13 10-37-27\\210813_Pac--006.D<br>batch: 210813_Pac 2021-08-13 10-37-27<br>batch_position: 6<br>idle_time: 279.0<br>sample: Blank<br>method: SAA_411_Pac.M<br>timestamp: 2021-08-13 11:02:31<br>detector: G1315C<br>pump: G7110B<br>start_time: 2021-08-13 11:03:05<br>end_time: 2021-08-13 11:07:06<br>runtime: 239.7000000000036",
          "index: 89<br>name: 210813_Pac--007<br>path: D:/ExtractedSignals\\210813_Pac 2021-08-13 10-37-27\\210813_Pac--007.D<br>batch: 210813_Pac 2021-08-13 10-37-27<br>batch_position: 7<br>idle_time: 279.0<br>sample: 0.025 mg/ml<br>method: SAA_411_Pac.M<br>timestamp: 2021-08-13 11:07:10<br>detector: G1315C<br>pump: G7116B<br>start_time: 2021-08-13 11:07:44<br>end_time: 2021-08-13 11:11:45<br>runtime: 239.7000000000036",
          "index: 90<br>name: 210813_Pac--008<br>path: D:/ExtractedSignals\\210813_Pac 2021-08-13 10-37-27\\210813_Pac--008.D<br>batch: 210813_Pac 2021-08-13 10-37-27<br>batch_position: 8<br>idle_time: 279.0<br>sample: Blank<br>method: SAA_411_Pac.M<br>timestamp: 2021-08-13 11:11:49<br>detector: G1315C<br>pump: G7110B<br>start_time: 2021-08-13 11:12:23<br>end_time: 2021-08-13 11:16:23<br>runtime: 239.7000000000036",
          "index: 91<br>name: 210813_Pac--009<br>path: D:/ExtractedSignals\\210813_Pac 2021-08-13 10-37-27\\210813_Pac--009.D<br>batch: 210813_Pac 2021-08-13 10-37-27<br>batch_position: 9<br>idle_time: 279.0<br>sample: 210812/004 :20<br>method: SAA_411_Pac.M<br>timestamp: 2021-08-13 11:16:28<br>detector: G1315C<br>pump: G7110B<br>start_time: 2021-08-13 11:17:02<br>end_time: 2021-08-13 11:21:03<br>runtime: 239.7000000000036",
          "index: 92<br>name: 210813_Pac--010<br>path: D:/ExtractedSignals\\210813_Pac 2021-08-13 10-37-27\\210813_Pac--010.D<br>batch: 210813_Pac 2021-08-13 10-37-27<br>batch_position: 10<br>idle_time: 280.0<br>sample: 210812/004 :20<br>method: SAA_411_Pac.M<br>timestamp: 2021-08-13 11:21:08<br>detector: G1315C<br>pump: G7110B<br>start_time: 2021-08-13 11:21:41<br>end_time: 2021-08-13 11:25:42<br>runtime: 239.7000000000036",
          "index: 93<br>name: 210813_Pac--011<br>path: D:/ExtractedSignals\\210813_Pac 2021-08-13 10-37-27\\210813_Pac--011.D<br>batch: 210813_Pac 2021-08-13 10-37-27<br>batch_position: 11<br>idle_time: 278.0<br>sample: 210812/004 :20<br>method: SAA_411_Pac.M<br>timestamp: 2021-08-13 11:25:46<br>detector: G1315C<br>pump: G7110B<br>start_time: 2021-08-13 11:26:21<br>end_time: 2021-08-13 11:30:21<br>runtime: 239.7000000000036",
          "index: 94<br>name: 210813_Pac--012<br>path: D:/ExtractedSignals\\210813_Pac 2021-08-13 10-37-27\\210813_Pac--012.D<br>batch: 210813_Pac 2021-08-13 10-37-27<br>batch_position: 12<br>idle_time: 280.0<br>sample: Blank<br>method: SAA_411_Pac.M<br>timestamp: 2021-08-13 11:30:26<br>detector: G1315C<br>pump: G7110B<br>start_time: 2021-08-13 11:30:59<br>end_time: 2021-08-13 11:34:59<br>runtime: 239.7000000000036",
          "index: 95<br>name: 210813_Pac--013<br>path: D:/ExtractedSignals\\210813_Pac 2021-08-13 10-37-27\\210813_Pac--013.D<br>batch: 210813_Pac 2021-08-13 10-37-27<br>batch_position: 13<br>idle_time: 278.0<br>sample: 0.025 mg/ml<br>method: SAA_411_Pac.M<br>timestamp: 2021-08-13 11:35:04<br>detector: G1315C<br>pump: G7110B<br>start_time: 2021-08-13 11:35:38<br>end_time: 2021-08-13 11:39:38<br>runtime: 239.7000000000036",
          "index: 96<br>name: 210813_Pac--014<br>path: D:/ExtractedSignals\\210813_Pac 2021-08-13 10-37-27\\210813_Pac--014.D<br>batch: 210813_Pac 2021-08-13 10-37-27<br>batch_position: 14<br>idle_time: 279.0<br>sample: Blank<br>method: SAA_411_Pac.M<br>timestamp: 2021-08-13 11:39:43<br>detector: G1315C<br>pump: G7110B<br>start_time: 2021-08-13 11:40:16<br>end_time: 2021-08-13 11:44:17<br>runtime: 239.7000000000036"
         ],
         "type": "scatter",
         "x": [
          0,
          1,
          2,
          3,
          4,
          5,
          6,
          7,
          8,
          9,
          10,
          11,
          12,
          13,
          14,
          15,
          16,
          17,
          18,
          19,
          20,
          21
         ],
         "y": [
          0.0096998615274724,
          0.0098065679177011,
          0.0090102918053357,
          0.0119368248274576,
          0.012384061176221,
          0.0239087953256293,
          0.0089266866664855,
          0.0065429432637567,
          0.0064488507201952,
          0.0065990608631726,
          0.0107808078244698,
          0.0080554928419134,
          0.0090115687526003,
          0.0060262122518014,
          0.0321726679286861,
          0.0055760646064348,
          0.0026654337136055,
          0.0085252248632677,
          0.0029029074429218,
          0.0086163578468264,
          0.0061422743013794,
          0.0119497170439024
         ]
        },
        {
         "hovertemplate": "<b>%{text}</b><br><b>x: </b>%{x}<br><b>residual_max: </b>%{y}<extra></extra>",
         "mode": "lines",
         "name": "residual_max",
         "text": [
          "index: 17<br>name: 210812_Pac--005<br>path: D:/ExtractedSignals\\210812_Pac 2021-08-12 10-30-07\\210812_Pac--005.D<br>batch: 210812_Pac 2021-08-12 10-30-07<br>batch_position: 5<br>idle_time: 279.0<br>sample: NaCl 0,9%<br>method: SAA_411_Pac.M<br>timestamp: 2021-08-12 10:50:23<br>detector: G1315C<br>pump: G7110B<br>start_time: 2021-08-12 10:50:57<br>end_time: 2021-08-12 10:54:57<br>runtime: 239.7000000000036",
          "index: 18<br>name: 210812_Pac--006<br>path: D:/ExtractedSignals\\210812_Pac 2021-08-12 10-30-07\\210812_Pac--006.D<br>batch: 210812_Pac 2021-08-12 10-30-07<br>batch_position: 6<br>idle_time: 279.0<br>sample: Blank<br>method: SAA_411_Pac.M<br>timestamp: 2021-08-12 10:55:02<br>detector: G1315C<br>pump: G7110B<br>start_time: 2021-08-12 10:55:36<br>end_time: 2021-08-12 10:59:36<br>runtime: 239.7000000000036",
          "index: 19<br>name: 210812_Pac--007<br>path: D:/ExtractedSignals\\210812_Pac 2021-08-12 10-30-07\\210812_Pac--007.D<br>batch: 210812_Pac 2021-08-12 10-30-07<br>batch_position: 7<br>idle_time: 279.0<br>sample: 0.025 mg/ml<br>method: SAA_411_Pac.M<br>timestamp: 2021-08-12 10:59:41<br>detector: G1315C<br>pump: G7110B<br>start_time: 2021-08-12 11:00:15<br>end_time: 2021-08-12 11:04:15<br>runtime: 239.7000000000036",
          "index: 20<br>name: 210812_Pac--008<br>path: D:/ExtractedSignals\\210812_Pac 2021-08-12 10-30-07\\210812_Pac--008.D<br>batch: 210812_Pac 2021-08-12 10-30-07<br>batch_position: 8<br>idle_time: 279.0<br>sample: Blank<br>method: SAA_411_Pac.M<br>timestamp: 2021-08-12 11:04:20<br>detector: G1315C<br>pump: G7110B<br>start_time: 2021-08-12 11:04:54<br>end_time: 2021-08-12 11:08:54<br>runtime: 239.7000000000036",
          "index: 21<br>name: 210812_Pac--009<br>path: D:/ExtractedSignals\\210812_Pac 2021-08-12 10-30-07\\210812_Pac--009.D<br>batch: 210812_Pac 2021-08-12 10-30-07<br>batch_position: 9<br>idle_time: 279.0<br>sample: 210806/036 :10<br>method: SAA_411_Pac.M<br>timestamp: 2021-08-12 11:08:59<br>detector: G1315C<br>pump: G7110B<br>start_time: 2021-08-12 11:09:32<br>end_time: 2021-08-12 11:13:32<br>runtime: 239.7000000000036",
          "index: 22<br>name: 210812_Pac--010<br>path: D:/ExtractedSignals\\210812_Pac 2021-08-12 10-30-07\\210812_Pac--010.D<br>batch: 210812_Pac 2021-08-12 10-30-07<br>batch_position: 10<br>idle_time: 278.0<br>sample: 210806/036 :10<br>method: SAA_411_Pac.M<br>timestamp: 2021-08-12 11:13:37<br>detector: G7110B<br>pump: G7110B<br>start_time: 2021-08-12 11:14:11<br>end_time: 2021-08-12 11:18:11<br>runtime: 239.7000000000036",
          "index: 23<br>name: 210812_Pac--011<br>path: D:/ExtractedSignals\\210812_Pac 2021-08-12 10-30-07\\210812_Pac--011.D<br>batch: 210812_Pac 2021-08-12 10-30-07<br>batch_position: 11<br>idle_time: 279.0<br>sample: 210806/036 :10<br>method: SAA_411_Pac.M<br>timestamp: 2021-08-12 11:18:16<br>detector: G7110B<br>pump: G7110B<br>start_time: 2021-08-12 11:18:50<br>end_time: 2021-08-12 11:22:50<br>runtime: 239.7000000000036",
          "index: 24<br>name: 210812_Pac--012<br>path: D:/ExtractedSignals\\210812_Pac 2021-08-12 10-30-07\\210812_Pac--012.D<br>batch: 210812_Pac 2021-08-12 10-30-07<br>batch_position: 12<br>idle_time: 279.0<br>sample: Blank<br>method: SAA_411_Pac.M<br>timestamp: 2021-08-12 11:22:55<br>detector: G1315C<br>pump: G7110B<br>start_time: 2021-08-12 11:23:29<br>end_time: 2021-08-12 11:27:29<br>runtime: 239.7000000000036",
          "index: 25<br>name: 210812_Pac--013<br>path: D:/ExtractedSignals\\210812_Pac 2021-08-12 10-30-07\\210812_Pac--013.D<br>batch: 210812_Pac 2021-08-12 10-30-07<br>batch_position: 13<br>idle_time: 279.0<br>sample: 0.025 mg/ml<br>method: SAA_411_Pac.M<br>timestamp: 2021-08-12 11:27:34<br>detector: G1315C<br>pump: G7110B<br>start_time: 2021-08-12 11:28:08<br>end_time: 2021-08-12 11:32:08<br>runtime: 239.7000000000036",
          "index: 26<br>name: 210812_Pac--014<br>path: D:/ExtractedSignals\\210812_Pac 2021-08-12 10-30-07\\210812_Pac--014.D<br>batch: 210812_Pac 2021-08-12 10-30-07<br>batch_position: 14<br>idle_time: 279.0<br>sample: Blank<br>method: SAA_411_Pac.M<br>timestamp: 2021-08-12 11:32:13<br>detector: G7110B<br>pump: G7110B<br>start_time: 2021-08-12 11:32:46<br>end_time: 2021-08-12 11:36:47<br>runtime: 239.7000000000036",
          "index: 85<br>name: 210813_Pac--003<br>path: D:/ExtractedSignals\\210813_Pac 2021-08-13 10-37-27\\210813_Pac--003.D<br>batch: 210813_Pac 2021-08-13 10-37-27<br>batch_position: 3<br>idle_time: 278.0<br>sample: Blank<br>method: SAA_411_Pac.M<br>timestamp: 2021-08-13 10:48:34<br>detector: G1315C<br>pump: G7116B<br>start_time: 2021-08-13 10:49:08<br>end_time: 2021-08-13 10:53:08<br>runtime: 239.7000000000036",
          "index: 86<br>name: 210813_Pac--004<br>path: D:/ExtractedSignals\\210813_Pac 2021-08-13 10-37-27\\210813_Pac--004.D<br>batch: 210813_Pac 2021-08-13 10-37-27<br>batch_position: 4<br>idle_time: 279.0<br>sample: Blank<br>method: SAA_411_Pac.M<br>timestamp: 2021-08-13 10:53:13<br>detector: G1315C<br>pump: G7110B<br>start_time: 2021-08-13 10:53:47<br>end_time: 2021-08-13 10:57:47<br>runtime: 239.7000000000036",
          "index: 87<br>name: 210813_Pac--005<br>path: D:/ExtractedSignals\\210813_Pac 2021-08-13 10-37-27\\210813_Pac--005.D<br>batch: 210813_Pac 2021-08-13 10-37-27<br>batch_position: 5<br>idle_time: 279.0<br>sample: NaCl 0,9%<br>method: SAA_411_Pac.M<br>timestamp: 2021-08-13 10:57:52<br>detector: G7110B<br>pump: G7110B<br>start_time: 2021-08-13 10:58:26<br>end_time: 2021-08-13 11:02:27<br>runtime: 239.7000000000036",
          "index: 88<br>name: 210813_Pac--006<br>path: D:/ExtractedSignals\\210813_Pac 2021-08-13 10-37-27\\210813_Pac--006.D<br>batch: 210813_Pac 2021-08-13 10-37-27<br>batch_position: 6<br>idle_time: 279.0<br>sample: Blank<br>method: SAA_411_Pac.M<br>timestamp: 2021-08-13 11:02:31<br>detector: G1315C<br>pump: G7110B<br>start_time: 2021-08-13 11:03:05<br>end_time: 2021-08-13 11:07:06<br>runtime: 239.7000000000036",
          "index: 89<br>name: 210813_Pac--007<br>path: D:/ExtractedSignals\\210813_Pac 2021-08-13 10-37-27\\210813_Pac--007.D<br>batch: 210813_Pac 2021-08-13 10-37-27<br>batch_position: 7<br>idle_time: 279.0<br>sample: 0.025 mg/ml<br>method: SAA_411_Pac.M<br>timestamp: 2021-08-13 11:07:10<br>detector: G1315C<br>pump: G7116B<br>start_time: 2021-08-13 11:07:44<br>end_time: 2021-08-13 11:11:45<br>runtime: 239.7000000000036",
          "index: 90<br>name: 210813_Pac--008<br>path: D:/ExtractedSignals\\210813_Pac 2021-08-13 10-37-27\\210813_Pac--008.D<br>batch: 210813_Pac 2021-08-13 10-37-27<br>batch_position: 8<br>idle_time: 279.0<br>sample: Blank<br>method: SAA_411_Pac.M<br>timestamp: 2021-08-13 11:11:49<br>detector: G1315C<br>pump: G7110B<br>start_time: 2021-08-13 11:12:23<br>end_time: 2021-08-13 11:16:23<br>runtime: 239.7000000000036",
          "index: 91<br>name: 210813_Pac--009<br>path: D:/ExtractedSignals\\210813_Pac 2021-08-13 10-37-27\\210813_Pac--009.D<br>batch: 210813_Pac 2021-08-13 10-37-27<br>batch_position: 9<br>idle_time: 279.0<br>sample: 210812/004 :20<br>method: SAA_411_Pac.M<br>timestamp: 2021-08-13 11:16:28<br>detector: G1315C<br>pump: G7110B<br>start_time: 2021-08-13 11:17:02<br>end_time: 2021-08-13 11:21:03<br>runtime: 239.7000000000036",
          "index: 92<br>name: 210813_Pac--010<br>path: D:/ExtractedSignals\\210813_Pac 2021-08-13 10-37-27\\210813_Pac--010.D<br>batch: 210813_Pac 2021-08-13 10-37-27<br>batch_position: 10<br>idle_time: 280.0<br>sample: 210812/004 :20<br>method: SAA_411_Pac.M<br>timestamp: 2021-08-13 11:21:08<br>detector: G1315C<br>pump: G7110B<br>start_time: 2021-08-13 11:21:41<br>end_time: 2021-08-13 11:25:42<br>runtime: 239.7000000000036",
          "index: 93<br>name: 210813_Pac--011<br>path: D:/ExtractedSignals\\210813_Pac 2021-08-13 10-37-27\\210813_Pac--011.D<br>batch: 210813_Pac 2021-08-13 10-37-27<br>batch_position: 11<br>idle_time: 278.0<br>sample: 210812/004 :20<br>method: SAA_411_Pac.M<br>timestamp: 2021-08-13 11:25:46<br>detector: G1315C<br>pump: G7110B<br>start_time: 2021-08-13 11:26:21<br>end_time: 2021-08-13 11:30:21<br>runtime: 239.7000000000036",
          "index: 94<br>name: 210813_Pac--012<br>path: D:/ExtractedSignals\\210813_Pac 2021-08-13 10-37-27\\210813_Pac--012.D<br>batch: 210813_Pac 2021-08-13 10-37-27<br>batch_position: 12<br>idle_time: 280.0<br>sample: Blank<br>method: SAA_411_Pac.M<br>timestamp: 2021-08-13 11:30:26<br>detector: G1315C<br>pump: G7110B<br>start_time: 2021-08-13 11:30:59<br>end_time: 2021-08-13 11:34:59<br>runtime: 239.7000000000036",
          "index: 95<br>name: 210813_Pac--013<br>path: D:/ExtractedSignals\\210813_Pac 2021-08-13 10-37-27\\210813_Pac--013.D<br>batch: 210813_Pac 2021-08-13 10-37-27<br>batch_position: 13<br>idle_time: 278.0<br>sample: 0.025 mg/ml<br>method: SAA_411_Pac.M<br>timestamp: 2021-08-13 11:35:04<br>detector: G1315C<br>pump: G7110B<br>start_time: 2021-08-13 11:35:38<br>end_time: 2021-08-13 11:39:38<br>runtime: 239.7000000000036",
          "index: 96<br>name: 210813_Pac--014<br>path: D:/ExtractedSignals\\210813_Pac 2021-08-13 10-37-27\\210813_Pac--014.D<br>batch: 210813_Pac 2021-08-13 10-37-27<br>batch_position: 14<br>idle_time: 279.0<br>sample: Blank<br>method: SAA_411_Pac.M<br>timestamp: 2021-08-13 11:39:43<br>detector: G1315C<br>pump: G7110B<br>start_time: 2021-08-13 11:40:16<br>end_time: 2021-08-13 11:44:17<br>runtime: 239.7000000000036"
         ],
         "type": "scatter",
         "x": [
          0,
          1,
          2,
          3,
          4,
          5,
          6,
          7,
          8,
          9,
          10,
          11,
          12,
          13,
          14,
          15,
          16,
          17,
          18,
          19,
          20,
          21
         ],
         "y": [
          0.0024454398522629,
          0.0030675089025506,
          0.0045889879367038,
          0.0081437650534816,
          0.004138349588992,
          0.0060550150001586,
          0.0023939805723302,
          0.0018217011188012,
          0.0024912225187645,
          0.0050865680810479,
          0.004345759166141,
          0.0034378506219316,
          0.003365560659788,
          0,
          0.0034562799505515,
          0.0032523542413814,
          0.0009260226273003,
          0.0016890499335842,
          0.0041907095772687,
          0.0047041550790935,
          0.0044984494144025,
          0.0026945301590769
         ]
        },
        {
         "hovertemplate": "<b>%{text}</b><br><b>x: </b>%{x}<br><b>seasonal_fft_mean_0: </b>%{y}<extra></extra>",
         "mode": "lines",
         "name": "seasonal_fft_mean_0",
         "text": [
          "index: 17<br>name: 210812_Pac--005<br>path: D:/ExtractedSignals\\210812_Pac 2021-08-12 10-30-07\\210812_Pac--005.D<br>batch: 210812_Pac 2021-08-12 10-30-07<br>batch_position: 5<br>idle_time: 279.0<br>sample: NaCl 0,9%<br>method: SAA_411_Pac.M<br>timestamp: 2021-08-12 10:50:23<br>detector: G1315C<br>pump: G7110B<br>start_time: 2021-08-12 10:50:57<br>end_time: 2021-08-12 10:54:57<br>runtime: 239.7000000000036",
          "index: 18<br>name: 210812_Pac--006<br>path: D:/ExtractedSignals\\210812_Pac 2021-08-12 10-30-07\\210812_Pac--006.D<br>batch: 210812_Pac 2021-08-12 10-30-07<br>batch_position: 6<br>idle_time: 279.0<br>sample: Blank<br>method: SAA_411_Pac.M<br>timestamp: 2021-08-12 10:55:02<br>detector: G1315C<br>pump: G7110B<br>start_time: 2021-08-12 10:55:36<br>end_time: 2021-08-12 10:59:36<br>runtime: 239.7000000000036",
          "index: 19<br>name: 210812_Pac--007<br>path: D:/ExtractedSignals\\210812_Pac 2021-08-12 10-30-07\\210812_Pac--007.D<br>batch: 210812_Pac 2021-08-12 10-30-07<br>batch_position: 7<br>idle_time: 279.0<br>sample: 0.025 mg/ml<br>method: SAA_411_Pac.M<br>timestamp: 2021-08-12 10:59:41<br>detector: G1315C<br>pump: G7110B<br>start_time: 2021-08-12 11:00:15<br>end_time: 2021-08-12 11:04:15<br>runtime: 239.7000000000036",
          "index: 20<br>name: 210812_Pac--008<br>path: D:/ExtractedSignals\\210812_Pac 2021-08-12 10-30-07\\210812_Pac--008.D<br>batch: 210812_Pac 2021-08-12 10-30-07<br>batch_position: 8<br>idle_time: 279.0<br>sample: Blank<br>method: SAA_411_Pac.M<br>timestamp: 2021-08-12 11:04:20<br>detector: G1315C<br>pump: G7110B<br>start_time: 2021-08-12 11:04:54<br>end_time: 2021-08-12 11:08:54<br>runtime: 239.7000000000036",
          "index: 21<br>name: 210812_Pac--009<br>path: D:/ExtractedSignals\\210812_Pac 2021-08-12 10-30-07\\210812_Pac--009.D<br>batch: 210812_Pac 2021-08-12 10-30-07<br>batch_position: 9<br>idle_time: 279.0<br>sample: 210806/036 :10<br>method: SAA_411_Pac.M<br>timestamp: 2021-08-12 11:08:59<br>detector: G1315C<br>pump: G7110B<br>start_time: 2021-08-12 11:09:32<br>end_time: 2021-08-12 11:13:32<br>runtime: 239.7000000000036",
          "index: 22<br>name: 210812_Pac--010<br>path: D:/ExtractedSignals\\210812_Pac 2021-08-12 10-30-07\\210812_Pac--010.D<br>batch: 210812_Pac 2021-08-12 10-30-07<br>batch_position: 10<br>idle_time: 278.0<br>sample: 210806/036 :10<br>method: SAA_411_Pac.M<br>timestamp: 2021-08-12 11:13:37<br>detector: G7110B<br>pump: G7110B<br>start_time: 2021-08-12 11:14:11<br>end_time: 2021-08-12 11:18:11<br>runtime: 239.7000000000036",
          "index: 23<br>name: 210812_Pac--011<br>path: D:/ExtractedSignals\\210812_Pac 2021-08-12 10-30-07\\210812_Pac--011.D<br>batch: 210812_Pac 2021-08-12 10-30-07<br>batch_position: 11<br>idle_time: 279.0<br>sample: 210806/036 :10<br>method: SAA_411_Pac.M<br>timestamp: 2021-08-12 11:18:16<br>detector: G7110B<br>pump: G7110B<br>start_time: 2021-08-12 11:18:50<br>end_time: 2021-08-12 11:22:50<br>runtime: 239.7000000000036",
          "index: 24<br>name: 210812_Pac--012<br>path: D:/ExtractedSignals\\210812_Pac 2021-08-12 10-30-07\\210812_Pac--012.D<br>batch: 210812_Pac 2021-08-12 10-30-07<br>batch_position: 12<br>idle_time: 279.0<br>sample: Blank<br>method: SAA_411_Pac.M<br>timestamp: 2021-08-12 11:22:55<br>detector: G1315C<br>pump: G7110B<br>start_time: 2021-08-12 11:23:29<br>end_time: 2021-08-12 11:27:29<br>runtime: 239.7000000000036",
          "index: 25<br>name: 210812_Pac--013<br>path: D:/ExtractedSignals\\210812_Pac 2021-08-12 10-30-07\\210812_Pac--013.D<br>batch: 210812_Pac 2021-08-12 10-30-07<br>batch_position: 13<br>idle_time: 279.0<br>sample: 0.025 mg/ml<br>method: SAA_411_Pac.M<br>timestamp: 2021-08-12 11:27:34<br>detector: G1315C<br>pump: G7110B<br>start_time: 2021-08-12 11:28:08<br>end_time: 2021-08-12 11:32:08<br>runtime: 239.7000000000036",
          "index: 26<br>name: 210812_Pac--014<br>path: D:/ExtractedSignals\\210812_Pac 2021-08-12 10-30-07\\210812_Pac--014.D<br>batch: 210812_Pac 2021-08-12 10-30-07<br>batch_position: 14<br>idle_time: 279.0<br>sample: Blank<br>method: SAA_411_Pac.M<br>timestamp: 2021-08-12 11:32:13<br>detector: G7110B<br>pump: G7110B<br>start_time: 2021-08-12 11:32:46<br>end_time: 2021-08-12 11:36:47<br>runtime: 239.7000000000036",
          "index: 85<br>name: 210813_Pac--003<br>path: D:/ExtractedSignals\\210813_Pac 2021-08-13 10-37-27\\210813_Pac--003.D<br>batch: 210813_Pac 2021-08-13 10-37-27<br>batch_position: 3<br>idle_time: 278.0<br>sample: Blank<br>method: SAA_411_Pac.M<br>timestamp: 2021-08-13 10:48:34<br>detector: G1315C<br>pump: G7116B<br>start_time: 2021-08-13 10:49:08<br>end_time: 2021-08-13 10:53:08<br>runtime: 239.7000000000036",
          "index: 86<br>name: 210813_Pac--004<br>path: D:/ExtractedSignals\\210813_Pac 2021-08-13 10-37-27\\210813_Pac--004.D<br>batch: 210813_Pac 2021-08-13 10-37-27<br>batch_position: 4<br>idle_time: 279.0<br>sample: Blank<br>method: SAA_411_Pac.M<br>timestamp: 2021-08-13 10:53:13<br>detector: G1315C<br>pump: G7110B<br>start_time: 2021-08-13 10:53:47<br>end_time: 2021-08-13 10:57:47<br>runtime: 239.7000000000036",
          "index: 87<br>name: 210813_Pac--005<br>path: D:/ExtractedSignals\\210813_Pac 2021-08-13 10-37-27\\210813_Pac--005.D<br>batch: 210813_Pac 2021-08-13 10-37-27<br>batch_position: 5<br>idle_time: 279.0<br>sample: NaCl 0,9%<br>method: SAA_411_Pac.M<br>timestamp: 2021-08-13 10:57:52<br>detector: G7110B<br>pump: G7110B<br>start_time: 2021-08-13 10:58:26<br>end_time: 2021-08-13 11:02:27<br>runtime: 239.7000000000036",
          "index: 88<br>name: 210813_Pac--006<br>path: D:/ExtractedSignals\\210813_Pac 2021-08-13 10-37-27\\210813_Pac--006.D<br>batch: 210813_Pac 2021-08-13 10-37-27<br>batch_position: 6<br>idle_time: 279.0<br>sample: Blank<br>method: SAA_411_Pac.M<br>timestamp: 2021-08-13 11:02:31<br>detector: G1315C<br>pump: G7110B<br>start_time: 2021-08-13 11:03:05<br>end_time: 2021-08-13 11:07:06<br>runtime: 239.7000000000036",
          "index: 89<br>name: 210813_Pac--007<br>path: D:/ExtractedSignals\\210813_Pac 2021-08-13 10-37-27\\210813_Pac--007.D<br>batch: 210813_Pac 2021-08-13 10-37-27<br>batch_position: 7<br>idle_time: 279.0<br>sample: 0.025 mg/ml<br>method: SAA_411_Pac.M<br>timestamp: 2021-08-13 11:07:10<br>detector: G1315C<br>pump: G7116B<br>start_time: 2021-08-13 11:07:44<br>end_time: 2021-08-13 11:11:45<br>runtime: 239.7000000000036",
          "index: 90<br>name: 210813_Pac--008<br>path: D:/ExtractedSignals\\210813_Pac 2021-08-13 10-37-27\\210813_Pac--008.D<br>batch: 210813_Pac 2021-08-13 10-37-27<br>batch_position: 8<br>idle_time: 279.0<br>sample: Blank<br>method: SAA_411_Pac.M<br>timestamp: 2021-08-13 11:11:49<br>detector: G1315C<br>pump: G7110B<br>start_time: 2021-08-13 11:12:23<br>end_time: 2021-08-13 11:16:23<br>runtime: 239.7000000000036",
          "index: 91<br>name: 210813_Pac--009<br>path: D:/ExtractedSignals\\210813_Pac 2021-08-13 10-37-27\\210813_Pac--009.D<br>batch: 210813_Pac 2021-08-13 10-37-27<br>batch_position: 9<br>idle_time: 279.0<br>sample: 210812/004 :20<br>method: SAA_411_Pac.M<br>timestamp: 2021-08-13 11:16:28<br>detector: G1315C<br>pump: G7110B<br>start_time: 2021-08-13 11:17:02<br>end_time: 2021-08-13 11:21:03<br>runtime: 239.7000000000036",
          "index: 92<br>name: 210813_Pac--010<br>path: D:/ExtractedSignals\\210813_Pac 2021-08-13 10-37-27\\210813_Pac--010.D<br>batch: 210813_Pac 2021-08-13 10-37-27<br>batch_position: 10<br>idle_time: 280.0<br>sample: 210812/004 :20<br>method: SAA_411_Pac.M<br>timestamp: 2021-08-13 11:21:08<br>detector: G1315C<br>pump: G7110B<br>start_time: 2021-08-13 11:21:41<br>end_time: 2021-08-13 11:25:42<br>runtime: 239.7000000000036",
          "index: 93<br>name: 210813_Pac--011<br>path: D:/ExtractedSignals\\210813_Pac 2021-08-13 10-37-27\\210813_Pac--011.D<br>batch: 210813_Pac 2021-08-13 10-37-27<br>batch_position: 11<br>idle_time: 278.0<br>sample: 210812/004 :20<br>method: SAA_411_Pac.M<br>timestamp: 2021-08-13 11:25:46<br>detector: G1315C<br>pump: G7110B<br>start_time: 2021-08-13 11:26:21<br>end_time: 2021-08-13 11:30:21<br>runtime: 239.7000000000036",
          "index: 94<br>name: 210813_Pac--012<br>path: D:/ExtractedSignals\\210813_Pac 2021-08-13 10-37-27\\210813_Pac--012.D<br>batch: 210813_Pac 2021-08-13 10-37-27<br>batch_position: 12<br>idle_time: 280.0<br>sample: Blank<br>method: SAA_411_Pac.M<br>timestamp: 2021-08-13 11:30:26<br>detector: G1315C<br>pump: G7110B<br>start_time: 2021-08-13 11:30:59<br>end_time: 2021-08-13 11:34:59<br>runtime: 239.7000000000036",
          "index: 95<br>name: 210813_Pac--013<br>path: D:/ExtractedSignals\\210813_Pac 2021-08-13 10-37-27\\210813_Pac--013.D<br>batch: 210813_Pac 2021-08-13 10-37-27<br>batch_position: 13<br>idle_time: 278.0<br>sample: 0.025 mg/ml<br>method: SAA_411_Pac.M<br>timestamp: 2021-08-13 11:35:04<br>detector: G1315C<br>pump: G7110B<br>start_time: 2021-08-13 11:35:38<br>end_time: 2021-08-13 11:39:38<br>runtime: 239.7000000000036",
          "index: 96<br>name: 210813_Pac--014<br>path: D:/ExtractedSignals\\210813_Pac 2021-08-13 10-37-27\\210813_Pac--014.D<br>batch: 210813_Pac 2021-08-13 10-37-27<br>batch_position: 14<br>idle_time: 279.0<br>sample: Blank<br>method: SAA_411_Pac.M<br>timestamp: 2021-08-13 11:39:43<br>detector: G1315C<br>pump: G7110B<br>start_time: 2021-08-13 11:40:16<br>end_time: 2021-08-13 11:44:17<br>runtime: 239.7000000000036"
         ],
         "type": "scatter",
         "x": [
          0,
          1,
          2,
          3,
          4,
          5,
          6,
          7,
          8,
          9,
          10,
          11,
          12,
          13,
          14,
          15,
          16,
          17,
          18,
          19,
          20,
          21
         ],
         "y": [
          0,
          0,
          0,
          0,
          0,
          0,
          0,
          0,
          0,
          0,
          0,
          0,
          0,
          0,
          0,
          0,
          0,
          0,
          0,
          0,
          0,
          0
         ]
        },
        {
         "hovertemplate": "<b>%{text}</b><br><b>x: </b>%{x}<br><b>seasonal_fft_sum_0: </b>%{y}<extra></extra>",
         "mode": "lines",
         "name": "seasonal_fft_sum_0",
         "text": [
          "index: 17<br>name: 210812_Pac--005<br>path: D:/ExtractedSignals\\210812_Pac 2021-08-12 10-30-07\\210812_Pac--005.D<br>batch: 210812_Pac 2021-08-12 10-30-07<br>batch_position: 5<br>idle_time: 279.0<br>sample: NaCl 0,9%<br>method: SAA_411_Pac.M<br>timestamp: 2021-08-12 10:50:23<br>detector: G1315C<br>pump: G7110B<br>start_time: 2021-08-12 10:50:57<br>end_time: 2021-08-12 10:54:57<br>runtime: 239.7000000000036",
          "index: 18<br>name: 210812_Pac--006<br>path: D:/ExtractedSignals\\210812_Pac 2021-08-12 10-30-07\\210812_Pac--006.D<br>batch: 210812_Pac 2021-08-12 10-30-07<br>batch_position: 6<br>idle_time: 279.0<br>sample: Blank<br>method: SAA_411_Pac.M<br>timestamp: 2021-08-12 10:55:02<br>detector: G1315C<br>pump: G7110B<br>start_time: 2021-08-12 10:55:36<br>end_time: 2021-08-12 10:59:36<br>runtime: 239.7000000000036",
          "index: 19<br>name: 210812_Pac--007<br>path: D:/ExtractedSignals\\210812_Pac 2021-08-12 10-30-07\\210812_Pac--007.D<br>batch: 210812_Pac 2021-08-12 10-30-07<br>batch_position: 7<br>idle_time: 279.0<br>sample: 0.025 mg/ml<br>method: SAA_411_Pac.M<br>timestamp: 2021-08-12 10:59:41<br>detector: G1315C<br>pump: G7110B<br>start_time: 2021-08-12 11:00:15<br>end_time: 2021-08-12 11:04:15<br>runtime: 239.7000000000036",
          "index: 20<br>name: 210812_Pac--008<br>path: D:/ExtractedSignals\\210812_Pac 2021-08-12 10-30-07\\210812_Pac--008.D<br>batch: 210812_Pac 2021-08-12 10-30-07<br>batch_position: 8<br>idle_time: 279.0<br>sample: Blank<br>method: SAA_411_Pac.M<br>timestamp: 2021-08-12 11:04:20<br>detector: G1315C<br>pump: G7110B<br>start_time: 2021-08-12 11:04:54<br>end_time: 2021-08-12 11:08:54<br>runtime: 239.7000000000036",
          "index: 21<br>name: 210812_Pac--009<br>path: D:/ExtractedSignals\\210812_Pac 2021-08-12 10-30-07\\210812_Pac--009.D<br>batch: 210812_Pac 2021-08-12 10-30-07<br>batch_position: 9<br>idle_time: 279.0<br>sample: 210806/036 :10<br>method: SAA_411_Pac.M<br>timestamp: 2021-08-12 11:08:59<br>detector: G1315C<br>pump: G7110B<br>start_time: 2021-08-12 11:09:32<br>end_time: 2021-08-12 11:13:32<br>runtime: 239.7000000000036",
          "index: 22<br>name: 210812_Pac--010<br>path: D:/ExtractedSignals\\210812_Pac 2021-08-12 10-30-07\\210812_Pac--010.D<br>batch: 210812_Pac 2021-08-12 10-30-07<br>batch_position: 10<br>idle_time: 278.0<br>sample: 210806/036 :10<br>method: SAA_411_Pac.M<br>timestamp: 2021-08-12 11:13:37<br>detector: G7110B<br>pump: G7110B<br>start_time: 2021-08-12 11:14:11<br>end_time: 2021-08-12 11:18:11<br>runtime: 239.7000000000036",
          "index: 23<br>name: 210812_Pac--011<br>path: D:/ExtractedSignals\\210812_Pac 2021-08-12 10-30-07\\210812_Pac--011.D<br>batch: 210812_Pac 2021-08-12 10-30-07<br>batch_position: 11<br>idle_time: 279.0<br>sample: 210806/036 :10<br>method: SAA_411_Pac.M<br>timestamp: 2021-08-12 11:18:16<br>detector: G7110B<br>pump: G7110B<br>start_time: 2021-08-12 11:18:50<br>end_time: 2021-08-12 11:22:50<br>runtime: 239.7000000000036",
          "index: 24<br>name: 210812_Pac--012<br>path: D:/ExtractedSignals\\210812_Pac 2021-08-12 10-30-07\\210812_Pac--012.D<br>batch: 210812_Pac 2021-08-12 10-30-07<br>batch_position: 12<br>idle_time: 279.0<br>sample: Blank<br>method: SAA_411_Pac.M<br>timestamp: 2021-08-12 11:22:55<br>detector: G1315C<br>pump: G7110B<br>start_time: 2021-08-12 11:23:29<br>end_time: 2021-08-12 11:27:29<br>runtime: 239.7000000000036",
          "index: 25<br>name: 210812_Pac--013<br>path: D:/ExtractedSignals\\210812_Pac 2021-08-12 10-30-07\\210812_Pac--013.D<br>batch: 210812_Pac 2021-08-12 10-30-07<br>batch_position: 13<br>idle_time: 279.0<br>sample: 0.025 mg/ml<br>method: SAA_411_Pac.M<br>timestamp: 2021-08-12 11:27:34<br>detector: G1315C<br>pump: G7110B<br>start_time: 2021-08-12 11:28:08<br>end_time: 2021-08-12 11:32:08<br>runtime: 239.7000000000036",
          "index: 26<br>name: 210812_Pac--014<br>path: D:/ExtractedSignals\\210812_Pac 2021-08-12 10-30-07\\210812_Pac--014.D<br>batch: 210812_Pac 2021-08-12 10-30-07<br>batch_position: 14<br>idle_time: 279.0<br>sample: Blank<br>method: SAA_411_Pac.M<br>timestamp: 2021-08-12 11:32:13<br>detector: G7110B<br>pump: G7110B<br>start_time: 2021-08-12 11:32:46<br>end_time: 2021-08-12 11:36:47<br>runtime: 239.7000000000036",
          "index: 85<br>name: 210813_Pac--003<br>path: D:/ExtractedSignals\\210813_Pac 2021-08-13 10-37-27\\210813_Pac--003.D<br>batch: 210813_Pac 2021-08-13 10-37-27<br>batch_position: 3<br>idle_time: 278.0<br>sample: Blank<br>method: SAA_411_Pac.M<br>timestamp: 2021-08-13 10:48:34<br>detector: G1315C<br>pump: G7116B<br>start_time: 2021-08-13 10:49:08<br>end_time: 2021-08-13 10:53:08<br>runtime: 239.7000000000036",
          "index: 86<br>name: 210813_Pac--004<br>path: D:/ExtractedSignals\\210813_Pac 2021-08-13 10-37-27\\210813_Pac--004.D<br>batch: 210813_Pac 2021-08-13 10-37-27<br>batch_position: 4<br>idle_time: 279.0<br>sample: Blank<br>method: SAA_411_Pac.M<br>timestamp: 2021-08-13 10:53:13<br>detector: G1315C<br>pump: G7110B<br>start_time: 2021-08-13 10:53:47<br>end_time: 2021-08-13 10:57:47<br>runtime: 239.7000000000036",
          "index: 87<br>name: 210813_Pac--005<br>path: D:/ExtractedSignals\\210813_Pac 2021-08-13 10-37-27\\210813_Pac--005.D<br>batch: 210813_Pac 2021-08-13 10-37-27<br>batch_position: 5<br>idle_time: 279.0<br>sample: NaCl 0,9%<br>method: SAA_411_Pac.M<br>timestamp: 2021-08-13 10:57:52<br>detector: G7110B<br>pump: G7110B<br>start_time: 2021-08-13 10:58:26<br>end_time: 2021-08-13 11:02:27<br>runtime: 239.7000000000036",
          "index: 88<br>name: 210813_Pac--006<br>path: D:/ExtractedSignals\\210813_Pac 2021-08-13 10-37-27\\210813_Pac--006.D<br>batch: 210813_Pac 2021-08-13 10-37-27<br>batch_position: 6<br>idle_time: 279.0<br>sample: Blank<br>method: SAA_411_Pac.M<br>timestamp: 2021-08-13 11:02:31<br>detector: G1315C<br>pump: G7110B<br>start_time: 2021-08-13 11:03:05<br>end_time: 2021-08-13 11:07:06<br>runtime: 239.7000000000036",
          "index: 89<br>name: 210813_Pac--007<br>path: D:/ExtractedSignals\\210813_Pac 2021-08-13 10-37-27\\210813_Pac--007.D<br>batch: 210813_Pac 2021-08-13 10-37-27<br>batch_position: 7<br>idle_time: 279.0<br>sample: 0.025 mg/ml<br>method: SAA_411_Pac.M<br>timestamp: 2021-08-13 11:07:10<br>detector: G1315C<br>pump: G7116B<br>start_time: 2021-08-13 11:07:44<br>end_time: 2021-08-13 11:11:45<br>runtime: 239.7000000000036",
          "index: 90<br>name: 210813_Pac--008<br>path: D:/ExtractedSignals\\210813_Pac 2021-08-13 10-37-27\\210813_Pac--008.D<br>batch: 210813_Pac 2021-08-13 10-37-27<br>batch_position: 8<br>idle_time: 279.0<br>sample: Blank<br>method: SAA_411_Pac.M<br>timestamp: 2021-08-13 11:11:49<br>detector: G1315C<br>pump: G7110B<br>start_time: 2021-08-13 11:12:23<br>end_time: 2021-08-13 11:16:23<br>runtime: 239.7000000000036",
          "index: 91<br>name: 210813_Pac--009<br>path: D:/ExtractedSignals\\210813_Pac 2021-08-13 10-37-27\\210813_Pac--009.D<br>batch: 210813_Pac 2021-08-13 10-37-27<br>batch_position: 9<br>idle_time: 279.0<br>sample: 210812/004 :20<br>method: SAA_411_Pac.M<br>timestamp: 2021-08-13 11:16:28<br>detector: G1315C<br>pump: G7110B<br>start_time: 2021-08-13 11:17:02<br>end_time: 2021-08-13 11:21:03<br>runtime: 239.7000000000036",
          "index: 92<br>name: 210813_Pac--010<br>path: D:/ExtractedSignals\\210813_Pac 2021-08-13 10-37-27\\210813_Pac--010.D<br>batch: 210813_Pac 2021-08-13 10-37-27<br>batch_position: 10<br>idle_time: 280.0<br>sample: 210812/004 :20<br>method: SAA_411_Pac.M<br>timestamp: 2021-08-13 11:21:08<br>detector: G1315C<br>pump: G7110B<br>start_time: 2021-08-13 11:21:41<br>end_time: 2021-08-13 11:25:42<br>runtime: 239.7000000000036",
          "index: 93<br>name: 210813_Pac--011<br>path: D:/ExtractedSignals\\210813_Pac 2021-08-13 10-37-27\\210813_Pac--011.D<br>batch: 210813_Pac 2021-08-13 10-37-27<br>batch_position: 11<br>idle_time: 278.0<br>sample: 210812/004 :20<br>method: SAA_411_Pac.M<br>timestamp: 2021-08-13 11:25:46<br>detector: G1315C<br>pump: G7110B<br>start_time: 2021-08-13 11:26:21<br>end_time: 2021-08-13 11:30:21<br>runtime: 239.7000000000036",
          "index: 94<br>name: 210813_Pac--012<br>path: D:/ExtractedSignals\\210813_Pac 2021-08-13 10-37-27\\210813_Pac--012.D<br>batch: 210813_Pac 2021-08-13 10-37-27<br>batch_position: 12<br>idle_time: 280.0<br>sample: Blank<br>method: SAA_411_Pac.M<br>timestamp: 2021-08-13 11:30:26<br>detector: G1315C<br>pump: G7110B<br>start_time: 2021-08-13 11:30:59<br>end_time: 2021-08-13 11:34:59<br>runtime: 239.7000000000036",
          "index: 95<br>name: 210813_Pac--013<br>path: D:/ExtractedSignals\\210813_Pac 2021-08-13 10-37-27\\210813_Pac--013.D<br>batch: 210813_Pac 2021-08-13 10-37-27<br>batch_position: 13<br>idle_time: 278.0<br>sample: 0.025 mg/ml<br>method: SAA_411_Pac.M<br>timestamp: 2021-08-13 11:35:04<br>detector: G1315C<br>pump: G7110B<br>start_time: 2021-08-13 11:35:38<br>end_time: 2021-08-13 11:39:38<br>runtime: 239.7000000000036",
          "index: 96<br>name: 210813_Pac--014<br>path: D:/ExtractedSignals\\210813_Pac 2021-08-13 10-37-27\\210813_Pac--014.D<br>batch: 210813_Pac 2021-08-13 10-37-27<br>batch_position: 14<br>idle_time: 279.0<br>sample: Blank<br>method: SAA_411_Pac.M<br>timestamp: 2021-08-13 11:39:43<br>detector: G1315C<br>pump: G7110B<br>start_time: 2021-08-13 11:40:16<br>end_time: 2021-08-13 11:44:17<br>runtime: 239.7000000000036"
         ],
         "type": "scatter",
         "x": [
          0,
          1,
          2,
          3,
          4,
          5,
          6,
          7,
          8,
          9,
          10,
          11,
          12,
          13,
          14,
          15,
          16,
          17,
          18,
          19,
          20,
          21
         ],
         "y": [
          0,
          0,
          0,
          0,
          0,
          0,
          0,
          0,
          0,
          0,
          0,
          0,
          0,
          0,
          0,
          0,
          0,
          0,
          0,
          0,
          0,
          0
         ]
        },
        {
         "hovertemplate": "<b>%{text}</b><br><b>x: </b>%{x}<br><b>residual_fft_mean_0: </b>%{y}<extra></extra>",
         "mode": "lines",
         "name": "residual_fft_mean_0",
         "text": [
          "index: 17<br>name: 210812_Pac--005<br>path: D:/ExtractedSignals\\210812_Pac 2021-08-12 10-30-07\\210812_Pac--005.D<br>batch: 210812_Pac 2021-08-12 10-30-07<br>batch_position: 5<br>idle_time: 279.0<br>sample: NaCl 0,9%<br>method: SAA_411_Pac.M<br>timestamp: 2021-08-12 10:50:23<br>detector: G1315C<br>pump: G7110B<br>start_time: 2021-08-12 10:50:57<br>end_time: 2021-08-12 10:54:57<br>runtime: 239.7000000000036",
          "index: 18<br>name: 210812_Pac--006<br>path: D:/ExtractedSignals\\210812_Pac 2021-08-12 10-30-07\\210812_Pac--006.D<br>batch: 210812_Pac 2021-08-12 10-30-07<br>batch_position: 6<br>idle_time: 279.0<br>sample: Blank<br>method: SAA_411_Pac.M<br>timestamp: 2021-08-12 10:55:02<br>detector: G1315C<br>pump: G7110B<br>start_time: 2021-08-12 10:55:36<br>end_time: 2021-08-12 10:59:36<br>runtime: 239.7000000000036",
          "index: 19<br>name: 210812_Pac--007<br>path: D:/ExtractedSignals\\210812_Pac 2021-08-12 10-30-07\\210812_Pac--007.D<br>batch: 210812_Pac 2021-08-12 10-30-07<br>batch_position: 7<br>idle_time: 279.0<br>sample: 0.025 mg/ml<br>method: SAA_411_Pac.M<br>timestamp: 2021-08-12 10:59:41<br>detector: G1315C<br>pump: G7110B<br>start_time: 2021-08-12 11:00:15<br>end_time: 2021-08-12 11:04:15<br>runtime: 239.7000000000036",
          "index: 20<br>name: 210812_Pac--008<br>path: D:/ExtractedSignals\\210812_Pac 2021-08-12 10-30-07\\210812_Pac--008.D<br>batch: 210812_Pac 2021-08-12 10-30-07<br>batch_position: 8<br>idle_time: 279.0<br>sample: Blank<br>method: SAA_411_Pac.M<br>timestamp: 2021-08-12 11:04:20<br>detector: G1315C<br>pump: G7110B<br>start_time: 2021-08-12 11:04:54<br>end_time: 2021-08-12 11:08:54<br>runtime: 239.7000000000036",
          "index: 21<br>name: 210812_Pac--009<br>path: D:/ExtractedSignals\\210812_Pac 2021-08-12 10-30-07\\210812_Pac--009.D<br>batch: 210812_Pac 2021-08-12 10-30-07<br>batch_position: 9<br>idle_time: 279.0<br>sample: 210806/036 :10<br>method: SAA_411_Pac.M<br>timestamp: 2021-08-12 11:08:59<br>detector: G1315C<br>pump: G7110B<br>start_time: 2021-08-12 11:09:32<br>end_time: 2021-08-12 11:13:32<br>runtime: 239.7000000000036",
          "index: 22<br>name: 210812_Pac--010<br>path: D:/ExtractedSignals\\210812_Pac 2021-08-12 10-30-07\\210812_Pac--010.D<br>batch: 210812_Pac 2021-08-12 10-30-07<br>batch_position: 10<br>idle_time: 278.0<br>sample: 210806/036 :10<br>method: SAA_411_Pac.M<br>timestamp: 2021-08-12 11:13:37<br>detector: G7110B<br>pump: G7110B<br>start_time: 2021-08-12 11:14:11<br>end_time: 2021-08-12 11:18:11<br>runtime: 239.7000000000036",
          "index: 23<br>name: 210812_Pac--011<br>path: D:/ExtractedSignals\\210812_Pac 2021-08-12 10-30-07\\210812_Pac--011.D<br>batch: 210812_Pac 2021-08-12 10-30-07<br>batch_position: 11<br>idle_time: 279.0<br>sample: 210806/036 :10<br>method: SAA_411_Pac.M<br>timestamp: 2021-08-12 11:18:16<br>detector: G7110B<br>pump: G7110B<br>start_time: 2021-08-12 11:18:50<br>end_time: 2021-08-12 11:22:50<br>runtime: 239.7000000000036",
          "index: 24<br>name: 210812_Pac--012<br>path: D:/ExtractedSignals\\210812_Pac 2021-08-12 10-30-07\\210812_Pac--012.D<br>batch: 210812_Pac 2021-08-12 10-30-07<br>batch_position: 12<br>idle_time: 279.0<br>sample: Blank<br>method: SAA_411_Pac.M<br>timestamp: 2021-08-12 11:22:55<br>detector: G1315C<br>pump: G7110B<br>start_time: 2021-08-12 11:23:29<br>end_time: 2021-08-12 11:27:29<br>runtime: 239.7000000000036",
          "index: 25<br>name: 210812_Pac--013<br>path: D:/ExtractedSignals\\210812_Pac 2021-08-12 10-30-07\\210812_Pac--013.D<br>batch: 210812_Pac 2021-08-12 10-30-07<br>batch_position: 13<br>idle_time: 279.0<br>sample: 0.025 mg/ml<br>method: SAA_411_Pac.M<br>timestamp: 2021-08-12 11:27:34<br>detector: G1315C<br>pump: G7110B<br>start_time: 2021-08-12 11:28:08<br>end_time: 2021-08-12 11:32:08<br>runtime: 239.7000000000036",
          "index: 26<br>name: 210812_Pac--014<br>path: D:/ExtractedSignals\\210812_Pac 2021-08-12 10-30-07\\210812_Pac--014.D<br>batch: 210812_Pac 2021-08-12 10-30-07<br>batch_position: 14<br>idle_time: 279.0<br>sample: Blank<br>method: SAA_411_Pac.M<br>timestamp: 2021-08-12 11:32:13<br>detector: G7110B<br>pump: G7110B<br>start_time: 2021-08-12 11:32:46<br>end_time: 2021-08-12 11:36:47<br>runtime: 239.7000000000036",
          "index: 85<br>name: 210813_Pac--003<br>path: D:/ExtractedSignals\\210813_Pac 2021-08-13 10-37-27\\210813_Pac--003.D<br>batch: 210813_Pac 2021-08-13 10-37-27<br>batch_position: 3<br>idle_time: 278.0<br>sample: Blank<br>method: SAA_411_Pac.M<br>timestamp: 2021-08-13 10:48:34<br>detector: G1315C<br>pump: G7116B<br>start_time: 2021-08-13 10:49:08<br>end_time: 2021-08-13 10:53:08<br>runtime: 239.7000000000036",
          "index: 86<br>name: 210813_Pac--004<br>path: D:/ExtractedSignals\\210813_Pac 2021-08-13 10-37-27\\210813_Pac--004.D<br>batch: 210813_Pac 2021-08-13 10-37-27<br>batch_position: 4<br>idle_time: 279.0<br>sample: Blank<br>method: SAA_411_Pac.M<br>timestamp: 2021-08-13 10:53:13<br>detector: G1315C<br>pump: G7110B<br>start_time: 2021-08-13 10:53:47<br>end_time: 2021-08-13 10:57:47<br>runtime: 239.7000000000036",
          "index: 87<br>name: 210813_Pac--005<br>path: D:/ExtractedSignals\\210813_Pac 2021-08-13 10-37-27\\210813_Pac--005.D<br>batch: 210813_Pac 2021-08-13 10-37-27<br>batch_position: 5<br>idle_time: 279.0<br>sample: NaCl 0,9%<br>method: SAA_411_Pac.M<br>timestamp: 2021-08-13 10:57:52<br>detector: G7110B<br>pump: G7110B<br>start_time: 2021-08-13 10:58:26<br>end_time: 2021-08-13 11:02:27<br>runtime: 239.7000000000036",
          "index: 88<br>name: 210813_Pac--006<br>path: D:/ExtractedSignals\\210813_Pac 2021-08-13 10-37-27\\210813_Pac--006.D<br>batch: 210813_Pac 2021-08-13 10-37-27<br>batch_position: 6<br>idle_time: 279.0<br>sample: Blank<br>method: SAA_411_Pac.M<br>timestamp: 2021-08-13 11:02:31<br>detector: G1315C<br>pump: G7110B<br>start_time: 2021-08-13 11:03:05<br>end_time: 2021-08-13 11:07:06<br>runtime: 239.7000000000036",
          "index: 89<br>name: 210813_Pac--007<br>path: D:/ExtractedSignals\\210813_Pac 2021-08-13 10-37-27\\210813_Pac--007.D<br>batch: 210813_Pac 2021-08-13 10-37-27<br>batch_position: 7<br>idle_time: 279.0<br>sample: 0.025 mg/ml<br>method: SAA_411_Pac.M<br>timestamp: 2021-08-13 11:07:10<br>detector: G1315C<br>pump: G7116B<br>start_time: 2021-08-13 11:07:44<br>end_time: 2021-08-13 11:11:45<br>runtime: 239.7000000000036",
          "index: 90<br>name: 210813_Pac--008<br>path: D:/ExtractedSignals\\210813_Pac 2021-08-13 10-37-27\\210813_Pac--008.D<br>batch: 210813_Pac 2021-08-13 10-37-27<br>batch_position: 8<br>idle_time: 279.0<br>sample: Blank<br>method: SAA_411_Pac.M<br>timestamp: 2021-08-13 11:11:49<br>detector: G1315C<br>pump: G7110B<br>start_time: 2021-08-13 11:12:23<br>end_time: 2021-08-13 11:16:23<br>runtime: 239.7000000000036",
          "index: 91<br>name: 210813_Pac--009<br>path: D:/ExtractedSignals\\210813_Pac 2021-08-13 10-37-27\\210813_Pac--009.D<br>batch: 210813_Pac 2021-08-13 10-37-27<br>batch_position: 9<br>idle_time: 279.0<br>sample: 210812/004 :20<br>method: SAA_411_Pac.M<br>timestamp: 2021-08-13 11:16:28<br>detector: G1315C<br>pump: G7110B<br>start_time: 2021-08-13 11:17:02<br>end_time: 2021-08-13 11:21:03<br>runtime: 239.7000000000036",
          "index: 92<br>name: 210813_Pac--010<br>path: D:/ExtractedSignals\\210813_Pac 2021-08-13 10-37-27\\210813_Pac--010.D<br>batch: 210813_Pac 2021-08-13 10-37-27<br>batch_position: 10<br>idle_time: 280.0<br>sample: 210812/004 :20<br>method: SAA_411_Pac.M<br>timestamp: 2021-08-13 11:21:08<br>detector: G1315C<br>pump: G7110B<br>start_time: 2021-08-13 11:21:41<br>end_time: 2021-08-13 11:25:42<br>runtime: 239.7000000000036",
          "index: 93<br>name: 210813_Pac--011<br>path: D:/ExtractedSignals\\210813_Pac 2021-08-13 10-37-27\\210813_Pac--011.D<br>batch: 210813_Pac 2021-08-13 10-37-27<br>batch_position: 11<br>idle_time: 278.0<br>sample: 210812/004 :20<br>method: SAA_411_Pac.M<br>timestamp: 2021-08-13 11:25:46<br>detector: G1315C<br>pump: G7110B<br>start_time: 2021-08-13 11:26:21<br>end_time: 2021-08-13 11:30:21<br>runtime: 239.7000000000036",
          "index: 94<br>name: 210813_Pac--012<br>path: D:/ExtractedSignals\\210813_Pac 2021-08-13 10-37-27\\210813_Pac--012.D<br>batch: 210813_Pac 2021-08-13 10-37-27<br>batch_position: 12<br>idle_time: 280.0<br>sample: Blank<br>method: SAA_411_Pac.M<br>timestamp: 2021-08-13 11:30:26<br>detector: G1315C<br>pump: G7110B<br>start_time: 2021-08-13 11:30:59<br>end_time: 2021-08-13 11:34:59<br>runtime: 239.7000000000036",
          "index: 95<br>name: 210813_Pac--013<br>path: D:/ExtractedSignals\\210813_Pac 2021-08-13 10-37-27\\210813_Pac--013.D<br>batch: 210813_Pac 2021-08-13 10-37-27<br>batch_position: 13<br>idle_time: 278.0<br>sample: 0.025 mg/ml<br>method: SAA_411_Pac.M<br>timestamp: 2021-08-13 11:35:04<br>detector: G1315C<br>pump: G7110B<br>start_time: 2021-08-13 11:35:38<br>end_time: 2021-08-13 11:39:38<br>runtime: 239.7000000000036",
          "index: 96<br>name: 210813_Pac--014<br>path: D:/ExtractedSignals\\210813_Pac 2021-08-13 10-37-27\\210813_Pac--014.D<br>batch: 210813_Pac 2021-08-13 10-37-27<br>batch_position: 14<br>idle_time: 279.0<br>sample: Blank<br>method: SAA_411_Pac.M<br>timestamp: 2021-08-13 11:39:43<br>detector: G1315C<br>pump: G7110B<br>start_time: 2021-08-13 11:40:16<br>end_time: 2021-08-13 11:44:17<br>runtime: 239.7000000000036"
         ],
         "type": "scatter",
         "x": [
          0,
          1,
          2,
          3,
          4,
          5,
          6,
          7,
          8,
          9,
          10,
          11,
          12,
          13,
          14,
          15,
          16,
          17,
          18,
          19,
          20,
          21
         ],
         "y": [
          0.0197008960358964,
          0.005157131444549,
          0.0057994733898947,
          0.0127015358438923,
          0.0306345494828945,
          0.0118945042676197,
          0.0258061545725335,
          0.0311158717066818,
          0,
          0.0136641966900467,
          0.0329487274078921,
          0.0194402909854788,
          0.0315364933038823,
          0.0160293855803441,
          0.0209361717706702,
          0.0174898018919045,
          0.0078142233648579,
          0.0116494550308527,
          0.0011100912234886,
          0.0194889962560636,
          0.0263727054435831,
          0.0394120935074868
         ]
        },
        {
         "hovertemplate": "<b>%{text}</b><br><b>x: </b>%{x}<br><b>residual_fft_sum_0: </b>%{y}<extra></extra>",
         "mode": "lines",
         "name": "residual_fft_sum_0",
         "text": [
          "index: 17<br>name: 210812_Pac--005<br>path: D:/ExtractedSignals\\210812_Pac 2021-08-12 10-30-07\\210812_Pac--005.D<br>batch: 210812_Pac 2021-08-12 10-30-07<br>batch_position: 5<br>idle_time: 279.0<br>sample: NaCl 0,9%<br>method: SAA_411_Pac.M<br>timestamp: 2021-08-12 10:50:23<br>detector: G1315C<br>pump: G7110B<br>start_time: 2021-08-12 10:50:57<br>end_time: 2021-08-12 10:54:57<br>runtime: 239.7000000000036",
          "index: 18<br>name: 210812_Pac--006<br>path: D:/ExtractedSignals\\210812_Pac 2021-08-12 10-30-07\\210812_Pac--006.D<br>batch: 210812_Pac 2021-08-12 10-30-07<br>batch_position: 6<br>idle_time: 279.0<br>sample: Blank<br>method: SAA_411_Pac.M<br>timestamp: 2021-08-12 10:55:02<br>detector: G1315C<br>pump: G7110B<br>start_time: 2021-08-12 10:55:36<br>end_time: 2021-08-12 10:59:36<br>runtime: 239.7000000000036",
          "index: 19<br>name: 210812_Pac--007<br>path: D:/ExtractedSignals\\210812_Pac 2021-08-12 10-30-07\\210812_Pac--007.D<br>batch: 210812_Pac 2021-08-12 10-30-07<br>batch_position: 7<br>idle_time: 279.0<br>sample: 0.025 mg/ml<br>method: SAA_411_Pac.M<br>timestamp: 2021-08-12 10:59:41<br>detector: G1315C<br>pump: G7110B<br>start_time: 2021-08-12 11:00:15<br>end_time: 2021-08-12 11:04:15<br>runtime: 239.7000000000036",
          "index: 20<br>name: 210812_Pac--008<br>path: D:/ExtractedSignals\\210812_Pac 2021-08-12 10-30-07\\210812_Pac--008.D<br>batch: 210812_Pac 2021-08-12 10-30-07<br>batch_position: 8<br>idle_time: 279.0<br>sample: Blank<br>method: SAA_411_Pac.M<br>timestamp: 2021-08-12 11:04:20<br>detector: G1315C<br>pump: G7110B<br>start_time: 2021-08-12 11:04:54<br>end_time: 2021-08-12 11:08:54<br>runtime: 239.7000000000036",
          "index: 21<br>name: 210812_Pac--009<br>path: D:/ExtractedSignals\\210812_Pac 2021-08-12 10-30-07\\210812_Pac--009.D<br>batch: 210812_Pac 2021-08-12 10-30-07<br>batch_position: 9<br>idle_time: 279.0<br>sample: 210806/036 :10<br>method: SAA_411_Pac.M<br>timestamp: 2021-08-12 11:08:59<br>detector: G1315C<br>pump: G7110B<br>start_time: 2021-08-12 11:09:32<br>end_time: 2021-08-12 11:13:32<br>runtime: 239.7000000000036",
          "index: 22<br>name: 210812_Pac--010<br>path: D:/ExtractedSignals\\210812_Pac 2021-08-12 10-30-07\\210812_Pac--010.D<br>batch: 210812_Pac 2021-08-12 10-30-07<br>batch_position: 10<br>idle_time: 278.0<br>sample: 210806/036 :10<br>method: SAA_411_Pac.M<br>timestamp: 2021-08-12 11:13:37<br>detector: G7110B<br>pump: G7110B<br>start_time: 2021-08-12 11:14:11<br>end_time: 2021-08-12 11:18:11<br>runtime: 239.7000000000036",
          "index: 23<br>name: 210812_Pac--011<br>path: D:/ExtractedSignals\\210812_Pac 2021-08-12 10-30-07\\210812_Pac--011.D<br>batch: 210812_Pac 2021-08-12 10-30-07<br>batch_position: 11<br>idle_time: 279.0<br>sample: 210806/036 :10<br>method: SAA_411_Pac.M<br>timestamp: 2021-08-12 11:18:16<br>detector: G7110B<br>pump: G7110B<br>start_time: 2021-08-12 11:18:50<br>end_time: 2021-08-12 11:22:50<br>runtime: 239.7000000000036",
          "index: 24<br>name: 210812_Pac--012<br>path: D:/ExtractedSignals\\210812_Pac 2021-08-12 10-30-07\\210812_Pac--012.D<br>batch: 210812_Pac 2021-08-12 10-30-07<br>batch_position: 12<br>idle_time: 279.0<br>sample: Blank<br>method: SAA_411_Pac.M<br>timestamp: 2021-08-12 11:22:55<br>detector: G1315C<br>pump: G7110B<br>start_time: 2021-08-12 11:23:29<br>end_time: 2021-08-12 11:27:29<br>runtime: 239.7000000000036",
          "index: 25<br>name: 210812_Pac--013<br>path: D:/ExtractedSignals\\210812_Pac 2021-08-12 10-30-07\\210812_Pac--013.D<br>batch: 210812_Pac 2021-08-12 10-30-07<br>batch_position: 13<br>idle_time: 279.0<br>sample: 0.025 mg/ml<br>method: SAA_411_Pac.M<br>timestamp: 2021-08-12 11:27:34<br>detector: G1315C<br>pump: G7110B<br>start_time: 2021-08-12 11:28:08<br>end_time: 2021-08-12 11:32:08<br>runtime: 239.7000000000036",
          "index: 26<br>name: 210812_Pac--014<br>path: D:/ExtractedSignals\\210812_Pac 2021-08-12 10-30-07\\210812_Pac--014.D<br>batch: 210812_Pac 2021-08-12 10-30-07<br>batch_position: 14<br>idle_time: 279.0<br>sample: Blank<br>method: SAA_411_Pac.M<br>timestamp: 2021-08-12 11:32:13<br>detector: G7110B<br>pump: G7110B<br>start_time: 2021-08-12 11:32:46<br>end_time: 2021-08-12 11:36:47<br>runtime: 239.7000000000036",
          "index: 85<br>name: 210813_Pac--003<br>path: D:/ExtractedSignals\\210813_Pac 2021-08-13 10-37-27\\210813_Pac--003.D<br>batch: 210813_Pac 2021-08-13 10-37-27<br>batch_position: 3<br>idle_time: 278.0<br>sample: Blank<br>method: SAA_411_Pac.M<br>timestamp: 2021-08-13 10:48:34<br>detector: G1315C<br>pump: G7116B<br>start_time: 2021-08-13 10:49:08<br>end_time: 2021-08-13 10:53:08<br>runtime: 239.7000000000036",
          "index: 86<br>name: 210813_Pac--004<br>path: D:/ExtractedSignals\\210813_Pac 2021-08-13 10-37-27\\210813_Pac--004.D<br>batch: 210813_Pac 2021-08-13 10-37-27<br>batch_position: 4<br>idle_time: 279.0<br>sample: Blank<br>method: SAA_411_Pac.M<br>timestamp: 2021-08-13 10:53:13<br>detector: G1315C<br>pump: G7110B<br>start_time: 2021-08-13 10:53:47<br>end_time: 2021-08-13 10:57:47<br>runtime: 239.7000000000036",
          "index: 87<br>name: 210813_Pac--005<br>path: D:/ExtractedSignals\\210813_Pac 2021-08-13 10-37-27\\210813_Pac--005.D<br>batch: 210813_Pac 2021-08-13 10-37-27<br>batch_position: 5<br>idle_time: 279.0<br>sample: NaCl 0,9%<br>method: SAA_411_Pac.M<br>timestamp: 2021-08-13 10:57:52<br>detector: G7110B<br>pump: G7110B<br>start_time: 2021-08-13 10:58:26<br>end_time: 2021-08-13 11:02:27<br>runtime: 239.7000000000036",
          "index: 88<br>name: 210813_Pac--006<br>path: D:/ExtractedSignals\\210813_Pac 2021-08-13 10-37-27\\210813_Pac--006.D<br>batch: 210813_Pac 2021-08-13 10-37-27<br>batch_position: 6<br>idle_time: 279.0<br>sample: Blank<br>method: SAA_411_Pac.M<br>timestamp: 2021-08-13 11:02:31<br>detector: G1315C<br>pump: G7110B<br>start_time: 2021-08-13 11:03:05<br>end_time: 2021-08-13 11:07:06<br>runtime: 239.7000000000036",
          "index: 89<br>name: 210813_Pac--007<br>path: D:/ExtractedSignals\\210813_Pac 2021-08-13 10-37-27\\210813_Pac--007.D<br>batch: 210813_Pac 2021-08-13 10-37-27<br>batch_position: 7<br>idle_time: 279.0<br>sample: 0.025 mg/ml<br>method: SAA_411_Pac.M<br>timestamp: 2021-08-13 11:07:10<br>detector: G1315C<br>pump: G7116B<br>start_time: 2021-08-13 11:07:44<br>end_time: 2021-08-13 11:11:45<br>runtime: 239.7000000000036",
          "index: 90<br>name: 210813_Pac--008<br>path: D:/ExtractedSignals\\210813_Pac 2021-08-13 10-37-27\\210813_Pac--008.D<br>batch: 210813_Pac 2021-08-13 10-37-27<br>batch_position: 8<br>idle_time: 279.0<br>sample: Blank<br>method: SAA_411_Pac.M<br>timestamp: 2021-08-13 11:11:49<br>detector: G1315C<br>pump: G7110B<br>start_time: 2021-08-13 11:12:23<br>end_time: 2021-08-13 11:16:23<br>runtime: 239.7000000000036",
          "index: 91<br>name: 210813_Pac--009<br>path: D:/ExtractedSignals\\210813_Pac 2021-08-13 10-37-27\\210813_Pac--009.D<br>batch: 210813_Pac 2021-08-13 10-37-27<br>batch_position: 9<br>idle_time: 279.0<br>sample: 210812/004 :20<br>method: SAA_411_Pac.M<br>timestamp: 2021-08-13 11:16:28<br>detector: G1315C<br>pump: G7110B<br>start_time: 2021-08-13 11:17:02<br>end_time: 2021-08-13 11:21:03<br>runtime: 239.7000000000036",
          "index: 92<br>name: 210813_Pac--010<br>path: D:/ExtractedSignals\\210813_Pac 2021-08-13 10-37-27\\210813_Pac--010.D<br>batch: 210813_Pac 2021-08-13 10-37-27<br>batch_position: 10<br>idle_time: 280.0<br>sample: 210812/004 :20<br>method: SAA_411_Pac.M<br>timestamp: 2021-08-13 11:21:08<br>detector: G1315C<br>pump: G7110B<br>start_time: 2021-08-13 11:21:41<br>end_time: 2021-08-13 11:25:42<br>runtime: 239.7000000000036",
          "index: 93<br>name: 210813_Pac--011<br>path: D:/ExtractedSignals\\210813_Pac 2021-08-13 10-37-27\\210813_Pac--011.D<br>batch: 210813_Pac 2021-08-13 10-37-27<br>batch_position: 11<br>idle_time: 278.0<br>sample: 210812/004 :20<br>method: SAA_411_Pac.M<br>timestamp: 2021-08-13 11:25:46<br>detector: G1315C<br>pump: G7110B<br>start_time: 2021-08-13 11:26:21<br>end_time: 2021-08-13 11:30:21<br>runtime: 239.7000000000036",
          "index: 94<br>name: 210813_Pac--012<br>path: D:/ExtractedSignals\\210813_Pac 2021-08-13 10-37-27\\210813_Pac--012.D<br>batch: 210813_Pac 2021-08-13 10-37-27<br>batch_position: 12<br>idle_time: 280.0<br>sample: Blank<br>method: SAA_411_Pac.M<br>timestamp: 2021-08-13 11:30:26<br>detector: G1315C<br>pump: G7110B<br>start_time: 2021-08-13 11:30:59<br>end_time: 2021-08-13 11:34:59<br>runtime: 239.7000000000036",
          "index: 95<br>name: 210813_Pac--013<br>path: D:/ExtractedSignals\\210813_Pac 2021-08-13 10-37-27\\210813_Pac--013.D<br>batch: 210813_Pac 2021-08-13 10-37-27<br>batch_position: 13<br>idle_time: 278.0<br>sample: 0.025 mg/ml<br>method: SAA_411_Pac.M<br>timestamp: 2021-08-13 11:35:04<br>detector: G1315C<br>pump: G7110B<br>start_time: 2021-08-13 11:35:38<br>end_time: 2021-08-13 11:39:38<br>runtime: 239.7000000000036",
          "index: 96<br>name: 210813_Pac--014<br>path: D:/ExtractedSignals\\210813_Pac 2021-08-13 10-37-27\\210813_Pac--014.D<br>batch: 210813_Pac 2021-08-13 10-37-27<br>batch_position: 14<br>idle_time: 279.0<br>sample: Blank<br>method: SAA_411_Pac.M<br>timestamp: 2021-08-13 11:39:43<br>detector: G1315C<br>pump: G7110B<br>start_time: 2021-08-13 11:40:16<br>end_time: 2021-08-13 11:44:17<br>runtime: 239.7000000000036"
         ],
         "type": "scatter",
         "x": [
          0,
          1,
          2,
          3,
          4,
          5,
          6,
          7,
          8,
          9,
          10,
          11,
          12,
          13,
          14,
          15,
          16,
          17,
          18,
          19,
          20,
          21
         ],
         "y": [
          0.0197008960358964,
          0.005157131444549,
          0.0057994733898947,
          0.0127015358438923,
          0.0306345494828945,
          0.0118945042676197,
          0.0258061545725335,
          0.0311158717066818,
          0,
          0.0136641966900467,
          0.0329487274078921,
          0.0194402909854788,
          0.0315364933038823,
          0.0160293855803441,
          0.0209361717706702,
          0.0174898018919045,
          0.0078142233648579,
          0.0116494550308527,
          0.0011100912234886,
          0.0194889962560636,
          0.0263727054435831,
          0.0394120935074868
         ]
        },
        {
         "hovertemplate": "<b>%{text}</b><br><b>x: </b>%{x}<br><b>seasonal_fft_mean_1: </b>%{y}<extra></extra>",
         "mode": "lines",
         "name": "seasonal_fft_mean_1",
         "text": [
          "index: 17<br>name: 210812_Pac--005<br>path: D:/ExtractedSignals\\210812_Pac 2021-08-12 10-30-07\\210812_Pac--005.D<br>batch: 210812_Pac 2021-08-12 10-30-07<br>batch_position: 5<br>idle_time: 279.0<br>sample: NaCl 0,9%<br>method: SAA_411_Pac.M<br>timestamp: 2021-08-12 10:50:23<br>detector: G1315C<br>pump: G7110B<br>start_time: 2021-08-12 10:50:57<br>end_time: 2021-08-12 10:54:57<br>runtime: 239.7000000000036",
          "index: 18<br>name: 210812_Pac--006<br>path: D:/ExtractedSignals\\210812_Pac 2021-08-12 10-30-07\\210812_Pac--006.D<br>batch: 210812_Pac 2021-08-12 10-30-07<br>batch_position: 6<br>idle_time: 279.0<br>sample: Blank<br>method: SAA_411_Pac.M<br>timestamp: 2021-08-12 10:55:02<br>detector: G1315C<br>pump: G7110B<br>start_time: 2021-08-12 10:55:36<br>end_time: 2021-08-12 10:59:36<br>runtime: 239.7000000000036",
          "index: 19<br>name: 210812_Pac--007<br>path: D:/ExtractedSignals\\210812_Pac 2021-08-12 10-30-07\\210812_Pac--007.D<br>batch: 210812_Pac 2021-08-12 10-30-07<br>batch_position: 7<br>idle_time: 279.0<br>sample: 0.025 mg/ml<br>method: SAA_411_Pac.M<br>timestamp: 2021-08-12 10:59:41<br>detector: G1315C<br>pump: G7110B<br>start_time: 2021-08-12 11:00:15<br>end_time: 2021-08-12 11:04:15<br>runtime: 239.7000000000036",
          "index: 20<br>name: 210812_Pac--008<br>path: D:/ExtractedSignals\\210812_Pac 2021-08-12 10-30-07\\210812_Pac--008.D<br>batch: 210812_Pac 2021-08-12 10-30-07<br>batch_position: 8<br>idle_time: 279.0<br>sample: Blank<br>method: SAA_411_Pac.M<br>timestamp: 2021-08-12 11:04:20<br>detector: G1315C<br>pump: G7110B<br>start_time: 2021-08-12 11:04:54<br>end_time: 2021-08-12 11:08:54<br>runtime: 239.7000000000036",
          "index: 21<br>name: 210812_Pac--009<br>path: D:/ExtractedSignals\\210812_Pac 2021-08-12 10-30-07\\210812_Pac--009.D<br>batch: 210812_Pac 2021-08-12 10-30-07<br>batch_position: 9<br>idle_time: 279.0<br>sample: 210806/036 :10<br>method: SAA_411_Pac.M<br>timestamp: 2021-08-12 11:08:59<br>detector: G1315C<br>pump: G7110B<br>start_time: 2021-08-12 11:09:32<br>end_time: 2021-08-12 11:13:32<br>runtime: 239.7000000000036",
          "index: 22<br>name: 210812_Pac--010<br>path: D:/ExtractedSignals\\210812_Pac 2021-08-12 10-30-07\\210812_Pac--010.D<br>batch: 210812_Pac 2021-08-12 10-30-07<br>batch_position: 10<br>idle_time: 278.0<br>sample: 210806/036 :10<br>method: SAA_411_Pac.M<br>timestamp: 2021-08-12 11:13:37<br>detector: G7110B<br>pump: G7110B<br>start_time: 2021-08-12 11:14:11<br>end_time: 2021-08-12 11:18:11<br>runtime: 239.7000000000036",
          "index: 23<br>name: 210812_Pac--011<br>path: D:/ExtractedSignals\\210812_Pac 2021-08-12 10-30-07\\210812_Pac--011.D<br>batch: 210812_Pac 2021-08-12 10-30-07<br>batch_position: 11<br>idle_time: 279.0<br>sample: 210806/036 :10<br>method: SAA_411_Pac.M<br>timestamp: 2021-08-12 11:18:16<br>detector: G7110B<br>pump: G7110B<br>start_time: 2021-08-12 11:18:50<br>end_time: 2021-08-12 11:22:50<br>runtime: 239.7000000000036",
          "index: 24<br>name: 210812_Pac--012<br>path: D:/ExtractedSignals\\210812_Pac 2021-08-12 10-30-07\\210812_Pac--012.D<br>batch: 210812_Pac 2021-08-12 10-30-07<br>batch_position: 12<br>idle_time: 279.0<br>sample: Blank<br>method: SAA_411_Pac.M<br>timestamp: 2021-08-12 11:22:55<br>detector: G1315C<br>pump: G7110B<br>start_time: 2021-08-12 11:23:29<br>end_time: 2021-08-12 11:27:29<br>runtime: 239.7000000000036",
          "index: 25<br>name: 210812_Pac--013<br>path: D:/ExtractedSignals\\210812_Pac 2021-08-12 10-30-07\\210812_Pac--013.D<br>batch: 210812_Pac 2021-08-12 10-30-07<br>batch_position: 13<br>idle_time: 279.0<br>sample: 0.025 mg/ml<br>method: SAA_411_Pac.M<br>timestamp: 2021-08-12 11:27:34<br>detector: G1315C<br>pump: G7110B<br>start_time: 2021-08-12 11:28:08<br>end_time: 2021-08-12 11:32:08<br>runtime: 239.7000000000036",
          "index: 26<br>name: 210812_Pac--014<br>path: D:/ExtractedSignals\\210812_Pac 2021-08-12 10-30-07\\210812_Pac--014.D<br>batch: 210812_Pac 2021-08-12 10-30-07<br>batch_position: 14<br>idle_time: 279.0<br>sample: Blank<br>method: SAA_411_Pac.M<br>timestamp: 2021-08-12 11:32:13<br>detector: G7110B<br>pump: G7110B<br>start_time: 2021-08-12 11:32:46<br>end_time: 2021-08-12 11:36:47<br>runtime: 239.7000000000036",
          "index: 85<br>name: 210813_Pac--003<br>path: D:/ExtractedSignals\\210813_Pac 2021-08-13 10-37-27\\210813_Pac--003.D<br>batch: 210813_Pac 2021-08-13 10-37-27<br>batch_position: 3<br>idle_time: 278.0<br>sample: Blank<br>method: SAA_411_Pac.M<br>timestamp: 2021-08-13 10:48:34<br>detector: G1315C<br>pump: G7116B<br>start_time: 2021-08-13 10:49:08<br>end_time: 2021-08-13 10:53:08<br>runtime: 239.7000000000036",
          "index: 86<br>name: 210813_Pac--004<br>path: D:/ExtractedSignals\\210813_Pac 2021-08-13 10-37-27\\210813_Pac--004.D<br>batch: 210813_Pac 2021-08-13 10-37-27<br>batch_position: 4<br>idle_time: 279.0<br>sample: Blank<br>method: SAA_411_Pac.M<br>timestamp: 2021-08-13 10:53:13<br>detector: G1315C<br>pump: G7110B<br>start_time: 2021-08-13 10:53:47<br>end_time: 2021-08-13 10:57:47<br>runtime: 239.7000000000036",
          "index: 87<br>name: 210813_Pac--005<br>path: D:/ExtractedSignals\\210813_Pac 2021-08-13 10-37-27\\210813_Pac--005.D<br>batch: 210813_Pac 2021-08-13 10-37-27<br>batch_position: 5<br>idle_time: 279.0<br>sample: NaCl 0,9%<br>method: SAA_411_Pac.M<br>timestamp: 2021-08-13 10:57:52<br>detector: G7110B<br>pump: G7110B<br>start_time: 2021-08-13 10:58:26<br>end_time: 2021-08-13 11:02:27<br>runtime: 239.7000000000036",
          "index: 88<br>name: 210813_Pac--006<br>path: D:/ExtractedSignals\\210813_Pac 2021-08-13 10-37-27\\210813_Pac--006.D<br>batch: 210813_Pac 2021-08-13 10-37-27<br>batch_position: 6<br>idle_time: 279.0<br>sample: Blank<br>method: SAA_411_Pac.M<br>timestamp: 2021-08-13 11:02:31<br>detector: G1315C<br>pump: G7110B<br>start_time: 2021-08-13 11:03:05<br>end_time: 2021-08-13 11:07:06<br>runtime: 239.7000000000036",
          "index: 89<br>name: 210813_Pac--007<br>path: D:/ExtractedSignals\\210813_Pac 2021-08-13 10-37-27\\210813_Pac--007.D<br>batch: 210813_Pac 2021-08-13 10-37-27<br>batch_position: 7<br>idle_time: 279.0<br>sample: 0.025 mg/ml<br>method: SAA_411_Pac.M<br>timestamp: 2021-08-13 11:07:10<br>detector: G1315C<br>pump: G7116B<br>start_time: 2021-08-13 11:07:44<br>end_time: 2021-08-13 11:11:45<br>runtime: 239.7000000000036",
          "index: 90<br>name: 210813_Pac--008<br>path: D:/ExtractedSignals\\210813_Pac 2021-08-13 10-37-27\\210813_Pac--008.D<br>batch: 210813_Pac 2021-08-13 10-37-27<br>batch_position: 8<br>idle_time: 279.0<br>sample: Blank<br>method: SAA_411_Pac.M<br>timestamp: 2021-08-13 11:11:49<br>detector: G1315C<br>pump: G7110B<br>start_time: 2021-08-13 11:12:23<br>end_time: 2021-08-13 11:16:23<br>runtime: 239.7000000000036",
          "index: 91<br>name: 210813_Pac--009<br>path: D:/ExtractedSignals\\210813_Pac 2021-08-13 10-37-27\\210813_Pac--009.D<br>batch: 210813_Pac 2021-08-13 10-37-27<br>batch_position: 9<br>idle_time: 279.0<br>sample: 210812/004 :20<br>method: SAA_411_Pac.M<br>timestamp: 2021-08-13 11:16:28<br>detector: G1315C<br>pump: G7110B<br>start_time: 2021-08-13 11:17:02<br>end_time: 2021-08-13 11:21:03<br>runtime: 239.7000000000036",
          "index: 92<br>name: 210813_Pac--010<br>path: D:/ExtractedSignals\\210813_Pac 2021-08-13 10-37-27\\210813_Pac--010.D<br>batch: 210813_Pac 2021-08-13 10-37-27<br>batch_position: 10<br>idle_time: 280.0<br>sample: 210812/004 :20<br>method: SAA_411_Pac.M<br>timestamp: 2021-08-13 11:21:08<br>detector: G1315C<br>pump: G7110B<br>start_time: 2021-08-13 11:21:41<br>end_time: 2021-08-13 11:25:42<br>runtime: 239.7000000000036",
          "index: 93<br>name: 210813_Pac--011<br>path: D:/ExtractedSignals\\210813_Pac 2021-08-13 10-37-27\\210813_Pac--011.D<br>batch: 210813_Pac 2021-08-13 10-37-27<br>batch_position: 11<br>idle_time: 278.0<br>sample: 210812/004 :20<br>method: SAA_411_Pac.M<br>timestamp: 2021-08-13 11:25:46<br>detector: G1315C<br>pump: G7110B<br>start_time: 2021-08-13 11:26:21<br>end_time: 2021-08-13 11:30:21<br>runtime: 239.7000000000036",
          "index: 94<br>name: 210813_Pac--012<br>path: D:/ExtractedSignals\\210813_Pac 2021-08-13 10-37-27\\210813_Pac--012.D<br>batch: 210813_Pac 2021-08-13 10-37-27<br>batch_position: 12<br>idle_time: 280.0<br>sample: Blank<br>method: SAA_411_Pac.M<br>timestamp: 2021-08-13 11:30:26<br>detector: G1315C<br>pump: G7110B<br>start_time: 2021-08-13 11:30:59<br>end_time: 2021-08-13 11:34:59<br>runtime: 239.7000000000036",
          "index: 95<br>name: 210813_Pac--013<br>path: D:/ExtractedSignals\\210813_Pac 2021-08-13 10-37-27\\210813_Pac--013.D<br>batch: 210813_Pac 2021-08-13 10-37-27<br>batch_position: 13<br>idle_time: 278.0<br>sample: 0.025 mg/ml<br>method: SAA_411_Pac.M<br>timestamp: 2021-08-13 11:35:04<br>detector: G1315C<br>pump: G7110B<br>start_time: 2021-08-13 11:35:38<br>end_time: 2021-08-13 11:39:38<br>runtime: 239.7000000000036",
          "index: 96<br>name: 210813_Pac--014<br>path: D:/ExtractedSignals\\210813_Pac 2021-08-13 10-37-27\\210813_Pac--014.D<br>batch: 210813_Pac 2021-08-13 10-37-27<br>batch_position: 14<br>idle_time: 279.0<br>sample: Blank<br>method: SAA_411_Pac.M<br>timestamp: 2021-08-13 11:39:43<br>detector: G1315C<br>pump: G7110B<br>start_time: 2021-08-13 11:40:16<br>end_time: 2021-08-13 11:44:17<br>runtime: 239.7000000000036"
         ],
         "type": "scatter",
         "x": [
          0,
          1,
          2,
          3,
          4,
          5,
          6,
          7,
          8,
          9,
          10,
          11,
          12,
          13,
          14,
          15,
          16,
          17,
          18,
          19,
          20,
          21
         ],
         "y": [
          0.0114574269900408,
          0.0093874362842248,
          0.0020685847907406,
          0.0076704773879444,
          0.0218304575676972,
          0.0013434430981819,
          0.0117125030799681,
          0.0009768619655928,
          0.0068159037415893,
          0.0061515794365744,
          0.0177139802834048,
          0.0327631177906959,
          0.0115020094867602,
          0.0230813421163376,
          0.014942726251551,
          0.0206695305375078,
          0.0124160067750632,
          0.0044154833366805,
          0.0029492507204416,
          0.0086887109153527,
          0.00822897084217,
          0.0197262310746548
         ]
        },
        {
         "hovertemplate": "<b>%{text}</b><br><b>x: </b>%{x}<br><b>seasonal_fft_sum_1: </b>%{y}<extra></extra>",
         "mode": "lines",
         "name": "seasonal_fft_sum_1",
         "text": [
          "index: 17<br>name: 210812_Pac--005<br>path: D:/ExtractedSignals\\210812_Pac 2021-08-12 10-30-07\\210812_Pac--005.D<br>batch: 210812_Pac 2021-08-12 10-30-07<br>batch_position: 5<br>idle_time: 279.0<br>sample: NaCl 0,9%<br>method: SAA_411_Pac.M<br>timestamp: 2021-08-12 10:50:23<br>detector: G1315C<br>pump: G7110B<br>start_time: 2021-08-12 10:50:57<br>end_time: 2021-08-12 10:54:57<br>runtime: 239.7000000000036",
          "index: 18<br>name: 210812_Pac--006<br>path: D:/ExtractedSignals\\210812_Pac 2021-08-12 10-30-07\\210812_Pac--006.D<br>batch: 210812_Pac 2021-08-12 10-30-07<br>batch_position: 6<br>idle_time: 279.0<br>sample: Blank<br>method: SAA_411_Pac.M<br>timestamp: 2021-08-12 10:55:02<br>detector: G1315C<br>pump: G7110B<br>start_time: 2021-08-12 10:55:36<br>end_time: 2021-08-12 10:59:36<br>runtime: 239.7000000000036",
          "index: 19<br>name: 210812_Pac--007<br>path: D:/ExtractedSignals\\210812_Pac 2021-08-12 10-30-07\\210812_Pac--007.D<br>batch: 210812_Pac 2021-08-12 10-30-07<br>batch_position: 7<br>idle_time: 279.0<br>sample: 0.025 mg/ml<br>method: SAA_411_Pac.M<br>timestamp: 2021-08-12 10:59:41<br>detector: G1315C<br>pump: G7110B<br>start_time: 2021-08-12 11:00:15<br>end_time: 2021-08-12 11:04:15<br>runtime: 239.7000000000036",
          "index: 20<br>name: 210812_Pac--008<br>path: D:/ExtractedSignals\\210812_Pac 2021-08-12 10-30-07\\210812_Pac--008.D<br>batch: 210812_Pac 2021-08-12 10-30-07<br>batch_position: 8<br>idle_time: 279.0<br>sample: Blank<br>method: SAA_411_Pac.M<br>timestamp: 2021-08-12 11:04:20<br>detector: G1315C<br>pump: G7110B<br>start_time: 2021-08-12 11:04:54<br>end_time: 2021-08-12 11:08:54<br>runtime: 239.7000000000036",
          "index: 21<br>name: 210812_Pac--009<br>path: D:/ExtractedSignals\\210812_Pac 2021-08-12 10-30-07\\210812_Pac--009.D<br>batch: 210812_Pac 2021-08-12 10-30-07<br>batch_position: 9<br>idle_time: 279.0<br>sample: 210806/036 :10<br>method: SAA_411_Pac.M<br>timestamp: 2021-08-12 11:08:59<br>detector: G1315C<br>pump: G7110B<br>start_time: 2021-08-12 11:09:32<br>end_time: 2021-08-12 11:13:32<br>runtime: 239.7000000000036",
          "index: 22<br>name: 210812_Pac--010<br>path: D:/ExtractedSignals\\210812_Pac 2021-08-12 10-30-07\\210812_Pac--010.D<br>batch: 210812_Pac 2021-08-12 10-30-07<br>batch_position: 10<br>idle_time: 278.0<br>sample: 210806/036 :10<br>method: SAA_411_Pac.M<br>timestamp: 2021-08-12 11:13:37<br>detector: G7110B<br>pump: G7110B<br>start_time: 2021-08-12 11:14:11<br>end_time: 2021-08-12 11:18:11<br>runtime: 239.7000000000036",
          "index: 23<br>name: 210812_Pac--011<br>path: D:/ExtractedSignals\\210812_Pac 2021-08-12 10-30-07\\210812_Pac--011.D<br>batch: 210812_Pac 2021-08-12 10-30-07<br>batch_position: 11<br>idle_time: 279.0<br>sample: 210806/036 :10<br>method: SAA_411_Pac.M<br>timestamp: 2021-08-12 11:18:16<br>detector: G7110B<br>pump: G7110B<br>start_time: 2021-08-12 11:18:50<br>end_time: 2021-08-12 11:22:50<br>runtime: 239.7000000000036",
          "index: 24<br>name: 210812_Pac--012<br>path: D:/ExtractedSignals\\210812_Pac 2021-08-12 10-30-07\\210812_Pac--012.D<br>batch: 210812_Pac 2021-08-12 10-30-07<br>batch_position: 12<br>idle_time: 279.0<br>sample: Blank<br>method: SAA_411_Pac.M<br>timestamp: 2021-08-12 11:22:55<br>detector: G1315C<br>pump: G7110B<br>start_time: 2021-08-12 11:23:29<br>end_time: 2021-08-12 11:27:29<br>runtime: 239.7000000000036",
          "index: 25<br>name: 210812_Pac--013<br>path: D:/ExtractedSignals\\210812_Pac 2021-08-12 10-30-07\\210812_Pac--013.D<br>batch: 210812_Pac 2021-08-12 10-30-07<br>batch_position: 13<br>idle_time: 279.0<br>sample: 0.025 mg/ml<br>method: SAA_411_Pac.M<br>timestamp: 2021-08-12 11:27:34<br>detector: G1315C<br>pump: G7110B<br>start_time: 2021-08-12 11:28:08<br>end_time: 2021-08-12 11:32:08<br>runtime: 239.7000000000036",
          "index: 26<br>name: 210812_Pac--014<br>path: D:/ExtractedSignals\\210812_Pac 2021-08-12 10-30-07\\210812_Pac--014.D<br>batch: 210812_Pac 2021-08-12 10-30-07<br>batch_position: 14<br>idle_time: 279.0<br>sample: Blank<br>method: SAA_411_Pac.M<br>timestamp: 2021-08-12 11:32:13<br>detector: G7110B<br>pump: G7110B<br>start_time: 2021-08-12 11:32:46<br>end_time: 2021-08-12 11:36:47<br>runtime: 239.7000000000036",
          "index: 85<br>name: 210813_Pac--003<br>path: D:/ExtractedSignals\\210813_Pac 2021-08-13 10-37-27\\210813_Pac--003.D<br>batch: 210813_Pac 2021-08-13 10-37-27<br>batch_position: 3<br>idle_time: 278.0<br>sample: Blank<br>method: SAA_411_Pac.M<br>timestamp: 2021-08-13 10:48:34<br>detector: G1315C<br>pump: G7116B<br>start_time: 2021-08-13 10:49:08<br>end_time: 2021-08-13 10:53:08<br>runtime: 239.7000000000036",
          "index: 86<br>name: 210813_Pac--004<br>path: D:/ExtractedSignals\\210813_Pac 2021-08-13 10-37-27\\210813_Pac--004.D<br>batch: 210813_Pac 2021-08-13 10-37-27<br>batch_position: 4<br>idle_time: 279.0<br>sample: Blank<br>method: SAA_411_Pac.M<br>timestamp: 2021-08-13 10:53:13<br>detector: G1315C<br>pump: G7110B<br>start_time: 2021-08-13 10:53:47<br>end_time: 2021-08-13 10:57:47<br>runtime: 239.7000000000036",
          "index: 87<br>name: 210813_Pac--005<br>path: D:/ExtractedSignals\\210813_Pac 2021-08-13 10-37-27\\210813_Pac--005.D<br>batch: 210813_Pac 2021-08-13 10-37-27<br>batch_position: 5<br>idle_time: 279.0<br>sample: NaCl 0,9%<br>method: SAA_411_Pac.M<br>timestamp: 2021-08-13 10:57:52<br>detector: G7110B<br>pump: G7110B<br>start_time: 2021-08-13 10:58:26<br>end_time: 2021-08-13 11:02:27<br>runtime: 239.7000000000036",
          "index: 88<br>name: 210813_Pac--006<br>path: D:/ExtractedSignals\\210813_Pac 2021-08-13 10-37-27\\210813_Pac--006.D<br>batch: 210813_Pac 2021-08-13 10-37-27<br>batch_position: 6<br>idle_time: 279.0<br>sample: Blank<br>method: SAA_411_Pac.M<br>timestamp: 2021-08-13 11:02:31<br>detector: G1315C<br>pump: G7110B<br>start_time: 2021-08-13 11:03:05<br>end_time: 2021-08-13 11:07:06<br>runtime: 239.7000000000036",
          "index: 89<br>name: 210813_Pac--007<br>path: D:/ExtractedSignals\\210813_Pac 2021-08-13 10-37-27\\210813_Pac--007.D<br>batch: 210813_Pac 2021-08-13 10-37-27<br>batch_position: 7<br>idle_time: 279.0<br>sample: 0.025 mg/ml<br>method: SAA_411_Pac.M<br>timestamp: 2021-08-13 11:07:10<br>detector: G1315C<br>pump: G7116B<br>start_time: 2021-08-13 11:07:44<br>end_time: 2021-08-13 11:11:45<br>runtime: 239.7000000000036",
          "index: 90<br>name: 210813_Pac--008<br>path: D:/ExtractedSignals\\210813_Pac 2021-08-13 10-37-27\\210813_Pac--008.D<br>batch: 210813_Pac 2021-08-13 10-37-27<br>batch_position: 8<br>idle_time: 279.0<br>sample: Blank<br>method: SAA_411_Pac.M<br>timestamp: 2021-08-13 11:11:49<br>detector: G1315C<br>pump: G7110B<br>start_time: 2021-08-13 11:12:23<br>end_time: 2021-08-13 11:16:23<br>runtime: 239.7000000000036",
          "index: 91<br>name: 210813_Pac--009<br>path: D:/ExtractedSignals\\210813_Pac 2021-08-13 10-37-27\\210813_Pac--009.D<br>batch: 210813_Pac 2021-08-13 10-37-27<br>batch_position: 9<br>idle_time: 279.0<br>sample: 210812/004 :20<br>method: SAA_411_Pac.M<br>timestamp: 2021-08-13 11:16:28<br>detector: G1315C<br>pump: G7110B<br>start_time: 2021-08-13 11:17:02<br>end_time: 2021-08-13 11:21:03<br>runtime: 239.7000000000036",
          "index: 92<br>name: 210813_Pac--010<br>path: D:/ExtractedSignals\\210813_Pac 2021-08-13 10-37-27\\210813_Pac--010.D<br>batch: 210813_Pac 2021-08-13 10-37-27<br>batch_position: 10<br>idle_time: 280.0<br>sample: 210812/004 :20<br>method: SAA_411_Pac.M<br>timestamp: 2021-08-13 11:21:08<br>detector: G1315C<br>pump: G7110B<br>start_time: 2021-08-13 11:21:41<br>end_time: 2021-08-13 11:25:42<br>runtime: 239.7000000000036",
          "index: 93<br>name: 210813_Pac--011<br>path: D:/ExtractedSignals\\210813_Pac 2021-08-13 10-37-27\\210813_Pac--011.D<br>batch: 210813_Pac 2021-08-13 10-37-27<br>batch_position: 11<br>idle_time: 278.0<br>sample: 210812/004 :20<br>method: SAA_411_Pac.M<br>timestamp: 2021-08-13 11:25:46<br>detector: G1315C<br>pump: G7110B<br>start_time: 2021-08-13 11:26:21<br>end_time: 2021-08-13 11:30:21<br>runtime: 239.7000000000036",
          "index: 94<br>name: 210813_Pac--012<br>path: D:/ExtractedSignals\\210813_Pac 2021-08-13 10-37-27\\210813_Pac--012.D<br>batch: 210813_Pac 2021-08-13 10-37-27<br>batch_position: 12<br>idle_time: 280.0<br>sample: Blank<br>method: SAA_411_Pac.M<br>timestamp: 2021-08-13 11:30:26<br>detector: G1315C<br>pump: G7110B<br>start_time: 2021-08-13 11:30:59<br>end_time: 2021-08-13 11:34:59<br>runtime: 239.7000000000036",
          "index: 95<br>name: 210813_Pac--013<br>path: D:/ExtractedSignals\\210813_Pac 2021-08-13 10-37-27\\210813_Pac--013.D<br>batch: 210813_Pac 2021-08-13 10-37-27<br>batch_position: 13<br>idle_time: 278.0<br>sample: 0.025 mg/ml<br>method: SAA_411_Pac.M<br>timestamp: 2021-08-13 11:35:04<br>detector: G1315C<br>pump: G7110B<br>start_time: 2021-08-13 11:35:38<br>end_time: 2021-08-13 11:39:38<br>runtime: 239.7000000000036",
          "index: 96<br>name: 210813_Pac--014<br>path: D:/ExtractedSignals\\210813_Pac 2021-08-13 10-37-27\\210813_Pac--014.D<br>batch: 210813_Pac 2021-08-13 10-37-27<br>batch_position: 14<br>idle_time: 279.0<br>sample: Blank<br>method: SAA_411_Pac.M<br>timestamp: 2021-08-13 11:39:43<br>detector: G1315C<br>pump: G7110B<br>start_time: 2021-08-13 11:40:16<br>end_time: 2021-08-13 11:44:17<br>runtime: 239.7000000000036"
         ],
         "type": "scatter",
         "x": [
          0,
          1,
          2,
          3,
          4,
          5,
          6,
          7,
          8,
          9,
          10,
          11,
          12,
          13,
          14,
          15,
          16,
          17,
          18,
          19,
          20,
          21
         ],
         "y": [
          0.0114574269900408,
          0.0093874362842248,
          0.0020685847907406,
          0.0076704773879444,
          0.0218304575676972,
          0.0013434430981819,
          0.0117125030799681,
          0.0009768619655928,
          0.0068159037415893,
          0.0061515794365744,
          0.0177139802834048,
          0.0327631177906959,
          0.0115020094867602,
          0.0230813421163376,
          0.014942726251551,
          0.0206695305375078,
          0.0124160067750632,
          0.0044154833366805,
          0.0029492507204416,
          0.0086887109153527,
          0.00822897084217,
          0.0197262310746548
         ]
        },
        {
         "hovertemplate": "<b>%{text}</b><br><b>x: </b>%{x}<br><b>residual_fft_mean_1: </b>%{y}<extra></extra>",
         "mode": "lines",
         "name": "residual_fft_mean_1",
         "text": [
          "index: 17<br>name: 210812_Pac--005<br>path: D:/ExtractedSignals\\210812_Pac 2021-08-12 10-30-07\\210812_Pac--005.D<br>batch: 210812_Pac 2021-08-12 10-30-07<br>batch_position: 5<br>idle_time: 279.0<br>sample: NaCl 0,9%<br>method: SAA_411_Pac.M<br>timestamp: 2021-08-12 10:50:23<br>detector: G1315C<br>pump: G7110B<br>start_time: 2021-08-12 10:50:57<br>end_time: 2021-08-12 10:54:57<br>runtime: 239.7000000000036",
          "index: 18<br>name: 210812_Pac--006<br>path: D:/ExtractedSignals\\210812_Pac 2021-08-12 10-30-07\\210812_Pac--006.D<br>batch: 210812_Pac 2021-08-12 10-30-07<br>batch_position: 6<br>idle_time: 279.0<br>sample: Blank<br>method: SAA_411_Pac.M<br>timestamp: 2021-08-12 10:55:02<br>detector: G1315C<br>pump: G7110B<br>start_time: 2021-08-12 10:55:36<br>end_time: 2021-08-12 10:59:36<br>runtime: 239.7000000000036",
          "index: 19<br>name: 210812_Pac--007<br>path: D:/ExtractedSignals\\210812_Pac 2021-08-12 10-30-07\\210812_Pac--007.D<br>batch: 210812_Pac 2021-08-12 10-30-07<br>batch_position: 7<br>idle_time: 279.0<br>sample: 0.025 mg/ml<br>method: SAA_411_Pac.M<br>timestamp: 2021-08-12 10:59:41<br>detector: G1315C<br>pump: G7110B<br>start_time: 2021-08-12 11:00:15<br>end_time: 2021-08-12 11:04:15<br>runtime: 239.7000000000036",
          "index: 20<br>name: 210812_Pac--008<br>path: D:/ExtractedSignals\\210812_Pac 2021-08-12 10-30-07\\210812_Pac--008.D<br>batch: 210812_Pac 2021-08-12 10-30-07<br>batch_position: 8<br>idle_time: 279.0<br>sample: Blank<br>method: SAA_411_Pac.M<br>timestamp: 2021-08-12 11:04:20<br>detector: G1315C<br>pump: G7110B<br>start_time: 2021-08-12 11:04:54<br>end_time: 2021-08-12 11:08:54<br>runtime: 239.7000000000036",
          "index: 21<br>name: 210812_Pac--009<br>path: D:/ExtractedSignals\\210812_Pac 2021-08-12 10-30-07\\210812_Pac--009.D<br>batch: 210812_Pac 2021-08-12 10-30-07<br>batch_position: 9<br>idle_time: 279.0<br>sample: 210806/036 :10<br>method: SAA_411_Pac.M<br>timestamp: 2021-08-12 11:08:59<br>detector: G1315C<br>pump: G7110B<br>start_time: 2021-08-12 11:09:32<br>end_time: 2021-08-12 11:13:32<br>runtime: 239.7000000000036",
          "index: 22<br>name: 210812_Pac--010<br>path: D:/ExtractedSignals\\210812_Pac 2021-08-12 10-30-07\\210812_Pac--010.D<br>batch: 210812_Pac 2021-08-12 10-30-07<br>batch_position: 10<br>idle_time: 278.0<br>sample: 210806/036 :10<br>method: SAA_411_Pac.M<br>timestamp: 2021-08-12 11:13:37<br>detector: G7110B<br>pump: G7110B<br>start_time: 2021-08-12 11:14:11<br>end_time: 2021-08-12 11:18:11<br>runtime: 239.7000000000036",
          "index: 23<br>name: 210812_Pac--011<br>path: D:/ExtractedSignals\\210812_Pac 2021-08-12 10-30-07\\210812_Pac--011.D<br>batch: 210812_Pac 2021-08-12 10-30-07<br>batch_position: 11<br>idle_time: 279.0<br>sample: 210806/036 :10<br>method: SAA_411_Pac.M<br>timestamp: 2021-08-12 11:18:16<br>detector: G7110B<br>pump: G7110B<br>start_time: 2021-08-12 11:18:50<br>end_time: 2021-08-12 11:22:50<br>runtime: 239.7000000000036",
          "index: 24<br>name: 210812_Pac--012<br>path: D:/ExtractedSignals\\210812_Pac 2021-08-12 10-30-07\\210812_Pac--012.D<br>batch: 210812_Pac 2021-08-12 10-30-07<br>batch_position: 12<br>idle_time: 279.0<br>sample: Blank<br>method: SAA_411_Pac.M<br>timestamp: 2021-08-12 11:22:55<br>detector: G1315C<br>pump: G7110B<br>start_time: 2021-08-12 11:23:29<br>end_time: 2021-08-12 11:27:29<br>runtime: 239.7000000000036",
          "index: 25<br>name: 210812_Pac--013<br>path: D:/ExtractedSignals\\210812_Pac 2021-08-12 10-30-07\\210812_Pac--013.D<br>batch: 210812_Pac 2021-08-12 10-30-07<br>batch_position: 13<br>idle_time: 279.0<br>sample: 0.025 mg/ml<br>method: SAA_411_Pac.M<br>timestamp: 2021-08-12 11:27:34<br>detector: G1315C<br>pump: G7110B<br>start_time: 2021-08-12 11:28:08<br>end_time: 2021-08-12 11:32:08<br>runtime: 239.7000000000036",
          "index: 26<br>name: 210812_Pac--014<br>path: D:/ExtractedSignals\\210812_Pac 2021-08-12 10-30-07\\210812_Pac--014.D<br>batch: 210812_Pac 2021-08-12 10-30-07<br>batch_position: 14<br>idle_time: 279.0<br>sample: Blank<br>method: SAA_411_Pac.M<br>timestamp: 2021-08-12 11:32:13<br>detector: G7110B<br>pump: G7110B<br>start_time: 2021-08-12 11:32:46<br>end_time: 2021-08-12 11:36:47<br>runtime: 239.7000000000036",
          "index: 85<br>name: 210813_Pac--003<br>path: D:/ExtractedSignals\\210813_Pac 2021-08-13 10-37-27\\210813_Pac--003.D<br>batch: 210813_Pac 2021-08-13 10-37-27<br>batch_position: 3<br>idle_time: 278.0<br>sample: Blank<br>method: SAA_411_Pac.M<br>timestamp: 2021-08-13 10:48:34<br>detector: G1315C<br>pump: G7116B<br>start_time: 2021-08-13 10:49:08<br>end_time: 2021-08-13 10:53:08<br>runtime: 239.7000000000036",
          "index: 86<br>name: 210813_Pac--004<br>path: D:/ExtractedSignals\\210813_Pac 2021-08-13 10-37-27\\210813_Pac--004.D<br>batch: 210813_Pac 2021-08-13 10-37-27<br>batch_position: 4<br>idle_time: 279.0<br>sample: Blank<br>method: SAA_411_Pac.M<br>timestamp: 2021-08-13 10:53:13<br>detector: G1315C<br>pump: G7110B<br>start_time: 2021-08-13 10:53:47<br>end_time: 2021-08-13 10:57:47<br>runtime: 239.7000000000036",
          "index: 87<br>name: 210813_Pac--005<br>path: D:/ExtractedSignals\\210813_Pac 2021-08-13 10-37-27\\210813_Pac--005.D<br>batch: 210813_Pac 2021-08-13 10-37-27<br>batch_position: 5<br>idle_time: 279.0<br>sample: NaCl 0,9%<br>method: SAA_411_Pac.M<br>timestamp: 2021-08-13 10:57:52<br>detector: G7110B<br>pump: G7110B<br>start_time: 2021-08-13 10:58:26<br>end_time: 2021-08-13 11:02:27<br>runtime: 239.7000000000036",
          "index: 88<br>name: 210813_Pac--006<br>path: D:/ExtractedSignals\\210813_Pac 2021-08-13 10-37-27\\210813_Pac--006.D<br>batch: 210813_Pac 2021-08-13 10-37-27<br>batch_position: 6<br>idle_time: 279.0<br>sample: Blank<br>method: SAA_411_Pac.M<br>timestamp: 2021-08-13 11:02:31<br>detector: G1315C<br>pump: G7110B<br>start_time: 2021-08-13 11:03:05<br>end_time: 2021-08-13 11:07:06<br>runtime: 239.7000000000036",
          "index: 89<br>name: 210813_Pac--007<br>path: D:/ExtractedSignals\\210813_Pac 2021-08-13 10-37-27\\210813_Pac--007.D<br>batch: 210813_Pac 2021-08-13 10-37-27<br>batch_position: 7<br>idle_time: 279.0<br>sample: 0.025 mg/ml<br>method: SAA_411_Pac.M<br>timestamp: 2021-08-13 11:07:10<br>detector: G1315C<br>pump: G7116B<br>start_time: 2021-08-13 11:07:44<br>end_time: 2021-08-13 11:11:45<br>runtime: 239.7000000000036",
          "index: 90<br>name: 210813_Pac--008<br>path: D:/ExtractedSignals\\210813_Pac 2021-08-13 10-37-27\\210813_Pac--008.D<br>batch: 210813_Pac 2021-08-13 10-37-27<br>batch_position: 8<br>idle_time: 279.0<br>sample: Blank<br>method: SAA_411_Pac.M<br>timestamp: 2021-08-13 11:11:49<br>detector: G1315C<br>pump: G7110B<br>start_time: 2021-08-13 11:12:23<br>end_time: 2021-08-13 11:16:23<br>runtime: 239.7000000000036",
          "index: 91<br>name: 210813_Pac--009<br>path: D:/ExtractedSignals\\210813_Pac 2021-08-13 10-37-27\\210813_Pac--009.D<br>batch: 210813_Pac 2021-08-13 10-37-27<br>batch_position: 9<br>idle_time: 279.0<br>sample: 210812/004 :20<br>method: SAA_411_Pac.M<br>timestamp: 2021-08-13 11:16:28<br>detector: G1315C<br>pump: G7110B<br>start_time: 2021-08-13 11:17:02<br>end_time: 2021-08-13 11:21:03<br>runtime: 239.7000000000036",
          "index: 92<br>name: 210813_Pac--010<br>path: D:/ExtractedSignals\\210813_Pac 2021-08-13 10-37-27\\210813_Pac--010.D<br>batch: 210813_Pac 2021-08-13 10-37-27<br>batch_position: 10<br>idle_time: 280.0<br>sample: 210812/004 :20<br>method: SAA_411_Pac.M<br>timestamp: 2021-08-13 11:21:08<br>detector: G1315C<br>pump: G7110B<br>start_time: 2021-08-13 11:21:41<br>end_time: 2021-08-13 11:25:42<br>runtime: 239.7000000000036",
          "index: 93<br>name: 210813_Pac--011<br>path: D:/ExtractedSignals\\210813_Pac 2021-08-13 10-37-27\\210813_Pac--011.D<br>batch: 210813_Pac 2021-08-13 10-37-27<br>batch_position: 11<br>idle_time: 278.0<br>sample: 210812/004 :20<br>method: SAA_411_Pac.M<br>timestamp: 2021-08-13 11:25:46<br>detector: G1315C<br>pump: G7110B<br>start_time: 2021-08-13 11:26:21<br>end_time: 2021-08-13 11:30:21<br>runtime: 239.7000000000036",
          "index: 94<br>name: 210813_Pac--012<br>path: D:/ExtractedSignals\\210813_Pac 2021-08-13 10-37-27\\210813_Pac--012.D<br>batch: 210813_Pac 2021-08-13 10-37-27<br>batch_position: 12<br>idle_time: 280.0<br>sample: Blank<br>method: SAA_411_Pac.M<br>timestamp: 2021-08-13 11:30:26<br>detector: G1315C<br>pump: G7110B<br>start_time: 2021-08-13 11:30:59<br>end_time: 2021-08-13 11:34:59<br>runtime: 239.7000000000036",
          "index: 95<br>name: 210813_Pac--013<br>path: D:/ExtractedSignals\\210813_Pac 2021-08-13 10-37-27\\210813_Pac--013.D<br>batch: 210813_Pac 2021-08-13 10-37-27<br>batch_position: 13<br>idle_time: 278.0<br>sample: 0.025 mg/ml<br>method: SAA_411_Pac.M<br>timestamp: 2021-08-13 11:35:04<br>detector: G1315C<br>pump: G7110B<br>start_time: 2021-08-13 11:35:38<br>end_time: 2021-08-13 11:39:38<br>runtime: 239.7000000000036",
          "index: 96<br>name: 210813_Pac--014<br>path: D:/ExtractedSignals\\210813_Pac 2021-08-13 10-37-27\\210813_Pac--014.D<br>batch: 210813_Pac 2021-08-13 10-37-27<br>batch_position: 14<br>idle_time: 279.0<br>sample: Blank<br>method: SAA_411_Pac.M<br>timestamp: 2021-08-13 11:39:43<br>detector: G1315C<br>pump: G7110B<br>start_time: 2021-08-13 11:40:16<br>end_time: 2021-08-13 11:44:17<br>runtime: 239.7000000000036"
         ],
         "type": "scatter",
         "x": [
          0,
          1,
          2,
          3,
          4,
          5,
          6,
          7,
          8,
          9,
          10,
          11,
          12,
          13,
          14,
          15,
          16,
          17,
          18,
          19,
          20,
          21
         ],
         "y": [
          0.0074835297766798,
          0.0064875519250034,
          0.0038379370102297,
          0.0094937900489063,
          0.0089261176804455,
          0.000004926972054775797,
          0.0086392860276104,
          0.0105338101332198,
          0.0000718127683471334,
          0.0071609466206058,
          0.0118270825055176,
          0.0060081736741133,
          0.0099797214752557,
          0.0051416882074799,
          0,
          0.0061442933337152,
          0.001762229175983,
          0.0063581936018449,
          0.0009085021175862,
          0.0074502519453115,
          0.0069094641509257,
          0.012904609776621
         ]
        },
        {
         "hovertemplate": "<b>%{text}</b><br><b>x: </b>%{x}<br><b>residual_fft_sum_1: </b>%{y}<extra></extra>",
         "mode": "lines",
         "name": "residual_fft_sum_1",
         "text": [
          "index: 17<br>name: 210812_Pac--005<br>path: D:/ExtractedSignals\\210812_Pac 2021-08-12 10-30-07\\210812_Pac--005.D<br>batch: 210812_Pac 2021-08-12 10-30-07<br>batch_position: 5<br>idle_time: 279.0<br>sample: NaCl 0,9%<br>method: SAA_411_Pac.M<br>timestamp: 2021-08-12 10:50:23<br>detector: G1315C<br>pump: G7110B<br>start_time: 2021-08-12 10:50:57<br>end_time: 2021-08-12 10:54:57<br>runtime: 239.7000000000036",
          "index: 18<br>name: 210812_Pac--006<br>path: D:/ExtractedSignals\\210812_Pac 2021-08-12 10-30-07\\210812_Pac--006.D<br>batch: 210812_Pac 2021-08-12 10-30-07<br>batch_position: 6<br>idle_time: 279.0<br>sample: Blank<br>method: SAA_411_Pac.M<br>timestamp: 2021-08-12 10:55:02<br>detector: G1315C<br>pump: G7110B<br>start_time: 2021-08-12 10:55:36<br>end_time: 2021-08-12 10:59:36<br>runtime: 239.7000000000036",
          "index: 19<br>name: 210812_Pac--007<br>path: D:/ExtractedSignals\\210812_Pac 2021-08-12 10-30-07\\210812_Pac--007.D<br>batch: 210812_Pac 2021-08-12 10-30-07<br>batch_position: 7<br>idle_time: 279.0<br>sample: 0.025 mg/ml<br>method: SAA_411_Pac.M<br>timestamp: 2021-08-12 10:59:41<br>detector: G1315C<br>pump: G7110B<br>start_time: 2021-08-12 11:00:15<br>end_time: 2021-08-12 11:04:15<br>runtime: 239.7000000000036",
          "index: 20<br>name: 210812_Pac--008<br>path: D:/ExtractedSignals\\210812_Pac 2021-08-12 10-30-07\\210812_Pac--008.D<br>batch: 210812_Pac 2021-08-12 10-30-07<br>batch_position: 8<br>idle_time: 279.0<br>sample: Blank<br>method: SAA_411_Pac.M<br>timestamp: 2021-08-12 11:04:20<br>detector: G1315C<br>pump: G7110B<br>start_time: 2021-08-12 11:04:54<br>end_time: 2021-08-12 11:08:54<br>runtime: 239.7000000000036",
          "index: 21<br>name: 210812_Pac--009<br>path: D:/ExtractedSignals\\210812_Pac 2021-08-12 10-30-07\\210812_Pac--009.D<br>batch: 210812_Pac 2021-08-12 10-30-07<br>batch_position: 9<br>idle_time: 279.0<br>sample: 210806/036 :10<br>method: SAA_411_Pac.M<br>timestamp: 2021-08-12 11:08:59<br>detector: G1315C<br>pump: G7110B<br>start_time: 2021-08-12 11:09:32<br>end_time: 2021-08-12 11:13:32<br>runtime: 239.7000000000036",
          "index: 22<br>name: 210812_Pac--010<br>path: D:/ExtractedSignals\\210812_Pac 2021-08-12 10-30-07\\210812_Pac--010.D<br>batch: 210812_Pac 2021-08-12 10-30-07<br>batch_position: 10<br>idle_time: 278.0<br>sample: 210806/036 :10<br>method: SAA_411_Pac.M<br>timestamp: 2021-08-12 11:13:37<br>detector: G7110B<br>pump: G7110B<br>start_time: 2021-08-12 11:14:11<br>end_time: 2021-08-12 11:18:11<br>runtime: 239.7000000000036",
          "index: 23<br>name: 210812_Pac--011<br>path: D:/ExtractedSignals\\210812_Pac 2021-08-12 10-30-07\\210812_Pac--011.D<br>batch: 210812_Pac 2021-08-12 10-30-07<br>batch_position: 11<br>idle_time: 279.0<br>sample: 210806/036 :10<br>method: SAA_411_Pac.M<br>timestamp: 2021-08-12 11:18:16<br>detector: G7110B<br>pump: G7110B<br>start_time: 2021-08-12 11:18:50<br>end_time: 2021-08-12 11:22:50<br>runtime: 239.7000000000036",
          "index: 24<br>name: 210812_Pac--012<br>path: D:/ExtractedSignals\\210812_Pac 2021-08-12 10-30-07\\210812_Pac--012.D<br>batch: 210812_Pac 2021-08-12 10-30-07<br>batch_position: 12<br>idle_time: 279.0<br>sample: Blank<br>method: SAA_411_Pac.M<br>timestamp: 2021-08-12 11:22:55<br>detector: G1315C<br>pump: G7110B<br>start_time: 2021-08-12 11:23:29<br>end_time: 2021-08-12 11:27:29<br>runtime: 239.7000000000036",
          "index: 25<br>name: 210812_Pac--013<br>path: D:/ExtractedSignals\\210812_Pac 2021-08-12 10-30-07\\210812_Pac--013.D<br>batch: 210812_Pac 2021-08-12 10-30-07<br>batch_position: 13<br>idle_time: 279.0<br>sample: 0.025 mg/ml<br>method: SAA_411_Pac.M<br>timestamp: 2021-08-12 11:27:34<br>detector: G1315C<br>pump: G7110B<br>start_time: 2021-08-12 11:28:08<br>end_time: 2021-08-12 11:32:08<br>runtime: 239.7000000000036",
          "index: 26<br>name: 210812_Pac--014<br>path: D:/ExtractedSignals\\210812_Pac 2021-08-12 10-30-07\\210812_Pac--014.D<br>batch: 210812_Pac 2021-08-12 10-30-07<br>batch_position: 14<br>idle_time: 279.0<br>sample: Blank<br>method: SAA_411_Pac.M<br>timestamp: 2021-08-12 11:32:13<br>detector: G7110B<br>pump: G7110B<br>start_time: 2021-08-12 11:32:46<br>end_time: 2021-08-12 11:36:47<br>runtime: 239.7000000000036",
          "index: 85<br>name: 210813_Pac--003<br>path: D:/ExtractedSignals\\210813_Pac 2021-08-13 10-37-27\\210813_Pac--003.D<br>batch: 210813_Pac 2021-08-13 10-37-27<br>batch_position: 3<br>idle_time: 278.0<br>sample: Blank<br>method: SAA_411_Pac.M<br>timestamp: 2021-08-13 10:48:34<br>detector: G1315C<br>pump: G7116B<br>start_time: 2021-08-13 10:49:08<br>end_time: 2021-08-13 10:53:08<br>runtime: 239.7000000000036",
          "index: 86<br>name: 210813_Pac--004<br>path: D:/ExtractedSignals\\210813_Pac 2021-08-13 10-37-27\\210813_Pac--004.D<br>batch: 210813_Pac 2021-08-13 10-37-27<br>batch_position: 4<br>idle_time: 279.0<br>sample: Blank<br>method: SAA_411_Pac.M<br>timestamp: 2021-08-13 10:53:13<br>detector: G1315C<br>pump: G7110B<br>start_time: 2021-08-13 10:53:47<br>end_time: 2021-08-13 10:57:47<br>runtime: 239.7000000000036",
          "index: 87<br>name: 210813_Pac--005<br>path: D:/ExtractedSignals\\210813_Pac 2021-08-13 10-37-27\\210813_Pac--005.D<br>batch: 210813_Pac 2021-08-13 10-37-27<br>batch_position: 5<br>idle_time: 279.0<br>sample: NaCl 0,9%<br>method: SAA_411_Pac.M<br>timestamp: 2021-08-13 10:57:52<br>detector: G7110B<br>pump: G7110B<br>start_time: 2021-08-13 10:58:26<br>end_time: 2021-08-13 11:02:27<br>runtime: 239.7000000000036",
          "index: 88<br>name: 210813_Pac--006<br>path: D:/ExtractedSignals\\210813_Pac 2021-08-13 10-37-27\\210813_Pac--006.D<br>batch: 210813_Pac 2021-08-13 10-37-27<br>batch_position: 6<br>idle_time: 279.0<br>sample: Blank<br>method: SAA_411_Pac.M<br>timestamp: 2021-08-13 11:02:31<br>detector: G1315C<br>pump: G7110B<br>start_time: 2021-08-13 11:03:05<br>end_time: 2021-08-13 11:07:06<br>runtime: 239.7000000000036",
          "index: 89<br>name: 210813_Pac--007<br>path: D:/ExtractedSignals\\210813_Pac 2021-08-13 10-37-27\\210813_Pac--007.D<br>batch: 210813_Pac 2021-08-13 10-37-27<br>batch_position: 7<br>idle_time: 279.0<br>sample: 0.025 mg/ml<br>method: SAA_411_Pac.M<br>timestamp: 2021-08-13 11:07:10<br>detector: G1315C<br>pump: G7116B<br>start_time: 2021-08-13 11:07:44<br>end_time: 2021-08-13 11:11:45<br>runtime: 239.7000000000036",
          "index: 90<br>name: 210813_Pac--008<br>path: D:/ExtractedSignals\\210813_Pac 2021-08-13 10-37-27\\210813_Pac--008.D<br>batch: 210813_Pac 2021-08-13 10-37-27<br>batch_position: 8<br>idle_time: 279.0<br>sample: Blank<br>method: SAA_411_Pac.M<br>timestamp: 2021-08-13 11:11:49<br>detector: G1315C<br>pump: G7110B<br>start_time: 2021-08-13 11:12:23<br>end_time: 2021-08-13 11:16:23<br>runtime: 239.7000000000036",
          "index: 91<br>name: 210813_Pac--009<br>path: D:/ExtractedSignals\\210813_Pac 2021-08-13 10-37-27\\210813_Pac--009.D<br>batch: 210813_Pac 2021-08-13 10-37-27<br>batch_position: 9<br>idle_time: 279.0<br>sample: 210812/004 :20<br>method: SAA_411_Pac.M<br>timestamp: 2021-08-13 11:16:28<br>detector: G1315C<br>pump: G7110B<br>start_time: 2021-08-13 11:17:02<br>end_time: 2021-08-13 11:21:03<br>runtime: 239.7000000000036",
          "index: 92<br>name: 210813_Pac--010<br>path: D:/ExtractedSignals\\210813_Pac 2021-08-13 10-37-27\\210813_Pac--010.D<br>batch: 210813_Pac 2021-08-13 10-37-27<br>batch_position: 10<br>idle_time: 280.0<br>sample: 210812/004 :20<br>method: SAA_411_Pac.M<br>timestamp: 2021-08-13 11:21:08<br>detector: G1315C<br>pump: G7110B<br>start_time: 2021-08-13 11:21:41<br>end_time: 2021-08-13 11:25:42<br>runtime: 239.7000000000036",
          "index: 93<br>name: 210813_Pac--011<br>path: D:/ExtractedSignals\\210813_Pac 2021-08-13 10-37-27\\210813_Pac--011.D<br>batch: 210813_Pac 2021-08-13 10-37-27<br>batch_position: 11<br>idle_time: 278.0<br>sample: 210812/004 :20<br>method: SAA_411_Pac.M<br>timestamp: 2021-08-13 11:25:46<br>detector: G1315C<br>pump: G7110B<br>start_time: 2021-08-13 11:26:21<br>end_time: 2021-08-13 11:30:21<br>runtime: 239.7000000000036",
          "index: 94<br>name: 210813_Pac--012<br>path: D:/ExtractedSignals\\210813_Pac 2021-08-13 10-37-27\\210813_Pac--012.D<br>batch: 210813_Pac 2021-08-13 10-37-27<br>batch_position: 12<br>idle_time: 280.0<br>sample: Blank<br>method: SAA_411_Pac.M<br>timestamp: 2021-08-13 11:30:26<br>detector: G1315C<br>pump: G7110B<br>start_time: 2021-08-13 11:30:59<br>end_time: 2021-08-13 11:34:59<br>runtime: 239.7000000000036",
          "index: 95<br>name: 210813_Pac--013<br>path: D:/ExtractedSignals\\210813_Pac 2021-08-13 10-37-27\\210813_Pac--013.D<br>batch: 210813_Pac 2021-08-13 10-37-27<br>batch_position: 13<br>idle_time: 278.0<br>sample: 0.025 mg/ml<br>method: SAA_411_Pac.M<br>timestamp: 2021-08-13 11:35:04<br>detector: G1315C<br>pump: G7110B<br>start_time: 2021-08-13 11:35:38<br>end_time: 2021-08-13 11:39:38<br>runtime: 239.7000000000036",
          "index: 96<br>name: 210813_Pac--014<br>path: D:/ExtractedSignals\\210813_Pac 2021-08-13 10-37-27\\210813_Pac--014.D<br>batch: 210813_Pac 2021-08-13 10-37-27<br>batch_position: 14<br>idle_time: 279.0<br>sample: Blank<br>method: SAA_411_Pac.M<br>timestamp: 2021-08-13 11:39:43<br>detector: G1315C<br>pump: G7110B<br>start_time: 2021-08-13 11:40:16<br>end_time: 2021-08-13 11:44:17<br>runtime: 239.7000000000036"
         ],
         "type": "scatter",
         "x": [
          0,
          1,
          2,
          3,
          4,
          5,
          6,
          7,
          8,
          9,
          10,
          11,
          12,
          13,
          14,
          15,
          16,
          17,
          18,
          19,
          20,
          21
         ],
         "y": [
          0.0074835297766798,
          0.0064875519250034,
          0.0038379370102297,
          0.0094937900489063,
          0.0089261176804455,
          0.000004926972054775797,
          0.0086392860276104,
          0.0105338101332198,
          0.0000718127683471334,
          0.0071609466206058,
          0.0118270825055176,
          0.0060081736741133,
          0.0099797214752557,
          0.0051416882074799,
          0,
          0.0061442933337152,
          0.001762229175983,
          0.0063581936018449,
          0.0009085021175862,
          0.0074502519453115,
          0.0069094641509257,
          0.012904609776621
         ]
        },
        {
         "hovertemplate": "<b>%{text}</b><br><b>x: </b>%{x}<br><b>seasonal_fft_mean_2: </b>%{y}<extra></extra>",
         "mode": "lines",
         "name": "seasonal_fft_mean_2",
         "text": [
          "index: 17<br>name: 210812_Pac--005<br>path: D:/ExtractedSignals\\210812_Pac 2021-08-12 10-30-07\\210812_Pac--005.D<br>batch: 210812_Pac 2021-08-12 10-30-07<br>batch_position: 5<br>idle_time: 279.0<br>sample: NaCl 0,9%<br>method: SAA_411_Pac.M<br>timestamp: 2021-08-12 10:50:23<br>detector: G1315C<br>pump: G7110B<br>start_time: 2021-08-12 10:50:57<br>end_time: 2021-08-12 10:54:57<br>runtime: 239.7000000000036",
          "index: 18<br>name: 210812_Pac--006<br>path: D:/ExtractedSignals\\210812_Pac 2021-08-12 10-30-07\\210812_Pac--006.D<br>batch: 210812_Pac 2021-08-12 10-30-07<br>batch_position: 6<br>idle_time: 279.0<br>sample: Blank<br>method: SAA_411_Pac.M<br>timestamp: 2021-08-12 10:55:02<br>detector: G1315C<br>pump: G7110B<br>start_time: 2021-08-12 10:55:36<br>end_time: 2021-08-12 10:59:36<br>runtime: 239.7000000000036",
          "index: 19<br>name: 210812_Pac--007<br>path: D:/ExtractedSignals\\210812_Pac 2021-08-12 10-30-07\\210812_Pac--007.D<br>batch: 210812_Pac 2021-08-12 10-30-07<br>batch_position: 7<br>idle_time: 279.0<br>sample: 0.025 mg/ml<br>method: SAA_411_Pac.M<br>timestamp: 2021-08-12 10:59:41<br>detector: G1315C<br>pump: G7110B<br>start_time: 2021-08-12 11:00:15<br>end_time: 2021-08-12 11:04:15<br>runtime: 239.7000000000036",
          "index: 20<br>name: 210812_Pac--008<br>path: D:/ExtractedSignals\\210812_Pac 2021-08-12 10-30-07\\210812_Pac--008.D<br>batch: 210812_Pac 2021-08-12 10-30-07<br>batch_position: 8<br>idle_time: 279.0<br>sample: Blank<br>method: SAA_411_Pac.M<br>timestamp: 2021-08-12 11:04:20<br>detector: G1315C<br>pump: G7110B<br>start_time: 2021-08-12 11:04:54<br>end_time: 2021-08-12 11:08:54<br>runtime: 239.7000000000036",
          "index: 21<br>name: 210812_Pac--009<br>path: D:/ExtractedSignals\\210812_Pac 2021-08-12 10-30-07\\210812_Pac--009.D<br>batch: 210812_Pac 2021-08-12 10-30-07<br>batch_position: 9<br>idle_time: 279.0<br>sample: 210806/036 :10<br>method: SAA_411_Pac.M<br>timestamp: 2021-08-12 11:08:59<br>detector: G1315C<br>pump: G7110B<br>start_time: 2021-08-12 11:09:32<br>end_time: 2021-08-12 11:13:32<br>runtime: 239.7000000000036",
          "index: 22<br>name: 210812_Pac--010<br>path: D:/ExtractedSignals\\210812_Pac 2021-08-12 10-30-07\\210812_Pac--010.D<br>batch: 210812_Pac 2021-08-12 10-30-07<br>batch_position: 10<br>idle_time: 278.0<br>sample: 210806/036 :10<br>method: SAA_411_Pac.M<br>timestamp: 2021-08-12 11:13:37<br>detector: G7110B<br>pump: G7110B<br>start_time: 2021-08-12 11:14:11<br>end_time: 2021-08-12 11:18:11<br>runtime: 239.7000000000036",
          "index: 23<br>name: 210812_Pac--011<br>path: D:/ExtractedSignals\\210812_Pac 2021-08-12 10-30-07\\210812_Pac--011.D<br>batch: 210812_Pac 2021-08-12 10-30-07<br>batch_position: 11<br>idle_time: 279.0<br>sample: 210806/036 :10<br>method: SAA_411_Pac.M<br>timestamp: 2021-08-12 11:18:16<br>detector: G7110B<br>pump: G7110B<br>start_time: 2021-08-12 11:18:50<br>end_time: 2021-08-12 11:22:50<br>runtime: 239.7000000000036",
          "index: 24<br>name: 210812_Pac--012<br>path: D:/ExtractedSignals\\210812_Pac 2021-08-12 10-30-07\\210812_Pac--012.D<br>batch: 210812_Pac 2021-08-12 10-30-07<br>batch_position: 12<br>idle_time: 279.0<br>sample: Blank<br>method: SAA_411_Pac.M<br>timestamp: 2021-08-12 11:22:55<br>detector: G1315C<br>pump: G7110B<br>start_time: 2021-08-12 11:23:29<br>end_time: 2021-08-12 11:27:29<br>runtime: 239.7000000000036",
          "index: 25<br>name: 210812_Pac--013<br>path: D:/ExtractedSignals\\210812_Pac 2021-08-12 10-30-07\\210812_Pac--013.D<br>batch: 210812_Pac 2021-08-12 10-30-07<br>batch_position: 13<br>idle_time: 279.0<br>sample: 0.025 mg/ml<br>method: SAA_411_Pac.M<br>timestamp: 2021-08-12 11:27:34<br>detector: G1315C<br>pump: G7110B<br>start_time: 2021-08-12 11:28:08<br>end_time: 2021-08-12 11:32:08<br>runtime: 239.7000000000036",
          "index: 26<br>name: 210812_Pac--014<br>path: D:/ExtractedSignals\\210812_Pac 2021-08-12 10-30-07\\210812_Pac--014.D<br>batch: 210812_Pac 2021-08-12 10-30-07<br>batch_position: 14<br>idle_time: 279.0<br>sample: Blank<br>method: SAA_411_Pac.M<br>timestamp: 2021-08-12 11:32:13<br>detector: G7110B<br>pump: G7110B<br>start_time: 2021-08-12 11:32:46<br>end_time: 2021-08-12 11:36:47<br>runtime: 239.7000000000036",
          "index: 85<br>name: 210813_Pac--003<br>path: D:/ExtractedSignals\\210813_Pac 2021-08-13 10-37-27\\210813_Pac--003.D<br>batch: 210813_Pac 2021-08-13 10-37-27<br>batch_position: 3<br>idle_time: 278.0<br>sample: Blank<br>method: SAA_411_Pac.M<br>timestamp: 2021-08-13 10:48:34<br>detector: G1315C<br>pump: G7116B<br>start_time: 2021-08-13 10:49:08<br>end_time: 2021-08-13 10:53:08<br>runtime: 239.7000000000036",
          "index: 86<br>name: 210813_Pac--004<br>path: D:/ExtractedSignals\\210813_Pac 2021-08-13 10-37-27\\210813_Pac--004.D<br>batch: 210813_Pac 2021-08-13 10-37-27<br>batch_position: 4<br>idle_time: 279.0<br>sample: Blank<br>method: SAA_411_Pac.M<br>timestamp: 2021-08-13 10:53:13<br>detector: G1315C<br>pump: G7110B<br>start_time: 2021-08-13 10:53:47<br>end_time: 2021-08-13 10:57:47<br>runtime: 239.7000000000036",
          "index: 87<br>name: 210813_Pac--005<br>path: D:/ExtractedSignals\\210813_Pac 2021-08-13 10-37-27\\210813_Pac--005.D<br>batch: 210813_Pac 2021-08-13 10-37-27<br>batch_position: 5<br>idle_time: 279.0<br>sample: NaCl 0,9%<br>method: SAA_411_Pac.M<br>timestamp: 2021-08-13 10:57:52<br>detector: G7110B<br>pump: G7110B<br>start_time: 2021-08-13 10:58:26<br>end_time: 2021-08-13 11:02:27<br>runtime: 239.7000000000036",
          "index: 88<br>name: 210813_Pac--006<br>path: D:/ExtractedSignals\\210813_Pac 2021-08-13 10-37-27\\210813_Pac--006.D<br>batch: 210813_Pac 2021-08-13 10-37-27<br>batch_position: 6<br>idle_time: 279.0<br>sample: Blank<br>method: SAA_411_Pac.M<br>timestamp: 2021-08-13 11:02:31<br>detector: G1315C<br>pump: G7110B<br>start_time: 2021-08-13 11:03:05<br>end_time: 2021-08-13 11:07:06<br>runtime: 239.7000000000036",
          "index: 89<br>name: 210813_Pac--007<br>path: D:/ExtractedSignals\\210813_Pac 2021-08-13 10-37-27\\210813_Pac--007.D<br>batch: 210813_Pac 2021-08-13 10-37-27<br>batch_position: 7<br>idle_time: 279.0<br>sample: 0.025 mg/ml<br>method: SAA_411_Pac.M<br>timestamp: 2021-08-13 11:07:10<br>detector: G1315C<br>pump: G7116B<br>start_time: 2021-08-13 11:07:44<br>end_time: 2021-08-13 11:11:45<br>runtime: 239.7000000000036",
          "index: 90<br>name: 210813_Pac--008<br>path: D:/ExtractedSignals\\210813_Pac 2021-08-13 10-37-27\\210813_Pac--008.D<br>batch: 210813_Pac 2021-08-13 10-37-27<br>batch_position: 8<br>idle_time: 279.0<br>sample: Blank<br>method: SAA_411_Pac.M<br>timestamp: 2021-08-13 11:11:49<br>detector: G1315C<br>pump: G7110B<br>start_time: 2021-08-13 11:12:23<br>end_time: 2021-08-13 11:16:23<br>runtime: 239.7000000000036",
          "index: 91<br>name: 210813_Pac--009<br>path: D:/ExtractedSignals\\210813_Pac 2021-08-13 10-37-27\\210813_Pac--009.D<br>batch: 210813_Pac 2021-08-13 10-37-27<br>batch_position: 9<br>idle_time: 279.0<br>sample: 210812/004 :20<br>method: SAA_411_Pac.M<br>timestamp: 2021-08-13 11:16:28<br>detector: G1315C<br>pump: G7110B<br>start_time: 2021-08-13 11:17:02<br>end_time: 2021-08-13 11:21:03<br>runtime: 239.7000000000036",
          "index: 92<br>name: 210813_Pac--010<br>path: D:/ExtractedSignals\\210813_Pac 2021-08-13 10-37-27\\210813_Pac--010.D<br>batch: 210813_Pac 2021-08-13 10-37-27<br>batch_position: 10<br>idle_time: 280.0<br>sample: 210812/004 :20<br>method: SAA_411_Pac.M<br>timestamp: 2021-08-13 11:21:08<br>detector: G1315C<br>pump: G7110B<br>start_time: 2021-08-13 11:21:41<br>end_time: 2021-08-13 11:25:42<br>runtime: 239.7000000000036",
          "index: 93<br>name: 210813_Pac--011<br>path: D:/ExtractedSignals\\210813_Pac 2021-08-13 10-37-27\\210813_Pac--011.D<br>batch: 210813_Pac 2021-08-13 10-37-27<br>batch_position: 11<br>idle_time: 278.0<br>sample: 210812/004 :20<br>method: SAA_411_Pac.M<br>timestamp: 2021-08-13 11:25:46<br>detector: G1315C<br>pump: G7110B<br>start_time: 2021-08-13 11:26:21<br>end_time: 2021-08-13 11:30:21<br>runtime: 239.7000000000036",
          "index: 94<br>name: 210813_Pac--012<br>path: D:/ExtractedSignals\\210813_Pac 2021-08-13 10-37-27\\210813_Pac--012.D<br>batch: 210813_Pac 2021-08-13 10-37-27<br>batch_position: 12<br>idle_time: 280.0<br>sample: Blank<br>method: SAA_411_Pac.M<br>timestamp: 2021-08-13 11:30:26<br>detector: G1315C<br>pump: G7110B<br>start_time: 2021-08-13 11:30:59<br>end_time: 2021-08-13 11:34:59<br>runtime: 239.7000000000036",
          "index: 95<br>name: 210813_Pac--013<br>path: D:/ExtractedSignals\\210813_Pac 2021-08-13 10-37-27\\210813_Pac--013.D<br>batch: 210813_Pac 2021-08-13 10-37-27<br>batch_position: 13<br>idle_time: 278.0<br>sample: 0.025 mg/ml<br>method: SAA_411_Pac.M<br>timestamp: 2021-08-13 11:35:04<br>detector: G1315C<br>pump: G7110B<br>start_time: 2021-08-13 11:35:38<br>end_time: 2021-08-13 11:39:38<br>runtime: 239.7000000000036",
          "index: 96<br>name: 210813_Pac--014<br>path: D:/ExtractedSignals\\210813_Pac 2021-08-13 10-37-27\\210813_Pac--014.D<br>batch: 210813_Pac 2021-08-13 10-37-27<br>batch_position: 14<br>idle_time: 279.0<br>sample: Blank<br>method: SAA_411_Pac.M<br>timestamp: 2021-08-13 11:39:43<br>detector: G1315C<br>pump: G7110B<br>start_time: 2021-08-13 11:40:16<br>end_time: 2021-08-13 11:44:17<br>runtime: 239.7000000000036"
         ],
         "type": "scatter",
         "x": [
          0,
          1,
          2,
          3,
          4,
          5,
          6,
          7,
          8,
          9,
          10,
          11,
          12,
          13,
          14,
          15,
          16,
          17,
          18,
          19,
          20,
          21
         ],
         "y": [
          0.0023174753457747,
          0.041162456034389,
          0.0233034624036566,
          0.0421595361543344,
          0.0524277765788144,
          0.0796080643247148,
          0.0138860604421341,
          0.0286827651289916,
          0.0349078836051092,
          0.0278637328617255,
          0.010317240693033,
          0.0285896040284615,
          0.0249110327193204,
          0.0576786568048617,
          0.0952714658593604,
          0.0331820666164277,
          0.0504638626100348,
          0.0519106405953871,
          0.0174033447387609,
          0.0571803174485206,
          0.0266650466364026,
          0.0323179155576738
         ]
        },
        {
         "hovertemplate": "<b>%{text}</b><br><b>x: </b>%{x}<br><b>seasonal_fft_sum_2: </b>%{y}<extra></extra>",
         "mode": "lines",
         "name": "seasonal_fft_sum_2",
         "text": [
          "index: 17<br>name: 210812_Pac--005<br>path: D:/ExtractedSignals\\210812_Pac 2021-08-12 10-30-07\\210812_Pac--005.D<br>batch: 210812_Pac 2021-08-12 10-30-07<br>batch_position: 5<br>idle_time: 279.0<br>sample: NaCl 0,9%<br>method: SAA_411_Pac.M<br>timestamp: 2021-08-12 10:50:23<br>detector: G1315C<br>pump: G7110B<br>start_time: 2021-08-12 10:50:57<br>end_time: 2021-08-12 10:54:57<br>runtime: 239.7000000000036",
          "index: 18<br>name: 210812_Pac--006<br>path: D:/ExtractedSignals\\210812_Pac 2021-08-12 10-30-07\\210812_Pac--006.D<br>batch: 210812_Pac 2021-08-12 10-30-07<br>batch_position: 6<br>idle_time: 279.0<br>sample: Blank<br>method: SAA_411_Pac.M<br>timestamp: 2021-08-12 10:55:02<br>detector: G1315C<br>pump: G7110B<br>start_time: 2021-08-12 10:55:36<br>end_time: 2021-08-12 10:59:36<br>runtime: 239.7000000000036",
          "index: 19<br>name: 210812_Pac--007<br>path: D:/ExtractedSignals\\210812_Pac 2021-08-12 10-30-07\\210812_Pac--007.D<br>batch: 210812_Pac 2021-08-12 10-30-07<br>batch_position: 7<br>idle_time: 279.0<br>sample: 0.025 mg/ml<br>method: SAA_411_Pac.M<br>timestamp: 2021-08-12 10:59:41<br>detector: G1315C<br>pump: G7110B<br>start_time: 2021-08-12 11:00:15<br>end_time: 2021-08-12 11:04:15<br>runtime: 239.7000000000036",
          "index: 20<br>name: 210812_Pac--008<br>path: D:/ExtractedSignals\\210812_Pac 2021-08-12 10-30-07\\210812_Pac--008.D<br>batch: 210812_Pac 2021-08-12 10-30-07<br>batch_position: 8<br>idle_time: 279.0<br>sample: Blank<br>method: SAA_411_Pac.M<br>timestamp: 2021-08-12 11:04:20<br>detector: G1315C<br>pump: G7110B<br>start_time: 2021-08-12 11:04:54<br>end_time: 2021-08-12 11:08:54<br>runtime: 239.7000000000036",
          "index: 21<br>name: 210812_Pac--009<br>path: D:/ExtractedSignals\\210812_Pac 2021-08-12 10-30-07\\210812_Pac--009.D<br>batch: 210812_Pac 2021-08-12 10-30-07<br>batch_position: 9<br>idle_time: 279.0<br>sample: 210806/036 :10<br>method: SAA_411_Pac.M<br>timestamp: 2021-08-12 11:08:59<br>detector: G1315C<br>pump: G7110B<br>start_time: 2021-08-12 11:09:32<br>end_time: 2021-08-12 11:13:32<br>runtime: 239.7000000000036",
          "index: 22<br>name: 210812_Pac--010<br>path: D:/ExtractedSignals\\210812_Pac 2021-08-12 10-30-07\\210812_Pac--010.D<br>batch: 210812_Pac 2021-08-12 10-30-07<br>batch_position: 10<br>idle_time: 278.0<br>sample: 210806/036 :10<br>method: SAA_411_Pac.M<br>timestamp: 2021-08-12 11:13:37<br>detector: G7110B<br>pump: G7110B<br>start_time: 2021-08-12 11:14:11<br>end_time: 2021-08-12 11:18:11<br>runtime: 239.7000000000036",
          "index: 23<br>name: 210812_Pac--011<br>path: D:/ExtractedSignals\\210812_Pac 2021-08-12 10-30-07\\210812_Pac--011.D<br>batch: 210812_Pac 2021-08-12 10-30-07<br>batch_position: 11<br>idle_time: 279.0<br>sample: 210806/036 :10<br>method: SAA_411_Pac.M<br>timestamp: 2021-08-12 11:18:16<br>detector: G7110B<br>pump: G7110B<br>start_time: 2021-08-12 11:18:50<br>end_time: 2021-08-12 11:22:50<br>runtime: 239.7000000000036",
          "index: 24<br>name: 210812_Pac--012<br>path: D:/ExtractedSignals\\210812_Pac 2021-08-12 10-30-07\\210812_Pac--012.D<br>batch: 210812_Pac 2021-08-12 10-30-07<br>batch_position: 12<br>idle_time: 279.0<br>sample: Blank<br>method: SAA_411_Pac.M<br>timestamp: 2021-08-12 11:22:55<br>detector: G1315C<br>pump: G7110B<br>start_time: 2021-08-12 11:23:29<br>end_time: 2021-08-12 11:27:29<br>runtime: 239.7000000000036",
          "index: 25<br>name: 210812_Pac--013<br>path: D:/ExtractedSignals\\210812_Pac 2021-08-12 10-30-07\\210812_Pac--013.D<br>batch: 210812_Pac 2021-08-12 10-30-07<br>batch_position: 13<br>idle_time: 279.0<br>sample: 0.025 mg/ml<br>method: SAA_411_Pac.M<br>timestamp: 2021-08-12 11:27:34<br>detector: G1315C<br>pump: G7110B<br>start_time: 2021-08-12 11:28:08<br>end_time: 2021-08-12 11:32:08<br>runtime: 239.7000000000036",
          "index: 26<br>name: 210812_Pac--014<br>path: D:/ExtractedSignals\\210812_Pac 2021-08-12 10-30-07\\210812_Pac--014.D<br>batch: 210812_Pac 2021-08-12 10-30-07<br>batch_position: 14<br>idle_time: 279.0<br>sample: Blank<br>method: SAA_411_Pac.M<br>timestamp: 2021-08-12 11:32:13<br>detector: G7110B<br>pump: G7110B<br>start_time: 2021-08-12 11:32:46<br>end_time: 2021-08-12 11:36:47<br>runtime: 239.7000000000036",
          "index: 85<br>name: 210813_Pac--003<br>path: D:/ExtractedSignals\\210813_Pac 2021-08-13 10-37-27\\210813_Pac--003.D<br>batch: 210813_Pac 2021-08-13 10-37-27<br>batch_position: 3<br>idle_time: 278.0<br>sample: Blank<br>method: SAA_411_Pac.M<br>timestamp: 2021-08-13 10:48:34<br>detector: G1315C<br>pump: G7116B<br>start_time: 2021-08-13 10:49:08<br>end_time: 2021-08-13 10:53:08<br>runtime: 239.7000000000036",
          "index: 86<br>name: 210813_Pac--004<br>path: D:/ExtractedSignals\\210813_Pac 2021-08-13 10-37-27\\210813_Pac--004.D<br>batch: 210813_Pac 2021-08-13 10-37-27<br>batch_position: 4<br>idle_time: 279.0<br>sample: Blank<br>method: SAA_411_Pac.M<br>timestamp: 2021-08-13 10:53:13<br>detector: G1315C<br>pump: G7110B<br>start_time: 2021-08-13 10:53:47<br>end_time: 2021-08-13 10:57:47<br>runtime: 239.7000000000036",
          "index: 87<br>name: 210813_Pac--005<br>path: D:/ExtractedSignals\\210813_Pac 2021-08-13 10-37-27\\210813_Pac--005.D<br>batch: 210813_Pac 2021-08-13 10-37-27<br>batch_position: 5<br>idle_time: 279.0<br>sample: NaCl 0,9%<br>method: SAA_411_Pac.M<br>timestamp: 2021-08-13 10:57:52<br>detector: G7110B<br>pump: G7110B<br>start_time: 2021-08-13 10:58:26<br>end_time: 2021-08-13 11:02:27<br>runtime: 239.7000000000036",
          "index: 88<br>name: 210813_Pac--006<br>path: D:/ExtractedSignals\\210813_Pac 2021-08-13 10-37-27\\210813_Pac--006.D<br>batch: 210813_Pac 2021-08-13 10-37-27<br>batch_position: 6<br>idle_time: 279.0<br>sample: Blank<br>method: SAA_411_Pac.M<br>timestamp: 2021-08-13 11:02:31<br>detector: G1315C<br>pump: G7110B<br>start_time: 2021-08-13 11:03:05<br>end_time: 2021-08-13 11:07:06<br>runtime: 239.7000000000036",
          "index: 89<br>name: 210813_Pac--007<br>path: D:/ExtractedSignals\\210813_Pac 2021-08-13 10-37-27\\210813_Pac--007.D<br>batch: 210813_Pac 2021-08-13 10-37-27<br>batch_position: 7<br>idle_time: 279.0<br>sample: 0.025 mg/ml<br>method: SAA_411_Pac.M<br>timestamp: 2021-08-13 11:07:10<br>detector: G1315C<br>pump: G7116B<br>start_time: 2021-08-13 11:07:44<br>end_time: 2021-08-13 11:11:45<br>runtime: 239.7000000000036",
          "index: 90<br>name: 210813_Pac--008<br>path: D:/ExtractedSignals\\210813_Pac 2021-08-13 10-37-27\\210813_Pac--008.D<br>batch: 210813_Pac 2021-08-13 10-37-27<br>batch_position: 8<br>idle_time: 279.0<br>sample: Blank<br>method: SAA_411_Pac.M<br>timestamp: 2021-08-13 11:11:49<br>detector: G1315C<br>pump: G7110B<br>start_time: 2021-08-13 11:12:23<br>end_time: 2021-08-13 11:16:23<br>runtime: 239.7000000000036",
          "index: 91<br>name: 210813_Pac--009<br>path: D:/ExtractedSignals\\210813_Pac 2021-08-13 10-37-27\\210813_Pac--009.D<br>batch: 210813_Pac 2021-08-13 10-37-27<br>batch_position: 9<br>idle_time: 279.0<br>sample: 210812/004 :20<br>method: SAA_411_Pac.M<br>timestamp: 2021-08-13 11:16:28<br>detector: G1315C<br>pump: G7110B<br>start_time: 2021-08-13 11:17:02<br>end_time: 2021-08-13 11:21:03<br>runtime: 239.7000000000036",
          "index: 92<br>name: 210813_Pac--010<br>path: D:/ExtractedSignals\\210813_Pac 2021-08-13 10-37-27\\210813_Pac--010.D<br>batch: 210813_Pac 2021-08-13 10-37-27<br>batch_position: 10<br>idle_time: 280.0<br>sample: 210812/004 :20<br>method: SAA_411_Pac.M<br>timestamp: 2021-08-13 11:21:08<br>detector: G1315C<br>pump: G7110B<br>start_time: 2021-08-13 11:21:41<br>end_time: 2021-08-13 11:25:42<br>runtime: 239.7000000000036",
          "index: 93<br>name: 210813_Pac--011<br>path: D:/ExtractedSignals\\210813_Pac 2021-08-13 10-37-27\\210813_Pac--011.D<br>batch: 210813_Pac 2021-08-13 10-37-27<br>batch_position: 11<br>idle_time: 278.0<br>sample: 210812/004 :20<br>method: SAA_411_Pac.M<br>timestamp: 2021-08-13 11:25:46<br>detector: G1315C<br>pump: G7110B<br>start_time: 2021-08-13 11:26:21<br>end_time: 2021-08-13 11:30:21<br>runtime: 239.7000000000036",
          "index: 94<br>name: 210813_Pac--012<br>path: D:/ExtractedSignals\\210813_Pac 2021-08-13 10-37-27\\210813_Pac--012.D<br>batch: 210813_Pac 2021-08-13 10-37-27<br>batch_position: 12<br>idle_time: 280.0<br>sample: Blank<br>method: SAA_411_Pac.M<br>timestamp: 2021-08-13 11:30:26<br>detector: G1315C<br>pump: G7110B<br>start_time: 2021-08-13 11:30:59<br>end_time: 2021-08-13 11:34:59<br>runtime: 239.7000000000036",
          "index: 95<br>name: 210813_Pac--013<br>path: D:/ExtractedSignals\\210813_Pac 2021-08-13 10-37-27\\210813_Pac--013.D<br>batch: 210813_Pac 2021-08-13 10-37-27<br>batch_position: 13<br>idle_time: 278.0<br>sample: 0.025 mg/ml<br>method: SAA_411_Pac.M<br>timestamp: 2021-08-13 11:35:04<br>detector: G1315C<br>pump: G7110B<br>start_time: 2021-08-13 11:35:38<br>end_time: 2021-08-13 11:39:38<br>runtime: 239.7000000000036",
          "index: 96<br>name: 210813_Pac--014<br>path: D:/ExtractedSignals\\210813_Pac 2021-08-13 10-37-27\\210813_Pac--014.D<br>batch: 210813_Pac 2021-08-13 10-37-27<br>batch_position: 14<br>idle_time: 279.0<br>sample: Blank<br>method: SAA_411_Pac.M<br>timestamp: 2021-08-13 11:39:43<br>detector: G1315C<br>pump: G7110B<br>start_time: 2021-08-13 11:40:16<br>end_time: 2021-08-13 11:44:17<br>runtime: 239.7000000000036"
         ],
         "type": "scatter",
         "x": [
          0,
          1,
          2,
          3,
          4,
          5,
          6,
          7,
          8,
          9,
          10,
          11,
          12,
          13,
          14,
          15,
          16,
          17,
          18,
          19,
          20,
          21
         ],
         "y": [
          0.0023174753457747,
          0.041162456034389,
          0.0233034624036566,
          0.0421595361543344,
          0.0524277765788144,
          0.0796080643247148,
          0.0138860604421341,
          0.0286827651289916,
          0.0349078836051092,
          0.0278637328617255,
          0.0103172406930331,
          0.0285896040284615,
          0.0249110327193204,
          0.0576786568048617,
          0.0952714658593604,
          0.0331820666164277,
          0.0504638626100348,
          0.0519106405953871,
          0.0174033447387609,
          0.0571803174485206,
          0.0266650466364026,
          0.0323179155576738
         ]
        },
        {
         "hovertemplate": "<b>%{text}</b><br><b>x: </b>%{x}<br><b>residual_fft_mean_2: </b>%{y}<extra></extra>",
         "mode": "lines",
         "name": "residual_fft_mean_2",
         "text": [
          "index: 17<br>name: 210812_Pac--005<br>path: D:/ExtractedSignals\\210812_Pac 2021-08-12 10-30-07\\210812_Pac--005.D<br>batch: 210812_Pac 2021-08-12 10-30-07<br>batch_position: 5<br>idle_time: 279.0<br>sample: NaCl 0,9%<br>method: SAA_411_Pac.M<br>timestamp: 2021-08-12 10:50:23<br>detector: G1315C<br>pump: G7110B<br>start_time: 2021-08-12 10:50:57<br>end_time: 2021-08-12 10:54:57<br>runtime: 239.7000000000036",
          "index: 18<br>name: 210812_Pac--006<br>path: D:/ExtractedSignals\\210812_Pac 2021-08-12 10-30-07\\210812_Pac--006.D<br>batch: 210812_Pac 2021-08-12 10-30-07<br>batch_position: 6<br>idle_time: 279.0<br>sample: Blank<br>method: SAA_411_Pac.M<br>timestamp: 2021-08-12 10:55:02<br>detector: G1315C<br>pump: G7110B<br>start_time: 2021-08-12 10:55:36<br>end_time: 2021-08-12 10:59:36<br>runtime: 239.7000000000036",
          "index: 19<br>name: 210812_Pac--007<br>path: D:/ExtractedSignals\\210812_Pac 2021-08-12 10-30-07\\210812_Pac--007.D<br>batch: 210812_Pac 2021-08-12 10-30-07<br>batch_position: 7<br>idle_time: 279.0<br>sample: 0.025 mg/ml<br>method: SAA_411_Pac.M<br>timestamp: 2021-08-12 10:59:41<br>detector: G1315C<br>pump: G7110B<br>start_time: 2021-08-12 11:00:15<br>end_time: 2021-08-12 11:04:15<br>runtime: 239.7000000000036",
          "index: 20<br>name: 210812_Pac--008<br>path: D:/ExtractedSignals\\210812_Pac 2021-08-12 10-30-07\\210812_Pac--008.D<br>batch: 210812_Pac 2021-08-12 10-30-07<br>batch_position: 8<br>idle_time: 279.0<br>sample: Blank<br>method: SAA_411_Pac.M<br>timestamp: 2021-08-12 11:04:20<br>detector: G1315C<br>pump: G7110B<br>start_time: 2021-08-12 11:04:54<br>end_time: 2021-08-12 11:08:54<br>runtime: 239.7000000000036",
          "index: 21<br>name: 210812_Pac--009<br>path: D:/ExtractedSignals\\210812_Pac 2021-08-12 10-30-07\\210812_Pac--009.D<br>batch: 210812_Pac 2021-08-12 10-30-07<br>batch_position: 9<br>idle_time: 279.0<br>sample: 210806/036 :10<br>method: SAA_411_Pac.M<br>timestamp: 2021-08-12 11:08:59<br>detector: G1315C<br>pump: G7110B<br>start_time: 2021-08-12 11:09:32<br>end_time: 2021-08-12 11:13:32<br>runtime: 239.7000000000036",
          "index: 22<br>name: 210812_Pac--010<br>path: D:/ExtractedSignals\\210812_Pac 2021-08-12 10-30-07\\210812_Pac--010.D<br>batch: 210812_Pac 2021-08-12 10-30-07<br>batch_position: 10<br>idle_time: 278.0<br>sample: 210806/036 :10<br>method: SAA_411_Pac.M<br>timestamp: 2021-08-12 11:13:37<br>detector: G7110B<br>pump: G7110B<br>start_time: 2021-08-12 11:14:11<br>end_time: 2021-08-12 11:18:11<br>runtime: 239.7000000000036",
          "index: 23<br>name: 210812_Pac--011<br>path: D:/ExtractedSignals\\210812_Pac 2021-08-12 10-30-07\\210812_Pac--011.D<br>batch: 210812_Pac 2021-08-12 10-30-07<br>batch_position: 11<br>idle_time: 279.0<br>sample: 210806/036 :10<br>method: SAA_411_Pac.M<br>timestamp: 2021-08-12 11:18:16<br>detector: G7110B<br>pump: G7110B<br>start_time: 2021-08-12 11:18:50<br>end_time: 2021-08-12 11:22:50<br>runtime: 239.7000000000036",
          "index: 24<br>name: 210812_Pac--012<br>path: D:/ExtractedSignals\\210812_Pac 2021-08-12 10-30-07\\210812_Pac--012.D<br>batch: 210812_Pac 2021-08-12 10-30-07<br>batch_position: 12<br>idle_time: 279.0<br>sample: Blank<br>method: SAA_411_Pac.M<br>timestamp: 2021-08-12 11:22:55<br>detector: G1315C<br>pump: G7110B<br>start_time: 2021-08-12 11:23:29<br>end_time: 2021-08-12 11:27:29<br>runtime: 239.7000000000036",
          "index: 25<br>name: 210812_Pac--013<br>path: D:/ExtractedSignals\\210812_Pac 2021-08-12 10-30-07\\210812_Pac--013.D<br>batch: 210812_Pac 2021-08-12 10-30-07<br>batch_position: 13<br>idle_time: 279.0<br>sample: 0.025 mg/ml<br>method: SAA_411_Pac.M<br>timestamp: 2021-08-12 11:27:34<br>detector: G1315C<br>pump: G7110B<br>start_time: 2021-08-12 11:28:08<br>end_time: 2021-08-12 11:32:08<br>runtime: 239.7000000000036",
          "index: 26<br>name: 210812_Pac--014<br>path: D:/ExtractedSignals\\210812_Pac 2021-08-12 10-30-07\\210812_Pac--014.D<br>batch: 210812_Pac 2021-08-12 10-30-07<br>batch_position: 14<br>idle_time: 279.0<br>sample: Blank<br>method: SAA_411_Pac.M<br>timestamp: 2021-08-12 11:32:13<br>detector: G7110B<br>pump: G7110B<br>start_time: 2021-08-12 11:32:46<br>end_time: 2021-08-12 11:36:47<br>runtime: 239.7000000000036",
          "index: 85<br>name: 210813_Pac--003<br>path: D:/ExtractedSignals\\210813_Pac 2021-08-13 10-37-27\\210813_Pac--003.D<br>batch: 210813_Pac 2021-08-13 10-37-27<br>batch_position: 3<br>idle_time: 278.0<br>sample: Blank<br>method: SAA_411_Pac.M<br>timestamp: 2021-08-13 10:48:34<br>detector: G1315C<br>pump: G7116B<br>start_time: 2021-08-13 10:49:08<br>end_time: 2021-08-13 10:53:08<br>runtime: 239.7000000000036",
          "index: 86<br>name: 210813_Pac--004<br>path: D:/ExtractedSignals\\210813_Pac 2021-08-13 10-37-27\\210813_Pac--004.D<br>batch: 210813_Pac 2021-08-13 10-37-27<br>batch_position: 4<br>idle_time: 279.0<br>sample: Blank<br>method: SAA_411_Pac.M<br>timestamp: 2021-08-13 10:53:13<br>detector: G1315C<br>pump: G7110B<br>start_time: 2021-08-13 10:53:47<br>end_time: 2021-08-13 10:57:47<br>runtime: 239.7000000000036",
          "index: 87<br>name: 210813_Pac--005<br>path: D:/ExtractedSignals\\210813_Pac 2021-08-13 10-37-27\\210813_Pac--005.D<br>batch: 210813_Pac 2021-08-13 10-37-27<br>batch_position: 5<br>idle_time: 279.0<br>sample: NaCl 0,9%<br>method: SAA_411_Pac.M<br>timestamp: 2021-08-13 10:57:52<br>detector: G7110B<br>pump: G7110B<br>start_time: 2021-08-13 10:58:26<br>end_time: 2021-08-13 11:02:27<br>runtime: 239.7000000000036",
          "index: 88<br>name: 210813_Pac--006<br>path: D:/ExtractedSignals\\210813_Pac 2021-08-13 10-37-27\\210813_Pac--006.D<br>batch: 210813_Pac 2021-08-13 10-37-27<br>batch_position: 6<br>idle_time: 279.0<br>sample: Blank<br>method: SAA_411_Pac.M<br>timestamp: 2021-08-13 11:02:31<br>detector: G1315C<br>pump: G7110B<br>start_time: 2021-08-13 11:03:05<br>end_time: 2021-08-13 11:07:06<br>runtime: 239.7000000000036",
          "index: 89<br>name: 210813_Pac--007<br>path: D:/ExtractedSignals\\210813_Pac 2021-08-13 10-37-27\\210813_Pac--007.D<br>batch: 210813_Pac 2021-08-13 10-37-27<br>batch_position: 7<br>idle_time: 279.0<br>sample: 0.025 mg/ml<br>method: SAA_411_Pac.M<br>timestamp: 2021-08-13 11:07:10<br>detector: G1315C<br>pump: G7116B<br>start_time: 2021-08-13 11:07:44<br>end_time: 2021-08-13 11:11:45<br>runtime: 239.7000000000036",
          "index: 90<br>name: 210813_Pac--008<br>path: D:/ExtractedSignals\\210813_Pac 2021-08-13 10-37-27\\210813_Pac--008.D<br>batch: 210813_Pac 2021-08-13 10-37-27<br>batch_position: 8<br>idle_time: 279.0<br>sample: Blank<br>method: SAA_411_Pac.M<br>timestamp: 2021-08-13 11:11:49<br>detector: G1315C<br>pump: G7110B<br>start_time: 2021-08-13 11:12:23<br>end_time: 2021-08-13 11:16:23<br>runtime: 239.7000000000036",
          "index: 91<br>name: 210813_Pac--009<br>path: D:/ExtractedSignals\\210813_Pac 2021-08-13 10-37-27\\210813_Pac--009.D<br>batch: 210813_Pac 2021-08-13 10-37-27<br>batch_position: 9<br>idle_time: 279.0<br>sample: 210812/004 :20<br>method: SAA_411_Pac.M<br>timestamp: 2021-08-13 11:16:28<br>detector: G1315C<br>pump: G7110B<br>start_time: 2021-08-13 11:17:02<br>end_time: 2021-08-13 11:21:03<br>runtime: 239.7000000000036",
          "index: 92<br>name: 210813_Pac--010<br>path: D:/ExtractedSignals\\210813_Pac 2021-08-13 10-37-27\\210813_Pac--010.D<br>batch: 210813_Pac 2021-08-13 10-37-27<br>batch_position: 10<br>idle_time: 280.0<br>sample: 210812/004 :20<br>method: SAA_411_Pac.M<br>timestamp: 2021-08-13 11:21:08<br>detector: G1315C<br>pump: G7110B<br>start_time: 2021-08-13 11:21:41<br>end_time: 2021-08-13 11:25:42<br>runtime: 239.7000000000036",
          "index: 93<br>name: 210813_Pac--011<br>path: D:/ExtractedSignals\\210813_Pac 2021-08-13 10-37-27\\210813_Pac--011.D<br>batch: 210813_Pac 2021-08-13 10-37-27<br>batch_position: 11<br>idle_time: 278.0<br>sample: 210812/004 :20<br>method: SAA_411_Pac.M<br>timestamp: 2021-08-13 11:25:46<br>detector: G1315C<br>pump: G7110B<br>start_time: 2021-08-13 11:26:21<br>end_time: 2021-08-13 11:30:21<br>runtime: 239.7000000000036",
          "index: 94<br>name: 210813_Pac--012<br>path: D:/ExtractedSignals\\210813_Pac 2021-08-13 10-37-27\\210813_Pac--012.D<br>batch: 210813_Pac 2021-08-13 10-37-27<br>batch_position: 12<br>idle_time: 280.0<br>sample: Blank<br>method: SAA_411_Pac.M<br>timestamp: 2021-08-13 11:30:26<br>detector: G1315C<br>pump: G7110B<br>start_time: 2021-08-13 11:30:59<br>end_time: 2021-08-13 11:34:59<br>runtime: 239.7000000000036",
          "index: 95<br>name: 210813_Pac--013<br>path: D:/ExtractedSignals\\210813_Pac 2021-08-13 10-37-27\\210813_Pac--013.D<br>batch: 210813_Pac 2021-08-13 10-37-27<br>batch_position: 13<br>idle_time: 278.0<br>sample: 0.025 mg/ml<br>method: SAA_411_Pac.M<br>timestamp: 2021-08-13 11:35:04<br>detector: G1315C<br>pump: G7110B<br>start_time: 2021-08-13 11:35:38<br>end_time: 2021-08-13 11:39:38<br>runtime: 239.7000000000036",
          "index: 96<br>name: 210813_Pac--014<br>path: D:/ExtractedSignals\\210813_Pac 2021-08-13 10-37-27\\210813_Pac--014.D<br>batch: 210813_Pac 2021-08-13 10-37-27<br>batch_position: 14<br>idle_time: 279.0<br>sample: Blank<br>method: SAA_411_Pac.M<br>timestamp: 2021-08-13 11:39:43<br>detector: G1315C<br>pump: G7110B<br>start_time: 2021-08-13 11:40:16<br>end_time: 2021-08-13 11:44:17<br>runtime: 239.7000000000036"
         ],
         "type": "scatter",
         "x": [
          0,
          1,
          2,
          3,
          4,
          5,
          6,
          7,
          8,
          9,
          10,
          11,
          12,
          13,
          14,
          15,
          16,
          17,
          18,
          19,
          20,
          21
         ],
         "y": [
          0.008269584609189,
          0.0144245984070524,
          0.0148235569169513,
          0.0160259050512812,
          0.0191153711277323,
          0.0385288263664541,
          0.0089186263527546,
          0.0044122199475959,
          0.0069100611909189,
          0.0052904726716839,
          0.0085940496285655,
          0.008231120726196,
          0.0069430360738711,
          0.0069454063849872,
          0.0484397304026699,
          0.0036527954752566,
          0.0069487339197512,
          0.0122698568677798,
          0.0120622139228035,
          0.0066242347504409,
          0.0036061070919767,
          0.0059195268007819
         ]
        },
        {
         "hovertemplate": "<b>%{text}</b><br><b>x: </b>%{x}<br><b>residual_fft_sum_2: </b>%{y}<extra></extra>",
         "mode": "lines",
         "name": "residual_fft_sum_2",
         "text": [
          "index: 17<br>name: 210812_Pac--005<br>path: D:/ExtractedSignals\\210812_Pac 2021-08-12 10-30-07\\210812_Pac--005.D<br>batch: 210812_Pac 2021-08-12 10-30-07<br>batch_position: 5<br>idle_time: 279.0<br>sample: NaCl 0,9%<br>method: SAA_411_Pac.M<br>timestamp: 2021-08-12 10:50:23<br>detector: G1315C<br>pump: G7110B<br>start_time: 2021-08-12 10:50:57<br>end_time: 2021-08-12 10:54:57<br>runtime: 239.7000000000036",
          "index: 18<br>name: 210812_Pac--006<br>path: D:/ExtractedSignals\\210812_Pac 2021-08-12 10-30-07\\210812_Pac--006.D<br>batch: 210812_Pac 2021-08-12 10-30-07<br>batch_position: 6<br>idle_time: 279.0<br>sample: Blank<br>method: SAA_411_Pac.M<br>timestamp: 2021-08-12 10:55:02<br>detector: G1315C<br>pump: G7110B<br>start_time: 2021-08-12 10:55:36<br>end_time: 2021-08-12 10:59:36<br>runtime: 239.7000000000036",
          "index: 19<br>name: 210812_Pac--007<br>path: D:/ExtractedSignals\\210812_Pac 2021-08-12 10-30-07\\210812_Pac--007.D<br>batch: 210812_Pac 2021-08-12 10-30-07<br>batch_position: 7<br>idle_time: 279.0<br>sample: 0.025 mg/ml<br>method: SAA_411_Pac.M<br>timestamp: 2021-08-12 10:59:41<br>detector: G1315C<br>pump: G7110B<br>start_time: 2021-08-12 11:00:15<br>end_time: 2021-08-12 11:04:15<br>runtime: 239.7000000000036",
          "index: 20<br>name: 210812_Pac--008<br>path: D:/ExtractedSignals\\210812_Pac 2021-08-12 10-30-07\\210812_Pac--008.D<br>batch: 210812_Pac 2021-08-12 10-30-07<br>batch_position: 8<br>idle_time: 279.0<br>sample: Blank<br>method: SAA_411_Pac.M<br>timestamp: 2021-08-12 11:04:20<br>detector: G1315C<br>pump: G7110B<br>start_time: 2021-08-12 11:04:54<br>end_time: 2021-08-12 11:08:54<br>runtime: 239.7000000000036",
          "index: 21<br>name: 210812_Pac--009<br>path: D:/ExtractedSignals\\210812_Pac 2021-08-12 10-30-07\\210812_Pac--009.D<br>batch: 210812_Pac 2021-08-12 10-30-07<br>batch_position: 9<br>idle_time: 279.0<br>sample: 210806/036 :10<br>method: SAA_411_Pac.M<br>timestamp: 2021-08-12 11:08:59<br>detector: G1315C<br>pump: G7110B<br>start_time: 2021-08-12 11:09:32<br>end_time: 2021-08-12 11:13:32<br>runtime: 239.7000000000036",
          "index: 22<br>name: 210812_Pac--010<br>path: D:/ExtractedSignals\\210812_Pac 2021-08-12 10-30-07\\210812_Pac--010.D<br>batch: 210812_Pac 2021-08-12 10-30-07<br>batch_position: 10<br>idle_time: 278.0<br>sample: 210806/036 :10<br>method: SAA_411_Pac.M<br>timestamp: 2021-08-12 11:13:37<br>detector: G7110B<br>pump: G7110B<br>start_time: 2021-08-12 11:14:11<br>end_time: 2021-08-12 11:18:11<br>runtime: 239.7000000000036",
          "index: 23<br>name: 210812_Pac--011<br>path: D:/ExtractedSignals\\210812_Pac 2021-08-12 10-30-07\\210812_Pac--011.D<br>batch: 210812_Pac 2021-08-12 10-30-07<br>batch_position: 11<br>idle_time: 279.0<br>sample: 210806/036 :10<br>method: SAA_411_Pac.M<br>timestamp: 2021-08-12 11:18:16<br>detector: G7110B<br>pump: G7110B<br>start_time: 2021-08-12 11:18:50<br>end_time: 2021-08-12 11:22:50<br>runtime: 239.7000000000036",
          "index: 24<br>name: 210812_Pac--012<br>path: D:/ExtractedSignals\\210812_Pac 2021-08-12 10-30-07\\210812_Pac--012.D<br>batch: 210812_Pac 2021-08-12 10-30-07<br>batch_position: 12<br>idle_time: 279.0<br>sample: Blank<br>method: SAA_411_Pac.M<br>timestamp: 2021-08-12 11:22:55<br>detector: G1315C<br>pump: G7110B<br>start_time: 2021-08-12 11:23:29<br>end_time: 2021-08-12 11:27:29<br>runtime: 239.7000000000036",
          "index: 25<br>name: 210812_Pac--013<br>path: D:/ExtractedSignals\\210812_Pac 2021-08-12 10-30-07\\210812_Pac--013.D<br>batch: 210812_Pac 2021-08-12 10-30-07<br>batch_position: 13<br>idle_time: 279.0<br>sample: 0.025 mg/ml<br>method: SAA_411_Pac.M<br>timestamp: 2021-08-12 11:27:34<br>detector: G1315C<br>pump: G7110B<br>start_time: 2021-08-12 11:28:08<br>end_time: 2021-08-12 11:32:08<br>runtime: 239.7000000000036",
          "index: 26<br>name: 210812_Pac--014<br>path: D:/ExtractedSignals\\210812_Pac 2021-08-12 10-30-07\\210812_Pac--014.D<br>batch: 210812_Pac 2021-08-12 10-30-07<br>batch_position: 14<br>idle_time: 279.0<br>sample: Blank<br>method: SAA_411_Pac.M<br>timestamp: 2021-08-12 11:32:13<br>detector: G7110B<br>pump: G7110B<br>start_time: 2021-08-12 11:32:46<br>end_time: 2021-08-12 11:36:47<br>runtime: 239.7000000000036",
          "index: 85<br>name: 210813_Pac--003<br>path: D:/ExtractedSignals\\210813_Pac 2021-08-13 10-37-27\\210813_Pac--003.D<br>batch: 210813_Pac 2021-08-13 10-37-27<br>batch_position: 3<br>idle_time: 278.0<br>sample: Blank<br>method: SAA_411_Pac.M<br>timestamp: 2021-08-13 10:48:34<br>detector: G1315C<br>pump: G7116B<br>start_time: 2021-08-13 10:49:08<br>end_time: 2021-08-13 10:53:08<br>runtime: 239.7000000000036",
          "index: 86<br>name: 210813_Pac--004<br>path: D:/ExtractedSignals\\210813_Pac 2021-08-13 10-37-27\\210813_Pac--004.D<br>batch: 210813_Pac 2021-08-13 10-37-27<br>batch_position: 4<br>idle_time: 279.0<br>sample: Blank<br>method: SAA_411_Pac.M<br>timestamp: 2021-08-13 10:53:13<br>detector: G1315C<br>pump: G7110B<br>start_time: 2021-08-13 10:53:47<br>end_time: 2021-08-13 10:57:47<br>runtime: 239.7000000000036",
          "index: 87<br>name: 210813_Pac--005<br>path: D:/ExtractedSignals\\210813_Pac 2021-08-13 10-37-27\\210813_Pac--005.D<br>batch: 210813_Pac 2021-08-13 10-37-27<br>batch_position: 5<br>idle_time: 279.0<br>sample: NaCl 0,9%<br>method: SAA_411_Pac.M<br>timestamp: 2021-08-13 10:57:52<br>detector: G7110B<br>pump: G7110B<br>start_time: 2021-08-13 10:58:26<br>end_time: 2021-08-13 11:02:27<br>runtime: 239.7000000000036",
          "index: 88<br>name: 210813_Pac--006<br>path: D:/ExtractedSignals\\210813_Pac 2021-08-13 10-37-27\\210813_Pac--006.D<br>batch: 210813_Pac 2021-08-13 10-37-27<br>batch_position: 6<br>idle_time: 279.0<br>sample: Blank<br>method: SAA_411_Pac.M<br>timestamp: 2021-08-13 11:02:31<br>detector: G1315C<br>pump: G7110B<br>start_time: 2021-08-13 11:03:05<br>end_time: 2021-08-13 11:07:06<br>runtime: 239.7000000000036",
          "index: 89<br>name: 210813_Pac--007<br>path: D:/ExtractedSignals\\210813_Pac 2021-08-13 10-37-27\\210813_Pac--007.D<br>batch: 210813_Pac 2021-08-13 10-37-27<br>batch_position: 7<br>idle_time: 279.0<br>sample: 0.025 mg/ml<br>method: SAA_411_Pac.M<br>timestamp: 2021-08-13 11:07:10<br>detector: G1315C<br>pump: G7116B<br>start_time: 2021-08-13 11:07:44<br>end_time: 2021-08-13 11:11:45<br>runtime: 239.7000000000036",
          "index: 90<br>name: 210813_Pac--008<br>path: D:/ExtractedSignals\\210813_Pac 2021-08-13 10-37-27\\210813_Pac--008.D<br>batch: 210813_Pac 2021-08-13 10-37-27<br>batch_position: 8<br>idle_time: 279.0<br>sample: Blank<br>method: SAA_411_Pac.M<br>timestamp: 2021-08-13 11:11:49<br>detector: G1315C<br>pump: G7110B<br>start_time: 2021-08-13 11:12:23<br>end_time: 2021-08-13 11:16:23<br>runtime: 239.7000000000036",
          "index: 91<br>name: 210813_Pac--009<br>path: D:/ExtractedSignals\\210813_Pac 2021-08-13 10-37-27\\210813_Pac--009.D<br>batch: 210813_Pac 2021-08-13 10-37-27<br>batch_position: 9<br>idle_time: 279.0<br>sample: 210812/004 :20<br>method: SAA_411_Pac.M<br>timestamp: 2021-08-13 11:16:28<br>detector: G1315C<br>pump: G7110B<br>start_time: 2021-08-13 11:17:02<br>end_time: 2021-08-13 11:21:03<br>runtime: 239.7000000000036",
          "index: 92<br>name: 210813_Pac--010<br>path: D:/ExtractedSignals\\210813_Pac 2021-08-13 10-37-27\\210813_Pac--010.D<br>batch: 210813_Pac 2021-08-13 10-37-27<br>batch_position: 10<br>idle_time: 280.0<br>sample: 210812/004 :20<br>method: SAA_411_Pac.M<br>timestamp: 2021-08-13 11:21:08<br>detector: G1315C<br>pump: G7110B<br>start_time: 2021-08-13 11:21:41<br>end_time: 2021-08-13 11:25:42<br>runtime: 239.7000000000036",
          "index: 93<br>name: 210813_Pac--011<br>path: D:/ExtractedSignals\\210813_Pac 2021-08-13 10-37-27\\210813_Pac--011.D<br>batch: 210813_Pac 2021-08-13 10-37-27<br>batch_position: 11<br>idle_time: 278.0<br>sample: 210812/004 :20<br>method: SAA_411_Pac.M<br>timestamp: 2021-08-13 11:25:46<br>detector: G1315C<br>pump: G7110B<br>start_time: 2021-08-13 11:26:21<br>end_time: 2021-08-13 11:30:21<br>runtime: 239.7000000000036",
          "index: 94<br>name: 210813_Pac--012<br>path: D:/ExtractedSignals\\210813_Pac 2021-08-13 10-37-27\\210813_Pac--012.D<br>batch: 210813_Pac 2021-08-13 10-37-27<br>batch_position: 12<br>idle_time: 280.0<br>sample: Blank<br>method: SAA_411_Pac.M<br>timestamp: 2021-08-13 11:30:26<br>detector: G1315C<br>pump: G7110B<br>start_time: 2021-08-13 11:30:59<br>end_time: 2021-08-13 11:34:59<br>runtime: 239.7000000000036",
          "index: 95<br>name: 210813_Pac--013<br>path: D:/ExtractedSignals\\210813_Pac 2021-08-13 10-37-27\\210813_Pac--013.D<br>batch: 210813_Pac 2021-08-13 10-37-27<br>batch_position: 13<br>idle_time: 278.0<br>sample: 0.025 mg/ml<br>method: SAA_411_Pac.M<br>timestamp: 2021-08-13 11:35:04<br>detector: G1315C<br>pump: G7110B<br>start_time: 2021-08-13 11:35:38<br>end_time: 2021-08-13 11:39:38<br>runtime: 239.7000000000036",
          "index: 96<br>name: 210813_Pac--014<br>path: D:/ExtractedSignals\\210813_Pac 2021-08-13 10-37-27\\210813_Pac--014.D<br>batch: 210813_Pac 2021-08-13 10-37-27<br>batch_position: 14<br>idle_time: 279.0<br>sample: Blank<br>method: SAA_411_Pac.M<br>timestamp: 2021-08-13 11:39:43<br>detector: G1315C<br>pump: G7110B<br>start_time: 2021-08-13 11:40:16<br>end_time: 2021-08-13 11:44:17<br>runtime: 239.7000000000036"
         ],
         "type": "scatter",
         "x": [
          0,
          1,
          2,
          3,
          4,
          5,
          6,
          7,
          8,
          9,
          10,
          11,
          12,
          13,
          14,
          15,
          16,
          17,
          18,
          19,
          20,
          21
         ],
         "y": [
          0.008269584609189,
          0.0144245984070524,
          0.0148235569169513,
          0.0160259050512812,
          0.0191153711277323,
          0.0385288263664541,
          0.0089186263527546,
          0.0044122199475959,
          0.0069100611909189,
          0.0052904726716839,
          0.0085940496285655,
          0.008231120726196,
          0.0069430360738711,
          0.0069454063849872,
          0.0484397304026699,
          0.0036527954752566,
          0.0069487339197512,
          0.0122698568677798,
          0.0120622139228035,
          0.0066242347504409,
          0.0036061070919767,
          0.0059195268007819
         ]
        },
        {
         "hovertemplate": "<b>%{text}</b><br><b>x: </b>%{x}<br><b>seasonal_fft_mean_3: </b>%{y}<extra></extra>",
         "mode": "lines",
         "name": "seasonal_fft_mean_3",
         "text": [
          "index: 17<br>name: 210812_Pac--005<br>path: D:/ExtractedSignals\\210812_Pac 2021-08-12 10-30-07\\210812_Pac--005.D<br>batch: 210812_Pac 2021-08-12 10-30-07<br>batch_position: 5<br>idle_time: 279.0<br>sample: NaCl 0,9%<br>method: SAA_411_Pac.M<br>timestamp: 2021-08-12 10:50:23<br>detector: G1315C<br>pump: G7110B<br>start_time: 2021-08-12 10:50:57<br>end_time: 2021-08-12 10:54:57<br>runtime: 239.7000000000036",
          "index: 18<br>name: 210812_Pac--006<br>path: D:/ExtractedSignals\\210812_Pac 2021-08-12 10-30-07\\210812_Pac--006.D<br>batch: 210812_Pac 2021-08-12 10-30-07<br>batch_position: 6<br>idle_time: 279.0<br>sample: Blank<br>method: SAA_411_Pac.M<br>timestamp: 2021-08-12 10:55:02<br>detector: G1315C<br>pump: G7110B<br>start_time: 2021-08-12 10:55:36<br>end_time: 2021-08-12 10:59:36<br>runtime: 239.7000000000036",
          "index: 19<br>name: 210812_Pac--007<br>path: D:/ExtractedSignals\\210812_Pac 2021-08-12 10-30-07\\210812_Pac--007.D<br>batch: 210812_Pac 2021-08-12 10-30-07<br>batch_position: 7<br>idle_time: 279.0<br>sample: 0.025 mg/ml<br>method: SAA_411_Pac.M<br>timestamp: 2021-08-12 10:59:41<br>detector: G1315C<br>pump: G7110B<br>start_time: 2021-08-12 11:00:15<br>end_time: 2021-08-12 11:04:15<br>runtime: 239.7000000000036",
          "index: 20<br>name: 210812_Pac--008<br>path: D:/ExtractedSignals\\210812_Pac 2021-08-12 10-30-07\\210812_Pac--008.D<br>batch: 210812_Pac 2021-08-12 10-30-07<br>batch_position: 8<br>idle_time: 279.0<br>sample: Blank<br>method: SAA_411_Pac.M<br>timestamp: 2021-08-12 11:04:20<br>detector: G1315C<br>pump: G7110B<br>start_time: 2021-08-12 11:04:54<br>end_time: 2021-08-12 11:08:54<br>runtime: 239.7000000000036",
          "index: 21<br>name: 210812_Pac--009<br>path: D:/ExtractedSignals\\210812_Pac 2021-08-12 10-30-07\\210812_Pac--009.D<br>batch: 210812_Pac 2021-08-12 10-30-07<br>batch_position: 9<br>idle_time: 279.0<br>sample: 210806/036 :10<br>method: SAA_411_Pac.M<br>timestamp: 2021-08-12 11:08:59<br>detector: G1315C<br>pump: G7110B<br>start_time: 2021-08-12 11:09:32<br>end_time: 2021-08-12 11:13:32<br>runtime: 239.7000000000036",
          "index: 22<br>name: 210812_Pac--010<br>path: D:/ExtractedSignals\\210812_Pac 2021-08-12 10-30-07\\210812_Pac--010.D<br>batch: 210812_Pac 2021-08-12 10-30-07<br>batch_position: 10<br>idle_time: 278.0<br>sample: 210806/036 :10<br>method: SAA_411_Pac.M<br>timestamp: 2021-08-12 11:13:37<br>detector: G7110B<br>pump: G7110B<br>start_time: 2021-08-12 11:14:11<br>end_time: 2021-08-12 11:18:11<br>runtime: 239.7000000000036",
          "index: 23<br>name: 210812_Pac--011<br>path: D:/ExtractedSignals\\210812_Pac 2021-08-12 10-30-07\\210812_Pac--011.D<br>batch: 210812_Pac 2021-08-12 10-30-07<br>batch_position: 11<br>idle_time: 279.0<br>sample: 210806/036 :10<br>method: SAA_411_Pac.M<br>timestamp: 2021-08-12 11:18:16<br>detector: G7110B<br>pump: G7110B<br>start_time: 2021-08-12 11:18:50<br>end_time: 2021-08-12 11:22:50<br>runtime: 239.7000000000036",
          "index: 24<br>name: 210812_Pac--012<br>path: D:/ExtractedSignals\\210812_Pac 2021-08-12 10-30-07\\210812_Pac--012.D<br>batch: 210812_Pac 2021-08-12 10-30-07<br>batch_position: 12<br>idle_time: 279.0<br>sample: Blank<br>method: SAA_411_Pac.M<br>timestamp: 2021-08-12 11:22:55<br>detector: G1315C<br>pump: G7110B<br>start_time: 2021-08-12 11:23:29<br>end_time: 2021-08-12 11:27:29<br>runtime: 239.7000000000036",
          "index: 25<br>name: 210812_Pac--013<br>path: D:/ExtractedSignals\\210812_Pac 2021-08-12 10-30-07\\210812_Pac--013.D<br>batch: 210812_Pac 2021-08-12 10-30-07<br>batch_position: 13<br>idle_time: 279.0<br>sample: 0.025 mg/ml<br>method: SAA_411_Pac.M<br>timestamp: 2021-08-12 11:27:34<br>detector: G1315C<br>pump: G7110B<br>start_time: 2021-08-12 11:28:08<br>end_time: 2021-08-12 11:32:08<br>runtime: 239.7000000000036",
          "index: 26<br>name: 210812_Pac--014<br>path: D:/ExtractedSignals\\210812_Pac 2021-08-12 10-30-07\\210812_Pac--014.D<br>batch: 210812_Pac 2021-08-12 10-30-07<br>batch_position: 14<br>idle_time: 279.0<br>sample: Blank<br>method: SAA_411_Pac.M<br>timestamp: 2021-08-12 11:32:13<br>detector: G7110B<br>pump: G7110B<br>start_time: 2021-08-12 11:32:46<br>end_time: 2021-08-12 11:36:47<br>runtime: 239.7000000000036",
          "index: 85<br>name: 210813_Pac--003<br>path: D:/ExtractedSignals\\210813_Pac 2021-08-13 10-37-27\\210813_Pac--003.D<br>batch: 210813_Pac 2021-08-13 10-37-27<br>batch_position: 3<br>idle_time: 278.0<br>sample: Blank<br>method: SAA_411_Pac.M<br>timestamp: 2021-08-13 10:48:34<br>detector: G1315C<br>pump: G7116B<br>start_time: 2021-08-13 10:49:08<br>end_time: 2021-08-13 10:53:08<br>runtime: 239.7000000000036",
          "index: 86<br>name: 210813_Pac--004<br>path: D:/ExtractedSignals\\210813_Pac 2021-08-13 10-37-27\\210813_Pac--004.D<br>batch: 210813_Pac 2021-08-13 10-37-27<br>batch_position: 4<br>idle_time: 279.0<br>sample: Blank<br>method: SAA_411_Pac.M<br>timestamp: 2021-08-13 10:53:13<br>detector: G1315C<br>pump: G7110B<br>start_time: 2021-08-13 10:53:47<br>end_time: 2021-08-13 10:57:47<br>runtime: 239.7000000000036",
          "index: 87<br>name: 210813_Pac--005<br>path: D:/ExtractedSignals\\210813_Pac 2021-08-13 10-37-27\\210813_Pac--005.D<br>batch: 210813_Pac 2021-08-13 10-37-27<br>batch_position: 5<br>idle_time: 279.0<br>sample: NaCl 0,9%<br>method: SAA_411_Pac.M<br>timestamp: 2021-08-13 10:57:52<br>detector: G7110B<br>pump: G7110B<br>start_time: 2021-08-13 10:58:26<br>end_time: 2021-08-13 11:02:27<br>runtime: 239.7000000000036",
          "index: 88<br>name: 210813_Pac--006<br>path: D:/ExtractedSignals\\210813_Pac 2021-08-13 10-37-27\\210813_Pac--006.D<br>batch: 210813_Pac 2021-08-13 10-37-27<br>batch_position: 6<br>idle_time: 279.0<br>sample: Blank<br>method: SAA_411_Pac.M<br>timestamp: 2021-08-13 11:02:31<br>detector: G1315C<br>pump: G7110B<br>start_time: 2021-08-13 11:03:05<br>end_time: 2021-08-13 11:07:06<br>runtime: 239.7000000000036",
          "index: 89<br>name: 210813_Pac--007<br>path: D:/ExtractedSignals\\210813_Pac 2021-08-13 10-37-27\\210813_Pac--007.D<br>batch: 210813_Pac 2021-08-13 10-37-27<br>batch_position: 7<br>idle_time: 279.0<br>sample: 0.025 mg/ml<br>method: SAA_411_Pac.M<br>timestamp: 2021-08-13 11:07:10<br>detector: G1315C<br>pump: G7116B<br>start_time: 2021-08-13 11:07:44<br>end_time: 2021-08-13 11:11:45<br>runtime: 239.7000000000036",
          "index: 90<br>name: 210813_Pac--008<br>path: D:/ExtractedSignals\\210813_Pac 2021-08-13 10-37-27\\210813_Pac--008.D<br>batch: 210813_Pac 2021-08-13 10-37-27<br>batch_position: 8<br>idle_time: 279.0<br>sample: Blank<br>method: SAA_411_Pac.M<br>timestamp: 2021-08-13 11:11:49<br>detector: G1315C<br>pump: G7110B<br>start_time: 2021-08-13 11:12:23<br>end_time: 2021-08-13 11:16:23<br>runtime: 239.7000000000036",
          "index: 91<br>name: 210813_Pac--009<br>path: D:/ExtractedSignals\\210813_Pac 2021-08-13 10-37-27\\210813_Pac--009.D<br>batch: 210813_Pac 2021-08-13 10-37-27<br>batch_position: 9<br>idle_time: 279.0<br>sample: 210812/004 :20<br>method: SAA_411_Pac.M<br>timestamp: 2021-08-13 11:16:28<br>detector: G1315C<br>pump: G7110B<br>start_time: 2021-08-13 11:17:02<br>end_time: 2021-08-13 11:21:03<br>runtime: 239.7000000000036",
          "index: 92<br>name: 210813_Pac--010<br>path: D:/ExtractedSignals\\210813_Pac 2021-08-13 10-37-27\\210813_Pac--010.D<br>batch: 210813_Pac 2021-08-13 10-37-27<br>batch_position: 10<br>idle_time: 280.0<br>sample: 210812/004 :20<br>method: SAA_411_Pac.M<br>timestamp: 2021-08-13 11:21:08<br>detector: G1315C<br>pump: G7110B<br>start_time: 2021-08-13 11:21:41<br>end_time: 2021-08-13 11:25:42<br>runtime: 239.7000000000036",
          "index: 93<br>name: 210813_Pac--011<br>path: D:/ExtractedSignals\\210813_Pac 2021-08-13 10-37-27\\210813_Pac--011.D<br>batch: 210813_Pac 2021-08-13 10-37-27<br>batch_position: 11<br>idle_time: 278.0<br>sample: 210812/004 :20<br>method: SAA_411_Pac.M<br>timestamp: 2021-08-13 11:25:46<br>detector: G1315C<br>pump: G7110B<br>start_time: 2021-08-13 11:26:21<br>end_time: 2021-08-13 11:30:21<br>runtime: 239.7000000000036",
          "index: 94<br>name: 210813_Pac--012<br>path: D:/ExtractedSignals\\210813_Pac 2021-08-13 10-37-27\\210813_Pac--012.D<br>batch: 210813_Pac 2021-08-13 10-37-27<br>batch_position: 12<br>idle_time: 280.0<br>sample: Blank<br>method: SAA_411_Pac.M<br>timestamp: 2021-08-13 11:30:26<br>detector: G1315C<br>pump: G7110B<br>start_time: 2021-08-13 11:30:59<br>end_time: 2021-08-13 11:34:59<br>runtime: 239.7000000000036",
          "index: 95<br>name: 210813_Pac--013<br>path: D:/ExtractedSignals\\210813_Pac 2021-08-13 10-37-27\\210813_Pac--013.D<br>batch: 210813_Pac 2021-08-13 10-37-27<br>batch_position: 13<br>idle_time: 278.0<br>sample: 0.025 mg/ml<br>method: SAA_411_Pac.M<br>timestamp: 2021-08-13 11:35:04<br>detector: G1315C<br>pump: G7110B<br>start_time: 2021-08-13 11:35:38<br>end_time: 2021-08-13 11:39:38<br>runtime: 239.7000000000036",
          "index: 96<br>name: 210813_Pac--014<br>path: D:/ExtractedSignals\\210813_Pac 2021-08-13 10-37-27\\210813_Pac--014.D<br>batch: 210813_Pac 2021-08-13 10-37-27<br>batch_position: 14<br>idle_time: 279.0<br>sample: Blank<br>method: SAA_411_Pac.M<br>timestamp: 2021-08-13 11:39:43<br>detector: G1315C<br>pump: G7110B<br>start_time: 2021-08-13 11:40:16<br>end_time: 2021-08-13 11:44:17<br>runtime: 239.7000000000036"
         ],
         "type": "scatter",
         "x": [
          0,
          1,
          2,
          3,
          4,
          5,
          6,
          7,
          8,
          9,
          10,
          11,
          12,
          13,
          14,
          15,
          16,
          17,
          18,
          19,
          20,
          21
         ],
         "y": [
          0.0826127778730677,
          0.0427157228492202,
          0.0999905477326278,
          0.2239251746792872,
          0.0702283479780808,
          0.2250501055991345,
          0.055084704390628,
          0.0680124098665646,
          0.1273022867080594,
          0.0841215961764265,
          0.0843540592270175,
          0.1537328155123305,
          0.1083304689867585,
          0.0758213877944339,
          0.1689659295204817,
          0.0189873799238616,
          0.1003779881908413,
          0.131668587527266,
          0.12080066866811,
          0.0933537743998518,
          0.0387778252246054,
          0.0713512108433782
         ]
        },
        {
         "hovertemplate": "<b>%{text}</b><br><b>x: </b>%{x}<br><b>seasonal_fft_sum_3: </b>%{y}<extra></extra>",
         "mode": "lines",
         "name": "seasonal_fft_sum_3",
         "text": [
          "index: 17<br>name: 210812_Pac--005<br>path: D:/ExtractedSignals\\210812_Pac 2021-08-12 10-30-07\\210812_Pac--005.D<br>batch: 210812_Pac 2021-08-12 10-30-07<br>batch_position: 5<br>idle_time: 279.0<br>sample: NaCl 0,9%<br>method: SAA_411_Pac.M<br>timestamp: 2021-08-12 10:50:23<br>detector: G1315C<br>pump: G7110B<br>start_time: 2021-08-12 10:50:57<br>end_time: 2021-08-12 10:54:57<br>runtime: 239.7000000000036",
          "index: 18<br>name: 210812_Pac--006<br>path: D:/ExtractedSignals\\210812_Pac 2021-08-12 10-30-07\\210812_Pac--006.D<br>batch: 210812_Pac 2021-08-12 10-30-07<br>batch_position: 6<br>idle_time: 279.0<br>sample: Blank<br>method: SAA_411_Pac.M<br>timestamp: 2021-08-12 10:55:02<br>detector: G1315C<br>pump: G7110B<br>start_time: 2021-08-12 10:55:36<br>end_time: 2021-08-12 10:59:36<br>runtime: 239.7000000000036",
          "index: 19<br>name: 210812_Pac--007<br>path: D:/ExtractedSignals\\210812_Pac 2021-08-12 10-30-07\\210812_Pac--007.D<br>batch: 210812_Pac 2021-08-12 10-30-07<br>batch_position: 7<br>idle_time: 279.0<br>sample: 0.025 mg/ml<br>method: SAA_411_Pac.M<br>timestamp: 2021-08-12 10:59:41<br>detector: G1315C<br>pump: G7110B<br>start_time: 2021-08-12 11:00:15<br>end_time: 2021-08-12 11:04:15<br>runtime: 239.7000000000036",
          "index: 20<br>name: 210812_Pac--008<br>path: D:/ExtractedSignals\\210812_Pac 2021-08-12 10-30-07\\210812_Pac--008.D<br>batch: 210812_Pac 2021-08-12 10-30-07<br>batch_position: 8<br>idle_time: 279.0<br>sample: Blank<br>method: SAA_411_Pac.M<br>timestamp: 2021-08-12 11:04:20<br>detector: G1315C<br>pump: G7110B<br>start_time: 2021-08-12 11:04:54<br>end_time: 2021-08-12 11:08:54<br>runtime: 239.7000000000036",
          "index: 21<br>name: 210812_Pac--009<br>path: D:/ExtractedSignals\\210812_Pac 2021-08-12 10-30-07\\210812_Pac--009.D<br>batch: 210812_Pac 2021-08-12 10-30-07<br>batch_position: 9<br>idle_time: 279.0<br>sample: 210806/036 :10<br>method: SAA_411_Pac.M<br>timestamp: 2021-08-12 11:08:59<br>detector: G1315C<br>pump: G7110B<br>start_time: 2021-08-12 11:09:32<br>end_time: 2021-08-12 11:13:32<br>runtime: 239.7000000000036",
          "index: 22<br>name: 210812_Pac--010<br>path: D:/ExtractedSignals\\210812_Pac 2021-08-12 10-30-07\\210812_Pac--010.D<br>batch: 210812_Pac 2021-08-12 10-30-07<br>batch_position: 10<br>idle_time: 278.0<br>sample: 210806/036 :10<br>method: SAA_411_Pac.M<br>timestamp: 2021-08-12 11:13:37<br>detector: G7110B<br>pump: G7110B<br>start_time: 2021-08-12 11:14:11<br>end_time: 2021-08-12 11:18:11<br>runtime: 239.7000000000036",
          "index: 23<br>name: 210812_Pac--011<br>path: D:/ExtractedSignals\\210812_Pac 2021-08-12 10-30-07\\210812_Pac--011.D<br>batch: 210812_Pac 2021-08-12 10-30-07<br>batch_position: 11<br>idle_time: 279.0<br>sample: 210806/036 :10<br>method: SAA_411_Pac.M<br>timestamp: 2021-08-12 11:18:16<br>detector: G7110B<br>pump: G7110B<br>start_time: 2021-08-12 11:18:50<br>end_time: 2021-08-12 11:22:50<br>runtime: 239.7000000000036",
          "index: 24<br>name: 210812_Pac--012<br>path: D:/ExtractedSignals\\210812_Pac 2021-08-12 10-30-07\\210812_Pac--012.D<br>batch: 210812_Pac 2021-08-12 10-30-07<br>batch_position: 12<br>idle_time: 279.0<br>sample: Blank<br>method: SAA_411_Pac.M<br>timestamp: 2021-08-12 11:22:55<br>detector: G1315C<br>pump: G7110B<br>start_time: 2021-08-12 11:23:29<br>end_time: 2021-08-12 11:27:29<br>runtime: 239.7000000000036",
          "index: 25<br>name: 210812_Pac--013<br>path: D:/ExtractedSignals\\210812_Pac 2021-08-12 10-30-07\\210812_Pac--013.D<br>batch: 210812_Pac 2021-08-12 10-30-07<br>batch_position: 13<br>idle_time: 279.0<br>sample: 0.025 mg/ml<br>method: SAA_411_Pac.M<br>timestamp: 2021-08-12 11:27:34<br>detector: G1315C<br>pump: G7110B<br>start_time: 2021-08-12 11:28:08<br>end_time: 2021-08-12 11:32:08<br>runtime: 239.7000000000036",
          "index: 26<br>name: 210812_Pac--014<br>path: D:/ExtractedSignals\\210812_Pac 2021-08-12 10-30-07\\210812_Pac--014.D<br>batch: 210812_Pac 2021-08-12 10-30-07<br>batch_position: 14<br>idle_time: 279.0<br>sample: Blank<br>method: SAA_411_Pac.M<br>timestamp: 2021-08-12 11:32:13<br>detector: G7110B<br>pump: G7110B<br>start_time: 2021-08-12 11:32:46<br>end_time: 2021-08-12 11:36:47<br>runtime: 239.7000000000036",
          "index: 85<br>name: 210813_Pac--003<br>path: D:/ExtractedSignals\\210813_Pac 2021-08-13 10-37-27\\210813_Pac--003.D<br>batch: 210813_Pac 2021-08-13 10-37-27<br>batch_position: 3<br>idle_time: 278.0<br>sample: Blank<br>method: SAA_411_Pac.M<br>timestamp: 2021-08-13 10:48:34<br>detector: G1315C<br>pump: G7116B<br>start_time: 2021-08-13 10:49:08<br>end_time: 2021-08-13 10:53:08<br>runtime: 239.7000000000036",
          "index: 86<br>name: 210813_Pac--004<br>path: D:/ExtractedSignals\\210813_Pac 2021-08-13 10-37-27\\210813_Pac--004.D<br>batch: 210813_Pac 2021-08-13 10-37-27<br>batch_position: 4<br>idle_time: 279.0<br>sample: Blank<br>method: SAA_411_Pac.M<br>timestamp: 2021-08-13 10:53:13<br>detector: G1315C<br>pump: G7110B<br>start_time: 2021-08-13 10:53:47<br>end_time: 2021-08-13 10:57:47<br>runtime: 239.7000000000036",
          "index: 87<br>name: 210813_Pac--005<br>path: D:/ExtractedSignals\\210813_Pac 2021-08-13 10-37-27\\210813_Pac--005.D<br>batch: 210813_Pac 2021-08-13 10-37-27<br>batch_position: 5<br>idle_time: 279.0<br>sample: NaCl 0,9%<br>method: SAA_411_Pac.M<br>timestamp: 2021-08-13 10:57:52<br>detector: G7110B<br>pump: G7110B<br>start_time: 2021-08-13 10:58:26<br>end_time: 2021-08-13 11:02:27<br>runtime: 239.7000000000036",
          "index: 88<br>name: 210813_Pac--006<br>path: D:/ExtractedSignals\\210813_Pac 2021-08-13 10-37-27\\210813_Pac--006.D<br>batch: 210813_Pac 2021-08-13 10-37-27<br>batch_position: 6<br>idle_time: 279.0<br>sample: Blank<br>method: SAA_411_Pac.M<br>timestamp: 2021-08-13 11:02:31<br>detector: G1315C<br>pump: G7110B<br>start_time: 2021-08-13 11:03:05<br>end_time: 2021-08-13 11:07:06<br>runtime: 239.7000000000036",
          "index: 89<br>name: 210813_Pac--007<br>path: D:/ExtractedSignals\\210813_Pac 2021-08-13 10-37-27\\210813_Pac--007.D<br>batch: 210813_Pac 2021-08-13 10-37-27<br>batch_position: 7<br>idle_time: 279.0<br>sample: 0.025 mg/ml<br>method: SAA_411_Pac.M<br>timestamp: 2021-08-13 11:07:10<br>detector: G1315C<br>pump: G7116B<br>start_time: 2021-08-13 11:07:44<br>end_time: 2021-08-13 11:11:45<br>runtime: 239.7000000000036",
          "index: 90<br>name: 210813_Pac--008<br>path: D:/ExtractedSignals\\210813_Pac 2021-08-13 10-37-27\\210813_Pac--008.D<br>batch: 210813_Pac 2021-08-13 10-37-27<br>batch_position: 8<br>idle_time: 279.0<br>sample: Blank<br>method: SAA_411_Pac.M<br>timestamp: 2021-08-13 11:11:49<br>detector: G1315C<br>pump: G7110B<br>start_time: 2021-08-13 11:12:23<br>end_time: 2021-08-13 11:16:23<br>runtime: 239.7000000000036",
          "index: 91<br>name: 210813_Pac--009<br>path: D:/ExtractedSignals\\210813_Pac 2021-08-13 10-37-27\\210813_Pac--009.D<br>batch: 210813_Pac 2021-08-13 10-37-27<br>batch_position: 9<br>idle_time: 279.0<br>sample: 210812/004 :20<br>method: SAA_411_Pac.M<br>timestamp: 2021-08-13 11:16:28<br>detector: G1315C<br>pump: G7110B<br>start_time: 2021-08-13 11:17:02<br>end_time: 2021-08-13 11:21:03<br>runtime: 239.7000000000036",
          "index: 92<br>name: 210813_Pac--010<br>path: D:/ExtractedSignals\\210813_Pac 2021-08-13 10-37-27\\210813_Pac--010.D<br>batch: 210813_Pac 2021-08-13 10-37-27<br>batch_position: 10<br>idle_time: 280.0<br>sample: 210812/004 :20<br>method: SAA_411_Pac.M<br>timestamp: 2021-08-13 11:21:08<br>detector: G1315C<br>pump: G7110B<br>start_time: 2021-08-13 11:21:41<br>end_time: 2021-08-13 11:25:42<br>runtime: 239.7000000000036",
          "index: 93<br>name: 210813_Pac--011<br>path: D:/ExtractedSignals\\210813_Pac 2021-08-13 10-37-27\\210813_Pac--011.D<br>batch: 210813_Pac 2021-08-13 10-37-27<br>batch_position: 11<br>idle_time: 278.0<br>sample: 210812/004 :20<br>method: SAA_411_Pac.M<br>timestamp: 2021-08-13 11:25:46<br>detector: G1315C<br>pump: G7110B<br>start_time: 2021-08-13 11:26:21<br>end_time: 2021-08-13 11:30:21<br>runtime: 239.7000000000036",
          "index: 94<br>name: 210813_Pac--012<br>path: D:/ExtractedSignals\\210813_Pac 2021-08-13 10-37-27\\210813_Pac--012.D<br>batch: 210813_Pac 2021-08-13 10-37-27<br>batch_position: 12<br>idle_time: 280.0<br>sample: Blank<br>method: SAA_411_Pac.M<br>timestamp: 2021-08-13 11:30:26<br>detector: G1315C<br>pump: G7110B<br>start_time: 2021-08-13 11:30:59<br>end_time: 2021-08-13 11:34:59<br>runtime: 239.7000000000036",
          "index: 95<br>name: 210813_Pac--013<br>path: D:/ExtractedSignals\\210813_Pac 2021-08-13 10-37-27\\210813_Pac--013.D<br>batch: 210813_Pac 2021-08-13 10-37-27<br>batch_position: 13<br>idle_time: 278.0<br>sample: 0.025 mg/ml<br>method: SAA_411_Pac.M<br>timestamp: 2021-08-13 11:35:04<br>detector: G1315C<br>pump: G7110B<br>start_time: 2021-08-13 11:35:38<br>end_time: 2021-08-13 11:39:38<br>runtime: 239.7000000000036",
          "index: 96<br>name: 210813_Pac--014<br>path: D:/ExtractedSignals\\210813_Pac 2021-08-13 10-37-27\\210813_Pac--014.D<br>batch: 210813_Pac 2021-08-13 10-37-27<br>batch_position: 14<br>idle_time: 279.0<br>sample: Blank<br>method: SAA_411_Pac.M<br>timestamp: 2021-08-13 11:39:43<br>detector: G1315C<br>pump: G7110B<br>start_time: 2021-08-13 11:40:16<br>end_time: 2021-08-13 11:44:17<br>runtime: 239.7000000000036"
         ],
         "type": "scatter",
         "x": [
          0,
          1,
          2,
          3,
          4,
          5,
          6,
          7,
          8,
          9,
          10,
          11,
          12,
          13,
          14,
          15,
          16,
          17,
          18,
          19,
          20,
          21
         ],
         "y": [
          0.0826127778730677,
          0.0427157228492202,
          0.0999905477326277,
          0.2239251746792872,
          0.0702283479780808,
          0.2250501055991345,
          0.055084704390628,
          0.0680124098665646,
          0.1273022867080594,
          0.0841215961764265,
          0.0843540592270174,
          0.1537328155123305,
          0.1083304689867585,
          0.0758213877944339,
          0.1689659295204817,
          0.0189873799238616,
          0.1003779881908412,
          0.131668587527266,
          0.1208006686681099,
          0.0933537743998518,
          0.0387778252246054,
          0.0713512108433782
         ]
        },
        {
         "hovertemplate": "<b>%{text}</b><br><b>x: </b>%{x}<br><b>residual_fft_mean_3: </b>%{y}<extra></extra>",
         "mode": "lines",
         "name": "residual_fft_mean_3",
         "text": [
          "index: 17<br>name: 210812_Pac--005<br>path: D:/ExtractedSignals\\210812_Pac 2021-08-12 10-30-07\\210812_Pac--005.D<br>batch: 210812_Pac 2021-08-12 10-30-07<br>batch_position: 5<br>idle_time: 279.0<br>sample: NaCl 0,9%<br>method: SAA_411_Pac.M<br>timestamp: 2021-08-12 10:50:23<br>detector: G1315C<br>pump: G7110B<br>start_time: 2021-08-12 10:50:57<br>end_time: 2021-08-12 10:54:57<br>runtime: 239.7000000000036",
          "index: 18<br>name: 210812_Pac--006<br>path: D:/ExtractedSignals\\210812_Pac 2021-08-12 10-30-07\\210812_Pac--006.D<br>batch: 210812_Pac 2021-08-12 10-30-07<br>batch_position: 6<br>idle_time: 279.0<br>sample: Blank<br>method: SAA_411_Pac.M<br>timestamp: 2021-08-12 10:55:02<br>detector: G1315C<br>pump: G7110B<br>start_time: 2021-08-12 10:55:36<br>end_time: 2021-08-12 10:59:36<br>runtime: 239.7000000000036",
          "index: 19<br>name: 210812_Pac--007<br>path: D:/ExtractedSignals\\210812_Pac 2021-08-12 10-30-07\\210812_Pac--007.D<br>batch: 210812_Pac 2021-08-12 10-30-07<br>batch_position: 7<br>idle_time: 279.0<br>sample: 0.025 mg/ml<br>method: SAA_411_Pac.M<br>timestamp: 2021-08-12 10:59:41<br>detector: G1315C<br>pump: G7110B<br>start_time: 2021-08-12 11:00:15<br>end_time: 2021-08-12 11:04:15<br>runtime: 239.7000000000036",
          "index: 20<br>name: 210812_Pac--008<br>path: D:/ExtractedSignals\\210812_Pac 2021-08-12 10-30-07\\210812_Pac--008.D<br>batch: 210812_Pac 2021-08-12 10-30-07<br>batch_position: 8<br>idle_time: 279.0<br>sample: Blank<br>method: SAA_411_Pac.M<br>timestamp: 2021-08-12 11:04:20<br>detector: G1315C<br>pump: G7110B<br>start_time: 2021-08-12 11:04:54<br>end_time: 2021-08-12 11:08:54<br>runtime: 239.7000000000036",
          "index: 21<br>name: 210812_Pac--009<br>path: D:/ExtractedSignals\\210812_Pac 2021-08-12 10-30-07\\210812_Pac--009.D<br>batch: 210812_Pac 2021-08-12 10-30-07<br>batch_position: 9<br>idle_time: 279.0<br>sample: 210806/036 :10<br>method: SAA_411_Pac.M<br>timestamp: 2021-08-12 11:08:59<br>detector: G1315C<br>pump: G7110B<br>start_time: 2021-08-12 11:09:32<br>end_time: 2021-08-12 11:13:32<br>runtime: 239.7000000000036",
          "index: 22<br>name: 210812_Pac--010<br>path: D:/ExtractedSignals\\210812_Pac 2021-08-12 10-30-07\\210812_Pac--010.D<br>batch: 210812_Pac 2021-08-12 10-30-07<br>batch_position: 10<br>idle_time: 278.0<br>sample: 210806/036 :10<br>method: SAA_411_Pac.M<br>timestamp: 2021-08-12 11:13:37<br>detector: G7110B<br>pump: G7110B<br>start_time: 2021-08-12 11:14:11<br>end_time: 2021-08-12 11:18:11<br>runtime: 239.7000000000036",
          "index: 23<br>name: 210812_Pac--011<br>path: D:/ExtractedSignals\\210812_Pac 2021-08-12 10-30-07\\210812_Pac--011.D<br>batch: 210812_Pac 2021-08-12 10-30-07<br>batch_position: 11<br>idle_time: 279.0<br>sample: 210806/036 :10<br>method: SAA_411_Pac.M<br>timestamp: 2021-08-12 11:18:16<br>detector: G7110B<br>pump: G7110B<br>start_time: 2021-08-12 11:18:50<br>end_time: 2021-08-12 11:22:50<br>runtime: 239.7000000000036",
          "index: 24<br>name: 210812_Pac--012<br>path: D:/ExtractedSignals\\210812_Pac 2021-08-12 10-30-07\\210812_Pac--012.D<br>batch: 210812_Pac 2021-08-12 10-30-07<br>batch_position: 12<br>idle_time: 279.0<br>sample: Blank<br>method: SAA_411_Pac.M<br>timestamp: 2021-08-12 11:22:55<br>detector: G1315C<br>pump: G7110B<br>start_time: 2021-08-12 11:23:29<br>end_time: 2021-08-12 11:27:29<br>runtime: 239.7000000000036",
          "index: 25<br>name: 210812_Pac--013<br>path: D:/ExtractedSignals\\210812_Pac 2021-08-12 10-30-07\\210812_Pac--013.D<br>batch: 210812_Pac 2021-08-12 10-30-07<br>batch_position: 13<br>idle_time: 279.0<br>sample: 0.025 mg/ml<br>method: SAA_411_Pac.M<br>timestamp: 2021-08-12 11:27:34<br>detector: G1315C<br>pump: G7110B<br>start_time: 2021-08-12 11:28:08<br>end_time: 2021-08-12 11:32:08<br>runtime: 239.7000000000036",
          "index: 26<br>name: 210812_Pac--014<br>path: D:/ExtractedSignals\\210812_Pac 2021-08-12 10-30-07\\210812_Pac--014.D<br>batch: 210812_Pac 2021-08-12 10-30-07<br>batch_position: 14<br>idle_time: 279.0<br>sample: Blank<br>method: SAA_411_Pac.M<br>timestamp: 2021-08-12 11:32:13<br>detector: G7110B<br>pump: G7110B<br>start_time: 2021-08-12 11:32:46<br>end_time: 2021-08-12 11:36:47<br>runtime: 239.7000000000036",
          "index: 85<br>name: 210813_Pac--003<br>path: D:/ExtractedSignals\\210813_Pac 2021-08-13 10-37-27\\210813_Pac--003.D<br>batch: 210813_Pac 2021-08-13 10-37-27<br>batch_position: 3<br>idle_time: 278.0<br>sample: Blank<br>method: SAA_411_Pac.M<br>timestamp: 2021-08-13 10:48:34<br>detector: G1315C<br>pump: G7116B<br>start_time: 2021-08-13 10:49:08<br>end_time: 2021-08-13 10:53:08<br>runtime: 239.7000000000036",
          "index: 86<br>name: 210813_Pac--004<br>path: D:/ExtractedSignals\\210813_Pac 2021-08-13 10-37-27\\210813_Pac--004.D<br>batch: 210813_Pac 2021-08-13 10-37-27<br>batch_position: 4<br>idle_time: 279.0<br>sample: Blank<br>method: SAA_411_Pac.M<br>timestamp: 2021-08-13 10:53:13<br>detector: G1315C<br>pump: G7110B<br>start_time: 2021-08-13 10:53:47<br>end_time: 2021-08-13 10:57:47<br>runtime: 239.7000000000036",
          "index: 87<br>name: 210813_Pac--005<br>path: D:/ExtractedSignals\\210813_Pac 2021-08-13 10-37-27\\210813_Pac--005.D<br>batch: 210813_Pac 2021-08-13 10-37-27<br>batch_position: 5<br>idle_time: 279.0<br>sample: NaCl 0,9%<br>method: SAA_411_Pac.M<br>timestamp: 2021-08-13 10:57:52<br>detector: G7110B<br>pump: G7110B<br>start_time: 2021-08-13 10:58:26<br>end_time: 2021-08-13 11:02:27<br>runtime: 239.7000000000036",
          "index: 88<br>name: 210813_Pac--006<br>path: D:/ExtractedSignals\\210813_Pac 2021-08-13 10-37-27\\210813_Pac--006.D<br>batch: 210813_Pac 2021-08-13 10-37-27<br>batch_position: 6<br>idle_time: 279.0<br>sample: Blank<br>method: SAA_411_Pac.M<br>timestamp: 2021-08-13 11:02:31<br>detector: G1315C<br>pump: G7110B<br>start_time: 2021-08-13 11:03:05<br>end_time: 2021-08-13 11:07:06<br>runtime: 239.7000000000036",
          "index: 89<br>name: 210813_Pac--007<br>path: D:/ExtractedSignals\\210813_Pac 2021-08-13 10-37-27\\210813_Pac--007.D<br>batch: 210813_Pac 2021-08-13 10-37-27<br>batch_position: 7<br>idle_time: 279.0<br>sample: 0.025 mg/ml<br>method: SAA_411_Pac.M<br>timestamp: 2021-08-13 11:07:10<br>detector: G1315C<br>pump: G7116B<br>start_time: 2021-08-13 11:07:44<br>end_time: 2021-08-13 11:11:45<br>runtime: 239.7000000000036",
          "index: 90<br>name: 210813_Pac--008<br>path: D:/ExtractedSignals\\210813_Pac 2021-08-13 10-37-27\\210813_Pac--008.D<br>batch: 210813_Pac 2021-08-13 10-37-27<br>batch_position: 8<br>idle_time: 279.0<br>sample: Blank<br>method: SAA_411_Pac.M<br>timestamp: 2021-08-13 11:11:49<br>detector: G1315C<br>pump: G7110B<br>start_time: 2021-08-13 11:12:23<br>end_time: 2021-08-13 11:16:23<br>runtime: 239.7000000000036",
          "index: 91<br>name: 210813_Pac--009<br>path: D:/ExtractedSignals\\210813_Pac 2021-08-13 10-37-27\\210813_Pac--009.D<br>batch: 210813_Pac 2021-08-13 10-37-27<br>batch_position: 9<br>idle_time: 279.0<br>sample: 210812/004 :20<br>method: SAA_411_Pac.M<br>timestamp: 2021-08-13 11:16:28<br>detector: G1315C<br>pump: G7110B<br>start_time: 2021-08-13 11:17:02<br>end_time: 2021-08-13 11:21:03<br>runtime: 239.7000000000036",
          "index: 92<br>name: 210813_Pac--010<br>path: D:/ExtractedSignals\\210813_Pac 2021-08-13 10-37-27\\210813_Pac--010.D<br>batch: 210813_Pac 2021-08-13 10-37-27<br>batch_position: 10<br>idle_time: 280.0<br>sample: 210812/004 :20<br>method: SAA_411_Pac.M<br>timestamp: 2021-08-13 11:21:08<br>detector: G1315C<br>pump: G7110B<br>start_time: 2021-08-13 11:21:41<br>end_time: 2021-08-13 11:25:42<br>runtime: 239.7000000000036",
          "index: 93<br>name: 210813_Pac--011<br>path: D:/ExtractedSignals\\210813_Pac 2021-08-13 10-37-27\\210813_Pac--011.D<br>batch: 210813_Pac 2021-08-13 10-37-27<br>batch_position: 11<br>idle_time: 278.0<br>sample: 210812/004 :20<br>method: SAA_411_Pac.M<br>timestamp: 2021-08-13 11:25:46<br>detector: G1315C<br>pump: G7110B<br>start_time: 2021-08-13 11:26:21<br>end_time: 2021-08-13 11:30:21<br>runtime: 239.7000000000036",
          "index: 94<br>name: 210813_Pac--012<br>path: D:/ExtractedSignals\\210813_Pac 2021-08-13 10-37-27\\210813_Pac--012.D<br>batch: 210813_Pac 2021-08-13 10-37-27<br>batch_position: 12<br>idle_time: 280.0<br>sample: Blank<br>method: SAA_411_Pac.M<br>timestamp: 2021-08-13 11:30:26<br>detector: G1315C<br>pump: G7110B<br>start_time: 2021-08-13 11:30:59<br>end_time: 2021-08-13 11:34:59<br>runtime: 239.7000000000036",
          "index: 95<br>name: 210813_Pac--013<br>path: D:/ExtractedSignals\\210813_Pac 2021-08-13 10-37-27\\210813_Pac--013.D<br>batch: 210813_Pac 2021-08-13 10-37-27<br>batch_position: 13<br>idle_time: 278.0<br>sample: 0.025 mg/ml<br>method: SAA_411_Pac.M<br>timestamp: 2021-08-13 11:35:04<br>detector: G1315C<br>pump: G7110B<br>start_time: 2021-08-13 11:35:38<br>end_time: 2021-08-13 11:39:38<br>runtime: 239.7000000000036",
          "index: 96<br>name: 210813_Pac--014<br>path: D:/ExtractedSignals\\210813_Pac 2021-08-13 10-37-27\\210813_Pac--014.D<br>batch: 210813_Pac 2021-08-13 10-37-27<br>batch_position: 14<br>idle_time: 279.0<br>sample: Blank<br>method: SAA_411_Pac.M<br>timestamp: 2021-08-13 11:39:43<br>detector: G1315C<br>pump: G7110B<br>start_time: 2021-08-13 11:40:16<br>end_time: 2021-08-13 11:44:17<br>runtime: 239.7000000000036"
         ],
         "type": "scatter",
         "x": [
          0,
          1,
          2,
          3,
          4,
          5,
          6,
          7,
          8,
          9,
          10,
          11,
          12,
          13,
          14,
          15,
          16,
          17,
          18,
          19,
          20,
          21
         ],
         "y": [
          0.0183277187368497,
          0.0135427140534952,
          0.0169569675544579,
          0.0164889780616527,
          0.0175632154122388,
          0.0697778033663869,
          0.0112742683661419,
          0.004817833081247,
          0.0249099340037088,
          0.0087067054066316,
          0.0062784536442391,
          0.0158277704771117,
          0.0072904285649955,
          0.0113513603751599,
          0.095804992621084,
          0.0079610283179472,
          0.0080560817735142,
          0.0168908776378527,
          0.007036505577366,
          0.0150961135519818,
          0.0071541527835328,
          0.0157352085343963
         ]
        },
        {
         "hovertemplate": "<b>%{text}</b><br><b>x: </b>%{x}<br><b>residual_fft_sum_3: </b>%{y}<extra></extra>",
         "mode": "lines",
         "name": "residual_fft_sum_3",
         "text": [
          "index: 17<br>name: 210812_Pac--005<br>path: D:/ExtractedSignals\\210812_Pac 2021-08-12 10-30-07\\210812_Pac--005.D<br>batch: 210812_Pac 2021-08-12 10-30-07<br>batch_position: 5<br>idle_time: 279.0<br>sample: NaCl 0,9%<br>method: SAA_411_Pac.M<br>timestamp: 2021-08-12 10:50:23<br>detector: G1315C<br>pump: G7110B<br>start_time: 2021-08-12 10:50:57<br>end_time: 2021-08-12 10:54:57<br>runtime: 239.7000000000036",
          "index: 18<br>name: 210812_Pac--006<br>path: D:/ExtractedSignals\\210812_Pac 2021-08-12 10-30-07\\210812_Pac--006.D<br>batch: 210812_Pac 2021-08-12 10-30-07<br>batch_position: 6<br>idle_time: 279.0<br>sample: Blank<br>method: SAA_411_Pac.M<br>timestamp: 2021-08-12 10:55:02<br>detector: G1315C<br>pump: G7110B<br>start_time: 2021-08-12 10:55:36<br>end_time: 2021-08-12 10:59:36<br>runtime: 239.7000000000036",
          "index: 19<br>name: 210812_Pac--007<br>path: D:/ExtractedSignals\\210812_Pac 2021-08-12 10-30-07\\210812_Pac--007.D<br>batch: 210812_Pac 2021-08-12 10-30-07<br>batch_position: 7<br>idle_time: 279.0<br>sample: 0.025 mg/ml<br>method: SAA_411_Pac.M<br>timestamp: 2021-08-12 10:59:41<br>detector: G1315C<br>pump: G7110B<br>start_time: 2021-08-12 11:00:15<br>end_time: 2021-08-12 11:04:15<br>runtime: 239.7000000000036",
          "index: 20<br>name: 210812_Pac--008<br>path: D:/ExtractedSignals\\210812_Pac 2021-08-12 10-30-07\\210812_Pac--008.D<br>batch: 210812_Pac 2021-08-12 10-30-07<br>batch_position: 8<br>idle_time: 279.0<br>sample: Blank<br>method: SAA_411_Pac.M<br>timestamp: 2021-08-12 11:04:20<br>detector: G1315C<br>pump: G7110B<br>start_time: 2021-08-12 11:04:54<br>end_time: 2021-08-12 11:08:54<br>runtime: 239.7000000000036",
          "index: 21<br>name: 210812_Pac--009<br>path: D:/ExtractedSignals\\210812_Pac 2021-08-12 10-30-07\\210812_Pac--009.D<br>batch: 210812_Pac 2021-08-12 10-30-07<br>batch_position: 9<br>idle_time: 279.0<br>sample: 210806/036 :10<br>method: SAA_411_Pac.M<br>timestamp: 2021-08-12 11:08:59<br>detector: G1315C<br>pump: G7110B<br>start_time: 2021-08-12 11:09:32<br>end_time: 2021-08-12 11:13:32<br>runtime: 239.7000000000036",
          "index: 22<br>name: 210812_Pac--010<br>path: D:/ExtractedSignals\\210812_Pac 2021-08-12 10-30-07\\210812_Pac--010.D<br>batch: 210812_Pac 2021-08-12 10-30-07<br>batch_position: 10<br>idle_time: 278.0<br>sample: 210806/036 :10<br>method: SAA_411_Pac.M<br>timestamp: 2021-08-12 11:13:37<br>detector: G7110B<br>pump: G7110B<br>start_time: 2021-08-12 11:14:11<br>end_time: 2021-08-12 11:18:11<br>runtime: 239.7000000000036",
          "index: 23<br>name: 210812_Pac--011<br>path: D:/ExtractedSignals\\210812_Pac 2021-08-12 10-30-07\\210812_Pac--011.D<br>batch: 210812_Pac 2021-08-12 10-30-07<br>batch_position: 11<br>idle_time: 279.0<br>sample: 210806/036 :10<br>method: SAA_411_Pac.M<br>timestamp: 2021-08-12 11:18:16<br>detector: G7110B<br>pump: G7110B<br>start_time: 2021-08-12 11:18:50<br>end_time: 2021-08-12 11:22:50<br>runtime: 239.7000000000036",
          "index: 24<br>name: 210812_Pac--012<br>path: D:/ExtractedSignals\\210812_Pac 2021-08-12 10-30-07\\210812_Pac--012.D<br>batch: 210812_Pac 2021-08-12 10-30-07<br>batch_position: 12<br>idle_time: 279.0<br>sample: Blank<br>method: SAA_411_Pac.M<br>timestamp: 2021-08-12 11:22:55<br>detector: G1315C<br>pump: G7110B<br>start_time: 2021-08-12 11:23:29<br>end_time: 2021-08-12 11:27:29<br>runtime: 239.7000000000036",
          "index: 25<br>name: 210812_Pac--013<br>path: D:/ExtractedSignals\\210812_Pac 2021-08-12 10-30-07\\210812_Pac--013.D<br>batch: 210812_Pac 2021-08-12 10-30-07<br>batch_position: 13<br>idle_time: 279.0<br>sample: 0.025 mg/ml<br>method: SAA_411_Pac.M<br>timestamp: 2021-08-12 11:27:34<br>detector: G1315C<br>pump: G7110B<br>start_time: 2021-08-12 11:28:08<br>end_time: 2021-08-12 11:32:08<br>runtime: 239.7000000000036",
          "index: 26<br>name: 210812_Pac--014<br>path: D:/ExtractedSignals\\210812_Pac 2021-08-12 10-30-07\\210812_Pac--014.D<br>batch: 210812_Pac 2021-08-12 10-30-07<br>batch_position: 14<br>idle_time: 279.0<br>sample: Blank<br>method: SAA_411_Pac.M<br>timestamp: 2021-08-12 11:32:13<br>detector: G7110B<br>pump: G7110B<br>start_time: 2021-08-12 11:32:46<br>end_time: 2021-08-12 11:36:47<br>runtime: 239.7000000000036",
          "index: 85<br>name: 210813_Pac--003<br>path: D:/ExtractedSignals\\210813_Pac 2021-08-13 10-37-27\\210813_Pac--003.D<br>batch: 210813_Pac 2021-08-13 10-37-27<br>batch_position: 3<br>idle_time: 278.0<br>sample: Blank<br>method: SAA_411_Pac.M<br>timestamp: 2021-08-13 10:48:34<br>detector: G1315C<br>pump: G7116B<br>start_time: 2021-08-13 10:49:08<br>end_time: 2021-08-13 10:53:08<br>runtime: 239.7000000000036",
          "index: 86<br>name: 210813_Pac--004<br>path: D:/ExtractedSignals\\210813_Pac 2021-08-13 10-37-27\\210813_Pac--004.D<br>batch: 210813_Pac 2021-08-13 10-37-27<br>batch_position: 4<br>idle_time: 279.0<br>sample: Blank<br>method: SAA_411_Pac.M<br>timestamp: 2021-08-13 10:53:13<br>detector: G1315C<br>pump: G7110B<br>start_time: 2021-08-13 10:53:47<br>end_time: 2021-08-13 10:57:47<br>runtime: 239.7000000000036",
          "index: 87<br>name: 210813_Pac--005<br>path: D:/ExtractedSignals\\210813_Pac 2021-08-13 10-37-27\\210813_Pac--005.D<br>batch: 210813_Pac 2021-08-13 10-37-27<br>batch_position: 5<br>idle_time: 279.0<br>sample: NaCl 0,9%<br>method: SAA_411_Pac.M<br>timestamp: 2021-08-13 10:57:52<br>detector: G7110B<br>pump: G7110B<br>start_time: 2021-08-13 10:58:26<br>end_time: 2021-08-13 11:02:27<br>runtime: 239.7000000000036",
          "index: 88<br>name: 210813_Pac--006<br>path: D:/ExtractedSignals\\210813_Pac 2021-08-13 10-37-27\\210813_Pac--006.D<br>batch: 210813_Pac 2021-08-13 10-37-27<br>batch_position: 6<br>idle_time: 279.0<br>sample: Blank<br>method: SAA_411_Pac.M<br>timestamp: 2021-08-13 11:02:31<br>detector: G1315C<br>pump: G7110B<br>start_time: 2021-08-13 11:03:05<br>end_time: 2021-08-13 11:07:06<br>runtime: 239.7000000000036",
          "index: 89<br>name: 210813_Pac--007<br>path: D:/ExtractedSignals\\210813_Pac 2021-08-13 10-37-27\\210813_Pac--007.D<br>batch: 210813_Pac 2021-08-13 10-37-27<br>batch_position: 7<br>idle_time: 279.0<br>sample: 0.025 mg/ml<br>method: SAA_411_Pac.M<br>timestamp: 2021-08-13 11:07:10<br>detector: G1315C<br>pump: G7116B<br>start_time: 2021-08-13 11:07:44<br>end_time: 2021-08-13 11:11:45<br>runtime: 239.7000000000036",
          "index: 90<br>name: 210813_Pac--008<br>path: D:/ExtractedSignals\\210813_Pac 2021-08-13 10-37-27\\210813_Pac--008.D<br>batch: 210813_Pac 2021-08-13 10-37-27<br>batch_position: 8<br>idle_time: 279.0<br>sample: Blank<br>method: SAA_411_Pac.M<br>timestamp: 2021-08-13 11:11:49<br>detector: G1315C<br>pump: G7110B<br>start_time: 2021-08-13 11:12:23<br>end_time: 2021-08-13 11:16:23<br>runtime: 239.7000000000036",
          "index: 91<br>name: 210813_Pac--009<br>path: D:/ExtractedSignals\\210813_Pac 2021-08-13 10-37-27\\210813_Pac--009.D<br>batch: 210813_Pac 2021-08-13 10-37-27<br>batch_position: 9<br>idle_time: 279.0<br>sample: 210812/004 :20<br>method: SAA_411_Pac.M<br>timestamp: 2021-08-13 11:16:28<br>detector: G1315C<br>pump: G7110B<br>start_time: 2021-08-13 11:17:02<br>end_time: 2021-08-13 11:21:03<br>runtime: 239.7000000000036",
          "index: 92<br>name: 210813_Pac--010<br>path: D:/ExtractedSignals\\210813_Pac 2021-08-13 10-37-27\\210813_Pac--010.D<br>batch: 210813_Pac 2021-08-13 10-37-27<br>batch_position: 10<br>idle_time: 280.0<br>sample: 210812/004 :20<br>method: SAA_411_Pac.M<br>timestamp: 2021-08-13 11:21:08<br>detector: G1315C<br>pump: G7110B<br>start_time: 2021-08-13 11:21:41<br>end_time: 2021-08-13 11:25:42<br>runtime: 239.7000000000036",
          "index: 93<br>name: 210813_Pac--011<br>path: D:/ExtractedSignals\\210813_Pac 2021-08-13 10-37-27\\210813_Pac--011.D<br>batch: 210813_Pac 2021-08-13 10-37-27<br>batch_position: 11<br>idle_time: 278.0<br>sample: 210812/004 :20<br>method: SAA_411_Pac.M<br>timestamp: 2021-08-13 11:25:46<br>detector: G1315C<br>pump: G7110B<br>start_time: 2021-08-13 11:26:21<br>end_time: 2021-08-13 11:30:21<br>runtime: 239.7000000000036",
          "index: 94<br>name: 210813_Pac--012<br>path: D:/ExtractedSignals\\210813_Pac 2021-08-13 10-37-27\\210813_Pac--012.D<br>batch: 210813_Pac 2021-08-13 10-37-27<br>batch_position: 12<br>idle_time: 280.0<br>sample: Blank<br>method: SAA_411_Pac.M<br>timestamp: 2021-08-13 11:30:26<br>detector: G1315C<br>pump: G7110B<br>start_time: 2021-08-13 11:30:59<br>end_time: 2021-08-13 11:34:59<br>runtime: 239.7000000000036",
          "index: 95<br>name: 210813_Pac--013<br>path: D:/ExtractedSignals\\210813_Pac 2021-08-13 10-37-27\\210813_Pac--013.D<br>batch: 210813_Pac 2021-08-13 10-37-27<br>batch_position: 13<br>idle_time: 278.0<br>sample: 0.025 mg/ml<br>method: SAA_411_Pac.M<br>timestamp: 2021-08-13 11:35:04<br>detector: G1315C<br>pump: G7110B<br>start_time: 2021-08-13 11:35:38<br>end_time: 2021-08-13 11:39:38<br>runtime: 239.7000000000036",
          "index: 96<br>name: 210813_Pac--014<br>path: D:/ExtractedSignals\\210813_Pac 2021-08-13 10-37-27\\210813_Pac--014.D<br>batch: 210813_Pac 2021-08-13 10-37-27<br>batch_position: 14<br>idle_time: 279.0<br>sample: Blank<br>method: SAA_411_Pac.M<br>timestamp: 2021-08-13 11:39:43<br>detector: G1315C<br>pump: G7110B<br>start_time: 2021-08-13 11:40:16<br>end_time: 2021-08-13 11:44:17<br>runtime: 239.7000000000036"
         ],
         "type": "scatter",
         "x": [
          0,
          1,
          2,
          3,
          4,
          5,
          6,
          7,
          8,
          9,
          10,
          11,
          12,
          13,
          14,
          15,
          16,
          17,
          18,
          19,
          20,
          21
         ],
         "y": [
          0.0183277187368497,
          0.0135427140534952,
          0.0169569675544578,
          0.0164889780616527,
          0.0175632154122388,
          0.0697778033663869,
          0.0112742683661419,
          0.004817833081247,
          0.0249099340037088,
          0.0087067054066315,
          0.0062784536442391,
          0.0158277704771117,
          0.0072904285649955,
          0.0113513603751599,
          0.095804992621084,
          0.0079610283179472,
          0.0080560817735142,
          0.0168908776378527,
          0.007036505577366,
          0.0150961135519818,
          0.0071541527835328,
          0.0157352085343963
         ]
        },
        {
         "hovertemplate": "<b>%{text}</b><br><b>x: </b>%{x}<br><b>seasonal_fft_mean_4: </b>%{y}<extra></extra>",
         "mode": "lines",
         "name": "seasonal_fft_mean_4",
         "text": [
          "index: 17<br>name: 210812_Pac--005<br>path: D:/ExtractedSignals\\210812_Pac 2021-08-12 10-30-07\\210812_Pac--005.D<br>batch: 210812_Pac 2021-08-12 10-30-07<br>batch_position: 5<br>idle_time: 279.0<br>sample: NaCl 0,9%<br>method: SAA_411_Pac.M<br>timestamp: 2021-08-12 10:50:23<br>detector: G1315C<br>pump: G7110B<br>start_time: 2021-08-12 10:50:57<br>end_time: 2021-08-12 10:54:57<br>runtime: 239.7000000000036",
          "index: 18<br>name: 210812_Pac--006<br>path: D:/ExtractedSignals\\210812_Pac 2021-08-12 10-30-07\\210812_Pac--006.D<br>batch: 210812_Pac 2021-08-12 10-30-07<br>batch_position: 6<br>idle_time: 279.0<br>sample: Blank<br>method: SAA_411_Pac.M<br>timestamp: 2021-08-12 10:55:02<br>detector: G1315C<br>pump: G7110B<br>start_time: 2021-08-12 10:55:36<br>end_time: 2021-08-12 10:59:36<br>runtime: 239.7000000000036",
          "index: 19<br>name: 210812_Pac--007<br>path: D:/ExtractedSignals\\210812_Pac 2021-08-12 10-30-07\\210812_Pac--007.D<br>batch: 210812_Pac 2021-08-12 10-30-07<br>batch_position: 7<br>idle_time: 279.0<br>sample: 0.025 mg/ml<br>method: SAA_411_Pac.M<br>timestamp: 2021-08-12 10:59:41<br>detector: G1315C<br>pump: G7110B<br>start_time: 2021-08-12 11:00:15<br>end_time: 2021-08-12 11:04:15<br>runtime: 239.7000000000036",
          "index: 20<br>name: 210812_Pac--008<br>path: D:/ExtractedSignals\\210812_Pac 2021-08-12 10-30-07\\210812_Pac--008.D<br>batch: 210812_Pac 2021-08-12 10-30-07<br>batch_position: 8<br>idle_time: 279.0<br>sample: Blank<br>method: SAA_411_Pac.M<br>timestamp: 2021-08-12 11:04:20<br>detector: G1315C<br>pump: G7110B<br>start_time: 2021-08-12 11:04:54<br>end_time: 2021-08-12 11:08:54<br>runtime: 239.7000000000036",
          "index: 21<br>name: 210812_Pac--009<br>path: D:/ExtractedSignals\\210812_Pac 2021-08-12 10-30-07\\210812_Pac--009.D<br>batch: 210812_Pac 2021-08-12 10-30-07<br>batch_position: 9<br>idle_time: 279.0<br>sample: 210806/036 :10<br>method: SAA_411_Pac.M<br>timestamp: 2021-08-12 11:08:59<br>detector: G1315C<br>pump: G7110B<br>start_time: 2021-08-12 11:09:32<br>end_time: 2021-08-12 11:13:32<br>runtime: 239.7000000000036",
          "index: 22<br>name: 210812_Pac--010<br>path: D:/ExtractedSignals\\210812_Pac 2021-08-12 10-30-07\\210812_Pac--010.D<br>batch: 210812_Pac 2021-08-12 10-30-07<br>batch_position: 10<br>idle_time: 278.0<br>sample: 210806/036 :10<br>method: SAA_411_Pac.M<br>timestamp: 2021-08-12 11:13:37<br>detector: G7110B<br>pump: G7110B<br>start_time: 2021-08-12 11:14:11<br>end_time: 2021-08-12 11:18:11<br>runtime: 239.7000000000036",
          "index: 23<br>name: 210812_Pac--011<br>path: D:/ExtractedSignals\\210812_Pac 2021-08-12 10-30-07\\210812_Pac--011.D<br>batch: 210812_Pac 2021-08-12 10-30-07<br>batch_position: 11<br>idle_time: 279.0<br>sample: 210806/036 :10<br>method: SAA_411_Pac.M<br>timestamp: 2021-08-12 11:18:16<br>detector: G7110B<br>pump: G7110B<br>start_time: 2021-08-12 11:18:50<br>end_time: 2021-08-12 11:22:50<br>runtime: 239.7000000000036",
          "index: 24<br>name: 210812_Pac--012<br>path: D:/ExtractedSignals\\210812_Pac 2021-08-12 10-30-07\\210812_Pac--012.D<br>batch: 210812_Pac 2021-08-12 10-30-07<br>batch_position: 12<br>idle_time: 279.0<br>sample: Blank<br>method: SAA_411_Pac.M<br>timestamp: 2021-08-12 11:22:55<br>detector: G1315C<br>pump: G7110B<br>start_time: 2021-08-12 11:23:29<br>end_time: 2021-08-12 11:27:29<br>runtime: 239.7000000000036",
          "index: 25<br>name: 210812_Pac--013<br>path: D:/ExtractedSignals\\210812_Pac 2021-08-12 10-30-07\\210812_Pac--013.D<br>batch: 210812_Pac 2021-08-12 10-30-07<br>batch_position: 13<br>idle_time: 279.0<br>sample: 0.025 mg/ml<br>method: SAA_411_Pac.M<br>timestamp: 2021-08-12 11:27:34<br>detector: G1315C<br>pump: G7110B<br>start_time: 2021-08-12 11:28:08<br>end_time: 2021-08-12 11:32:08<br>runtime: 239.7000000000036",
          "index: 26<br>name: 210812_Pac--014<br>path: D:/ExtractedSignals\\210812_Pac 2021-08-12 10-30-07\\210812_Pac--014.D<br>batch: 210812_Pac 2021-08-12 10-30-07<br>batch_position: 14<br>idle_time: 279.0<br>sample: Blank<br>method: SAA_411_Pac.M<br>timestamp: 2021-08-12 11:32:13<br>detector: G7110B<br>pump: G7110B<br>start_time: 2021-08-12 11:32:46<br>end_time: 2021-08-12 11:36:47<br>runtime: 239.7000000000036",
          "index: 85<br>name: 210813_Pac--003<br>path: D:/ExtractedSignals\\210813_Pac 2021-08-13 10-37-27\\210813_Pac--003.D<br>batch: 210813_Pac 2021-08-13 10-37-27<br>batch_position: 3<br>idle_time: 278.0<br>sample: Blank<br>method: SAA_411_Pac.M<br>timestamp: 2021-08-13 10:48:34<br>detector: G1315C<br>pump: G7116B<br>start_time: 2021-08-13 10:49:08<br>end_time: 2021-08-13 10:53:08<br>runtime: 239.7000000000036",
          "index: 86<br>name: 210813_Pac--004<br>path: D:/ExtractedSignals\\210813_Pac 2021-08-13 10-37-27\\210813_Pac--004.D<br>batch: 210813_Pac 2021-08-13 10-37-27<br>batch_position: 4<br>idle_time: 279.0<br>sample: Blank<br>method: SAA_411_Pac.M<br>timestamp: 2021-08-13 10:53:13<br>detector: G1315C<br>pump: G7110B<br>start_time: 2021-08-13 10:53:47<br>end_time: 2021-08-13 10:57:47<br>runtime: 239.7000000000036",
          "index: 87<br>name: 210813_Pac--005<br>path: D:/ExtractedSignals\\210813_Pac 2021-08-13 10-37-27\\210813_Pac--005.D<br>batch: 210813_Pac 2021-08-13 10-37-27<br>batch_position: 5<br>idle_time: 279.0<br>sample: NaCl 0,9%<br>method: SAA_411_Pac.M<br>timestamp: 2021-08-13 10:57:52<br>detector: G7110B<br>pump: G7110B<br>start_time: 2021-08-13 10:58:26<br>end_time: 2021-08-13 11:02:27<br>runtime: 239.7000000000036",
          "index: 88<br>name: 210813_Pac--006<br>path: D:/ExtractedSignals\\210813_Pac 2021-08-13 10-37-27\\210813_Pac--006.D<br>batch: 210813_Pac 2021-08-13 10-37-27<br>batch_position: 6<br>idle_time: 279.0<br>sample: Blank<br>method: SAA_411_Pac.M<br>timestamp: 2021-08-13 11:02:31<br>detector: G1315C<br>pump: G7110B<br>start_time: 2021-08-13 11:03:05<br>end_time: 2021-08-13 11:07:06<br>runtime: 239.7000000000036",
          "index: 89<br>name: 210813_Pac--007<br>path: D:/ExtractedSignals\\210813_Pac 2021-08-13 10-37-27\\210813_Pac--007.D<br>batch: 210813_Pac 2021-08-13 10-37-27<br>batch_position: 7<br>idle_time: 279.0<br>sample: 0.025 mg/ml<br>method: SAA_411_Pac.M<br>timestamp: 2021-08-13 11:07:10<br>detector: G1315C<br>pump: G7116B<br>start_time: 2021-08-13 11:07:44<br>end_time: 2021-08-13 11:11:45<br>runtime: 239.7000000000036",
          "index: 90<br>name: 210813_Pac--008<br>path: D:/ExtractedSignals\\210813_Pac 2021-08-13 10-37-27\\210813_Pac--008.D<br>batch: 210813_Pac 2021-08-13 10-37-27<br>batch_position: 8<br>idle_time: 279.0<br>sample: Blank<br>method: SAA_411_Pac.M<br>timestamp: 2021-08-13 11:11:49<br>detector: G1315C<br>pump: G7110B<br>start_time: 2021-08-13 11:12:23<br>end_time: 2021-08-13 11:16:23<br>runtime: 239.7000000000036",
          "index: 91<br>name: 210813_Pac--009<br>path: D:/ExtractedSignals\\210813_Pac 2021-08-13 10-37-27\\210813_Pac--009.D<br>batch: 210813_Pac 2021-08-13 10-37-27<br>batch_position: 9<br>idle_time: 279.0<br>sample: 210812/004 :20<br>method: SAA_411_Pac.M<br>timestamp: 2021-08-13 11:16:28<br>detector: G1315C<br>pump: G7110B<br>start_time: 2021-08-13 11:17:02<br>end_time: 2021-08-13 11:21:03<br>runtime: 239.7000000000036",
          "index: 92<br>name: 210813_Pac--010<br>path: D:/ExtractedSignals\\210813_Pac 2021-08-13 10-37-27\\210813_Pac--010.D<br>batch: 210813_Pac 2021-08-13 10-37-27<br>batch_position: 10<br>idle_time: 280.0<br>sample: 210812/004 :20<br>method: SAA_411_Pac.M<br>timestamp: 2021-08-13 11:21:08<br>detector: G1315C<br>pump: G7110B<br>start_time: 2021-08-13 11:21:41<br>end_time: 2021-08-13 11:25:42<br>runtime: 239.7000000000036",
          "index: 93<br>name: 210813_Pac--011<br>path: D:/ExtractedSignals\\210813_Pac 2021-08-13 10-37-27\\210813_Pac--011.D<br>batch: 210813_Pac 2021-08-13 10-37-27<br>batch_position: 11<br>idle_time: 278.0<br>sample: 210812/004 :20<br>method: SAA_411_Pac.M<br>timestamp: 2021-08-13 11:25:46<br>detector: G1315C<br>pump: G7110B<br>start_time: 2021-08-13 11:26:21<br>end_time: 2021-08-13 11:30:21<br>runtime: 239.7000000000036",
          "index: 94<br>name: 210813_Pac--012<br>path: D:/ExtractedSignals\\210813_Pac 2021-08-13 10-37-27\\210813_Pac--012.D<br>batch: 210813_Pac 2021-08-13 10-37-27<br>batch_position: 12<br>idle_time: 280.0<br>sample: Blank<br>method: SAA_411_Pac.M<br>timestamp: 2021-08-13 11:30:26<br>detector: G1315C<br>pump: G7110B<br>start_time: 2021-08-13 11:30:59<br>end_time: 2021-08-13 11:34:59<br>runtime: 239.7000000000036",
          "index: 95<br>name: 210813_Pac--013<br>path: D:/ExtractedSignals\\210813_Pac 2021-08-13 10-37-27\\210813_Pac--013.D<br>batch: 210813_Pac 2021-08-13 10-37-27<br>batch_position: 13<br>idle_time: 278.0<br>sample: 0.025 mg/ml<br>method: SAA_411_Pac.M<br>timestamp: 2021-08-13 11:35:04<br>detector: G1315C<br>pump: G7110B<br>start_time: 2021-08-13 11:35:38<br>end_time: 2021-08-13 11:39:38<br>runtime: 239.7000000000036",
          "index: 96<br>name: 210813_Pac--014<br>path: D:/ExtractedSignals\\210813_Pac 2021-08-13 10-37-27\\210813_Pac--014.D<br>batch: 210813_Pac 2021-08-13 10-37-27<br>batch_position: 14<br>idle_time: 279.0<br>sample: Blank<br>method: SAA_411_Pac.M<br>timestamp: 2021-08-13 11:39:43<br>detector: G1315C<br>pump: G7110B<br>start_time: 2021-08-13 11:40:16<br>end_time: 2021-08-13 11:44:17<br>runtime: 239.7000000000036"
         ],
         "type": "scatter",
         "x": [
          0,
          1,
          2,
          3,
          4,
          5,
          6,
          7,
          8,
          9,
          10,
          11,
          12,
          13,
          14,
          15,
          16,
          17,
          18,
          19,
          20,
          21
         ],
         "y": [
          0.1406474095219187,
          0.0371119145935281,
          0.0310215044027799,
          0.0116753713829197,
          0.0612858838112777,
          0.2654553779116107,
          0.1356503250303072,
          0.2027627606798395,
          0.0471707372798447,
          0.0779271328420683,
          0.1353330788113435,
          0.157604985153955,
          0.223598264532101,
          0.0797493920774269,
          0.3192023475985979,
          0.0167430617966739,
          0.0572385218161971,
          0.2020030590647896,
          0.1043036451901756,
          0.0846603953967471,
          0.0441158875723958,
          0.0678726469504565
         ]
        },
        {
         "hovertemplate": "<b>%{text}</b><br><b>x: </b>%{x}<br><b>seasonal_fft_sum_4: </b>%{y}<extra></extra>",
         "mode": "lines",
         "name": "seasonal_fft_sum_4",
         "text": [
          "index: 17<br>name: 210812_Pac--005<br>path: D:/ExtractedSignals\\210812_Pac 2021-08-12 10-30-07\\210812_Pac--005.D<br>batch: 210812_Pac 2021-08-12 10-30-07<br>batch_position: 5<br>idle_time: 279.0<br>sample: NaCl 0,9%<br>method: SAA_411_Pac.M<br>timestamp: 2021-08-12 10:50:23<br>detector: G1315C<br>pump: G7110B<br>start_time: 2021-08-12 10:50:57<br>end_time: 2021-08-12 10:54:57<br>runtime: 239.7000000000036",
          "index: 18<br>name: 210812_Pac--006<br>path: D:/ExtractedSignals\\210812_Pac 2021-08-12 10-30-07\\210812_Pac--006.D<br>batch: 210812_Pac 2021-08-12 10-30-07<br>batch_position: 6<br>idle_time: 279.0<br>sample: Blank<br>method: SAA_411_Pac.M<br>timestamp: 2021-08-12 10:55:02<br>detector: G1315C<br>pump: G7110B<br>start_time: 2021-08-12 10:55:36<br>end_time: 2021-08-12 10:59:36<br>runtime: 239.7000000000036",
          "index: 19<br>name: 210812_Pac--007<br>path: D:/ExtractedSignals\\210812_Pac 2021-08-12 10-30-07\\210812_Pac--007.D<br>batch: 210812_Pac 2021-08-12 10-30-07<br>batch_position: 7<br>idle_time: 279.0<br>sample: 0.025 mg/ml<br>method: SAA_411_Pac.M<br>timestamp: 2021-08-12 10:59:41<br>detector: G1315C<br>pump: G7110B<br>start_time: 2021-08-12 11:00:15<br>end_time: 2021-08-12 11:04:15<br>runtime: 239.7000000000036",
          "index: 20<br>name: 210812_Pac--008<br>path: D:/ExtractedSignals\\210812_Pac 2021-08-12 10-30-07\\210812_Pac--008.D<br>batch: 210812_Pac 2021-08-12 10-30-07<br>batch_position: 8<br>idle_time: 279.0<br>sample: Blank<br>method: SAA_411_Pac.M<br>timestamp: 2021-08-12 11:04:20<br>detector: G1315C<br>pump: G7110B<br>start_time: 2021-08-12 11:04:54<br>end_time: 2021-08-12 11:08:54<br>runtime: 239.7000000000036",
          "index: 21<br>name: 210812_Pac--009<br>path: D:/ExtractedSignals\\210812_Pac 2021-08-12 10-30-07\\210812_Pac--009.D<br>batch: 210812_Pac 2021-08-12 10-30-07<br>batch_position: 9<br>idle_time: 279.0<br>sample: 210806/036 :10<br>method: SAA_411_Pac.M<br>timestamp: 2021-08-12 11:08:59<br>detector: G1315C<br>pump: G7110B<br>start_time: 2021-08-12 11:09:32<br>end_time: 2021-08-12 11:13:32<br>runtime: 239.7000000000036",
          "index: 22<br>name: 210812_Pac--010<br>path: D:/ExtractedSignals\\210812_Pac 2021-08-12 10-30-07\\210812_Pac--010.D<br>batch: 210812_Pac 2021-08-12 10-30-07<br>batch_position: 10<br>idle_time: 278.0<br>sample: 210806/036 :10<br>method: SAA_411_Pac.M<br>timestamp: 2021-08-12 11:13:37<br>detector: G7110B<br>pump: G7110B<br>start_time: 2021-08-12 11:14:11<br>end_time: 2021-08-12 11:18:11<br>runtime: 239.7000000000036",
          "index: 23<br>name: 210812_Pac--011<br>path: D:/ExtractedSignals\\210812_Pac 2021-08-12 10-30-07\\210812_Pac--011.D<br>batch: 210812_Pac 2021-08-12 10-30-07<br>batch_position: 11<br>idle_time: 279.0<br>sample: 210806/036 :10<br>method: SAA_411_Pac.M<br>timestamp: 2021-08-12 11:18:16<br>detector: G7110B<br>pump: G7110B<br>start_time: 2021-08-12 11:18:50<br>end_time: 2021-08-12 11:22:50<br>runtime: 239.7000000000036",
          "index: 24<br>name: 210812_Pac--012<br>path: D:/ExtractedSignals\\210812_Pac 2021-08-12 10-30-07\\210812_Pac--012.D<br>batch: 210812_Pac 2021-08-12 10-30-07<br>batch_position: 12<br>idle_time: 279.0<br>sample: Blank<br>method: SAA_411_Pac.M<br>timestamp: 2021-08-12 11:22:55<br>detector: G1315C<br>pump: G7110B<br>start_time: 2021-08-12 11:23:29<br>end_time: 2021-08-12 11:27:29<br>runtime: 239.7000000000036",
          "index: 25<br>name: 210812_Pac--013<br>path: D:/ExtractedSignals\\210812_Pac 2021-08-12 10-30-07\\210812_Pac--013.D<br>batch: 210812_Pac 2021-08-12 10-30-07<br>batch_position: 13<br>idle_time: 279.0<br>sample: 0.025 mg/ml<br>method: SAA_411_Pac.M<br>timestamp: 2021-08-12 11:27:34<br>detector: G1315C<br>pump: G7110B<br>start_time: 2021-08-12 11:28:08<br>end_time: 2021-08-12 11:32:08<br>runtime: 239.7000000000036",
          "index: 26<br>name: 210812_Pac--014<br>path: D:/ExtractedSignals\\210812_Pac 2021-08-12 10-30-07\\210812_Pac--014.D<br>batch: 210812_Pac 2021-08-12 10-30-07<br>batch_position: 14<br>idle_time: 279.0<br>sample: Blank<br>method: SAA_411_Pac.M<br>timestamp: 2021-08-12 11:32:13<br>detector: G7110B<br>pump: G7110B<br>start_time: 2021-08-12 11:32:46<br>end_time: 2021-08-12 11:36:47<br>runtime: 239.7000000000036",
          "index: 85<br>name: 210813_Pac--003<br>path: D:/ExtractedSignals\\210813_Pac 2021-08-13 10-37-27\\210813_Pac--003.D<br>batch: 210813_Pac 2021-08-13 10-37-27<br>batch_position: 3<br>idle_time: 278.0<br>sample: Blank<br>method: SAA_411_Pac.M<br>timestamp: 2021-08-13 10:48:34<br>detector: G1315C<br>pump: G7116B<br>start_time: 2021-08-13 10:49:08<br>end_time: 2021-08-13 10:53:08<br>runtime: 239.7000000000036",
          "index: 86<br>name: 210813_Pac--004<br>path: D:/ExtractedSignals\\210813_Pac 2021-08-13 10-37-27\\210813_Pac--004.D<br>batch: 210813_Pac 2021-08-13 10-37-27<br>batch_position: 4<br>idle_time: 279.0<br>sample: Blank<br>method: SAA_411_Pac.M<br>timestamp: 2021-08-13 10:53:13<br>detector: G1315C<br>pump: G7110B<br>start_time: 2021-08-13 10:53:47<br>end_time: 2021-08-13 10:57:47<br>runtime: 239.7000000000036",
          "index: 87<br>name: 210813_Pac--005<br>path: D:/ExtractedSignals\\210813_Pac 2021-08-13 10-37-27\\210813_Pac--005.D<br>batch: 210813_Pac 2021-08-13 10-37-27<br>batch_position: 5<br>idle_time: 279.0<br>sample: NaCl 0,9%<br>method: SAA_411_Pac.M<br>timestamp: 2021-08-13 10:57:52<br>detector: G7110B<br>pump: G7110B<br>start_time: 2021-08-13 10:58:26<br>end_time: 2021-08-13 11:02:27<br>runtime: 239.7000000000036",
          "index: 88<br>name: 210813_Pac--006<br>path: D:/ExtractedSignals\\210813_Pac 2021-08-13 10-37-27\\210813_Pac--006.D<br>batch: 210813_Pac 2021-08-13 10-37-27<br>batch_position: 6<br>idle_time: 279.0<br>sample: Blank<br>method: SAA_411_Pac.M<br>timestamp: 2021-08-13 11:02:31<br>detector: G1315C<br>pump: G7110B<br>start_time: 2021-08-13 11:03:05<br>end_time: 2021-08-13 11:07:06<br>runtime: 239.7000000000036",
          "index: 89<br>name: 210813_Pac--007<br>path: D:/ExtractedSignals\\210813_Pac 2021-08-13 10-37-27\\210813_Pac--007.D<br>batch: 210813_Pac 2021-08-13 10-37-27<br>batch_position: 7<br>idle_time: 279.0<br>sample: 0.025 mg/ml<br>method: SAA_411_Pac.M<br>timestamp: 2021-08-13 11:07:10<br>detector: G1315C<br>pump: G7116B<br>start_time: 2021-08-13 11:07:44<br>end_time: 2021-08-13 11:11:45<br>runtime: 239.7000000000036",
          "index: 90<br>name: 210813_Pac--008<br>path: D:/ExtractedSignals\\210813_Pac 2021-08-13 10-37-27\\210813_Pac--008.D<br>batch: 210813_Pac 2021-08-13 10-37-27<br>batch_position: 8<br>idle_time: 279.0<br>sample: Blank<br>method: SAA_411_Pac.M<br>timestamp: 2021-08-13 11:11:49<br>detector: G1315C<br>pump: G7110B<br>start_time: 2021-08-13 11:12:23<br>end_time: 2021-08-13 11:16:23<br>runtime: 239.7000000000036",
          "index: 91<br>name: 210813_Pac--009<br>path: D:/ExtractedSignals\\210813_Pac 2021-08-13 10-37-27\\210813_Pac--009.D<br>batch: 210813_Pac 2021-08-13 10-37-27<br>batch_position: 9<br>idle_time: 279.0<br>sample: 210812/004 :20<br>method: SAA_411_Pac.M<br>timestamp: 2021-08-13 11:16:28<br>detector: G1315C<br>pump: G7110B<br>start_time: 2021-08-13 11:17:02<br>end_time: 2021-08-13 11:21:03<br>runtime: 239.7000000000036",
          "index: 92<br>name: 210813_Pac--010<br>path: D:/ExtractedSignals\\210813_Pac 2021-08-13 10-37-27\\210813_Pac--010.D<br>batch: 210813_Pac 2021-08-13 10-37-27<br>batch_position: 10<br>idle_time: 280.0<br>sample: 210812/004 :20<br>method: SAA_411_Pac.M<br>timestamp: 2021-08-13 11:21:08<br>detector: G1315C<br>pump: G7110B<br>start_time: 2021-08-13 11:21:41<br>end_time: 2021-08-13 11:25:42<br>runtime: 239.7000000000036",
          "index: 93<br>name: 210813_Pac--011<br>path: D:/ExtractedSignals\\210813_Pac 2021-08-13 10-37-27\\210813_Pac--011.D<br>batch: 210813_Pac 2021-08-13 10-37-27<br>batch_position: 11<br>idle_time: 278.0<br>sample: 210812/004 :20<br>method: SAA_411_Pac.M<br>timestamp: 2021-08-13 11:25:46<br>detector: G1315C<br>pump: G7110B<br>start_time: 2021-08-13 11:26:21<br>end_time: 2021-08-13 11:30:21<br>runtime: 239.7000000000036",
          "index: 94<br>name: 210813_Pac--012<br>path: D:/ExtractedSignals\\210813_Pac 2021-08-13 10-37-27\\210813_Pac--012.D<br>batch: 210813_Pac 2021-08-13 10-37-27<br>batch_position: 12<br>idle_time: 280.0<br>sample: Blank<br>method: SAA_411_Pac.M<br>timestamp: 2021-08-13 11:30:26<br>detector: G1315C<br>pump: G7110B<br>start_time: 2021-08-13 11:30:59<br>end_time: 2021-08-13 11:34:59<br>runtime: 239.7000000000036",
          "index: 95<br>name: 210813_Pac--013<br>path: D:/ExtractedSignals\\210813_Pac 2021-08-13 10-37-27\\210813_Pac--013.D<br>batch: 210813_Pac 2021-08-13 10-37-27<br>batch_position: 13<br>idle_time: 278.0<br>sample: 0.025 mg/ml<br>method: SAA_411_Pac.M<br>timestamp: 2021-08-13 11:35:04<br>detector: G1315C<br>pump: G7110B<br>start_time: 2021-08-13 11:35:38<br>end_time: 2021-08-13 11:39:38<br>runtime: 239.7000000000036",
          "index: 96<br>name: 210813_Pac--014<br>path: D:/ExtractedSignals\\210813_Pac 2021-08-13 10-37-27\\210813_Pac--014.D<br>batch: 210813_Pac 2021-08-13 10-37-27<br>batch_position: 14<br>idle_time: 279.0<br>sample: Blank<br>method: SAA_411_Pac.M<br>timestamp: 2021-08-13 11:39:43<br>detector: G1315C<br>pump: G7110B<br>start_time: 2021-08-13 11:40:16<br>end_time: 2021-08-13 11:44:17<br>runtime: 239.7000000000036"
         ],
         "type": "scatter",
         "x": [
          0,
          1,
          2,
          3,
          4,
          5,
          6,
          7,
          8,
          9,
          10,
          11,
          12,
          13,
          14,
          15,
          16,
          17,
          18,
          19,
          20,
          21
         ],
         "y": [
          0.1406474095219187,
          0.0371119145935281,
          0.0310215044027799,
          0.0116753713829197,
          0.0612858838112777,
          0.2654553779116106,
          0.1356503250303072,
          0.2027627606798395,
          0.0471707372798447,
          0.0779271328420683,
          0.1353330788113435,
          0.157604985153955,
          0.223598264532101,
          0.0797493920774269,
          0.3192023475985978,
          0.0167430617966739,
          0.0572385218161971,
          0.2020030590647896,
          0.1043036451901756,
          0.0846603953967472,
          0.0441158875723958,
          0.0678726469504565
         ]
        },
        {
         "hovertemplate": "<b>%{text}</b><br><b>x: </b>%{x}<br><b>residual_fft_mean_4: </b>%{y}<extra></extra>",
         "mode": "lines",
         "name": "residual_fft_mean_4",
         "text": [
          "index: 17<br>name: 210812_Pac--005<br>path: D:/ExtractedSignals\\210812_Pac 2021-08-12 10-30-07\\210812_Pac--005.D<br>batch: 210812_Pac 2021-08-12 10-30-07<br>batch_position: 5<br>idle_time: 279.0<br>sample: NaCl 0,9%<br>method: SAA_411_Pac.M<br>timestamp: 2021-08-12 10:50:23<br>detector: G1315C<br>pump: G7110B<br>start_time: 2021-08-12 10:50:57<br>end_time: 2021-08-12 10:54:57<br>runtime: 239.7000000000036",
          "index: 18<br>name: 210812_Pac--006<br>path: D:/ExtractedSignals\\210812_Pac 2021-08-12 10-30-07\\210812_Pac--006.D<br>batch: 210812_Pac 2021-08-12 10-30-07<br>batch_position: 6<br>idle_time: 279.0<br>sample: Blank<br>method: SAA_411_Pac.M<br>timestamp: 2021-08-12 10:55:02<br>detector: G1315C<br>pump: G7110B<br>start_time: 2021-08-12 10:55:36<br>end_time: 2021-08-12 10:59:36<br>runtime: 239.7000000000036",
          "index: 19<br>name: 210812_Pac--007<br>path: D:/ExtractedSignals\\210812_Pac 2021-08-12 10-30-07\\210812_Pac--007.D<br>batch: 210812_Pac 2021-08-12 10-30-07<br>batch_position: 7<br>idle_time: 279.0<br>sample: 0.025 mg/ml<br>method: SAA_411_Pac.M<br>timestamp: 2021-08-12 10:59:41<br>detector: G1315C<br>pump: G7110B<br>start_time: 2021-08-12 11:00:15<br>end_time: 2021-08-12 11:04:15<br>runtime: 239.7000000000036",
          "index: 20<br>name: 210812_Pac--008<br>path: D:/ExtractedSignals\\210812_Pac 2021-08-12 10-30-07\\210812_Pac--008.D<br>batch: 210812_Pac 2021-08-12 10-30-07<br>batch_position: 8<br>idle_time: 279.0<br>sample: Blank<br>method: SAA_411_Pac.M<br>timestamp: 2021-08-12 11:04:20<br>detector: G1315C<br>pump: G7110B<br>start_time: 2021-08-12 11:04:54<br>end_time: 2021-08-12 11:08:54<br>runtime: 239.7000000000036",
          "index: 21<br>name: 210812_Pac--009<br>path: D:/ExtractedSignals\\210812_Pac 2021-08-12 10-30-07\\210812_Pac--009.D<br>batch: 210812_Pac 2021-08-12 10-30-07<br>batch_position: 9<br>idle_time: 279.0<br>sample: 210806/036 :10<br>method: SAA_411_Pac.M<br>timestamp: 2021-08-12 11:08:59<br>detector: G1315C<br>pump: G7110B<br>start_time: 2021-08-12 11:09:32<br>end_time: 2021-08-12 11:13:32<br>runtime: 239.7000000000036",
          "index: 22<br>name: 210812_Pac--010<br>path: D:/ExtractedSignals\\210812_Pac 2021-08-12 10-30-07\\210812_Pac--010.D<br>batch: 210812_Pac 2021-08-12 10-30-07<br>batch_position: 10<br>idle_time: 278.0<br>sample: 210806/036 :10<br>method: SAA_411_Pac.M<br>timestamp: 2021-08-12 11:13:37<br>detector: G7110B<br>pump: G7110B<br>start_time: 2021-08-12 11:14:11<br>end_time: 2021-08-12 11:18:11<br>runtime: 239.7000000000036",
          "index: 23<br>name: 210812_Pac--011<br>path: D:/ExtractedSignals\\210812_Pac 2021-08-12 10-30-07\\210812_Pac--011.D<br>batch: 210812_Pac 2021-08-12 10-30-07<br>batch_position: 11<br>idle_time: 279.0<br>sample: 210806/036 :10<br>method: SAA_411_Pac.M<br>timestamp: 2021-08-12 11:18:16<br>detector: G7110B<br>pump: G7110B<br>start_time: 2021-08-12 11:18:50<br>end_time: 2021-08-12 11:22:50<br>runtime: 239.7000000000036",
          "index: 24<br>name: 210812_Pac--012<br>path: D:/ExtractedSignals\\210812_Pac 2021-08-12 10-30-07\\210812_Pac--012.D<br>batch: 210812_Pac 2021-08-12 10-30-07<br>batch_position: 12<br>idle_time: 279.0<br>sample: Blank<br>method: SAA_411_Pac.M<br>timestamp: 2021-08-12 11:22:55<br>detector: G1315C<br>pump: G7110B<br>start_time: 2021-08-12 11:23:29<br>end_time: 2021-08-12 11:27:29<br>runtime: 239.7000000000036",
          "index: 25<br>name: 210812_Pac--013<br>path: D:/ExtractedSignals\\210812_Pac 2021-08-12 10-30-07\\210812_Pac--013.D<br>batch: 210812_Pac 2021-08-12 10-30-07<br>batch_position: 13<br>idle_time: 279.0<br>sample: 0.025 mg/ml<br>method: SAA_411_Pac.M<br>timestamp: 2021-08-12 11:27:34<br>detector: G1315C<br>pump: G7110B<br>start_time: 2021-08-12 11:28:08<br>end_time: 2021-08-12 11:32:08<br>runtime: 239.7000000000036",
          "index: 26<br>name: 210812_Pac--014<br>path: D:/ExtractedSignals\\210812_Pac 2021-08-12 10-30-07\\210812_Pac--014.D<br>batch: 210812_Pac 2021-08-12 10-30-07<br>batch_position: 14<br>idle_time: 279.0<br>sample: Blank<br>method: SAA_411_Pac.M<br>timestamp: 2021-08-12 11:32:13<br>detector: G7110B<br>pump: G7110B<br>start_time: 2021-08-12 11:32:46<br>end_time: 2021-08-12 11:36:47<br>runtime: 239.7000000000036",
          "index: 85<br>name: 210813_Pac--003<br>path: D:/ExtractedSignals\\210813_Pac 2021-08-13 10-37-27\\210813_Pac--003.D<br>batch: 210813_Pac 2021-08-13 10-37-27<br>batch_position: 3<br>idle_time: 278.0<br>sample: Blank<br>method: SAA_411_Pac.M<br>timestamp: 2021-08-13 10:48:34<br>detector: G1315C<br>pump: G7116B<br>start_time: 2021-08-13 10:49:08<br>end_time: 2021-08-13 10:53:08<br>runtime: 239.7000000000036",
          "index: 86<br>name: 210813_Pac--004<br>path: D:/ExtractedSignals\\210813_Pac 2021-08-13 10-37-27\\210813_Pac--004.D<br>batch: 210813_Pac 2021-08-13 10-37-27<br>batch_position: 4<br>idle_time: 279.0<br>sample: Blank<br>method: SAA_411_Pac.M<br>timestamp: 2021-08-13 10:53:13<br>detector: G1315C<br>pump: G7110B<br>start_time: 2021-08-13 10:53:47<br>end_time: 2021-08-13 10:57:47<br>runtime: 239.7000000000036",
          "index: 87<br>name: 210813_Pac--005<br>path: D:/ExtractedSignals\\210813_Pac 2021-08-13 10-37-27\\210813_Pac--005.D<br>batch: 210813_Pac 2021-08-13 10-37-27<br>batch_position: 5<br>idle_time: 279.0<br>sample: NaCl 0,9%<br>method: SAA_411_Pac.M<br>timestamp: 2021-08-13 10:57:52<br>detector: G7110B<br>pump: G7110B<br>start_time: 2021-08-13 10:58:26<br>end_time: 2021-08-13 11:02:27<br>runtime: 239.7000000000036",
          "index: 88<br>name: 210813_Pac--006<br>path: D:/ExtractedSignals\\210813_Pac 2021-08-13 10-37-27\\210813_Pac--006.D<br>batch: 210813_Pac 2021-08-13 10-37-27<br>batch_position: 6<br>idle_time: 279.0<br>sample: Blank<br>method: SAA_411_Pac.M<br>timestamp: 2021-08-13 11:02:31<br>detector: G1315C<br>pump: G7110B<br>start_time: 2021-08-13 11:03:05<br>end_time: 2021-08-13 11:07:06<br>runtime: 239.7000000000036",
          "index: 89<br>name: 210813_Pac--007<br>path: D:/ExtractedSignals\\210813_Pac 2021-08-13 10-37-27\\210813_Pac--007.D<br>batch: 210813_Pac 2021-08-13 10-37-27<br>batch_position: 7<br>idle_time: 279.0<br>sample: 0.025 mg/ml<br>method: SAA_411_Pac.M<br>timestamp: 2021-08-13 11:07:10<br>detector: G1315C<br>pump: G7116B<br>start_time: 2021-08-13 11:07:44<br>end_time: 2021-08-13 11:11:45<br>runtime: 239.7000000000036",
          "index: 90<br>name: 210813_Pac--008<br>path: D:/ExtractedSignals\\210813_Pac 2021-08-13 10-37-27\\210813_Pac--008.D<br>batch: 210813_Pac 2021-08-13 10-37-27<br>batch_position: 8<br>idle_time: 279.0<br>sample: Blank<br>method: SAA_411_Pac.M<br>timestamp: 2021-08-13 11:11:49<br>detector: G1315C<br>pump: G7110B<br>start_time: 2021-08-13 11:12:23<br>end_time: 2021-08-13 11:16:23<br>runtime: 239.7000000000036",
          "index: 91<br>name: 210813_Pac--009<br>path: D:/ExtractedSignals\\210813_Pac 2021-08-13 10-37-27\\210813_Pac--009.D<br>batch: 210813_Pac 2021-08-13 10-37-27<br>batch_position: 9<br>idle_time: 279.0<br>sample: 210812/004 :20<br>method: SAA_411_Pac.M<br>timestamp: 2021-08-13 11:16:28<br>detector: G1315C<br>pump: G7110B<br>start_time: 2021-08-13 11:17:02<br>end_time: 2021-08-13 11:21:03<br>runtime: 239.7000000000036",
          "index: 92<br>name: 210813_Pac--010<br>path: D:/ExtractedSignals\\210813_Pac 2021-08-13 10-37-27\\210813_Pac--010.D<br>batch: 210813_Pac 2021-08-13 10-37-27<br>batch_position: 10<br>idle_time: 280.0<br>sample: 210812/004 :20<br>method: SAA_411_Pac.M<br>timestamp: 2021-08-13 11:21:08<br>detector: G1315C<br>pump: G7110B<br>start_time: 2021-08-13 11:21:41<br>end_time: 2021-08-13 11:25:42<br>runtime: 239.7000000000036",
          "index: 93<br>name: 210813_Pac--011<br>path: D:/ExtractedSignals\\210813_Pac 2021-08-13 10-37-27\\210813_Pac--011.D<br>batch: 210813_Pac 2021-08-13 10-37-27<br>batch_position: 11<br>idle_time: 278.0<br>sample: 210812/004 :20<br>method: SAA_411_Pac.M<br>timestamp: 2021-08-13 11:25:46<br>detector: G1315C<br>pump: G7110B<br>start_time: 2021-08-13 11:26:21<br>end_time: 2021-08-13 11:30:21<br>runtime: 239.7000000000036",
          "index: 94<br>name: 210813_Pac--012<br>path: D:/ExtractedSignals\\210813_Pac 2021-08-13 10-37-27\\210813_Pac--012.D<br>batch: 210813_Pac 2021-08-13 10-37-27<br>batch_position: 12<br>idle_time: 280.0<br>sample: Blank<br>method: SAA_411_Pac.M<br>timestamp: 2021-08-13 11:30:26<br>detector: G1315C<br>pump: G7110B<br>start_time: 2021-08-13 11:30:59<br>end_time: 2021-08-13 11:34:59<br>runtime: 239.7000000000036",
          "index: 95<br>name: 210813_Pac--013<br>path: D:/ExtractedSignals\\210813_Pac 2021-08-13 10-37-27\\210813_Pac--013.D<br>batch: 210813_Pac 2021-08-13 10-37-27<br>batch_position: 13<br>idle_time: 278.0<br>sample: 0.025 mg/ml<br>method: SAA_411_Pac.M<br>timestamp: 2021-08-13 11:35:04<br>detector: G1315C<br>pump: G7110B<br>start_time: 2021-08-13 11:35:38<br>end_time: 2021-08-13 11:39:38<br>runtime: 239.7000000000036",
          "index: 96<br>name: 210813_Pac--014<br>path: D:/ExtractedSignals\\210813_Pac 2021-08-13 10-37-27\\210813_Pac--014.D<br>batch: 210813_Pac 2021-08-13 10-37-27<br>batch_position: 14<br>idle_time: 279.0<br>sample: Blank<br>method: SAA_411_Pac.M<br>timestamp: 2021-08-13 11:39:43<br>detector: G1315C<br>pump: G7110B<br>start_time: 2021-08-13 11:40:16<br>end_time: 2021-08-13 11:44:17<br>runtime: 239.7000000000036"
         ],
         "type": "scatter",
         "x": [
          0,
          1,
          2,
          3,
          4,
          5,
          6,
          7,
          8,
          9,
          10,
          11,
          12,
          13,
          14,
          15,
          16,
          17,
          18,
          19,
          20,
          21
         ],
         "y": [
          0.0284657326861115,
          0.0286013568209432,
          0.0327087105232786,
          0.0234371054573676,
          0.0230188060134023,
          0.0955594528883713,
          0.0196982725595759,
          0,
          0.0391448103666832,
          0.0168366171652824,
          0.0247745017246831,
          0.0241585891829049,
          0.0209641759650316,
          0.0171215029709667,
          0.1275559704330479,
          0.0173834154523913,
          0.0085263994551544,
          0.0164345603760604,
          0.006525678360183,
          0.0250347580148377,
          0.019108280904992,
          0.0240186709143784
         ]
        },
        {
         "hovertemplate": "<b>%{text}</b><br><b>x: </b>%{x}<br><b>residual_fft_sum_4: </b>%{y}<extra></extra>",
         "mode": "lines",
         "name": "residual_fft_sum_4",
         "text": [
          "index: 17<br>name: 210812_Pac--005<br>path: D:/ExtractedSignals\\210812_Pac 2021-08-12 10-30-07\\210812_Pac--005.D<br>batch: 210812_Pac 2021-08-12 10-30-07<br>batch_position: 5<br>idle_time: 279.0<br>sample: NaCl 0,9%<br>method: SAA_411_Pac.M<br>timestamp: 2021-08-12 10:50:23<br>detector: G1315C<br>pump: G7110B<br>start_time: 2021-08-12 10:50:57<br>end_time: 2021-08-12 10:54:57<br>runtime: 239.7000000000036",
          "index: 18<br>name: 210812_Pac--006<br>path: D:/ExtractedSignals\\210812_Pac 2021-08-12 10-30-07\\210812_Pac--006.D<br>batch: 210812_Pac 2021-08-12 10-30-07<br>batch_position: 6<br>idle_time: 279.0<br>sample: Blank<br>method: SAA_411_Pac.M<br>timestamp: 2021-08-12 10:55:02<br>detector: G1315C<br>pump: G7110B<br>start_time: 2021-08-12 10:55:36<br>end_time: 2021-08-12 10:59:36<br>runtime: 239.7000000000036",
          "index: 19<br>name: 210812_Pac--007<br>path: D:/ExtractedSignals\\210812_Pac 2021-08-12 10-30-07\\210812_Pac--007.D<br>batch: 210812_Pac 2021-08-12 10-30-07<br>batch_position: 7<br>idle_time: 279.0<br>sample: 0.025 mg/ml<br>method: SAA_411_Pac.M<br>timestamp: 2021-08-12 10:59:41<br>detector: G1315C<br>pump: G7110B<br>start_time: 2021-08-12 11:00:15<br>end_time: 2021-08-12 11:04:15<br>runtime: 239.7000000000036",
          "index: 20<br>name: 210812_Pac--008<br>path: D:/ExtractedSignals\\210812_Pac 2021-08-12 10-30-07\\210812_Pac--008.D<br>batch: 210812_Pac 2021-08-12 10-30-07<br>batch_position: 8<br>idle_time: 279.0<br>sample: Blank<br>method: SAA_411_Pac.M<br>timestamp: 2021-08-12 11:04:20<br>detector: G1315C<br>pump: G7110B<br>start_time: 2021-08-12 11:04:54<br>end_time: 2021-08-12 11:08:54<br>runtime: 239.7000000000036",
          "index: 21<br>name: 210812_Pac--009<br>path: D:/ExtractedSignals\\210812_Pac 2021-08-12 10-30-07\\210812_Pac--009.D<br>batch: 210812_Pac 2021-08-12 10-30-07<br>batch_position: 9<br>idle_time: 279.0<br>sample: 210806/036 :10<br>method: SAA_411_Pac.M<br>timestamp: 2021-08-12 11:08:59<br>detector: G1315C<br>pump: G7110B<br>start_time: 2021-08-12 11:09:32<br>end_time: 2021-08-12 11:13:32<br>runtime: 239.7000000000036",
          "index: 22<br>name: 210812_Pac--010<br>path: D:/ExtractedSignals\\210812_Pac 2021-08-12 10-30-07\\210812_Pac--010.D<br>batch: 210812_Pac 2021-08-12 10-30-07<br>batch_position: 10<br>idle_time: 278.0<br>sample: 210806/036 :10<br>method: SAA_411_Pac.M<br>timestamp: 2021-08-12 11:13:37<br>detector: G7110B<br>pump: G7110B<br>start_time: 2021-08-12 11:14:11<br>end_time: 2021-08-12 11:18:11<br>runtime: 239.7000000000036",
          "index: 23<br>name: 210812_Pac--011<br>path: D:/ExtractedSignals\\210812_Pac 2021-08-12 10-30-07\\210812_Pac--011.D<br>batch: 210812_Pac 2021-08-12 10-30-07<br>batch_position: 11<br>idle_time: 279.0<br>sample: 210806/036 :10<br>method: SAA_411_Pac.M<br>timestamp: 2021-08-12 11:18:16<br>detector: G7110B<br>pump: G7110B<br>start_time: 2021-08-12 11:18:50<br>end_time: 2021-08-12 11:22:50<br>runtime: 239.7000000000036",
          "index: 24<br>name: 210812_Pac--012<br>path: D:/ExtractedSignals\\210812_Pac 2021-08-12 10-30-07\\210812_Pac--012.D<br>batch: 210812_Pac 2021-08-12 10-30-07<br>batch_position: 12<br>idle_time: 279.0<br>sample: Blank<br>method: SAA_411_Pac.M<br>timestamp: 2021-08-12 11:22:55<br>detector: G1315C<br>pump: G7110B<br>start_time: 2021-08-12 11:23:29<br>end_time: 2021-08-12 11:27:29<br>runtime: 239.7000000000036",
          "index: 25<br>name: 210812_Pac--013<br>path: D:/ExtractedSignals\\210812_Pac 2021-08-12 10-30-07\\210812_Pac--013.D<br>batch: 210812_Pac 2021-08-12 10-30-07<br>batch_position: 13<br>idle_time: 279.0<br>sample: 0.025 mg/ml<br>method: SAA_411_Pac.M<br>timestamp: 2021-08-12 11:27:34<br>detector: G1315C<br>pump: G7110B<br>start_time: 2021-08-12 11:28:08<br>end_time: 2021-08-12 11:32:08<br>runtime: 239.7000000000036",
          "index: 26<br>name: 210812_Pac--014<br>path: D:/ExtractedSignals\\210812_Pac 2021-08-12 10-30-07\\210812_Pac--014.D<br>batch: 210812_Pac 2021-08-12 10-30-07<br>batch_position: 14<br>idle_time: 279.0<br>sample: Blank<br>method: SAA_411_Pac.M<br>timestamp: 2021-08-12 11:32:13<br>detector: G7110B<br>pump: G7110B<br>start_time: 2021-08-12 11:32:46<br>end_time: 2021-08-12 11:36:47<br>runtime: 239.7000000000036",
          "index: 85<br>name: 210813_Pac--003<br>path: D:/ExtractedSignals\\210813_Pac 2021-08-13 10-37-27\\210813_Pac--003.D<br>batch: 210813_Pac 2021-08-13 10-37-27<br>batch_position: 3<br>idle_time: 278.0<br>sample: Blank<br>method: SAA_411_Pac.M<br>timestamp: 2021-08-13 10:48:34<br>detector: G1315C<br>pump: G7116B<br>start_time: 2021-08-13 10:49:08<br>end_time: 2021-08-13 10:53:08<br>runtime: 239.7000000000036",
          "index: 86<br>name: 210813_Pac--004<br>path: D:/ExtractedSignals\\210813_Pac 2021-08-13 10-37-27\\210813_Pac--004.D<br>batch: 210813_Pac 2021-08-13 10-37-27<br>batch_position: 4<br>idle_time: 279.0<br>sample: Blank<br>method: SAA_411_Pac.M<br>timestamp: 2021-08-13 10:53:13<br>detector: G1315C<br>pump: G7110B<br>start_time: 2021-08-13 10:53:47<br>end_time: 2021-08-13 10:57:47<br>runtime: 239.7000000000036",
          "index: 87<br>name: 210813_Pac--005<br>path: D:/ExtractedSignals\\210813_Pac 2021-08-13 10-37-27\\210813_Pac--005.D<br>batch: 210813_Pac 2021-08-13 10-37-27<br>batch_position: 5<br>idle_time: 279.0<br>sample: NaCl 0,9%<br>method: SAA_411_Pac.M<br>timestamp: 2021-08-13 10:57:52<br>detector: G7110B<br>pump: G7110B<br>start_time: 2021-08-13 10:58:26<br>end_time: 2021-08-13 11:02:27<br>runtime: 239.7000000000036",
          "index: 88<br>name: 210813_Pac--006<br>path: D:/ExtractedSignals\\210813_Pac 2021-08-13 10-37-27\\210813_Pac--006.D<br>batch: 210813_Pac 2021-08-13 10-37-27<br>batch_position: 6<br>idle_time: 279.0<br>sample: Blank<br>method: SAA_411_Pac.M<br>timestamp: 2021-08-13 11:02:31<br>detector: G1315C<br>pump: G7110B<br>start_time: 2021-08-13 11:03:05<br>end_time: 2021-08-13 11:07:06<br>runtime: 239.7000000000036",
          "index: 89<br>name: 210813_Pac--007<br>path: D:/ExtractedSignals\\210813_Pac 2021-08-13 10-37-27\\210813_Pac--007.D<br>batch: 210813_Pac 2021-08-13 10-37-27<br>batch_position: 7<br>idle_time: 279.0<br>sample: 0.025 mg/ml<br>method: SAA_411_Pac.M<br>timestamp: 2021-08-13 11:07:10<br>detector: G1315C<br>pump: G7116B<br>start_time: 2021-08-13 11:07:44<br>end_time: 2021-08-13 11:11:45<br>runtime: 239.7000000000036",
          "index: 90<br>name: 210813_Pac--008<br>path: D:/ExtractedSignals\\210813_Pac 2021-08-13 10-37-27\\210813_Pac--008.D<br>batch: 210813_Pac 2021-08-13 10-37-27<br>batch_position: 8<br>idle_time: 279.0<br>sample: Blank<br>method: SAA_411_Pac.M<br>timestamp: 2021-08-13 11:11:49<br>detector: G1315C<br>pump: G7110B<br>start_time: 2021-08-13 11:12:23<br>end_time: 2021-08-13 11:16:23<br>runtime: 239.7000000000036",
          "index: 91<br>name: 210813_Pac--009<br>path: D:/ExtractedSignals\\210813_Pac 2021-08-13 10-37-27\\210813_Pac--009.D<br>batch: 210813_Pac 2021-08-13 10-37-27<br>batch_position: 9<br>idle_time: 279.0<br>sample: 210812/004 :20<br>method: SAA_411_Pac.M<br>timestamp: 2021-08-13 11:16:28<br>detector: G1315C<br>pump: G7110B<br>start_time: 2021-08-13 11:17:02<br>end_time: 2021-08-13 11:21:03<br>runtime: 239.7000000000036",
          "index: 92<br>name: 210813_Pac--010<br>path: D:/ExtractedSignals\\210813_Pac 2021-08-13 10-37-27\\210813_Pac--010.D<br>batch: 210813_Pac 2021-08-13 10-37-27<br>batch_position: 10<br>idle_time: 280.0<br>sample: 210812/004 :20<br>method: SAA_411_Pac.M<br>timestamp: 2021-08-13 11:21:08<br>detector: G1315C<br>pump: G7110B<br>start_time: 2021-08-13 11:21:41<br>end_time: 2021-08-13 11:25:42<br>runtime: 239.7000000000036",
          "index: 93<br>name: 210813_Pac--011<br>path: D:/ExtractedSignals\\210813_Pac 2021-08-13 10-37-27\\210813_Pac--011.D<br>batch: 210813_Pac 2021-08-13 10-37-27<br>batch_position: 11<br>idle_time: 278.0<br>sample: 210812/004 :20<br>method: SAA_411_Pac.M<br>timestamp: 2021-08-13 11:25:46<br>detector: G1315C<br>pump: G7110B<br>start_time: 2021-08-13 11:26:21<br>end_time: 2021-08-13 11:30:21<br>runtime: 239.7000000000036",
          "index: 94<br>name: 210813_Pac--012<br>path: D:/ExtractedSignals\\210813_Pac 2021-08-13 10-37-27\\210813_Pac--012.D<br>batch: 210813_Pac 2021-08-13 10-37-27<br>batch_position: 12<br>idle_time: 280.0<br>sample: Blank<br>method: SAA_411_Pac.M<br>timestamp: 2021-08-13 11:30:26<br>detector: G1315C<br>pump: G7110B<br>start_time: 2021-08-13 11:30:59<br>end_time: 2021-08-13 11:34:59<br>runtime: 239.7000000000036",
          "index: 95<br>name: 210813_Pac--013<br>path: D:/ExtractedSignals\\210813_Pac 2021-08-13 10-37-27\\210813_Pac--013.D<br>batch: 210813_Pac 2021-08-13 10-37-27<br>batch_position: 13<br>idle_time: 278.0<br>sample: 0.025 mg/ml<br>method: SAA_411_Pac.M<br>timestamp: 2021-08-13 11:35:04<br>detector: G1315C<br>pump: G7110B<br>start_time: 2021-08-13 11:35:38<br>end_time: 2021-08-13 11:39:38<br>runtime: 239.7000000000036",
          "index: 96<br>name: 210813_Pac--014<br>path: D:/ExtractedSignals\\210813_Pac 2021-08-13 10-37-27\\210813_Pac--014.D<br>batch: 210813_Pac 2021-08-13 10-37-27<br>batch_position: 14<br>idle_time: 279.0<br>sample: Blank<br>method: SAA_411_Pac.M<br>timestamp: 2021-08-13 11:39:43<br>detector: G1315C<br>pump: G7110B<br>start_time: 2021-08-13 11:40:16<br>end_time: 2021-08-13 11:44:17<br>runtime: 239.7000000000036"
         ],
         "type": "scatter",
         "x": [
          0,
          1,
          2,
          3,
          4,
          5,
          6,
          7,
          8,
          9,
          10,
          11,
          12,
          13,
          14,
          15,
          16,
          17,
          18,
          19,
          20,
          21
         ],
         "y": [
          0.0284657326861115,
          0.0286013568209432,
          0.0327087105232786,
          0.0234371054573676,
          0.0230188060134023,
          0.0955594528883713,
          0.0196982725595759,
          0,
          0.0391448103666832,
          0.0168366171652824,
          0.0247745017246831,
          0.0241585891829049,
          0.0209641759650315,
          0.0171215029709667,
          0.1275559704330479,
          0.0173834154523913,
          0.0085263994551544,
          0.0164345603760604,
          0.006525678360183,
          0.0250347580148377,
          0.019108280904992,
          0.0240186709143784
         ]
        }
       ],
       "layout": {
        "legend": {
         "title": {
          "text": "Features"
         }
        },
        "template": {
         "data": {
          "bar": [
           {
            "error_x": {
             "color": "rgb(36,36,36)"
            },
            "error_y": {
             "color": "rgb(36,36,36)"
            },
            "marker": {
             "line": {
              "color": "white",
              "width": 0.5
             },
             "pattern": {
              "fillmode": "overlay",
              "size": 10,
              "solidity": 0.2
             }
            },
            "type": "bar"
           }
          ],
          "barpolar": [
           {
            "marker": {
             "line": {
              "color": "white",
              "width": 0.5
             },
             "pattern": {
              "fillmode": "overlay",
              "size": 10,
              "solidity": 0.2
             }
            },
            "type": "barpolar"
           }
          ],
          "carpet": [
           {
            "aaxis": {
             "endlinecolor": "rgb(36,36,36)",
             "gridcolor": "white",
             "linecolor": "white",
             "minorgridcolor": "white",
             "startlinecolor": "rgb(36,36,36)"
            },
            "baxis": {
             "endlinecolor": "rgb(36,36,36)",
             "gridcolor": "white",
             "linecolor": "white",
             "minorgridcolor": "white",
             "startlinecolor": "rgb(36,36,36)"
            },
            "type": "carpet"
           }
          ],
          "choropleth": [
           {
            "colorbar": {
             "outlinewidth": 1,
             "tickcolor": "rgb(36,36,36)",
             "ticks": "outside"
            },
            "type": "choropleth"
           }
          ],
          "contour": [
           {
            "colorbar": {
             "outlinewidth": 1,
             "tickcolor": "rgb(36,36,36)",
             "ticks": "outside"
            },
            "colorscale": [
             [
              0,
              "#440154"
             ],
             [
              0.1111111111111111,
              "#482878"
             ],
             [
              0.2222222222222222,
              "#3e4989"
             ],
             [
              0.3333333333333333,
              "#31688e"
             ],
             [
              0.4444444444444444,
              "#26828e"
             ],
             [
              0.5555555555555556,
              "#1f9e89"
             ],
             [
              0.6666666666666666,
              "#35b779"
             ],
             [
              0.7777777777777778,
              "#6ece58"
             ],
             [
              0.8888888888888888,
              "#b5de2b"
             ],
             [
              1,
              "#fde725"
             ]
            ],
            "type": "contour"
           }
          ],
          "contourcarpet": [
           {
            "colorbar": {
             "outlinewidth": 1,
             "tickcolor": "rgb(36,36,36)",
             "ticks": "outside"
            },
            "type": "contourcarpet"
           }
          ],
          "heatmap": [
           {
            "colorbar": {
             "outlinewidth": 1,
             "tickcolor": "rgb(36,36,36)",
             "ticks": "outside"
            },
            "colorscale": [
             [
              0,
              "#440154"
             ],
             [
              0.1111111111111111,
              "#482878"
             ],
             [
              0.2222222222222222,
              "#3e4989"
             ],
             [
              0.3333333333333333,
              "#31688e"
             ],
             [
              0.4444444444444444,
              "#26828e"
             ],
             [
              0.5555555555555556,
              "#1f9e89"
             ],
             [
              0.6666666666666666,
              "#35b779"
             ],
             [
              0.7777777777777778,
              "#6ece58"
             ],
             [
              0.8888888888888888,
              "#b5de2b"
             ],
             [
              1,
              "#fde725"
             ]
            ],
            "type": "heatmap"
           }
          ],
          "heatmapgl": [
           {
            "colorbar": {
             "outlinewidth": 1,
             "tickcolor": "rgb(36,36,36)",
             "ticks": "outside"
            },
            "colorscale": [
             [
              0,
              "#440154"
             ],
             [
              0.1111111111111111,
              "#482878"
             ],
             [
              0.2222222222222222,
              "#3e4989"
             ],
             [
              0.3333333333333333,
              "#31688e"
             ],
             [
              0.4444444444444444,
              "#26828e"
             ],
             [
              0.5555555555555556,
              "#1f9e89"
             ],
             [
              0.6666666666666666,
              "#35b779"
             ],
             [
              0.7777777777777778,
              "#6ece58"
             ],
             [
              0.8888888888888888,
              "#b5de2b"
             ],
             [
              1,
              "#fde725"
             ]
            ],
            "type": "heatmapgl"
           }
          ],
          "histogram": [
           {
            "marker": {
             "line": {
              "color": "white",
              "width": 0.6
             }
            },
            "type": "histogram"
           }
          ],
          "histogram2d": [
           {
            "colorbar": {
             "outlinewidth": 1,
             "tickcolor": "rgb(36,36,36)",
             "ticks": "outside"
            },
            "colorscale": [
             [
              0,
              "#440154"
             ],
             [
              0.1111111111111111,
              "#482878"
             ],
             [
              0.2222222222222222,
              "#3e4989"
             ],
             [
              0.3333333333333333,
              "#31688e"
             ],
             [
              0.4444444444444444,
              "#26828e"
             ],
             [
              0.5555555555555556,
              "#1f9e89"
             ],
             [
              0.6666666666666666,
              "#35b779"
             ],
             [
              0.7777777777777778,
              "#6ece58"
             ],
             [
              0.8888888888888888,
              "#b5de2b"
             ],
             [
              1,
              "#fde725"
             ]
            ],
            "type": "histogram2d"
           }
          ],
          "histogram2dcontour": [
           {
            "colorbar": {
             "outlinewidth": 1,
             "tickcolor": "rgb(36,36,36)",
             "ticks": "outside"
            },
            "colorscale": [
             [
              0,
              "#440154"
             ],
             [
              0.1111111111111111,
              "#482878"
             ],
             [
              0.2222222222222222,
              "#3e4989"
             ],
             [
              0.3333333333333333,
              "#31688e"
             ],
             [
              0.4444444444444444,
              "#26828e"
             ],
             [
              0.5555555555555556,
              "#1f9e89"
             ],
             [
              0.6666666666666666,
              "#35b779"
             ],
             [
              0.7777777777777778,
              "#6ece58"
             ],
             [
              0.8888888888888888,
              "#b5de2b"
             ],
             [
              1,
              "#fde725"
             ]
            ],
            "type": "histogram2dcontour"
           }
          ],
          "mesh3d": [
           {
            "colorbar": {
             "outlinewidth": 1,
             "tickcolor": "rgb(36,36,36)",
             "ticks": "outside"
            },
            "type": "mesh3d"
           }
          ],
          "parcoords": [
           {
            "line": {
             "colorbar": {
              "outlinewidth": 1,
              "tickcolor": "rgb(36,36,36)",
              "ticks": "outside"
             }
            },
            "type": "parcoords"
           }
          ],
          "pie": [
           {
            "automargin": true,
            "type": "pie"
           }
          ],
          "scatter": [
           {
            "fillpattern": {
             "fillmode": "overlay",
             "size": 10,
             "solidity": 0.2
            },
            "type": "scatter"
           }
          ],
          "scatter3d": [
           {
            "line": {
             "colorbar": {
              "outlinewidth": 1,
              "tickcolor": "rgb(36,36,36)",
              "ticks": "outside"
             }
            },
            "marker": {
             "colorbar": {
              "outlinewidth": 1,
              "tickcolor": "rgb(36,36,36)",
              "ticks": "outside"
             }
            },
            "type": "scatter3d"
           }
          ],
          "scattercarpet": [
           {
            "marker": {
             "colorbar": {
              "outlinewidth": 1,
              "tickcolor": "rgb(36,36,36)",
              "ticks": "outside"
             }
            },
            "type": "scattercarpet"
           }
          ],
          "scattergeo": [
           {
            "marker": {
             "colorbar": {
              "outlinewidth": 1,
              "tickcolor": "rgb(36,36,36)",
              "ticks": "outside"
             }
            },
            "type": "scattergeo"
           }
          ],
          "scattergl": [
           {
            "marker": {
             "colorbar": {
              "outlinewidth": 1,
              "tickcolor": "rgb(36,36,36)",
              "ticks": "outside"
             }
            },
            "type": "scattergl"
           }
          ],
          "scattermapbox": [
           {
            "marker": {
             "colorbar": {
              "outlinewidth": 1,
              "tickcolor": "rgb(36,36,36)",
              "ticks": "outside"
             }
            },
            "type": "scattermapbox"
           }
          ],
          "scatterpolar": [
           {
            "marker": {
             "colorbar": {
              "outlinewidth": 1,
              "tickcolor": "rgb(36,36,36)",
              "ticks": "outside"
             }
            },
            "type": "scatterpolar"
           }
          ],
          "scatterpolargl": [
           {
            "marker": {
             "colorbar": {
              "outlinewidth": 1,
              "tickcolor": "rgb(36,36,36)",
              "ticks": "outside"
             }
            },
            "type": "scatterpolargl"
           }
          ],
          "scatterternary": [
           {
            "marker": {
             "colorbar": {
              "outlinewidth": 1,
              "tickcolor": "rgb(36,36,36)",
              "ticks": "outside"
             }
            },
            "type": "scatterternary"
           }
          ],
          "surface": [
           {
            "colorbar": {
             "outlinewidth": 1,
             "tickcolor": "rgb(36,36,36)",
             "ticks": "outside"
            },
            "colorscale": [
             [
              0,
              "#440154"
             ],
             [
              0.1111111111111111,
              "#482878"
             ],
             [
              0.2222222222222222,
              "#3e4989"
             ],
             [
              0.3333333333333333,
              "#31688e"
             ],
             [
              0.4444444444444444,
              "#26828e"
             ],
             [
              0.5555555555555556,
              "#1f9e89"
             ],
             [
              0.6666666666666666,
              "#35b779"
             ],
             [
              0.7777777777777778,
              "#6ece58"
             ],
             [
              0.8888888888888888,
              "#b5de2b"
             ],
             [
              1,
              "#fde725"
             ]
            ],
            "type": "surface"
           }
          ],
          "table": [
           {
            "cells": {
             "fill": {
              "color": "rgb(237,237,237)"
             },
             "line": {
              "color": "white"
             }
            },
            "header": {
             "fill": {
              "color": "rgb(217,217,217)"
             },
             "line": {
              "color": "white"
             }
            },
            "type": "table"
           }
          ]
         },
         "layout": {
          "annotationdefaults": {
           "arrowhead": 0,
           "arrowwidth": 1
          },
          "autotypenumbers": "strict",
          "coloraxis": {
           "colorbar": {
            "outlinewidth": 1,
            "tickcolor": "rgb(36,36,36)",
            "ticks": "outside"
           }
          },
          "colorscale": {
           "diverging": [
            [
             0,
             "rgb(103,0,31)"
            ],
            [
             0.1,
             "rgb(178,24,43)"
            ],
            [
             0.2,
             "rgb(214,96,77)"
            ],
            [
             0.3,
             "rgb(244,165,130)"
            ],
            [
             0.4,
             "rgb(253,219,199)"
            ],
            [
             0.5,
             "rgb(247,247,247)"
            ],
            [
             0.6,
             "rgb(209,229,240)"
            ],
            [
             0.7,
             "rgb(146,197,222)"
            ],
            [
             0.8,
             "rgb(67,147,195)"
            ],
            [
             0.9,
             "rgb(33,102,172)"
            ],
            [
             1,
             "rgb(5,48,97)"
            ]
           ],
           "sequential": [
            [
             0,
             "#440154"
            ],
            [
             0.1111111111111111,
             "#482878"
            ],
            [
             0.2222222222222222,
             "#3e4989"
            ],
            [
             0.3333333333333333,
             "#31688e"
            ],
            [
             0.4444444444444444,
             "#26828e"
            ],
            [
             0.5555555555555556,
             "#1f9e89"
            ],
            [
             0.6666666666666666,
             "#35b779"
            ],
            [
             0.7777777777777778,
             "#6ece58"
            ],
            [
             0.8888888888888888,
             "#b5de2b"
            ],
            [
             1,
             "#fde725"
            ]
           ],
           "sequentialminus": [
            [
             0,
             "#440154"
            ],
            [
             0.1111111111111111,
             "#482878"
            ],
            [
             0.2222222222222222,
             "#3e4989"
            ],
            [
             0.3333333333333333,
             "#31688e"
            ],
            [
             0.4444444444444444,
             "#26828e"
            ],
            [
             0.5555555555555556,
             "#1f9e89"
            ],
            [
             0.6666666666666666,
             "#35b779"
            ],
            [
             0.7777777777777778,
             "#6ece58"
            ],
            [
             0.8888888888888888,
             "#b5de2b"
            ],
            [
             1,
             "#fde725"
            ]
           ]
          },
          "colorway": [
           "#1F77B4",
           "#FF7F0E",
           "#2CA02C",
           "#D62728",
           "#9467BD",
           "#8C564B",
           "#E377C2",
           "#7F7F7F",
           "#BCBD22",
           "#17BECF"
          ],
          "font": {
           "color": "rgb(36,36,36)"
          },
          "geo": {
           "bgcolor": "white",
           "lakecolor": "white",
           "landcolor": "white",
           "showlakes": true,
           "showland": true,
           "subunitcolor": "white"
          },
          "hoverlabel": {
           "align": "left"
          },
          "hovermode": "closest",
          "mapbox": {
           "style": "light"
          },
          "paper_bgcolor": "white",
          "plot_bgcolor": "white",
          "polar": {
           "angularaxis": {
            "gridcolor": "rgb(232,232,232)",
            "linecolor": "rgb(36,36,36)",
            "showgrid": false,
            "showline": true,
            "ticks": "outside"
           },
           "bgcolor": "white",
           "radialaxis": {
            "gridcolor": "rgb(232,232,232)",
            "linecolor": "rgb(36,36,36)",
            "showgrid": false,
            "showline": true,
            "ticks": "outside"
           }
          },
          "scene": {
           "xaxis": {
            "backgroundcolor": "white",
            "gridcolor": "rgb(232,232,232)",
            "gridwidth": 2,
            "linecolor": "rgb(36,36,36)",
            "showbackground": true,
            "showgrid": false,
            "showline": true,
            "ticks": "outside",
            "zeroline": false,
            "zerolinecolor": "rgb(36,36,36)"
           },
           "yaxis": {
            "backgroundcolor": "white",
            "gridcolor": "rgb(232,232,232)",
            "gridwidth": 2,
            "linecolor": "rgb(36,36,36)",
            "showbackground": true,
            "showgrid": false,
            "showline": true,
            "ticks": "outside",
            "zeroline": false,
            "zerolinecolor": "rgb(36,36,36)"
           },
           "zaxis": {
            "backgroundcolor": "white",
            "gridcolor": "rgb(232,232,232)",
            "gridwidth": 2,
            "linecolor": "rgb(36,36,36)",
            "showbackground": true,
            "showgrid": false,
            "showline": true,
            "ticks": "outside",
            "zeroline": false,
            "zerolinecolor": "rgb(36,36,36)"
           }
          },
          "shapedefaults": {
           "fillcolor": "black",
           "line": {
            "width": 0
           },
           "opacity": 0.3
          },
          "ternary": {
           "aaxis": {
            "gridcolor": "rgb(232,232,232)",
            "linecolor": "rgb(36,36,36)",
            "showgrid": false,
            "showline": true,
            "ticks": "outside"
           },
           "baxis": {
            "gridcolor": "rgb(232,232,232)",
            "linecolor": "rgb(36,36,36)",
            "showgrid": false,
            "showline": true,
            "ticks": "outside"
           },
           "bgcolor": "white",
           "caxis": {
            "gridcolor": "rgb(232,232,232)",
            "linecolor": "rgb(36,36,36)",
            "showgrid": false,
            "showline": true,
            "ticks": "outside"
           }
          },
          "title": {
           "x": 0.05
          },
          "xaxis": {
           "automargin": true,
           "gridcolor": "rgb(232,232,232)",
           "linecolor": "rgb(36,36,36)",
           "showgrid": false,
           "showline": true,
           "ticks": "outside",
           "title": {
            "standoff": 15
           },
           "zeroline": false,
           "zerolinecolor": "rgb(36,36,36)"
          },
          "yaxis": {
           "automargin": true,
           "gridcolor": "rgb(232,232,232)",
           "linecolor": "rgb(36,36,36)",
           "showgrid": false,
           "showline": true,
           "ticks": "outside",
           "title": {
            "standoff": 15
           },
           "zeroline": false,
           "zerolinecolor": "rgb(36,36,36)"
          }
         }
        },
        "xaxis": {
         "title": {
          "text": "Analysis index"
         }
        },
        "yaxis": {
         "title": {
          "text": "Value / U.A."
         }
        }
       }
      }
     },
     "metadata": {},
     "output_type": "display_data"
    }
   ],
   "source": [
    "import pandas as pd\n",
    "from src.StreamPort.machine_learning.analyses import MachineLearningAnalyses\n",
    "\n",
    "train_data = pd.read_csv(\"train_features.csv\")\n",
    "train_metadata = pd.read_csv(\"train_metadata.csv\")\n",
    "ana = MachineLearningAnalyses(variables = train_data, metadata = train_metadata)\n",
    "print(ana)\n",
    "ana.plot_data()"
   ]
  },
  {
   "cell_type": "code",
   "execution_count": 2,
   "metadata": {},
   "outputs": [
    {
     "name": "stdout",
     "output_type": "stream",
     "text": [
      "<class 'src.StreamPort.machine_learning.analyses.IsolationForestAnalyses'>\n"
     ]
    },
    {
     "data": {
      "application/vnd.plotly.v1+json": {
       "config": {
        "plotlyServerURL": "https://plot.ly"
       },
       "data": [
        {
         "hovertemplate": [
          "<b>index: </b>17<br><b>name: </b>210812_Pac--005<br><b>path: </b>D:/ExtractedSignals\\210812_Pac 2021-08-12 10-30-07\\210812_Pac--005.D<br><b>batch: </b>210812_Pac 2021-08-12 10-30-07<br><b>batch_position: </b>5<br><b>idle_time: </b>279.0<br><b>sample: </b>NaCl 0,9%<br><b>method: </b>SAA_411_Pac.M<br><b>timestamp: </b>2021-08-12 10:50:23<br><b>detector: </b>G1315C<br><b>pump: </b>G7110B<br><b>start_time: </b>2021-08-12 10:50:57<br><b>end_time: </b>2021-08-12 10:54:57<br><b>runtime: </b>239.7000000000036",
          "<b>index: </b>18<br><b>name: </b>210812_Pac--006<br><b>path: </b>D:/ExtractedSignals\\210812_Pac 2021-08-12 10-30-07\\210812_Pac--006.D<br><b>batch: </b>210812_Pac 2021-08-12 10-30-07<br><b>batch_position: </b>6<br><b>idle_time: </b>279.0<br><b>sample: </b>Blank<br><b>method: </b>SAA_411_Pac.M<br><b>timestamp: </b>2021-08-12 10:55:02<br><b>detector: </b>G1315C<br><b>pump: </b>G7110B<br><b>start_time: </b>2021-08-12 10:55:36<br><b>end_time: </b>2021-08-12 10:59:36<br><b>runtime: </b>239.7000000000036",
          "<b>index: </b>19<br><b>name: </b>210812_Pac--007<br><b>path: </b>D:/ExtractedSignals\\210812_Pac 2021-08-12 10-30-07\\210812_Pac--007.D<br><b>batch: </b>210812_Pac 2021-08-12 10-30-07<br><b>batch_position: </b>7<br><b>idle_time: </b>279.0<br><b>sample: </b>0.025 mg/ml<br><b>method: </b>SAA_411_Pac.M<br><b>timestamp: </b>2021-08-12 10:59:41<br><b>detector: </b>G1315C<br><b>pump: </b>G7110B<br><b>start_time: </b>2021-08-12 11:00:15<br><b>end_time: </b>2021-08-12 11:04:15<br><b>runtime: </b>239.7000000000036",
          "<b>index: </b>20<br><b>name: </b>210812_Pac--008<br><b>path: </b>D:/ExtractedSignals\\210812_Pac 2021-08-12 10-30-07\\210812_Pac--008.D<br><b>batch: </b>210812_Pac 2021-08-12 10-30-07<br><b>batch_position: </b>8<br><b>idle_time: </b>279.0<br><b>sample: </b>Blank<br><b>method: </b>SAA_411_Pac.M<br><b>timestamp: </b>2021-08-12 11:04:20<br><b>detector: </b>G1315C<br><b>pump: </b>G7110B<br><b>start_time: </b>2021-08-12 11:04:54<br><b>end_time: </b>2021-08-12 11:08:54<br><b>runtime: </b>239.7000000000036",
          "<b>index: </b>21<br><b>name: </b>210812_Pac--009<br><b>path: </b>D:/ExtractedSignals\\210812_Pac 2021-08-12 10-30-07\\210812_Pac--009.D<br><b>batch: </b>210812_Pac 2021-08-12 10-30-07<br><b>batch_position: </b>9<br><b>idle_time: </b>279.0<br><b>sample: </b>210806/036 :10<br><b>method: </b>SAA_411_Pac.M<br><b>timestamp: </b>2021-08-12 11:08:59<br><b>detector: </b>G1315C<br><b>pump: </b>G7110B<br><b>start_time: </b>2021-08-12 11:09:32<br><b>end_time: </b>2021-08-12 11:13:32<br><b>runtime: </b>239.7000000000036",
          "<b>index: </b>22<br><b>name: </b>210812_Pac--010<br><b>path: </b>D:/ExtractedSignals\\210812_Pac 2021-08-12 10-30-07\\210812_Pac--010.D<br><b>batch: </b>210812_Pac 2021-08-12 10-30-07<br><b>batch_position: </b>10<br><b>idle_time: </b>278.0<br><b>sample: </b>210806/036 :10<br><b>method: </b>SAA_411_Pac.M<br><b>timestamp: </b>2021-08-12 11:13:37<br><b>detector: </b>G7110B<br><b>pump: </b>G7110B<br><b>start_time: </b>2021-08-12 11:14:11<br><b>end_time: </b>2021-08-12 11:18:11<br><b>runtime: </b>239.7000000000036",
          "<b>index: </b>23<br><b>name: </b>210812_Pac--011<br><b>path: </b>D:/ExtractedSignals\\210812_Pac 2021-08-12 10-30-07\\210812_Pac--011.D<br><b>batch: </b>210812_Pac 2021-08-12 10-30-07<br><b>batch_position: </b>11<br><b>idle_time: </b>279.0<br><b>sample: </b>210806/036 :10<br><b>method: </b>SAA_411_Pac.M<br><b>timestamp: </b>2021-08-12 11:18:16<br><b>detector: </b>G7110B<br><b>pump: </b>G7110B<br><b>start_time: </b>2021-08-12 11:18:50<br><b>end_time: </b>2021-08-12 11:22:50<br><b>runtime: </b>239.7000000000036",
          "<b>index: </b>24<br><b>name: </b>210812_Pac--012<br><b>path: </b>D:/ExtractedSignals\\210812_Pac 2021-08-12 10-30-07\\210812_Pac--012.D<br><b>batch: </b>210812_Pac 2021-08-12 10-30-07<br><b>batch_position: </b>12<br><b>idle_time: </b>279.0<br><b>sample: </b>Blank<br><b>method: </b>SAA_411_Pac.M<br><b>timestamp: </b>2021-08-12 11:22:55<br><b>detector: </b>G1315C<br><b>pump: </b>G7110B<br><b>start_time: </b>2021-08-12 11:23:29<br><b>end_time: </b>2021-08-12 11:27:29<br><b>runtime: </b>239.7000000000036",
          "<b>index: </b>25<br><b>name: </b>210812_Pac--013<br><b>path: </b>D:/ExtractedSignals\\210812_Pac 2021-08-12 10-30-07\\210812_Pac--013.D<br><b>batch: </b>210812_Pac 2021-08-12 10-30-07<br><b>batch_position: </b>13<br><b>idle_time: </b>279.0<br><b>sample: </b>0.025 mg/ml<br><b>method: </b>SAA_411_Pac.M<br><b>timestamp: </b>2021-08-12 11:27:34<br><b>detector: </b>G1315C<br><b>pump: </b>G7110B<br><b>start_time: </b>2021-08-12 11:28:08<br><b>end_time: </b>2021-08-12 11:32:08<br><b>runtime: </b>239.7000000000036",
          "<b>index: </b>26<br><b>name: </b>210812_Pac--014<br><b>path: </b>D:/ExtractedSignals\\210812_Pac 2021-08-12 10-30-07\\210812_Pac--014.D<br><b>batch: </b>210812_Pac 2021-08-12 10-30-07<br><b>batch_position: </b>14<br><b>idle_time: </b>279.0<br><b>sample: </b>Blank<br><b>method: </b>SAA_411_Pac.M<br><b>timestamp: </b>2021-08-12 11:32:13<br><b>detector: </b>G7110B<br><b>pump: </b>G7110B<br><b>start_time: </b>2021-08-12 11:32:46<br><b>end_time: </b>2021-08-12 11:36:47<br><b>runtime: </b>239.7000000000036",
          "<b>index: </b>85<br><b>name: </b>210813_Pac--003<br><b>path: </b>D:/ExtractedSignals\\210813_Pac 2021-08-13 10-37-27\\210813_Pac--003.D<br><b>batch: </b>210813_Pac 2021-08-13 10-37-27<br><b>batch_position: </b>3<br><b>idle_time: </b>278.0<br><b>sample: </b>Blank<br><b>method: </b>SAA_411_Pac.M<br><b>timestamp: </b>2021-08-13 10:48:34<br><b>detector: </b>G1315C<br><b>pump: </b>G7116B<br><b>start_time: </b>2021-08-13 10:49:08<br><b>end_time: </b>2021-08-13 10:53:08<br><b>runtime: </b>239.7000000000036",
          "<b>index: </b>86<br><b>name: </b>210813_Pac--004<br><b>path: </b>D:/ExtractedSignals\\210813_Pac 2021-08-13 10-37-27\\210813_Pac--004.D<br><b>batch: </b>210813_Pac 2021-08-13 10-37-27<br><b>batch_position: </b>4<br><b>idle_time: </b>279.0<br><b>sample: </b>Blank<br><b>method: </b>SAA_411_Pac.M<br><b>timestamp: </b>2021-08-13 10:53:13<br><b>detector: </b>G1315C<br><b>pump: </b>G7110B<br><b>start_time: </b>2021-08-13 10:53:47<br><b>end_time: </b>2021-08-13 10:57:47<br><b>runtime: </b>239.7000000000036",
          "<b>index: </b>87<br><b>name: </b>210813_Pac--005<br><b>path: </b>D:/ExtractedSignals\\210813_Pac 2021-08-13 10-37-27\\210813_Pac--005.D<br><b>batch: </b>210813_Pac 2021-08-13 10-37-27<br><b>batch_position: </b>5<br><b>idle_time: </b>279.0<br><b>sample: </b>NaCl 0,9%<br><b>method: </b>SAA_411_Pac.M<br><b>timestamp: </b>2021-08-13 10:57:52<br><b>detector: </b>G7110B<br><b>pump: </b>G7110B<br><b>start_time: </b>2021-08-13 10:58:26<br><b>end_time: </b>2021-08-13 11:02:27<br><b>runtime: </b>239.7000000000036",
          "<b>index: </b>88<br><b>name: </b>210813_Pac--006<br><b>path: </b>D:/ExtractedSignals\\210813_Pac 2021-08-13 10-37-27\\210813_Pac--006.D<br><b>batch: </b>210813_Pac 2021-08-13 10-37-27<br><b>batch_position: </b>6<br><b>idle_time: </b>279.0<br><b>sample: </b>Blank<br><b>method: </b>SAA_411_Pac.M<br><b>timestamp: </b>2021-08-13 11:02:31<br><b>detector: </b>G1315C<br><b>pump: </b>G7110B<br><b>start_time: </b>2021-08-13 11:03:05<br><b>end_time: </b>2021-08-13 11:07:06<br><b>runtime: </b>239.7000000000036",
          "<b>index: </b>89<br><b>name: </b>210813_Pac--007<br><b>path: </b>D:/ExtractedSignals\\210813_Pac 2021-08-13 10-37-27\\210813_Pac--007.D<br><b>batch: </b>210813_Pac 2021-08-13 10-37-27<br><b>batch_position: </b>7<br><b>idle_time: </b>279.0<br><b>sample: </b>0.025 mg/ml<br><b>method: </b>SAA_411_Pac.M<br><b>timestamp: </b>2021-08-13 11:07:10<br><b>detector: </b>G1315C<br><b>pump: </b>G7116B<br><b>start_time: </b>2021-08-13 11:07:44<br><b>end_time: </b>2021-08-13 11:11:45<br><b>runtime: </b>239.7000000000036",
          "<b>index: </b>90<br><b>name: </b>210813_Pac--008<br><b>path: </b>D:/ExtractedSignals\\210813_Pac 2021-08-13 10-37-27\\210813_Pac--008.D<br><b>batch: </b>210813_Pac 2021-08-13 10-37-27<br><b>batch_position: </b>8<br><b>idle_time: </b>279.0<br><b>sample: </b>Blank<br><b>method: </b>SAA_411_Pac.M<br><b>timestamp: </b>2021-08-13 11:11:49<br><b>detector: </b>G1315C<br><b>pump: </b>G7110B<br><b>start_time: </b>2021-08-13 11:12:23<br><b>end_time: </b>2021-08-13 11:16:23<br><b>runtime: </b>239.7000000000036",
          "<b>index: </b>91<br><b>name: </b>210813_Pac--009<br><b>path: </b>D:/ExtractedSignals\\210813_Pac 2021-08-13 10-37-27\\210813_Pac--009.D<br><b>batch: </b>210813_Pac 2021-08-13 10-37-27<br><b>batch_position: </b>9<br><b>idle_time: </b>279.0<br><b>sample: </b>210812/004 :20<br><b>method: </b>SAA_411_Pac.M<br><b>timestamp: </b>2021-08-13 11:16:28<br><b>detector: </b>G1315C<br><b>pump: </b>G7110B<br><b>start_time: </b>2021-08-13 11:17:02<br><b>end_time: </b>2021-08-13 11:21:03<br><b>runtime: </b>239.7000000000036",
          "<b>index: </b>92<br><b>name: </b>210813_Pac--010<br><b>path: </b>D:/ExtractedSignals\\210813_Pac 2021-08-13 10-37-27\\210813_Pac--010.D<br><b>batch: </b>210813_Pac 2021-08-13 10-37-27<br><b>batch_position: </b>10<br><b>idle_time: </b>280.0<br><b>sample: </b>210812/004 :20<br><b>method: </b>SAA_411_Pac.M<br><b>timestamp: </b>2021-08-13 11:21:08<br><b>detector: </b>G1315C<br><b>pump: </b>G7110B<br><b>start_time: </b>2021-08-13 11:21:41<br><b>end_time: </b>2021-08-13 11:25:42<br><b>runtime: </b>239.7000000000036",
          "<b>index: </b>93<br><b>name: </b>210813_Pac--011<br><b>path: </b>D:/ExtractedSignals\\210813_Pac 2021-08-13 10-37-27\\210813_Pac--011.D<br><b>batch: </b>210813_Pac 2021-08-13 10-37-27<br><b>batch_position: </b>11<br><b>idle_time: </b>278.0<br><b>sample: </b>210812/004 :20<br><b>method: </b>SAA_411_Pac.M<br><b>timestamp: </b>2021-08-13 11:25:46<br><b>detector: </b>G1315C<br><b>pump: </b>G7110B<br><b>start_time: </b>2021-08-13 11:26:21<br><b>end_time: </b>2021-08-13 11:30:21<br><b>runtime: </b>239.7000000000036",
          "<b>index: </b>94<br><b>name: </b>210813_Pac--012<br><b>path: </b>D:/ExtractedSignals\\210813_Pac 2021-08-13 10-37-27\\210813_Pac--012.D<br><b>batch: </b>210813_Pac 2021-08-13 10-37-27<br><b>batch_position: </b>12<br><b>idle_time: </b>280.0<br><b>sample: </b>Blank<br><b>method: </b>SAA_411_Pac.M<br><b>timestamp: </b>2021-08-13 11:30:26<br><b>detector: </b>G1315C<br><b>pump: </b>G7110B<br><b>start_time: </b>2021-08-13 11:30:59<br><b>end_time: </b>2021-08-13 11:34:59<br><b>runtime: </b>239.7000000000036",
          "<b>index: </b>95<br><b>name: </b>210813_Pac--013<br><b>path: </b>D:/ExtractedSignals\\210813_Pac 2021-08-13 10-37-27\\210813_Pac--013.D<br><b>batch: </b>210813_Pac 2021-08-13 10-37-27<br><b>batch_position: </b>13<br><b>idle_time: </b>278.0<br><b>sample: </b>0.025 mg/ml<br><b>method: </b>SAA_411_Pac.M<br><b>timestamp: </b>2021-08-13 11:35:04<br><b>detector: </b>G1315C<br><b>pump: </b>G7110B<br><b>start_time: </b>2021-08-13 11:35:38<br><b>end_time: </b>2021-08-13 11:39:38<br><b>runtime: </b>239.7000000000036",
          "<b>index: </b>96<br><b>name: </b>210813_Pac--014<br><b>path: </b>D:/ExtractedSignals\\210813_Pac 2021-08-13 10-37-27\\210813_Pac--014.D<br><b>batch: </b>210813_Pac 2021-08-13 10-37-27<br><b>batch_position: </b>14<br><b>idle_time: </b>279.0<br><b>sample: </b>Blank<br><b>method: </b>SAA_411_Pac.M<br><b>timestamp: </b>2021-08-13 11:39:43<br><b>detector: </b>G1315C<br><b>pump: </b>G7110B<br><b>start_time: </b>2021-08-13 11:40:16<br><b>end_time: </b>2021-08-13 11:44:17<br><b>runtime: </b>239.7000000000036"
         ],
         "legendgroup": "Train",
         "line": {
          "color": "black"
         },
         "marker": {
          "color": "black",
          "size": 10
         },
         "mode": "lines+markers",
         "name": "Train Scores",
         "text": [
          "<b>index: </b>17<br><b>name: </b>210812_Pac--005<br><b>path: </b>D:/ExtractedSignals\\210812_Pac 2021-08-12 10-30-07\\210812_Pac--005.D<br><b>batch: </b>210812_Pac 2021-08-12 10-30-07<br><b>batch_position: </b>5<br><b>idle_time: </b>279.0<br><b>sample: </b>NaCl 0,9%<br><b>method: </b>SAA_411_Pac.M<br><b>timestamp: </b>2021-08-12 10:50:23<br><b>detector: </b>G1315C<br><b>pump: </b>G7110B<br><b>start_time: </b>2021-08-12 10:50:57<br><b>end_time: </b>2021-08-12 10:54:57<br><b>runtime: </b>239.7000000000036",
          "<b>index: </b>18<br><b>name: </b>210812_Pac--006<br><b>path: </b>D:/ExtractedSignals\\210812_Pac 2021-08-12 10-30-07\\210812_Pac--006.D<br><b>batch: </b>210812_Pac 2021-08-12 10-30-07<br><b>batch_position: </b>6<br><b>idle_time: </b>279.0<br><b>sample: </b>Blank<br><b>method: </b>SAA_411_Pac.M<br><b>timestamp: </b>2021-08-12 10:55:02<br><b>detector: </b>G1315C<br><b>pump: </b>G7110B<br><b>start_time: </b>2021-08-12 10:55:36<br><b>end_time: </b>2021-08-12 10:59:36<br><b>runtime: </b>239.7000000000036",
          "<b>index: </b>19<br><b>name: </b>210812_Pac--007<br><b>path: </b>D:/ExtractedSignals\\210812_Pac 2021-08-12 10-30-07\\210812_Pac--007.D<br><b>batch: </b>210812_Pac 2021-08-12 10-30-07<br><b>batch_position: </b>7<br><b>idle_time: </b>279.0<br><b>sample: </b>0.025 mg/ml<br><b>method: </b>SAA_411_Pac.M<br><b>timestamp: </b>2021-08-12 10:59:41<br><b>detector: </b>G1315C<br><b>pump: </b>G7110B<br><b>start_time: </b>2021-08-12 11:00:15<br><b>end_time: </b>2021-08-12 11:04:15<br><b>runtime: </b>239.7000000000036",
          "<b>index: </b>20<br><b>name: </b>210812_Pac--008<br><b>path: </b>D:/ExtractedSignals\\210812_Pac 2021-08-12 10-30-07\\210812_Pac--008.D<br><b>batch: </b>210812_Pac 2021-08-12 10-30-07<br><b>batch_position: </b>8<br><b>idle_time: </b>279.0<br><b>sample: </b>Blank<br><b>method: </b>SAA_411_Pac.M<br><b>timestamp: </b>2021-08-12 11:04:20<br><b>detector: </b>G1315C<br><b>pump: </b>G7110B<br><b>start_time: </b>2021-08-12 11:04:54<br><b>end_time: </b>2021-08-12 11:08:54<br><b>runtime: </b>239.7000000000036",
          "<b>index: </b>21<br><b>name: </b>210812_Pac--009<br><b>path: </b>D:/ExtractedSignals\\210812_Pac 2021-08-12 10-30-07\\210812_Pac--009.D<br><b>batch: </b>210812_Pac 2021-08-12 10-30-07<br><b>batch_position: </b>9<br><b>idle_time: </b>279.0<br><b>sample: </b>210806/036 :10<br><b>method: </b>SAA_411_Pac.M<br><b>timestamp: </b>2021-08-12 11:08:59<br><b>detector: </b>G1315C<br><b>pump: </b>G7110B<br><b>start_time: </b>2021-08-12 11:09:32<br><b>end_time: </b>2021-08-12 11:13:32<br><b>runtime: </b>239.7000000000036",
          "<b>index: </b>22<br><b>name: </b>210812_Pac--010<br><b>path: </b>D:/ExtractedSignals\\210812_Pac 2021-08-12 10-30-07\\210812_Pac--010.D<br><b>batch: </b>210812_Pac 2021-08-12 10-30-07<br><b>batch_position: </b>10<br><b>idle_time: </b>278.0<br><b>sample: </b>210806/036 :10<br><b>method: </b>SAA_411_Pac.M<br><b>timestamp: </b>2021-08-12 11:13:37<br><b>detector: </b>G7110B<br><b>pump: </b>G7110B<br><b>start_time: </b>2021-08-12 11:14:11<br><b>end_time: </b>2021-08-12 11:18:11<br><b>runtime: </b>239.7000000000036",
          "<b>index: </b>23<br><b>name: </b>210812_Pac--011<br><b>path: </b>D:/ExtractedSignals\\210812_Pac 2021-08-12 10-30-07\\210812_Pac--011.D<br><b>batch: </b>210812_Pac 2021-08-12 10-30-07<br><b>batch_position: </b>11<br><b>idle_time: </b>279.0<br><b>sample: </b>210806/036 :10<br><b>method: </b>SAA_411_Pac.M<br><b>timestamp: </b>2021-08-12 11:18:16<br><b>detector: </b>G7110B<br><b>pump: </b>G7110B<br><b>start_time: </b>2021-08-12 11:18:50<br><b>end_time: </b>2021-08-12 11:22:50<br><b>runtime: </b>239.7000000000036",
          "<b>index: </b>24<br><b>name: </b>210812_Pac--012<br><b>path: </b>D:/ExtractedSignals\\210812_Pac 2021-08-12 10-30-07\\210812_Pac--012.D<br><b>batch: </b>210812_Pac 2021-08-12 10-30-07<br><b>batch_position: </b>12<br><b>idle_time: </b>279.0<br><b>sample: </b>Blank<br><b>method: </b>SAA_411_Pac.M<br><b>timestamp: </b>2021-08-12 11:22:55<br><b>detector: </b>G1315C<br><b>pump: </b>G7110B<br><b>start_time: </b>2021-08-12 11:23:29<br><b>end_time: </b>2021-08-12 11:27:29<br><b>runtime: </b>239.7000000000036",
          "<b>index: </b>25<br><b>name: </b>210812_Pac--013<br><b>path: </b>D:/ExtractedSignals\\210812_Pac 2021-08-12 10-30-07\\210812_Pac--013.D<br><b>batch: </b>210812_Pac 2021-08-12 10-30-07<br><b>batch_position: </b>13<br><b>idle_time: </b>279.0<br><b>sample: </b>0.025 mg/ml<br><b>method: </b>SAA_411_Pac.M<br><b>timestamp: </b>2021-08-12 11:27:34<br><b>detector: </b>G1315C<br><b>pump: </b>G7110B<br><b>start_time: </b>2021-08-12 11:28:08<br><b>end_time: </b>2021-08-12 11:32:08<br><b>runtime: </b>239.7000000000036",
          "<b>index: </b>26<br><b>name: </b>210812_Pac--014<br><b>path: </b>D:/ExtractedSignals\\210812_Pac 2021-08-12 10-30-07\\210812_Pac--014.D<br><b>batch: </b>210812_Pac 2021-08-12 10-30-07<br><b>batch_position: </b>14<br><b>idle_time: </b>279.0<br><b>sample: </b>Blank<br><b>method: </b>SAA_411_Pac.M<br><b>timestamp: </b>2021-08-12 11:32:13<br><b>detector: </b>G7110B<br><b>pump: </b>G7110B<br><b>start_time: </b>2021-08-12 11:32:46<br><b>end_time: </b>2021-08-12 11:36:47<br><b>runtime: </b>239.7000000000036",
          "<b>index: </b>85<br><b>name: </b>210813_Pac--003<br><b>path: </b>D:/ExtractedSignals\\210813_Pac 2021-08-13 10-37-27\\210813_Pac--003.D<br><b>batch: </b>210813_Pac 2021-08-13 10-37-27<br><b>batch_position: </b>3<br><b>idle_time: </b>278.0<br><b>sample: </b>Blank<br><b>method: </b>SAA_411_Pac.M<br><b>timestamp: </b>2021-08-13 10:48:34<br><b>detector: </b>G1315C<br><b>pump: </b>G7116B<br><b>start_time: </b>2021-08-13 10:49:08<br><b>end_time: </b>2021-08-13 10:53:08<br><b>runtime: </b>239.7000000000036",
          "<b>index: </b>86<br><b>name: </b>210813_Pac--004<br><b>path: </b>D:/ExtractedSignals\\210813_Pac 2021-08-13 10-37-27\\210813_Pac--004.D<br><b>batch: </b>210813_Pac 2021-08-13 10-37-27<br><b>batch_position: </b>4<br><b>idle_time: </b>279.0<br><b>sample: </b>Blank<br><b>method: </b>SAA_411_Pac.M<br><b>timestamp: </b>2021-08-13 10:53:13<br><b>detector: </b>G1315C<br><b>pump: </b>G7110B<br><b>start_time: </b>2021-08-13 10:53:47<br><b>end_time: </b>2021-08-13 10:57:47<br><b>runtime: </b>239.7000000000036",
          "<b>index: </b>87<br><b>name: </b>210813_Pac--005<br><b>path: </b>D:/ExtractedSignals\\210813_Pac 2021-08-13 10-37-27\\210813_Pac--005.D<br><b>batch: </b>210813_Pac 2021-08-13 10-37-27<br><b>batch_position: </b>5<br><b>idle_time: </b>279.0<br><b>sample: </b>NaCl 0,9%<br><b>method: </b>SAA_411_Pac.M<br><b>timestamp: </b>2021-08-13 10:57:52<br><b>detector: </b>G7110B<br><b>pump: </b>G7110B<br><b>start_time: </b>2021-08-13 10:58:26<br><b>end_time: </b>2021-08-13 11:02:27<br><b>runtime: </b>239.7000000000036",
          "<b>index: </b>88<br><b>name: </b>210813_Pac--006<br><b>path: </b>D:/ExtractedSignals\\210813_Pac 2021-08-13 10-37-27\\210813_Pac--006.D<br><b>batch: </b>210813_Pac 2021-08-13 10-37-27<br><b>batch_position: </b>6<br><b>idle_time: </b>279.0<br><b>sample: </b>Blank<br><b>method: </b>SAA_411_Pac.M<br><b>timestamp: </b>2021-08-13 11:02:31<br><b>detector: </b>G1315C<br><b>pump: </b>G7110B<br><b>start_time: </b>2021-08-13 11:03:05<br><b>end_time: </b>2021-08-13 11:07:06<br><b>runtime: </b>239.7000000000036",
          "<b>index: </b>89<br><b>name: </b>210813_Pac--007<br><b>path: </b>D:/ExtractedSignals\\210813_Pac 2021-08-13 10-37-27\\210813_Pac--007.D<br><b>batch: </b>210813_Pac 2021-08-13 10-37-27<br><b>batch_position: </b>7<br><b>idle_time: </b>279.0<br><b>sample: </b>0.025 mg/ml<br><b>method: </b>SAA_411_Pac.M<br><b>timestamp: </b>2021-08-13 11:07:10<br><b>detector: </b>G1315C<br><b>pump: </b>G7116B<br><b>start_time: </b>2021-08-13 11:07:44<br><b>end_time: </b>2021-08-13 11:11:45<br><b>runtime: </b>239.7000000000036",
          "<b>index: </b>90<br><b>name: </b>210813_Pac--008<br><b>path: </b>D:/ExtractedSignals\\210813_Pac 2021-08-13 10-37-27\\210813_Pac--008.D<br><b>batch: </b>210813_Pac 2021-08-13 10-37-27<br><b>batch_position: </b>8<br><b>idle_time: </b>279.0<br><b>sample: </b>Blank<br><b>method: </b>SAA_411_Pac.M<br><b>timestamp: </b>2021-08-13 11:11:49<br><b>detector: </b>G1315C<br><b>pump: </b>G7110B<br><b>start_time: </b>2021-08-13 11:12:23<br><b>end_time: </b>2021-08-13 11:16:23<br><b>runtime: </b>239.7000000000036",
          "<b>index: </b>91<br><b>name: </b>210813_Pac--009<br><b>path: </b>D:/ExtractedSignals\\210813_Pac 2021-08-13 10-37-27\\210813_Pac--009.D<br><b>batch: </b>210813_Pac 2021-08-13 10-37-27<br><b>batch_position: </b>9<br><b>idle_time: </b>279.0<br><b>sample: </b>210812/004 :20<br><b>method: </b>SAA_411_Pac.M<br><b>timestamp: </b>2021-08-13 11:16:28<br><b>detector: </b>G1315C<br><b>pump: </b>G7110B<br><b>start_time: </b>2021-08-13 11:17:02<br><b>end_time: </b>2021-08-13 11:21:03<br><b>runtime: </b>239.7000000000036",
          "<b>index: </b>92<br><b>name: </b>210813_Pac--010<br><b>path: </b>D:/ExtractedSignals\\210813_Pac 2021-08-13 10-37-27\\210813_Pac--010.D<br><b>batch: </b>210813_Pac 2021-08-13 10-37-27<br><b>batch_position: </b>10<br><b>idle_time: </b>280.0<br><b>sample: </b>210812/004 :20<br><b>method: </b>SAA_411_Pac.M<br><b>timestamp: </b>2021-08-13 11:21:08<br><b>detector: </b>G1315C<br><b>pump: </b>G7110B<br><b>start_time: </b>2021-08-13 11:21:41<br><b>end_time: </b>2021-08-13 11:25:42<br><b>runtime: </b>239.7000000000036",
          "<b>index: </b>93<br><b>name: </b>210813_Pac--011<br><b>path: </b>D:/ExtractedSignals\\210813_Pac 2021-08-13 10-37-27\\210813_Pac--011.D<br><b>batch: </b>210813_Pac 2021-08-13 10-37-27<br><b>batch_position: </b>11<br><b>idle_time: </b>278.0<br><b>sample: </b>210812/004 :20<br><b>method: </b>SAA_411_Pac.M<br><b>timestamp: </b>2021-08-13 11:25:46<br><b>detector: </b>G1315C<br><b>pump: </b>G7110B<br><b>start_time: </b>2021-08-13 11:26:21<br><b>end_time: </b>2021-08-13 11:30:21<br><b>runtime: </b>239.7000000000036",
          "<b>index: </b>94<br><b>name: </b>210813_Pac--012<br><b>path: </b>D:/ExtractedSignals\\210813_Pac 2021-08-13 10-37-27\\210813_Pac--012.D<br><b>batch: </b>210813_Pac 2021-08-13 10-37-27<br><b>batch_position: </b>12<br><b>idle_time: </b>280.0<br><b>sample: </b>Blank<br><b>method: </b>SAA_411_Pac.M<br><b>timestamp: </b>2021-08-13 11:30:26<br><b>detector: </b>G1315C<br><b>pump: </b>G7110B<br><b>start_time: </b>2021-08-13 11:30:59<br><b>end_time: </b>2021-08-13 11:34:59<br><b>runtime: </b>239.7000000000036",
          "<b>index: </b>95<br><b>name: </b>210813_Pac--013<br><b>path: </b>D:/ExtractedSignals\\210813_Pac 2021-08-13 10-37-27\\210813_Pac--013.D<br><b>batch: </b>210813_Pac 2021-08-13 10-37-27<br><b>batch_position: </b>13<br><b>idle_time: </b>278.0<br><b>sample: </b>0.025 mg/ml<br><b>method: </b>SAA_411_Pac.M<br><b>timestamp: </b>2021-08-13 11:35:04<br><b>detector: </b>G1315C<br><b>pump: </b>G7110B<br><b>start_time: </b>2021-08-13 11:35:38<br><b>end_time: </b>2021-08-13 11:39:38<br><b>runtime: </b>239.7000000000036",
          "<b>index: </b>96<br><b>name: </b>210813_Pac--014<br><b>path: </b>D:/ExtractedSignals\\210813_Pac 2021-08-13 10-37-27\\210813_Pac--014.D<br><b>batch: </b>210813_Pac 2021-08-13 10-37-27<br><b>batch_position: </b>14<br><b>idle_time: </b>279.0<br><b>sample: </b>Blank<br><b>method: </b>SAA_411_Pac.M<br><b>timestamp: </b>2021-08-13 11:39:43<br><b>detector: </b>G1315C<br><b>pump: </b>G7110B<br><b>start_time: </b>2021-08-13 11:40:16<br><b>end_time: </b>2021-08-13 11:44:17<br><b>runtime: </b>239.7000000000036"
         ],
         "type": "scatter",
         "x": [
          0,
          1,
          2,
          3,
          4,
          5,
          6,
          7,
          8,
          9,
          10,
          11,
          12,
          13,
          14,
          15,
          16,
          17,
          18,
          19,
          20,
          21
         ],
         "y": [
          0.025484862178554002,
          0.046326555405522774,
          0.04765187266852339,
          0.026922619153966987,
          0.035136048167465905,
          -0.08736275278150396,
          0.05185546197274926,
          0.02441818953122371,
          0.04516955095984948,
          0.06890765177517594,
          -0.002420807726131402,
          0.06658240335315624,
          0.0629607995617335,
          0.030101517955656687,
          -0.09540899709605788,
          0.050831603623162414,
          0.023756901578036116,
          0.06716937396102113,
          0.02178726953518234,
          0.06296727683523984,
          0.058093409708941335,
          0.031984832511636196
         ]
        },
        {
         "legendgroup": "Threshold",
         "line": {
          "color": "red",
          "dash": "dash"
         },
         "mode": "lines",
         "name": "Threshold",
         "type": "scatter",
         "x": [
          0,
          21
         ],
         "y": [
          -0.09725260822470204,
          -0.09725260822470204
         ]
        }
       ],
       "layout": {
        "legend": {
         "title": {
          "text": "Scores"
         }
        },
        "template": {
         "data": {
          "bar": [
           {
            "error_x": {
             "color": "rgb(36,36,36)"
            },
            "error_y": {
             "color": "rgb(36,36,36)"
            },
            "marker": {
             "line": {
              "color": "white",
              "width": 0.5
             },
             "pattern": {
              "fillmode": "overlay",
              "size": 10,
              "solidity": 0.2
             }
            },
            "type": "bar"
           }
          ],
          "barpolar": [
           {
            "marker": {
             "line": {
              "color": "white",
              "width": 0.5
             },
             "pattern": {
              "fillmode": "overlay",
              "size": 10,
              "solidity": 0.2
             }
            },
            "type": "barpolar"
           }
          ],
          "carpet": [
           {
            "aaxis": {
             "endlinecolor": "rgb(36,36,36)",
             "gridcolor": "white",
             "linecolor": "white",
             "minorgridcolor": "white",
             "startlinecolor": "rgb(36,36,36)"
            },
            "baxis": {
             "endlinecolor": "rgb(36,36,36)",
             "gridcolor": "white",
             "linecolor": "white",
             "minorgridcolor": "white",
             "startlinecolor": "rgb(36,36,36)"
            },
            "type": "carpet"
           }
          ],
          "choropleth": [
           {
            "colorbar": {
             "outlinewidth": 1,
             "tickcolor": "rgb(36,36,36)",
             "ticks": "outside"
            },
            "type": "choropleth"
           }
          ],
          "contour": [
           {
            "colorbar": {
             "outlinewidth": 1,
             "tickcolor": "rgb(36,36,36)",
             "ticks": "outside"
            },
            "colorscale": [
             [
              0,
              "#440154"
             ],
             [
              0.1111111111111111,
              "#482878"
             ],
             [
              0.2222222222222222,
              "#3e4989"
             ],
             [
              0.3333333333333333,
              "#31688e"
             ],
             [
              0.4444444444444444,
              "#26828e"
             ],
             [
              0.5555555555555556,
              "#1f9e89"
             ],
             [
              0.6666666666666666,
              "#35b779"
             ],
             [
              0.7777777777777778,
              "#6ece58"
             ],
             [
              0.8888888888888888,
              "#b5de2b"
             ],
             [
              1,
              "#fde725"
             ]
            ],
            "type": "contour"
           }
          ],
          "contourcarpet": [
           {
            "colorbar": {
             "outlinewidth": 1,
             "tickcolor": "rgb(36,36,36)",
             "ticks": "outside"
            },
            "type": "contourcarpet"
           }
          ],
          "heatmap": [
           {
            "colorbar": {
             "outlinewidth": 1,
             "tickcolor": "rgb(36,36,36)",
             "ticks": "outside"
            },
            "colorscale": [
             [
              0,
              "#440154"
             ],
             [
              0.1111111111111111,
              "#482878"
             ],
             [
              0.2222222222222222,
              "#3e4989"
             ],
             [
              0.3333333333333333,
              "#31688e"
             ],
             [
              0.4444444444444444,
              "#26828e"
             ],
             [
              0.5555555555555556,
              "#1f9e89"
             ],
             [
              0.6666666666666666,
              "#35b779"
             ],
             [
              0.7777777777777778,
              "#6ece58"
             ],
             [
              0.8888888888888888,
              "#b5de2b"
             ],
             [
              1,
              "#fde725"
             ]
            ],
            "type": "heatmap"
           }
          ],
          "heatmapgl": [
           {
            "colorbar": {
             "outlinewidth": 1,
             "tickcolor": "rgb(36,36,36)",
             "ticks": "outside"
            },
            "colorscale": [
             [
              0,
              "#440154"
             ],
             [
              0.1111111111111111,
              "#482878"
             ],
             [
              0.2222222222222222,
              "#3e4989"
             ],
             [
              0.3333333333333333,
              "#31688e"
             ],
             [
              0.4444444444444444,
              "#26828e"
             ],
             [
              0.5555555555555556,
              "#1f9e89"
             ],
             [
              0.6666666666666666,
              "#35b779"
             ],
             [
              0.7777777777777778,
              "#6ece58"
             ],
             [
              0.8888888888888888,
              "#b5de2b"
             ],
             [
              1,
              "#fde725"
             ]
            ],
            "type": "heatmapgl"
           }
          ],
          "histogram": [
           {
            "marker": {
             "line": {
              "color": "white",
              "width": 0.6
             }
            },
            "type": "histogram"
           }
          ],
          "histogram2d": [
           {
            "colorbar": {
             "outlinewidth": 1,
             "tickcolor": "rgb(36,36,36)",
             "ticks": "outside"
            },
            "colorscale": [
             [
              0,
              "#440154"
             ],
             [
              0.1111111111111111,
              "#482878"
             ],
             [
              0.2222222222222222,
              "#3e4989"
             ],
             [
              0.3333333333333333,
              "#31688e"
             ],
             [
              0.4444444444444444,
              "#26828e"
             ],
             [
              0.5555555555555556,
              "#1f9e89"
             ],
             [
              0.6666666666666666,
              "#35b779"
             ],
             [
              0.7777777777777778,
              "#6ece58"
             ],
             [
              0.8888888888888888,
              "#b5de2b"
             ],
             [
              1,
              "#fde725"
             ]
            ],
            "type": "histogram2d"
           }
          ],
          "histogram2dcontour": [
           {
            "colorbar": {
             "outlinewidth": 1,
             "tickcolor": "rgb(36,36,36)",
             "ticks": "outside"
            },
            "colorscale": [
             [
              0,
              "#440154"
             ],
             [
              0.1111111111111111,
              "#482878"
             ],
             [
              0.2222222222222222,
              "#3e4989"
             ],
             [
              0.3333333333333333,
              "#31688e"
             ],
             [
              0.4444444444444444,
              "#26828e"
             ],
             [
              0.5555555555555556,
              "#1f9e89"
             ],
             [
              0.6666666666666666,
              "#35b779"
             ],
             [
              0.7777777777777778,
              "#6ece58"
             ],
             [
              0.8888888888888888,
              "#b5de2b"
             ],
             [
              1,
              "#fde725"
             ]
            ],
            "type": "histogram2dcontour"
           }
          ],
          "mesh3d": [
           {
            "colorbar": {
             "outlinewidth": 1,
             "tickcolor": "rgb(36,36,36)",
             "ticks": "outside"
            },
            "type": "mesh3d"
           }
          ],
          "parcoords": [
           {
            "line": {
             "colorbar": {
              "outlinewidth": 1,
              "tickcolor": "rgb(36,36,36)",
              "ticks": "outside"
             }
            },
            "type": "parcoords"
           }
          ],
          "pie": [
           {
            "automargin": true,
            "type": "pie"
           }
          ],
          "scatter": [
           {
            "fillpattern": {
             "fillmode": "overlay",
             "size": 10,
             "solidity": 0.2
            },
            "type": "scatter"
           }
          ],
          "scatter3d": [
           {
            "line": {
             "colorbar": {
              "outlinewidth": 1,
              "tickcolor": "rgb(36,36,36)",
              "ticks": "outside"
             }
            },
            "marker": {
             "colorbar": {
              "outlinewidth": 1,
              "tickcolor": "rgb(36,36,36)",
              "ticks": "outside"
             }
            },
            "type": "scatter3d"
           }
          ],
          "scattercarpet": [
           {
            "marker": {
             "colorbar": {
              "outlinewidth": 1,
              "tickcolor": "rgb(36,36,36)",
              "ticks": "outside"
             }
            },
            "type": "scattercarpet"
           }
          ],
          "scattergeo": [
           {
            "marker": {
             "colorbar": {
              "outlinewidth": 1,
              "tickcolor": "rgb(36,36,36)",
              "ticks": "outside"
             }
            },
            "type": "scattergeo"
           }
          ],
          "scattergl": [
           {
            "marker": {
             "colorbar": {
              "outlinewidth": 1,
              "tickcolor": "rgb(36,36,36)",
              "ticks": "outside"
             }
            },
            "type": "scattergl"
           }
          ],
          "scattermapbox": [
           {
            "marker": {
             "colorbar": {
              "outlinewidth": 1,
              "tickcolor": "rgb(36,36,36)",
              "ticks": "outside"
             }
            },
            "type": "scattermapbox"
           }
          ],
          "scatterpolar": [
           {
            "marker": {
             "colorbar": {
              "outlinewidth": 1,
              "tickcolor": "rgb(36,36,36)",
              "ticks": "outside"
             }
            },
            "type": "scatterpolar"
           }
          ],
          "scatterpolargl": [
           {
            "marker": {
             "colorbar": {
              "outlinewidth": 1,
              "tickcolor": "rgb(36,36,36)",
              "ticks": "outside"
             }
            },
            "type": "scatterpolargl"
           }
          ],
          "scatterternary": [
           {
            "marker": {
             "colorbar": {
              "outlinewidth": 1,
              "tickcolor": "rgb(36,36,36)",
              "ticks": "outside"
             }
            },
            "type": "scatterternary"
           }
          ],
          "surface": [
           {
            "colorbar": {
             "outlinewidth": 1,
             "tickcolor": "rgb(36,36,36)",
             "ticks": "outside"
            },
            "colorscale": [
             [
              0,
              "#440154"
             ],
             [
              0.1111111111111111,
              "#482878"
             ],
             [
              0.2222222222222222,
              "#3e4989"
             ],
             [
              0.3333333333333333,
              "#31688e"
             ],
             [
              0.4444444444444444,
              "#26828e"
             ],
             [
              0.5555555555555556,
              "#1f9e89"
             ],
             [
              0.6666666666666666,
              "#35b779"
             ],
             [
              0.7777777777777778,
              "#6ece58"
             ],
             [
              0.8888888888888888,
              "#b5de2b"
             ],
             [
              1,
              "#fde725"
             ]
            ],
            "type": "surface"
           }
          ],
          "table": [
           {
            "cells": {
             "fill": {
              "color": "rgb(237,237,237)"
             },
             "line": {
              "color": "white"
             }
            },
            "header": {
             "fill": {
              "color": "rgb(217,217,217)"
             },
             "line": {
              "color": "white"
             }
            },
            "type": "table"
           }
          ]
         },
         "layout": {
          "annotationdefaults": {
           "arrowhead": 0,
           "arrowwidth": 1
          },
          "autotypenumbers": "strict",
          "coloraxis": {
           "colorbar": {
            "outlinewidth": 1,
            "tickcolor": "rgb(36,36,36)",
            "ticks": "outside"
           }
          },
          "colorscale": {
           "diverging": [
            [
             0,
             "rgb(103,0,31)"
            ],
            [
             0.1,
             "rgb(178,24,43)"
            ],
            [
             0.2,
             "rgb(214,96,77)"
            ],
            [
             0.3,
             "rgb(244,165,130)"
            ],
            [
             0.4,
             "rgb(253,219,199)"
            ],
            [
             0.5,
             "rgb(247,247,247)"
            ],
            [
             0.6,
             "rgb(209,229,240)"
            ],
            [
             0.7,
             "rgb(146,197,222)"
            ],
            [
             0.8,
             "rgb(67,147,195)"
            ],
            [
             0.9,
             "rgb(33,102,172)"
            ],
            [
             1,
             "rgb(5,48,97)"
            ]
           ],
           "sequential": [
            [
             0,
             "#440154"
            ],
            [
             0.1111111111111111,
             "#482878"
            ],
            [
             0.2222222222222222,
             "#3e4989"
            ],
            [
             0.3333333333333333,
             "#31688e"
            ],
            [
             0.4444444444444444,
             "#26828e"
            ],
            [
             0.5555555555555556,
             "#1f9e89"
            ],
            [
             0.6666666666666666,
             "#35b779"
            ],
            [
             0.7777777777777778,
             "#6ece58"
            ],
            [
             0.8888888888888888,
             "#b5de2b"
            ],
            [
             1,
             "#fde725"
            ]
           ],
           "sequentialminus": [
            [
             0,
             "#440154"
            ],
            [
             0.1111111111111111,
             "#482878"
            ],
            [
             0.2222222222222222,
             "#3e4989"
            ],
            [
             0.3333333333333333,
             "#31688e"
            ],
            [
             0.4444444444444444,
             "#26828e"
            ],
            [
             0.5555555555555556,
             "#1f9e89"
            ],
            [
             0.6666666666666666,
             "#35b779"
            ],
            [
             0.7777777777777778,
             "#6ece58"
            ],
            [
             0.8888888888888888,
             "#b5de2b"
            ],
            [
             1,
             "#fde725"
            ]
           ]
          },
          "colorway": [
           "#1F77B4",
           "#FF7F0E",
           "#2CA02C",
           "#D62728",
           "#9467BD",
           "#8C564B",
           "#E377C2",
           "#7F7F7F",
           "#BCBD22",
           "#17BECF"
          ],
          "font": {
           "color": "rgb(36,36,36)"
          },
          "geo": {
           "bgcolor": "white",
           "lakecolor": "white",
           "landcolor": "white",
           "showlakes": true,
           "showland": true,
           "subunitcolor": "white"
          },
          "hoverlabel": {
           "align": "left"
          },
          "hovermode": "closest",
          "mapbox": {
           "style": "light"
          },
          "paper_bgcolor": "white",
          "plot_bgcolor": "white",
          "polar": {
           "angularaxis": {
            "gridcolor": "rgb(232,232,232)",
            "linecolor": "rgb(36,36,36)",
            "showgrid": false,
            "showline": true,
            "ticks": "outside"
           },
           "bgcolor": "white",
           "radialaxis": {
            "gridcolor": "rgb(232,232,232)",
            "linecolor": "rgb(36,36,36)",
            "showgrid": false,
            "showline": true,
            "ticks": "outside"
           }
          },
          "scene": {
           "xaxis": {
            "backgroundcolor": "white",
            "gridcolor": "rgb(232,232,232)",
            "gridwidth": 2,
            "linecolor": "rgb(36,36,36)",
            "showbackground": true,
            "showgrid": false,
            "showline": true,
            "ticks": "outside",
            "zeroline": false,
            "zerolinecolor": "rgb(36,36,36)"
           },
           "yaxis": {
            "backgroundcolor": "white",
            "gridcolor": "rgb(232,232,232)",
            "gridwidth": 2,
            "linecolor": "rgb(36,36,36)",
            "showbackground": true,
            "showgrid": false,
            "showline": true,
            "ticks": "outside",
            "zeroline": false,
            "zerolinecolor": "rgb(36,36,36)"
           },
           "zaxis": {
            "backgroundcolor": "white",
            "gridcolor": "rgb(232,232,232)",
            "gridwidth": 2,
            "linecolor": "rgb(36,36,36)",
            "showbackground": true,
            "showgrid": false,
            "showline": true,
            "ticks": "outside",
            "zeroline": false,
            "zerolinecolor": "rgb(36,36,36)"
           }
          },
          "shapedefaults": {
           "fillcolor": "black",
           "line": {
            "width": 0
           },
           "opacity": 0.3
          },
          "ternary": {
           "aaxis": {
            "gridcolor": "rgb(232,232,232)",
            "linecolor": "rgb(36,36,36)",
            "showgrid": false,
            "showline": true,
            "ticks": "outside"
           },
           "baxis": {
            "gridcolor": "rgb(232,232,232)",
            "linecolor": "rgb(36,36,36)",
            "showgrid": false,
            "showline": true,
            "ticks": "outside"
           },
           "bgcolor": "white",
           "caxis": {
            "gridcolor": "rgb(232,232,232)",
            "linecolor": "rgb(36,36,36)",
            "showgrid": false,
            "showline": true,
            "ticks": "outside"
           }
          },
          "title": {
           "x": 0.05
          },
          "xaxis": {
           "automargin": true,
           "gridcolor": "rgb(232,232,232)",
           "linecolor": "rgb(36,36,36)",
           "showgrid": false,
           "showline": true,
           "ticks": "outside",
           "title": {
            "standoff": 15
           },
           "zeroline": false,
           "zerolinecolor": "rgb(36,36,36)"
          },
          "yaxis": {
           "automargin": true,
           "gridcolor": "rgb(232,232,232)",
           "linecolor": "rgb(36,36,36)",
           "showgrid": false,
           "showline": true,
           "ticks": "outside",
           "title": {
            "standoff": 15
           },
           "zeroline": false,
           "zerolinecolor": "rgb(36,36,36)"
          }
         }
        },
        "xaxis": {
         "title": {
          "text": "Analysis index"
         }
        },
        "yaxis": {
         "title": {
          "text": "Score / U.A."
         }
        }
       }
      }
     },
     "metadata": {},
     "output_type": "display_data"
    }
   ],
   "source": [
    "import numpy as np\n",
    "from src.StreamPort.machine_learning.methods import MachineLearningMethodIsolationForestSklearn\n",
    "\n",
    "iso = MachineLearningMethodIsolationForestSklearn(random_state = 30, contamination = 0.1)\n",
    "\n",
    "#fits the model and upgrades analyses class to IsolationForestAnalyses\n",
    "ana = iso.run(ana)\n",
    "print(ana.__class__)\n",
    "\n",
    "ana.plot_scores()"
   ]
  },
  {
   "cell_type": "code",
   "execution_count": 3,
   "metadata": {},
   "outputs": [
    {
     "name": "stdout",
     "output_type": "stream",
     "text": [
      "   outlier     score\n",
      "0     True -0.175769\n",
      "1     True -0.196851\n",
      "2     True -0.162131\n",
      "3     True -0.182931\n"
     ]
    },
    {
     "data": {
      "application/vnd.plotly.v1+json": {
       "config": {
        "plotlyServerURL": "https://plot.ly"
       },
       "data": [
        {
         "hovertemplate": [
          "<b>index: </b>17<br><b>name: </b>210812_Pac--005<br><b>path: </b>D:/ExtractedSignals\\210812_Pac 2021-08-12 10-30-07\\210812_Pac--005.D<br><b>batch: </b>210812_Pac 2021-08-12 10-30-07<br><b>batch_position: </b>5<br><b>idle_time: </b>279.0<br><b>sample: </b>NaCl 0,9%<br><b>method: </b>SAA_411_Pac.M<br><b>timestamp: </b>2021-08-12 10:50:23<br><b>detector: </b>G1315C<br><b>pump: </b>G7110B<br><b>start_time: </b>2021-08-12 10:50:57<br><b>end_time: </b>2021-08-12 10:54:57<br><b>runtime: </b>239.7000000000036",
          "<b>index: </b>18<br><b>name: </b>210812_Pac--006<br><b>path: </b>D:/ExtractedSignals\\210812_Pac 2021-08-12 10-30-07\\210812_Pac--006.D<br><b>batch: </b>210812_Pac 2021-08-12 10-30-07<br><b>batch_position: </b>6<br><b>idle_time: </b>279.0<br><b>sample: </b>Blank<br><b>method: </b>SAA_411_Pac.M<br><b>timestamp: </b>2021-08-12 10:55:02<br><b>detector: </b>G1315C<br><b>pump: </b>G7110B<br><b>start_time: </b>2021-08-12 10:55:36<br><b>end_time: </b>2021-08-12 10:59:36<br><b>runtime: </b>239.7000000000036",
          "<b>index: </b>19<br><b>name: </b>210812_Pac--007<br><b>path: </b>D:/ExtractedSignals\\210812_Pac 2021-08-12 10-30-07\\210812_Pac--007.D<br><b>batch: </b>210812_Pac 2021-08-12 10-30-07<br><b>batch_position: </b>7<br><b>idle_time: </b>279.0<br><b>sample: </b>0.025 mg/ml<br><b>method: </b>SAA_411_Pac.M<br><b>timestamp: </b>2021-08-12 10:59:41<br><b>detector: </b>G1315C<br><b>pump: </b>G7110B<br><b>start_time: </b>2021-08-12 11:00:15<br><b>end_time: </b>2021-08-12 11:04:15<br><b>runtime: </b>239.7000000000036",
          "<b>index: </b>20<br><b>name: </b>210812_Pac--008<br><b>path: </b>D:/ExtractedSignals\\210812_Pac 2021-08-12 10-30-07\\210812_Pac--008.D<br><b>batch: </b>210812_Pac 2021-08-12 10-30-07<br><b>batch_position: </b>8<br><b>idle_time: </b>279.0<br><b>sample: </b>Blank<br><b>method: </b>SAA_411_Pac.M<br><b>timestamp: </b>2021-08-12 11:04:20<br><b>detector: </b>G1315C<br><b>pump: </b>G7110B<br><b>start_time: </b>2021-08-12 11:04:54<br><b>end_time: </b>2021-08-12 11:08:54<br><b>runtime: </b>239.7000000000036",
          "<b>index: </b>21<br><b>name: </b>210812_Pac--009<br><b>path: </b>D:/ExtractedSignals\\210812_Pac 2021-08-12 10-30-07\\210812_Pac--009.D<br><b>batch: </b>210812_Pac 2021-08-12 10-30-07<br><b>batch_position: </b>9<br><b>idle_time: </b>279.0<br><b>sample: </b>210806/036 :10<br><b>method: </b>SAA_411_Pac.M<br><b>timestamp: </b>2021-08-12 11:08:59<br><b>detector: </b>G1315C<br><b>pump: </b>G7110B<br><b>start_time: </b>2021-08-12 11:09:32<br><b>end_time: </b>2021-08-12 11:13:32<br><b>runtime: </b>239.7000000000036",
          "<b>index: </b>22<br><b>name: </b>210812_Pac--010<br><b>path: </b>D:/ExtractedSignals\\210812_Pac 2021-08-12 10-30-07\\210812_Pac--010.D<br><b>batch: </b>210812_Pac 2021-08-12 10-30-07<br><b>batch_position: </b>10<br><b>idle_time: </b>278.0<br><b>sample: </b>210806/036 :10<br><b>method: </b>SAA_411_Pac.M<br><b>timestamp: </b>2021-08-12 11:13:37<br><b>detector: </b>G7110B<br><b>pump: </b>G7110B<br><b>start_time: </b>2021-08-12 11:14:11<br><b>end_time: </b>2021-08-12 11:18:11<br><b>runtime: </b>239.7000000000036",
          "<b>index: </b>23<br><b>name: </b>210812_Pac--011<br><b>path: </b>D:/ExtractedSignals\\210812_Pac 2021-08-12 10-30-07\\210812_Pac--011.D<br><b>batch: </b>210812_Pac 2021-08-12 10-30-07<br><b>batch_position: </b>11<br><b>idle_time: </b>279.0<br><b>sample: </b>210806/036 :10<br><b>method: </b>SAA_411_Pac.M<br><b>timestamp: </b>2021-08-12 11:18:16<br><b>detector: </b>G7110B<br><b>pump: </b>G7110B<br><b>start_time: </b>2021-08-12 11:18:50<br><b>end_time: </b>2021-08-12 11:22:50<br><b>runtime: </b>239.7000000000036",
          "<b>index: </b>24<br><b>name: </b>210812_Pac--012<br><b>path: </b>D:/ExtractedSignals\\210812_Pac 2021-08-12 10-30-07\\210812_Pac--012.D<br><b>batch: </b>210812_Pac 2021-08-12 10-30-07<br><b>batch_position: </b>12<br><b>idle_time: </b>279.0<br><b>sample: </b>Blank<br><b>method: </b>SAA_411_Pac.M<br><b>timestamp: </b>2021-08-12 11:22:55<br><b>detector: </b>G1315C<br><b>pump: </b>G7110B<br><b>start_time: </b>2021-08-12 11:23:29<br><b>end_time: </b>2021-08-12 11:27:29<br><b>runtime: </b>239.7000000000036",
          "<b>index: </b>25<br><b>name: </b>210812_Pac--013<br><b>path: </b>D:/ExtractedSignals\\210812_Pac 2021-08-12 10-30-07\\210812_Pac--013.D<br><b>batch: </b>210812_Pac 2021-08-12 10-30-07<br><b>batch_position: </b>13<br><b>idle_time: </b>279.0<br><b>sample: </b>0.025 mg/ml<br><b>method: </b>SAA_411_Pac.M<br><b>timestamp: </b>2021-08-12 11:27:34<br><b>detector: </b>G1315C<br><b>pump: </b>G7110B<br><b>start_time: </b>2021-08-12 11:28:08<br><b>end_time: </b>2021-08-12 11:32:08<br><b>runtime: </b>239.7000000000036",
          "<b>index: </b>26<br><b>name: </b>210812_Pac--014<br><b>path: </b>D:/ExtractedSignals\\210812_Pac 2021-08-12 10-30-07\\210812_Pac--014.D<br><b>batch: </b>210812_Pac 2021-08-12 10-30-07<br><b>batch_position: </b>14<br><b>idle_time: </b>279.0<br><b>sample: </b>Blank<br><b>method: </b>SAA_411_Pac.M<br><b>timestamp: </b>2021-08-12 11:32:13<br><b>detector: </b>G7110B<br><b>pump: </b>G7110B<br><b>start_time: </b>2021-08-12 11:32:46<br><b>end_time: </b>2021-08-12 11:36:47<br><b>runtime: </b>239.7000000000036",
          "<b>index: </b>85<br><b>name: </b>210813_Pac--003<br><b>path: </b>D:/ExtractedSignals\\210813_Pac 2021-08-13 10-37-27\\210813_Pac--003.D<br><b>batch: </b>210813_Pac 2021-08-13 10-37-27<br><b>batch_position: </b>3<br><b>idle_time: </b>278.0<br><b>sample: </b>Blank<br><b>method: </b>SAA_411_Pac.M<br><b>timestamp: </b>2021-08-13 10:48:34<br><b>detector: </b>G1315C<br><b>pump: </b>G7116B<br><b>start_time: </b>2021-08-13 10:49:08<br><b>end_time: </b>2021-08-13 10:53:08<br><b>runtime: </b>239.7000000000036",
          "<b>index: </b>86<br><b>name: </b>210813_Pac--004<br><b>path: </b>D:/ExtractedSignals\\210813_Pac 2021-08-13 10-37-27\\210813_Pac--004.D<br><b>batch: </b>210813_Pac 2021-08-13 10-37-27<br><b>batch_position: </b>4<br><b>idle_time: </b>279.0<br><b>sample: </b>Blank<br><b>method: </b>SAA_411_Pac.M<br><b>timestamp: </b>2021-08-13 10:53:13<br><b>detector: </b>G1315C<br><b>pump: </b>G7110B<br><b>start_time: </b>2021-08-13 10:53:47<br><b>end_time: </b>2021-08-13 10:57:47<br><b>runtime: </b>239.7000000000036",
          "<b>index: </b>87<br><b>name: </b>210813_Pac--005<br><b>path: </b>D:/ExtractedSignals\\210813_Pac 2021-08-13 10-37-27\\210813_Pac--005.D<br><b>batch: </b>210813_Pac 2021-08-13 10-37-27<br><b>batch_position: </b>5<br><b>idle_time: </b>279.0<br><b>sample: </b>NaCl 0,9%<br><b>method: </b>SAA_411_Pac.M<br><b>timestamp: </b>2021-08-13 10:57:52<br><b>detector: </b>G7110B<br><b>pump: </b>G7110B<br><b>start_time: </b>2021-08-13 10:58:26<br><b>end_time: </b>2021-08-13 11:02:27<br><b>runtime: </b>239.7000000000036",
          "<b>index: </b>88<br><b>name: </b>210813_Pac--006<br><b>path: </b>D:/ExtractedSignals\\210813_Pac 2021-08-13 10-37-27\\210813_Pac--006.D<br><b>batch: </b>210813_Pac 2021-08-13 10-37-27<br><b>batch_position: </b>6<br><b>idle_time: </b>279.0<br><b>sample: </b>Blank<br><b>method: </b>SAA_411_Pac.M<br><b>timestamp: </b>2021-08-13 11:02:31<br><b>detector: </b>G1315C<br><b>pump: </b>G7110B<br><b>start_time: </b>2021-08-13 11:03:05<br><b>end_time: </b>2021-08-13 11:07:06<br><b>runtime: </b>239.7000000000036",
          "<b>index: </b>89<br><b>name: </b>210813_Pac--007<br><b>path: </b>D:/ExtractedSignals\\210813_Pac 2021-08-13 10-37-27\\210813_Pac--007.D<br><b>batch: </b>210813_Pac 2021-08-13 10-37-27<br><b>batch_position: </b>7<br><b>idle_time: </b>279.0<br><b>sample: </b>0.025 mg/ml<br><b>method: </b>SAA_411_Pac.M<br><b>timestamp: </b>2021-08-13 11:07:10<br><b>detector: </b>G1315C<br><b>pump: </b>G7116B<br><b>start_time: </b>2021-08-13 11:07:44<br><b>end_time: </b>2021-08-13 11:11:45<br><b>runtime: </b>239.7000000000036",
          "<b>index: </b>90<br><b>name: </b>210813_Pac--008<br><b>path: </b>D:/ExtractedSignals\\210813_Pac 2021-08-13 10-37-27\\210813_Pac--008.D<br><b>batch: </b>210813_Pac 2021-08-13 10-37-27<br><b>batch_position: </b>8<br><b>idle_time: </b>279.0<br><b>sample: </b>Blank<br><b>method: </b>SAA_411_Pac.M<br><b>timestamp: </b>2021-08-13 11:11:49<br><b>detector: </b>G1315C<br><b>pump: </b>G7110B<br><b>start_time: </b>2021-08-13 11:12:23<br><b>end_time: </b>2021-08-13 11:16:23<br><b>runtime: </b>239.7000000000036",
          "<b>index: </b>91<br><b>name: </b>210813_Pac--009<br><b>path: </b>D:/ExtractedSignals\\210813_Pac 2021-08-13 10-37-27\\210813_Pac--009.D<br><b>batch: </b>210813_Pac 2021-08-13 10-37-27<br><b>batch_position: </b>9<br><b>idle_time: </b>279.0<br><b>sample: </b>210812/004 :20<br><b>method: </b>SAA_411_Pac.M<br><b>timestamp: </b>2021-08-13 11:16:28<br><b>detector: </b>G1315C<br><b>pump: </b>G7110B<br><b>start_time: </b>2021-08-13 11:17:02<br><b>end_time: </b>2021-08-13 11:21:03<br><b>runtime: </b>239.7000000000036",
          "<b>index: </b>92<br><b>name: </b>210813_Pac--010<br><b>path: </b>D:/ExtractedSignals\\210813_Pac 2021-08-13 10-37-27\\210813_Pac--010.D<br><b>batch: </b>210813_Pac 2021-08-13 10-37-27<br><b>batch_position: </b>10<br><b>idle_time: </b>280.0<br><b>sample: </b>210812/004 :20<br><b>method: </b>SAA_411_Pac.M<br><b>timestamp: </b>2021-08-13 11:21:08<br><b>detector: </b>G1315C<br><b>pump: </b>G7110B<br><b>start_time: </b>2021-08-13 11:21:41<br><b>end_time: </b>2021-08-13 11:25:42<br><b>runtime: </b>239.7000000000036",
          "<b>index: </b>93<br><b>name: </b>210813_Pac--011<br><b>path: </b>D:/ExtractedSignals\\210813_Pac 2021-08-13 10-37-27\\210813_Pac--011.D<br><b>batch: </b>210813_Pac 2021-08-13 10-37-27<br><b>batch_position: </b>11<br><b>idle_time: </b>278.0<br><b>sample: </b>210812/004 :20<br><b>method: </b>SAA_411_Pac.M<br><b>timestamp: </b>2021-08-13 11:25:46<br><b>detector: </b>G1315C<br><b>pump: </b>G7110B<br><b>start_time: </b>2021-08-13 11:26:21<br><b>end_time: </b>2021-08-13 11:30:21<br><b>runtime: </b>239.7000000000036",
          "<b>index: </b>94<br><b>name: </b>210813_Pac--012<br><b>path: </b>D:/ExtractedSignals\\210813_Pac 2021-08-13 10-37-27\\210813_Pac--012.D<br><b>batch: </b>210813_Pac 2021-08-13 10-37-27<br><b>batch_position: </b>12<br><b>idle_time: </b>280.0<br><b>sample: </b>Blank<br><b>method: </b>SAA_411_Pac.M<br><b>timestamp: </b>2021-08-13 11:30:26<br><b>detector: </b>G1315C<br><b>pump: </b>G7110B<br><b>start_time: </b>2021-08-13 11:30:59<br><b>end_time: </b>2021-08-13 11:34:59<br><b>runtime: </b>239.7000000000036",
          "<b>index: </b>95<br><b>name: </b>210813_Pac--013<br><b>path: </b>D:/ExtractedSignals\\210813_Pac 2021-08-13 10-37-27\\210813_Pac--013.D<br><b>batch: </b>210813_Pac 2021-08-13 10-37-27<br><b>batch_position: </b>13<br><b>idle_time: </b>278.0<br><b>sample: </b>0.025 mg/ml<br><b>method: </b>SAA_411_Pac.M<br><b>timestamp: </b>2021-08-13 11:35:04<br><b>detector: </b>G1315C<br><b>pump: </b>G7110B<br><b>start_time: </b>2021-08-13 11:35:38<br><b>end_time: </b>2021-08-13 11:39:38<br><b>runtime: </b>239.7000000000036",
          "<b>index: </b>96<br><b>name: </b>210813_Pac--014<br><b>path: </b>D:/ExtractedSignals\\210813_Pac 2021-08-13 10-37-27\\210813_Pac--014.D<br><b>batch: </b>210813_Pac 2021-08-13 10-37-27<br><b>batch_position: </b>14<br><b>idle_time: </b>279.0<br><b>sample: </b>Blank<br><b>method: </b>SAA_411_Pac.M<br><b>timestamp: </b>2021-08-13 11:39:43<br><b>detector: </b>G1315C<br><b>pump: </b>G7110B<br><b>start_time: </b>2021-08-13 11:40:16<br><b>end_time: </b>2021-08-13 11:44:17<br><b>runtime: </b>239.7000000000036"
         ],
         "legendgroup": "Train",
         "line": {
          "color": "black"
         },
         "marker": {
          "color": "black",
          "size": 10
         },
         "mode": "lines+markers",
         "name": "Train Scores",
         "text": [
          "<b>index: </b>17<br><b>name: </b>210812_Pac--005<br><b>path: </b>D:/ExtractedSignals\\210812_Pac 2021-08-12 10-30-07\\210812_Pac--005.D<br><b>batch: </b>210812_Pac 2021-08-12 10-30-07<br><b>batch_position: </b>5<br><b>idle_time: </b>279.0<br><b>sample: </b>NaCl 0,9%<br><b>method: </b>SAA_411_Pac.M<br><b>timestamp: </b>2021-08-12 10:50:23<br><b>detector: </b>G1315C<br><b>pump: </b>G7110B<br><b>start_time: </b>2021-08-12 10:50:57<br><b>end_time: </b>2021-08-12 10:54:57<br><b>runtime: </b>239.7000000000036",
          "<b>index: </b>18<br><b>name: </b>210812_Pac--006<br><b>path: </b>D:/ExtractedSignals\\210812_Pac 2021-08-12 10-30-07\\210812_Pac--006.D<br><b>batch: </b>210812_Pac 2021-08-12 10-30-07<br><b>batch_position: </b>6<br><b>idle_time: </b>279.0<br><b>sample: </b>Blank<br><b>method: </b>SAA_411_Pac.M<br><b>timestamp: </b>2021-08-12 10:55:02<br><b>detector: </b>G1315C<br><b>pump: </b>G7110B<br><b>start_time: </b>2021-08-12 10:55:36<br><b>end_time: </b>2021-08-12 10:59:36<br><b>runtime: </b>239.7000000000036",
          "<b>index: </b>19<br><b>name: </b>210812_Pac--007<br><b>path: </b>D:/ExtractedSignals\\210812_Pac 2021-08-12 10-30-07\\210812_Pac--007.D<br><b>batch: </b>210812_Pac 2021-08-12 10-30-07<br><b>batch_position: </b>7<br><b>idle_time: </b>279.0<br><b>sample: </b>0.025 mg/ml<br><b>method: </b>SAA_411_Pac.M<br><b>timestamp: </b>2021-08-12 10:59:41<br><b>detector: </b>G1315C<br><b>pump: </b>G7110B<br><b>start_time: </b>2021-08-12 11:00:15<br><b>end_time: </b>2021-08-12 11:04:15<br><b>runtime: </b>239.7000000000036",
          "<b>index: </b>20<br><b>name: </b>210812_Pac--008<br><b>path: </b>D:/ExtractedSignals\\210812_Pac 2021-08-12 10-30-07\\210812_Pac--008.D<br><b>batch: </b>210812_Pac 2021-08-12 10-30-07<br><b>batch_position: </b>8<br><b>idle_time: </b>279.0<br><b>sample: </b>Blank<br><b>method: </b>SAA_411_Pac.M<br><b>timestamp: </b>2021-08-12 11:04:20<br><b>detector: </b>G1315C<br><b>pump: </b>G7110B<br><b>start_time: </b>2021-08-12 11:04:54<br><b>end_time: </b>2021-08-12 11:08:54<br><b>runtime: </b>239.7000000000036",
          "<b>index: </b>21<br><b>name: </b>210812_Pac--009<br><b>path: </b>D:/ExtractedSignals\\210812_Pac 2021-08-12 10-30-07\\210812_Pac--009.D<br><b>batch: </b>210812_Pac 2021-08-12 10-30-07<br><b>batch_position: </b>9<br><b>idle_time: </b>279.0<br><b>sample: </b>210806/036 :10<br><b>method: </b>SAA_411_Pac.M<br><b>timestamp: </b>2021-08-12 11:08:59<br><b>detector: </b>G1315C<br><b>pump: </b>G7110B<br><b>start_time: </b>2021-08-12 11:09:32<br><b>end_time: </b>2021-08-12 11:13:32<br><b>runtime: </b>239.7000000000036",
          "<b>index: </b>22<br><b>name: </b>210812_Pac--010<br><b>path: </b>D:/ExtractedSignals\\210812_Pac 2021-08-12 10-30-07\\210812_Pac--010.D<br><b>batch: </b>210812_Pac 2021-08-12 10-30-07<br><b>batch_position: </b>10<br><b>idle_time: </b>278.0<br><b>sample: </b>210806/036 :10<br><b>method: </b>SAA_411_Pac.M<br><b>timestamp: </b>2021-08-12 11:13:37<br><b>detector: </b>G7110B<br><b>pump: </b>G7110B<br><b>start_time: </b>2021-08-12 11:14:11<br><b>end_time: </b>2021-08-12 11:18:11<br><b>runtime: </b>239.7000000000036",
          "<b>index: </b>23<br><b>name: </b>210812_Pac--011<br><b>path: </b>D:/ExtractedSignals\\210812_Pac 2021-08-12 10-30-07\\210812_Pac--011.D<br><b>batch: </b>210812_Pac 2021-08-12 10-30-07<br><b>batch_position: </b>11<br><b>idle_time: </b>279.0<br><b>sample: </b>210806/036 :10<br><b>method: </b>SAA_411_Pac.M<br><b>timestamp: </b>2021-08-12 11:18:16<br><b>detector: </b>G7110B<br><b>pump: </b>G7110B<br><b>start_time: </b>2021-08-12 11:18:50<br><b>end_time: </b>2021-08-12 11:22:50<br><b>runtime: </b>239.7000000000036",
          "<b>index: </b>24<br><b>name: </b>210812_Pac--012<br><b>path: </b>D:/ExtractedSignals\\210812_Pac 2021-08-12 10-30-07\\210812_Pac--012.D<br><b>batch: </b>210812_Pac 2021-08-12 10-30-07<br><b>batch_position: </b>12<br><b>idle_time: </b>279.0<br><b>sample: </b>Blank<br><b>method: </b>SAA_411_Pac.M<br><b>timestamp: </b>2021-08-12 11:22:55<br><b>detector: </b>G1315C<br><b>pump: </b>G7110B<br><b>start_time: </b>2021-08-12 11:23:29<br><b>end_time: </b>2021-08-12 11:27:29<br><b>runtime: </b>239.7000000000036",
          "<b>index: </b>25<br><b>name: </b>210812_Pac--013<br><b>path: </b>D:/ExtractedSignals\\210812_Pac 2021-08-12 10-30-07\\210812_Pac--013.D<br><b>batch: </b>210812_Pac 2021-08-12 10-30-07<br><b>batch_position: </b>13<br><b>idle_time: </b>279.0<br><b>sample: </b>0.025 mg/ml<br><b>method: </b>SAA_411_Pac.M<br><b>timestamp: </b>2021-08-12 11:27:34<br><b>detector: </b>G1315C<br><b>pump: </b>G7110B<br><b>start_time: </b>2021-08-12 11:28:08<br><b>end_time: </b>2021-08-12 11:32:08<br><b>runtime: </b>239.7000000000036",
          "<b>index: </b>26<br><b>name: </b>210812_Pac--014<br><b>path: </b>D:/ExtractedSignals\\210812_Pac 2021-08-12 10-30-07\\210812_Pac--014.D<br><b>batch: </b>210812_Pac 2021-08-12 10-30-07<br><b>batch_position: </b>14<br><b>idle_time: </b>279.0<br><b>sample: </b>Blank<br><b>method: </b>SAA_411_Pac.M<br><b>timestamp: </b>2021-08-12 11:32:13<br><b>detector: </b>G7110B<br><b>pump: </b>G7110B<br><b>start_time: </b>2021-08-12 11:32:46<br><b>end_time: </b>2021-08-12 11:36:47<br><b>runtime: </b>239.7000000000036",
          "<b>index: </b>85<br><b>name: </b>210813_Pac--003<br><b>path: </b>D:/ExtractedSignals\\210813_Pac 2021-08-13 10-37-27\\210813_Pac--003.D<br><b>batch: </b>210813_Pac 2021-08-13 10-37-27<br><b>batch_position: </b>3<br><b>idle_time: </b>278.0<br><b>sample: </b>Blank<br><b>method: </b>SAA_411_Pac.M<br><b>timestamp: </b>2021-08-13 10:48:34<br><b>detector: </b>G1315C<br><b>pump: </b>G7116B<br><b>start_time: </b>2021-08-13 10:49:08<br><b>end_time: </b>2021-08-13 10:53:08<br><b>runtime: </b>239.7000000000036",
          "<b>index: </b>86<br><b>name: </b>210813_Pac--004<br><b>path: </b>D:/ExtractedSignals\\210813_Pac 2021-08-13 10-37-27\\210813_Pac--004.D<br><b>batch: </b>210813_Pac 2021-08-13 10-37-27<br><b>batch_position: </b>4<br><b>idle_time: </b>279.0<br><b>sample: </b>Blank<br><b>method: </b>SAA_411_Pac.M<br><b>timestamp: </b>2021-08-13 10:53:13<br><b>detector: </b>G1315C<br><b>pump: </b>G7110B<br><b>start_time: </b>2021-08-13 10:53:47<br><b>end_time: </b>2021-08-13 10:57:47<br><b>runtime: </b>239.7000000000036",
          "<b>index: </b>87<br><b>name: </b>210813_Pac--005<br><b>path: </b>D:/ExtractedSignals\\210813_Pac 2021-08-13 10-37-27\\210813_Pac--005.D<br><b>batch: </b>210813_Pac 2021-08-13 10-37-27<br><b>batch_position: </b>5<br><b>idle_time: </b>279.0<br><b>sample: </b>NaCl 0,9%<br><b>method: </b>SAA_411_Pac.M<br><b>timestamp: </b>2021-08-13 10:57:52<br><b>detector: </b>G7110B<br><b>pump: </b>G7110B<br><b>start_time: </b>2021-08-13 10:58:26<br><b>end_time: </b>2021-08-13 11:02:27<br><b>runtime: </b>239.7000000000036",
          "<b>index: </b>88<br><b>name: </b>210813_Pac--006<br><b>path: </b>D:/ExtractedSignals\\210813_Pac 2021-08-13 10-37-27\\210813_Pac--006.D<br><b>batch: </b>210813_Pac 2021-08-13 10-37-27<br><b>batch_position: </b>6<br><b>idle_time: </b>279.0<br><b>sample: </b>Blank<br><b>method: </b>SAA_411_Pac.M<br><b>timestamp: </b>2021-08-13 11:02:31<br><b>detector: </b>G1315C<br><b>pump: </b>G7110B<br><b>start_time: </b>2021-08-13 11:03:05<br><b>end_time: </b>2021-08-13 11:07:06<br><b>runtime: </b>239.7000000000036",
          "<b>index: </b>89<br><b>name: </b>210813_Pac--007<br><b>path: </b>D:/ExtractedSignals\\210813_Pac 2021-08-13 10-37-27\\210813_Pac--007.D<br><b>batch: </b>210813_Pac 2021-08-13 10-37-27<br><b>batch_position: </b>7<br><b>idle_time: </b>279.0<br><b>sample: </b>0.025 mg/ml<br><b>method: </b>SAA_411_Pac.M<br><b>timestamp: </b>2021-08-13 11:07:10<br><b>detector: </b>G1315C<br><b>pump: </b>G7116B<br><b>start_time: </b>2021-08-13 11:07:44<br><b>end_time: </b>2021-08-13 11:11:45<br><b>runtime: </b>239.7000000000036",
          "<b>index: </b>90<br><b>name: </b>210813_Pac--008<br><b>path: </b>D:/ExtractedSignals\\210813_Pac 2021-08-13 10-37-27\\210813_Pac--008.D<br><b>batch: </b>210813_Pac 2021-08-13 10-37-27<br><b>batch_position: </b>8<br><b>idle_time: </b>279.0<br><b>sample: </b>Blank<br><b>method: </b>SAA_411_Pac.M<br><b>timestamp: </b>2021-08-13 11:11:49<br><b>detector: </b>G1315C<br><b>pump: </b>G7110B<br><b>start_time: </b>2021-08-13 11:12:23<br><b>end_time: </b>2021-08-13 11:16:23<br><b>runtime: </b>239.7000000000036",
          "<b>index: </b>91<br><b>name: </b>210813_Pac--009<br><b>path: </b>D:/ExtractedSignals\\210813_Pac 2021-08-13 10-37-27\\210813_Pac--009.D<br><b>batch: </b>210813_Pac 2021-08-13 10-37-27<br><b>batch_position: </b>9<br><b>idle_time: </b>279.0<br><b>sample: </b>210812/004 :20<br><b>method: </b>SAA_411_Pac.M<br><b>timestamp: </b>2021-08-13 11:16:28<br><b>detector: </b>G1315C<br><b>pump: </b>G7110B<br><b>start_time: </b>2021-08-13 11:17:02<br><b>end_time: </b>2021-08-13 11:21:03<br><b>runtime: </b>239.7000000000036",
          "<b>index: </b>92<br><b>name: </b>210813_Pac--010<br><b>path: </b>D:/ExtractedSignals\\210813_Pac 2021-08-13 10-37-27\\210813_Pac--010.D<br><b>batch: </b>210813_Pac 2021-08-13 10-37-27<br><b>batch_position: </b>10<br><b>idle_time: </b>280.0<br><b>sample: </b>210812/004 :20<br><b>method: </b>SAA_411_Pac.M<br><b>timestamp: </b>2021-08-13 11:21:08<br><b>detector: </b>G1315C<br><b>pump: </b>G7110B<br><b>start_time: </b>2021-08-13 11:21:41<br><b>end_time: </b>2021-08-13 11:25:42<br><b>runtime: </b>239.7000000000036",
          "<b>index: </b>93<br><b>name: </b>210813_Pac--011<br><b>path: </b>D:/ExtractedSignals\\210813_Pac 2021-08-13 10-37-27\\210813_Pac--011.D<br><b>batch: </b>210813_Pac 2021-08-13 10-37-27<br><b>batch_position: </b>11<br><b>idle_time: </b>278.0<br><b>sample: </b>210812/004 :20<br><b>method: </b>SAA_411_Pac.M<br><b>timestamp: </b>2021-08-13 11:25:46<br><b>detector: </b>G1315C<br><b>pump: </b>G7110B<br><b>start_time: </b>2021-08-13 11:26:21<br><b>end_time: </b>2021-08-13 11:30:21<br><b>runtime: </b>239.7000000000036",
          "<b>index: </b>94<br><b>name: </b>210813_Pac--012<br><b>path: </b>D:/ExtractedSignals\\210813_Pac 2021-08-13 10-37-27\\210813_Pac--012.D<br><b>batch: </b>210813_Pac 2021-08-13 10-37-27<br><b>batch_position: </b>12<br><b>idle_time: </b>280.0<br><b>sample: </b>Blank<br><b>method: </b>SAA_411_Pac.M<br><b>timestamp: </b>2021-08-13 11:30:26<br><b>detector: </b>G1315C<br><b>pump: </b>G7110B<br><b>start_time: </b>2021-08-13 11:30:59<br><b>end_time: </b>2021-08-13 11:34:59<br><b>runtime: </b>239.7000000000036",
          "<b>index: </b>95<br><b>name: </b>210813_Pac--013<br><b>path: </b>D:/ExtractedSignals\\210813_Pac 2021-08-13 10-37-27\\210813_Pac--013.D<br><b>batch: </b>210813_Pac 2021-08-13 10-37-27<br><b>batch_position: </b>13<br><b>idle_time: </b>278.0<br><b>sample: </b>0.025 mg/ml<br><b>method: </b>SAA_411_Pac.M<br><b>timestamp: </b>2021-08-13 11:35:04<br><b>detector: </b>G1315C<br><b>pump: </b>G7110B<br><b>start_time: </b>2021-08-13 11:35:38<br><b>end_time: </b>2021-08-13 11:39:38<br><b>runtime: </b>239.7000000000036",
          "<b>index: </b>96<br><b>name: </b>210813_Pac--014<br><b>path: </b>D:/ExtractedSignals\\210813_Pac 2021-08-13 10-37-27\\210813_Pac--014.D<br><b>batch: </b>210813_Pac 2021-08-13 10-37-27<br><b>batch_position: </b>14<br><b>idle_time: </b>279.0<br><b>sample: </b>Blank<br><b>method: </b>SAA_411_Pac.M<br><b>timestamp: </b>2021-08-13 11:39:43<br><b>detector: </b>G1315C<br><b>pump: </b>G7110B<br><b>start_time: </b>2021-08-13 11:40:16<br><b>end_time: </b>2021-08-13 11:44:17<br><b>runtime: </b>239.7000000000036"
         ],
         "type": "scatter",
         "x": [
          0,
          1,
          2,
          3,
          4,
          5,
          6,
          7,
          8,
          9,
          10,
          11,
          12,
          13,
          14,
          15,
          16,
          17,
          18,
          19,
          20,
          21
         ],
         "y": [
          0.025484862178554002,
          0.046326555405522774,
          0.04765187266852339,
          0.026922619153966987,
          0.035136048167465905,
          -0.08736275278150396,
          0.05185546197274926,
          0.02441818953122371,
          0.04516955095984948,
          0.06890765177517594,
          -0.002420807726131402,
          0.06658240335315624,
          0.0629607995617335,
          0.030101517955656687,
          -0.09540899709605788,
          0.050831603623162414,
          0.023756901578036116,
          0.06716937396102113,
          0.02178726953518234,
          0.06296727683523984,
          0.058093409708941335,
          0.031984832511636196
         ]
        },
        {
         "legendgroup": "Threshold",
         "line": {
          "color": "red",
          "dash": "dash"
         },
         "mode": "lines",
         "name": "Threshold",
         "type": "scatter",
         "x": [
          0,
          21
         ],
         "y": [
          -0.09725260822470204,
          -0.09725260822470204
         ]
        },
        {
         "hovertemplate": [
          "<b>index: </b>27<br><b>name: </b>210812_Pac<br><b>path: </b>D:/ExtractedSignals\\210812_Pac 2021-08-12 10-30-07\\210812_Pac.D<br><b>batch: </b>210812_Pac 2021-08-12 10-30-07<br><b>batch_position: </b>1<br><b>idle_time: </b>173.0<br><b>sample: </b>Blank<br><b>method: </b>SAA_411_Pac.M<br><b>timestamp: </b>2021-08-12 10:30:12<br><b>detector: </b>G7110B<br><b>pump: </b>G7110B<br><b>start_time: </b>2021-08-12 10:32:20<br><b>end_time: </b>2021-08-12 10:36:21<br><b>runtime: </b>239.7000000000036",
          "<b>index: </b>14<br><b>name: </b>210812_Pac--002<br><b>path: </b>D:/ExtractedSignals\\210812_Pac 2021-08-12 10-30-07\\210812_Pac--002.D<br><b>batch: </b>210812_Pac 2021-08-12 10-30-07<br><b>batch_position: </b>2<br><b>idle_time: </b>374.0<br><b>sample: </b>Blank<br><b>method: </b>SAA_411_Pac.M<br><b>timestamp: </b>2021-08-12 10:36:26<br><b>detector: </b>G1315C<br><b>pump: </b>G7110B<br><b>start_time: </b>2021-08-12 10:37:00<br><b>end_time: </b>2021-08-12 10:41:00<br><b>runtime: </b>239.7000000000036",
          "<b>index: </b>15<br><b>name: </b>210812_Pac--003<br><b>path: </b>D:/ExtractedSignals\\210812_Pac 2021-08-12 10-30-07\\210812_Pac--003.D<br><b>batch: </b>210812_Pac 2021-08-12 10-30-07<br><b>batch_position: </b>3<br><b>idle_time: </b>279.0<br><b>sample: </b>Blank<br><b>method: </b>SAA_411_Pac.M<br><b>timestamp: </b>2021-08-12 10:41:05<br><b>detector: </b>G1315C<br><b>pump: </b>G7110B<br><b>start_time: </b>2021-08-12 10:41:39<br><b>end_time: </b>2021-08-12 10:45:39<br><b>runtime: </b>239.7000000000036",
          "<b>index: </b>16<br><b>name: </b>210812_Pac--004<br><b>path: </b>D:/ExtractedSignals\\210812_Pac 2021-08-12 10-30-07\\210812_Pac--004.D<br><b>batch: </b>210812_Pac 2021-08-12 10-30-07<br><b>batch_position: </b>4<br><b>idle_time: </b>279.0<br><b>sample: </b>Blank<br><b>method: </b>SAA_411_Pac.M<br><b>timestamp: </b>2021-08-12 10:45:44<br><b>detector: </b>G1315C<br><b>pump: </b>G7110B<br><b>start_time: </b>2021-08-12 10:46:18<br><b>end_time: </b>2021-08-12 10:50:18<br><b>runtime: </b>239.7000000000036"
         ],
         "legendgroup": "Prediction",
         "line": {
          "color": "red"
         },
         "marker": {
          "color": "red",
          "size": 10
         },
         "mode": "lines+markers",
         "name": "Prediction Scores",
         "text": [
          "<b>index: </b>27<br><b>name: </b>210812_Pac<br><b>path: </b>D:/ExtractedSignals\\210812_Pac 2021-08-12 10-30-07\\210812_Pac.D<br><b>batch: </b>210812_Pac 2021-08-12 10-30-07<br><b>batch_position: </b>1<br><b>idle_time: </b>173.0<br><b>sample: </b>Blank<br><b>method: </b>SAA_411_Pac.M<br><b>timestamp: </b>2021-08-12 10:30:12<br><b>detector: </b>G7110B<br><b>pump: </b>G7110B<br><b>start_time: </b>2021-08-12 10:32:20<br><b>end_time: </b>2021-08-12 10:36:21<br><b>runtime: </b>239.7000000000036",
          "<b>index: </b>14<br><b>name: </b>210812_Pac--002<br><b>path: </b>D:/ExtractedSignals\\210812_Pac 2021-08-12 10-30-07\\210812_Pac--002.D<br><b>batch: </b>210812_Pac 2021-08-12 10-30-07<br><b>batch_position: </b>2<br><b>idle_time: </b>374.0<br><b>sample: </b>Blank<br><b>method: </b>SAA_411_Pac.M<br><b>timestamp: </b>2021-08-12 10:36:26<br><b>detector: </b>G1315C<br><b>pump: </b>G7110B<br><b>start_time: </b>2021-08-12 10:37:00<br><b>end_time: </b>2021-08-12 10:41:00<br><b>runtime: </b>239.7000000000036",
          "<b>index: </b>15<br><b>name: </b>210812_Pac--003<br><b>path: </b>D:/ExtractedSignals\\210812_Pac 2021-08-12 10-30-07\\210812_Pac--003.D<br><b>batch: </b>210812_Pac 2021-08-12 10-30-07<br><b>batch_position: </b>3<br><b>idle_time: </b>279.0<br><b>sample: </b>Blank<br><b>method: </b>SAA_411_Pac.M<br><b>timestamp: </b>2021-08-12 10:41:05<br><b>detector: </b>G1315C<br><b>pump: </b>G7110B<br><b>start_time: </b>2021-08-12 10:41:39<br><b>end_time: </b>2021-08-12 10:45:39<br><b>runtime: </b>239.7000000000036",
          "<b>index: </b>16<br><b>name: </b>210812_Pac--004<br><b>path: </b>D:/ExtractedSignals\\210812_Pac 2021-08-12 10-30-07\\210812_Pac--004.D<br><b>batch: </b>210812_Pac 2021-08-12 10-30-07<br><b>batch_position: </b>4<br><b>idle_time: </b>279.0<br><b>sample: </b>Blank<br><b>method: </b>SAA_411_Pac.M<br><b>timestamp: </b>2021-08-12 10:45:44<br><b>detector: </b>G1315C<br><b>pump: </b>G7110B<br><b>start_time: </b>2021-08-12 10:46:18<br><b>end_time: </b>2021-08-12 10:50:18<br><b>runtime: </b>239.7000000000036"
         ],
         "type": "scatter",
         "x": [
          22,
          23,
          24,
          25
         ],
         "y": [
          -0.17576944821685958,
          -0.19685118011628078,
          -0.1621312539636356,
          -0.18293076317337642
         ]
        }
       ],
       "layout": {
        "legend": {
         "title": {
          "text": "Scores"
         }
        },
        "template": {
         "data": {
          "bar": [
           {
            "error_x": {
             "color": "rgb(36,36,36)"
            },
            "error_y": {
             "color": "rgb(36,36,36)"
            },
            "marker": {
             "line": {
              "color": "white",
              "width": 0.5
             },
             "pattern": {
              "fillmode": "overlay",
              "size": 10,
              "solidity": 0.2
             }
            },
            "type": "bar"
           }
          ],
          "barpolar": [
           {
            "marker": {
             "line": {
              "color": "white",
              "width": 0.5
             },
             "pattern": {
              "fillmode": "overlay",
              "size": 10,
              "solidity": 0.2
             }
            },
            "type": "barpolar"
           }
          ],
          "carpet": [
           {
            "aaxis": {
             "endlinecolor": "rgb(36,36,36)",
             "gridcolor": "white",
             "linecolor": "white",
             "minorgridcolor": "white",
             "startlinecolor": "rgb(36,36,36)"
            },
            "baxis": {
             "endlinecolor": "rgb(36,36,36)",
             "gridcolor": "white",
             "linecolor": "white",
             "minorgridcolor": "white",
             "startlinecolor": "rgb(36,36,36)"
            },
            "type": "carpet"
           }
          ],
          "choropleth": [
           {
            "colorbar": {
             "outlinewidth": 1,
             "tickcolor": "rgb(36,36,36)",
             "ticks": "outside"
            },
            "type": "choropleth"
           }
          ],
          "contour": [
           {
            "colorbar": {
             "outlinewidth": 1,
             "tickcolor": "rgb(36,36,36)",
             "ticks": "outside"
            },
            "colorscale": [
             [
              0,
              "#440154"
             ],
             [
              0.1111111111111111,
              "#482878"
             ],
             [
              0.2222222222222222,
              "#3e4989"
             ],
             [
              0.3333333333333333,
              "#31688e"
             ],
             [
              0.4444444444444444,
              "#26828e"
             ],
             [
              0.5555555555555556,
              "#1f9e89"
             ],
             [
              0.6666666666666666,
              "#35b779"
             ],
             [
              0.7777777777777778,
              "#6ece58"
             ],
             [
              0.8888888888888888,
              "#b5de2b"
             ],
             [
              1,
              "#fde725"
             ]
            ],
            "type": "contour"
           }
          ],
          "contourcarpet": [
           {
            "colorbar": {
             "outlinewidth": 1,
             "tickcolor": "rgb(36,36,36)",
             "ticks": "outside"
            },
            "type": "contourcarpet"
           }
          ],
          "heatmap": [
           {
            "colorbar": {
             "outlinewidth": 1,
             "tickcolor": "rgb(36,36,36)",
             "ticks": "outside"
            },
            "colorscale": [
             [
              0,
              "#440154"
             ],
             [
              0.1111111111111111,
              "#482878"
             ],
             [
              0.2222222222222222,
              "#3e4989"
             ],
             [
              0.3333333333333333,
              "#31688e"
             ],
             [
              0.4444444444444444,
              "#26828e"
             ],
             [
              0.5555555555555556,
              "#1f9e89"
             ],
             [
              0.6666666666666666,
              "#35b779"
             ],
             [
              0.7777777777777778,
              "#6ece58"
             ],
             [
              0.8888888888888888,
              "#b5de2b"
             ],
             [
              1,
              "#fde725"
             ]
            ],
            "type": "heatmap"
           }
          ],
          "heatmapgl": [
           {
            "colorbar": {
             "outlinewidth": 1,
             "tickcolor": "rgb(36,36,36)",
             "ticks": "outside"
            },
            "colorscale": [
             [
              0,
              "#440154"
             ],
             [
              0.1111111111111111,
              "#482878"
             ],
             [
              0.2222222222222222,
              "#3e4989"
             ],
             [
              0.3333333333333333,
              "#31688e"
             ],
             [
              0.4444444444444444,
              "#26828e"
             ],
             [
              0.5555555555555556,
              "#1f9e89"
             ],
             [
              0.6666666666666666,
              "#35b779"
             ],
             [
              0.7777777777777778,
              "#6ece58"
             ],
             [
              0.8888888888888888,
              "#b5de2b"
             ],
             [
              1,
              "#fde725"
             ]
            ],
            "type": "heatmapgl"
           }
          ],
          "histogram": [
           {
            "marker": {
             "line": {
              "color": "white",
              "width": 0.6
             }
            },
            "type": "histogram"
           }
          ],
          "histogram2d": [
           {
            "colorbar": {
             "outlinewidth": 1,
             "tickcolor": "rgb(36,36,36)",
             "ticks": "outside"
            },
            "colorscale": [
             [
              0,
              "#440154"
             ],
             [
              0.1111111111111111,
              "#482878"
             ],
             [
              0.2222222222222222,
              "#3e4989"
             ],
             [
              0.3333333333333333,
              "#31688e"
             ],
             [
              0.4444444444444444,
              "#26828e"
             ],
             [
              0.5555555555555556,
              "#1f9e89"
             ],
             [
              0.6666666666666666,
              "#35b779"
             ],
             [
              0.7777777777777778,
              "#6ece58"
             ],
             [
              0.8888888888888888,
              "#b5de2b"
             ],
             [
              1,
              "#fde725"
             ]
            ],
            "type": "histogram2d"
           }
          ],
          "histogram2dcontour": [
           {
            "colorbar": {
             "outlinewidth": 1,
             "tickcolor": "rgb(36,36,36)",
             "ticks": "outside"
            },
            "colorscale": [
             [
              0,
              "#440154"
             ],
             [
              0.1111111111111111,
              "#482878"
             ],
             [
              0.2222222222222222,
              "#3e4989"
             ],
             [
              0.3333333333333333,
              "#31688e"
             ],
             [
              0.4444444444444444,
              "#26828e"
             ],
             [
              0.5555555555555556,
              "#1f9e89"
             ],
             [
              0.6666666666666666,
              "#35b779"
             ],
             [
              0.7777777777777778,
              "#6ece58"
             ],
             [
              0.8888888888888888,
              "#b5de2b"
             ],
             [
              1,
              "#fde725"
             ]
            ],
            "type": "histogram2dcontour"
           }
          ],
          "mesh3d": [
           {
            "colorbar": {
             "outlinewidth": 1,
             "tickcolor": "rgb(36,36,36)",
             "ticks": "outside"
            },
            "type": "mesh3d"
           }
          ],
          "parcoords": [
           {
            "line": {
             "colorbar": {
              "outlinewidth": 1,
              "tickcolor": "rgb(36,36,36)",
              "ticks": "outside"
             }
            },
            "type": "parcoords"
           }
          ],
          "pie": [
           {
            "automargin": true,
            "type": "pie"
           }
          ],
          "scatter": [
           {
            "fillpattern": {
             "fillmode": "overlay",
             "size": 10,
             "solidity": 0.2
            },
            "type": "scatter"
           }
          ],
          "scatter3d": [
           {
            "line": {
             "colorbar": {
              "outlinewidth": 1,
              "tickcolor": "rgb(36,36,36)",
              "ticks": "outside"
             }
            },
            "marker": {
             "colorbar": {
              "outlinewidth": 1,
              "tickcolor": "rgb(36,36,36)",
              "ticks": "outside"
             }
            },
            "type": "scatter3d"
           }
          ],
          "scattercarpet": [
           {
            "marker": {
             "colorbar": {
              "outlinewidth": 1,
              "tickcolor": "rgb(36,36,36)",
              "ticks": "outside"
             }
            },
            "type": "scattercarpet"
           }
          ],
          "scattergeo": [
           {
            "marker": {
             "colorbar": {
              "outlinewidth": 1,
              "tickcolor": "rgb(36,36,36)",
              "ticks": "outside"
             }
            },
            "type": "scattergeo"
           }
          ],
          "scattergl": [
           {
            "marker": {
             "colorbar": {
              "outlinewidth": 1,
              "tickcolor": "rgb(36,36,36)",
              "ticks": "outside"
             }
            },
            "type": "scattergl"
           }
          ],
          "scattermapbox": [
           {
            "marker": {
             "colorbar": {
              "outlinewidth": 1,
              "tickcolor": "rgb(36,36,36)",
              "ticks": "outside"
             }
            },
            "type": "scattermapbox"
           }
          ],
          "scatterpolar": [
           {
            "marker": {
             "colorbar": {
              "outlinewidth": 1,
              "tickcolor": "rgb(36,36,36)",
              "ticks": "outside"
             }
            },
            "type": "scatterpolar"
           }
          ],
          "scatterpolargl": [
           {
            "marker": {
             "colorbar": {
              "outlinewidth": 1,
              "tickcolor": "rgb(36,36,36)",
              "ticks": "outside"
             }
            },
            "type": "scatterpolargl"
           }
          ],
          "scatterternary": [
           {
            "marker": {
             "colorbar": {
              "outlinewidth": 1,
              "tickcolor": "rgb(36,36,36)",
              "ticks": "outside"
             }
            },
            "type": "scatterternary"
           }
          ],
          "surface": [
           {
            "colorbar": {
             "outlinewidth": 1,
             "tickcolor": "rgb(36,36,36)",
             "ticks": "outside"
            },
            "colorscale": [
             [
              0,
              "#440154"
             ],
             [
              0.1111111111111111,
              "#482878"
             ],
             [
              0.2222222222222222,
              "#3e4989"
             ],
             [
              0.3333333333333333,
              "#31688e"
             ],
             [
              0.4444444444444444,
              "#26828e"
             ],
             [
              0.5555555555555556,
              "#1f9e89"
             ],
             [
              0.6666666666666666,
              "#35b779"
             ],
             [
              0.7777777777777778,
              "#6ece58"
             ],
             [
              0.8888888888888888,
              "#b5de2b"
             ],
             [
              1,
              "#fde725"
             ]
            ],
            "type": "surface"
           }
          ],
          "table": [
           {
            "cells": {
             "fill": {
              "color": "rgb(237,237,237)"
             },
             "line": {
              "color": "white"
             }
            },
            "header": {
             "fill": {
              "color": "rgb(217,217,217)"
             },
             "line": {
              "color": "white"
             }
            },
            "type": "table"
           }
          ]
         },
         "layout": {
          "annotationdefaults": {
           "arrowhead": 0,
           "arrowwidth": 1
          },
          "autotypenumbers": "strict",
          "coloraxis": {
           "colorbar": {
            "outlinewidth": 1,
            "tickcolor": "rgb(36,36,36)",
            "ticks": "outside"
           }
          },
          "colorscale": {
           "diverging": [
            [
             0,
             "rgb(103,0,31)"
            ],
            [
             0.1,
             "rgb(178,24,43)"
            ],
            [
             0.2,
             "rgb(214,96,77)"
            ],
            [
             0.3,
             "rgb(244,165,130)"
            ],
            [
             0.4,
             "rgb(253,219,199)"
            ],
            [
             0.5,
             "rgb(247,247,247)"
            ],
            [
             0.6,
             "rgb(209,229,240)"
            ],
            [
             0.7,
             "rgb(146,197,222)"
            ],
            [
             0.8,
             "rgb(67,147,195)"
            ],
            [
             0.9,
             "rgb(33,102,172)"
            ],
            [
             1,
             "rgb(5,48,97)"
            ]
           ],
           "sequential": [
            [
             0,
             "#440154"
            ],
            [
             0.1111111111111111,
             "#482878"
            ],
            [
             0.2222222222222222,
             "#3e4989"
            ],
            [
             0.3333333333333333,
             "#31688e"
            ],
            [
             0.4444444444444444,
             "#26828e"
            ],
            [
             0.5555555555555556,
             "#1f9e89"
            ],
            [
             0.6666666666666666,
             "#35b779"
            ],
            [
             0.7777777777777778,
             "#6ece58"
            ],
            [
             0.8888888888888888,
             "#b5de2b"
            ],
            [
             1,
             "#fde725"
            ]
           ],
           "sequentialminus": [
            [
             0,
             "#440154"
            ],
            [
             0.1111111111111111,
             "#482878"
            ],
            [
             0.2222222222222222,
             "#3e4989"
            ],
            [
             0.3333333333333333,
             "#31688e"
            ],
            [
             0.4444444444444444,
             "#26828e"
            ],
            [
             0.5555555555555556,
             "#1f9e89"
            ],
            [
             0.6666666666666666,
             "#35b779"
            ],
            [
             0.7777777777777778,
             "#6ece58"
            ],
            [
             0.8888888888888888,
             "#b5de2b"
            ],
            [
             1,
             "#fde725"
            ]
           ]
          },
          "colorway": [
           "#1F77B4",
           "#FF7F0E",
           "#2CA02C",
           "#D62728",
           "#9467BD",
           "#8C564B",
           "#E377C2",
           "#7F7F7F",
           "#BCBD22",
           "#17BECF"
          ],
          "font": {
           "color": "rgb(36,36,36)"
          },
          "geo": {
           "bgcolor": "white",
           "lakecolor": "white",
           "landcolor": "white",
           "showlakes": true,
           "showland": true,
           "subunitcolor": "white"
          },
          "hoverlabel": {
           "align": "left"
          },
          "hovermode": "closest",
          "mapbox": {
           "style": "light"
          },
          "paper_bgcolor": "white",
          "plot_bgcolor": "white",
          "polar": {
           "angularaxis": {
            "gridcolor": "rgb(232,232,232)",
            "linecolor": "rgb(36,36,36)",
            "showgrid": false,
            "showline": true,
            "ticks": "outside"
           },
           "bgcolor": "white",
           "radialaxis": {
            "gridcolor": "rgb(232,232,232)",
            "linecolor": "rgb(36,36,36)",
            "showgrid": false,
            "showline": true,
            "ticks": "outside"
           }
          },
          "scene": {
           "xaxis": {
            "backgroundcolor": "white",
            "gridcolor": "rgb(232,232,232)",
            "gridwidth": 2,
            "linecolor": "rgb(36,36,36)",
            "showbackground": true,
            "showgrid": false,
            "showline": true,
            "ticks": "outside",
            "zeroline": false,
            "zerolinecolor": "rgb(36,36,36)"
           },
           "yaxis": {
            "backgroundcolor": "white",
            "gridcolor": "rgb(232,232,232)",
            "gridwidth": 2,
            "linecolor": "rgb(36,36,36)",
            "showbackground": true,
            "showgrid": false,
            "showline": true,
            "ticks": "outside",
            "zeroline": false,
            "zerolinecolor": "rgb(36,36,36)"
           },
           "zaxis": {
            "backgroundcolor": "white",
            "gridcolor": "rgb(232,232,232)",
            "gridwidth": 2,
            "linecolor": "rgb(36,36,36)",
            "showbackground": true,
            "showgrid": false,
            "showline": true,
            "ticks": "outside",
            "zeroline": false,
            "zerolinecolor": "rgb(36,36,36)"
           }
          },
          "shapedefaults": {
           "fillcolor": "black",
           "line": {
            "width": 0
           },
           "opacity": 0.3
          },
          "ternary": {
           "aaxis": {
            "gridcolor": "rgb(232,232,232)",
            "linecolor": "rgb(36,36,36)",
            "showgrid": false,
            "showline": true,
            "ticks": "outside"
           },
           "baxis": {
            "gridcolor": "rgb(232,232,232)",
            "linecolor": "rgb(36,36,36)",
            "showgrid": false,
            "showline": true,
            "ticks": "outside"
           },
           "bgcolor": "white",
           "caxis": {
            "gridcolor": "rgb(232,232,232)",
            "linecolor": "rgb(36,36,36)",
            "showgrid": false,
            "showline": true,
            "ticks": "outside"
           }
          },
          "title": {
           "x": 0.05
          },
          "xaxis": {
           "automargin": true,
           "gridcolor": "rgb(232,232,232)",
           "linecolor": "rgb(36,36,36)",
           "showgrid": false,
           "showline": true,
           "ticks": "outside",
           "title": {
            "standoff": 15
           },
           "zeroline": false,
           "zerolinecolor": "rgb(36,36,36)"
          },
          "yaxis": {
           "automargin": true,
           "gridcolor": "rgb(232,232,232)",
           "linecolor": "rgb(36,36,36)",
           "showgrid": false,
           "showline": true,
           "ticks": "outside",
           "title": {
            "standoff": 15
           },
           "zeroline": false,
           "zerolinecolor": "rgb(36,36,36)"
          }
         }
        },
        "xaxis": {
         "title": {
          "text": "Analysis index"
         }
        },
        "yaxis": {
         "title": {
          "text": "Score / U.A."
         }
        }
       }
      }
     },
     "metadata": {},
     "output_type": "display_data"
    }
   ],
   "source": [
    "test_data = pd.read_csv(\"test_features.csv\")\n",
    "test_metadata = pd.read_csv(\"test_metadata.csv\")\n",
    "ana.predict(test_data, test_metadata)\n",
    "outliers_test = ana.test_prediction_outliers()\n",
    "print(outliers_test)\n",
    "ana.plot_scores()\n"
   ]
  },
  {
   "cell_type": "code",
   "execution_count": 4,
   "metadata": {},
   "outputs": [
    {
     "data": {
      "application/vnd.plotly.v1+json": {
       "config": {
        "plotlyServerURL": "https://plot.ly"
       },
       "data": [
        {
         "hovertemplate": [
          "<b>index: </b>17<br><b>name: </b>210812_Pac--005<br><b>path: </b>D:/ExtractedSignals\\210812_Pac 2021-08-12 10-30-07\\210812_Pac--005.D<br><b>batch: </b>210812_Pac 2021-08-12 10-30-07<br><b>batch_position: </b>5<br><b>idle_time: </b>279.0<br><b>sample: </b>NaCl 0,9%<br><b>method: </b>SAA_411_Pac.M<br><b>timestamp: </b>2021-08-12 10:50:23<br><b>detector: </b>G1315C<br><b>pump: </b>G7110B<br><b>start_time: </b>2021-08-12 10:50:57<br><b>end_time: </b>2021-08-12 10:54:57<br><b>runtime: </b>239.7000000000036",
          "<b>index: </b>18<br><b>name: </b>210812_Pac--006<br><b>path: </b>D:/ExtractedSignals\\210812_Pac 2021-08-12 10-30-07\\210812_Pac--006.D<br><b>batch: </b>210812_Pac 2021-08-12 10-30-07<br><b>batch_position: </b>6<br><b>idle_time: </b>279.0<br><b>sample: </b>Blank<br><b>method: </b>SAA_411_Pac.M<br><b>timestamp: </b>2021-08-12 10:55:02<br><b>detector: </b>G1315C<br><b>pump: </b>G7110B<br><b>start_time: </b>2021-08-12 10:55:36<br><b>end_time: </b>2021-08-12 10:59:36<br><b>runtime: </b>239.7000000000036",
          "<b>index: </b>19<br><b>name: </b>210812_Pac--007<br><b>path: </b>D:/ExtractedSignals\\210812_Pac 2021-08-12 10-30-07\\210812_Pac--007.D<br><b>batch: </b>210812_Pac 2021-08-12 10-30-07<br><b>batch_position: </b>7<br><b>idle_time: </b>279.0<br><b>sample: </b>0.025 mg/ml<br><b>method: </b>SAA_411_Pac.M<br><b>timestamp: </b>2021-08-12 10:59:41<br><b>detector: </b>G1315C<br><b>pump: </b>G7110B<br><b>start_time: </b>2021-08-12 11:00:15<br><b>end_time: </b>2021-08-12 11:04:15<br><b>runtime: </b>239.7000000000036",
          "<b>index: </b>20<br><b>name: </b>210812_Pac--008<br><b>path: </b>D:/ExtractedSignals\\210812_Pac 2021-08-12 10-30-07\\210812_Pac--008.D<br><b>batch: </b>210812_Pac 2021-08-12 10-30-07<br><b>batch_position: </b>8<br><b>idle_time: </b>279.0<br><b>sample: </b>Blank<br><b>method: </b>SAA_411_Pac.M<br><b>timestamp: </b>2021-08-12 11:04:20<br><b>detector: </b>G1315C<br><b>pump: </b>G7110B<br><b>start_time: </b>2021-08-12 11:04:54<br><b>end_time: </b>2021-08-12 11:08:54<br><b>runtime: </b>239.7000000000036",
          "<b>index: </b>21<br><b>name: </b>210812_Pac--009<br><b>path: </b>D:/ExtractedSignals\\210812_Pac 2021-08-12 10-30-07\\210812_Pac--009.D<br><b>batch: </b>210812_Pac 2021-08-12 10-30-07<br><b>batch_position: </b>9<br><b>idle_time: </b>279.0<br><b>sample: </b>210806/036 :10<br><b>method: </b>SAA_411_Pac.M<br><b>timestamp: </b>2021-08-12 11:08:59<br><b>detector: </b>G1315C<br><b>pump: </b>G7110B<br><b>start_time: </b>2021-08-12 11:09:32<br><b>end_time: </b>2021-08-12 11:13:32<br><b>runtime: </b>239.7000000000036",
          "<b>index: </b>22<br><b>name: </b>210812_Pac--010<br><b>path: </b>D:/ExtractedSignals\\210812_Pac 2021-08-12 10-30-07\\210812_Pac--010.D<br><b>batch: </b>210812_Pac 2021-08-12 10-30-07<br><b>batch_position: </b>10<br><b>idle_time: </b>278.0<br><b>sample: </b>210806/036 :10<br><b>method: </b>SAA_411_Pac.M<br><b>timestamp: </b>2021-08-12 11:13:37<br><b>detector: </b>G7110B<br><b>pump: </b>G7110B<br><b>start_time: </b>2021-08-12 11:14:11<br><b>end_time: </b>2021-08-12 11:18:11<br><b>runtime: </b>239.7000000000036",
          "<b>index: </b>23<br><b>name: </b>210812_Pac--011<br><b>path: </b>D:/ExtractedSignals\\210812_Pac 2021-08-12 10-30-07\\210812_Pac--011.D<br><b>batch: </b>210812_Pac 2021-08-12 10-30-07<br><b>batch_position: </b>11<br><b>idle_time: </b>279.0<br><b>sample: </b>210806/036 :10<br><b>method: </b>SAA_411_Pac.M<br><b>timestamp: </b>2021-08-12 11:18:16<br><b>detector: </b>G7110B<br><b>pump: </b>G7110B<br><b>start_time: </b>2021-08-12 11:18:50<br><b>end_time: </b>2021-08-12 11:22:50<br><b>runtime: </b>239.7000000000036",
          "<b>index: </b>24<br><b>name: </b>210812_Pac--012<br><b>path: </b>D:/ExtractedSignals\\210812_Pac 2021-08-12 10-30-07\\210812_Pac--012.D<br><b>batch: </b>210812_Pac 2021-08-12 10-30-07<br><b>batch_position: </b>12<br><b>idle_time: </b>279.0<br><b>sample: </b>Blank<br><b>method: </b>SAA_411_Pac.M<br><b>timestamp: </b>2021-08-12 11:22:55<br><b>detector: </b>G1315C<br><b>pump: </b>G7110B<br><b>start_time: </b>2021-08-12 11:23:29<br><b>end_time: </b>2021-08-12 11:27:29<br><b>runtime: </b>239.7000000000036",
          "<b>index: </b>25<br><b>name: </b>210812_Pac--013<br><b>path: </b>D:/ExtractedSignals\\210812_Pac 2021-08-12 10-30-07\\210812_Pac--013.D<br><b>batch: </b>210812_Pac 2021-08-12 10-30-07<br><b>batch_position: </b>13<br><b>idle_time: </b>279.0<br><b>sample: </b>0.025 mg/ml<br><b>method: </b>SAA_411_Pac.M<br><b>timestamp: </b>2021-08-12 11:27:34<br><b>detector: </b>G1315C<br><b>pump: </b>G7110B<br><b>start_time: </b>2021-08-12 11:28:08<br><b>end_time: </b>2021-08-12 11:32:08<br><b>runtime: </b>239.7000000000036",
          "<b>index: </b>26<br><b>name: </b>210812_Pac--014<br><b>path: </b>D:/ExtractedSignals\\210812_Pac 2021-08-12 10-30-07\\210812_Pac--014.D<br><b>batch: </b>210812_Pac 2021-08-12 10-30-07<br><b>batch_position: </b>14<br><b>idle_time: </b>279.0<br><b>sample: </b>Blank<br><b>method: </b>SAA_411_Pac.M<br><b>timestamp: </b>2021-08-12 11:32:13<br><b>detector: </b>G7110B<br><b>pump: </b>G7110B<br><b>start_time: </b>2021-08-12 11:32:46<br><b>end_time: </b>2021-08-12 11:36:47<br><b>runtime: </b>239.7000000000036",
          "<b>index: </b>85<br><b>name: </b>210813_Pac--003<br><b>path: </b>D:/ExtractedSignals\\210813_Pac 2021-08-13 10-37-27\\210813_Pac--003.D<br><b>batch: </b>210813_Pac 2021-08-13 10-37-27<br><b>batch_position: </b>3<br><b>idle_time: </b>278.0<br><b>sample: </b>Blank<br><b>method: </b>SAA_411_Pac.M<br><b>timestamp: </b>2021-08-13 10:48:34<br><b>detector: </b>G1315C<br><b>pump: </b>G7116B<br><b>start_time: </b>2021-08-13 10:49:08<br><b>end_time: </b>2021-08-13 10:53:08<br><b>runtime: </b>239.7000000000036",
          "<b>index: </b>86<br><b>name: </b>210813_Pac--004<br><b>path: </b>D:/ExtractedSignals\\210813_Pac 2021-08-13 10-37-27\\210813_Pac--004.D<br><b>batch: </b>210813_Pac 2021-08-13 10-37-27<br><b>batch_position: </b>4<br><b>idle_time: </b>279.0<br><b>sample: </b>Blank<br><b>method: </b>SAA_411_Pac.M<br><b>timestamp: </b>2021-08-13 10:53:13<br><b>detector: </b>G1315C<br><b>pump: </b>G7110B<br><b>start_time: </b>2021-08-13 10:53:47<br><b>end_time: </b>2021-08-13 10:57:47<br><b>runtime: </b>239.7000000000036",
          "<b>index: </b>87<br><b>name: </b>210813_Pac--005<br><b>path: </b>D:/ExtractedSignals\\210813_Pac 2021-08-13 10-37-27\\210813_Pac--005.D<br><b>batch: </b>210813_Pac 2021-08-13 10-37-27<br><b>batch_position: </b>5<br><b>idle_time: </b>279.0<br><b>sample: </b>NaCl 0,9%<br><b>method: </b>SAA_411_Pac.M<br><b>timestamp: </b>2021-08-13 10:57:52<br><b>detector: </b>G7110B<br><b>pump: </b>G7110B<br><b>start_time: </b>2021-08-13 10:58:26<br><b>end_time: </b>2021-08-13 11:02:27<br><b>runtime: </b>239.7000000000036",
          "<b>index: </b>88<br><b>name: </b>210813_Pac--006<br><b>path: </b>D:/ExtractedSignals\\210813_Pac 2021-08-13 10-37-27\\210813_Pac--006.D<br><b>batch: </b>210813_Pac 2021-08-13 10-37-27<br><b>batch_position: </b>6<br><b>idle_time: </b>279.0<br><b>sample: </b>Blank<br><b>method: </b>SAA_411_Pac.M<br><b>timestamp: </b>2021-08-13 11:02:31<br><b>detector: </b>G1315C<br><b>pump: </b>G7110B<br><b>start_time: </b>2021-08-13 11:03:05<br><b>end_time: </b>2021-08-13 11:07:06<br><b>runtime: </b>239.7000000000036",
          "<b>index: </b>89<br><b>name: </b>210813_Pac--007<br><b>path: </b>D:/ExtractedSignals\\210813_Pac 2021-08-13 10-37-27\\210813_Pac--007.D<br><b>batch: </b>210813_Pac 2021-08-13 10-37-27<br><b>batch_position: </b>7<br><b>idle_time: </b>279.0<br><b>sample: </b>0.025 mg/ml<br><b>method: </b>SAA_411_Pac.M<br><b>timestamp: </b>2021-08-13 11:07:10<br><b>detector: </b>G1315C<br><b>pump: </b>G7116B<br><b>start_time: </b>2021-08-13 11:07:44<br><b>end_time: </b>2021-08-13 11:11:45<br><b>runtime: </b>239.7000000000036",
          "<b>index: </b>90<br><b>name: </b>210813_Pac--008<br><b>path: </b>D:/ExtractedSignals\\210813_Pac 2021-08-13 10-37-27\\210813_Pac--008.D<br><b>batch: </b>210813_Pac 2021-08-13 10-37-27<br><b>batch_position: </b>8<br><b>idle_time: </b>279.0<br><b>sample: </b>Blank<br><b>method: </b>SAA_411_Pac.M<br><b>timestamp: </b>2021-08-13 11:11:49<br><b>detector: </b>G1315C<br><b>pump: </b>G7110B<br><b>start_time: </b>2021-08-13 11:12:23<br><b>end_time: </b>2021-08-13 11:16:23<br><b>runtime: </b>239.7000000000036",
          "<b>index: </b>91<br><b>name: </b>210813_Pac--009<br><b>path: </b>D:/ExtractedSignals\\210813_Pac 2021-08-13 10-37-27\\210813_Pac--009.D<br><b>batch: </b>210813_Pac 2021-08-13 10-37-27<br><b>batch_position: </b>9<br><b>idle_time: </b>279.0<br><b>sample: </b>210812/004 :20<br><b>method: </b>SAA_411_Pac.M<br><b>timestamp: </b>2021-08-13 11:16:28<br><b>detector: </b>G1315C<br><b>pump: </b>G7110B<br><b>start_time: </b>2021-08-13 11:17:02<br><b>end_time: </b>2021-08-13 11:21:03<br><b>runtime: </b>239.7000000000036",
          "<b>index: </b>92<br><b>name: </b>210813_Pac--010<br><b>path: </b>D:/ExtractedSignals\\210813_Pac 2021-08-13 10-37-27\\210813_Pac--010.D<br><b>batch: </b>210813_Pac 2021-08-13 10-37-27<br><b>batch_position: </b>10<br><b>idle_time: </b>280.0<br><b>sample: </b>210812/004 :20<br><b>method: </b>SAA_411_Pac.M<br><b>timestamp: </b>2021-08-13 11:21:08<br><b>detector: </b>G1315C<br><b>pump: </b>G7110B<br><b>start_time: </b>2021-08-13 11:21:41<br><b>end_time: </b>2021-08-13 11:25:42<br><b>runtime: </b>239.7000000000036",
          "<b>index: </b>93<br><b>name: </b>210813_Pac--011<br><b>path: </b>D:/ExtractedSignals\\210813_Pac 2021-08-13 10-37-27\\210813_Pac--011.D<br><b>batch: </b>210813_Pac 2021-08-13 10-37-27<br><b>batch_position: </b>11<br><b>idle_time: </b>278.0<br><b>sample: </b>210812/004 :20<br><b>method: </b>SAA_411_Pac.M<br><b>timestamp: </b>2021-08-13 11:25:46<br><b>detector: </b>G1315C<br><b>pump: </b>G7110B<br><b>start_time: </b>2021-08-13 11:26:21<br><b>end_time: </b>2021-08-13 11:30:21<br><b>runtime: </b>239.7000000000036",
          "<b>index: </b>94<br><b>name: </b>210813_Pac--012<br><b>path: </b>D:/ExtractedSignals\\210813_Pac 2021-08-13 10-37-27\\210813_Pac--012.D<br><b>batch: </b>210813_Pac 2021-08-13 10-37-27<br><b>batch_position: </b>12<br><b>idle_time: </b>280.0<br><b>sample: </b>Blank<br><b>method: </b>SAA_411_Pac.M<br><b>timestamp: </b>2021-08-13 11:30:26<br><b>detector: </b>G1315C<br><b>pump: </b>G7110B<br><b>start_time: </b>2021-08-13 11:30:59<br><b>end_time: </b>2021-08-13 11:34:59<br><b>runtime: </b>239.7000000000036",
          "<b>index: </b>95<br><b>name: </b>210813_Pac--013<br><b>path: </b>D:/ExtractedSignals\\210813_Pac 2021-08-13 10-37-27\\210813_Pac--013.D<br><b>batch: </b>210813_Pac 2021-08-13 10-37-27<br><b>batch_position: </b>13<br><b>idle_time: </b>278.0<br><b>sample: </b>0.025 mg/ml<br><b>method: </b>SAA_411_Pac.M<br><b>timestamp: </b>2021-08-13 11:35:04<br><b>detector: </b>G1315C<br><b>pump: </b>G7110B<br><b>start_time: </b>2021-08-13 11:35:38<br><b>end_time: </b>2021-08-13 11:39:38<br><b>runtime: </b>239.7000000000036",
          "<b>index: </b>96<br><b>name: </b>210813_Pac--014<br><b>path: </b>D:/ExtractedSignals\\210813_Pac 2021-08-13 10-37-27\\210813_Pac--014.D<br><b>batch: </b>210813_Pac 2021-08-13 10-37-27<br><b>batch_position: </b>14<br><b>idle_time: </b>279.0<br><b>sample: </b>Blank<br><b>method: </b>SAA_411_Pac.M<br><b>timestamp: </b>2021-08-13 11:39:43<br><b>detector: </b>G1315C<br><b>pump: </b>G7110B<br><b>start_time: </b>2021-08-13 11:40:16<br><b>end_time: </b>2021-08-13 11:44:17<br><b>runtime: </b>239.7000000000036"
         ],
         "legendgroup": "Train",
         "line": {
          "color": "black"
         },
         "marker": {
          "color": "black",
          "size": 10
         },
         "mode": "lines+markers",
         "name": "Train Scores",
         "text": [
          "<b>index: </b>17<br><b>name: </b>210812_Pac--005<br><b>path: </b>D:/ExtractedSignals\\210812_Pac 2021-08-12 10-30-07\\210812_Pac--005.D<br><b>batch: </b>210812_Pac 2021-08-12 10-30-07<br><b>batch_position: </b>5<br><b>idle_time: </b>279.0<br><b>sample: </b>NaCl 0,9%<br><b>method: </b>SAA_411_Pac.M<br><b>timestamp: </b>2021-08-12 10:50:23<br><b>detector: </b>G1315C<br><b>pump: </b>G7110B<br><b>start_time: </b>2021-08-12 10:50:57<br><b>end_time: </b>2021-08-12 10:54:57<br><b>runtime: </b>239.7000000000036",
          "<b>index: </b>18<br><b>name: </b>210812_Pac--006<br><b>path: </b>D:/ExtractedSignals\\210812_Pac 2021-08-12 10-30-07\\210812_Pac--006.D<br><b>batch: </b>210812_Pac 2021-08-12 10-30-07<br><b>batch_position: </b>6<br><b>idle_time: </b>279.0<br><b>sample: </b>Blank<br><b>method: </b>SAA_411_Pac.M<br><b>timestamp: </b>2021-08-12 10:55:02<br><b>detector: </b>G1315C<br><b>pump: </b>G7110B<br><b>start_time: </b>2021-08-12 10:55:36<br><b>end_time: </b>2021-08-12 10:59:36<br><b>runtime: </b>239.7000000000036",
          "<b>index: </b>19<br><b>name: </b>210812_Pac--007<br><b>path: </b>D:/ExtractedSignals\\210812_Pac 2021-08-12 10-30-07\\210812_Pac--007.D<br><b>batch: </b>210812_Pac 2021-08-12 10-30-07<br><b>batch_position: </b>7<br><b>idle_time: </b>279.0<br><b>sample: </b>0.025 mg/ml<br><b>method: </b>SAA_411_Pac.M<br><b>timestamp: </b>2021-08-12 10:59:41<br><b>detector: </b>G1315C<br><b>pump: </b>G7110B<br><b>start_time: </b>2021-08-12 11:00:15<br><b>end_time: </b>2021-08-12 11:04:15<br><b>runtime: </b>239.7000000000036",
          "<b>index: </b>20<br><b>name: </b>210812_Pac--008<br><b>path: </b>D:/ExtractedSignals\\210812_Pac 2021-08-12 10-30-07\\210812_Pac--008.D<br><b>batch: </b>210812_Pac 2021-08-12 10-30-07<br><b>batch_position: </b>8<br><b>idle_time: </b>279.0<br><b>sample: </b>Blank<br><b>method: </b>SAA_411_Pac.M<br><b>timestamp: </b>2021-08-12 11:04:20<br><b>detector: </b>G1315C<br><b>pump: </b>G7110B<br><b>start_time: </b>2021-08-12 11:04:54<br><b>end_time: </b>2021-08-12 11:08:54<br><b>runtime: </b>239.7000000000036",
          "<b>index: </b>21<br><b>name: </b>210812_Pac--009<br><b>path: </b>D:/ExtractedSignals\\210812_Pac 2021-08-12 10-30-07\\210812_Pac--009.D<br><b>batch: </b>210812_Pac 2021-08-12 10-30-07<br><b>batch_position: </b>9<br><b>idle_time: </b>279.0<br><b>sample: </b>210806/036 :10<br><b>method: </b>SAA_411_Pac.M<br><b>timestamp: </b>2021-08-12 11:08:59<br><b>detector: </b>G1315C<br><b>pump: </b>G7110B<br><b>start_time: </b>2021-08-12 11:09:32<br><b>end_time: </b>2021-08-12 11:13:32<br><b>runtime: </b>239.7000000000036",
          "<b>index: </b>22<br><b>name: </b>210812_Pac--010<br><b>path: </b>D:/ExtractedSignals\\210812_Pac 2021-08-12 10-30-07\\210812_Pac--010.D<br><b>batch: </b>210812_Pac 2021-08-12 10-30-07<br><b>batch_position: </b>10<br><b>idle_time: </b>278.0<br><b>sample: </b>210806/036 :10<br><b>method: </b>SAA_411_Pac.M<br><b>timestamp: </b>2021-08-12 11:13:37<br><b>detector: </b>G7110B<br><b>pump: </b>G7110B<br><b>start_time: </b>2021-08-12 11:14:11<br><b>end_time: </b>2021-08-12 11:18:11<br><b>runtime: </b>239.7000000000036",
          "<b>index: </b>23<br><b>name: </b>210812_Pac--011<br><b>path: </b>D:/ExtractedSignals\\210812_Pac 2021-08-12 10-30-07\\210812_Pac--011.D<br><b>batch: </b>210812_Pac 2021-08-12 10-30-07<br><b>batch_position: </b>11<br><b>idle_time: </b>279.0<br><b>sample: </b>210806/036 :10<br><b>method: </b>SAA_411_Pac.M<br><b>timestamp: </b>2021-08-12 11:18:16<br><b>detector: </b>G7110B<br><b>pump: </b>G7110B<br><b>start_time: </b>2021-08-12 11:18:50<br><b>end_time: </b>2021-08-12 11:22:50<br><b>runtime: </b>239.7000000000036",
          "<b>index: </b>24<br><b>name: </b>210812_Pac--012<br><b>path: </b>D:/ExtractedSignals\\210812_Pac 2021-08-12 10-30-07\\210812_Pac--012.D<br><b>batch: </b>210812_Pac 2021-08-12 10-30-07<br><b>batch_position: </b>12<br><b>idle_time: </b>279.0<br><b>sample: </b>Blank<br><b>method: </b>SAA_411_Pac.M<br><b>timestamp: </b>2021-08-12 11:22:55<br><b>detector: </b>G1315C<br><b>pump: </b>G7110B<br><b>start_time: </b>2021-08-12 11:23:29<br><b>end_time: </b>2021-08-12 11:27:29<br><b>runtime: </b>239.7000000000036",
          "<b>index: </b>25<br><b>name: </b>210812_Pac--013<br><b>path: </b>D:/ExtractedSignals\\210812_Pac 2021-08-12 10-30-07\\210812_Pac--013.D<br><b>batch: </b>210812_Pac 2021-08-12 10-30-07<br><b>batch_position: </b>13<br><b>idle_time: </b>279.0<br><b>sample: </b>0.025 mg/ml<br><b>method: </b>SAA_411_Pac.M<br><b>timestamp: </b>2021-08-12 11:27:34<br><b>detector: </b>G1315C<br><b>pump: </b>G7110B<br><b>start_time: </b>2021-08-12 11:28:08<br><b>end_time: </b>2021-08-12 11:32:08<br><b>runtime: </b>239.7000000000036",
          "<b>index: </b>26<br><b>name: </b>210812_Pac--014<br><b>path: </b>D:/ExtractedSignals\\210812_Pac 2021-08-12 10-30-07\\210812_Pac--014.D<br><b>batch: </b>210812_Pac 2021-08-12 10-30-07<br><b>batch_position: </b>14<br><b>idle_time: </b>279.0<br><b>sample: </b>Blank<br><b>method: </b>SAA_411_Pac.M<br><b>timestamp: </b>2021-08-12 11:32:13<br><b>detector: </b>G7110B<br><b>pump: </b>G7110B<br><b>start_time: </b>2021-08-12 11:32:46<br><b>end_time: </b>2021-08-12 11:36:47<br><b>runtime: </b>239.7000000000036",
          "<b>index: </b>85<br><b>name: </b>210813_Pac--003<br><b>path: </b>D:/ExtractedSignals\\210813_Pac 2021-08-13 10-37-27\\210813_Pac--003.D<br><b>batch: </b>210813_Pac 2021-08-13 10-37-27<br><b>batch_position: </b>3<br><b>idle_time: </b>278.0<br><b>sample: </b>Blank<br><b>method: </b>SAA_411_Pac.M<br><b>timestamp: </b>2021-08-13 10:48:34<br><b>detector: </b>G1315C<br><b>pump: </b>G7116B<br><b>start_time: </b>2021-08-13 10:49:08<br><b>end_time: </b>2021-08-13 10:53:08<br><b>runtime: </b>239.7000000000036",
          "<b>index: </b>86<br><b>name: </b>210813_Pac--004<br><b>path: </b>D:/ExtractedSignals\\210813_Pac 2021-08-13 10-37-27\\210813_Pac--004.D<br><b>batch: </b>210813_Pac 2021-08-13 10-37-27<br><b>batch_position: </b>4<br><b>idle_time: </b>279.0<br><b>sample: </b>Blank<br><b>method: </b>SAA_411_Pac.M<br><b>timestamp: </b>2021-08-13 10:53:13<br><b>detector: </b>G1315C<br><b>pump: </b>G7110B<br><b>start_time: </b>2021-08-13 10:53:47<br><b>end_time: </b>2021-08-13 10:57:47<br><b>runtime: </b>239.7000000000036",
          "<b>index: </b>87<br><b>name: </b>210813_Pac--005<br><b>path: </b>D:/ExtractedSignals\\210813_Pac 2021-08-13 10-37-27\\210813_Pac--005.D<br><b>batch: </b>210813_Pac 2021-08-13 10-37-27<br><b>batch_position: </b>5<br><b>idle_time: </b>279.0<br><b>sample: </b>NaCl 0,9%<br><b>method: </b>SAA_411_Pac.M<br><b>timestamp: </b>2021-08-13 10:57:52<br><b>detector: </b>G7110B<br><b>pump: </b>G7110B<br><b>start_time: </b>2021-08-13 10:58:26<br><b>end_time: </b>2021-08-13 11:02:27<br><b>runtime: </b>239.7000000000036",
          "<b>index: </b>88<br><b>name: </b>210813_Pac--006<br><b>path: </b>D:/ExtractedSignals\\210813_Pac 2021-08-13 10-37-27\\210813_Pac--006.D<br><b>batch: </b>210813_Pac 2021-08-13 10-37-27<br><b>batch_position: </b>6<br><b>idle_time: </b>279.0<br><b>sample: </b>Blank<br><b>method: </b>SAA_411_Pac.M<br><b>timestamp: </b>2021-08-13 11:02:31<br><b>detector: </b>G1315C<br><b>pump: </b>G7110B<br><b>start_time: </b>2021-08-13 11:03:05<br><b>end_time: </b>2021-08-13 11:07:06<br><b>runtime: </b>239.7000000000036",
          "<b>index: </b>89<br><b>name: </b>210813_Pac--007<br><b>path: </b>D:/ExtractedSignals\\210813_Pac 2021-08-13 10-37-27\\210813_Pac--007.D<br><b>batch: </b>210813_Pac 2021-08-13 10-37-27<br><b>batch_position: </b>7<br><b>idle_time: </b>279.0<br><b>sample: </b>0.025 mg/ml<br><b>method: </b>SAA_411_Pac.M<br><b>timestamp: </b>2021-08-13 11:07:10<br><b>detector: </b>G1315C<br><b>pump: </b>G7116B<br><b>start_time: </b>2021-08-13 11:07:44<br><b>end_time: </b>2021-08-13 11:11:45<br><b>runtime: </b>239.7000000000036",
          "<b>index: </b>90<br><b>name: </b>210813_Pac--008<br><b>path: </b>D:/ExtractedSignals\\210813_Pac 2021-08-13 10-37-27\\210813_Pac--008.D<br><b>batch: </b>210813_Pac 2021-08-13 10-37-27<br><b>batch_position: </b>8<br><b>idle_time: </b>279.0<br><b>sample: </b>Blank<br><b>method: </b>SAA_411_Pac.M<br><b>timestamp: </b>2021-08-13 11:11:49<br><b>detector: </b>G1315C<br><b>pump: </b>G7110B<br><b>start_time: </b>2021-08-13 11:12:23<br><b>end_time: </b>2021-08-13 11:16:23<br><b>runtime: </b>239.7000000000036",
          "<b>index: </b>91<br><b>name: </b>210813_Pac--009<br><b>path: </b>D:/ExtractedSignals\\210813_Pac 2021-08-13 10-37-27\\210813_Pac--009.D<br><b>batch: </b>210813_Pac 2021-08-13 10-37-27<br><b>batch_position: </b>9<br><b>idle_time: </b>279.0<br><b>sample: </b>210812/004 :20<br><b>method: </b>SAA_411_Pac.M<br><b>timestamp: </b>2021-08-13 11:16:28<br><b>detector: </b>G1315C<br><b>pump: </b>G7110B<br><b>start_time: </b>2021-08-13 11:17:02<br><b>end_time: </b>2021-08-13 11:21:03<br><b>runtime: </b>239.7000000000036",
          "<b>index: </b>92<br><b>name: </b>210813_Pac--010<br><b>path: </b>D:/ExtractedSignals\\210813_Pac 2021-08-13 10-37-27\\210813_Pac--010.D<br><b>batch: </b>210813_Pac 2021-08-13 10-37-27<br><b>batch_position: </b>10<br><b>idle_time: </b>280.0<br><b>sample: </b>210812/004 :20<br><b>method: </b>SAA_411_Pac.M<br><b>timestamp: </b>2021-08-13 11:21:08<br><b>detector: </b>G1315C<br><b>pump: </b>G7110B<br><b>start_time: </b>2021-08-13 11:21:41<br><b>end_time: </b>2021-08-13 11:25:42<br><b>runtime: </b>239.7000000000036",
          "<b>index: </b>93<br><b>name: </b>210813_Pac--011<br><b>path: </b>D:/ExtractedSignals\\210813_Pac 2021-08-13 10-37-27\\210813_Pac--011.D<br><b>batch: </b>210813_Pac 2021-08-13 10-37-27<br><b>batch_position: </b>11<br><b>idle_time: </b>278.0<br><b>sample: </b>210812/004 :20<br><b>method: </b>SAA_411_Pac.M<br><b>timestamp: </b>2021-08-13 11:25:46<br><b>detector: </b>G1315C<br><b>pump: </b>G7110B<br><b>start_time: </b>2021-08-13 11:26:21<br><b>end_time: </b>2021-08-13 11:30:21<br><b>runtime: </b>239.7000000000036",
          "<b>index: </b>94<br><b>name: </b>210813_Pac--012<br><b>path: </b>D:/ExtractedSignals\\210813_Pac 2021-08-13 10-37-27\\210813_Pac--012.D<br><b>batch: </b>210813_Pac 2021-08-13 10-37-27<br><b>batch_position: </b>12<br><b>idle_time: </b>280.0<br><b>sample: </b>Blank<br><b>method: </b>SAA_411_Pac.M<br><b>timestamp: </b>2021-08-13 11:30:26<br><b>detector: </b>G1315C<br><b>pump: </b>G7110B<br><b>start_time: </b>2021-08-13 11:30:59<br><b>end_time: </b>2021-08-13 11:34:59<br><b>runtime: </b>239.7000000000036",
          "<b>index: </b>95<br><b>name: </b>210813_Pac--013<br><b>path: </b>D:/ExtractedSignals\\210813_Pac 2021-08-13 10-37-27\\210813_Pac--013.D<br><b>batch: </b>210813_Pac 2021-08-13 10-37-27<br><b>batch_position: </b>13<br><b>idle_time: </b>278.0<br><b>sample: </b>0.025 mg/ml<br><b>method: </b>SAA_411_Pac.M<br><b>timestamp: </b>2021-08-13 11:35:04<br><b>detector: </b>G1315C<br><b>pump: </b>G7110B<br><b>start_time: </b>2021-08-13 11:35:38<br><b>end_time: </b>2021-08-13 11:39:38<br><b>runtime: </b>239.7000000000036",
          "<b>index: </b>96<br><b>name: </b>210813_Pac--014<br><b>path: </b>D:/ExtractedSignals\\210813_Pac 2021-08-13 10-37-27\\210813_Pac--014.D<br><b>batch: </b>210813_Pac 2021-08-13 10-37-27<br><b>batch_position: </b>14<br><b>idle_time: </b>279.0<br><b>sample: </b>Blank<br><b>method: </b>SAA_411_Pac.M<br><b>timestamp: </b>2021-08-13 11:39:43<br><b>detector: </b>G1315C<br><b>pump: </b>G7110B<br><b>start_time: </b>2021-08-13 11:40:16<br><b>end_time: </b>2021-08-13 11:44:17<br><b>runtime: </b>239.7000000000036"
         ],
         "type": "scatter",
         "x": [
          0,
          1,
          2,
          3,
          4,
          5,
          6,
          7,
          8,
          9,
          10,
          11,
          12,
          13,
          14,
          15,
          16,
          17,
          18,
          19,
          20,
          21
         ],
         "y": [
          0.025484862178554002,
          0.046326555405522774,
          0.04765187266852339,
          0.026922619153966987,
          0.035136048167465905,
          -0.08736275278150396,
          0.05185546197274926,
          0.02441818953122371,
          0.04516955095984948,
          0.06890765177517594,
          -0.002420807726131402,
          0.06658240335315624,
          0.0629607995617335,
          0.030101517955656687,
          -0.09540899709605788,
          0.050831603623162414,
          0.023756901578036116,
          0.06716937396102113,
          0.02178726953518234,
          0.06296727683523984,
          0.058093409708941335,
          0.031984832511636196
         ]
        },
        {
         "legendgroup": "Threshold",
         "line": {
          "color": "red",
          "dash": "dash"
         },
         "mode": "lines",
         "name": "Threshold",
         "type": "scatter",
         "x": [
          0,
          21
         ],
         "y": [
          -0.09725260822470204,
          -0.09725260822470204
         ]
        },
        {
         "hovertemplate": [
          "<b>index: </b>27<br><b>name: </b>210812_Pac<br><b>path: </b>D:/ExtractedSignals\\210812_Pac 2021-08-12 10-30-07\\210812_Pac.D<br><b>batch: </b>210812_Pac 2021-08-12 10-30-07<br><b>batch_position: </b>1<br><b>idle_time: </b>173.0<br><b>sample: </b>Blank<br><b>method: </b>SAA_411_Pac.M<br><b>timestamp: </b>2021-08-12 10:30:12<br><b>detector: </b>G7110B<br><b>pump: </b>G7110B<br><b>start_time: </b>2021-08-12 10:32:20<br><b>end_time: </b>2021-08-12 10:36:21<br><b>runtime: </b>239.7000000000036",
          "<b>index: </b>14<br><b>name: </b>210812_Pac--002<br><b>path: </b>D:/ExtractedSignals\\210812_Pac 2021-08-12 10-30-07\\210812_Pac--002.D<br><b>batch: </b>210812_Pac 2021-08-12 10-30-07<br><b>batch_position: </b>2<br><b>idle_time: </b>374.0<br><b>sample: </b>Blank<br><b>method: </b>SAA_411_Pac.M<br><b>timestamp: </b>2021-08-12 10:36:26<br><b>detector: </b>G1315C<br><b>pump: </b>G7110B<br><b>start_time: </b>2021-08-12 10:37:00<br><b>end_time: </b>2021-08-12 10:41:00<br><b>runtime: </b>239.7000000000036",
          "<b>index: </b>15<br><b>name: </b>210812_Pac--003<br><b>path: </b>D:/ExtractedSignals\\210812_Pac 2021-08-12 10-30-07\\210812_Pac--003.D<br><b>batch: </b>210812_Pac 2021-08-12 10-30-07<br><b>batch_position: </b>3<br><b>idle_time: </b>279.0<br><b>sample: </b>Blank<br><b>method: </b>SAA_411_Pac.M<br><b>timestamp: </b>2021-08-12 10:41:05<br><b>detector: </b>G1315C<br><b>pump: </b>G7110B<br><b>start_time: </b>2021-08-12 10:41:39<br><b>end_time: </b>2021-08-12 10:45:39<br><b>runtime: </b>239.7000000000036",
          "<b>index: </b>16<br><b>name: </b>210812_Pac--004<br><b>path: </b>D:/ExtractedSignals\\210812_Pac 2021-08-12 10-30-07\\210812_Pac--004.D<br><b>batch: </b>210812_Pac 2021-08-12 10-30-07<br><b>batch_position: </b>4<br><b>idle_time: </b>279.0<br><b>sample: </b>Blank<br><b>method: </b>SAA_411_Pac.M<br><b>timestamp: </b>2021-08-12 10:45:44<br><b>detector: </b>G1315C<br><b>pump: </b>G7110B<br><b>start_time: </b>2021-08-12 10:46:18<br><b>end_time: </b>2021-08-12 10:50:18<br><b>runtime: </b>239.7000000000036"
         ],
         "legendgroup": "Prediction",
         "line": {
          "color": "red"
         },
         "marker": {
          "color": "red",
          "size": 10
         },
         "mode": "lines+markers",
         "name": "Prediction Scores",
         "text": [
          "<b>index: </b>27<br><b>name: </b>210812_Pac<br><b>path: </b>D:/ExtractedSignals\\210812_Pac 2021-08-12 10-30-07\\210812_Pac.D<br><b>batch: </b>210812_Pac 2021-08-12 10-30-07<br><b>batch_position: </b>1<br><b>idle_time: </b>173.0<br><b>sample: </b>Blank<br><b>method: </b>SAA_411_Pac.M<br><b>timestamp: </b>2021-08-12 10:30:12<br><b>detector: </b>G7110B<br><b>pump: </b>G7110B<br><b>start_time: </b>2021-08-12 10:32:20<br><b>end_time: </b>2021-08-12 10:36:21<br><b>runtime: </b>239.7000000000036",
          "<b>index: </b>14<br><b>name: </b>210812_Pac--002<br><b>path: </b>D:/ExtractedSignals\\210812_Pac 2021-08-12 10-30-07\\210812_Pac--002.D<br><b>batch: </b>210812_Pac 2021-08-12 10-30-07<br><b>batch_position: </b>2<br><b>idle_time: </b>374.0<br><b>sample: </b>Blank<br><b>method: </b>SAA_411_Pac.M<br><b>timestamp: </b>2021-08-12 10:36:26<br><b>detector: </b>G1315C<br><b>pump: </b>G7110B<br><b>start_time: </b>2021-08-12 10:37:00<br><b>end_time: </b>2021-08-12 10:41:00<br><b>runtime: </b>239.7000000000036",
          "<b>index: </b>15<br><b>name: </b>210812_Pac--003<br><b>path: </b>D:/ExtractedSignals\\210812_Pac 2021-08-12 10-30-07\\210812_Pac--003.D<br><b>batch: </b>210812_Pac 2021-08-12 10-30-07<br><b>batch_position: </b>3<br><b>idle_time: </b>279.0<br><b>sample: </b>Blank<br><b>method: </b>SAA_411_Pac.M<br><b>timestamp: </b>2021-08-12 10:41:05<br><b>detector: </b>G1315C<br><b>pump: </b>G7110B<br><b>start_time: </b>2021-08-12 10:41:39<br><b>end_time: </b>2021-08-12 10:45:39<br><b>runtime: </b>239.7000000000036",
          "<b>index: </b>16<br><b>name: </b>210812_Pac--004<br><b>path: </b>D:/ExtractedSignals\\210812_Pac 2021-08-12 10-30-07\\210812_Pac--004.D<br><b>batch: </b>210812_Pac 2021-08-12 10-30-07<br><b>batch_position: </b>4<br><b>idle_time: </b>279.0<br><b>sample: </b>Blank<br><b>method: </b>SAA_411_Pac.M<br><b>timestamp: </b>2021-08-12 10:45:44<br><b>detector: </b>G1315C<br><b>pump: </b>G7110B<br><b>start_time: </b>2021-08-12 10:46:18<br><b>end_time: </b>2021-08-12 10:50:18<br><b>runtime: </b>239.7000000000036"
         ],
         "type": "scatter",
         "x": [
          22,
          23,
          24,
          25
         ],
         "y": [
          -0.17576944821685958,
          -0.19685118011628078,
          -0.1621312539636356,
          -0.18293076317337642
         ]
        }
       ],
       "layout": {
        "legend": {
         "title": {
          "text": "Scores"
         }
        },
        "template": {
         "data": {
          "bar": [
           {
            "error_x": {
             "color": "rgb(36,36,36)"
            },
            "error_y": {
             "color": "rgb(36,36,36)"
            },
            "marker": {
             "line": {
              "color": "white",
              "width": 0.5
             },
             "pattern": {
              "fillmode": "overlay",
              "size": 10,
              "solidity": 0.2
             }
            },
            "type": "bar"
           }
          ],
          "barpolar": [
           {
            "marker": {
             "line": {
              "color": "white",
              "width": 0.5
             },
             "pattern": {
              "fillmode": "overlay",
              "size": 10,
              "solidity": 0.2
             }
            },
            "type": "barpolar"
           }
          ],
          "carpet": [
           {
            "aaxis": {
             "endlinecolor": "rgb(36,36,36)",
             "gridcolor": "white",
             "linecolor": "white",
             "minorgridcolor": "white",
             "startlinecolor": "rgb(36,36,36)"
            },
            "baxis": {
             "endlinecolor": "rgb(36,36,36)",
             "gridcolor": "white",
             "linecolor": "white",
             "minorgridcolor": "white",
             "startlinecolor": "rgb(36,36,36)"
            },
            "type": "carpet"
           }
          ],
          "choropleth": [
           {
            "colorbar": {
             "outlinewidth": 1,
             "tickcolor": "rgb(36,36,36)",
             "ticks": "outside"
            },
            "type": "choropleth"
           }
          ],
          "contour": [
           {
            "colorbar": {
             "outlinewidth": 1,
             "tickcolor": "rgb(36,36,36)",
             "ticks": "outside"
            },
            "colorscale": [
             [
              0,
              "#440154"
             ],
             [
              0.1111111111111111,
              "#482878"
             ],
             [
              0.2222222222222222,
              "#3e4989"
             ],
             [
              0.3333333333333333,
              "#31688e"
             ],
             [
              0.4444444444444444,
              "#26828e"
             ],
             [
              0.5555555555555556,
              "#1f9e89"
             ],
             [
              0.6666666666666666,
              "#35b779"
             ],
             [
              0.7777777777777778,
              "#6ece58"
             ],
             [
              0.8888888888888888,
              "#b5de2b"
             ],
             [
              1,
              "#fde725"
             ]
            ],
            "type": "contour"
           }
          ],
          "contourcarpet": [
           {
            "colorbar": {
             "outlinewidth": 1,
             "tickcolor": "rgb(36,36,36)",
             "ticks": "outside"
            },
            "type": "contourcarpet"
           }
          ],
          "heatmap": [
           {
            "colorbar": {
             "outlinewidth": 1,
             "tickcolor": "rgb(36,36,36)",
             "ticks": "outside"
            },
            "colorscale": [
             [
              0,
              "#440154"
             ],
             [
              0.1111111111111111,
              "#482878"
             ],
             [
              0.2222222222222222,
              "#3e4989"
             ],
             [
              0.3333333333333333,
              "#31688e"
             ],
             [
              0.4444444444444444,
              "#26828e"
             ],
             [
              0.5555555555555556,
              "#1f9e89"
             ],
             [
              0.6666666666666666,
              "#35b779"
             ],
             [
              0.7777777777777778,
              "#6ece58"
             ],
             [
              0.8888888888888888,
              "#b5de2b"
             ],
             [
              1,
              "#fde725"
             ]
            ],
            "type": "heatmap"
           }
          ],
          "heatmapgl": [
           {
            "colorbar": {
             "outlinewidth": 1,
             "tickcolor": "rgb(36,36,36)",
             "ticks": "outside"
            },
            "colorscale": [
             [
              0,
              "#440154"
             ],
             [
              0.1111111111111111,
              "#482878"
             ],
             [
              0.2222222222222222,
              "#3e4989"
             ],
             [
              0.3333333333333333,
              "#31688e"
             ],
             [
              0.4444444444444444,
              "#26828e"
             ],
             [
              0.5555555555555556,
              "#1f9e89"
             ],
             [
              0.6666666666666666,
              "#35b779"
             ],
             [
              0.7777777777777778,
              "#6ece58"
             ],
             [
              0.8888888888888888,
              "#b5de2b"
             ],
             [
              1,
              "#fde725"
             ]
            ],
            "type": "heatmapgl"
           }
          ],
          "histogram": [
           {
            "marker": {
             "line": {
              "color": "white",
              "width": 0.6
             }
            },
            "type": "histogram"
           }
          ],
          "histogram2d": [
           {
            "colorbar": {
             "outlinewidth": 1,
             "tickcolor": "rgb(36,36,36)",
             "ticks": "outside"
            },
            "colorscale": [
             [
              0,
              "#440154"
             ],
             [
              0.1111111111111111,
              "#482878"
             ],
             [
              0.2222222222222222,
              "#3e4989"
             ],
             [
              0.3333333333333333,
              "#31688e"
             ],
             [
              0.4444444444444444,
              "#26828e"
             ],
             [
              0.5555555555555556,
              "#1f9e89"
             ],
             [
              0.6666666666666666,
              "#35b779"
             ],
             [
              0.7777777777777778,
              "#6ece58"
             ],
             [
              0.8888888888888888,
              "#b5de2b"
             ],
             [
              1,
              "#fde725"
             ]
            ],
            "type": "histogram2d"
           }
          ],
          "histogram2dcontour": [
           {
            "colorbar": {
             "outlinewidth": 1,
             "tickcolor": "rgb(36,36,36)",
             "ticks": "outside"
            },
            "colorscale": [
             [
              0,
              "#440154"
             ],
             [
              0.1111111111111111,
              "#482878"
             ],
             [
              0.2222222222222222,
              "#3e4989"
             ],
             [
              0.3333333333333333,
              "#31688e"
             ],
             [
              0.4444444444444444,
              "#26828e"
             ],
             [
              0.5555555555555556,
              "#1f9e89"
             ],
             [
              0.6666666666666666,
              "#35b779"
             ],
             [
              0.7777777777777778,
              "#6ece58"
             ],
             [
              0.8888888888888888,
              "#b5de2b"
             ],
             [
              1,
              "#fde725"
             ]
            ],
            "type": "histogram2dcontour"
           }
          ],
          "mesh3d": [
           {
            "colorbar": {
             "outlinewidth": 1,
             "tickcolor": "rgb(36,36,36)",
             "ticks": "outside"
            },
            "type": "mesh3d"
           }
          ],
          "parcoords": [
           {
            "line": {
             "colorbar": {
              "outlinewidth": 1,
              "tickcolor": "rgb(36,36,36)",
              "ticks": "outside"
             }
            },
            "type": "parcoords"
           }
          ],
          "pie": [
           {
            "automargin": true,
            "type": "pie"
           }
          ],
          "scatter": [
           {
            "fillpattern": {
             "fillmode": "overlay",
             "size": 10,
             "solidity": 0.2
            },
            "type": "scatter"
           }
          ],
          "scatter3d": [
           {
            "line": {
             "colorbar": {
              "outlinewidth": 1,
              "tickcolor": "rgb(36,36,36)",
              "ticks": "outside"
             }
            },
            "marker": {
             "colorbar": {
              "outlinewidth": 1,
              "tickcolor": "rgb(36,36,36)",
              "ticks": "outside"
             }
            },
            "type": "scatter3d"
           }
          ],
          "scattercarpet": [
           {
            "marker": {
             "colorbar": {
              "outlinewidth": 1,
              "tickcolor": "rgb(36,36,36)",
              "ticks": "outside"
             }
            },
            "type": "scattercarpet"
           }
          ],
          "scattergeo": [
           {
            "marker": {
             "colorbar": {
              "outlinewidth": 1,
              "tickcolor": "rgb(36,36,36)",
              "ticks": "outside"
             }
            },
            "type": "scattergeo"
           }
          ],
          "scattergl": [
           {
            "marker": {
             "colorbar": {
              "outlinewidth": 1,
              "tickcolor": "rgb(36,36,36)",
              "ticks": "outside"
             }
            },
            "type": "scattergl"
           }
          ],
          "scattermapbox": [
           {
            "marker": {
             "colorbar": {
              "outlinewidth": 1,
              "tickcolor": "rgb(36,36,36)",
              "ticks": "outside"
             }
            },
            "type": "scattermapbox"
           }
          ],
          "scatterpolar": [
           {
            "marker": {
             "colorbar": {
              "outlinewidth": 1,
              "tickcolor": "rgb(36,36,36)",
              "ticks": "outside"
             }
            },
            "type": "scatterpolar"
           }
          ],
          "scatterpolargl": [
           {
            "marker": {
             "colorbar": {
              "outlinewidth": 1,
              "tickcolor": "rgb(36,36,36)",
              "ticks": "outside"
             }
            },
            "type": "scatterpolargl"
           }
          ],
          "scatterternary": [
           {
            "marker": {
             "colorbar": {
              "outlinewidth": 1,
              "tickcolor": "rgb(36,36,36)",
              "ticks": "outside"
             }
            },
            "type": "scatterternary"
           }
          ],
          "surface": [
           {
            "colorbar": {
             "outlinewidth": 1,
             "tickcolor": "rgb(36,36,36)",
             "ticks": "outside"
            },
            "colorscale": [
             [
              0,
              "#440154"
             ],
             [
              0.1111111111111111,
              "#482878"
             ],
             [
              0.2222222222222222,
              "#3e4989"
             ],
             [
              0.3333333333333333,
              "#31688e"
             ],
             [
              0.4444444444444444,
              "#26828e"
             ],
             [
              0.5555555555555556,
              "#1f9e89"
             ],
             [
              0.6666666666666666,
              "#35b779"
             ],
             [
              0.7777777777777778,
              "#6ece58"
             ],
             [
              0.8888888888888888,
              "#b5de2b"
             ],
             [
              1,
              "#fde725"
             ]
            ],
            "type": "surface"
           }
          ],
          "table": [
           {
            "cells": {
             "fill": {
              "color": "rgb(237,237,237)"
             },
             "line": {
              "color": "white"
             }
            },
            "header": {
             "fill": {
              "color": "rgb(217,217,217)"
             },
             "line": {
              "color": "white"
             }
            },
            "type": "table"
           }
          ]
         },
         "layout": {
          "annotationdefaults": {
           "arrowhead": 0,
           "arrowwidth": 1
          },
          "autotypenumbers": "strict",
          "coloraxis": {
           "colorbar": {
            "outlinewidth": 1,
            "tickcolor": "rgb(36,36,36)",
            "ticks": "outside"
           }
          },
          "colorscale": {
           "diverging": [
            [
             0,
             "rgb(103,0,31)"
            ],
            [
             0.1,
             "rgb(178,24,43)"
            ],
            [
             0.2,
             "rgb(214,96,77)"
            ],
            [
             0.3,
             "rgb(244,165,130)"
            ],
            [
             0.4,
             "rgb(253,219,199)"
            ],
            [
             0.5,
             "rgb(247,247,247)"
            ],
            [
             0.6,
             "rgb(209,229,240)"
            ],
            [
             0.7,
             "rgb(146,197,222)"
            ],
            [
             0.8,
             "rgb(67,147,195)"
            ],
            [
             0.9,
             "rgb(33,102,172)"
            ],
            [
             1,
             "rgb(5,48,97)"
            ]
           ],
           "sequential": [
            [
             0,
             "#440154"
            ],
            [
             0.1111111111111111,
             "#482878"
            ],
            [
             0.2222222222222222,
             "#3e4989"
            ],
            [
             0.3333333333333333,
             "#31688e"
            ],
            [
             0.4444444444444444,
             "#26828e"
            ],
            [
             0.5555555555555556,
             "#1f9e89"
            ],
            [
             0.6666666666666666,
             "#35b779"
            ],
            [
             0.7777777777777778,
             "#6ece58"
            ],
            [
             0.8888888888888888,
             "#b5de2b"
            ],
            [
             1,
             "#fde725"
            ]
           ],
           "sequentialminus": [
            [
             0,
             "#440154"
            ],
            [
             0.1111111111111111,
             "#482878"
            ],
            [
             0.2222222222222222,
             "#3e4989"
            ],
            [
             0.3333333333333333,
             "#31688e"
            ],
            [
             0.4444444444444444,
             "#26828e"
            ],
            [
             0.5555555555555556,
             "#1f9e89"
            ],
            [
             0.6666666666666666,
             "#35b779"
            ],
            [
             0.7777777777777778,
             "#6ece58"
            ],
            [
             0.8888888888888888,
             "#b5de2b"
            ],
            [
             1,
             "#fde725"
            ]
           ]
          },
          "colorway": [
           "#1F77B4",
           "#FF7F0E",
           "#2CA02C",
           "#D62728",
           "#9467BD",
           "#8C564B",
           "#E377C2",
           "#7F7F7F",
           "#BCBD22",
           "#17BECF"
          ],
          "font": {
           "color": "rgb(36,36,36)"
          },
          "geo": {
           "bgcolor": "white",
           "lakecolor": "white",
           "landcolor": "white",
           "showlakes": true,
           "showland": true,
           "subunitcolor": "white"
          },
          "hoverlabel": {
           "align": "left"
          },
          "hovermode": "closest",
          "mapbox": {
           "style": "light"
          },
          "paper_bgcolor": "white",
          "plot_bgcolor": "white",
          "polar": {
           "angularaxis": {
            "gridcolor": "rgb(232,232,232)",
            "linecolor": "rgb(36,36,36)",
            "showgrid": false,
            "showline": true,
            "ticks": "outside"
           },
           "bgcolor": "white",
           "radialaxis": {
            "gridcolor": "rgb(232,232,232)",
            "linecolor": "rgb(36,36,36)",
            "showgrid": false,
            "showline": true,
            "ticks": "outside"
           }
          },
          "scene": {
           "xaxis": {
            "backgroundcolor": "white",
            "gridcolor": "rgb(232,232,232)",
            "gridwidth": 2,
            "linecolor": "rgb(36,36,36)",
            "showbackground": true,
            "showgrid": false,
            "showline": true,
            "ticks": "outside",
            "zeroline": false,
            "zerolinecolor": "rgb(36,36,36)"
           },
           "yaxis": {
            "backgroundcolor": "white",
            "gridcolor": "rgb(232,232,232)",
            "gridwidth": 2,
            "linecolor": "rgb(36,36,36)",
            "showbackground": true,
            "showgrid": false,
            "showline": true,
            "ticks": "outside",
            "zeroline": false,
            "zerolinecolor": "rgb(36,36,36)"
           },
           "zaxis": {
            "backgroundcolor": "white",
            "gridcolor": "rgb(232,232,232)",
            "gridwidth": 2,
            "linecolor": "rgb(36,36,36)",
            "showbackground": true,
            "showgrid": false,
            "showline": true,
            "ticks": "outside",
            "zeroline": false,
            "zerolinecolor": "rgb(36,36,36)"
           }
          },
          "shapedefaults": {
           "fillcolor": "black",
           "line": {
            "width": 0
           },
           "opacity": 0.3
          },
          "ternary": {
           "aaxis": {
            "gridcolor": "rgb(232,232,232)",
            "linecolor": "rgb(36,36,36)",
            "showgrid": false,
            "showline": true,
            "ticks": "outside"
           },
           "baxis": {
            "gridcolor": "rgb(232,232,232)",
            "linecolor": "rgb(36,36,36)",
            "showgrid": false,
            "showline": true,
            "ticks": "outside"
           },
           "bgcolor": "white",
           "caxis": {
            "gridcolor": "rgb(232,232,232)",
            "linecolor": "rgb(36,36,36)",
            "showgrid": false,
            "showline": true,
            "ticks": "outside"
           }
          },
          "title": {
           "x": 0.05
          },
          "xaxis": {
           "automargin": true,
           "gridcolor": "rgb(232,232,232)",
           "linecolor": "rgb(36,36,36)",
           "showgrid": false,
           "showline": true,
           "ticks": "outside",
           "title": {
            "standoff": 15
           },
           "zeroline": false,
           "zerolinecolor": "rgb(36,36,36)"
          },
          "yaxis": {
           "automargin": true,
           "gridcolor": "rgb(232,232,232)",
           "linecolor": "rgb(36,36,36)",
           "showgrid": false,
           "showline": true,
           "ticks": "outside",
           "title": {
            "standoff": 15
           },
           "zeroline": false,
           "zerolinecolor": "rgb(36,36,36)"
          }
         }
        },
        "xaxis": {
         "title": {
          "text": "Analysis index"
         }
        },
        "yaxis": {
         "title": {
          "text": "Score / U.A."
         }
        }
       }
      }
     },
     "metadata": {},
     "output_type": "display_data"
    }
   ],
   "source": [
    "ana.add_prediction(add_outliers = False)\n",
    "ana.plot_scores()"
   ]
  },
  {
   "cell_type": "code",
   "execution_count": 5,
   "metadata": {},
   "outputs": [
    {
     "name": "stdout",
     "output_type": "stream",
     "text": [
      "   outlier     score\n",
      "0    False  0.042166\n",
      "1    False -0.019996\n",
      "2    False -0.073318\n",
      "3    False -0.002089\n"
     ]
    },
    {
     "data": {
      "application/vnd.plotly.v1+json": {
       "config": {
        "plotlyServerURL": "https://plot.ly"
       },
       "data": [
        {
         "hovertemplate": [
          "<b>index: </b>17<br><b>name: </b>210812_Pac--005<br><b>path: </b>D:/ExtractedSignals\\210812_Pac 2021-08-12 10-30-07\\210812_Pac--005.D<br><b>batch: </b>210812_Pac 2021-08-12 10-30-07<br><b>batch_position: </b>5<br><b>idle_time: </b>279.0<br><b>sample: </b>NaCl 0,9%<br><b>method: </b>SAA_411_Pac.M<br><b>timestamp: </b>2021-08-12 10:50:23<br><b>detector: </b>G1315C<br><b>pump: </b>G7110B<br><b>start_time: </b>2021-08-12 10:50:57<br><b>end_time: </b>2021-08-12 10:54:57<br><b>runtime: </b>239.7000000000036",
          "<b>index: </b>18<br><b>name: </b>210812_Pac--006<br><b>path: </b>D:/ExtractedSignals\\210812_Pac 2021-08-12 10-30-07\\210812_Pac--006.D<br><b>batch: </b>210812_Pac 2021-08-12 10-30-07<br><b>batch_position: </b>6<br><b>idle_time: </b>279.0<br><b>sample: </b>Blank<br><b>method: </b>SAA_411_Pac.M<br><b>timestamp: </b>2021-08-12 10:55:02<br><b>detector: </b>G1315C<br><b>pump: </b>G7110B<br><b>start_time: </b>2021-08-12 10:55:36<br><b>end_time: </b>2021-08-12 10:59:36<br><b>runtime: </b>239.7000000000036",
          "<b>index: </b>19<br><b>name: </b>210812_Pac--007<br><b>path: </b>D:/ExtractedSignals\\210812_Pac 2021-08-12 10-30-07\\210812_Pac--007.D<br><b>batch: </b>210812_Pac 2021-08-12 10-30-07<br><b>batch_position: </b>7<br><b>idle_time: </b>279.0<br><b>sample: </b>0.025 mg/ml<br><b>method: </b>SAA_411_Pac.M<br><b>timestamp: </b>2021-08-12 10:59:41<br><b>detector: </b>G1315C<br><b>pump: </b>G7110B<br><b>start_time: </b>2021-08-12 11:00:15<br><b>end_time: </b>2021-08-12 11:04:15<br><b>runtime: </b>239.7000000000036",
          "<b>index: </b>20<br><b>name: </b>210812_Pac--008<br><b>path: </b>D:/ExtractedSignals\\210812_Pac 2021-08-12 10-30-07\\210812_Pac--008.D<br><b>batch: </b>210812_Pac 2021-08-12 10-30-07<br><b>batch_position: </b>8<br><b>idle_time: </b>279.0<br><b>sample: </b>Blank<br><b>method: </b>SAA_411_Pac.M<br><b>timestamp: </b>2021-08-12 11:04:20<br><b>detector: </b>G1315C<br><b>pump: </b>G7110B<br><b>start_time: </b>2021-08-12 11:04:54<br><b>end_time: </b>2021-08-12 11:08:54<br><b>runtime: </b>239.7000000000036",
          "<b>index: </b>21<br><b>name: </b>210812_Pac--009<br><b>path: </b>D:/ExtractedSignals\\210812_Pac 2021-08-12 10-30-07\\210812_Pac--009.D<br><b>batch: </b>210812_Pac 2021-08-12 10-30-07<br><b>batch_position: </b>9<br><b>idle_time: </b>279.0<br><b>sample: </b>210806/036 :10<br><b>method: </b>SAA_411_Pac.M<br><b>timestamp: </b>2021-08-12 11:08:59<br><b>detector: </b>G1315C<br><b>pump: </b>G7110B<br><b>start_time: </b>2021-08-12 11:09:32<br><b>end_time: </b>2021-08-12 11:13:32<br><b>runtime: </b>239.7000000000036",
          "<b>index: </b>22<br><b>name: </b>210812_Pac--010<br><b>path: </b>D:/ExtractedSignals\\210812_Pac 2021-08-12 10-30-07\\210812_Pac--010.D<br><b>batch: </b>210812_Pac 2021-08-12 10-30-07<br><b>batch_position: </b>10<br><b>idle_time: </b>278.0<br><b>sample: </b>210806/036 :10<br><b>method: </b>SAA_411_Pac.M<br><b>timestamp: </b>2021-08-12 11:13:37<br><b>detector: </b>G7110B<br><b>pump: </b>G7110B<br><b>start_time: </b>2021-08-12 11:14:11<br><b>end_time: </b>2021-08-12 11:18:11<br><b>runtime: </b>239.7000000000036",
          "<b>index: </b>23<br><b>name: </b>210812_Pac--011<br><b>path: </b>D:/ExtractedSignals\\210812_Pac 2021-08-12 10-30-07\\210812_Pac--011.D<br><b>batch: </b>210812_Pac 2021-08-12 10-30-07<br><b>batch_position: </b>11<br><b>idle_time: </b>279.0<br><b>sample: </b>210806/036 :10<br><b>method: </b>SAA_411_Pac.M<br><b>timestamp: </b>2021-08-12 11:18:16<br><b>detector: </b>G7110B<br><b>pump: </b>G7110B<br><b>start_time: </b>2021-08-12 11:18:50<br><b>end_time: </b>2021-08-12 11:22:50<br><b>runtime: </b>239.7000000000036",
          "<b>index: </b>24<br><b>name: </b>210812_Pac--012<br><b>path: </b>D:/ExtractedSignals\\210812_Pac 2021-08-12 10-30-07\\210812_Pac--012.D<br><b>batch: </b>210812_Pac 2021-08-12 10-30-07<br><b>batch_position: </b>12<br><b>idle_time: </b>279.0<br><b>sample: </b>Blank<br><b>method: </b>SAA_411_Pac.M<br><b>timestamp: </b>2021-08-12 11:22:55<br><b>detector: </b>G1315C<br><b>pump: </b>G7110B<br><b>start_time: </b>2021-08-12 11:23:29<br><b>end_time: </b>2021-08-12 11:27:29<br><b>runtime: </b>239.7000000000036",
          "<b>index: </b>25<br><b>name: </b>210812_Pac--013<br><b>path: </b>D:/ExtractedSignals\\210812_Pac 2021-08-12 10-30-07\\210812_Pac--013.D<br><b>batch: </b>210812_Pac 2021-08-12 10-30-07<br><b>batch_position: </b>13<br><b>idle_time: </b>279.0<br><b>sample: </b>0.025 mg/ml<br><b>method: </b>SAA_411_Pac.M<br><b>timestamp: </b>2021-08-12 11:27:34<br><b>detector: </b>G1315C<br><b>pump: </b>G7110B<br><b>start_time: </b>2021-08-12 11:28:08<br><b>end_time: </b>2021-08-12 11:32:08<br><b>runtime: </b>239.7000000000036",
          "<b>index: </b>26<br><b>name: </b>210812_Pac--014<br><b>path: </b>D:/ExtractedSignals\\210812_Pac 2021-08-12 10-30-07\\210812_Pac--014.D<br><b>batch: </b>210812_Pac 2021-08-12 10-30-07<br><b>batch_position: </b>14<br><b>idle_time: </b>279.0<br><b>sample: </b>Blank<br><b>method: </b>SAA_411_Pac.M<br><b>timestamp: </b>2021-08-12 11:32:13<br><b>detector: </b>G7110B<br><b>pump: </b>G7110B<br><b>start_time: </b>2021-08-12 11:32:46<br><b>end_time: </b>2021-08-12 11:36:47<br><b>runtime: </b>239.7000000000036",
          "<b>index: </b>85<br><b>name: </b>210813_Pac--003<br><b>path: </b>D:/ExtractedSignals\\210813_Pac 2021-08-13 10-37-27\\210813_Pac--003.D<br><b>batch: </b>210813_Pac 2021-08-13 10-37-27<br><b>batch_position: </b>3<br><b>idle_time: </b>278.0<br><b>sample: </b>Blank<br><b>method: </b>SAA_411_Pac.M<br><b>timestamp: </b>2021-08-13 10:48:34<br><b>detector: </b>G1315C<br><b>pump: </b>G7116B<br><b>start_time: </b>2021-08-13 10:49:08<br><b>end_time: </b>2021-08-13 10:53:08<br><b>runtime: </b>239.7000000000036",
          "<b>index: </b>86<br><b>name: </b>210813_Pac--004<br><b>path: </b>D:/ExtractedSignals\\210813_Pac 2021-08-13 10-37-27\\210813_Pac--004.D<br><b>batch: </b>210813_Pac 2021-08-13 10-37-27<br><b>batch_position: </b>4<br><b>idle_time: </b>279.0<br><b>sample: </b>Blank<br><b>method: </b>SAA_411_Pac.M<br><b>timestamp: </b>2021-08-13 10:53:13<br><b>detector: </b>G1315C<br><b>pump: </b>G7110B<br><b>start_time: </b>2021-08-13 10:53:47<br><b>end_time: </b>2021-08-13 10:57:47<br><b>runtime: </b>239.7000000000036",
          "<b>index: </b>87<br><b>name: </b>210813_Pac--005<br><b>path: </b>D:/ExtractedSignals\\210813_Pac 2021-08-13 10-37-27\\210813_Pac--005.D<br><b>batch: </b>210813_Pac 2021-08-13 10-37-27<br><b>batch_position: </b>5<br><b>idle_time: </b>279.0<br><b>sample: </b>NaCl 0,9%<br><b>method: </b>SAA_411_Pac.M<br><b>timestamp: </b>2021-08-13 10:57:52<br><b>detector: </b>G7110B<br><b>pump: </b>G7110B<br><b>start_time: </b>2021-08-13 10:58:26<br><b>end_time: </b>2021-08-13 11:02:27<br><b>runtime: </b>239.7000000000036",
          "<b>index: </b>88<br><b>name: </b>210813_Pac--006<br><b>path: </b>D:/ExtractedSignals\\210813_Pac 2021-08-13 10-37-27\\210813_Pac--006.D<br><b>batch: </b>210813_Pac 2021-08-13 10-37-27<br><b>batch_position: </b>6<br><b>idle_time: </b>279.0<br><b>sample: </b>Blank<br><b>method: </b>SAA_411_Pac.M<br><b>timestamp: </b>2021-08-13 11:02:31<br><b>detector: </b>G1315C<br><b>pump: </b>G7110B<br><b>start_time: </b>2021-08-13 11:03:05<br><b>end_time: </b>2021-08-13 11:07:06<br><b>runtime: </b>239.7000000000036",
          "<b>index: </b>89<br><b>name: </b>210813_Pac--007<br><b>path: </b>D:/ExtractedSignals\\210813_Pac 2021-08-13 10-37-27\\210813_Pac--007.D<br><b>batch: </b>210813_Pac 2021-08-13 10-37-27<br><b>batch_position: </b>7<br><b>idle_time: </b>279.0<br><b>sample: </b>0.025 mg/ml<br><b>method: </b>SAA_411_Pac.M<br><b>timestamp: </b>2021-08-13 11:07:10<br><b>detector: </b>G1315C<br><b>pump: </b>G7116B<br><b>start_time: </b>2021-08-13 11:07:44<br><b>end_time: </b>2021-08-13 11:11:45<br><b>runtime: </b>239.7000000000036",
          "<b>index: </b>90<br><b>name: </b>210813_Pac--008<br><b>path: </b>D:/ExtractedSignals\\210813_Pac 2021-08-13 10-37-27\\210813_Pac--008.D<br><b>batch: </b>210813_Pac 2021-08-13 10-37-27<br><b>batch_position: </b>8<br><b>idle_time: </b>279.0<br><b>sample: </b>Blank<br><b>method: </b>SAA_411_Pac.M<br><b>timestamp: </b>2021-08-13 11:11:49<br><b>detector: </b>G1315C<br><b>pump: </b>G7110B<br><b>start_time: </b>2021-08-13 11:12:23<br><b>end_time: </b>2021-08-13 11:16:23<br><b>runtime: </b>239.7000000000036",
          "<b>index: </b>91<br><b>name: </b>210813_Pac--009<br><b>path: </b>D:/ExtractedSignals\\210813_Pac 2021-08-13 10-37-27\\210813_Pac--009.D<br><b>batch: </b>210813_Pac 2021-08-13 10-37-27<br><b>batch_position: </b>9<br><b>idle_time: </b>279.0<br><b>sample: </b>210812/004 :20<br><b>method: </b>SAA_411_Pac.M<br><b>timestamp: </b>2021-08-13 11:16:28<br><b>detector: </b>G1315C<br><b>pump: </b>G7110B<br><b>start_time: </b>2021-08-13 11:17:02<br><b>end_time: </b>2021-08-13 11:21:03<br><b>runtime: </b>239.7000000000036",
          "<b>index: </b>92<br><b>name: </b>210813_Pac--010<br><b>path: </b>D:/ExtractedSignals\\210813_Pac 2021-08-13 10-37-27\\210813_Pac--010.D<br><b>batch: </b>210813_Pac 2021-08-13 10-37-27<br><b>batch_position: </b>10<br><b>idle_time: </b>280.0<br><b>sample: </b>210812/004 :20<br><b>method: </b>SAA_411_Pac.M<br><b>timestamp: </b>2021-08-13 11:21:08<br><b>detector: </b>G1315C<br><b>pump: </b>G7110B<br><b>start_time: </b>2021-08-13 11:21:41<br><b>end_time: </b>2021-08-13 11:25:42<br><b>runtime: </b>239.7000000000036",
          "<b>index: </b>93<br><b>name: </b>210813_Pac--011<br><b>path: </b>D:/ExtractedSignals\\210813_Pac 2021-08-13 10-37-27\\210813_Pac--011.D<br><b>batch: </b>210813_Pac 2021-08-13 10-37-27<br><b>batch_position: </b>11<br><b>idle_time: </b>278.0<br><b>sample: </b>210812/004 :20<br><b>method: </b>SAA_411_Pac.M<br><b>timestamp: </b>2021-08-13 11:25:46<br><b>detector: </b>G1315C<br><b>pump: </b>G7110B<br><b>start_time: </b>2021-08-13 11:26:21<br><b>end_time: </b>2021-08-13 11:30:21<br><b>runtime: </b>239.7000000000036",
          "<b>index: </b>94<br><b>name: </b>210813_Pac--012<br><b>path: </b>D:/ExtractedSignals\\210813_Pac 2021-08-13 10-37-27\\210813_Pac--012.D<br><b>batch: </b>210813_Pac 2021-08-13 10-37-27<br><b>batch_position: </b>12<br><b>idle_time: </b>280.0<br><b>sample: </b>Blank<br><b>method: </b>SAA_411_Pac.M<br><b>timestamp: </b>2021-08-13 11:30:26<br><b>detector: </b>G1315C<br><b>pump: </b>G7110B<br><b>start_time: </b>2021-08-13 11:30:59<br><b>end_time: </b>2021-08-13 11:34:59<br><b>runtime: </b>239.7000000000036",
          "<b>index: </b>95<br><b>name: </b>210813_Pac--013<br><b>path: </b>D:/ExtractedSignals\\210813_Pac 2021-08-13 10-37-27\\210813_Pac--013.D<br><b>batch: </b>210813_Pac 2021-08-13 10-37-27<br><b>batch_position: </b>13<br><b>idle_time: </b>278.0<br><b>sample: </b>0.025 mg/ml<br><b>method: </b>SAA_411_Pac.M<br><b>timestamp: </b>2021-08-13 11:35:04<br><b>detector: </b>G1315C<br><b>pump: </b>G7110B<br><b>start_time: </b>2021-08-13 11:35:38<br><b>end_time: </b>2021-08-13 11:39:38<br><b>runtime: </b>239.7000000000036",
          "<b>index: </b>96<br><b>name: </b>210813_Pac--014<br><b>path: </b>D:/ExtractedSignals\\210813_Pac 2021-08-13 10-37-27\\210813_Pac--014.D<br><b>batch: </b>210813_Pac 2021-08-13 10-37-27<br><b>batch_position: </b>14<br><b>idle_time: </b>279.0<br><b>sample: </b>Blank<br><b>method: </b>SAA_411_Pac.M<br><b>timestamp: </b>2021-08-13 11:39:43<br><b>detector: </b>G1315C<br><b>pump: </b>G7110B<br><b>start_time: </b>2021-08-13 11:40:16<br><b>end_time: </b>2021-08-13 11:44:17<br><b>runtime: </b>239.7000000000036"
         ],
         "legendgroup": "Train",
         "line": {
          "color": "black"
         },
         "marker": {
          "color": "black",
          "size": 10
         },
         "mode": "lines+markers",
         "name": "Train Scores",
         "text": [
          "<b>index: </b>17<br><b>name: </b>210812_Pac--005<br><b>path: </b>D:/ExtractedSignals\\210812_Pac 2021-08-12 10-30-07\\210812_Pac--005.D<br><b>batch: </b>210812_Pac 2021-08-12 10-30-07<br><b>batch_position: </b>5<br><b>idle_time: </b>279.0<br><b>sample: </b>NaCl 0,9%<br><b>method: </b>SAA_411_Pac.M<br><b>timestamp: </b>2021-08-12 10:50:23<br><b>detector: </b>G1315C<br><b>pump: </b>G7110B<br><b>start_time: </b>2021-08-12 10:50:57<br><b>end_time: </b>2021-08-12 10:54:57<br><b>runtime: </b>239.7000000000036",
          "<b>index: </b>18<br><b>name: </b>210812_Pac--006<br><b>path: </b>D:/ExtractedSignals\\210812_Pac 2021-08-12 10-30-07\\210812_Pac--006.D<br><b>batch: </b>210812_Pac 2021-08-12 10-30-07<br><b>batch_position: </b>6<br><b>idle_time: </b>279.0<br><b>sample: </b>Blank<br><b>method: </b>SAA_411_Pac.M<br><b>timestamp: </b>2021-08-12 10:55:02<br><b>detector: </b>G1315C<br><b>pump: </b>G7110B<br><b>start_time: </b>2021-08-12 10:55:36<br><b>end_time: </b>2021-08-12 10:59:36<br><b>runtime: </b>239.7000000000036",
          "<b>index: </b>19<br><b>name: </b>210812_Pac--007<br><b>path: </b>D:/ExtractedSignals\\210812_Pac 2021-08-12 10-30-07\\210812_Pac--007.D<br><b>batch: </b>210812_Pac 2021-08-12 10-30-07<br><b>batch_position: </b>7<br><b>idle_time: </b>279.0<br><b>sample: </b>0.025 mg/ml<br><b>method: </b>SAA_411_Pac.M<br><b>timestamp: </b>2021-08-12 10:59:41<br><b>detector: </b>G1315C<br><b>pump: </b>G7110B<br><b>start_time: </b>2021-08-12 11:00:15<br><b>end_time: </b>2021-08-12 11:04:15<br><b>runtime: </b>239.7000000000036",
          "<b>index: </b>20<br><b>name: </b>210812_Pac--008<br><b>path: </b>D:/ExtractedSignals\\210812_Pac 2021-08-12 10-30-07\\210812_Pac--008.D<br><b>batch: </b>210812_Pac 2021-08-12 10-30-07<br><b>batch_position: </b>8<br><b>idle_time: </b>279.0<br><b>sample: </b>Blank<br><b>method: </b>SAA_411_Pac.M<br><b>timestamp: </b>2021-08-12 11:04:20<br><b>detector: </b>G1315C<br><b>pump: </b>G7110B<br><b>start_time: </b>2021-08-12 11:04:54<br><b>end_time: </b>2021-08-12 11:08:54<br><b>runtime: </b>239.7000000000036",
          "<b>index: </b>21<br><b>name: </b>210812_Pac--009<br><b>path: </b>D:/ExtractedSignals\\210812_Pac 2021-08-12 10-30-07\\210812_Pac--009.D<br><b>batch: </b>210812_Pac 2021-08-12 10-30-07<br><b>batch_position: </b>9<br><b>idle_time: </b>279.0<br><b>sample: </b>210806/036 :10<br><b>method: </b>SAA_411_Pac.M<br><b>timestamp: </b>2021-08-12 11:08:59<br><b>detector: </b>G1315C<br><b>pump: </b>G7110B<br><b>start_time: </b>2021-08-12 11:09:32<br><b>end_time: </b>2021-08-12 11:13:32<br><b>runtime: </b>239.7000000000036",
          "<b>index: </b>22<br><b>name: </b>210812_Pac--010<br><b>path: </b>D:/ExtractedSignals\\210812_Pac 2021-08-12 10-30-07\\210812_Pac--010.D<br><b>batch: </b>210812_Pac 2021-08-12 10-30-07<br><b>batch_position: </b>10<br><b>idle_time: </b>278.0<br><b>sample: </b>210806/036 :10<br><b>method: </b>SAA_411_Pac.M<br><b>timestamp: </b>2021-08-12 11:13:37<br><b>detector: </b>G7110B<br><b>pump: </b>G7110B<br><b>start_time: </b>2021-08-12 11:14:11<br><b>end_time: </b>2021-08-12 11:18:11<br><b>runtime: </b>239.7000000000036",
          "<b>index: </b>23<br><b>name: </b>210812_Pac--011<br><b>path: </b>D:/ExtractedSignals\\210812_Pac 2021-08-12 10-30-07\\210812_Pac--011.D<br><b>batch: </b>210812_Pac 2021-08-12 10-30-07<br><b>batch_position: </b>11<br><b>idle_time: </b>279.0<br><b>sample: </b>210806/036 :10<br><b>method: </b>SAA_411_Pac.M<br><b>timestamp: </b>2021-08-12 11:18:16<br><b>detector: </b>G7110B<br><b>pump: </b>G7110B<br><b>start_time: </b>2021-08-12 11:18:50<br><b>end_time: </b>2021-08-12 11:22:50<br><b>runtime: </b>239.7000000000036",
          "<b>index: </b>24<br><b>name: </b>210812_Pac--012<br><b>path: </b>D:/ExtractedSignals\\210812_Pac 2021-08-12 10-30-07\\210812_Pac--012.D<br><b>batch: </b>210812_Pac 2021-08-12 10-30-07<br><b>batch_position: </b>12<br><b>idle_time: </b>279.0<br><b>sample: </b>Blank<br><b>method: </b>SAA_411_Pac.M<br><b>timestamp: </b>2021-08-12 11:22:55<br><b>detector: </b>G1315C<br><b>pump: </b>G7110B<br><b>start_time: </b>2021-08-12 11:23:29<br><b>end_time: </b>2021-08-12 11:27:29<br><b>runtime: </b>239.7000000000036",
          "<b>index: </b>25<br><b>name: </b>210812_Pac--013<br><b>path: </b>D:/ExtractedSignals\\210812_Pac 2021-08-12 10-30-07\\210812_Pac--013.D<br><b>batch: </b>210812_Pac 2021-08-12 10-30-07<br><b>batch_position: </b>13<br><b>idle_time: </b>279.0<br><b>sample: </b>0.025 mg/ml<br><b>method: </b>SAA_411_Pac.M<br><b>timestamp: </b>2021-08-12 11:27:34<br><b>detector: </b>G1315C<br><b>pump: </b>G7110B<br><b>start_time: </b>2021-08-12 11:28:08<br><b>end_time: </b>2021-08-12 11:32:08<br><b>runtime: </b>239.7000000000036",
          "<b>index: </b>26<br><b>name: </b>210812_Pac--014<br><b>path: </b>D:/ExtractedSignals\\210812_Pac 2021-08-12 10-30-07\\210812_Pac--014.D<br><b>batch: </b>210812_Pac 2021-08-12 10-30-07<br><b>batch_position: </b>14<br><b>idle_time: </b>279.0<br><b>sample: </b>Blank<br><b>method: </b>SAA_411_Pac.M<br><b>timestamp: </b>2021-08-12 11:32:13<br><b>detector: </b>G7110B<br><b>pump: </b>G7110B<br><b>start_time: </b>2021-08-12 11:32:46<br><b>end_time: </b>2021-08-12 11:36:47<br><b>runtime: </b>239.7000000000036",
          "<b>index: </b>85<br><b>name: </b>210813_Pac--003<br><b>path: </b>D:/ExtractedSignals\\210813_Pac 2021-08-13 10-37-27\\210813_Pac--003.D<br><b>batch: </b>210813_Pac 2021-08-13 10-37-27<br><b>batch_position: </b>3<br><b>idle_time: </b>278.0<br><b>sample: </b>Blank<br><b>method: </b>SAA_411_Pac.M<br><b>timestamp: </b>2021-08-13 10:48:34<br><b>detector: </b>G1315C<br><b>pump: </b>G7116B<br><b>start_time: </b>2021-08-13 10:49:08<br><b>end_time: </b>2021-08-13 10:53:08<br><b>runtime: </b>239.7000000000036",
          "<b>index: </b>86<br><b>name: </b>210813_Pac--004<br><b>path: </b>D:/ExtractedSignals\\210813_Pac 2021-08-13 10-37-27\\210813_Pac--004.D<br><b>batch: </b>210813_Pac 2021-08-13 10-37-27<br><b>batch_position: </b>4<br><b>idle_time: </b>279.0<br><b>sample: </b>Blank<br><b>method: </b>SAA_411_Pac.M<br><b>timestamp: </b>2021-08-13 10:53:13<br><b>detector: </b>G1315C<br><b>pump: </b>G7110B<br><b>start_time: </b>2021-08-13 10:53:47<br><b>end_time: </b>2021-08-13 10:57:47<br><b>runtime: </b>239.7000000000036",
          "<b>index: </b>87<br><b>name: </b>210813_Pac--005<br><b>path: </b>D:/ExtractedSignals\\210813_Pac 2021-08-13 10-37-27\\210813_Pac--005.D<br><b>batch: </b>210813_Pac 2021-08-13 10-37-27<br><b>batch_position: </b>5<br><b>idle_time: </b>279.0<br><b>sample: </b>NaCl 0,9%<br><b>method: </b>SAA_411_Pac.M<br><b>timestamp: </b>2021-08-13 10:57:52<br><b>detector: </b>G7110B<br><b>pump: </b>G7110B<br><b>start_time: </b>2021-08-13 10:58:26<br><b>end_time: </b>2021-08-13 11:02:27<br><b>runtime: </b>239.7000000000036",
          "<b>index: </b>88<br><b>name: </b>210813_Pac--006<br><b>path: </b>D:/ExtractedSignals\\210813_Pac 2021-08-13 10-37-27\\210813_Pac--006.D<br><b>batch: </b>210813_Pac 2021-08-13 10-37-27<br><b>batch_position: </b>6<br><b>idle_time: </b>279.0<br><b>sample: </b>Blank<br><b>method: </b>SAA_411_Pac.M<br><b>timestamp: </b>2021-08-13 11:02:31<br><b>detector: </b>G1315C<br><b>pump: </b>G7110B<br><b>start_time: </b>2021-08-13 11:03:05<br><b>end_time: </b>2021-08-13 11:07:06<br><b>runtime: </b>239.7000000000036",
          "<b>index: </b>89<br><b>name: </b>210813_Pac--007<br><b>path: </b>D:/ExtractedSignals\\210813_Pac 2021-08-13 10-37-27\\210813_Pac--007.D<br><b>batch: </b>210813_Pac 2021-08-13 10-37-27<br><b>batch_position: </b>7<br><b>idle_time: </b>279.0<br><b>sample: </b>0.025 mg/ml<br><b>method: </b>SAA_411_Pac.M<br><b>timestamp: </b>2021-08-13 11:07:10<br><b>detector: </b>G1315C<br><b>pump: </b>G7116B<br><b>start_time: </b>2021-08-13 11:07:44<br><b>end_time: </b>2021-08-13 11:11:45<br><b>runtime: </b>239.7000000000036",
          "<b>index: </b>90<br><b>name: </b>210813_Pac--008<br><b>path: </b>D:/ExtractedSignals\\210813_Pac 2021-08-13 10-37-27\\210813_Pac--008.D<br><b>batch: </b>210813_Pac 2021-08-13 10-37-27<br><b>batch_position: </b>8<br><b>idle_time: </b>279.0<br><b>sample: </b>Blank<br><b>method: </b>SAA_411_Pac.M<br><b>timestamp: </b>2021-08-13 11:11:49<br><b>detector: </b>G1315C<br><b>pump: </b>G7110B<br><b>start_time: </b>2021-08-13 11:12:23<br><b>end_time: </b>2021-08-13 11:16:23<br><b>runtime: </b>239.7000000000036",
          "<b>index: </b>91<br><b>name: </b>210813_Pac--009<br><b>path: </b>D:/ExtractedSignals\\210813_Pac 2021-08-13 10-37-27\\210813_Pac--009.D<br><b>batch: </b>210813_Pac 2021-08-13 10-37-27<br><b>batch_position: </b>9<br><b>idle_time: </b>279.0<br><b>sample: </b>210812/004 :20<br><b>method: </b>SAA_411_Pac.M<br><b>timestamp: </b>2021-08-13 11:16:28<br><b>detector: </b>G1315C<br><b>pump: </b>G7110B<br><b>start_time: </b>2021-08-13 11:17:02<br><b>end_time: </b>2021-08-13 11:21:03<br><b>runtime: </b>239.7000000000036",
          "<b>index: </b>92<br><b>name: </b>210813_Pac--010<br><b>path: </b>D:/ExtractedSignals\\210813_Pac 2021-08-13 10-37-27\\210813_Pac--010.D<br><b>batch: </b>210813_Pac 2021-08-13 10-37-27<br><b>batch_position: </b>10<br><b>idle_time: </b>280.0<br><b>sample: </b>210812/004 :20<br><b>method: </b>SAA_411_Pac.M<br><b>timestamp: </b>2021-08-13 11:21:08<br><b>detector: </b>G1315C<br><b>pump: </b>G7110B<br><b>start_time: </b>2021-08-13 11:21:41<br><b>end_time: </b>2021-08-13 11:25:42<br><b>runtime: </b>239.7000000000036",
          "<b>index: </b>93<br><b>name: </b>210813_Pac--011<br><b>path: </b>D:/ExtractedSignals\\210813_Pac 2021-08-13 10-37-27\\210813_Pac--011.D<br><b>batch: </b>210813_Pac 2021-08-13 10-37-27<br><b>batch_position: </b>11<br><b>idle_time: </b>278.0<br><b>sample: </b>210812/004 :20<br><b>method: </b>SAA_411_Pac.M<br><b>timestamp: </b>2021-08-13 11:25:46<br><b>detector: </b>G1315C<br><b>pump: </b>G7110B<br><b>start_time: </b>2021-08-13 11:26:21<br><b>end_time: </b>2021-08-13 11:30:21<br><b>runtime: </b>239.7000000000036",
          "<b>index: </b>94<br><b>name: </b>210813_Pac--012<br><b>path: </b>D:/ExtractedSignals\\210813_Pac 2021-08-13 10-37-27\\210813_Pac--012.D<br><b>batch: </b>210813_Pac 2021-08-13 10-37-27<br><b>batch_position: </b>12<br><b>idle_time: </b>280.0<br><b>sample: </b>Blank<br><b>method: </b>SAA_411_Pac.M<br><b>timestamp: </b>2021-08-13 11:30:26<br><b>detector: </b>G1315C<br><b>pump: </b>G7110B<br><b>start_time: </b>2021-08-13 11:30:59<br><b>end_time: </b>2021-08-13 11:34:59<br><b>runtime: </b>239.7000000000036",
          "<b>index: </b>95<br><b>name: </b>210813_Pac--013<br><b>path: </b>D:/ExtractedSignals\\210813_Pac 2021-08-13 10-37-27\\210813_Pac--013.D<br><b>batch: </b>210813_Pac 2021-08-13 10-37-27<br><b>batch_position: </b>13<br><b>idle_time: </b>278.0<br><b>sample: </b>0.025 mg/ml<br><b>method: </b>SAA_411_Pac.M<br><b>timestamp: </b>2021-08-13 11:35:04<br><b>detector: </b>G1315C<br><b>pump: </b>G7110B<br><b>start_time: </b>2021-08-13 11:35:38<br><b>end_time: </b>2021-08-13 11:39:38<br><b>runtime: </b>239.7000000000036",
          "<b>index: </b>96<br><b>name: </b>210813_Pac--014<br><b>path: </b>D:/ExtractedSignals\\210813_Pac 2021-08-13 10-37-27\\210813_Pac--014.D<br><b>batch: </b>210813_Pac 2021-08-13 10-37-27<br><b>batch_position: </b>14<br><b>idle_time: </b>279.0<br><b>sample: </b>Blank<br><b>method: </b>SAA_411_Pac.M<br><b>timestamp: </b>2021-08-13 11:39:43<br><b>detector: </b>G1315C<br><b>pump: </b>G7110B<br><b>start_time: </b>2021-08-13 11:40:16<br><b>end_time: </b>2021-08-13 11:44:17<br><b>runtime: </b>239.7000000000036"
         ],
         "type": "scatter",
         "x": [
          0,
          1,
          2,
          3,
          4,
          5,
          6,
          7,
          8,
          9,
          10,
          11,
          12,
          13,
          14,
          15,
          16,
          17,
          18,
          19,
          20,
          21
         ],
         "y": [
          0.025484862178554002,
          0.046326555405522774,
          0.04765187266852339,
          0.026922619153966987,
          0.035136048167465905,
          -0.08736275278150396,
          0.05185546197274926,
          0.02441818953122371,
          0.04516955095984948,
          0.06890765177517594,
          -0.002420807726131402,
          0.06658240335315624,
          0.0629607995617335,
          0.030101517955656687,
          -0.09540899709605788,
          0.050831603623162414,
          0.023756901578036116,
          0.06716937396102113,
          0.02178726953518234,
          0.06296727683523984,
          0.058093409708941335,
          0.031984832511636196
         ]
        },
        {
         "legendgroup": "Threshold",
         "line": {
          "color": "red",
          "dash": "dash"
         },
         "mode": "lines",
         "name": "Threshold",
         "type": "scatter",
         "x": [
          0,
          21
         ],
         "y": [
          -0.09725260822470204,
          -0.09725260822470204
         ]
        },
        {
         "hovertemplate": [
          "<b>index: </b>309<br><b>name: </b>210910_Pac--011<br><b>path: </b>D:/ExtractedSignals\\210910_Pac 2021-09-10 14-25-54\\210910_Pac--011.D<br><b>batch: </b>210910_Pac 2021-09-10 14-25-54<br><b>batch_position: </b>11<br><b>idle_time: </b>278.0<br><b>sample: </b>210903/021 :10<br><b>method: </b>SAA_411_Pac.M<br><b>timestamp: </b>2021-09-10 15:13:50<br><b>detector: </b>G1315C<br><b>pump: </b>G7110B<br><b>start_time: </b>2021-09-10 15:14:22<br><b>end_time: </b>2021-09-10 15:18:23<br><b>runtime: </b>239.7000000000036",
          "<b>index: </b>310<br><b>name: </b>210910_Pac--012<br><b>path: </b>D:/ExtractedSignals\\210910_Pac 2021-09-10 14-25-54\\210910_Pac--012.D<br><b>batch: </b>210910_Pac 2021-09-10 14-25-54<br><b>batch_position: </b>12<br><b>idle_time: </b>278.0<br><b>sample: </b>Blank<br><b>method: </b>SAA_411_Pac.M<br><b>timestamp: </b>2021-09-10 15:18:28<br><b>detector: </b>G1315C<br><b>pump: </b>G7110B<br><b>start_time: </b>2021-09-10 15:19:00<br><b>end_time: </b>2021-09-10 15:23:01<br><b>runtime: </b>239.7000000000036",
          "<b>index: </b>311<br><b>name: </b>210910_Pac--013<br><b>path: </b>D:/ExtractedSignals\\210910_Pac 2021-09-10 14-25-54\\210910_Pac--013.D<br><b>batch: </b>210910_Pac 2021-09-10 14-25-54<br><b>batch_position: </b>13<br><b>idle_time: </b>278.0<br><b>sample: </b>0.025 mg/ml<br><b>method: </b>SAA_411_Pac.M<br><b>timestamp: </b>2021-09-10 15:23:06<br><b>detector: </b>G1315C<br><b>pump: </b>G7110B<br><b>start_time: </b>2021-09-10 15:23:38<br><b>end_time: </b>2021-09-10 15:27:39<br><b>runtime: </b>239.7000000000036",
          "<b>index: </b>312<br><b>name: </b>210910_Pac--014<br><b>path: </b>D:/ExtractedSignals\\210910_Pac 2021-09-10 14-25-54\\210910_Pac--014.D<br><b>batch: </b>210910_Pac 2021-09-10 14-25-54<br><b>batch_position: </b>14<br><b>idle_time: </b>278.0<br><b>sample: </b>Blank<br><b>method: </b>SAA_411_Pac.M<br><b>timestamp: </b>2021-09-10 15:27:44<br><b>detector: </b>G1315C<br><b>pump: </b>G7110B<br><b>start_time: </b>2021-09-10 15:28:17<br><b>end_time: </b>2021-09-10 15:32:17<br><b>runtime: </b>239.7000000000036"
         ],
         "legendgroup": "Prediction",
         "line": {
          "color": "red"
         },
         "marker": {
          "color": "red",
          "size": 10
         },
         "mode": "lines+markers",
         "name": "Prediction Scores",
         "text": [
          "<b>index: </b>309<br><b>name: </b>210910_Pac--011<br><b>path: </b>D:/ExtractedSignals\\210910_Pac 2021-09-10 14-25-54\\210910_Pac--011.D<br><b>batch: </b>210910_Pac 2021-09-10 14-25-54<br><b>batch_position: </b>11<br><b>idle_time: </b>278.0<br><b>sample: </b>210903/021 :10<br><b>method: </b>SAA_411_Pac.M<br><b>timestamp: </b>2021-09-10 15:13:50<br><b>detector: </b>G1315C<br><b>pump: </b>G7110B<br><b>start_time: </b>2021-09-10 15:14:22<br><b>end_time: </b>2021-09-10 15:18:23<br><b>runtime: </b>239.7000000000036",
          "<b>index: </b>310<br><b>name: </b>210910_Pac--012<br><b>path: </b>D:/ExtractedSignals\\210910_Pac 2021-09-10 14-25-54\\210910_Pac--012.D<br><b>batch: </b>210910_Pac 2021-09-10 14-25-54<br><b>batch_position: </b>12<br><b>idle_time: </b>278.0<br><b>sample: </b>Blank<br><b>method: </b>SAA_411_Pac.M<br><b>timestamp: </b>2021-09-10 15:18:28<br><b>detector: </b>G1315C<br><b>pump: </b>G7110B<br><b>start_time: </b>2021-09-10 15:19:00<br><b>end_time: </b>2021-09-10 15:23:01<br><b>runtime: </b>239.7000000000036",
          "<b>index: </b>311<br><b>name: </b>210910_Pac--013<br><b>path: </b>D:/ExtractedSignals\\210910_Pac 2021-09-10 14-25-54\\210910_Pac--013.D<br><b>batch: </b>210910_Pac 2021-09-10 14-25-54<br><b>batch_position: </b>13<br><b>idle_time: </b>278.0<br><b>sample: </b>0.025 mg/ml<br><b>method: </b>SAA_411_Pac.M<br><b>timestamp: </b>2021-09-10 15:23:06<br><b>detector: </b>G1315C<br><b>pump: </b>G7110B<br><b>start_time: </b>2021-09-10 15:23:38<br><b>end_time: </b>2021-09-10 15:27:39<br><b>runtime: </b>239.7000000000036",
          "<b>index: </b>312<br><b>name: </b>210910_Pac--014<br><b>path: </b>D:/ExtractedSignals\\210910_Pac 2021-09-10 14-25-54\\210910_Pac--014.D<br><b>batch: </b>210910_Pac 2021-09-10 14-25-54<br><b>batch_position: </b>14<br><b>idle_time: </b>278.0<br><b>sample: </b>Blank<br><b>method: </b>SAA_411_Pac.M<br><b>timestamp: </b>2021-09-10 15:27:44<br><b>detector: </b>G1315C<br><b>pump: </b>G7110B<br><b>start_time: </b>2021-09-10 15:28:17<br><b>end_time: </b>2021-09-10 15:32:17<br><b>runtime: </b>239.7000000000036"
         ],
         "type": "scatter",
         "x": [
          22,
          23,
          24,
          25
         ],
         "y": [
          0.042165552508217075,
          -0.019995861140646665,
          -0.07331841102727354,
          -0.0020887216051842517
         ]
        }
       ],
       "layout": {
        "legend": {
         "title": {
          "text": "Scores"
         }
        },
        "template": {
         "data": {
          "bar": [
           {
            "error_x": {
             "color": "rgb(36,36,36)"
            },
            "error_y": {
             "color": "rgb(36,36,36)"
            },
            "marker": {
             "line": {
              "color": "white",
              "width": 0.5
             },
             "pattern": {
              "fillmode": "overlay",
              "size": 10,
              "solidity": 0.2
             }
            },
            "type": "bar"
           }
          ],
          "barpolar": [
           {
            "marker": {
             "line": {
              "color": "white",
              "width": 0.5
             },
             "pattern": {
              "fillmode": "overlay",
              "size": 10,
              "solidity": 0.2
             }
            },
            "type": "barpolar"
           }
          ],
          "carpet": [
           {
            "aaxis": {
             "endlinecolor": "rgb(36,36,36)",
             "gridcolor": "white",
             "linecolor": "white",
             "minorgridcolor": "white",
             "startlinecolor": "rgb(36,36,36)"
            },
            "baxis": {
             "endlinecolor": "rgb(36,36,36)",
             "gridcolor": "white",
             "linecolor": "white",
             "minorgridcolor": "white",
             "startlinecolor": "rgb(36,36,36)"
            },
            "type": "carpet"
           }
          ],
          "choropleth": [
           {
            "colorbar": {
             "outlinewidth": 1,
             "tickcolor": "rgb(36,36,36)",
             "ticks": "outside"
            },
            "type": "choropleth"
           }
          ],
          "contour": [
           {
            "colorbar": {
             "outlinewidth": 1,
             "tickcolor": "rgb(36,36,36)",
             "ticks": "outside"
            },
            "colorscale": [
             [
              0,
              "#440154"
             ],
             [
              0.1111111111111111,
              "#482878"
             ],
             [
              0.2222222222222222,
              "#3e4989"
             ],
             [
              0.3333333333333333,
              "#31688e"
             ],
             [
              0.4444444444444444,
              "#26828e"
             ],
             [
              0.5555555555555556,
              "#1f9e89"
             ],
             [
              0.6666666666666666,
              "#35b779"
             ],
             [
              0.7777777777777778,
              "#6ece58"
             ],
             [
              0.8888888888888888,
              "#b5de2b"
             ],
             [
              1,
              "#fde725"
             ]
            ],
            "type": "contour"
           }
          ],
          "contourcarpet": [
           {
            "colorbar": {
             "outlinewidth": 1,
             "tickcolor": "rgb(36,36,36)",
             "ticks": "outside"
            },
            "type": "contourcarpet"
           }
          ],
          "heatmap": [
           {
            "colorbar": {
             "outlinewidth": 1,
             "tickcolor": "rgb(36,36,36)",
             "ticks": "outside"
            },
            "colorscale": [
             [
              0,
              "#440154"
             ],
             [
              0.1111111111111111,
              "#482878"
             ],
             [
              0.2222222222222222,
              "#3e4989"
             ],
             [
              0.3333333333333333,
              "#31688e"
             ],
             [
              0.4444444444444444,
              "#26828e"
             ],
             [
              0.5555555555555556,
              "#1f9e89"
             ],
             [
              0.6666666666666666,
              "#35b779"
             ],
             [
              0.7777777777777778,
              "#6ece58"
             ],
             [
              0.8888888888888888,
              "#b5de2b"
             ],
             [
              1,
              "#fde725"
             ]
            ],
            "type": "heatmap"
           }
          ],
          "heatmapgl": [
           {
            "colorbar": {
             "outlinewidth": 1,
             "tickcolor": "rgb(36,36,36)",
             "ticks": "outside"
            },
            "colorscale": [
             [
              0,
              "#440154"
             ],
             [
              0.1111111111111111,
              "#482878"
             ],
             [
              0.2222222222222222,
              "#3e4989"
             ],
             [
              0.3333333333333333,
              "#31688e"
             ],
             [
              0.4444444444444444,
              "#26828e"
             ],
             [
              0.5555555555555556,
              "#1f9e89"
             ],
             [
              0.6666666666666666,
              "#35b779"
             ],
             [
              0.7777777777777778,
              "#6ece58"
             ],
             [
              0.8888888888888888,
              "#b5de2b"
             ],
             [
              1,
              "#fde725"
             ]
            ],
            "type": "heatmapgl"
           }
          ],
          "histogram": [
           {
            "marker": {
             "line": {
              "color": "white",
              "width": 0.6
             }
            },
            "type": "histogram"
           }
          ],
          "histogram2d": [
           {
            "colorbar": {
             "outlinewidth": 1,
             "tickcolor": "rgb(36,36,36)",
             "ticks": "outside"
            },
            "colorscale": [
             [
              0,
              "#440154"
             ],
             [
              0.1111111111111111,
              "#482878"
             ],
             [
              0.2222222222222222,
              "#3e4989"
             ],
             [
              0.3333333333333333,
              "#31688e"
             ],
             [
              0.4444444444444444,
              "#26828e"
             ],
             [
              0.5555555555555556,
              "#1f9e89"
             ],
             [
              0.6666666666666666,
              "#35b779"
             ],
             [
              0.7777777777777778,
              "#6ece58"
             ],
             [
              0.8888888888888888,
              "#b5de2b"
             ],
             [
              1,
              "#fde725"
             ]
            ],
            "type": "histogram2d"
           }
          ],
          "histogram2dcontour": [
           {
            "colorbar": {
             "outlinewidth": 1,
             "tickcolor": "rgb(36,36,36)",
             "ticks": "outside"
            },
            "colorscale": [
             [
              0,
              "#440154"
             ],
             [
              0.1111111111111111,
              "#482878"
             ],
             [
              0.2222222222222222,
              "#3e4989"
             ],
             [
              0.3333333333333333,
              "#31688e"
             ],
             [
              0.4444444444444444,
              "#26828e"
             ],
             [
              0.5555555555555556,
              "#1f9e89"
             ],
             [
              0.6666666666666666,
              "#35b779"
             ],
             [
              0.7777777777777778,
              "#6ece58"
             ],
             [
              0.8888888888888888,
              "#b5de2b"
             ],
             [
              1,
              "#fde725"
             ]
            ],
            "type": "histogram2dcontour"
           }
          ],
          "mesh3d": [
           {
            "colorbar": {
             "outlinewidth": 1,
             "tickcolor": "rgb(36,36,36)",
             "ticks": "outside"
            },
            "type": "mesh3d"
           }
          ],
          "parcoords": [
           {
            "line": {
             "colorbar": {
              "outlinewidth": 1,
              "tickcolor": "rgb(36,36,36)",
              "ticks": "outside"
             }
            },
            "type": "parcoords"
           }
          ],
          "pie": [
           {
            "automargin": true,
            "type": "pie"
           }
          ],
          "scatter": [
           {
            "fillpattern": {
             "fillmode": "overlay",
             "size": 10,
             "solidity": 0.2
            },
            "type": "scatter"
           }
          ],
          "scatter3d": [
           {
            "line": {
             "colorbar": {
              "outlinewidth": 1,
              "tickcolor": "rgb(36,36,36)",
              "ticks": "outside"
             }
            },
            "marker": {
             "colorbar": {
              "outlinewidth": 1,
              "tickcolor": "rgb(36,36,36)",
              "ticks": "outside"
             }
            },
            "type": "scatter3d"
           }
          ],
          "scattercarpet": [
           {
            "marker": {
             "colorbar": {
              "outlinewidth": 1,
              "tickcolor": "rgb(36,36,36)",
              "ticks": "outside"
             }
            },
            "type": "scattercarpet"
           }
          ],
          "scattergeo": [
           {
            "marker": {
             "colorbar": {
              "outlinewidth": 1,
              "tickcolor": "rgb(36,36,36)",
              "ticks": "outside"
             }
            },
            "type": "scattergeo"
           }
          ],
          "scattergl": [
           {
            "marker": {
             "colorbar": {
              "outlinewidth": 1,
              "tickcolor": "rgb(36,36,36)",
              "ticks": "outside"
             }
            },
            "type": "scattergl"
           }
          ],
          "scattermapbox": [
           {
            "marker": {
             "colorbar": {
              "outlinewidth": 1,
              "tickcolor": "rgb(36,36,36)",
              "ticks": "outside"
             }
            },
            "type": "scattermapbox"
           }
          ],
          "scatterpolar": [
           {
            "marker": {
             "colorbar": {
              "outlinewidth": 1,
              "tickcolor": "rgb(36,36,36)",
              "ticks": "outside"
             }
            },
            "type": "scatterpolar"
           }
          ],
          "scatterpolargl": [
           {
            "marker": {
             "colorbar": {
              "outlinewidth": 1,
              "tickcolor": "rgb(36,36,36)",
              "ticks": "outside"
             }
            },
            "type": "scatterpolargl"
           }
          ],
          "scatterternary": [
           {
            "marker": {
             "colorbar": {
              "outlinewidth": 1,
              "tickcolor": "rgb(36,36,36)",
              "ticks": "outside"
             }
            },
            "type": "scatterternary"
           }
          ],
          "surface": [
           {
            "colorbar": {
             "outlinewidth": 1,
             "tickcolor": "rgb(36,36,36)",
             "ticks": "outside"
            },
            "colorscale": [
             [
              0,
              "#440154"
             ],
             [
              0.1111111111111111,
              "#482878"
             ],
             [
              0.2222222222222222,
              "#3e4989"
             ],
             [
              0.3333333333333333,
              "#31688e"
             ],
             [
              0.4444444444444444,
              "#26828e"
             ],
             [
              0.5555555555555556,
              "#1f9e89"
             ],
             [
              0.6666666666666666,
              "#35b779"
             ],
             [
              0.7777777777777778,
              "#6ece58"
             ],
             [
              0.8888888888888888,
              "#b5de2b"
             ],
             [
              1,
              "#fde725"
             ]
            ],
            "type": "surface"
           }
          ],
          "table": [
           {
            "cells": {
             "fill": {
              "color": "rgb(237,237,237)"
             },
             "line": {
              "color": "white"
             }
            },
            "header": {
             "fill": {
              "color": "rgb(217,217,217)"
             },
             "line": {
              "color": "white"
             }
            },
            "type": "table"
           }
          ]
         },
         "layout": {
          "annotationdefaults": {
           "arrowhead": 0,
           "arrowwidth": 1
          },
          "autotypenumbers": "strict",
          "coloraxis": {
           "colorbar": {
            "outlinewidth": 1,
            "tickcolor": "rgb(36,36,36)",
            "ticks": "outside"
           }
          },
          "colorscale": {
           "diverging": [
            [
             0,
             "rgb(103,0,31)"
            ],
            [
             0.1,
             "rgb(178,24,43)"
            ],
            [
             0.2,
             "rgb(214,96,77)"
            ],
            [
             0.3,
             "rgb(244,165,130)"
            ],
            [
             0.4,
             "rgb(253,219,199)"
            ],
            [
             0.5,
             "rgb(247,247,247)"
            ],
            [
             0.6,
             "rgb(209,229,240)"
            ],
            [
             0.7,
             "rgb(146,197,222)"
            ],
            [
             0.8,
             "rgb(67,147,195)"
            ],
            [
             0.9,
             "rgb(33,102,172)"
            ],
            [
             1,
             "rgb(5,48,97)"
            ]
           ],
           "sequential": [
            [
             0,
             "#440154"
            ],
            [
             0.1111111111111111,
             "#482878"
            ],
            [
             0.2222222222222222,
             "#3e4989"
            ],
            [
             0.3333333333333333,
             "#31688e"
            ],
            [
             0.4444444444444444,
             "#26828e"
            ],
            [
             0.5555555555555556,
             "#1f9e89"
            ],
            [
             0.6666666666666666,
             "#35b779"
            ],
            [
             0.7777777777777778,
             "#6ece58"
            ],
            [
             0.8888888888888888,
             "#b5de2b"
            ],
            [
             1,
             "#fde725"
            ]
           ],
           "sequentialminus": [
            [
             0,
             "#440154"
            ],
            [
             0.1111111111111111,
             "#482878"
            ],
            [
             0.2222222222222222,
             "#3e4989"
            ],
            [
             0.3333333333333333,
             "#31688e"
            ],
            [
             0.4444444444444444,
             "#26828e"
            ],
            [
             0.5555555555555556,
             "#1f9e89"
            ],
            [
             0.6666666666666666,
             "#35b779"
            ],
            [
             0.7777777777777778,
             "#6ece58"
            ],
            [
             0.8888888888888888,
             "#b5de2b"
            ],
            [
             1,
             "#fde725"
            ]
           ]
          },
          "colorway": [
           "#1F77B4",
           "#FF7F0E",
           "#2CA02C",
           "#D62728",
           "#9467BD",
           "#8C564B",
           "#E377C2",
           "#7F7F7F",
           "#BCBD22",
           "#17BECF"
          ],
          "font": {
           "color": "rgb(36,36,36)"
          },
          "geo": {
           "bgcolor": "white",
           "lakecolor": "white",
           "landcolor": "white",
           "showlakes": true,
           "showland": true,
           "subunitcolor": "white"
          },
          "hoverlabel": {
           "align": "left"
          },
          "hovermode": "closest",
          "mapbox": {
           "style": "light"
          },
          "paper_bgcolor": "white",
          "plot_bgcolor": "white",
          "polar": {
           "angularaxis": {
            "gridcolor": "rgb(232,232,232)",
            "linecolor": "rgb(36,36,36)",
            "showgrid": false,
            "showline": true,
            "ticks": "outside"
           },
           "bgcolor": "white",
           "radialaxis": {
            "gridcolor": "rgb(232,232,232)",
            "linecolor": "rgb(36,36,36)",
            "showgrid": false,
            "showline": true,
            "ticks": "outside"
           }
          },
          "scene": {
           "xaxis": {
            "backgroundcolor": "white",
            "gridcolor": "rgb(232,232,232)",
            "gridwidth": 2,
            "linecolor": "rgb(36,36,36)",
            "showbackground": true,
            "showgrid": false,
            "showline": true,
            "ticks": "outside",
            "zeroline": false,
            "zerolinecolor": "rgb(36,36,36)"
           },
           "yaxis": {
            "backgroundcolor": "white",
            "gridcolor": "rgb(232,232,232)",
            "gridwidth": 2,
            "linecolor": "rgb(36,36,36)",
            "showbackground": true,
            "showgrid": false,
            "showline": true,
            "ticks": "outside",
            "zeroline": false,
            "zerolinecolor": "rgb(36,36,36)"
           },
           "zaxis": {
            "backgroundcolor": "white",
            "gridcolor": "rgb(232,232,232)",
            "gridwidth": 2,
            "linecolor": "rgb(36,36,36)",
            "showbackground": true,
            "showgrid": false,
            "showline": true,
            "ticks": "outside",
            "zeroline": false,
            "zerolinecolor": "rgb(36,36,36)"
           }
          },
          "shapedefaults": {
           "fillcolor": "black",
           "line": {
            "width": 0
           },
           "opacity": 0.3
          },
          "ternary": {
           "aaxis": {
            "gridcolor": "rgb(232,232,232)",
            "linecolor": "rgb(36,36,36)",
            "showgrid": false,
            "showline": true,
            "ticks": "outside"
           },
           "baxis": {
            "gridcolor": "rgb(232,232,232)",
            "linecolor": "rgb(36,36,36)",
            "showgrid": false,
            "showline": true,
            "ticks": "outside"
           },
           "bgcolor": "white",
           "caxis": {
            "gridcolor": "rgb(232,232,232)",
            "linecolor": "rgb(36,36,36)",
            "showgrid": false,
            "showline": true,
            "ticks": "outside"
           }
          },
          "title": {
           "x": 0.05
          },
          "xaxis": {
           "automargin": true,
           "gridcolor": "rgb(232,232,232)",
           "linecolor": "rgb(36,36,36)",
           "showgrid": false,
           "showline": true,
           "ticks": "outside",
           "title": {
            "standoff": 15
           },
           "zeroline": false,
           "zerolinecolor": "rgb(36,36,36)"
          },
          "yaxis": {
           "automargin": true,
           "gridcolor": "rgb(232,232,232)",
           "linecolor": "rgb(36,36,36)",
           "showgrid": false,
           "showline": true,
           "ticks": "outside",
           "title": {
            "standoff": 15
           },
           "zeroline": false,
           "zerolinecolor": "rgb(36,36,36)"
          }
         }
        },
        "xaxis": {
         "title": {
          "text": "Analysis index"
         }
        },
        "yaxis": {
         "title": {
          "text": "Score / U.A."
         }
        }
       }
      }
     },
     "metadata": {},
     "output_type": "display_data"
    }
   ],
   "source": [
    "test_2_data = pd.read_csv(\"test_2_features.csv\")\n",
    "test_2_metadata = pd.read_csv(\"test_2_metadata.csv\")\n",
    "ana.predict(test_2_data, test_2_metadata)\n",
    "outliers_test_2 = ana.test_prediction_outliers()\n",
    "print(outliers_test_2)\n",
    "ana.plot_scores()"
   ]
  },
  {
   "cell_type": "code",
   "execution_count": 6,
   "metadata": {},
   "outputs": [
    {
     "data": {
      "application/vnd.plotly.v1+json": {
       "config": {
        "plotlyServerURL": "https://plot.ly"
       },
       "data": [
        {
         "hovertemplate": [
          "<b>index: </b>17<br><b>name: </b>210812_Pac--005<br><b>path: </b>D:/ExtractedSignals\\210812_Pac 2021-08-12 10-30-07\\210812_Pac--005.D<br><b>batch: </b>210812_Pac 2021-08-12 10-30-07<br><b>batch_position: </b>5<br><b>idle_time: </b>279.0<br><b>sample: </b>NaCl 0,9%<br><b>method: </b>SAA_411_Pac.M<br><b>timestamp: </b>2021-08-12 10:50:23<br><b>detector: </b>G1315C<br><b>pump: </b>G7110B<br><b>start_time: </b>2021-08-12 10:50:57<br><b>end_time: </b>2021-08-12 10:54:57<br><b>runtime: </b>239.7000000000036",
          "<b>index: </b>18<br><b>name: </b>210812_Pac--006<br><b>path: </b>D:/ExtractedSignals\\210812_Pac 2021-08-12 10-30-07\\210812_Pac--006.D<br><b>batch: </b>210812_Pac 2021-08-12 10-30-07<br><b>batch_position: </b>6<br><b>idle_time: </b>279.0<br><b>sample: </b>Blank<br><b>method: </b>SAA_411_Pac.M<br><b>timestamp: </b>2021-08-12 10:55:02<br><b>detector: </b>G1315C<br><b>pump: </b>G7110B<br><b>start_time: </b>2021-08-12 10:55:36<br><b>end_time: </b>2021-08-12 10:59:36<br><b>runtime: </b>239.7000000000036",
          "<b>index: </b>19<br><b>name: </b>210812_Pac--007<br><b>path: </b>D:/ExtractedSignals\\210812_Pac 2021-08-12 10-30-07\\210812_Pac--007.D<br><b>batch: </b>210812_Pac 2021-08-12 10-30-07<br><b>batch_position: </b>7<br><b>idle_time: </b>279.0<br><b>sample: </b>0.025 mg/ml<br><b>method: </b>SAA_411_Pac.M<br><b>timestamp: </b>2021-08-12 10:59:41<br><b>detector: </b>G1315C<br><b>pump: </b>G7110B<br><b>start_time: </b>2021-08-12 11:00:15<br><b>end_time: </b>2021-08-12 11:04:15<br><b>runtime: </b>239.7000000000036",
          "<b>index: </b>20<br><b>name: </b>210812_Pac--008<br><b>path: </b>D:/ExtractedSignals\\210812_Pac 2021-08-12 10-30-07\\210812_Pac--008.D<br><b>batch: </b>210812_Pac 2021-08-12 10-30-07<br><b>batch_position: </b>8<br><b>idle_time: </b>279.0<br><b>sample: </b>Blank<br><b>method: </b>SAA_411_Pac.M<br><b>timestamp: </b>2021-08-12 11:04:20<br><b>detector: </b>G1315C<br><b>pump: </b>G7110B<br><b>start_time: </b>2021-08-12 11:04:54<br><b>end_time: </b>2021-08-12 11:08:54<br><b>runtime: </b>239.7000000000036",
          "<b>index: </b>21<br><b>name: </b>210812_Pac--009<br><b>path: </b>D:/ExtractedSignals\\210812_Pac 2021-08-12 10-30-07\\210812_Pac--009.D<br><b>batch: </b>210812_Pac 2021-08-12 10-30-07<br><b>batch_position: </b>9<br><b>idle_time: </b>279.0<br><b>sample: </b>210806/036 :10<br><b>method: </b>SAA_411_Pac.M<br><b>timestamp: </b>2021-08-12 11:08:59<br><b>detector: </b>G1315C<br><b>pump: </b>G7110B<br><b>start_time: </b>2021-08-12 11:09:32<br><b>end_time: </b>2021-08-12 11:13:32<br><b>runtime: </b>239.7000000000036",
          "<b>index: </b>22<br><b>name: </b>210812_Pac--010<br><b>path: </b>D:/ExtractedSignals\\210812_Pac 2021-08-12 10-30-07\\210812_Pac--010.D<br><b>batch: </b>210812_Pac 2021-08-12 10-30-07<br><b>batch_position: </b>10<br><b>idle_time: </b>278.0<br><b>sample: </b>210806/036 :10<br><b>method: </b>SAA_411_Pac.M<br><b>timestamp: </b>2021-08-12 11:13:37<br><b>detector: </b>G7110B<br><b>pump: </b>G7110B<br><b>start_time: </b>2021-08-12 11:14:11<br><b>end_time: </b>2021-08-12 11:18:11<br><b>runtime: </b>239.7000000000036",
          "<b>index: </b>23<br><b>name: </b>210812_Pac--011<br><b>path: </b>D:/ExtractedSignals\\210812_Pac 2021-08-12 10-30-07\\210812_Pac--011.D<br><b>batch: </b>210812_Pac 2021-08-12 10-30-07<br><b>batch_position: </b>11<br><b>idle_time: </b>279.0<br><b>sample: </b>210806/036 :10<br><b>method: </b>SAA_411_Pac.M<br><b>timestamp: </b>2021-08-12 11:18:16<br><b>detector: </b>G7110B<br><b>pump: </b>G7110B<br><b>start_time: </b>2021-08-12 11:18:50<br><b>end_time: </b>2021-08-12 11:22:50<br><b>runtime: </b>239.7000000000036",
          "<b>index: </b>24<br><b>name: </b>210812_Pac--012<br><b>path: </b>D:/ExtractedSignals\\210812_Pac 2021-08-12 10-30-07\\210812_Pac--012.D<br><b>batch: </b>210812_Pac 2021-08-12 10-30-07<br><b>batch_position: </b>12<br><b>idle_time: </b>279.0<br><b>sample: </b>Blank<br><b>method: </b>SAA_411_Pac.M<br><b>timestamp: </b>2021-08-12 11:22:55<br><b>detector: </b>G1315C<br><b>pump: </b>G7110B<br><b>start_time: </b>2021-08-12 11:23:29<br><b>end_time: </b>2021-08-12 11:27:29<br><b>runtime: </b>239.7000000000036",
          "<b>index: </b>25<br><b>name: </b>210812_Pac--013<br><b>path: </b>D:/ExtractedSignals\\210812_Pac 2021-08-12 10-30-07\\210812_Pac--013.D<br><b>batch: </b>210812_Pac 2021-08-12 10-30-07<br><b>batch_position: </b>13<br><b>idle_time: </b>279.0<br><b>sample: </b>0.025 mg/ml<br><b>method: </b>SAA_411_Pac.M<br><b>timestamp: </b>2021-08-12 11:27:34<br><b>detector: </b>G1315C<br><b>pump: </b>G7110B<br><b>start_time: </b>2021-08-12 11:28:08<br><b>end_time: </b>2021-08-12 11:32:08<br><b>runtime: </b>239.7000000000036",
          "<b>index: </b>26<br><b>name: </b>210812_Pac--014<br><b>path: </b>D:/ExtractedSignals\\210812_Pac 2021-08-12 10-30-07\\210812_Pac--014.D<br><b>batch: </b>210812_Pac 2021-08-12 10-30-07<br><b>batch_position: </b>14<br><b>idle_time: </b>279.0<br><b>sample: </b>Blank<br><b>method: </b>SAA_411_Pac.M<br><b>timestamp: </b>2021-08-12 11:32:13<br><b>detector: </b>G7110B<br><b>pump: </b>G7110B<br><b>start_time: </b>2021-08-12 11:32:46<br><b>end_time: </b>2021-08-12 11:36:47<br><b>runtime: </b>239.7000000000036",
          "<b>index: </b>85<br><b>name: </b>210813_Pac--003<br><b>path: </b>D:/ExtractedSignals\\210813_Pac 2021-08-13 10-37-27\\210813_Pac--003.D<br><b>batch: </b>210813_Pac 2021-08-13 10-37-27<br><b>batch_position: </b>3<br><b>idle_time: </b>278.0<br><b>sample: </b>Blank<br><b>method: </b>SAA_411_Pac.M<br><b>timestamp: </b>2021-08-13 10:48:34<br><b>detector: </b>G1315C<br><b>pump: </b>G7116B<br><b>start_time: </b>2021-08-13 10:49:08<br><b>end_time: </b>2021-08-13 10:53:08<br><b>runtime: </b>239.7000000000036",
          "<b>index: </b>86<br><b>name: </b>210813_Pac--004<br><b>path: </b>D:/ExtractedSignals\\210813_Pac 2021-08-13 10-37-27\\210813_Pac--004.D<br><b>batch: </b>210813_Pac 2021-08-13 10-37-27<br><b>batch_position: </b>4<br><b>idle_time: </b>279.0<br><b>sample: </b>Blank<br><b>method: </b>SAA_411_Pac.M<br><b>timestamp: </b>2021-08-13 10:53:13<br><b>detector: </b>G1315C<br><b>pump: </b>G7110B<br><b>start_time: </b>2021-08-13 10:53:47<br><b>end_time: </b>2021-08-13 10:57:47<br><b>runtime: </b>239.7000000000036",
          "<b>index: </b>87<br><b>name: </b>210813_Pac--005<br><b>path: </b>D:/ExtractedSignals\\210813_Pac 2021-08-13 10-37-27\\210813_Pac--005.D<br><b>batch: </b>210813_Pac 2021-08-13 10-37-27<br><b>batch_position: </b>5<br><b>idle_time: </b>279.0<br><b>sample: </b>NaCl 0,9%<br><b>method: </b>SAA_411_Pac.M<br><b>timestamp: </b>2021-08-13 10:57:52<br><b>detector: </b>G7110B<br><b>pump: </b>G7110B<br><b>start_time: </b>2021-08-13 10:58:26<br><b>end_time: </b>2021-08-13 11:02:27<br><b>runtime: </b>239.7000000000036",
          "<b>index: </b>88<br><b>name: </b>210813_Pac--006<br><b>path: </b>D:/ExtractedSignals\\210813_Pac 2021-08-13 10-37-27\\210813_Pac--006.D<br><b>batch: </b>210813_Pac 2021-08-13 10-37-27<br><b>batch_position: </b>6<br><b>idle_time: </b>279.0<br><b>sample: </b>Blank<br><b>method: </b>SAA_411_Pac.M<br><b>timestamp: </b>2021-08-13 11:02:31<br><b>detector: </b>G1315C<br><b>pump: </b>G7110B<br><b>start_time: </b>2021-08-13 11:03:05<br><b>end_time: </b>2021-08-13 11:07:06<br><b>runtime: </b>239.7000000000036",
          "<b>index: </b>89<br><b>name: </b>210813_Pac--007<br><b>path: </b>D:/ExtractedSignals\\210813_Pac 2021-08-13 10-37-27\\210813_Pac--007.D<br><b>batch: </b>210813_Pac 2021-08-13 10-37-27<br><b>batch_position: </b>7<br><b>idle_time: </b>279.0<br><b>sample: </b>0.025 mg/ml<br><b>method: </b>SAA_411_Pac.M<br><b>timestamp: </b>2021-08-13 11:07:10<br><b>detector: </b>G1315C<br><b>pump: </b>G7116B<br><b>start_time: </b>2021-08-13 11:07:44<br><b>end_time: </b>2021-08-13 11:11:45<br><b>runtime: </b>239.7000000000036",
          "<b>index: </b>90<br><b>name: </b>210813_Pac--008<br><b>path: </b>D:/ExtractedSignals\\210813_Pac 2021-08-13 10-37-27\\210813_Pac--008.D<br><b>batch: </b>210813_Pac 2021-08-13 10-37-27<br><b>batch_position: </b>8<br><b>idle_time: </b>279.0<br><b>sample: </b>Blank<br><b>method: </b>SAA_411_Pac.M<br><b>timestamp: </b>2021-08-13 11:11:49<br><b>detector: </b>G1315C<br><b>pump: </b>G7110B<br><b>start_time: </b>2021-08-13 11:12:23<br><b>end_time: </b>2021-08-13 11:16:23<br><b>runtime: </b>239.7000000000036",
          "<b>index: </b>91<br><b>name: </b>210813_Pac--009<br><b>path: </b>D:/ExtractedSignals\\210813_Pac 2021-08-13 10-37-27\\210813_Pac--009.D<br><b>batch: </b>210813_Pac 2021-08-13 10-37-27<br><b>batch_position: </b>9<br><b>idle_time: </b>279.0<br><b>sample: </b>210812/004 :20<br><b>method: </b>SAA_411_Pac.M<br><b>timestamp: </b>2021-08-13 11:16:28<br><b>detector: </b>G1315C<br><b>pump: </b>G7110B<br><b>start_time: </b>2021-08-13 11:17:02<br><b>end_time: </b>2021-08-13 11:21:03<br><b>runtime: </b>239.7000000000036",
          "<b>index: </b>92<br><b>name: </b>210813_Pac--010<br><b>path: </b>D:/ExtractedSignals\\210813_Pac 2021-08-13 10-37-27\\210813_Pac--010.D<br><b>batch: </b>210813_Pac 2021-08-13 10-37-27<br><b>batch_position: </b>10<br><b>idle_time: </b>280.0<br><b>sample: </b>210812/004 :20<br><b>method: </b>SAA_411_Pac.M<br><b>timestamp: </b>2021-08-13 11:21:08<br><b>detector: </b>G1315C<br><b>pump: </b>G7110B<br><b>start_time: </b>2021-08-13 11:21:41<br><b>end_time: </b>2021-08-13 11:25:42<br><b>runtime: </b>239.7000000000036",
          "<b>index: </b>93<br><b>name: </b>210813_Pac--011<br><b>path: </b>D:/ExtractedSignals\\210813_Pac 2021-08-13 10-37-27\\210813_Pac--011.D<br><b>batch: </b>210813_Pac 2021-08-13 10-37-27<br><b>batch_position: </b>11<br><b>idle_time: </b>278.0<br><b>sample: </b>210812/004 :20<br><b>method: </b>SAA_411_Pac.M<br><b>timestamp: </b>2021-08-13 11:25:46<br><b>detector: </b>G1315C<br><b>pump: </b>G7110B<br><b>start_time: </b>2021-08-13 11:26:21<br><b>end_time: </b>2021-08-13 11:30:21<br><b>runtime: </b>239.7000000000036",
          "<b>index: </b>94<br><b>name: </b>210813_Pac--012<br><b>path: </b>D:/ExtractedSignals\\210813_Pac 2021-08-13 10-37-27\\210813_Pac--012.D<br><b>batch: </b>210813_Pac 2021-08-13 10-37-27<br><b>batch_position: </b>12<br><b>idle_time: </b>280.0<br><b>sample: </b>Blank<br><b>method: </b>SAA_411_Pac.M<br><b>timestamp: </b>2021-08-13 11:30:26<br><b>detector: </b>G1315C<br><b>pump: </b>G7110B<br><b>start_time: </b>2021-08-13 11:30:59<br><b>end_time: </b>2021-08-13 11:34:59<br><b>runtime: </b>239.7000000000036",
          "<b>index: </b>95<br><b>name: </b>210813_Pac--013<br><b>path: </b>D:/ExtractedSignals\\210813_Pac 2021-08-13 10-37-27\\210813_Pac--013.D<br><b>batch: </b>210813_Pac 2021-08-13 10-37-27<br><b>batch_position: </b>13<br><b>idle_time: </b>278.0<br><b>sample: </b>0.025 mg/ml<br><b>method: </b>SAA_411_Pac.M<br><b>timestamp: </b>2021-08-13 11:35:04<br><b>detector: </b>G1315C<br><b>pump: </b>G7110B<br><b>start_time: </b>2021-08-13 11:35:38<br><b>end_time: </b>2021-08-13 11:39:38<br><b>runtime: </b>239.7000000000036",
          "<b>index: </b>96<br><b>name: </b>210813_Pac--014<br><b>path: </b>D:/ExtractedSignals\\210813_Pac 2021-08-13 10-37-27\\210813_Pac--014.D<br><b>batch: </b>210813_Pac 2021-08-13 10-37-27<br><b>batch_position: </b>14<br><b>idle_time: </b>279.0<br><b>sample: </b>Blank<br><b>method: </b>SAA_411_Pac.M<br><b>timestamp: </b>2021-08-13 11:39:43<br><b>detector: </b>G1315C<br><b>pump: </b>G7110B<br><b>start_time: </b>2021-08-13 11:40:16<br><b>end_time: </b>2021-08-13 11:44:17<br><b>runtime: </b>239.7000000000036",
          "<b>index: </b>309<br><b>name: </b>210910_Pac--011<br><b>path: </b>D:/ExtractedSignals\\210910_Pac 2021-09-10 14-25-54\\210910_Pac--011.D<br><b>batch: </b>210910_Pac 2021-09-10 14-25-54<br><b>batch_position: </b>11<br><b>idle_time: </b>278.0<br><b>sample: </b>210903/021 :10<br><b>method: </b>SAA_411_Pac.M<br><b>timestamp: </b>2021-09-10 15:13:50<br><b>detector: </b>G1315C<br><b>pump: </b>G7110B<br><b>start_time: </b>2021-09-10 15:14:22<br><b>end_time: </b>2021-09-10 15:18:23<br><b>runtime: </b>239.7000000000036",
          "<b>index: </b>310<br><b>name: </b>210910_Pac--012<br><b>path: </b>D:/ExtractedSignals\\210910_Pac 2021-09-10 14-25-54\\210910_Pac--012.D<br><b>batch: </b>210910_Pac 2021-09-10 14-25-54<br><b>batch_position: </b>12<br><b>idle_time: </b>278.0<br><b>sample: </b>Blank<br><b>method: </b>SAA_411_Pac.M<br><b>timestamp: </b>2021-09-10 15:18:28<br><b>detector: </b>G1315C<br><b>pump: </b>G7110B<br><b>start_time: </b>2021-09-10 15:19:00<br><b>end_time: </b>2021-09-10 15:23:01<br><b>runtime: </b>239.7000000000036",
          "<b>index: </b>311<br><b>name: </b>210910_Pac--013<br><b>path: </b>D:/ExtractedSignals\\210910_Pac 2021-09-10 14-25-54\\210910_Pac--013.D<br><b>batch: </b>210910_Pac 2021-09-10 14-25-54<br><b>batch_position: </b>13<br><b>idle_time: </b>278.0<br><b>sample: </b>0.025 mg/ml<br><b>method: </b>SAA_411_Pac.M<br><b>timestamp: </b>2021-09-10 15:23:06<br><b>detector: </b>G1315C<br><b>pump: </b>G7110B<br><b>start_time: </b>2021-09-10 15:23:38<br><b>end_time: </b>2021-09-10 15:27:39<br><b>runtime: </b>239.7000000000036",
          "<b>index: </b>312<br><b>name: </b>210910_Pac--014<br><b>path: </b>D:/ExtractedSignals\\210910_Pac 2021-09-10 14-25-54\\210910_Pac--014.D<br><b>batch: </b>210910_Pac 2021-09-10 14-25-54<br><b>batch_position: </b>14<br><b>idle_time: </b>278.0<br><b>sample: </b>Blank<br><b>method: </b>SAA_411_Pac.M<br><b>timestamp: </b>2021-09-10 15:27:44<br><b>detector: </b>G1315C<br><b>pump: </b>G7110B<br><b>start_time: </b>2021-09-10 15:28:17<br><b>end_time: </b>2021-09-10 15:32:17<br><b>runtime: </b>239.7000000000036"
         ],
         "legendgroup": "Train",
         "line": {
          "color": "black"
         },
         "marker": {
          "color": "black",
          "size": 10
         },
         "mode": "lines+markers",
         "name": "Train Scores",
         "text": [
          "<b>index: </b>17<br><b>name: </b>210812_Pac--005<br><b>path: </b>D:/ExtractedSignals\\210812_Pac 2021-08-12 10-30-07\\210812_Pac--005.D<br><b>batch: </b>210812_Pac 2021-08-12 10-30-07<br><b>batch_position: </b>5<br><b>idle_time: </b>279.0<br><b>sample: </b>NaCl 0,9%<br><b>method: </b>SAA_411_Pac.M<br><b>timestamp: </b>2021-08-12 10:50:23<br><b>detector: </b>G1315C<br><b>pump: </b>G7110B<br><b>start_time: </b>2021-08-12 10:50:57<br><b>end_time: </b>2021-08-12 10:54:57<br><b>runtime: </b>239.7000000000036",
          "<b>index: </b>18<br><b>name: </b>210812_Pac--006<br><b>path: </b>D:/ExtractedSignals\\210812_Pac 2021-08-12 10-30-07\\210812_Pac--006.D<br><b>batch: </b>210812_Pac 2021-08-12 10-30-07<br><b>batch_position: </b>6<br><b>idle_time: </b>279.0<br><b>sample: </b>Blank<br><b>method: </b>SAA_411_Pac.M<br><b>timestamp: </b>2021-08-12 10:55:02<br><b>detector: </b>G1315C<br><b>pump: </b>G7110B<br><b>start_time: </b>2021-08-12 10:55:36<br><b>end_time: </b>2021-08-12 10:59:36<br><b>runtime: </b>239.7000000000036",
          "<b>index: </b>19<br><b>name: </b>210812_Pac--007<br><b>path: </b>D:/ExtractedSignals\\210812_Pac 2021-08-12 10-30-07\\210812_Pac--007.D<br><b>batch: </b>210812_Pac 2021-08-12 10-30-07<br><b>batch_position: </b>7<br><b>idle_time: </b>279.0<br><b>sample: </b>0.025 mg/ml<br><b>method: </b>SAA_411_Pac.M<br><b>timestamp: </b>2021-08-12 10:59:41<br><b>detector: </b>G1315C<br><b>pump: </b>G7110B<br><b>start_time: </b>2021-08-12 11:00:15<br><b>end_time: </b>2021-08-12 11:04:15<br><b>runtime: </b>239.7000000000036",
          "<b>index: </b>20<br><b>name: </b>210812_Pac--008<br><b>path: </b>D:/ExtractedSignals\\210812_Pac 2021-08-12 10-30-07\\210812_Pac--008.D<br><b>batch: </b>210812_Pac 2021-08-12 10-30-07<br><b>batch_position: </b>8<br><b>idle_time: </b>279.0<br><b>sample: </b>Blank<br><b>method: </b>SAA_411_Pac.M<br><b>timestamp: </b>2021-08-12 11:04:20<br><b>detector: </b>G1315C<br><b>pump: </b>G7110B<br><b>start_time: </b>2021-08-12 11:04:54<br><b>end_time: </b>2021-08-12 11:08:54<br><b>runtime: </b>239.7000000000036",
          "<b>index: </b>21<br><b>name: </b>210812_Pac--009<br><b>path: </b>D:/ExtractedSignals\\210812_Pac 2021-08-12 10-30-07\\210812_Pac--009.D<br><b>batch: </b>210812_Pac 2021-08-12 10-30-07<br><b>batch_position: </b>9<br><b>idle_time: </b>279.0<br><b>sample: </b>210806/036 :10<br><b>method: </b>SAA_411_Pac.M<br><b>timestamp: </b>2021-08-12 11:08:59<br><b>detector: </b>G1315C<br><b>pump: </b>G7110B<br><b>start_time: </b>2021-08-12 11:09:32<br><b>end_time: </b>2021-08-12 11:13:32<br><b>runtime: </b>239.7000000000036",
          "<b>index: </b>22<br><b>name: </b>210812_Pac--010<br><b>path: </b>D:/ExtractedSignals\\210812_Pac 2021-08-12 10-30-07\\210812_Pac--010.D<br><b>batch: </b>210812_Pac 2021-08-12 10-30-07<br><b>batch_position: </b>10<br><b>idle_time: </b>278.0<br><b>sample: </b>210806/036 :10<br><b>method: </b>SAA_411_Pac.M<br><b>timestamp: </b>2021-08-12 11:13:37<br><b>detector: </b>G7110B<br><b>pump: </b>G7110B<br><b>start_time: </b>2021-08-12 11:14:11<br><b>end_time: </b>2021-08-12 11:18:11<br><b>runtime: </b>239.7000000000036",
          "<b>index: </b>23<br><b>name: </b>210812_Pac--011<br><b>path: </b>D:/ExtractedSignals\\210812_Pac 2021-08-12 10-30-07\\210812_Pac--011.D<br><b>batch: </b>210812_Pac 2021-08-12 10-30-07<br><b>batch_position: </b>11<br><b>idle_time: </b>279.0<br><b>sample: </b>210806/036 :10<br><b>method: </b>SAA_411_Pac.M<br><b>timestamp: </b>2021-08-12 11:18:16<br><b>detector: </b>G7110B<br><b>pump: </b>G7110B<br><b>start_time: </b>2021-08-12 11:18:50<br><b>end_time: </b>2021-08-12 11:22:50<br><b>runtime: </b>239.7000000000036",
          "<b>index: </b>24<br><b>name: </b>210812_Pac--012<br><b>path: </b>D:/ExtractedSignals\\210812_Pac 2021-08-12 10-30-07\\210812_Pac--012.D<br><b>batch: </b>210812_Pac 2021-08-12 10-30-07<br><b>batch_position: </b>12<br><b>idle_time: </b>279.0<br><b>sample: </b>Blank<br><b>method: </b>SAA_411_Pac.M<br><b>timestamp: </b>2021-08-12 11:22:55<br><b>detector: </b>G1315C<br><b>pump: </b>G7110B<br><b>start_time: </b>2021-08-12 11:23:29<br><b>end_time: </b>2021-08-12 11:27:29<br><b>runtime: </b>239.7000000000036",
          "<b>index: </b>25<br><b>name: </b>210812_Pac--013<br><b>path: </b>D:/ExtractedSignals\\210812_Pac 2021-08-12 10-30-07\\210812_Pac--013.D<br><b>batch: </b>210812_Pac 2021-08-12 10-30-07<br><b>batch_position: </b>13<br><b>idle_time: </b>279.0<br><b>sample: </b>0.025 mg/ml<br><b>method: </b>SAA_411_Pac.M<br><b>timestamp: </b>2021-08-12 11:27:34<br><b>detector: </b>G1315C<br><b>pump: </b>G7110B<br><b>start_time: </b>2021-08-12 11:28:08<br><b>end_time: </b>2021-08-12 11:32:08<br><b>runtime: </b>239.7000000000036",
          "<b>index: </b>26<br><b>name: </b>210812_Pac--014<br><b>path: </b>D:/ExtractedSignals\\210812_Pac 2021-08-12 10-30-07\\210812_Pac--014.D<br><b>batch: </b>210812_Pac 2021-08-12 10-30-07<br><b>batch_position: </b>14<br><b>idle_time: </b>279.0<br><b>sample: </b>Blank<br><b>method: </b>SAA_411_Pac.M<br><b>timestamp: </b>2021-08-12 11:32:13<br><b>detector: </b>G7110B<br><b>pump: </b>G7110B<br><b>start_time: </b>2021-08-12 11:32:46<br><b>end_time: </b>2021-08-12 11:36:47<br><b>runtime: </b>239.7000000000036",
          "<b>index: </b>85<br><b>name: </b>210813_Pac--003<br><b>path: </b>D:/ExtractedSignals\\210813_Pac 2021-08-13 10-37-27\\210813_Pac--003.D<br><b>batch: </b>210813_Pac 2021-08-13 10-37-27<br><b>batch_position: </b>3<br><b>idle_time: </b>278.0<br><b>sample: </b>Blank<br><b>method: </b>SAA_411_Pac.M<br><b>timestamp: </b>2021-08-13 10:48:34<br><b>detector: </b>G1315C<br><b>pump: </b>G7116B<br><b>start_time: </b>2021-08-13 10:49:08<br><b>end_time: </b>2021-08-13 10:53:08<br><b>runtime: </b>239.7000000000036",
          "<b>index: </b>86<br><b>name: </b>210813_Pac--004<br><b>path: </b>D:/ExtractedSignals\\210813_Pac 2021-08-13 10-37-27\\210813_Pac--004.D<br><b>batch: </b>210813_Pac 2021-08-13 10-37-27<br><b>batch_position: </b>4<br><b>idle_time: </b>279.0<br><b>sample: </b>Blank<br><b>method: </b>SAA_411_Pac.M<br><b>timestamp: </b>2021-08-13 10:53:13<br><b>detector: </b>G1315C<br><b>pump: </b>G7110B<br><b>start_time: </b>2021-08-13 10:53:47<br><b>end_time: </b>2021-08-13 10:57:47<br><b>runtime: </b>239.7000000000036",
          "<b>index: </b>87<br><b>name: </b>210813_Pac--005<br><b>path: </b>D:/ExtractedSignals\\210813_Pac 2021-08-13 10-37-27\\210813_Pac--005.D<br><b>batch: </b>210813_Pac 2021-08-13 10-37-27<br><b>batch_position: </b>5<br><b>idle_time: </b>279.0<br><b>sample: </b>NaCl 0,9%<br><b>method: </b>SAA_411_Pac.M<br><b>timestamp: </b>2021-08-13 10:57:52<br><b>detector: </b>G7110B<br><b>pump: </b>G7110B<br><b>start_time: </b>2021-08-13 10:58:26<br><b>end_time: </b>2021-08-13 11:02:27<br><b>runtime: </b>239.7000000000036",
          "<b>index: </b>88<br><b>name: </b>210813_Pac--006<br><b>path: </b>D:/ExtractedSignals\\210813_Pac 2021-08-13 10-37-27\\210813_Pac--006.D<br><b>batch: </b>210813_Pac 2021-08-13 10-37-27<br><b>batch_position: </b>6<br><b>idle_time: </b>279.0<br><b>sample: </b>Blank<br><b>method: </b>SAA_411_Pac.M<br><b>timestamp: </b>2021-08-13 11:02:31<br><b>detector: </b>G1315C<br><b>pump: </b>G7110B<br><b>start_time: </b>2021-08-13 11:03:05<br><b>end_time: </b>2021-08-13 11:07:06<br><b>runtime: </b>239.7000000000036",
          "<b>index: </b>89<br><b>name: </b>210813_Pac--007<br><b>path: </b>D:/ExtractedSignals\\210813_Pac 2021-08-13 10-37-27\\210813_Pac--007.D<br><b>batch: </b>210813_Pac 2021-08-13 10-37-27<br><b>batch_position: </b>7<br><b>idle_time: </b>279.0<br><b>sample: </b>0.025 mg/ml<br><b>method: </b>SAA_411_Pac.M<br><b>timestamp: </b>2021-08-13 11:07:10<br><b>detector: </b>G1315C<br><b>pump: </b>G7116B<br><b>start_time: </b>2021-08-13 11:07:44<br><b>end_time: </b>2021-08-13 11:11:45<br><b>runtime: </b>239.7000000000036",
          "<b>index: </b>90<br><b>name: </b>210813_Pac--008<br><b>path: </b>D:/ExtractedSignals\\210813_Pac 2021-08-13 10-37-27\\210813_Pac--008.D<br><b>batch: </b>210813_Pac 2021-08-13 10-37-27<br><b>batch_position: </b>8<br><b>idle_time: </b>279.0<br><b>sample: </b>Blank<br><b>method: </b>SAA_411_Pac.M<br><b>timestamp: </b>2021-08-13 11:11:49<br><b>detector: </b>G1315C<br><b>pump: </b>G7110B<br><b>start_time: </b>2021-08-13 11:12:23<br><b>end_time: </b>2021-08-13 11:16:23<br><b>runtime: </b>239.7000000000036",
          "<b>index: </b>91<br><b>name: </b>210813_Pac--009<br><b>path: </b>D:/ExtractedSignals\\210813_Pac 2021-08-13 10-37-27\\210813_Pac--009.D<br><b>batch: </b>210813_Pac 2021-08-13 10-37-27<br><b>batch_position: </b>9<br><b>idle_time: </b>279.0<br><b>sample: </b>210812/004 :20<br><b>method: </b>SAA_411_Pac.M<br><b>timestamp: </b>2021-08-13 11:16:28<br><b>detector: </b>G1315C<br><b>pump: </b>G7110B<br><b>start_time: </b>2021-08-13 11:17:02<br><b>end_time: </b>2021-08-13 11:21:03<br><b>runtime: </b>239.7000000000036",
          "<b>index: </b>92<br><b>name: </b>210813_Pac--010<br><b>path: </b>D:/ExtractedSignals\\210813_Pac 2021-08-13 10-37-27\\210813_Pac--010.D<br><b>batch: </b>210813_Pac 2021-08-13 10-37-27<br><b>batch_position: </b>10<br><b>idle_time: </b>280.0<br><b>sample: </b>210812/004 :20<br><b>method: </b>SAA_411_Pac.M<br><b>timestamp: </b>2021-08-13 11:21:08<br><b>detector: </b>G1315C<br><b>pump: </b>G7110B<br><b>start_time: </b>2021-08-13 11:21:41<br><b>end_time: </b>2021-08-13 11:25:42<br><b>runtime: </b>239.7000000000036",
          "<b>index: </b>93<br><b>name: </b>210813_Pac--011<br><b>path: </b>D:/ExtractedSignals\\210813_Pac 2021-08-13 10-37-27\\210813_Pac--011.D<br><b>batch: </b>210813_Pac 2021-08-13 10-37-27<br><b>batch_position: </b>11<br><b>idle_time: </b>278.0<br><b>sample: </b>210812/004 :20<br><b>method: </b>SAA_411_Pac.M<br><b>timestamp: </b>2021-08-13 11:25:46<br><b>detector: </b>G1315C<br><b>pump: </b>G7110B<br><b>start_time: </b>2021-08-13 11:26:21<br><b>end_time: </b>2021-08-13 11:30:21<br><b>runtime: </b>239.7000000000036",
          "<b>index: </b>94<br><b>name: </b>210813_Pac--012<br><b>path: </b>D:/ExtractedSignals\\210813_Pac 2021-08-13 10-37-27\\210813_Pac--012.D<br><b>batch: </b>210813_Pac 2021-08-13 10-37-27<br><b>batch_position: </b>12<br><b>idle_time: </b>280.0<br><b>sample: </b>Blank<br><b>method: </b>SAA_411_Pac.M<br><b>timestamp: </b>2021-08-13 11:30:26<br><b>detector: </b>G1315C<br><b>pump: </b>G7110B<br><b>start_time: </b>2021-08-13 11:30:59<br><b>end_time: </b>2021-08-13 11:34:59<br><b>runtime: </b>239.7000000000036",
          "<b>index: </b>95<br><b>name: </b>210813_Pac--013<br><b>path: </b>D:/ExtractedSignals\\210813_Pac 2021-08-13 10-37-27\\210813_Pac--013.D<br><b>batch: </b>210813_Pac 2021-08-13 10-37-27<br><b>batch_position: </b>13<br><b>idle_time: </b>278.0<br><b>sample: </b>0.025 mg/ml<br><b>method: </b>SAA_411_Pac.M<br><b>timestamp: </b>2021-08-13 11:35:04<br><b>detector: </b>G1315C<br><b>pump: </b>G7110B<br><b>start_time: </b>2021-08-13 11:35:38<br><b>end_time: </b>2021-08-13 11:39:38<br><b>runtime: </b>239.7000000000036",
          "<b>index: </b>96<br><b>name: </b>210813_Pac--014<br><b>path: </b>D:/ExtractedSignals\\210813_Pac 2021-08-13 10-37-27\\210813_Pac--014.D<br><b>batch: </b>210813_Pac 2021-08-13 10-37-27<br><b>batch_position: </b>14<br><b>idle_time: </b>279.0<br><b>sample: </b>Blank<br><b>method: </b>SAA_411_Pac.M<br><b>timestamp: </b>2021-08-13 11:39:43<br><b>detector: </b>G1315C<br><b>pump: </b>G7110B<br><b>start_time: </b>2021-08-13 11:40:16<br><b>end_time: </b>2021-08-13 11:44:17<br><b>runtime: </b>239.7000000000036",
          "<b>index: </b>309<br><b>name: </b>210910_Pac--011<br><b>path: </b>D:/ExtractedSignals\\210910_Pac 2021-09-10 14-25-54\\210910_Pac--011.D<br><b>batch: </b>210910_Pac 2021-09-10 14-25-54<br><b>batch_position: </b>11<br><b>idle_time: </b>278.0<br><b>sample: </b>210903/021 :10<br><b>method: </b>SAA_411_Pac.M<br><b>timestamp: </b>2021-09-10 15:13:50<br><b>detector: </b>G1315C<br><b>pump: </b>G7110B<br><b>start_time: </b>2021-09-10 15:14:22<br><b>end_time: </b>2021-09-10 15:18:23<br><b>runtime: </b>239.7000000000036",
          "<b>index: </b>310<br><b>name: </b>210910_Pac--012<br><b>path: </b>D:/ExtractedSignals\\210910_Pac 2021-09-10 14-25-54\\210910_Pac--012.D<br><b>batch: </b>210910_Pac 2021-09-10 14-25-54<br><b>batch_position: </b>12<br><b>idle_time: </b>278.0<br><b>sample: </b>Blank<br><b>method: </b>SAA_411_Pac.M<br><b>timestamp: </b>2021-09-10 15:18:28<br><b>detector: </b>G1315C<br><b>pump: </b>G7110B<br><b>start_time: </b>2021-09-10 15:19:00<br><b>end_time: </b>2021-09-10 15:23:01<br><b>runtime: </b>239.7000000000036",
          "<b>index: </b>311<br><b>name: </b>210910_Pac--013<br><b>path: </b>D:/ExtractedSignals\\210910_Pac 2021-09-10 14-25-54\\210910_Pac--013.D<br><b>batch: </b>210910_Pac 2021-09-10 14-25-54<br><b>batch_position: </b>13<br><b>idle_time: </b>278.0<br><b>sample: </b>0.025 mg/ml<br><b>method: </b>SAA_411_Pac.M<br><b>timestamp: </b>2021-09-10 15:23:06<br><b>detector: </b>G1315C<br><b>pump: </b>G7110B<br><b>start_time: </b>2021-09-10 15:23:38<br><b>end_time: </b>2021-09-10 15:27:39<br><b>runtime: </b>239.7000000000036",
          "<b>index: </b>312<br><b>name: </b>210910_Pac--014<br><b>path: </b>D:/ExtractedSignals\\210910_Pac 2021-09-10 14-25-54\\210910_Pac--014.D<br><b>batch: </b>210910_Pac 2021-09-10 14-25-54<br><b>batch_position: </b>14<br><b>idle_time: </b>278.0<br><b>sample: </b>Blank<br><b>method: </b>SAA_411_Pac.M<br><b>timestamp: </b>2021-09-10 15:27:44<br><b>detector: </b>G1315C<br><b>pump: </b>G7110B<br><b>start_time: </b>2021-09-10 15:28:17<br><b>end_time: </b>2021-09-10 15:32:17<br><b>runtime: </b>239.7000000000036"
         ],
         "type": "scatter",
         "x": [
          0,
          1,
          2,
          3,
          4,
          5,
          6,
          7,
          8,
          9,
          10,
          11,
          12,
          13,
          14,
          15,
          16,
          17,
          18,
          19,
          20,
          21,
          22,
          23,
          24,
          25
         ],
         "y": [
          0.050941076895545945,
          0.07549270184529638,
          0.06867663673573382,
          0.050139501801191866,
          0.04932295295219974,
          -0.07021590357470009,
          0.07368454295842264,
          0.0349727621223862,
          0.06162641946378333,
          0.0883235364259824,
          0.026205176216555937,
          0.08306875239828598,
          0.07624429627158863,
          0.04973217412793135,
          -0.08128949555219189,
          0.06610187373873233,
          0.0509730227358961,
          0.07885725806717508,
          0.048692126454649653,
          0.07929721583380717,
          0.07658302537610195,
          0.06660682408392704,
          0.06609142767937637,
          0.034695247365706505,
          -0.026205176216555937,
          0.03788085709574812
         ]
        },
        {
         "legendgroup": "Threshold",
         "line": {
          "color": "red",
          "dash": "dash"
         },
         "mode": "lines",
         "name": "Threshold",
         "type": "scatter",
         "x": [
          0,
          25
         ],
         "y": [
          -0.08014031345181521,
          -0.08014031345181521
         ]
        },
        {
         "hovertemplate": [],
         "legendgroup": "Prediction",
         "line": {
          "color": "red"
         },
         "marker": {
          "color": "red",
          "size": 10
         },
         "mode": "lines+markers",
         "name": "Prediction Scores",
         "text": [],
         "type": "scatter",
         "x": [],
         "y": []
        }
       ],
       "layout": {
        "legend": {
         "title": {
          "text": "Scores"
         }
        },
        "template": {
         "data": {
          "bar": [
           {
            "error_x": {
             "color": "rgb(36,36,36)"
            },
            "error_y": {
             "color": "rgb(36,36,36)"
            },
            "marker": {
             "line": {
              "color": "white",
              "width": 0.5
             },
             "pattern": {
              "fillmode": "overlay",
              "size": 10,
              "solidity": 0.2
             }
            },
            "type": "bar"
           }
          ],
          "barpolar": [
           {
            "marker": {
             "line": {
              "color": "white",
              "width": 0.5
             },
             "pattern": {
              "fillmode": "overlay",
              "size": 10,
              "solidity": 0.2
             }
            },
            "type": "barpolar"
           }
          ],
          "carpet": [
           {
            "aaxis": {
             "endlinecolor": "rgb(36,36,36)",
             "gridcolor": "white",
             "linecolor": "white",
             "minorgridcolor": "white",
             "startlinecolor": "rgb(36,36,36)"
            },
            "baxis": {
             "endlinecolor": "rgb(36,36,36)",
             "gridcolor": "white",
             "linecolor": "white",
             "minorgridcolor": "white",
             "startlinecolor": "rgb(36,36,36)"
            },
            "type": "carpet"
           }
          ],
          "choropleth": [
           {
            "colorbar": {
             "outlinewidth": 1,
             "tickcolor": "rgb(36,36,36)",
             "ticks": "outside"
            },
            "type": "choropleth"
           }
          ],
          "contour": [
           {
            "colorbar": {
             "outlinewidth": 1,
             "tickcolor": "rgb(36,36,36)",
             "ticks": "outside"
            },
            "colorscale": [
             [
              0,
              "#440154"
             ],
             [
              0.1111111111111111,
              "#482878"
             ],
             [
              0.2222222222222222,
              "#3e4989"
             ],
             [
              0.3333333333333333,
              "#31688e"
             ],
             [
              0.4444444444444444,
              "#26828e"
             ],
             [
              0.5555555555555556,
              "#1f9e89"
             ],
             [
              0.6666666666666666,
              "#35b779"
             ],
             [
              0.7777777777777778,
              "#6ece58"
             ],
             [
              0.8888888888888888,
              "#b5de2b"
             ],
             [
              1,
              "#fde725"
             ]
            ],
            "type": "contour"
           }
          ],
          "contourcarpet": [
           {
            "colorbar": {
             "outlinewidth": 1,
             "tickcolor": "rgb(36,36,36)",
             "ticks": "outside"
            },
            "type": "contourcarpet"
           }
          ],
          "heatmap": [
           {
            "colorbar": {
             "outlinewidth": 1,
             "tickcolor": "rgb(36,36,36)",
             "ticks": "outside"
            },
            "colorscale": [
             [
              0,
              "#440154"
             ],
             [
              0.1111111111111111,
              "#482878"
             ],
             [
              0.2222222222222222,
              "#3e4989"
             ],
             [
              0.3333333333333333,
              "#31688e"
             ],
             [
              0.4444444444444444,
              "#26828e"
             ],
             [
              0.5555555555555556,
              "#1f9e89"
             ],
             [
              0.6666666666666666,
              "#35b779"
             ],
             [
              0.7777777777777778,
              "#6ece58"
             ],
             [
              0.8888888888888888,
              "#b5de2b"
             ],
             [
              1,
              "#fde725"
             ]
            ],
            "type": "heatmap"
           }
          ],
          "heatmapgl": [
           {
            "colorbar": {
             "outlinewidth": 1,
             "tickcolor": "rgb(36,36,36)",
             "ticks": "outside"
            },
            "colorscale": [
             [
              0,
              "#440154"
             ],
             [
              0.1111111111111111,
              "#482878"
             ],
             [
              0.2222222222222222,
              "#3e4989"
             ],
             [
              0.3333333333333333,
              "#31688e"
             ],
             [
              0.4444444444444444,
              "#26828e"
             ],
             [
              0.5555555555555556,
              "#1f9e89"
             ],
             [
              0.6666666666666666,
              "#35b779"
             ],
             [
              0.7777777777777778,
              "#6ece58"
             ],
             [
              0.8888888888888888,
              "#b5de2b"
             ],
             [
              1,
              "#fde725"
             ]
            ],
            "type": "heatmapgl"
           }
          ],
          "histogram": [
           {
            "marker": {
             "line": {
              "color": "white",
              "width": 0.6
             }
            },
            "type": "histogram"
           }
          ],
          "histogram2d": [
           {
            "colorbar": {
             "outlinewidth": 1,
             "tickcolor": "rgb(36,36,36)",
             "ticks": "outside"
            },
            "colorscale": [
             [
              0,
              "#440154"
             ],
             [
              0.1111111111111111,
              "#482878"
             ],
             [
              0.2222222222222222,
              "#3e4989"
             ],
             [
              0.3333333333333333,
              "#31688e"
             ],
             [
              0.4444444444444444,
              "#26828e"
             ],
             [
              0.5555555555555556,
              "#1f9e89"
             ],
             [
              0.6666666666666666,
              "#35b779"
             ],
             [
              0.7777777777777778,
              "#6ece58"
             ],
             [
              0.8888888888888888,
              "#b5de2b"
             ],
             [
              1,
              "#fde725"
             ]
            ],
            "type": "histogram2d"
           }
          ],
          "histogram2dcontour": [
           {
            "colorbar": {
             "outlinewidth": 1,
             "tickcolor": "rgb(36,36,36)",
             "ticks": "outside"
            },
            "colorscale": [
             [
              0,
              "#440154"
             ],
             [
              0.1111111111111111,
              "#482878"
             ],
             [
              0.2222222222222222,
              "#3e4989"
             ],
             [
              0.3333333333333333,
              "#31688e"
             ],
             [
              0.4444444444444444,
              "#26828e"
             ],
             [
              0.5555555555555556,
              "#1f9e89"
             ],
             [
              0.6666666666666666,
              "#35b779"
             ],
             [
              0.7777777777777778,
              "#6ece58"
             ],
             [
              0.8888888888888888,
              "#b5de2b"
             ],
             [
              1,
              "#fde725"
             ]
            ],
            "type": "histogram2dcontour"
           }
          ],
          "mesh3d": [
           {
            "colorbar": {
             "outlinewidth": 1,
             "tickcolor": "rgb(36,36,36)",
             "ticks": "outside"
            },
            "type": "mesh3d"
           }
          ],
          "parcoords": [
           {
            "line": {
             "colorbar": {
              "outlinewidth": 1,
              "tickcolor": "rgb(36,36,36)",
              "ticks": "outside"
             }
            },
            "type": "parcoords"
           }
          ],
          "pie": [
           {
            "automargin": true,
            "type": "pie"
           }
          ],
          "scatter": [
           {
            "fillpattern": {
             "fillmode": "overlay",
             "size": 10,
             "solidity": 0.2
            },
            "type": "scatter"
           }
          ],
          "scatter3d": [
           {
            "line": {
             "colorbar": {
              "outlinewidth": 1,
              "tickcolor": "rgb(36,36,36)",
              "ticks": "outside"
             }
            },
            "marker": {
             "colorbar": {
              "outlinewidth": 1,
              "tickcolor": "rgb(36,36,36)",
              "ticks": "outside"
             }
            },
            "type": "scatter3d"
           }
          ],
          "scattercarpet": [
           {
            "marker": {
             "colorbar": {
              "outlinewidth": 1,
              "tickcolor": "rgb(36,36,36)",
              "ticks": "outside"
             }
            },
            "type": "scattercarpet"
           }
          ],
          "scattergeo": [
           {
            "marker": {
             "colorbar": {
              "outlinewidth": 1,
              "tickcolor": "rgb(36,36,36)",
              "ticks": "outside"
             }
            },
            "type": "scattergeo"
           }
          ],
          "scattergl": [
           {
            "marker": {
             "colorbar": {
              "outlinewidth": 1,
              "tickcolor": "rgb(36,36,36)",
              "ticks": "outside"
             }
            },
            "type": "scattergl"
           }
          ],
          "scattermapbox": [
           {
            "marker": {
             "colorbar": {
              "outlinewidth": 1,
              "tickcolor": "rgb(36,36,36)",
              "ticks": "outside"
             }
            },
            "type": "scattermapbox"
           }
          ],
          "scatterpolar": [
           {
            "marker": {
             "colorbar": {
              "outlinewidth": 1,
              "tickcolor": "rgb(36,36,36)",
              "ticks": "outside"
             }
            },
            "type": "scatterpolar"
           }
          ],
          "scatterpolargl": [
           {
            "marker": {
             "colorbar": {
              "outlinewidth": 1,
              "tickcolor": "rgb(36,36,36)",
              "ticks": "outside"
             }
            },
            "type": "scatterpolargl"
           }
          ],
          "scatterternary": [
           {
            "marker": {
             "colorbar": {
              "outlinewidth": 1,
              "tickcolor": "rgb(36,36,36)",
              "ticks": "outside"
             }
            },
            "type": "scatterternary"
           }
          ],
          "surface": [
           {
            "colorbar": {
             "outlinewidth": 1,
             "tickcolor": "rgb(36,36,36)",
             "ticks": "outside"
            },
            "colorscale": [
             [
              0,
              "#440154"
             ],
             [
              0.1111111111111111,
              "#482878"
             ],
             [
              0.2222222222222222,
              "#3e4989"
             ],
             [
              0.3333333333333333,
              "#31688e"
             ],
             [
              0.4444444444444444,
              "#26828e"
             ],
             [
              0.5555555555555556,
              "#1f9e89"
             ],
             [
              0.6666666666666666,
              "#35b779"
             ],
             [
              0.7777777777777778,
              "#6ece58"
             ],
             [
              0.8888888888888888,
              "#b5de2b"
             ],
             [
              1,
              "#fde725"
             ]
            ],
            "type": "surface"
           }
          ],
          "table": [
           {
            "cells": {
             "fill": {
              "color": "rgb(237,237,237)"
             },
             "line": {
              "color": "white"
             }
            },
            "header": {
             "fill": {
              "color": "rgb(217,217,217)"
             },
             "line": {
              "color": "white"
             }
            },
            "type": "table"
           }
          ]
         },
         "layout": {
          "annotationdefaults": {
           "arrowhead": 0,
           "arrowwidth": 1
          },
          "autotypenumbers": "strict",
          "coloraxis": {
           "colorbar": {
            "outlinewidth": 1,
            "tickcolor": "rgb(36,36,36)",
            "ticks": "outside"
           }
          },
          "colorscale": {
           "diverging": [
            [
             0,
             "rgb(103,0,31)"
            ],
            [
             0.1,
             "rgb(178,24,43)"
            ],
            [
             0.2,
             "rgb(214,96,77)"
            ],
            [
             0.3,
             "rgb(244,165,130)"
            ],
            [
             0.4,
             "rgb(253,219,199)"
            ],
            [
             0.5,
             "rgb(247,247,247)"
            ],
            [
             0.6,
             "rgb(209,229,240)"
            ],
            [
             0.7,
             "rgb(146,197,222)"
            ],
            [
             0.8,
             "rgb(67,147,195)"
            ],
            [
             0.9,
             "rgb(33,102,172)"
            ],
            [
             1,
             "rgb(5,48,97)"
            ]
           ],
           "sequential": [
            [
             0,
             "#440154"
            ],
            [
             0.1111111111111111,
             "#482878"
            ],
            [
             0.2222222222222222,
             "#3e4989"
            ],
            [
             0.3333333333333333,
             "#31688e"
            ],
            [
             0.4444444444444444,
             "#26828e"
            ],
            [
             0.5555555555555556,
             "#1f9e89"
            ],
            [
             0.6666666666666666,
             "#35b779"
            ],
            [
             0.7777777777777778,
             "#6ece58"
            ],
            [
             0.8888888888888888,
             "#b5de2b"
            ],
            [
             1,
             "#fde725"
            ]
           ],
           "sequentialminus": [
            [
             0,
             "#440154"
            ],
            [
             0.1111111111111111,
             "#482878"
            ],
            [
             0.2222222222222222,
             "#3e4989"
            ],
            [
             0.3333333333333333,
             "#31688e"
            ],
            [
             0.4444444444444444,
             "#26828e"
            ],
            [
             0.5555555555555556,
             "#1f9e89"
            ],
            [
             0.6666666666666666,
             "#35b779"
            ],
            [
             0.7777777777777778,
             "#6ece58"
            ],
            [
             0.8888888888888888,
             "#b5de2b"
            ],
            [
             1,
             "#fde725"
            ]
           ]
          },
          "colorway": [
           "#1F77B4",
           "#FF7F0E",
           "#2CA02C",
           "#D62728",
           "#9467BD",
           "#8C564B",
           "#E377C2",
           "#7F7F7F",
           "#BCBD22",
           "#17BECF"
          ],
          "font": {
           "color": "rgb(36,36,36)"
          },
          "geo": {
           "bgcolor": "white",
           "lakecolor": "white",
           "landcolor": "white",
           "showlakes": true,
           "showland": true,
           "subunitcolor": "white"
          },
          "hoverlabel": {
           "align": "left"
          },
          "hovermode": "closest",
          "mapbox": {
           "style": "light"
          },
          "paper_bgcolor": "white",
          "plot_bgcolor": "white",
          "polar": {
           "angularaxis": {
            "gridcolor": "rgb(232,232,232)",
            "linecolor": "rgb(36,36,36)",
            "showgrid": false,
            "showline": true,
            "ticks": "outside"
           },
           "bgcolor": "white",
           "radialaxis": {
            "gridcolor": "rgb(232,232,232)",
            "linecolor": "rgb(36,36,36)",
            "showgrid": false,
            "showline": true,
            "ticks": "outside"
           }
          },
          "scene": {
           "xaxis": {
            "backgroundcolor": "white",
            "gridcolor": "rgb(232,232,232)",
            "gridwidth": 2,
            "linecolor": "rgb(36,36,36)",
            "showbackground": true,
            "showgrid": false,
            "showline": true,
            "ticks": "outside",
            "zeroline": false,
            "zerolinecolor": "rgb(36,36,36)"
           },
           "yaxis": {
            "backgroundcolor": "white",
            "gridcolor": "rgb(232,232,232)",
            "gridwidth": 2,
            "linecolor": "rgb(36,36,36)",
            "showbackground": true,
            "showgrid": false,
            "showline": true,
            "ticks": "outside",
            "zeroline": false,
            "zerolinecolor": "rgb(36,36,36)"
           },
           "zaxis": {
            "backgroundcolor": "white",
            "gridcolor": "rgb(232,232,232)",
            "gridwidth": 2,
            "linecolor": "rgb(36,36,36)",
            "showbackground": true,
            "showgrid": false,
            "showline": true,
            "ticks": "outside",
            "zeroline": false,
            "zerolinecolor": "rgb(36,36,36)"
           }
          },
          "shapedefaults": {
           "fillcolor": "black",
           "line": {
            "width": 0
           },
           "opacity": 0.3
          },
          "ternary": {
           "aaxis": {
            "gridcolor": "rgb(232,232,232)",
            "linecolor": "rgb(36,36,36)",
            "showgrid": false,
            "showline": true,
            "ticks": "outside"
           },
           "baxis": {
            "gridcolor": "rgb(232,232,232)",
            "linecolor": "rgb(36,36,36)",
            "showgrid": false,
            "showline": true,
            "ticks": "outside"
           },
           "bgcolor": "white",
           "caxis": {
            "gridcolor": "rgb(232,232,232)",
            "linecolor": "rgb(36,36,36)",
            "showgrid": false,
            "showline": true,
            "ticks": "outside"
           }
          },
          "title": {
           "x": 0.05
          },
          "xaxis": {
           "automargin": true,
           "gridcolor": "rgb(232,232,232)",
           "linecolor": "rgb(36,36,36)",
           "showgrid": false,
           "showline": true,
           "ticks": "outside",
           "title": {
            "standoff": 15
           },
           "zeroline": false,
           "zerolinecolor": "rgb(36,36,36)"
          },
          "yaxis": {
           "automargin": true,
           "gridcolor": "rgb(232,232,232)",
           "linecolor": "rgb(36,36,36)",
           "showgrid": false,
           "showline": true,
           "ticks": "outside",
           "title": {
            "standoff": 15
           },
           "zeroline": false,
           "zerolinecolor": "rgb(36,36,36)"
          }
         }
        },
        "xaxis": {
         "title": {
          "text": "Analysis index"
         }
        },
        "yaxis": {
         "title": {
          "text": "Score / U.A."
         }
        }
       }
      }
     },
     "metadata": {},
     "output_type": "display_data"
    }
   ],
   "source": [
    "ana.add_prediction(add_outliers = False)\n",
    "ana.plot_scores()"
   ]
  }
 ],
 "metadata": {
  "kernelspec": {
   "display_name": "sp",
   "language": "python",
   "name": "python3"
  },
  "language_info": {
   "codemirror_mode": {
    "name": "ipython",
    "version": 3
   },
   "file_extension": ".py",
   "mimetype": "text/x-python",
   "name": "python",
   "nbconvert_exporter": "python",
   "pygments_lexer": "ipython3",
   "version": "3.12.1"
  }
 },
 "nbformat": 4,
 "nbformat_minor": 2
}
