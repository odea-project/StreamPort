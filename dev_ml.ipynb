{
 "cells": [
  {
   "cell_type": "markdown",
   "metadata": {},
   "source": [
    "## MachineLearningEngine Class"
   ]
  },
  {
   "cell_type": "markdown",
   "metadata": {},
   "source": [
    "The MachineLearningEngine class is builds on the CoreEngine class. The CoreEngine class serves as a parent class engines that focus on data, while the MachineLearningEngine class is for engines that focus on learning from data."
   ]
  },
  {
   "cell_type": "code",
   "execution_count": 12,
   "metadata": {},
   "outputs": [
    {
     "name": "stdout",
     "output_type": "stream",
     "text": [
      "\n",
      "MachineLearningEngine \n",
      "  name: None \n",
      "  author: None \n",
      "  path: None \n",
      "  date: 2024-04-18 17:28:44.620285 \n",
      "\n"
     ]
    }
   ],
   "source": [
    "from src.StreamPort.ml.MachineLearningEngine import MachineLearningEngine\n",
    "\n",
    "#Creates an empty MachineLearningEngine object and prints it\n",
    "engine = MachineLearningEngine()\n",
    "engine.print()"
   ]
  },
  {
   "cell_type": "markdown",
   "metadata": {},
   "source": [
    "## SensorAnalysis Class"
   ]
  },
  {
   "cell_type": "markdown",
   "metadata": {},
   "source": [
    "The SensorAnalysis class is builds on the class Analysis. "
   ]
  },
  {
   "cell_type": "code",
   "execution_count": 11,
   "metadata": {},
   "outputs": [
    {
     "ename": "ModuleNotFoundError",
     "evalue": "No module named 'StreamPort'",
     "output_type": "error",
     "traceback": [
      "\u001b[1;31m---------------------------------------------------------------------------\u001b[0m",
      "\u001b[1;31mModuleNotFoundError\u001b[0m                       Traceback (most recent call last)",
      "Cell \u001b[1;32mIn[11], line 1\u001b[0m\n\u001b[1;32m----> 1\u001b[0m \u001b[38;5;28;01mfrom\u001b[39;00m \u001b[38;5;21;01mStreamPort\u001b[39;00m\u001b[38;5;21;01m.\u001b[39;00m\u001b[38;5;21;01mml\u001b[39;00m\u001b[38;5;21;01m.\u001b[39;00m\u001b[38;5;21;01mSensorAnalysis\u001b[39;00m \u001b[38;5;28;01mimport\u001b[39;00m SensorAnalysis\n\u001b[0;32m      3\u001b[0m engine \u001b[38;5;241m=\u001b[39m SensorAnalysis()\n\u001b[0;32m      4\u001b[0m engine\u001b[38;5;241m.\u001b[39mprint()\n",
      "\u001b[1;31mModuleNotFoundError\u001b[0m: No module named 'StreamPort'"
     ]
    }
   ],
   "source": [
    "from src.StreamPort.ml.SensorAnalysis import SensorAnalysis\n",
    "\n",
    "engine = SensorAnalysis()\n",
    "engine.print()"
   ]
  }
 ],
 "metadata": {
  "kernelspec": {
   "display_name": "Python 3",
   "language": "python",
   "name": "python3"
  },
  "language_info": {
   "codemirror_mode": {
    "name": "ipython",
    "version": 3
   },
   "file_extension": ".py",
   "mimetype": "text/x-python",
   "name": "python",
   "nbconvert_exporter": "python",
   "pygments_lexer": "ipython3",
   "version": "3.12.3"
  }
 },
 "nbformat": 4,
 "nbformat_minor": 2
}
