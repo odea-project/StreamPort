{
 "cells": [
  {
   "cell_type": "markdown",
   "metadata": {},
   "source": [
    "## MachineLearningEngine Class"
   ]
  },
  {
   "cell_type": "markdown",
   "metadata": {},
   "source": [
    "The MachineLearningEngine class is builds on the CoreEngine class. The CoreEngine class serves as a parent class engines that focus on data, while the MachineLearningEngine class is for engines that focus on learning from data."
   ]
  },
  {
   "cell_type": "code",
   "execution_count": 10,
   "metadata": {},
   "outputs": [
    {
     "name": "stdout",
     "output_type": "stream",
     "text": [
      "\n",
      "MachineLearningEngine \n",
      "  name: None \n",
      "  author: None \n",
      "  path: None \n",
      "  date: 2024-04-26 15:11:28.916697 \n",
      "  analyses: 0 \n",
      "  settings: 0 \n",
      "\n"
     ]
    }
   ],
   "source": [
    "from src.StreamPort.ml.MachineLearningEngine import MachineLearningEngine\n",
    "\n",
    "#Creates an empty MachineLearningEngine object and prints it\n",
    "engine = MachineLearningEngine()\n",
    "engine.print()"
   ]
  },
  {
   "cell_type": "markdown",
   "metadata": {},
   "source": [
    "## MachineLearningAnalysis Class"
   ]
  },
  {
   "cell_type": "markdown",
   "metadata": {},
   "source": [
    "The MachineLearningAnalysis class is builds on the class Analysis. The Analysis class that is used to perform analysis on the data. "
   ]
  },
  {
   "cell_type": "code",
   "execution_count": 11,
   "metadata": {},
   "outputs": [
    {
     "name": "stdout",
     "output_type": "stream",
     "text": [
      "\n",
      "Analysis\n",
      "  name: None\n",
      "  replicate: None\n",
      "  blank: None\n",
      "  data:\n",
      "  Empty\n",
      "\n"
     ]
    }
   ],
   "source": [
    "from src.StreamPort.ml.MachineLearningAnalysis import MachineLearningAnalysis\n",
    "\n",
    "#Creates an empty MachineLearningAnalysis obejct and prints it\n",
    "analysis = MachineLearningAnalysis()\n",
    "analysis.print()"
   ]
  },
  {
   "cell_type": "markdown",
   "metadata": {},
   "source": [
    "## Read the CSV File  "
   ]
  },
  {
   "cell_type": "markdown",
   "metadata": {},
   "source": [
    "This method is used for the reading the data from the csv file. "
   ]
  },
  {
   "cell_type": "code",
   "execution_count": 27,
   "metadata": {},
   "outputs": [
    {
     "name": "stdout",
     "output_type": "stream",
     "text": [
      "\n",
      "MachineLearningEngine \n",
      "  name: None \n",
      "  author: None \n",
      "  path: None \n",
      "  date: 2024-05-01 23:41:21.451238 \n",
      "  analyses: 0 \n",
      "  settings: 0 \n",
      "\n",
      "Read the csv file\n",
      "(    M100_R148_13791  M100_R178_13767  M100_R585_13804  M100_R585_13975  ...  \\\n",
      "0               0.0              0.0         0.000000         0.000000  ...   \n",
      "1               0.0              0.0         0.000000         0.000000  ...   \n",
      "2               0.0              0.0         0.000000         0.000000  ...   \n",
      "3               0.0              0.0      6121.720866     17925.878255  ...   \n",
      "4               0.0              0.0         0.000000     11041.857096  ...   \n",
      "..              ...              ...              ...              ...  ...   \n",
      "40              0.0              0.0         0.000000         0.000000  ...   \n",
      "41              0.0              0.0         0.000000         0.000000  ...   \n",
      "42              0.0              0.0         0.000000         0.000000  ...   \n",
      "43              0.0              0.0         0.000000         0.000000  ...   \n",
      "44              0.0              0.0         0.000000         0.000000  ...   \n",
      "\n",
      "    M99_R97_12789  M99_R97_13147  M993_R1888_113866  M993_R1893_113846  \n",
      "0         0.00000            0.0                0.0                0.0  \n",
      "1         0.00000            0.0                0.0                0.0  \n",
      "2         0.00000            0.0                0.0                0.0  \n",
      "3      5799.59847            0.0                0.0                0.0  \n",
      "4         0.00000            0.0                0.0                0.0  \n",
      "..            ...            ...                ...                ...  \n",
      "40        0.00000            0.0                0.0                0.0  \n",
      "41        0.00000            0.0                0.0                0.0  \n",
      "42        0.00000            0.0                0.0                0.0  \n",
      "43        0.00000            0.0                0.0                0.0  \n",
      "44        0.00000            0.0                0.0                0.0  \n",
      "\n",
      "[45 rows x 4444 columns],            name          origin\n",
      "0   M200317000A         control\n",
      "1    M200317007  influent_ozone\n",
      "2    M200317008     influent_uv\n",
      "3    M200317009     influent_ac\n",
      "4    M200317010        effluent\n",
      "..          ...             ...\n",
      "40  M200429000A         control\n",
      "41   M200429096  influent_ozone\n",
      "42   M200429097     influent_uv\n",
      "43   M200429098     influent_ac\n",
      "44   M200429099        effluent\n",
      "\n",
      "[45 rows x 2 columns])\n",
      "Create a list of analysis object and prints it\n",
      "Analysis: Analysis1\n",
      "raw: [ 1  2  3  4  5  6  7  8  9 10]\n",
      "data: [57  8 88  6 84 36 86 10 49 24]\n",
      "\n",
      "\n",
      "[<src.StreamPort.core.Analyses.Analyses object at 0x000001D441CD2D50>]\n"
     ]
    }
   ],
   "source": [
    "from src.StreamPort.ml.MachineLearningEngine import MachineLearningEngine\n",
    "from src.StreamPort.core.Analyses import Analyses\n",
    "import pandas as pd\n",
    "import numpy as np\n",
    "\n",
    "#Creates an empty MachineLearningEngine object and prints it\n",
    "engine = MachineLearningEngine()\n",
    "engine.print()\n",
    "\n",
    "#read the data from the csv file\n",
    "print(\"Read the csv file\")\n",
    "df = MachineLearningEngine().read_csv()\n",
    "pd.options.display.max_columns = 8\n",
    "pd.options.display.max_rows = 10\n",
    "print(df) \n",
    "\n",
    "print(\"Create a list of analysis object and prints it\")\n",
    "anal1 = [\n",
    "    Analyses(name=\"Analysis1\", data={\"raw\": np.arange(1, 11), \"data\": np.random.randint(0, 100, 10)})\n",
    "]\n",
    "x = MachineLearningEngine(analyses=anal1)\n",
    "for analysis in x._analyses:\n",
    "  print(f\"Analysis: {analysis.name}\")\n",
    "  for key, value in analysis.data.items():\n",
    "    print(f\"{key}: {value}\")\n",
    "  print(\"\\n\")\n",
    "print(anal1)"
   ]
  }
 ],
 "metadata": {
  "kernelspec": {
   "display_name": "Python 3",
   "language": "python",
   "name": "python3"
  },
  "language_info": {
   "codemirror_mode": {
    "name": "ipython",
    "version": 3
   },
   "file_extension": ".py",
   "mimetype": "text/x-python",
   "name": "python",
   "nbconvert_exporter": "python",
   "pygments_lexer": "ipython3",
   "version": "3.12.3"
  }
 },
 "nbformat": 4,
 "nbformat_minor": 2
}
