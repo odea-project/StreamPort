{
 "cells": [
  {
   "cell_type": "markdown",
   "metadata": {},
   "source": [
    "## MachineLearningEngine Class"
   ]
  },
  {
   "cell_type": "markdown",
   "metadata": {},
   "source": [
    "The MachineLearningEngine class is builds on the CoreEngine class. The CoreEngine class serves as a parent class engines that focus on data, while the MachineLearningEngine class is for engines that focus on learning from data."
   ]
  },
  {
   "cell_type": "code",
   "execution_count": null,
   "metadata": {},
   "outputs": [],
   "source": [
    "from src.StreamPort.ml.MachineLearningEngine import MachineLearningEngine\n",
    "\n",
    "#Creates an empty MachineLearningEngine object and prints it\n",
    "engine = MachineLearningEngine()\n",
    "engine.print()"
   ]
  },
  {
   "cell_type": "markdown",
   "metadata": {},
   "source": [
    "## MachineLearningAnalysis Class"
   ]
  },
  {
   "cell_type": "markdown",
   "metadata": {},
   "source": [
    "The MachineLearningAnalysis class is builds on the class Analysis. The Analysis class that is used to perform analysis on the data. "
   ]
  },
  {
   "cell_type": "code",
   "execution_count": null,
   "metadata": {},
   "outputs": [],
   "source": [
    "from src.StreamPort.ml.MachineLearningAnalysis import MachineLearningAnalysis\n",
    "\n",
    "#Creates an empty MachineLearningAnalysis obejct and prints it\n",
    "analysis = MachineLearningAnalysis()\n",
    "analysis.print()"
   ]
  },
  {
   "cell_type": "markdown",
   "metadata": {},
   "source": [
    "#### Load the CSV File  "
   ]
  },
  {
   "cell_type": "markdown",
   "metadata": {},
   "source": [
    "This method loads the dataset from csv file and create a list of analysis object. Used the data to make a matrix with the analysis names and visualizes the results using a scatter plot.  "
   ]
  },
  {
   "cell_type": "code",
   "execution_count": null,
   "metadata": {},
   "outputs": [],
   "source": [
    "from src.StreamPort.ml.MachineLearningEngine import MachineLearningEngine\n",
    "from sklearn.decomposition import PCA \n",
    "import matplotlib.pyplot as plt\n",
    "\n",
    "#Creates an empty MachineLearningEngine object and prints it\n",
    "path = 'feature_list.csv'\n",
    "engine = MachineLearningEngine()\n",
    "engine.add_analyses_from_csv(path)\n",
    "\n",
    "engine.print()\n",
    "\n",
    "print(\"Create a list of analysis object and prints it\" )\n",
    "for analysis in engine._analyses:\n",
    "    print(f\"Analysis: {analysis.name}\")\n",
    "    for key, value in analysis.data.items():\n",
    "        print(f\"{key}: {value}\")\n",
    "    print(\"\\n\")\n",
    "\n",
    "rownames = engine.get_analyses_names()\n",
    "print(\"Analysename: \", rownames)\n",
    "\n",
    "mat = engine.get_data()\n",
    "mat.index = rownames\n",
    "print(\"Matrix: \\n\", mat)\n"
   ]
  },
  {
   "cell_type": "markdown",
   "metadata": {},
   "source": [
    "#### Make a Principle Conponent Analysis (PCA)\n",
    "\n",
    "The method implements a machine learning engine that perfporms PCA on the dataset and visualizes the results. ProcessingSetting is the parent of MakePCA. The ProcessingSettings used to assemble data processing workflows within the each engine. The subclass MakePCASKL of MakePCA using skitklearn algorithm to perform the PCA."
   ]
  },
  {
   "cell_type": "code",
   "execution_count": null,
   "metadata": {},
   "outputs": [],
   "source": [
    "from src.StreamPort.ml.MachineLearningEngine import MachineLearningEngine\n",
    "from src.StreamPort.ml.MachineLearningProcessingSettings import  MakeModelPCASKL\n",
    "import webbrowser\n",
    "\n",
    "#Creates an empty MachineLearningEngine object and prints it\n",
    "path = 'feature_list.csv'\n",
    "engine = MachineLearningEngine()\n",
    "engine.add_analyses_from_csv(path)\n",
    "\n",
    "class_path = 'feature_metadata.csv'\n",
    "engine.add_classes_from_csv(class_path)\n",
    "\n",
    "engine.print()\n",
    "#print(engine.get_classes())\n",
    "\n",
    "# !!! make a general data plot\n",
    "engine.plot_data()\n",
    "webbrowser.open('general_data_plot.html')\n",
    "# x axis in the index of the features (i.e., col names)\n",
    "# y axis is the valule for each analysis\n",
    "# color legend is applied for each analysis\n",
    "\n",
    "\n",
    "# Add the ProcessingSettings to the _settings attribute with add settings\n",
    "pca_model = MakeModelPCASKL(n_components = 2, center_data= True)\n",
    "engine.add_settings(pca_model)\n",
    "engine.print()\n",
    "# Create a method in the ML engine to perfom PCA and collect the results\n",
    "engine.run_workflow()\n",
    "# The results are added to the _results atribute of the engine\n",
    "# make a plot method in the ML engine for the PCA results and classes\n",
    "engine.plot_pca()\n",
    "webbrowser.open('pca_scores_plot.html')\n",
    "webbrowser.open('pca_loadings_plot.html')\n",
    "# make a loadings plot after confirming the scores plot\n"
   ]
  },
  {
   "cell_type": "markdown",
   "metadata": {},
   "source": [
    "#### Make a Density-Based Spatial Clustering of Application with Noise (DBSCAN)\n",
    "\n"
   ]
  },
  {
   "cell_type": "code",
   "execution_count": null,
   "metadata": {},
   "outputs": [],
   "source": [
    "from src.StreamPort.ml.MachineLearningEngine import MachineLearningEngine\n",
    "import pandas as pd\n",
    "import numpy as np\n",
    "from sklearn.cluster import DBSCAN\n",
    "import plotly.express as px\n",
    "\n",
    "eps = 1.5  \n",
    "min_samples = 5  \n",
    "\n",
    "path = 'feature_list.csv'  \n",
    "engine = MachineLearningEngine()  \n",
    "engine.add_analyses_from_csv(path)  \n",
    "engine.print()  \n",
    "\n",
    "df = pd.read_csv(path)\n",
    "data = df.drop(columns=['name'])  \n",
    "\n",
    "dbscan = DBSCAN(eps=eps, min_samples=min_samples)\n",
    "labels = dbscan.fit_predict(data)  \n",
    "\n",
    "n_clusters = len(set(labels)) - (1 if -1 in labels else 0)  \n",
    "n_noise = list(labels).count(-1) \n",
    "print(f\"Anzahl der geschätzten Cluster: {n_clusters}\")\n",
    "print(f\"Anzahl der Rauschpunkte: {n_noise}\")\n",
    "\n",
    "data['Cluster'] = labels  \n",
    "data['Cluster'] = data['Cluster'].astype(str)  \n",
    "\n",
    "random_columns = np.random.choice(data.columns, 2, replace=False)\n",
    "fig = px.scatter(data, x=random_columns[0], y=random_columns[1], color='Cluster',\n",
    "                 title=\"DBSCAN Clustering Results\",\n",
    "                 color_continuous_scale=px.colors.diverging.Tealrose,\n",
    "                 labels={'color': 'Cluster ID'})\n",
    "\n",
    "fig.show()  "
   ]
  },
  {
   "cell_type": "markdown",
   "metadata": {},
   "source": [
    "### Uniform Manifold Approximation and Projection (UMAP)"
   ]
  },
  {
   "cell_type": "code",
   "execution_count": null,
   "metadata": {},
   "outputs": [],
   "source": [
    "from src.StreamPort.ml.MachineLearningEngine import MachineLearningEngine\n",
    "from src.StreamPort.ml.MachineLearningProcessingSettings import  MakeModelUMAP\n",
    "\n",
    "#Creates an empty MachineLearningEngine object and prints it\n",
    "path = 'feature_list.csv'\n",
    "engine = MachineLearningEngine()\n",
    "engine.add_analyses_from_csv(path)\n",
    "\n",
    "class_path = 'feature_metadata.csv'\n",
    "engine.add_classes_from_csv(class_path)\n",
    "engine.print()\n",
    "\n",
    "umap_model = MakeModelUMAP(n_neighbors=15, min_dist=0.1, n_components=2,random_state=42)\n",
    "engine.add_settings(umap_model)\n",
    "engine.print()\n",
    "engine.run_workflow()\n",
    "engine.plot_umap()\n"
   ]
  },
  {
   "cell_type": "code",
   "execution_count": null,
   "metadata": {},
   "outputs": [
    {
     "name": "stdout",
     "output_type": "stream",
     "text": [
      "Structure of the CSV file: {'number_of_rows': 45, 'number_of_columns': 4445}\n",
      "plot march\n",
      "Running workflow with settings: MakeModel\n"
     ]
    },
    {
     "data": {
      "application/vnd.plotly.v1+json": {
       "config": {
        "plotlyServerURL": "https://plot.ly"
       },
       "data": [
        {
         "hovertemplate": "class=march-control<br>UMAP Component 1=%{x}<br>UMAP Component 2=%{y}<extra></extra>",
         "legendgroup": "march-control",
         "marker": {
          "color": "#636efa",
          "symbol": "circle"
         },
         "mode": "markers",
         "name": "march-control",
         "orientation": "v",
         "showlegend": true,
         "type": "scatter",
         "x": [
          5.678569793701172,
          6.152231216430664,
          5.955126762390137,
          5.652645587921143,
          5.359827518463135,
          5.151177406311035,
          6.069325923919678,
          5.649795055389404,
          5.602123260498047
         ],
         "xaxis": "x",
         "y": [
          10.59228801727295,
          10.554802894592285,
          10.74842643737793,
          10.400136947631836,
          10.398282051086426,
          10.63251781463623,
          10.271852493286133,
          10.940072059631348,
          10.160383224487305
         ],
         "yaxis": "y"
        },
        {
         "hovertemplate": "class=march-influent_ozone<br>UMAP Component 1=%{x}<br>UMAP Component 2=%{y}<extra></extra>",
         "legendgroup": "march-influent_ozone",
         "marker": {
          "color": "#EF553B",
          "symbol": "circle"
         },
         "mode": "markers",
         "name": "march-influent_ozone",
         "orientation": "v",
         "showlegend": true,
         "type": "scatter",
         "x": [
          10.035520553588867,
          10.160438537597656,
          10.613149642944336,
          10.928435325622559,
          10.54018783569336,
          11.602558135986328,
          12.667728424072266,
          12.815281867980957,
          12.290887832641602
         ],
         "xaxis": "x",
         "y": [
          10.4909086227417,
          10.762101173400879,
          10.501781463623047,
          10.195260047912598,
          10.035114288330078,
          11.59178638458252,
          10.681520462036133,
          11.093395233154297,
          10.436756134033203
         ],
         "yaxis": "y"
        },
        {
         "hovertemplate": "class=march-influent_uv<br>UMAP Component 1=%{x}<br>UMAP Component 2=%{y}<extra></extra>",
         "legendgroup": "march-influent_uv",
         "marker": {
          "color": "#00cc96",
          "symbol": "circle"
         },
         "mode": "markers",
         "name": "march-influent_uv",
         "orientation": "v",
         "showlegend": true,
         "type": "scatter",
         "x": [
          9.811813354492188,
          10.126282691955566,
          11.654661178588867,
          11.007644653320312,
          10.678743362426758,
          11.765157699584961,
          12.17572021484375,
          12.484783172607422,
          12.164288520812988
         ],
         "xaxis": "x",
         "y": [
          10.95048713684082,
          11.11514949798584,
          11.152046203613281,
          10.637232780456543,
          10.917900085449219,
          11.39693832397461,
          11.29162883758545,
          11.028775215148926,
          10.565698623657227
         ],
         "yaxis": "y"
        },
        {
         "hovertemplate": "class=march-influent_ac<br>UMAP Component 1=%{x}<br>UMAP Component 2=%{y}<extra></extra>",
         "legendgroup": "march-influent_ac",
         "marker": {
          "color": "#ab63fa",
          "symbol": "circle"
         },
         "mode": "markers",
         "name": "march-influent_ac",
         "orientation": "v",
         "showlegend": true,
         "type": "scatter",
         "x": [
          11.015119552612305,
          9.681015014648438,
          10.094024658203125,
          10.343534469604492,
          10.535872459411621,
          11.921751976013184,
          12.295166969299316,
          12.560717582702637,
          11.981863975524902
         ],
         "xaxis": "x",
         "y": [
          11.67503547668457,
          11.490462303161621,
          11.82529354095459,
          11.515803337097168,
          11.983759880065918,
          11.855764389038086,
          11.837669372558594,
          11.46788215637207,
          10.78264331817627
         ],
         "yaxis": "y"
        },
        {
         "hovertemplate": "class=march-effluent<br>UMAP Component 1=%{x}<br>UMAP Component 2=%{y}<extra></extra>",
         "legendgroup": "march-effluent",
         "marker": {
          "color": "#FFA15A",
          "symbol": "circle"
         },
         "mode": "markers",
         "name": "march-effluent",
         "orientation": "v",
         "showlegend": true,
         "type": "scatter",
         "x": [
          8.735218048095703,
          8.304195404052734,
          8.479594230651855,
          8.54261589050293,
          8.011969566345215,
          7.548499584197998,
          7.717628002166748,
          8.103784561157227,
          7.7165727615356445
         ],
         "xaxis": "x",
         "y": [
          11.42412281036377,
          10.965469360351562,
          11.185861587524414,
          10.877495765686035,
          11.231300354003906,
          11.073007583618164,
          11.735618591308594,
          11.638378143310547,
          11.376514434814453
         ],
         "yaxis": "y"
        }
       ],
       "layout": {
        "legend": {
         "title": {
          "text": "class"
         },
         "tracegroupgap": 0
        },
        "template": {
         "data": {
          "bar": [
           {
            "error_x": {
             "color": "#2a3f5f"
            },
            "error_y": {
             "color": "#2a3f5f"
            },
            "marker": {
             "line": {
              "color": "#E5ECF6",
              "width": 0.5
             },
             "pattern": {
              "fillmode": "overlay",
              "size": 10,
              "solidity": 0.2
             }
            },
            "type": "bar"
           }
          ],
          "barpolar": [
           {
            "marker": {
             "line": {
              "color": "#E5ECF6",
              "width": 0.5
             },
             "pattern": {
              "fillmode": "overlay",
              "size": 10,
              "solidity": 0.2
             }
            },
            "type": "barpolar"
           }
          ],
          "carpet": [
           {
            "aaxis": {
             "endlinecolor": "#2a3f5f",
             "gridcolor": "white",
             "linecolor": "white",
             "minorgridcolor": "white",
             "startlinecolor": "#2a3f5f"
            },
            "baxis": {
             "endlinecolor": "#2a3f5f",
             "gridcolor": "white",
             "linecolor": "white",
             "minorgridcolor": "white",
             "startlinecolor": "#2a3f5f"
            },
            "type": "carpet"
           }
          ],
          "choropleth": [
           {
            "colorbar": {
             "outlinewidth": 0,
             "ticks": ""
            },
            "type": "choropleth"
           }
          ],
          "contour": [
           {
            "colorbar": {
             "outlinewidth": 0,
             "ticks": ""
            },
            "colorscale": [
             [
              0,
              "#0d0887"
             ],
             [
              0.1111111111111111,
              "#46039f"
             ],
             [
              0.2222222222222222,
              "#7201a8"
             ],
             [
              0.3333333333333333,
              "#9c179e"
             ],
             [
              0.4444444444444444,
              "#bd3786"
             ],
             [
              0.5555555555555556,
              "#d8576b"
             ],
             [
              0.6666666666666666,
              "#ed7953"
             ],
             [
              0.7777777777777778,
              "#fb9f3a"
             ],
             [
              0.8888888888888888,
              "#fdca26"
             ],
             [
              1,
              "#f0f921"
             ]
            ],
            "type": "contour"
           }
          ],
          "contourcarpet": [
           {
            "colorbar": {
             "outlinewidth": 0,
             "ticks": ""
            },
            "type": "contourcarpet"
           }
          ],
          "heatmap": [
           {
            "colorbar": {
             "outlinewidth": 0,
             "ticks": ""
            },
            "colorscale": [
             [
              0,
              "#0d0887"
             ],
             [
              0.1111111111111111,
              "#46039f"
             ],
             [
              0.2222222222222222,
              "#7201a8"
             ],
             [
              0.3333333333333333,
              "#9c179e"
             ],
             [
              0.4444444444444444,
              "#bd3786"
             ],
             [
              0.5555555555555556,
              "#d8576b"
             ],
             [
              0.6666666666666666,
              "#ed7953"
             ],
             [
              0.7777777777777778,
              "#fb9f3a"
             ],
             [
              0.8888888888888888,
              "#fdca26"
             ],
             [
              1,
              "#f0f921"
             ]
            ],
            "type": "heatmap"
           }
          ],
          "heatmapgl": [
           {
            "colorbar": {
             "outlinewidth": 0,
             "ticks": ""
            },
            "colorscale": [
             [
              0,
              "#0d0887"
             ],
             [
              0.1111111111111111,
              "#46039f"
             ],
             [
              0.2222222222222222,
              "#7201a8"
             ],
             [
              0.3333333333333333,
              "#9c179e"
             ],
             [
              0.4444444444444444,
              "#bd3786"
             ],
             [
              0.5555555555555556,
              "#d8576b"
             ],
             [
              0.6666666666666666,
              "#ed7953"
             ],
             [
              0.7777777777777778,
              "#fb9f3a"
             ],
             [
              0.8888888888888888,
              "#fdca26"
             ],
             [
              1,
              "#f0f921"
             ]
            ],
            "type": "heatmapgl"
           }
          ],
          "histogram": [
           {
            "marker": {
             "pattern": {
              "fillmode": "overlay",
              "size": 10,
              "solidity": 0.2
             }
            },
            "type": "histogram"
           }
          ],
          "histogram2d": [
           {
            "colorbar": {
             "outlinewidth": 0,
             "ticks": ""
            },
            "colorscale": [
             [
              0,
              "#0d0887"
             ],
             [
              0.1111111111111111,
              "#46039f"
             ],
             [
              0.2222222222222222,
              "#7201a8"
             ],
             [
              0.3333333333333333,
              "#9c179e"
             ],
             [
              0.4444444444444444,
              "#bd3786"
             ],
             [
              0.5555555555555556,
              "#d8576b"
             ],
             [
              0.6666666666666666,
              "#ed7953"
             ],
             [
              0.7777777777777778,
              "#fb9f3a"
             ],
             [
              0.8888888888888888,
              "#fdca26"
             ],
             [
              1,
              "#f0f921"
             ]
            ],
            "type": "histogram2d"
           }
          ],
          "histogram2dcontour": [
           {
            "colorbar": {
             "outlinewidth": 0,
             "ticks": ""
            },
            "colorscale": [
             [
              0,
              "#0d0887"
             ],
             [
              0.1111111111111111,
              "#46039f"
             ],
             [
              0.2222222222222222,
              "#7201a8"
             ],
             [
              0.3333333333333333,
              "#9c179e"
             ],
             [
              0.4444444444444444,
              "#bd3786"
             ],
             [
              0.5555555555555556,
              "#d8576b"
             ],
             [
              0.6666666666666666,
              "#ed7953"
             ],
             [
              0.7777777777777778,
              "#fb9f3a"
             ],
             [
              0.8888888888888888,
              "#fdca26"
             ],
             [
              1,
              "#f0f921"
             ]
            ],
            "type": "histogram2dcontour"
           }
          ],
          "mesh3d": [
           {
            "colorbar": {
             "outlinewidth": 0,
             "ticks": ""
            },
            "type": "mesh3d"
           }
          ],
          "parcoords": [
           {
            "line": {
             "colorbar": {
              "outlinewidth": 0,
              "ticks": ""
             }
            },
            "type": "parcoords"
           }
          ],
          "pie": [
           {
            "automargin": true,
            "type": "pie"
           }
          ],
          "scatter": [
           {
            "fillpattern": {
             "fillmode": "overlay",
             "size": 10,
             "solidity": 0.2
            },
            "type": "scatter"
           }
          ],
          "scatter3d": [
           {
            "line": {
             "colorbar": {
              "outlinewidth": 0,
              "ticks": ""
             }
            },
            "marker": {
             "colorbar": {
              "outlinewidth": 0,
              "ticks": ""
             }
            },
            "type": "scatter3d"
           }
          ],
          "scattercarpet": [
           {
            "marker": {
             "colorbar": {
              "outlinewidth": 0,
              "ticks": ""
             }
            },
            "type": "scattercarpet"
           }
          ],
          "scattergeo": [
           {
            "marker": {
             "colorbar": {
              "outlinewidth": 0,
              "ticks": ""
             }
            },
            "type": "scattergeo"
           }
          ],
          "scattergl": [
           {
            "marker": {
             "colorbar": {
              "outlinewidth": 0,
              "ticks": ""
             }
            },
            "type": "scattergl"
           }
          ],
          "scattermapbox": [
           {
            "marker": {
             "colorbar": {
              "outlinewidth": 0,
              "ticks": ""
             }
            },
            "type": "scattermapbox"
           }
          ],
          "scatterpolar": [
           {
            "marker": {
             "colorbar": {
              "outlinewidth": 0,
              "ticks": ""
             }
            },
            "type": "scatterpolar"
           }
          ],
          "scatterpolargl": [
           {
            "marker": {
             "colorbar": {
              "outlinewidth": 0,
              "ticks": ""
             }
            },
            "type": "scatterpolargl"
           }
          ],
          "scatterternary": [
           {
            "marker": {
             "colorbar": {
              "outlinewidth": 0,
              "ticks": ""
             }
            },
            "type": "scatterternary"
           }
          ],
          "surface": [
           {
            "colorbar": {
             "outlinewidth": 0,
             "ticks": ""
            },
            "colorscale": [
             [
              0,
              "#0d0887"
             ],
             [
              0.1111111111111111,
              "#46039f"
             ],
             [
              0.2222222222222222,
              "#7201a8"
             ],
             [
              0.3333333333333333,
              "#9c179e"
             ],
             [
              0.4444444444444444,
              "#bd3786"
             ],
             [
              0.5555555555555556,
              "#d8576b"
             ],
             [
              0.6666666666666666,
              "#ed7953"
             ],
             [
              0.7777777777777778,
              "#fb9f3a"
             ],
             [
              0.8888888888888888,
              "#fdca26"
             ],
             [
              1,
              "#f0f921"
             ]
            ],
            "type": "surface"
           }
          ],
          "table": [
           {
            "cells": {
             "fill": {
              "color": "#EBF0F8"
             },
             "line": {
              "color": "white"
             }
            },
            "header": {
             "fill": {
              "color": "#C8D4E3"
             },
             "line": {
              "color": "white"
             }
            },
            "type": "table"
           }
          ]
         },
         "layout": {
          "annotationdefaults": {
           "arrowcolor": "#2a3f5f",
           "arrowhead": 0,
           "arrowwidth": 1
          },
          "autotypenumbers": "strict",
          "coloraxis": {
           "colorbar": {
            "outlinewidth": 0,
            "ticks": ""
           }
          },
          "colorscale": {
           "diverging": [
            [
             0,
             "#8e0152"
            ],
            [
             0.1,
             "#c51b7d"
            ],
            [
             0.2,
             "#de77ae"
            ],
            [
             0.3,
             "#f1b6da"
            ],
            [
             0.4,
             "#fde0ef"
            ],
            [
             0.5,
             "#f7f7f7"
            ],
            [
             0.6,
             "#e6f5d0"
            ],
            [
             0.7,
             "#b8e186"
            ],
            [
             0.8,
             "#7fbc41"
            ],
            [
             0.9,
             "#4d9221"
            ],
            [
             1,
             "#276419"
            ]
           ],
           "sequential": [
            [
             0,
             "#0d0887"
            ],
            [
             0.1111111111111111,
             "#46039f"
            ],
            [
             0.2222222222222222,
             "#7201a8"
            ],
            [
             0.3333333333333333,
             "#9c179e"
            ],
            [
             0.4444444444444444,
             "#bd3786"
            ],
            [
             0.5555555555555556,
             "#d8576b"
            ],
            [
             0.6666666666666666,
             "#ed7953"
            ],
            [
             0.7777777777777778,
             "#fb9f3a"
            ],
            [
             0.8888888888888888,
             "#fdca26"
            ],
            [
             1,
             "#f0f921"
            ]
           ],
           "sequentialminus": [
            [
             0,
             "#0d0887"
            ],
            [
             0.1111111111111111,
             "#46039f"
            ],
            [
             0.2222222222222222,
             "#7201a8"
            ],
            [
             0.3333333333333333,
             "#9c179e"
            ],
            [
             0.4444444444444444,
             "#bd3786"
            ],
            [
             0.5555555555555556,
             "#d8576b"
            ],
            [
             0.6666666666666666,
             "#ed7953"
            ],
            [
             0.7777777777777778,
             "#fb9f3a"
            ],
            [
             0.8888888888888888,
             "#fdca26"
            ],
            [
             1,
             "#f0f921"
            ]
           ]
          },
          "colorway": [
           "#636efa",
           "#EF553B",
           "#00cc96",
           "#ab63fa",
           "#FFA15A",
           "#19d3f3",
           "#FF6692",
           "#B6E880",
           "#FF97FF",
           "#FECB52"
          ],
          "font": {
           "color": "#2a3f5f"
          },
          "geo": {
           "bgcolor": "white",
           "lakecolor": "white",
           "landcolor": "#E5ECF6",
           "showlakes": true,
           "showland": true,
           "subunitcolor": "white"
          },
          "hoverlabel": {
           "align": "left"
          },
          "hovermode": "closest",
          "mapbox": {
           "style": "light"
          },
          "paper_bgcolor": "white",
          "plot_bgcolor": "#E5ECF6",
          "polar": {
           "angularaxis": {
            "gridcolor": "white",
            "linecolor": "white",
            "ticks": ""
           },
           "bgcolor": "#E5ECF6",
           "radialaxis": {
            "gridcolor": "white",
            "linecolor": "white",
            "ticks": ""
           }
          },
          "scene": {
           "xaxis": {
            "backgroundcolor": "#E5ECF6",
            "gridcolor": "white",
            "gridwidth": 2,
            "linecolor": "white",
            "showbackground": true,
            "ticks": "",
            "zerolinecolor": "white"
           },
           "yaxis": {
            "backgroundcolor": "#E5ECF6",
            "gridcolor": "white",
            "gridwidth": 2,
            "linecolor": "white",
            "showbackground": true,
            "ticks": "",
            "zerolinecolor": "white"
           },
           "zaxis": {
            "backgroundcolor": "#E5ECF6",
            "gridcolor": "white",
            "gridwidth": 2,
            "linecolor": "white",
            "showbackground": true,
            "ticks": "",
            "zerolinecolor": "white"
           }
          },
          "shapedefaults": {
           "line": {
            "color": "#2a3f5f"
           }
          },
          "ternary": {
           "aaxis": {
            "gridcolor": "white",
            "linecolor": "white",
            "ticks": ""
           },
           "baxis": {
            "gridcolor": "white",
            "linecolor": "white",
            "ticks": ""
           },
           "bgcolor": "#E5ECF6",
           "caxis": {
            "gridcolor": "white",
            "linecolor": "white",
            "ticks": ""
           }
          },
          "title": {
           "x": 0.05
          },
          "xaxis": {
           "automargin": true,
           "gridcolor": "white",
           "linecolor": "white",
           "ticks": "",
           "title": {
            "standoff": 15
           },
           "zerolinecolor": "white",
           "zerolinewidth": 2
          },
          "yaxis": {
           "automargin": true,
           "gridcolor": "white",
           "linecolor": "white",
           "ticks": "",
           "title": {
            "standoff": 15
           },
           "zerolinecolor": "white",
           "zerolinewidth": 2
          }
         }
        },
        "title": {
         "text": "UMAP Projection"
        },
        "xaxis": {
         "anchor": "y",
         "domain": [
          0,
          1
         ],
         "title": {
          "text": "UMAP Component 1"
         }
        },
        "yaxis": {
         "anchor": "x",
         "domain": [
          0,
          1
         ],
         "title": {
          "text": "UMAP Component 2"
         }
        }
       }
      }
     },
     "metadata": {},
     "output_type": "display_data"
    },
    {
     "name": "stdout",
     "output_type": "stream",
     "text": [
      "plot both month\n",
      "Running workflow with settings: MakeModel\n"
     ]
    },
    {
     "data": {
      "application/vnd.plotly.v1+json": {
       "config": {
        "plotlyServerURL": "https://plot.ly"
       },
       "data": [
        {
         "hovertemplate": "class=march-control<br>UMAP Component 1=%{x}<br>UMAP Component 2=%{y}<extra></extra>",
         "legendgroup": "march-control",
         "marker": {
          "color": "#636efa",
          "symbol": "circle"
         },
         "mode": "markers",
         "name": "march-control",
         "orientation": "v",
         "showlegend": true,
         "type": "scatter",
         "x": [
          5.678569793701172,
          5.955126762390137,
          5.359827518463135,
          6.069325923919678,
          5.602123260498047
         ],
         "xaxis": "x",
         "y": [
          10.59228801727295,
          10.74842643737793,
          10.398282051086426,
          10.271852493286133,
          10.160383224487305
         ],
         "yaxis": "y"
        },
        {
         "hovertemplate": "class=march-influent_ozone<br>UMAP Component 1=%{x}<br>UMAP Component 2=%{y}<extra></extra>",
         "legendgroup": "march-influent_ozone",
         "marker": {
          "color": "#EF553B",
          "symbol": "circle"
         },
         "mode": "markers",
         "name": "march-influent_ozone",
         "orientation": "v",
         "showlegend": true,
         "type": "scatter",
         "x": [
          10.035520553588867,
          10.613149642944336,
          10.54018783569336,
          12.667728424072266,
          12.290887832641602
         ],
         "xaxis": "x",
         "y": [
          10.4909086227417,
          10.501781463623047,
          10.035114288330078,
          10.681520462036133,
          10.436756134033203
         ],
         "yaxis": "y"
        },
        {
         "hovertemplate": "class=march-influent_uv<br>UMAP Component 1=%{x}<br>UMAP Component 2=%{y}<extra></extra>",
         "legendgroup": "march-influent_uv",
         "marker": {
          "color": "#00cc96",
          "symbol": "circle"
         },
         "mode": "markers",
         "name": "march-influent_uv",
         "orientation": "v",
         "showlegend": true,
         "type": "scatter",
         "x": [
          9.811813354492188,
          11.654661178588867,
          10.678743362426758,
          12.17572021484375,
          12.164288520812988
         ],
         "xaxis": "x",
         "y": [
          10.95048713684082,
          11.152046203613281,
          10.917900085449219,
          11.29162883758545,
          10.565698623657227
         ],
         "yaxis": "y"
        },
        {
         "hovertemplate": "class=march-influent_ac<br>UMAP Component 1=%{x}<br>UMAP Component 2=%{y}<extra></extra>",
         "legendgroup": "march-influent_ac",
         "marker": {
          "color": "#ab63fa",
          "symbol": "circle"
         },
         "mode": "markers",
         "name": "march-influent_ac",
         "orientation": "v",
         "showlegend": true,
         "type": "scatter",
         "x": [
          11.015119552612305,
          10.094024658203125,
          10.535872459411621,
          12.295166969299316,
          11.981863975524902
         ],
         "xaxis": "x",
         "y": [
          11.67503547668457,
          11.82529354095459,
          11.983759880065918,
          11.837669372558594,
          10.78264331817627
         ],
         "yaxis": "y"
        },
        {
         "hovertemplate": "class=march-effluent<br>UMAP Component 1=%{x}<br>UMAP Component 2=%{y}<extra></extra>",
         "legendgroup": "march-effluent",
         "marker": {
          "color": "#FFA15A",
          "symbol": "circle"
         },
         "mode": "markers",
         "name": "march-effluent",
         "orientation": "v",
         "showlegend": true,
         "type": "scatter",
         "x": [
          8.735218048095703,
          8.479594230651855,
          8.011969566345215,
          7.717628002166748,
          7.7165727615356445
         ],
         "xaxis": "x",
         "y": [
          11.42412281036377,
          11.185861587524414,
          11.231300354003906,
          11.735618591308594,
          11.376514434814453
         ],
         "yaxis": "y"
        },
        {
         "hovertemplate": "class=april-control<br>UMAP Component 1=%{x}<br>UMAP Component 2=%{y}<extra></extra>",
         "legendgroup": "april-control",
         "marker": {
          "color": "#19d3f3",
          "symbol": "circle"
         },
         "mode": "markers",
         "name": "april-control",
         "orientation": "v",
         "showlegend": true,
         "type": "scatter",
         "x": [
          6.152231216430664,
          5.652645587921143,
          5.151177406311035,
          5.649795055389404
         ],
         "xaxis": "x",
         "y": [
          10.554802894592285,
          10.400136947631836,
          10.63251781463623,
          10.940072059631348
         ],
         "yaxis": "y"
        },
        {
         "hovertemplate": "class=april-influent_ozone<br>UMAP Component 1=%{x}<br>UMAP Component 2=%{y}<extra></extra>",
         "legendgroup": "april-influent_ozone",
         "marker": {
          "color": "#FF6692",
          "symbol": "circle"
         },
         "mode": "markers",
         "name": "april-influent_ozone",
         "orientation": "v",
         "showlegend": true,
         "type": "scatter",
         "x": [
          10.160438537597656,
          10.928435325622559,
          11.602558135986328,
          12.815281867980957
         ],
         "xaxis": "x",
         "y": [
          10.762101173400879,
          10.195260047912598,
          11.59178638458252,
          11.093395233154297
         ],
         "yaxis": "y"
        },
        {
         "hovertemplate": "class=april-influent_uv<br>UMAP Component 1=%{x}<br>UMAP Component 2=%{y}<extra></extra>",
         "legendgroup": "april-influent_uv",
         "marker": {
          "color": "#B6E880",
          "symbol": "circle"
         },
         "mode": "markers",
         "name": "april-influent_uv",
         "orientation": "v",
         "showlegend": true,
         "type": "scatter",
         "x": [
          10.126282691955566,
          11.007644653320312,
          11.765157699584961,
          12.484783172607422
         ],
         "xaxis": "x",
         "y": [
          11.11514949798584,
          10.637232780456543,
          11.39693832397461,
          11.028775215148926
         ],
         "yaxis": "y"
        },
        {
         "hovertemplate": "class=april-influent_ac<br>UMAP Component 1=%{x}<br>UMAP Component 2=%{y}<extra></extra>",
         "legendgroup": "april-influent_ac",
         "marker": {
          "color": "#FF97FF",
          "symbol": "circle"
         },
         "mode": "markers",
         "name": "april-influent_ac",
         "orientation": "v",
         "showlegend": true,
         "type": "scatter",
         "x": [
          9.681015014648438,
          10.343534469604492,
          11.921751976013184,
          12.560717582702637
         ],
         "xaxis": "x",
         "y": [
          11.490462303161621,
          11.515803337097168,
          11.855764389038086,
          11.46788215637207
         ],
         "yaxis": "y"
        },
        {
         "hovertemplate": "class=april-effluent<br>UMAP Component 1=%{x}<br>UMAP Component 2=%{y}<extra></extra>",
         "legendgroup": "april-effluent",
         "marker": {
          "color": "#FECB52",
          "symbol": "circle"
         },
         "mode": "markers",
         "name": "april-effluent",
         "orientation": "v",
         "showlegend": true,
         "type": "scatter",
         "x": [
          8.304195404052734,
          8.54261589050293,
          7.548499584197998,
          8.103784561157227
         ],
         "xaxis": "x",
         "y": [
          10.965469360351562,
          10.877495765686035,
          11.073007583618164,
          11.638378143310547
         ],
         "yaxis": "y"
        }
       ],
       "layout": {
        "legend": {
         "title": {
          "text": "class"
         },
         "tracegroupgap": 0
        },
        "template": {
         "data": {
          "bar": [
           {
            "error_x": {
             "color": "#2a3f5f"
            },
            "error_y": {
             "color": "#2a3f5f"
            },
            "marker": {
             "line": {
              "color": "#E5ECF6",
              "width": 0.5
             },
             "pattern": {
              "fillmode": "overlay",
              "size": 10,
              "solidity": 0.2
             }
            },
            "type": "bar"
           }
          ],
          "barpolar": [
           {
            "marker": {
             "line": {
              "color": "#E5ECF6",
              "width": 0.5
             },
             "pattern": {
              "fillmode": "overlay",
              "size": 10,
              "solidity": 0.2
             }
            },
            "type": "barpolar"
           }
          ],
          "carpet": [
           {
            "aaxis": {
             "endlinecolor": "#2a3f5f",
             "gridcolor": "white",
             "linecolor": "white",
             "minorgridcolor": "white",
             "startlinecolor": "#2a3f5f"
            },
            "baxis": {
             "endlinecolor": "#2a3f5f",
             "gridcolor": "white",
             "linecolor": "white",
             "minorgridcolor": "white",
             "startlinecolor": "#2a3f5f"
            },
            "type": "carpet"
           }
          ],
          "choropleth": [
           {
            "colorbar": {
             "outlinewidth": 0,
             "ticks": ""
            },
            "type": "choropleth"
           }
          ],
          "contour": [
           {
            "colorbar": {
             "outlinewidth": 0,
             "ticks": ""
            },
            "colorscale": [
             [
              0,
              "#0d0887"
             ],
             [
              0.1111111111111111,
              "#46039f"
             ],
             [
              0.2222222222222222,
              "#7201a8"
             ],
             [
              0.3333333333333333,
              "#9c179e"
             ],
             [
              0.4444444444444444,
              "#bd3786"
             ],
             [
              0.5555555555555556,
              "#d8576b"
             ],
             [
              0.6666666666666666,
              "#ed7953"
             ],
             [
              0.7777777777777778,
              "#fb9f3a"
             ],
             [
              0.8888888888888888,
              "#fdca26"
             ],
             [
              1,
              "#f0f921"
             ]
            ],
            "type": "contour"
           }
          ],
          "contourcarpet": [
           {
            "colorbar": {
             "outlinewidth": 0,
             "ticks": ""
            },
            "type": "contourcarpet"
           }
          ],
          "heatmap": [
           {
            "colorbar": {
             "outlinewidth": 0,
             "ticks": ""
            },
            "colorscale": [
             [
              0,
              "#0d0887"
             ],
             [
              0.1111111111111111,
              "#46039f"
             ],
             [
              0.2222222222222222,
              "#7201a8"
             ],
             [
              0.3333333333333333,
              "#9c179e"
             ],
             [
              0.4444444444444444,
              "#bd3786"
             ],
             [
              0.5555555555555556,
              "#d8576b"
             ],
             [
              0.6666666666666666,
              "#ed7953"
             ],
             [
              0.7777777777777778,
              "#fb9f3a"
             ],
             [
              0.8888888888888888,
              "#fdca26"
             ],
             [
              1,
              "#f0f921"
             ]
            ],
            "type": "heatmap"
           }
          ],
          "heatmapgl": [
           {
            "colorbar": {
             "outlinewidth": 0,
             "ticks": ""
            },
            "colorscale": [
             [
              0,
              "#0d0887"
             ],
             [
              0.1111111111111111,
              "#46039f"
             ],
             [
              0.2222222222222222,
              "#7201a8"
             ],
             [
              0.3333333333333333,
              "#9c179e"
             ],
             [
              0.4444444444444444,
              "#bd3786"
             ],
             [
              0.5555555555555556,
              "#d8576b"
             ],
             [
              0.6666666666666666,
              "#ed7953"
             ],
             [
              0.7777777777777778,
              "#fb9f3a"
             ],
             [
              0.8888888888888888,
              "#fdca26"
             ],
             [
              1,
              "#f0f921"
             ]
            ],
            "type": "heatmapgl"
           }
          ],
          "histogram": [
           {
            "marker": {
             "pattern": {
              "fillmode": "overlay",
              "size": 10,
              "solidity": 0.2
             }
            },
            "type": "histogram"
           }
          ],
          "histogram2d": [
           {
            "colorbar": {
             "outlinewidth": 0,
             "ticks": ""
            },
            "colorscale": [
             [
              0,
              "#0d0887"
             ],
             [
              0.1111111111111111,
              "#46039f"
             ],
             [
              0.2222222222222222,
              "#7201a8"
             ],
             [
              0.3333333333333333,
              "#9c179e"
             ],
             [
              0.4444444444444444,
              "#bd3786"
             ],
             [
              0.5555555555555556,
              "#d8576b"
             ],
             [
              0.6666666666666666,
              "#ed7953"
             ],
             [
              0.7777777777777778,
              "#fb9f3a"
             ],
             [
              0.8888888888888888,
              "#fdca26"
             ],
             [
              1,
              "#f0f921"
             ]
            ],
            "type": "histogram2d"
           }
          ],
          "histogram2dcontour": [
           {
            "colorbar": {
             "outlinewidth": 0,
             "ticks": ""
            },
            "colorscale": [
             [
              0,
              "#0d0887"
             ],
             [
              0.1111111111111111,
              "#46039f"
             ],
             [
              0.2222222222222222,
              "#7201a8"
             ],
             [
              0.3333333333333333,
              "#9c179e"
             ],
             [
              0.4444444444444444,
              "#bd3786"
             ],
             [
              0.5555555555555556,
              "#d8576b"
             ],
             [
              0.6666666666666666,
              "#ed7953"
             ],
             [
              0.7777777777777778,
              "#fb9f3a"
             ],
             [
              0.8888888888888888,
              "#fdca26"
             ],
             [
              1,
              "#f0f921"
             ]
            ],
            "type": "histogram2dcontour"
           }
          ],
          "mesh3d": [
           {
            "colorbar": {
             "outlinewidth": 0,
             "ticks": ""
            },
            "type": "mesh3d"
           }
          ],
          "parcoords": [
           {
            "line": {
             "colorbar": {
              "outlinewidth": 0,
              "ticks": ""
             }
            },
            "type": "parcoords"
           }
          ],
          "pie": [
           {
            "automargin": true,
            "type": "pie"
           }
          ],
          "scatter": [
           {
            "fillpattern": {
             "fillmode": "overlay",
             "size": 10,
             "solidity": 0.2
            },
            "type": "scatter"
           }
          ],
          "scatter3d": [
           {
            "line": {
             "colorbar": {
              "outlinewidth": 0,
              "ticks": ""
             }
            },
            "marker": {
             "colorbar": {
              "outlinewidth": 0,
              "ticks": ""
             }
            },
            "type": "scatter3d"
           }
          ],
          "scattercarpet": [
           {
            "marker": {
             "colorbar": {
              "outlinewidth": 0,
              "ticks": ""
             }
            },
            "type": "scattercarpet"
           }
          ],
          "scattergeo": [
           {
            "marker": {
             "colorbar": {
              "outlinewidth": 0,
              "ticks": ""
             }
            },
            "type": "scattergeo"
           }
          ],
          "scattergl": [
           {
            "marker": {
             "colorbar": {
              "outlinewidth": 0,
              "ticks": ""
             }
            },
            "type": "scattergl"
           }
          ],
          "scattermapbox": [
           {
            "marker": {
             "colorbar": {
              "outlinewidth": 0,
              "ticks": ""
             }
            },
            "type": "scattermapbox"
           }
          ],
          "scatterpolar": [
           {
            "marker": {
             "colorbar": {
              "outlinewidth": 0,
              "ticks": ""
             }
            },
            "type": "scatterpolar"
           }
          ],
          "scatterpolargl": [
           {
            "marker": {
             "colorbar": {
              "outlinewidth": 0,
              "ticks": ""
             }
            },
            "type": "scatterpolargl"
           }
          ],
          "scatterternary": [
           {
            "marker": {
             "colorbar": {
              "outlinewidth": 0,
              "ticks": ""
             }
            },
            "type": "scatterternary"
           }
          ],
          "surface": [
           {
            "colorbar": {
             "outlinewidth": 0,
             "ticks": ""
            },
            "colorscale": [
             [
              0,
              "#0d0887"
             ],
             [
              0.1111111111111111,
              "#46039f"
             ],
             [
              0.2222222222222222,
              "#7201a8"
             ],
             [
              0.3333333333333333,
              "#9c179e"
             ],
             [
              0.4444444444444444,
              "#bd3786"
             ],
             [
              0.5555555555555556,
              "#d8576b"
             ],
             [
              0.6666666666666666,
              "#ed7953"
             ],
             [
              0.7777777777777778,
              "#fb9f3a"
             ],
             [
              0.8888888888888888,
              "#fdca26"
             ],
             [
              1,
              "#f0f921"
             ]
            ],
            "type": "surface"
           }
          ],
          "table": [
           {
            "cells": {
             "fill": {
              "color": "#EBF0F8"
             },
             "line": {
              "color": "white"
             }
            },
            "header": {
             "fill": {
              "color": "#C8D4E3"
             },
             "line": {
              "color": "white"
             }
            },
            "type": "table"
           }
          ]
         },
         "layout": {
          "annotationdefaults": {
           "arrowcolor": "#2a3f5f",
           "arrowhead": 0,
           "arrowwidth": 1
          },
          "autotypenumbers": "strict",
          "coloraxis": {
           "colorbar": {
            "outlinewidth": 0,
            "ticks": ""
           }
          },
          "colorscale": {
           "diverging": [
            [
             0,
             "#8e0152"
            ],
            [
             0.1,
             "#c51b7d"
            ],
            [
             0.2,
             "#de77ae"
            ],
            [
             0.3,
             "#f1b6da"
            ],
            [
             0.4,
             "#fde0ef"
            ],
            [
             0.5,
             "#f7f7f7"
            ],
            [
             0.6,
             "#e6f5d0"
            ],
            [
             0.7,
             "#b8e186"
            ],
            [
             0.8,
             "#7fbc41"
            ],
            [
             0.9,
             "#4d9221"
            ],
            [
             1,
             "#276419"
            ]
           ],
           "sequential": [
            [
             0,
             "#0d0887"
            ],
            [
             0.1111111111111111,
             "#46039f"
            ],
            [
             0.2222222222222222,
             "#7201a8"
            ],
            [
             0.3333333333333333,
             "#9c179e"
            ],
            [
             0.4444444444444444,
             "#bd3786"
            ],
            [
             0.5555555555555556,
             "#d8576b"
            ],
            [
             0.6666666666666666,
             "#ed7953"
            ],
            [
             0.7777777777777778,
             "#fb9f3a"
            ],
            [
             0.8888888888888888,
             "#fdca26"
            ],
            [
             1,
             "#f0f921"
            ]
           ],
           "sequentialminus": [
            [
             0,
             "#0d0887"
            ],
            [
             0.1111111111111111,
             "#46039f"
            ],
            [
             0.2222222222222222,
             "#7201a8"
            ],
            [
             0.3333333333333333,
             "#9c179e"
            ],
            [
             0.4444444444444444,
             "#bd3786"
            ],
            [
             0.5555555555555556,
             "#d8576b"
            ],
            [
             0.6666666666666666,
             "#ed7953"
            ],
            [
             0.7777777777777778,
             "#fb9f3a"
            ],
            [
             0.8888888888888888,
             "#fdca26"
            ],
            [
             1,
             "#f0f921"
            ]
           ]
          },
          "colorway": [
           "#636efa",
           "#EF553B",
           "#00cc96",
           "#ab63fa",
           "#FFA15A",
           "#19d3f3",
           "#FF6692",
           "#B6E880",
           "#FF97FF",
           "#FECB52"
          ],
          "font": {
           "color": "#2a3f5f"
          },
          "geo": {
           "bgcolor": "white",
           "lakecolor": "white",
           "landcolor": "#E5ECF6",
           "showlakes": true,
           "showland": true,
           "subunitcolor": "white"
          },
          "hoverlabel": {
           "align": "left"
          },
          "hovermode": "closest",
          "mapbox": {
           "style": "light"
          },
          "paper_bgcolor": "white",
          "plot_bgcolor": "#E5ECF6",
          "polar": {
           "angularaxis": {
            "gridcolor": "white",
            "linecolor": "white",
            "ticks": ""
           },
           "bgcolor": "#E5ECF6",
           "radialaxis": {
            "gridcolor": "white",
            "linecolor": "white",
            "ticks": ""
           }
          },
          "scene": {
           "xaxis": {
            "backgroundcolor": "#E5ECF6",
            "gridcolor": "white",
            "gridwidth": 2,
            "linecolor": "white",
            "showbackground": true,
            "ticks": "",
            "zerolinecolor": "white"
           },
           "yaxis": {
            "backgroundcolor": "#E5ECF6",
            "gridcolor": "white",
            "gridwidth": 2,
            "linecolor": "white",
            "showbackground": true,
            "ticks": "",
            "zerolinecolor": "white"
           },
           "zaxis": {
            "backgroundcolor": "#E5ECF6",
            "gridcolor": "white",
            "gridwidth": 2,
            "linecolor": "white",
            "showbackground": true,
            "ticks": "",
            "zerolinecolor": "white"
           }
          },
          "shapedefaults": {
           "line": {
            "color": "#2a3f5f"
           }
          },
          "ternary": {
           "aaxis": {
            "gridcolor": "white",
            "linecolor": "white",
            "ticks": ""
           },
           "baxis": {
            "gridcolor": "white",
            "linecolor": "white",
            "ticks": ""
           },
           "bgcolor": "#E5ECF6",
           "caxis": {
            "gridcolor": "white",
            "linecolor": "white",
            "ticks": ""
           }
          },
          "title": {
           "x": 0.05
          },
          "xaxis": {
           "automargin": true,
           "gridcolor": "white",
           "linecolor": "white",
           "ticks": "",
           "title": {
            "standoff": 15
           },
           "zerolinecolor": "white",
           "zerolinewidth": 2
          },
          "yaxis": {
           "automargin": true,
           "gridcolor": "white",
           "linecolor": "white",
           "ticks": "",
           "title": {
            "standoff": 15
           },
           "zerolinecolor": "white",
           "zerolinewidth": 2
          }
         }
        },
        "title": {
         "text": "UMAP Projection"
        },
        "xaxis": {
         "anchor": "y",
         "domain": [
          0,
          1
         ],
         "title": {
          "text": "UMAP Component 1"
         }
        },
        "yaxis": {
         "anchor": "x",
         "domain": [
          0,
          1
         ],
         "title": {
          "text": "UMAP Component 2"
         }
        }
       }
      }
     },
     "metadata": {},
     "output_type": "display_data"
    }
   ],
   "source": [
    "from src.StreamPort.ml.MachineLearningEngine import MachineLearningEngine\n",
    "from src.StreamPort.ml.MachineLearningProcessingSettings import  MakeModelUMAP\n",
    "import pandas as pd\n",
    "\n",
    "path = 'feature_list.csv'\n",
    "engine = MachineLearningEngine()\n",
    "engine.add_analyses_from_csv(path)\n",
    "\n",
    "class_path = 'new_metadata.csv'\n",
    "df = pd.read_csv(class_path)\n",
    "\n",
    "#plot march\n",
    "print(\"plot march\")\n",
    "engine.add_month_classes(df, 'march') \n",
    "\n",
    "umap_model = MakeModelUMAP(n_neighbors=15, min_dist=0.1, n_components=2, random_state=42)\n",
    "engine.add_settings(umap_model)\n",
    "engine.run_workflow()\n",
    "engine.plot_umap()  \n",
    "\n",
    "#plot both month\n",
    "print(\"plot both month\")\n",
    "engine.add_month_classes(df, 'april')  \n",
    "\n",
    "umap_model = MakeModelUMAP(n_neighbors=15, min_dist=0.1, n_components=2, random_state=42)\n",
    "engine.add_settings(umap_model)\n",
    "engine.run_workflow()\n",
    "engine.plot_umap()  "
   ]
  },
  {
   "cell_type": "code",
   "execution_count": null,
   "metadata": {},
   "outputs": [
    {
     "name": "stdout",
     "output_type": "stream",
     "text": [
      "Structure of the CSV file: {'number_of_rows': 45, 'number_of_columns': 4445}\n",
      "plot april\n",
      "Running workflow with settings: MakeModel\n"
     ]
    },
    {
     "data": {
      "application/vnd.plotly.v1+json": {
       "config": {
        "plotlyServerURL": "https://plot.ly"
       },
       "data": [
        {
         "hovertemplate": "class=april-control<br>UMAP Component 1=%{x}<br>UMAP Component 2=%{y}<extra></extra>",
         "legendgroup": "april-control",
         "marker": {
          "color": "#636efa",
          "symbol": "circle"
         },
         "mode": "markers",
         "name": "april-control",
         "orientation": "v",
         "showlegend": true,
         "type": "scatter",
         "x": [
          5.678569793701172,
          6.152231216430664,
          5.955126762390137,
          5.652645587921143,
          5.359827518463135,
          5.151177406311035,
          6.069325923919678,
          5.649795055389404,
          5.602123260498047
         ],
         "xaxis": "x",
         "y": [
          10.59228801727295,
          10.554802894592285,
          10.74842643737793,
          10.400136947631836,
          10.398282051086426,
          10.63251781463623,
          10.271852493286133,
          10.940072059631348,
          10.160383224487305
         ],
         "yaxis": "y"
        },
        {
         "hovertemplate": "class=april-influent_ozone<br>UMAP Component 1=%{x}<br>UMAP Component 2=%{y}<extra></extra>",
         "legendgroup": "april-influent_ozone",
         "marker": {
          "color": "#EF553B",
          "symbol": "circle"
         },
         "mode": "markers",
         "name": "april-influent_ozone",
         "orientation": "v",
         "showlegend": true,
         "type": "scatter",
         "x": [
          10.035520553588867,
          10.160438537597656,
          10.613149642944336,
          10.928435325622559,
          10.54018783569336,
          11.602558135986328,
          12.667728424072266,
          12.815281867980957,
          12.290887832641602
         ],
         "xaxis": "x",
         "y": [
          10.4909086227417,
          10.762101173400879,
          10.501781463623047,
          10.195260047912598,
          10.035114288330078,
          11.59178638458252,
          10.681520462036133,
          11.093395233154297,
          10.436756134033203
         ],
         "yaxis": "y"
        },
        {
         "hovertemplate": "class=april-influent_uv<br>UMAP Component 1=%{x}<br>UMAP Component 2=%{y}<extra></extra>",
         "legendgroup": "april-influent_uv",
         "marker": {
          "color": "#00cc96",
          "symbol": "circle"
         },
         "mode": "markers",
         "name": "april-influent_uv",
         "orientation": "v",
         "showlegend": true,
         "type": "scatter",
         "x": [
          9.811813354492188,
          10.126282691955566,
          11.654661178588867,
          11.007644653320312,
          10.678743362426758,
          11.765157699584961,
          12.17572021484375,
          12.484783172607422,
          12.164288520812988
         ],
         "xaxis": "x",
         "y": [
          10.95048713684082,
          11.11514949798584,
          11.152046203613281,
          10.637232780456543,
          10.917900085449219,
          11.39693832397461,
          11.29162883758545,
          11.028775215148926,
          10.565698623657227
         ],
         "yaxis": "y"
        },
        {
         "hovertemplate": "class=april-influent_ac<br>UMAP Component 1=%{x}<br>UMAP Component 2=%{y}<extra></extra>",
         "legendgroup": "april-influent_ac",
         "marker": {
          "color": "#ab63fa",
          "symbol": "circle"
         },
         "mode": "markers",
         "name": "april-influent_ac",
         "orientation": "v",
         "showlegend": true,
         "type": "scatter",
         "x": [
          11.015119552612305,
          9.681015014648438,
          10.094024658203125,
          10.343534469604492,
          10.535872459411621,
          11.921751976013184,
          12.295166969299316,
          12.560717582702637,
          11.981863975524902
         ],
         "xaxis": "x",
         "y": [
          11.67503547668457,
          11.490462303161621,
          11.82529354095459,
          11.515803337097168,
          11.983759880065918,
          11.855764389038086,
          11.837669372558594,
          11.46788215637207,
          10.78264331817627
         ],
         "yaxis": "y"
        },
        {
         "hovertemplate": "class=april-effluent<br>UMAP Component 1=%{x}<br>UMAP Component 2=%{y}<extra></extra>",
         "legendgroup": "april-effluent",
         "marker": {
          "color": "#FFA15A",
          "symbol": "circle"
         },
         "mode": "markers",
         "name": "april-effluent",
         "orientation": "v",
         "showlegend": true,
         "type": "scatter",
         "x": [
          8.735218048095703,
          8.304195404052734,
          8.479594230651855,
          8.54261589050293,
          8.011969566345215,
          7.548499584197998,
          7.717628002166748,
          8.103784561157227,
          7.7165727615356445
         ],
         "xaxis": "x",
         "y": [
          11.42412281036377,
          10.965469360351562,
          11.185861587524414,
          10.877495765686035,
          11.231300354003906,
          11.073007583618164,
          11.735618591308594,
          11.638378143310547,
          11.376514434814453
         ],
         "yaxis": "y"
        }
       ],
       "layout": {
        "legend": {
         "title": {
          "text": "class"
         },
         "tracegroupgap": 0
        },
        "template": {
         "data": {
          "bar": [
           {
            "error_x": {
             "color": "#2a3f5f"
            },
            "error_y": {
             "color": "#2a3f5f"
            },
            "marker": {
             "line": {
              "color": "#E5ECF6",
              "width": 0.5
             },
             "pattern": {
              "fillmode": "overlay",
              "size": 10,
              "solidity": 0.2
             }
            },
            "type": "bar"
           }
          ],
          "barpolar": [
           {
            "marker": {
             "line": {
              "color": "#E5ECF6",
              "width": 0.5
             },
             "pattern": {
              "fillmode": "overlay",
              "size": 10,
              "solidity": 0.2
             }
            },
            "type": "barpolar"
           }
          ],
          "carpet": [
           {
            "aaxis": {
             "endlinecolor": "#2a3f5f",
             "gridcolor": "white",
             "linecolor": "white",
             "minorgridcolor": "white",
             "startlinecolor": "#2a3f5f"
            },
            "baxis": {
             "endlinecolor": "#2a3f5f",
             "gridcolor": "white",
             "linecolor": "white",
             "minorgridcolor": "white",
             "startlinecolor": "#2a3f5f"
            },
            "type": "carpet"
           }
          ],
          "choropleth": [
           {
            "colorbar": {
             "outlinewidth": 0,
             "ticks": ""
            },
            "type": "choropleth"
           }
          ],
          "contour": [
           {
            "colorbar": {
             "outlinewidth": 0,
             "ticks": ""
            },
            "colorscale": [
             [
              0,
              "#0d0887"
             ],
             [
              0.1111111111111111,
              "#46039f"
             ],
             [
              0.2222222222222222,
              "#7201a8"
             ],
             [
              0.3333333333333333,
              "#9c179e"
             ],
             [
              0.4444444444444444,
              "#bd3786"
             ],
             [
              0.5555555555555556,
              "#d8576b"
             ],
             [
              0.6666666666666666,
              "#ed7953"
             ],
             [
              0.7777777777777778,
              "#fb9f3a"
             ],
             [
              0.8888888888888888,
              "#fdca26"
             ],
             [
              1,
              "#f0f921"
             ]
            ],
            "type": "contour"
           }
          ],
          "contourcarpet": [
           {
            "colorbar": {
             "outlinewidth": 0,
             "ticks": ""
            },
            "type": "contourcarpet"
           }
          ],
          "heatmap": [
           {
            "colorbar": {
             "outlinewidth": 0,
             "ticks": ""
            },
            "colorscale": [
             [
              0,
              "#0d0887"
             ],
             [
              0.1111111111111111,
              "#46039f"
             ],
             [
              0.2222222222222222,
              "#7201a8"
             ],
             [
              0.3333333333333333,
              "#9c179e"
             ],
             [
              0.4444444444444444,
              "#bd3786"
             ],
             [
              0.5555555555555556,
              "#d8576b"
             ],
             [
              0.6666666666666666,
              "#ed7953"
             ],
             [
              0.7777777777777778,
              "#fb9f3a"
             ],
             [
              0.8888888888888888,
              "#fdca26"
             ],
             [
              1,
              "#f0f921"
             ]
            ],
            "type": "heatmap"
           }
          ],
          "heatmapgl": [
           {
            "colorbar": {
             "outlinewidth": 0,
             "ticks": ""
            },
            "colorscale": [
             [
              0,
              "#0d0887"
             ],
             [
              0.1111111111111111,
              "#46039f"
             ],
             [
              0.2222222222222222,
              "#7201a8"
             ],
             [
              0.3333333333333333,
              "#9c179e"
             ],
             [
              0.4444444444444444,
              "#bd3786"
             ],
             [
              0.5555555555555556,
              "#d8576b"
             ],
             [
              0.6666666666666666,
              "#ed7953"
             ],
             [
              0.7777777777777778,
              "#fb9f3a"
             ],
             [
              0.8888888888888888,
              "#fdca26"
             ],
             [
              1,
              "#f0f921"
             ]
            ],
            "type": "heatmapgl"
           }
          ],
          "histogram": [
           {
            "marker": {
             "pattern": {
              "fillmode": "overlay",
              "size": 10,
              "solidity": 0.2
             }
            },
            "type": "histogram"
           }
          ],
          "histogram2d": [
           {
            "colorbar": {
             "outlinewidth": 0,
             "ticks": ""
            },
            "colorscale": [
             [
              0,
              "#0d0887"
             ],
             [
              0.1111111111111111,
              "#46039f"
             ],
             [
              0.2222222222222222,
              "#7201a8"
             ],
             [
              0.3333333333333333,
              "#9c179e"
             ],
             [
              0.4444444444444444,
              "#bd3786"
             ],
             [
              0.5555555555555556,
              "#d8576b"
             ],
             [
              0.6666666666666666,
              "#ed7953"
             ],
             [
              0.7777777777777778,
              "#fb9f3a"
             ],
             [
              0.8888888888888888,
              "#fdca26"
             ],
             [
              1,
              "#f0f921"
             ]
            ],
            "type": "histogram2d"
           }
          ],
          "histogram2dcontour": [
           {
            "colorbar": {
             "outlinewidth": 0,
             "ticks": ""
            },
            "colorscale": [
             [
              0,
              "#0d0887"
             ],
             [
              0.1111111111111111,
              "#46039f"
             ],
             [
              0.2222222222222222,
              "#7201a8"
             ],
             [
              0.3333333333333333,
              "#9c179e"
             ],
             [
              0.4444444444444444,
              "#bd3786"
             ],
             [
              0.5555555555555556,
              "#d8576b"
             ],
             [
              0.6666666666666666,
              "#ed7953"
             ],
             [
              0.7777777777777778,
              "#fb9f3a"
             ],
             [
              0.8888888888888888,
              "#fdca26"
             ],
             [
              1,
              "#f0f921"
             ]
            ],
            "type": "histogram2dcontour"
           }
          ],
          "mesh3d": [
           {
            "colorbar": {
             "outlinewidth": 0,
             "ticks": ""
            },
            "type": "mesh3d"
           }
          ],
          "parcoords": [
           {
            "line": {
             "colorbar": {
              "outlinewidth": 0,
              "ticks": ""
             }
            },
            "type": "parcoords"
           }
          ],
          "pie": [
           {
            "automargin": true,
            "type": "pie"
           }
          ],
          "scatter": [
           {
            "fillpattern": {
             "fillmode": "overlay",
             "size": 10,
             "solidity": 0.2
            },
            "type": "scatter"
           }
          ],
          "scatter3d": [
           {
            "line": {
             "colorbar": {
              "outlinewidth": 0,
              "ticks": ""
             }
            },
            "marker": {
             "colorbar": {
              "outlinewidth": 0,
              "ticks": ""
             }
            },
            "type": "scatter3d"
           }
          ],
          "scattercarpet": [
           {
            "marker": {
             "colorbar": {
              "outlinewidth": 0,
              "ticks": ""
             }
            },
            "type": "scattercarpet"
           }
          ],
          "scattergeo": [
           {
            "marker": {
             "colorbar": {
              "outlinewidth": 0,
              "ticks": ""
             }
            },
            "type": "scattergeo"
           }
          ],
          "scattergl": [
           {
            "marker": {
             "colorbar": {
              "outlinewidth": 0,
              "ticks": ""
             }
            },
            "type": "scattergl"
           }
          ],
          "scattermapbox": [
           {
            "marker": {
             "colorbar": {
              "outlinewidth": 0,
              "ticks": ""
             }
            },
            "type": "scattermapbox"
           }
          ],
          "scatterpolar": [
           {
            "marker": {
             "colorbar": {
              "outlinewidth": 0,
              "ticks": ""
             }
            },
            "type": "scatterpolar"
           }
          ],
          "scatterpolargl": [
           {
            "marker": {
             "colorbar": {
              "outlinewidth": 0,
              "ticks": ""
             }
            },
            "type": "scatterpolargl"
           }
          ],
          "scatterternary": [
           {
            "marker": {
             "colorbar": {
              "outlinewidth": 0,
              "ticks": ""
             }
            },
            "type": "scatterternary"
           }
          ],
          "surface": [
           {
            "colorbar": {
             "outlinewidth": 0,
             "ticks": ""
            },
            "colorscale": [
             [
              0,
              "#0d0887"
             ],
             [
              0.1111111111111111,
              "#46039f"
             ],
             [
              0.2222222222222222,
              "#7201a8"
             ],
             [
              0.3333333333333333,
              "#9c179e"
             ],
             [
              0.4444444444444444,
              "#bd3786"
             ],
             [
              0.5555555555555556,
              "#d8576b"
             ],
             [
              0.6666666666666666,
              "#ed7953"
             ],
             [
              0.7777777777777778,
              "#fb9f3a"
             ],
             [
              0.8888888888888888,
              "#fdca26"
             ],
             [
              1,
              "#f0f921"
             ]
            ],
            "type": "surface"
           }
          ],
          "table": [
           {
            "cells": {
             "fill": {
              "color": "#EBF0F8"
             },
             "line": {
              "color": "white"
             }
            },
            "header": {
             "fill": {
              "color": "#C8D4E3"
             },
             "line": {
              "color": "white"
             }
            },
            "type": "table"
           }
          ]
         },
         "layout": {
          "annotationdefaults": {
           "arrowcolor": "#2a3f5f",
           "arrowhead": 0,
           "arrowwidth": 1
          },
          "autotypenumbers": "strict",
          "coloraxis": {
           "colorbar": {
            "outlinewidth": 0,
            "ticks": ""
           }
          },
          "colorscale": {
           "diverging": [
            [
             0,
             "#8e0152"
            ],
            [
             0.1,
             "#c51b7d"
            ],
            [
             0.2,
             "#de77ae"
            ],
            [
             0.3,
             "#f1b6da"
            ],
            [
             0.4,
             "#fde0ef"
            ],
            [
             0.5,
             "#f7f7f7"
            ],
            [
             0.6,
             "#e6f5d0"
            ],
            [
             0.7,
             "#b8e186"
            ],
            [
             0.8,
             "#7fbc41"
            ],
            [
             0.9,
             "#4d9221"
            ],
            [
             1,
             "#276419"
            ]
           ],
           "sequential": [
            [
             0,
             "#0d0887"
            ],
            [
             0.1111111111111111,
             "#46039f"
            ],
            [
             0.2222222222222222,
             "#7201a8"
            ],
            [
             0.3333333333333333,
             "#9c179e"
            ],
            [
             0.4444444444444444,
             "#bd3786"
            ],
            [
             0.5555555555555556,
             "#d8576b"
            ],
            [
             0.6666666666666666,
             "#ed7953"
            ],
            [
             0.7777777777777778,
             "#fb9f3a"
            ],
            [
             0.8888888888888888,
             "#fdca26"
            ],
            [
             1,
             "#f0f921"
            ]
           ],
           "sequentialminus": [
            [
             0,
             "#0d0887"
            ],
            [
             0.1111111111111111,
             "#46039f"
            ],
            [
             0.2222222222222222,
             "#7201a8"
            ],
            [
             0.3333333333333333,
             "#9c179e"
            ],
            [
             0.4444444444444444,
             "#bd3786"
            ],
            [
             0.5555555555555556,
             "#d8576b"
            ],
            [
             0.6666666666666666,
             "#ed7953"
            ],
            [
             0.7777777777777778,
             "#fb9f3a"
            ],
            [
             0.8888888888888888,
             "#fdca26"
            ],
            [
             1,
             "#f0f921"
            ]
           ]
          },
          "colorway": [
           "#636efa",
           "#EF553B",
           "#00cc96",
           "#ab63fa",
           "#FFA15A",
           "#19d3f3",
           "#FF6692",
           "#B6E880",
           "#FF97FF",
           "#FECB52"
          ],
          "font": {
           "color": "#2a3f5f"
          },
          "geo": {
           "bgcolor": "white",
           "lakecolor": "white",
           "landcolor": "#E5ECF6",
           "showlakes": true,
           "showland": true,
           "subunitcolor": "white"
          },
          "hoverlabel": {
           "align": "left"
          },
          "hovermode": "closest",
          "mapbox": {
           "style": "light"
          },
          "paper_bgcolor": "white",
          "plot_bgcolor": "#E5ECF6",
          "polar": {
           "angularaxis": {
            "gridcolor": "white",
            "linecolor": "white",
            "ticks": ""
           },
           "bgcolor": "#E5ECF6",
           "radialaxis": {
            "gridcolor": "white",
            "linecolor": "white",
            "ticks": ""
           }
          },
          "scene": {
           "xaxis": {
            "backgroundcolor": "#E5ECF6",
            "gridcolor": "white",
            "gridwidth": 2,
            "linecolor": "white",
            "showbackground": true,
            "ticks": "",
            "zerolinecolor": "white"
           },
           "yaxis": {
            "backgroundcolor": "#E5ECF6",
            "gridcolor": "white",
            "gridwidth": 2,
            "linecolor": "white",
            "showbackground": true,
            "ticks": "",
            "zerolinecolor": "white"
           },
           "zaxis": {
            "backgroundcolor": "#E5ECF6",
            "gridcolor": "white",
            "gridwidth": 2,
            "linecolor": "white",
            "showbackground": true,
            "ticks": "",
            "zerolinecolor": "white"
           }
          },
          "shapedefaults": {
           "line": {
            "color": "#2a3f5f"
           }
          },
          "ternary": {
           "aaxis": {
            "gridcolor": "white",
            "linecolor": "white",
            "ticks": ""
           },
           "baxis": {
            "gridcolor": "white",
            "linecolor": "white",
            "ticks": ""
           },
           "bgcolor": "#E5ECF6",
           "caxis": {
            "gridcolor": "white",
            "linecolor": "white",
            "ticks": ""
           }
          },
          "title": {
           "x": 0.05
          },
          "xaxis": {
           "automargin": true,
           "gridcolor": "white",
           "linecolor": "white",
           "ticks": "",
           "title": {
            "standoff": 15
           },
           "zerolinecolor": "white",
           "zerolinewidth": 2
          },
          "yaxis": {
           "automargin": true,
           "gridcolor": "white",
           "linecolor": "white",
           "ticks": "",
           "title": {
            "standoff": 15
           },
           "zerolinecolor": "white",
           "zerolinewidth": 2
          }
         }
        },
        "title": {
         "text": "UMAP Projection"
        },
        "xaxis": {
         "anchor": "y",
         "domain": [
          0,
          1
         ],
         "title": {
          "text": "UMAP Component 1"
         }
        },
        "yaxis": {
         "anchor": "x",
         "domain": [
          0,
          1
         ],
         "title": {
          "text": "UMAP Component 2"
         }
        }
       }
      }
     },
     "metadata": {},
     "output_type": "display_data"
    }
   ],
   "source": [
    "from src.StreamPort.ml.MachineLearningEngine import MachineLearningEngine\n",
    "from src.StreamPort.ml.MachineLearningProcessingSettings import  MakeModelUMAP\n",
    "import pandas as pd\n",
    "\n",
    "path = 'feature_list.csv'\n",
    "engine = MachineLearningEngine()\n",
    "engine.add_analyses_from_csv(path)\n",
    "\n",
    "class_path = 'new_metadata.csv'\n",
    "df = pd.read_csv(class_path)\n",
    "\n",
    "#plot april\n",
    "print(\"plot april\")\n",
    "engine.add_month_classes(df, 'april') \n",
    "\n",
    "umap_model = MakeModelUMAP(n_neighbors=15, min_dist=0.1, n_components=2, random_state=42)\n",
    "engine.add_settings(umap_model)\n",
    "engine.run_workflow()\n",
    "engine.plot_umap()  "
   ]
  },
  {
   "cell_type": "markdown",
   "metadata": {},
   "source": [
    "### Random Forest Classifier"
   ]
  },
  {
   "cell_type": "code",
   "execution_count": null,
   "metadata": {},
   "outputs": [],
   "source": [
    "import pandas as pd\n",
    "import plotly.express as px\n",
    "from sklearn.model_selection import train_test_split\n",
    "from sklearn.ensemble import RandomForestClassifier\n",
    "from sklearn.metrics import accuracy_score, classification_report, confusion_matrix\n",
    "from sklearn.preprocessing import LabelEncoder\n",
    "\n",
    "\n",
    "df = pd.read_csv('new_metadata.csv')\n",
    "target_column = 'class'\n",
    "\n",
    "# labelencoder to convert categorical data into numerical values\n",
    "label_encoders = {}\n",
    "for column in df.columns:\n",
    "    if df[column].dtype == 'object':  \n",
    "        le = LabelEncoder()\n",
    "        df[column] = le.fit_transform(df[column])\n",
    "        label_encoders[column] = le  \n",
    "\n",
    "# splitting the data\n",
    "X = df.drop(columns=[target_column])\n",
    "y = df[target_column]\n",
    "\n",
    "X_train, X_test = train_test_split(X, test_size=0.2, random_state=42)\n",
    "y_train, y_test = train_test_split(y, test_size=0.2, random_state=42)\n",
    "\n",
    "\n",
    "# fitting and evaluation the random forest model\n",
    "rfc = RandomForestClassifier(n_estimators=100, max_depth=3, random_state=42)\n",
    "rfc.fit(X_train, y_train)\n",
    "\n",
    "# make a prediction\n",
    "y_pred = rfc.predict(X_test)\n",
    "\n",
    "accuracy = accuracy_score(y_test, y_pred)\n",
    "print(\"accuracy:\", accuracy)\n",
    "class_report = classification_report(y_test,y_pred)\n",
    "print(\"classificatonReport:\\n\", class_report)\n",
    "\n",
    "# vizualize confusionsmatrix\n",
    "conf_matrix = confusion_matrix(y_test, y_pred)\n",
    "print(\"confusionMatrix:\\n\", conf_matrix)\n",
    "\n",
    "conf_matrix_df = pd.DataFrame(conf_matrix, \n",
    "                              index=label_encoders[target_column].classes_, \n",
    "                              columns=label_encoders[target_column].classes_)\n",
    "\n",
    "fig_conf_matrix = px.imshow(conf_matrix_df, \n",
    "                            labels=dict(x=\"Predicted\", y=\"Actual\", color=\"Count\"), \n",
    "                            x=label_encoders[target_column].classes_, \n",
    "                            y=label_encoders[target_column].classes_,\n",
    "                            title=\"Confusion Matrix\")\n",
    "\n",
    "fig_conf_matrix.update_layout(coloraxis_showscale=True)\n",
    "fig_conf_matrix.show()\n",
    "\n",
    "# plot the importance of each feature, using ploty\n",
    "feature_importances = rfc.feature_importances_\n",
    "features = X.columns\n",
    "importance_df = pd.DataFrame({'Feature': features, 'Importance': feature_importances})\n",
    "fig = px.bar(importance_df, x='Feature', y='Importance', title='Random Forest Classifier')\n",
    "fig.show()\n"
   ]
  },
  {
   "cell_type": "code",
   "execution_count": null,
   "metadata": {},
   "outputs": [],
   "source": [
    "import pandas as pd\n",
    "import plotly.express as px\n",
    "from sklearn.model_selection import train_test_split\n",
    "from sklearn.ensemble import RandomForestClassifier\n",
    "from sklearn.metrics import accuracy_score, classification_report, confusion_matrix\n",
    "from sklearn.preprocessing import LabelEncoder\n",
    "\n",
    "df = pd.read_csv('groups_classes.csv')\n",
    "target_column = 'class'\n",
    "\n",
    "# labelencoder to convert categorical data into numerical values\n",
    "label_encoders = {}\n",
    "for column in df.columns:\n",
    "    if df[column].dtype == 'object':  \n",
    "        le = LabelEncoder()\n",
    "        df[column] = le.fit_transform(df[column])\n",
    "        label_encoders[column] = le  \n",
    "\n",
    "# splitting the data\n",
    "X = df.drop(columns=[target_column])\n",
    "y = df[target_column]\n",
    "\n",
    "X_train, X_test = train_test_split(X, test_size=0.2, random_state=42)\n",
    "y_train, y_test = train_test_split(y, test_size=0.2, random_state=42)\n",
    "\n",
    "# fitting and evaluation the random forest model\n",
    "rfc = RandomForestClassifier(n_estimators=100, max_depth=3, random_state=42)\n",
    "rfc.fit(X_train, y_train)\n",
    "\n",
    "# make a prediction\n",
    "y_pred = rfc.predict(X_test)\n",
    "\n",
    "accuracy = accuracy_score(y_test, y_pred)\n",
    "print(\"accuracy:\", accuracy)\n",
    "# class_report = classification_report(y_test,y_pred)\n",
    "# print(\"classificatonReport:\\n\", class_report)\n",
    "\n",
    "# vizualize confusionsmatrix\n",
    "conf_matrix = confusion_matrix(y_test, y_pred)\n",
    "print(\"confusionMatrix:\\n\", conf_matrix)\n",
    "\n",
    "conf_matrix_df = pd.DataFrame(conf_matrix, \n",
    "                              index=label_encoders[target_column].classes_, \n",
    "                              columns=label_encoders[target_column].classes_)\n",
    "\n",
    "fig_conf_matrix = px.imshow(conf_matrix_df, \n",
    "                            labels=dict(x=\"Predicted\", y=\"Actual\", color=\"Count\"), \n",
    "                            x=label_encoders[target_column].classes_, \n",
    "                            y=label_encoders[target_column].classes_,\n",
    "                            title=\"Confusion Matrix\")\n",
    "\n",
    "fig_conf_matrix.update_layout(coloraxis_showscale=True)\n",
    "fig_conf_matrix.show()\n",
    "\n",
    "# plot the importance of each feature, using ploty\n",
    "feature_importances = rfc.feature_importances_\n",
    "features = X.columns\n",
    "importance_df = pd.DataFrame({'Feature': features, 'Importance': feature_importances})\n",
    "fig = px.bar(importance_df, x='Feature', y='Importance', title='Random Forest Classifier')\n",
    "fig.show()\n"
   ]
  },
  {
   "cell_type": "markdown",
   "metadata": {},
   "source": [
    "### Hierarchical Density-Based Spatial Clustering of Application (HDBSCAN)"
   ]
  },
  {
   "cell_type": "code",
   "execution_count": null,
   "metadata": {},
   "outputs": [],
   "source": [
    "from src.StreamPort.ml.MachineLearningEngine import MachineLearningEngine\n",
    "import pandas as pd\n",
    "import numpy as np\n",
    "from sklearn.cluster import HDBSCAN\n",
    "from sklearn.preprocessing import LabelEncoder\n",
    "import plotly.express as px\n",
    "\n",
    "path = 'feature_list.csv'\n",
    "engine = MachineLearningEngine()\n",
    "engine.add_analyses_from_csv(path)\n",
    "engine.print()\n",
    "\n",
    "df = pd.read_csv(path)\n",
    "data = df.drop(columns=['name'])\n",
    "\n",
    "label_encoders = {}\n",
    "for column in data.columns:\n",
    "    if data[column].dtype == 'object':  \n",
    "        le = LabelEncoder()\n",
    "        data[column] = le.fit_transform(data[column])\n",
    "        label_encoders[column] = le\n",
    "\n",
    "\n",
    "random_columns = np.random.choice(data.columns, 2, replace=False)\n",
    "\n",
    "clusterer = HDBSCAN(min_cluster_size=3)\n",
    "cluster_labels = clusterer.fit_predict(data)\n",
    "data['cluster'] = cluster_labels  \n",
    "\n",
    "fig = px.scatter(\n",
    "    data,\n",
    "    x=random_columns[0],\n",
    "    y=random_columns[1],\n",
    "    color='cluster',\n",
    "    title='HDBSCAN Clustering mit Plotly'\n",
    ")\n",
    "fig.show()\n"
   ]
  },
  {
   "cell_type": "markdown",
   "metadata": {},
   "source": [
    "### K-Means Cluster"
   ]
  },
  {
   "cell_type": "code",
   "execution_count": null,
   "metadata": {},
   "outputs": [],
   "source": [
    "from src.StreamPort.ml.MachineLearningEngine import MachineLearningEngine\n",
    "\n",
    "import pandas as pd\n",
    "import numpy as np\n",
    "from sklearn.cluster import KMeans\n",
    "import plotly.express as px\n",
    "\n",
    "path = 'feature_list.csv'\n",
    "engine = MachineLearningEngine()\n",
    "engine.add_analyses_from_csv(path)\n",
    "\n",
    "df = pd.read_csv(path)\n",
    "data = df.drop(columns=['name']) \n",
    "\n",
    "# Define number of clusters for KMeans\n",
    "n_clusters = 4  # Specify the number of clusters you expect\n",
    "\n",
    "kmeans = KMeans(n_clusters=n_clusters, random_state=0)\n",
    "labels = kmeans.fit_predict(data)\n",
    "\n",
    "data['Cluster'] = labels.astype(str) \n",
    "\n",
    "random_columns = np.random.choice(data.columns[:-1], 2, replace=False)\n",
    "\n",
    "fig = px.scatter(\n",
    "    data, \n",
    "    x=random_columns[0], \n",
    "    y=random_columns[1], \n",
    "    color='Cluster',\n",
    "    title=\"KMeans Clustering Results\",\n",
    "    color_discrete_sequence=px.colors.qualitative.Pastel,\n",
    "    labels={'color': 'Cluster ID'}\n",
    ")\n",
    "\n",
    "fig.show()\n"
   ]
  },
  {
   "cell_type": "markdown",
   "metadata": {},
   "source": [
    "### NEW DATA ###"
   ]
  },
  {
   "cell_type": "markdown",
   "metadata": {},
   "source": [
    "plot the 'negative' and 'positive' classes with umap. "
   ]
  },
  {
   "cell_type": "code",
   "execution_count": 1,
   "metadata": {},
   "outputs": [
    {
     "name": "stdout",
     "output_type": "stream",
     "text": [
      "plot neg class\n",
      "Structure of the CSV file: {'number_of_rows': 497, 'number_of_columns': 4545}\n",
      "Running workflow with settings: MakeModel\n"
     ]
    },
    {
     "data": {
      "application/vnd.plotly.v1+json": {
       "config": {
        "plotlyServerURL": "https://plot.ly"
       },
       "data": [
        {
         "hovertemplate": "class=neg_KAMG<br>UMAP Component 1=%{x}<br>UMAP Component 2=%{y}<extra></extra>",
         "legendgroup": "neg_KAMG",
         "marker": {
          "color": "#636efa",
          "symbol": "circle"
         },
         "mode": "markers",
         "name": "neg_KAMG",
         "orientation": "v",
         "showlegend": true,
         "type": "scatter",
         "x": [
          16.534931182861328,
          15.849613189697266,
          16.615211486816406,
          15.775511741638184,
          14.253061294555664,
          20.82292366027832,
          9.738595962524414,
          -6.024648666381836,
          13.272907257080078,
          13.454724311828613,
          14.346086502075195,
          14.284480094909668,
          13.921395301818848,
          20.678518295288086,
          14.080398559570312,
          21.232118606567383,
          15.810643196105957,
          15.28936767578125,
          15.88364028930664,
          16.143993377685547,
          14.420771598815918,
          15.964303970336914,
          -5.60636568069458,
          -5.218882083892822,
          -5.573952674865723,
          -5.8793439865112305,
          16.599712371826172,
          15.496204376220703,
          12.970890998840332,
          13.471212387084961,
          12.913350105285645,
          16.993576049804688,
          17.007171630859375,
          16.911026000976562,
          20.82100486755371,
          15.577323913574219,
          16.459348678588867,
          16.155258178710938,
          16.301206588745117,
          13.339611053466797,
          21.389476776123047,
          21.678964614868164,
          21.206661224365234,
          14.614846229553223,
          13.283401489257812,
          21.963903427124023,
          22.033145904541016,
          22.068431854248047,
          13.257731437683105,
          21.10851287841797,
          13.201410293579102,
          21.5625057220459,
          13.546562194824219,
          20.609514236450195,
          20.757732391357422,
          21.497936248779297,
          12.788104057312012,
          13.021440505981445,
          20.70148468017578,
          20.86768913269043,
          10.434447288513184,
          9.827969551086426,
          9.618099212646484,
          13.27177906036377,
          13.103578567504883,
          22.1962833404541,
          22.18842124938965,
          22.158370971679688,
          22.014272689819336,
          11.05753231048584,
          10.903938293457031,
          11.158711433410645,
          10.573986053466797,
          10.751070022583008,
          22.339187622070312,
          22.26138687133789,
          22.367441177368164,
          22.27816390991211,
          -10.32013988494873,
          -9.496857643127441,
          -9.632330894470215,
          14.72468376159668,
          -9.906230926513672
         ],
         "xaxis": "x",
         "y": [
          19.03059959411621,
          18.461769104003906,
          17.88747215270996,
          18.232561111450195,
          16.730741500854492,
          30.803157806396484,
          20.075437545776367,
          -1.1581389904022217,
          18.863903045654297,
          19.04153823852539,
          16.873085021972656,
          14.71909236907959,
          14.32623291015625,
          30.402271270751953,
          14.497347831726074,
          30.523414611816406,
          18.019468307495117,
          15.24044418334961,
          17.5798282623291,
          17.970849990844727,
          16.65534019470215,
          17.505067825317383,
          -1.2618083953857422,
          -0.9192218780517578,
          -1.1104830503463745,
          -1.1480967998504639,
          19.049184799194336,
          15.348651885986328,
          18.47402000427246,
          18.441696166992188,
          18.43539047241211,
          17.936344146728516,
          17.953020095825195,
          17.929336547851562,
          30.233110427856445,
          15.256256103515625,
          14.63990306854248,
          14.944079399108887,
          14.7941312789917,
          5.765178680419922,
          29.5234432220459,
          30.09341049194336,
          29.657926559448242,
          4.554080009460449,
          5.332999229431152,
          23.72718620300293,
          23.79770278930664,
          29.210641860961914,
          5.899338245391846,
          29.151874542236328,
          4.6457600593566895,
          28.693471908569336,
          5.829862594604492,
          30.623231887817383,
          30.840557098388672,
          28.913372039794922,
          5.980823040008545,
          6.35862922668457,
          8.634636878967285,
          8.786152839660645,
          -7.981957912445068,
          -7.563314437866211,
          -7.364509105682373,
          5.651424407958984,
          5.430181503295898,
          24.322282791137695,
          24.263395309448242,
          24.24928855895996,
          24.109346389770508,
          -7.445624351501465,
          -7.343810558319092,
          -7.2436017990112305,
          -7.243734359741211,
          -7.302308559417725,
          27.127323150634766,
          27.061405181884766,
          27.16850471496582,
          27.062585830688477,
          9.992959976196289,
          9.565864562988281,
          9.688041687011719,
          4.548526287078857,
          9.977093696594238
         ],
         "yaxis": "y"
        },
        {
         "hovertemplate": "class=neg_KARH<br>UMAP Component 1=%{x}<br>UMAP Component 2=%{y}<extra></extra>",
         "legendgroup": "neg_KARH",
         "marker": {
          "color": "#EF553B",
          "symbol": "circle"
         },
         "mode": "markers",
         "name": "neg_KARH",
         "orientation": "v",
         "showlegend": true,
         "type": "scatter",
         "x": [
          16.37872314453125,
          14.323333740234375,
          16.46333122253418,
          16.178518295288086,
          20.83111572265625,
          9.761249542236328,
          9.72916316986084,
          -5.112295150756836,
          13.201117515563965,
          13.390859603881836,
          14.39590835571289,
          14.096503257751465,
          20.474388122558594,
          16.003318786621094,
          14.31942081451416,
          20.922067642211914,
          15.811848640441895,
          20.72201919555664,
          15.953940391540527,
          20.882474899291992,
          16.50087547302246,
          21.108482360839844,
          -5.462331295013428,
          -5.280633926391602,
          -5.592105388641357,
          -5.892420291900635,
          16.41535758972168,
          15.489158630371094,
          12.985929489135742,
          13.507810592651367,
          17.686092376708984,
          16.971338272094727,
          17.02069854736328,
          16.991641998291016,
          20.887649536132812,
          15.626981735229492,
          16.32793617248535,
          15.64560317993164,
          16.351985931396484,
          12.988825798034668,
          12.973747253417969,
          13.09045124053955,
          14.423012733459473,
          21.50486946105957,
          13.50993824005127,
          13.378315925598145,
          13.553387641906738,
          22.01706886291504,
          22.089685440063477,
          21.114595413208008,
          13.308707237243652,
          21.604978561401367,
          13.199973106384277,
          20.623943328857422,
          13.0972318649292,
          20.589218139648438,
          20.81477165222168,
          20.871553421020508,
          20.785947799682617,
          14.691476821899414,
          10.48307991027832,
          9.85294246673584,
          10.534729957580566,
          13.213078498840332,
          10.518957138061523,
          22.198427200317383,
          14.395992279052734,
          14.009489059448242,
          14.978248596191406,
          10.793506622314453,
          14.946426391601562,
          10.933372497558594,
          10.21901798248291,
          22.138710021972656,
          13.349869728088379,
          13.234724998474121,
          13.294710159301758,
          21.695114135742188,
          -10.262310981750488,
          -10.310714721679688,
          -10.244698524475098,
          -10.180377960205078,
          -10.144184112548828
         ],
         "xaxis": "x",
         "y": [
          18.746793746948242,
          16.63164520263672,
          18.880937576293945,
          18.59012794494629,
          30.543893814086914,
          20.097658157348633,
          20.065885543823242,
          -0.8168787360191345,
          18.857362747192383,
          19.109355926513672,
          16.69341278076172,
          14.517274856567383,
          30.18471908569336,
          17.50008201599121,
          16.380109786987305,
          29.975271224975586,
          17.919055938720703,
          29.62323760986328,
          17.51688575744629,
          30.008419036865234,
          18.58196449279785,
          29.699047088623047,
          -1.2236305475234985,
          -0.9652526378631592,
          -1.1545497179031372,
          -1.1245001554489136,
          18.757917404174805,
          15.319580078125,
          18.498586654663086,
          18.48427391052246,
          25.335796356201172,
          17.936201095581055,
          17.920053482055664,
          17.95567512512207,
          30.916383743286133,
          15.243258476257324,
          14.775104522705078,
          15.280842781066895,
          14.747947692871094,
          5.806992053985596,
          5.898738861083984,
          5.905872344970703,
          4.7038493156433105,
          28.801725387573242,
          6.2287702560424805,
          6.080140590667725,
          6.14971923828125,
          29.17856788635254,
          29.29463005065918,
          29.153491973876953,
          4.6053290367126465,
          28.71172332763672,
          6.146703720092773,
          30.654178619384766,
          6.056502819061279,
          8.528969764709473,
          8.737412452697754,
          8.768290519714355,
          8.739293098449707,
          4.439521312713623,
          -8.127849578857422,
          -7.568431854248047,
          -8.085433959960938,
          5.569346904754639,
          -8.090136528015137,
          24.289278030395508,
          4.7446746826171875,
          5.000870704650879,
          4.5299530029296875,
          -7.385251998901367,
          4.569283485412598,
          -7.175833702087402,
          -7.125961780548096,
          27.41866683959961,
          6.104900360107422,
          6.336846351623535,
          6.1663432121276855,
          28.660961151123047,
          9.961870193481445,
          9.998810768127441,
          9.899574279785156,
          9.91419506072998,
          9.929744720458984
         ],
         "yaxis": "y"
        },
        {
         "hovertemplate": "class=neg_KAXAL<br>UMAP Component 1=%{x}<br>UMAP Component 2=%{y}<extra></extra>",
         "legendgroup": "neg_KAXAL",
         "marker": {
          "color": "#00cc96",
          "symbol": "circle"
         },
         "mode": "markers",
         "name": "neg_KAXAL",
         "orientation": "v",
         "showlegend": true,
         "type": "scatter",
         "x": [
          16.646543502807617,
          14.414690971374512,
          16.023666381835938,
          14.259886741638184,
          21.35296630859375,
          9.755906105041504,
          9.725183486938477,
          -5.1568284034729,
          13.223600387573242,
          20.876131057739258,
          14.33609390258789,
          14.262130737304688,
          20.397418975830078,
          14.064615249633789,
          14.04338264465332,
          16.44881248474121,
          15.783184051513672,
          16.438188552856445,
          15.963793754577637,
          15.78614330291748,
          14.487183570861816,
          20.86131477355957,
          -5.311849594116211,
          -5.343250751495361,
          -5.462532997131348,
          -5.988216400146484,
          21.28942108154297,
          21.169780731201172,
          13.017969131469727,
          12.931109428405762,
          17.62862205505371,
          17.611600875854492,
          17.58450698852539,
          17.55583381652832,
          20.888826370239258,
          20.958003997802734,
          20.762561798095703,
          21.212480545043945,
          20.612018585205078,
          13.19428539276123,
          12.874797821044922,
          21.201011657714844,
          13.326345443725586,
          14.905634880065918,
          14.730864524841309,
          22.056119918823242,
          22.02196502685547,
          13.836251258850098,
          14.571493148803711,
          21.060832977294922,
          13.237082481384277,
          21.75376319885254,
          13.08012866973877,
          20.73086929321289,
          12.948355674743652,
          12.902108192443848,
          12.838438034057617,
          14.770607948303223,
          20.685157775878906,
          11.041950225830078,
          9.895832061767578,
          9.871575355529785,
          9.935833930969238,
          13.227582931518555,
          14.240236282348633,
          22.16253089904785,
          14.30470085144043,
          14.059358596801758,
          15.056119918823242,
          10.429328918457031,
          14.828932762145996,
          10.577428817749023,
          13.539719581604004,
          22.210803985595703,
          13.558242797851562,
          13.397924423217773,
          13.171282768249512,
          20.800230026245117,
          -9.494149208068848,
          12.791801452636719,
          -9.686628341674805,
          -9.651126861572266,
          -9.85809326171875
         ],
         "xaxis": "x",
         "y": [
          19.112627029418945,
          16.631452560424805,
          17.65055274963379,
          16.68852424621582,
          30.76893424987793,
          20.09237289428711,
          20.062192916870117,
          -0.868924617767334,
          18.880779266357422,
          30.548234939575195,
          16.87856674194336,
          14.706600189208984,
          30.16907501220703,
          14.480522155761719,
          14.45975112915039,
          18.697145462036133,
          17.97541046142578,
          18.443988800048828,
          17.469593048095703,
          17.935882568359375,
          16.772083282470703,
          30.662221908569336,
          -0.9932305216789246,
          -1.0240222215652466,
          -0.9454209804534912,
          -1.0974400043487549,
          30.626989364624023,
          30.500423431396484,
          18.497770309448242,
          18.40004539489746,
          25.411781311035156,
          25.411415100097656,
          25.424171447753906,
          25.458173751831055,
          30.822301864624023,
          30.805377960205078,
          30.562747955322266,
          30.61054801940918,
          30.90580177307129,
          6.121830463409424,
          6.000599384307861,
          31.02736473083496,
          6.302347183227539,
          4.460888862609863,
          4.393828392028809,
          23.826723098754883,
          23.780031204223633,
          5.419179916381836,
          4.559887886047363,
          29.157398223876953,
          4.639976978302002,
          28.313766479492188,
          5.784708499908447,
          30.560562133789062,
          5.920844078063965,
          6.499429225921631,
          6.276403903961182,
          4.452371597290039,
          8.607817649841309,
          -7.254044055938721,
          -7.520165920257568,
          -7.545673370361328,
          -7.564447402954102,
          5.552274227142334,
          5.971521854400635,
          24.266708374023438,
          4.821252346038818,
          4.968715190887451,
          4.621899604797363,
          -7.289222240447998,
          4.491779327392578,
          -7.205827236175537,
          6.244202613830566,
          27.19605255126953,
          6.050201892852783,
          6.240965366363525,
          6.1306376457214355,
          30.978715896606445,
          9.564300537109375,
          6.202910423278809,
          9.7570219039917,
          9.702409744262695,
          9.954776763916016
         ],
         "yaxis": "y"
        },
        {
         "hovertemplate": "class=neg_KARB<br>UMAP Component 1=%{x}<br>UMAP Component 2=%{y}<extra></extra>",
         "legendgroup": "neg_KARB",
         "marker": {
          "color": "#ab63fa",
          "symbol": "circle"
         },
         "mode": "markers",
         "name": "neg_KARB",
         "orientation": "v",
         "showlegend": true,
         "type": "scatter",
         "x": [
          16.54327392578125,
          16.193082809448242,
          16.047697067260742,
          14.343907356262207,
          20.631460189819336,
          9.696183204650879,
          20.926267623901367,
          -5.093214511871338,
          13.426786422729492,
          16.659442901611328,
          20.85845184326172,
          14.206499099731445,
          16.371292114257812,
          16.126447677612305,
          15.209235191345215,
          16.3673038482666,
          20.753740310668945,
          16.462865829467773,
          20.90826416015625,
          15.780753135681152,
          20.9183349609375,
          -6.035958766937256,
          -5.200067520141602,
          -5.259957790374756,
          -5.517134666442871,
          -5.907934188842773,
          15.85935115814209,
          13.403634071350098,
          13.209192276000977,
          13.699472427368164,
          17.669729232788086,
          15.42733383178711,
          16.049964904785156,
          16.1368465423584,
          15.53422737121582,
          16.36434555053711,
          16.4803409576416,
          16.406696319580078,
          16.3881778717041,
          13.371626853942871,
          15.005301475524902,
          13.103687286376953,
          20.610185623168945,
          21.87626075744629,
          21.92730712890625,
          13.499754905700684,
          14.585282325744629,
          21.995012283325195,
          22.11622428894043,
          21.345325469970703,
          21.33196449279785,
          21.291183471679688,
          14.886269569396973,
          20.6040096282959,
          20.64634895324707,
          20.80288314819336,
          20.785593032836914,
          20.827808380126953,
          20.713441848754883,
          10.709254264831543,
          9.850125312805176,
          10.501907348632812,
          9.991778373718262,
          10.474897384643555,
          14.2037992477417,
          22.186006546020508,
          22.127628326416016,
          22.17119598388672,
          11.099018096923828,
          10.94378662109375,
          20.695341110229492,
          10.491461753845215,
          10.717272758483887,
          22.248449325561523,
          22.282337188720703,
          22.21088218688965,
          22.232929229736328,
          -10.252901077270508,
          -9.503937721252441,
          12.78235149383545,
          -9.700526237487793,
          -9.576051712036133,
          -9.924850463867188
         ],
         "xaxis": "x",
         "y": [
          18.962406158447266,
          18.05278778076172,
          17.90009307861328,
          16.78775405883789,
          30.587255477905273,
          20.032730102539062,
          30.57842445373535,
          -0.8088293075561523,
          19.02887725830078,
          19.123611450195312,
          30.57514762878418,
          14.621859550476074,
          18.119396209716797,
          17.753019332885742,
          15.182665824890137,
          18.501792907714844,
          29.650455474853516,
          18.45742416381836,
          30.34932518005371,
          17.913105010986328,
          29.940900802612305,
          -1.1707514524459839,
          -0.9293681979179382,
          -0.989095151424408,
          -1.2991447448730469,
          -1.1819292306900024,
          18.27139663696289,
          19.14544677734375,
          18.480213165283203,
          18.422801971435547,
          25.34555435180664,
          15.310153007507324,
          18.339872360229492,
          18.37457847595215,
          15.297798156738281,
          14.706620216369629,
          14.617670059204102,
          14.689912796020508,
          14.710725784301758,
          5.975351810455322,
          4.668452262878418,
          5.650088310241699,
          30.869190216064453,
          29.756454467773438,
          29.661869049072266,
          6.06695032119751,
          4.588972568511963,
          23.72882080078125,
          29.28868865966797,
          29.44753074645996,
          29.598676681518555,
          29.634212493896484,
          4.525808334350586,
          30.79425621032715,
          30.8553524017334,
          8.7279691696167,
          8.727359771728516,
          8.754766464233398,
          8.589494705200195,
          -7.851477146148682,
          -7.461360931396484,
          -7.988152503967285,
          -7.4426727294921875,
          -8.021402359008789,
          5.986571788787842,
          24.237850189208984,
          24.17520523071289,
          24.235498428344727,
          -7.429661273956299,
          -7.445736408233643,
          30.79931640625,
          -7.245954513549805,
          -7.314611434936523,
          27.20986557006836,
          27.08356285095215,
          27.005996704101562,
          27.142738342285156,
          10.02430248260498,
          9.572754859924316,
          6.2641096115112305,
          9.742203712463379,
          9.624565124511719,
          10.01988697052002
         ],
         "yaxis": "y"
        },
        {
         "hovertemplate": "class=neg_KAKL<br>UMAP Component 1=%{x}<br>UMAP Component 2=%{y}<extra></extra>",
         "legendgroup": "neg_KAKL",
         "marker": {
          "color": "#FFA15A",
          "symbol": "circle"
         },
         "mode": "markers",
         "name": "neg_KAKL",
         "orientation": "v",
         "showlegend": true,
         "type": "scatter",
         "x": [
          16.737539291381836,
          20.58370018005371,
          16.570261001586914,
          14.27818775177002,
          20.805133819580078,
          9.73416519165039,
          20.96363639831543,
          -5.13257360458374,
          13.493626594543457,
          16.60285758972168,
          21.181079864501953,
          14.92696475982666,
          20.45180320739746,
          13.982101440429688,
          13.971885681152344,
          16.25347900390625,
          15.269386291503906,
          16.37468719482422,
          16.15868377685547,
          15.759452819824219,
          16.025999069213867,
          -5.907605171203613,
          -5.155245304107666,
          -5.395418167114258,
          -5.589362621307373,
          -5.952437877655029,
          15.745370864868164,
          13.07211971282959,
          13.349288940429688,
          13.737323760986328,
          17.59231948852539,
          15.458305358886719,
          16.068355560302734,
          16.902719497680664,
          15.641335487365723,
          16.35637664794922,
          16.426006317138672,
          16.42094612121582,
          16.41020393371582,
          13.03725814819336,
          13.638116836547852,
          21.234708786010742,
          13.269289016723633,
          13.587861061096191,
          20.968534469604492,
          22.03898048400879,
          22.049753189086914,
          13.258533477783203,
          13.530141830444336,
          13.238137245178223,
          21.71429443359375,
          20.986665725708008,
          13.569039344787598,
          20.888431549072266,
          21.17805290222168,
          14.742547035217285,
          10.577807426452637,
          20.680587768554688,
          20.93559455871582,
          10.709433555603027,
          9.86244010925293,
          9.645663261413574,
          9.910882949829102,
          13.211647033691406,
          14.140810012817383,
          15.02735710144043,
          13.993412017822266,
          13.965081214904785,
          10.977336883544922,
          13.432948112487793,
          12.65677547454834,
          10.290536880493164,
          10.175588607788086,
          22.272775650024414,
          14.141528129577637,
          13.627297401428223,
          13.66071891784668,
          -10.330294609069824,
          -10.350793838500977,
          -10.314831733703613,
          -10.264620780944824,
          -10.179784774780273,
          -10.106165885925293
         ],
         "xaxis": "x",
         "y": [
          19.236249923706055,
          30.446998596191406,
          19.023311614990234,
          16.73959732055664,
          30.65906524658203,
          20.070695877075195,
          30.6453914642334,
          -0.8393060564994812,
          19.02781867980957,
          18.8111572265625,
          30.63182258605957,
          15.02176284790039,
          30.39509391784668,
          14.397465705871582,
          14.386246681213379,
          18.251338958740234,
          15.214801788330078,
          18.281103134155273,
          18.040468215942383,
          17.949851989746094,
          17.51179313659668,
          -1.0264068841934204,
          -0.8529277443885803,
          -1.0697507858276367,
          -1.2707493305206299,
          -1.132469654083252,
          18.234769821166992,
          18.559101104736328,
          18.44875717163086,
          18.386131286621094,
          25.419811248779297,
          15.340838432312012,
          18.34925651550293,
          17.883115768432617,
          15.340185165405273,
          14.746936798095703,
          14.67276382446289,
          14.676846504211426,
          14.711143493652344,
          5.987055778503418,
          5.929577350616455,
          31.06097412109375,
          5.316445827484131,
          5.568375587463379,
          30.434236526489258,
          23.80829620361328,
          23.83360481262207,
          5.356423377990723,
          6.2142438888549805,
          4.668022155761719,
          28.462892532348633,
          30.39468002319336,
          6.318580627441406,
          31.11100959777832,
          28.916980743408203,
          4.441256046295166,
          -7.415464401245117,
          8.596409797668457,
          8.85877799987793,
          -7.889408111572266,
          -7.490597248077393,
          -7.363382339477539,
          -7.567927360534668,
          5.525694847106934,
          6.035246849060059,
          4.561418056488037,
          5.025716781616211,
          5.058897972106934,
          -7.409919261932373,
          6.303163528442383,
          6.366288185119629,
          -7.142342567443848,
          -7.085792541503906,
          27.113439559936523,
          6.034130573272705,
          5.443178653717041,
          5.891676902770996,
          9.99294376373291,
          9.975435256958008,
          9.876980781555176,
          9.955141067504883,
          9.895286560058594,
          9.83283519744873
         ],
         "yaxis": "y"
        },
        {
         "hovertemplate": "class=neg_RW<br>UMAP Component 1=%{x}<br>UMAP Component 2=%{y}<extra></extra>",
         "legendgroup": "neg_RW",
         "marker": {
          "color": "#19d3f3",
          "symbol": "circle"
         },
         "mode": "markers",
         "name": "neg_RW",
         "orientation": "v",
         "showlegend": true,
         "type": "scatter",
         "x": [
          15.860608100891113,
          16.317480087280273,
          16.07975959777832,
          14.261557579040527,
          21.34418296813965,
          9.712401390075684,
          16.738941192626953,
          13.373453140258789,
          13.453906059265137,
          14.297282218933105,
          14.042742729187012,
          14.026481628417969,
          15.150023460388184,
          14.141800880432129,
          20.955425262451172,
          20.72541046142578,
          15.24183464050293,
          20.692371368408203,
          16.074512481689453,
          20.93782615661621,
          16.006284713745117,
          -5.937222480773926,
          -5.236189842224121,
          -5.379250526428223,
          -5.979259967803955,
          -5.972076416015625,
          21.20265769958496,
          13.04793643951416,
          12.996586799621582,
          12.921761512756348,
          17.582908630371094,
          17.625791549682617,
          17.60789680480957,
          17.5771427154541,
          20.687137603759766,
          20.818796157836914,
          20.4128360748291,
          20.791563034057617,
          20.770179748535156,
          14.964698791503906,
          13.49540901184082,
          14.231343269348145,
          14.276905059814453,
          13.45082950592041,
          22.061237335205078,
          13.221558570861816,
          20.492223739624023,
          21.942405700683594,
          22.124595642089844,
          13.231712341308594,
          21.579313278198242,
          13.592630386352539,
          20.712678909301758,
          20.85318946838379,
          21.08563232421875,
          20.709613800048828,
          20.7574462890625,
          20.753395080566406,
          10.482765197753906,
          10.299362182617188,
          10.503552436828613,
          9.671943664550781,
          10.465459823608398,
          13.062055587768555,
          10.638076782226562,
          14.99509048461914,
          14.015067100524902,
          13.905738830566406,
          11.097055435180664,
          10.661661148071289,
          11.212579727172852,
          10.248632431030273,
          10.162066459655762,
          22.301097869873047,
          14.857152938842773,
          13.622443199157715,
          13.459680557250977,
          -10.337272644042969,
          -9.431604385375977,
          -9.639933586120605,
          14.61359977722168,
          -9.873427391052246
         ],
         "xaxis": "x",
         "y": [
          15.573305130004883,
          17.438373565673828,
          18.325788497924805,
          16.80590057373047,
          30.62087631225586,
          20.04901123046875,
          19.243305206298828,
          19.130083084106445,
          19.110610961914062,
          16.896921157836914,
          14.456544876098633,
          14.4382905960083,
          15.14522647857666,
          14.591833114624023,
          30.43265724182129,
          29.64152717590332,
          15.184414863586426,
          29.620744705200195,
          17.91175651550293,
          29.916627883911133,
          17.583396911621094,
          -1.218766212463379,
          -0.9128185510635376,
          -0.9939893484115601,
          -1.065476417541504,
          -1.0500832796096802,
          30.61064338684082,
          18.537765502929688,
          18.486492156982422,
          18.42432975769043,
          25.409130096435547,
          25.445968627929688,
          25.4090518951416,
          25.434755325317383,
          30.755474090576172,
          31.0588321685791,
          30.780519485473633,
          30.84428596496582,
          30.59678077697754,
          4.649538516998291,
          5.8923187255859375,
          5.985733509063721,
          5.851412296295166,
          5.6471452713012695,
          23.865585327148438,
          5.353715896606445,
          30.764680862426758,
          23.68625259399414,
          29.348249435424805,
          4.712172508239746,
          28.699264526367188,
          6.193485736846924,
          30.978618621826172,
          31.09132194519043,
          28.982311248779297,
          8.638694763183594,
          8.670164108276367,
          8.714460372924805,
          -7.68237829208374,
          -7.865756034851074,
          -7.944309711456299,
          -7.390623092651367,
          -7.885416507720947,
          5.538580894470215,
          -8.002299308776855,
          4.59602165222168,
          5.015096187591553,
          5.1322221755981445,
          -7.3964738845825195,
          -7.4619140625,
          -7.257940769195557,
          -7.098813056945801,
          -7.14501953125,
          27.155824661254883,
          4.5199971199035645,
          5.458901882171631,
          5.733462333679199,
          10.032451629638672,
          9.496077537536621,
          9.765902519226074,
          4.625634670257568,
          9.946459770202637
         ],
         "yaxis": "y"
        }
       ],
       "layout": {
        "legend": {
         "title": {
          "text": "class"
         },
         "tracegroupgap": 0
        },
        "template": {
         "data": {
          "bar": [
           {
            "error_x": {
             "color": "#2a3f5f"
            },
            "error_y": {
             "color": "#2a3f5f"
            },
            "marker": {
             "line": {
              "color": "#E5ECF6",
              "width": 0.5
             },
             "pattern": {
              "fillmode": "overlay",
              "size": 10,
              "solidity": 0.2
             }
            },
            "type": "bar"
           }
          ],
          "barpolar": [
           {
            "marker": {
             "line": {
              "color": "#E5ECF6",
              "width": 0.5
             },
             "pattern": {
              "fillmode": "overlay",
              "size": 10,
              "solidity": 0.2
             }
            },
            "type": "barpolar"
           }
          ],
          "carpet": [
           {
            "aaxis": {
             "endlinecolor": "#2a3f5f",
             "gridcolor": "white",
             "linecolor": "white",
             "minorgridcolor": "white",
             "startlinecolor": "#2a3f5f"
            },
            "baxis": {
             "endlinecolor": "#2a3f5f",
             "gridcolor": "white",
             "linecolor": "white",
             "minorgridcolor": "white",
             "startlinecolor": "#2a3f5f"
            },
            "type": "carpet"
           }
          ],
          "choropleth": [
           {
            "colorbar": {
             "outlinewidth": 0,
             "ticks": ""
            },
            "type": "choropleth"
           }
          ],
          "contour": [
           {
            "colorbar": {
             "outlinewidth": 0,
             "ticks": ""
            },
            "colorscale": [
             [
              0,
              "#0d0887"
             ],
             [
              0.1111111111111111,
              "#46039f"
             ],
             [
              0.2222222222222222,
              "#7201a8"
             ],
             [
              0.3333333333333333,
              "#9c179e"
             ],
             [
              0.4444444444444444,
              "#bd3786"
             ],
             [
              0.5555555555555556,
              "#d8576b"
             ],
             [
              0.6666666666666666,
              "#ed7953"
             ],
             [
              0.7777777777777778,
              "#fb9f3a"
             ],
             [
              0.8888888888888888,
              "#fdca26"
             ],
             [
              1,
              "#f0f921"
             ]
            ],
            "type": "contour"
           }
          ],
          "contourcarpet": [
           {
            "colorbar": {
             "outlinewidth": 0,
             "ticks": ""
            },
            "type": "contourcarpet"
           }
          ],
          "heatmap": [
           {
            "colorbar": {
             "outlinewidth": 0,
             "ticks": ""
            },
            "colorscale": [
             [
              0,
              "#0d0887"
             ],
             [
              0.1111111111111111,
              "#46039f"
             ],
             [
              0.2222222222222222,
              "#7201a8"
             ],
             [
              0.3333333333333333,
              "#9c179e"
             ],
             [
              0.4444444444444444,
              "#bd3786"
             ],
             [
              0.5555555555555556,
              "#d8576b"
             ],
             [
              0.6666666666666666,
              "#ed7953"
             ],
             [
              0.7777777777777778,
              "#fb9f3a"
             ],
             [
              0.8888888888888888,
              "#fdca26"
             ],
             [
              1,
              "#f0f921"
             ]
            ],
            "type": "heatmap"
           }
          ],
          "heatmapgl": [
           {
            "colorbar": {
             "outlinewidth": 0,
             "ticks": ""
            },
            "colorscale": [
             [
              0,
              "#0d0887"
             ],
             [
              0.1111111111111111,
              "#46039f"
             ],
             [
              0.2222222222222222,
              "#7201a8"
             ],
             [
              0.3333333333333333,
              "#9c179e"
             ],
             [
              0.4444444444444444,
              "#bd3786"
             ],
             [
              0.5555555555555556,
              "#d8576b"
             ],
             [
              0.6666666666666666,
              "#ed7953"
             ],
             [
              0.7777777777777778,
              "#fb9f3a"
             ],
             [
              0.8888888888888888,
              "#fdca26"
             ],
             [
              1,
              "#f0f921"
             ]
            ],
            "type": "heatmapgl"
           }
          ],
          "histogram": [
           {
            "marker": {
             "pattern": {
              "fillmode": "overlay",
              "size": 10,
              "solidity": 0.2
             }
            },
            "type": "histogram"
           }
          ],
          "histogram2d": [
           {
            "colorbar": {
             "outlinewidth": 0,
             "ticks": ""
            },
            "colorscale": [
             [
              0,
              "#0d0887"
             ],
             [
              0.1111111111111111,
              "#46039f"
             ],
             [
              0.2222222222222222,
              "#7201a8"
             ],
             [
              0.3333333333333333,
              "#9c179e"
             ],
             [
              0.4444444444444444,
              "#bd3786"
             ],
             [
              0.5555555555555556,
              "#d8576b"
             ],
             [
              0.6666666666666666,
              "#ed7953"
             ],
             [
              0.7777777777777778,
              "#fb9f3a"
             ],
             [
              0.8888888888888888,
              "#fdca26"
             ],
             [
              1,
              "#f0f921"
             ]
            ],
            "type": "histogram2d"
           }
          ],
          "histogram2dcontour": [
           {
            "colorbar": {
             "outlinewidth": 0,
             "ticks": ""
            },
            "colorscale": [
             [
              0,
              "#0d0887"
             ],
             [
              0.1111111111111111,
              "#46039f"
             ],
             [
              0.2222222222222222,
              "#7201a8"
             ],
             [
              0.3333333333333333,
              "#9c179e"
             ],
             [
              0.4444444444444444,
              "#bd3786"
             ],
             [
              0.5555555555555556,
              "#d8576b"
             ],
             [
              0.6666666666666666,
              "#ed7953"
             ],
             [
              0.7777777777777778,
              "#fb9f3a"
             ],
             [
              0.8888888888888888,
              "#fdca26"
             ],
             [
              1,
              "#f0f921"
             ]
            ],
            "type": "histogram2dcontour"
           }
          ],
          "mesh3d": [
           {
            "colorbar": {
             "outlinewidth": 0,
             "ticks": ""
            },
            "type": "mesh3d"
           }
          ],
          "parcoords": [
           {
            "line": {
             "colorbar": {
              "outlinewidth": 0,
              "ticks": ""
             }
            },
            "type": "parcoords"
           }
          ],
          "pie": [
           {
            "automargin": true,
            "type": "pie"
           }
          ],
          "scatter": [
           {
            "fillpattern": {
             "fillmode": "overlay",
             "size": 10,
             "solidity": 0.2
            },
            "type": "scatter"
           }
          ],
          "scatter3d": [
           {
            "line": {
             "colorbar": {
              "outlinewidth": 0,
              "ticks": ""
             }
            },
            "marker": {
             "colorbar": {
              "outlinewidth": 0,
              "ticks": ""
             }
            },
            "type": "scatter3d"
           }
          ],
          "scattercarpet": [
           {
            "marker": {
             "colorbar": {
              "outlinewidth": 0,
              "ticks": ""
             }
            },
            "type": "scattercarpet"
           }
          ],
          "scattergeo": [
           {
            "marker": {
             "colorbar": {
              "outlinewidth": 0,
              "ticks": ""
             }
            },
            "type": "scattergeo"
           }
          ],
          "scattergl": [
           {
            "marker": {
             "colorbar": {
              "outlinewidth": 0,
              "ticks": ""
             }
            },
            "type": "scattergl"
           }
          ],
          "scattermapbox": [
           {
            "marker": {
             "colorbar": {
              "outlinewidth": 0,
              "ticks": ""
             }
            },
            "type": "scattermapbox"
           }
          ],
          "scatterpolar": [
           {
            "marker": {
             "colorbar": {
              "outlinewidth": 0,
              "ticks": ""
             }
            },
            "type": "scatterpolar"
           }
          ],
          "scatterpolargl": [
           {
            "marker": {
             "colorbar": {
              "outlinewidth": 0,
              "ticks": ""
             }
            },
            "type": "scatterpolargl"
           }
          ],
          "scatterternary": [
           {
            "marker": {
             "colorbar": {
              "outlinewidth": 0,
              "ticks": ""
             }
            },
            "type": "scatterternary"
           }
          ],
          "surface": [
           {
            "colorbar": {
             "outlinewidth": 0,
             "ticks": ""
            },
            "colorscale": [
             [
              0,
              "#0d0887"
             ],
             [
              0.1111111111111111,
              "#46039f"
             ],
             [
              0.2222222222222222,
              "#7201a8"
             ],
             [
              0.3333333333333333,
              "#9c179e"
             ],
             [
              0.4444444444444444,
              "#bd3786"
             ],
             [
              0.5555555555555556,
              "#d8576b"
             ],
             [
              0.6666666666666666,
              "#ed7953"
             ],
             [
              0.7777777777777778,
              "#fb9f3a"
             ],
             [
              0.8888888888888888,
              "#fdca26"
             ],
             [
              1,
              "#f0f921"
             ]
            ],
            "type": "surface"
           }
          ],
          "table": [
           {
            "cells": {
             "fill": {
              "color": "#EBF0F8"
             },
             "line": {
              "color": "white"
             }
            },
            "header": {
             "fill": {
              "color": "#C8D4E3"
             },
             "line": {
              "color": "white"
             }
            },
            "type": "table"
           }
          ]
         },
         "layout": {
          "annotationdefaults": {
           "arrowcolor": "#2a3f5f",
           "arrowhead": 0,
           "arrowwidth": 1
          },
          "autotypenumbers": "strict",
          "coloraxis": {
           "colorbar": {
            "outlinewidth": 0,
            "ticks": ""
           }
          },
          "colorscale": {
           "diverging": [
            [
             0,
             "#8e0152"
            ],
            [
             0.1,
             "#c51b7d"
            ],
            [
             0.2,
             "#de77ae"
            ],
            [
             0.3,
             "#f1b6da"
            ],
            [
             0.4,
             "#fde0ef"
            ],
            [
             0.5,
             "#f7f7f7"
            ],
            [
             0.6,
             "#e6f5d0"
            ],
            [
             0.7,
             "#b8e186"
            ],
            [
             0.8,
             "#7fbc41"
            ],
            [
             0.9,
             "#4d9221"
            ],
            [
             1,
             "#276419"
            ]
           ],
           "sequential": [
            [
             0,
             "#0d0887"
            ],
            [
             0.1111111111111111,
             "#46039f"
            ],
            [
             0.2222222222222222,
             "#7201a8"
            ],
            [
             0.3333333333333333,
             "#9c179e"
            ],
            [
             0.4444444444444444,
             "#bd3786"
            ],
            [
             0.5555555555555556,
             "#d8576b"
            ],
            [
             0.6666666666666666,
             "#ed7953"
            ],
            [
             0.7777777777777778,
             "#fb9f3a"
            ],
            [
             0.8888888888888888,
             "#fdca26"
            ],
            [
             1,
             "#f0f921"
            ]
           ],
           "sequentialminus": [
            [
             0,
             "#0d0887"
            ],
            [
             0.1111111111111111,
             "#46039f"
            ],
            [
             0.2222222222222222,
             "#7201a8"
            ],
            [
             0.3333333333333333,
             "#9c179e"
            ],
            [
             0.4444444444444444,
             "#bd3786"
            ],
            [
             0.5555555555555556,
             "#d8576b"
            ],
            [
             0.6666666666666666,
             "#ed7953"
            ],
            [
             0.7777777777777778,
             "#fb9f3a"
            ],
            [
             0.8888888888888888,
             "#fdca26"
            ],
            [
             1,
             "#f0f921"
            ]
           ]
          },
          "colorway": [
           "#636efa",
           "#EF553B",
           "#00cc96",
           "#ab63fa",
           "#FFA15A",
           "#19d3f3",
           "#FF6692",
           "#B6E880",
           "#FF97FF",
           "#FECB52"
          ],
          "font": {
           "color": "#2a3f5f"
          },
          "geo": {
           "bgcolor": "white",
           "lakecolor": "white",
           "landcolor": "#E5ECF6",
           "showlakes": true,
           "showland": true,
           "subunitcolor": "white"
          },
          "hoverlabel": {
           "align": "left"
          },
          "hovermode": "closest",
          "mapbox": {
           "style": "light"
          },
          "paper_bgcolor": "white",
          "plot_bgcolor": "#E5ECF6",
          "polar": {
           "angularaxis": {
            "gridcolor": "white",
            "linecolor": "white",
            "ticks": ""
           },
           "bgcolor": "#E5ECF6",
           "radialaxis": {
            "gridcolor": "white",
            "linecolor": "white",
            "ticks": ""
           }
          },
          "scene": {
           "xaxis": {
            "backgroundcolor": "#E5ECF6",
            "gridcolor": "white",
            "gridwidth": 2,
            "linecolor": "white",
            "showbackground": true,
            "ticks": "",
            "zerolinecolor": "white"
           },
           "yaxis": {
            "backgroundcolor": "#E5ECF6",
            "gridcolor": "white",
            "gridwidth": 2,
            "linecolor": "white",
            "showbackground": true,
            "ticks": "",
            "zerolinecolor": "white"
           },
           "zaxis": {
            "backgroundcolor": "#E5ECF6",
            "gridcolor": "white",
            "gridwidth": 2,
            "linecolor": "white",
            "showbackground": true,
            "ticks": "",
            "zerolinecolor": "white"
           }
          },
          "shapedefaults": {
           "line": {
            "color": "#2a3f5f"
           }
          },
          "ternary": {
           "aaxis": {
            "gridcolor": "white",
            "linecolor": "white",
            "ticks": ""
           },
           "baxis": {
            "gridcolor": "white",
            "linecolor": "white",
            "ticks": ""
           },
           "bgcolor": "#E5ECF6",
           "caxis": {
            "gridcolor": "white",
            "linecolor": "white",
            "ticks": ""
           }
          },
          "title": {
           "x": 0.05
          },
          "xaxis": {
           "automargin": true,
           "gridcolor": "white",
           "linecolor": "white",
           "ticks": "",
           "title": {
            "standoff": 15
           },
           "zerolinecolor": "white",
           "zerolinewidth": 2
          },
          "yaxis": {
           "automargin": true,
           "gridcolor": "white",
           "linecolor": "white",
           "ticks": "",
           "title": {
            "standoff": 15
           },
           "zerolinecolor": "white",
           "zerolinewidth": 2
          }
         }
        },
        "title": {
         "text": "UMAP Projection"
        },
        "xaxis": {
         "anchor": "y",
         "domain": [
          0,
          1
         ],
         "title": {
          "text": "UMAP Component 1"
         }
        },
        "yaxis": {
         "anchor": "x",
         "domain": [
          0,
          1
         ],
         "title": {
          "text": "UMAP Component 2"
         }
        }
       }
      }
     },
     "metadata": {},
     "output_type": "display_data"
    },
    {
     "name": "stdout",
     "output_type": "stream",
     "text": [
      "plot pos classes\n",
      "Structure of the CSV file: {'number_of_rows': 497, 'number_of_columns': 4545}\n",
      "Running workflow with settings: MakeModel\n"
     ]
    },
    {
     "data": {
      "application/vnd.plotly.v1+json": {
       "config": {
        "plotlyServerURL": "https://plot.ly"
       },
       "data": [
        {
         "hovertemplate": "class=pos_KAMG<br>UMAP Component 1=%{x}<br>UMAP Component 2=%{y}<extra></extra>",
         "legendgroup": "pos_KAMG",
         "marker": {
          "color": "#636efa",
          "symbol": "circle"
         },
         "mode": "markers",
         "name": "pos_KAMG",
         "orientation": "v",
         "showlegend": true,
         "type": "scatter",
         "x": [
          16.534931182861328,
          15.849613189697266,
          16.615211486816406,
          15.775511741638184,
          14.253061294555664,
          20.82292366027832,
          9.738595962524414,
          -6.024648666381836,
          13.272907257080078,
          13.454724311828613,
          14.346086502075195,
          14.284480094909668,
          13.921395301818848,
          20.678518295288086,
          14.080398559570312,
          21.232118606567383,
          15.810643196105957,
          15.28936767578125,
          15.88364028930664,
          16.143993377685547,
          14.420771598815918,
          15.964303970336914,
          -5.60636568069458,
          -5.218882083892822,
          -5.573952674865723,
          -5.8793439865112305,
          16.599712371826172,
          15.496204376220703,
          12.970890998840332,
          13.471212387084961,
          12.913350105285645,
          16.993576049804688,
          17.007171630859375,
          16.911026000976562,
          20.82100486755371,
          15.577323913574219,
          16.459348678588867,
          16.155258178710938,
          16.301206588745117,
          13.339611053466797,
          21.389476776123047,
          21.678964614868164,
          21.206661224365234,
          14.614846229553223,
          13.283401489257812,
          21.963903427124023,
          22.033145904541016,
          22.068431854248047,
          13.257731437683105,
          21.10851287841797,
          13.201410293579102,
          21.5625057220459,
          13.546562194824219,
          20.609514236450195,
          20.757732391357422,
          21.497936248779297,
          12.788104057312012,
          13.021440505981445,
          20.70148468017578,
          20.86768913269043,
          10.434447288513184,
          9.827969551086426,
          9.618099212646484,
          13.27177906036377,
          13.103578567504883,
          22.1962833404541,
          22.18842124938965,
          22.158370971679688,
          22.014272689819336,
          11.05753231048584,
          10.903938293457031,
          11.158711433410645,
          10.573986053466797,
          10.751070022583008,
          22.339187622070312,
          22.26138687133789,
          22.367441177368164,
          22.27816390991211,
          -10.32013988494873,
          -9.496857643127441,
          -9.632330894470215,
          14.72468376159668,
          -9.906230926513672
         ],
         "xaxis": "x",
         "y": [
          19.03059959411621,
          18.461769104003906,
          17.88747215270996,
          18.232561111450195,
          16.730741500854492,
          30.803157806396484,
          20.075437545776367,
          -1.1581389904022217,
          18.863903045654297,
          19.04153823852539,
          16.873085021972656,
          14.71909236907959,
          14.32623291015625,
          30.402271270751953,
          14.497347831726074,
          30.523414611816406,
          18.019468307495117,
          15.24044418334961,
          17.5798282623291,
          17.970849990844727,
          16.65534019470215,
          17.505067825317383,
          -1.2618083953857422,
          -0.9192218780517578,
          -1.1104830503463745,
          -1.1480967998504639,
          19.049184799194336,
          15.348651885986328,
          18.47402000427246,
          18.441696166992188,
          18.43539047241211,
          17.936344146728516,
          17.953020095825195,
          17.929336547851562,
          30.233110427856445,
          15.256256103515625,
          14.63990306854248,
          14.944079399108887,
          14.7941312789917,
          5.765178680419922,
          29.5234432220459,
          30.09341049194336,
          29.657926559448242,
          4.554080009460449,
          5.332999229431152,
          23.72718620300293,
          23.79770278930664,
          29.210641860961914,
          5.899338245391846,
          29.151874542236328,
          4.6457600593566895,
          28.693471908569336,
          5.829862594604492,
          30.623231887817383,
          30.840557098388672,
          28.913372039794922,
          5.980823040008545,
          6.35862922668457,
          8.634636878967285,
          8.786152839660645,
          -7.981957912445068,
          -7.563314437866211,
          -7.364509105682373,
          5.651424407958984,
          5.430181503295898,
          24.322282791137695,
          24.263395309448242,
          24.24928855895996,
          24.109346389770508,
          -7.445624351501465,
          -7.343810558319092,
          -7.2436017990112305,
          -7.243734359741211,
          -7.302308559417725,
          27.127323150634766,
          27.061405181884766,
          27.16850471496582,
          27.062585830688477,
          9.992959976196289,
          9.565864562988281,
          9.688041687011719,
          4.548526287078857,
          9.977093696594238
         ],
         "yaxis": "y"
        },
        {
         "hovertemplate": "class=pos_KARH<br>UMAP Component 1=%{x}<br>UMAP Component 2=%{y}<extra></extra>",
         "legendgroup": "pos_KARH",
         "marker": {
          "color": "#EF553B",
          "symbol": "circle"
         },
         "mode": "markers",
         "name": "pos_KARH",
         "orientation": "v",
         "showlegend": true,
         "type": "scatter",
         "x": [
          16.37872314453125,
          14.323333740234375,
          16.46333122253418,
          16.178518295288086,
          20.83111572265625,
          9.761249542236328,
          9.72916316986084,
          -5.112295150756836,
          13.201117515563965,
          13.390859603881836,
          14.39590835571289,
          14.096503257751465,
          20.474388122558594,
          16.003318786621094,
          14.31942081451416,
          20.922067642211914,
          15.811848640441895,
          20.72201919555664,
          15.953940391540527,
          20.882474899291992,
          16.50087547302246,
          21.108482360839844,
          -5.462331295013428,
          -5.280633926391602,
          -5.592105388641357,
          -5.892420291900635,
          16.41535758972168,
          15.489158630371094,
          12.985929489135742,
          13.507810592651367,
          17.686092376708984,
          16.971338272094727,
          17.02069854736328,
          16.991641998291016,
          20.887649536132812,
          15.626981735229492,
          16.32793617248535,
          15.64560317993164,
          16.351985931396484,
          12.988825798034668,
          12.973747253417969,
          13.09045124053955,
          14.423012733459473,
          21.50486946105957,
          13.50993824005127,
          13.378315925598145,
          13.553387641906738,
          22.01706886291504,
          22.089685440063477,
          21.114595413208008,
          13.308707237243652,
          21.604978561401367,
          13.199973106384277,
          20.623943328857422,
          13.0972318649292,
          20.589218139648438,
          20.81477165222168,
          20.871553421020508,
          20.785947799682617,
          14.691476821899414,
          10.48307991027832,
          9.85294246673584,
          10.534729957580566,
          13.213078498840332,
          10.518957138061523,
          22.198427200317383,
          14.395992279052734,
          14.009489059448242,
          14.978248596191406,
          10.793506622314453,
          14.946426391601562,
          10.933372497558594,
          10.21901798248291,
          22.138710021972656,
          13.349869728088379,
          13.234724998474121,
          13.294710159301758,
          21.695114135742188,
          -10.262310981750488,
          -10.310714721679688,
          -10.244698524475098,
          -10.180377960205078,
          -10.144184112548828
         ],
         "xaxis": "x",
         "y": [
          18.746793746948242,
          16.63164520263672,
          18.880937576293945,
          18.59012794494629,
          30.543893814086914,
          20.097658157348633,
          20.065885543823242,
          -0.8168787360191345,
          18.857362747192383,
          19.109355926513672,
          16.69341278076172,
          14.517274856567383,
          30.18471908569336,
          17.50008201599121,
          16.380109786987305,
          29.975271224975586,
          17.919055938720703,
          29.62323760986328,
          17.51688575744629,
          30.008419036865234,
          18.58196449279785,
          29.699047088623047,
          -1.2236305475234985,
          -0.9652526378631592,
          -1.1545497179031372,
          -1.1245001554489136,
          18.757917404174805,
          15.319580078125,
          18.498586654663086,
          18.48427391052246,
          25.335796356201172,
          17.936201095581055,
          17.920053482055664,
          17.95567512512207,
          30.916383743286133,
          15.243258476257324,
          14.775104522705078,
          15.280842781066895,
          14.747947692871094,
          5.806992053985596,
          5.898738861083984,
          5.905872344970703,
          4.7038493156433105,
          28.801725387573242,
          6.2287702560424805,
          6.080140590667725,
          6.14971923828125,
          29.17856788635254,
          29.29463005065918,
          29.153491973876953,
          4.6053290367126465,
          28.71172332763672,
          6.146703720092773,
          30.654178619384766,
          6.056502819061279,
          8.528969764709473,
          8.737412452697754,
          8.768290519714355,
          8.739293098449707,
          4.439521312713623,
          -8.127849578857422,
          -7.568431854248047,
          -8.085433959960938,
          5.569346904754639,
          -8.090136528015137,
          24.289278030395508,
          4.7446746826171875,
          5.000870704650879,
          4.5299530029296875,
          -7.385251998901367,
          4.569283485412598,
          -7.175833702087402,
          -7.125961780548096,
          27.41866683959961,
          6.104900360107422,
          6.336846351623535,
          6.1663432121276855,
          28.660961151123047,
          9.961870193481445,
          9.998810768127441,
          9.899574279785156,
          9.91419506072998,
          9.929744720458984
         ],
         "yaxis": "y"
        },
        {
         "hovertemplate": "class=pos_KAXAL<br>UMAP Component 1=%{x}<br>UMAP Component 2=%{y}<extra></extra>",
         "legendgroup": "pos_KAXAL",
         "marker": {
          "color": "#00cc96",
          "symbol": "circle"
         },
         "mode": "markers",
         "name": "pos_KAXAL",
         "orientation": "v",
         "showlegend": true,
         "type": "scatter",
         "x": [
          16.646543502807617,
          14.414690971374512,
          16.023666381835938,
          14.259886741638184,
          21.35296630859375,
          9.755906105041504,
          9.725183486938477,
          -5.1568284034729,
          13.223600387573242,
          20.876131057739258,
          14.33609390258789,
          14.262130737304688,
          20.397418975830078,
          14.064615249633789,
          14.04338264465332,
          16.44881248474121,
          15.783184051513672,
          16.438188552856445,
          15.963793754577637,
          15.78614330291748,
          14.487183570861816,
          20.86131477355957,
          -5.311849594116211,
          -5.343250751495361,
          -5.462532997131348,
          -5.988216400146484,
          21.28942108154297,
          21.169780731201172,
          13.017969131469727,
          12.931109428405762,
          17.62862205505371,
          17.611600875854492,
          17.58450698852539,
          17.55583381652832,
          20.888826370239258,
          20.958003997802734,
          20.762561798095703,
          21.212480545043945,
          20.612018585205078,
          13.19428539276123,
          12.874797821044922,
          21.201011657714844,
          13.326345443725586,
          14.905634880065918,
          14.730864524841309,
          22.056119918823242,
          22.02196502685547,
          13.836251258850098,
          14.571493148803711,
          21.060832977294922,
          13.237082481384277,
          21.75376319885254,
          13.08012866973877,
          20.73086929321289,
          12.948355674743652,
          12.902108192443848,
          12.838438034057617,
          14.770607948303223,
          20.685157775878906,
          11.041950225830078,
          9.895832061767578,
          9.871575355529785,
          9.935833930969238,
          13.227582931518555,
          14.240236282348633,
          22.16253089904785,
          14.30470085144043,
          14.059358596801758,
          15.056119918823242,
          10.429328918457031,
          14.828932762145996,
          10.577428817749023,
          13.539719581604004,
          22.210803985595703,
          13.558242797851562,
          13.397924423217773,
          13.171282768249512,
          20.800230026245117,
          -9.494149208068848,
          12.791801452636719,
          -9.686628341674805,
          -9.651126861572266,
          -9.85809326171875
         ],
         "xaxis": "x",
         "y": [
          19.112627029418945,
          16.631452560424805,
          17.65055274963379,
          16.68852424621582,
          30.76893424987793,
          20.09237289428711,
          20.062192916870117,
          -0.868924617767334,
          18.880779266357422,
          30.548234939575195,
          16.87856674194336,
          14.706600189208984,
          30.16907501220703,
          14.480522155761719,
          14.45975112915039,
          18.697145462036133,
          17.97541046142578,
          18.443988800048828,
          17.469593048095703,
          17.935882568359375,
          16.772083282470703,
          30.662221908569336,
          -0.9932305216789246,
          -1.0240222215652466,
          -0.9454209804534912,
          -1.0974400043487549,
          30.626989364624023,
          30.500423431396484,
          18.497770309448242,
          18.40004539489746,
          25.411781311035156,
          25.411415100097656,
          25.424171447753906,
          25.458173751831055,
          30.822301864624023,
          30.805377960205078,
          30.562747955322266,
          30.61054801940918,
          30.90580177307129,
          6.121830463409424,
          6.000599384307861,
          31.02736473083496,
          6.302347183227539,
          4.460888862609863,
          4.393828392028809,
          23.826723098754883,
          23.780031204223633,
          5.419179916381836,
          4.559887886047363,
          29.157398223876953,
          4.639976978302002,
          28.313766479492188,
          5.784708499908447,
          30.560562133789062,
          5.920844078063965,
          6.499429225921631,
          6.276403903961182,
          4.452371597290039,
          8.607817649841309,
          -7.254044055938721,
          -7.520165920257568,
          -7.545673370361328,
          -7.564447402954102,
          5.552274227142334,
          5.971521854400635,
          24.266708374023438,
          4.821252346038818,
          4.968715190887451,
          4.621899604797363,
          -7.289222240447998,
          4.491779327392578,
          -7.205827236175537,
          6.244202613830566,
          27.19605255126953,
          6.050201892852783,
          6.240965366363525,
          6.1306376457214355,
          30.978715896606445,
          9.564300537109375,
          6.202910423278809,
          9.7570219039917,
          9.702409744262695,
          9.954776763916016
         ],
         "yaxis": "y"
        },
        {
         "hovertemplate": "class=pos_KARB<br>UMAP Component 1=%{x}<br>UMAP Component 2=%{y}<extra></extra>",
         "legendgroup": "pos_KARB",
         "marker": {
          "color": "#ab63fa",
          "symbol": "circle"
         },
         "mode": "markers",
         "name": "pos_KARB",
         "orientation": "v",
         "showlegend": true,
         "type": "scatter",
         "x": [
          16.54327392578125,
          16.193082809448242,
          16.047697067260742,
          14.343907356262207,
          20.631460189819336,
          9.696183204650879,
          20.926267623901367,
          -5.093214511871338,
          13.426786422729492,
          16.659442901611328,
          20.85845184326172,
          14.206499099731445,
          16.371292114257812,
          16.126447677612305,
          15.209235191345215,
          16.3673038482666,
          20.753740310668945,
          16.462865829467773,
          20.90826416015625,
          15.780753135681152,
          20.9183349609375,
          -6.035958766937256,
          -5.200067520141602,
          -5.259957790374756,
          -5.517134666442871,
          -5.907934188842773,
          15.85935115814209,
          13.403634071350098,
          13.209192276000977,
          13.699472427368164,
          17.669729232788086,
          15.42733383178711,
          16.049964904785156,
          16.1368465423584,
          15.53422737121582,
          16.36434555053711,
          16.4803409576416,
          16.406696319580078,
          16.3881778717041,
          13.371626853942871,
          15.005301475524902,
          13.103687286376953,
          20.610185623168945,
          21.87626075744629,
          21.92730712890625,
          13.499754905700684,
          14.585282325744629,
          21.995012283325195,
          22.11622428894043,
          21.345325469970703,
          21.33196449279785,
          21.291183471679688,
          14.886269569396973,
          20.6040096282959,
          20.64634895324707,
          20.80288314819336,
          20.785593032836914,
          20.827808380126953,
          20.713441848754883,
          10.709254264831543,
          9.850125312805176,
          10.501907348632812,
          9.991778373718262,
          10.474897384643555,
          14.2037992477417,
          22.186006546020508,
          22.127628326416016,
          22.17119598388672,
          11.099018096923828,
          10.94378662109375,
          20.695341110229492,
          10.491461753845215,
          10.717272758483887,
          22.248449325561523,
          22.282337188720703,
          22.21088218688965,
          22.232929229736328,
          -10.252901077270508,
          -9.503937721252441,
          12.78235149383545,
          -9.700526237487793,
          -9.576051712036133,
          -9.924850463867188
         ],
         "xaxis": "x",
         "y": [
          18.962406158447266,
          18.05278778076172,
          17.90009307861328,
          16.78775405883789,
          30.587255477905273,
          20.032730102539062,
          30.57842445373535,
          -0.8088293075561523,
          19.02887725830078,
          19.123611450195312,
          30.57514762878418,
          14.621859550476074,
          18.119396209716797,
          17.753019332885742,
          15.182665824890137,
          18.501792907714844,
          29.650455474853516,
          18.45742416381836,
          30.34932518005371,
          17.913105010986328,
          29.940900802612305,
          -1.1707514524459839,
          -0.9293681979179382,
          -0.989095151424408,
          -1.2991447448730469,
          -1.1819292306900024,
          18.27139663696289,
          19.14544677734375,
          18.480213165283203,
          18.422801971435547,
          25.34555435180664,
          15.310153007507324,
          18.339872360229492,
          18.37457847595215,
          15.297798156738281,
          14.706620216369629,
          14.617670059204102,
          14.689912796020508,
          14.710725784301758,
          5.975351810455322,
          4.668452262878418,
          5.650088310241699,
          30.869190216064453,
          29.756454467773438,
          29.661869049072266,
          6.06695032119751,
          4.588972568511963,
          23.72882080078125,
          29.28868865966797,
          29.44753074645996,
          29.598676681518555,
          29.634212493896484,
          4.525808334350586,
          30.79425621032715,
          30.8553524017334,
          8.7279691696167,
          8.727359771728516,
          8.754766464233398,
          8.589494705200195,
          -7.851477146148682,
          -7.461360931396484,
          -7.988152503967285,
          -7.4426727294921875,
          -8.021402359008789,
          5.986571788787842,
          24.237850189208984,
          24.17520523071289,
          24.235498428344727,
          -7.429661273956299,
          -7.445736408233643,
          30.79931640625,
          -7.245954513549805,
          -7.314611434936523,
          27.20986557006836,
          27.08356285095215,
          27.005996704101562,
          27.142738342285156,
          10.02430248260498,
          9.572754859924316,
          6.2641096115112305,
          9.742203712463379,
          9.624565124511719,
          10.01988697052002
         ],
         "yaxis": "y"
        },
        {
         "hovertemplate": "class=pos_KAKL<br>UMAP Component 1=%{x}<br>UMAP Component 2=%{y}<extra></extra>",
         "legendgroup": "pos_KAKL",
         "marker": {
          "color": "#FFA15A",
          "symbol": "circle"
         },
         "mode": "markers",
         "name": "pos_KAKL",
         "orientation": "v",
         "showlegend": true,
         "type": "scatter",
         "x": [
          16.737539291381836,
          20.58370018005371,
          16.570261001586914,
          14.27818775177002,
          20.805133819580078,
          9.73416519165039,
          20.96363639831543,
          -5.13257360458374,
          13.493626594543457,
          16.60285758972168,
          21.181079864501953,
          14.92696475982666,
          20.45180320739746,
          13.982101440429688,
          13.971885681152344,
          16.25347900390625,
          15.269386291503906,
          16.37468719482422,
          16.15868377685547,
          15.759452819824219,
          16.025999069213867,
          -5.907605171203613,
          -5.155245304107666,
          -5.395418167114258,
          -5.589362621307373,
          -5.952437877655029,
          15.745370864868164,
          13.07211971282959,
          13.349288940429688,
          13.737323760986328,
          17.59231948852539,
          15.458305358886719,
          16.068355560302734,
          16.902719497680664,
          15.641335487365723,
          16.35637664794922,
          16.426006317138672,
          16.42094612121582,
          16.41020393371582,
          13.03725814819336,
          13.638116836547852,
          21.234708786010742,
          13.269289016723633,
          13.587861061096191,
          20.968534469604492,
          22.03898048400879,
          22.049753189086914,
          13.258533477783203,
          13.530141830444336,
          13.238137245178223,
          21.71429443359375,
          20.986665725708008,
          13.569039344787598,
          20.888431549072266,
          21.17805290222168,
          14.742547035217285,
          10.577807426452637,
          20.680587768554688,
          20.93559455871582,
          10.709433555603027,
          9.86244010925293,
          9.645663261413574,
          9.910882949829102,
          13.211647033691406,
          14.140810012817383,
          15.02735710144043,
          13.993412017822266,
          13.965081214904785,
          10.977336883544922,
          13.432948112487793,
          12.65677547454834,
          10.290536880493164,
          10.175588607788086,
          22.272775650024414,
          14.141528129577637,
          13.627297401428223,
          13.66071891784668,
          -10.330294609069824,
          -10.350793838500977,
          -10.314831733703613,
          -10.264620780944824,
          -10.179784774780273,
          -10.106165885925293
         ],
         "xaxis": "x",
         "y": [
          19.236249923706055,
          30.446998596191406,
          19.023311614990234,
          16.73959732055664,
          30.65906524658203,
          20.070695877075195,
          30.6453914642334,
          -0.8393060564994812,
          19.02781867980957,
          18.8111572265625,
          30.63182258605957,
          15.02176284790039,
          30.39509391784668,
          14.397465705871582,
          14.386246681213379,
          18.251338958740234,
          15.214801788330078,
          18.281103134155273,
          18.040468215942383,
          17.949851989746094,
          17.51179313659668,
          -1.0264068841934204,
          -0.8529277443885803,
          -1.0697507858276367,
          -1.2707493305206299,
          -1.132469654083252,
          18.234769821166992,
          18.559101104736328,
          18.44875717163086,
          18.386131286621094,
          25.419811248779297,
          15.340838432312012,
          18.34925651550293,
          17.883115768432617,
          15.340185165405273,
          14.746936798095703,
          14.67276382446289,
          14.676846504211426,
          14.711143493652344,
          5.987055778503418,
          5.929577350616455,
          31.06097412109375,
          5.316445827484131,
          5.568375587463379,
          30.434236526489258,
          23.80829620361328,
          23.83360481262207,
          5.356423377990723,
          6.2142438888549805,
          4.668022155761719,
          28.462892532348633,
          30.39468002319336,
          6.318580627441406,
          31.11100959777832,
          28.916980743408203,
          4.441256046295166,
          -7.415464401245117,
          8.596409797668457,
          8.85877799987793,
          -7.889408111572266,
          -7.490597248077393,
          -7.363382339477539,
          -7.567927360534668,
          5.525694847106934,
          6.035246849060059,
          4.561418056488037,
          5.025716781616211,
          5.058897972106934,
          -7.409919261932373,
          6.303163528442383,
          6.366288185119629,
          -7.142342567443848,
          -7.085792541503906,
          27.113439559936523,
          6.034130573272705,
          5.443178653717041,
          5.891676902770996,
          9.99294376373291,
          9.975435256958008,
          9.876980781555176,
          9.955141067504883,
          9.895286560058594,
          9.83283519744873
         ],
         "yaxis": "y"
        },
        {
         "hovertemplate": "class=pos_RW<br>UMAP Component 1=%{x}<br>UMAP Component 2=%{y}<extra></extra>",
         "legendgroup": "pos_RW",
         "marker": {
          "color": "#19d3f3",
          "symbol": "circle"
         },
         "mode": "markers",
         "name": "pos_RW",
         "orientation": "v",
         "showlegend": true,
         "type": "scatter",
         "x": [
          15.860608100891113,
          16.317480087280273,
          16.07975959777832,
          14.261557579040527,
          21.34418296813965,
          9.712401390075684,
          16.738941192626953,
          13.373453140258789,
          13.453906059265137,
          14.297282218933105,
          14.042742729187012,
          14.026481628417969,
          15.150023460388184,
          14.141800880432129,
          20.955425262451172,
          20.72541046142578,
          15.24183464050293,
          20.692371368408203,
          16.074512481689453,
          20.93782615661621,
          16.006284713745117,
          -5.937222480773926,
          -5.236189842224121,
          -5.379250526428223,
          -5.979259967803955,
          -5.972076416015625,
          21.20265769958496,
          13.04793643951416,
          12.996586799621582,
          12.921761512756348,
          17.582908630371094,
          17.625791549682617,
          17.60789680480957,
          17.5771427154541,
          20.687137603759766,
          20.818796157836914,
          20.4128360748291,
          20.791563034057617,
          20.770179748535156,
          14.964698791503906,
          13.49540901184082,
          14.231343269348145,
          14.276905059814453,
          13.45082950592041,
          22.061237335205078,
          13.221558570861816,
          20.492223739624023,
          21.942405700683594,
          22.124595642089844,
          13.231712341308594,
          21.579313278198242,
          13.592630386352539,
          20.712678909301758,
          20.85318946838379,
          21.08563232421875,
          20.709613800048828,
          20.7574462890625,
          20.753395080566406,
          10.482765197753906,
          10.299362182617188,
          10.503552436828613,
          9.671943664550781,
          10.465459823608398,
          13.062055587768555,
          10.638076782226562,
          14.99509048461914,
          14.015067100524902,
          13.905738830566406,
          11.097055435180664,
          10.661661148071289,
          11.212579727172852,
          10.248632431030273,
          10.162066459655762,
          22.301097869873047,
          14.857152938842773,
          13.622443199157715,
          13.459680557250977,
          -10.337272644042969,
          -9.431604385375977,
          -9.639933586120605,
          14.61359977722168,
          -9.873427391052246
         ],
         "xaxis": "x",
         "y": [
          15.573305130004883,
          17.438373565673828,
          18.325788497924805,
          16.80590057373047,
          30.62087631225586,
          20.04901123046875,
          19.243305206298828,
          19.130083084106445,
          19.110610961914062,
          16.896921157836914,
          14.456544876098633,
          14.4382905960083,
          15.14522647857666,
          14.591833114624023,
          30.43265724182129,
          29.64152717590332,
          15.184414863586426,
          29.620744705200195,
          17.91175651550293,
          29.916627883911133,
          17.583396911621094,
          -1.218766212463379,
          -0.9128185510635376,
          -0.9939893484115601,
          -1.065476417541504,
          -1.0500832796096802,
          30.61064338684082,
          18.537765502929688,
          18.486492156982422,
          18.42432975769043,
          25.409130096435547,
          25.445968627929688,
          25.4090518951416,
          25.434755325317383,
          30.755474090576172,
          31.0588321685791,
          30.780519485473633,
          30.84428596496582,
          30.59678077697754,
          4.649538516998291,
          5.8923187255859375,
          5.985733509063721,
          5.851412296295166,
          5.6471452713012695,
          23.865585327148438,
          5.353715896606445,
          30.764680862426758,
          23.68625259399414,
          29.348249435424805,
          4.712172508239746,
          28.699264526367188,
          6.193485736846924,
          30.978618621826172,
          31.09132194519043,
          28.982311248779297,
          8.638694763183594,
          8.670164108276367,
          8.714460372924805,
          -7.68237829208374,
          -7.865756034851074,
          -7.944309711456299,
          -7.390623092651367,
          -7.885416507720947,
          5.538580894470215,
          -8.002299308776855,
          4.59602165222168,
          5.015096187591553,
          5.1322221755981445,
          -7.3964738845825195,
          -7.4619140625,
          -7.257940769195557,
          -7.098813056945801,
          -7.14501953125,
          27.155824661254883,
          4.5199971199035645,
          5.458901882171631,
          5.733462333679199,
          10.032451629638672,
          9.496077537536621,
          9.765902519226074,
          4.625634670257568,
          9.946459770202637
         ],
         "yaxis": "y"
        }
       ],
       "layout": {
        "legend": {
         "title": {
          "text": "class"
         },
         "tracegroupgap": 0
        },
        "template": {
         "data": {
          "bar": [
           {
            "error_x": {
             "color": "#2a3f5f"
            },
            "error_y": {
             "color": "#2a3f5f"
            },
            "marker": {
             "line": {
              "color": "#E5ECF6",
              "width": 0.5
             },
             "pattern": {
              "fillmode": "overlay",
              "size": 10,
              "solidity": 0.2
             }
            },
            "type": "bar"
           }
          ],
          "barpolar": [
           {
            "marker": {
             "line": {
              "color": "#E5ECF6",
              "width": 0.5
             },
             "pattern": {
              "fillmode": "overlay",
              "size": 10,
              "solidity": 0.2
             }
            },
            "type": "barpolar"
           }
          ],
          "carpet": [
           {
            "aaxis": {
             "endlinecolor": "#2a3f5f",
             "gridcolor": "white",
             "linecolor": "white",
             "minorgridcolor": "white",
             "startlinecolor": "#2a3f5f"
            },
            "baxis": {
             "endlinecolor": "#2a3f5f",
             "gridcolor": "white",
             "linecolor": "white",
             "minorgridcolor": "white",
             "startlinecolor": "#2a3f5f"
            },
            "type": "carpet"
           }
          ],
          "choropleth": [
           {
            "colorbar": {
             "outlinewidth": 0,
             "ticks": ""
            },
            "type": "choropleth"
           }
          ],
          "contour": [
           {
            "colorbar": {
             "outlinewidth": 0,
             "ticks": ""
            },
            "colorscale": [
             [
              0,
              "#0d0887"
             ],
             [
              0.1111111111111111,
              "#46039f"
             ],
             [
              0.2222222222222222,
              "#7201a8"
             ],
             [
              0.3333333333333333,
              "#9c179e"
             ],
             [
              0.4444444444444444,
              "#bd3786"
             ],
             [
              0.5555555555555556,
              "#d8576b"
             ],
             [
              0.6666666666666666,
              "#ed7953"
             ],
             [
              0.7777777777777778,
              "#fb9f3a"
             ],
             [
              0.8888888888888888,
              "#fdca26"
             ],
             [
              1,
              "#f0f921"
             ]
            ],
            "type": "contour"
           }
          ],
          "contourcarpet": [
           {
            "colorbar": {
             "outlinewidth": 0,
             "ticks": ""
            },
            "type": "contourcarpet"
           }
          ],
          "heatmap": [
           {
            "colorbar": {
             "outlinewidth": 0,
             "ticks": ""
            },
            "colorscale": [
             [
              0,
              "#0d0887"
             ],
             [
              0.1111111111111111,
              "#46039f"
             ],
             [
              0.2222222222222222,
              "#7201a8"
             ],
             [
              0.3333333333333333,
              "#9c179e"
             ],
             [
              0.4444444444444444,
              "#bd3786"
             ],
             [
              0.5555555555555556,
              "#d8576b"
             ],
             [
              0.6666666666666666,
              "#ed7953"
             ],
             [
              0.7777777777777778,
              "#fb9f3a"
             ],
             [
              0.8888888888888888,
              "#fdca26"
             ],
             [
              1,
              "#f0f921"
             ]
            ],
            "type": "heatmap"
           }
          ],
          "heatmapgl": [
           {
            "colorbar": {
             "outlinewidth": 0,
             "ticks": ""
            },
            "colorscale": [
             [
              0,
              "#0d0887"
             ],
             [
              0.1111111111111111,
              "#46039f"
             ],
             [
              0.2222222222222222,
              "#7201a8"
             ],
             [
              0.3333333333333333,
              "#9c179e"
             ],
             [
              0.4444444444444444,
              "#bd3786"
             ],
             [
              0.5555555555555556,
              "#d8576b"
             ],
             [
              0.6666666666666666,
              "#ed7953"
             ],
             [
              0.7777777777777778,
              "#fb9f3a"
             ],
             [
              0.8888888888888888,
              "#fdca26"
             ],
             [
              1,
              "#f0f921"
             ]
            ],
            "type": "heatmapgl"
           }
          ],
          "histogram": [
           {
            "marker": {
             "pattern": {
              "fillmode": "overlay",
              "size": 10,
              "solidity": 0.2
             }
            },
            "type": "histogram"
           }
          ],
          "histogram2d": [
           {
            "colorbar": {
             "outlinewidth": 0,
             "ticks": ""
            },
            "colorscale": [
             [
              0,
              "#0d0887"
             ],
             [
              0.1111111111111111,
              "#46039f"
             ],
             [
              0.2222222222222222,
              "#7201a8"
             ],
             [
              0.3333333333333333,
              "#9c179e"
             ],
             [
              0.4444444444444444,
              "#bd3786"
             ],
             [
              0.5555555555555556,
              "#d8576b"
             ],
             [
              0.6666666666666666,
              "#ed7953"
             ],
             [
              0.7777777777777778,
              "#fb9f3a"
             ],
             [
              0.8888888888888888,
              "#fdca26"
             ],
             [
              1,
              "#f0f921"
             ]
            ],
            "type": "histogram2d"
           }
          ],
          "histogram2dcontour": [
           {
            "colorbar": {
             "outlinewidth": 0,
             "ticks": ""
            },
            "colorscale": [
             [
              0,
              "#0d0887"
             ],
             [
              0.1111111111111111,
              "#46039f"
             ],
             [
              0.2222222222222222,
              "#7201a8"
             ],
             [
              0.3333333333333333,
              "#9c179e"
             ],
             [
              0.4444444444444444,
              "#bd3786"
             ],
             [
              0.5555555555555556,
              "#d8576b"
             ],
             [
              0.6666666666666666,
              "#ed7953"
             ],
             [
              0.7777777777777778,
              "#fb9f3a"
             ],
             [
              0.8888888888888888,
              "#fdca26"
             ],
             [
              1,
              "#f0f921"
             ]
            ],
            "type": "histogram2dcontour"
           }
          ],
          "mesh3d": [
           {
            "colorbar": {
             "outlinewidth": 0,
             "ticks": ""
            },
            "type": "mesh3d"
           }
          ],
          "parcoords": [
           {
            "line": {
             "colorbar": {
              "outlinewidth": 0,
              "ticks": ""
             }
            },
            "type": "parcoords"
           }
          ],
          "pie": [
           {
            "automargin": true,
            "type": "pie"
           }
          ],
          "scatter": [
           {
            "fillpattern": {
             "fillmode": "overlay",
             "size": 10,
             "solidity": 0.2
            },
            "type": "scatter"
           }
          ],
          "scatter3d": [
           {
            "line": {
             "colorbar": {
              "outlinewidth": 0,
              "ticks": ""
             }
            },
            "marker": {
             "colorbar": {
              "outlinewidth": 0,
              "ticks": ""
             }
            },
            "type": "scatter3d"
           }
          ],
          "scattercarpet": [
           {
            "marker": {
             "colorbar": {
              "outlinewidth": 0,
              "ticks": ""
             }
            },
            "type": "scattercarpet"
           }
          ],
          "scattergeo": [
           {
            "marker": {
             "colorbar": {
              "outlinewidth": 0,
              "ticks": ""
             }
            },
            "type": "scattergeo"
           }
          ],
          "scattergl": [
           {
            "marker": {
             "colorbar": {
              "outlinewidth": 0,
              "ticks": ""
             }
            },
            "type": "scattergl"
           }
          ],
          "scattermapbox": [
           {
            "marker": {
             "colorbar": {
              "outlinewidth": 0,
              "ticks": ""
             }
            },
            "type": "scattermapbox"
           }
          ],
          "scatterpolar": [
           {
            "marker": {
             "colorbar": {
              "outlinewidth": 0,
              "ticks": ""
             }
            },
            "type": "scatterpolar"
           }
          ],
          "scatterpolargl": [
           {
            "marker": {
             "colorbar": {
              "outlinewidth": 0,
              "ticks": ""
             }
            },
            "type": "scatterpolargl"
           }
          ],
          "scatterternary": [
           {
            "marker": {
             "colorbar": {
              "outlinewidth": 0,
              "ticks": ""
             }
            },
            "type": "scatterternary"
           }
          ],
          "surface": [
           {
            "colorbar": {
             "outlinewidth": 0,
             "ticks": ""
            },
            "colorscale": [
             [
              0,
              "#0d0887"
             ],
             [
              0.1111111111111111,
              "#46039f"
             ],
             [
              0.2222222222222222,
              "#7201a8"
             ],
             [
              0.3333333333333333,
              "#9c179e"
             ],
             [
              0.4444444444444444,
              "#bd3786"
             ],
             [
              0.5555555555555556,
              "#d8576b"
             ],
             [
              0.6666666666666666,
              "#ed7953"
             ],
             [
              0.7777777777777778,
              "#fb9f3a"
             ],
             [
              0.8888888888888888,
              "#fdca26"
             ],
             [
              1,
              "#f0f921"
             ]
            ],
            "type": "surface"
           }
          ],
          "table": [
           {
            "cells": {
             "fill": {
              "color": "#EBF0F8"
             },
             "line": {
              "color": "white"
             }
            },
            "header": {
             "fill": {
              "color": "#C8D4E3"
             },
             "line": {
              "color": "white"
             }
            },
            "type": "table"
           }
          ]
         },
         "layout": {
          "annotationdefaults": {
           "arrowcolor": "#2a3f5f",
           "arrowhead": 0,
           "arrowwidth": 1
          },
          "autotypenumbers": "strict",
          "coloraxis": {
           "colorbar": {
            "outlinewidth": 0,
            "ticks": ""
           }
          },
          "colorscale": {
           "diverging": [
            [
             0,
             "#8e0152"
            ],
            [
             0.1,
             "#c51b7d"
            ],
            [
             0.2,
             "#de77ae"
            ],
            [
             0.3,
             "#f1b6da"
            ],
            [
             0.4,
             "#fde0ef"
            ],
            [
             0.5,
             "#f7f7f7"
            ],
            [
             0.6,
             "#e6f5d0"
            ],
            [
             0.7,
             "#b8e186"
            ],
            [
             0.8,
             "#7fbc41"
            ],
            [
             0.9,
             "#4d9221"
            ],
            [
             1,
             "#276419"
            ]
           ],
           "sequential": [
            [
             0,
             "#0d0887"
            ],
            [
             0.1111111111111111,
             "#46039f"
            ],
            [
             0.2222222222222222,
             "#7201a8"
            ],
            [
             0.3333333333333333,
             "#9c179e"
            ],
            [
             0.4444444444444444,
             "#bd3786"
            ],
            [
             0.5555555555555556,
             "#d8576b"
            ],
            [
             0.6666666666666666,
             "#ed7953"
            ],
            [
             0.7777777777777778,
             "#fb9f3a"
            ],
            [
             0.8888888888888888,
             "#fdca26"
            ],
            [
             1,
             "#f0f921"
            ]
           ],
           "sequentialminus": [
            [
             0,
             "#0d0887"
            ],
            [
             0.1111111111111111,
             "#46039f"
            ],
            [
             0.2222222222222222,
             "#7201a8"
            ],
            [
             0.3333333333333333,
             "#9c179e"
            ],
            [
             0.4444444444444444,
             "#bd3786"
            ],
            [
             0.5555555555555556,
             "#d8576b"
            ],
            [
             0.6666666666666666,
             "#ed7953"
            ],
            [
             0.7777777777777778,
             "#fb9f3a"
            ],
            [
             0.8888888888888888,
             "#fdca26"
            ],
            [
             1,
             "#f0f921"
            ]
           ]
          },
          "colorway": [
           "#636efa",
           "#EF553B",
           "#00cc96",
           "#ab63fa",
           "#FFA15A",
           "#19d3f3",
           "#FF6692",
           "#B6E880",
           "#FF97FF",
           "#FECB52"
          ],
          "font": {
           "color": "#2a3f5f"
          },
          "geo": {
           "bgcolor": "white",
           "lakecolor": "white",
           "landcolor": "#E5ECF6",
           "showlakes": true,
           "showland": true,
           "subunitcolor": "white"
          },
          "hoverlabel": {
           "align": "left"
          },
          "hovermode": "closest",
          "mapbox": {
           "style": "light"
          },
          "paper_bgcolor": "white",
          "plot_bgcolor": "#E5ECF6",
          "polar": {
           "angularaxis": {
            "gridcolor": "white",
            "linecolor": "white",
            "ticks": ""
           },
           "bgcolor": "#E5ECF6",
           "radialaxis": {
            "gridcolor": "white",
            "linecolor": "white",
            "ticks": ""
           }
          },
          "scene": {
           "xaxis": {
            "backgroundcolor": "#E5ECF6",
            "gridcolor": "white",
            "gridwidth": 2,
            "linecolor": "white",
            "showbackground": true,
            "ticks": "",
            "zerolinecolor": "white"
           },
           "yaxis": {
            "backgroundcolor": "#E5ECF6",
            "gridcolor": "white",
            "gridwidth": 2,
            "linecolor": "white",
            "showbackground": true,
            "ticks": "",
            "zerolinecolor": "white"
           },
           "zaxis": {
            "backgroundcolor": "#E5ECF6",
            "gridcolor": "white",
            "gridwidth": 2,
            "linecolor": "white",
            "showbackground": true,
            "ticks": "",
            "zerolinecolor": "white"
           }
          },
          "shapedefaults": {
           "line": {
            "color": "#2a3f5f"
           }
          },
          "ternary": {
           "aaxis": {
            "gridcolor": "white",
            "linecolor": "white",
            "ticks": ""
           },
           "baxis": {
            "gridcolor": "white",
            "linecolor": "white",
            "ticks": ""
           },
           "bgcolor": "#E5ECF6",
           "caxis": {
            "gridcolor": "white",
            "linecolor": "white",
            "ticks": ""
           }
          },
          "title": {
           "x": 0.05
          },
          "xaxis": {
           "automargin": true,
           "gridcolor": "white",
           "linecolor": "white",
           "ticks": "",
           "title": {
            "standoff": 15
           },
           "zerolinecolor": "white",
           "zerolinewidth": 2
          },
          "yaxis": {
           "automargin": true,
           "gridcolor": "white",
           "linecolor": "white",
           "ticks": "",
           "title": {
            "standoff": 15
           },
           "zerolinecolor": "white",
           "zerolinewidth": 2
          }
         }
        },
        "title": {
         "text": "UMAP Projection"
        },
        "xaxis": {
         "anchor": "y",
         "domain": [
          0,
          1
         ],
         "title": {
          "text": "UMAP Component 1"
         }
        },
        "yaxis": {
         "anchor": "x",
         "domain": [
          0,
          1
         ],
         "title": {
          "text": "UMAP Component 2"
         }
        }
       }
      }
     },
     "metadata": {},
     "output_type": "display_data"
    }
   ],
   "source": [
    "import pandas as pd\n",
    "import numpy as np\n",
    "from src.StreamPort.ml.MachineLearningEngine import MachineLearningEngine, MachineLearningAnalysis\n",
    "from src.StreamPort.ml.MachineLearningProcessingSettings import MakeModelUMAP\n",
    "\n",
    "path = 'groups_ints.csv'\n",
    "class_path = 'groups_classes.csv'\n",
    "df = pd.read_csv(class_path)\n",
    "\n",
    "df_pos = df[df['polarity'] == 'positive']\n",
    "df_neg = df[df['polarity'] == 'negative']\n",
    "\n",
    "#process and plot neg class\n",
    "print(\"plot neg class\")\n",
    "engine = MachineLearningEngine() \n",
    "engine.add_analyses_from_csv(path)\n",
    "\n",
    "#add neg classes to the engine\n",
    "for index, row in df_neg.iterrows():\n",
    "    row_value = row.tolist()[1:]\n",
    "    class_name = row['class']\n",
    "    ana = MachineLearningAnalysis(name=str(class_name), data={\"x\": np.array(df_neg.columns.tolist()[1:]), \"y\": np.array(row_value)})\n",
    "    if ana.validate():\n",
    "        engine.add_classes(class_name)\n",
    "    else:\n",
    "        print(f\"Analysis {class_name} did not pass validation.\")\n",
    "\n",
    "umap_model_neg = MakeModelUMAP(n_neighbors=15, min_dist=0.1, n_components=2, random_state=42)\n",
    "engine.add_settings(umap_model_neg)\n",
    "engine.run_workflow()\n",
    "engine.plot_umap()  \n",
    "\n",
    "#process and plot the pos classes\n",
    "print(\"plot pos classes\")\n",
    "engine = MachineLearningEngine()  \n",
    "engine.add_analyses_from_csv(path)\n",
    "\n",
    "#add pos classes to the engine\n",
    "for index, row in df_pos.iterrows():\n",
    "    row_value = row.tolist()[1:]\n",
    "    class_name = row['class']\n",
    "    ana = MachineLearningAnalysis(name=str(class_name), data={\"x\": np.array(df_pos.columns.tolist()[1:]), \"y\": np.array(row_value)})\n",
    "    if ana.validate():\n",
    "        engine.add_classes(class_name)\n",
    "    else:\n",
    "        print(f\"Analysis {class_name} did not pass validation.\")\n",
    "\n",
    "umap_model_pos = MakeModelUMAP(n_neighbors=15, min_dist=0.1, n_components=2, random_state=42)\n",
    "engine.add_settings(umap_model_pos)\n",
    "engine.run_workflow()\n",
    "engine.plot_umap()  \n"
   ]
  },
  {
   "cell_type": "markdown",
   "metadata": {},
   "source": [
    "pca plot for the new data"
   ]
  },
  {
   "cell_type": "code",
   "execution_count": null,
   "metadata": {},
   "outputs": [
    {
     "name": "stdout",
     "output_type": "stream",
     "text": [
      "Structure of the CSV file: {'number_of_rows': 497, 'number_of_columns': 4545}\n",
      "Structure of the CSV file: {'number_of_rows': 497, 'number_of_columns': 7}\n",
      "\n",
      "MachineLearningEngine \n",
      "  name: None \n",
      "  author: None \n",
      "  path: None \n",
      "  date: 2024-10-31 03:34:53.675162 \n",
      "  analyses: 497 \n",
      "  settings: 0 \n",
      "\n",
      "\n",
      "MachineLearningEngine \n",
      "  name: None \n",
      "  author: None \n",
      "  path: None \n",
      "  date: 2024-10-31 03:34:53.675162 \n",
      "  analyses: 497 \n",
      "  settings: 1 \n",
      "\n",
      "Running workflow with settings: MakeModel\n"
     ]
    },
    {
     "data": {
      "application/vnd.plotly.v1+json": {
       "config": {
        "plotlyServerURL": "https://plot.ly"
       },
       "data": [
        {
         "hovertemplate": "class=neg_KAMG<br>Principal Component 1=%{x}<br>Principal Component 2=%{y}<extra></extra>",
         "legendgroup": "neg_KAMG",
         "marker": {
          "color": "#636efa",
          "symbol": "circle"
         },
         "mode": "markers",
         "name": "neg_KAMG",
         "orientation": "v",
         "showlegend": true,
         "type": "scatter",
         "x": [
          -806500.1223317041,
          -819082.2115795154,
          -868186.3920054829,
          -805034.6129278857,
          -908060.3913548414,
          -844571.730928101,
          -955975.7193268673,
          -816126.1387961967,
          -821297.4367895237,
          -829246.074218929,
          -824954.8259412237,
          -1056740.5869294715,
          -1080559.6109257026,
          -802147.3509141624,
          -814176.2386405068,
          -818889.6860771634,
          -816432.8606281632,
          -791581.0968183007,
          -802738.6966881163,
          -817242.2239102274,
          -779213.1382811274,
          -790797.7967528647,
          324109.59187513706,
          -798131.2952717517,
          -191202.61047447036,
          442317.9961094677,
          -192235.50611300787,
          -541055.3501826024,
          1242168.7746110186,
          1004581.3517494439,
          3483574.23339046,
          7170885.390562084,
          423495.1949394159,
          -743697.1944906947,
          -772669.4792916928,
          2047959.7810233715,
          3498861.7745306753,
          -780203.04153849,
          -780004.2233331027,
          -189316.93882495468,
          1765958.4157554503,
          739771.0596876553
         ],
         "xaxis": "x",
         "y": [
          -293490.4026503111,
          -296278.7244060201,
          -319827.29477735,
          -290075.2120903754,
          -345291.79705830343,
          -307251.04932764894,
          -371525.3666239539,
          -298596.9048986794,
          -298765.59795675543,
          -300051.24880541756,
          -298900.0217428936,
          -429151.93982701877,
          -441700.5665534774,
          -291261.11670155945,
          -298861.64736506296,
          -300202.77165293414,
          -296756.85072759533,
          -284062.0688821339,
          -281639.62116205494,
          -296152.14275564626,
          -214640.0599789789,
          -265833.77839462546,
          1109880.8931987062,
          -278026.3367413123,
          437475.5254675292,
          1353332.3729022664,
          447865.5755969901,
          27849.007397026817,
          103852.51174234877,
          -288459.7667439284,
          -2952979.0885377056,
          812907.9537645852,
          949171.904204455,
          -141111.09456437308,
          -211770.2366306611,
          -2086504.9704836784,
          -3010402.282979459,
          -291329.16530859075,
          -291952.68177177495,
          2669916.490439241,
          2871912.203881917,
          3818762.857419821
         ],
         "yaxis": "y"
        },
        {
         "hovertemplate": "class=neg_KARH<br>Principal Component 1=%{x}<br>Principal Component 2=%{y}<extra></extra>",
         "legendgroup": "neg_KARH",
         "marker": {
          "color": "#EF553B",
          "symbol": "circle"
         },
         "mode": "markers",
         "name": "neg_KARH",
         "orientation": "v",
         "showlegend": true,
         "type": "scatter",
         "x": [
          -807514.2045065947,
          -806271.0921955663,
          -795481.2607990041,
          -808081.0123460949,
          -900904.6177203351,
          -859984.5883032769,
          -804595.4449360002,
          -874544.8211273906,
          -821064.6904197966,
          -830056.7565955096,
          -804457.8979513313,
          -1094283.1768610002,
          -1074570.296384798,
          -805577.9232203594,
          -814740.9561531194,
          -797944.0456725858,
          -817101.0686678492,
          -791869.4461861397,
          -802542.0346805482,
          -817021.5060318299,
          -271997.3559881912,
          898213.7835411042,
          -41872.855821824276,
          30208.086474593303,
          -796641.1418137285,
          1629484.9767512432,
          -361231.4915907748,
          -312475.55140828085,
          -680121.0683034328,
          -690884.9027758718,
          3254618.9267179933,
          3283106.2493501757,
          3227729.2286839047,
          1695965.5661149009,
          2666802.40538649,
          2610674.5964574846,
          3981292.7585244165,
          -208521.3100776492,
          -239368.7191546072,
          -204975.39368740653,
          -212880.64712382422,
          -229709.9827330014
         ],
         "xaxis": "x",
         "y": [
          -293426.8151447682,
          -293064.3832312735,
          -288303.70148669096,
          -291577.71175365883,
          -342359.98059256916,
          -314274.0755428515,
          -289720.9385728531,
          -318229.65566608513,
          -297722.37073149905,
          -301067.2815574047,
          -288245.57191786077,
          -449195.39526768157,
          -438165.68661422405,
          -292426.8173504748,
          -299185.99590956705,
          -288853.6421096341,
          -297279.30846036284,
          -284387.61048438953,
          -281328.6259172576,
          -295123.5313757657,
          417800.0499771316,
          1779444.7798833356,
          620853.9952381661,
          719081.3208964195,
          -286527.0053877899,
          2761238.620684301,
          233612.3936847205,
          258365.9907500236,
          -370092.10832805274,
          -359607.8446769048,
          -2809243.4508807207,
          -2841426.3438023184,
          -2795112.0691136047,
          2840181.2923070355,
          3966795.7125255163,
          1694285.264250534,
          -1684151.918072975,
          411310.93531558855,
          382847.4974750663,
          2580639.775621109,
          2513857.210953476,
          2381280.7192736324
         ],
         "yaxis": "y"
        },
        {
         "hovertemplate": "class=neg_KAXAL<br>Principal Component 1=%{x}<br>Principal Component 2=%{y}<extra></extra>",
         "legendgroup": "neg_KAXAL",
         "marker": {
          "color": "#00cc96",
          "symbol": "circle"
         },
         "mode": "markers",
         "name": "neg_KAXAL",
         "orientation": "v",
         "showlegend": true,
         "type": "scatter",
         "x": [
          -801324.5788484524,
          -848573.4968979905,
          -795140.0716251029,
          -805361.2416795457,
          -907941.7741538137,
          -845473.3554872464,
          -800188.5975387618,
          -813918.8683321131,
          -820920.1589619706,
          -829456.1686339118,
          -823282.543138833,
          -1158577.4178254758,
          -1061257.828767529,
          -795490.8860167766,
          -814817.152628641,
          -798185.4268352841,
          -798106.7637953311,
          -791886.8490738635,
          -792351.4507663687,
          -791729.2595904632,
          -103840.44595051522,
          -126667.14602703549,
          1458880.8054236444,
          -798068.213104988,
          1082231.4104945865,
          -64282.35980795063,
          -212963.1757470627,
          -98346.87504958706,
          1567114.7368717229,
          -692521.465648226,
          4168613.2559588086,
          4532595.503747786,
          224240.14253831637,
          1643740.4923563919,
          2696120.5271734064,
          2638804.299154154,
          493644.10310961603,
          -196106.07849254025,
          -274283.27799291216,
          3407037.4424887737,
          1674555.198689426,
          1253864.0980528726
         ],
         "xaxis": "x",
         "y": [
          -290985.66920153,
          -308007.3482979388,
          -288124.9970490131,
          -289897.6352377533,
          -345483.0745687058,
          -306664.53968073305,
          -288322.16303100006,
          -297500.0742652411,
          -297794.77695122774,
          -299835.3715587737,
          -298183.2397306419,
          -492632.1455166592,
          -438115.8355337474,
          -288285.5396298497,
          -299222.42079061066,
          -289087.65106243844,
          -289211.27507414744,
          -284407.2580528788,
          -284931.7855748992,
          -284229.34216803015,
          585199.714206132,
          512275.3416658544,
          2431531.8181447196,
          -277357.3946192131,
          1965807.477828516,
          738618.5989884847,
          439932.4432766524,
          519770.16582694964,
          -200839.2298390278,
          -365728.06518062454,
          -853838.832274597,
          -2089296.1248174761,
          869286.6372524532,
          2770227.4922192516,
          3960826.9370219354,
          1723104.3112152389,
          465976.84375320724,
          424924.50346819084,
          339125.5376229916,
          4067313.8277267125,
          2193619.1937219007,
          4406315.170275423
         ],
         "yaxis": "y"
        },
        {
         "hovertemplate": "class=neg_KARB<br>Principal Component 1=%{x}<br>Principal Component 2=%{y}<extra></extra>",
         "legendgroup": "neg_KARB",
         "marker": {
          "color": "#ab63fa",
          "symbol": "circle"
         },
         "mode": "markers",
         "name": "neg_KARB",
         "orientation": "v",
         "showlegend": true,
         "type": "scatter",
         "x": [
          -803371.1786961032,
          -831251.7534650144,
          -795303.3800684036,
          -797437.1977195285,
          -893896.3248849286,
          -795317.0673332027,
          -821669.0599702729,
          -916834.4505108244,
          -791325.8192420293,
          -795310.7743497094,
          -791220.476460051,
          -1164834.2694667834,
          -1076313.5375257032,
          -815314.0932678736,
          -824718.7940004347,
          -797874.4637038038,
          -823558.6351196845,
          -826437.8540413984,
          -809101.0406255185,
          -814940.0432634258,
          1664977.9482649541,
          -793572.0276826525,
          -795933.2477116592,
          1324359.231324633,
          -796709.9762774417,
          -783275.7024843337,
          1731177.2271580508,
          -777351.08207623,
          -688799.3034507136,
          -714998.3105664763,
          4398192.74129314,
          4808874.111615609,
          191494.84746356064,
          -770635.8845792703,
          1658437.6292432337,
          -615324.9347881814,
          3116820.020338634,
          -778472.9860540382,
          -780184.6380581484,
          3347797.9184783553,
          1679811.5029137006,
          1260213.9893797622
         ],
         "xaxis": "x",
         "y": [
          -291522.0592481369,
          -300523.80516281474,
          -288264.0905714977,
          -289439.5883565202,
          -351753.3030448695,
          -288269.7380339225,
          -296687.17080041394,
          -332226.4123451033,
          -283699.80282587087,
          -288267.921669909,
          -283596.3024949211,
          -488894.4448751895,
          -437278.85631630104,
          -295611.28455701633,
          -304568.74006161373,
          -288895.0959130734,
          -299657.56776835007,
          -296760.0352495376,
          -288107.0211670147,
          -294300.7254333104,
          2643041.520188282,
          -280354.93575228524,
          -284896.61201733066,
          2252962.6558880177,
          -286468.61324626254,
          -258220.22364969042,
          2758794.1177453236,
          -297498.9414891308,
          -362019.77783962974,
          -350500.09731815755,
          -907458.2815654442,
          -2143622.987297173,
          830929.4382153385,
          -195163.00235529707,
          -1900756.0213795744,
          -415684.99397987255,
          -2762159.4749297947,
          -292362.5333139597,
          -292106.9871090239,
          4058312.9892724166,
          1982543.0806061456,
          4576213.239728862
         ],
         "yaxis": "y"
        },
        {
         "hovertemplate": "class=neg_KAKL<br>Principal Component 1=%{x}<br>Principal Component 2=%{y}<extra></extra>",
         "legendgroup": "neg_KAKL",
         "marker": {
          "color": "#FFA15A",
          "symbol": "circle"
         },
         "mode": "markers",
         "name": "neg_KAKL",
         "orientation": "v",
         "showlegend": true,
         "type": "scatter",
         "x": [
          -799803.1828043169,
          -806570.3478790054,
          -795303.7800417017,
          -795302.9269249954,
          -940771.5733268831,
          -795370.5951902448,
          -801564.668137739,
          -813897.1800397875,
          -849057.5919862592,
          -815570.9660528937,
          -818579.4423353362,
          -1160129.60287901,
          -1067921.8803637906,
          -815610.9191580844,
          -824314.9474934381,
          -797808.1524443055,
          -819446.0783629394,
          -826398.4873633428,
          -811964.4987866174,
          -815962.8890613533,
          71455.76222277115,
          474103.05653117114,
          -791230.7613725933,
          -796774.7821705422,
          10647.286681738566,
          -752623.4679374321,
          -16796.728401292414,
          -745562.1639729718,
          3202329.6224140194,
          -671578.0760794344,
          4504242.689083649,
          4666509.940898082,
          160542.76564852035,
          530811.6723413368,
          2843962.7605595263,
          784497.1072336519,
          5296274.270429385,
          69662.53387100504,
          -13146.264265401904,
          -190318.6180869298,
          -240646.60083349553,
          -276163.66840945045
         ],
         "xaxis": "x",
         "y": [
          -290672.50487668347,
          -295145.5619560087,
          -288264.1665501666,
          -288263.7100684543,
          -366252.11412054824,
          -288297.9055342194,
          -291366.81462209695,
          -297509.43790985394,
          -306990.4272200888,
          -296331.7188201685,
          -293878.5050232182,
          -486881.45848013426,
          -432947.4121805091,
          -295453.18468248646,
          -306369.05186507886,
          -289202.7823850531,
          -296389.06877232465,
          -296501.3845186041,
          -291383.59350845736,
          -295155.1433188991,
          745493.4586567337,
          1261632.9833338922,
          -290442.27198340255,
          -274370.3618178184,
          663936.4742622656,
          -381851.6776146159,
          641938.6480132025,
          -391600.0593338281,
          -1341484.503179986,
          -361026.3713244594,
          -963801.43497461,
          -2122325.2617924633,
          804492.3305236051,
          1373158.955431061,
          -2618866.0669387504,
          -1244652.277116077,
          -1831643.7367436269,
          725613.8188536573,
          638511.3981369544,
          2562736.571609748,
          2368297.584705504,
          2040687.0919018632
         ],
         "yaxis": "y"
        },
        {
         "hovertemplate": "class=neg_RW<br>Principal Component 1=%{x}<br>Principal Component 2=%{y}<extra></extra>",
         "legendgroup": "neg_RW",
         "marker": {
          "color": "#19d3f3",
          "symbol": "circle"
         },
         "mode": "markers",
         "name": "neg_RW",
         "orientation": "v",
         "showlegend": true,
         "type": "scatter",
         "x": [
          -832314.5548413481,
          -814081.6246807912,
          -795886.4100328633,
          -798525.2384789842,
          -961542.9579353614,
          -812695.3175875263,
          -915844.7227243081,
          -795302.6868024247,
          -853469.7408360663,
          -814094.3139043708,
          -817864.128705287,
          -1130074.7417133825,
          -1019216.9237553288,
          -795521.231716874,
          -813006.4864253798,
          -802555.9164935172,
          -798039.7513722337,
          -791956.2523971425,
          -791663.2514361136,
          -791937.9530718845,
          -108794.0482027298,
          744139.8551021458,
          -788720.0908836228,
          -783335.0902343609,
          -796734.7734240294,
          -782011.0672805028,
          -795360.8760391707,
          -747984.4214163267,
          -680573.2242152916,
          2789007.914447351,
          3364687.1103508943,
          3261298.4109289567,
          3059358.3456481607,
          583869.7849059583,
          2191007.782877942,
          2139944.940995327,
          5179409.908738374,
          1825305.005897624,
          14898.278793271027,
          3365868.446961806,
          1203560.0174423505
         ],
         "xaxis": "x",
         "y": [
          -303421.3504845929,
          -296329.75808794895,
          -288591.21295982384,
          -289764.0292065154,
          -386012.8298435664,
          -296919.4787666912,
          -329817.7089194106,
          -288263.5819951068,
          -310493.11468476284,
          -295063.4094166692,
          -294088.31580792763,
          -476527.11564382276,
          -414617.4203250635,
          -288137.24555392377,
          -298192.00295576744,
          -292577.2560134118,
          -289197.13671165105,
          -284485.6132413485,
          -284154.8200683633,
          -284464.9536099111,
          515498.9504441683,
          1533502.03945954,
          -286083.5233990164,
          -286314.6322618216,
          -286621.71792395803,
          -302253.2295346519,
          -289605.5534242996,
          -366571.00860607385,
          -368187.165963488,
          -1489929.392406433,
          -2885515.722674021,
          -2827111.482649259,
          -2688889.1701214453,
          1421719.2317561633,
          -2194383.983113641,
          -2193545.646287735,
          -1992875.555372511,
          2867099.646023957,
          671201.5642674902,
          4018691.122356597,
          2119346.0828365134
         ],
         "yaxis": "y"
        },
        {
         "hovertemplate": "class=pos_KAMG<br>Principal Component 1=%{x}<br>Principal Component 2=%{y}<extra></extra>",
         "legendgroup": "pos_KAMG",
         "marker": {
          "color": "#FF6692",
          "symbol": "circle"
         },
         "mode": "markers",
         "name": "pos_KAMG",
         "orientation": "v",
         "showlegend": true,
         "type": "scatter",
         "x": [
          -847612.2027935726,
          -824595.0941524613,
          -794051.859566715,
          -967681.5115769132,
          -965775.8489043573,
          -833328.8829214791,
          -795374.6539138812,
          -795303.6135300362,
          -846631.8829769585,
          -813213.9984749315,
          -818244.9622652002,
          -1127414.4752009886,
          -1027847.7987350895,
          -831527.414584234,
          -832317.3918788914,
          -823667.7699193414,
          -816306.7801631638,
          -828497.6965040651,
          -818804.8409857106,
          75912.22993751358,
          -795865.7039326779,
          1266413.8298691667,
          -798272.8532814664,
          -796090.8696594327,
          -795469.526940424,
          -748827.8501854653,
          -797793.7576468388,
          -774846.3207713012,
          -95424.60927687268,
          -678139.4172257867,
          4449484.251954673,
          59945.89280232074,
          -720550.9539650106,
          -739900.8021860326,
          1913896.4358842403,
          2291164.02784257,
          3233160.978655395,
          -779823.8510056544,
          -779507.9349093931,
          3356041.0317457244,
          1244144.1381304783
         ],
         "xaxis": "x",
         "y": [
          -312573.3577869408,
          -299933.7624020707,
          -285648.85750952107,
          -383860.24955788587,
          -385718.3849827966,
          -304538.0914664927,
          -287974.82545653917,
          -288260.8399042114,
          -308536.0371780953,
          -294211.44658237515,
          -294336.00822916307,
          -470130.2763540639,
          -412797.1201689574,
          -301684.11627008795,
          -303745.8047857511,
          -299696.882193074,
          -294769.7468182891,
          -299344.449928728,
          -294265.0165631744,
          745544.0215851947,
          -286974.4956983288,
          2170346.1871282393,
          -277846.82525813783,
          -290790.40785782435,
          -279281.54703011457,
          -315361.01325468713,
          -287481.9709458629,
          -334887.0688034408,
          230960.10857997258,
          -360219.4595154178,
          -1325036.0101111627,
          673809.2162644839,
          -149674.03871429848,
          -136254.24466302816,
          -2014346.1836123648,
          -2297897.9406845504,
          -2835340.730292371,
          -292292.9981800294,
          -291700.8658291851,
          3765240.563502706,
          2165555.8538103313
         ],
         "yaxis": "y"
        },
        {
         "hovertemplate": "class=pos_KARH<br>Principal Component 1=%{x}<br>Principal Component 2=%{y}<extra></extra>",
         "legendgroup": "pos_KARH",
         "marker": {
          "color": "#B6E880",
          "symbol": "circle"
         },
         "mode": "markers",
         "name": "pos_KARH",
         "orientation": "v",
         "showlegend": true,
         "type": "scatter",
         "x": [
          -889952.2164883964,
          -814324.7283498691,
          -804181.508893031,
          -1119223.481365823,
          -952362.2351066282,
          -820671.4582411174,
          -895992.0209316792,
          -795350.6047359029,
          -791055.0671725306,
          -791819.5066781945,
          -790758.7411767557,
          -1111972.3546095474,
          -1029430.0957848547,
          -831395.650635802,
          -831333.67802954,
          -826341.1276187949,
          -822180.0865432745,
          -827042.1293138704,
          -824833.1964026012,
          -192559.63064921333,
          308438.34377451125,
          -790948.8933096165,
          -189882.4793656234,
          -792537.0146921157,
          -796168.7173542273,
          -774546.533749537,
          -796316.9952060032,
          -640172.6743640695,
          -687950.9128169452,
          3056692.9653829588,
          4507877.415802583,
          137096.44299897048,
          -753414.5883972555,
          649022.0758461237,
          3351755.4998551947,
          2856156.3237714525,
          -760972.0840838186,
          -202313.8420762257,
          -773165.0588200032,
          -196272.91464630738,
          -215163.22002999578
         ],
         "xaxis": "x",
         "y": [
          -328657.5358752474,
          -296064.2504423198,
          -290629.9170485106,
          -469636.66090973234,
          -374749.0758310137,
          -299585.60630758264,
          -319650.76464561955,
          -288285.2101834639,
          -283399.6883886804,
          -284432.4892910761,
          -282233.9373759542,
          -461954.00043819885,
          -413369.5724927128,
          -301802.8515515114,
          -302539.76381816505,
          -299583.7504017448,
          -298500.6083897014,
          -297853.41198198457,
          -297566.43544181425,
          465952.7208037582,
          1082140.4762624335,
          -314910.9400633109,
          445608.43705318903,
          -292660.94941997353,
          -262170.50448606693,
          -325594.933630328,
          -285530.4431110294,
          -445323.918411276,
          -363693.69005414075,
          1940629.3790499175,
          -1501557.3088078282,
          783166.9184062206,
          -189745.1878718373,
          1548924.024556119,
          -1048877.468336624,
          -2649284.120285665,
          -330268.6766860617,
          417209.2535566132,
          -328120.9257031923,
          2623277.9282108806,
          2488294.934705987
         ],
         "yaxis": "y"
        },
        {
         "hovertemplate": "class=pos_KAXAL<br>Principal Component 1=%{x}<br>Principal Component 2=%{y}<extra></extra>",
         "legendgroup": "pos_KAXAL",
         "marker": {
          "color": "#FF97FF",
          "symbol": "circle"
         },
         "mode": "markers",
         "name": "pos_KAXAL",
         "orientation": "v",
         "showlegend": true,
         "type": "scatter",
         "x": [
          -856022.0630825211,
          -845542.9283088996,
          -803603.2350999562,
          -1218678.3871934663,
          -795303.4838421681,
          -843719.4583871929,
          -809488.8623165131,
          -806071.9938831335,
          -809784.695173628,
          -816586.7844392103,
          -794266.417581034,
          -1097810.6618840331,
          -1007491.5270086403,
          -795728.9755632792,
          -816057.9106019159,
          -799975.959376896,
          -797989.2335915989,
          -791882.3033591225,
          -792268.304672902,
          -107665.84349986914,
          -792774.3449617174,
          1945972.3642308603,
          -797749.4043198472,
          670915.7310736561,
          -796922.7773134529,
          -704029.7694578134,
          -794767.5223047625,
          -180184.17001164836,
          2205826.841420346,
          2565022.779996504,
          4622997.300220293,
          60661.31871003532,
          -731102.8636324549,
          641948.2601714488,
          3611747.7542903977,
          3399227.551774606,
          -777577.0366730551,
          -203430.11311179696,
          -789914.0008672453,
          1049547.2158393986,
          1984844.676806339
         ],
         "xaxis": "x",
         "y": [
          -314036.2776537133,
          -310620.3873484907,
          -290114.12640521425,
          -523577.0502125657,
          -288261.1544128036,
          -308384.045303516,
          -295279.53898875875,
          -293119.6004872911,
          -294010.98775130854,
          -295915.01458787307,
          -284901.9794028603,
          -458418.5531012163,
          -407964.5582240204,
          -288234.6242111093,
          -299926.83424086025,
          -289366.6723209495,
          -289145.034846129,
          -284402.12601714267,
          -284832.07810179936,
          537715.3280831279,
          -290254.12904310564,
          2835016.652827236,
          -277540.3602662786,
          1450998.566451831,
          -259884.20812072573,
          -381807.9758738787,
          -287882.4682822659,
          -128758.24410362307,
          3200582.382733551,
          -2424993.7550102174,
          -1498450.588482531,
          688383.7155100062,
          -223634.68502887126,
          1506994.1057696221,
          -1239488.6410182684,
          -2946666.6615453595,
          -300508.53144194855,
          416414.978539665,
          -98609.00921429705,
          -187005.557487444,
          2436484.165053074
         ],
         "yaxis": "y"
        },
        {
         "hovertemplate": "class=pos_KARB<br>Principal Component 1=%{x}<br>Principal Component 2=%{y}<extra></extra>",
         "legendgroup": "pos_KARB",
         "marker": {
          "color": "#FECB52",
          "symbol": "circle"
         },
         "mode": "markers",
         "name": "pos_KARB",
         "orientation": "v",
         "showlegend": true,
         "type": "scatter",
         "x": [
          -815744.9567114039,
          -859362.1848125111,
          -805893.4956251315,
          -1291948.4222016651,
          -802689.1905902023,
          -830666.0251650873,
          -824711.9616288128,
          -806897.8902082485,
          -810523.2329581039,
          -816964.4664753367,
          -931583.8994173862,
          -1105933.6709098283,
          -1018058.4272282051,
          -957574.6274377528,
          -843846.9257898234,
          -849091.3237763487,
          -814279.5528005689,
          -810427.2504166996,
          -808612.2624196206,
          -191410.38898965478,
          140877.1901550784,
          -795079.6162159921,
          -189823.3460375157,
          -799198.4838286277,
          -774348.8301768528,
          -788238.0680448827,
          -794245.7531195024,
          -661920.4691797858,
          -686335.589155587,
          2515580.1815614463,
          3199363.582606819,
          3191426.852864519,
          -737676.8615919653,
          -743888.0360712695,
          2360241.016443636,
          3572910.683987985,
          -751180.7017184775,
          -778060.8883995507,
          -232309.0235779787,
          1009879.1310027057,
          2020781.8980468344
         ],
         "xaxis": "x",
         "y": [
          -296110.59221583314,
          -315738.29653350066,
          -291129.7715846535,
          -563403.2738222798,
          -291761.29892416706,
          -303446.2977555746,
          -296464.5377051464,
          -293206.74571833195,
          -294523.3234509616,
          -297056.2424650701,
          -364548.0120169317,
          -460608.9167500165,
          -407616.91800919303,
          -372676.41490138567,
          -310416.2302661936,
          -310626.92214950547,
          -294993.52512923256,
          -293070.33522836096,
          -291220.07924733916,
          431616.75303690013,
          892223.4932719448,
          -285692.8279938212,
          447648.2376222199,
          -282295.40338518156,
          -253066.29079619085,
          -278301.8783694374,
          -287761.64460390405,
          -364328.5967071505,
          -361948.6188392049,
          -2327495.33950917,
          -2788049.669796549,
          -2777955.8057477036,
          -220272.69025439132,
          -153539.61102382673,
          -2284634.8764129546,
          -3063015.4680544487,
          -319771.486248531,
          -292686.6438382849,
          2440101.333866877,
          -167330.41414611303,
          2512302.4033778254
         ],
         "yaxis": "y"
        },
        {
         "hovertemplate": "class=pos_KAKL<br>Principal Component 1=%{x}<br>Principal Component 2=%{y}<extra></extra>",
         "legendgroup": "pos_KAKL",
         "marker": {
          "color": "#636efa",
          "symbol": "circle"
         },
         "mode": "markers",
         "name": "pos_KAKL",
         "orientation": "v",
         "showlegend": true,
         "type": "scatter",
         "x": [
          -797587.9325168107,
          -857424.4189165885,
          -804321.425171442,
          -1272030.8773601798,
          -817708.9745706107,
          -856062.0262660848,
          -811770.3630812232,
          -810495.025440544,
          -810076.854904618,
          -816000.0143019024,
          -987779.6193220516,
          -1092958.254937807,
          -1012773.9276683363,
          -814445.6723555618,
          -843334.4242925213,
          -850056.3044912796,
          -818298.1932757267,
          -812534.4623123665,
          -813047.9110863549,
          -154977.62655638234,
          -795518.0615842981,
          421295.66120220895,
          -797428.4090765542,
          540290.3450337359,
          761029.4739299669,
          -794827.194548559,
          -787546.6446429603,
          2493473.583708799,
          -53386.13208944367,
          2845858.9758622297,
          7153698.628493707,
          362143.20192286343,
          3122763.440146942,
          564460.1028805596,
          4949.832084567398,
          4677593.658281287,
          -789033.7770900831,
          204121.6424842063,
          -141444.35535943985,
          -182738.4828626526,
          -207608.29365895706
         ],
         "xaxis": "x",
         "y": [
          -288110.75454770157,
          -316613.29204698856,
          -289842.4942613522,
          -555094.0102787348,
          -295870.3588305868,
          -313641.7005190871,
          -296446.7035372927,
          -294196.1289356917,
          -294243.27042474406,
          -296995.9159123038,
          -396321.3210632483,
          -452352.6109459225,
          -406341.24618465715,
          -294804.08083551563,
          -310146.244467077,
          -309823.1385565993,
          -295899.70759254147,
          -295118.09400264366,
          -293784.8891649627,
          475048.47840500454,
          -287896.13812308817,
          1218893.5396705065,
          -277862.90985308733,
          1339501.3296315535,
          1706207.4872771243,
          -286014.047201216,
          -282195.7643799399,
          3184359.45489456,
          341570.50508644915,
          -2547213.593259304,
          907474.1324173099,
          874429.3760498009,
          4355492.138013634,
          1408083.4889696424,
          391631.5835010547,
          -2556984.6047227466,
          -294557.668994809,
          914300.2796745072,
          2791464.733934704,
          2671437.6628229185,
          2495109.140642209
         ],
         "yaxis": "y"
        },
        {
         "hovertemplate": "class=pos_RW<br>Principal Component 1=%{x}<br>Principal Component 2=%{y}<extra></extra>",
         "legendgroup": "pos_RW",
         "marker": {
          "color": "#EF553B",
          "symbol": "circle"
         },
         "mode": "markers",
         "name": "pos_RW",
         "orientation": "v",
         "showlegend": true,
         "type": "scatter",
         "x": [
          -839946.4310470604,
          -846761.8598007112,
          -806991.8903656292,
          -1120733.1893345043,
          -835812.0375107846,
          -961775.045705381,
          -839844.950339478,
          -791035.0515655327,
          -791998.199385748,
          -791045.8686991717,
          -991379.5784735526,
          -1071495.3633488878,
          -981948.2430525298,
          -810151.2013838512,
          -818621.6515535997,
          -798024.7364930266,
          -798100.4291731549,
          -791797.2053204287,
          -791937.1095735744,
          1660078.1028893287,
          500770.37941253034,
          91378.87548449879,
          276400.5345582901,
          -799225.7289663834,
          427699.35286956304,
          -237193.04911566823,
          -790599.7430648884,
          -684501.3257581068,
          -688231.1947762655,
          3467735.2558842185,
          7058644.6282978505,
          389448.63393656904,
          3079955.3482539086,
          540737.1535287214,
          2824963.6260639634,
          4686575.134699866,
          -770129.4108756399,
          202427.55614841322,
          737024.2127055528,
          1746140.5499441063,
          720332.601514286
         ],
         "xaxis": "x",
         "y": [
          -304527.10697503254,
          -311468.01913525665,
          -291715.9454800841,
          -460327.0865025942,
          -303561.3824493043,
          -371451.3645372237,
          -304027.2233105314,
          -283375.4992217587,
          -284470.9749739043,
          -283404.7130091698,
          -398060.4333141552,
          -443737.64616952115,
          -393983.5524939624,
          -294097.71702155616,
          -302190.1224780097,
          -289179.75339763967,
          -289342.2902521096,
          -284306.0517580843,
          -284464.0013144601,
          2634724.760420733,
          1235573.4518921205,
          794235.4566759294,
          1040149.1648214713,
          -282352.92146040127,
          1318888.3683224244,
          384437.6976229932,
          -288359.31206074625,
          -362119.2230138489,
          -361190.9870084183,
          -2941142.2111411192,
          562323.7803591633,
          903645.2767848971,
          4440608.016625195,
          1368361.8944556082,
          -1408680.8625922846,
          -2575928.482529271,
          -300828.93671347044,
          912038.1495911764,
          2064623.581423733,
          2917765.4763834155,
          3797673.224253063
         ],
         "yaxis": "y"
        }
       ],
       "layout": {
        "legend": {
         "title": {
          "text": "class"
         },
         "tracegroupgap": 0
        },
        "template": {
         "data": {
          "bar": [
           {
            "error_x": {
             "color": "#2a3f5f"
            },
            "error_y": {
             "color": "#2a3f5f"
            },
            "marker": {
             "line": {
              "color": "#E5ECF6",
              "width": 0.5
             },
             "pattern": {
              "fillmode": "overlay",
              "size": 10,
              "solidity": 0.2
             }
            },
            "type": "bar"
           }
          ],
          "barpolar": [
           {
            "marker": {
             "line": {
              "color": "#E5ECF6",
              "width": 0.5
             },
             "pattern": {
              "fillmode": "overlay",
              "size": 10,
              "solidity": 0.2
             }
            },
            "type": "barpolar"
           }
          ],
          "carpet": [
           {
            "aaxis": {
             "endlinecolor": "#2a3f5f",
             "gridcolor": "white",
             "linecolor": "white",
             "minorgridcolor": "white",
             "startlinecolor": "#2a3f5f"
            },
            "baxis": {
             "endlinecolor": "#2a3f5f",
             "gridcolor": "white",
             "linecolor": "white",
             "minorgridcolor": "white",
             "startlinecolor": "#2a3f5f"
            },
            "type": "carpet"
           }
          ],
          "choropleth": [
           {
            "colorbar": {
             "outlinewidth": 0,
             "ticks": ""
            },
            "type": "choropleth"
           }
          ],
          "contour": [
           {
            "colorbar": {
             "outlinewidth": 0,
             "ticks": ""
            },
            "colorscale": [
             [
              0,
              "#0d0887"
             ],
             [
              0.1111111111111111,
              "#46039f"
             ],
             [
              0.2222222222222222,
              "#7201a8"
             ],
             [
              0.3333333333333333,
              "#9c179e"
             ],
             [
              0.4444444444444444,
              "#bd3786"
             ],
             [
              0.5555555555555556,
              "#d8576b"
             ],
             [
              0.6666666666666666,
              "#ed7953"
             ],
             [
              0.7777777777777778,
              "#fb9f3a"
             ],
             [
              0.8888888888888888,
              "#fdca26"
             ],
             [
              1,
              "#f0f921"
             ]
            ],
            "type": "contour"
           }
          ],
          "contourcarpet": [
           {
            "colorbar": {
             "outlinewidth": 0,
             "ticks": ""
            },
            "type": "contourcarpet"
           }
          ],
          "heatmap": [
           {
            "colorbar": {
             "outlinewidth": 0,
             "ticks": ""
            },
            "colorscale": [
             [
              0,
              "#0d0887"
             ],
             [
              0.1111111111111111,
              "#46039f"
             ],
             [
              0.2222222222222222,
              "#7201a8"
             ],
             [
              0.3333333333333333,
              "#9c179e"
             ],
             [
              0.4444444444444444,
              "#bd3786"
             ],
             [
              0.5555555555555556,
              "#d8576b"
             ],
             [
              0.6666666666666666,
              "#ed7953"
             ],
             [
              0.7777777777777778,
              "#fb9f3a"
             ],
             [
              0.8888888888888888,
              "#fdca26"
             ],
             [
              1,
              "#f0f921"
             ]
            ],
            "type": "heatmap"
           }
          ],
          "heatmapgl": [
           {
            "colorbar": {
             "outlinewidth": 0,
             "ticks": ""
            },
            "colorscale": [
             [
              0,
              "#0d0887"
             ],
             [
              0.1111111111111111,
              "#46039f"
             ],
             [
              0.2222222222222222,
              "#7201a8"
             ],
             [
              0.3333333333333333,
              "#9c179e"
             ],
             [
              0.4444444444444444,
              "#bd3786"
             ],
             [
              0.5555555555555556,
              "#d8576b"
             ],
             [
              0.6666666666666666,
              "#ed7953"
             ],
             [
              0.7777777777777778,
              "#fb9f3a"
             ],
             [
              0.8888888888888888,
              "#fdca26"
             ],
             [
              1,
              "#f0f921"
             ]
            ],
            "type": "heatmapgl"
           }
          ],
          "histogram": [
           {
            "marker": {
             "pattern": {
              "fillmode": "overlay",
              "size": 10,
              "solidity": 0.2
             }
            },
            "type": "histogram"
           }
          ],
          "histogram2d": [
           {
            "colorbar": {
             "outlinewidth": 0,
             "ticks": ""
            },
            "colorscale": [
             [
              0,
              "#0d0887"
             ],
             [
              0.1111111111111111,
              "#46039f"
             ],
             [
              0.2222222222222222,
              "#7201a8"
             ],
             [
              0.3333333333333333,
              "#9c179e"
             ],
             [
              0.4444444444444444,
              "#bd3786"
             ],
             [
              0.5555555555555556,
              "#d8576b"
             ],
             [
              0.6666666666666666,
              "#ed7953"
             ],
             [
              0.7777777777777778,
              "#fb9f3a"
             ],
             [
              0.8888888888888888,
              "#fdca26"
             ],
             [
              1,
              "#f0f921"
             ]
            ],
            "type": "histogram2d"
           }
          ],
          "histogram2dcontour": [
           {
            "colorbar": {
             "outlinewidth": 0,
             "ticks": ""
            },
            "colorscale": [
             [
              0,
              "#0d0887"
             ],
             [
              0.1111111111111111,
              "#46039f"
             ],
             [
              0.2222222222222222,
              "#7201a8"
             ],
             [
              0.3333333333333333,
              "#9c179e"
             ],
             [
              0.4444444444444444,
              "#bd3786"
             ],
             [
              0.5555555555555556,
              "#d8576b"
             ],
             [
              0.6666666666666666,
              "#ed7953"
             ],
             [
              0.7777777777777778,
              "#fb9f3a"
             ],
             [
              0.8888888888888888,
              "#fdca26"
             ],
             [
              1,
              "#f0f921"
             ]
            ],
            "type": "histogram2dcontour"
           }
          ],
          "mesh3d": [
           {
            "colorbar": {
             "outlinewidth": 0,
             "ticks": ""
            },
            "type": "mesh3d"
           }
          ],
          "parcoords": [
           {
            "line": {
             "colorbar": {
              "outlinewidth": 0,
              "ticks": ""
             }
            },
            "type": "parcoords"
           }
          ],
          "pie": [
           {
            "automargin": true,
            "type": "pie"
           }
          ],
          "scatter": [
           {
            "fillpattern": {
             "fillmode": "overlay",
             "size": 10,
             "solidity": 0.2
            },
            "type": "scatter"
           }
          ],
          "scatter3d": [
           {
            "line": {
             "colorbar": {
              "outlinewidth": 0,
              "ticks": ""
             }
            },
            "marker": {
             "colorbar": {
              "outlinewidth": 0,
              "ticks": ""
             }
            },
            "type": "scatter3d"
           }
          ],
          "scattercarpet": [
           {
            "marker": {
             "colorbar": {
              "outlinewidth": 0,
              "ticks": ""
             }
            },
            "type": "scattercarpet"
           }
          ],
          "scattergeo": [
           {
            "marker": {
             "colorbar": {
              "outlinewidth": 0,
              "ticks": ""
             }
            },
            "type": "scattergeo"
           }
          ],
          "scattergl": [
           {
            "marker": {
             "colorbar": {
              "outlinewidth": 0,
              "ticks": ""
             }
            },
            "type": "scattergl"
           }
          ],
          "scattermapbox": [
           {
            "marker": {
             "colorbar": {
              "outlinewidth": 0,
              "ticks": ""
             }
            },
            "type": "scattermapbox"
           }
          ],
          "scatterpolar": [
           {
            "marker": {
             "colorbar": {
              "outlinewidth": 0,
              "ticks": ""
             }
            },
            "type": "scatterpolar"
           }
          ],
          "scatterpolargl": [
           {
            "marker": {
             "colorbar": {
              "outlinewidth": 0,
              "ticks": ""
             }
            },
            "type": "scatterpolargl"
           }
          ],
          "scatterternary": [
           {
            "marker": {
             "colorbar": {
              "outlinewidth": 0,
              "ticks": ""
             }
            },
            "type": "scatterternary"
           }
          ],
          "surface": [
           {
            "colorbar": {
             "outlinewidth": 0,
             "ticks": ""
            },
            "colorscale": [
             [
              0,
              "#0d0887"
             ],
             [
              0.1111111111111111,
              "#46039f"
             ],
             [
              0.2222222222222222,
              "#7201a8"
             ],
             [
              0.3333333333333333,
              "#9c179e"
             ],
             [
              0.4444444444444444,
              "#bd3786"
             ],
             [
              0.5555555555555556,
              "#d8576b"
             ],
             [
              0.6666666666666666,
              "#ed7953"
             ],
             [
              0.7777777777777778,
              "#fb9f3a"
             ],
             [
              0.8888888888888888,
              "#fdca26"
             ],
             [
              1,
              "#f0f921"
             ]
            ],
            "type": "surface"
           }
          ],
          "table": [
           {
            "cells": {
             "fill": {
              "color": "#EBF0F8"
             },
             "line": {
              "color": "white"
             }
            },
            "header": {
             "fill": {
              "color": "#C8D4E3"
             },
             "line": {
              "color": "white"
             }
            },
            "type": "table"
           }
          ]
         },
         "layout": {
          "annotationdefaults": {
           "arrowcolor": "#2a3f5f",
           "arrowhead": 0,
           "arrowwidth": 1
          },
          "autotypenumbers": "strict",
          "coloraxis": {
           "colorbar": {
            "outlinewidth": 0,
            "ticks": ""
           }
          },
          "colorscale": {
           "diverging": [
            [
             0,
             "#8e0152"
            ],
            [
             0.1,
             "#c51b7d"
            ],
            [
             0.2,
             "#de77ae"
            ],
            [
             0.3,
             "#f1b6da"
            ],
            [
             0.4,
             "#fde0ef"
            ],
            [
             0.5,
             "#f7f7f7"
            ],
            [
             0.6,
             "#e6f5d0"
            ],
            [
             0.7,
             "#b8e186"
            ],
            [
             0.8,
             "#7fbc41"
            ],
            [
             0.9,
             "#4d9221"
            ],
            [
             1,
             "#276419"
            ]
           ],
           "sequential": [
            [
             0,
             "#0d0887"
            ],
            [
             0.1111111111111111,
             "#46039f"
            ],
            [
             0.2222222222222222,
             "#7201a8"
            ],
            [
             0.3333333333333333,
             "#9c179e"
            ],
            [
             0.4444444444444444,
             "#bd3786"
            ],
            [
             0.5555555555555556,
             "#d8576b"
            ],
            [
             0.6666666666666666,
             "#ed7953"
            ],
            [
             0.7777777777777778,
             "#fb9f3a"
            ],
            [
             0.8888888888888888,
             "#fdca26"
            ],
            [
             1,
             "#f0f921"
            ]
           ],
           "sequentialminus": [
            [
             0,
             "#0d0887"
            ],
            [
             0.1111111111111111,
             "#46039f"
            ],
            [
             0.2222222222222222,
             "#7201a8"
            ],
            [
             0.3333333333333333,
             "#9c179e"
            ],
            [
             0.4444444444444444,
             "#bd3786"
            ],
            [
             0.5555555555555556,
             "#d8576b"
            ],
            [
             0.6666666666666666,
             "#ed7953"
            ],
            [
             0.7777777777777778,
             "#fb9f3a"
            ],
            [
             0.8888888888888888,
             "#fdca26"
            ],
            [
             1,
             "#f0f921"
            ]
           ]
          },
          "colorway": [
           "#636efa",
           "#EF553B",
           "#00cc96",
           "#ab63fa",
           "#FFA15A",
           "#19d3f3",
           "#FF6692",
           "#B6E880",
           "#FF97FF",
           "#FECB52"
          ],
          "font": {
           "color": "#2a3f5f"
          },
          "geo": {
           "bgcolor": "white",
           "lakecolor": "white",
           "landcolor": "#E5ECF6",
           "showlakes": true,
           "showland": true,
           "subunitcolor": "white"
          },
          "hoverlabel": {
           "align": "left"
          },
          "hovermode": "closest",
          "mapbox": {
           "style": "light"
          },
          "paper_bgcolor": "white",
          "plot_bgcolor": "#E5ECF6",
          "polar": {
           "angularaxis": {
            "gridcolor": "white",
            "linecolor": "white",
            "ticks": ""
           },
           "bgcolor": "#E5ECF6",
           "radialaxis": {
            "gridcolor": "white",
            "linecolor": "white",
            "ticks": ""
           }
          },
          "scene": {
           "xaxis": {
            "backgroundcolor": "#E5ECF6",
            "gridcolor": "white",
            "gridwidth": 2,
            "linecolor": "white",
            "showbackground": true,
            "ticks": "",
            "zerolinecolor": "white"
           },
           "yaxis": {
            "backgroundcolor": "#E5ECF6",
            "gridcolor": "white",
            "gridwidth": 2,
            "linecolor": "white",
            "showbackground": true,
            "ticks": "",
            "zerolinecolor": "white"
           },
           "zaxis": {
            "backgroundcolor": "#E5ECF6",
            "gridcolor": "white",
            "gridwidth": 2,
            "linecolor": "white",
            "showbackground": true,
            "ticks": "",
            "zerolinecolor": "white"
           }
          },
          "shapedefaults": {
           "line": {
            "color": "#2a3f5f"
           }
          },
          "ternary": {
           "aaxis": {
            "gridcolor": "white",
            "linecolor": "white",
            "ticks": ""
           },
           "baxis": {
            "gridcolor": "white",
            "linecolor": "white",
            "ticks": ""
           },
           "bgcolor": "#E5ECF6",
           "caxis": {
            "gridcolor": "white",
            "linecolor": "white",
            "ticks": ""
           }
          },
          "title": {
           "x": 0.05
          },
          "xaxis": {
           "automargin": true,
           "gridcolor": "white",
           "linecolor": "white",
           "ticks": "",
           "title": {
            "standoff": 15
           },
           "zerolinecolor": "white",
           "zerolinewidth": 2
          },
          "yaxis": {
           "automargin": true,
           "gridcolor": "white",
           "linecolor": "white",
           "ticks": "",
           "title": {
            "standoff": 15
           },
           "zerolinecolor": "white",
           "zerolinewidth": 2
          }
         }
        },
        "title": {
         "text": "PCA Scores"
        },
        "xaxis": {
         "anchor": "y",
         "domain": [
          0,
          1
         ],
         "title": {
          "text": "Principal Component 1"
         }
        },
        "yaxis": {
         "anchor": "x",
         "domain": [
          0,
          1
         ],
         "title": {
          "text": "Principal Component 2"
         }
        }
       }
      }
     },
     "metadata": {},
     "output_type": "display_data"
    },
    {
     "data": {
      "text/plain": [
       "True"
      ]
     },
     "execution_count": 2,
     "metadata": {},
     "output_type": "execute_result"
    }
   ],
   "source": [
    "from src.StreamPort.ml.MachineLearningEngine import MachineLearningEngine\n",
    "from src.StreamPort.ml.MachineLearningProcessingSettings import  MakeModelPCASKL\n",
    "import webbrowser\n",
    "\n",
    "#Creates an empty MachineLearningEngine object and prints it\n",
    "path = 'groups_ints.csv'\n",
    "engine = MachineLearningEngine()\n",
    "engine.add_analyses_from_csv(path)\n",
    "\n",
    "class_path = 'groups_classes.csv'\n",
    "engine.add_classes_from_csv(class_path)\n",
    "engine.print()\n",
    "engine.plot_data()\n",
    "# webbrowser.open('general_data_plot.html')\n",
    "\n",
    "pca_model = MakeModelPCASKL(n_components = 2, center_data= True)\n",
    "engine.add_settings(pca_model)\n",
    "engine.print()\n",
    "engine.run_workflow()\n",
    "engine.plot_pca()\n",
    "# webbrowser.open('pca_scores_plot.html')\n",
    "# webbrowser.open('pca_loadings_plot.html')"
   ]
  },
  {
   "cell_type": "code",
   "execution_count": null,
   "metadata": {},
   "outputs": [],
   "source": [
    "from src.StreamPort.ml.MachineLearningEngine import MachineLearningEngine, MachineLearningAnalysis\n",
    "from src.StreamPort.ml.MachineLearningProcessingSettings import  MakeModelPCASKL\n",
    "import pandas as pd\n",
    "import numpy as np\n",
    "\n",
    "#Creates an empty MachineLearningEngine object and prints it\n",
    "path = 'groups_ints.csv'\n",
    "class_path = 'groups_classes.csv'\n",
    "df = pd.read_csv(class_path)\n",
    "\n",
    "#neg plot\n",
    "print(\"plot neg class\")\n",
    "engine = MachineLearningEngine() \n",
    "engine.add_analyses_from_csv(path)\n",
    "\n",
    "df_pos = df[df['polarity'] == 'positive']\n",
    "df_neg = df[df['polarity'] == 'negative']\n",
    "\n",
    "#add neg classes to the engine\n",
    "for index, row in df_neg.iterrows():\n",
    "    row_value = row.tolist()[1:]\n",
    "    class_name = row['class']\n",
    "    ana = MachineLearningAnalysis(name=str(class_name), data={\"x\": np.array(df_neg.columns.tolist()[1:]), \"y\": np.array(row_value)})\n",
    "    if ana.validate():\n",
    "        engine.add_classes(class_name)\n",
    "    else:\n",
    "        print(f\"Analysis {class_name} did not pass validation.\")\n",
    "\n",
    "pca_model_neg = MakeModelPCASKL(n_components = 2, center_data= True)\n",
    "engine.add_settings(pca_model_neg)\n",
    "engine.run_workflow()\n",
    "engine.plot_pca()\n",
    "\n",
    "#process and plot the pos classes\n",
    "print(\"plot pos classes\")\n",
    "engine = MachineLearningEngine()  \n",
    "engine.add_analyses_from_csv(path)\n",
    "\n",
    "#add pos classes to the engine\n",
    "for index, row in df_pos.iterrows():\n",
    "    row_value = row.tolist()[1:]\n",
    "    class_name = row['class']\n",
    "    ana = MachineLearningAnalysis(name=str(class_name), data={\"x\": np.array(df_pos.columns.tolist()[1:]), \"y\": np.array(row_value)})\n",
    "    if ana.validate():\n",
    "        engine.add_classes(class_name)\n",
    "    else:\n",
    "        print(f\"Analysis {class_name} did not pass validation.\")\n",
    "\n",
    "pca_model_pos = MakeModelPCASKL(n_components = 2, center_data= True)\n",
    "engine.add_settings(pca_model_pos)\n",
    "engine.run_workflow()\n",
    "engine.plot_pca()  \n"
   ]
  },
  {
   "cell_type": "markdown",
   "metadata": {},
   "source": [
    "dbscan for the new dataset"
   ]
  },
  {
   "cell_type": "code",
   "execution_count": null,
   "metadata": {},
   "outputs": [],
   "source": [
    "from src.StreamPort.ml.MachineLearningEngine import MachineLearningEngine\n",
    "from src.StreamPort.ml.MachineLearningProcessingSettings import MakeModelDBSCANSKL\n",
    "\n",
    "import numpy as np\n",
    "import pandas as pd\n",
    "from sklearn.cluster import DBSCAN\n",
    "import plotly.express as px\n",
    "\n",
    "path = 'groups_ints.csv'\n",
    "engine = MachineLearningEngine()\n",
    "engine.add_analyses_from_csv(path)\n",
    "\n",
    "class_path = 'groups_classes.csv'\n",
    "engine.add_classes_from_csv(class_path)\n",
    "\n",
    "# Set DBSCAN parameters\n",
    "eps = 1.5  # Radius around a point to consider others as neighbors\n",
    "min_samples = 5  # Minimum neighbors a point must have to not be considered noise\n",
    "\n",
    "df = pd.read_csv(path)\n",
    "data = df.drop(columns=['name']) \n",
    "\n",
    "dbscan = DBSCAN(eps=eps, min_samples=min_samples)\n",
    "labels = dbscan.fit_predict(data) \n",
    "\n",
    "# Calculate and print estimated number of clusters and noise points\n",
    "n_clusters = len(set(labels)) - (1 if -1 in labels else 0)  # Number of clusters\n",
    "n_noise = list(labels).count(-1)  # Number of noise points\n",
    "print(f\"Estimated number of clusters: {n_clusters}\")\n",
    "print(f\"Number of noise points: {n_noise}\")\n",
    "\n",
    "# Add cluster labels to the data\n",
    "data['Cluster'] = labels\n",
    "data['Cluster'] = data['Cluster'].astype(str)  # Convert cluster labels to strings for categorical display\n",
    "\n",
    "random_columns = np.random.choice(data.columns, 2, replace=False)\n",
    "\n",
    "fig = px.scatter(\n",
    "    data, \n",
    "    x=random_columns[0], \n",
    "    y=random_columns[1], \n",
    "    color='Cluster',\n",
    "    title=\"DBSCAN Clustering Results\",\n",
    "    color_continuous_scale=px.colors.diverging.Tealrose,\n",
    "    labels={'color': 'Cluster ID'}\n",
    ")\n",
    "fig.show()  \n"
   ]
  },
  {
   "cell_type": "markdown",
   "metadata": {},
   "source": [
    "hdbscan plot for the new data\n"
   ]
  },
  {
   "cell_type": "code",
   "execution_count": null,
   "metadata": {},
   "outputs": [],
   "source": [
    "from src.StreamPort.ml.MachineLearningEngine import MachineLearningEngine\n",
    "import pandas as pd\n",
    "import numpy as np\n",
    "from sklearn.cluster import HDBSCAN\n",
    "from sklearn.preprocessing import LabelEncoder\n",
    "import plotly.express as px\n",
    "\n",
    "path = 'groups_ints.csv'\n",
    "engine = MachineLearningEngine()\n",
    "engine.add_analyses_from_csv(path)\n",
    "engine.print()\n",
    "\n",
    "df = pd.read_csv(path)\n",
    "data = df.drop(columns=['name'])\n",
    "\n",
    "label_encoders = {}\n",
    "for column in data.columns:\n",
    "    if data[column].dtype == 'object': \n",
    "        le = LabelEncoder()\n",
    "        data[column] = le.fit_transform(data[column])\n",
    "        label_encoders[column] = le\n",
    "\n",
    "random_columns = np.random.choice(data.columns, 2, replace=False)\n",
    "\n",
    "clusterer = HDBSCAN(min_cluster_size=3)\n",
    "cluster_labels = clusterer.fit_predict(data)\n",
    "data['cluster'] = cluster_labels  \n",
    "\n",
    "fig = px.scatter(\n",
    "    data,\n",
    "    x=random_columns[0],\n",
    "    y=random_columns[1],\n",
    "    color='cluster',\n",
    "    title='HDBSCAN Clustering mit Plotly'\n",
    ")\n",
    "fig.show()\n"
   ]
  },
  {
   "cell_type": "markdown",
   "metadata": {},
   "source": [
    "k-means cluster"
   ]
  },
  {
   "cell_type": "code",
   "execution_count": null,
   "metadata": {},
   "outputs": [],
   "source": [
    "import pandas as pd\n",
    "import plotly.express as px\n",
    "from sklearn.cluster import KMeans\n",
    "from sklearn.decomposition import PCA\n",
    "from sklearn.preprocessing import LabelEncoder\n",
    "\n",
    "df = pd.read_csv('groups_ints.csv')\n",
    "data = df.drop(columns=['name'])\n",
    "\n",
    "label_encoders = {}\n",
    "for column in data.columns:\n",
    "    if data[column].dtype == 'object': \n",
    "        le = LabelEncoder()\n",
    "        data[column] = le.fit_transform(data[column])\n",
    "        label_encoders[column] = le  \n",
    "\n",
    "pca = PCA(n_components=2)\n",
    "data_pca = pca.fit_transform(data)\n",
    "\n",
    "kmeans = KMeans(n_clusters=5, random_state=42) \n",
    "cluster_labels = kmeans.fit_predict(data)\n",
    "\n",
    "pca_df = pd.DataFrame(data_pca, columns=['PCA1', 'PCA2'])\n",
    "pca_df['Cluster'] = cluster_labels.astype(str)  \n",
    "\n",
    "fig = px.scatter(pca_df, x='PCA1', y='PCA2', color='Cluster', title='KMeans Clustering Results',\n",
    "                 labels={'PCA1': 'Principal Component 1', 'PCA2': 'Principal Component 2'})\n",
    "\n",
    "fig.show()"
   ]
  },
  {
   "cell_type": "code",
   "execution_count": null,
   "metadata": {},
   "outputs": [],
   "source": [
    "from src.StreamPort.ml.MachineLearningEngine import MachineLearningEngine\n",
    "\n",
    "import pandas as pd\n",
    "import numpy as np\n",
    "from sklearn.cluster import KMeans\n",
    "import plotly.express as px\n",
    "\n",
    "path = 'groups_ints.csv'\n",
    "engine = MachineLearningEngine()\n",
    "engine.add_analyses_from_csv(path)\n",
    "\n",
    "df = pd.read_csv(path)\n",
    "data = df.drop(columns=['name'])  \n",
    "\n",
    "# Define number of clusters for KMeans\n",
    "n_clusters = 4  # Specify the number of clusters you expect\n",
    "\n",
    "kmeans = KMeans(n_clusters=n_clusters, random_state=0)\n",
    "labels = kmeans.fit_predict(data)\n",
    "\n",
    "data['Cluster'] = labels.astype(str)  # Convert to string for color coding in plot\n",
    "\n",
    "random_columns = np.random.choice(data.columns[:-1], 2, replace=False)\n",
    "\n",
    "fig = px.scatter(\n",
    "    data, \n",
    "    x=random_columns[0], \n",
    "    y=random_columns[1], \n",
    "    color='Cluster',\n",
    "    title=\"KMeans Clustering Results\",\n",
    "    color_discrete_sequence=px.colors.qualitative.Pastel,\n",
    "    labels={'color': 'Cluster ID'}\n",
    ")\n",
    "\n",
    "fig.show()"
   ]
  },
  {
   "cell_type": "markdown",
   "metadata": {},
   "source": [
    "filter the dataset in month"
   ]
  },
  {
   "cell_type": "code",
   "execution_count": 1,
   "metadata": {},
   "outputs": [
    {
     "name": "stdout",
     "output_type": "stream",
     "text": [
      "Structure of the CSV file: {'number_of_rows': 497, 'number_of_columns': 4545}\n",
      "Running workflow with settings: MakeModel\n"
     ]
    },
    {
     "data": {
      "application/vnd.plotly.v1+json": {
       "config": {
        "plotlyServerURL": "https://plot.ly"
       },
       "data": [
        {
         "hovertemplate": "class=june_KAKL<br>UMAP Component 1=%{x}<br>UMAP Component 2=%{y}<extra></extra>",
         "legendgroup": "june_KAKL",
         "marker": {
          "color": "#636efa",
          "symbol": "circle"
         },
         "mode": "markers",
         "name": "june_KAKL",
         "orientation": "v",
         "showlegend": true,
         "type": "scatter",
         "x": [
          16.534931182861328,
          15.849613189697266,
          16.615211486816406,
          15.775511741638184,
          14.253061294555664,
          20.82292366027832,
          9.738595962524414,
          -6.024648666381836,
          13.272907257080078,
          13.454724311828613,
          14.346086502075195,
          14.284480094909668,
          13.921395301818848,
          20.678518295288086,
          14.080398559570312,
          21.232118606567383,
          15.810643196105957,
          15.28936767578125,
          15.88364028930664,
          16.143993377685547,
          14.420771598815918,
          15.964303970336914,
          -5.60636568069458,
          -5.218882083892822,
          -5.573952674865723,
          -5.8793439865112305,
          16.599712371826172,
          15.496204376220703,
          12.970890998840332,
          13.471212387084961,
          12.913350105285645,
          16.993576049804688,
          17.007171630859375,
          16.911026000976562,
          20.82100486755371,
          15.577323913574219,
          16.459348678588867,
          16.155258178710938,
          16.301206588745117,
          13.339611053466797,
          21.389476776123047,
          21.678964614868164,
          21.206661224365234,
          14.614846229553223,
          13.283401489257812,
          21.963903427124023,
          22.033145904541016,
          22.068431854248047,
          13.257731437683105,
          21.10851287841797,
          13.201410293579102,
          21.5625057220459,
          13.546562194824219,
          20.609514236450195,
          20.757732391357422,
          21.497936248779297,
          12.788104057312012,
          13.021440505981445,
          20.70148468017578,
          20.86768913269043,
          10.434447288513184,
          9.827969551086426,
          9.618099212646484,
          13.27177906036377,
          13.103578567504883,
          22.1962833404541,
          22.18842124938965,
          22.158370971679688,
          22.014272689819336,
          11.05753231048584,
          10.903938293457031,
          11.158711433410645,
          10.573986053466797,
          10.751070022583008,
          22.339187622070312,
          22.26138687133789,
          22.367441177368164,
          22.27816390991211,
          -10.32013988494873,
          -9.496857643127441,
          -9.632330894470215,
          14.72468376159668,
          -9.906230926513672
         ],
         "xaxis": "x",
         "y": [
          19.03059959411621,
          18.461769104003906,
          17.88747215270996,
          18.232561111450195,
          16.730741500854492,
          30.803157806396484,
          20.075437545776367,
          -1.1581389904022217,
          18.863903045654297,
          19.04153823852539,
          16.873085021972656,
          14.71909236907959,
          14.32623291015625,
          30.402271270751953,
          14.497347831726074,
          30.523414611816406,
          18.019468307495117,
          15.24044418334961,
          17.5798282623291,
          17.970849990844727,
          16.65534019470215,
          17.505067825317383,
          -1.2618083953857422,
          -0.9192218780517578,
          -1.1104830503463745,
          -1.1480967998504639,
          19.049184799194336,
          15.348651885986328,
          18.47402000427246,
          18.441696166992188,
          18.43539047241211,
          17.936344146728516,
          17.953020095825195,
          17.929336547851562,
          30.233110427856445,
          15.256256103515625,
          14.63990306854248,
          14.944079399108887,
          14.7941312789917,
          5.765178680419922,
          29.5234432220459,
          30.09341049194336,
          29.657926559448242,
          4.554080009460449,
          5.332999229431152,
          23.72718620300293,
          23.79770278930664,
          29.210641860961914,
          5.899338245391846,
          29.151874542236328,
          4.6457600593566895,
          28.693471908569336,
          5.829862594604492,
          30.623231887817383,
          30.840557098388672,
          28.913372039794922,
          5.980823040008545,
          6.35862922668457,
          8.634636878967285,
          8.786152839660645,
          -7.981957912445068,
          -7.563314437866211,
          -7.364509105682373,
          5.651424407958984,
          5.430181503295898,
          24.322282791137695,
          24.263395309448242,
          24.24928855895996,
          24.109346389770508,
          -7.445624351501465,
          -7.343810558319092,
          -7.2436017990112305,
          -7.243734359741211,
          -7.302308559417725,
          27.127323150634766,
          27.061405181884766,
          27.16850471496582,
          27.062585830688477,
          9.992959976196289,
          9.565864562988281,
          9.688041687011719,
          4.548526287078857,
          9.977093696594238
         ],
         "yaxis": "y"
        },
        {
         "hovertemplate": "class=june_KARH<br>UMAP Component 1=%{x}<br>UMAP Component 2=%{y}<extra></extra>",
         "legendgroup": "june_KARH",
         "marker": {
          "color": "#EF553B",
          "symbol": "circle"
         },
         "mode": "markers",
         "name": "june_KARH",
         "orientation": "v",
         "showlegend": true,
         "type": "scatter",
         "x": [
          16.37872314453125,
          14.323333740234375,
          16.46333122253418,
          16.178518295288086,
          20.83111572265625,
          9.761249542236328,
          9.72916316986084,
          -5.112295150756836,
          13.201117515563965,
          13.390859603881836,
          14.39590835571289,
          14.096503257751465,
          20.474388122558594,
          16.003318786621094,
          14.31942081451416,
          20.922067642211914,
          15.811848640441895,
          20.72201919555664,
          15.953940391540527,
          20.882474899291992,
          16.50087547302246,
          21.108482360839844,
          -5.462331295013428,
          -5.280633926391602,
          -5.592105388641357,
          -5.892420291900635,
          16.41535758972168,
          15.489158630371094,
          12.985929489135742,
          13.507810592651367,
          17.686092376708984,
          16.971338272094727,
          17.02069854736328,
          16.991641998291016,
          20.887649536132812,
          15.626981735229492,
          16.32793617248535,
          15.64560317993164,
          16.351985931396484,
          12.988825798034668,
          12.973747253417969,
          13.09045124053955,
          14.423012733459473,
          21.50486946105957,
          13.50993824005127,
          13.378315925598145,
          13.553387641906738,
          22.01706886291504,
          22.089685440063477,
          21.114595413208008,
          13.308707237243652,
          21.604978561401367,
          13.199973106384277,
          20.623943328857422,
          13.0972318649292,
          20.589218139648438,
          20.81477165222168,
          20.871553421020508,
          20.785947799682617,
          14.691476821899414,
          10.48307991027832,
          9.85294246673584,
          10.534729957580566,
          13.213078498840332,
          10.518957138061523,
          22.198427200317383,
          14.395992279052734,
          14.009489059448242,
          14.978248596191406,
          10.793506622314453,
          14.946426391601562,
          10.933372497558594,
          10.21901798248291,
          22.138710021972656,
          13.349869728088379,
          13.234724998474121,
          13.294710159301758,
          21.695114135742188,
          -10.262310981750488,
          -10.310714721679688,
          -10.244698524475098,
          -10.180377960205078,
          -10.144184112548828
         ],
         "xaxis": "x",
         "y": [
          18.746793746948242,
          16.63164520263672,
          18.880937576293945,
          18.59012794494629,
          30.543893814086914,
          20.097658157348633,
          20.065885543823242,
          -0.8168787360191345,
          18.857362747192383,
          19.109355926513672,
          16.69341278076172,
          14.517274856567383,
          30.18471908569336,
          17.50008201599121,
          16.380109786987305,
          29.975271224975586,
          17.919055938720703,
          29.62323760986328,
          17.51688575744629,
          30.008419036865234,
          18.58196449279785,
          29.699047088623047,
          -1.2236305475234985,
          -0.9652526378631592,
          -1.1545497179031372,
          -1.1245001554489136,
          18.757917404174805,
          15.319580078125,
          18.498586654663086,
          18.48427391052246,
          25.335796356201172,
          17.936201095581055,
          17.920053482055664,
          17.95567512512207,
          30.916383743286133,
          15.243258476257324,
          14.775104522705078,
          15.280842781066895,
          14.747947692871094,
          5.806992053985596,
          5.898738861083984,
          5.905872344970703,
          4.7038493156433105,
          28.801725387573242,
          6.2287702560424805,
          6.080140590667725,
          6.14971923828125,
          29.17856788635254,
          29.29463005065918,
          29.153491973876953,
          4.6053290367126465,
          28.71172332763672,
          6.146703720092773,
          30.654178619384766,
          6.056502819061279,
          8.528969764709473,
          8.737412452697754,
          8.768290519714355,
          8.739293098449707,
          4.439521312713623,
          -8.127849578857422,
          -7.568431854248047,
          -8.085433959960938,
          5.569346904754639,
          -8.090136528015137,
          24.289278030395508,
          4.7446746826171875,
          5.000870704650879,
          4.5299530029296875,
          -7.385251998901367,
          4.569283485412598,
          -7.175833702087402,
          -7.125961780548096,
          27.41866683959961,
          6.104900360107422,
          6.336846351623535,
          6.1663432121276855,
          28.660961151123047,
          9.961870193481445,
          9.998810768127441,
          9.899574279785156,
          9.91419506072998,
          9.929744720458984
         ],
         "yaxis": "y"
        },
        {
         "hovertemplate": "class=june_KARB<br>UMAP Component 1=%{x}<br>UMAP Component 2=%{y}<extra></extra>",
         "legendgroup": "june_KARB",
         "marker": {
          "color": "#00cc96",
          "symbol": "circle"
         },
         "mode": "markers",
         "name": "june_KARB",
         "orientation": "v",
         "showlegend": true,
         "type": "scatter",
         "x": [
          16.646543502807617,
          14.414690971374512,
          16.023666381835938,
          14.259886741638184,
          21.35296630859375,
          9.755906105041504,
          9.725183486938477,
          -5.1568284034729,
          13.223600387573242,
          20.876131057739258,
          14.33609390258789,
          14.262130737304688,
          20.397418975830078,
          14.064615249633789,
          14.04338264465332,
          16.44881248474121,
          15.783184051513672,
          16.438188552856445,
          15.963793754577637,
          15.78614330291748,
          14.487183570861816,
          20.86131477355957,
          -5.311849594116211,
          -5.343250751495361,
          -5.462532997131348,
          -5.988216400146484,
          21.28942108154297,
          21.169780731201172,
          13.017969131469727,
          12.931109428405762,
          17.62862205505371,
          17.611600875854492,
          17.58450698852539,
          17.55583381652832,
          20.888826370239258,
          20.958003997802734,
          20.762561798095703,
          21.212480545043945,
          20.612018585205078,
          13.19428539276123,
          12.874797821044922,
          21.201011657714844,
          13.326345443725586,
          14.905634880065918,
          14.730864524841309,
          22.056119918823242,
          22.02196502685547,
          13.836251258850098,
          14.571493148803711,
          21.060832977294922,
          13.237082481384277,
          21.75376319885254,
          13.08012866973877,
          20.73086929321289,
          12.948355674743652,
          12.902108192443848,
          12.838438034057617,
          14.770607948303223,
          20.685157775878906,
          11.041950225830078,
          9.895832061767578,
          9.871575355529785,
          9.935833930969238,
          13.227582931518555,
          14.240236282348633,
          22.16253089904785,
          14.30470085144043,
          14.059358596801758,
          15.056119918823242,
          10.429328918457031,
          14.828932762145996,
          10.577428817749023,
          13.539719581604004,
          22.210803985595703,
          13.558242797851562,
          13.397924423217773,
          13.171282768249512,
          20.800230026245117,
          -9.494149208068848,
          12.791801452636719,
          -9.686628341674805,
          -9.651126861572266,
          -9.85809326171875
         ],
         "xaxis": "x",
         "y": [
          19.112627029418945,
          16.631452560424805,
          17.65055274963379,
          16.68852424621582,
          30.76893424987793,
          20.09237289428711,
          20.062192916870117,
          -0.868924617767334,
          18.880779266357422,
          30.548234939575195,
          16.87856674194336,
          14.706600189208984,
          30.16907501220703,
          14.480522155761719,
          14.45975112915039,
          18.697145462036133,
          17.97541046142578,
          18.443988800048828,
          17.469593048095703,
          17.935882568359375,
          16.772083282470703,
          30.662221908569336,
          -0.9932305216789246,
          -1.0240222215652466,
          -0.9454209804534912,
          -1.0974400043487549,
          30.626989364624023,
          30.500423431396484,
          18.497770309448242,
          18.40004539489746,
          25.411781311035156,
          25.411415100097656,
          25.424171447753906,
          25.458173751831055,
          30.822301864624023,
          30.805377960205078,
          30.562747955322266,
          30.61054801940918,
          30.90580177307129,
          6.121830463409424,
          6.000599384307861,
          31.02736473083496,
          6.302347183227539,
          4.460888862609863,
          4.393828392028809,
          23.826723098754883,
          23.780031204223633,
          5.419179916381836,
          4.559887886047363,
          29.157398223876953,
          4.639976978302002,
          28.313766479492188,
          5.784708499908447,
          30.560562133789062,
          5.920844078063965,
          6.499429225921631,
          6.276403903961182,
          4.452371597290039,
          8.607817649841309,
          -7.254044055938721,
          -7.520165920257568,
          -7.545673370361328,
          -7.564447402954102,
          5.552274227142334,
          5.971521854400635,
          24.266708374023438,
          4.821252346038818,
          4.968715190887451,
          4.621899604797363,
          -7.289222240447998,
          4.491779327392578,
          -7.205827236175537,
          6.244202613830566,
          27.19605255126953,
          6.050201892852783,
          6.240965366363525,
          6.1306376457214355,
          30.978715896606445,
          9.564300537109375,
          6.202910423278809,
          9.7570219039917,
          9.702409744262695,
          9.954776763916016
         ],
         "yaxis": "y"
        },
        {
         "hovertemplate": "class=june_KAXAL<br>UMAP Component 1=%{x}<br>UMAP Component 2=%{y}<extra></extra>",
         "legendgroup": "june_KAXAL",
         "marker": {
          "color": "#ab63fa",
          "symbol": "circle"
         },
         "mode": "markers",
         "name": "june_KAXAL",
         "orientation": "v",
         "showlegend": true,
         "type": "scatter",
         "x": [
          16.54327392578125,
          16.193082809448242,
          16.047697067260742,
          14.343907356262207,
          20.631460189819336,
          9.696183204650879,
          20.926267623901367,
          -5.093214511871338,
          13.426786422729492,
          16.659442901611328,
          20.85845184326172,
          14.206499099731445,
          16.371292114257812,
          16.126447677612305,
          15.209235191345215,
          16.3673038482666,
          20.753740310668945,
          16.462865829467773,
          20.90826416015625,
          15.780753135681152,
          20.9183349609375,
          -6.035958766937256,
          -5.200067520141602,
          -5.259957790374756,
          -5.517134666442871,
          -5.907934188842773,
          15.85935115814209,
          13.403634071350098,
          13.209192276000977,
          13.699472427368164,
          17.669729232788086,
          15.42733383178711,
          16.049964904785156,
          16.1368465423584,
          15.53422737121582,
          16.36434555053711,
          16.4803409576416,
          16.406696319580078,
          16.3881778717041,
          13.371626853942871,
          15.005301475524902,
          13.103687286376953,
          20.610185623168945,
          21.87626075744629,
          21.92730712890625,
          13.499754905700684,
          14.585282325744629,
          21.995012283325195,
          22.11622428894043,
          21.345325469970703,
          21.33196449279785,
          21.291183471679688,
          14.886269569396973,
          20.6040096282959,
          20.64634895324707,
          20.80288314819336,
          20.785593032836914,
          20.827808380126953,
          20.713441848754883,
          10.709254264831543,
          9.850125312805176,
          10.501907348632812,
          9.991778373718262,
          10.474897384643555,
          14.2037992477417,
          22.186006546020508,
          22.127628326416016,
          22.17119598388672,
          11.099018096923828,
          10.94378662109375,
          20.695341110229492,
          10.491461753845215,
          10.717272758483887,
          22.248449325561523,
          22.282337188720703,
          22.21088218688965,
          22.232929229736328,
          -10.252901077270508,
          -9.503937721252441,
          12.78235149383545,
          -9.700526237487793,
          -9.576051712036133,
          -9.924850463867188
         ],
         "xaxis": "x",
         "y": [
          18.962406158447266,
          18.05278778076172,
          17.90009307861328,
          16.78775405883789,
          30.587255477905273,
          20.032730102539062,
          30.57842445373535,
          -0.8088293075561523,
          19.02887725830078,
          19.123611450195312,
          30.57514762878418,
          14.621859550476074,
          18.119396209716797,
          17.753019332885742,
          15.182665824890137,
          18.501792907714844,
          29.650455474853516,
          18.45742416381836,
          30.34932518005371,
          17.913105010986328,
          29.940900802612305,
          -1.1707514524459839,
          -0.9293681979179382,
          -0.989095151424408,
          -1.2991447448730469,
          -1.1819292306900024,
          18.27139663696289,
          19.14544677734375,
          18.480213165283203,
          18.422801971435547,
          25.34555435180664,
          15.310153007507324,
          18.339872360229492,
          18.37457847595215,
          15.297798156738281,
          14.706620216369629,
          14.617670059204102,
          14.689912796020508,
          14.710725784301758,
          5.975351810455322,
          4.668452262878418,
          5.650088310241699,
          30.869190216064453,
          29.756454467773438,
          29.661869049072266,
          6.06695032119751,
          4.588972568511963,
          23.72882080078125,
          29.28868865966797,
          29.44753074645996,
          29.598676681518555,
          29.634212493896484,
          4.525808334350586,
          30.79425621032715,
          30.8553524017334,
          8.7279691696167,
          8.727359771728516,
          8.754766464233398,
          8.589494705200195,
          -7.851477146148682,
          -7.461360931396484,
          -7.988152503967285,
          -7.4426727294921875,
          -8.021402359008789,
          5.986571788787842,
          24.237850189208984,
          24.17520523071289,
          24.235498428344727,
          -7.429661273956299,
          -7.445736408233643,
          30.79931640625,
          -7.245954513549805,
          -7.314611434936523,
          27.20986557006836,
          27.08356285095215,
          27.005996704101562,
          27.142738342285156,
          10.02430248260498,
          9.572754859924316,
          6.2641096115112305,
          9.742203712463379,
          9.624565124511719,
          10.01988697052002
         ],
         "yaxis": "y"
        },
        {
         "hovertemplate": "class=june_RW<br>UMAP Component 1=%{x}<br>UMAP Component 2=%{y}<extra></extra>",
         "legendgroup": "june_RW",
         "marker": {
          "color": "#FFA15A",
          "symbol": "circle"
         },
         "mode": "markers",
         "name": "june_RW",
         "orientation": "v",
         "showlegend": true,
         "type": "scatter",
         "x": [
          16.737539291381836,
          20.58370018005371,
          16.570261001586914,
          14.27818775177002,
          20.805133819580078,
          9.73416519165039,
          20.96363639831543,
          -5.13257360458374,
          13.493626594543457,
          16.60285758972168,
          21.181079864501953,
          14.92696475982666,
          20.45180320739746,
          13.982101440429688,
          13.971885681152344,
          16.25347900390625,
          15.269386291503906,
          16.37468719482422,
          16.15868377685547,
          15.759452819824219,
          16.025999069213867,
          -5.907605171203613,
          -5.155245304107666,
          -5.395418167114258,
          -5.589362621307373,
          -5.952437877655029,
          15.745370864868164,
          13.07211971282959,
          13.349288940429688,
          13.737323760986328,
          17.59231948852539,
          15.458305358886719,
          16.068355560302734,
          16.902719497680664,
          15.641335487365723,
          16.35637664794922,
          16.426006317138672,
          16.42094612121582,
          16.41020393371582,
          13.03725814819336,
          13.638116836547852,
          21.234708786010742,
          13.269289016723633,
          13.587861061096191,
          20.968534469604492,
          22.03898048400879,
          22.049753189086914,
          13.258533477783203,
          13.530141830444336,
          13.238137245178223,
          21.71429443359375,
          20.986665725708008,
          13.569039344787598,
          20.888431549072266,
          21.17805290222168,
          14.742547035217285,
          10.577807426452637,
          20.680587768554688,
          20.93559455871582,
          10.709433555603027,
          9.86244010925293,
          9.645663261413574,
          9.910882949829102,
          13.211647033691406,
          14.140810012817383,
          15.02735710144043,
          13.993412017822266,
          13.965081214904785,
          10.977336883544922,
          13.432948112487793,
          12.65677547454834,
          10.290536880493164,
          10.175588607788086,
          22.272775650024414,
          14.141528129577637,
          13.627297401428223,
          13.66071891784668,
          -10.330294609069824,
          -10.350793838500977,
          -10.314831733703613,
          -10.264620780944824,
          -10.179784774780273,
          -10.106165885925293
         ],
         "xaxis": "x",
         "y": [
          19.236249923706055,
          30.446998596191406,
          19.023311614990234,
          16.73959732055664,
          30.65906524658203,
          20.070695877075195,
          30.6453914642334,
          -0.8393060564994812,
          19.02781867980957,
          18.8111572265625,
          30.63182258605957,
          15.02176284790039,
          30.39509391784668,
          14.397465705871582,
          14.386246681213379,
          18.251338958740234,
          15.214801788330078,
          18.281103134155273,
          18.040468215942383,
          17.949851989746094,
          17.51179313659668,
          -1.0264068841934204,
          -0.8529277443885803,
          -1.0697507858276367,
          -1.2707493305206299,
          -1.132469654083252,
          18.234769821166992,
          18.559101104736328,
          18.44875717163086,
          18.386131286621094,
          25.419811248779297,
          15.340838432312012,
          18.34925651550293,
          17.883115768432617,
          15.340185165405273,
          14.746936798095703,
          14.67276382446289,
          14.676846504211426,
          14.711143493652344,
          5.987055778503418,
          5.929577350616455,
          31.06097412109375,
          5.316445827484131,
          5.568375587463379,
          30.434236526489258,
          23.80829620361328,
          23.83360481262207,
          5.356423377990723,
          6.2142438888549805,
          4.668022155761719,
          28.462892532348633,
          30.39468002319336,
          6.318580627441406,
          31.11100959777832,
          28.916980743408203,
          4.441256046295166,
          -7.415464401245117,
          8.596409797668457,
          8.85877799987793,
          -7.889408111572266,
          -7.490597248077393,
          -7.363382339477539,
          -7.567927360534668,
          5.525694847106934,
          6.035246849060059,
          4.561418056488037,
          5.025716781616211,
          5.058897972106934,
          -7.409919261932373,
          6.303163528442383,
          6.366288185119629,
          -7.142342567443848,
          -7.085792541503906,
          27.113439559936523,
          6.034130573272705,
          5.443178653717041,
          5.891676902770996,
          9.99294376373291,
          9.975435256958008,
          9.876980781555176,
          9.955141067504883,
          9.895286560058594,
          9.83283519744873
         ],
         "yaxis": "y"
        },
        {
         "hovertemplate": "class=june_KAMG<br>UMAP Component 1=%{x}<br>UMAP Component 2=%{y}<extra></extra>",
         "legendgroup": "june_KAMG",
         "marker": {
          "color": "#19d3f3",
          "symbol": "circle"
         },
         "mode": "markers",
         "name": "june_KAMG",
         "orientation": "v",
         "showlegend": true,
         "type": "scatter",
         "x": [
          15.860608100891113,
          16.317480087280273,
          16.07975959777832,
          14.261557579040527,
          21.34418296813965,
          9.712401390075684,
          16.738941192626953,
          13.373453140258789,
          13.453906059265137,
          14.297282218933105,
          14.042742729187012,
          14.026481628417969,
          15.150023460388184,
          14.141800880432129,
          20.955425262451172,
          20.72541046142578,
          15.24183464050293,
          20.692371368408203,
          16.074512481689453,
          20.93782615661621,
          16.006284713745117,
          -5.937222480773926,
          -5.236189842224121,
          -5.379250526428223,
          -5.979259967803955,
          -5.972076416015625,
          21.20265769958496,
          13.04793643951416,
          12.996586799621582,
          12.921761512756348,
          17.582908630371094,
          17.625791549682617,
          17.60789680480957,
          17.5771427154541,
          20.687137603759766,
          20.818796157836914,
          20.4128360748291,
          20.791563034057617,
          20.770179748535156,
          14.964698791503906,
          13.49540901184082,
          14.231343269348145,
          14.276905059814453,
          13.45082950592041,
          22.061237335205078,
          13.221558570861816,
          20.492223739624023,
          21.942405700683594,
          22.124595642089844,
          13.231712341308594,
          21.579313278198242,
          13.592630386352539,
          20.712678909301758,
          20.85318946838379,
          21.08563232421875,
          20.709613800048828,
          20.7574462890625,
          20.753395080566406,
          10.482765197753906,
          10.299362182617188,
          10.503552436828613,
          9.671943664550781,
          10.465459823608398,
          13.062055587768555,
          10.638076782226562,
          14.99509048461914,
          14.015067100524902,
          13.905738830566406,
          11.097055435180664,
          10.661661148071289,
          11.212579727172852,
          10.248632431030273,
          10.162066459655762,
          22.301097869873047,
          14.857152938842773,
          13.622443199157715,
          13.459680557250977,
          -10.337272644042969,
          -9.431604385375977,
          -9.639933586120605,
          14.61359977722168,
          -9.873427391052246
         ],
         "xaxis": "x",
         "y": [
          15.573305130004883,
          17.438373565673828,
          18.325788497924805,
          16.80590057373047,
          30.62087631225586,
          20.04901123046875,
          19.243305206298828,
          19.130083084106445,
          19.110610961914062,
          16.896921157836914,
          14.456544876098633,
          14.4382905960083,
          15.14522647857666,
          14.591833114624023,
          30.43265724182129,
          29.64152717590332,
          15.184414863586426,
          29.620744705200195,
          17.91175651550293,
          29.916627883911133,
          17.583396911621094,
          -1.218766212463379,
          -0.9128185510635376,
          -0.9939893484115601,
          -1.065476417541504,
          -1.0500832796096802,
          30.61064338684082,
          18.537765502929688,
          18.486492156982422,
          18.42432975769043,
          25.409130096435547,
          25.445968627929688,
          25.4090518951416,
          25.434755325317383,
          30.755474090576172,
          31.0588321685791,
          30.780519485473633,
          30.84428596496582,
          30.59678077697754,
          4.649538516998291,
          5.8923187255859375,
          5.985733509063721,
          5.851412296295166,
          5.6471452713012695,
          23.865585327148438,
          5.353715896606445,
          30.764680862426758,
          23.68625259399414,
          29.348249435424805,
          4.712172508239746,
          28.699264526367188,
          6.193485736846924,
          30.978618621826172,
          31.09132194519043,
          28.982311248779297,
          8.638694763183594,
          8.670164108276367,
          8.714460372924805,
          -7.68237829208374,
          -7.865756034851074,
          -7.944309711456299,
          -7.390623092651367,
          -7.885416507720947,
          5.538580894470215,
          -8.002299308776855,
          4.59602165222168,
          5.015096187591553,
          5.1322221755981445,
          -7.3964738845825195,
          -7.4619140625,
          -7.257940769195557,
          -7.098813056945801,
          -7.14501953125,
          27.155824661254883,
          4.5199971199035645,
          5.458901882171631,
          5.733462333679199,
          10.032451629638672,
          9.496077537536621,
          9.765902519226074,
          4.625634670257568,
          9.946459770202637
         ],
         "yaxis": "y"
        }
       ],
       "layout": {
        "legend": {
         "title": {
          "text": "class"
         },
         "tracegroupgap": 0
        },
        "template": {
         "data": {
          "bar": [
           {
            "error_x": {
             "color": "#2a3f5f"
            },
            "error_y": {
             "color": "#2a3f5f"
            },
            "marker": {
             "line": {
              "color": "#E5ECF6",
              "width": 0.5
             },
             "pattern": {
              "fillmode": "overlay",
              "size": 10,
              "solidity": 0.2
             }
            },
            "type": "bar"
           }
          ],
          "barpolar": [
           {
            "marker": {
             "line": {
              "color": "#E5ECF6",
              "width": 0.5
             },
             "pattern": {
              "fillmode": "overlay",
              "size": 10,
              "solidity": 0.2
             }
            },
            "type": "barpolar"
           }
          ],
          "carpet": [
           {
            "aaxis": {
             "endlinecolor": "#2a3f5f",
             "gridcolor": "white",
             "linecolor": "white",
             "minorgridcolor": "white",
             "startlinecolor": "#2a3f5f"
            },
            "baxis": {
             "endlinecolor": "#2a3f5f",
             "gridcolor": "white",
             "linecolor": "white",
             "minorgridcolor": "white",
             "startlinecolor": "#2a3f5f"
            },
            "type": "carpet"
           }
          ],
          "choropleth": [
           {
            "colorbar": {
             "outlinewidth": 0,
             "ticks": ""
            },
            "type": "choropleth"
           }
          ],
          "contour": [
           {
            "colorbar": {
             "outlinewidth": 0,
             "ticks": ""
            },
            "colorscale": [
             [
              0,
              "#0d0887"
             ],
             [
              0.1111111111111111,
              "#46039f"
             ],
             [
              0.2222222222222222,
              "#7201a8"
             ],
             [
              0.3333333333333333,
              "#9c179e"
             ],
             [
              0.4444444444444444,
              "#bd3786"
             ],
             [
              0.5555555555555556,
              "#d8576b"
             ],
             [
              0.6666666666666666,
              "#ed7953"
             ],
             [
              0.7777777777777778,
              "#fb9f3a"
             ],
             [
              0.8888888888888888,
              "#fdca26"
             ],
             [
              1,
              "#f0f921"
             ]
            ],
            "type": "contour"
           }
          ],
          "contourcarpet": [
           {
            "colorbar": {
             "outlinewidth": 0,
             "ticks": ""
            },
            "type": "contourcarpet"
           }
          ],
          "heatmap": [
           {
            "colorbar": {
             "outlinewidth": 0,
             "ticks": ""
            },
            "colorscale": [
             [
              0,
              "#0d0887"
             ],
             [
              0.1111111111111111,
              "#46039f"
             ],
             [
              0.2222222222222222,
              "#7201a8"
             ],
             [
              0.3333333333333333,
              "#9c179e"
             ],
             [
              0.4444444444444444,
              "#bd3786"
             ],
             [
              0.5555555555555556,
              "#d8576b"
             ],
             [
              0.6666666666666666,
              "#ed7953"
             ],
             [
              0.7777777777777778,
              "#fb9f3a"
             ],
             [
              0.8888888888888888,
              "#fdca26"
             ],
             [
              1,
              "#f0f921"
             ]
            ],
            "type": "heatmap"
           }
          ],
          "heatmapgl": [
           {
            "colorbar": {
             "outlinewidth": 0,
             "ticks": ""
            },
            "colorscale": [
             [
              0,
              "#0d0887"
             ],
             [
              0.1111111111111111,
              "#46039f"
             ],
             [
              0.2222222222222222,
              "#7201a8"
             ],
             [
              0.3333333333333333,
              "#9c179e"
             ],
             [
              0.4444444444444444,
              "#bd3786"
             ],
             [
              0.5555555555555556,
              "#d8576b"
             ],
             [
              0.6666666666666666,
              "#ed7953"
             ],
             [
              0.7777777777777778,
              "#fb9f3a"
             ],
             [
              0.8888888888888888,
              "#fdca26"
             ],
             [
              1,
              "#f0f921"
             ]
            ],
            "type": "heatmapgl"
           }
          ],
          "histogram": [
           {
            "marker": {
             "pattern": {
              "fillmode": "overlay",
              "size": 10,
              "solidity": 0.2
             }
            },
            "type": "histogram"
           }
          ],
          "histogram2d": [
           {
            "colorbar": {
             "outlinewidth": 0,
             "ticks": ""
            },
            "colorscale": [
             [
              0,
              "#0d0887"
             ],
             [
              0.1111111111111111,
              "#46039f"
             ],
             [
              0.2222222222222222,
              "#7201a8"
             ],
             [
              0.3333333333333333,
              "#9c179e"
             ],
             [
              0.4444444444444444,
              "#bd3786"
             ],
             [
              0.5555555555555556,
              "#d8576b"
             ],
             [
              0.6666666666666666,
              "#ed7953"
             ],
             [
              0.7777777777777778,
              "#fb9f3a"
             ],
             [
              0.8888888888888888,
              "#fdca26"
             ],
             [
              1,
              "#f0f921"
             ]
            ],
            "type": "histogram2d"
           }
          ],
          "histogram2dcontour": [
           {
            "colorbar": {
             "outlinewidth": 0,
             "ticks": ""
            },
            "colorscale": [
             [
              0,
              "#0d0887"
             ],
             [
              0.1111111111111111,
              "#46039f"
             ],
             [
              0.2222222222222222,
              "#7201a8"
             ],
             [
              0.3333333333333333,
              "#9c179e"
             ],
             [
              0.4444444444444444,
              "#bd3786"
             ],
             [
              0.5555555555555556,
              "#d8576b"
             ],
             [
              0.6666666666666666,
              "#ed7953"
             ],
             [
              0.7777777777777778,
              "#fb9f3a"
             ],
             [
              0.8888888888888888,
              "#fdca26"
             ],
             [
              1,
              "#f0f921"
             ]
            ],
            "type": "histogram2dcontour"
           }
          ],
          "mesh3d": [
           {
            "colorbar": {
             "outlinewidth": 0,
             "ticks": ""
            },
            "type": "mesh3d"
           }
          ],
          "parcoords": [
           {
            "line": {
             "colorbar": {
              "outlinewidth": 0,
              "ticks": ""
             }
            },
            "type": "parcoords"
           }
          ],
          "pie": [
           {
            "automargin": true,
            "type": "pie"
           }
          ],
          "scatter": [
           {
            "fillpattern": {
             "fillmode": "overlay",
             "size": 10,
             "solidity": 0.2
            },
            "type": "scatter"
           }
          ],
          "scatter3d": [
           {
            "line": {
             "colorbar": {
              "outlinewidth": 0,
              "ticks": ""
             }
            },
            "marker": {
             "colorbar": {
              "outlinewidth": 0,
              "ticks": ""
             }
            },
            "type": "scatter3d"
           }
          ],
          "scattercarpet": [
           {
            "marker": {
             "colorbar": {
              "outlinewidth": 0,
              "ticks": ""
             }
            },
            "type": "scattercarpet"
           }
          ],
          "scattergeo": [
           {
            "marker": {
             "colorbar": {
              "outlinewidth": 0,
              "ticks": ""
             }
            },
            "type": "scattergeo"
           }
          ],
          "scattergl": [
           {
            "marker": {
             "colorbar": {
              "outlinewidth": 0,
              "ticks": ""
             }
            },
            "type": "scattergl"
           }
          ],
          "scattermapbox": [
           {
            "marker": {
             "colorbar": {
              "outlinewidth": 0,
              "ticks": ""
             }
            },
            "type": "scattermapbox"
           }
          ],
          "scatterpolar": [
           {
            "marker": {
             "colorbar": {
              "outlinewidth": 0,
              "ticks": ""
             }
            },
            "type": "scatterpolar"
           }
          ],
          "scatterpolargl": [
           {
            "marker": {
             "colorbar": {
              "outlinewidth": 0,
              "ticks": ""
             }
            },
            "type": "scatterpolargl"
           }
          ],
          "scatterternary": [
           {
            "marker": {
             "colorbar": {
              "outlinewidth": 0,
              "ticks": ""
             }
            },
            "type": "scatterternary"
           }
          ],
          "surface": [
           {
            "colorbar": {
             "outlinewidth": 0,
             "ticks": ""
            },
            "colorscale": [
             [
              0,
              "#0d0887"
             ],
             [
              0.1111111111111111,
              "#46039f"
             ],
             [
              0.2222222222222222,
              "#7201a8"
             ],
             [
              0.3333333333333333,
              "#9c179e"
             ],
             [
              0.4444444444444444,
              "#bd3786"
             ],
             [
              0.5555555555555556,
              "#d8576b"
             ],
             [
              0.6666666666666666,
              "#ed7953"
             ],
             [
              0.7777777777777778,
              "#fb9f3a"
             ],
             [
              0.8888888888888888,
              "#fdca26"
             ],
             [
              1,
              "#f0f921"
             ]
            ],
            "type": "surface"
           }
          ],
          "table": [
           {
            "cells": {
             "fill": {
              "color": "#EBF0F8"
             },
             "line": {
              "color": "white"
             }
            },
            "header": {
             "fill": {
              "color": "#C8D4E3"
             },
             "line": {
              "color": "white"
             }
            },
            "type": "table"
           }
          ]
         },
         "layout": {
          "annotationdefaults": {
           "arrowcolor": "#2a3f5f",
           "arrowhead": 0,
           "arrowwidth": 1
          },
          "autotypenumbers": "strict",
          "coloraxis": {
           "colorbar": {
            "outlinewidth": 0,
            "ticks": ""
           }
          },
          "colorscale": {
           "diverging": [
            [
             0,
             "#8e0152"
            ],
            [
             0.1,
             "#c51b7d"
            ],
            [
             0.2,
             "#de77ae"
            ],
            [
             0.3,
             "#f1b6da"
            ],
            [
             0.4,
             "#fde0ef"
            ],
            [
             0.5,
             "#f7f7f7"
            ],
            [
             0.6,
             "#e6f5d0"
            ],
            [
             0.7,
             "#b8e186"
            ],
            [
             0.8,
             "#7fbc41"
            ],
            [
             0.9,
             "#4d9221"
            ],
            [
             1,
             "#276419"
            ]
           ],
           "sequential": [
            [
             0,
             "#0d0887"
            ],
            [
             0.1111111111111111,
             "#46039f"
            ],
            [
             0.2222222222222222,
             "#7201a8"
            ],
            [
             0.3333333333333333,
             "#9c179e"
            ],
            [
             0.4444444444444444,
             "#bd3786"
            ],
            [
             0.5555555555555556,
             "#d8576b"
            ],
            [
             0.6666666666666666,
             "#ed7953"
            ],
            [
             0.7777777777777778,
             "#fb9f3a"
            ],
            [
             0.8888888888888888,
             "#fdca26"
            ],
            [
             1,
             "#f0f921"
            ]
           ],
           "sequentialminus": [
            [
             0,
             "#0d0887"
            ],
            [
             0.1111111111111111,
             "#46039f"
            ],
            [
             0.2222222222222222,
             "#7201a8"
            ],
            [
             0.3333333333333333,
             "#9c179e"
            ],
            [
             0.4444444444444444,
             "#bd3786"
            ],
            [
             0.5555555555555556,
             "#d8576b"
            ],
            [
             0.6666666666666666,
             "#ed7953"
            ],
            [
             0.7777777777777778,
             "#fb9f3a"
            ],
            [
             0.8888888888888888,
             "#fdca26"
            ],
            [
             1,
             "#f0f921"
            ]
           ]
          },
          "colorway": [
           "#636efa",
           "#EF553B",
           "#00cc96",
           "#ab63fa",
           "#FFA15A",
           "#19d3f3",
           "#FF6692",
           "#B6E880",
           "#FF97FF",
           "#FECB52"
          ],
          "font": {
           "color": "#2a3f5f"
          },
          "geo": {
           "bgcolor": "white",
           "lakecolor": "white",
           "landcolor": "#E5ECF6",
           "showlakes": true,
           "showland": true,
           "subunitcolor": "white"
          },
          "hoverlabel": {
           "align": "left"
          },
          "hovermode": "closest",
          "mapbox": {
           "style": "light"
          },
          "paper_bgcolor": "white",
          "plot_bgcolor": "#E5ECF6",
          "polar": {
           "angularaxis": {
            "gridcolor": "white",
            "linecolor": "white",
            "ticks": ""
           },
           "bgcolor": "#E5ECF6",
           "radialaxis": {
            "gridcolor": "white",
            "linecolor": "white",
            "ticks": ""
           }
          },
          "scene": {
           "xaxis": {
            "backgroundcolor": "#E5ECF6",
            "gridcolor": "white",
            "gridwidth": 2,
            "linecolor": "white",
            "showbackground": true,
            "ticks": "",
            "zerolinecolor": "white"
           },
           "yaxis": {
            "backgroundcolor": "#E5ECF6",
            "gridcolor": "white",
            "gridwidth": 2,
            "linecolor": "white",
            "showbackground": true,
            "ticks": "",
            "zerolinecolor": "white"
           },
           "zaxis": {
            "backgroundcolor": "#E5ECF6",
            "gridcolor": "white",
            "gridwidth": 2,
            "linecolor": "white",
            "showbackground": true,
            "ticks": "",
            "zerolinecolor": "white"
           }
          },
          "shapedefaults": {
           "line": {
            "color": "#2a3f5f"
           }
          },
          "ternary": {
           "aaxis": {
            "gridcolor": "white",
            "linecolor": "white",
            "ticks": ""
           },
           "baxis": {
            "gridcolor": "white",
            "linecolor": "white",
            "ticks": ""
           },
           "bgcolor": "#E5ECF6",
           "caxis": {
            "gridcolor": "white",
            "linecolor": "white",
            "ticks": ""
           }
          },
          "title": {
           "x": 0.05
          },
          "xaxis": {
           "automargin": true,
           "gridcolor": "white",
           "linecolor": "white",
           "ticks": "",
           "title": {
            "standoff": 15
           },
           "zerolinecolor": "white",
           "zerolinewidth": 2
          },
          "yaxis": {
           "automargin": true,
           "gridcolor": "white",
           "linecolor": "white",
           "ticks": "",
           "title": {
            "standoff": 15
           },
           "zerolinecolor": "white",
           "zerolinewidth": 2
          }
         }
        },
        "title": {
         "text": "UMAP Projection"
        },
        "xaxis": {
         "anchor": "y",
         "domain": [
          0,
          1
         ],
         "title": {
          "text": "UMAP Component 1"
         }
        },
        "yaxis": {
         "anchor": "x",
         "domain": [
          0,
          1
         ],
         "title": {
          "text": "UMAP Component 2"
         }
        }
       }
      }
     },
     "metadata": {},
     "output_type": "display_data"
    }
   ],
   "source": [
    "import pandas as pd\n",
    "from src.StreamPort.ml.MachineLearningEngine import MachineLearningEngine\n",
    "from src.StreamPort.ml.MachineLearningProcessingSettings import MakeModelUMAP\n",
    "\n",
    "path = 'groups_ints.csv'\n",
    "class_path = 'groups_classes.csv'\n",
    "df = pd.read_csv(class_path)\n",
    "\n",
    "engine = MachineLearningEngine() \n",
    "engine.add_analyses_from_csv(path)\n",
    "\n",
    "engine.add_month_classes(df, 'june')  \n",
    "\n",
    "umap_model = MakeModelUMAP(n_neighbors=15, min_dist=0.1, n_components=2, random_state=42)\n",
    "engine.add_settings(umap_model)\n",
    "engine.run_workflow()\n",
    "engine.plot_umap()  \n"
   ]
  },
  {
   "cell_type": "code",
   "execution_count": 2,
   "metadata": {},
   "outputs": [
    {
     "name": "stdout",
     "output_type": "stream",
     "text": [
      "plot pos classes\n",
      "Structure of the CSV file: {'number_of_rows': 497, 'number_of_columns': 4545}\n",
      "Running workflow with settings: MakeModel\n"
     ]
    },
    {
     "data": {
      "application/vnd.plotly.v1+json": {
       "config": {
        "plotlyServerURL": "https://plot.ly"
       },
       "data": [
        {
         "hovertemplate": "class=april_KAKL<br>UMAP Component 1=%{x}<br>UMAP Component 2=%{y}<extra></extra>",
         "legendgroup": "april_KAKL",
         "marker": {
          "color": "#636efa",
          "symbol": "circle"
         },
         "mode": "markers",
         "name": "april_KAKL",
         "orientation": "v",
         "showlegend": true,
         "type": "scatter",
         "x": [
          16.534931182861328,
          15.849613189697266,
          16.615211486816406,
          15.775511741638184,
          14.253061294555664,
          20.82292366027832,
          9.738595962524414,
          -6.024648666381836,
          13.272907257080078,
          13.454724311828613,
          14.346086502075195,
          14.284480094909668,
          13.921395301818848,
          20.678518295288086,
          14.080398559570312,
          21.232118606567383,
          15.810643196105957,
          15.28936767578125,
          15.88364028930664,
          16.143993377685547,
          14.420771598815918,
          15.964303970336914,
          -5.60636568069458,
          -5.218882083892822,
          -5.573952674865723,
          -5.8793439865112305,
          16.599712371826172,
          15.496204376220703,
          12.970890998840332,
          13.471212387084961,
          12.913350105285645,
          16.993576049804688,
          17.007171630859375,
          16.911026000976562,
          20.82100486755371,
          15.577323913574219,
          16.459348678588867,
          16.155258178710938,
          16.301206588745117,
          13.339611053466797,
          21.389476776123047,
          21.678964614868164,
          21.206661224365234,
          14.614846229553223,
          13.283401489257812,
          21.963903427124023,
          22.033145904541016,
          22.068431854248047,
          13.257731437683105,
          21.10851287841797,
          13.201410293579102,
          21.5625057220459,
          13.546562194824219,
          20.609514236450195,
          20.757732391357422,
          21.497936248779297,
          12.788104057312012,
          13.021440505981445,
          20.70148468017578,
          20.86768913269043,
          10.434447288513184,
          9.827969551086426,
          9.618099212646484,
          13.27177906036377,
          13.103578567504883,
          22.1962833404541,
          22.18842124938965,
          22.158370971679688,
          22.014272689819336,
          11.05753231048584,
          10.903938293457031,
          11.158711433410645,
          10.573986053466797,
          10.751070022583008,
          22.339187622070312,
          22.26138687133789,
          22.367441177368164,
          22.27816390991211,
          -10.32013988494873,
          -9.496857643127441,
          -9.632330894470215,
          14.72468376159668,
          -9.906230926513672
         ],
         "xaxis": "x",
         "y": [
          19.03059959411621,
          18.461769104003906,
          17.88747215270996,
          18.232561111450195,
          16.730741500854492,
          30.803157806396484,
          20.075437545776367,
          -1.1581389904022217,
          18.863903045654297,
          19.04153823852539,
          16.873085021972656,
          14.71909236907959,
          14.32623291015625,
          30.402271270751953,
          14.497347831726074,
          30.523414611816406,
          18.019468307495117,
          15.24044418334961,
          17.5798282623291,
          17.970849990844727,
          16.65534019470215,
          17.505067825317383,
          -1.2618083953857422,
          -0.9192218780517578,
          -1.1104830503463745,
          -1.1480967998504639,
          19.049184799194336,
          15.348651885986328,
          18.47402000427246,
          18.441696166992188,
          18.43539047241211,
          17.936344146728516,
          17.953020095825195,
          17.929336547851562,
          30.233110427856445,
          15.256256103515625,
          14.63990306854248,
          14.944079399108887,
          14.7941312789917,
          5.765178680419922,
          29.5234432220459,
          30.09341049194336,
          29.657926559448242,
          4.554080009460449,
          5.332999229431152,
          23.72718620300293,
          23.79770278930664,
          29.210641860961914,
          5.899338245391846,
          29.151874542236328,
          4.6457600593566895,
          28.693471908569336,
          5.829862594604492,
          30.623231887817383,
          30.840557098388672,
          28.913372039794922,
          5.980823040008545,
          6.35862922668457,
          8.634636878967285,
          8.786152839660645,
          -7.981957912445068,
          -7.563314437866211,
          -7.364509105682373,
          5.651424407958984,
          5.430181503295898,
          24.322282791137695,
          24.263395309448242,
          24.24928855895996,
          24.109346389770508,
          -7.445624351501465,
          -7.343810558319092,
          -7.2436017990112305,
          -7.243734359741211,
          -7.302308559417725,
          27.127323150634766,
          27.061405181884766,
          27.16850471496582,
          27.062585830688477,
          9.992959976196289,
          9.565864562988281,
          9.688041687011719,
          4.548526287078857,
          9.977093696594238
         ],
         "yaxis": "y"
        },
        {
         "hovertemplate": "class=april_KARH<br>UMAP Component 1=%{x}<br>UMAP Component 2=%{y}<extra></extra>",
         "legendgroup": "april_KARH",
         "marker": {
          "color": "#EF553B",
          "symbol": "circle"
         },
         "mode": "markers",
         "name": "april_KARH",
         "orientation": "v",
         "showlegend": true,
         "type": "scatter",
         "x": [
          16.37872314453125,
          14.323333740234375,
          16.46333122253418,
          16.178518295288086,
          20.83111572265625,
          9.761249542236328,
          9.72916316986084,
          -5.112295150756836,
          13.201117515563965,
          13.390859603881836,
          14.39590835571289,
          14.096503257751465,
          20.474388122558594,
          16.003318786621094,
          14.31942081451416,
          20.922067642211914,
          15.811848640441895,
          20.72201919555664,
          15.953940391540527,
          20.882474899291992,
          16.50087547302246,
          21.108482360839844,
          -5.462331295013428,
          -5.280633926391602,
          -5.592105388641357,
          -5.892420291900635,
          16.41535758972168,
          15.489158630371094,
          12.985929489135742,
          13.507810592651367,
          17.686092376708984,
          16.971338272094727,
          17.02069854736328,
          16.991641998291016,
          20.887649536132812,
          15.626981735229492,
          16.32793617248535,
          15.64560317993164,
          16.351985931396484,
          12.988825798034668,
          12.973747253417969,
          13.09045124053955,
          14.423012733459473,
          21.50486946105957,
          13.50993824005127,
          13.378315925598145,
          13.553387641906738,
          22.01706886291504,
          22.089685440063477,
          21.114595413208008,
          13.308707237243652,
          21.604978561401367,
          13.199973106384277,
          20.623943328857422,
          13.0972318649292,
          20.589218139648438,
          20.81477165222168,
          20.871553421020508,
          20.785947799682617,
          14.691476821899414,
          10.48307991027832,
          9.85294246673584,
          10.534729957580566,
          13.213078498840332,
          10.518957138061523,
          22.198427200317383,
          14.395992279052734,
          14.009489059448242,
          14.978248596191406,
          10.793506622314453,
          14.946426391601562,
          10.933372497558594,
          10.21901798248291,
          22.138710021972656,
          13.349869728088379,
          13.234724998474121,
          13.294710159301758,
          21.695114135742188,
          -10.262310981750488,
          -10.310714721679688,
          -10.244698524475098,
          -10.180377960205078,
          -10.144184112548828
         ],
         "xaxis": "x",
         "y": [
          18.746793746948242,
          16.63164520263672,
          18.880937576293945,
          18.59012794494629,
          30.543893814086914,
          20.097658157348633,
          20.065885543823242,
          -0.8168787360191345,
          18.857362747192383,
          19.109355926513672,
          16.69341278076172,
          14.517274856567383,
          30.18471908569336,
          17.50008201599121,
          16.380109786987305,
          29.975271224975586,
          17.919055938720703,
          29.62323760986328,
          17.51688575744629,
          30.008419036865234,
          18.58196449279785,
          29.699047088623047,
          -1.2236305475234985,
          -0.9652526378631592,
          -1.1545497179031372,
          -1.1245001554489136,
          18.757917404174805,
          15.319580078125,
          18.498586654663086,
          18.48427391052246,
          25.335796356201172,
          17.936201095581055,
          17.920053482055664,
          17.95567512512207,
          30.916383743286133,
          15.243258476257324,
          14.775104522705078,
          15.280842781066895,
          14.747947692871094,
          5.806992053985596,
          5.898738861083984,
          5.905872344970703,
          4.7038493156433105,
          28.801725387573242,
          6.2287702560424805,
          6.080140590667725,
          6.14971923828125,
          29.17856788635254,
          29.29463005065918,
          29.153491973876953,
          4.6053290367126465,
          28.71172332763672,
          6.146703720092773,
          30.654178619384766,
          6.056502819061279,
          8.528969764709473,
          8.737412452697754,
          8.768290519714355,
          8.739293098449707,
          4.439521312713623,
          -8.127849578857422,
          -7.568431854248047,
          -8.085433959960938,
          5.569346904754639,
          -8.090136528015137,
          24.289278030395508,
          4.7446746826171875,
          5.000870704650879,
          4.5299530029296875,
          -7.385251998901367,
          4.569283485412598,
          -7.175833702087402,
          -7.125961780548096,
          27.41866683959961,
          6.104900360107422,
          6.336846351623535,
          6.1663432121276855,
          28.660961151123047,
          9.961870193481445,
          9.998810768127441,
          9.899574279785156,
          9.91419506072998,
          9.929744720458984
         ],
         "yaxis": "y"
        },
        {
         "hovertemplate": "class=april_RW<br>UMAP Component 1=%{x}<br>UMAP Component 2=%{y}<extra></extra>",
         "legendgroup": "april_RW",
         "marker": {
          "color": "#00cc96",
          "symbol": "circle"
         },
         "mode": "markers",
         "name": "april_RW",
         "orientation": "v",
         "showlegend": true,
         "type": "scatter",
         "x": [
          16.646543502807617,
          14.414690971374512,
          16.023666381835938,
          14.259886741638184,
          21.35296630859375,
          9.755906105041504,
          9.725183486938477,
          -5.1568284034729,
          13.223600387573242,
          20.876131057739258,
          14.33609390258789,
          14.262130737304688,
          20.397418975830078,
          14.064615249633789,
          14.04338264465332,
          16.44881248474121,
          15.783184051513672,
          16.438188552856445,
          15.963793754577637,
          15.78614330291748,
          14.487183570861816,
          20.86131477355957,
          -5.311849594116211,
          -5.343250751495361,
          -5.462532997131348,
          -5.988216400146484,
          21.28942108154297,
          21.169780731201172,
          13.017969131469727,
          12.931109428405762,
          17.62862205505371,
          17.611600875854492,
          17.58450698852539,
          17.55583381652832,
          20.888826370239258,
          20.958003997802734,
          20.762561798095703,
          21.212480545043945,
          20.612018585205078,
          13.19428539276123,
          12.874797821044922,
          21.201011657714844,
          13.326345443725586,
          14.905634880065918,
          14.730864524841309,
          22.056119918823242,
          22.02196502685547,
          13.836251258850098,
          14.571493148803711,
          21.060832977294922,
          13.237082481384277,
          21.75376319885254,
          13.08012866973877,
          20.73086929321289,
          12.948355674743652,
          12.902108192443848,
          12.838438034057617,
          14.770607948303223,
          20.685157775878906,
          11.041950225830078,
          9.895832061767578,
          9.871575355529785,
          9.935833930969238,
          13.227582931518555,
          14.240236282348633,
          22.16253089904785,
          14.30470085144043,
          14.059358596801758,
          15.056119918823242,
          10.429328918457031,
          14.828932762145996,
          10.577428817749023,
          13.539719581604004,
          22.210803985595703,
          13.558242797851562,
          13.397924423217773,
          13.171282768249512,
          20.800230026245117,
          -9.494149208068848,
          12.791801452636719,
          -9.686628341674805,
          -9.651126861572266,
          -9.85809326171875
         ],
         "xaxis": "x",
         "y": [
          19.112627029418945,
          16.631452560424805,
          17.65055274963379,
          16.68852424621582,
          30.76893424987793,
          20.09237289428711,
          20.062192916870117,
          -0.868924617767334,
          18.880779266357422,
          30.548234939575195,
          16.87856674194336,
          14.706600189208984,
          30.16907501220703,
          14.480522155761719,
          14.45975112915039,
          18.697145462036133,
          17.97541046142578,
          18.443988800048828,
          17.469593048095703,
          17.935882568359375,
          16.772083282470703,
          30.662221908569336,
          -0.9932305216789246,
          -1.0240222215652466,
          -0.9454209804534912,
          -1.0974400043487549,
          30.626989364624023,
          30.500423431396484,
          18.497770309448242,
          18.40004539489746,
          25.411781311035156,
          25.411415100097656,
          25.424171447753906,
          25.458173751831055,
          30.822301864624023,
          30.805377960205078,
          30.562747955322266,
          30.61054801940918,
          30.90580177307129,
          6.121830463409424,
          6.000599384307861,
          31.02736473083496,
          6.302347183227539,
          4.460888862609863,
          4.393828392028809,
          23.826723098754883,
          23.780031204223633,
          5.419179916381836,
          4.559887886047363,
          29.157398223876953,
          4.639976978302002,
          28.313766479492188,
          5.784708499908447,
          30.560562133789062,
          5.920844078063965,
          6.499429225921631,
          6.276403903961182,
          4.452371597290039,
          8.607817649841309,
          -7.254044055938721,
          -7.520165920257568,
          -7.545673370361328,
          -7.564447402954102,
          5.552274227142334,
          5.971521854400635,
          24.266708374023438,
          4.821252346038818,
          4.968715190887451,
          4.621899604797363,
          -7.289222240447998,
          4.491779327392578,
          -7.205827236175537,
          6.244202613830566,
          27.19605255126953,
          6.050201892852783,
          6.240965366363525,
          6.1306376457214355,
          30.978715896606445,
          9.564300537109375,
          6.202910423278809,
          9.7570219039917,
          9.702409744262695,
          9.954776763916016
         ],
         "yaxis": "y"
        },
        {
         "hovertemplate": "class=april_KAXAL<br>UMAP Component 1=%{x}<br>UMAP Component 2=%{y}<extra></extra>",
         "legendgroup": "april_KAXAL",
         "marker": {
          "color": "#ab63fa",
          "symbol": "circle"
         },
         "mode": "markers",
         "name": "april_KAXAL",
         "orientation": "v",
         "showlegend": true,
         "type": "scatter",
         "x": [
          16.54327392578125,
          16.193082809448242,
          16.047697067260742,
          14.343907356262207,
          20.631460189819336,
          9.696183204650879,
          20.926267623901367,
          -5.093214511871338,
          13.426786422729492,
          16.659442901611328,
          20.85845184326172,
          14.206499099731445,
          16.371292114257812,
          16.126447677612305,
          15.209235191345215,
          16.3673038482666,
          20.753740310668945,
          16.462865829467773,
          20.90826416015625,
          15.780753135681152,
          20.9183349609375,
          -6.035958766937256,
          -5.200067520141602,
          -5.259957790374756,
          -5.517134666442871,
          -5.907934188842773,
          15.85935115814209,
          13.403634071350098,
          13.209192276000977,
          13.699472427368164,
          17.669729232788086,
          15.42733383178711,
          16.049964904785156,
          16.1368465423584,
          15.53422737121582,
          16.36434555053711,
          16.4803409576416,
          16.406696319580078,
          16.3881778717041,
          13.371626853942871,
          15.005301475524902,
          13.103687286376953,
          20.610185623168945,
          21.87626075744629,
          21.92730712890625,
          13.499754905700684,
          14.585282325744629,
          21.995012283325195,
          22.11622428894043,
          21.345325469970703,
          21.33196449279785,
          21.291183471679688,
          14.886269569396973,
          20.6040096282959,
          20.64634895324707,
          20.80288314819336,
          20.785593032836914,
          20.827808380126953,
          20.713441848754883,
          10.709254264831543,
          9.850125312805176,
          10.501907348632812,
          9.991778373718262,
          10.474897384643555,
          14.2037992477417,
          22.186006546020508,
          22.127628326416016,
          22.17119598388672,
          11.099018096923828,
          10.94378662109375,
          20.695341110229492,
          10.491461753845215,
          10.717272758483887,
          22.248449325561523,
          22.282337188720703,
          22.21088218688965,
          22.232929229736328,
          -10.252901077270508,
          -9.503937721252441,
          12.78235149383545,
          -9.700526237487793,
          -9.576051712036133,
          -9.924850463867188
         ],
         "xaxis": "x",
         "y": [
          18.962406158447266,
          18.05278778076172,
          17.90009307861328,
          16.78775405883789,
          30.587255477905273,
          20.032730102539062,
          30.57842445373535,
          -0.8088293075561523,
          19.02887725830078,
          19.123611450195312,
          30.57514762878418,
          14.621859550476074,
          18.119396209716797,
          17.753019332885742,
          15.182665824890137,
          18.501792907714844,
          29.650455474853516,
          18.45742416381836,
          30.34932518005371,
          17.913105010986328,
          29.940900802612305,
          -1.1707514524459839,
          -0.9293681979179382,
          -0.989095151424408,
          -1.2991447448730469,
          -1.1819292306900024,
          18.27139663696289,
          19.14544677734375,
          18.480213165283203,
          18.422801971435547,
          25.34555435180664,
          15.310153007507324,
          18.339872360229492,
          18.37457847595215,
          15.297798156738281,
          14.706620216369629,
          14.617670059204102,
          14.689912796020508,
          14.710725784301758,
          5.975351810455322,
          4.668452262878418,
          5.650088310241699,
          30.869190216064453,
          29.756454467773438,
          29.661869049072266,
          6.06695032119751,
          4.588972568511963,
          23.72882080078125,
          29.28868865966797,
          29.44753074645996,
          29.598676681518555,
          29.634212493896484,
          4.525808334350586,
          30.79425621032715,
          30.8553524017334,
          8.7279691696167,
          8.727359771728516,
          8.754766464233398,
          8.589494705200195,
          -7.851477146148682,
          -7.461360931396484,
          -7.988152503967285,
          -7.4426727294921875,
          -8.021402359008789,
          5.986571788787842,
          24.237850189208984,
          24.17520523071289,
          24.235498428344727,
          -7.429661273956299,
          -7.445736408233643,
          30.79931640625,
          -7.245954513549805,
          -7.314611434936523,
          27.20986557006836,
          27.08356285095215,
          27.005996704101562,
          27.142738342285156,
          10.02430248260498,
          9.572754859924316,
          6.2641096115112305,
          9.742203712463379,
          9.624565124511719,
          10.01988697052002
         ],
         "yaxis": "y"
        },
        {
         "hovertemplate": "class=april_KARB<br>UMAP Component 1=%{x}<br>UMAP Component 2=%{y}<extra></extra>",
         "legendgroup": "april_KARB",
         "marker": {
          "color": "#FFA15A",
          "symbol": "circle"
         },
         "mode": "markers",
         "name": "april_KARB",
         "orientation": "v",
         "showlegend": true,
         "type": "scatter",
         "x": [
          16.737539291381836,
          20.58370018005371,
          16.570261001586914,
          14.27818775177002,
          20.805133819580078,
          9.73416519165039,
          20.96363639831543,
          -5.13257360458374,
          13.493626594543457,
          16.60285758972168,
          21.181079864501953,
          14.92696475982666,
          20.45180320739746,
          13.982101440429688,
          13.971885681152344,
          16.25347900390625,
          15.269386291503906,
          16.37468719482422,
          16.15868377685547,
          15.759452819824219,
          16.025999069213867,
          -5.907605171203613,
          -5.155245304107666,
          -5.395418167114258,
          -5.589362621307373,
          -5.952437877655029,
          15.745370864868164,
          13.07211971282959,
          13.349288940429688,
          13.737323760986328,
          17.59231948852539,
          15.458305358886719,
          16.068355560302734,
          16.902719497680664,
          15.641335487365723,
          16.35637664794922,
          16.426006317138672,
          16.42094612121582,
          16.41020393371582,
          13.03725814819336,
          13.638116836547852,
          21.234708786010742,
          13.269289016723633,
          13.587861061096191,
          20.968534469604492,
          22.03898048400879,
          22.049753189086914,
          13.258533477783203,
          13.530141830444336,
          13.238137245178223,
          21.71429443359375,
          20.986665725708008,
          13.569039344787598,
          20.888431549072266,
          21.17805290222168,
          14.742547035217285,
          10.577807426452637,
          20.680587768554688,
          20.93559455871582,
          10.709433555603027,
          9.86244010925293,
          9.645663261413574,
          9.910882949829102,
          13.211647033691406,
          14.140810012817383,
          15.02735710144043,
          13.993412017822266,
          13.965081214904785,
          10.977336883544922,
          13.432948112487793,
          12.65677547454834,
          10.290536880493164,
          10.175588607788086,
          22.272775650024414,
          14.141528129577637,
          13.627297401428223,
          13.66071891784668,
          -10.330294609069824,
          -10.350793838500977,
          -10.314831733703613,
          -10.264620780944824,
          -10.179784774780273,
          -10.106165885925293
         ],
         "xaxis": "x",
         "y": [
          19.236249923706055,
          30.446998596191406,
          19.023311614990234,
          16.73959732055664,
          30.65906524658203,
          20.070695877075195,
          30.6453914642334,
          -0.8393060564994812,
          19.02781867980957,
          18.8111572265625,
          30.63182258605957,
          15.02176284790039,
          30.39509391784668,
          14.397465705871582,
          14.386246681213379,
          18.251338958740234,
          15.214801788330078,
          18.281103134155273,
          18.040468215942383,
          17.949851989746094,
          17.51179313659668,
          -1.0264068841934204,
          -0.8529277443885803,
          -1.0697507858276367,
          -1.2707493305206299,
          -1.132469654083252,
          18.234769821166992,
          18.559101104736328,
          18.44875717163086,
          18.386131286621094,
          25.419811248779297,
          15.340838432312012,
          18.34925651550293,
          17.883115768432617,
          15.340185165405273,
          14.746936798095703,
          14.67276382446289,
          14.676846504211426,
          14.711143493652344,
          5.987055778503418,
          5.929577350616455,
          31.06097412109375,
          5.316445827484131,
          5.568375587463379,
          30.434236526489258,
          23.80829620361328,
          23.83360481262207,
          5.356423377990723,
          6.2142438888549805,
          4.668022155761719,
          28.462892532348633,
          30.39468002319336,
          6.318580627441406,
          31.11100959777832,
          28.916980743408203,
          4.441256046295166,
          -7.415464401245117,
          8.596409797668457,
          8.85877799987793,
          -7.889408111572266,
          -7.490597248077393,
          -7.363382339477539,
          -7.567927360534668,
          5.525694847106934,
          6.035246849060059,
          4.561418056488037,
          5.025716781616211,
          5.058897972106934,
          -7.409919261932373,
          6.303163528442383,
          6.366288185119629,
          -7.142342567443848,
          -7.085792541503906,
          27.113439559936523,
          6.034130573272705,
          5.443178653717041,
          5.891676902770996,
          9.99294376373291,
          9.975435256958008,
          9.876980781555176,
          9.955141067504883,
          9.895286560058594,
          9.83283519744873
         ],
         "yaxis": "y"
        },
        {
         "hovertemplate": "class=april_KAMG<br>UMAP Component 1=%{x}<br>UMAP Component 2=%{y}<extra></extra>",
         "legendgroup": "april_KAMG",
         "marker": {
          "color": "#19d3f3",
          "symbol": "circle"
         },
         "mode": "markers",
         "name": "april_KAMG",
         "orientation": "v",
         "showlegend": true,
         "type": "scatter",
         "x": [
          15.860608100891113,
          16.317480087280273,
          16.07975959777832,
          14.261557579040527,
          21.34418296813965,
          9.712401390075684,
          16.738941192626953,
          13.373453140258789,
          13.453906059265137,
          14.297282218933105,
          14.042742729187012,
          14.026481628417969,
          15.150023460388184,
          14.141800880432129,
          20.955425262451172,
          20.72541046142578,
          15.24183464050293,
          20.692371368408203,
          16.074512481689453,
          20.93782615661621,
          16.006284713745117,
          -5.937222480773926,
          -5.236189842224121,
          -5.379250526428223,
          -5.979259967803955,
          -5.972076416015625,
          21.20265769958496,
          13.04793643951416,
          12.996586799621582,
          12.921761512756348,
          17.582908630371094,
          17.625791549682617,
          17.60789680480957,
          17.5771427154541,
          20.687137603759766,
          20.818796157836914,
          20.4128360748291,
          20.791563034057617,
          20.770179748535156,
          14.964698791503906,
          13.49540901184082,
          14.231343269348145,
          14.276905059814453,
          13.45082950592041,
          22.061237335205078,
          13.221558570861816,
          20.492223739624023,
          21.942405700683594,
          22.124595642089844,
          13.231712341308594,
          21.579313278198242,
          13.592630386352539,
          20.712678909301758,
          20.85318946838379,
          21.08563232421875,
          20.709613800048828,
          20.7574462890625,
          20.753395080566406,
          10.482765197753906,
          10.299362182617188,
          10.503552436828613,
          9.671943664550781,
          10.465459823608398,
          13.062055587768555,
          10.638076782226562,
          14.99509048461914,
          14.015067100524902,
          13.905738830566406,
          11.097055435180664,
          10.661661148071289,
          11.212579727172852,
          10.248632431030273,
          10.162066459655762,
          22.301097869873047,
          14.857152938842773,
          13.622443199157715,
          13.459680557250977,
          -10.337272644042969,
          -9.431604385375977,
          -9.639933586120605,
          14.61359977722168,
          -9.873427391052246
         ],
         "xaxis": "x",
         "y": [
          15.573305130004883,
          17.438373565673828,
          18.325788497924805,
          16.80590057373047,
          30.62087631225586,
          20.04901123046875,
          19.243305206298828,
          19.130083084106445,
          19.110610961914062,
          16.896921157836914,
          14.456544876098633,
          14.4382905960083,
          15.14522647857666,
          14.591833114624023,
          30.43265724182129,
          29.64152717590332,
          15.184414863586426,
          29.620744705200195,
          17.91175651550293,
          29.916627883911133,
          17.583396911621094,
          -1.218766212463379,
          -0.9128185510635376,
          -0.9939893484115601,
          -1.065476417541504,
          -1.0500832796096802,
          30.61064338684082,
          18.537765502929688,
          18.486492156982422,
          18.42432975769043,
          25.409130096435547,
          25.445968627929688,
          25.4090518951416,
          25.434755325317383,
          30.755474090576172,
          31.0588321685791,
          30.780519485473633,
          30.84428596496582,
          30.59678077697754,
          4.649538516998291,
          5.8923187255859375,
          5.985733509063721,
          5.851412296295166,
          5.6471452713012695,
          23.865585327148438,
          5.353715896606445,
          30.764680862426758,
          23.68625259399414,
          29.348249435424805,
          4.712172508239746,
          28.699264526367188,
          6.193485736846924,
          30.978618621826172,
          31.09132194519043,
          28.982311248779297,
          8.638694763183594,
          8.670164108276367,
          8.714460372924805,
          -7.68237829208374,
          -7.865756034851074,
          -7.944309711456299,
          -7.390623092651367,
          -7.885416507720947,
          5.538580894470215,
          -8.002299308776855,
          4.59602165222168,
          5.015096187591553,
          5.1322221755981445,
          -7.3964738845825195,
          -7.4619140625,
          -7.257940769195557,
          -7.098813056945801,
          -7.14501953125,
          27.155824661254883,
          4.5199971199035645,
          5.458901882171631,
          5.733462333679199,
          10.032451629638672,
          9.496077537536621,
          9.765902519226074,
          4.625634670257568,
          9.946459770202637
         ],
         "yaxis": "y"
        }
       ],
       "layout": {
        "legend": {
         "title": {
          "text": "class"
         },
         "tracegroupgap": 0
        },
        "template": {
         "data": {
          "bar": [
           {
            "error_x": {
             "color": "#2a3f5f"
            },
            "error_y": {
             "color": "#2a3f5f"
            },
            "marker": {
             "line": {
              "color": "#E5ECF6",
              "width": 0.5
             },
             "pattern": {
              "fillmode": "overlay",
              "size": 10,
              "solidity": 0.2
             }
            },
            "type": "bar"
           }
          ],
          "barpolar": [
           {
            "marker": {
             "line": {
              "color": "#E5ECF6",
              "width": 0.5
             },
             "pattern": {
              "fillmode": "overlay",
              "size": 10,
              "solidity": 0.2
             }
            },
            "type": "barpolar"
           }
          ],
          "carpet": [
           {
            "aaxis": {
             "endlinecolor": "#2a3f5f",
             "gridcolor": "white",
             "linecolor": "white",
             "minorgridcolor": "white",
             "startlinecolor": "#2a3f5f"
            },
            "baxis": {
             "endlinecolor": "#2a3f5f",
             "gridcolor": "white",
             "linecolor": "white",
             "minorgridcolor": "white",
             "startlinecolor": "#2a3f5f"
            },
            "type": "carpet"
           }
          ],
          "choropleth": [
           {
            "colorbar": {
             "outlinewidth": 0,
             "ticks": ""
            },
            "type": "choropleth"
           }
          ],
          "contour": [
           {
            "colorbar": {
             "outlinewidth": 0,
             "ticks": ""
            },
            "colorscale": [
             [
              0,
              "#0d0887"
             ],
             [
              0.1111111111111111,
              "#46039f"
             ],
             [
              0.2222222222222222,
              "#7201a8"
             ],
             [
              0.3333333333333333,
              "#9c179e"
             ],
             [
              0.4444444444444444,
              "#bd3786"
             ],
             [
              0.5555555555555556,
              "#d8576b"
             ],
             [
              0.6666666666666666,
              "#ed7953"
             ],
             [
              0.7777777777777778,
              "#fb9f3a"
             ],
             [
              0.8888888888888888,
              "#fdca26"
             ],
             [
              1,
              "#f0f921"
             ]
            ],
            "type": "contour"
           }
          ],
          "contourcarpet": [
           {
            "colorbar": {
             "outlinewidth": 0,
             "ticks": ""
            },
            "type": "contourcarpet"
           }
          ],
          "heatmap": [
           {
            "colorbar": {
             "outlinewidth": 0,
             "ticks": ""
            },
            "colorscale": [
             [
              0,
              "#0d0887"
             ],
             [
              0.1111111111111111,
              "#46039f"
             ],
             [
              0.2222222222222222,
              "#7201a8"
             ],
             [
              0.3333333333333333,
              "#9c179e"
             ],
             [
              0.4444444444444444,
              "#bd3786"
             ],
             [
              0.5555555555555556,
              "#d8576b"
             ],
             [
              0.6666666666666666,
              "#ed7953"
             ],
             [
              0.7777777777777778,
              "#fb9f3a"
             ],
             [
              0.8888888888888888,
              "#fdca26"
             ],
             [
              1,
              "#f0f921"
             ]
            ],
            "type": "heatmap"
           }
          ],
          "heatmapgl": [
           {
            "colorbar": {
             "outlinewidth": 0,
             "ticks": ""
            },
            "colorscale": [
             [
              0,
              "#0d0887"
             ],
             [
              0.1111111111111111,
              "#46039f"
             ],
             [
              0.2222222222222222,
              "#7201a8"
             ],
             [
              0.3333333333333333,
              "#9c179e"
             ],
             [
              0.4444444444444444,
              "#bd3786"
             ],
             [
              0.5555555555555556,
              "#d8576b"
             ],
             [
              0.6666666666666666,
              "#ed7953"
             ],
             [
              0.7777777777777778,
              "#fb9f3a"
             ],
             [
              0.8888888888888888,
              "#fdca26"
             ],
             [
              1,
              "#f0f921"
             ]
            ],
            "type": "heatmapgl"
           }
          ],
          "histogram": [
           {
            "marker": {
             "pattern": {
              "fillmode": "overlay",
              "size": 10,
              "solidity": 0.2
             }
            },
            "type": "histogram"
           }
          ],
          "histogram2d": [
           {
            "colorbar": {
             "outlinewidth": 0,
             "ticks": ""
            },
            "colorscale": [
             [
              0,
              "#0d0887"
             ],
             [
              0.1111111111111111,
              "#46039f"
             ],
             [
              0.2222222222222222,
              "#7201a8"
             ],
             [
              0.3333333333333333,
              "#9c179e"
             ],
             [
              0.4444444444444444,
              "#bd3786"
             ],
             [
              0.5555555555555556,
              "#d8576b"
             ],
             [
              0.6666666666666666,
              "#ed7953"
             ],
             [
              0.7777777777777778,
              "#fb9f3a"
             ],
             [
              0.8888888888888888,
              "#fdca26"
             ],
             [
              1,
              "#f0f921"
             ]
            ],
            "type": "histogram2d"
           }
          ],
          "histogram2dcontour": [
           {
            "colorbar": {
             "outlinewidth": 0,
             "ticks": ""
            },
            "colorscale": [
             [
              0,
              "#0d0887"
             ],
             [
              0.1111111111111111,
              "#46039f"
             ],
             [
              0.2222222222222222,
              "#7201a8"
             ],
             [
              0.3333333333333333,
              "#9c179e"
             ],
             [
              0.4444444444444444,
              "#bd3786"
             ],
             [
              0.5555555555555556,
              "#d8576b"
             ],
             [
              0.6666666666666666,
              "#ed7953"
             ],
             [
              0.7777777777777778,
              "#fb9f3a"
             ],
             [
              0.8888888888888888,
              "#fdca26"
             ],
             [
              1,
              "#f0f921"
             ]
            ],
            "type": "histogram2dcontour"
           }
          ],
          "mesh3d": [
           {
            "colorbar": {
             "outlinewidth": 0,
             "ticks": ""
            },
            "type": "mesh3d"
           }
          ],
          "parcoords": [
           {
            "line": {
             "colorbar": {
              "outlinewidth": 0,
              "ticks": ""
             }
            },
            "type": "parcoords"
           }
          ],
          "pie": [
           {
            "automargin": true,
            "type": "pie"
           }
          ],
          "scatter": [
           {
            "fillpattern": {
             "fillmode": "overlay",
             "size": 10,
             "solidity": 0.2
            },
            "type": "scatter"
           }
          ],
          "scatter3d": [
           {
            "line": {
             "colorbar": {
              "outlinewidth": 0,
              "ticks": ""
             }
            },
            "marker": {
             "colorbar": {
              "outlinewidth": 0,
              "ticks": ""
             }
            },
            "type": "scatter3d"
           }
          ],
          "scattercarpet": [
           {
            "marker": {
             "colorbar": {
              "outlinewidth": 0,
              "ticks": ""
             }
            },
            "type": "scattercarpet"
           }
          ],
          "scattergeo": [
           {
            "marker": {
             "colorbar": {
              "outlinewidth": 0,
              "ticks": ""
             }
            },
            "type": "scattergeo"
           }
          ],
          "scattergl": [
           {
            "marker": {
             "colorbar": {
              "outlinewidth": 0,
              "ticks": ""
             }
            },
            "type": "scattergl"
           }
          ],
          "scattermapbox": [
           {
            "marker": {
             "colorbar": {
              "outlinewidth": 0,
              "ticks": ""
             }
            },
            "type": "scattermapbox"
           }
          ],
          "scatterpolar": [
           {
            "marker": {
             "colorbar": {
              "outlinewidth": 0,
              "ticks": ""
             }
            },
            "type": "scatterpolar"
           }
          ],
          "scatterpolargl": [
           {
            "marker": {
             "colorbar": {
              "outlinewidth": 0,
              "ticks": ""
             }
            },
            "type": "scatterpolargl"
           }
          ],
          "scatterternary": [
           {
            "marker": {
             "colorbar": {
              "outlinewidth": 0,
              "ticks": ""
             }
            },
            "type": "scatterternary"
           }
          ],
          "surface": [
           {
            "colorbar": {
             "outlinewidth": 0,
             "ticks": ""
            },
            "colorscale": [
             [
              0,
              "#0d0887"
             ],
             [
              0.1111111111111111,
              "#46039f"
             ],
             [
              0.2222222222222222,
              "#7201a8"
             ],
             [
              0.3333333333333333,
              "#9c179e"
             ],
             [
              0.4444444444444444,
              "#bd3786"
             ],
             [
              0.5555555555555556,
              "#d8576b"
             ],
             [
              0.6666666666666666,
              "#ed7953"
             ],
             [
              0.7777777777777778,
              "#fb9f3a"
             ],
             [
              0.8888888888888888,
              "#fdca26"
             ],
             [
              1,
              "#f0f921"
             ]
            ],
            "type": "surface"
           }
          ],
          "table": [
           {
            "cells": {
             "fill": {
              "color": "#EBF0F8"
             },
             "line": {
              "color": "white"
             }
            },
            "header": {
             "fill": {
              "color": "#C8D4E3"
             },
             "line": {
              "color": "white"
             }
            },
            "type": "table"
           }
          ]
         },
         "layout": {
          "annotationdefaults": {
           "arrowcolor": "#2a3f5f",
           "arrowhead": 0,
           "arrowwidth": 1
          },
          "autotypenumbers": "strict",
          "coloraxis": {
           "colorbar": {
            "outlinewidth": 0,
            "ticks": ""
           }
          },
          "colorscale": {
           "diverging": [
            [
             0,
             "#8e0152"
            ],
            [
             0.1,
             "#c51b7d"
            ],
            [
             0.2,
             "#de77ae"
            ],
            [
             0.3,
             "#f1b6da"
            ],
            [
             0.4,
             "#fde0ef"
            ],
            [
             0.5,
             "#f7f7f7"
            ],
            [
             0.6,
             "#e6f5d0"
            ],
            [
             0.7,
             "#b8e186"
            ],
            [
             0.8,
             "#7fbc41"
            ],
            [
             0.9,
             "#4d9221"
            ],
            [
             1,
             "#276419"
            ]
           ],
           "sequential": [
            [
             0,
             "#0d0887"
            ],
            [
             0.1111111111111111,
             "#46039f"
            ],
            [
             0.2222222222222222,
             "#7201a8"
            ],
            [
             0.3333333333333333,
             "#9c179e"
            ],
            [
             0.4444444444444444,
             "#bd3786"
            ],
            [
             0.5555555555555556,
             "#d8576b"
            ],
            [
             0.6666666666666666,
             "#ed7953"
            ],
            [
             0.7777777777777778,
             "#fb9f3a"
            ],
            [
             0.8888888888888888,
             "#fdca26"
            ],
            [
             1,
             "#f0f921"
            ]
           ],
           "sequentialminus": [
            [
             0,
             "#0d0887"
            ],
            [
             0.1111111111111111,
             "#46039f"
            ],
            [
             0.2222222222222222,
             "#7201a8"
            ],
            [
             0.3333333333333333,
             "#9c179e"
            ],
            [
             0.4444444444444444,
             "#bd3786"
            ],
            [
             0.5555555555555556,
             "#d8576b"
            ],
            [
             0.6666666666666666,
             "#ed7953"
            ],
            [
             0.7777777777777778,
             "#fb9f3a"
            ],
            [
             0.8888888888888888,
             "#fdca26"
            ],
            [
             1,
             "#f0f921"
            ]
           ]
          },
          "colorway": [
           "#636efa",
           "#EF553B",
           "#00cc96",
           "#ab63fa",
           "#FFA15A",
           "#19d3f3",
           "#FF6692",
           "#B6E880",
           "#FF97FF",
           "#FECB52"
          ],
          "font": {
           "color": "#2a3f5f"
          },
          "geo": {
           "bgcolor": "white",
           "lakecolor": "white",
           "landcolor": "#E5ECF6",
           "showlakes": true,
           "showland": true,
           "subunitcolor": "white"
          },
          "hoverlabel": {
           "align": "left"
          },
          "hovermode": "closest",
          "mapbox": {
           "style": "light"
          },
          "paper_bgcolor": "white",
          "plot_bgcolor": "#E5ECF6",
          "polar": {
           "angularaxis": {
            "gridcolor": "white",
            "linecolor": "white",
            "ticks": ""
           },
           "bgcolor": "#E5ECF6",
           "radialaxis": {
            "gridcolor": "white",
            "linecolor": "white",
            "ticks": ""
           }
          },
          "scene": {
           "xaxis": {
            "backgroundcolor": "#E5ECF6",
            "gridcolor": "white",
            "gridwidth": 2,
            "linecolor": "white",
            "showbackground": true,
            "ticks": "",
            "zerolinecolor": "white"
           },
           "yaxis": {
            "backgroundcolor": "#E5ECF6",
            "gridcolor": "white",
            "gridwidth": 2,
            "linecolor": "white",
            "showbackground": true,
            "ticks": "",
            "zerolinecolor": "white"
           },
           "zaxis": {
            "backgroundcolor": "#E5ECF6",
            "gridcolor": "white",
            "gridwidth": 2,
            "linecolor": "white",
            "showbackground": true,
            "ticks": "",
            "zerolinecolor": "white"
           }
          },
          "shapedefaults": {
           "line": {
            "color": "#2a3f5f"
           }
          },
          "ternary": {
           "aaxis": {
            "gridcolor": "white",
            "linecolor": "white",
            "ticks": ""
           },
           "baxis": {
            "gridcolor": "white",
            "linecolor": "white",
            "ticks": ""
           },
           "bgcolor": "#E5ECF6",
           "caxis": {
            "gridcolor": "white",
            "linecolor": "white",
            "ticks": ""
           }
          },
          "title": {
           "x": 0.05
          },
          "xaxis": {
           "automargin": true,
           "gridcolor": "white",
           "linecolor": "white",
           "ticks": "",
           "title": {
            "standoff": 15
           },
           "zerolinecolor": "white",
           "zerolinewidth": 2
          },
          "yaxis": {
           "automargin": true,
           "gridcolor": "white",
           "linecolor": "white",
           "ticks": "",
           "title": {
            "standoff": 15
           },
           "zerolinecolor": "white",
           "zerolinewidth": 2
          }
         }
        },
        "title": {
         "text": "UMAP Projection"
        },
        "xaxis": {
         "anchor": "y",
         "domain": [
          0,
          1
         ],
         "title": {
          "text": "UMAP Component 1"
         }
        },
        "yaxis": {
         "anchor": "x",
         "domain": [
          0,
          1
         ],
         "title": {
          "text": "UMAP Component 2"
         }
        }
       }
      }
     },
     "metadata": {},
     "output_type": "display_data"
    }
   ],
   "source": [
    "print(\"plot pos classes\")\n",
    "engine = MachineLearningEngine()  \n",
    "engine.add_analyses_from_csv(path)\n",
    "\n",
    "engine.add_month_classes(df, 'april')  \n",
    "\n",
    "umap_model = MakeModelUMAP(n_neighbors=15, min_dist=0.1, n_components=2, random_state=42)\n",
    "engine.add_settings(umap_model)\n",
    "engine.run_workflow()\n",
    "engine.plot_umap()  "
   ]
  },
  {
   "cell_type": "code",
   "execution_count": null,
   "metadata": {},
   "outputs": [
    {
     "name": "stdout",
     "output_type": "stream",
     "text": [
      "Structure of the CSV file: {'number_of_rows': 497, 'number_of_columns': 4545}\n",
      "Running workflow with settings: MakeModel\n"
     ]
    },
    {
     "data": {
      "application/vnd.plotly.v1+json": {
       "config": {
        "plotlyServerURL": "https://plot.ly"
       },
       "data": [
        {
         "hovertemplate": "class=april_KAKL<br>UMAP Component 1=%{x}<br>UMAP Component 2=%{y}<extra></extra>",
         "legendgroup": "april_KAKL",
         "marker": {
          "color": "#636efa",
          "symbol": "circle"
         },
         "mode": "markers",
         "name": "april_KAKL",
         "orientation": "v",
         "showlegend": true,
         "type": "scatter",
         "x": [
          16.534931182861328,
          15.849613189697266,
          16.615211486816406,
          15.775511741638184,
          14.253061294555664,
          20.82292366027832,
          9.738595962524414,
          -6.024648666381836,
          13.272907257080078,
          13.454724311828613,
          14.346086502075195,
          14.284480094909668,
          13.921395301818848,
          20.678518295288086,
          14.080398559570312,
          21.232118606567383,
          15.810643196105957,
          15.28936767578125,
          15.88364028930664,
          16.143993377685547,
          14.420771598815918,
          15.964303970336914,
          -5.60636568069458,
          -5.218882083892822,
          -5.573952674865723,
          -5.8793439865112305,
          16.599712371826172,
          15.496204376220703,
          12.970890998840332,
          13.471212387084961,
          12.913350105285645,
          16.993576049804688,
          17.007171630859375,
          16.911026000976562,
          20.82100486755371,
          15.577323913574219,
          16.459348678588867,
          16.155258178710938,
          16.301206588745117,
          13.339611053466797,
          21.389476776123047,
          21.678964614868164,
          21.206661224365234,
          14.614846229553223,
          13.283401489257812,
          21.963903427124023,
          22.033145904541016,
          22.068431854248047,
          13.257731437683105,
          21.10851287841797,
          13.201410293579102,
          21.5625057220459,
          13.546562194824219,
          20.609514236450195,
          20.757732391357422,
          21.497936248779297,
          12.788104057312012,
          13.021440505981445,
          20.70148468017578,
          20.86768913269043,
          10.434447288513184,
          9.827969551086426,
          9.618099212646484,
          13.27177906036377,
          13.103578567504883,
          22.1962833404541,
          22.18842124938965,
          22.158370971679688,
          22.014272689819336,
          11.05753231048584,
          10.903938293457031,
          11.158711433410645,
          10.573986053466797,
          10.751070022583008,
          22.339187622070312,
          22.26138687133789,
          22.367441177368164,
          22.27816390991211,
          -10.32013988494873,
          -9.496857643127441,
          -9.632330894470215,
          14.72468376159668,
          -9.906230926513672
         ],
         "xaxis": "x",
         "y": [
          19.03059959411621,
          18.461769104003906,
          17.88747215270996,
          18.232561111450195,
          16.730741500854492,
          30.803157806396484,
          20.075437545776367,
          -1.1581389904022217,
          18.863903045654297,
          19.04153823852539,
          16.873085021972656,
          14.71909236907959,
          14.32623291015625,
          30.402271270751953,
          14.497347831726074,
          30.523414611816406,
          18.019468307495117,
          15.24044418334961,
          17.5798282623291,
          17.970849990844727,
          16.65534019470215,
          17.505067825317383,
          -1.2618083953857422,
          -0.9192218780517578,
          -1.1104830503463745,
          -1.1480967998504639,
          19.049184799194336,
          15.348651885986328,
          18.47402000427246,
          18.441696166992188,
          18.43539047241211,
          17.936344146728516,
          17.953020095825195,
          17.929336547851562,
          30.233110427856445,
          15.256256103515625,
          14.63990306854248,
          14.944079399108887,
          14.7941312789917,
          5.765178680419922,
          29.5234432220459,
          30.09341049194336,
          29.657926559448242,
          4.554080009460449,
          5.332999229431152,
          23.72718620300293,
          23.79770278930664,
          29.210641860961914,
          5.899338245391846,
          29.151874542236328,
          4.6457600593566895,
          28.693471908569336,
          5.829862594604492,
          30.623231887817383,
          30.840557098388672,
          28.913372039794922,
          5.980823040008545,
          6.35862922668457,
          8.634636878967285,
          8.786152839660645,
          -7.981957912445068,
          -7.563314437866211,
          -7.364509105682373,
          5.651424407958984,
          5.430181503295898,
          24.322282791137695,
          24.263395309448242,
          24.24928855895996,
          24.109346389770508,
          -7.445624351501465,
          -7.343810558319092,
          -7.2436017990112305,
          -7.243734359741211,
          -7.302308559417725,
          27.127323150634766,
          27.061405181884766,
          27.16850471496582,
          27.062585830688477,
          9.992959976196289,
          9.565864562988281,
          9.688041687011719,
          4.548526287078857,
          9.977093696594238
         ],
         "yaxis": "y"
        },
        {
         "hovertemplate": "class=april_KARH<br>UMAP Component 1=%{x}<br>UMAP Component 2=%{y}<extra></extra>",
         "legendgroup": "april_KARH",
         "marker": {
          "color": "#EF553B",
          "symbol": "circle"
         },
         "mode": "markers",
         "name": "april_KARH",
         "orientation": "v",
         "showlegend": true,
         "type": "scatter",
         "x": [
          16.37872314453125,
          14.323333740234375,
          16.46333122253418,
          16.178518295288086,
          20.83111572265625,
          9.761249542236328,
          9.72916316986084,
          -5.112295150756836,
          13.201117515563965,
          13.390859603881836,
          14.39590835571289,
          14.096503257751465,
          20.474388122558594,
          16.003318786621094,
          14.31942081451416,
          20.922067642211914,
          15.811848640441895,
          20.72201919555664,
          15.953940391540527,
          20.882474899291992,
          16.50087547302246,
          21.108482360839844,
          -5.462331295013428,
          -5.280633926391602,
          -5.592105388641357,
          -5.892420291900635,
          16.41535758972168,
          15.489158630371094,
          12.985929489135742,
          13.507810592651367,
          17.686092376708984,
          16.971338272094727,
          17.02069854736328,
          16.991641998291016,
          20.887649536132812,
          15.626981735229492,
          16.32793617248535,
          15.64560317993164,
          16.351985931396484,
          12.988825798034668,
          12.973747253417969,
          13.09045124053955,
          14.423012733459473,
          21.50486946105957,
          13.50993824005127,
          13.378315925598145,
          13.553387641906738,
          22.01706886291504,
          22.089685440063477,
          21.114595413208008,
          13.308707237243652,
          21.604978561401367,
          13.199973106384277,
          20.623943328857422,
          13.0972318649292,
          20.589218139648438,
          20.81477165222168,
          20.871553421020508,
          20.785947799682617,
          14.691476821899414,
          10.48307991027832,
          9.85294246673584,
          10.534729957580566,
          13.213078498840332,
          10.518957138061523,
          22.198427200317383,
          14.395992279052734,
          14.009489059448242,
          14.978248596191406,
          10.793506622314453,
          14.946426391601562,
          10.933372497558594,
          10.21901798248291,
          22.138710021972656,
          13.349869728088379,
          13.234724998474121,
          13.294710159301758,
          21.695114135742188,
          -10.262310981750488,
          -10.310714721679688,
          -10.244698524475098,
          -10.180377960205078,
          -10.144184112548828
         ],
         "xaxis": "x",
         "y": [
          18.746793746948242,
          16.63164520263672,
          18.880937576293945,
          18.59012794494629,
          30.543893814086914,
          20.097658157348633,
          20.065885543823242,
          -0.8168787360191345,
          18.857362747192383,
          19.109355926513672,
          16.69341278076172,
          14.517274856567383,
          30.18471908569336,
          17.50008201599121,
          16.380109786987305,
          29.975271224975586,
          17.919055938720703,
          29.62323760986328,
          17.51688575744629,
          30.008419036865234,
          18.58196449279785,
          29.699047088623047,
          -1.2236305475234985,
          -0.9652526378631592,
          -1.1545497179031372,
          -1.1245001554489136,
          18.757917404174805,
          15.319580078125,
          18.498586654663086,
          18.48427391052246,
          25.335796356201172,
          17.936201095581055,
          17.920053482055664,
          17.95567512512207,
          30.916383743286133,
          15.243258476257324,
          14.775104522705078,
          15.280842781066895,
          14.747947692871094,
          5.806992053985596,
          5.898738861083984,
          5.905872344970703,
          4.7038493156433105,
          28.801725387573242,
          6.2287702560424805,
          6.080140590667725,
          6.14971923828125,
          29.17856788635254,
          29.29463005065918,
          29.153491973876953,
          4.6053290367126465,
          28.71172332763672,
          6.146703720092773,
          30.654178619384766,
          6.056502819061279,
          8.528969764709473,
          8.737412452697754,
          8.768290519714355,
          8.739293098449707,
          4.439521312713623,
          -8.127849578857422,
          -7.568431854248047,
          -8.085433959960938,
          5.569346904754639,
          -8.090136528015137,
          24.289278030395508,
          4.7446746826171875,
          5.000870704650879,
          4.5299530029296875,
          -7.385251998901367,
          4.569283485412598,
          -7.175833702087402,
          -7.125961780548096,
          27.41866683959961,
          6.104900360107422,
          6.336846351623535,
          6.1663432121276855,
          28.660961151123047,
          9.961870193481445,
          9.998810768127441,
          9.899574279785156,
          9.91419506072998,
          9.929744720458984
         ],
         "yaxis": "y"
        },
        {
         "hovertemplate": "class=april_RW<br>UMAP Component 1=%{x}<br>UMAP Component 2=%{y}<extra></extra>",
         "legendgroup": "april_RW",
         "marker": {
          "color": "#00cc96",
          "symbol": "circle"
         },
         "mode": "markers",
         "name": "april_RW",
         "orientation": "v",
         "showlegend": true,
         "type": "scatter",
         "x": [
          16.646543502807617,
          14.414690971374512,
          16.023666381835938,
          14.259886741638184,
          21.35296630859375,
          9.755906105041504,
          9.725183486938477,
          -5.1568284034729,
          13.223600387573242,
          20.876131057739258,
          14.33609390258789,
          14.262130737304688,
          20.397418975830078,
          14.064615249633789,
          14.04338264465332,
          16.44881248474121,
          15.783184051513672,
          16.438188552856445,
          15.963793754577637,
          15.78614330291748,
          14.487183570861816,
          20.86131477355957,
          -5.311849594116211,
          -5.343250751495361,
          -5.462532997131348,
          -5.988216400146484,
          21.28942108154297,
          21.169780731201172,
          13.017969131469727,
          12.931109428405762,
          17.62862205505371,
          17.611600875854492,
          17.58450698852539,
          17.55583381652832,
          20.888826370239258,
          20.958003997802734,
          20.762561798095703,
          21.212480545043945,
          20.612018585205078,
          13.19428539276123,
          12.874797821044922,
          21.201011657714844,
          13.326345443725586,
          14.905634880065918,
          14.730864524841309,
          22.056119918823242,
          22.02196502685547,
          13.836251258850098,
          14.571493148803711,
          21.060832977294922,
          13.237082481384277,
          21.75376319885254,
          13.08012866973877,
          20.73086929321289,
          12.948355674743652,
          12.902108192443848,
          12.838438034057617,
          14.770607948303223,
          20.685157775878906,
          11.041950225830078,
          9.895832061767578,
          9.871575355529785,
          9.935833930969238,
          13.227582931518555,
          14.240236282348633,
          22.16253089904785,
          14.30470085144043,
          14.059358596801758,
          15.056119918823242,
          10.429328918457031,
          14.828932762145996,
          10.577428817749023,
          13.539719581604004,
          22.210803985595703,
          13.558242797851562,
          13.397924423217773,
          13.171282768249512,
          20.800230026245117,
          -9.494149208068848,
          12.791801452636719,
          -9.686628341674805,
          -9.651126861572266,
          -9.85809326171875
         ],
         "xaxis": "x",
         "y": [
          19.112627029418945,
          16.631452560424805,
          17.65055274963379,
          16.68852424621582,
          30.76893424987793,
          20.09237289428711,
          20.062192916870117,
          -0.868924617767334,
          18.880779266357422,
          30.548234939575195,
          16.87856674194336,
          14.706600189208984,
          30.16907501220703,
          14.480522155761719,
          14.45975112915039,
          18.697145462036133,
          17.97541046142578,
          18.443988800048828,
          17.469593048095703,
          17.935882568359375,
          16.772083282470703,
          30.662221908569336,
          -0.9932305216789246,
          -1.0240222215652466,
          -0.9454209804534912,
          -1.0974400043487549,
          30.626989364624023,
          30.500423431396484,
          18.497770309448242,
          18.40004539489746,
          25.411781311035156,
          25.411415100097656,
          25.424171447753906,
          25.458173751831055,
          30.822301864624023,
          30.805377960205078,
          30.562747955322266,
          30.61054801940918,
          30.90580177307129,
          6.121830463409424,
          6.000599384307861,
          31.02736473083496,
          6.302347183227539,
          4.460888862609863,
          4.393828392028809,
          23.826723098754883,
          23.780031204223633,
          5.419179916381836,
          4.559887886047363,
          29.157398223876953,
          4.639976978302002,
          28.313766479492188,
          5.784708499908447,
          30.560562133789062,
          5.920844078063965,
          6.499429225921631,
          6.276403903961182,
          4.452371597290039,
          8.607817649841309,
          -7.254044055938721,
          -7.520165920257568,
          -7.545673370361328,
          -7.564447402954102,
          5.552274227142334,
          5.971521854400635,
          24.266708374023438,
          4.821252346038818,
          4.968715190887451,
          4.621899604797363,
          -7.289222240447998,
          4.491779327392578,
          -7.205827236175537,
          6.244202613830566,
          27.19605255126953,
          6.050201892852783,
          6.240965366363525,
          6.1306376457214355,
          30.978715896606445,
          9.564300537109375,
          6.202910423278809,
          9.7570219039917,
          9.702409744262695,
          9.954776763916016
         ],
         "yaxis": "y"
        },
        {
         "hovertemplate": "class=april_KAXAL<br>UMAP Component 1=%{x}<br>UMAP Component 2=%{y}<extra></extra>",
         "legendgroup": "april_KAXAL",
         "marker": {
          "color": "#ab63fa",
          "symbol": "circle"
         },
         "mode": "markers",
         "name": "april_KAXAL",
         "orientation": "v",
         "showlegend": true,
         "type": "scatter",
         "x": [
          16.54327392578125,
          16.193082809448242,
          16.047697067260742,
          14.343907356262207,
          20.631460189819336,
          9.696183204650879,
          20.926267623901367,
          -5.093214511871338,
          13.426786422729492,
          16.659442901611328,
          20.85845184326172,
          14.206499099731445,
          16.371292114257812,
          16.126447677612305,
          15.209235191345215,
          16.3673038482666,
          20.753740310668945,
          16.462865829467773,
          20.90826416015625,
          15.780753135681152,
          20.9183349609375,
          -6.035958766937256,
          -5.200067520141602,
          -5.259957790374756,
          -5.517134666442871,
          -5.907934188842773,
          15.85935115814209,
          13.403634071350098,
          13.209192276000977,
          13.699472427368164,
          17.669729232788086,
          15.42733383178711,
          16.049964904785156,
          16.1368465423584,
          15.53422737121582,
          16.36434555053711,
          16.4803409576416,
          16.406696319580078,
          16.3881778717041,
          13.371626853942871,
          15.005301475524902,
          13.103687286376953,
          20.610185623168945,
          21.87626075744629,
          21.92730712890625,
          13.499754905700684,
          14.585282325744629,
          21.995012283325195,
          22.11622428894043,
          21.345325469970703,
          21.33196449279785,
          21.291183471679688,
          14.886269569396973,
          20.6040096282959,
          20.64634895324707,
          20.80288314819336,
          20.785593032836914,
          20.827808380126953,
          20.713441848754883,
          10.709254264831543,
          9.850125312805176,
          10.501907348632812,
          9.991778373718262,
          10.474897384643555,
          14.2037992477417,
          22.186006546020508,
          22.127628326416016,
          22.17119598388672,
          11.099018096923828,
          10.94378662109375,
          20.695341110229492,
          10.491461753845215,
          10.717272758483887,
          22.248449325561523,
          22.282337188720703,
          22.21088218688965,
          22.232929229736328,
          -10.252901077270508,
          -9.503937721252441,
          12.78235149383545,
          -9.700526237487793,
          -9.576051712036133,
          -9.924850463867188
         ],
         "xaxis": "x",
         "y": [
          18.962406158447266,
          18.05278778076172,
          17.90009307861328,
          16.78775405883789,
          30.587255477905273,
          20.032730102539062,
          30.57842445373535,
          -0.8088293075561523,
          19.02887725830078,
          19.123611450195312,
          30.57514762878418,
          14.621859550476074,
          18.119396209716797,
          17.753019332885742,
          15.182665824890137,
          18.501792907714844,
          29.650455474853516,
          18.45742416381836,
          30.34932518005371,
          17.913105010986328,
          29.940900802612305,
          -1.1707514524459839,
          -0.9293681979179382,
          -0.989095151424408,
          -1.2991447448730469,
          -1.1819292306900024,
          18.27139663696289,
          19.14544677734375,
          18.480213165283203,
          18.422801971435547,
          25.34555435180664,
          15.310153007507324,
          18.339872360229492,
          18.37457847595215,
          15.297798156738281,
          14.706620216369629,
          14.617670059204102,
          14.689912796020508,
          14.710725784301758,
          5.975351810455322,
          4.668452262878418,
          5.650088310241699,
          30.869190216064453,
          29.756454467773438,
          29.661869049072266,
          6.06695032119751,
          4.588972568511963,
          23.72882080078125,
          29.28868865966797,
          29.44753074645996,
          29.598676681518555,
          29.634212493896484,
          4.525808334350586,
          30.79425621032715,
          30.8553524017334,
          8.7279691696167,
          8.727359771728516,
          8.754766464233398,
          8.589494705200195,
          -7.851477146148682,
          -7.461360931396484,
          -7.988152503967285,
          -7.4426727294921875,
          -8.021402359008789,
          5.986571788787842,
          24.237850189208984,
          24.17520523071289,
          24.235498428344727,
          -7.429661273956299,
          -7.445736408233643,
          30.79931640625,
          -7.245954513549805,
          -7.314611434936523,
          27.20986557006836,
          27.08356285095215,
          27.005996704101562,
          27.142738342285156,
          10.02430248260498,
          9.572754859924316,
          6.2641096115112305,
          9.742203712463379,
          9.624565124511719,
          10.01988697052002
         ],
         "yaxis": "y"
        },
        {
         "hovertemplate": "class=april_KARB<br>UMAP Component 1=%{x}<br>UMAP Component 2=%{y}<extra></extra>",
         "legendgroup": "april_KARB",
         "marker": {
          "color": "#FFA15A",
          "symbol": "circle"
         },
         "mode": "markers",
         "name": "april_KARB",
         "orientation": "v",
         "showlegend": true,
         "type": "scatter",
         "x": [
          16.737539291381836,
          20.58370018005371,
          16.570261001586914,
          14.27818775177002,
          20.805133819580078,
          9.73416519165039,
          20.96363639831543,
          -5.13257360458374,
          13.493626594543457,
          16.60285758972168,
          21.181079864501953,
          14.92696475982666,
          20.45180320739746,
          13.982101440429688,
          13.971885681152344,
          16.25347900390625,
          15.269386291503906,
          16.37468719482422,
          16.15868377685547,
          15.759452819824219,
          16.025999069213867,
          -5.907605171203613,
          -5.155245304107666,
          -5.395418167114258,
          -5.589362621307373,
          -5.952437877655029,
          15.745370864868164,
          13.07211971282959,
          13.349288940429688,
          13.737323760986328,
          17.59231948852539,
          15.458305358886719,
          16.068355560302734,
          16.902719497680664,
          15.641335487365723,
          16.35637664794922,
          16.426006317138672,
          16.42094612121582,
          16.41020393371582,
          13.03725814819336,
          13.638116836547852,
          21.234708786010742,
          13.269289016723633,
          13.587861061096191,
          20.968534469604492,
          22.03898048400879,
          22.049753189086914,
          13.258533477783203,
          13.530141830444336,
          13.238137245178223,
          21.71429443359375,
          20.986665725708008,
          13.569039344787598,
          20.888431549072266,
          21.17805290222168,
          14.742547035217285,
          10.577807426452637,
          20.680587768554688,
          20.93559455871582,
          10.709433555603027,
          9.86244010925293,
          9.645663261413574,
          9.910882949829102,
          13.211647033691406,
          14.140810012817383,
          15.02735710144043,
          13.993412017822266,
          13.965081214904785,
          10.977336883544922,
          13.432948112487793,
          12.65677547454834,
          10.290536880493164,
          10.175588607788086,
          22.272775650024414,
          14.141528129577637,
          13.627297401428223,
          13.66071891784668,
          -10.330294609069824,
          -10.350793838500977,
          -10.314831733703613,
          -10.264620780944824,
          -10.179784774780273,
          -10.106165885925293
         ],
         "xaxis": "x",
         "y": [
          19.236249923706055,
          30.446998596191406,
          19.023311614990234,
          16.73959732055664,
          30.65906524658203,
          20.070695877075195,
          30.6453914642334,
          -0.8393060564994812,
          19.02781867980957,
          18.8111572265625,
          30.63182258605957,
          15.02176284790039,
          30.39509391784668,
          14.397465705871582,
          14.386246681213379,
          18.251338958740234,
          15.214801788330078,
          18.281103134155273,
          18.040468215942383,
          17.949851989746094,
          17.51179313659668,
          -1.0264068841934204,
          -0.8529277443885803,
          -1.0697507858276367,
          -1.2707493305206299,
          -1.132469654083252,
          18.234769821166992,
          18.559101104736328,
          18.44875717163086,
          18.386131286621094,
          25.419811248779297,
          15.340838432312012,
          18.34925651550293,
          17.883115768432617,
          15.340185165405273,
          14.746936798095703,
          14.67276382446289,
          14.676846504211426,
          14.711143493652344,
          5.987055778503418,
          5.929577350616455,
          31.06097412109375,
          5.316445827484131,
          5.568375587463379,
          30.434236526489258,
          23.80829620361328,
          23.83360481262207,
          5.356423377990723,
          6.2142438888549805,
          4.668022155761719,
          28.462892532348633,
          30.39468002319336,
          6.318580627441406,
          31.11100959777832,
          28.916980743408203,
          4.441256046295166,
          -7.415464401245117,
          8.596409797668457,
          8.85877799987793,
          -7.889408111572266,
          -7.490597248077393,
          -7.363382339477539,
          -7.567927360534668,
          5.525694847106934,
          6.035246849060059,
          4.561418056488037,
          5.025716781616211,
          5.058897972106934,
          -7.409919261932373,
          6.303163528442383,
          6.366288185119629,
          -7.142342567443848,
          -7.085792541503906,
          27.113439559936523,
          6.034130573272705,
          5.443178653717041,
          5.891676902770996,
          9.99294376373291,
          9.975435256958008,
          9.876980781555176,
          9.955141067504883,
          9.895286560058594,
          9.83283519744873
         ],
         "yaxis": "y"
        },
        {
         "hovertemplate": "class=april_KAMG<br>UMAP Component 1=%{x}<br>UMAP Component 2=%{y}<extra></extra>",
         "legendgroup": "april_KAMG",
         "marker": {
          "color": "#19d3f3",
          "symbol": "circle"
         },
         "mode": "markers",
         "name": "april_KAMG",
         "orientation": "v",
         "showlegend": true,
         "type": "scatter",
         "x": [
          15.860608100891113,
          16.317480087280273,
          16.07975959777832,
          14.261557579040527,
          21.34418296813965,
          9.712401390075684,
          16.738941192626953,
          13.373453140258789,
          13.453906059265137,
          14.297282218933105,
          14.042742729187012,
          14.026481628417969,
          15.150023460388184,
          14.141800880432129,
          20.955425262451172,
          20.72541046142578,
          15.24183464050293,
          20.692371368408203,
          16.074512481689453,
          20.93782615661621,
          16.006284713745117,
          -5.937222480773926,
          -5.236189842224121,
          -5.379250526428223,
          -5.979259967803955,
          -5.972076416015625,
          21.20265769958496,
          13.04793643951416,
          12.996586799621582,
          12.921761512756348,
          17.582908630371094,
          17.625791549682617,
          17.60789680480957,
          17.5771427154541,
          20.687137603759766,
          20.818796157836914,
          20.4128360748291,
          20.791563034057617,
          20.770179748535156,
          14.964698791503906,
          13.49540901184082,
          14.231343269348145,
          14.276905059814453,
          13.45082950592041,
          22.061237335205078,
          13.221558570861816,
          20.492223739624023,
          21.942405700683594,
          22.124595642089844,
          13.231712341308594,
          21.579313278198242,
          13.592630386352539,
          20.712678909301758,
          20.85318946838379,
          21.08563232421875,
          20.709613800048828,
          20.7574462890625,
          20.753395080566406,
          10.482765197753906,
          10.299362182617188,
          10.503552436828613,
          9.671943664550781,
          10.465459823608398,
          13.062055587768555,
          10.638076782226562,
          14.99509048461914,
          14.015067100524902,
          13.905738830566406,
          11.097055435180664,
          10.661661148071289,
          11.212579727172852,
          10.248632431030273,
          10.162066459655762,
          22.301097869873047,
          14.857152938842773,
          13.622443199157715,
          13.459680557250977,
          -10.337272644042969,
          -9.431604385375977,
          -9.639933586120605,
          14.61359977722168,
          -9.873427391052246
         ],
         "xaxis": "x",
         "y": [
          15.573305130004883,
          17.438373565673828,
          18.325788497924805,
          16.80590057373047,
          30.62087631225586,
          20.04901123046875,
          19.243305206298828,
          19.130083084106445,
          19.110610961914062,
          16.896921157836914,
          14.456544876098633,
          14.4382905960083,
          15.14522647857666,
          14.591833114624023,
          30.43265724182129,
          29.64152717590332,
          15.184414863586426,
          29.620744705200195,
          17.91175651550293,
          29.916627883911133,
          17.583396911621094,
          -1.218766212463379,
          -0.9128185510635376,
          -0.9939893484115601,
          -1.065476417541504,
          -1.0500832796096802,
          30.61064338684082,
          18.537765502929688,
          18.486492156982422,
          18.42432975769043,
          25.409130096435547,
          25.445968627929688,
          25.4090518951416,
          25.434755325317383,
          30.755474090576172,
          31.0588321685791,
          30.780519485473633,
          30.84428596496582,
          30.59678077697754,
          4.649538516998291,
          5.8923187255859375,
          5.985733509063721,
          5.851412296295166,
          5.6471452713012695,
          23.865585327148438,
          5.353715896606445,
          30.764680862426758,
          23.68625259399414,
          29.348249435424805,
          4.712172508239746,
          28.699264526367188,
          6.193485736846924,
          30.978618621826172,
          31.09132194519043,
          28.982311248779297,
          8.638694763183594,
          8.670164108276367,
          8.714460372924805,
          -7.68237829208374,
          -7.865756034851074,
          -7.944309711456299,
          -7.390623092651367,
          -7.885416507720947,
          5.538580894470215,
          -8.002299308776855,
          4.59602165222168,
          5.015096187591553,
          5.1322221755981445,
          -7.3964738845825195,
          -7.4619140625,
          -7.257940769195557,
          -7.098813056945801,
          -7.14501953125,
          27.155824661254883,
          4.5199971199035645,
          5.458901882171631,
          5.733462333679199,
          10.032451629638672,
          9.496077537536621,
          9.765902519226074,
          4.625634670257568,
          9.946459770202637
         ],
         "yaxis": "y"
        }
       ],
       "layout": {
        "legend": {
         "title": {
          "text": "class"
         },
         "tracegroupgap": 0
        },
        "template": {
         "data": {
          "bar": [
           {
            "error_x": {
             "color": "#2a3f5f"
            },
            "error_y": {
             "color": "#2a3f5f"
            },
            "marker": {
             "line": {
              "color": "#E5ECF6",
              "width": 0.5
             },
             "pattern": {
              "fillmode": "overlay",
              "size": 10,
              "solidity": 0.2
             }
            },
            "type": "bar"
           }
          ],
          "barpolar": [
           {
            "marker": {
             "line": {
              "color": "#E5ECF6",
              "width": 0.5
             },
             "pattern": {
              "fillmode": "overlay",
              "size": 10,
              "solidity": 0.2
             }
            },
            "type": "barpolar"
           }
          ],
          "carpet": [
           {
            "aaxis": {
             "endlinecolor": "#2a3f5f",
             "gridcolor": "white",
             "linecolor": "white",
             "minorgridcolor": "white",
             "startlinecolor": "#2a3f5f"
            },
            "baxis": {
             "endlinecolor": "#2a3f5f",
             "gridcolor": "white",
             "linecolor": "white",
             "minorgridcolor": "white",
             "startlinecolor": "#2a3f5f"
            },
            "type": "carpet"
           }
          ],
          "choropleth": [
           {
            "colorbar": {
             "outlinewidth": 0,
             "ticks": ""
            },
            "type": "choropleth"
           }
          ],
          "contour": [
           {
            "colorbar": {
             "outlinewidth": 0,
             "ticks": ""
            },
            "colorscale": [
             [
              0,
              "#0d0887"
             ],
             [
              0.1111111111111111,
              "#46039f"
             ],
             [
              0.2222222222222222,
              "#7201a8"
             ],
             [
              0.3333333333333333,
              "#9c179e"
             ],
             [
              0.4444444444444444,
              "#bd3786"
             ],
             [
              0.5555555555555556,
              "#d8576b"
             ],
             [
              0.6666666666666666,
              "#ed7953"
             ],
             [
              0.7777777777777778,
              "#fb9f3a"
             ],
             [
              0.8888888888888888,
              "#fdca26"
             ],
             [
              1,
              "#f0f921"
             ]
            ],
            "type": "contour"
           }
          ],
          "contourcarpet": [
           {
            "colorbar": {
             "outlinewidth": 0,
             "ticks": ""
            },
            "type": "contourcarpet"
           }
          ],
          "heatmap": [
           {
            "colorbar": {
             "outlinewidth": 0,
             "ticks": ""
            },
            "colorscale": [
             [
              0,
              "#0d0887"
             ],
             [
              0.1111111111111111,
              "#46039f"
             ],
             [
              0.2222222222222222,
              "#7201a8"
             ],
             [
              0.3333333333333333,
              "#9c179e"
             ],
             [
              0.4444444444444444,
              "#bd3786"
             ],
             [
              0.5555555555555556,
              "#d8576b"
             ],
             [
              0.6666666666666666,
              "#ed7953"
             ],
             [
              0.7777777777777778,
              "#fb9f3a"
             ],
             [
              0.8888888888888888,
              "#fdca26"
             ],
             [
              1,
              "#f0f921"
             ]
            ],
            "type": "heatmap"
           }
          ],
          "heatmapgl": [
           {
            "colorbar": {
             "outlinewidth": 0,
             "ticks": ""
            },
            "colorscale": [
             [
              0,
              "#0d0887"
             ],
             [
              0.1111111111111111,
              "#46039f"
             ],
             [
              0.2222222222222222,
              "#7201a8"
             ],
             [
              0.3333333333333333,
              "#9c179e"
             ],
             [
              0.4444444444444444,
              "#bd3786"
             ],
             [
              0.5555555555555556,
              "#d8576b"
             ],
             [
              0.6666666666666666,
              "#ed7953"
             ],
             [
              0.7777777777777778,
              "#fb9f3a"
             ],
             [
              0.8888888888888888,
              "#fdca26"
             ],
             [
              1,
              "#f0f921"
             ]
            ],
            "type": "heatmapgl"
           }
          ],
          "histogram": [
           {
            "marker": {
             "pattern": {
              "fillmode": "overlay",
              "size": 10,
              "solidity": 0.2
             }
            },
            "type": "histogram"
           }
          ],
          "histogram2d": [
           {
            "colorbar": {
             "outlinewidth": 0,
             "ticks": ""
            },
            "colorscale": [
             [
              0,
              "#0d0887"
             ],
             [
              0.1111111111111111,
              "#46039f"
             ],
             [
              0.2222222222222222,
              "#7201a8"
             ],
             [
              0.3333333333333333,
              "#9c179e"
             ],
             [
              0.4444444444444444,
              "#bd3786"
             ],
             [
              0.5555555555555556,
              "#d8576b"
             ],
             [
              0.6666666666666666,
              "#ed7953"
             ],
             [
              0.7777777777777778,
              "#fb9f3a"
             ],
             [
              0.8888888888888888,
              "#fdca26"
             ],
             [
              1,
              "#f0f921"
             ]
            ],
            "type": "histogram2d"
           }
          ],
          "histogram2dcontour": [
           {
            "colorbar": {
             "outlinewidth": 0,
             "ticks": ""
            },
            "colorscale": [
             [
              0,
              "#0d0887"
             ],
             [
              0.1111111111111111,
              "#46039f"
             ],
             [
              0.2222222222222222,
              "#7201a8"
             ],
             [
              0.3333333333333333,
              "#9c179e"
             ],
             [
              0.4444444444444444,
              "#bd3786"
             ],
             [
              0.5555555555555556,
              "#d8576b"
             ],
             [
              0.6666666666666666,
              "#ed7953"
             ],
             [
              0.7777777777777778,
              "#fb9f3a"
             ],
             [
              0.8888888888888888,
              "#fdca26"
             ],
             [
              1,
              "#f0f921"
             ]
            ],
            "type": "histogram2dcontour"
           }
          ],
          "mesh3d": [
           {
            "colorbar": {
             "outlinewidth": 0,
             "ticks": ""
            },
            "type": "mesh3d"
           }
          ],
          "parcoords": [
           {
            "line": {
             "colorbar": {
              "outlinewidth": 0,
              "ticks": ""
             }
            },
            "type": "parcoords"
           }
          ],
          "pie": [
           {
            "automargin": true,
            "type": "pie"
           }
          ],
          "scatter": [
           {
            "fillpattern": {
             "fillmode": "overlay",
             "size": 10,
             "solidity": 0.2
            },
            "type": "scatter"
           }
          ],
          "scatter3d": [
           {
            "line": {
             "colorbar": {
              "outlinewidth": 0,
              "ticks": ""
             }
            },
            "marker": {
             "colorbar": {
              "outlinewidth": 0,
              "ticks": ""
             }
            },
            "type": "scatter3d"
           }
          ],
          "scattercarpet": [
           {
            "marker": {
             "colorbar": {
              "outlinewidth": 0,
              "ticks": ""
             }
            },
            "type": "scattercarpet"
           }
          ],
          "scattergeo": [
           {
            "marker": {
             "colorbar": {
              "outlinewidth": 0,
              "ticks": ""
             }
            },
            "type": "scattergeo"
           }
          ],
          "scattergl": [
           {
            "marker": {
             "colorbar": {
              "outlinewidth": 0,
              "ticks": ""
             }
            },
            "type": "scattergl"
           }
          ],
          "scattermapbox": [
           {
            "marker": {
             "colorbar": {
              "outlinewidth": 0,
              "ticks": ""
             }
            },
            "type": "scattermapbox"
           }
          ],
          "scatterpolar": [
           {
            "marker": {
             "colorbar": {
              "outlinewidth": 0,
              "ticks": ""
             }
            },
            "type": "scatterpolar"
           }
          ],
          "scatterpolargl": [
           {
            "marker": {
             "colorbar": {
              "outlinewidth": 0,
              "ticks": ""
             }
            },
            "type": "scatterpolargl"
           }
          ],
          "scatterternary": [
           {
            "marker": {
             "colorbar": {
              "outlinewidth": 0,
              "ticks": ""
             }
            },
            "type": "scatterternary"
           }
          ],
          "surface": [
           {
            "colorbar": {
             "outlinewidth": 0,
             "ticks": ""
            },
            "colorscale": [
             [
              0,
              "#0d0887"
             ],
             [
              0.1111111111111111,
              "#46039f"
             ],
             [
              0.2222222222222222,
              "#7201a8"
             ],
             [
              0.3333333333333333,
              "#9c179e"
             ],
             [
              0.4444444444444444,
              "#bd3786"
             ],
             [
              0.5555555555555556,
              "#d8576b"
             ],
             [
              0.6666666666666666,
              "#ed7953"
             ],
             [
              0.7777777777777778,
              "#fb9f3a"
             ],
             [
              0.8888888888888888,
              "#fdca26"
             ],
             [
              1,
              "#f0f921"
             ]
            ],
            "type": "surface"
           }
          ],
          "table": [
           {
            "cells": {
             "fill": {
              "color": "#EBF0F8"
             },
             "line": {
              "color": "white"
             }
            },
            "header": {
             "fill": {
              "color": "#C8D4E3"
             },
             "line": {
              "color": "white"
             }
            },
            "type": "table"
           }
          ]
         },
         "layout": {
          "annotationdefaults": {
           "arrowcolor": "#2a3f5f",
           "arrowhead": 0,
           "arrowwidth": 1
          },
          "autotypenumbers": "strict",
          "coloraxis": {
           "colorbar": {
            "outlinewidth": 0,
            "ticks": ""
           }
          },
          "colorscale": {
           "diverging": [
            [
             0,
             "#8e0152"
            ],
            [
             0.1,
             "#c51b7d"
            ],
            [
             0.2,
             "#de77ae"
            ],
            [
             0.3,
             "#f1b6da"
            ],
            [
             0.4,
             "#fde0ef"
            ],
            [
             0.5,
             "#f7f7f7"
            ],
            [
             0.6,
             "#e6f5d0"
            ],
            [
             0.7,
             "#b8e186"
            ],
            [
             0.8,
             "#7fbc41"
            ],
            [
             0.9,
             "#4d9221"
            ],
            [
             1,
             "#276419"
            ]
           ],
           "sequential": [
            [
             0,
             "#0d0887"
            ],
            [
             0.1111111111111111,
             "#46039f"
            ],
            [
             0.2222222222222222,
             "#7201a8"
            ],
            [
             0.3333333333333333,
             "#9c179e"
            ],
            [
             0.4444444444444444,
             "#bd3786"
            ],
            [
             0.5555555555555556,
             "#d8576b"
            ],
            [
             0.6666666666666666,
             "#ed7953"
            ],
            [
             0.7777777777777778,
             "#fb9f3a"
            ],
            [
             0.8888888888888888,
             "#fdca26"
            ],
            [
             1,
             "#f0f921"
            ]
           ],
           "sequentialminus": [
            [
             0,
             "#0d0887"
            ],
            [
             0.1111111111111111,
             "#46039f"
            ],
            [
             0.2222222222222222,
             "#7201a8"
            ],
            [
             0.3333333333333333,
             "#9c179e"
            ],
            [
             0.4444444444444444,
             "#bd3786"
            ],
            [
             0.5555555555555556,
             "#d8576b"
            ],
            [
             0.6666666666666666,
             "#ed7953"
            ],
            [
             0.7777777777777778,
             "#fb9f3a"
            ],
            [
             0.8888888888888888,
             "#fdca26"
            ],
            [
             1,
             "#f0f921"
            ]
           ]
          },
          "colorway": [
           "#636efa",
           "#EF553B",
           "#00cc96",
           "#ab63fa",
           "#FFA15A",
           "#19d3f3",
           "#FF6692",
           "#B6E880",
           "#FF97FF",
           "#FECB52"
          ],
          "font": {
           "color": "#2a3f5f"
          },
          "geo": {
           "bgcolor": "white",
           "lakecolor": "white",
           "landcolor": "#E5ECF6",
           "showlakes": true,
           "showland": true,
           "subunitcolor": "white"
          },
          "hoverlabel": {
           "align": "left"
          },
          "hovermode": "closest",
          "mapbox": {
           "style": "light"
          },
          "paper_bgcolor": "white",
          "plot_bgcolor": "#E5ECF6",
          "polar": {
           "angularaxis": {
            "gridcolor": "white",
            "linecolor": "white",
            "ticks": ""
           },
           "bgcolor": "#E5ECF6",
           "radialaxis": {
            "gridcolor": "white",
            "linecolor": "white",
            "ticks": ""
           }
          },
          "scene": {
           "xaxis": {
            "backgroundcolor": "#E5ECF6",
            "gridcolor": "white",
            "gridwidth": 2,
            "linecolor": "white",
            "showbackground": true,
            "ticks": "",
            "zerolinecolor": "white"
           },
           "yaxis": {
            "backgroundcolor": "#E5ECF6",
            "gridcolor": "white",
            "gridwidth": 2,
            "linecolor": "white",
            "showbackground": true,
            "ticks": "",
            "zerolinecolor": "white"
           },
           "zaxis": {
            "backgroundcolor": "#E5ECF6",
            "gridcolor": "white",
            "gridwidth": 2,
            "linecolor": "white",
            "showbackground": true,
            "ticks": "",
            "zerolinecolor": "white"
           }
          },
          "shapedefaults": {
           "line": {
            "color": "#2a3f5f"
           }
          },
          "ternary": {
           "aaxis": {
            "gridcolor": "white",
            "linecolor": "white",
            "ticks": ""
           },
           "baxis": {
            "gridcolor": "white",
            "linecolor": "white",
            "ticks": ""
           },
           "bgcolor": "#E5ECF6",
           "caxis": {
            "gridcolor": "white",
            "linecolor": "white",
            "ticks": ""
           }
          },
          "title": {
           "x": 0.05
          },
          "xaxis": {
           "automargin": true,
           "gridcolor": "white",
           "linecolor": "white",
           "ticks": "",
           "title": {
            "standoff": 15
           },
           "zerolinecolor": "white",
           "zerolinewidth": 2
          },
          "yaxis": {
           "automargin": true,
           "gridcolor": "white",
           "linecolor": "white",
           "ticks": "",
           "title": {
            "standoff": 15
           },
           "zerolinecolor": "white",
           "zerolinewidth": 2
          }
         }
        },
        "title": {
         "text": "UMAP Projection"
        },
        "xaxis": {
         "anchor": "y",
         "domain": [
          0,
          1
         ],
         "title": {
          "text": "UMAP Component 1"
         }
        },
        "yaxis": {
         "anchor": "x",
         "domain": [
          0,
          1
         ],
         "title": {
          "text": "UMAP Component 2"
         }
        }
       }
      }
     },
     "metadata": {},
     "output_type": "display_data"
    }
   ],
   "source": [
    "import pandas as pd\n",
    "from src.StreamPort.ml.MachineLearningEngine import MachineLearningEngine\n",
    "from src.StreamPort.ml.MachineLearningProcessingSettings import MakeModelUMAP\n",
    "\n",
    "path = 'groups_ints.csv'\n",
    "class_path = 'groups_classes.csv'\n",
    "df = pd.read_csv(class_path)\n",
    "\n",
    "engine = MachineLearningEngine() \n",
    "engine.add_analyses_from_csv(path)\n",
    "\n",
    "engine.add_month_classes(df, 'april')  \n",
    "\n",
    "umap_model = MakeModelUMAP(n_neighbors=15, min_dist=0.1, n_components=2, random_state=42)\n",
    "engine.add_settings(umap_model)\n",
    "engine.run_workflow()\n",
    "engine.plot_umap() "
   ]
  },
  {
   "cell_type": "markdown",
   "metadata": {},
   "source": [
    "month plot with pca"
   ]
  },
  {
   "cell_type": "code",
   "execution_count": null,
   "metadata": {},
   "outputs": [
    {
     "name": "stdout",
     "output_type": "stream",
     "text": [
      "Structure of the CSV file: {'number_of_rows': 497, 'number_of_columns': 4545}\n",
      "\n",
      "MachineLearningEngine \n",
      "  name: None \n",
      "  author: None \n",
      "  path: None \n",
      "  date: 2024-10-31 03:33:26.503621 \n",
      "  analyses: 497 \n",
      "  settings: 1 \n",
      "\n",
      "Running workflow with settings: MakeModel\n"
     ]
    },
    {
     "data": {
      "application/vnd.plotly.v1+json": {
       "config": {
        "plotlyServerURL": "https://plot.ly"
       },
       "data": [
        {
         "hovertemplate": "class=may_KAKL<br>Principal Component 1=%{x}<br>Principal Component 2=%{y}<extra></extra>",
         "legendgroup": "may_KAKL",
         "marker": {
          "color": "#636efa",
          "symbol": "circle"
         },
         "mode": "markers",
         "name": "may_KAKL",
         "orientation": "v",
         "showlegend": true,
         "type": "scatter",
         "x": [
          -806500.1223492194,
          -847612.2028310898,
          -819082.2116180141,
          -824595.0941983046,
          -868186.3920848892,
          -794051.8595671186,
          -805034.6129334859,
          -967681.5115723064,
          -908060.391299762,
          -965775.8489941304,
          -844571.7309558613,
          -833328.8829607718,
          -955975.7193828045,
          -795374.6539150224,
          -816126.1387996086,
          -795303.6135314584,
          -821297.4368339694,
          -846631.8831214636,
          -829246.074280005,
          -813213.998508282,
          -824954.825963228,
          -818244.9623102617,
          -1056740.5869869147,
          -1127414.4751937396,
          -1080559.61094632,
          -1027847.798747158,
          -802147.3509259076,
          -831527.4146717509,
          -814176.2386284627,
          -832317.3919017066,
          -818889.6860649446,
          -823667.7699505776,
          -816432.8606471765,
          -816306.7801931518,
          -791581.0968192467,
          -828497.696587578,
          -802738.6967172041,
          -818804.841035937,
          -817242.2239463166,
          75912.22996920865,
          -779213.1381885381,
          -795865.7039330084,
          -790797.7967262455,
          1266413.829617122,
          324109.5919523803,
          -798272.8532665325,
          -798131.2952575921,
          -796090.8696479851,
          -191202.61039296183,
          -795469.5267867513,
          442317.996063726,
          -748827.8501302161,
          -192235.50598519685,
          -797793.7576479058,
          -541055.3502315925,
          -774846.3207503547,
          1242168.7747741197,
          -95424.60928038142,
          1004581.3517392908,
          -678139.4173133131,
          3483574.233393336,
          4449484.252169856,
          7170885.390607052,
          59945.89283949886,
          423495.1948053373,
          -720550.9536765836,
          -743697.1943018679,
          -739900.8019954625,
          -772669.4791840013,
          1913896.4359135241,
          2047959.7810479118,
          2291164.027852009,
          3498861.7745653535,
          3233160.9786910918,
          -780203.0415429377,
          -779823.8510103107,
          -780004.223337434,
          -779507.9349135032,
          -189316.93875050035,
          3356041.0315807546,
          1765958.4157255678,
          1244144.1380118348,
          739771.0597395858
         ],
         "xaxis": "x",
         "y": [
          -293490.4027123415,
          -312573.35704895447,
          -296278.7237780333,
          -299933.76155746443,
          -319827.2924902251,
          -285648.8580772911,
          -290075.21284431184,
          -383860.2499868209,
          -345291.79861475807,
          -385718.38072934834,
          -307251.0488873264,
          -304538.09084011655,
          -371525.3656246207,
          -287974.826024387,
          -298596.9054364711,
          -288260.8404638948,
          -298765.59715359495,
          -308536.03222009813,
          -300051.24746503535,
          -294211.4461462019,
          -298900.0215538992,
          -294336.007384947,
          -429151.9377687094,
          -470130.2765420323,
          -441700.56596454425,
          -412797.11997518654,
          -291261.1169380003,
          -301684.11370189104,
          -298861.6481681486,
          -303745.8044693557,
          -300202.77245554887,
          -299696.88181312947,
          -296756.8507414327,
          -294769.7464637592,
          -284062.0694462415,
          -299344.4474816635,
          -281639.62082012434,
          -294265.0154367646,
          -296152.14223464194,
          745544.020725063,
          -214640.06087427426,
          -286974.4962935365,
          -265833.7790566642,
          2170346.188781703,
          1109880.892084196,
          -277846.8258927835,
          -278026.33737673244,
          -290790.4086351482,
          437475.524160521,
          -279281.54915388563,
          1353332.3735281397,
          -315361.0143430499,
          447865.57411517936,
          -287481.97164461133,
          27849.00723996286,
          -334887.0694425634,
          103852.51045920399,
          230960.10946185462,
          -288459.76526672946,
          -360219.45808707265,
          -2952979.0878928415,
          -1325036.0113905934,
          812907.9535896402,
          673809.2155289701,
          949171.9062570953,
          -149674.03996895903,
          -141111.09493316658,
          -136254.24495455285,
          -211770.23721921718,
          -2014346.1846625148,
          -2086504.9713906546,
          -2297897.9417839614,
          -3010402.284131683,
          -2835340.7313077594,
          -291329.1660039875,
          -292292.9988665533,
          -291952.68246411864,
          -291700.86653229524,
          2669916.489962372,
          3765240.564431394,
          2871912.203852631,
          2165555.85405519,
          3818762.856950184
         ],
         "yaxis": "y"
        },
        {
         "hovertemplate": "class=may_KARB<br>Principal Component 1=%{x}<br>Principal Component 2=%{y}<extra></extra>",
         "legendgroup": "may_KARB",
         "marker": {
          "color": "#EF553B",
          "symbol": "circle"
         },
         "mode": "markers",
         "name": "may_KARB",
         "orientation": "v",
         "showlegend": true,
         "type": "scatter",
         "x": [
          -807514.2045277964,
          -889952.2166244965,
          -806271.0922138708,
          -814324.7283774975,
          -795481.2607999153,
          -804181.5088984323,
          -808081.0123562192,
          -1119223.481334458,
          -900904.6176688381,
          -952362.2350110617,
          -859984.5884085961,
          -820671.4582590455,
          -804595.4449394172,
          -895992.021117382,
          -874544.8212078484,
          -795350.6047373835,
          -821064.690466237,
          -791055.0671734862,
          -830056.7566572769,
          -791819.5066792544,
          -804457.8979729908,
          -790758.7411760509,
          -1094283.1769194838,
          -1111972.3546067984,
          -1074570.2964073624,
          -1029430.0958175921,
          -805577.9232380114,
          -831395.6507242701,
          -814740.956140604,
          -831333.678053203,
          -797944.0456746937,
          -826341.1276554705,
          -817101.0686862838,
          -822180.0865721675,
          -791869.4461871233,
          -827042.1293953363,
          -802542.0347097432,
          -824833.1964762376,
          -817021.506068029,
          -192559.63053879663,
          -271997.3557188583,
          308438.34388024756,
          898213.7833270022,
          -790948.8932402949,
          -41872.85570615314,
          -189882.47936769025,
          30208.08661737905,
          -792537.0146907216,
          -796641.1418130589,
          -796168.7172335183,
          1629484.9765265996,
          -774546.5337234064,
          -361231.4915386647,
          -796316.995206786,
          -312475.55137350055,
          -640172.6746300431,
          -680121.0683976306,
          -687950.912899366,
          -690884.9028608918,
          3056692.9648912293,
          3254618.926717964,
          4507877.416016799,
          3283106.249343528,
          137096.4430583691,
          3227729.2286865655,
          -753414.5881747879,
          1695965.565998365,
          649022.0759396813,
          2666802.405440861,
          3351755.499679396,
          2610674.5964152957,
          2856156.323721534,
          3981292.758532656,
          -760972.0840220556,
          -208521.31003752086,
          -202313.84211000134,
          -239368.71914570613,
          -773165.0587403808,
          -204975.39361899951,
          -196272.91457790192,
          -212880.6470646712,
          -215163.21997429666,
          -229709.9826884139
         ],
         "xaxis": "x",
         "y": [
          -293426.8150806785,
          -328657.5317639172,
          -293064.3832425779,
          -296064.2501964501,
          -288303.7020511051,
          -290629.9177799042,
          -291577.7124294057,
          -469636.6618499079,
          -342359.9821006626,
          -374749.0780245028,
          -314274.0721087967,
          -299585.6063703618,
          -289720.9390040075,
          -319650.7592212188,
          -318229.65359039756,
          -288285.2107418658,
          -297722.3698727772,
          -283399.6889516992,
          -301067.2802011819,
          -284432.48985380406,
          -288245.5718443845,
          -282233.9379471627,
          -449195.3930744828,
          -461954.0005301011,
          -438165.6859748904,
          -413369.571666108,
          -292426.81739813264,
          -301802.8489374024,
          -299185.9967197161,
          -302539.7634727864,
          -288853.6426542289,
          -299583.74981823773,
          -297279.30849134823,
          -298500.6080524752,
          -284387.6110481452,
          -297853.4096247852,
          -281328.625570592,
          -297566.4333878619,
          -295123.5308423692,
          465952.71935283206,
          417800.0474749292,
          1082140.4744628398,
          1779444.7812528946,
          -314910.94168515917,
          620853.9937238602,
          445608.43659325986,
          719081.3187684775,
          -292660.95007451443,
          -286527.0060132915,
          -262170.5061133009,
          2761238.622829299,
          -325594.9346809469,
          233612.39288465696,
          -285530.4438211785,
          258365.99028350224,
          -445323.91476203065,
          -370092.1066836883,
          -363693.68865924474,
          -359607.8432047005,
          1940629.384373506,
          -2809243.4502173592,
          -1501557.3100118567,
          -2841426.3432861287,
          783166.9175742511,
          -2795112.0685579893,
          -189745.1893504885,
          2840181.2946328935,
          1548924.0254098368,
          3966795.7130135037,
          -1048877.4673984314,
          1694285.2638215995,
          -2649284.1202192702,
          -1684151.9188028611,
          -330268.6783106091,
          411310.93442075053,
          417209.253286737,
          382847.4968177723,
          -328120.9274182048,
          2580639.7751476252,
          2623277.927739832,
          2513857.210472986,
          2488294.934227367,
          2381280.7187979347
         ],
         "yaxis": "y"
        },
        {
         "hovertemplate": "class=may_KAMG<br>Principal Component 1=%{x}<br>Principal Component 2=%{y}<extra></extra>",
         "legendgroup": "may_KAMG",
         "marker": {
          "color": "#00cc96",
          "symbol": "circle"
         },
         "mode": "markers",
         "name": "may_KAMG",
         "orientation": "v",
         "showlegend": true,
         "type": "scatter",
         "x": [
          -801324.5788586072,
          -856022.0631462231,
          -848573.4969898935,
          -845542.9283407456,
          -795140.0716262236,
          -803603.2351050071,
          -805361.2416853227,
          -1218678.387173614,
          -907941.7740994585,
          -795303.4838435914,
          -845473.3555102808,
          -843719.458445216,
          -800188.5975430361,
          -809488.8623193034,
          -813918.8683353034,
          -806071.9939007792,
          -820920.1590077486,
          -809784.6951974105,
          -829456.1686966731,
          -816586.7844779245,
          -823282.5431586939,
          -794266.4175832461,
          -1158577.4177796238,
          -1097810.6618442456,
          -1061257.828731891,
          -1007491.526978614,
          -795490.8860180938,
          -795728.9755647074,
          -814817.1526160587,
          -816057.9105884345,
          -798185.4268375721,
          -799975.9593798567,
          -798106.7637976861,
          -797989.2335938803,
          -791886.8490748494,
          -791882.303360108,
          -792351.4507674155,
          -792268.3046739368,
          -791729.259591429,
          -107665.84355674578,
          -103840.4458490427,
          -792774.3449669386,
          -126667.14601676099,
          1945972.3643278207,
          1458880.8055066324,
          -797749.4043050185,
          -798068.2130901526,
          670915.7308943527,
          1082231.4102922634,
          -796922.7771948802,
          -64282.35987771905,
          -704029.7695618639,
          -212963.17563292428,
          -794767.5223063004,
          -98346.8749414401,
          -180184.1700252489,
          1567114.7368611498,
          2205826.84132831,
          -692521.465781946,
          2565022.7795594246,
          4168613.2558203847,
          4622997.3004446365,
          4532595.503770046,
          60661.31875183245,
          224240.1429362689,
          -731102.8635224426,
          1643740.4922978044,
          641948.2602218873,
          2696120.5270909583,
          3611747.7541889786,
          2638804.2990964353,
          3399227.5518148695,
          493644.1030878198,
          -777577.0366521751,
          -196106.0784526616,
          -203430.1131449456,
          -274283.2779718599,
          -789914.0008139834,
          3407037.442290995,
          1049547.2157903514,
          1674555.1987239404,
          1984844.6768021665,
          1253864.0980771396
         ],
         "xaxis": "x",
         "y": [
          -290985.6694886846,
          -314036.27612195123,
          -308007.3459347074,
          -310620.38682824495,
          -288124.9976112602,
          -290114.12712697743,
          -289897.63600272074,
          -523577.05038510467,
          -345483.0761213716,
          -288261.1549724734,
          -306664.53940757934,
          -308384.04409232084,
          -288322.16350804147,
          -295279.5395325856,
          -297500.07480574877,
          -293119.600543612,
          -297794.77610880835,
          -294010.9876108421,
          -299835.37017344765,
          -295915.01397302176,
          -298183.2395924392,
          -284901.9799018834,
          -492632.1467841119,
          -458418.554309577,
          -438115.83669416764,
          -407964.5593259734,
          -288285.54019152676,
          -288234.62476974365,
          -299222.42160176684,
          -299926.8350679718,
          -289087.6516041716,
          -289366.6728363639,
          -289211.2756115342,
          -289145.03538473963,
          -284407.25861661334,
          -284402.12658088276,
          -284931.78613806696,
          -284832.07866518875,
          -284229.34273195686,
          537715.3280527616,
          585199.713250311,
          -290254.12957047956,
          512275.34100474697,
          2835016.6509510144,
          2431531.8166294275,
          -277540.3608864033,
          -277357.39525107614,
          1450998.5675611394,
          1965807.4789843897,
          -259884.20968603916,
          738618.5998856286,
          -381807.97537913994,
          439932.4418629357,
          -287882.4688684289,
          519770.1648616971,
          -128758.24336403243,
          -200839.2288527442,
          3200582.3831852605,
          -365728.06274452753,
          -2424993.749075799,
          -853838.8300507629,
          -1498450.5897987334,
          -2089296.124240001,
          688383.7147376586,
          869286.6330423895,
          -223634.68527215312,
          2770227.4942635577,
          1506994.106742483,
          3960826.938299692,
          -1239488.6408358088,
          1723104.310897451,
          -2946666.662667121,
          465976.8433304197,
          -300508.53251300816,
          424924.50257966423,
          416414.97826162324,
          339125.5368444138,
          -98609.00995382897,
          4067313.8289042553,
          -187005.55760341694,
          2193619.1931217634,
          2436484.16472081,
          4406315.170126848
         ],
         "yaxis": "y"
        },
        {
         "hovertemplate": "class=may_RW<br>Principal Component 1=%{x}<br>Principal Component 2=%{y}<extra></extra>",
         "legendgroup": "may_RW",
         "marker": {
          "color": "#ab63fa",
          "symbol": "circle"
         },
         "mode": "markers",
         "name": "may_RW",
         "orientation": "v",
         "showlegend": true,
         "type": "scatter",
         "x": [
          -803371.1787098382,
          -815744.9567460627,
          -831251.7535261543,
          -859362.1848644579,
          -795303.3800698331,
          -805893.4956316456,
          -797437.1977223813,
          -1291948.4221592725,
          -893896.3248845629,
          -802689.1906015725,
          -795317.0673346425,
          -830666.0251991397,
          -821669.0600130471,
          -824711.9616854306,
          -916834.4508275464,
          -806897.8902278973,
          -791325.8192430274,
          -810523.2329830152,
          -795310.7743511416,
          -816964.4665125449,
          -791220.4764609402,
          -931583.8994010702,
          -1164834.2694862406,
          -1105933.6708947823,
          -1076313.5376211766,
          -1018058.4272355015,
          -815314.0933026904,
          -957574.6273530936,
          -824718.7940103748,
          -843846.9258274633,
          -797874.4637058071,
          -849091.3239059313,
          -823558.6351569822,
          -814279.5528314227,
          -826437.854122057,
          -810427.2504408017,
          -809101.0406562001,
          -808612.2624412262,
          -814940.0432955076,
          -191410.38892466566,
          1664977.9487506014,
          140877.19035382278,
          -793572.0276837788,
          -795079.61621563,
          -795933.2477116614,
          -189823.3459451328,
          1324359.2312128872,
          -799198.4838149413,
          -796709.9762767314,
          -774348.8301197399,
          -783275.702445381,
          -788238.0680325469,
          1731177.227185842,
          -794245.7531207803,
          -777351.0820861853,
          -661920.4692718872,
          -688799.3035403703,
          -686335.5892371903,
          -714998.310655581,
          2515580.1815699586,
          4398192.741132968,
          3199363.5825994485,
          4808874.111630533,
          3191426.852854169,
          191494.84783789923,
          -737676.8614731806,
          -770635.8844481194,
          -743888.0359056063,
          1658437.629433484,
          2360241.0164710544,
          -615324.9347866385,
          3572910.684024281,
          3116820.020373235,
          -751180.7017499693,
          -778472.9860584922,
          -778060.888403666,
          -780184.6380624964,
          -232309.0235215411,
          3347797.91829275,
          1009879.130955368,
          1679811.502945993,
          2020781.8980415915,
          1260213.9891899615
         ],
         "xaxis": "x",
         "y": [
          -291522.0594173882,
          -296110.5917094125,
          -300523.8038062297,
          -315738.29535431176,
          -288264.09113109065,
          -291129.77233885095,
          -289439.58888242167,
          -563403.2746845804,
          -351753.3028355289,
          -291761.29917449335,
          -288269.7385930585,
          -303446.29730053723,
          -296687.1700596412,
          -296464.53648780944,
          -332226.4010412545,
          -293206.7457080085,
          -283699.80338838266,
          -294523.3232780744,
          -288267.9222295411,
          -297056.2418921349,
          -283596.30305923754,
          -364548.0128436613,
          -488894.4441620413,
          -460608.91721707874,
          -437278.85276611906,
          -407616.9178714018,
          -295611.28404673905,
          -372676.41698958806,
          -304568.7401782794,
          -310416.2294726271,
          -288895.09645790304,
          -310626.9180431495,
          -299657.5671561963,
          -294993.52476043586,
          -296760.0329037767,
          -293070.3350812449,
          -288107.0207940919,
          -291220.0791899041,
          -294300.7250322483,
          431616.7519428456,
          2643041.514940783,
          892223.490960107,
          -280354.93632510165,
          -285692.82860134507,
          -284896.6126117433,
          447648.23635142157,
          2252962.6560770837,
          -282295.404042289,
          -286468.6138740846,
          -253066.29155381676,
          -258220.22429289194,
          -278301.8789341807,
          2758794.1168647646,
          -287761.6452688223,
          -297498.94180034805,
          -364328.5950306081,
          -362019.77627376514,
          -361948.61746679334,
          -350500.09575804404,
          -2327495.338753929,
          -907458.279312251,
          -2788049.6692440524,
          -2143622.986666539,
          -2777955.8050962407,
          830929.4341671471,
          -220272.6906095719,
          -195163.00298789577,
          -153539.6112485588,
          -1900756.0246262539,
          -2284634.8773569516,
          -415684.99466470175,
          -3063015.469259786,
          -2762159.475968578,
          -319771.4867160349,
          -292362.5340077999,
          -292686.6445441455,
          -292106.9878021718,
          2440101.3334630546,
          4058312.990395933,
          -167330.41429624707,
          1982543.080024041,
          2512302.4030971783,
          4576213.245143925
         ],
         "yaxis": "y"
        },
        {
         "hovertemplate": "class=may_KAXAL<br>Principal Component 1=%{x}<br>Principal Component 2=%{y}<extra></extra>",
         "legendgroup": "may_KAXAL",
         "marker": {
          "color": "#FFA15A",
          "symbol": "circle"
         },
         "mode": "markers",
         "name": "may_KAXAL",
         "orientation": "v",
         "showlegend": true,
         "type": "scatter",
         "x": [
          -799803.1828113737,
          -797587.9325188,
          -806570.347903818,
          -857424.4189656076,
          -795303.7800431321,
          -804321.425176849,
          -795302.926926426,
          -1272030.8773033163,
          -940771.5733672027,
          -817708.9745888168,
          -795370.5951916585,
          -856062.0263827932,
          -801564.6681430043,
          -811770.363084313,
          -813897.1800430798,
          -810495.0254667089,
          -849057.5921375704,
          -810076.8549289831,
          -815570.9660873058,
          -816000.0143371391,
          -818579.4423821786,
          -987779.6192998817,
          -1160129.6029019959,
          -1092958.254930858,
          -1067921.8804553102,
          -1012773.927677774,
          -815610.9191936784,
          -814445.6723416281,
          -824314.9475060357,
          -843334.4243307525,
          -797808.1524465581,
          -850056.3046205114,
          -819446.0784049173,
          -818298.1933099569,
          -826398.4874450694,
          -812534.4623384464,
          -811964.498818759,
          -813047.9111143753,
          -815962.8890949113,
          -154977.62647451472,
          71455.76246936894,
          -795518.0615851393,
          474103.0566377328,
          421295.6611292553,
          -791230.7613776237,
          -797428.4090629047,
          -796774.7821554859,
          540290.3450738775,
          10647.286743373905,
          761029.4736496262,
          -752623.4675067834,
          -794827.1945481614,
          -16796.72825402405,
          -787546.6446463644,
          -745562.1638255693,
          2493473.58312398,
          3202329.6224206137,
          -53386.13219705938,
          -671578.0761679902,
          2845858.9758708184,
          4504242.688936499,
          7153698.628500728,
          4666509.940917389,
          362143.2018117638,
          160542.76602652067,
          3122763.4402158535,
          530811.6724478654,
          564460.1031627926,
          2843962.7606710154,
          4949.8321410944845,
          784497.1071681407,
          4677593.658302916,
          5296274.270436528,
          -789033.7770904313,
          69662.53418464785,
          204121.64244621235,
          -13146.264297241858,
          -141444.35527862597,
          -190318.6180217321,
          -182738.4827985752,
          -240646.60078013255,
          -207608.29361077794,
          -276163.6683987395
         ],
         "xaxis": "x",
         "y": [
          -290672.50526095275,
          -288110.7550785573,
          -295145.5617611964,
          -316613.2909975889,
          -288264.16710975504,
          -289842.4950045965,
          -288263.7106280295,
          -555094.0116234528,
          -366252.11233380344,
          -295870.3588094278,
          -288297.90609480534,
          -313641.6968551643,
          -291366.8150835775,
          -296446.7040765176,
          -297509.43844675936,
          -294196.128720503,
          -306990.422104269,
          -294243.2702677355,
          -296331.7183426129,
          -296995.91539962153,
          -293878.50413319666,
          -396321.32195928175,
          -486881.45767941937,
          -452352.6112025966,
          -432947.40878746775,
          -406341.2460093835,
          -295453.1841438256,
          -294804.08165530424,
          -306369.0519054125,
          -310146.24366136227,
          -289202.78292449354,
          -309823.1344561722,
          -296389.06802524964,
          -295899.70711816824,
          -296501.38213975896,
          -295118.0938040858,
          -291383.59309936524,
          -293784.88890507905,
          -295155.1428738326,
          475048.4771040934,
          745493.4560343452,
          -287896.1386952691,
          1261632.981852461,
          1218893.5399727712,
          -290442.2725096004,
          -277862.9104690935,
          -274370.3624261307,
          1339501.328648485,
          663936.4730802431,
          1706207.490004461,
          -381851.68330266455,
          -286014.0477709349,
          641938.6462462469,
          -282195.7650076107,
          -391600.06123593845,
          3184359.460718783,
          -1341484.5031342,
          341570.5074533978,
          -361026.3698168956,
          -2547213.5926648346,
          -963801.4326624938,
          907474.1326377232,
          -2122325.261234667,
          874429.3778676041,
          804492.3263712089,
          4355492.138477566,
          1373158.9559964663,
          1408083.4878471508,
          -2618866.0690793185,
          391631.58241904253,
          -1244652.2735235207,
          -2556984.6057099593,
          -1831643.737643873,
          -294557.6697620264,
          725613.815435549,
          914300.2795116687,
          638511.3978763712,
          2791464.7333747954,
          2562736.571121557,
          2671437.662348923,
          2368297.584214702,
          2495109.1401679404,
          2040687.091431497
         ],
         "yaxis": "y"
        },
        {
         "hovertemplate": "class=may_KARH<br>Principal Component 1=%{x}<br>Principal Component 2=%{y}<extra></extra>",
         "legendgroup": "may_KARH",
         "marker": {
          "color": "#19d3f3",
          "symbol": "circle"
         },
         "mode": "markers",
         "name": "may_KARH",
         "orientation": "v",
         "showlegend": true,
         "type": "scatter",
         "x": [
          -832314.5549122359,
          -839946.431134244,
          -814081.6247125481,
          -846761.8598288221,
          -795886.4100349738,
          -806991.8903728402,
          -798525.2384847607,
          -1120733.189158655,
          -961542.9579371171,
          -835812.0375169778,
          -812695.3175907282,
          -961775.0457499807,
          -915844.723100166,
          -839844.9503933911,
          -795302.6868038554,
          -791035.0515664871,
          -853469.7409900269,
          -791998.1993868189,
          -814094.3139382951,
          -791045.8687000374,
          -817864.1287501679,
          -991379.5784506203,
          -1130074.74167011,
          -1071495.3633123264,
          -1019216.9237245296,
          -981948.2430248868,
          -795521.2317182034,
          -810151.2013709228,
          -813006.4864141325,
          -818621.6515383681,
          -802555.9164925744,
          -798024.7364953525,
          -798039.7513745659,
          -798100.4291755446,
          -791956.2523981377,
          -791797.2053214035,
          -791663.2514370708,
          -791937.1095745672,
          -791937.9530728773,
          1660078.1032827825,
          -108794.0481316015,
          500770.37988735473,
          744139.8555015002,
          91378.87560168824,
          -788720.0908840183,
          276400.5346615894,
          -783335.0902421356,
          -799225.7289525862,
          -796734.7734234366,
          427699.35288363945,
          -782011.0671158325,
          -237193.04905761263,
          -795360.8760416906,
          -790599.7430680048,
          -747984.4214050347,
          -684501.3258528512,
          -680573.2243077202,
          -688231.1948615495,
          2789007.9144193926,
          3467735.2558865836,
          3364687.110348684,
          7058644.628377483,
          3261298.410924052,
          389448.63382182474,
          3059358.345650104,
          3079955.3483572477,
          583869.7849425572,
          540737.1538115412,
          2191007.7828959757,
          2824963.626157661,
          2139944.9410622544,
          4686575.134715628,
          5179409.908780142,
          -770129.4108968693,
          1825305.0057316567,
          202427.55609874165,
          14898.278765355664,
          737024.2127784416,
          3365868.4467715854,
          1746140.5498897808,
          1203560.0173188592,
          720332.6015752823
         ],
         "xaxis": "x",
         "y": [
          -303421.3486602335,
          -304527.1045912142,
          -296329.75768480566,
          -311468.01873307896,
          -288591.21349887265,
          -291715.9462474991,
          -289764.02963268134,
          -460327.09004799963,
          -386012.82909573463,
          -303561.38270804955,
          -296919.4793039687,
          -371451.36365166807,
          -329817.69519319246,
          -304027.2222397223,
          -288263.5825546782,
          -283375.49978479056,
          -310493.1094989502,
          -284470.9755359403,
          -295063.4089599196,
          -283404.7135736734,
          -294088.31496992084,
          -398060.434222854,
          -476527.11689164105,
          -443737.64733528986,
          -414617.4214256604,
          -393983.55356556474,
          -288137.246115634,
          -294097.71783562953,
          -298192.00374365854,
          -302190.12336833234,
          -292577.2566418274,
          -289179.7539358269,
          -289197.1372490315,
          -289342.2907883138,
          -284485.61380499834,
          -284306.0523219282,
          -284154.8206323705,
          -284464.00187813333,
          -284464.9541735834,
          2634724.7557565263,
          515498.9492819811,
          1235573.446701394,
          1533502.0349991221,
          794235.4552547348,
          -286083.5238554351,
          1040149.1634964211,
          -286314.63273656555,
          -282352.92211633787,
          -286621.7185489656,
          1318888.3686193347,
          -302253.23198382923,
          384437.6968617821,
          -289605.55397825845,
          -288359.3126718242,
          -366571.0087039565,
          -362119.22137197474,
          -368187.164353671,
          -361190.98552632396,
          -1489929.3917274212,
          -2941142.2104802737,
          -2885515.7221501083,
          562323.7798431464,
          -2827111.4821504676,
          903645.2786573154,
          -2688889.1695662662,
          4440608.01686592,
          1421719.2321031734,
          1368361.893285368,
          -2194383.9840546926,
          -1408680.8640696309,
          -2193545.6480349135,
          -2575928.48350078,
          -1992875.556594463,
          -300828.9372295289,
          2867099.6467147633,
          912038.149456851,
          671201.5639695844,
          2064623.5809739463,
          4018691.1235167654,
          2917765.4765940527,
          2119346.0831707693,
          3797673.2237175824
         ],
         "yaxis": "y"
        }
       ],
       "layout": {
        "legend": {
         "title": {
          "text": "class"
         },
         "tracegroupgap": 0
        },
        "template": {
         "data": {
          "bar": [
           {
            "error_x": {
             "color": "#2a3f5f"
            },
            "error_y": {
             "color": "#2a3f5f"
            },
            "marker": {
             "line": {
              "color": "#E5ECF6",
              "width": 0.5
             },
             "pattern": {
              "fillmode": "overlay",
              "size": 10,
              "solidity": 0.2
             }
            },
            "type": "bar"
           }
          ],
          "barpolar": [
           {
            "marker": {
             "line": {
              "color": "#E5ECF6",
              "width": 0.5
             },
             "pattern": {
              "fillmode": "overlay",
              "size": 10,
              "solidity": 0.2
             }
            },
            "type": "barpolar"
           }
          ],
          "carpet": [
           {
            "aaxis": {
             "endlinecolor": "#2a3f5f",
             "gridcolor": "white",
             "linecolor": "white",
             "minorgridcolor": "white",
             "startlinecolor": "#2a3f5f"
            },
            "baxis": {
             "endlinecolor": "#2a3f5f",
             "gridcolor": "white",
             "linecolor": "white",
             "minorgridcolor": "white",
             "startlinecolor": "#2a3f5f"
            },
            "type": "carpet"
           }
          ],
          "choropleth": [
           {
            "colorbar": {
             "outlinewidth": 0,
             "ticks": ""
            },
            "type": "choropleth"
           }
          ],
          "contour": [
           {
            "colorbar": {
             "outlinewidth": 0,
             "ticks": ""
            },
            "colorscale": [
             [
              0,
              "#0d0887"
             ],
             [
              0.1111111111111111,
              "#46039f"
             ],
             [
              0.2222222222222222,
              "#7201a8"
             ],
             [
              0.3333333333333333,
              "#9c179e"
             ],
             [
              0.4444444444444444,
              "#bd3786"
             ],
             [
              0.5555555555555556,
              "#d8576b"
             ],
             [
              0.6666666666666666,
              "#ed7953"
             ],
             [
              0.7777777777777778,
              "#fb9f3a"
             ],
             [
              0.8888888888888888,
              "#fdca26"
             ],
             [
              1,
              "#f0f921"
             ]
            ],
            "type": "contour"
           }
          ],
          "contourcarpet": [
           {
            "colorbar": {
             "outlinewidth": 0,
             "ticks": ""
            },
            "type": "contourcarpet"
           }
          ],
          "heatmap": [
           {
            "colorbar": {
             "outlinewidth": 0,
             "ticks": ""
            },
            "colorscale": [
             [
              0,
              "#0d0887"
             ],
             [
              0.1111111111111111,
              "#46039f"
             ],
             [
              0.2222222222222222,
              "#7201a8"
             ],
             [
              0.3333333333333333,
              "#9c179e"
             ],
             [
              0.4444444444444444,
              "#bd3786"
             ],
             [
              0.5555555555555556,
              "#d8576b"
             ],
             [
              0.6666666666666666,
              "#ed7953"
             ],
             [
              0.7777777777777778,
              "#fb9f3a"
             ],
             [
              0.8888888888888888,
              "#fdca26"
             ],
             [
              1,
              "#f0f921"
             ]
            ],
            "type": "heatmap"
           }
          ],
          "heatmapgl": [
           {
            "colorbar": {
             "outlinewidth": 0,
             "ticks": ""
            },
            "colorscale": [
             [
              0,
              "#0d0887"
             ],
             [
              0.1111111111111111,
              "#46039f"
             ],
             [
              0.2222222222222222,
              "#7201a8"
             ],
             [
              0.3333333333333333,
              "#9c179e"
             ],
             [
              0.4444444444444444,
              "#bd3786"
             ],
             [
              0.5555555555555556,
              "#d8576b"
             ],
             [
              0.6666666666666666,
              "#ed7953"
             ],
             [
              0.7777777777777778,
              "#fb9f3a"
             ],
             [
              0.8888888888888888,
              "#fdca26"
             ],
             [
              1,
              "#f0f921"
             ]
            ],
            "type": "heatmapgl"
           }
          ],
          "histogram": [
           {
            "marker": {
             "pattern": {
              "fillmode": "overlay",
              "size": 10,
              "solidity": 0.2
             }
            },
            "type": "histogram"
           }
          ],
          "histogram2d": [
           {
            "colorbar": {
             "outlinewidth": 0,
             "ticks": ""
            },
            "colorscale": [
             [
              0,
              "#0d0887"
             ],
             [
              0.1111111111111111,
              "#46039f"
             ],
             [
              0.2222222222222222,
              "#7201a8"
             ],
             [
              0.3333333333333333,
              "#9c179e"
             ],
             [
              0.4444444444444444,
              "#bd3786"
             ],
             [
              0.5555555555555556,
              "#d8576b"
             ],
             [
              0.6666666666666666,
              "#ed7953"
             ],
             [
              0.7777777777777778,
              "#fb9f3a"
             ],
             [
              0.8888888888888888,
              "#fdca26"
             ],
             [
              1,
              "#f0f921"
             ]
            ],
            "type": "histogram2d"
           }
          ],
          "histogram2dcontour": [
           {
            "colorbar": {
             "outlinewidth": 0,
             "ticks": ""
            },
            "colorscale": [
             [
              0,
              "#0d0887"
             ],
             [
              0.1111111111111111,
              "#46039f"
             ],
             [
              0.2222222222222222,
              "#7201a8"
             ],
             [
              0.3333333333333333,
              "#9c179e"
             ],
             [
              0.4444444444444444,
              "#bd3786"
             ],
             [
              0.5555555555555556,
              "#d8576b"
             ],
             [
              0.6666666666666666,
              "#ed7953"
             ],
             [
              0.7777777777777778,
              "#fb9f3a"
             ],
             [
              0.8888888888888888,
              "#fdca26"
             ],
             [
              1,
              "#f0f921"
             ]
            ],
            "type": "histogram2dcontour"
           }
          ],
          "mesh3d": [
           {
            "colorbar": {
             "outlinewidth": 0,
             "ticks": ""
            },
            "type": "mesh3d"
           }
          ],
          "parcoords": [
           {
            "line": {
             "colorbar": {
              "outlinewidth": 0,
              "ticks": ""
             }
            },
            "type": "parcoords"
           }
          ],
          "pie": [
           {
            "automargin": true,
            "type": "pie"
           }
          ],
          "scatter": [
           {
            "fillpattern": {
             "fillmode": "overlay",
             "size": 10,
             "solidity": 0.2
            },
            "type": "scatter"
           }
          ],
          "scatter3d": [
           {
            "line": {
             "colorbar": {
              "outlinewidth": 0,
              "ticks": ""
             }
            },
            "marker": {
             "colorbar": {
              "outlinewidth": 0,
              "ticks": ""
             }
            },
            "type": "scatter3d"
           }
          ],
          "scattercarpet": [
           {
            "marker": {
             "colorbar": {
              "outlinewidth": 0,
              "ticks": ""
             }
            },
            "type": "scattercarpet"
           }
          ],
          "scattergeo": [
           {
            "marker": {
             "colorbar": {
              "outlinewidth": 0,
              "ticks": ""
             }
            },
            "type": "scattergeo"
           }
          ],
          "scattergl": [
           {
            "marker": {
             "colorbar": {
              "outlinewidth": 0,
              "ticks": ""
             }
            },
            "type": "scattergl"
           }
          ],
          "scattermapbox": [
           {
            "marker": {
             "colorbar": {
              "outlinewidth": 0,
              "ticks": ""
             }
            },
            "type": "scattermapbox"
           }
          ],
          "scatterpolar": [
           {
            "marker": {
             "colorbar": {
              "outlinewidth": 0,
              "ticks": ""
             }
            },
            "type": "scatterpolar"
           }
          ],
          "scatterpolargl": [
           {
            "marker": {
             "colorbar": {
              "outlinewidth": 0,
              "ticks": ""
             }
            },
            "type": "scatterpolargl"
           }
          ],
          "scatterternary": [
           {
            "marker": {
             "colorbar": {
              "outlinewidth": 0,
              "ticks": ""
             }
            },
            "type": "scatterternary"
           }
          ],
          "surface": [
           {
            "colorbar": {
             "outlinewidth": 0,
             "ticks": ""
            },
            "colorscale": [
             [
              0,
              "#0d0887"
             ],
             [
              0.1111111111111111,
              "#46039f"
             ],
             [
              0.2222222222222222,
              "#7201a8"
             ],
             [
              0.3333333333333333,
              "#9c179e"
             ],
             [
              0.4444444444444444,
              "#bd3786"
             ],
             [
              0.5555555555555556,
              "#d8576b"
             ],
             [
              0.6666666666666666,
              "#ed7953"
             ],
             [
              0.7777777777777778,
              "#fb9f3a"
             ],
             [
              0.8888888888888888,
              "#fdca26"
             ],
             [
              1,
              "#f0f921"
             ]
            ],
            "type": "surface"
           }
          ],
          "table": [
           {
            "cells": {
             "fill": {
              "color": "#EBF0F8"
             },
             "line": {
              "color": "white"
             }
            },
            "header": {
             "fill": {
              "color": "#C8D4E3"
             },
             "line": {
              "color": "white"
             }
            },
            "type": "table"
           }
          ]
         },
         "layout": {
          "annotationdefaults": {
           "arrowcolor": "#2a3f5f",
           "arrowhead": 0,
           "arrowwidth": 1
          },
          "autotypenumbers": "strict",
          "coloraxis": {
           "colorbar": {
            "outlinewidth": 0,
            "ticks": ""
           }
          },
          "colorscale": {
           "diverging": [
            [
             0,
             "#8e0152"
            ],
            [
             0.1,
             "#c51b7d"
            ],
            [
             0.2,
             "#de77ae"
            ],
            [
             0.3,
             "#f1b6da"
            ],
            [
             0.4,
             "#fde0ef"
            ],
            [
             0.5,
             "#f7f7f7"
            ],
            [
             0.6,
             "#e6f5d0"
            ],
            [
             0.7,
             "#b8e186"
            ],
            [
             0.8,
             "#7fbc41"
            ],
            [
             0.9,
             "#4d9221"
            ],
            [
             1,
             "#276419"
            ]
           ],
           "sequential": [
            [
             0,
             "#0d0887"
            ],
            [
             0.1111111111111111,
             "#46039f"
            ],
            [
             0.2222222222222222,
             "#7201a8"
            ],
            [
             0.3333333333333333,
             "#9c179e"
            ],
            [
             0.4444444444444444,
             "#bd3786"
            ],
            [
             0.5555555555555556,
             "#d8576b"
            ],
            [
             0.6666666666666666,
             "#ed7953"
            ],
            [
             0.7777777777777778,
             "#fb9f3a"
            ],
            [
             0.8888888888888888,
             "#fdca26"
            ],
            [
             1,
             "#f0f921"
            ]
           ],
           "sequentialminus": [
            [
             0,
             "#0d0887"
            ],
            [
             0.1111111111111111,
             "#46039f"
            ],
            [
             0.2222222222222222,
             "#7201a8"
            ],
            [
             0.3333333333333333,
             "#9c179e"
            ],
            [
             0.4444444444444444,
             "#bd3786"
            ],
            [
             0.5555555555555556,
             "#d8576b"
            ],
            [
             0.6666666666666666,
             "#ed7953"
            ],
            [
             0.7777777777777778,
             "#fb9f3a"
            ],
            [
             0.8888888888888888,
             "#fdca26"
            ],
            [
             1,
             "#f0f921"
            ]
           ]
          },
          "colorway": [
           "#636efa",
           "#EF553B",
           "#00cc96",
           "#ab63fa",
           "#FFA15A",
           "#19d3f3",
           "#FF6692",
           "#B6E880",
           "#FF97FF",
           "#FECB52"
          ],
          "font": {
           "color": "#2a3f5f"
          },
          "geo": {
           "bgcolor": "white",
           "lakecolor": "white",
           "landcolor": "#E5ECF6",
           "showlakes": true,
           "showland": true,
           "subunitcolor": "white"
          },
          "hoverlabel": {
           "align": "left"
          },
          "hovermode": "closest",
          "mapbox": {
           "style": "light"
          },
          "paper_bgcolor": "white",
          "plot_bgcolor": "#E5ECF6",
          "polar": {
           "angularaxis": {
            "gridcolor": "white",
            "linecolor": "white",
            "ticks": ""
           },
           "bgcolor": "#E5ECF6",
           "radialaxis": {
            "gridcolor": "white",
            "linecolor": "white",
            "ticks": ""
           }
          },
          "scene": {
           "xaxis": {
            "backgroundcolor": "#E5ECF6",
            "gridcolor": "white",
            "gridwidth": 2,
            "linecolor": "white",
            "showbackground": true,
            "ticks": "",
            "zerolinecolor": "white"
           },
           "yaxis": {
            "backgroundcolor": "#E5ECF6",
            "gridcolor": "white",
            "gridwidth": 2,
            "linecolor": "white",
            "showbackground": true,
            "ticks": "",
            "zerolinecolor": "white"
           },
           "zaxis": {
            "backgroundcolor": "#E5ECF6",
            "gridcolor": "white",
            "gridwidth": 2,
            "linecolor": "white",
            "showbackground": true,
            "ticks": "",
            "zerolinecolor": "white"
           }
          },
          "shapedefaults": {
           "line": {
            "color": "#2a3f5f"
           }
          },
          "ternary": {
           "aaxis": {
            "gridcolor": "white",
            "linecolor": "white",
            "ticks": ""
           },
           "baxis": {
            "gridcolor": "white",
            "linecolor": "white",
            "ticks": ""
           },
           "bgcolor": "#E5ECF6",
           "caxis": {
            "gridcolor": "white",
            "linecolor": "white",
            "ticks": ""
           }
          },
          "title": {
           "x": 0.05
          },
          "xaxis": {
           "automargin": true,
           "gridcolor": "white",
           "linecolor": "white",
           "ticks": "",
           "title": {
            "standoff": 15
           },
           "zerolinecolor": "white",
           "zerolinewidth": 2
          },
          "yaxis": {
           "automargin": true,
           "gridcolor": "white",
           "linecolor": "white",
           "ticks": "",
           "title": {
            "standoff": 15
           },
           "zerolinecolor": "white",
           "zerolinewidth": 2
          }
         }
        },
        "title": {
         "text": "PCA Scores"
        },
        "xaxis": {
         "anchor": "y",
         "domain": [
          0,
          1
         ],
         "title": {
          "text": "Principal Component 1"
         }
        },
        "yaxis": {
         "anchor": "x",
         "domain": [
          0,
          1
         ],
         "title": {
          "text": "Principal Component 2"
         }
        }
       }
      }
     },
     "metadata": {},
     "output_type": "display_data"
    },
    {
     "data": {
      "text/plain": [
       "True"
      ]
     },
     "execution_count": 1,
     "metadata": {},
     "output_type": "execute_result"
    }
   ],
   "source": [
    "import pandas as pd\n",
    "import webbrowser\n",
    "from src.StreamPort.ml.MachineLearningEngine import MachineLearningEngine\n",
    "from src.StreamPort.ml.MachineLearningProcessingSettings import MakeModelPCASKL\n",
    "\n",
    "path = 'groups_ints.csv'\n",
    "class_path = 'groups_classes.csv'\n",
    "df = pd.read_csv(class_path)\n",
    "\n",
    "engine = MachineLearningEngine() \n",
    "engine.add_analyses_from_csv(path)\n",
    "\n",
    "engine.add_month_classes(df, 'may') \n",
    "\n",
    "pca_model = MakeModelPCASKL(n_components = 2, center_data= True)\n",
    "engine.add_settings(pca_model)\n",
    "engine.print()\n",
    "engine.run_workflow()\n",
    "engine.plot_pca()\n",
    "webbrowser.open('pca_scores_plot.html')\n",
    "webbrowser.open('pca_loadings_plot.html')"
   ]
  }
 ],
 "metadata": {
  "kernelspec": {
   "display_name": ".venv",
   "language": "python",
   "name": "python3"
  },
  "language_info": {
   "codemirror_mode": {
    "name": "ipython",
    "version": 3
   },
   "file_extension": ".py",
   "mimetype": "text/x-python",
   "name": "python",
   "nbconvert_exporter": "python",
   "pygments_lexer": "ipython3",
   "version": "3.12.7"
  }
 },
 "nbformat": 4,
 "nbformat_minor": 2
}
