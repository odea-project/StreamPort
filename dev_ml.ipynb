{
 "cells": [
  {
   "cell_type": "markdown",
   "metadata": {},
   "source": [
    "## MachineLearningEngine Class"
   ]
  },
  {
   "cell_type": "markdown",
   "metadata": {},
   "source": [
    "The MachineLearningEngine class is builds on the CoreEngine class. The CoreEngine class serves as a parent class engines that focus on data, while the MachineLearningEngine class is for engines that focus on learning from data."
   ]
  },
  {
   "cell_type": "code",
   "execution_count": null,
   "metadata": {},
   "outputs": [],
   "source": [
    "from src.StreamPort.ml.MachineLearningEngine import MachineLearningEngine\n",
    "\n",
    "#Creates an empty MachineLearningEngine object and prints it\n",
    "engine = MachineLearningEngine()\n",
    "engine.print()"
   ]
  },
  {
   "cell_type": "markdown",
   "metadata": {},
   "source": [
    "## MachineLearningAnalysis Class"
   ]
  },
  {
   "cell_type": "markdown",
   "metadata": {},
   "source": [
    "The MachineLearningAnalysis class is builds on the class Analysis. The Analysis class that is used to perform analysis on the data. "
   ]
  },
  {
   "cell_type": "code",
   "execution_count": null,
   "metadata": {},
   "outputs": [],
   "source": [
    "from src.StreamPort.ml.MachineLearningAnalysis import MachineLearningAnalysis\n",
    "\n",
    "#Creates an empty MachineLearningAnalysis obejct and prints it\n",
    "analysis = MachineLearningAnalysis()\n",
    "analysis.print()"
   ]
  },
  {
   "cell_type": "markdown",
   "metadata": {},
   "source": [
    "#### Load the CSV File  "
   ]
  },
  {
   "cell_type": "markdown",
   "metadata": {},
   "source": [
    "This method loads the dataset from csv file and create a list of analysis object. Used the data to make a matrix with the analysis names and visualizes the results using a scatter plot.  "
   ]
  },
  {
   "cell_type": "code",
   "execution_count": null,
   "metadata": {},
   "outputs": [],
   "source": [
    "from src.StreamPort.ml.MachineLearningEngine import MachineLearningEngine\n",
    "from sklearn.decomposition import PCA \n",
    "import matplotlib.pyplot as plt\n",
    "\n",
    "#Creates an empty MachineLearningEngine object and prints it\n",
    "path = 'feature_list.csv'\n",
    "engine = MachineLearningEngine()\n",
    "engine.add_analyses_from_csv(path)\n",
    "\n",
    "engine.print()\n",
    "\n",
    "print(\"Create a list of analysis object and prints it\" )\n",
    "for analysis in engine._analyses:\n",
    "    print(f\"Analysis: {analysis.name}\")\n",
    "    for key, value in analysis.data.items():\n",
    "        print(f\"{key}: {value}\")\n",
    "    print(\"\\n\")\n",
    "\n",
    "rownames = engine.get_analyses_names()\n",
    "print(\"Analysename: \", rownames)\n",
    "\n",
    "mat = engine.get_data()\n",
    "mat.index = rownames\n",
    "print(\"Matrix: \\n\", mat)\n"
   ]
  },
  {
   "cell_type": "markdown",
   "metadata": {},
   "source": [
    "#### Make a Principle Conponent Analysis (PCA)\n",
    "\n",
    "The method implements a machine learning engine that perfporms PCA on the dataset and visualizes the results. ProcessingSetting is the parent of MakePCA. The ProcessingSettings used to assemble data processing workflows within the each engine. The subclass MakePCASKL of MakePCA using skitklearn algorithm to perform the PCA."
   ]
  },
  {
   "cell_type": "code",
   "execution_count": null,
   "metadata": {},
   "outputs": [],
   "source": [
    "from src.StreamPort.ml.MachineLearningEngine import MachineLearningEngine\n",
    "from src.StreamPort.ml.MachineLearningProcessingSettings import  MakeModelPCASKL\n",
    "import webbrowser\n",
    "\n",
    "#Creates an empty MachineLearningEngine object and prints it\n",
    "path = 'feature_list.csv'\n",
    "engine = MachineLearningEngine()\n",
    "engine.add_analyses_from_csv(path)\n",
    "\n",
    "class_path = 'feature_metadata.csv'\n",
    "engine.add_classes_from_csv(class_path)\n",
    "\n",
    "engine.print()\n",
    "#print(engine.get_classes())\n",
    "\n",
    "# !!! make a general data plot\n",
    "engine.plot_data()\n",
    "webbrowser.open('general_data_plot.html')\n",
    "# x axis in the index of the features (i.e., col names)\n",
    "# y axis is the valule for each analysis\n",
    "# color legend is applied for each analysis\n",
    "\n",
    "\n",
    "# Add the ProcessingSettings to the _settings attribute with add settings\n",
    "pca_model = MakeModelPCASKL(n_components = 2, center_data= True)\n",
    "engine.add_settings(pca_model)\n",
    "engine.print()\n",
    "# Create a method in the ML engine to perfom PCA and collect the results\n",
    "engine.run_workflow()\n",
    "# The results are added to the _results atribute of the engine\n",
    "# make a plot method in the ML engine for the PCA results and classes\n",
    "engine.plot_pca()\n",
    "webbrowser.open('pca_scores_plot.html')\n",
    "webbrowser.open('pca_loadings_plot.html')\n",
    "# make a loadings plot after confirming the scores plot\n"
   ]
  },
  {
   "cell_type": "markdown",
   "metadata": {},
   "source": [
    "#### Make a Density-Based Spatial Clustering of Application with Noise (DBSCAN)\n",
    "\n"
   ]
  },
  {
   "cell_type": "code",
   "execution_count": null,
   "metadata": {},
   "outputs": [],
   "source": [
    "from src.StreamPort.ml.MachineLearningEngine import MachineLearningEngine\n",
    "from src.StreamPort.ml.MachineLearningProcessingSettings import  MakeModelDBSCANSKL\n",
    "\n",
    "import numpy as np\n",
    "import pandas as pd\n",
    "import matplotlib.pyplot as plt\n",
    "from sklearn.cluster import DBSCAN\n",
    "from sklearn.decomposition import PCA\n",
    "from sklearn.neighbors import NearestNeighbors\n",
    "import plotly.express as px\n",
    "\n",
    "# Creates an empty MachineLearningEngine object and prints it\n",
    "path = 'feature_list.csv'\n",
    "engine = MachineLearningEngine()\n",
    "engine.add_analyses_from_csv(path)\n",
    "\n",
    "class_path = 'feature_metadata.csv'\n",
    "engine.add_classes_from_csv(class_path)\n",
    "\n",
    "engine.print()\n",
    "\n",
    "data = engine.get_data()\n",
    "mean = np.mean(data, axis=0)\n",
    "data = data - mean\n",
    "\n",
    "pca = PCA(n_components=2)\n",
    "data_2d = pca.fit_transform(data)\n",
    "print(\"Reduced data shape:\", data_2d.shape)\n",
    "\n",
    "# Visualize the data\n",
    "plt.scatter(data_2d[:, 0], data_2d[:, 1])\n",
    "plt.title('Data Visualization')\n",
    "plt.xlabel('Principal Component 1')\n",
    "plt.ylabel('Principal Component 2')\n",
    "plt.show()\n",
    "\n",
    "# Create a k-distance plot\n",
    "k = 5  # Choose k based on min_samples\n",
    "neighbors = NearestNeighbors(n_neighbors=k)\n",
    "neighbors_fit = neighbors.fit(data)\n",
    "distances, indices = neighbors_fit.kneighbors(data)\n",
    "distances = np.sort(distances[:, k-1], axis=0)\n",
    "\n",
    "plt.plot(distances)\n",
    "plt.title('K-Distance Plot')\n",
    "plt.xlabel('Points sorted by distance')\n",
    "plt.ylabel('Distance to {}-th nearest neighbor'.format(k))\n",
    "plt.show()\n",
    "\n",
    "# Experiment with DBSCAN parameters\n",
    "eps = 1.5E6  # Adjust based on the k-distance plot\n",
    "min_samples = 3  # Adjust based on your data\n",
    "\n",
    "dbscan = DBSCAN(eps=eps, min_samples=min_samples)\n",
    "dbscan.fit(data_2d)\n",
    "\n",
    "labels = dbscan.labels_\n",
    "\n",
    "# Analyze the clusters\n",
    "n_clusters_ = len(set(labels)) - (1 if -1 in labels else 0)\n",
    "n_noise_ = list(labels).count(-1)\n",
    "print(\"Estimated number of clusters: %d\" % n_clusters_)\n",
    "print(\"Estimated number of noise points: %d\" % n_noise_)\n",
    "\n",
    "# Create a DataFrame for Plotly\n",
    "df = pd.DataFrame(data_2d, columns=['PC1', 'PC2'])\n",
    "df['Cluster'] = labels.astype(str)  # Convert to string for categorical coloring\n",
    "\n",
    "# Plot the results using Plotly\n",
    "fig = px.scatter(df, x='PC1', y='PC2', color='Cluster', title='DBSCAN Clustering Results',\n",
    "                 labels={'PC1': 'Principal Component 1', 'PC2': 'Principal Component 2'})\n",
    "\n",
    "fig.show()\n"
   ]
  },
  {
   "cell_type": "markdown",
   "metadata": {},
   "source": [
    "### Uniform Manifold Approximation and Projection (UMAP)"
   ]
  },
  {
   "cell_type": "code",
   "execution_count": 1,
   "metadata": {},
   "outputs": [
    {
     "name": "stdout",
     "output_type": "stream",
     "text": [
      "Structure of the CSV file: {'number_of_rows': 45, 'number_of_columns': 4445}\n",
      "Structure of the CSV file: {'number_of_rows': 45, 'number_of_columns': 2}\n",
      "\n",
      "MachineLearningEngine \n",
      "  name: None \n",
      "  author: None \n",
      "  path: None \n",
      "  date: 2024-10-14 13:13:21.954842 \n",
      "  analyses: 45 \n",
      "  settings: 0 \n",
      "\n",
      "\n",
      "MachineLearningEngine \n",
      "  name: None \n",
      "  author: None \n",
      "  path: None \n",
      "  date: 2024-10-14 13:13:21.954842 \n",
      "  analyses: 45 \n",
      "  settings: 1 \n",
      "\n",
      "Running workflow with settings: MakeModel\n"
     ]
    },
    {
     "name": "stderr",
     "output_type": "stream",
     "text": [
      "c:\\Users\\aylen\\IUTA\\StreamPort\\.venv\\Lib\\site-packages\\umap\\umap_.py:1945: UserWarning: n_jobs value 1 overridden to 1 by setting random_state. Use no seed for parallelism.\n",
      "  warn(f\"n_jobs value {self.n_jobs} overridden to 1 by setting random_state. Use no seed for parallelism.\")\n"
     ]
    },
    {
     "data": {
      "application/vnd.plotly.v1+json": {
       "config": {
        "plotlyServerURL": "https://plot.ly"
       },
       "data": [
        {
         "hovertemplate": "class=control<br>UMAP Component 1=%{x}<br>UMAP Component 2=%{y}<extra></extra>",
         "legendgroup": "control",
         "marker": {
          "color": "#636efa",
          "symbol": "circle"
         },
         "mode": "markers",
         "name": "control",
         "orientation": "v",
         "showlegend": true,
         "type": "scatter",
         "x": [
          5.678569793701172,
          6.152231216430664,
          5.955126762390137,
          5.652645587921143,
          5.359827518463135,
          5.151177406311035,
          6.069325923919678,
          5.649795055389404,
          5.602123260498047
         ],
         "xaxis": "x",
         "y": [
          10.59228801727295,
          10.554802894592285,
          10.74842643737793,
          10.400136947631836,
          10.398282051086426,
          10.63251781463623,
          10.271852493286133,
          10.940072059631348,
          10.160383224487305
         ],
         "yaxis": "y"
        },
        {
         "hovertemplate": "class=influent_ozone<br>UMAP Component 1=%{x}<br>UMAP Component 2=%{y}<extra></extra>",
         "legendgroup": "influent_ozone",
         "marker": {
          "color": "#EF553B",
          "symbol": "circle"
         },
         "mode": "markers",
         "name": "influent_ozone",
         "orientation": "v",
         "showlegend": true,
         "type": "scatter",
         "x": [
          10.035520553588867,
          10.160438537597656,
          10.613149642944336,
          10.928435325622559,
          10.54018783569336,
          11.602558135986328,
          12.667728424072266,
          12.815281867980957,
          12.290887832641602
         ],
         "xaxis": "x",
         "y": [
          10.4909086227417,
          10.762101173400879,
          10.501781463623047,
          10.195260047912598,
          10.035114288330078,
          11.59178638458252,
          10.681520462036133,
          11.093395233154297,
          10.436756134033203
         ],
         "yaxis": "y"
        },
        {
         "hovertemplate": "class=influent_uv<br>UMAP Component 1=%{x}<br>UMAP Component 2=%{y}<extra></extra>",
         "legendgroup": "influent_uv",
         "marker": {
          "color": "#00cc96",
          "symbol": "circle"
         },
         "mode": "markers",
         "name": "influent_uv",
         "orientation": "v",
         "showlegend": true,
         "type": "scatter",
         "x": [
          9.811813354492188,
          10.126282691955566,
          11.654661178588867,
          11.007644653320312,
          10.678743362426758,
          11.765157699584961,
          12.17572021484375,
          12.484783172607422,
          12.164288520812988
         ],
         "xaxis": "x",
         "y": [
          10.95048713684082,
          11.11514949798584,
          11.152046203613281,
          10.637232780456543,
          10.917900085449219,
          11.39693832397461,
          11.29162883758545,
          11.028775215148926,
          10.565698623657227
         ],
         "yaxis": "y"
        },
        {
         "hovertemplate": "class=influent_ac<br>UMAP Component 1=%{x}<br>UMAP Component 2=%{y}<extra></extra>",
         "legendgroup": "influent_ac",
         "marker": {
          "color": "#ab63fa",
          "symbol": "circle"
         },
         "mode": "markers",
         "name": "influent_ac",
         "orientation": "v",
         "showlegend": true,
         "type": "scatter",
         "x": [
          11.015119552612305,
          9.681015014648438,
          10.094024658203125,
          10.343534469604492,
          10.535872459411621,
          11.921751976013184,
          12.295166969299316,
          12.560717582702637,
          11.981863975524902
         ],
         "xaxis": "x",
         "y": [
          11.67503547668457,
          11.490462303161621,
          11.82529354095459,
          11.515803337097168,
          11.983759880065918,
          11.855764389038086,
          11.837669372558594,
          11.46788215637207,
          10.78264331817627
         ],
         "yaxis": "y"
        },
        {
         "hovertemplate": "class=effluent<br>UMAP Component 1=%{x}<br>UMAP Component 2=%{y}<extra></extra>",
         "legendgroup": "effluent",
         "marker": {
          "color": "#FFA15A",
          "symbol": "circle"
         },
         "mode": "markers",
         "name": "effluent",
         "orientation": "v",
         "showlegend": true,
         "type": "scatter",
         "x": [
          8.735218048095703,
          8.304195404052734,
          8.479594230651855,
          8.54261589050293,
          8.011969566345215,
          7.548499584197998,
          7.717628002166748,
          8.103784561157227,
          7.7165727615356445
         ],
         "xaxis": "x",
         "y": [
          11.42412281036377,
          10.965469360351562,
          11.185861587524414,
          10.877495765686035,
          11.231300354003906,
          11.073007583618164,
          11.735618591308594,
          11.638378143310547,
          11.376514434814453
         ],
         "yaxis": "y"
        }
       ],
       "layout": {
        "legend": {
         "title": {
          "text": "class"
         },
         "tracegroupgap": 0
        },
        "template": {
         "data": {
          "bar": [
           {
            "error_x": {
             "color": "#2a3f5f"
            },
            "error_y": {
             "color": "#2a3f5f"
            },
            "marker": {
             "line": {
              "color": "#E5ECF6",
              "width": 0.5
             },
             "pattern": {
              "fillmode": "overlay",
              "size": 10,
              "solidity": 0.2
             }
            },
            "type": "bar"
           }
          ],
          "barpolar": [
           {
            "marker": {
             "line": {
              "color": "#E5ECF6",
              "width": 0.5
             },
             "pattern": {
              "fillmode": "overlay",
              "size": 10,
              "solidity": 0.2
             }
            },
            "type": "barpolar"
           }
          ],
          "carpet": [
           {
            "aaxis": {
             "endlinecolor": "#2a3f5f",
             "gridcolor": "white",
             "linecolor": "white",
             "minorgridcolor": "white",
             "startlinecolor": "#2a3f5f"
            },
            "baxis": {
             "endlinecolor": "#2a3f5f",
             "gridcolor": "white",
             "linecolor": "white",
             "minorgridcolor": "white",
             "startlinecolor": "#2a3f5f"
            },
            "type": "carpet"
           }
          ],
          "choropleth": [
           {
            "colorbar": {
             "outlinewidth": 0,
             "ticks": ""
            },
            "type": "choropleth"
           }
          ],
          "contour": [
           {
            "colorbar": {
             "outlinewidth": 0,
             "ticks": ""
            },
            "colorscale": [
             [
              0,
              "#0d0887"
             ],
             [
              0.1111111111111111,
              "#46039f"
             ],
             [
              0.2222222222222222,
              "#7201a8"
             ],
             [
              0.3333333333333333,
              "#9c179e"
             ],
             [
              0.4444444444444444,
              "#bd3786"
             ],
             [
              0.5555555555555556,
              "#d8576b"
             ],
             [
              0.6666666666666666,
              "#ed7953"
             ],
             [
              0.7777777777777778,
              "#fb9f3a"
             ],
             [
              0.8888888888888888,
              "#fdca26"
             ],
             [
              1,
              "#f0f921"
             ]
            ],
            "type": "contour"
           }
          ],
          "contourcarpet": [
           {
            "colorbar": {
             "outlinewidth": 0,
             "ticks": ""
            },
            "type": "contourcarpet"
           }
          ],
          "heatmap": [
           {
            "colorbar": {
             "outlinewidth": 0,
             "ticks": ""
            },
            "colorscale": [
             [
              0,
              "#0d0887"
             ],
             [
              0.1111111111111111,
              "#46039f"
             ],
             [
              0.2222222222222222,
              "#7201a8"
             ],
             [
              0.3333333333333333,
              "#9c179e"
             ],
             [
              0.4444444444444444,
              "#bd3786"
             ],
             [
              0.5555555555555556,
              "#d8576b"
             ],
             [
              0.6666666666666666,
              "#ed7953"
             ],
             [
              0.7777777777777778,
              "#fb9f3a"
             ],
             [
              0.8888888888888888,
              "#fdca26"
             ],
             [
              1,
              "#f0f921"
             ]
            ],
            "type": "heatmap"
           }
          ],
          "heatmapgl": [
           {
            "colorbar": {
             "outlinewidth": 0,
             "ticks": ""
            },
            "colorscale": [
             [
              0,
              "#0d0887"
             ],
             [
              0.1111111111111111,
              "#46039f"
             ],
             [
              0.2222222222222222,
              "#7201a8"
             ],
             [
              0.3333333333333333,
              "#9c179e"
             ],
             [
              0.4444444444444444,
              "#bd3786"
             ],
             [
              0.5555555555555556,
              "#d8576b"
             ],
             [
              0.6666666666666666,
              "#ed7953"
             ],
             [
              0.7777777777777778,
              "#fb9f3a"
             ],
             [
              0.8888888888888888,
              "#fdca26"
             ],
             [
              1,
              "#f0f921"
             ]
            ],
            "type": "heatmapgl"
           }
          ],
          "histogram": [
           {
            "marker": {
             "pattern": {
              "fillmode": "overlay",
              "size": 10,
              "solidity": 0.2
             }
            },
            "type": "histogram"
           }
          ],
          "histogram2d": [
           {
            "colorbar": {
             "outlinewidth": 0,
             "ticks": ""
            },
            "colorscale": [
             [
              0,
              "#0d0887"
             ],
             [
              0.1111111111111111,
              "#46039f"
             ],
             [
              0.2222222222222222,
              "#7201a8"
             ],
             [
              0.3333333333333333,
              "#9c179e"
             ],
             [
              0.4444444444444444,
              "#bd3786"
             ],
             [
              0.5555555555555556,
              "#d8576b"
             ],
             [
              0.6666666666666666,
              "#ed7953"
             ],
             [
              0.7777777777777778,
              "#fb9f3a"
             ],
             [
              0.8888888888888888,
              "#fdca26"
             ],
             [
              1,
              "#f0f921"
             ]
            ],
            "type": "histogram2d"
           }
          ],
          "histogram2dcontour": [
           {
            "colorbar": {
             "outlinewidth": 0,
             "ticks": ""
            },
            "colorscale": [
             [
              0,
              "#0d0887"
             ],
             [
              0.1111111111111111,
              "#46039f"
             ],
             [
              0.2222222222222222,
              "#7201a8"
             ],
             [
              0.3333333333333333,
              "#9c179e"
             ],
             [
              0.4444444444444444,
              "#bd3786"
             ],
             [
              0.5555555555555556,
              "#d8576b"
             ],
             [
              0.6666666666666666,
              "#ed7953"
             ],
             [
              0.7777777777777778,
              "#fb9f3a"
             ],
             [
              0.8888888888888888,
              "#fdca26"
             ],
             [
              1,
              "#f0f921"
             ]
            ],
            "type": "histogram2dcontour"
           }
          ],
          "mesh3d": [
           {
            "colorbar": {
             "outlinewidth": 0,
             "ticks": ""
            },
            "type": "mesh3d"
           }
          ],
          "parcoords": [
           {
            "line": {
             "colorbar": {
              "outlinewidth": 0,
              "ticks": ""
             }
            },
            "type": "parcoords"
           }
          ],
          "pie": [
           {
            "automargin": true,
            "type": "pie"
           }
          ],
          "scatter": [
           {
            "fillpattern": {
             "fillmode": "overlay",
             "size": 10,
             "solidity": 0.2
            },
            "type": "scatter"
           }
          ],
          "scatter3d": [
           {
            "line": {
             "colorbar": {
              "outlinewidth": 0,
              "ticks": ""
             }
            },
            "marker": {
             "colorbar": {
              "outlinewidth": 0,
              "ticks": ""
             }
            },
            "type": "scatter3d"
           }
          ],
          "scattercarpet": [
           {
            "marker": {
             "colorbar": {
              "outlinewidth": 0,
              "ticks": ""
             }
            },
            "type": "scattercarpet"
           }
          ],
          "scattergeo": [
           {
            "marker": {
             "colorbar": {
              "outlinewidth": 0,
              "ticks": ""
             }
            },
            "type": "scattergeo"
           }
          ],
          "scattergl": [
           {
            "marker": {
             "colorbar": {
              "outlinewidth": 0,
              "ticks": ""
             }
            },
            "type": "scattergl"
           }
          ],
          "scattermapbox": [
           {
            "marker": {
             "colorbar": {
              "outlinewidth": 0,
              "ticks": ""
             }
            },
            "type": "scattermapbox"
           }
          ],
          "scatterpolar": [
           {
            "marker": {
             "colorbar": {
              "outlinewidth": 0,
              "ticks": ""
             }
            },
            "type": "scatterpolar"
           }
          ],
          "scatterpolargl": [
           {
            "marker": {
             "colorbar": {
              "outlinewidth": 0,
              "ticks": ""
             }
            },
            "type": "scatterpolargl"
           }
          ],
          "scatterternary": [
           {
            "marker": {
             "colorbar": {
              "outlinewidth": 0,
              "ticks": ""
             }
            },
            "type": "scatterternary"
           }
          ],
          "surface": [
           {
            "colorbar": {
             "outlinewidth": 0,
             "ticks": ""
            },
            "colorscale": [
             [
              0,
              "#0d0887"
             ],
             [
              0.1111111111111111,
              "#46039f"
             ],
             [
              0.2222222222222222,
              "#7201a8"
             ],
             [
              0.3333333333333333,
              "#9c179e"
             ],
             [
              0.4444444444444444,
              "#bd3786"
             ],
             [
              0.5555555555555556,
              "#d8576b"
             ],
             [
              0.6666666666666666,
              "#ed7953"
             ],
             [
              0.7777777777777778,
              "#fb9f3a"
             ],
             [
              0.8888888888888888,
              "#fdca26"
             ],
             [
              1,
              "#f0f921"
             ]
            ],
            "type": "surface"
           }
          ],
          "table": [
           {
            "cells": {
             "fill": {
              "color": "#EBF0F8"
             },
             "line": {
              "color": "white"
             }
            },
            "header": {
             "fill": {
              "color": "#C8D4E3"
             },
             "line": {
              "color": "white"
             }
            },
            "type": "table"
           }
          ]
         },
         "layout": {
          "annotationdefaults": {
           "arrowcolor": "#2a3f5f",
           "arrowhead": 0,
           "arrowwidth": 1
          },
          "autotypenumbers": "strict",
          "coloraxis": {
           "colorbar": {
            "outlinewidth": 0,
            "ticks": ""
           }
          },
          "colorscale": {
           "diverging": [
            [
             0,
             "#8e0152"
            ],
            [
             0.1,
             "#c51b7d"
            ],
            [
             0.2,
             "#de77ae"
            ],
            [
             0.3,
             "#f1b6da"
            ],
            [
             0.4,
             "#fde0ef"
            ],
            [
             0.5,
             "#f7f7f7"
            ],
            [
             0.6,
             "#e6f5d0"
            ],
            [
             0.7,
             "#b8e186"
            ],
            [
             0.8,
             "#7fbc41"
            ],
            [
             0.9,
             "#4d9221"
            ],
            [
             1,
             "#276419"
            ]
           ],
           "sequential": [
            [
             0,
             "#0d0887"
            ],
            [
             0.1111111111111111,
             "#46039f"
            ],
            [
             0.2222222222222222,
             "#7201a8"
            ],
            [
             0.3333333333333333,
             "#9c179e"
            ],
            [
             0.4444444444444444,
             "#bd3786"
            ],
            [
             0.5555555555555556,
             "#d8576b"
            ],
            [
             0.6666666666666666,
             "#ed7953"
            ],
            [
             0.7777777777777778,
             "#fb9f3a"
            ],
            [
             0.8888888888888888,
             "#fdca26"
            ],
            [
             1,
             "#f0f921"
            ]
           ],
           "sequentialminus": [
            [
             0,
             "#0d0887"
            ],
            [
             0.1111111111111111,
             "#46039f"
            ],
            [
             0.2222222222222222,
             "#7201a8"
            ],
            [
             0.3333333333333333,
             "#9c179e"
            ],
            [
             0.4444444444444444,
             "#bd3786"
            ],
            [
             0.5555555555555556,
             "#d8576b"
            ],
            [
             0.6666666666666666,
             "#ed7953"
            ],
            [
             0.7777777777777778,
             "#fb9f3a"
            ],
            [
             0.8888888888888888,
             "#fdca26"
            ],
            [
             1,
             "#f0f921"
            ]
           ]
          },
          "colorway": [
           "#636efa",
           "#EF553B",
           "#00cc96",
           "#ab63fa",
           "#FFA15A",
           "#19d3f3",
           "#FF6692",
           "#B6E880",
           "#FF97FF",
           "#FECB52"
          ],
          "font": {
           "color": "#2a3f5f"
          },
          "geo": {
           "bgcolor": "white",
           "lakecolor": "white",
           "landcolor": "#E5ECF6",
           "showlakes": true,
           "showland": true,
           "subunitcolor": "white"
          },
          "hoverlabel": {
           "align": "left"
          },
          "hovermode": "closest",
          "mapbox": {
           "style": "light"
          },
          "paper_bgcolor": "white",
          "plot_bgcolor": "#E5ECF6",
          "polar": {
           "angularaxis": {
            "gridcolor": "white",
            "linecolor": "white",
            "ticks": ""
           },
           "bgcolor": "#E5ECF6",
           "radialaxis": {
            "gridcolor": "white",
            "linecolor": "white",
            "ticks": ""
           }
          },
          "scene": {
           "xaxis": {
            "backgroundcolor": "#E5ECF6",
            "gridcolor": "white",
            "gridwidth": 2,
            "linecolor": "white",
            "showbackground": true,
            "ticks": "",
            "zerolinecolor": "white"
           },
           "yaxis": {
            "backgroundcolor": "#E5ECF6",
            "gridcolor": "white",
            "gridwidth": 2,
            "linecolor": "white",
            "showbackground": true,
            "ticks": "",
            "zerolinecolor": "white"
           },
           "zaxis": {
            "backgroundcolor": "#E5ECF6",
            "gridcolor": "white",
            "gridwidth": 2,
            "linecolor": "white",
            "showbackground": true,
            "ticks": "",
            "zerolinecolor": "white"
           }
          },
          "shapedefaults": {
           "line": {
            "color": "#2a3f5f"
           }
          },
          "ternary": {
           "aaxis": {
            "gridcolor": "white",
            "linecolor": "white",
            "ticks": ""
           },
           "baxis": {
            "gridcolor": "white",
            "linecolor": "white",
            "ticks": ""
           },
           "bgcolor": "#E5ECF6",
           "caxis": {
            "gridcolor": "white",
            "linecolor": "white",
            "ticks": ""
           }
          },
          "title": {
           "x": 0.05
          },
          "xaxis": {
           "automargin": true,
           "gridcolor": "white",
           "linecolor": "white",
           "ticks": "",
           "title": {
            "standoff": 15
           },
           "zerolinecolor": "white",
           "zerolinewidth": 2
          },
          "yaxis": {
           "automargin": true,
           "gridcolor": "white",
           "linecolor": "white",
           "ticks": "",
           "title": {
            "standoff": 15
           },
           "zerolinecolor": "white",
           "zerolinewidth": 2
          }
         }
        },
        "title": {
         "text": "UMAP Projection"
        },
        "xaxis": {
         "anchor": "y",
         "domain": [
          0,
          1
         ],
         "title": {
          "text": "UMAP Component 1"
         }
        },
        "yaxis": {
         "anchor": "x",
         "domain": [
          0,
          1
         ],
         "title": {
          "text": "UMAP Component 2"
         }
        }
       }
      }
     },
     "metadata": {},
     "output_type": "display_data"
    }
   ],
   "source": [
    "from src.StreamPort.ml.MachineLearningEngine import MachineLearningEngine\n",
    "from src.StreamPort.ml.MachineLearningProcessingSettings import  MakeModelUMAP\n",
    "\n",
    "#Creates an empty MachineLearningEngine object and prints it\n",
    "path = 'feature_list.csv'\n",
    "engine = MachineLearningEngine()\n",
    "engine.add_analyses_from_csv(path)\n",
    "\n",
    "class_path = 'feature_metadata.csv'\n",
    "engine.add_classes_from_csv(class_path)\n",
    "engine.print()\n",
    "\n",
    "umap_model = MakeModelUMAP(n_neighbors=15, min_dist=0.1, n_components=2,random_state=42)\n",
    "engine.add_settings(umap_model)\n",
    "engine.print()\n",
    "engine.run_workflow()\n",
    "engine.plot_umap()\n"
   ]
  },
  {
   "cell_type": "code",
   "execution_count": 1,
   "metadata": {},
   "outputs": [
    {
     "name": "stdout",
     "output_type": "stream",
     "text": [
      "Structure of the CSV file: {'number_of_rows': 45, 'number_of_columns': 4445}\n",
      "\n",
      "MachineLearningEngine \n",
      "  name: None \n",
      "  author: None \n",
      "  path: None \n",
      "  date: 2024-10-15 13:57:24.908298 \n",
      "  analyses: 45 \n",
      "  settings: 0 \n",
      "\n",
      "Running workflow with settings: MakeModel\n"
     ]
    },
    {
     "name": "stderr",
     "output_type": "stream",
     "text": [
      "c:\\Users\\aylen\\IUTA\\StreamPort\\.venv\\Lib\\site-packages\\umap\\umap_.py:1945: UserWarning: n_jobs value 1 overridden to 1 by setting random_state. Use no seed for parallelism.\n",
      "  warn(f\"n_jobs value {self.n_jobs} overridden to 1 by setting random_state. Use no seed for parallelism.\")\n"
     ]
    },
    {
     "data": {
      "application/vnd.plotly.v1+json": {
       "config": {
        "plotlyServerURL": "https://plot.ly"
       },
       "data": [
        {
         "hovertemplate": "class=march-control<br>UMAP Component 1=%{x}<br>UMAP Component 2=%{y}<extra></extra>",
         "legendgroup": "march-control",
         "marker": {
          "color": "#636efa",
          "symbol": "circle"
         },
         "mode": "markers",
         "name": "march-control",
         "orientation": "v",
         "showlegend": true,
         "type": "scatter",
         "x": [
          5.678569793701172,
          6.152231216430664,
          5.955126762390137,
          5.652645587921143,
          5.359827518463135,
          5.151177406311035,
          6.069325923919678,
          5.649795055389404,
          5.602123260498047
         ],
         "xaxis": "x",
         "y": [
          10.59228801727295,
          10.554802894592285,
          10.74842643737793,
          10.400136947631836,
          10.398282051086426,
          10.63251781463623,
          10.271852493286133,
          10.940072059631348,
          10.160383224487305
         ],
         "yaxis": "y"
        },
        {
         "hovertemplate": "class=march-influent_ozone<br>UMAP Component 1=%{x}<br>UMAP Component 2=%{y}<extra></extra>",
         "legendgroup": "march-influent_ozone",
         "marker": {
          "color": "#EF553B",
          "symbol": "circle"
         },
         "mode": "markers",
         "name": "march-influent_ozone",
         "orientation": "v",
         "showlegend": true,
         "type": "scatter",
         "x": [
          10.035520553588867,
          10.160438537597656,
          10.613149642944336,
          10.928435325622559,
          10.54018783569336,
          11.602558135986328,
          12.667728424072266,
          12.815281867980957,
          12.290887832641602
         ],
         "xaxis": "x",
         "y": [
          10.4909086227417,
          10.762101173400879,
          10.501781463623047,
          10.195260047912598,
          10.035114288330078,
          11.59178638458252,
          10.681520462036133,
          11.093395233154297,
          10.436756134033203
         ],
         "yaxis": "y"
        },
        {
         "hovertemplate": "class=march-influent_uv<br>UMAP Component 1=%{x}<br>UMAP Component 2=%{y}<extra></extra>",
         "legendgroup": "march-influent_uv",
         "marker": {
          "color": "#00cc96",
          "symbol": "circle"
         },
         "mode": "markers",
         "name": "march-influent_uv",
         "orientation": "v",
         "showlegend": true,
         "type": "scatter",
         "x": [
          9.811813354492188,
          10.126282691955566,
          11.654661178588867,
          11.007644653320312,
          10.678743362426758,
          11.765157699584961,
          12.17572021484375,
          12.484783172607422,
          12.164288520812988
         ],
         "xaxis": "x",
         "y": [
          10.95048713684082,
          11.11514949798584,
          11.152046203613281,
          10.637232780456543,
          10.917900085449219,
          11.39693832397461,
          11.29162883758545,
          11.028775215148926,
          10.565698623657227
         ],
         "yaxis": "y"
        },
        {
         "hovertemplate": "class=march-influent_ac<br>UMAP Component 1=%{x}<br>UMAP Component 2=%{y}<extra></extra>",
         "legendgroup": "march-influent_ac",
         "marker": {
          "color": "#ab63fa",
          "symbol": "circle"
         },
         "mode": "markers",
         "name": "march-influent_ac",
         "orientation": "v",
         "showlegend": true,
         "type": "scatter",
         "x": [
          11.015119552612305,
          9.681015014648438,
          10.094024658203125,
          10.343534469604492,
          10.535872459411621,
          11.921751976013184,
          12.295166969299316,
          12.560717582702637,
          11.981863975524902
         ],
         "xaxis": "x",
         "y": [
          11.67503547668457,
          11.490462303161621,
          11.82529354095459,
          11.515803337097168,
          11.983759880065918,
          11.855764389038086,
          11.837669372558594,
          11.46788215637207,
          10.78264331817627
         ],
         "yaxis": "y"
        },
        {
         "hovertemplate": "class=march-effluent<br>UMAP Component 1=%{x}<br>UMAP Component 2=%{y}<extra></extra>",
         "legendgroup": "march-effluent",
         "marker": {
          "color": "#FFA15A",
          "symbol": "circle"
         },
         "mode": "markers",
         "name": "march-effluent",
         "orientation": "v",
         "showlegend": true,
         "type": "scatter",
         "x": [
          8.735218048095703,
          8.304195404052734,
          8.479594230651855,
          8.54261589050293,
          8.011969566345215,
          7.548499584197998,
          7.717628002166748,
          8.103784561157227,
          7.7165727615356445
         ],
         "xaxis": "x",
         "y": [
          11.42412281036377,
          10.965469360351562,
          11.185861587524414,
          10.877495765686035,
          11.231300354003906,
          11.073007583618164,
          11.735618591308594,
          11.638378143310547,
          11.376514434814453
         ],
         "yaxis": "y"
        }
       ],
       "layout": {
        "legend": {
         "title": {
          "text": "class"
         },
         "tracegroupgap": 0
        },
        "template": {
         "data": {
          "bar": [
           {
            "error_x": {
             "color": "#2a3f5f"
            },
            "error_y": {
             "color": "#2a3f5f"
            },
            "marker": {
             "line": {
              "color": "#E5ECF6",
              "width": 0.5
             },
             "pattern": {
              "fillmode": "overlay",
              "size": 10,
              "solidity": 0.2
             }
            },
            "type": "bar"
           }
          ],
          "barpolar": [
           {
            "marker": {
             "line": {
              "color": "#E5ECF6",
              "width": 0.5
             },
             "pattern": {
              "fillmode": "overlay",
              "size": 10,
              "solidity": 0.2
             }
            },
            "type": "barpolar"
           }
          ],
          "carpet": [
           {
            "aaxis": {
             "endlinecolor": "#2a3f5f",
             "gridcolor": "white",
             "linecolor": "white",
             "minorgridcolor": "white",
             "startlinecolor": "#2a3f5f"
            },
            "baxis": {
             "endlinecolor": "#2a3f5f",
             "gridcolor": "white",
             "linecolor": "white",
             "minorgridcolor": "white",
             "startlinecolor": "#2a3f5f"
            },
            "type": "carpet"
           }
          ],
          "choropleth": [
           {
            "colorbar": {
             "outlinewidth": 0,
             "ticks": ""
            },
            "type": "choropleth"
           }
          ],
          "contour": [
           {
            "colorbar": {
             "outlinewidth": 0,
             "ticks": ""
            },
            "colorscale": [
             [
              0,
              "#0d0887"
             ],
             [
              0.1111111111111111,
              "#46039f"
             ],
             [
              0.2222222222222222,
              "#7201a8"
             ],
             [
              0.3333333333333333,
              "#9c179e"
             ],
             [
              0.4444444444444444,
              "#bd3786"
             ],
             [
              0.5555555555555556,
              "#d8576b"
             ],
             [
              0.6666666666666666,
              "#ed7953"
             ],
             [
              0.7777777777777778,
              "#fb9f3a"
             ],
             [
              0.8888888888888888,
              "#fdca26"
             ],
             [
              1,
              "#f0f921"
             ]
            ],
            "type": "contour"
           }
          ],
          "contourcarpet": [
           {
            "colorbar": {
             "outlinewidth": 0,
             "ticks": ""
            },
            "type": "contourcarpet"
           }
          ],
          "heatmap": [
           {
            "colorbar": {
             "outlinewidth": 0,
             "ticks": ""
            },
            "colorscale": [
             [
              0,
              "#0d0887"
             ],
             [
              0.1111111111111111,
              "#46039f"
             ],
             [
              0.2222222222222222,
              "#7201a8"
             ],
             [
              0.3333333333333333,
              "#9c179e"
             ],
             [
              0.4444444444444444,
              "#bd3786"
             ],
             [
              0.5555555555555556,
              "#d8576b"
             ],
             [
              0.6666666666666666,
              "#ed7953"
             ],
             [
              0.7777777777777778,
              "#fb9f3a"
             ],
             [
              0.8888888888888888,
              "#fdca26"
             ],
             [
              1,
              "#f0f921"
             ]
            ],
            "type": "heatmap"
           }
          ],
          "heatmapgl": [
           {
            "colorbar": {
             "outlinewidth": 0,
             "ticks": ""
            },
            "colorscale": [
             [
              0,
              "#0d0887"
             ],
             [
              0.1111111111111111,
              "#46039f"
             ],
             [
              0.2222222222222222,
              "#7201a8"
             ],
             [
              0.3333333333333333,
              "#9c179e"
             ],
             [
              0.4444444444444444,
              "#bd3786"
             ],
             [
              0.5555555555555556,
              "#d8576b"
             ],
             [
              0.6666666666666666,
              "#ed7953"
             ],
             [
              0.7777777777777778,
              "#fb9f3a"
             ],
             [
              0.8888888888888888,
              "#fdca26"
             ],
             [
              1,
              "#f0f921"
             ]
            ],
            "type": "heatmapgl"
           }
          ],
          "histogram": [
           {
            "marker": {
             "pattern": {
              "fillmode": "overlay",
              "size": 10,
              "solidity": 0.2
             }
            },
            "type": "histogram"
           }
          ],
          "histogram2d": [
           {
            "colorbar": {
             "outlinewidth": 0,
             "ticks": ""
            },
            "colorscale": [
             [
              0,
              "#0d0887"
             ],
             [
              0.1111111111111111,
              "#46039f"
             ],
             [
              0.2222222222222222,
              "#7201a8"
             ],
             [
              0.3333333333333333,
              "#9c179e"
             ],
             [
              0.4444444444444444,
              "#bd3786"
             ],
             [
              0.5555555555555556,
              "#d8576b"
             ],
             [
              0.6666666666666666,
              "#ed7953"
             ],
             [
              0.7777777777777778,
              "#fb9f3a"
             ],
             [
              0.8888888888888888,
              "#fdca26"
             ],
             [
              1,
              "#f0f921"
             ]
            ],
            "type": "histogram2d"
           }
          ],
          "histogram2dcontour": [
           {
            "colorbar": {
             "outlinewidth": 0,
             "ticks": ""
            },
            "colorscale": [
             [
              0,
              "#0d0887"
             ],
             [
              0.1111111111111111,
              "#46039f"
             ],
             [
              0.2222222222222222,
              "#7201a8"
             ],
             [
              0.3333333333333333,
              "#9c179e"
             ],
             [
              0.4444444444444444,
              "#bd3786"
             ],
             [
              0.5555555555555556,
              "#d8576b"
             ],
             [
              0.6666666666666666,
              "#ed7953"
             ],
             [
              0.7777777777777778,
              "#fb9f3a"
             ],
             [
              0.8888888888888888,
              "#fdca26"
             ],
             [
              1,
              "#f0f921"
             ]
            ],
            "type": "histogram2dcontour"
           }
          ],
          "mesh3d": [
           {
            "colorbar": {
             "outlinewidth": 0,
             "ticks": ""
            },
            "type": "mesh3d"
           }
          ],
          "parcoords": [
           {
            "line": {
             "colorbar": {
              "outlinewidth": 0,
              "ticks": ""
             }
            },
            "type": "parcoords"
           }
          ],
          "pie": [
           {
            "automargin": true,
            "type": "pie"
           }
          ],
          "scatter": [
           {
            "fillpattern": {
             "fillmode": "overlay",
             "size": 10,
             "solidity": 0.2
            },
            "type": "scatter"
           }
          ],
          "scatter3d": [
           {
            "line": {
             "colorbar": {
              "outlinewidth": 0,
              "ticks": ""
             }
            },
            "marker": {
             "colorbar": {
              "outlinewidth": 0,
              "ticks": ""
             }
            },
            "type": "scatter3d"
           }
          ],
          "scattercarpet": [
           {
            "marker": {
             "colorbar": {
              "outlinewidth": 0,
              "ticks": ""
             }
            },
            "type": "scattercarpet"
           }
          ],
          "scattergeo": [
           {
            "marker": {
             "colorbar": {
              "outlinewidth": 0,
              "ticks": ""
             }
            },
            "type": "scattergeo"
           }
          ],
          "scattergl": [
           {
            "marker": {
             "colorbar": {
              "outlinewidth": 0,
              "ticks": ""
             }
            },
            "type": "scattergl"
           }
          ],
          "scattermapbox": [
           {
            "marker": {
             "colorbar": {
              "outlinewidth": 0,
              "ticks": ""
             }
            },
            "type": "scattermapbox"
           }
          ],
          "scatterpolar": [
           {
            "marker": {
             "colorbar": {
              "outlinewidth": 0,
              "ticks": ""
             }
            },
            "type": "scatterpolar"
           }
          ],
          "scatterpolargl": [
           {
            "marker": {
             "colorbar": {
              "outlinewidth": 0,
              "ticks": ""
             }
            },
            "type": "scatterpolargl"
           }
          ],
          "scatterternary": [
           {
            "marker": {
             "colorbar": {
              "outlinewidth": 0,
              "ticks": ""
             }
            },
            "type": "scatterternary"
           }
          ],
          "surface": [
           {
            "colorbar": {
             "outlinewidth": 0,
             "ticks": ""
            },
            "colorscale": [
             [
              0,
              "#0d0887"
             ],
             [
              0.1111111111111111,
              "#46039f"
             ],
             [
              0.2222222222222222,
              "#7201a8"
             ],
             [
              0.3333333333333333,
              "#9c179e"
             ],
             [
              0.4444444444444444,
              "#bd3786"
             ],
             [
              0.5555555555555556,
              "#d8576b"
             ],
             [
              0.6666666666666666,
              "#ed7953"
             ],
             [
              0.7777777777777778,
              "#fb9f3a"
             ],
             [
              0.8888888888888888,
              "#fdca26"
             ],
             [
              1,
              "#f0f921"
             ]
            ],
            "type": "surface"
           }
          ],
          "table": [
           {
            "cells": {
             "fill": {
              "color": "#EBF0F8"
             },
             "line": {
              "color": "white"
             }
            },
            "header": {
             "fill": {
              "color": "#C8D4E3"
             },
             "line": {
              "color": "white"
             }
            },
            "type": "table"
           }
          ]
         },
         "layout": {
          "annotationdefaults": {
           "arrowcolor": "#2a3f5f",
           "arrowhead": 0,
           "arrowwidth": 1
          },
          "autotypenumbers": "strict",
          "coloraxis": {
           "colorbar": {
            "outlinewidth": 0,
            "ticks": ""
           }
          },
          "colorscale": {
           "diverging": [
            [
             0,
             "#8e0152"
            ],
            [
             0.1,
             "#c51b7d"
            ],
            [
             0.2,
             "#de77ae"
            ],
            [
             0.3,
             "#f1b6da"
            ],
            [
             0.4,
             "#fde0ef"
            ],
            [
             0.5,
             "#f7f7f7"
            ],
            [
             0.6,
             "#e6f5d0"
            ],
            [
             0.7,
             "#b8e186"
            ],
            [
             0.8,
             "#7fbc41"
            ],
            [
             0.9,
             "#4d9221"
            ],
            [
             1,
             "#276419"
            ]
           ],
           "sequential": [
            [
             0,
             "#0d0887"
            ],
            [
             0.1111111111111111,
             "#46039f"
            ],
            [
             0.2222222222222222,
             "#7201a8"
            ],
            [
             0.3333333333333333,
             "#9c179e"
            ],
            [
             0.4444444444444444,
             "#bd3786"
            ],
            [
             0.5555555555555556,
             "#d8576b"
            ],
            [
             0.6666666666666666,
             "#ed7953"
            ],
            [
             0.7777777777777778,
             "#fb9f3a"
            ],
            [
             0.8888888888888888,
             "#fdca26"
            ],
            [
             1,
             "#f0f921"
            ]
           ],
           "sequentialminus": [
            [
             0,
             "#0d0887"
            ],
            [
             0.1111111111111111,
             "#46039f"
            ],
            [
             0.2222222222222222,
             "#7201a8"
            ],
            [
             0.3333333333333333,
             "#9c179e"
            ],
            [
             0.4444444444444444,
             "#bd3786"
            ],
            [
             0.5555555555555556,
             "#d8576b"
            ],
            [
             0.6666666666666666,
             "#ed7953"
            ],
            [
             0.7777777777777778,
             "#fb9f3a"
            ],
            [
             0.8888888888888888,
             "#fdca26"
            ],
            [
             1,
             "#f0f921"
            ]
           ]
          },
          "colorway": [
           "#636efa",
           "#EF553B",
           "#00cc96",
           "#ab63fa",
           "#FFA15A",
           "#19d3f3",
           "#FF6692",
           "#B6E880",
           "#FF97FF",
           "#FECB52"
          ],
          "font": {
           "color": "#2a3f5f"
          },
          "geo": {
           "bgcolor": "white",
           "lakecolor": "white",
           "landcolor": "#E5ECF6",
           "showlakes": true,
           "showland": true,
           "subunitcolor": "white"
          },
          "hoverlabel": {
           "align": "left"
          },
          "hovermode": "closest",
          "mapbox": {
           "style": "light"
          },
          "paper_bgcolor": "white",
          "plot_bgcolor": "#E5ECF6",
          "polar": {
           "angularaxis": {
            "gridcolor": "white",
            "linecolor": "white",
            "ticks": ""
           },
           "bgcolor": "#E5ECF6",
           "radialaxis": {
            "gridcolor": "white",
            "linecolor": "white",
            "ticks": ""
           }
          },
          "scene": {
           "xaxis": {
            "backgroundcolor": "#E5ECF6",
            "gridcolor": "white",
            "gridwidth": 2,
            "linecolor": "white",
            "showbackground": true,
            "ticks": "",
            "zerolinecolor": "white"
           },
           "yaxis": {
            "backgroundcolor": "#E5ECF6",
            "gridcolor": "white",
            "gridwidth": 2,
            "linecolor": "white",
            "showbackground": true,
            "ticks": "",
            "zerolinecolor": "white"
           },
           "zaxis": {
            "backgroundcolor": "#E5ECF6",
            "gridcolor": "white",
            "gridwidth": 2,
            "linecolor": "white",
            "showbackground": true,
            "ticks": "",
            "zerolinecolor": "white"
           }
          },
          "shapedefaults": {
           "line": {
            "color": "#2a3f5f"
           }
          },
          "ternary": {
           "aaxis": {
            "gridcolor": "white",
            "linecolor": "white",
            "ticks": ""
           },
           "baxis": {
            "gridcolor": "white",
            "linecolor": "white",
            "ticks": ""
           },
           "bgcolor": "#E5ECF6",
           "caxis": {
            "gridcolor": "white",
            "linecolor": "white",
            "ticks": ""
           }
          },
          "title": {
           "x": 0.05
          },
          "xaxis": {
           "automargin": true,
           "gridcolor": "white",
           "linecolor": "white",
           "ticks": "",
           "title": {
            "standoff": 15
           },
           "zerolinecolor": "white",
           "zerolinewidth": 2
          },
          "yaxis": {
           "automargin": true,
           "gridcolor": "white",
           "linecolor": "white",
           "ticks": "",
           "title": {
            "standoff": 15
           },
           "zerolinecolor": "white",
           "zerolinewidth": 2
          }
         }
        },
        "title": {
         "text": "UMAP Projection"
        },
        "xaxis": {
         "anchor": "y",
         "domain": [
          0,
          1
         ],
         "title": {
          "text": "UMAP Component 1"
         }
        },
        "yaxis": {
         "anchor": "x",
         "domain": [
          0,
          1
         ],
         "title": {
          "text": "UMAP Component 2"
         }
        }
       }
      }
     },
     "metadata": {},
     "output_type": "display_data"
    },
    {
     "name": "stdout",
     "output_type": "stream",
     "text": [
      "\n",
      "MachineLearningEngine \n",
      "  name: None \n",
      "  author: None \n",
      "  path: None \n",
      "  date: 2024-10-15 13:57:24.908298 \n",
      "  analyses: 45 \n",
      "  settings: 1 \n",
      "\n",
      "Running workflow with settings: MakeModel\n"
     ]
    },
    {
     "name": "stderr",
     "output_type": "stream",
     "text": [
      "c:\\Users\\aylen\\IUTA\\StreamPort\\.venv\\Lib\\site-packages\\umap\\umap_.py:1945: UserWarning:\n",
      "\n",
      "n_jobs value 1 overridden to 1 by setting random_state. Use no seed for parallelism.\n",
      "\n"
     ]
    },
    {
     "data": {
      "application/vnd.plotly.v1+json": {
       "config": {
        "plotlyServerURL": "https://plot.ly"
       },
       "data": [
        {
         "hovertemplate": "class=march-control<br>UMAP Component 1=%{x}<br>UMAP Component 2=%{y}<extra></extra>",
         "legendgroup": "march-control",
         "marker": {
          "color": "#636efa",
          "symbol": "circle"
         },
         "mode": "markers",
         "name": "march-control",
         "orientation": "v",
         "showlegend": true,
         "type": "scatter",
         "x": [
          5.678569793701172,
          5.955126762390137,
          5.359827518463135,
          6.069325923919678,
          5.602123260498047
         ],
         "xaxis": "x",
         "y": [
          10.59228801727295,
          10.74842643737793,
          10.398282051086426,
          10.271852493286133,
          10.160383224487305
         ],
         "yaxis": "y"
        },
        {
         "hovertemplate": "class=march-influent_ozone<br>UMAP Component 1=%{x}<br>UMAP Component 2=%{y}<extra></extra>",
         "legendgroup": "march-influent_ozone",
         "marker": {
          "color": "#EF553B",
          "symbol": "circle"
         },
         "mode": "markers",
         "name": "march-influent_ozone",
         "orientation": "v",
         "showlegend": true,
         "type": "scatter",
         "x": [
          10.035520553588867,
          10.613149642944336,
          10.54018783569336,
          12.667728424072266,
          12.290887832641602
         ],
         "xaxis": "x",
         "y": [
          10.4909086227417,
          10.501781463623047,
          10.035114288330078,
          10.681520462036133,
          10.436756134033203
         ],
         "yaxis": "y"
        },
        {
         "hovertemplate": "class=march-influent_uv<br>UMAP Component 1=%{x}<br>UMAP Component 2=%{y}<extra></extra>",
         "legendgroup": "march-influent_uv",
         "marker": {
          "color": "#00cc96",
          "symbol": "circle"
         },
         "mode": "markers",
         "name": "march-influent_uv",
         "orientation": "v",
         "showlegend": true,
         "type": "scatter",
         "x": [
          9.811813354492188,
          11.654661178588867,
          10.678743362426758,
          12.17572021484375,
          12.164288520812988
         ],
         "xaxis": "x",
         "y": [
          10.95048713684082,
          11.152046203613281,
          10.917900085449219,
          11.29162883758545,
          10.565698623657227
         ],
         "yaxis": "y"
        },
        {
         "hovertemplate": "class=march-influent_ac<br>UMAP Component 1=%{x}<br>UMAP Component 2=%{y}<extra></extra>",
         "legendgroup": "march-influent_ac",
         "marker": {
          "color": "#ab63fa",
          "symbol": "circle"
         },
         "mode": "markers",
         "name": "march-influent_ac",
         "orientation": "v",
         "showlegend": true,
         "type": "scatter",
         "x": [
          11.015119552612305,
          10.094024658203125,
          10.535872459411621,
          12.295166969299316,
          11.981863975524902
         ],
         "xaxis": "x",
         "y": [
          11.67503547668457,
          11.82529354095459,
          11.983759880065918,
          11.837669372558594,
          10.78264331817627
         ],
         "yaxis": "y"
        },
        {
         "hovertemplate": "class=march-effluent<br>UMAP Component 1=%{x}<br>UMAP Component 2=%{y}<extra></extra>",
         "legendgroup": "march-effluent",
         "marker": {
          "color": "#FFA15A",
          "symbol": "circle"
         },
         "mode": "markers",
         "name": "march-effluent",
         "orientation": "v",
         "showlegend": true,
         "type": "scatter",
         "x": [
          8.735218048095703,
          8.479594230651855,
          8.011969566345215,
          7.717628002166748,
          7.7165727615356445
         ],
         "xaxis": "x",
         "y": [
          11.42412281036377,
          11.185861587524414,
          11.231300354003906,
          11.735618591308594,
          11.376514434814453
         ],
         "yaxis": "y"
        },
        {
         "hovertemplate": "class=april-control<br>UMAP Component 1=%{x}<br>UMAP Component 2=%{y}<extra></extra>",
         "legendgroup": "april-control",
         "marker": {
          "color": "#19d3f3",
          "symbol": "circle"
         },
         "mode": "markers",
         "name": "april-control",
         "orientation": "v",
         "showlegend": true,
         "type": "scatter",
         "x": [
          6.152231216430664,
          5.652645587921143,
          5.151177406311035,
          5.649795055389404
         ],
         "xaxis": "x",
         "y": [
          10.554802894592285,
          10.400136947631836,
          10.63251781463623,
          10.940072059631348
         ],
         "yaxis": "y"
        },
        {
         "hovertemplate": "class=april-influent_ozone<br>UMAP Component 1=%{x}<br>UMAP Component 2=%{y}<extra></extra>",
         "legendgroup": "april-influent_ozone",
         "marker": {
          "color": "#FF6692",
          "symbol": "circle"
         },
         "mode": "markers",
         "name": "april-influent_ozone",
         "orientation": "v",
         "showlegend": true,
         "type": "scatter",
         "x": [
          10.160438537597656,
          10.928435325622559,
          11.602558135986328,
          12.815281867980957
         ],
         "xaxis": "x",
         "y": [
          10.762101173400879,
          10.195260047912598,
          11.59178638458252,
          11.093395233154297
         ],
         "yaxis": "y"
        },
        {
         "hovertemplate": "class=april-influent_uv<br>UMAP Component 1=%{x}<br>UMAP Component 2=%{y}<extra></extra>",
         "legendgroup": "april-influent_uv",
         "marker": {
          "color": "#B6E880",
          "symbol": "circle"
         },
         "mode": "markers",
         "name": "april-influent_uv",
         "orientation": "v",
         "showlegend": true,
         "type": "scatter",
         "x": [
          10.126282691955566,
          11.007644653320312,
          11.765157699584961,
          12.484783172607422
         ],
         "xaxis": "x",
         "y": [
          11.11514949798584,
          10.637232780456543,
          11.39693832397461,
          11.028775215148926
         ],
         "yaxis": "y"
        },
        {
         "hovertemplate": "class=april-influent_ac<br>UMAP Component 1=%{x}<br>UMAP Component 2=%{y}<extra></extra>",
         "legendgroup": "april-influent_ac",
         "marker": {
          "color": "#FF97FF",
          "symbol": "circle"
         },
         "mode": "markers",
         "name": "april-influent_ac",
         "orientation": "v",
         "showlegend": true,
         "type": "scatter",
         "x": [
          9.681015014648438,
          10.343534469604492,
          11.921751976013184,
          12.560717582702637
         ],
         "xaxis": "x",
         "y": [
          11.490462303161621,
          11.515803337097168,
          11.855764389038086,
          11.46788215637207
         ],
         "yaxis": "y"
        },
        {
         "hovertemplate": "class=april-effluent<br>UMAP Component 1=%{x}<br>UMAP Component 2=%{y}<extra></extra>",
         "legendgroup": "april-effluent",
         "marker": {
          "color": "#FECB52",
          "symbol": "circle"
         },
         "mode": "markers",
         "name": "april-effluent",
         "orientation": "v",
         "showlegend": true,
         "type": "scatter",
         "x": [
          8.304195404052734,
          8.54261589050293,
          7.548499584197998,
          8.103784561157227
         ],
         "xaxis": "x",
         "y": [
          10.965469360351562,
          10.877495765686035,
          11.073007583618164,
          11.638378143310547
         ],
         "yaxis": "y"
        }
       ],
       "layout": {
        "legend": {
         "title": {
          "text": "class"
         },
         "tracegroupgap": 0
        },
        "template": {
         "data": {
          "bar": [
           {
            "error_x": {
             "color": "#2a3f5f"
            },
            "error_y": {
             "color": "#2a3f5f"
            },
            "marker": {
             "line": {
              "color": "#E5ECF6",
              "width": 0.5
             },
             "pattern": {
              "fillmode": "overlay",
              "size": 10,
              "solidity": 0.2
             }
            },
            "type": "bar"
           }
          ],
          "barpolar": [
           {
            "marker": {
             "line": {
              "color": "#E5ECF6",
              "width": 0.5
             },
             "pattern": {
              "fillmode": "overlay",
              "size": 10,
              "solidity": 0.2
             }
            },
            "type": "barpolar"
           }
          ],
          "carpet": [
           {
            "aaxis": {
             "endlinecolor": "#2a3f5f",
             "gridcolor": "white",
             "linecolor": "white",
             "minorgridcolor": "white",
             "startlinecolor": "#2a3f5f"
            },
            "baxis": {
             "endlinecolor": "#2a3f5f",
             "gridcolor": "white",
             "linecolor": "white",
             "minorgridcolor": "white",
             "startlinecolor": "#2a3f5f"
            },
            "type": "carpet"
           }
          ],
          "choropleth": [
           {
            "colorbar": {
             "outlinewidth": 0,
             "ticks": ""
            },
            "type": "choropleth"
           }
          ],
          "contour": [
           {
            "colorbar": {
             "outlinewidth": 0,
             "ticks": ""
            },
            "colorscale": [
             [
              0,
              "#0d0887"
             ],
             [
              0.1111111111111111,
              "#46039f"
             ],
             [
              0.2222222222222222,
              "#7201a8"
             ],
             [
              0.3333333333333333,
              "#9c179e"
             ],
             [
              0.4444444444444444,
              "#bd3786"
             ],
             [
              0.5555555555555556,
              "#d8576b"
             ],
             [
              0.6666666666666666,
              "#ed7953"
             ],
             [
              0.7777777777777778,
              "#fb9f3a"
             ],
             [
              0.8888888888888888,
              "#fdca26"
             ],
             [
              1,
              "#f0f921"
             ]
            ],
            "type": "contour"
           }
          ],
          "contourcarpet": [
           {
            "colorbar": {
             "outlinewidth": 0,
             "ticks": ""
            },
            "type": "contourcarpet"
           }
          ],
          "heatmap": [
           {
            "colorbar": {
             "outlinewidth": 0,
             "ticks": ""
            },
            "colorscale": [
             [
              0,
              "#0d0887"
             ],
             [
              0.1111111111111111,
              "#46039f"
             ],
             [
              0.2222222222222222,
              "#7201a8"
             ],
             [
              0.3333333333333333,
              "#9c179e"
             ],
             [
              0.4444444444444444,
              "#bd3786"
             ],
             [
              0.5555555555555556,
              "#d8576b"
             ],
             [
              0.6666666666666666,
              "#ed7953"
             ],
             [
              0.7777777777777778,
              "#fb9f3a"
             ],
             [
              0.8888888888888888,
              "#fdca26"
             ],
             [
              1,
              "#f0f921"
             ]
            ],
            "type": "heatmap"
           }
          ],
          "heatmapgl": [
           {
            "colorbar": {
             "outlinewidth": 0,
             "ticks": ""
            },
            "colorscale": [
             [
              0,
              "#0d0887"
             ],
             [
              0.1111111111111111,
              "#46039f"
             ],
             [
              0.2222222222222222,
              "#7201a8"
             ],
             [
              0.3333333333333333,
              "#9c179e"
             ],
             [
              0.4444444444444444,
              "#bd3786"
             ],
             [
              0.5555555555555556,
              "#d8576b"
             ],
             [
              0.6666666666666666,
              "#ed7953"
             ],
             [
              0.7777777777777778,
              "#fb9f3a"
             ],
             [
              0.8888888888888888,
              "#fdca26"
             ],
             [
              1,
              "#f0f921"
             ]
            ],
            "type": "heatmapgl"
           }
          ],
          "histogram": [
           {
            "marker": {
             "pattern": {
              "fillmode": "overlay",
              "size": 10,
              "solidity": 0.2
             }
            },
            "type": "histogram"
           }
          ],
          "histogram2d": [
           {
            "colorbar": {
             "outlinewidth": 0,
             "ticks": ""
            },
            "colorscale": [
             [
              0,
              "#0d0887"
             ],
             [
              0.1111111111111111,
              "#46039f"
             ],
             [
              0.2222222222222222,
              "#7201a8"
             ],
             [
              0.3333333333333333,
              "#9c179e"
             ],
             [
              0.4444444444444444,
              "#bd3786"
             ],
             [
              0.5555555555555556,
              "#d8576b"
             ],
             [
              0.6666666666666666,
              "#ed7953"
             ],
             [
              0.7777777777777778,
              "#fb9f3a"
             ],
             [
              0.8888888888888888,
              "#fdca26"
             ],
             [
              1,
              "#f0f921"
             ]
            ],
            "type": "histogram2d"
           }
          ],
          "histogram2dcontour": [
           {
            "colorbar": {
             "outlinewidth": 0,
             "ticks": ""
            },
            "colorscale": [
             [
              0,
              "#0d0887"
             ],
             [
              0.1111111111111111,
              "#46039f"
             ],
             [
              0.2222222222222222,
              "#7201a8"
             ],
             [
              0.3333333333333333,
              "#9c179e"
             ],
             [
              0.4444444444444444,
              "#bd3786"
             ],
             [
              0.5555555555555556,
              "#d8576b"
             ],
             [
              0.6666666666666666,
              "#ed7953"
             ],
             [
              0.7777777777777778,
              "#fb9f3a"
             ],
             [
              0.8888888888888888,
              "#fdca26"
             ],
             [
              1,
              "#f0f921"
             ]
            ],
            "type": "histogram2dcontour"
           }
          ],
          "mesh3d": [
           {
            "colorbar": {
             "outlinewidth": 0,
             "ticks": ""
            },
            "type": "mesh3d"
           }
          ],
          "parcoords": [
           {
            "line": {
             "colorbar": {
              "outlinewidth": 0,
              "ticks": ""
             }
            },
            "type": "parcoords"
           }
          ],
          "pie": [
           {
            "automargin": true,
            "type": "pie"
           }
          ],
          "scatter": [
           {
            "fillpattern": {
             "fillmode": "overlay",
             "size": 10,
             "solidity": 0.2
            },
            "type": "scatter"
           }
          ],
          "scatter3d": [
           {
            "line": {
             "colorbar": {
              "outlinewidth": 0,
              "ticks": ""
             }
            },
            "marker": {
             "colorbar": {
              "outlinewidth": 0,
              "ticks": ""
             }
            },
            "type": "scatter3d"
           }
          ],
          "scattercarpet": [
           {
            "marker": {
             "colorbar": {
              "outlinewidth": 0,
              "ticks": ""
             }
            },
            "type": "scattercarpet"
           }
          ],
          "scattergeo": [
           {
            "marker": {
             "colorbar": {
              "outlinewidth": 0,
              "ticks": ""
             }
            },
            "type": "scattergeo"
           }
          ],
          "scattergl": [
           {
            "marker": {
             "colorbar": {
              "outlinewidth": 0,
              "ticks": ""
             }
            },
            "type": "scattergl"
           }
          ],
          "scattermapbox": [
           {
            "marker": {
             "colorbar": {
              "outlinewidth": 0,
              "ticks": ""
             }
            },
            "type": "scattermapbox"
           }
          ],
          "scatterpolar": [
           {
            "marker": {
             "colorbar": {
              "outlinewidth": 0,
              "ticks": ""
             }
            },
            "type": "scatterpolar"
           }
          ],
          "scatterpolargl": [
           {
            "marker": {
             "colorbar": {
              "outlinewidth": 0,
              "ticks": ""
             }
            },
            "type": "scatterpolargl"
           }
          ],
          "scatterternary": [
           {
            "marker": {
             "colorbar": {
              "outlinewidth": 0,
              "ticks": ""
             }
            },
            "type": "scatterternary"
           }
          ],
          "surface": [
           {
            "colorbar": {
             "outlinewidth": 0,
             "ticks": ""
            },
            "colorscale": [
             [
              0,
              "#0d0887"
             ],
             [
              0.1111111111111111,
              "#46039f"
             ],
             [
              0.2222222222222222,
              "#7201a8"
             ],
             [
              0.3333333333333333,
              "#9c179e"
             ],
             [
              0.4444444444444444,
              "#bd3786"
             ],
             [
              0.5555555555555556,
              "#d8576b"
             ],
             [
              0.6666666666666666,
              "#ed7953"
             ],
             [
              0.7777777777777778,
              "#fb9f3a"
             ],
             [
              0.8888888888888888,
              "#fdca26"
             ],
             [
              1,
              "#f0f921"
             ]
            ],
            "type": "surface"
           }
          ],
          "table": [
           {
            "cells": {
             "fill": {
              "color": "#EBF0F8"
             },
             "line": {
              "color": "white"
             }
            },
            "header": {
             "fill": {
              "color": "#C8D4E3"
             },
             "line": {
              "color": "white"
             }
            },
            "type": "table"
           }
          ]
         },
         "layout": {
          "annotationdefaults": {
           "arrowcolor": "#2a3f5f",
           "arrowhead": 0,
           "arrowwidth": 1
          },
          "autotypenumbers": "strict",
          "coloraxis": {
           "colorbar": {
            "outlinewidth": 0,
            "ticks": ""
           }
          },
          "colorscale": {
           "diverging": [
            [
             0,
             "#8e0152"
            ],
            [
             0.1,
             "#c51b7d"
            ],
            [
             0.2,
             "#de77ae"
            ],
            [
             0.3,
             "#f1b6da"
            ],
            [
             0.4,
             "#fde0ef"
            ],
            [
             0.5,
             "#f7f7f7"
            ],
            [
             0.6,
             "#e6f5d0"
            ],
            [
             0.7,
             "#b8e186"
            ],
            [
             0.8,
             "#7fbc41"
            ],
            [
             0.9,
             "#4d9221"
            ],
            [
             1,
             "#276419"
            ]
           ],
           "sequential": [
            [
             0,
             "#0d0887"
            ],
            [
             0.1111111111111111,
             "#46039f"
            ],
            [
             0.2222222222222222,
             "#7201a8"
            ],
            [
             0.3333333333333333,
             "#9c179e"
            ],
            [
             0.4444444444444444,
             "#bd3786"
            ],
            [
             0.5555555555555556,
             "#d8576b"
            ],
            [
             0.6666666666666666,
             "#ed7953"
            ],
            [
             0.7777777777777778,
             "#fb9f3a"
            ],
            [
             0.8888888888888888,
             "#fdca26"
            ],
            [
             1,
             "#f0f921"
            ]
           ],
           "sequentialminus": [
            [
             0,
             "#0d0887"
            ],
            [
             0.1111111111111111,
             "#46039f"
            ],
            [
             0.2222222222222222,
             "#7201a8"
            ],
            [
             0.3333333333333333,
             "#9c179e"
            ],
            [
             0.4444444444444444,
             "#bd3786"
            ],
            [
             0.5555555555555556,
             "#d8576b"
            ],
            [
             0.6666666666666666,
             "#ed7953"
            ],
            [
             0.7777777777777778,
             "#fb9f3a"
            ],
            [
             0.8888888888888888,
             "#fdca26"
            ],
            [
             1,
             "#f0f921"
            ]
           ]
          },
          "colorway": [
           "#636efa",
           "#EF553B",
           "#00cc96",
           "#ab63fa",
           "#FFA15A",
           "#19d3f3",
           "#FF6692",
           "#B6E880",
           "#FF97FF",
           "#FECB52"
          ],
          "font": {
           "color": "#2a3f5f"
          },
          "geo": {
           "bgcolor": "white",
           "lakecolor": "white",
           "landcolor": "#E5ECF6",
           "showlakes": true,
           "showland": true,
           "subunitcolor": "white"
          },
          "hoverlabel": {
           "align": "left"
          },
          "hovermode": "closest",
          "mapbox": {
           "style": "light"
          },
          "paper_bgcolor": "white",
          "plot_bgcolor": "#E5ECF6",
          "polar": {
           "angularaxis": {
            "gridcolor": "white",
            "linecolor": "white",
            "ticks": ""
           },
           "bgcolor": "#E5ECF6",
           "radialaxis": {
            "gridcolor": "white",
            "linecolor": "white",
            "ticks": ""
           }
          },
          "scene": {
           "xaxis": {
            "backgroundcolor": "#E5ECF6",
            "gridcolor": "white",
            "gridwidth": 2,
            "linecolor": "white",
            "showbackground": true,
            "ticks": "",
            "zerolinecolor": "white"
           },
           "yaxis": {
            "backgroundcolor": "#E5ECF6",
            "gridcolor": "white",
            "gridwidth": 2,
            "linecolor": "white",
            "showbackground": true,
            "ticks": "",
            "zerolinecolor": "white"
           },
           "zaxis": {
            "backgroundcolor": "#E5ECF6",
            "gridcolor": "white",
            "gridwidth": 2,
            "linecolor": "white",
            "showbackground": true,
            "ticks": "",
            "zerolinecolor": "white"
           }
          },
          "shapedefaults": {
           "line": {
            "color": "#2a3f5f"
           }
          },
          "ternary": {
           "aaxis": {
            "gridcolor": "white",
            "linecolor": "white",
            "ticks": ""
           },
           "baxis": {
            "gridcolor": "white",
            "linecolor": "white",
            "ticks": ""
           },
           "bgcolor": "#E5ECF6",
           "caxis": {
            "gridcolor": "white",
            "linecolor": "white",
            "ticks": ""
           }
          },
          "title": {
           "x": 0.05
          },
          "xaxis": {
           "automargin": true,
           "gridcolor": "white",
           "linecolor": "white",
           "ticks": "",
           "title": {
            "standoff": 15
           },
           "zerolinecolor": "white",
           "zerolinewidth": 2
          },
          "yaxis": {
           "automargin": true,
           "gridcolor": "white",
           "linecolor": "white",
           "ticks": "",
           "title": {
            "standoff": 15
           },
           "zerolinecolor": "white",
           "zerolinewidth": 2
          }
         }
        },
        "title": {
         "text": "UMAP Projection"
        },
        "xaxis": {
         "anchor": "y",
         "domain": [
          0,
          1
         ],
         "title": {
          "text": "UMAP Component 1"
         }
        },
        "yaxis": {
         "anchor": "x",
         "domain": [
          0,
          1
         ],
         "title": {
          "text": "UMAP Component 2"
         }
        }
       }
      }
     },
     "metadata": {},
     "output_type": "display_data"
    }
   ],
   "source": [
    "from src.StreamPort.ml.MachineLearningEngine import MachineLearningEngine\n",
    "from src.StreamPort.ml.MachineLearningProcessingSettings import  MakeModelUMAP\n",
    "\n",
    "path = 'feature_list.csv'\n",
    "engine = MachineLearningEngine()\n",
    "engine.add_analyses_from_csv(path)\n",
    "\n",
    "class_path = 'new_metadata.csv'\n",
    "\n",
    "#for march\n",
    "engine.month_march(class_path)\n",
    "engine.print()\n",
    "umap_model_march = MakeModelUMAP(n_neighbors=15, min_dist=0.1, n_components=2, random_state=42)\n",
    "engine.add_settings(umap_model_march)\n",
    "engine.run_workflow()\n",
    "engine.plot_umap()\n",
    "\n",
    "# #for april\n",
    "engine.month_april(class_path)\n",
    "engine.print()\n",
    "umap_model_april = MakeModelUMAP(n_neighbors=15, min_dist=0.1, n_components=2, random_state=42)\n",
    "engine.add_settings(umap_model_april)\n",
    "engine.run_workflow()\n",
    "engine.plot_umap()"
   ]
  },
  {
   "cell_type": "code",
   "execution_count": 3,
   "metadata": {},
   "outputs": [
    {
     "name": "stdout",
     "output_type": "stream",
     "text": [
      "Structure of the CSV file: {'number_of_rows': 45, 'number_of_columns': 4445}\n",
      "\n",
      "MachineLearningEngine \n",
      "  name: None \n",
      "  author: None \n",
      "  path: None \n",
      "  date: 2024-10-14 12:34:40.990528 \n",
      "  analyses: 45 \n",
      "  settings: 0 \n",
      "\n",
      "Running workflow with settings: MakeModel\n"
     ]
    },
    {
     "name": "stderr",
     "output_type": "stream",
     "text": [
      "c:\\Users\\aylen\\IUTA\\StreamPort\\.venv\\Lib\\site-packages\\umap\\umap_.py:1945: UserWarning:\n",
      "\n",
      "n_jobs value 1 overridden to 1 by setting random_state. Use no seed for parallelism.\n",
      "\n"
     ]
    },
    {
     "data": {
      "application/vnd.plotly.v1+json": {
       "config": {
        "plotlyServerURL": "https://plot.ly"
       },
       "data": [
        {
         "hovertemplate": "class=april-control<br>UMAP Component 1=%{x}<br>UMAP Component 2=%{y}<extra></extra>",
         "legendgroup": "april-control",
         "marker": {
          "color": "#636efa",
          "symbol": "circle"
         },
         "mode": "markers",
         "name": "april-control",
         "orientation": "v",
         "showlegend": true,
         "type": "scatter",
         "x": [
          5.678569793701172,
          6.152231216430664,
          5.955126762390137,
          5.652645587921143,
          5.359827518463135,
          5.151177406311035,
          6.069325923919678,
          5.649795055389404,
          5.602123260498047
         ],
         "xaxis": "x",
         "y": [
          10.59228801727295,
          10.554802894592285,
          10.74842643737793,
          10.400136947631836,
          10.398282051086426,
          10.63251781463623,
          10.271852493286133,
          10.940072059631348,
          10.160383224487305
         ],
         "yaxis": "y"
        },
        {
         "hovertemplate": "class=april-influent_ozone<br>UMAP Component 1=%{x}<br>UMAP Component 2=%{y}<extra></extra>",
         "legendgroup": "april-influent_ozone",
         "marker": {
          "color": "#EF553B",
          "symbol": "circle"
         },
         "mode": "markers",
         "name": "april-influent_ozone",
         "orientation": "v",
         "showlegend": true,
         "type": "scatter",
         "x": [
          10.035520553588867,
          10.160438537597656,
          10.613149642944336,
          10.928435325622559,
          10.54018783569336,
          11.602558135986328,
          12.667728424072266,
          12.815281867980957,
          12.290887832641602
         ],
         "xaxis": "x",
         "y": [
          10.4909086227417,
          10.762101173400879,
          10.501781463623047,
          10.195260047912598,
          10.035114288330078,
          11.59178638458252,
          10.681520462036133,
          11.093395233154297,
          10.436756134033203
         ],
         "yaxis": "y"
        },
        {
         "hovertemplate": "class=april-influent_uv<br>UMAP Component 1=%{x}<br>UMAP Component 2=%{y}<extra></extra>",
         "legendgroup": "april-influent_uv",
         "marker": {
          "color": "#00cc96",
          "symbol": "circle"
         },
         "mode": "markers",
         "name": "april-influent_uv",
         "orientation": "v",
         "showlegend": true,
         "type": "scatter",
         "x": [
          9.811813354492188,
          10.126282691955566,
          11.654661178588867,
          11.007644653320312,
          10.678743362426758,
          11.765157699584961,
          12.17572021484375,
          12.484783172607422,
          12.164288520812988
         ],
         "xaxis": "x",
         "y": [
          10.95048713684082,
          11.11514949798584,
          11.152046203613281,
          10.637232780456543,
          10.917900085449219,
          11.39693832397461,
          11.29162883758545,
          11.028775215148926,
          10.565698623657227
         ],
         "yaxis": "y"
        },
        {
         "hovertemplate": "class=april-influent_ac<br>UMAP Component 1=%{x}<br>UMAP Component 2=%{y}<extra></extra>",
         "legendgroup": "april-influent_ac",
         "marker": {
          "color": "#ab63fa",
          "symbol": "circle"
         },
         "mode": "markers",
         "name": "april-influent_ac",
         "orientation": "v",
         "showlegend": true,
         "type": "scatter",
         "x": [
          11.015119552612305,
          9.681015014648438,
          10.094024658203125,
          10.343534469604492,
          10.535872459411621,
          11.921751976013184,
          12.295166969299316,
          12.560717582702637,
          11.981863975524902
         ],
         "xaxis": "x",
         "y": [
          11.67503547668457,
          11.490462303161621,
          11.82529354095459,
          11.515803337097168,
          11.983759880065918,
          11.855764389038086,
          11.837669372558594,
          11.46788215637207,
          10.78264331817627
         ],
         "yaxis": "y"
        },
        {
         "hovertemplate": "class=april-effluent<br>UMAP Component 1=%{x}<br>UMAP Component 2=%{y}<extra></extra>",
         "legendgroup": "april-effluent",
         "marker": {
          "color": "#FFA15A",
          "symbol": "circle"
         },
         "mode": "markers",
         "name": "april-effluent",
         "orientation": "v",
         "showlegend": true,
         "type": "scatter",
         "x": [
          8.735218048095703,
          8.304195404052734,
          8.479594230651855,
          8.54261589050293,
          8.011969566345215,
          7.548499584197998,
          7.717628002166748,
          8.103784561157227,
          7.7165727615356445
         ],
         "xaxis": "x",
         "y": [
          11.42412281036377,
          10.965469360351562,
          11.185861587524414,
          10.877495765686035,
          11.231300354003906,
          11.073007583618164,
          11.735618591308594,
          11.638378143310547,
          11.376514434814453
         ],
         "yaxis": "y"
        }
       ],
       "layout": {
        "legend": {
         "title": {
          "text": "class"
         },
         "tracegroupgap": 0
        },
        "template": {
         "data": {
          "bar": [
           {
            "error_x": {
             "color": "#2a3f5f"
            },
            "error_y": {
             "color": "#2a3f5f"
            },
            "marker": {
             "line": {
              "color": "#E5ECF6",
              "width": 0.5
             },
             "pattern": {
              "fillmode": "overlay",
              "size": 10,
              "solidity": 0.2
             }
            },
            "type": "bar"
           }
          ],
          "barpolar": [
           {
            "marker": {
             "line": {
              "color": "#E5ECF6",
              "width": 0.5
             },
             "pattern": {
              "fillmode": "overlay",
              "size": 10,
              "solidity": 0.2
             }
            },
            "type": "barpolar"
           }
          ],
          "carpet": [
           {
            "aaxis": {
             "endlinecolor": "#2a3f5f",
             "gridcolor": "white",
             "linecolor": "white",
             "minorgridcolor": "white",
             "startlinecolor": "#2a3f5f"
            },
            "baxis": {
             "endlinecolor": "#2a3f5f",
             "gridcolor": "white",
             "linecolor": "white",
             "minorgridcolor": "white",
             "startlinecolor": "#2a3f5f"
            },
            "type": "carpet"
           }
          ],
          "choropleth": [
           {
            "colorbar": {
             "outlinewidth": 0,
             "ticks": ""
            },
            "type": "choropleth"
           }
          ],
          "contour": [
           {
            "colorbar": {
             "outlinewidth": 0,
             "ticks": ""
            },
            "colorscale": [
             [
              0,
              "#0d0887"
             ],
             [
              0.1111111111111111,
              "#46039f"
             ],
             [
              0.2222222222222222,
              "#7201a8"
             ],
             [
              0.3333333333333333,
              "#9c179e"
             ],
             [
              0.4444444444444444,
              "#bd3786"
             ],
             [
              0.5555555555555556,
              "#d8576b"
             ],
             [
              0.6666666666666666,
              "#ed7953"
             ],
             [
              0.7777777777777778,
              "#fb9f3a"
             ],
             [
              0.8888888888888888,
              "#fdca26"
             ],
             [
              1,
              "#f0f921"
             ]
            ],
            "type": "contour"
           }
          ],
          "contourcarpet": [
           {
            "colorbar": {
             "outlinewidth": 0,
             "ticks": ""
            },
            "type": "contourcarpet"
           }
          ],
          "heatmap": [
           {
            "colorbar": {
             "outlinewidth": 0,
             "ticks": ""
            },
            "colorscale": [
             [
              0,
              "#0d0887"
             ],
             [
              0.1111111111111111,
              "#46039f"
             ],
             [
              0.2222222222222222,
              "#7201a8"
             ],
             [
              0.3333333333333333,
              "#9c179e"
             ],
             [
              0.4444444444444444,
              "#bd3786"
             ],
             [
              0.5555555555555556,
              "#d8576b"
             ],
             [
              0.6666666666666666,
              "#ed7953"
             ],
             [
              0.7777777777777778,
              "#fb9f3a"
             ],
             [
              0.8888888888888888,
              "#fdca26"
             ],
             [
              1,
              "#f0f921"
             ]
            ],
            "type": "heatmap"
           }
          ],
          "heatmapgl": [
           {
            "colorbar": {
             "outlinewidth": 0,
             "ticks": ""
            },
            "colorscale": [
             [
              0,
              "#0d0887"
             ],
             [
              0.1111111111111111,
              "#46039f"
             ],
             [
              0.2222222222222222,
              "#7201a8"
             ],
             [
              0.3333333333333333,
              "#9c179e"
             ],
             [
              0.4444444444444444,
              "#bd3786"
             ],
             [
              0.5555555555555556,
              "#d8576b"
             ],
             [
              0.6666666666666666,
              "#ed7953"
             ],
             [
              0.7777777777777778,
              "#fb9f3a"
             ],
             [
              0.8888888888888888,
              "#fdca26"
             ],
             [
              1,
              "#f0f921"
             ]
            ],
            "type": "heatmapgl"
           }
          ],
          "histogram": [
           {
            "marker": {
             "pattern": {
              "fillmode": "overlay",
              "size": 10,
              "solidity": 0.2
             }
            },
            "type": "histogram"
           }
          ],
          "histogram2d": [
           {
            "colorbar": {
             "outlinewidth": 0,
             "ticks": ""
            },
            "colorscale": [
             [
              0,
              "#0d0887"
             ],
             [
              0.1111111111111111,
              "#46039f"
             ],
             [
              0.2222222222222222,
              "#7201a8"
             ],
             [
              0.3333333333333333,
              "#9c179e"
             ],
             [
              0.4444444444444444,
              "#bd3786"
             ],
             [
              0.5555555555555556,
              "#d8576b"
             ],
             [
              0.6666666666666666,
              "#ed7953"
             ],
             [
              0.7777777777777778,
              "#fb9f3a"
             ],
             [
              0.8888888888888888,
              "#fdca26"
             ],
             [
              1,
              "#f0f921"
             ]
            ],
            "type": "histogram2d"
           }
          ],
          "histogram2dcontour": [
           {
            "colorbar": {
             "outlinewidth": 0,
             "ticks": ""
            },
            "colorscale": [
             [
              0,
              "#0d0887"
             ],
             [
              0.1111111111111111,
              "#46039f"
             ],
             [
              0.2222222222222222,
              "#7201a8"
             ],
             [
              0.3333333333333333,
              "#9c179e"
             ],
             [
              0.4444444444444444,
              "#bd3786"
             ],
             [
              0.5555555555555556,
              "#d8576b"
             ],
             [
              0.6666666666666666,
              "#ed7953"
             ],
             [
              0.7777777777777778,
              "#fb9f3a"
             ],
             [
              0.8888888888888888,
              "#fdca26"
             ],
             [
              1,
              "#f0f921"
             ]
            ],
            "type": "histogram2dcontour"
           }
          ],
          "mesh3d": [
           {
            "colorbar": {
             "outlinewidth": 0,
             "ticks": ""
            },
            "type": "mesh3d"
           }
          ],
          "parcoords": [
           {
            "line": {
             "colorbar": {
              "outlinewidth": 0,
              "ticks": ""
             }
            },
            "type": "parcoords"
           }
          ],
          "pie": [
           {
            "automargin": true,
            "type": "pie"
           }
          ],
          "scatter": [
           {
            "fillpattern": {
             "fillmode": "overlay",
             "size": 10,
             "solidity": 0.2
            },
            "type": "scatter"
           }
          ],
          "scatter3d": [
           {
            "line": {
             "colorbar": {
              "outlinewidth": 0,
              "ticks": ""
             }
            },
            "marker": {
             "colorbar": {
              "outlinewidth": 0,
              "ticks": ""
             }
            },
            "type": "scatter3d"
           }
          ],
          "scattercarpet": [
           {
            "marker": {
             "colorbar": {
              "outlinewidth": 0,
              "ticks": ""
             }
            },
            "type": "scattercarpet"
           }
          ],
          "scattergeo": [
           {
            "marker": {
             "colorbar": {
              "outlinewidth": 0,
              "ticks": ""
             }
            },
            "type": "scattergeo"
           }
          ],
          "scattergl": [
           {
            "marker": {
             "colorbar": {
              "outlinewidth": 0,
              "ticks": ""
             }
            },
            "type": "scattergl"
           }
          ],
          "scattermapbox": [
           {
            "marker": {
             "colorbar": {
              "outlinewidth": 0,
              "ticks": ""
             }
            },
            "type": "scattermapbox"
           }
          ],
          "scatterpolar": [
           {
            "marker": {
             "colorbar": {
              "outlinewidth": 0,
              "ticks": ""
             }
            },
            "type": "scatterpolar"
           }
          ],
          "scatterpolargl": [
           {
            "marker": {
             "colorbar": {
              "outlinewidth": 0,
              "ticks": ""
             }
            },
            "type": "scatterpolargl"
           }
          ],
          "scatterternary": [
           {
            "marker": {
             "colorbar": {
              "outlinewidth": 0,
              "ticks": ""
             }
            },
            "type": "scatterternary"
           }
          ],
          "surface": [
           {
            "colorbar": {
             "outlinewidth": 0,
             "ticks": ""
            },
            "colorscale": [
             [
              0,
              "#0d0887"
             ],
             [
              0.1111111111111111,
              "#46039f"
             ],
             [
              0.2222222222222222,
              "#7201a8"
             ],
             [
              0.3333333333333333,
              "#9c179e"
             ],
             [
              0.4444444444444444,
              "#bd3786"
             ],
             [
              0.5555555555555556,
              "#d8576b"
             ],
             [
              0.6666666666666666,
              "#ed7953"
             ],
             [
              0.7777777777777778,
              "#fb9f3a"
             ],
             [
              0.8888888888888888,
              "#fdca26"
             ],
             [
              1,
              "#f0f921"
             ]
            ],
            "type": "surface"
           }
          ],
          "table": [
           {
            "cells": {
             "fill": {
              "color": "#EBF0F8"
             },
             "line": {
              "color": "white"
             }
            },
            "header": {
             "fill": {
              "color": "#C8D4E3"
             },
             "line": {
              "color": "white"
             }
            },
            "type": "table"
           }
          ]
         },
         "layout": {
          "annotationdefaults": {
           "arrowcolor": "#2a3f5f",
           "arrowhead": 0,
           "arrowwidth": 1
          },
          "autotypenumbers": "strict",
          "coloraxis": {
           "colorbar": {
            "outlinewidth": 0,
            "ticks": ""
           }
          },
          "colorscale": {
           "diverging": [
            [
             0,
             "#8e0152"
            ],
            [
             0.1,
             "#c51b7d"
            ],
            [
             0.2,
             "#de77ae"
            ],
            [
             0.3,
             "#f1b6da"
            ],
            [
             0.4,
             "#fde0ef"
            ],
            [
             0.5,
             "#f7f7f7"
            ],
            [
             0.6,
             "#e6f5d0"
            ],
            [
             0.7,
             "#b8e186"
            ],
            [
             0.8,
             "#7fbc41"
            ],
            [
             0.9,
             "#4d9221"
            ],
            [
             1,
             "#276419"
            ]
           ],
           "sequential": [
            [
             0,
             "#0d0887"
            ],
            [
             0.1111111111111111,
             "#46039f"
            ],
            [
             0.2222222222222222,
             "#7201a8"
            ],
            [
             0.3333333333333333,
             "#9c179e"
            ],
            [
             0.4444444444444444,
             "#bd3786"
            ],
            [
             0.5555555555555556,
             "#d8576b"
            ],
            [
             0.6666666666666666,
             "#ed7953"
            ],
            [
             0.7777777777777778,
             "#fb9f3a"
            ],
            [
             0.8888888888888888,
             "#fdca26"
            ],
            [
             1,
             "#f0f921"
            ]
           ],
           "sequentialminus": [
            [
             0,
             "#0d0887"
            ],
            [
             0.1111111111111111,
             "#46039f"
            ],
            [
             0.2222222222222222,
             "#7201a8"
            ],
            [
             0.3333333333333333,
             "#9c179e"
            ],
            [
             0.4444444444444444,
             "#bd3786"
            ],
            [
             0.5555555555555556,
             "#d8576b"
            ],
            [
             0.6666666666666666,
             "#ed7953"
            ],
            [
             0.7777777777777778,
             "#fb9f3a"
            ],
            [
             0.8888888888888888,
             "#fdca26"
            ],
            [
             1,
             "#f0f921"
            ]
           ]
          },
          "colorway": [
           "#636efa",
           "#EF553B",
           "#00cc96",
           "#ab63fa",
           "#FFA15A",
           "#19d3f3",
           "#FF6692",
           "#B6E880",
           "#FF97FF",
           "#FECB52"
          ],
          "font": {
           "color": "#2a3f5f"
          },
          "geo": {
           "bgcolor": "white",
           "lakecolor": "white",
           "landcolor": "#E5ECF6",
           "showlakes": true,
           "showland": true,
           "subunitcolor": "white"
          },
          "hoverlabel": {
           "align": "left"
          },
          "hovermode": "closest",
          "mapbox": {
           "style": "light"
          },
          "paper_bgcolor": "white",
          "plot_bgcolor": "#E5ECF6",
          "polar": {
           "angularaxis": {
            "gridcolor": "white",
            "linecolor": "white",
            "ticks": ""
           },
           "bgcolor": "#E5ECF6",
           "radialaxis": {
            "gridcolor": "white",
            "linecolor": "white",
            "ticks": ""
           }
          },
          "scene": {
           "xaxis": {
            "backgroundcolor": "#E5ECF6",
            "gridcolor": "white",
            "gridwidth": 2,
            "linecolor": "white",
            "showbackground": true,
            "ticks": "",
            "zerolinecolor": "white"
           },
           "yaxis": {
            "backgroundcolor": "#E5ECF6",
            "gridcolor": "white",
            "gridwidth": 2,
            "linecolor": "white",
            "showbackground": true,
            "ticks": "",
            "zerolinecolor": "white"
           },
           "zaxis": {
            "backgroundcolor": "#E5ECF6",
            "gridcolor": "white",
            "gridwidth": 2,
            "linecolor": "white",
            "showbackground": true,
            "ticks": "",
            "zerolinecolor": "white"
           }
          },
          "shapedefaults": {
           "line": {
            "color": "#2a3f5f"
           }
          },
          "ternary": {
           "aaxis": {
            "gridcolor": "white",
            "linecolor": "white",
            "ticks": ""
           },
           "baxis": {
            "gridcolor": "white",
            "linecolor": "white",
            "ticks": ""
           },
           "bgcolor": "#E5ECF6",
           "caxis": {
            "gridcolor": "white",
            "linecolor": "white",
            "ticks": ""
           }
          },
          "title": {
           "x": 0.05
          },
          "xaxis": {
           "automargin": true,
           "gridcolor": "white",
           "linecolor": "white",
           "ticks": "",
           "title": {
            "standoff": 15
           },
           "zerolinecolor": "white",
           "zerolinewidth": 2
          },
          "yaxis": {
           "automargin": true,
           "gridcolor": "white",
           "linecolor": "white",
           "ticks": "",
           "title": {
            "standoff": 15
           },
           "zerolinecolor": "white",
           "zerolinewidth": 2
          }
         }
        },
        "title": {
         "text": "UMAP Projection"
        },
        "xaxis": {
         "anchor": "y",
         "domain": [
          0,
          1
         ],
         "title": {
          "text": "UMAP Component 1"
         }
        },
        "yaxis": {
         "anchor": "x",
         "domain": [
          0,
          1
         ],
         "title": {
          "text": "UMAP Component 2"
         }
        }
       }
      }
     },
     "metadata": {},
     "output_type": "display_data"
    }
   ],
   "source": [
    "from src.StreamPort.ml.MachineLearningEngine import MachineLearningEngine\n",
    "from src.StreamPort.ml.MachineLearningProcessingSettings import  MakeModelUMAP\n",
    "\n",
    "path = 'feature_list.csv'\n",
    "engine = MachineLearningEngine()\n",
    "engine.add_analyses_from_csv(path)\n",
    "\n",
    "class_path = 'new_metadata.csv'\n",
    "\n",
    "#for april\n",
    "engine.month_april(class_path)\n",
    "engine.print()\n",
    "umap_model_april = MakeModelUMAP(n_neighbors=15, min_dist=0.1, n_components=2, random_state=42)\n",
    "engine.add_settings(umap_model_april)\n",
    "engine.run_workflow()\n",
    "engine.plot_umap()"
   ]
  },
  {
   "cell_type": "markdown",
   "metadata": {},
   "source": [
    "### "
   ]
  },
  {
   "cell_type": "markdown",
   "metadata": {},
   "source": [
    "### Random Forest Classifier"
   ]
  },
  {
   "cell_type": "code",
   "execution_count": 24,
   "metadata": {},
   "outputs": [
    {
     "name": "stdout",
     "output_type": "stream",
     "text": [
      "Accuracy: 0.7777777777777778\n",
      "Classification Report:\n",
      "               precision    recall  f1-score   support\n",
      "\n",
      "           0       1.00      1.00      1.00         2\n",
      "           1       1.00      0.50      0.67         2\n",
      "           2       1.00      0.50      0.67         2\n",
      "           3       1.00      1.00      1.00         2\n",
      "           4       0.33      1.00      0.50         1\n",
      "\n",
      "    accuracy                           0.78         9\n",
      "   macro avg       0.87      0.80      0.77         9\n",
      "weighted avg       0.93      0.78      0.80         9\n",
      "\n",
      "Confusion Matrix:\n",
      " [[2 0 0 0 0]\n",
      " [0 1 0 0 1]\n",
      " [0 0 1 0 1]\n",
      " [0 0 0 2 0]\n",
      " [0 0 0 0 1]]\n"
     ]
    }
   ],
   "source": [
    "import pandas as pd\n",
    "from sklearn.model_selection import train_test_split\n",
    "from sklearn.tree import DecisionTreeClassifier\n",
    "from sklearn.metrics import accuracy_score, classification_report, confusion_matrix\n",
    "from sklearn.preprocessing import LabelEncoder\n",
    "\n",
    "df = pd.read_csv('new_metadata.csv')\n",
    "target_column = 'class'\n",
    "\n",
    "label_encoders = {}\n",
    "for column in df.columns:\n",
    "    if df[column].dtype == 'object':  \n",
    "        le = LabelEncoder()\n",
    "        df[column] = le.fit_transform(df[column])\n",
    "        label_encoders[column] = le  \n",
    "\n",
    "X = df.drop(columns=[target_column])\n",
    "y = df[target_column]\n",
    "X_train, X_test, y_train, y_test = train_test_split(X, y, test_size=0.2, random_state=42)\n",
    "clf = DecisionTreeClassifier(max_depth=3, random_state=42)\n",
    "clf.fit(X_train, y_train)\n",
    "y_pred = clf.predict(X_test)\n",
    "print(\"Accuracy:\", accuracy_score(y_test, y_pred))\n",
    "print(\"Classification Report:\\n\", classification_report(y_test, y_pred))\n",
    "print(\"Confusion Matrix:\\n\", confusion_matrix(y_test, y_pred))"
   ]
  },
  {
   "cell_type": "code",
   "execution_count": 27,
   "metadata": {},
   "outputs": [
    {
     "name": "stdout",
     "output_type": "stream",
     "text": [
      "Accuracy: 0.673469387755102\n",
      "Classification Report:\n",
      "               precision    recall  f1-score   support\n",
      "\n",
      "           3       0.00      0.00      0.00         2\n",
      "           1       0.00      0.00      0.00         3\n",
      "           7       0.00      0.00      0.00         3\n",
      "          12       1.00      0.94      0.97        16\n",
      "           6       0.83      1.00      0.91         5\n",
      "           5       0.89      1.00      0.94         8\n",
      "           8       0.40      1.00      0.57         2\n",
      "          11       0.00      0.00      0.00         2\n",
      "           2       0.00      0.00      0.00         3\n",
      "           4       0.00      0.00      0.00         1\n",
      "           0       0.40      1.00      0.57         2\n",
      "          10       0.17      1.00      0.29         1\n",
      "          13       0.00      0.00      0.00         1\n",
      "\n",
      "   micro avg       0.72      0.67      0.69        49\n",
      "   macro avg       0.28      0.46      0.33        49\n",
      "weighted avg       0.59      0.67      0.61        49\n",
      "\n",
      "Confusion Matrix:\n",
      " [[ 2  0  0  0  0  0  0  0  0  0  0  0  0  0]\n",
      " [ 0  0  0  0  0  0  0  0  3  0  0  0  0  0]\n",
      " [ 0  0  0  0  0  0  0  0  0  3  0  0  0  0]\n",
      " [ 0  0  0  0  0  0  0  0  0  0  2  0  0  0]\n",
      " [ 0  0  0  0  0  0  0  0  0  0  1  0  0  0]\n",
      " [ 0  0  0  0  0  8  0  0  0  0  0  0  0  0]\n",
      " [ 0  0  0  0  0  0  5  0  0  0  0  0  0  0]\n",
      " [ 3  0  0  0  0  0  0  0  0  0  0  0  0  0]\n",
      " [ 0  0  0  0  0  0  0  0  2  0  0  0  0  0]\n",
      " [ 0  0  0  0  0  0  0  0  0  0  0  0  0  0]\n",
      " [ 0  0  0  0  0  0  0  0  0  0  1  0  0  0]\n",
      " [ 0  0  0  0  0  0  0  0  0  0  2  0  0  0]\n",
      " [ 0  0  0  0  0  1  0  0  0  0  0  0 15  0]\n",
      " [ 0  0  0  0  0  0  1  0  0  0  0  0  0  0]]\n"
     ]
    }
   ],
   "source": [
    "import pandas as pd\n",
    "from sklearn.model_selection import train_test_split\n",
    "from sklearn.tree import DecisionTreeClassifier\n",
    "from sklearn.metrics import accuracy_score, classification_report, confusion_matrix\n",
    "from sklearn.preprocessing import LabelEncoder\n",
    "\n",
    "df = pd.read_csv('groups_classes.csv')\n",
    "target_column = 'class'\n",
    "\n",
    "label_encoders = {}\n",
    "for column in df.columns:\n",
    "    if df[column].dtype == 'object': \n",
    "        le = LabelEncoder()\n",
    "        df[column] = le.fit_transform(df[column])\n",
    "        label_encoders[column] = le  \n",
    "\n",
    "X = df.drop(columns=[target_column])\n",
    "y = df[target_column]\n",
    "X_train, X_test, y_train, y_test = train_test_split(X, y, test_size=0.2, random_state=42)\n",
    "clf = DecisionTreeClassifier(max_depth=3, random_state=42)\n",
    "clf.fit(X_train, y_train)\n",
    "y_pred = clf.predict(X_test)\n",
    "print(\"Accuracy:\", accuracy_score(y_test, y_pred))\n",
    "unique_classes = y_test.unique()\n",
    "print(\"Classification Report:\\n\", classification_report(y_test, y_pred, labels=unique_classes, zero_division=0))\n",
    "print(\"Confusion Matrix:\\n\", confusion_matrix(y_test, y_pred))\n"
   ]
  },
  {
   "cell_type": "markdown",
   "metadata": {},
   "source": [
    "### NEW DATA ###"
   ]
  },
  {
   "cell_type": "markdown",
   "metadata": {},
   "source": [
    "plot the 'neg' and 'pos' classes with umap. "
   ]
  },
  {
   "cell_type": "code",
   "execution_count": 12,
   "metadata": {},
   "outputs": [
    {
     "name": "stdout",
     "output_type": "stream",
     "text": [
      "plot neg class\n",
      "Structure of the CSV file: {'number_of_rows': 202, 'number_of_columns': 2006}\n",
      "Running workflow with settings: MakeModel\n"
     ]
    },
    {
     "data": {
      "application/vnd.plotly.v1+json": {
       "config": {
        "plotlyServerURL": "https://plot.ly"
       },
       "data": [
        {
         "hovertemplate": "class=neg_TW<br>UMAP Component 1=%{x}<br>UMAP Component 2=%{y}<extra></extra>",
         "legendgroup": "neg_TW",
         "marker": {
          "color": "#636efa",
          "symbol": "circle"
         },
         "mode": "markers",
         "name": "neg_TW",
         "orientation": "v",
         "showlegend": true,
         "type": "scatter",
         "x": [
          9.851409912109375,
          10.828454971313477,
          10.819302558898926,
          11.057138442993164,
          1.4748378992080688,
          1.3728493452072144,
          8.152820587158203,
          7.583847522735596,
          9.581448554992676,
          10.646909713745117,
          4.523104667663574,
          4.196971416473389,
          7.402076244354248,
          6.975275993347168,
          4.381300449371338,
          5.0489630699157715,
          7.002368927001953,
          6.8433146476745605,
          4.1838860511779785,
          3.7226598262786865,
          3.9422976970672607,
          6.3107452392578125,
          4.44478178024292,
          7.032138824462891,
          3.639678716659546,
          -10.109460830688477,
          -9.395878791809082,
          -9.99174690246582,
          -9.731765747070312
         ],
         "xaxis": "x",
         "y": [
          -6.223175048828125,
          -4.834169864654541,
          -4.593077182769775,
          -6.293764591217041,
          -4.225525856018066,
          -4.369738578796387,
          -6.588980197906494,
          -4.447266101837158,
          -6.450768947601318,
          -5.892096519470215,
          -5.926508903503418,
          -5.980454921722412,
          1.84475576877594,
          3.055222749710083,
          -6.600194931030273,
          -6.166045665740967,
          3.107412576675415,
          1.871670126914978,
          -2.818950653076172,
          -5.848974704742432,
          -4.906520366668701,
          3.621323347091675,
          -5.41099214553833,
          3.143826723098755,
          -6.284698963165283,
          1.9229143857955933,
          1.3369284868240356,
          1.6104799509048462,
          2.1695587635040283
         ],
         "yaxis": "y"
        },
        {
         "hovertemplate": "class=neg_KAMG<br>UMAP Component 1=%{x}<br>UMAP Component 2=%{y}<extra></extra>",
         "legendgroup": "neg_KAMG",
         "marker": {
          "color": "#EF553B",
          "symbol": "circle"
         },
         "mode": "markers",
         "name": "neg_KAMG",
         "orientation": "v",
         "showlegend": true,
         "type": "scatter",
         "x": [
          9.669892311096191,
          10.765763282775879,
          10.575225830078125,
          11.032974243164062,
          1.243553876876831,
          9.112298011779785,
          7.489123821258545,
          7.561516761779785,
          10.807382583618164,
          11.134925842285156,
          10.811150550842285,
          10.604167938232422,
          7.051330089569092,
          6.949220657348633,
          7.577665328979492,
          6.99561882019043,
          3.566171884536743,
          4.240347385406494,
          4.400433540344238,
          7.007071018218994,
          3.9710936546325684,
          6.165168762207031,
          4.442234516143799,
          6.486228942871094,
          4.202615737915039,
          -10.018449783325195,
          -9.642446517944336,
          -9.071284294128418,
          -9.809744834899902
         ],
         "xaxis": "x",
         "y": [
          -6.269418239593506,
          -5.030123710632324,
          -5.426231384277344,
          -6.301579475402832,
          -4.456267833709717,
          -6.387261390686035,
          -4.254702091217041,
          -4.3990702629089355,
          -5.80317497253418,
          -5.349750518798828,
          -4.846449375152588,
          -4.764204025268555,
          1.5613915920257568,
          2.2641735076904297,
          2.112537145614624,
          3.1652307510375977,
          -6.029486179351807,
          -2.9888930320739746,
          -2.9056689739227295,
          1.672849416732788,
          -4.956490993499756,
          3.502922773361206,
          -5.238108158111572,
          1.3766474723815918,
          -5.923553943634033,
          1.8431276082992554,
          1.9304383993148804,
          1.6486843824386597,
          2.220205307006836
         ],
         "yaxis": "y"
        },
        {
         "hovertemplate": "class=neg_KARH<br>UMAP Component 1=%{x}<br>UMAP Component 2=%{y}<extra></extra>",
         "legendgroup": "neg_KARH",
         "marker": {
          "color": "#00cc96",
          "symbol": "circle"
         },
         "mode": "markers",
         "name": "neg_KARH",
         "orientation": "v",
         "showlegend": true,
         "type": "scatter",
         "x": [
          9.402234077453613,
          10.398868560791016,
          9.800084114074707,
          10.965410232543945,
          1.3831895589828491,
          9.948260307312012,
          4.480998516082764,
          7.685468673706055,
          10.994905471801758,
          3.536850690841675,
          4.566357135772705,
          4.333038806915283,
          7.104889869689941,
          7.208577632904053,
          7.637508869171143,
          3.9491302967071533,
          4.244394302368164,
          6.340979099273682,
          4.576078414916992,
          4.535899639129639,
          3.9702305793762207,
          3.965803623199463,
          4.399052143096924,
          4.257270336151123,
          5.179619789123535,
          -9.833895683288574,
          -9.227849006652832,
          -10.146352767944336,
          -10.048640251159668
         ],
         "xaxis": "x",
         "y": [
          -6.35822868347168,
          -5.66256856918335,
          -6.545086860656738,
          -6.375516891479492,
          -4.324517250061035,
          -6.336996078491211,
          -6.042918682098389,
          -4.405306339263916,
          -5.412277698516846,
          -6.650228500366211,
          -5.983987331390381,
          -6.4612627029418945,
          1.8729263544082642,
          2.0925652980804443,
          1.8529150485992432,
          -6.133817672729492,
          -2.9654688835144043,
          2.3887925148010254,
          -6.204878330230713,
          -6.184340476989746,
          -5.059024333953857,
          -6.216890811920166,
          -5.185671806335449,
          -6.356384754180908,
          -6.21541690826416,
          2.2489757537841797,
          1.5802693367004395,
          1.708396077156067,
          1.7949732542037964
         ],
         "yaxis": "y"
        },
        {
         "hovertemplate": "class=neg_KAXAL<br>UMAP Component 1=%{x}<br>UMAP Component 2=%{y}<extra></extra>",
         "legendgroup": "neg_KAXAL",
         "marker": {
          "color": "#ab63fa",
          "symbol": "circle"
         },
         "mode": "markers",
         "name": "neg_KAXAL",
         "orientation": "v",
         "showlegend": true,
         "type": "scatter",
         "x": [
          9.894750595092773,
          3.992217540740967,
          10.696988105773926,
          11.126898765563965,
          1.2789216041564941,
          9.071849822998047,
          3.9284236431121826,
          7.489911079406738,
          10.400077819824219,
          3.745525360107422,
          10.700774192810059,
          10.93950080871582,
          6.942427158355713,
          7.219679355621338,
          4.5040411949157715,
          7.2987060546875,
          4.219949245452881,
          4.150854587554932,
          4.626364707946777,
          7.197885036468506,
          4.486475944519043,
          4.100963592529297,
          6.280153751373291,
          3.9486160278320312,
          -9.656787872314453,
          -9.636159896850586,
          -9.755590438842773,
          -9.457919120788574,
          -9.45734977722168
         ],
         "xaxis": "x",
         "y": [
          -6.3029985427856445,
          -6.711459636688232,
          -5.796688556671143,
          -6.259467124938965,
          -4.424661159515381,
          -6.376269817352295,
          -6.372560024261475,
          -4.31604528427124,
          -6.0967912673950195,
          -6.783943176269531,
          -4.613193988800049,
          -4.906986236572266,
          2.9943106174468994,
          1.702072262763977,
          -6.542546272277832,
          1.915932297706604,
          -3.0104403495788574,
          -3.0389983654022217,
          -6.474981307983398,
          3.012986183166504,
          -5.318674564361572,
          -5.338016510009766,
          1.216614007949829,
          -6.933111667633057,
          1.463147759437561,
          1.4264179468154907,
          1.7213740348815918,
          2.1862123012542725,
          1.4900078773498535
         ],
         "yaxis": "y"
        },
        {
         "hovertemplate": "class=neg_KARB<br>UMAP Component 1=%{x}<br>UMAP Component 2=%{y}<extra></extra>",
         "legendgroup": "neg_KARB",
         "marker": {
          "color": "#FFA15A",
          "symbol": "circle"
         },
         "mode": "markers",
         "name": "neg_KARB",
         "orientation": "v",
         "showlegend": true,
         "type": "scatter",
         "x": [
          4.37992525100708,
          10.906288146972656,
          10.500271797180176,
          4.251755237579346,
          1.435238003730774,
          8.278404235839844,
          3.8721392154693604,
          7.322372913360596,
          10.580013275146484,
          4.095773696899414,
          4.0202813148498535,
          4.3910675048828125,
          4.41170072555542,
          6.3453192710876465,
          6.440427303314209,
          6.889769554138184,
          4.271955490112305,
          6.908712387084961,
          7.36360502243042,
          3.5705881118774414,
          6.22209358215332,
          4.188573360443115,
          6.309521675109863,
          3.9743409156799316,
          -9.427919387817383,
          -9.571374893188477,
          -9.535483360290527,
          -10.083666801452637,
          -9.881505966186523
         ],
         "xaxis": "x",
         "y": [
          -6.447859287261963,
          -4.876276969909668,
          -5.5071282386779785,
          -6.323344707489014,
          -4.264936447143555,
          -6.542762756347656,
          -6.6190571784973145,
          -4.454187393188477,
          -5.629177093505859,
          -6.783254146575928,
          -6.035217761993408,
          -5.798479080200195,
          -5.209756851196289,
          2.0142862796783447,
          2.4836127758026123,
          2.176964282989502,
          -2.921480894088745,
          2.03139066696167,
          2.608487129211426,
          -5.8052077293396,
          3.521031141281128,
          -5.778848648071289,
          1.2586878538131714,
          -6.97407865524292,
          2.0477473735809326,
          1.8745253086090088,
          1.5553853511810303,
          1.6880991458892822,
          1.4846775531768799
         ],
         "yaxis": "y"
        },
        {
         "hovertemplate": "class=neg_KAKL<br>UMAP Component 1=%{x}<br>UMAP Component 2=%{y}<extra></extra>",
         "legendgroup": "neg_KAKL",
         "marker": {
          "color": "#19d3f3",
          "symbol": "circle"
         },
         "mode": "markers",
         "name": "neg_KAKL",
         "orientation": "v",
         "showlegend": true,
         "type": "scatter",
         "x": [
          10.768795013427734,
          10.611400604248047,
          10.319181442260742,
          4.326733112335205,
          1.235750675201416,
          8.256006240844727,
          7.332204341888428,
          9.527469635009766,
          9.886585235595703,
          4.258406162261963,
          10.899868965148926,
          7.272529125213623,
          6.30533504486084,
          4.673811435699463,
          6.900892734527588,
          6.414143085479736,
          7.386792182922363,
          4.4607439041137695,
          3.8305959701538086,
          6.827260971069336,
          6.218342304229736,
          4.968583106994629,
          6.3514909744262695,
          3.7179245948791504,
          4.629395484924316,
          6.994704246520996,
          -9.724987030029297,
          -9.292945861816406,
          -9.012317657470703
         ],
         "xaxis": "x",
         "y": [
          -5.298238754272461,
          -5.6978583335876465,
          -6.077324390411377,
          -6.091285228729248,
          -4.465032577514648,
          -6.556844711303711,
          -4.537552833557129,
          -6.417843818664551,
          -6.3759589195251465,
          -6.641961097717285,
          -4.955049991607666,
          2.2110445499420166,
          1.6008436679840088,
          -6.532808780670166,
          2.5692849159240723,
          2.530144453048706,
          1.9634113311767578,
          -2.793318033218384,
          -5.967498779296875,
          2.2193305492401123,
          3.502105236053467,
          -6.076533794403076,
          1.2950067520141602,
          -6.362538814544678,
          -5.805728435516357,
          3.4185736179351807,
          1.8793718814849854,
          2.130805492401123,
          1.5685762166976929
         ],
         "yaxis": "y"
        },
        {
         "hovertemplate": "class=neg_RW<br>UMAP Component 1=%{x}<br>UMAP Component 2=%{y}<extra></extra>",
         "legendgroup": "neg_RW",
         "marker": {
          "color": "#FF6692",
          "symbol": "circle"
         },
         "mode": "markers",
         "name": "neg_RW",
         "orientation": "v",
         "showlegend": true,
         "type": "scatter",
         "x": [
          10.77985668182373,
          10.428817749023438,
          10.33268928527832,
          4.124282360076904,
          1.402793526649475,
          8.174656867980957,
          7.559084892272949,
          10.074460983276367,
          11.007624626159668,
          10.664278030395508,
          10.769901275634766,
          6.967247486114502,
          6.529011249542236,
          6.904378414154053,
          7.23622465133667,
          7.025554180145264,
          4.2727251052856445,
          7.276337623596191,
          6.513345241546631,
          3.875211238861084,
          6.155274391174316,
          5.067384243011475,
          6.534745693206787,
          5.011285305023193,
          -10.039379119873047,
          -9.811285972595215,
          -9.33385944366455,
          -10.022610664367676
         ],
         "xaxis": "x",
         "y": [
          -5.659781455993652,
          -6.056607723236084,
          -6.26644229888916,
          -6.070198059082031,
          -4.335224628448486,
          -6.535134315490723,
          -4.556701183319092,
          -6.262289047241211,
          -5.0502119064331055,
          -5.450057029724121,
          -4.961582183837891,
          1.6966193914413452,
          1.4837191104888916,
          2.555554151535034,
          2.9089088439941406,
          2.0471181869506836,
          -2.9315786361694336,
          2.9566810131073,
          2.5646653175354004,
          -5.609150409698486,
          3.471769332885742,
          -6.195038318634033,
          1.5095146894454956,
          -6.191779136657715,
          1.9672983884811401,
          1.9118332862854004,
          1.8136039972305298,
          1.6803001165390015
         ],
         "yaxis": "y"
        }
       ],
       "layout": {
        "legend": {
         "title": {
          "text": "class"
         },
         "tracegroupgap": 0
        },
        "template": {
         "data": {
          "bar": [
           {
            "error_x": {
             "color": "#2a3f5f"
            },
            "error_y": {
             "color": "#2a3f5f"
            },
            "marker": {
             "line": {
              "color": "#E5ECF6",
              "width": 0.5
             },
             "pattern": {
              "fillmode": "overlay",
              "size": 10,
              "solidity": 0.2
             }
            },
            "type": "bar"
           }
          ],
          "barpolar": [
           {
            "marker": {
             "line": {
              "color": "#E5ECF6",
              "width": 0.5
             },
             "pattern": {
              "fillmode": "overlay",
              "size": 10,
              "solidity": 0.2
             }
            },
            "type": "barpolar"
           }
          ],
          "carpet": [
           {
            "aaxis": {
             "endlinecolor": "#2a3f5f",
             "gridcolor": "white",
             "linecolor": "white",
             "minorgridcolor": "white",
             "startlinecolor": "#2a3f5f"
            },
            "baxis": {
             "endlinecolor": "#2a3f5f",
             "gridcolor": "white",
             "linecolor": "white",
             "minorgridcolor": "white",
             "startlinecolor": "#2a3f5f"
            },
            "type": "carpet"
           }
          ],
          "choropleth": [
           {
            "colorbar": {
             "outlinewidth": 0,
             "ticks": ""
            },
            "type": "choropleth"
           }
          ],
          "contour": [
           {
            "colorbar": {
             "outlinewidth": 0,
             "ticks": ""
            },
            "colorscale": [
             [
              0,
              "#0d0887"
             ],
             [
              0.1111111111111111,
              "#46039f"
             ],
             [
              0.2222222222222222,
              "#7201a8"
             ],
             [
              0.3333333333333333,
              "#9c179e"
             ],
             [
              0.4444444444444444,
              "#bd3786"
             ],
             [
              0.5555555555555556,
              "#d8576b"
             ],
             [
              0.6666666666666666,
              "#ed7953"
             ],
             [
              0.7777777777777778,
              "#fb9f3a"
             ],
             [
              0.8888888888888888,
              "#fdca26"
             ],
             [
              1,
              "#f0f921"
             ]
            ],
            "type": "contour"
           }
          ],
          "contourcarpet": [
           {
            "colorbar": {
             "outlinewidth": 0,
             "ticks": ""
            },
            "type": "contourcarpet"
           }
          ],
          "heatmap": [
           {
            "colorbar": {
             "outlinewidth": 0,
             "ticks": ""
            },
            "colorscale": [
             [
              0,
              "#0d0887"
             ],
             [
              0.1111111111111111,
              "#46039f"
             ],
             [
              0.2222222222222222,
              "#7201a8"
             ],
             [
              0.3333333333333333,
              "#9c179e"
             ],
             [
              0.4444444444444444,
              "#bd3786"
             ],
             [
              0.5555555555555556,
              "#d8576b"
             ],
             [
              0.6666666666666666,
              "#ed7953"
             ],
             [
              0.7777777777777778,
              "#fb9f3a"
             ],
             [
              0.8888888888888888,
              "#fdca26"
             ],
             [
              1,
              "#f0f921"
             ]
            ],
            "type": "heatmap"
           }
          ],
          "heatmapgl": [
           {
            "colorbar": {
             "outlinewidth": 0,
             "ticks": ""
            },
            "colorscale": [
             [
              0,
              "#0d0887"
             ],
             [
              0.1111111111111111,
              "#46039f"
             ],
             [
              0.2222222222222222,
              "#7201a8"
             ],
             [
              0.3333333333333333,
              "#9c179e"
             ],
             [
              0.4444444444444444,
              "#bd3786"
             ],
             [
              0.5555555555555556,
              "#d8576b"
             ],
             [
              0.6666666666666666,
              "#ed7953"
             ],
             [
              0.7777777777777778,
              "#fb9f3a"
             ],
             [
              0.8888888888888888,
              "#fdca26"
             ],
             [
              1,
              "#f0f921"
             ]
            ],
            "type": "heatmapgl"
           }
          ],
          "histogram": [
           {
            "marker": {
             "pattern": {
              "fillmode": "overlay",
              "size": 10,
              "solidity": 0.2
             }
            },
            "type": "histogram"
           }
          ],
          "histogram2d": [
           {
            "colorbar": {
             "outlinewidth": 0,
             "ticks": ""
            },
            "colorscale": [
             [
              0,
              "#0d0887"
             ],
             [
              0.1111111111111111,
              "#46039f"
             ],
             [
              0.2222222222222222,
              "#7201a8"
             ],
             [
              0.3333333333333333,
              "#9c179e"
             ],
             [
              0.4444444444444444,
              "#bd3786"
             ],
             [
              0.5555555555555556,
              "#d8576b"
             ],
             [
              0.6666666666666666,
              "#ed7953"
             ],
             [
              0.7777777777777778,
              "#fb9f3a"
             ],
             [
              0.8888888888888888,
              "#fdca26"
             ],
             [
              1,
              "#f0f921"
             ]
            ],
            "type": "histogram2d"
           }
          ],
          "histogram2dcontour": [
           {
            "colorbar": {
             "outlinewidth": 0,
             "ticks": ""
            },
            "colorscale": [
             [
              0,
              "#0d0887"
             ],
             [
              0.1111111111111111,
              "#46039f"
             ],
             [
              0.2222222222222222,
              "#7201a8"
             ],
             [
              0.3333333333333333,
              "#9c179e"
             ],
             [
              0.4444444444444444,
              "#bd3786"
             ],
             [
              0.5555555555555556,
              "#d8576b"
             ],
             [
              0.6666666666666666,
              "#ed7953"
             ],
             [
              0.7777777777777778,
              "#fb9f3a"
             ],
             [
              0.8888888888888888,
              "#fdca26"
             ],
             [
              1,
              "#f0f921"
             ]
            ],
            "type": "histogram2dcontour"
           }
          ],
          "mesh3d": [
           {
            "colorbar": {
             "outlinewidth": 0,
             "ticks": ""
            },
            "type": "mesh3d"
           }
          ],
          "parcoords": [
           {
            "line": {
             "colorbar": {
              "outlinewidth": 0,
              "ticks": ""
             }
            },
            "type": "parcoords"
           }
          ],
          "pie": [
           {
            "automargin": true,
            "type": "pie"
           }
          ],
          "scatter": [
           {
            "fillpattern": {
             "fillmode": "overlay",
             "size": 10,
             "solidity": 0.2
            },
            "type": "scatter"
           }
          ],
          "scatter3d": [
           {
            "line": {
             "colorbar": {
              "outlinewidth": 0,
              "ticks": ""
             }
            },
            "marker": {
             "colorbar": {
              "outlinewidth": 0,
              "ticks": ""
             }
            },
            "type": "scatter3d"
           }
          ],
          "scattercarpet": [
           {
            "marker": {
             "colorbar": {
              "outlinewidth": 0,
              "ticks": ""
             }
            },
            "type": "scattercarpet"
           }
          ],
          "scattergeo": [
           {
            "marker": {
             "colorbar": {
              "outlinewidth": 0,
              "ticks": ""
             }
            },
            "type": "scattergeo"
           }
          ],
          "scattergl": [
           {
            "marker": {
             "colorbar": {
              "outlinewidth": 0,
              "ticks": ""
             }
            },
            "type": "scattergl"
           }
          ],
          "scattermapbox": [
           {
            "marker": {
             "colorbar": {
              "outlinewidth": 0,
              "ticks": ""
             }
            },
            "type": "scattermapbox"
           }
          ],
          "scatterpolar": [
           {
            "marker": {
             "colorbar": {
              "outlinewidth": 0,
              "ticks": ""
             }
            },
            "type": "scatterpolar"
           }
          ],
          "scatterpolargl": [
           {
            "marker": {
             "colorbar": {
              "outlinewidth": 0,
              "ticks": ""
             }
            },
            "type": "scatterpolargl"
           }
          ],
          "scatterternary": [
           {
            "marker": {
             "colorbar": {
              "outlinewidth": 0,
              "ticks": ""
             }
            },
            "type": "scatterternary"
           }
          ],
          "surface": [
           {
            "colorbar": {
             "outlinewidth": 0,
             "ticks": ""
            },
            "colorscale": [
             [
              0,
              "#0d0887"
             ],
             [
              0.1111111111111111,
              "#46039f"
             ],
             [
              0.2222222222222222,
              "#7201a8"
             ],
             [
              0.3333333333333333,
              "#9c179e"
             ],
             [
              0.4444444444444444,
              "#bd3786"
             ],
             [
              0.5555555555555556,
              "#d8576b"
             ],
             [
              0.6666666666666666,
              "#ed7953"
             ],
             [
              0.7777777777777778,
              "#fb9f3a"
             ],
             [
              0.8888888888888888,
              "#fdca26"
             ],
             [
              1,
              "#f0f921"
             ]
            ],
            "type": "surface"
           }
          ],
          "table": [
           {
            "cells": {
             "fill": {
              "color": "#EBF0F8"
             },
             "line": {
              "color": "white"
             }
            },
            "header": {
             "fill": {
              "color": "#C8D4E3"
             },
             "line": {
              "color": "white"
             }
            },
            "type": "table"
           }
          ]
         },
         "layout": {
          "annotationdefaults": {
           "arrowcolor": "#2a3f5f",
           "arrowhead": 0,
           "arrowwidth": 1
          },
          "autotypenumbers": "strict",
          "coloraxis": {
           "colorbar": {
            "outlinewidth": 0,
            "ticks": ""
           }
          },
          "colorscale": {
           "diverging": [
            [
             0,
             "#8e0152"
            ],
            [
             0.1,
             "#c51b7d"
            ],
            [
             0.2,
             "#de77ae"
            ],
            [
             0.3,
             "#f1b6da"
            ],
            [
             0.4,
             "#fde0ef"
            ],
            [
             0.5,
             "#f7f7f7"
            ],
            [
             0.6,
             "#e6f5d0"
            ],
            [
             0.7,
             "#b8e186"
            ],
            [
             0.8,
             "#7fbc41"
            ],
            [
             0.9,
             "#4d9221"
            ],
            [
             1,
             "#276419"
            ]
           ],
           "sequential": [
            [
             0,
             "#0d0887"
            ],
            [
             0.1111111111111111,
             "#46039f"
            ],
            [
             0.2222222222222222,
             "#7201a8"
            ],
            [
             0.3333333333333333,
             "#9c179e"
            ],
            [
             0.4444444444444444,
             "#bd3786"
            ],
            [
             0.5555555555555556,
             "#d8576b"
            ],
            [
             0.6666666666666666,
             "#ed7953"
            ],
            [
             0.7777777777777778,
             "#fb9f3a"
            ],
            [
             0.8888888888888888,
             "#fdca26"
            ],
            [
             1,
             "#f0f921"
            ]
           ],
           "sequentialminus": [
            [
             0,
             "#0d0887"
            ],
            [
             0.1111111111111111,
             "#46039f"
            ],
            [
             0.2222222222222222,
             "#7201a8"
            ],
            [
             0.3333333333333333,
             "#9c179e"
            ],
            [
             0.4444444444444444,
             "#bd3786"
            ],
            [
             0.5555555555555556,
             "#d8576b"
            ],
            [
             0.6666666666666666,
             "#ed7953"
            ],
            [
             0.7777777777777778,
             "#fb9f3a"
            ],
            [
             0.8888888888888888,
             "#fdca26"
            ],
            [
             1,
             "#f0f921"
            ]
           ]
          },
          "colorway": [
           "#636efa",
           "#EF553B",
           "#00cc96",
           "#ab63fa",
           "#FFA15A",
           "#19d3f3",
           "#FF6692",
           "#B6E880",
           "#FF97FF",
           "#FECB52"
          ],
          "font": {
           "color": "#2a3f5f"
          },
          "geo": {
           "bgcolor": "white",
           "lakecolor": "white",
           "landcolor": "#E5ECF6",
           "showlakes": true,
           "showland": true,
           "subunitcolor": "white"
          },
          "hoverlabel": {
           "align": "left"
          },
          "hovermode": "closest",
          "mapbox": {
           "style": "light"
          },
          "paper_bgcolor": "white",
          "plot_bgcolor": "#E5ECF6",
          "polar": {
           "angularaxis": {
            "gridcolor": "white",
            "linecolor": "white",
            "ticks": ""
           },
           "bgcolor": "#E5ECF6",
           "radialaxis": {
            "gridcolor": "white",
            "linecolor": "white",
            "ticks": ""
           }
          },
          "scene": {
           "xaxis": {
            "backgroundcolor": "#E5ECF6",
            "gridcolor": "white",
            "gridwidth": 2,
            "linecolor": "white",
            "showbackground": true,
            "ticks": "",
            "zerolinecolor": "white"
           },
           "yaxis": {
            "backgroundcolor": "#E5ECF6",
            "gridcolor": "white",
            "gridwidth": 2,
            "linecolor": "white",
            "showbackground": true,
            "ticks": "",
            "zerolinecolor": "white"
           },
           "zaxis": {
            "backgroundcolor": "#E5ECF6",
            "gridcolor": "white",
            "gridwidth": 2,
            "linecolor": "white",
            "showbackground": true,
            "ticks": "",
            "zerolinecolor": "white"
           }
          },
          "shapedefaults": {
           "line": {
            "color": "#2a3f5f"
           }
          },
          "ternary": {
           "aaxis": {
            "gridcolor": "white",
            "linecolor": "white",
            "ticks": ""
           },
           "baxis": {
            "gridcolor": "white",
            "linecolor": "white",
            "ticks": ""
           },
           "bgcolor": "#E5ECF6",
           "caxis": {
            "gridcolor": "white",
            "linecolor": "white",
            "ticks": ""
           }
          },
          "title": {
           "x": 0.05
          },
          "xaxis": {
           "automargin": true,
           "gridcolor": "white",
           "linecolor": "white",
           "ticks": "",
           "title": {
            "standoff": 15
           },
           "zerolinecolor": "white",
           "zerolinewidth": 2
          },
          "yaxis": {
           "automargin": true,
           "gridcolor": "white",
           "linecolor": "white",
           "ticks": "",
           "title": {
            "standoff": 15
           },
           "zerolinecolor": "white",
           "zerolinewidth": 2
          }
         }
        },
        "title": {
         "text": "UMAP Projection"
        },
        "xaxis": {
         "anchor": "y",
         "domain": [
          0,
          1
         ],
         "title": {
          "text": "UMAP Component 1"
         }
        },
        "yaxis": {
         "anchor": "x",
         "domain": [
          0,
          1
         ],
         "title": {
          "text": "UMAP Component 2"
         }
        }
       }
      }
     },
     "metadata": {},
     "output_type": "display_data"
    },
    {
     "name": "stdout",
     "output_type": "stream",
     "text": [
      "plot pos classes\n",
      "Structure of the CSV file: {'number_of_rows': 202, 'number_of_columns': 2006}\n",
      "Running workflow with settings: MakeModel\n"
     ]
    },
    {
     "data": {
      "application/vnd.plotly.v1+json": {
       "config": {
        "plotlyServerURL": "https://plot.ly"
       },
       "data": [
        {
         "hovertemplate": "class=pos_TW<br>UMAP Component 1=%{x}<br>UMAP Component 2=%{y}<extra></extra>",
         "legendgroup": "pos_TW",
         "marker": {
          "color": "#636efa",
          "symbol": "circle"
         },
         "mode": "markers",
         "name": "pos_TW",
         "orientation": "v",
         "showlegend": true,
         "type": "scatter",
         "x": [
          14.680074691772461,
          13.35466194152832,
          13.359539031982422,
          13.574894905090332,
          16.574066162109375,
          16.60796546936035,
          14.52177906036377,
          11.883760452270508,
          14.92624282836914,
          14.23323917388916,
          14.35482120513916,
          14.352155685424805,
          10.144896507263184,
          9.130989074707031,
          14.34728717803955,
          14.990156173706055,
          8.928962707519531,
          10.172919273376465,
          10.798566818237305,
          13.502400398254395,
          12.730169296264648,
          8.695446014404297,
          12.790928840637207,
          8.953469276428223,
          13.989974021911621,
          -1.74297034740448,
          -1.0219753980636597,
          -1.98268723487854,
          -1.7273757457733154
         ],
         "xaxis": "x",
         "y": [
          8.028995513916016,
          6.725766658782959,
          6.564733982086182,
          7.934850215911865,
          17.79444122314453,
          17.82210922241211,
          10.158019065856934,
          11.217181205749512,
          8.539862632751465,
          7.473618984222412,
          14.319377899169922,
          14.745134353637695,
          15.010786056518555,
          14.307291984558105,
          13.966512680053711,
          13.858772277832031,
          14.461469650268555,
          15.122779846191406,
          9.904017448425293,
          14.255236625671387,
          14.065052032470703,
          15.721162796020508,
          14.587346076965332,
          14.51527214050293,
          14.319013595581055,
          3.503706216812134,
          4.084465026855469,
          3.774446487426758,
          4.0366597175598145
         ],
         "yaxis": "y"
        },
        {
         "hovertemplate": "class=pos_KAMG<br>UMAP Component 1=%{x}<br>UMAP Component 2=%{y}<extra></extra>",
         "legendgroup": "pos_KAMG",
         "marker": {
          "color": "#EF553B",
          "symbol": "circle"
         },
         "mode": "markers",
         "name": "pos_KAMG",
         "orientation": "v",
         "showlegend": true,
         "type": "scatter",
         "x": [
          14.82815170288086,
          13.252181053161621,
          13.942200660705566,
          13.473093032836914,
          16.550128936767578,
          14.859440803527832,
          11.912689208984375,
          11.748526573181152,
          13.961830139160156,
          13.452006340026855,
          13.553502082824707,
          13.102360725402832,
          10.363558769226074,
          9.83944034576416,
          9.726924896240234,
          9.015507698059082,
          13.53933048248291,
          10.932150840759277,
          10.820955276489258,
          10.221923828125,
          12.647157669067383,
          8.719942092895508,
          12.712841987609863,
          10.999457359313965,
          14.248552322387695,
          -1.7124519348144531,
          -2.125171184539795,
          -1.4987528324127197,
          -1.6145120859146118
         ],
         "xaxis": "x",
         "y": [
          8.267467498779297,
          6.842742443084717,
          6.967557907104492,
          7.893066883087158,
          17.771331787109375,
          8.850229263305664,
          11.360830307006836,
          11.152405738830566,
          7.267033100128174,
          7.093971252441406,
          6.7032036781311035,
          6.836080074310303,
          14.924497604370117,
          15.15715503692627,
          14.679704666137695,
          14.318803787231445,
          14.378990173339844,
          9.948234558105469,
          9.813542366027832,
          15.334318161010742,
          14.060663223266602,
          15.808435440063477,
          14.57929515838623,
          14.869522094726562,
          13.814810752868652,
          3.501664638519287,
          4.14996862411499,
          4.5882368087768555,
          3.8448779582977295
         ],
         "yaxis": "y"
        },
        {
         "hovertemplate": "class=pos_KARH<br>UMAP Component 1=%{x}<br>UMAP Component 2=%{y}<extra></extra>",
         "legendgroup": "pos_KARH",
         "marker": {
          "color": "#00cc96",
          "symbol": "circle"
         },
         "mode": "markers",
         "name": "pos_KARH",
         "orientation": "v",
         "showlegend": true,
         "type": "scatter",
         "x": [
          14.908116340637207,
          13.882282257080078,
          14.912322998046875,
          13.646087646484375,
          16.52753448486328,
          14.756860733032227,
          14.55272102355957,
          11.72814655303955,
          13.76620101928711,
          13.627540588378906,
          13.882482528686523,
          14.201811790466309,
          10.256783485412598,
          9.926239967346191,
          10.143402099609375,
          13.951229095458984,
          11.006196022033691,
          9.58580207824707,
          14.411100387573242,
          14.04474925994873,
          12.801846504211426,
          14.51710033416748,
          12.643091201782227,
          14.412031173706055,
          15.08724594116211,
          -1.918006420135498,
          -1.4140561819076538,
          -1.921911597251892,
          -2.060812473297119
         ],
         "xaxis": "x",
         "y": [
          8.563653945922852,
          7.4521379470825195,
          8.243151664733887,
          8.030884742736816,
          17.747486114501953,
          8.1331148147583,
          14.442374229431152,
          11.075552940368652,
          7.0161638259887695,
          13.838308334350586,
          14.118118286132812,
          14.271855354309082,
          15.1858491897583,
          15.096495628356934,
          14.640057563781738,
          14.705597877502441,
          10.060770034790039,
          15.5764741897583,
          14.519241333007812,
          14.329497337341309,
          14.130416870117188,
          14.196514129638672,
          14.64572525024414,
          13.963644981384277,
          13.78976821899414,
          3.9465744495391846,
          4.209968566894531,
          3.6561198234558105,
          3.9006574153900146
         ],
         "yaxis": "y"
        },
        {
         "hovertemplate": "class=pos_KAXAL<br>UMAP Component 1=%{x}<br>UMAP Component 2=%{y}<extra></extra>",
         "legendgroup": "pos_KAXAL",
         "marker": {
          "color": "#ab63fa",
          "symbol": "circle"
         },
         "mode": "markers",
         "name": "pos_KAXAL",
         "orientation": "v",
         "showlegend": true,
         "type": "scatter",
         "x": [
          14.924549102783203,
          14.137506484985352,
          14.113752365112305,
          13.522056579589844,
          16.516328811645508,
          14.881098747253418,
          14.459001541137695,
          11.88996696472168,
          14.269824028015137,
          13.743249893188477,
          13.28518295288086,
          13.568350791931152,
          9.175539016723633,
          10.342286109924316,
          14.302763938903809,
          9.990591049194336,
          10.932562828063965,
          10.851835250854492,
          14.189587593078613,
          9.06216812133789,
          12.64549446105957,
          13.111352920532227,
          11.160839080810547,
          13.878575325012207,
          -1.0595256090164185,
          -1.3811885118484497,
          -1.9424009323120117,
          -1.7691538333892822,
          -1.216125249862671
         ],
         "xaxis": "x",
         "y": [
          8.120399475097656,
          13.783670425415039,
          7.183621406555176,
          7.9390177726745605,
          17.736848831176758,
          8.83925724029541,
          13.414316177368164,
          11.333120346069336,
          7.586376667022705,
          13.727065086364746,
          6.607666492462158,
          6.726318359375,
          14.24328899383545,
          14.83377742767334,
          14.276565551757812,
          15.168513298034668,
          9.974899291992188,
          9.900236129760742,
          14.46017837524414,
          14.666526794433594,
          14.536738395690918,
          14.349700927734375,
          14.878680229187012,
          13.810492515563965,
          3.8903725147247314,
          4.065499305725098,
          4.051520347595215,
          4.329845905303955,
          4.233701229095459
         ],
         "yaxis": "y"
        },
        {
         "hovertemplate": "class=pos_KARB<br>UMAP Component 1=%{x}<br>UMAP Component 2=%{y}<extra></extra>",
         "legendgroup": "pos_KARB",
         "marker": {
          "color": "#FFA15A",
          "symbol": "circle"
         },
         "mode": "markers",
         "name": "pos_KARB",
         "orientation": "v",
         "showlegend": true,
         "type": "scatter",
         "x": [
          14.18980598449707,
          13.377872467041016,
          13.820420265197754,
          14.297219276428223,
          16.498573303222656,
          14.5643310546875,
          14.302504539489746,
          11.826289176940918,
          13.834373474121094,
          14.193087577819824,
          14.213089942932129,
          14.04130744934082,
          12.527745246887207,
          10.386357307434082,
          9.57127571105957,
          9.753426551818848,
          10.904213905334473,
          9.819246292114258,
          9.245328903198242,
          13.583768844604492,
          8.763612747192383,
          13.86483383178711,
          11.167823791503906,
          13.884978294372559,
          -1.3019485473632812,
          -2.0361640453338623,
          -1.3087451457977295,
          -1.840651273727417,
          -1.6894586086273193
         ],
         "xaxis": "x",
         "y": [
          13.979808807373047,
          6.6911540031433105,
          7.0462775230407715,
          14.156394958496094,
          17.719148635864258,
          10.016401290893555,
          13.358229637145996,
          11.260855674743652,
          7.377171993255615,
          13.23099422454834,
          14.5840482711792,
          14.525197982788086,
          14.617781639099121,
          15.435763359069824,
          15.532830238342285,
          15.42673397064209,
          9.918156623840332,
          15.151888847351074,
          14.814550399780273,
          14.159642219543457,
          15.749056816101074,
          14.579541206359863,
          14.894257545471191,
          13.800697326660156,
          4.101202964782715,
          4.256049633026123,
          4.308358669281006,
          3.805567979812622,
          3.985395669937134
         ],
         "yaxis": "y"
        },
        {
         "hovertemplate": "class=pos_KAKL<br>UMAP Component 1=%{x}<br>UMAP Component 2=%{y}<extra></extra>",
         "legendgroup": "pos_KAKL",
         "marker": {
          "color": "#19d3f3",
          "symbol": "circle"
         },
         "mode": "markers",
         "name": "pos_KAKL",
         "orientation": "v",
         "showlegend": true,
         "type": "scatter",
         "x": [
          13.657632827758789,
          13.825033187866211,
          14.516000747680664,
          14.2794189453125,
          16.492834091186523,
          14.560257911682129,
          11.933709144592285,
          14.89510726928711,
          14.814995765686035,
          14.243327140808105,
          13.214855194091797,
          9.853461265563965,
          10.852684020996094,
          14.043703079223633,
          9.604740142822266,
          9.480871200561523,
          10.2592191696167,
          11.055051803588867,
          13.78346061706543,
          9.727570533752441,
          8.755105972290039,
          14.9945650100708,
          11.163928985595703,
          14.471763610839844,
          13.995306968688965,
          8.76106071472168,
          -2.007495880126953,
          -1.7825307846069336,
          -1.3426334857940674
         ],
         "xaxis": "x",
         "y": [
          7.184910774230957,
          7.646937847137451,
          7.768243789672852,
          14.61175537109375,
          17.71329689025879,
          10.056023597717285,
          11.269280433654785,
          8.4642333984375,
          8.030706405639648,
          13.293861389160156,
          6.89326810836792,
          15.005866050720215,
          15.204652786254883,
          13.922667503356934,
          14.725271224975586,
          15.512991905212402,
          14.989203453063965,
          9.771771430969238,
          14.292692184448242,
          15.05068302154541,
          15.778632164001465,
          13.87873363494873,
          14.830038070678711,
          14.308860778808594,
          14.863043785095215,
          14.339556694030762,
          4.162883281707764,
          4.362562656402588,
          4.597353935241699
         ],
         "yaxis": "y"
        },
        {
         "hovertemplate": "class=pos_RW<br>UMAP Component 1=%{x}<br>UMAP Component 2=%{y}<extra></extra>",
         "legendgroup": "pos_RW",
         "marker": {
          "color": "#FF6692",
          "symbol": "circle"
         },
         "mode": "markers",
         "name": "pos_RW",
         "orientation": "v",
         "showlegend": true,
         "type": "scatter",
         "x": [
          14.011076927185059,
          14.469658851623535,
          14.366307258605957,
          14.056180953979492,
          16.607730865478516,
          14.555171012878418,
          11.792057991027832,
          14.63488483428955,
          13.589554786682129,
          13.548866271972656,
          13.369333267211914,
          10.378667831420898,
          10.931378364562988,
          9.570418357849121,
          9.093610763549805,
          9.866755485534668,
          10.864344596862793,
          8.897786140441895,
          9.49512004852295,
          13.64718246459961,
          8.83069133758545,
          14.964540481567383,
          10.896810531616211,
          15.005005836486816,
          -1.8215833902359009,
          -2.076991558074951,
          -1.8959505558013916,
          -1.989923119544983
         ],
         "xaxis": "x",
         "y": [
          7.251820087432861,
          7.784202575683594,
          7.694055557250977,
          14.186433792114258,
          17.822174072265625,
          10.16037368774414,
          11.142060279846191,
          7.873133659362793,
          6.841874122619629,
          7.435693740844727,
          7.096022605895996,
          15.295381546020508,
          14.81026840209961,
          14.541462898254395,
          14.7445068359375,
          15.109685897827148,
          9.852437973022461,
          14.699640274047852,
          15.502176284790039,
          14.532902717590332,
          15.686184883117676,
          13.979856491088867,
          15.067116737365723,
          13.898629188537598,
          3.6130404472351074,
          4.061625003814697,
          4.426804542541504,
          3.7409160137176514
         ],
         "yaxis": "y"
        }
       ],
       "layout": {
        "legend": {
         "title": {
          "text": "class"
         },
         "tracegroupgap": 0
        },
        "template": {
         "data": {
          "bar": [
           {
            "error_x": {
             "color": "#2a3f5f"
            },
            "error_y": {
             "color": "#2a3f5f"
            },
            "marker": {
             "line": {
              "color": "#E5ECF6",
              "width": 0.5
             },
             "pattern": {
              "fillmode": "overlay",
              "size": 10,
              "solidity": 0.2
             }
            },
            "type": "bar"
           }
          ],
          "barpolar": [
           {
            "marker": {
             "line": {
              "color": "#E5ECF6",
              "width": 0.5
             },
             "pattern": {
              "fillmode": "overlay",
              "size": 10,
              "solidity": 0.2
             }
            },
            "type": "barpolar"
           }
          ],
          "carpet": [
           {
            "aaxis": {
             "endlinecolor": "#2a3f5f",
             "gridcolor": "white",
             "linecolor": "white",
             "minorgridcolor": "white",
             "startlinecolor": "#2a3f5f"
            },
            "baxis": {
             "endlinecolor": "#2a3f5f",
             "gridcolor": "white",
             "linecolor": "white",
             "minorgridcolor": "white",
             "startlinecolor": "#2a3f5f"
            },
            "type": "carpet"
           }
          ],
          "choropleth": [
           {
            "colorbar": {
             "outlinewidth": 0,
             "ticks": ""
            },
            "type": "choropleth"
           }
          ],
          "contour": [
           {
            "colorbar": {
             "outlinewidth": 0,
             "ticks": ""
            },
            "colorscale": [
             [
              0,
              "#0d0887"
             ],
             [
              0.1111111111111111,
              "#46039f"
             ],
             [
              0.2222222222222222,
              "#7201a8"
             ],
             [
              0.3333333333333333,
              "#9c179e"
             ],
             [
              0.4444444444444444,
              "#bd3786"
             ],
             [
              0.5555555555555556,
              "#d8576b"
             ],
             [
              0.6666666666666666,
              "#ed7953"
             ],
             [
              0.7777777777777778,
              "#fb9f3a"
             ],
             [
              0.8888888888888888,
              "#fdca26"
             ],
             [
              1,
              "#f0f921"
             ]
            ],
            "type": "contour"
           }
          ],
          "contourcarpet": [
           {
            "colorbar": {
             "outlinewidth": 0,
             "ticks": ""
            },
            "type": "contourcarpet"
           }
          ],
          "heatmap": [
           {
            "colorbar": {
             "outlinewidth": 0,
             "ticks": ""
            },
            "colorscale": [
             [
              0,
              "#0d0887"
             ],
             [
              0.1111111111111111,
              "#46039f"
             ],
             [
              0.2222222222222222,
              "#7201a8"
             ],
             [
              0.3333333333333333,
              "#9c179e"
             ],
             [
              0.4444444444444444,
              "#bd3786"
             ],
             [
              0.5555555555555556,
              "#d8576b"
             ],
             [
              0.6666666666666666,
              "#ed7953"
             ],
             [
              0.7777777777777778,
              "#fb9f3a"
             ],
             [
              0.8888888888888888,
              "#fdca26"
             ],
             [
              1,
              "#f0f921"
             ]
            ],
            "type": "heatmap"
           }
          ],
          "heatmapgl": [
           {
            "colorbar": {
             "outlinewidth": 0,
             "ticks": ""
            },
            "colorscale": [
             [
              0,
              "#0d0887"
             ],
             [
              0.1111111111111111,
              "#46039f"
             ],
             [
              0.2222222222222222,
              "#7201a8"
             ],
             [
              0.3333333333333333,
              "#9c179e"
             ],
             [
              0.4444444444444444,
              "#bd3786"
             ],
             [
              0.5555555555555556,
              "#d8576b"
             ],
             [
              0.6666666666666666,
              "#ed7953"
             ],
             [
              0.7777777777777778,
              "#fb9f3a"
             ],
             [
              0.8888888888888888,
              "#fdca26"
             ],
             [
              1,
              "#f0f921"
             ]
            ],
            "type": "heatmapgl"
           }
          ],
          "histogram": [
           {
            "marker": {
             "pattern": {
              "fillmode": "overlay",
              "size": 10,
              "solidity": 0.2
             }
            },
            "type": "histogram"
           }
          ],
          "histogram2d": [
           {
            "colorbar": {
             "outlinewidth": 0,
             "ticks": ""
            },
            "colorscale": [
             [
              0,
              "#0d0887"
             ],
             [
              0.1111111111111111,
              "#46039f"
             ],
             [
              0.2222222222222222,
              "#7201a8"
             ],
             [
              0.3333333333333333,
              "#9c179e"
             ],
             [
              0.4444444444444444,
              "#bd3786"
             ],
             [
              0.5555555555555556,
              "#d8576b"
             ],
             [
              0.6666666666666666,
              "#ed7953"
             ],
             [
              0.7777777777777778,
              "#fb9f3a"
             ],
             [
              0.8888888888888888,
              "#fdca26"
             ],
             [
              1,
              "#f0f921"
             ]
            ],
            "type": "histogram2d"
           }
          ],
          "histogram2dcontour": [
           {
            "colorbar": {
             "outlinewidth": 0,
             "ticks": ""
            },
            "colorscale": [
             [
              0,
              "#0d0887"
             ],
             [
              0.1111111111111111,
              "#46039f"
             ],
             [
              0.2222222222222222,
              "#7201a8"
             ],
             [
              0.3333333333333333,
              "#9c179e"
             ],
             [
              0.4444444444444444,
              "#bd3786"
             ],
             [
              0.5555555555555556,
              "#d8576b"
             ],
             [
              0.6666666666666666,
              "#ed7953"
             ],
             [
              0.7777777777777778,
              "#fb9f3a"
             ],
             [
              0.8888888888888888,
              "#fdca26"
             ],
             [
              1,
              "#f0f921"
             ]
            ],
            "type": "histogram2dcontour"
           }
          ],
          "mesh3d": [
           {
            "colorbar": {
             "outlinewidth": 0,
             "ticks": ""
            },
            "type": "mesh3d"
           }
          ],
          "parcoords": [
           {
            "line": {
             "colorbar": {
              "outlinewidth": 0,
              "ticks": ""
             }
            },
            "type": "parcoords"
           }
          ],
          "pie": [
           {
            "automargin": true,
            "type": "pie"
           }
          ],
          "scatter": [
           {
            "fillpattern": {
             "fillmode": "overlay",
             "size": 10,
             "solidity": 0.2
            },
            "type": "scatter"
           }
          ],
          "scatter3d": [
           {
            "line": {
             "colorbar": {
              "outlinewidth": 0,
              "ticks": ""
             }
            },
            "marker": {
             "colorbar": {
              "outlinewidth": 0,
              "ticks": ""
             }
            },
            "type": "scatter3d"
           }
          ],
          "scattercarpet": [
           {
            "marker": {
             "colorbar": {
              "outlinewidth": 0,
              "ticks": ""
             }
            },
            "type": "scattercarpet"
           }
          ],
          "scattergeo": [
           {
            "marker": {
             "colorbar": {
              "outlinewidth": 0,
              "ticks": ""
             }
            },
            "type": "scattergeo"
           }
          ],
          "scattergl": [
           {
            "marker": {
             "colorbar": {
              "outlinewidth": 0,
              "ticks": ""
             }
            },
            "type": "scattergl"
           }
          ],
          "scattermapbox": [
           {
            "marker": {
             "colorbar": {
              "outlinewidth": 0,
              "ticks": ""
             }
            },
            "type": "scattermapbox"
           }
          ],
          "scatterpolar": [
           {
            "marker": {
             "colorbar": {
              "outlinewidth": 0,
              "ticks": ""
             }
            },
            "type": "scatterpolar"
           }
          ],
          "scatterpolargl": [
           {
            "marker": {
             "colorbar": {
              "outlinewidth": 0,
              "ticks": ""
             }
            },
            "type": "scatterpolargl"
           }
          ],
          "scatterternary": [
           {
            "marker": {
             "colorbar": {
              "outlinewidth": 0,
              "ticks": ""
             }
            },
            "type": "scatterternary"
           }
          ],
          "surface": [
           {
            "colorbar": {
             "outlinewidth": 0,
             "ticks": ""
            },
            "colorscale": [
             [
              0,
              "#0d0887"
             ],
             [
              0.1111111111111111,
              "#46039f"
             ],
             [
              0.2222222222222222,
              "#7201a8"
             ],
             [
              0.3333333333333333,
              "#9c179e"
             ],
             [
              0.4444444444444444,
              "#bd3786"
             ],
             [
              0.5555555555555556,
              "#d8576b"
             ],
             [
              0.6666666666666666,
              "#ed7953"
             ],
             [
              0.7777777777777778,
              "#fb9f3a"
             ],
             [
              0.8888888888888888,
              "#fdca26"
             ],
             [
              1,
              "#f0f921"
             ]
            ],
            "type": "surface"
           }
          ],
          "table": [
           {
            "cells": {
             "fill": {
              "color": "#EBF0F8"
             },
             "line": {
              "color": "white"
             }
            },
            "header": {
             "fill": {
              "color": "#C8D4E3"
             },
             "line": {
              "color": "white"
             }
            },
            "type": "table"
           }
          ]
         },
         "layout": {
          "annotationdefaults": {
           "arrowcolor": "#2a3f5f",
           "arrowhead": 0,
           "arrowwidth": 1
          },
          "autotypenumbers": "strict",
          "coloraxis": {
           "colorbar": {
            "outlinewidth": 0,
            "ticks": ""
           }
          },
          "colorscale": {
           "diverging": [
            [
             0,
             "#8e0152"
            ],
            [
             0.1,
             "#c51b7d"
            ],
            [
             0.2,
             "#de77ae"
            ],
            [
             0.3,
             "#f1b6da"
            ],
            [
             0.4,
             "#fde0ef"
            ],
            [
             0.5,
             "#f7f7f7"
            ],
            [
             0.6,
             "#e6f5d0"
            ],
            [
             0.7,
             "#b8e186"
            ],
            [
             0.8,
             "#7fbc41"
            ],
            [
             0.9,
             "#4d9221"
            ],
            [
             1,
             "#276419"
            ]
           ],
           "sequential": [
            [
             0,
             "#0d0887"
            ],
            [
             0.1111111111111111,
             "#46039f"
            ],
            [
             0.2222222222222222,
             "#7201a8"
            ],
            [
             0.3333333333333333,
             "#9c179e"
            ],
            [
             0.4444444444444444,
             "#bd3786"
            ],
            [
             0.5555555555555556,
             "#d8576b"
            ],
            [
             0.6666666666666666,
             "#ed7953"
            ],
            [
             0.7777777777777778,
             "#fb9f3a"
            ],
            [
             0.8888888888888888,
             "#fdca26"
            ],
            [
             1,
             "#f0f921"
            ]
           ],
           "sequentialminus": [
            [
             0,
             "#0d0887"
            ],
            [
             0.1111111111111111,
             "#46039f"
            ],
            [
             0.2222222222222222,
             "#7201a8"
            ],
            [
             0.3333333333333333,
             "#9c179e"
            ],
            [
             0.4444444444444444,
             "#bd3786"
            ],
            [
             0.5555555555555556,
             "#d8576b"
            ],
            [
             0.6666666666666666,
             "#ed7953"
            ],
            [
             0.7777777777777778,
             "#fb9f3a"
            ],
            [
             0.8888888888888888,
             "#fdca26"
            ],
            [
             1,
             "#f0f921"
            ]
           ]
          },
          "colorway": [
           "#636efa",
           "#EF553B",
           "#00cc96",
           "#ab63fa",
           "#FFA15A",
           "#19d3f3",
           "#FF6692",
           "#B6E880",
           "#FF97FF",
           "#FECB52"
          ],
          "font": {
           "color": "#2a3f5f"
          },
          "geo": {
           "bgcolor": "white",
           "lakecolor": "white",
           "landcolor": "#E5ECF6",
           "showlakes": true,
           "showland": true,
           "subunitcolor": "white"
          },
          "hoverlabel": {
           "align": "left"
          },
          "hovermode": "closest",
          "mapbox": {
           "style": "light"
          },
          "paper_bgcolor": "white",
          "plot_bgcolor": "#E5ECF6",
          "polar": {
           "angularaxis": {
            "gridcolor": "white",
            "linecolor": "white",
            "ticks": ""
           },
           "bgcolor": "#E5ECF6",
           "radialaxis": {
            "gridcolor": "white",
            "linecolor": "white",
            "ticks": ""
           }
          },
          "scene": {
           "xaxis": {
            "backgroundcolor": "#E5ECF6",
            "gridcolor": "white",
            "gridwidth": 2,
            "linecolor": "white",
            "showbackground": true,
            "ticks": "",
            "zerolinecolor": "white"
           },
           "yaxis": {
            "backgroundcolor": "#E5ECF6",
            "gridcolor": "white",
            "gridwidth": 2,
            "linecolor": "white",
            "showbackground": true,
            "ticks": "",
            "zerolinecolor": "white"
           },
           "zaxis": {
            "backgroundcolor": "#E5ECF6",
            "gridcolor": "white",
            "gridwidth": 2,
            "linecolor": "white",
            "showbackground": true,
            "ticks": "",
            "zerolinecolor": "white"
           }
          },
          "shapedefaults": {
           "line": {
            "color": "#2a3f5f"
           }
          },
          "ternary": {
           "aaxis": {
            "gridcolor": "white",
            "linecolor": "white",
            "ticks": ""
           },
           "baxis": {
            "gridcolor": "white",
            "linecolor": "white",
            "ticks": ""
           },
           "bgcolor": "#E5ECF6",
           "caxis": {
            "gridcolor": "white",
            "linecolor": "white",
            "ticks": ""
           }
          },
          "title": {
           "x": 0.05
          },
          "xaxis": {
           "automargin": true,
           "gridcolor": "white",
           "linecolor": "white",
           "ticks": "",
           "title": {
            "standoff": 15
           },
           "zerolinecolor": "white",
           "zerolinewidth": 2
          },
          "yaxis": {
           "automargin": true,
           "gridcolor": "white",
           "linecolor": "white",
           "ticks": "",
           "title": {
            "standoff": 15
           },
           "zerolinecolor": "white",
           "zerolinewidth": 2
          }
         }
        },
        "title": {
         "text": "UMAP Projection"
        },
        "xaxis": {
         "anchor": "y",
         "domain": [
          0,
          1
         ],
         "title": {
          "text": "UMAP Component 1"
         }
        },
        "yaxis": {
         "anchor": "x",
         "domain": [
          0,
          1
         ],
         "title": {
          "text": "UMAP Component 2"
         }
        }
       }
      }
     },
     "metadata": {},
     "output_type": "display_data"
    }
   ],
   "source": [
    "import pandas as pd\n",
    "import numpy as np\n",
    "from src.StreamPort.ml.MachineLearningEngine import MachineLearningEngine, MachineLearningAnalysis\n",
    "from src.StreamPort.ml.MachineLearningProcessingSettings import MakeModelUMAP\n",
    "\n",
    "path = 'groups_ints.csv'\n",
    "class_path = 'groups_classes.csv'\n",
    "df = pd.read_csv(class_path)\n",
    "\n",
    "df_pos = df[df['polarity'] == 'positive']\n",
    "df_neg = df[df['polarity'] == 'negative']\n",
    "\n",
    "#process and plot neg class\n",
    "print(\"plot neg class\")\n",
    "engine = MachineLearningEngine() \n",
    "engine.add_analyses_from_csv(path)\n",
    "\n",
    "#add neg classes to the engine\n",
    "for index, row in df_neg.iterrows():\n",
    "    row_value = row.tolist()[1:]\n",
    "    class_name = row['class']\n",
    "    ana = MachineLearningAnalysis(name=str(class_name), data={\"x\": np.array(df_neg.columns.tolist()[1:]), \"y\": np.array(row_value)})\n",
    "    if ana.validate():\n",
    "        engine.add_classes(class_name)\n",
    "    else:\n",
    "        print(f\"Analysis {class_name} did not pass validation.\")\n",
    "\n",
    "umap_model_neg = MakeModelUMAP(n_neighbors=15, min_dist=0.1, n_components=2, random_state=42)\n",
    "engine.add_settings(umap_model_neg)\n",
    "engine.run_workflow()\n",
    "engine.plot_umap()  \n",
    "\n",
    "#process and plot the pos classes\n",
    "print(\"plot pos classes\")\n",
    "engine = MachineLearningEngine()  \n",
    "engine.add_analyses_from_csv(path)\n",
    "\n",
    "#add pos classes to the engine\n",
    "for index, row in df_pos.iterrows():\n",
    "    row_value = row.tolist()[1:]\n",
    "    class_name = row['class']\n",
    "    ana = MachineLearningAnalysis(name=str(class_name), data={\"x\": np.array(df_pos.columns.tolist()[1:]), \"y\": np.array(row_value)})\n",
    "    if ana.validate():\n",
    "        engine.add_classes(class_name)\n",
    "    else:\n",
    "        print(f\"Analysis {class_name} did not pass validation.\")\n",
    "\n",
    "umap_model_pos = MakeModelUMAP(n_neighbors=15, min_dist=0.1, n_components=2, random_state=42)\n",
    "engine.add_settings(umap_model_pos)\n",
    "engine.run_workflow()\n",
    "engine.plot_umap()  \n"
   ]
  },
  {
   "cell_type": "markdown",
   "metadata": {},
   "source": [
    "pca plot for the new data"
   ]
  },
  {
   "cell_type": "code",
   "execution_count": 31,
   "metadata": {},
   "outputs": [
    {
     "name": "stdout",
     "output_type": "stream",
     "text": [
      "Structure of the CSV file: {'number_of_rows': 202, 'number_of_columns': 2006}\n",
      "Structure of the CSV file: {'number_of_rows': 245, 'number_of_columns': 6}\n",
      "\n",
      "MachineLearningEngine \n",
      "  name: None \n",
      "  author: None \n",
      "  path: None \n",
      "  date: 2024-10-10 01:57:56.439960 \n",
      "  analyses: 202 \n",
      "  settings: 0 \n",
      "\n",
      "\n",
      "MachineLearningEngine \n",
      "  name: None \n",
      "  author: None \n",
      "  path: None \n",
      "  date: 2024-10-10 01:57:56.439960 \n",
      "  analyses: 202 \n",
      "  settings: 1 \n",
      "\n",
      "Running workflow with settings: MakeModel\n"
     ]
    },
    {
     "data": {
      "text/plain": [
       "True"
      ]
     },
     "execution_count": 31,
     "metadata": {},
     "output_type": "execute_result"
    }
   ],
   "source": [
    "from src.StreamPort.ml.MachineLearningEngine import MachineLearningEngine\n",
    "from src.StreamPort.ml.MachineLearningProcessingSettings import  MakeModelPCASKL\n",
    "import webbrowser\n",
    "\n",
    "#Creates an empty MachineLearningEngine object and prints it\n",
    "path = 'groups_ints.csv'\n",
    "engine = MachineLearningEngine()\n",
    "engine.add_analyses_from_csv(path)\n",
    "\n",
    "class_path = 'groups_classes.csv'\n",
    "engine.add_classes_from_csv(class_path)\n",
    "engine.print()\n",
    "engine.plot_data()\n",
    "webbrowser.open('general_data_plot.html')\n",
    "\n",
    "pca_model = MakeModelPCASKL(n_components = 2, center_data= True)\n",
    "engine.add_settings(pca_model)\n",
    "engine.print()\n",
    "engine.run_workflow()\n",
    "engine.plot_pca()\n",
    "webbrowser.open('pca_scores_plot.html')\n",
    "webbrowser.open('pca_loadings_plot.html')"
   ]
  }
 ],
 "metadata": {
  "kernelspec": {
   "display_name": ".venv",
   "language": "python",
   "name": "python3"
  },
  "language_info": {
   "codemirror_mode": {
    "name": "ipython",
    "version": 3
   },
   "file_extension": ".py",
   "mimetype": "text/x-python",
   "name": "python",
   "nbconvert_exporter": "python",
   "pygments_lexer": "ipython3",
   "version": "3.12.7"
  }
 },
 "nbformat": 4,
 "nbformat_minor": 2
}
