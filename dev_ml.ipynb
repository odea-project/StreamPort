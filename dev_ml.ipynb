{
 "cells": [
  {
   "cell_type": "markdown",
   "metadata": {},
   "source": [
    "## MachineLearningEngine Class"
   ]
  },
  {
   "cell_type": "markdown",
   "metadata": {},
   "source": [
    "The MachineLearningEngine class is builds on the CoreEngine class. The CoreEngine class serves as a parent class engines that focus on data, while the MachineLearningEngine class is for engines that focus on learning from data."
   ]
  },
  {
   "cell_type": "code",
   "execution_count": null,
   "metadata": {},
   "outputs": [],
   "source": [
    "from src.StreamPort.ml.MachineLearningEngine import MachineLearningEngine\n",
    "\n",
    "#Creates an empty MachineLearningEngine object and prints it\n",
    "engine = MachineLearningEngine()\n",
    "engine.print()"
   ]
  },
  {
   "cell_type": "markdown",
   "metadata": {},
   "source": [
    "## MachineLearningAnalysis Class"
   ]
  },
  {
   "cell_type": "markdown",
   "metadata": {},
   "source": [
    "The MachineLearningAnalysis class is builds on the class Analysis. The Analysis class that is used to perform analysis on the data. "
   ]
  },
  {
   "cell_type": "code",
   "execution_count": null,
   "metadata": {},
   "outputs": [],
   "source": [
    "from src.StreamPort.ml.MachineLearningAnalysis import MachineLearningAnalysis\n",
    "\n",
    "#Creates an empty MachineLearningAnalysis obejct and prints it\n",
    "analysis = MachineLearningAnalysis()\n",
    "analysis.print()"
   ]
  },
  {
   "cell_type": "markdown",
   "metadata": {},
   "source": [
    "## Read the CSV File  "
   ]
  },
  {
   "cell_type": "markdown",
   "metadata": {},
   "source": [
    "This method is used for the reading the data from the csv file. "
   ]
  },
  {
   "cell_type": "code",
   "execution_count": null,
   "metadata": {},
   "outputs": [],
   "source": [
    "from src.StreamPort.ml.MachineLearningEngine import MachineLearningEngine\n",
    "from sklearn.decomposition import PCA \n",
    "import matplotlib.pyplot as plt\n",
    "\n",
    "#Creates an empty MachineLearningEngine object and prints it\n",
    "path = 'feature_list.csv'\n",
    "engine = MachineLearningEngine()\n",
    "engine.add_analyses_from_csv(path)\n",
    "\n",
    "engine.print()\n",
    "\n",
    "print(\"Create a list of analysis object and prints it\" )\n",
    "for analysis in engine._analyses:\n",
    "    print(f\"Analysis: {analysis.name}\")\n",
    "    for key, value in analysis.data.items():\n",
    "        print(f\"{key}: {value}\")\n",
    "    print(\"\\n\")\n",
    "\n",
    "rownames = engine.get_analyses_names()\n",
    "print(\"Analysename: \", rownames)\n",
    "\n",
    "mat = engine.get_data()\n",
    "mat.index = rownames\n",
    "print(\"Matrix: \\n\", mat)\n",
    "\n",
    "# Use the matrix mat to perform a Principle Components Analysis (PCA) and plot the scores\n",
    "# the labels of the matrix should be the cols as x and row names as analyses names\n",
    "\n",
    "pca = PCA(n_components=2)\n",
    "scores = pca.fit_transform(mat)\n",
    "\n",
    "plt.scatter(scores[:, 0], scores[:, 1])\n",
    "\n",
    "plt.xlabel(\"PCA 1\")\n",
    "plt.ylabel(\"PCA 2\")\n",
    "plt.title(\"PCA Scores\")\n",
    "plt.show()\n",
    "\n",
    "\n",
    "# Make a ProcessingSettings child with PCA method and create a results object to hold the PCA results\n",
    "    #MakePCA(ProcessingSettings) the second MakePCASKL(MakePCA)\n",
    "# Add the ProcessingSettings to the _settings attribute with add settings\n",
    "# Create a method in the ML engine to perfom PCA and collect the results\n",
    "# The results are added to the _results atribute of the engine\n",
    "# make a plot method in the ML engine for the PCA results and classes\n",
    "# Add the ProcessingSettings to the _settings attribute with add settings\n",
    "\n"
   ]
  },
  {
   "cell_type": "markdown",
   "metadata": {},
   "source": [
    "MakePCA of ProcessingSettings child"
   ]
  },
  {
   "cell_type": "code",
   "execution_count": 1,
   "metadata": {},
   "outputs": [
    {
     "name": "stdout",
     "output_type": "stream",
     "text": [
      "Structure of the CSV file: {'number_of_rows': 45, 'number_of_columns': 4445}\n",
      "Structure of the CSV file: {'number_of_rows': 45, 'number_of_columns': 2}\n",
      "\n",
      "MachineLearningEngine \n",
      "  name: None \n",
      "  author: None \n",
      "  path: None \n",
      "  date: 2024-06-05 23:16:51.308598 \n",
      "  analyses: 45 \n",
      "  settings: 0 \n",
      "\n"
     ]
    },
    {
     "data": {
      "image/png": "[encoded data removed]",
      "text/plain": [
       "<Figure size 640x480 with 1 Axes>"
      ]
     },
     "metadata": {},
     "output_type": "display_data"
    }
   ],
   "source": [
    "from src.StreamPort.ml.MachineLearningEngine import MachineLearningEngine\n",
    "from src.StreamPort.core.ProcessingSettings import ProcessingSettings\n",
    "from sklearn.decomposition import PCA \n",
    "import matplotlib.pyplot as plt\n",
    "\n",
    "\n",
    "#Creates an empty MachineLearningEngine object and prints it\n",
    "path = 'feature_list.csv'\n",
    "engine = MachineLearningEngine()\n",
    "engine.add_analyses_from_csv(path)\n",
    "\n",
    "class_path = 'feature_metadata.csv'\n",
    "engine.add_classes_from_csv(class_path)\n",
    "\n",
    "engine.print()\n",
    "\n",
    "# Make a ProcessingSettings child with PCA method and create a results object to hold the PCA results\n",
    "    #MakePCA(ProcessingSettings) the second MakePCASKL(MakePCA)\n",
    "\n",
    "class MakePCA(ProcessingSettings):\n",
    "    def __init__(self, call, algorithm, parameters, version, software, developer, contact, link, doi):\n",
    "        super().__init__(call, algorithm, parameters, version, software, developer, contact, link, doi)\n",
    "        \n",
    "    def run(self):\n",
    "        pass\n",
    "\n",
    "class MakePCASKL(MakePCA):\n",
    "    def __init__(self, n_components = 2):\n",
    "        call=\"MakePCA\"\n",
    "        algorithm=\"PCA\"\n",
    "        parameters={\n",
    "            \"n_components\": n_components\n",
    "        }\n",
    "        version=\"1.4.2\"\n",
    "        software=\"sklearn\"\n",
    "        developer=None\n",
    "        contact=None\n",
    "        link=None\n",
    "        doi=None\n",
    "        super().__init__(call, algorithm, parameters, version, software, developer, contact, link, doi)\n",
    "\n",
    "    def run(self, engine):\n",
    "        data = engine.get_data()\n",
    "        pca = PCA(n_components=2) \n",
    "        pca_results = pca.fit_transform(data)\n",
    "        return pca_results\n",
    "\n",
    "# Add the ProcessingSettings to the _settings attribute with add settings\n",
    "settingsSKL = MakePCASKL(n_components = 4)\n",
    "engine.add_settings(settingsSKL)\n",
    "\n",
    "# Create a method in the ML engine to perfom PCA and collect the results\n",
    "engine.make_pca()\n",
    "# The results are added to the _results atribute of the engine\n",
    "# make a plot method in the ML engine for the PCA results and classes\n",
    "engine.plot_pca()\n",
    "# Add the ProcessingSettings to the _settings attribute with add settings\n",
    "\n",
    "\n",
    "\n"
   ]
  }
 ],
 "metadata": {
  "kernelspec": {
   "display_name": "Python 3",
   "language": "python",
   "name": "python3"
  },
  "language_info": {
   "codemirror_mode": {
    "name": "ipython",
    "version": 3
   },
   "file_extension": ".py",
   "mimetype": "text/x-python",
   "name": "python",
   "nbconvert_exporter": "python",
   "pygments_lexer": "ipython3",
   "version": "3.12.3"
  }
 },
 "nbformat": 4,
 "nbformat_minor": 2
}
