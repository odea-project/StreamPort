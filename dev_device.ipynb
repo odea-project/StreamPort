{
 "cells": [
  {
   "cell_type": "markdown",
   "metadata": {},
   "source": [
    "PROBLEMS:\n",
    "\n",
    "Date and timestamps do not match for some analyses. RUN files for certain experiments (.D folders) show records of the same run (\"002.D\", \"008.D\", ..) repeated on separate days but documented in the same RUN file.\n",
    "Possible that it indicates a fault run that was repeated the next day or days after.\n",
    "Retain runtime as feature, any appearing as longer than a day (or other threshold, find) indicates an anomaly. Go back to actuals data to confirm. \n",
    "\n"
   ]
  },
  {
   "cell_type": "markdown",
   "metadata": {},
   "source": [
    "<h1>DeviceEngine Class"
   ]
  },
  {
   "cell_type": "markdown",
   "metadata": {},
   "source": [
    "Dedicated engine for device data, inherited from Core Engine. Each DeviceEngine class object will represent a unique device with its own set of processing parameters and results."
   ]
  },
  {
   "cell_type": "code",
   "execution_count": 1,
   "metadata": {},
   "outputs": [],
   "source": [
    "from src.StreamPort.device.DeviceEngine import DeviceEngine\n",
    "from src.StreamPort.core.ProcessingSettings import ProcessingSettings\n",
    "from src.StreamPort.core.ProjectHeaders import ProjectHeaders"
   ]
  },
  {
   "cell_type": "markdown",
   "metadata": {},
   "source": [
    "Create a new ProcessingSettings object "
   ]
  },
  {
   "cell_type": "code",
   "execution_count": 2,
   "metadata": {},
   "outputs": [],
   "source": [
    "settings = ProcessingSettings()"
   ]
  },
  {
   "cell_type": "code",
   "execution_count": 3,
   "metadata": {},
   "outputs": [],
   "source": [
    "#specify path to get analyses from\n",
    "base_dir = r'C:\\Users\\sande\\Desktop\\ExtractedSignals'"
   ]
  },
  {
   "cell_type": "markdown",
   "metadata": {},
   "source": [
    "Creates an empty DeviceEngine object and prints it"
   ]
  },
  {
   "cell_type": "code",
   "execution_count": 4,
   "metadata": {},
   "outputs": [
    {
     "name": "stdout",
     "output_type": "stream",
     "text": [
      "\n",
      "DeviceEngine \n",
      "  name: None \n",
      "  author: None \n",
      "  path: None \n",
      "  date: 2024-06-05 16:08:26.844526 \n",
      "  analyses: 0 \n",
      "  settings: 0 \n",
      "\n"
     ]
    }
   ],
   "source": [
    "\n",
    "dev = DeviceEngine(source = base_dir)\n",
    "dev.print()"
   ]
  },
  {
   "cell_type": "code",
   "execution_count": 5,
   "metadata": {},
   "outputs": [
    {
     "name": "stdout",
     "output_type": "stream",
     "text": [
      "\n",
      "DeviceEngine \n",
      "  name: None \n",
      "  author: None \n",
      "  path: None \n",
      "  date: 2024-06-05 16:08:26.855027 \n",
      "  analyses: 0 \n",
      "  settings: 0 \n",
      "\n",
      "c:\\Users\\sande\\Desktop\\StreamPort\n"
     ]
    }
   ],
   "source": [
    "dev1 = DeviceEngine()\n",
    "dev1.print()\n",
    "print(dev1._source)"
   ]
  },
  {
   "cell_type": "markdown",
   "metadata": {},
   "source": [
    "Add project headers. They can be passed as ProjectHeaders objects or dict"
   ]
  },
  {
   "cell_type": "code",
   "execution_count": 6,
   "metadata": {},
   "outputs": [
    {
     "ename": "KeyboardInterrupt",
     "evalue": "",
     "output_type": "error",
     "traceback": [
      "\u001b[1;31m---------------------------------------------------------------------------\u001b[0m",
      "\u001b[1;31mKeyboardInterrupt\u001b[0m                         Traceback (most recent call last)",
      "Cell \u001b[1;32mIn[6], line 1\u001b[0m\n\u001b[1;32m----> 1\u001b[0m analist \u001b[38;5;241m=\u001b[39m \u001b[43mdev1\u001b[49m\u001b[38;5;241;43m.\u001b[39;49m\u001b[43mfind_analyses\u001b[49m\u001b[43m(\u001b[49m\u001b[43m)\u001b[49m\n",
      "File \u001b[1;32mc:\\Users\\sande\\Desktop\\StreamPort\\src\\StreamPort\\device\\DeviceEngine.py:156\u001b[0m, in \u001b[0;36mDeviceEngine.find_analyses\u001b[1;34m(self)\u001b[0m\n\u001b[0;32m    153\u001b[0m         runs_list\u001b[38;5;241m.\u001b[39mappend(file)    \n\u001b[0;32m    155\u001b[0m     \u001b[38;5;28;01melse\u001b[39;00m:\n\u001b[1;32m--> 156\u001b[0m         \u001b[43mos\u001b[49m\u001b[38;5;241;43m.\u001b[39;49m\u001b[43mchdir\u001b[49m\u001b[43m(\u001b[49m\u001b[38;5;124;43m'\u001b[39;49m\u001b[38;5;124;43m..\u001b[39;49m\u001b[38;5;124;43m'\u001b[39;49m\u001b[43m)\u001b[49m\n\u001b[0;32m    157\u001b[0m         current_folder \u001b[38;5;241m=\u001b[39m os\u001b[38;5;241m.\u001b[39mgetcwd()\n\u001b[0;32m    159\u001b[0m \u001b[38;5;28;01mif\u001b[39;00m sources_list:\n\u001b[0;32m    160\u001b[0m \n\u001b[0;32m    161\u001b[0m     \u001b[38;5;66;03m#add all superfolders to stack for iteration\u001b[39;00m\n",
      "\u001b[1;31mKeyboardInterrupt\u001b[0m: "
     ]
    }
   ],
   "source": [
    "analist = dev1.find_analyses()"
   ]
  },
  {
   "cell_type": "code",
   "execution_count": null,
   "metadata": {},
   "outputs": [],
   "source": [
    "dev.add_headers(headers = {'name': 'Pressure Curve Analysis', 'author': 'Sandeep H.'})\n",
    "dev.print()"
   ]
  },
  {
   "cell_type": "markdown",
   "metadata": {},
   "source": [
    "Add processing settings"
   ]
  },
  {
   "cell_type": "code",
   "execution_count": null,
   "metadata": {},
   "outputs": [],
   "source": [
    "dev.add_settings(settings)\n",
    "dev.print()"
   ]
  },
  {
   "cell_type": "markdown",
   "metadata": {},
   "source": [
    "<h1>DeviceAnalysis Class"
   ]
  },
  {
   "cell_type": "markdown",
   "metadata": {},
   "source": [
    "Each DeviceAnalysis object is a child of the Analysis Class. It holds the details of an Analysis for each individual device."
   ]
  },
  {
   "cell_type": "code",
   "execution_count": null,
   "metadata": {},
   "outputs": [],
   "source": [
    "from src.StreamPort.device.DeviceAnalysis import DeviceAnalysis\n",
    "\n",
    "#Creates an empty DeviceAnalysis object and prints it\n",
    "devAnalysis = DeviceAnalysis()\n",
    "devAnalysis.print()"
   ]
  },
  {
   "cell_type": "markdown",
   "metadata": {},
   "source": [
    " \n",
    "DeviceEngine's find_analyses() method returns a DeviceAnalysis Object or a list of DeviceAnalysis objects, besides printing the dataframes for each unique Method, paired with the metadata(Date, Runtime) for each curve.\n",
    "\n",
    "This method makes use of the source variable to accept a path to a directory containing analyses as an argument and find analyses from the target path.\n",
    "\n",
    "The path can refer to a directory containing data for specific groups of experiments \"210812_Gem 2021-08-12 09-49-10\" or one such experiment containing its own set of method-related analysis data \"210812_Gem--005.D\", \"210812_Gem--007.D\", ..\n",
    "\n"
   ]
  },
  {
   "cell_type": "markdown",
   "metadata": {},
   "source": [
    "Read analysis objects from engine."
   ]
  },
  {
   "cell_type": "code",
   "execution_count": null,
   "metadata": {},
   "outputs": [],
   "source": [
    "analyses = dev.find_analyses()"
   ]
  },
  {
   "cell_type": "markdown",
   "metadata": {},
   "source": [
    "Each DeviceEngine object has an attribute _method_ids that records all methods encountered in the analysis of the current Device."
   ]
  },
  {
   "cell_type": "code",
   "execution_count": null,
   "metadata": {},
   "outputs": [],
   "source": [
    "print(dev._method_ids)"
   ]
  },
  {
   "cell_type": "markdown",
   "metadata": {},
   "source": [
    "And an attribute _history to hold data on all experiments related to this device."
   ]
  },
  {
   "cell_type": "code",
   "execution_count": null,
   "metadata": {},
   "outputs": [],
   "source": [
    "print(dev._history)"
   ]
  },
  {
   "cell_type": "code",
   "execution_count": null,
   "metadata": {},
   "outputs": [],
   "source": [
    "dev.print()"
   ]
  },
  {
   "cell_type": "markdown",
   "metadata": {},
   "source": [
    "Add analyses objects that were found using find_analyses() to current device records."
   ]
  },
  {
   "cell_type": "code",
   "execution_count": null,
   "metadata": {},
   "outputs": [],
   "source": [
    "dev.add_analyses(analyses)"
   ]
  },
  {
   "cell_type": "code",
   "execution_count": null,
   "metadata": {},
   "outputs": [],
   "source": [
    "for ana in dev._analyses:\n",
    "    print(\"\\n\")\n",
    "    ana.validate()\n",
    "    print(\"Analysis Object : \\n\")\n",
    "    print(f\"Analysis : {ana.print()}\")\n",
    "    print(\"Data of Analysis : \\n\")\n",
    "    print(ana.data)\n",
    "    print(\"\\n\")"
   ]
  },
  {
   "cell_type": "markdown",
   "metadata": {},
   "source": [
    "Add analyses in the form of individual DeviceAnalysis objects or a list of such objects."
   ]
  },
  {
   "cell_type": "code",
   "execution_count": null,
   "metadata": {},
   "outputs": [],
   "source": [
    "dev.print()"
   ]
  },
  {
   "cell_type": "markdown",
   "metadata": {},
   "source": [
    "Remove analysis by name of DeviceAnalysis object, index in list of objects, or list of names or indexes"
   ]
  },
  {
   "cell_type": "code",
   "execution_count": null,
   "metadata": {},
   "outputs": [],
   "source": [
    "dev.remove_analyses(0)\n",
    "dev.print()"
   ]
  },
  {
   "cell_type": "markdown",
   "metadata": {},
   "source": [
    "Retrieve DeviceAnalysis Objects or list of such objects by object name, index"
   ]
  },
  {
   "cell_type": "code",
   "execution_count": null,
   "metadata": {},
   "outputs": [],
   "source": [
    "new_analyses = dev.get_analyses(\"Pac\")"
   ]
  },
  {
   "cell_type": "code",
   "execution_count": null,
   "metadata": {},
   "outputs": [],
   "source": [
    "for ana in new_analyses:\n",
    "    ana.print()"
   ]
  },
  {
   "cell_type": "code",
   "execution_count": null,
   "metadata": {},
   "outputs": [],
   "source": [
    "print(dev._analyses)"
   ]
  },
  {
   "cell_type": "code",
   "execution_count": null,
   "metadata": {},
   "outputs": [],
   "source": [
    "for i in dev._analyses:\n",
    "    i.print()"
   ]
  },
  {
   "cell_type": "markdown",
   "metadata": {},
   "source": [
    "Plot analyses by calling inbuilt plot function and passing each object's index as argument"
   ]
  },
  {
   "cell_type": "code",
   "execution_count": null,
   "metadata": {},
   "outputs": [],
   "source": [
    "for i in range(0,len(dev._analyses)):\n",
    "    dev.plot_analyses(i)"
   ]
  },
  {
   "cell_type": "markdown",
   "metadata": {},
   "source": [
    "Plot analyses by word or subword present in analysis name "
   ]
  },
  {
   "cell_type": "code",
   "execution_count": null,
   "metadata": {},
   "outputs": [],
   "source": [
    "dev.plot_analyses(\"Gem\")"
   ]
  },
  {
   "cell_type": "markdown",
   "metadata": {},
   "source": [
    "Plot analyses by word or subword present in analysis date"
   ]
  },
  {
   "cell_type": "code",
   "execution_count": null,
   "metadata": {},
   "outputs": [],
   "source": [
    "dev.plot_analyses(\"2021-08\")"
   ]
  },
  {
   "cell_type": "markdown",
   "metadata": {},
   "source": [
    "Extract features for an analysis or group of analysis. This function, while calculating the features, also automatically adds these features DataFrames to the results dict attribute of the DeviceEngine object by calling the DeviceEngine object's inbuilt(inherited) add_results() function."
   ]
  },
  {
   "cell_type": "code",
   "execution_count": null,
   "metadata": {},
   "outputs": [],
   "source": [
    "print(dev._history)"
   ]
  },
  {
   "cell_type": "code",
   "execution_count": null,
   "metadata": {},
   "outputs": [],
   "source": [
    "dev.get_features(2)"
   ]
  },
  {
   "cell_type": "code",
   "execution_count": null,
   "metadata": {},
   "outputs": [],
   "source": [
    "dev.get_results(2)"
   ]
  },
  {
   "cell_type": "code",
   "execution_count": null,
   "metadata": {},
   "outputs": [],
   "source": [
    "dev.remove_analyses(-1)"
   ]
  },
  {
   "cell_type": "code",
   "execution_count": null,
   "metadata": {},
   "outputs": [],
   "source": [
    "dev.print()"
   ]
  }
 ],
 "metadata": {
  "kernelspec": {
   "display_name": "Python 3",
   "language": "python",
   "name": "python3"
  },
  "language_info": {
   "codemirror_mode": {
    "name": "ipython",
    "version": 3
   },
   "file_extension": ".py",
   "mimetype": "text/x-python",
   "name": "python",
   "nbconvert_exporter": "python",
   "pygments_lexer": "ipython3",
   "version": "3.11.4"
  }
 },
 "nbformat": 4,
 "nbformat_minor": 2
}
