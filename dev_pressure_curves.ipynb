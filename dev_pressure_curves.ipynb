{
 "cells": [
  {
   "cell_type": "code",
   "execution_count": null,
   "id": "19ccbcc6",
   "metadata": {},
   "outputs": [],
   "source": [
    "import os\n",
    "from src.StreamPort.core import Engine\n",
    "from src.StreamPort.device.analyses import PressureCurves\n",
    "\n",
    "path = \"D:/ExtractedSignals\"\n",
    "batches = os.listdir(path)\n",
    "batches = [os.path.join(path, file) for file in batches]\n",
    "\n",
    "files = []\n",
    "for batch in batches:\n",
    "    batch_files = os.listdir(batch)\n",
    "    batch_files = [os.path.join(batch, file) for file in batch_files if \".D\" in file]\n",
    "    files.extend(batch_files)\n",
    "\n",
    "eng = Engine(analyses = PressureCurves(files=files))\n",
    "\n",
    "print(\"Number of analyses: \", len(eng.analyses.data))\n",
    "\n",
    "eng.analyses.plot_methods()"
   ]
  },
  {
   "cell_type": "code",
   "execution_count": null,
   "id": "b6a53cbb",
   "metadata": {},
   "outputs": [],
   "source": [
    "from src.StreamPort.device.methods import PressureCurvesMethodExtractFeaturesNative\n",
    "from src.StreamPort.device.methods import PressureCurvesMethodScaleFeaturesScalerSklearn\n",
    "\n",
    "eng.workflow.clear()\n",
    "eng.workflow.append(PressureCurvesMethodExtractFeaturesNative())\n",
    "eng.workflow.append(PressureCurvesMethodScaleFeaturesScalerSklearn(scaler_type=\"MinMaxScaler\"))\n",
    "eng.run()\n",
    "\n",
    "method = \"SAA_411_Pac.M\"\n",
    "method_indices = eng.analyses.get_method_indices(method)\n",
    "eng.analyses.plot_methods(method_indices)"
   ]
  },
  {
   "cell_type": "code",
   "execution_count": null,
   "id": "d857ebe1",
   "metadata": {},
   "outputs": [],
   "source": [
    "eng.analyses.plot_features(indices = method_indices)"
   ]
  },
  {
   "cell_type": "code",
   "execution_count": null,
   "id": "0e6d1fad",
   "metadata": {},
   "outputs": [],
   "source": [
    "eng.analyses.plot_pressure_curves(indices = method_indices)"
   ]
  },
  {
   "cell_type": "code",
   "execution_count": null,
   "id": "17dcc743",
   "metadata": {},
   "outputs": [],
   "source": [
    "data = eng.analyses.get_features(method_indices)\n",
    "\n",
    "metadata = eng.analyses.get_metadata(method_indices)\n",
    "\n",
    "data.to_csv(\"features.csv\", index=False)\n",
    "metadata.to_csv(\"metadata.csv\", index=False)"
   ]
  },
  {
   "cell_type": "code",
   "execution_count": null,
   "id": "03e77d68",
   "metadata": {},
   "outputs": [],
   "source": [
    "#eng.analyses.plot_pressure_curves(indices = )"
   ]
  }
 ],
 "metadata": {
  "kernelspec": {
   "display_name": "sp",
   "language": "python",
   "name": "python3"
  },
  "language_info": {
   "codemirror_mode": {
    "name": "ipython",
    "version": 3
   },
   "file_extension": ".py",
   "mimetype": "text/x-python",
   "name": "python",
   "nbconvert_exporter": "python",
   "pygments_lexer": "ipython3",
   "version": "3.12.1"
  }
 },
 "nbformat": 4,
 "nbformat_minor": 5
}
