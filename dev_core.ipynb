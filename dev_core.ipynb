{
 "cells": [
  {
   "cell_type": "markdown",
   "metadata": {},
   "source": [
    "# Demo CoreEngine"
   ]
  },
  {
   "cell_type": "code",
   "execution_count": 1,
   "metadata": {},
   "outputs": [
    {
     "name": "stdout",
     "output_type": "stream",
     "text": [
      "CoreEngine \n",
      "  name: None \n",
      "  author: None \n",
      "  path: None \n",
      "  date: 2024-03-23 13:03:43.772916 \n",
      "\n"
     ]
    }
   ],
   "source": [
    "from src.StreamPort.core.CoreEngine import CoreEngine\n",
    "\n",
    "# Creates an empty CoreEngine object and prints it\n",
    "x = CoreEngine()\n",
    "x.print()"
   ]
  },
  {
   "cell_type": "markdown",
   "metadata": {},
   "source": [
    "## ProjectHeaders"
   ]
  },
  {
   "cell_type": "code",
   "execution_count": 1,
   "metadata": {},
   "outputs": [
    {
     "name": "stdout",
     "output_type": "stream",
     "text": [
      "1:\n",
      "\n",
      "ProjectHeaders\n",
      "  name: None\n",
      "  author: None\n",
      "  path: None\n",
      "  date: 2024-03-23 14:08:15.835097\n",
      "\n",
      "True\n",
      "\n",
      "2:\n",
      "\n",
      "CoreEngine \n",
      "  name: Example Name \n",
      "  author: None \n",
      "  path: None \n",
      "  date: 2024-03-23 14:08:15.835097 \n",
      "\n",
      "3:\n",
      "{'name': 'Example Name', 'author': None, 'path': None, 'date': datetime.datetime(2024, 3, 23, 14, 8, 15, 835097)}\n"
     ]
    }
   ],
   "source": [
    "from src.StreamPort.core.CoreEngine import CoreEngine\n",
    "from src.StreamPort.core.ProjectHeaders import ProjectHeaders\n",
    "\n",
    "x = CoreEngine()\n",
    "\n",
    "print(\"1:\")\n",
    "# Creates a ProjectHeaders object and prints it \n",
    "ph = ProjectHeaders()\n",
    "ph.print()\n",
    "\n",
    "# Validates the ProjectHeaders object\n",
    "print(ph.validate())\n",
    "\n",
    "print(\"\\n2:\")\n",
    "# Modifies headers in the CoreEngine\n",
    "x.add_headers(headers={\"name\": \"Example Name\", \"description\": \"demo description\"})\n",
    "x.print()\n",
    "\n",
    "print(\"3:\")\n",
    "# Removes the description header\n",
    "x.remove_headers(\"description\")\n",
    "print(x.get_headers())"
   ]
  },
  {
   "cell_type": "markdown",
   "metadata": {},
   "source": [
    "## Analyses"
   ]
  },
  {
   "cell_type": "code",
   "execution_count": 2,
   "metadata": {},
   "outputs": [
    {
     "name": "stdout",
     "output_type": "stream",
     "text": [
      "1:\n",
      "\n",
      "Analysis\n",
      "  name: Analysis 1\n",
      "  replicate: None\n",
      "  blank: None\n",
      "\n",
      "2:\n",
      "Number of analyses:  3\n",
      "3:\n",
      "Number of analyses:  3\n",
      "4:\n",
      "Number of analyses:  2\n",
      "5:\n",
      "Number of analyses:  0\n"
     ]
    }
   ],
   "source": [
    "from src.StreamPort.core.CoreEngine import CoreEngine\n",
    "from src.StreamPort.core.Analyses import Analyses\n",
    "\n",
    "x = CoreEngine()\n",
    "\n",
    "print(\"1:\")\n",
    "# Creates an Analyses object and prints it\n",
    "ana1 = Analyses(name = \"Analysis 1\")\n",
    "ana1.print()\n",
    "\n",
    "print(\"2:\")\n",
    "# An Analysis list\n",
    "anaList = [ana1, Analyses(name = \"Analysis 2\"), Analyses(name = \"Analysis 3\")]\n",
    "print(\"Number of analyses: \", anaList.__len__())\n",
    "\n",
    "print(\"3:\")\n",
    "# Adds the list of analyses to the CoreEngine\n",
    "x.add_analyses(anaList)\n",
    "print(\"Number of analyses: \", x._analyses.__len__())\n",
    "\n",
    "print(\"4:\")\n",
    "# Removes the first analysis from the list\n",
    "x.remove_analyses(0)\n",
    "print(\"Number of analyses: \", x._analyses.__len__())\n",
    "\n",
    "print(\"5:\")\n",
    "# Removes all analyses from the list\n",
    "x.remove_analyses()\n",
    "print(\"Number of analyses: \", x._analyses.__len__())\n"
   ]
  },
  {
   "cell_type": "markdown",
   "metadata": {},
   "source": [
    "## ProcessingSettings"
   ]
  },
  {
   "cell_type": "code",
   "execution_count": 1,
   "metadata": {},
   "outputs": [
    {
     "name": "stdout",
     "output_type": "stream",
     "text": [
      "1:\n",
      "\n",
      " ProcessingSettings\n",
      " call         None\n",
      " algorithm    None\n",
      " version      None\n",
      " software     None\n",
      " developer    None\n",
      " contact      None\n",
      " link         None\n",
      " doi          None\n",
      "\n",
      " parameters: empty \n",
      "\n",
      "2:\n",
      "Number of settings:  1\n",
      "3:\n",
      "Number of settings:  0\n"
     ]
    }
   ],
   "source": [
    "from src.StreamPort.core.CoreEngine import CoreEngine\n",
    "from src.StreamPort.core.ProcessingSettings import ProcessingSettings\n",
    "\n",
    "x = CoreEngine()\n",
    "\n",
    "print(\"1:\")\n",
    "# Creates a ProcessingSettings object and prints it\n",
    "settings = ProcessingSettings()\n",
    "settings.print()\n",
    "\n",
    "print(\"2:\")\n",
    "# Adds the settings to the CoreEngine\n",
    "x.add_settings(settings)\n",
    "print(\"Number of settings: \", x._settings.__len__())\n",
    "\n",
    "print(\"3:\")\n",
    "# Removes the settings from the CoreEngine\n",
    "x.remove_settings()\n",
    "print(\"Number of settings: \", x._settings.__len__())\n"
   ]
  },
  {
   "cell_type": "markdown",
   "metadata": {},
   "source": [
    "## Results"
   ]
  },
  {
   "cell_type": "code",
   "execution_count": 4,
   "metadata": {},
   "outputs": [
    {
     "name": "stdout",
     "output_type": "stream",
     "text": [
      "1:\n",
      "{'sensors': {'sensor1': {'data': [1, 2, 3, 4, 5], 'time': [1, 2, 3, 4, 5]}, 'sensor2': {'data': [1, 2, 3, 4, 5], 'time': [1, 2, 3, 4, 5]}}}\n",
      "2:\n",
      "Number of results:  1\n",
      "3:\n",
      "Number of results:  0\n"
     ]
    }
   ],
   "source": [
    "from src.StreamPort.core.CoreEngine import CoreEngine\n",
    "\n",
    "x = CoreEngine()\n",
    "\n",
    "print(\"1:\")\n",
    "# Creates a results dictionary with data from two sensors\n",
    "res1 = {\"sensors\": {\"sensor1\": {\"data\": [1, 2, 3, 4, 5], \"time\": [1, 2, 3, 4, 5]}, \"sensor2\": {\"data\": [1, 2, 3, 4, 5], \"time\": [1, 2, 3, 4, 5]}}}\n",
    "print(res1)\n",
    "\n",
    "print(\"2:\")\n",
    "# Adds the results to the CoreEngine\n",
    "x.add_results(res1)\n",
    "print(\"Number of results: \", x._results.__len__())\n",
    "\n",
    "print(\"3:\")\n",
    "# Removes the results sensors from the CoreEngine\n",
    "x.remove_results(\"sensors\")\n",
    "print(\"Number of results: \", x._results.__len__())"
   ]
  },
  {
   "cell_type": "markdown",
   "metadata": {},
   "source": [
    "# Class Inheritance\n",
    "\n",
    "Engines are created based on the class inheritance as described below.\n",
    "Basic methods are reused from the core engine. "
   ]
  },
  {
   "cell_type": "code",
   "execution_count": null,
   "metadata": {},
   "outputs": [],
   "source": [
    "class Person:\n",
    "  \"\"\"Class docstrings go here.\"\"\"\n",
    "\n",
    "  def __init__(self, fname, lname):\n",
    "    self.firstname = fname\n",
    "    self.lastname = lname\n",
    "\n",
    "  def printname(self):\n",
    "    \"\"\"Class method docstrings go here.\"\"\"\n",
    "    print(self.firstname, self.lastname)\n",
    "\n",
    "  def welcome_from_parent(self):\n",
    "    print(\"Welcome from parent class\")\n",
    "\n",
    "#Use the Person class to create an object, and then execute the printname method:\n",
    "\n",
    "x = Person(\"John\", \"Doe\")\n",
    "\n",
    "x.printname()\n",
    "\n",
    "class Student(Person):\n",
    "  def __init__(self, fname, lname, year):\n",
    "    super().__init__(fname, lname)\n",
    "    self.graduationyear = year\n",
    "\n",
    "  def welcome(self):\n",
    "    print(\"Welcome\", self.firstname, self.lastname, \"to the class of\", self.graduationyear)\n",
    "\n",
    "  def printname(self):\n",
    "    print(self.firstname, self.lastname, \"overwritten!\")\n",
    "\n",
    "  def printname_from_parent(self):\n",
    "    super().printname()\n",
    "\n",
    "x = Student(\"Mike\", \"Olsen\", 2019)\n",
    "\n",
    "x.printname()\n",
    "\n",
    "x.printname_from_parent()\n",
    "\n",
    "x.welcome()\n",
    "\n",
    "x.welcome_from_parent()\n",
    "\n",
    "help(Person)"
   ]
  },
  {
   "cell_type": "markdown",
   "metadata": {},
   "source": [
    "# Other Code Lines"
   ]
  },
  {
   "cell_type": "code",
   "execution_count": null,
   "metadata": {},
   "outputs": [],
   "source": [
    "import sys\n",
    "print(sys.executable)"
   ]
  }
 ],
 "metadata": {
  "kernelspec": {
   "display_name": "sp",
   "language": "python",
   "name": "python3"
  },
  "language_info": {
   "codemirror_mode": {
    "name": "ipython",
    "version": 3
   },
   "file_extension": ".py",
   "mimetype": "text/x-python",
   "name": "python",
   "nbconvert_exporter": "python",
   "pygments_lexer": "ipython3",
   "version": "3.12.1"
  }
 },
 "nbformat": 4,
 "nbformat_minor": 2
}
