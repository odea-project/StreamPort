{
 "cells": [
  {
   "cell_type": "code",
   "execution_count": 1,
   "metadata": {},
   "outputs": [
    {
     "name": "stdout",
     "output_type": "stream",
     "text": [
      "\n",
      "MachineLearningAnalyses \n",
      "  variables: 22 rows, 33 columns\n",
      "  metadata: 22 rows, 14 columns\n",
      "\n"
     ]
    },
    {
     "data": {
      "application/vnd.plotly.v1+json": {
       "config": {
        "plotlyServerURL": "https://plot.ly"
       },
       "data": [
        {
         "hovertemplate": "<b>%{text}</b><br><b>x: </b>%{x}<br><b>batch_position: </b>%{y}<extra></extra>",
         "mode": "lines",
         "name": "batch_position",
         "text": [
          "index: 17<br>name: 210812_Pac--005<br>path: D:/ExtractedSignals\\210812_Pac 2021-08-12 10-30-07\\210812_Pac--005.D<br>batch: 210812_Pac 2021-08-12 10-30-07<br>batch_position: 5<br>idle_time: 279.0<br>sample: NaCl 0,9%<br>method: SAA_411_Pac.M<br>timestamp: 2021-08-12 10:50:23<br>detector: G1315C<br>pump: G7110B<br>start_time: 2021-08-12 10:50:57<br>end_time: 2021-08-12 10:54:57<br>runtime: 239.7000000000036",
          "index: 18<br>name: 210812_Pac--006<br>path: D:/ExtractedSignals\\210812_Pac 2021-08-12 10-30-07\\210812_Pac--006.D<br>batch: 210812_Pac 2021-08-12 10-30-07<br>batch_position: 6<br>idle_time: 279.0<br>sample: Blank<br>method: SAA_411_Pac.M<br>timestamp: 2021-08-12 10:55:02<br>detector: G1315C<br>pump: G7110B<br>start_time: 2021-08-12 10:55:36<br>end_time: 2021-08-12 10:59:36<br>runtime: 239.7000000000036",
          "index: 19<br>name: 210812_Pac--007<br>path: D:/ExtractedSignals\\210812_Pac 2021-08-12 10-30-07\\210812_Pac--007.D<br>batch: 210812_Pac 2021-08-12 10-30-07<br>batch_position: 7<br>idle_time: 279.0<br>sample: 0.025 mg/ml<br>method: SAA_411_Pac.M<br>timestamp: 2021-08-12 10:59:41<br>detector: G1315C<br>pump: G7110B<br>start_time: 2021-08-12 11:00:15<br>end_time: 2021-08-12 11:04:15<br>runtime: 239.7000000000036",
          "index: 20<br>name: 210812_Pac--008<br>path: D:/ExtractedSignals\\210812_Pac 2021-08-12 10-30-07\\210812_Pac--008.D<br>batch: 210812_Pac 2021-08-12 10-30-07<br>batch_position: 8<br>idle_time: 279.0<br>sample: Blank<br>method: SAA_411_Pac.M<br>timestamp: 2021-08-12 11:04:20<br>detector: G1315C<br>pump: G7110B<br>start_time: 2021-08-12 11:04:54<br>end_time: 2021-08-12 11:08:54<br>runtime: 239.7000000000036",
          "index: 21<br>name: 210812_Pac--009<br>path: D:/ExtractedSignals\\210812_Pac 2021-08-12 10-30-07\\210812_Pac--009.D<br>batch: 210812_Pac 2021-08-12 10-30-07<br>batch_position: 9<br>idle_time: 279.0<br>sample: 210806/036 :10<br>method: SAA_411_Pac.M<br>timestamp: 2021-08-12 11:08:59<br>detector: G1315C<br>pump: G7110B<br>start_time: 2021-08-12 11:09:32<br>end_time: 2021-08-12 11:13:32<br>runtime: 239.7000000000036",
          "index: 22<br>name: 210812_Pac--010<br>path: D:/ExtractedSignals\\210812_Pac 2021-08-12 10-30-07\\210812_Pac--010.D<br>batch: 210812_Pac 2021-08-12 10-30-07<br>batch_position: 10<br>idle_time: 278.0<br>sample: 210806/036 :10<br>method: SAA_411_Pac.M<br>timestamp: 2021-08-12 11:13:37<br>detector: G7110B<br>pump: G7110B<br>start_time: 2021-08-12 11:14:11<br>end_time: 2021-08-12 11:18:11<br>runtime: 239.7000000000036",
          "index: 23<br>name: 210812_Pac--011<br>path: D:/ExtractedSignals\\210812_Pac 2021-08-12 10-30-07\\210812_Pac--011.D<br>batch: 210812_Pac 2021-08-12 10-30-07<br>batch_position: 11<br>idle_time: 279.0<br>sample: 210806/036 :10<br>method: SAA_411_Pac.M<br>timestamp: 2021-08-12 11:18:16<br>detector: G7110B<br>pump: G7110B<br>start_time: 2021-08-12 11:18:50<br>end_time: 2021-08-12 11:22:50<br>runtime: 239.7000000000036",
          "index: 24<br>name: 210812_Pac--012<br>path: D:/ExtractedSignals\\210812_Pac 2021-08-12 10-30-07\\210812_Pac--012.D<br>batch: 210812_Pac 2021-08-12 10-30-07<br>batch_position: 12<br>idle_time: 279.0<br>sample: Blank<br>method: SAA_411_Pac.M<br>timestamp: 2021-08-12 11:22:55<br>detector: G1315C<br>pump: G7110B<br>start_time: 2021-08-12 11:23:29<br>end_time: 2021-08-12 11:27:29<br>runtime: 239.7000000000036",
          "index: 25<br>name: 210812_Pac--013<br>path: D:/ExtractedSignals\\210812_Pac 2021-08-12 10-30-07\\210812_Pac--013.D<br>batch: 210812_Pac 2021-08-12 10-30-07<br>batch_position: 13<br>idle_time: 279.0<br>sample: 0.025 mg/ml<br>method: SAA_411_Pac.M<br>timestamp: 2021-08-12 11:27:34<br>detector: G1315C<br>pump: G7110B<br>start_time: 2021-08-12 11:28:08<br>end_time: 2021-08-12 11:32:08<br>runtime: 239.7000000000036",
          "index: 26<br>name: 210812_Pac--014<br>path: D:/ExtractedSignals\\210812_Pac 2021-08-12 10-30-07\\210812_Pac--014.D<br>batch: 210812_Pac 2021-08-12 10-30-07<br>batch_position: 14<br>idle_time: 279.0<br>sample: Blank<br>method: SAA_411_Pac.M<br>timestamp: 2021-08-12 11:32:13<br>detector: G7110B<br>pump: G7110B<br>start_time: 2021-08-12 11:32:46<br>end_time: 2021-08-12 11:36:47<br>runtime: 239.7000000000036",
          "index: 85<br>name: 210813_Pac--003<br>path: D:/ExtractedSignals\\210813_Pac 2021-08-13 10-37-27\\210813_Pac--003.D<br>batch: 210813_Pac 2021-08-13 10-37-27<br>batch_position: 3<br>idle_time: 278.0<br>sample: Blank<br>method: SAA_411_Pac.M<br>timestamp: 2021-08-13 10:48:34<br>detector: G1315C<br>pump: G7116B<br>start_time: 2021-08-13 10:49:08<br>end_time: 2021-08-13 10:53:08<br>runtime: 239.7000000000036",
          "index: 86<br>name: 210813_Pac--004<br>path: D:/ExtractedSignals\\210813_Pac 2021-08-13 10-37-27\\210813_Pac--004.D<br>batch: 210813_Pac 2021-08-13 10-37-27<br>batch_position: 4<br>idle_time: 279.0<br>sample: Blank<br>method: SAA_411_Pac.M<br>timestamp: 2021-08-13 10:53:13<br>detector: G1315C<br>pump: G7110B<br>start_time: 2021-08-13 10:53:47<br>end_time: 2021-08-13 10:57:47<br>runtime: 239.7000000000036",
          "index: 87<br>name: 210813_Pac--005<br>path: D:/ExtractedSignals\\210813_Pac 2021-08-13 10-37-27\\210813_Pac--005.D<br>batch: 210813_Pac 2021-08-13 10-37-27<br>batch_position: 5<br>idle_time: 279.0<br>sample: NaCl 0,9%<br>method: SAA_411_Pac.M<br>timestamp: 2021-08-13 10:57:52<br>detector: G7110B<br>pump: G7110B<br>start_time: 2021-08-13 10:58:26<br>end_time: 2021-08-13 11:02:27<br>runtime: 239.7000000000036",
          "index: 88<br>name: 210813_Pac--006<br>path: D:/ExtractedSignals\\210813_Pac 2021-08-13 10-37-27\\210813_Pac--006.D<br>batch: 210813_Pac 2021-08-13 10-37-27<br>batch_position: 6<br>idle_time: 279.0<br>sample: Blank<br>method: SAA_411_Pac.M<br>timestamp: 2021-08-13 11:02:31<br>detector: G1315C<br>pump: G7110B<br>start_time: 2021-08-13 11:03:05<br>end_time: 2021-08-13 11:07:06<br>runtime: 239.7000000000036",
          "index: 89<br>name: 210813_Pac--007<br>path: D:/ExtractedSignals\\210813_Pac 2021-08-13 10-37-27\\210813_Pac--007.D<br>batch: 210813_Pac 2021-08-13 10-37-27<br>batch_position: 7<br>idle_time: 279.0<br>sample: 0.025 mg/ml<br>method: SAA_411_Pac.M<br>timestamp: 2021-08-13 11:07:10<br>detector: G1315C<br>pump: G7116B<br>start_time: 2021-08-13 11:07:44<br>end_time: 2021-08-13 11:11:45<br>runtime: 239.7000000000036",
          "index: 90<br>name: 210813_Pac--008<br>path: D:/ExtractedSignals\\210813_Pac 2021-08-13 10-37-27\\210813_Pac--008.D<br>batch: 210813_Pac 2021-08-13 10-37-27<br>batch_position: 8<br>idle_time: 279.0<br>sample: Blank<br>method: SAA_411_Pac.M<br>timestamp: 2021-08-13 11:11:49<br>detector: G1315C<br>pump: G7110B<br>start_time: 2021-08-13 11:12:23<br>end_time: 2021-08-13 11:16:23<br>runtime: 239.7000000000036",
          "index: 91<br>name: 210813_Pac--009<br>path: D:/ExtractedSignals\\210813_Pac 2021-08-13 10-37-27\\210813_Pac--009.D<br>batch: 210813_Pac 2021-08-13 10-37-27<br>batch_position: 9<br>idle_time: 279.0<br>sample: 210812/004 :20<br>method: SAA_411_Pac.M<br>timestamp: 2021-08-13 11:16:28<br>detector: G1315C<br>pump: G7110B<br>start_time: 2021-08-13 11:17:02<br>end_time: 2021-08-13 11:21:03<br>runtime: 239.7000000000036",
          "index: 92<br>name: 210813_Pac--010<br>path: D:/ExtractedSignals\\210813_Pac 2021-08-13 10-37-27\\210813_Pac--010.D<br>batch: 210813_Pac 2021-08-13 10-37-27<br>batch_position: 10<br>idle_time: 280.0<br>sample: 210812/004 :20<br>method: SAA_411_Pac.M<br>timestamp: 2021-08-13 11:21:08<br>detector: G1315C<br>pump: G7110B<br>start_time: 2021-08-13 11:21:41<br>end_time: 2021-08-13 11:25:42<br>runtime: 239.7000000000036",
          "index: 93<br>name: 210813_Pac--011<br>path: D:/ExtractedSignals\\210813_Pac 2021-08-13 10-37-27\\210813_Pac--011.D<br>batch: 210813_Pac 2021-08-13 10-37-27<br>batch_position: 11<br>idle_time: 278.0<br>sample: 210812/004 :20<br>method: SAA_411_Pac.M<br>timestamp: 2021-08-13 11:25:46<br>detector: G1315C<br>pump: G7110B<br>start_time: 2021-08-13 11:26:21<br>end_time: 2021-08-13 11:30:21<br>runtime: 239.7000000000036",
          "index: 94<br>name: 210813_Pac--012<br>path: D:/ExtractedSignals\\210813_Pac 2021-08-13 10-37-27\\210813_Pac--012.D<br>batch: 210813_Pac 2021-08-13 10-37-27<br>batch_position: 12<br>idle_time: 280.0<br>sample: Blank<br>method: SAA_411_Pac.M<br>timestamp: 2021-08-13 11:30:26<br>detector: G1315C<br>pump: G7110B<br>start_time: 2021-08-13 11:30:59<br>end_time: 2021-08-13 11:34:59<br>runtime: 239.7000000000036",
          "index: 95<br>name: 210813_Pac--013<br>path: D:/ExtractedSignals\\210813_Pac 2021-08-13 10-37-27\\210813_Pac--013.D<br>batch: 210813_Pac 2021-08-13 10-37-27<br>batch_position: 13<br>idle_time: 278.0<br>sample: 0.025 mg/ml<br>method: SAA_411_Pac.M<br>timestamp: 2021-08-13 11:35:04<br>detector: G1315C<br>pump: G7110B<br>start_time: 2021-08-13 11:35:38<br>end_time: 2021-08-13 11:39:38<br>runtime: 239.7000000000036",
          "index: 96<br>name: 210813_Pac--014<br>path: D:/ExtractedSignals\\210813_Pac 2021-08-13 10-37-27\\210813_Pac--014.D<br>batch: 210813_Pac 2021-08-13 10-37-27<br>batch_position: 14<br>idle_time: 279.0<br>sample: Blank<br>method: SAA_411_Pac.M<br>timestamp: 2021-08-13 11:39:43<br>detector: G1315C<br>pump: G7110B<br>start_time: 2021-08-13 11:40:16<br>end_time: 2021-08-13 11:44:17<br>runtime: 239.7000000000036"
         ],
         "type": "scatter",
         "x": [
          0,
          1,
          2,
          3,
          4,
          5,
          6,
          7,
          8,
          9,
          10,
          11,
          12,
          13,
          14,
          15,
          16,
          17,
          18,
          19,
          20,
          21
         ],
         "y": [
          0.2105263157894736,
          0.2631578947368421,
          0.3157894736842105,
          0.3684210526315789,
          0.4210526315789473,
          0.4736842105263157,
          0.5263157894736843,
          0.5789473684210527,
          0.631578947368421,
          0.6842105263157894,
          0.1052631578947368,
          0.1578947368421052,
          0.2105263157894736,
          0.2631578947368421,
          0.3157894736842105,
          0.3684210526315789,
          0.4210526315789473,
          0.4736842105263157,
          0.5263157894736843,
          0.5789473684210527,
          0.631578947368421,
          0.6842105263157894
         ]
        },
        {
         "hovertemplate": "<b>%{text}</b><br><b>x: </b>%{x}<br><b>run_type: </b>%{y}<extra></extra>",
         "mode": "lines",
         "name": "run_type",
         "text": [
          "index: 17<br>name: 210812_Pac--005<br>path: D:/ExtractedSignals\\210812_Pac 2021-08-12 10-30-07\\210812_Pac--005.D<br>batch: 210812_Pac 2021-08-12 10-30-07<br>batch_position: 5<br>idle_time: 279.0<br>sample: NaCl 0,9%<br>method: SAA_411_Pac.M<br>timestamp: 2021-08-12 10:50:23<br>detector: G1315C<br>pump: G7110B<br>start_time: 2021-08-12 10:50:57<br>end_time: 2021-08-12 10:54:57<br>runtime: 239.7000000000036",
          "index: 18<br>name: 210812_Pac--006<br>path: D:/ExtractedSignals\\210812_Pac 2021-08-12 10-30-07\\210812_Pac--006.D<br>batch: 210812_Pac 2021-08-12 10-30-07<br>batch_position: 6<br>idle_time: 279.0<br>sample: Blank<br>method: SAA_411_Pac.M<br>timestamp: 2021-08-12 10:55:02<br>detector: G1315C<br>pump: G7110B<br>start_time: 2021-08-12 10:55:36<br>end_time: 2021-08-12 10:59:36<br>runtime: 239.7000000000036",
          "index: 19<br>name: 210812_Pac--007<br>path: D:/ExtractedSignals\\210812_Pac 2021-08-12 10-30-07\\210812_Pac--007.D<br>batch: 210812_Pac 2021-08-12 10-30-07<br>batch_position: 7<br>idle_time: 279.0<br>sample: 0.025 mg/ml<br>method: SAA_411_Pac.M<br>timestamp: 2021-08-12 10:59:41<br>detector: G1315C<br>pump: G7110B<br>start_time: 2021-08-12 11:00:15<br>end_time: 2021-08-12 11:04:15<br>runtime: 239.7000000000036",
          "index: 20<br>name: 210812_Pac--008<br>path: D:/ExtractedSignals\\210812_Pac 2021-08-12 10-30-07\\210812_Pac--008.D<br>batch: 210812_Pac 2021-08-12 10-30-07<br>batch_position: 8<br>idle_time: 279.0<br>sample: Blank<br>method: SAA_411_Pac.M<br>timestamp: 2021-08-12 11:04:20<br>detector: G1315C<br>pump: G7110B<br>start_time: 2021-08-12 11:04:54<br>end_time: 2021-08-12 11:08:54<br>runtime: 239.7000000000036",
          "index: 21<br>name: 210812_Pac--009<br>path: D:/ExtractedSignals\\210812_Pac 2021-08-12 10-30-07\\210812_Pac--009.D<br>batch: 210812_Pac 2021-08-12 10-30-07<br>batch_position: 9<br>idle_time: 279.0<br>sample: 210806/036 :10<br>method: SAA_411_Pac.M<br>timestamp: 2021-08-12 11:08:59<br>detector: G1315C<br>pump: G7110B<br>start_time: 2021-08-12 11:09:32<br>end_time: 2021-08-12 11:13:32<br>runtime: 239.7000000000036",
          "index: 22<br>name: 210812_Pac--010<br>path: D:/ExtractedSignals\\210812_Pac 2021-08-12 10-30-07\\210812_Pac--010.D<br>batch: 210812_Pac 2021-08-12 10-30-07<br>batch_position: 10<br>idle_time: 278.0<br>sample: 210806/036 :10<br>method: SAA_411_Pac.M<br>timestamp: 2021-08-12 11:13:37<br>detector: G7110B<br>pump: G7110B<br>start_time: 2021-08-12 11:14:11<br>end_time: 2021-08-12 11:18:11<br>runtime: 239.7000000000036",
          "index: 23<br>name: 210812_Pac--011<br>path: D:/ExtractedSignals\\210812_Pac 2021-08-12 10-30-07\\210812_Pac--011.D<br>batch: 210812_Pac 2021-08-12 10-30-07<br>batch_position: 11<br>idle_time: 279.0<br>sample: 210806/036 :10<br>method: SAA_411_Pac.M<br>timestamp: 2021-08-12 11:18:16<br>detector: G7110B<br>pump: G7110B<br>start_time: 2021-08-12 11:18:50<br>end_time: 2021-08-12 11:22:50<br>runtime: 239.7000000000036",
          "index: 24<br>name: 210812_Pac--012<br>path: D:/ExtractedSignals\\210812_Pac 2021-08-12 10-30-07\\210812_Pac--012.D<br>batch: 210812_Pac 2021-08-12 10-30-07<br>batch_position: 12<br>idle_time: 279.0<br>sample: Blank<br>method: SAA_411_Pac.M<br>timestamp: 2021-08-12 11:22:55<br>detector: G1315C<br>pump: G7110B<br>start_time: 2021-08-12 11:23:29<br>end_time: 2021-08-12 11:27:29<br>runtime: 239.7000000000036",
          "index: 25<br>name: 210812_Pac--013<br>path: D:/ExtractedSignals\\210812_Pac 2021-08-12 10-30-07\\210812_Pac--013.D<br>batch: 210812_Pac 2021-08-12 10-30-07<br>batch_position: 13<br>idle_time: 279.0<br>sample: 0.025 mg/ml<br>method: SAA_411_Pac.M<br>timestamp: 2021-08-12 11:27:34<br>detector: G1315C<br>pump: G7110B<br>start_time: 2021-08-12 11:28:08<br>end_time: 2021-08-12 11:32:08<br>runtime: 239.7000000000036",
          "index: 26<br>name: 210812_Pac--014<br>path: D:/ExtractedSignals\\210812_Pac 2021-08-12 10-30-07\\210812_Pac--014.D<br>batch: 210812_Pac 2021-08-12 10-30-07<br>batch_position: 14<br>idle_time: 279.0<br>sample: Blank<br>method: SAA_411_Pac.M<br>timestamp: 2021-08-12 11:32:13<br>detector: G7110B<br>pump: G7110B<br>start_time: 2021-08-12 11:32:46<br>end_time: 2021-08-12 11:36:47<br>runtime: 239.7000000000036",
          "index: 85<br>name: 210813_Pac--003<br>path: D:/ExtractedSignals\\210813_Pac 2021-08-13 10-37-27\\210813_Pac--003.D<br>batch: 210813_Pac 2021-08-13 10-37-27<br>batch_position: 3<br>idle_time: 278.0<br>sample: Blank<br>method: SAA_411_Pac.M<br>timestamp: 2021-08-13 10:48:34<br>detector: G1315C<br>pump: G7116B<br>start_time: 2021-08-13 10:49:08<br>end_time: 2021-08-13 10:53:08<br>runtime: 239.7000000000036",
          "index: 86<br>name: 210813_Pac--004<br>path: D:/ExtractedSignals\\210813_Pac 2021-08-13 10-37-27\\210813_Pac--004.D<br>batch: 210813_Pac 2021-08-13 10-37-27<br>batch_position: 4<br>idle_time: 279.0<br>sample: Blank<br>method: SAA_411_Pac.M<br>timestamp: 2021-08-13 10:53:13<br>detector: G1315C<br>pump: G7110B<br>start_time: 2021-08-13 10:53:47<br>end_time: 2021-08-13 10:57:47<br>runtime: 239.7000000000036",
          "index: 87<br>name: 210813_Pac--005<br>path: D:/ExtractedSignals\\210813_Pac 2021-08-13 10-37-27\\210813_Pac--005.D<br>batch: 210813_Pac 2021-08-13 10-37-27<br>batch_position: 5<br>idle_time: 279.0<br>sample: NaCl 0,9%<br>method: SAA_411_Pac.M<br>timestamp: 2021-08-13 10:57:52<br>detector: G7110B<br>pump: G7110B<br>start_time: 2021-08-13 10:58:26<br>end_time: 2021-08-13 11:02:27<br>runtime: 239.7000000000036",
          "index: 88<br>name: 210813_Pac--006<br>path: D:/ExtractedSignals\\210813_Pac 2021-08-13 10-37-27\\210813_Pac--006.D<br>batch: 210813_Pac 2021-08-13 10-37-27<br>batch_position: 6<br>idle_time: 279.0<br>sample: Blank<br>method: SAA_411_Pac.M<br>timestamp: 2021-08-13 11:02:31<br>detector: G1315C<br>pump: G7110B<br>start_time: 2021-08-13 11:03:05<br>end_time: 2021-08-13 11:07:06<br>runtime: 239.7000000000036",
          "index: 89<br>name: 210813_Pac--007<br>path: D:/ExtractedSignals\\210813_Pac 2021-08-13 10-37-27\\210813_Pac--007.D<br>batch: 210813_Pac 2021-08-13 10-37-27<br>batch_position: 7<br>idle_time: 279.0<br>sample: 0.025 mg/ml<br>method: SAA_411_Pac.M<br>timestamp: 2021-08-13 11:07:10<br>detector: G1315C<br>pump: G7116B<br>start_time: 2021-08-13 11:07:44<br>end_time: 2021-08-13 11:11:45<br>runtime: 239.7000000000036",
          "index: 90<br>name: 210813_Pac--008<br>path: D:/ExtractedSignals\\210813_Pac 2021-08-13 10-37-27\\210813_Pac--008.D<br>batch: 210813_Pac 2021-08-13 10-37-27<br>batch_position: 8<br>idle_time: 279.0<br>sample: Blank<br>method: SAA_411_Pac.M<br>timestamp: 2021-08-13 11:11:49<br>detector: G1315C<br>pump: G7110B<br>start_time: 2021-08-13 11:12:23<br>end_time: 2021-08-13 11:16:23<br>runtime: 239.7000000000036",
          "index: 91<br>name: 210813_Pac--009<br>path: D:/ExtractedSignals\\210813_Pac 2021-08-13 10-37-27\\210813_Pac--009.D<br>batch: 210813_Pac 2021-08-13 10-37-27<br>batch_position: 9<br>idle_time: 279.0<br>sample: 210812/004 :20<br>method: SAA_411_Pac.M<br>timestamp: 2021-08-13 11:16:28<br>detector: G1315C<br>pump: G7110B<br>start_time: 2021-08-13 11:17:02<br>end_time: 2021-08-13 11:21:03<br>runtime: 239.7000000000036",
          "index: 92<br>name: 210813_Pac--010<br>path: D:/ExtractedSignals\\210813_Pac 2021-08-13 10-37-27\\210813_Pac--010.D<br>batch: 210813_Pac 2021-08-13 10-37-27<br>batch_position: 10<br>idle_time: 280.0<br>sample: 210812/004 :20<br>method: SAA_411_Pac.M<br>timestamp: 2021-08-13 11:21:08<br>detector: G1315C<br>pump: G7110B<br>start_time: 2021-08-13 11:21:41<br>end_time: 2021-08-13 11:25:42<br>runtime: 239.7000000000036",
          "index: 93<br>name: 210813_Pac--011<br>path: D:/ExtractedSignals\\210813_Pac 2021-08-13 10-37-27\\210813_Pac--011.D<br>batch: 210813_Pac 2021-08-13 10-37-27<br>batch_position: 11<br>idle_time: 278.0<br>sample: 210812/004 :20<br>method: SAA_411_Pac.M<br>timestamp: 2021-08-13 11:25:46<br>detector: G1315C<br>pump: G7110B<br>start_time: 2021-08-13 11:26:21<br>end_time: 2021-08-13 11:30:21<br>runtime: 239.7000000000036",
          "index: 94<br>name: 210813_Pac--012<br>path: D:/ExtractedSignals\\210813_Pac 2021-08-13 10-37-27\\210813_Pac--012.D<br>batch: 210813_Pac 2021-08-13 10-37-27<br>batch_position: 12<br>idle_time: 280.0<br>sample: Blank<br>method: SAA_411_Pac.M<br>timestamp: 2021-08-13 11:30:26<br>detector: G1315C<br>pump: G7110B<br>start_time: 2021-08-13 11:30:59<br>end_time: 2021-08-13 11:34:59<br>runtime: 239.7000000000036",
          "index: 95<br>name: 210813_Pac--013<br>path: D:/ExtractedSignals\\210813_Pac 2021-08-13 10-37-27\\210813_Pac--013.D<br>batch: 210813_Pac 2021-08-13 10-37-27<br>batch_position: 13<br>idle_time: 278.0<br>sample: 0.025 mg/ml<br>method: SAA_411_Pac.M<br>timestamp: 2021-08-13 11:35:04<br>detector: G1315C<br>pump: G7110B<br>start_time: 2021-08-13 11:35:38<br>end_time: 2021-08-13 11:39:38<br>runtime: 239.7000000000036",
          "index: 96<br>name: 210813_Pac--014<br>path: D:/ExtractedSignals\\210813_Pac 2021-08-13 10-37-27\\210813_Pac--014.D<br>batch: 210813_Pac 2021-08-13 10-37-27<br>batch_position: 14<br>idle_time: 279.0<br>sample: Blank<br>method: SAA_411_Pac.M<br>timestamp: 2021-08-13 11:39:43<br>detector: G1315C<br>pump: G7110B<br>start_time: 2021-08-13 11:40:16<br>end_time: 2021-08-13 11:44:17<br>runtime: 239.7000000000036"
         ],
         "type": "scatter",
         "x": [
          0,
          1,
          2,
          3,
          4,
          5,
          6,
          7,
          8,
          9,
          10,
          11,
          12,
          13,
          14,
          15,
          16,
          17,
          18,
          19,
          20,
          21
         ],
         "y": [
          1,
          0,
          1,
          0,
          1,
          1,
          1,
          0,
          1,
          0,
          0,
          0,
          1,
          0,
          1,
          0,
          1,
          1,
          1,
          0,
          1,
          0
         ]
        },
        {
         "hovertemplate": "<b>%{text}</b><br><b>x: </b>%{x}<br><b>idle_time: </b>%{y}<extra></extra>",
         "mode": "lines",
         "name": "idle_time",
         "text": [
          "index: 17<br>name: 210812_Pac--005<br>path: D:/ExtractedSignals\\210812_Pac 2021-08-12 10-30-07\\210812_Pac--005.D<br>batch: 210812_Pac 2021-08-12 10-30-07<br>batch_position: 5<br>idle_time: 279.0<br>sample: NaCl 0,9%<br>method: SAA_411_Pac.M<br>timestamp: 2021-08-12 10:50:23<br>detector: G1315C<br>pump: G7110B<br>start_time: 2021-08-12 10:50:57<br>end_time: 2021-08-12 10:54:57<br>runtime: 239.7000000000036",
          "index: 18<br>name: 210812_Pac--006<br>path: D:/ExtractedSignals\\210812_Pac 2021-08-12 10-30-07\\210812_Pac--006.D<br>batch: 210812_Pac 2021-08-12 10-30-07<br>batch_position: 6<br>idle_time: 279.0<br>sample: Blank<br>method: SAA_411_Pac.M<br>timestamp: 2021-08-12 10:55:02<br>detector: G1315C<br>pump: G7110B<br>start_time: 2021-08-12 10:55:36<br>end_time: 2021-08-12 10:59:36<br>runtime: 239.7000000000036",
          "index: 19<br>name: 210812_Pac--007<br>path: D:/ExtractedSignals\\210812_Pac 2021-08-12 10-30-07\\210812_Pac--007.D<br>batch: 210812_Pac 2021-08-12 10-30-07<br>batch_position: 7<br>idle_time: 279.0<br>sample: 0.025 mg/ml<br>method: SAA_411_Pac.M<br>timestamp: 2021-08-12 10:59:41<br>detector: G1315C<br>pump: G7110B<br>start_time: 2021-08-12 11:00:15<br>end_time: 2021-08-12 11:04:15<br>runtime: 239.7000000000036",
          "index: 20<br>name: 210812_Pac--008<br>path: D:/ExtractedSignals\\210812_Pac 2021-08-12 10-30-07\\210812_Pac--008.D<br>batch: 210812_Pac 2021-08-12 10-30-07<br>batch_position: 8<br>idle_time: 279.0<br>sample: Blank<br>method: SAA_411_Pac.M<br>timestamp: 2021-08-12 11:04:20<br>detector: G1315C<br>pump: G7110B<br>start_time: 2021-08-12 11:04:54<br>end_time: 2021-08-12 11:08:54<br>runtime: 239.7000000000036",
          "index: 21<br>name: 210812_Pac--009<br>path: D:/ExtractedSignals\\210812_Pac 2021-08-12 10-30-07\\210812_Pac--009.D<br>batch: 210812_Pac 2021-08-12 10-30-07<br>batch_position: 9<br>idle_time: 279.0<br>sample: 210806/036 :10<br>method: SAA_411_Pac.M<br>timestamp: 2021-08-12 11:08:59<br>detector: G1315C<br>pump: G7110B<br>start_time: 2021-08-12 11:09:32<br>end_time: 2021-08-12 11:13:32<br>runtime: 239.7000000000036",
          "index: 22<br>name: 210812_Pac--010<br>path: D:/ExtractedSignals\\210812_Pac 2021-08-12 10-30-07\\210812_Pac--010.D<br>batch: 210812_Pac 2021-08-12 10-30-07<br>batch_position: 10<br>idle_time: 278.0<br>sample: 210806/036 :10<br>method: SAA_411_Pac.M<br>timestamp: 2021-08-12 11:13:37<br>detector: G7110B<br>pump: G7110B<br>start_time: 2021-08-12 11:14:11<br>end_time: 2021-08-12 11:18:11<br>runtime: 239.7000000000036",
          "index: 23<br>name: 210812_Pac--011<br>path: D:/ExtractedSignals\\210812_Pac 2021-08-12 10-30-07\\210812_Pac--011.D<br>batch: 210812_Pac 2021-08-12 10-30-07<br>batch_position: 11<br>idle_time: 279.0<br>sample: 210806/036 :10<br>method: SAA_411_Pac.M<br>timestamp: 2021-08-12 11:18:16<br>detector: G7110B<br>pump: G7110B<br>start_time: 2021-08-12 11:18:50<br>end_time: 2021-08-12 11:22:50<br>runtime: 239.7000000000036",
          "index: 24<br>name: 210812_Pac--012<br>path: D:/ExtractedSignals\\210812_Pac 2021-08-12 10-30-07\\210812_Pac--012.D<br>batch: 210812_Pac 2021-08-12 10-30-07<br>batch_position: 12<br>idle_time: 279.0<br>sample: Blank<br>method: SAA_411_Pac.M<br>timestamp: 2021-08-12 11:22:55<br>detector: G1315C<br>pump: G7110B<br>start_time: 2021-08-12 11:23:29<br>end_time: 2021-08-12 11:27:29<br>runtime: 239.7000000000036",
          "index: 25<br>name: 210812_Pac--013<br>path: D:/ExtractedSignals\\210812_Pac 2021-08-12 10-30-07\\210812_Pac--013.D<br>batch: 210812_Pac 2021-08-12 10-30-07<br>batch_position: 13<br>idle_time: 279.0<br>sample: 0.025 mg/ml<br>method: SAA_411_Pac.M<br>timestamp: 2021-08-12 11:27:34<br>detector: G1315C<br>pump: G7110B<br>start_time: 2021-08-12 11:28:08<br>end_time: 2021-08-12 11:32:08<br>runtime: 239.7000000000036",
          "index: 26<br>name: 210812_Pac--014<br>path: D:/ExtractedSignals\\210812_Pac 2021-08-12 10-30-07\\210812_Pac--014.D<br>batch: 210812_Pac 2021-08-12 10-30-07<br>batch_position: 14<br>idle_time: 279.0<br>sample: Blank<br>method: SAA_411_Pac.M<br>timestamp: 2021-08-12 11:32:13<br>detector: G7110B<br>pump: G7110B<br>start_time: 2021-08-12 11:32:46<br>end_time: 2021-08-12 11:36:47<br>runtime: 239.7000000000036",
          "index: 85<br>name: 210813_Pac--003<br>path: D:/ExtractedSignals\\210813_Pac 2021-08-13 10-37-27\\210813_Pac--003.D<br>batch: 210813_Pac 2021-08-13 10-37-27<br>batch_position: 3<br>idle_time: 278.0<br>sample: Blank<br>method: SAA_411_Pac.M<br>timestamp: 2021-08-13 10:48:34<br>detector: G1315C<br>pump: G7116B<br>start_time: 2021-08-13 10:49:08<br>end_time: 2021-08-13 10:53:08<br>runtime: 239.7000000000036",
          "index: 86<br>name: 210813_Pac--004<br>path: D:/ExtractedSignals\\210813_Pac 2021-08-13 10-37-27\\210813_Pac--004.D<br>batch: 210813_Pac 2021-08-13 10-37-27<br>batch_position: 4<br>idle_time: 279.0<br>sample: Blank<br>method: SAA_411_Pac.M<br>timestamp: 2021-08-13 10:53:13<br>detector: G1315C<br>pump: G7110B<br>start_time: 2021-08-13 10:53:47<br>end_time: 2021-08-13 10:57:47<br>runtime: 239.7000000000036",
          "index: 87<br>name: 210813_Pac--005<br>path: D:/ExtractedSignals\\210813_Pac 2021-08-13 10-37-27\\210813_Pac--005.D<br>batch: 210813_Pac 2021-08-13 10-37-27<br>batch_position: 5<br>idle_time: 279.0<br>sample: NaCl 0,9%<br>method: SAA_411_Pac.M<br>timestamp: 2021-08-13 10:57:52<br>detector: G7110B<br>pump: G7110B<br>start_time: 2021-08-13 10:58:26<br>end_time: 2021-08-13 11:02:27<br>runtime: 239.7000000000036",
          "index: 88<br>name: 210813_Pac--006<br>path: D:/ExtractedSignals\\210813_Pac 2021-08-13 10-37-27\\210813_Pac--006.D<br>batch: 210813_Pac 2021-08-13 10-37-27<br>batch_position: 6<br>idle_time: 279.0<br>sample: Blank<br>method: SAA_411_Pac.M<br>timestamp: 2021-08-13 11:02:31<br>detector: G1315C<br>pump: G7110B<br>start_time: 2021-08-13 11:03:05<br>end_time: 2021-08-13 11:07:06<br>runtime: 239.7000000000036",
          "index: 89<br>name: 210813_Pac--007<br>path: D:/ExtractedSignals\\210813_Pac 2021-08-13 10-37-27\\210813_Pac--007.D<br>batch: 210813_Pac 2021-08-13 10-37-27<br>batch_position: 7<br>idle_time: 279.0<br>sample: 0.025 mg/ml<br>method: SAA_411_Pac.M<br>timestamp: 2021-08-13 11:07:10<br>detector: G1315C<br>pump: G7116B<br>start_time: 2021-08-13 11:07:44<br>end_time: 2021-08-13 11:11:45<br>runtime: 239.7000000000036",
          "index: 90<br>name: 210813_Pac--008<br>path: D:/ExtractedSignals\\210813_Pac 2021-08-13 10-37-27\\210813_Pac--008.D<br>batch: 210813_Pac 2021-08-13 10-37-27<br>batch_position: 8<br>idle_time: 279.0<br>sample: Blank<br>method: SAA_411_Pac.M<br>timestamp: 2021-08-13 11:11:49<br>detector: G1315C<br>pump: G7110B<br>start_time: 2021-08-13 11:12:23<br>end_time: 2021-08-13 11:16:23<br>runtime: 239.7000000000036",
          "index: 91<br>name: 210813_Pac--009<br>path: D:/ExtractedSignals\\210813_Pac 2021-08-13 10-37-27\\210813_Pac--009.D<br>batch: 210813_Pac 2021-08-13 10-37-27<br>batch_position: 9<br>idle_time: 279.0<br>sample: 210812/004 :20<br>method: SAA_411_Pac.M<br>timestamp: 2021-08-13 11:16:28<br>detector: G1315C<br>pump: G7110B<br>start_time: 2021-08-13 11:17:02<br>end_time: 2021-08-13 11:21:03<br>runtime: 239.7000000000036",
          "index: 92<br>name: 210813_Pac--010<br>path: D:/ExtractedSignals\\210813_Pac 2021-08-13 10-37-27\\210813_Pac--010.D<br>batch: 210813_Pac 2021-08-13 10-37-27<br>batch_position: 10<br>idle_time: 280.0<br>sample: 210812/004 :20<br>method: SAA_411_Pac.M<br>timestamp: 2021-08-13 11:21:08<br>detector: G1315C<br>pump: G7110B<br>start_time: 2021-08-13 11:21:41<br>end_time: 2021-08-13 11:25:42<br>runtime: 239.7000000000036",
          "index: 93<br>name: 210813_Pac--011<br>path: D:/ExtractedSignals\\210813_Pac 2021-08-13 10-37-27\\210813_Pac--011.D<br>batch: 210813_Pac 2021-08-13 10-37-27<br>batch_position: 11<br>idle_time: 278.0<br>sample: 210812/004 :20<br>method: SAA_411_Pac.M<br>timestamp: 2021-08-13 11:25:46<br>detector: G1315C<br>pump: G7110B<br>start_time: 2021-08-13 11:26:21<br>end_time: 2021-08-13 11:30:21<br>runtime: 239.7000000000036",
          "index: 94<br>name: 210813_Pac--012<br>path: D:/ExtractedSignals\\210813_Pac 2021-08-13 10-37-27\\210813_Pac--012.D<br>batch: 210813_Pac 2021-08-13 10-37-27<br>batch_position: 12<br>idle_time: 280.0<br>sample: Blank<br>method: SAA_411_Pac.M<br>timestamp: 2021-08-13 11:30:26<br>detector: G1315C<br>pump: G7110B<br>start_time: 2021-08-13 11:30:59<br>end_time: 2021-08-13 11:34:59<br>runtime: 239.7000000000036",
          "index: 95<br>name: 210813_Pac--013<br>path: D:/ExtractedSignals\\210813_Pac 2021-08-13 10-37-27\\210813_Pac--013.D<br>batch: 210813_Pac 2021-08-13 10-37-27<br>batch_position: 13<br>idle_time: 278.0<br>sample: 0.025 mg/ml<br>method: SAA_411_Pac.M<br>timestamp: 2021-08-13 11:35:04<br>detector: G1315C<br>pump: G7110B<br>start_time: 2021-08-13 11:35:38<br>end_time: 2021-08-13 11:39:38<br>runtime: 239.7000000000036",
          "index: 96<br>name: 210813_Pac--014<br>path: D:/ExtractedSignals\\210813_Pac 2021-08-13 10-37-27\\210813_Pac--014.D<br>batch: 210813_Pac 2021-08-13 10-37-27<br>batch_position: 14<br>idle_time: 279.0<br>sample: Blank<br>method: SAA_411_Pac.M<br>timestamp: 2021-08-13 11:39:43<br>detector: G1315C<br>pump: G7110B<br>start_time: 2021-08-13 11:40:16<br>end_time: 2021-08-13 11:44:17<br>runtime: 239.7000000000036"
         ],
         "type": "scatter",
         "x": [
          0,
          1,
          2,
          3,
          4,
          5,
          6,
          7,
          8,
          9,
          10,
          11,
          12,
          13,
          14,
          15,
          16,
          17,
          18,
          19,
          20,
          21
         ],
         "y": [
          0.0193770373053241,
          0.0193770373053241,
          0.0193770373053241,
          0.0193770373053241,
          0.0193770373053241,
          0.0191959434987323,
          0.0193770373053241,
          0.0193770373053241,
          0.0193770373053241,
          0.0193770373053241,
          0.0191959434987323,
          0.0193770373053241,
          0.0193770373053241,
          0.0193770373053241,
          0.0193770373053241,
          0.0193770373053241,
          0.0193770373053241,
          0.0195581311119159,
          0.0191959434987323,
          0.0195581311119159,
          0.0191959434987323,
          0.0193770373053241
         ]
        },
        {
         "hovertemplate": "<b>%{text}</b><br><b>x: </b>%{x}<br><b>pressure_max: </b>%{y}<extra></extra>",
         "mode": "lines",
         "name": "pressure_max",
         "text": [
          "index: 17<br>name: 210812_Pac--005<br>path: D:/ExtractedSignals\\210812_Pac 2021-08-12 10-30-07\\210812_Pac--005.D<br>batch: 210812_Pac 2021-08-12 10-30-07<br>batch_position: 5<br>idle_time: 279.0<br>sample: NaCl 0,9%<br>method: SAA_411_Pac.M<br>timestamp: 2021-08-12 10:50:23<br>detector: G1315C<br>pump: G7110B<br>start_time: 2021-08-12 10:50:57<br>end_time: 2021-08-12 10:54:57<br>runtime: 239.7000000000036",
          "index: 18<br>name: 210812_Pac--006<br>path: D:/ExtractedSignals\\210812_Pac 2021-08-12 10-30-07\\210812_Pac--006.D<br>batch: 210812_Pac 2021-08-12 10-30-07<br>batch_position: 6<br>idle_time: 279.0<br>sample: Blank<br>method: SAA_411_Pac.M<br>timestamp: 2021-08-12 10:55:02<br>detector: G1315C<br>pump: G7110B<br>start_time: 2021-08-12 10:55:36<br>end_time: 2021-08-12 10:59:36<br>runtime: 239.7000000000036",
          "index: 19<br>name: 210812_Pac--007<br>path: D:/ExtractedSignals\\210812_Pac 2021-08-12 10-30-07\\210812_Pac--007.D<br>batch: 210812_Pac 2021-08-12 10-30-07<br>batch_position: 7<br>idle_time: 279.0<br>sample: 0.025 mg/ml<br>method: SAA_411_Pac.M<br>timestamp: 2021-08-12 10:59:41<br>detector: G1315C<br>pump: G7110B<br>start_time: 2021-08-12 11:00:15<br>end_time: 2021-08-12 11:04:15<br>runtime: 239.7000000000036",
          "index: 20<br>name: 210812_Pac--008<br>path: D:/ExtractedSignals\\210812_Pac 2021-08-12 10-30-07\\210812_Pac--008.D<br>batch: 210812_Pac 2021-08-12 10-30-07<br>batch_position: 8<br>idle_time: 279.0<br>sample: Blank<br>method: SAA_411_Pac.M<br>timestamp: 2021-08-12 11:04:20<br>detector: G1315C<br>pump: G7110B<br>start_time: 2021-08-12 11:04:54<br>end_time: 2021-08-12 11:08:54<br>runtime: 239.7000000000036",
          "index: 21<br>name: 210812_Pac--009<br>path: D:/ExtractedSignals\\210812_Pac 2021-08-12 10-30-07\\210812_Pac--009.D<br>batch: 210812_Pac 2021-08-12 10-30-07<br>batch_position: 9<br>idle_time: 279.0<br>sample: 210806/036 :10<br>method: SAA_411_Pac.M<br>timestamp: 2021-08-12 11:08:59<br>detector: G1315C<br>pump: G7110B<br>start_time: 2021-08-12 11:09:32<br>end_time: 2021-08-12 11:13:32<br>runtime: 239.7000000000036",
          "index: 22<br>name: 210812_Pac--010<br>path: D:/ExtractedSignals\\210812_Pac 2021-08-12 10-30-07\\210812_Pac--010.D<br>batch: 210812_Pac 2021-08-12 10-30-07<br>batch_position: 10<br>idle_time: 278.0<br>sample: 210806/036 :10<br>method: SAA_411_Pac.M<br>timestamp: 2021-08-12 11:13:37<br>detector: G7110B<br>pump: G7110B<br>start_time: 2021-08-12 11:14:11<br>end_time: 2021-08-12 11:18:11<br>runtime: 239.7000000000036",
          "index: 23<br>name: 210812_Pac--011<br>path: D:/ExtractedSignals\\210812_Pac 2021-08-12 10-30-07\\210812_Pac--011.D<br>batch: 210812_Pac 2021-08-12 10-30-07<br>batch_position: 11<br>idle_time: 279.0<br>sample: 210806/036 :10<br>method: SAA_411_Pac.M<br>timestamp: 2021-08-12 11:18:16<br>detector: G7110B<br>pump: G7110B<br>start_time: 2021-08-12 11:18:50<br>end_time: 2021-08-12 11:22:50<br>runtime: 239.7000000000036",
          "index: 24<br>name: 210812_Pac--012<br>path: D:/ExtractedSignals\\210812_Pac 2021-08-12 10-30-07\\210812_Pac--012.D<br>batch: 210812_Pac 2021-08-12 10-30-07<br>batch_position: 12<br>idle_time: 279.0<br>sample: Blank<br>method: SAA_411_Pac.M<br>timestamp: 2021-08-12 11:22:55<br>detector: G1315C<br>pump: G7110B<br>start_time: 2021-08-12 11:23:29<br>end_time: 2021-08-12 11:27:29<br>runtime: 239.7000000000036",
          "index: 25<br>name: 210812_Pac--013<br>path: D:/ExtractedSignals\\210812_Pac 2021-08-12 10-30-07\\210812_Pac--013.D<br>batch: 210812_Pac 2021-08-12 10-30-07<br>batch_position: 13<br>idle_time: 279.0<br>sample: 0.025 mg/ml<br>method: SAA_411_Pac.M<br>timestamp: 2021-08-12 11:27:34<br>detector: G1315C<br>pump: G7110B<br>start_time: 2021-08-12 11:28:08<br>end_time: 2021-08-12 11:32:08<br>runtime: 239.7000000000036",
          "index: 26<br>name: 210812_Pac--014<br>path: D:/ExtractedSignals\\210812_Pac 2021-08-12 10-30-07\\210812_Pac--014.D<br>batch: 210812_Pac 2021-08-12 10-30-07<br>batch_position: 14<br>idle_time: 279.0<br>sample: Blank<br>method: SAA_411_Pac.M<br>timestamp: 2021-08-12 11:32:13<br>detector: G7110B<br>pump: G7110B<br>start_time: 2021-08-12 11:32:46<br>end_time: 2021-08-12 11:36:47<br>runtime: 239.7000000000036",
          "index: 85<br>name: 210813_Pac--003<br>path: D:/ExtractedSignals\\210813_Pac 2021-08-13 10-37-27\\210813_Pac--003.D<br>batch: 210813_Pac 2021-08-13 10-37-27<br>batch_position: 3<br>idle_time: 278.0<br>sample: Blank<br>method: SAA_411_Pac.M<br>timestamp: 2021-08-13 10:48:34<br>detector: G1315C<br>pump: G7116B<br>start_time: 2021-08-13 10:49:08<br>end_time: 2021-08-13 10:53:08<br>runtime: 239.7000000000036",
          "index: 86<br>name: 210813_Pac--004<br>path: D:/ExtractedSignals\\210813_Pac 2021-08-13 10-37-27\\210813_Pac--004.D<br>batch: 210813_Pac 2021-08-13 10-37-27<br>batch_position: 4<br>idle_time: 279.0<br>sample: Blank<br>method: SAA_411_Pac.M<br>timestamp: 2021-08-13 10:53:13<br>detector: G1315C<br>pump: G7110B<br>start_time: 2021-08-13 10:53:47<br>end_time: 2021-08-13 10:57:47<br>runtime: 239.7000000000036",
          "index: 87<br>name: 210813_Pac--005<br>path: D:/ExtractedSignals\\210813_Pac 2021-08-13 10-37-27\\210813_Pac--005.D<br>batch: 210813_Pac 2021-08-13 10-37-27<br>batch_position: 5<br>idle_time: 279.0<br>sample: NaCl 0,9%<br>method: SAA_411_Pac.M<br>timestamp: 2021-08-13 10:57:52<br>detector: G7110B<br>pump: G7110B<br>start_time: 2021-08-13 10:58:26<br>end_time: 2021-08-13 11:02:27<br>runtime: 239.7000000000036",
          "index: 88<br>name: 210813_Pac--006<br>path: D:/ExtractedSignals\\210813_Pac 2021-08-13 10-37-27\\210813_Pac--006.D<br>batch: 210813_Pac 2021-08-13 10-37-27<br>batch_position: 6<br>idle_time: 279.0<br>sample: Blank<br>method: SAA_411_Pac.M<br>timestamp: 2021-08-13 11:02:31<br>detector: G1315C<br>pump: G7110B<br>start_time: 2021-08-13 11:03:05<br>end_time: 2021-08-13 11:07:06<br>runtime: 239.7000000000036",
          "index: 89<br>name: 210813_Pac--007<br>path: D:/ExtractedSignals\\210813_Pac 2021-08-13 10-37-27\\210813_Pac--007.D<br>batch: 210813_Pac 2021-08-13 10-37-27<br>batch_position: 7<br>idle_time: 279.0<br>sample: 0.025 mg/ml<br>method: SAA_411_Pac.M<br>timestamp: 2021-08-13 11:07:10<br>detector: G1315C<br>pump: G7116B<br>start_time: 2021-08-13 11:07:44<br>end_time: 2021-08-13 11:11:45<br>runtime: 239.7000000000036",
          "index: 90<br>name: 210813_Pac--008<br>path: D:/ExtractedSignals\\210813_Pac 2021-08-13 10-37-27\\210813_Pac--008.D<br>batch: 210813_Pac 2021-08-13 10-37-27<br>batch_position: 8<br>idle_time: 279.0<br>sample: Blank<br>method: SAA_411_Pac.M<br>timestamp: 2021-08-13 11:11:49<br>detector: G1315C<br>pump: G7110B<br>start_time: 2021-08-13 11:12:23<br>end_time: 2021-08-13 11:16:23<br>runtime: 239.7000000000036",
          "index: 91<br>name: 210813_Pac--009<br>path: D:/ExtractedSignals\\210813_Pac 2021-08-13 10-37-27\\210813_Pac--009.D<br>batch: 210813_Pac 2021-08-13 10-37-27<br>batch_position: 9<br>idle_time: 279.0<br>sample: 210812/004 :20<br>method: SAA_411_Pac.M<br>timestamp: 2021-08-13 11:16:28<br>detector: G1315C<br>pump: G7110B<br>start_time: 2021-08-13 11:17:02<br>end_time: 2021-08-13 11:21:03<br>runtime: 239.7000000000036",
          "index: 92<br>name: 210813_Pac--010<br>path: D:/ExtractedSignals\\210813_Pac 2021-08-13 10-37-27\\210813_Pac--010.D<br>batch: 210813_Pac 2021-08-13 10-37-27<br>batch_position: 10<br>idle_time: 280.0<br>sample: 210812/004 :20<br>method: SAA_411_Pac.M<br>timestamp: 2021-08-13 11:21:08<br>detector: G1315C<br>pump: G7110B<br>start_time: 2021-08-13 11:21:41<br>end_time: 2021-08-13 11:25:42<br>runtime: 239.7000000000036",
          "index: 93<br>name: 210813_Pac--011<br>path: D:/ExtractedSignals\\210813_Pac 2021-08-13 10-37-27\\210813_Pac--011.D<br>batch: 210813_Pac 2021-08-13 10-37-27<br>batch_position: 11<br>idle_time: 278.0<br>sample: 210812/004 :20<br>method: SAA_411_Pac.M<br>timestamp: 2021-08-13 11:25:46<br>detector: G1315C<br>pump: G7110B<br>start_time: 2021-08-13 11:26:21<br>end_time: 2021-08-13 11:30:21<br>runtime: 239.7000000000036",
          "index: 94<br>name: 210813_Pac--012<br>path: D:/ExtractedSignals\\210813_Pac 2021-08-13 10-37-27\\210813_Pac--012.D<br>batch: 210813_Pac 2021-08-13 10-37-27<br>batch_position: 12<br>idle_time: 280.0<br>sample: Blank<br>method: SAA_411_Pac.M<br>timestamp: 2021-08-13 11:30:26<br>detector: G1315C<br>pump: G7110B<br>start_time: 2021-08-13 11:30:59<br>end_time: 2021-08-13 11:34:59<br>runtime: 239.7000000000036",
          "index: 95<br>name: 210813_Pac--013<br>path: D:/ExtractedSignals\\210813_Pac 2021-08-13 10-37-27\\210813_Pac--013.D<br>batch: 210813_Pac 2021-08-13 10-37-27<br>batch_position: 13<br>idle_time: 278.0<br>sample: 0.025 mg/ml<br>method: SAA_411_Pac.M<br>timestamp: 2021-08-13 11:35:04<br>detector: G1315C<br>pump: G7110B<br>start_time: 2021-08-13 11:35:38<br>end_time: 2021-08-13 11:39:38<br>runtime: 239.7000000000036",
          "index: 96<br>name: 210813_Pac--014<br>path: D:/ExtractedSignals\\210813_Pac 2021-08-13 10-37-27\\210813_Pac--014.D<br>batch: 210813_Pac 2021-08-13 10-37-27<br>batch_position: 14<br>idle_time: 279.0<br>sample: Blank<br>method: SAA_411_Pac.M<br>timestamp: 2021-08-13 11:39:43<br>detector: G1315C<br>pump: G7110B<br>start_time: 2021-08-13 11:40:16<br>end_time: 2021-08-13 11:44:17<br>runtime: 239.7000000000036"
         ],
         "type": "scatter",
         "x": [
          0,
          1,
          2,
          3,
          4,
          5,
          6,
          7,
          8,
          9,
          10,
          11,
          12,
          13,
          14,
          15,
          16,
          17,
          18,
          19,
          20,
          21
         ],
         "y": [
          0.5346769413159449,
          0.5240071132187318,
          0.5376407824540608,
          0.508595139300533,
          0.5269709543568459,
          0.508595139300533,
          0.508595139300533,
          0.508595139300533,
          0.505631298162418,
          0.4979253112033199,
          0.5346769413159449,
          0.5269709543568459,
          0.5163011262596329,
          0.4979253112033199,
          0.5163011262596329,
          0.499110847658565,
          0.50207468879668,
          0.4943687018375819,
          0.50207468879668,
          0.4860699466508591,
          0.4979253112033199,
          0.4759928867812681
         ]
        },
        {
         "hovertemplate": "<b>%{text}</b><br><b>x: </b>%{x}<br><b>pressure_min: </b>%{y}<extra></extra>",
         "mode": "lines",
         "name": "pressure_min",
         "text": [
          "index: 17<br>name: 210812_Pac--005<br>path: D:/ExtractedSignals\\210812_Pac 2021-08-12 10-30-07\\210812_Pac--005.D<br>batch: 210812_Pac 2021-08-12 10-30-07<br>batch_position: 5<br>idle_time: 279.0<br>sample: NaCl 0,9%<br>method: SAA_411_Pac.M<br>timestamp: 2021-08-12 10:50:23<br>detector: G1315C<br>pump: G7110B<br>start_time: 2021-08-12 10:50:57<br>end_time: 2021-08-12 10:54:57<br>runtime: 239.7000000000036",
          "index: 18<br>name: 210812_Pac--006<br>path: D:/ExtractedSignals\\210812_Pac 2021-08-12 10-30-07\\210812_Pac--006.D<br>batch: 210812_Pac 2021-08-12 10-30-07<br>batch_position: 6<br>idle_time: 279.0<br>sample: Blank<br>method: SAA_411_Pac.M<br>timestamp: 2021-08-12 10:55:02<br>detector: G1315C<br>pump: G7110B<br>start_time: 2021-08-12 10:55:36<br>end_time: 2021-08-12 10:59:36<br>runtime: 239.7000000000036",
          "index: 19<br>name: 210812_Pac--007<br>path: D:/ExtractedSignals\\210812_Pac 2021-08-12 10-30-07\\210812_Pac--007.D<br>batch: 210812_Pac 2021-08-12 10-30-07<br>batch_position: 7<br>idle_time: 279.0<br>sample: 0.025 mg/ml<br>method: SAA_411_Pac.M<br>timestamp: 2021-08-12 10:59:41<br>detector: G1315C<br>pump: G7110B<br>start_time: 2021-08-12 11:00:15<br>end_time: 2021-08-12 11:04:15<br>runtime: 239.7000000000036",
          "index: 20<br>name: 210812_Pac--008<br>path: D:/ExtractedSignals\\210812_Pac 2021-08-12 10-30-07\\210812_Pac--008.D<br>batch: 210812_Pac 2021-08-12 10-30-07<br>batch_position: 8<br>idle_time: 279.0<br>sample: Blank<br>method: SAA_411_Pac.M<br>timestamp: 2021-08-12 11:04:20<br>detector: G1315C<br>pump: G7110B<br>start_time: 2021-08-12 11:04:54<br>end_time: 2021-08-12 11:08:54<br>runtime: 239.7000000000036",
          "index: 21<br>name: 210812_Pac--009<br>path: D:/ExtractedSignals\\210812_Pac 2021-08-12 10-30-07\\210812_Pac--009.D<br>batch: 210812_Pac 2021-08-12 10-30-07<br>batch_position: 9<br>idle_time: 279.0<br>sample: 210806/036 :10<br>method: SAA_411_Pac.M<br>timestamp: 2021-08-12 11:08:59<br>detector: G1315C<br>pump: G7110B<br>start_time: 2021-08-12 11:09:32<br>end_time: 2021-08-12 11:13:32<br>runtime: 239.7000000000036",
          "index: 22<br>name: 210812_Pac--010<br>path: D:/ExtractedSignals\\210812_Pac 2021-08-12 10-30-07\\210812_Pac--010.D<br>batch: 210812_Pac 2021-08-12 10-30-07<br>batch_position: 10<br>idle_time: 278.0<br>sample: 210806/036 :10<br>method: SAA_411_Pac.M<br>timestamp: 2021-08-12 11:13:37<br>detector: G7110B<br>pump: G7110B<br>start_time: 2021-08-12 11:14:11<br>end_time: 2021-08-12 11:18:11<br>runtime: 239.7000000000036",
          "index: 23<br>name: 210812_Pac--011<br>path: D:/ExtractedSignals\\210812_Pac 2021-08-12 10-30-07\\210812_Pac--011.D<br>batch: 210812_Pac 2021-08-12 10-30-07<br>batch_position: 11<br>idle_time: 279.0<br>sample: 210806/036 :10<br>method: SAA_411_Pac.M<br>timestamp: 2021-08-12 11:18:16<br>detector: G7110B<br>pump: G7110B<br>start_time: 2021-08-12 11:18:50<br>end_time: 2021-08-12 11:22:50<br>runtime: 239.7000000000036",
          "index: 24<br>name: 210812_Pac--012<br>path: D:/ExtractedSignals\\210812_Pac 2021-08-12 10-30-07\\210812_Pac--012.D<br>batch: 210812_Pac 2021-08-12 10-30-07<br>batch_position: 12<br>idle_time: 279.0<br>sample: Blank<br>method: SAA_411_Pac.M<br>timestamp: 2021-08-12 11:22:55<br>detector: G1315C<br>pump: G7110B<br>start_time: 2021-08-12 11:23:29<br>end_time: 2021-08-12 11:27:29<br>runtime: 239.7000000000036",
          "index: 25<br>name: 210812_Pac--013<br>path: D:/ExtractedSignals\\210812_Pac 2021-08-12 10-30-07\\210812_Pac--013.D<br>batch: 210812_Pac 2021-08-12 10-30-07<br>batch_position: 13<br>idle_time: 279.0<br>sample: 0.025 mg/ml<br>method: SAA_411_Pac.M<br>timestamp: 2021-08-12 11:27:34<br>detector: G1315C<br>pump: G7110B<br>start_time: 2021-08-12 11:28:08<br>end_time: 2021-08-12 11:32:08<br>runtime: 239.7000000000036",
          "index: 26<br>name: 210812_Pac--014<br>path: D:/ExtractedSignals\\210812_Pac 2021-08-12 10-30-07\\210812_Pac--014.D<br>batch: 210812_Pac 2021-08-12 10-30-07<br>batch_position: 14<br>idle_time: 279.0<br>sample: Blank<br>method: SAA_411_Pac.M<br>timestamp: 2021-08-12 11:32:13<br>detector: G7110B<br>pump: G7110B<br>start_time: 2021-08-12 11:32:46<br>end_time: 2021-08-12 11:36:47<br>runtime: 239.7000000000036",
          "index: 85<br>name: 210813_Pac--003<br>path: D:/ExtractedSignals\\210813_Pac 2021-08-13 10-37-27\\210813_Pac--003.D<br>batch: 210813_Pac 2021-08-13 10-37-27<br>batch_position: 3<br>idle_time: 278.0<br>sample: Blank<br>method: SAA_411_Pac.M<br>timestamp: 2021-08-13 10:48:34<br>detector: G1315C<br>pump: G7116B<br>start_time: 2021-08-13 10:49:08<br>end_time: 2021-08-13 10:53:08<br>runtime: 239.7000000000036",
          "index: 86<br>name: 210813_Pac--004<br>path: D:/ExtractedSignals\\210813_Pac 2021-08-13 10-37-27\\210813_Pac--004.D<br>batch: 210813_Pac 2021-08-13 10-37-27<br>batch_position: 4<br>idle_time: 279.0<br>sample: Blank<br>method: SAA_411_Pac.M<br>timestamp: 2021-08-13 10:53:13<br>detector: G1315C<br>pump: G7110B<br>start_time: 2021-08-13 10:53:47<br>end_time: 2021-08-13 10:57:47<br>runtime: 239.7000000000036",
          "index: 87<br>name: 210813_Pac--005<br>path: D:/ExtractedSignals\\210813_Pac 2021-08-13 10-37-27\\210813_Pac--005.D<br>batch: 210813_Pac 2021-08-13 10-37-27<br>batch_position: 5<br>idle_time: 279.0<br>sample: NaCl 0,9%<br>method: SAA_411_Pac.M<br>timestamp: 2021-08-13 10:57:52<br>detector: G7110B<br>pump: G7110B<br>start_time: 2021-08-13 10:58:26<br>end_time: 2021-08-13 11:02:27<br>runtime: 239.7000000000036",
          "index: 88<br>name: 210813_Pac--006<br>path: D:/ExtractedSignals\\210813_Pac 2021-08-13 10-37-27\\210813_Pac--006.D<br>batch: 210813_Pac 2021-08-13 10-37-27<br>batch_position: 6<br>idle_time: 279.0<br>sample: Blank<br>method: SAA_411_Pac.M<br>timestamp: 2021-08-13 11:02:31<br>detector: G1315C<br>pump: G7110B<br>start_time: 2021-08-13 11:03:05<br>end_time: 2021-08-13 11:07:06<br>runtime: 239.7000000000036",
          "index: 89<br>name: 210813_Pac--007<br>path: D:/ExtractedSignals\\210813_Pac 2021-08-13 10-37-27\\210813_Pac--007.D<br>batch: 210813_Pac 2021-08-13 10-37-27<br>batch_position: 7<br>idle_time: 279.0<br>sample: 0.025 mg/ml<br>method: SAA_411_Pac.M<br>timestamp: 2021-08-13 11:07:10<br>detector: G1315C<br>pump: G7116B<br>start_time: 2021-08-13 11:07:44<br>end_time: 2021-08-13 11:11:45<br>runtime: 239.7000000000036",
          "index: 90<br>name: 210813_Pac--008<br>path: D:/ExtractedSignals\\210813_Pac 2021-08-13 10-37-27\\210813_Pac--008.D<br>batch: 210813_Pac 2021-08-13 10-37-27<br>batch_position: 8<br>idle_time: 279.0<br>sample: Blank<br>method: SAA_411_Pac.M<br>timestamp: 2021-08-13 11:11:49<br>detector: G1315C<br>pump: G7110B<br>start_time: 2021-08-13 11:12:23<br>end_time: 2021-08-13 11:16:23<br>runtime: 239.7000000000036",
          "index: 91<br>name: 210813_Pac--009<br>path: D:/ExtractedSignals\\210813_Pac 2021-08-13 10-37-27\\210813_Pac--009.D<br>batch: 210813_Pac 2021-08-13 10-37-27<br>batch_position: 9<br>idle_time: 279.0<br>sample: 210812/004 :20<br>method: SAA_411_Pac.M<br>timestamp: 2021-08-13 11:16:28<br>detector: G1315C<br>pump: G7110B<br>start_time: 2021-08-13 11:17:02<br>end_time: 2021-08-13 11:21:03<br>runtime: 239.7000000000036",
          "index: 92<br>name: 210813_Pac--010<br>path: D:/ExtractedSignals\\210813_Pac 2021-08-13 10-37-27\\210813_Pac--010.D<br>batch: 210813_Pac 2021-08-13 10-37-27<br>batch_position: 10<br>idle_time: 280.0<br>sample: 210812/004 :20<br>method: SAA_411_Pac.M<br>timestamp: 2021-08-13 11:21:08<br>detector: G1315C<br>pump: G7110B<br>start_time: 2021-08-13 11:21:41<br>end_time: 2021-08-13 11:25:42<br>runtime: 239.7000000000036",
          "index: 93<br>name: 210813_Pac--011<br>path: D:/ExtractedSignals\\210813_Pac 2021-08-13 10-37-27\\210813_Pac--011.D<br>batch: 210813_Pac 2021-08-13 10-37-27<br>batch_position: 11<br>idle_time: 278.0<br>sample: 210812/004 :20<br>method: SAA_411_Pac.M<br>timestamp: 2021-08-13 11:25:46<br>detector: G1315C<br>pump: G7110B<br>start_time: 2021-08-13 11:26:21<br>end_time: 2021-08-13 11:30:21<br>runtime: 239.7000000000036",
          "index: 94<br>name: 210813_Pac--012<br>path: D:/ExtractedSignals\\210813_Pac 2021-08-13 10-37-27\\210813_Pac--012.D<br>batch: 210813_Pac 2021-08-13 10-37-27<br>batch_position: 12<br>idle_time: 280.0<br>sample: Blank<br>method: SAA_411_Pac.M<br>timestamp: 2021-08-13 11:30:26<br>detector: G1315C<br>pump: G7110B<br>start_time: 2021-08-13 11:30:59<br>end_time: 2021-08-13 11:34:59<br>runtime: 239.7000000000036",
          "index: 95<br>name: 210813_Pac--013<br>path: D:/ExtractedSignals\\210813_Pac 2021-08-13 10-37-27\\210813_Pac--013.D<br>batch: 210813_Pac 2021-08-13 10-37-27<br>batch_position: 13<br>idle_time: 278.0<br>sample: 0.025 mg/ml<br>method: SAA_411_Pac.M<br>timestamp: 2021-08-13 11:35:04<br>detector: G1315C<br>pump: G7110B<br>start_time: 2021-08-13 11:35:38<br>end_time: 2021-08-13 11:39:38<br>runtime: 239.7000000000036",
          "index: 96<br>name: 210813_Pac--014<br>path: D:/ExtractedSignals\\210813_Pac 2021-08-13 10-37-27\\210813_Pac--014.D<br>batch: 210813_Pac 2021-08-13 10-37-27<br>batch_position: 14<br>idle_time: 279.0<br>sample: Blank<br>method: SAA_411_Pac.M<br>timestamp: 2021-08-13 11:39:43<br>detector: G1315C<br>pump: G7110B<br>start_time: 2021-08-13 11:40:16<br>end_time: 2021-08-13 11:44:17<br>runtime: 239.7000000000036"
         ],
         "type": "scatter",
         "x": [
          0,
          1,
          2,
          3,
          4,
          5,
          6,
          7,
          8,
          9,
          10,
          11,
          12,
          13,
          14,
          15,
          16,
          17,
          18,
          19,
          20,
          21
         ],
         "y": [
          0.9503138075313808,
          0.940899581589958,
          0.9442991631799162,
          0.940899581589958,
          0.9393305439330544,
          0.9427301255230124,
          0.940899581589958,
          0.9427301255230124,
          0.940899581589958,
          0.9393305439330544,
          0.935930962343096,
          0.940899581589958,
          0.940899581589958,
          0.9456066945606694,
          0.938807531380753,
          0.9380230125523012,
          0.940899581589958,
          0.940899581589958,
          0.9442991631799162,
          0.940899581589958,
          0.940899581589958,
          0.9393305439330544
         ]
        },
        {
         "hovertemplate": "<b>%{text}</b><br><b>x: </b>%{x}<br><b>pressure_mean: </b>%{y}<extra></extra>",
         "mode": "lines",
         "name": "pressure_mean",
         "text": [
          "index: 17<br>name: 210812_Pac--005<br>path: D:/ExtractedSignals\\210812_Pac 2021-08-12 10-30-07\\210812_Pac--005.D<br>batch: 210812_Pac 2021-08-12 10-30-07<br>batch_position: 5<br>idle_time: 279.0<br>sample: NaCl 0,9%<br>method: SAA_411_Pac.M<br>timestamp: 2021-08-12 10:50:23<br>detector: G1315C<br>pump: G7110B<br>start_time: 2021-08-12 10:50:57<br>end_time: 2021-08-12 10:54:57<br>runtime: 239.7000000000036",
          "index: 18<br>name: 210812_Pac--006<br>path: D:/ExtractedSignals\\210812_Pac 2021-08-12 10-30-07\\210812_Pac--006.D<br>batch: 210812_Pac 2021-08-12 10-30-07<br>batch_position: 6<br>idle_time: 279.0<br>sample: Blank<br>method: SAA_411_Pac.M<br>timestamp: 2021-08-12 10:55:02<br>detector: G1315C<br>pump: G7110B<br>start_time: 2021-08-12 10:55:36<br>end_time: 2021-08-12 10:59:36<br>runtime: 239.7000000000036",
          "index: 19<br>name: 210812_Pac--007<br>path: D:/ExtractedSignals\\210812_Pac 2021-08-12 10-30-07\\210812_Pac--007.D<br>batch: 210812_Pac 2021-08-12 10-30-07<br>batch_position: 7<br>idle_time: 279.0<br>sample: 0.025 mg/ml<br>method: SAA_411_Pac.M<br>timestamp: 2021-08-12 10:59:41<br>detector: G1315C<br>pump: G7110B<br>start_time: 2021-08-12 11:00:15<br>end_time: 2021-08-12 11:04:15<br>runtime: 239.7000000000036",
          "index: 20<br>name: 210812_Pac--008<br>path: D:/ExtractedSignals\\210812_Pac 2021-08-12 10-30-07\\210812_Pac--008.D<br>batch: 210812_Pac 2021-08-12 10-30-07<br>batch_position: 8<br>idle_time: 279.0<br>sample: Blank<br>method: SAA_411_Pac.M<br>timestamp: 2021-08-12 11:04:20<br>detector: G1315C<br>pump: G7110B<br>start_time: 2021-08-12 11:04:54<br>end_time: 2021-08-12 11:08:54<br>runtime: 239.7000000000036",
          "index: 21<br>name: 210812_Pac--009<br>path: D:/ExtractedSignals\\210812_Pac 2021-08-12 10-30-07\\210812_Pac--009.D<br>batch: 210812_Pac 2021-08-12 10-30-07<br>batch_position: 9<br>idle_time: 279.0<br>sample: 210806/036 :10<br>method: SAA_411_Pac.M<br>timestamp: 2021-08-12 11:08:59<br>detector: G1315C<br>pump: G7110B<br>start_time: 2021-08-12 11:09:32<br>end_time: 2021-08-12 11:13:32<br>runtime: 239.7000000000036",
          "index: 22<br>name: 210812_Pac--010<br>path: D:/ExtractedSignals\\210812_Pac 2021-08-12 10-30-07\\210812_Pac--010.D<br>batch: 210812_Pac 2021-08-12 10-30-07<br>batch_position: 10<br>idle_time: 278.0<br>sample: 210806/036 :10<br>method: SAA_411_Pac.M<br>timestamp: 2021-08-12 11:13:37<br>detector: G7110B<br>pump: G7110B<br>start_time: 2021-08-12 11:14:11<br>end_time: 2021-08-12 11:18:11<br>runtime: 239.7000000000036",
          "index: 23<br>name: 210812_Pac--011<br>path: D:/ExtractedSignals\\210812_Pac 2021-08-12 10-30-07\\210812_Pac--011.D<br>batch: 210812_Pac 2021-08-12 10-30-07<br>batch_position: 11<br>idle_time: 279.0<br>sample: 210806/036 :10<br>method: SAA_411_Pac.M<br>timestamp: 2021-08-12 11:18:16<br>detector: G7110B<br>pump: G7110B<br>start_time: 2021-08-12 11:18:50<br>end_time: 2021-08-12 11:22:50<br>runtime: 239.7000000000036",
          "index: 24<br>name: 210812_Pac--012<br>path: D:/ExtractedSignals\\210812_Pac 2021-08-12 10-30-07\\210812_Pac--012.D<br>batch: 210812_Pac 2021-08-12 10-30-07<br>batch_position: 12<br>idle_time: 279.0<br>sample: Blank<br>method: SAA_411_Pac.M<br>timestamp: 2021-08-12 11:22:55<br>detector: G1315C<br>pump: G7110B<br>start_time: 2021-08-12 11:23:29<br>end_time: 2021-08-12 11:27:29<br>runtime: 239.7000000000036",
          "index: 25<br>name: 210812_Pac--013<br>path: D:/ExtractedSignals\\210812_Pac 2021-08-12 10-30-07\\210812_Pac--013.D<br>batch: 210812_Pac 2021-08-12 10-30-07<br>batch_position: 13<br>idle_time: 279.0<br>sample: 0.025 mg/ml<br>method: SAA_411_Pac.M<br>timestamp: 2021-08-12 11:27:34<br>detector: G1315C<br>pump: G7110B<br>start_time: 2021-08-12 11:28:08<br>end_time: 2021-08-12 11:32:08<br>runtime: 239.7000000000036",
          "index: 26<br>name: 210812_Pac--014<br>path: D:/ExtractedSignals\\210812_Pac 2021-08-12 10-30-07\\210812_Pac--014.D<br>batch: 210812_Pac 2021-08-12 10-30-07<br>batch_position: 14<br>idle_time: 279.0<br>sample: Blank<br>method: SAA_411_Pac.M<br>timestamp: 2021-08-12 11:32:13<br>detector: G7110B<br>pump: G7110B<br>start_time: 2021-08-12 11:32:46<br>end_time: 2021-08-12 11:36:47<br>runtime: 239.7000000000036",
          "index: 85<br>name: 210813_Pac--003<br>path: D:/ExtractedSignals\\210813_Pac 2021-08-13 10-37-27\\210813_Pac--003.D<br>batch: 210813_Pac 2021-08-13 10-37-27<br>batch_position: 3<br>idle_time: 278.0<br>sample: Blank<br>method: SAA_411_Pac.M<br>timestamp: 2021-08-13 10:48:34<br>detector: G1315C<br>pump: G7116B<br>start_time: 2021-08-13 10:49:08<br>end_time: 2021-08-13 10:53:08<br>runtime: 239.7000000000036",
          "index: 86<br>name: 210813_Pac--004<br>path: D:/ExtractedSignals\\210813_Pac 2021-08-13 10-37-27\\210813_Pac--004.D<br>batch: 210813_Pac 2021-08-13 10-37-27<br>batch_position: 4<br>idle_time: 279.0<br>sample: Blank<br>method: SAA_411_Pac.M<br>timestamp: 2021-08-13 10:53:13<br>detector: G1315C<br>pump: G7110B<br>start_time: 2021-08-13 10:53:47<br>end_time: 2021-08-13 10:57:47<br>runtime: 239.7000000000036",
          "index: 87<br>name: 210813_Pac--005<br>path: D:/ExtractedSignals\\210813_Pac 2021-08-13 10-37-27\\210813_Pac--005.D<br>batch: 210813_Pac 2021-08-13 10-37-27<br>batch_position: 5<br>idle_time: 279.0<br>sample: NaCl 0,9%<br>method: SAA_411_Pac.M<br>timestamp: 2021-08-13 10:57:52<br>detector: G7110B<br>pump: G7110B<br>start_time: 2021-08-13 10:58:26<br>end_time: 2021-08-13 11:02:27<br>runtime: 239.7000000000036",
          "index: 88<br>name: 210813_Pac--006<br>path: D:/ExtractedSignals\\210813_Pac 2021-08-13 10-37-27\\210813_Pac--006.D<br>batch: 210813_Pac 2021-08-13 10-37-27<br>batch_position: 6<br>idle_time: 279.0<br>sample: Blank<br>method: SAA_411_Pac.M<br>timestamp: 2021-08-13 11:02:31<br>detector: G1315C<br>pump: G7110B<br>start_time: 2021-08-13 11:03:05<br>end_time: 2021-08-13 11:07:06<br>runtime: 239.7000000000036",
          "index: 89<br>name: 210813_Pac--007<br>path: D:/ExtractedSignals\\210813_Pac 2021-08-13 10-37-27\\210813_Pac--007.D<br>batch: 210813_Pac 2021-08-13 10-37-27<br>batch_position: 7<br>idle_time: 279.0<br>sample: 0.025 mg/ml<br>method: SAA_411_Pac.M<br>timestamp: 2021-08-13 11:07:10<br>detector: G1315C<br>pump: G7116B<br>start_time: 2021-08-13 11:07:44<br>end_time: 2021-08-13 11:11:45<br>runtime: 239.7000000000036",
          "index: 90<br>name: 210813_Pac--008<br>path: D:/ExtractedSignals\\210813_Pac 2021-08-13 10-37-27\\210813_Pac--008.D<br>batch: 210813_Pac 2021-08-13 10-37-27<br>batch_position: 8<br>idle_time: 279.0<br>sample: Blank<br>method: SAA_411_Pac.M<br>timestamp: 2021-08-13 11:11:49<br>detector: G1315C<br>pump: G7110B<br>start_time: 2021-08-13 11:12:23<br>end_time: 2021-08-13 11:16:23<br>runtime: 239.7000000000036",
          "index: 91<br>name: 210813_Pac--009<br>path: D:/ExtractedSignals\\210813_Pac 2021-08-13 10-37-27\\210813_Pac--009.D<br>batch: 210813_Pac 2021-08-13 10-37-27<br>batch_position: 9<br>idle_time: 279.0<br>sample: 210812/004 :20<br>method: SAA_411_Pac.M<br>timestamp: 2021-08-13 11:16:28<br>detector: G1315C<br>pump: G7110B<br>start_time: 2021-08-13 11:17:02<br>end_time: 2021-08-13 11:21:03<br>runtime: 239.7000000000036",
          "index: 92<br>name: 210813_Pac--010<br>path: D:/ExtractedSignals\\210813_Pac 2021-08-13 10-37-27\\210813_Pac--010.D<br>batch: 210813_Pac 2021-08-13 10-37-27<br>batch_position: 10<br>idle_time: 280.0<br>sample: 210812/004 :20<br>method: SAA_411_Pac.M<br>timestamp: 2021-08-13 11:21:08<br>detector: G1315C<br>pump: G7110B<br>start_time: 2021-08-13 11:21:41<br>end_time: 2021-08-13 11:25:42<br>runtime: 239.7000000000036",
          "index: 93<br>name: 210813_Pac--011<br>path: D:/ExtractedSignals\\210813_Pac 2021-08-13 10-37-27\\210813_Pac--011.D<br>batch: 210813_Pac 2021-08-13 10-37-27<br>batch_position: 11<br>idle_time: 278.0<br>sample: 210812/004 :20<br>method: SAA_411_Pac.M<br>timestamp: 2021-08-13 11:25:46<br>detector: G1315C<br>pump: G7110B<br>start_time: 2021-08-13 11:26:21<br>end_time: 2021-08-13 11:30:21<br>runtime: 239.7000000000036",
          "index: 94<br>name: 210813_Pac--012<br>path: D:/ExtractedSignals\\210813_Pac 2021-08-13 10-37-27\\210813_Pac--012.D<br>batch: 210813_Pac 2021-08-13 10-37-27<br>batch_position: 12<br>idle_time: 280.0<br>sample: Blank<br>method: SAA_411_Pac.M<br>timestamp: 2021-08-13 11:30:26<br>detector: G1315C<br>pump: G7110B<br>start_time: 2021-08-13 11:30:59<br>end_time: 2021-08-13 11:34:59<br>runtime: 239.7000000000036",
          "index: 95<br>name: 210813_Pac--013<br>path: D:/ExtractedSignals\\210813_Pac 2021-08-13 10-37-27\\210813_Pac--013.D<br>batch: 210813_Pac 2021-08-13 10-37-27<br>batch_position: 13<br>idle_time: 278.0<br>sample: 0.025 mg/ml<br>method: SAA_411_Pac.M<br>timestamp: 2021-08-13 11:35:04<br>detector: G1315C<br>pump: G7110B<br>start_time: 2021-08-13 11:35:38<br>end_time: 2021-08-13 11:39:38<br>runtime: 239.7000000000036",
          "index: 96<br>name: 210813_Pac--014<br>path: D:/ExtractedSignals\\210813_Pac 2021-08-13 10-37-27\\210813_Pac--014.D<br>batch: 210813_Pac 2021-08-13 10-37-27<br>batch_position: 14<br>idle_time: 279.0<br>sample: Blank<br>method: SAA_411_Pac.M<br>timestamp: 2021-08-13 11:39:43<br>detector: G1315C<br>pump: G7110B<br>start_time: 2021-08-13 11:40:16<br>end_time: 2021-08-13 11:44:17<br>runtime: 239.7000000000036"
         ],
         "type": "scatter",
         "x": [
          0,
          1,
          2,
          3,
          4,
          5,
          6,
          7,
          8,
          9,
          10,
          11,
          12,
          13,
          14,
          15,
          16,
          17,
          18,
          19,
          20,
          21
         ],
         "y": [
          0.8612566238060749,
          0.8541642584326673,
          0.8543316722165605,
          0.8506202680693234,
          0.8498441855996984,
          0.8483960563690135,
          0.8480927185367656,
          0.8450720955502148,
          0.8466601348717301,
          0.8450848508861318,
          0.8560209570169047,
          0.8501347680960306,
          0.8486730863209314,
          0.8458031357398875,
          0.8467709468524968,
          0.8428076248209214,
          0.8448496743801887,
          0.8421284031834076,
          0.844322320960918,
          0.8411374730244509,
          0.8427577992899985,
          0.8396407140755874
         ]
        },
        {
         "hovertemplate": "<b>%{text}</b><br><b>x: </b>%{x}<br><b>pressure_std: </b>%{y}<extra></extra>",
         "mode": "lines",
         "name": "pressure_std",
         "text": [
          "index: 17<br>name: 210812_Pac--005<br>path: D:/ExtractedSignals\\210812_Pac 2021-08-12 10-30-07\\210812_Pac--005.D<br>batch: 210812_Pac 2021-08-12 10-30-07<br>batch_position: 5<br>idle_time: 279.0<br>sample: NaCl 0,9%<br>method: SAA_411_Pac.M<br>timestamp: 2021-08-12 10:50:23<br>detector: G1315C<br>pump: G7110B<br>start_time: 2021-08-12 10:50:57<br>end_time: 2021-08-12 10:54:57<br>runtime: 239.7000000000036",
          "index: 18<br>name: 210812_Pac--006<br>path: D:/ExtractedSignals\\210812_Pac 2021-08-12 10-30-07\\210812_Pac--006.D<br>batch: 210812_Pac 2021-08-12 10-30-07<br>batch_position: 6<br>idle_time: 279.0<br>sample: Blank<br>method: SAA_411_Pac.M<br>timestamp: 2021-08-12 10:55:02<br>detector: G1315C<br>pump: G7110B<br>start_time: 2021-08-12 10:55:36<br>end_time: 2021-08-12 10:59:36<br>runtime: 239.7000000000036",
          "index: 19<br>name: 210812_Pac--007<br>path: D:/ExtractedSignals\\210812_Pac 2021-08-12 10-30-07\\210812_Pac--007.D<br>batch: 210812_Pac 2021-08-12 10-30-07<br>batch_position: 7<br>idle_time: 279.0<br>sample: 0.025 mg/ml<br>method: SAA_411_Pac.M<br>timestamp: 2021-08-12 10:59:41<br>detector: G1315C<br>pump: G7110B<br>start_time: 2021-08-12 11:00:15<br>end_time: 2021-08-12 11:04:15<br>runtime: 239.7000000000036",
          "index: 20<br>name: 210812_Pac--008<br>path: D:/ExtractedSignals\\210812_Pac 2021-08-12 10-30-07\\210812_Pac--008.D<br>batch: 210812_Pac 2021-08-12 10-30-07<br>batch_position: 8<br>idle_time: 279.0<br>sample: Blank<br>method: SAA_411_Pac.M<br>timestamp: 2021-08-12 11:04:20<br>detector: G1315C<br>pump: G7110B<br>start_time: 2021-08-12 11:04:54<br>end_time: 2021-08-12 11:08:54<br>runtime: 239.7000000000036",
          "index: 21<br>name: 210812_Pac--009<br>path: D:/ExtractedSignals\\210812_Pac 2021-08-12 10-30-07\\210812_Pac--009.D<br>batch: 210812_Pac 2021-08-12 10-30-07<br>batch_position: 9<br>idle_time: 279.0<br>sample: 210806/036 :10<br>method: SAA_411_Pac.M<br>timestamp: 2021-08-12 11:08:59<br>detector: G1315C<br>pump: G7110B<br>start_time: 2021-08-12 11:09:32<br>end_time: 2021-08-12 11:13:32<br>runtime: 239.7000000000036",
          "index: 22<br>name: 210812_Pac--010<br>path: D:/ExtractedSignals\\210812_Pac 2021-08-12 10-30-07\\210812_Pac--010.D<br>batch: 210812_Pac 2021-08-12 10-30-07<br>batch_position: 10<br>idle_time: 278.0<br>sample: 210806/036 :10<br>method: SAA_411_Pac.M<br>timestamp: 2021-08-12 11:13:37<br>detector: G7110B<br>pump: G7110B<br>start_time: 2021-08-12 11:14:11<br>end_time: 2021-08-12 11:18:11<br>runtime: 239.7000000000036",
          "index: 23<br>name: 210812_Pac--011<br>path: D:/ExtractedSignals\\210812_Pac 2021-08-12 10-30-07\\210812_Pac--011.D<br>batch: 210812_Pac 2021-08-12 10-30-07<br>batch_position: 11<br>idle_time: 279.0<br>sample: 210806/036 :10<br>method: SAA_411_Pac.M<br>timestamp: 2021-08-12 11:18:16<br>detector: G7110B<br>pump: G7110B<br>start_time: 2021-08-12 11:18:50<br>end_time: 2021-08-12 11:22:50<br>runtime: 239.7000000000036",
          "index: 24<br>name: 210812_Pac--012<br>path: D:/ExtractedSignals\\210812_Pac 2021-08-12 10-30-07\\210812_Pac--012.D<br>batch: 210812_Pac 2021-08-12 10-30-07<br>batch_position: 12<br>idle_time: 279.0<br>sample: Blank<br>method: SAA_411_Pac.M<br>timestamp: 2021-08-12 11:22:55<br>detector: G1315C<br>pump: G7110B<br>start_time: 2021-08-12 11:23:29<br>end_time: 2021-08-12 11:27:29<br>runtime: 239.7000000000036",
          "index: 25<br>name: 210812_Pac--013<br>path: D:/ExtractedSignals\\210812_Pac 2021-08-12 10-30-07\\210812_Pac--013.D<br>batch: 210812_Pac 2021-08-12 10-30-07<br>batch_position: 13<br>idle_time: 279.0<br>sample: 0.025 mg/ml<br>method: SAA_411_Pac.M<br>timestamp: 2021-08-12 11:27:34<br>detector: G1315C<br>pump: G7110B<br>start_time: 2021-08-12 11:28:08<br>end_time: 2021-08-12 11:32:08<br>runtime: 239.7000000000036",
          "index: 26<br>name: 210812_Pac--014<br>path: D:/ExtractedSignals\\210812_Pac 2021-08-12 10-30-07\\210812_Pac--014.D<br>batch: 210812_Pac 2021-08-12 10-30-07<br>batch_position: 14<br>idle_time: 279.0<br>sample: Blank<br>method: SAA_411_Pac.M<br>timestamp: 2021-08-12 11:32:13<br>detector: G7110B<br>pump: G7110B<br>start_time: 2021-08-12 11:32:46<br>end_time: 2021-08-12 11:36:47<br>runtime: 239.7000000000036",
          "index: 85<br>name: 210813_Pac--003<br>path: D:/ExtractedSignals\\210813_Pac 2021-08-13 10-37-27\\210813_Pac--003.D<br>batch: 210813_Pac 2021-08-13 10-37-27<br>batch_position: 3<br>idle_time: 278.0<br>sample: Blank<br>method: SAA_411_Pac.M<br>timestamp: 2021-08-13 10:48:34<br>detector: G1315C<br>pump: G7116B<br>start_time: 2021-08-13 10:49:08<br>end_time: 2021-08-13 10:53:08<br>runtime: 239.7000000000036",
          "index: 86<br>name: 210813_Pac--004<br>path: D:/ExtractedSignals\\210813_Pac 2021-08-13 10-37-27\\210813_Pac--004.D<br>batch: 210813_Pac 2021-08-13 10-37-27<br>batch_position: 4<br>idle_time: 279.0<br>sample: Blank<br>method: SAA_411_Pac.M<br>timestamp: 2021-08-13 10:53:13<br>detector: G1315C<br>pump: G7110B<br>start_time: 2021-08-13 10:53:47<br>end_time: 2021-08-13 10:57:47<br>runtime: 239.7000000000036",
          "index: 87<br>name: 210813_Pac--005<br>path: D:/ExtractedSignals\\210813_Pac 2021-08-13 10-37-27\\210813_Pac--005.D<br>batch: 210813_Pac 2021-08-13 10-37-27<br>batch_position: 5<br>idle_time: 279.0<br>sample: NaCl 0,9%<br>method: SAA_411_Pac.M<br>timestamp: 2021-08-13 10:57:52<br>detector: G7110B<br>pump: G7110B<br>start_time: 2021-08-13 10:58:26<br>end_time: 2021-08-13 11:02:27<br>runtime: 239.7000000000036",
          "index: 88<br>name: 210813_Pac--006<br>path: D:/ExtractedSignals\\210813_Pac 2021-08-13 10-37-27\\210813_Pac--006.D<br>batch: 210813_Pac 2021-08-13 10-37-27<br>batch_position: 6<br>idle_time: 279.0<br>sample: Blank<br>method: SAA_411_Pac.M<br>timestamp: 2021-08-13 11:02:31<br>detector: G1315C<br>pump: G7110B<br>start_time: 2021-08-13 11:03:05<br>end_time: 2021-08-13 11:07:06<br>runtime: 239.7000000000036",
          "index: 89<br>name: 210813_Pac--007<br>path: D:/ExtractedSignals\\210813_Pac 2021-08-13 10-37-27\\210813_Pac--007.D<br>batch: 210813_Pac 2021-08-13 10-37-27<br>batch_position: 7<br>idle_time: 279.0<br>sample: 0.025 mg/ml<br>method: SAA_411_Pac.M<br>timestamp: 2021-08-13 11:07:10<br>detector: G1315C<br>pump: G7116B<br>start_time: 2021-08-13 11:07:44<br>end_time: 2021-08-13 11:11:45<br>runtime: 239.7000000000036",
          "index: 90<br>name: 210813_Pac--008<br>path: D:/ExtractedSignals\\210813_Pac 2021-08-13 10-37-27\\210813_Pac--008.D<br>batch: 210813_Pac 2021-08-13 10-37-27<br>batch_position: 8<br>idle_time: 279.0<br>sample: Blank<br>method: SAA_411_Pac.M<br>timestamp: 2021-08-13 11:11:49<br>detector: G1315C<br>pump: G7110B<br>start_time: 2021-08-13 11:12:23<br>end_time: 2021-08-13 11:16:23<br>runtime: 239.7000000000036",
          "index: 91<br>name: 210813_Pac--009<br>path: D:/ExtractedSignals\\210813_Pac 2021-08-13 10-37-27\\210813_Pac--009.D<br>batch: 210813_Pac 2021-08-13 10-37-27<br>batch_position: 9<br>idle_time: 279.0<br>sample: 210812/004 :20<br>method: SAA_411_Pac.M<br>timestamp: 2021-08-13 11:16:28<br>detector: G1315C<br>pump: G7110B<br>start_time: 2021-08-13 11:17:02<br>end_time: 2021-08-13 11:21:03<br>runtime: 239.7000000000036",
          "index: 92<br>name: 210813_Pac--010<br>path: D:/ExtractedSignals\\210813_Pac 2021-08-13 10-37-27\\210813_Pac--010.D<br>batch: 210813_Pac 2021-08-13 10-37-27<br>batch_position: 10<br>idle_time: 280.0<br>sample: 210812/004 :20<br>method: SAA_411_Pac.M<br>timestamp: 2021-08-13 11:21:08<br>detector: G1315C<br>pump: G7110B<br>start_time: 2021-08-13 11:21:41<br>end_time: 2021-08-13 11:25:42<br>runtime: 239.7000000000036",
          "index: 93<br>name: 210813_Pac--011<br>path: D:/ExtractedSignals\\210813_Pac 2021-08-13 10-37-27\\210813_Pac--011.D<br>batch: 210813_Pac 2021-08-13 10-37-27<br>batch_position: 11<br>idle_time: 278.0<br>sample: 210812/004 :20<br>method: SAA_411_Pac.M<br>timestamp: 2021-08-13 11:25:46<br>detector: G1315C<br>pump: G7110B<br>start_time: 2021-08-13 11:26:21<br>end_time: 2021-08-13 11:30:21<br>runtime: 239.7000000000036",
          "index: 94<br>name: 210813_Pac--012<br>path: D:/ExtractedSignals\\210813_Pac 2021-08-13 10-37-27\\210813_Pac--012.D<br>batch: 210813_Pac 2021-08-13 10-37-27<br>batch_position: 12<br>idle_time: 280.0<br>sample: Blank<br>method: SAA_411_Pac.M<br>timestamp: 2021-08-13 11:30:26<br>detector: G1315C<br>pump: G7110B<br>start_time: 2021-08-13 11:30:59<br>end_time: 2021-08-13 11:34:59<br>runtime: 239.7000000000036",
          "index: 95<br>name: 210813_Pac--013<br>path: D:/ExtractedSignals\\210813_Pac 2021-08-13 10-37-27\\210813_Pac--013.D<br>batch: 210813_Pac 2021-08-13 10-37-27<br>batch_position: 13<br>idle_time: 278.0<br>sample: 0.025 mg/ml<br>method: SAA_411_Pac.M<br>timestamp: 2021-08-13 11:35:04<br>detector: G1315C<br>pump: G7110B<br>start_time: 2021-08-13 11:35:38<br>end_time: 2021-08-13 11:39:38<br>runtime: 239.7000000000036",
          "index: 96<br>name: 210813_Pac--014<br>path: D:/ExtractedSignals\\210813_Pac 2021-08-13 10-37-27\\210813_Pac--014.D<br>batch: 210813_Pac 2021-08-13 10-37-27<br>batch_position: 14<br>idle_time: 279.0<br>sample: Blank<br>method: SAA_411_Pac.M<br>timestamp: 2021-08-13 11:39:43<br>detector: G1315C<br>pump: G7110B<br>start_time: 2021-08-13 11:40:16<br>end_time: 2021-08-13 11:44:17<br>runtime: 239.7000000000036"
         ],
         "type": "scatter",
         "x": [
          0,
          1,
          2,
          3,
          4,
          5,
          6,
          7,
          8,
          9,
          10,
          11,
          12,
          13,
          14,
          15,
          16,
          17,
          18,
          19,
          20,
          21
         ],
         "y": [
          0.1832621135017824,
          0.1822831722232634,
          0.1919992277724551,
          0.1802807425293442,
          0.1904067874921171,
          0.1850696119053254,
          0.182330617106021,
          0.1721471731332262,
          0.1798570071223713,
          0.1661272610415038,
          0.2019060193633344,
          0.1864980597519003,
          0.1844794625046093,
          0.1754444373346888,
          0.1837886613042503,
          0.1667272099870065,
          0.1790632264723477,
          0.176326469572964,
          0.174227999499571,
          0.1712562751578497,
          0.1778344224152785,
          0.1632656594931647
         ]
        },
        {
         "hovertemplate": "<b>%{text}</b><br><b>x: </b>%{x}<br><b>pressure_range: </b>%{y}<extra></extra>",
         "mode": "lines",
         "name": "pressure_range",
         "text": [
          "index: 17<br>name: 210812_Pac--005<br>path: D:/ExtractedSignals\\210812_Pac 2021-08-12 10-30-07\\210812_Pac--005.D<br>batch: 210812_Pac 2021-08-12 10-30-07<br>batch_position: 5<br>idle_time: 279.0<br>sample: NaCl 0,9%<br>method: SAA_411_Pac.M<br>timestamp: 2021-08-12 10:50:23<br>detector: G1315C<br>pump: G7110B<br>start_time: 2021-08-12 10:50:57<br>end_time: 2021-08-12 10:54:57<br>runtime: 239.7000000000036",
          "index: 18<br>name: 210812_Pac--006<br>path: D:/ExtractedSignals\\210812_Pac 2021-08-12 10-30-07\\210812_Pac--006.D<br>batch: 210812_Pac 2021-08-12 10-30-07<br>batch_position: 6<br>idle_time: 279.0<br>sample: Blank<br>method: SAA_411_Pac.M<br>timestamp: 2021-08-12 10:55:02<br>detector: G1315C<br>pump: G7110B<br>start_time: 2021-08-12 10:55:36<br>end_time: 2021-08-12 10:59:36<br>runtime: 239.7000000000036",
          "index: 19<br>name: 210812_Pac--007<br>path: D:/ExtractedSignals\\210812_Pac 2021-08-12 10-30-07\\210812_Pac--007.D<br>batch: 210812_Pac 2021-08-12 10-30-07<br>batch_position: 7<br>idle_time: 279.0<br>sample: 0.025 mg/ml<br>method: SAA_411_Pac.M<br>timestamp: 2021-08-12 10:59:41<br>detector: G1315C<br>pump: G7110B<br>start_time: 2021-08-12 11:00:15<br>end_time: 2021-08-12 11:04:15<br>runtime: 239.7000000000036",
          "index: 20<br>name: 210812_Pac--008<br>path: D:/ExtractedSignals\\210812_Pac 2021-08-12 10-30-07\\210812_Pac--008.D<br>batch: 210812_Pac 2021-08-12 10-30-07<br>batch_position: 8<br>idle_time: 279.0<br>sample: Blank<br>method: SAA_411_Pac.M<br>timestamp: 2021-08-12 11:04:20<br>detector: G1315C<br>pump: G7110B<br>start_time: 2021-08-12 11:04:54<br>end_time: 2021-08-12 11:08:54<br>runtime: 239.7000000000036",
          "index: 21<br>name: 210812_Pac--009<br>path: D:/ExtractedSignals\\210812_Pac 2021-08-12 10-30-07\\210812_Pac--009.D<br>batch: 210812_Pac 2021-08-12 10-30-07<br>batch_position: 9<br>idle_time: 279.0<br>sample: 210806/036 :10<br>method: SAA_411_Pac.M<br>timestamp: 2021-08-12 11:08:59<br>detector: G1315C<br>pump: G7110B<br>start_time: 2021-08-12 11:09:32<br>end_time: 2021-08-12 11:13:32<br>runtime: 239.7000000000036",
          "index: 22<br>name: 210812_Pac--010<br>path: D:/ExtractedSignals\\210812_Pac 2021-08-12 10-30-07\\210812_Pac--010.D<br>batch: 210812_Pac 2021-08-12 10-30-07<br>batch_position: 10<br>idle_time: 278.0<br>sample: 210806/036 :10<br>method: SAA_411_Pac.M<br>timestamp: 2021-08-12 11:13:37<br>detector: G7110B<br>pump: G7110B<br>start_time: 2021-08-12 11:14:11<br>end_time: 2021-08-12 11:18:11<br>runtime: 239.7000000000036",
          "index: 23<br>name: 210812_Pac--011<br>path: D:/ExtractedSignals\\210812_Pac 2021-08-12 10-30-07\\210812_Pac--011.D<br>batch: 210812_Pac 2021-08-12 10-30-07<br>batch_position: 11<br>idle_time: 279.0<br>sample: 210806/036 :10<br>method: SAA_411_Pac.M<br>timestamp: 2021-08-12 11:18:16<br>detector: G7110B<br>pump: G7110B<br>start_time: 2021-08-12 11:18:50<br>end_time: 2021-08-12 11:22:50<br>runtime: 239.7000000000036",
          "index: 24<br>name: 210812_Pac--012<br>path: D:/ExtractedSignals\\210812_Pac 2021-08-12 10-30-07\\210812_Pac--012.D<br>batch: 210812_Pac 2021-08-12 10-30-07<br>batch_position: 12<br>idle_time: 279.0<br>sample: Blank<br>method: SAA_411_Pac.M<br>timestamp: 2021-08-12 11:22:55<br>detector: G1315C<br>pump: G7110B<br>start_time: 2021-08-12 11:23:29<br>end_time: 2021-08-12 11:27:29<br>runtime: 239.7000000000036",
          "index: 25<br>name: 210812_Pac--013<br>path: D:/ExtractedSignals\\210812_Pac 2021-08-12 10-30-07\\210812_Pac--013.D<br>batch: 210812_Pac 2021-08-12 10-30-07<br>batch_position: 13<br>idle_time: 279.0<br>sample: 0.025 mg/ml<br>method: SAA_411_Pac.M<br>timestamp: 2021-08-12 11:27:34<br>detector: G1315C<br>pump: G7110B<br>start_time: 2021-08-12 11:28:08<br>end_time: 2021-08-12 11:32:08<br>runtime: 239.7000000000036",
          "index: 26<br>name: 210812_Pac--014<br>path: D:/ExtractedSignals\\210812_Pac 2021-08-12 10-30-07\\210812_Pac--014.D<br>batch: 210812_Pac 2021-08-12 10-30-07<br>batch_position: 14<br>idle_time: 279.0<br>sample: Blank<br>method: SAA_411_Pac.M<br>timestamp: 2021-08-12 11:32:13<br>detector: G7110B<br>pump: G7110B<br>start_time: 2021-08-12 11:32:46<br>end_time: 2021-08-12 11:36:47<br>runtime: 239.7000000000036",
          "index: 85<br>name: 210813_Pac--003<br>path: D:/ExtractedSignals\\210813_Pac 2021-08-13 10-37-27\\210813_Pac--003.D<br>batch: 210813_Pac 2021-08-13 10-37-27<br>batch_position: 3<br>idle_time: 278.0<br>sample: Blank<br>method: SAA_411_Pac.M<br>timestamp: 2021-08-13 10:48:34<br>detector: G1315C<br>pump: G7116B<br>start_time: 2021-08-13 10:49:08<br>end_time: 2021-08-13 10:53:08<br>runtime: 239.7000000000036",
          "index: 86<br>name: 210813_Pac--004<br>path: D:/ExtractedSignals\\210813_Pac 2021-08-13 10-37-27\\210813_Pac--004.D<br>batch: 210813_Pac 2021-08-13 10-37-27<br>batch_position: 4<br>idle_time: 279.0<br>sample: Blank<br>method: SAA_411_Pac.M<br>timestamp: 2021-08-13 10:53:13<br>detector: G1315C<br>pump: G7110B<br>start_time: 2021-08-13 10:53:47<br>end_time: 2021-08-13 10:57:47<br>runtime: 239.7000000000036",
          "index: 87<br>name: 210813_Pac--005<br>path: D:/ExtractedSignals\\210813_Pac 2021-08-13 10-37-27\\210813_Pac--005.D<br>batch: 210813_Pac 2021-08-13 10-37-27<br>batch_position: 5<br>idle_time: 279.0<br>sample: NaCl 0,9%<br>method: SAA_411_Pac.M<br>timestamp: 2021-08-13 10:57:52<br>detector: G7110B<br>pump: G7110B<br>start_time: 2021-08-13 10:58:26<br>end_time: 2021-08-13 11:02:27<br>runtime: 239.7000000000036",
          "index: 88<br>name: 210813_Pac--006<br>path: D:/ExtractedSignals\\210813_Pac 2021-08-13 10-37-27\\210813_Pac--006.D<br>batch: 210813_Pac 2021-08-13 10-37-27<br>batch_position: 6<br>idle_time: 279.0<br>sample: Blank<br>method: SAA_411_Pac.M<br>timestamp: 2021-08-13 11:02:31<br>detector: G1315C<br>pump: G7110B<br>start_time: 2021-08-13 11:03:05<br>end_time: 2021-08-13 11:07:06<br>runtime: 239.7000000000036",
          "index: 89<br>name: 210813_Pac--007<br>path: D:/ExtractedSignals\\210813_Pac 2021-08-13 10-37-27\\210813_Pac--007.D<br>batch: 210813_Pac 2021-08-13 10-37-27<br>batch_position: 7<br>idle_time: 279.0<br>sample: 0.025 mg/ml<br>method: SAA_411_Pac.M<br>timestamp: 2021-08-13 11:07:10<br>detector: G1315C<br>pump: G7116B<br>start_time: 2021-08-13 11:07:44<br>end_time: 2021-08-13 11:11:45<br>runtime: 239.7000000000036",
          "index: 90<br>name: 210813_Pac--008<br>path: D:/ExtractedSignals\\210813_Pac 2021-08-13 10-37-27\\210813_Pac--008.D<br>batch: 210813_Pac 2021-08-13 10-37-27<br>batch_position: 8<br>idle_time: 279.0<br>sample: Blank<br>method: SAA_411_Pac.M<br>timestamp: 2021-08-13 11:11:49<br>detector: G1315C<br>pump: G7110B<br>start_time: 2021-08-13 11:12:23<br>end_time: 2021-08-13 11:16:23<br>runtime: 239.7000000000036",
          "index: 91<br>name: 210813_Pac--009<br>path: D:/ExtractedSignals\\210813_Pac 2021-08-13 10-37-27\\210813_Pac--009.D<br>batch: 210813_Pac 2021-08-13 10-37-27<br>batch_position: 9<br>idle_time: 279.0<br>sample: 210812/004 :20<br>method: SAA_411_Pac.M<br>timestamp: 2021-08-13 11:16:28<br>detector: G1315C<br>pump: G7110B<br>start_time: 2021-08-13 11:17:02<br>end_time: 2021-08-13 11:21:03<br>runtime: 239.7000000000036",
          "index: 92<br>name: 210813_Pac--010<br>path: D:/ExtractedSignals\\210813_Pac 2021-08-13 10-37-27\\210813_Pac--010.D<br>batch: 210813_Pac 2021-08-13 10-37-27<br>batch_position: 10<br>idle_time: 280.0<br>sample: 210812/004 :20<br>method: SAA_411_Pac.M<br>timestamp: 2021-08-13 11:21:08<br>detector: G1315C<br>pump: G7110B<br>start_time: 2021-08-13 11:21:41<br>end_time: 2021-08-13 11:25:42<br>runtime: 239.7000000000036",
          "index: 93<br>name: 210813_Pac--011<br>path: D:/ExtractedSignals\\210813_Pac 2021-08-13 10-37-27\\210813_Pac--011.D<br>batch: 210813_Pac 2021-08-13 10-37-27<br>batch_position: 11<br>idle_time: 278.0<br>sample: 210812/004 :20<br>method: SAA_411_Pac.M<br>timestamp: 2021-08-13 11:25:46<br>detector: G1315C<br>pump: G7110B<br>start_time: 2021-08-13 11:26:21<br>end_time: 2021-08-13 11:30:21<br>runtime: 239.7000000000036",
          "index: 94<br>name: 210813_Pac--012<br>path: D:/ExtractedSignals\\210813_Pac 2021-08-13 10-37-27\\210813_Pac--012.D<br>batch: 210813_Pac 2021-08-13 10-37-27<br>batch_position: 12<br>idle_time: 280.0<br>sample: Blank<br>method: SAA_411_Pac.M<br>timestamp: 2021-08-13 11:30:26<br>detector: G1315C<br>pump: G7110B<br>start_time: 2021-08-13 11:30:59<br>end_time: 2021-08-13 11:34:59<br>runtime: 239.7000000000036",
          "index: 95<br>name: 210813_Pac--013<br>path: D:/ExtractedSignals\\210813_Pac 2021-08-13 10-37-27\\210813_Pac--013.D<br>batch: 210813_Pac 2021-08-13 10-37-27<br>batch_position: 13<br>idle_time: 278.0<br>sample: 0.025 mg/ml<br>method: SAA_411_Pac.M<br>timestamp: 2021-08-13 11:35:04<br>detector: G1315C<br>pump: G7110B<br>start_time: 2021-08-13 11:35:38<br>end_time: 2021-08-13 11:39:38<br>runtime: 239.7000000000036",
          "index: 96<br>name: 210813_Pac--014<br>path: D:/ExtractedSignals\\210813_Pac 2021-08-13 10-37-27\\210813_Pac--014.D<br>batch: 210813_Pac 2021-08-13 10-37-27<br>batch_position: 14<br>idle_time: 279.0<br>sample: Blank<br>method: SAA_411_Pac.M<br>timestamp: 2021-08-13 11:39:43<br>detector: G1315C<br>pump: G7110B<br>start_time: 2021-08-13 11:40:16<br>end_time: 2021-08-13 11:44:17<br>runtime: 239.7000000000036"
         ],
         "type": "scatter",
         "x": [
          0,
          1,
          2,
          3,
          4,
          5,
          6,
          7,
          8,
          9,
          10,
          11,
          12,
          13,
          14,
          15,
          16,
          17,
          18,
          19,
          20,
          21
         ],
         "y": [
          0.0627062706270626,
          0.068646864686469,
          0.0719471947194725,
          0.0600660066006604,
          0.0722772277227725,
          0.0577557755775579,
          0.0600660066006604,
          0.0577557755775579,
          0.0584158415841589,
          0.0561056105610564,
          0.080858085808581,
          0.0702970297029705,
          0.064356435643565,
          0.0481848184818487,
          0.0669966996699675,
          0.0584158415841589,
          0.0564356435643567,
          0.0521452145214527,
          0.0521452145214524,
          0.047524752475248,
          0.0541254125412546,
          0.043894389438944
         ]
        },
        {
         "hovertemplate": "<b>%{text}</b><br><b>x: </b>%{x}<br><b>runtime: </b>%{y}<extra></extra>",
         "mode": "lines",
         "name": "runtime",
         "text": [
          "index: 17<br>name: 210812_Pac--005<br>path: D:/ExtractedSignals\\210812_Pac 2021-08-12 10-30-07\\210812_Pac--005.D<br>batch: 210812_Pac 2021-08-12 10-30-07<br>batch_position: 5<br>idle_time: 279.0<br>sample: NaCl 0,9%<br>method: SAA_411_Pac.M<br>timestamp: 2021-08-12 10:50:23<br>detector: G1315C<br>pump: G7110B<br>start_time: 2021-08-12 10:50:57<br>end_time: 2021-08-12 10:54:57<br>runtime: 239.7000000000036",
          "index: 18<br>name: 210812_Pac--006<br>path: D:/ExtractedSignals\\210812_Pac 2021-08-12 10-30-07\\210812_Pac--006.D<br>batch: 210812_Pac 2021-08-12 10-30-07<br>batch_position: 6<br>idle_time: 279.0<br>sample: Blank<br>method: SAA_411_Pac.M<br>timestamp: 2021-08-12 10:55:02<br>detector: G1315C<br>pump: G7110B<br>start_time: 2021-08-12 10:55:36<br>end_time: 2021-08-12 10:59:36<br>runtime: 239.7000000000036",
          "index: 19<br>name: 210812_Pac--007<br>path: D:/ExtractedSignals\\210812_Pac 2021-08-12 10-30-07\\210812_Pac--007.D<br>batch: 210812_Pac 2021-08-12 10-30-07<br>batch_position: 7<br>idle_time: 279.0<br>sample: 0.025 mg/ml<br>method: SAA_411_Pac.M<br>timestamp: 2021-08-12 10:59:41<br>detector: G1315C<br>pump: G7110B<br>start_time: 2021-08-12 11:00:15<br>end_time: 2021-08-12 11:04:15<br>runtime: 239.7000000000036",
          "index: 20<br>name: 210812_Pac--008<br>path: D:/ExtractedSignals\\210812_Pac 2021-08-12 10-30-07\\210812_Pac--008.D<br>batch: 210812_Pac 2021-08-12 10-30-07<br>batch_position: 8<br>idle_time: 279.0<br>sample: Blank<br>method: SAA_411_Pac.M<br>timestamp: 2021-08-12 11:04:20<br>detector: G1315C<br>pump: G7110B<br>start_time: 2021-08-12 11:04:54<br>end_time: 2021-08-12 11:08:54<br>runtime: 239.7000000000036",
          "index: 21<br>name: 210812_Pac--009<br>path: D:/ExtractedSignals\\210812_Pac 2021-08-12 10-30-07\\210812_Pac--009.D<br>batch: 210812_Pac 2021-08-12 10-30-07<br>batch_position: 9<br>idle_time: 279.0<br>sample: 210806/036 :10<br>method: SAA_411_Pac.M<br>timestamp: 2021-08-12 11:08:59<br>detector: G1315C<br>pump: G7110B<br>start_time: 2021-08-12 11:09:32<br>end_time: 2021-08-12 11:13:32<br>runtime: 239.7000000000036",
          "index: 22<br>name: 210812_Pac--010<br>path: D:/ExtractedSignals\\210812_Pac 2021-08-12 10-30-07\\210812_Pac--010.D<br>batch: 210812_Pac 2021-08-12 10-30-07<br>batch_position: 10<br>idle_time: 278.0<br>sample: 210806/036 :10<br>method: SAA_411_Pac.M<br>timestamp: 2021-08-12 11:13:37<br>detector: G7110B<br>pump: G7110B<br>start_time: 2021-08-12 11:14:11<br>end_time: 2021-08-12 11:18:11<br>runtime: 239.7000000000036",
          "index: 23<br>name: 210812_Pac--011<br>path: D:/ExtractedSignals\\210812_Pac 2021-08-12 10-30-07\\210812_Pac--011.D<br>batch: 210812_Pac 2021-08-12 10-30-07<br>batch_position: 11<br>idle_time: 279.0<br>sample: 210806/036 :10<br>method: SAA_411_Pac.M<br>timestamp: 2021-08-12 11:18:16<br>detector: G7110B<br>pump: G7110B<br>start_time: 2021-08-12 11:18:50<br>end_time: 2021-08-12 11:22:50<br>runtime: 239.7000000000036",
          "index: 24<br>name: 210812_Pac--012<br>path: D:/ExtractedSignals\\210812_Pac 2021-08-12 10-30-07\\210812_Pac--012.D<br>batch: 210812_Pac 2021-08-12 10-30-07<br>batch_position: 12<br>idle_time: 279.0<br>sample: Blank<br>method: SAA_411_Pac.M<br>timestamp: 2021-08-12 11:22:55<br>detector: G1315C<br>pump: G7110B<br>start_time: 2021-08-12 11:23:29<br>end_time: 2021-08-12 11:27:29<br>runtime: 239.7000000000036",
          "index: 25<br>name: 210812_Pac--013<br>path: D:/ExtractedSignals\\210812_Pac 2021-08-12 10-30-07\\210812_Pac--013.D<br>batch: 210812_Pac 2021-08-12 10-30-07<br>batch_position: 13<br>idle_time: 279.0<br>sample: 0.025 mg/ml<br>method: SAA_411_Pac.M<br>timestamp: 2021-08-12 11:27:34<br>detector: G1315C<br>pump: G7110B<br>start_time: 2021-08-12 11:28:08<br>end_time: 2021-08-12 11:32:08<br>runtime: 239.7000000000036",
          "index: 26<br>name: 210812_Pac--014<br>path: D:/ExtractedSignals\\210812_Pac 2021-08-12 10-30-07\\210812_Pac--014.D<br>batch: 210812_Pac 2021-08-12 10-30-07<br>batch_position: 14<br>idle_time: 279.0<br>sample: Blank<br>method: SAA_411_Pac.M<br>timestamp: 2021-08-12 11:32:13<br>detector: G7110B<br>pump: G7110B<br>start_time: 2021-08-12 11:32:46<br>end_time: 2021-08-12 11:36:47<br>runtime: 239.7000000000036",
          "index: 85<br>name: 210813_Pac--003<br>path: D:/ExtractedSignals\\210813_Pac 2021-08-13 10-37-27\\210813_Pac--003.D<br>batch: 210813_Pac 2021-08-13 10-37-27<br>batch_position: 3<br>idle_time: 278.0<br>sample: Blank<br>method: SAA_411_Pac.M<br>timestamp: 2021-08-13 10:48:34<br>detector: G1315C<br>pump: G7116B<br>start_time: 2021-08-13 10:49:08<br>end_time: 2021-08-13 10:53:08<br>runtime: 239.7000000000036",
          "index: 86<br>name: 210813_Pac--004<br>path: D:/ExtractedSignals\\210813_Pac 2021-08-13 10-37-27\\210813_Pac--004.D<br>batch: 210813_Pac 2021-08-13 10-37-27<br>batch_position: 4<br>idle_time: 279.0<br>sample: Blank<br>method: SAA_411_Pac.M<br>timestamp: 2021-08-13 10:53:13<br>detector: G1315C<br>pump: G7110B<br>start_time: 2021-08-13 10:53:47<br>end_time: 2021-08-13 10:57:47<br>runtime: 239.7000000000036",
          "index: 87<br>name: 210813_Pac--005<br>path: D:/ExtractedSignals\\210813_Pac 2021-08-13 10-37-27\\210813_Pac--005.D<br>batch: 210813_Pac 2021-08-13 10-37-27<br>batch_position: 5<br>idle_time: 279.0<br>sample: NaCl 0,9%<br>method: SAA_411_Pac.M<br>timestamp: 2021-08-13 10:57:52<br>detector: G7110B<br>pump: G7110B<br>start_time: 2021-08-13 10:58:26<br>end_time: 2021-08-13 11:02:27<br>runtime: 239.7000000000036",
          "index: 88<br>name: 210813_Pac--006<br>path: D:/ExtractedSignals\\210813_Pac 2021-08-13 10-37-27\\210813_Pac--006.D<br>batch: 210813_Pac 2021-08-13 10-37-27<br>batch_position: 6<br>idle_time: 279.0<br>sample: Blank<br>method: SAA_411_Pac.M<br>timestamp: 2021-08-13 11:02:31<br>detector: G1315C<br>pump: G7110B<br>start_time: 2021-08-13 11:03:05<br>end_time: 2021-08-13 11:07:06<br>runtime: 239.7000000000036",
          "index: 89<br>name: 210813_Pac--007<br>path: D:/ExtractedSignals\\210813_Pac 2021-08-13 10-37-27\\210813_Pac--007.D<br>batch: 210813_Pac 2021-08-13 10-37-27<br>batch_position: 7<br>idle_time: 279.0<br>sample: 0.025 mg/ml<br>method: SAA_411_Pac.M<br>timestamp: 2021-08-13 11:07:10<br>detector: G1315C<br>pump: G7116B<br>start_time: 2021-08-13 11:07:44<br>end_time: 2021-08-13 11:11:45<br>runtime: 239.7000000000036",
          "index: 90<br>name: 210813_Pac--008<br>path: D:/ExtractedSignals\\210813_Pac 2021-08-13 10-37-27\\210813_Pac--008.D<br>batch: 210813_Pac 2021-08-13 10-37-27<br>batch_position: 8<br>idle_time: 279.0<br>sample: Blank<br>method: SAA_411_Pac.M<br>timestamp: 2021-08-13 11:11:49<br>detector: G1315C<br>pump: G7110B<br>start_time: 2021-08-13 11:12:23<br>end_time: 2021-08-13 11:16:23<br>runtime: 239.7000000000036",
          "index: 91<br>name: 210813_Pac--009<br>path: D:/ExtractedSignals\\210813_Pac 2021-08-13 10-37-27\\210813_Pac--009.D<br>batch: 210813_Pac 2021-08-13 10-37-27<br>batch_position: 9<br>idle_time: 279.0<br>sample: 210812/004 :20<br>method: SAA_411_Pac.M<br>timestamp: 2021-08-13 11:16:28<br>detector: G1315C<br>pump: G7110B<br>start_time: 2021-08-13 11:17:02<br>end_time: 2021-08-13 11:21:03<br>runtime: 239.7000000000036",
          "index: 92<br>name: 210813_Pac--010<br>path: D:/ExtractedSignals\\210813_Pac 2021-08-13 10-37-27\\210813_Pac--010.D<br>batch: 210813_Pac 2021-08-13 10-37-27<br>batch_position: 10<br>idle_time: 280.0<br>sample: 210812/004 :20<br>method: SAA_411_Pac.M<br>timestamp: 2021-08-13 11:21:08<br>detector: G1315C<br>pump: G7110B<br>start_time: 2021-08-13 11:21:41<br>end_time: 2021-08-13 11:25:42<br>runtime: 239.7000000000036",
          "index: 93<br>name: 210813_Pac--011<br>path: D:/ExtractedSignals\\210813_Pac 2021-08-13 10-37-27\\210813_Pac--011.D<br>batch: 210813_Pac 2021-08-13 10-37-27<br>batch_position: 11<br>idle_time: 278.0<br>sample: 210812/004 :20<br>method: SAA_411_Pac.M<br>timestamp: 2021-08-13 11:25:46<br>detector: G1315C<br>pump: G7110B<br>start_time: 2021-08-13 11:26:21<br>end_time: 2021-08-13 11:30:21<br>runtime: 239.7000000000036",
          "index: 94<br>name: 210813_Pac--012<br>path: D:/ExtractedSignals\\210813_Pac 2021-08-13 10-37-27\\210813_Pac--012.D<br>batch: 210813_Pac 2021-08-13 10-37-27<br>batch_position: 12<br>idle_time: 280.0<br>sample: Blank<br>method: SAA_411_Pac.M<br>timestamp: 2021-08-13 11:30:26<br>detector: G1315C<br>pump: G7110B<br>start_time: 2021-08-13 11:30:59<br>end_time: 2021-08-13 11:34:59<br>runtime: 239.7000000000036",
          "index: 95<br>name: 210813_Pac--013<br>path: D:/ExtractedSignals\\210813_Pac 2021-08-13 10-37-27\\210813_Pac--013.D<br>batch: 210813_Pac 2021-08-13 10-37-27<br>batch_position: 13<br>idle_time: 278.0<br>sample: 0.025 mg/ml<br>method: SAA_411_Pac.M<br>timestamp: 2021-08-13 11:35:04<br>detector: G1315C<br>pump: G7110B<br>start_time: 2021-08-13 11:35:38<br>end_time: 2021-08-13 11:39:38<br>runtime: 239.7000000000036",
          "index: 96<br>name: 210813_Pac--014<br>path: D:/ExtractedSignals\\210813_Pac 2021-08-13 10-37-27\\210813_Pac--014.D<br>batch: 210813_Pac 2021-08-13 10-37-27<br>batch_position: 14<br>idle_time: 279.0<br>sample: Blank<br>method: SAA_411_Pac.M<br>timestamp: 2021-08-13 11:39:43<br>detector: G1315C<br>pump: G7110B<br>start_time: 2021-08-13 11:40:16<br>end_time: 2021-08-13 11:44:17<br>runtime: 239.7000000000036"
         ],
         "type": "scatter",
         "x": [
          0,
          1,
          2,
          3,
          4,
          5,
          6,
          7,
          8,
          9,
          10,
          11,
          12,
          13,
          14,
          15,
          16,
          17,
          18,
          19,
          20,
          21
         ],
         "y": [
          1,
          1,
          1,
          1,
          1,
          1,
          1,
          1,
          1,
          1,
          1,
          1,
          1,
          1,
          1,
          1,
          1,
          1,
          1,
          1,
          1,
          1
         ]
        },
        {
         "hovertemplate": "<b>%{text}</b><br><b>x: </b>%{x}<br><b>residual_mean: </b>%{y}<extra></extra>",
         "mode": "lines",
         "name": "residual_mean",
         "text": [
          "index: 17<br>name: 210812_Pac--005<br>path: D:/ExtractedSignals\\210812_Pac 2021-08-12 10-30-07\\210812_Pac--005.D<br>batch: 210812_Pac 2021-08-12 10-30-07<br>batch_position: 5<br>idle_time: 279.0<br>sample: NaCl 0,9%<br>method: SAA_411_Pac.M<br>timestamp: 2021-08-12 10:50:23<br>detector: G1315C<br>pump: G7110B<br>start_time: 2021-08-12 10:50:57<br>end_time: 2021-08-12 10:54:57<br>runtime: 239.7000000000036",
          "index: 18<br>name: 210812_Pac--006<br>path: D:/ExtractedSignals\\210812_Pac 2021-08-12 10-30-07\\210812_Pac--006.D<br>batch: 210812_Pac 2021-08-12 10-30-07<br>batch_position: 6<br>idle_time: 279.0<br>sample: Blank<br>method: SAA_411_Pac.M<br>timestamp: 2021-08-12 10:55:02<br>detector: G1315C<br>pump: G7110B<br>start_time: 2021-08-12 10:55:36<br>end_time: 2021-08-12 10:59:36<br>runtime: 239.7000000000036",
          "index: 19<br>name: 210812_Pac--007<br>path: D:/ExtractedSignals\\210812_Pac 2021-08-12 10-30-07\\210812_Pac--007.D<br>batch: 210812_Pac 2021-08-12 10-30-07<br>batch_position: 7<br>idle_time: 279.0<br>sample: 0.025 mg/ml<br>method: SAA_411_Pac.M<br>timestamp: 2021-08-12 10:59:41<br>detector: G1315C<br>pump: G7110B<br>start_time: 2021-08-12 11:00:15<br>end_time: 2021-08-12 11:04:15<br>runtime: 239.7000000000036",
          "index: 20<br>name: 210812_Pac--008<br>path: D:/ExtractedSignals\\210812_Pac 2021-08-12 10-30-07\\210812_Pac--008.D<br>batch: 210812_Pac 2021-08-12 10-30-07<br>batch_position: 8<br>idle_time: 279.0<br>sample: Blank<br>method: SAA_411_Pac.M<br>timestamp: 2021-08-12 11:04:20<br>detector: G1315C<br>pump: G7110B<br>start_time: 2021-08-12 11:04:54<br>end_time: 2021-08-12 11:08:54<br>runtime: 239.7000000000036",
          "index: 21<br>name: 210812_Pac--009<br>path: D:/ExtractedSignals\\210812_Pac 2021-08-12 10-30-07\\210812_Pac--009.D<br>batch: 210812_Pac 2021-08-12 10-30-07<br>batch_position: 9<br>idle_time: 279.0<br>sample: 210806/036 :10<br>method: SAA_411_Pac.M<br>timestamp: 2021-08-12 11:08:59<br>detector: G1315C<br>pump: G7110B<br>start_time: 2021-08-12 11:09:32<br>end_time: 2021-08-12 11:13:32<br>runtime: 239.7000000000036",
          "index: 22<br>name: 210812_Pac--010<br>path: D:/ExtractedSignals\\210812_Pac 2021-08-12 10-30-07\\210812_Pac--010.D<br>batch: 210812_Pac 2021-08-12 10-30-07<br>batch_position: 10<br>idle_time: 278.0<br>sample: 210806/036 :10<br>method: SAA_411_Pac.M<br>timestamp: 2021-08-12 11:13:37<br>detector: G7110B<br>pump: G7110B<br>start_time: 2021-08-12 11:14:11<br>end_time: 2021-08-12 11:18:11<br>runtime: 239.7000000000036",
          "index: 23<br>name: 210812_Pac--011<br>path: D:/ExtractedSignals\\210812_Pac 2021-08-12 10-30-07\\210812_Pac--011.D<br>batch: 210812_Pac 2021-08-12 10-30-07<br>batch_position: 11<br>idle_time: 279.0<br>sample: 210806/036 :10<br>method: SAA_411_Pac.M<br>timestamp: 2021-08-12 11:18:16<br>detector: G7110B<br>pump: G7110B<br>start_time: 2021-08-12 11:18:50<br>end_time: 2021-08-12 11:22:50<br>runtime: 239.7000000000036",
          "index: 24<br>name: 210812_Pac--012<br>path: D:/ExtractedSignals\\210812_Pac 2021-08-12 10-30-07\\210812_Pac--012.D<br>batch: 210812_Pac 2021-08-12 10-30-07<br>batch_position: 12<br>idle_time: 279.0<br>sample: Blank<br>method: SAA_411_Pac.M<br>timestamp: 2021-08-12 11:22:55<br>detector: G1315C<br>pump: G7110B<br>start_time: 2021-08-12 11:23:29<br>end_time: 2021-08-12 11:27:29<br>runtime: 239.7000000000036",
          "index: 25<br>name: 210812_Pac--013<br>path: D:/ExtractedSignals\\210812_Pac 2021-08-12 10-30-07\\210812_Pac--013.D<br>batch: 210812_Pac 2021-08-12 10-30-07<br>batch_position: 13<br>idle_time: 279.0<br>sample: 0.025 mg/ml<br>method: SAA_411_Pac.M<br>timestamp: 2021-08-12 11:27:34<br>detector: G1315C<br>pump: G7110B<br>start_time: 2021-08-12 11:28:08<br>end_time: 2021-08-12 11:32:08<br>runtime: 239.7000000000036",
          "index: 26<br>name: 210812_Pac--014<br>path: D:/ExtractedSignals\\210812_Pac 2021-08-12 10-30-07\\210812_Pac--014.D<br>batch: 210812_Pac 2021-08-12 10-30-07<br>batch_position: 14<br>idle_time: 279.0<br>sample: Blank<br>method: SAA_411_Pac.M<br>timestamp: 2021-08-12 11:32:13<br>detector: G7110B<br>pump: G7110B<br>start_time: 2021-08-12 11:32:46<br>end_time: 2021-08-12 11:36:47<br>runtime: 239.7000000000036",
          "index: 85<br>name: 210813_Pac--003<br>path: D:/ExtractedSignals\\210813_Pac 2021-08-13 10-37-27\\210813_Pac--003.D<br>batch: 210813_Pac 2021-08-13 10-37-27<br>batch_position: 3<br>idle_time: 278.0<br>sample: Blank<br>method: SAA_411_Pac.M<br>timestamp: 2021-08-13 10:48:34<br>detector: G1315C<br>pump: G7116B<br>start_time: 2021-08-13 10:49:08<br>end_time: 2021-08-13 10:53:08<br>runtime: 239.7000000000036",
          "index: 86<br>name: 210813_Pac--004<br>path: D:/ExtractedSignals\\210813_Pac 2021-08-13 10-37-27\\210813_Pac--004.D<br>batch: 210813_Pac 2021-08-13 10-37-27<br>batch_position: 4<br>idle_time: 279.0<br>sample: Blank<br>method: SAA_411_Pac.M<br>timestamp: 2021-08-13 10:53:13<br>detector: G1315C<br>pump: G7110B<br>start_time: 2021-08-13 10:53:47<br>end_time: 2021-08-13 10:57:47<br>runtime: 239.7000000000036",
          "index: 87<br>name: 210813_Pac--005<br>path: D:/ExtractedSignals\\210813_Pac 2021-08-13 10-37-27\\210813_Pac--005.D<br>batch: 210813_Pac 2021-08-13 10-37-27<br>batch_position: 5<br>idle_time: 279.0<br>sample: NaCl 0,9%<br>method: SAA_411_Pac.M<br>timestamp: 2021-08-13 10:57:52<br>detector: G7110B<br>pump: G7110B<br>start_time: 2021-08-13 10:58:26<br>end_time: 2021-08-13 11:02:27<br>runtime: 239.7000000000036",
          "index: 88<br>name: 210813_Pac--006<br>path: D:/ExtractedSignals\\210813_Pac 2021-08-13 10-37-27\\210813_Pac--006.D<br>batch: 210813_Pac 2021-08-13 10-37-27<br>batch_position: 6<br>idle_time: 279.0<br>sample: Blank<br>method: SAA_411_Pac.M<br>timestamp: 2021-08-13 11:02:31<br>detector: G1315C<br>pump: G7110B<br>start_time: 2021-08-13 11:03:05<br>end_time: 2021-08-13 11:07:06<br>runtime: 239.7000000000036",
          "index: 89<br>name: 210813_Pac--007<br>path: D:/ExtractedSignals\\210813_Pac 2021-08-13 10-37-27\\210813_Pac--007.D<br>batch: 210813_Pac 2021-08-13 10-37-27<br>batch_position: 7<br>idle_time: 279.0<br>sample: 0.025 mg/ml<br>method: SAA_411_Pac.M<br>timestamp: 2021-08-13 11:07:10<br>detector: G1315C<br>pump: G7116B<br>start_time: 2021-08-13 11:07:44<br>end_time: 2021-08-13 11:11:45<br>runtime: 239.7000000000036",
          "index: 90<br>name: 210813_Pac--008<br>path: D:/ExtractedSignals\\210813_Pac 2021-08-13 10-37-27\\210813_Pac--008.D<br>batch: 210813_Pac 2021-08-13 10-37-27<br>batch_position: 8<br>idle_time: 279.0<br>sample: Blank<br>method: SAA_411_Pac.M<br>timestamp: 2021-08-13 11:11:49<br>detector: G1315C<br>pump: G7110B<br>start_time: 2021-08-13 11:12:23<br>end_time: 2021-08-13 11:16:23<br>runtime: 239.7000000000036",
          "index: 91<br>name: 210813_Pac--009<br>path: D:/ExtractedSignals\\210813_Pac 2021-08-13 10-37-27\\210813_Pac--009.D<br>batch: 210813_Pac 2021-08-13 10-37-27<br>batch_position: 9<br>idle_time: 279.0<br>sample: 210812/004 :20<br>method: SAA_411_Pac.M<br>timestamp: 2021-08-13 11:16:28<br>detector: G1315C<br>pump: G7110B<br>start_time: 2021-08-13 11:17:02<br>end_time: 2021-08-13 11:21:03<br>runtime: 239.7000000000036",
          "index: 92<br>name: 210813_Pac--010<br>path: D:/ExtractedSignals\\210813_Pac 2021-08-13 10-37-27\\210813_Pac--010.D<br>batch: 210813_Pac 2021-08-13 10-37-27<br>batch_position: 10<br>idle_time: 280.0<br>sample: 210812/004 :20<br>method: SAA_411_Pac.M<br>timestamp: 2021-08-13 11:21:08<br>detector: G1315C<br>pump: G7110B<br>start_time: 2021-08-13 11:21:41<br>end_time: 2021-08-13 11:25:42<br>runtime: 239.7000000000036",
          "index: 93<br>name: 210813_Pac--011<br>path: D:/ExtractedSignals\\210813_Pac 2021-08-13 10-37-27\\210813_Pac--011.D<br>batch: 210813_Pac 2021-08-13 10-37-27<br>batch_position: 11<br>idle_time: 278.0<br>sample: 210812/004 :20<br>method: SAA_411_Pac.M<br>timestamp: 2021-08-13 11:25:46<br>detector: G1315C<br>pump: G7110B<br>start_time: 2021-08-13 11:26:21<br>end_time: 2021-08-13 11:30:21<br>runtime: 239.7000000000036",
          "index: 94<br>name: 210813_Pac--012<br>path: D:/ExtractedSignals\\210813_Pac 2021-08-13 10-37-27\\210813_Pac--012.D<br>batch: 210813_Pac 2021-08-13 10-37-27<br>batch_position: 12<br>idle_time: 280.0<br>sample: Blank<br>method: SAA_411_Pac.M<br>timestamp: 2021-08-13 11:30:26<br>detector: G1315C<br>pump: G7110B<br>start_time: 2021-08-13 11:30:59<br>end_time: 2021-08-13 11:34:59<br>runtime: 239.7000000000036",
          "index: 95<br>name: 210813_Pac--013<br>path: D:/ExtractedSignals\\210813_Pac 2021-08-13 10-37-27\\210813_Pac--013.D<br>batch: 210813_Pac 2021-08-13 10-37-27<br>batch_position: 13<br>idle_time: 278.0<br>sample: 0.025 mg/ml<br>method: SAA_411_Pac.M<br>timestamp: 2021-08-13 11:35:04<br>detector: G1315C<br>pump: G7110B<br>start_time: 2021-08-13 11:35:38<br>end_time: 2021-08-13 11:39:38<br>runtime: 239.7000000000036",
          "index: 96<br>name: 210813_Pac--014<br>path: D:/ExtractedSignals\\210813_Pac 2021-08-13 10-37-27\\210813_Pac--014.D<br>batch: 210813_Pac 2021-08-13 10-37-27<br>batch_position: 14<br>idle_time: 279.0<br>sample: Blank<br>method: SAA_411_Pac.M<br>timestamp: 2021-08-13 11:39:43<br>detector: G1315C<br>pump: G7110B<br>start_time: 2021-08-13 11:40:16<br>end_time: 2021-08-13 11:44:17<br>runtime: 239.7000000000036"
         ],
         "type": "scatter",
         "x": [
          0,
          1,
          2,
          3,
          4,
          5,
          6,
          7,
          8,
          9,
          10,
          11,
          12,
          13,
          14,
          15,
          16,
          17,
          18,
          19,
          20,
          21
         ],
         "y": [
          0.0096998615274724,
          0.0098065679177011,
          0.0090102918053357,
          0.0119368248274576,
          0.012384061176221,
          0.0239087953256293,
          0.0089266866664855,
          0.0065429432637567,
          0.0064488507201952,
          0.0065990608631726,
          0.0107808078244698,
          0.0080554928419134,
          0.0090115687526003,
          0.0060262122518015,
          0.0321726679286861,
          0.0055760646064348,
          0.0026654337136055,
          0.0085252248632677,
          0.0029029074429218,
          0.0086163578468264,
          0.0061422743013794,
          0.0119497170439024
         ]
        },
        {
         "hovertemplate": "<b>%{text}</b><br><b>x: </b>%{x}<br><b>residual_std: </b>%{y}<extra></extra>",
         "mode": "lines",
         "name": "residual_std",
         "text": [
          "index: 17<br>name: 210812_Pac--005<br>path: D:/ExtractedSignals\\210812_Pac 2021-08-12 10-30-07\\210812_Pac--005.D<br>batch: 210812_Pac 2021-08-12 10-30-07<br>batch_position: 5<br>idle_time: 279.0<br>sample: NaCl 0,9%<br>method: SAA_411_Pac.M<br>timestamp: 2021-08-12 10:50:23<br>detector: G1315C<br>pump: G7110B<br>start_time: 2021-08-12 10:50:57<br>end_time: 2021-08-12 10:54:57<br>runtime: 239.7000000000036",
          "index: 18<br>name: 210812_Pac--006<br>path: D:/ExtractedSignals\\210812_Pac 2021-08-12 10-30-07\\210812_Pac--006.D<br>batch: 210812_Pac 2021-08-12 10-30-07<br>batch_position: 6<br>idle_time: 279.0<br>sample: Blank<br>method: SAA_411_Pac.M<br>timestamp: 2021-08-12 10:55:02<br>detector: G1315C<br>pump: G7110B<br>start_time: 2021-08-12 10:55:36<br>end_time: 2021-08-12 10:59:36<br>runtime: 239.7000000000036",
          "index: 19<br>name: 210812_Pac--007<br>path: D:/ExtractedSignals\\210812_Pac 2021-08-12 10-30-07\\210812_Pac--007.D<br>batch: 210812_Pac 2021-08-12 10-30-07<br>batch_position: 7<br>idle_time: 279.0<br>sample: 0.025 mg/ml<br>method: SAA_411_Pac.M<br>timestamp: 2021-08-12 10:59:41<br>detector: G1315C<br>pump: G7110B<br>start_time: 2021-08-12 11:00:15<br>end_time: 2021-08-12 11:04:15<br>runtime: 239.7000000000036",
          "index: 20<br>name: 210812_Pac--008<br>path: D:/ExtractedSignals\\210812_Pac 2021-08-12 10-30-07\\210812_Pac--008.D<br>batch: 210812_Pac 2021-08-12 10-30-07<br>batch_position: 8<br>idle_time: 279.0<br>sample: Blank<br>method: SAA_411_Pac.M<br>timestamp: 2021-08-12 11:04:20<br>detector: G1315C<br>pump: G7110B<br>start_time: 2021-08-12 11:04:54<br>end_time: 2021-08-12 11:08:54<br>runtime: 239.7000000000036",
          "index: 21<br>name: 210812_Pac--009<br>path: D:/ExtractedSignals\\210812_Pac 2021-08-12 10-30-07\\210812_Pac--009.D<br>batch: 210812_Pac 2021-08-12 10-30-07<br>batch_position: 9<br>idle_time: 279.0<br>sample: 210806/036 :10<br>method: SAA_411_Pac.M<br>timestamp: 2021-08-12 11:08:59<br>detector: G1315C<br>pump: G7110B<br>start_time: 2021-08-12 11:09:32<br>end_time: 2021-08-12 11:13:32<br>runtime: 239.7000000000036",
          "index: 22<br>name: 210812_Pac--010<br>path: D:/ExtractedSignals\\210812_Pac 2021-08-12 10-30-07\\210812_Pac--010.D<br>batch: 210812_Pac 2021-08-12 10-30-07<br>batch_position: 10<br>idle_time: 278.0<br>sample: 210806/036 :10<br>method: SAA_411_Pac.M<br>timestamp: 2021-08-12 11:13:37<br>detector: G7110B<br>pump: G7110B<br>start_time: 2021-08-12 11:14:11<br>end_time: 2021-08-12 11:18:11<br>runtime: 239.7000000000036",
          "index: 23<br>name: 210812_Pac--011<br>path: D:/ExtractedSignals\\210812_Pac 2021-08-12 10-30-07\\210812_Pac--011.D<br>batch: 210812_Pac 2021-08-12 10-30-07<br>batch_position: 11<br>idle_time: 279.0<br>sample: 210806/036 :10<br>method: SAA_411_Pac.M<br>timestamp: 2021-08-12 11:18:16<br>detector: G7110B<br>pump: G7110B<br>start_time: 2021-08-12 11:18:50<br>end_time: 2021-08-12 11:22:50<br>runtime: 239.7000000000036",
          "index: 24<br>name: 210812_Pac--012<br>path: D:/ExtractedSignals\\210812_Pac 2021-08-12 10-30-07\\210812_Pac--012.D<br>batch: 210812_Pac 2021-08-12 10-30-07<br>batch_position: 12<br>idle_time: 279.0<br>sample: Blank<br>method: SAA_411_Pac.M<br>timestamp: 2021-08-12 11:22:55<br>detector: G1315C<br>pump: G7110B<br>start_time: 2021-08-12 11:23:29<br>end_time: 2021-08-12 11:27:29<br>runtime: 239.7000000000036",
          "index: 25<br>name: 210812_Pac--013<br>path: D:/ExtractedSignals\\210812_Pac 2021-08-12 10-30-07\\210812_Pac--013.D<br>batch: 210812_Pac 2021-08-12 10-30-07<br>batch_position: 13<br>idle_time: 279.0<br>sample: 0.025 mg/ml<br>method: SAA_411_Pac.M<br>timestamp: 2021-08-12 11:27:34<br>detector: G1315C<br>pump: G7110B<br>start_time: 2021-08-12 11:28:08<br>end_time: 2021-08-12 11:32:08<br>runtime: 239.7000000000036",
          "index: 26<br>name: 210812_Pac--014<br>path: D:/ExtractedSignals\\210812_Pac 2021-08-12 10-30-07\\210812_Pac--014.D<br>batch: 210812_Pac 2021-08-12 10-30-07<br>batch_position: 14<br>idle_time: 279.0<br>sample: Blank<br>method: SAA_411_Pac.M<br>timestamp: 2021-08-12 11:32:13<br>detector: G7110B<br>pump: G7110B<br>start_time: 2021-08-12 11:32:46<br>end_time: 2021-08-12 11:36:47<br>runtime: 239.7000000000036",
          "index: 85<br>name: 210813_Pac--003<br>path: D:/ExtractedSignals\\210813_Pac 2021-08-13 10-37-27\\210813_Pac--003.D<br>batch: 210813_Pac 2021-08-13 10-37-27<br>batch_position: 3<br>idle_time: 278.0<br>sample: Blank<br>method: SAA_411_Pac.M<br>timestamp: 2021-08-13 10:48:34<br>detector: G1315C<br>pump: G7116B<br>start_time: 2021-08-13 10:49:08<br>end_time: 2021-08-13 10:53:08<br>runtime: 239.7000000000036",
          "index: 86<br>name: 210813_Pac--004<br>path: D:/ExtractedSignals\\210813_Pac 2021-08-13 10-37-27\\210813_Pac--004.D<br>batch: 210813_Pac 2021-08-13 10-37-27<br>batch_position: 4<br>idle_time: 279.0<br>sample: Blank<br>method: SAA_411_Pac.M<br>timestamp: 2021-08-13 10:53:13<br>detector: G1315C<br>pump: G7110B<br>start_time: 2021-08-13 10:53:47<br>end_time: 2021-08-13 10:57:47<br>runtime: 239.7000000000036",
          "index: 87<br>name: 210813_Pac--005<br>path: D:/ExtractedSignals\\210813_Pac 2021-08-13 10-37-27\\210813_Pac--005.D<br>batch: 210813_Pac 2021-08-13 10-37-27<br>batch_position: 5<br>idle_time: 279.0<br>sample: NaCl 0,9%<br>method: SAA_411_Pac.M<br>timestamp: 2021-08-13 10:57:52<br>detector: G7110B<br>pump: G7110B<br>start_time: 2021-08-13 10:58:26<br>end_time: 2021-08-13 11:02:27<br>runtime: 239.7000000000036",
          "index: 88<br>name: 210813_Pac--006<br>path: D:/ExtractedSignals\\210813_Pac 2021-08-13 10-37-27\\210813_Pac--006.D<br>batch: 210813_Pac 2021-08-13 10-37-27<br>batch_position: 6<br>idle_time: 279.0<br>sample: Blank<br>method: SAA_411_Pac.M<br>timestamp: 2021-08-13 11:02:31<br>detector: G1315C<br>pump: G7110B<br>start_time: 2021-08-13 11:03:05<br>end_time: 2021-08-13 11:07:06<br>runtime: 239.7000000000036",
          "index: 89<br>name: 210813_Pac--007<br>path: D:/ExtractedSignals\\210813_Pac 2021-08-13 10-37-27\\210813_Pac--007.D<br>batch: 210813_Pac 2021-08-13 10-37-27<br>batch_position: 7<br>idle_time: 279.0<br>sample: 0.025 mg/ml<br>method: SAA_411_Pac.M<br>timestamp: 2021-08-13 11:07:10<br>detector: G1315C<br>pump: G7116B<br>start_time: 2021-08-13 11:07:44<br>end_time: 2021-08-13 11:11:45<br>runtime: 239.7000000000036",
          "index: 90<br>name: 210813_Pac--008<br>path: D:/ExtractedSignals\\210813_Pac 2021-08-13 10-37-27\\210813_Pac--008.D<br>batch: 210813_Pac 2021-08-13 10-37-27<br>batch_position: 8<br>idle_time: 279.0<br>sample: Blank<br>method: SAA_411_Pac.M<br>timestamp: 2021-08-13 11:11:49<br>detector: G1315C<br>pump: G7110B<br>start_time: 2021-08-13 11:12:23<br>end_time: 2021-08-13 11:16:23<br>runtime: 239.7000000000036",
          "index: 91<br>name: 210813_Pac--009<br>path: D:/ExtractedSignals\\210813_Pac 2021-08-13 10-37-27\\210813_Pac--009.D<br>batch: 210813_Pac 2021-08-13 10-37-27<br>batch_position: 9<br>idle_time: 279.0<br>sample: 210812/004 :20<br>method: SAA_411_Pac.M<br>timestamp: 2021-08-13 11:16:28<br>detector: G1315C<br>pump: G7110B<br>start_time: 2021-08-13 11:17:02<br>end_time: 2021-08-13 11:21:03<br>runtime: 239.7000000000036",
          "index: 92<br>name: 210813_Pac--010<br>path: D:/ExtractedSignals\\210813_Pac 2021-08-13 10-37-27\\210813_Pac--010.D<br>batch: 210813_Pac 2021-08-13 10-37-27<br>batch_position: 10<br>idle_time: 280.0<br>sample: 210812/004 :20<br>method: SAA_411_Pac.M<br>timestamp: 2021-08-13 11:21:08<br>detector: G1315C<br>pump: G7110B<br>start_time: 2021-08-13 11:21:41<br>end_time: 2021-08-13 11:25:42<br>runtime: 239.7000000000036",
          "index: 93<br>name: 210813_Pac--011<br>path: D:/ExtractedSignals\\210813_Pac 2021-08-13 10-37-27\\210813_Pac--011.D<br>batch: 210813_Pac 2021-08-13 10-37-27<br>batch_position: 11<br>idle_time: 278.0<br>sample: 210812/004 :20<br>method: SAA_411_Pac.M<br>timestamp: 2021-08-13 11:25:46<br>detector: G1315C<br>pump: G7110B<br>start_time: 2021-08-13 11:26:21<br>end_time: 2021-08-13 11:30:21<br>runtime: 239.7000000000036",
          "index: 94<br>name: 210813_Pac--012<br>path: D:/ExtractedSignals\\210813_Pac 2021-08-13 10-37-27\\210813_Pac--012.D<br>batch: 210813_Pac 2021-08-13 10-37-27<br>batch_position: 12<br>idle_time: 280.0<br>sample: Blank<br>method: SAA_411_Pac.M<br>timestamp: 2021-08-13 11:30:26<br>detector: G1315C<br>pump: G7110B<br>start_time: 2021-08-13 11:30:59<br>end_time: 2021-08-13 11:34:59<br>runtime: 239.7000000000036",
          "index: 95<br>name: 210813_Pac--013<br>path: D:/ExtractedSignals\\210813_Pac 2021-08-13 10-37-27\\210813_Pac--013.D<br>batch: 210813_Pac 2021-08-13 10-37-27<br>batch_position: 13<br>idle_time: 278.0<br>sample: 0.025 mg/ml<br>method: SAA_411_Pac.M<br>timestamp: 2021-08-13 11:35:04<br>detector: G1315C<br>pump: G7110B<br>start_time: 2021-08-13 11:35:38<br>end_time: 2021-08-13 11:39:38<br>runtime: 239.7000000000036",
          "index: 96<br>name: 210813_Pac--014<br>path: D:/ExtractedSignals\\210813_Pac 2021-08-13 10-37-27\\210813_Pac--014.D<br>batch: 210813_Pac 2021-08-13 10-37-27<br>batch_position: 14<br>idle_time: 279.0<br>sample: Blank<br>method: SAA_411_Pac.M<br>timestamp: 2021-08-13 11:39:43<br>detector: G1315C<br>pump: G7110B<br>start_time: 2021-08-13 11:40:16<br>end_time: 2021-08-13 11:44:17<br>runtime: 239.7000000000036"
         ],
         "type": "scatter",
         "x": [
          0,
          1,
          2,
          3,
          4,
          5,
          6,
          7,
          8,
          9,
          10,
          11,
          12,
          13,
          14,
          15,
          16,
          17,
          18,
          19,
          20,
          21
         ],
         "y": [
          0.0017205031686378,
          0.0035823630206617,
          0.0025823271911531,
          0.0054383560363168,
          0.0024977897830568,
          0.0053160367920734,
          0.0020935029892374,
          0.0031160679680108,
          0.0014961497358927,
          0.0033045409580216,
          0.0033586354416818,
          0.0018125655423547,
          0.0017599876146744,
          0.0008411838209332,
          0.0043210690531386,
          0.0018182146840894,
          0,
          0.0022584406780566,
          0.0014821098792187,
          0.0017874972653496,
          0.0018206585404514,
          0.0028697475351032
         ]
        },
        {
         "hovertemplate": "<b>%{text}</b><br><b>x: </b>%{x}<br><b>residual_sum: </b>%{y}<extra></extra>",
         "mode": "lines",
         "name": "residual_sum",
         "text": [
          "index: 17<br>name: 210812_Pac--005<br>path: D:/ExtractedSignals\\210812_Pac 2021-08-12 10-30-07\\210812_Pac--005.D<br>batch: 210812_Pac 2021-08-12 10-30-07<br>batch_position: 5<br>idle_time: 279.0<br>sample: NaCl 0,9%<br>method: SAA_411_Pac.M<br>timestamp: 2021-08-12 10:50:23<br>detector: G1315C<br>pump: G7110B<br>start_time: 2021-08-12 10:50:57<br>end_time: 2021-08-12 10:54:57<br>runtime: 239.7000000000036",
          "index: 18<br>name: 210812_Pac--006<br>path: D:/ExtractedSignals\\210812_Pac 2021-08-12 10-30-07\\210812_Pac--006.D<br>batch: 210812_Pac 2021-08-12 10-30-07<br>batch_position: 6<br>idle_time: 279.0<br>sample: Blank<br>method: SAA_411_Pac.M<br>timestamp: 2021-08-12 10:55:02<br>detector: G1315C<br>pump: G7110B<br>start_time: 2021-08-12 10:55:36<br>end_time: 2021-08-12 10:59:36<br>runtime: 239.7000000000036",
          "index: 19<br>name: 210812_Pac--007<br>path: D:/ExtractedSignals\\210812_Pac 2021-08-12 10-30-07\\210812_Pac--007.D<br>batch: 210812_Pac 2021-08-12 10-30-07<br>batch_position: 7<br>idle_time: 279.0<br>sample: 0.025 mg/ml<br>method: SAA_411_Pac.M<br>timestamp: 2021-08-12 10:59:41<br>detector: G1315C<br>pump: G7110B<br>start_time: 2021-08-12 11:00:15<br>end_time: 2021-08-12 11:04:15<br>runtime: 239.7000000000036",
          "index: 20<br>name: 210812_Pac--008<br>path: D:/ExtractedSignals\\210812_Pac 2021-08-12 10-30-07\\210812_Pac--008.D<br>batch: 210812_Pac 2021-08-12 10-30-07<br>batch_position: 8<br>idle_time: 279.0<br>sample: Blank<br>method: SAA_411_Pac.M<br>timestamp: 2021-08-12 11:04:20<br>detector: G1315C<br>pump: G7110B<br>start_time: 2021-08-12 11:04:54<br>end_time: 2021-08-12 11:08:54<br>runtime: 239.7000000000036",
          "index: 21<br>name: 210812_Pac--009<br>path: D:/ExtractedSignals\\210812_Pac 2021-08-12 10-30-07\\210812_Pac--009.D<br>batch: 210812_Pac 2021-08-12 10-30-07<br>batch_position: 9<br>idle_time: 279.0<br>sample: 210806/036 :10<br>method: SAA_411_Pac.M<br>timestamp: 2021-08-12 11:08:59<br>detector: G1315C<br>pump: G7110B<br>start_time: 2021-08-12 11:09:32<br>end_time: 2021-08-12 11:13:32<br>runtime: 239.7000000000036",
          "index: 22<br>name: 210812_Pac--010<br>path: D:/ExtractedSignals\\210812_Pac 2021-08-12 10-30-07\\210812_Pac--010.D<br>batch: 210812_Pac 2021-08-12 10-30-07<br>batch_position: 10<br>idle_time: 278.0<br>sample: 210806/036 :10<br>method: SAA_411_Pac.M<br>timestamp: 2021-08-12 11:13:37<br>detector: G7110B<br>pump: G7110B<br>start_time: 2021-08-12 11:14:11<br>end_time: 2021-08-12 11:18:11<br>runtime: 239.7000000000036",
          "index: 23<br>name: 210812_Pac--011<br>path: D:/ExtractedSignals\\210812_Pac 2021-08-12 10-30-07\\210812_Pac--011.D<br>batch: 210812_Pac 2021-08-12 10-30-07<br>batch_position: 11<br>idle_time: 279.0<br>sample: 210806/036 :10<br>method: SAA_411_Pac.M<br>timestamp: 2021-08-12 11:18:16<br>detector: G7110B<br>pump: G7110B<br>start_time: 2021-08-12 11:18:50<br>end_time: 2021-08-12 11:22:50<br>runtime: 239.7000000000036",
          "index: 24<br>name: 210812_Pac--012<br>path: D:/ExtractedSignals\\210812_Pac 2021-08-12 10-30-07\\210812_Pac--012.D<br>batch: 210812_Pac 2021-08-12 10-30-07<br>batch_position: 12<br>idle_time: 279.0<br>sample: Blank<br>method: SAA_411_Pac.M<br>timestamp: 2021-08-12 11:22:55<br>detector: G1315C<br>pump: G7110B<br>start_time: 2021-08-12 11:23:29<br>end_time: 2021-08-12 11:27:29<br>runtime: 239.7000000000036",
          "index: 25<br>name: 210812_Pac--013<br>path: D:/ExtractedSignals\\210812_Pac 2021-08-12 10-30-07\\210812_Pac--013.D<br>batch: 210812_Pac 2021-08-12 10-30-07<br>batch_position: 13<br>idle_time: 279.0<br>sample: 0.025 mg/ml<br>method: SAA_411_Pac.M<br>timestamp: 2021-08-12 11:27:34<br>detector: G1315C<br>pump: G7110B<br>start_time: 2021-08-12 11:28:08<br>end_time: 2021-08-12 11:32:08<br>runtime: 239.7000000000036",
          "index: 26<br>name: 210812_Pac--014<br>path: D:/ExtractedSignals\\210812_Pac 2021-08-12 10-30-07\\210812_Pac--014.D<br>batch: 210812_Pac 2021-08-12 10-30-07<br>batch_position: 14<br>idle_time: 279.0<br>sample: Blank<br>method: SAA_411_Pac.M<br>timestamp: 2021-08-12 11:32:13<br>detector: G7110B<br>pump: G7110B<br>start_time: 2021-08-12 11:32:46<br>end_time: 2021-08-12 11:36:47<br>runtime: 239.7000000000036",
          "index: 85<br>name: 210813_Pac--003<br>path: D:/ExtractedSignals\\210813_Pac 2021-08-13 10-37-27\\210813_Pac--003.D<br>batch: 210813_Pac 2021-08-13 10-37-27<br>batch_position: 3<br>idle_time: 278.0<br>sample: Blank<br>method: SAA_411_Pac.M<br>timestamp: 2021-08-13 10:48:34<br>detector: G1315C<br>pump: G7116B<br>start_time: 2021-08-13 10:49:08<br>end_time: 2021-08-13 10:53:08<br>runtime: 239.7000000000036",
          "index: 86<br>name: 210813_Pac--004<br>path: D:/ExtractedSignals\\210813_Pac 2021-08-13 10-37-27\\210813_Pac--004.D<br>batch: 210813_Pac 2021-08-13 10-37-27<br>batch_position: 4<br>idle_time: 279.0<br>sample: Blank<br>method: SAA_411_Pac.M<br>timestamp: 2021-08-13 10:53:13<br>detector: G1315C<br>pump: G7110B<br>start_time: 2021-08-13 10:53:47<br>end_time: 2021-08-13 10:57:47<br>runtime: 239.7000000000036",
          "index: 87<br>name: 210813_Pac--005<br>path: D:/ExtractedSignals\\210813_Pac 2021-08-13 10-37-27\\210813_Pac--005.D<br>batch: 210813_Pac 2021-08-13 10-37-27<br>batch_position: 5<br>idle_time: 279.0<br>sample: NaCl 0,9%<br>method: SAA_411_Pac.M<br>timestamp: 2021-08-13 10:57:52<br>detector: G7110B<br>pump: G7110B<br>start_time: 2021-08-13 10:58:26<br>end_time: 2021-08-13 11:02:27<br>runtime: 239.7000000000036",
          "index: 88<br>name: 210813_Pac--006<br>path: D:/ExtractedSignals\\210813_Pac 2021-08-13 10-37-27\\210813_Pac--006.D<br>batch: 210813_Pac 2021-08-13 10-37-27<br>batch_position: 6<br>idle_time: 279.0<br>sample: Blank<br>method: SAA_411_Pac.M<br>timestamp: 2021-08-13 11:02:31<br>detector: G1315C<br>pump: G7110B<br>start_time: 2021-08-13 11:03:05<br>end_time: 2021-08-13 11:07:06<br>runtime: 239.7000000000036",
          "index: 89<br>name: 210813_Pac--007<br>path: D:/ExtractedSignals\\210813_Pac 2021-08-13 10-37-27\\210813_Pac--007.D<br>batch: 210813_Pac 2021-08-13 10-37-27<br>batch_position: 7<br>idle_time: 279.0<br>sample: 0.025 mg/ml<br>method: SAA_411_Pac.M<br>timestamp: 2021-08-13 11:07:10<br>detector: G1315C<br>pump: G7116B<br>start_time: 2021-08-13 11:07:44<br>end_time: 2021-08-13 11:11:45<br>runtime: 239.7000000000036",
          "index: 90<br>name: 210813_Pac--008<br>path: D:/ExtractedSignals\\210813_Pac 2021-08-13 10-37-27\\210813_Pac--008.D<br>batch: 210813_Pac 2021-08-13 10-37-27<br>batch_position: 8<br>idle_time: 279.0<br>sample: Blank<br>method: SAA_411_Pac.M<br>timestamp: 2021-08-13 11:11:49<br>detector: G1315C<br>pump: G7110B<br>start_time: 2021-08-13 11:12:23<br>end_time: 2021-08-13 11:16:23<br>runtime: 239.7000000000036",
          "index: 91<br>name: 210813_Pac--009<br>path: D:/ExtractedSignals\\210813_Pac 2021-08-13 10-37-27\\210813_Pac--009.D<br>batch: 210813_Pac 2021-08-13 10-37-27<br>batch_position: 9<br>idle_time: 279.0<br>sample: 210812/004 :20<br>method: SAA_411_Pac.M<br>timestamp: 2021-08-13 11:16:28<br>detector: G1315C<br>pump: G7110B<br>start_time: 2021-08-13 11:17:02<br>end_time: 2021-08-13 11:21:03<br>runtime: 239.7000000000036",
          "index: 92<br>name: 210813_Pac--010<br>path: D:/ExtractedSignals\\210813_Pac 2021-08-13 10-37-27\\210813_Pac--010.D<br>batch: 210813_Pac 2021-08-13 10-37-27<br>batch_position: 10<br>idle_time: 280.0<br>sample: 210812/004 :20<br>method: SAA_411_Pac.M<br>timestamp: 2021-08-13 11:21:08<br>detector: G1315C<br>pump: G7110B<br>start_time: 2021-08-13 11:21:41<br>end_time: 2021-08-13 11:25:42<br>runtime: 239.7000000000036",
          "index: 93<br>name: 210813_Pac--011<br>path: D:/ExtractedSignals\\210813_Pac 2021-08-13 10-37-27\\210813_Pac--011.D<br>batch: 210813_Pac 2021-08-13 10-37-27<br>batch_position: 11<br>idle_time: 278.0<br>sample: 210812/004 :20<br>method: SAA_411_Pac.M<br>timestamp: 2021-08-13 11:25:46<br>detector: G1315C<br>pump: G7110B<br>start_time: 2021-08-13 11:26:21<br>end_time: 2021-08-13 11:30:21<br>runtime: 239.7000000000036",
          "index: 94<br>name: 210813_Pac--012<br>path: D:/ExtractedSignals\\210813_Pac 2021-08-13 10-37-27\\210813_Pac--012.D<br>batch: 210813_Pac 2021-08-13 10-37-27<br>batch_position: 12<br>idle_time: 280.0<br>sample: Blank<br>method: SAA_411_Pac.M<br>timestamp: 2021-08-13 11:30:26<br>detector: G1315C<br>pump: G7110B<br>start_time: 2021-08-13 11:30:59<br>end_time: 2021-08-13 11:34:59<br>runtime: 239.7000000000036",
          "index: 95<br>name: 210813_Pac--013<br>path: D:/ExtractedSignals\\210813_Pac 2021-08-13 10-37-27\\210813_Pac--013.D<br>batch: 210813_Pac 2021-08-13 10-37-27<br>batch_position: 13<br>idle_time: 278.0<br>sample: 0.025 mg/ml<br>method: SAA_411_Pac.M<br>timestamp: 2021-08-13 11:35:04<br>detector: G1315C<br>pump: G7110B<br>start_time: 2021-08-13 11:35:38<br>end_time: 2021-08-13 11:39:38<br>runtime: 239.7000000000036",
          "index: 96<br>name: 210813_Pac--014<br>path: D:/ExtractedSignals\\210813_Pac 2021-08-13 10-37-27\\210813_Pac--014.D<br>batch: 210813_Pac 2021-08-13 10-37-27<br>batch_position: 14<br>idle_time: 279.0<br>sample: Blank<br>method: SAA_411_Pac.M<br>timestamp: 2021-08-13 11:39:43<br>detector: G1315C<br>pump: G7110B<br>start_time: 2021-08-13 11:40:16<br>end_time: 2021-08-13 11:44:17<br>runtime: 239.7000000000036"
         ],
         "type": "scatter",
         "x": [
          0,
          1,
          2,
          3,
          4,
          5,
          6,
          7,
          8,
          9,
          10,
          11,
          12,
          13,
          14,
          15,
          16,
          17,
          18,
          19,
          20,
          21
         ],
         "y": [
          0.0096998615274724,
          0.0098065679177011,
          0.0090102918053357,
          0.0119368248274576,
          0.012384061176221,
          0.0239087953256293,
          0.0089266866664855,
          0.0065429432637567,
          0.0064488507201952,
          0.0065990608631726,
          0.0107808078244698,
          0.0080554928419134,
          0.0090115687526003,
          0.0060262122518014,
          0.0321726679286861,
          0.0055760646064348,
          0.0026654337136055,
          0.0085252248632677,
          0.0029029074429218,
          0.0086163578468264,
          0.0061422743013794,
          0.0119497170439024
         ]
        },
        {
         "hovertemplate": "<b>%{text}</b><br><b>x: </b>%{x}<br><b>residual_max: </b>%{y}<extra></extra>",
         "mode": "lines",
         "name": "residual_max",
         "text": [
          "index: 17<br>name: 210812_Pac--005<br>path: D:/ExtractedSignals\\210812_Pac 2021-08-12 10-30-07\\210812_Pac--005.D<br>batch: 210812_Pac 2021-08-12 10-30-07<br>batch_position: 5<br>idle_time: 279.0<br>sample: NaCl 0,9%<br>method: SAA_411_Pac.M<br>timestamp: 2021-08-12 10:50:23<br>detector: G1315C<br>pump: G7110B<br>start_time: 2021-08-12 10:50:57<br>end_time: 2021-08-12 10:54:57<br>runtime: 239.7000000000036",
          "index: 18<br>name: 210812_Pac--006<br>path: D:/ExtractedSignals\\210812_Pac 2021-08-12 10-30-07\\210812_Pac--006.D<br>batch: 210812_Pac 2021-08-12 10-30-07<br>batch_position: 6<br>idle_time: 279.0<br>sample: Blank<br>method: SAA_411_Pac.M<br>timestamp: 2021-08-12 10:55:02<br>detector: G1315C<br>pump: G7110B<br>start_time: 2021-08-12 10:55:36<br>end_time: 2021-08-12 10:59:36<br>runtime: 239.7000000000036",
          "index: 19<br>name: 210812_Pac--007<br>path: D:/ExtractedSignals\\210812_Pac 2021-08-12 10-30-07\\210812_Pac--007.D<br>batch: 210812_Pac 2021-08-12 10-30-07<br>batch_position: 7<br>idle_time: 279.0<br>sample: 0.025 mg/ml<br>method: SAA_411_Pac.M<br>timestamp: 2021-08-12 10:59:41<br>detector: G1315C<br>pump: G7110B<br>start_time: 2021-08-12 11:00:15<br>end_time: 2021-08-12 11:04:15<br>runtime: 239.7000000000036",
          "index: 20<br>name: 210812_Pac--008<br>path: D:/ExtractedSignals\\210812_Pac 2021-08-12 10-30-07\\210812_Pac--008.D<br>batch: 210812_Pac 2021-08-12 10-30-07<br>batch_position: 8<br>idle_time: 279.0<br>sample: Blank<br>method: SAA_411_Pac.M<br>timestamp: 2021-08-12 11:04:20<br>detector: G1315C<br>pump: G7110B<br>start_time: 2021-08-12 11:04:54<br>end_time: 2021-08-12 11:08:54<br>runtime: 239.7000000000036",
          "index: 21<br>name: 210812_Pac--009<br>path: D:/ExtractedSignals\\210812_Pac 2021-08-12 10-30-07\\210812_Pac--009.D<br>batch: 210812_Pac 2021-08-12 10-30-07<br>batch_position: 9<br>idle_time: 279.0<br>sample: 210806/036 :10<br>method: SAA_411_Pac.M<br>timestamp: 2021-08-12 11:08:59<br>detector: G1315C<br>pump: G7110B<br>start_time: 2021-08-12 11:09:32<br>end_time: 2021-08-12 11:13:32<br>runtime: 239.7000000000036",
          "index: 22<br>name: 210812_Pac--010<br>path: D:/ExtractedSignals\\210812_Pac 2021-08-12 10-30-07\\210812_Pac--010.D<br>batch: 210812_Pac 2021-08-12 10-30-07<br>batch_position: 10<br>idle_time: 278.0<br>sample: 210806/036 :10<br>method: SAA_411_Pac.M<br>timestamp: 2021-08-12 11:13:37<br>detector: G7110B<br>pump: G7110B<br>start_time: 2021-08-12 11:14:11<br>end_time: 2021-08-12 11:18:11<br>runtime: 239.7000000000036",
          "index: 23<br>name: 210812_Pac--011<br>path: D:/ExtractedSignals\\210812_Pac 2021-08-12 10-30-07\\210812_Pac--011.D<br>batch: 210812_Pac 2021-08-12 10-30-07<br>batch_position: 11<br>idle_time: 279.0<br>sample: 210806/036 :10<br>method: SAA_411_Pac.M<br>timestamp: 2021-08-12 11:18:16<br>detector: G7110B<br>pump: G7110B<br>start_time: 2021-08-12 11:18:50<br>end_time: 2021-08-12 11:22:50<br>runtime: 239.7000000000036",
          "index: 24<br>name: 210812_Pac--012<br>path: D:/ExtractedSignals\\210812_Pac 2021-08-12 10-30-07\\210812_Pac--012.D<br>batch: 210812_Pac 2021-08-12 10-30-07<br>batch_position: 12<br>idle_time: 279.0<br>sample: Blank<br>method: SAA_411_Pac.M<br>timestamp: 2021-08-12 11:22:55<br>detector: G1315C<br>pump: G7110B<br>start_time: 2021-08-12 11:23:29<br>end_time: 2021-08-12 11:27:29<br>runtime: 239.7000000000036",
          "index: 25<br>name: 210812_Pac--013<br>path: D:/ExtractedSignals\\210812_Pac 2021-08-12 10-30-07\\210812_Pac--013.D<br>batch: 210812_Pac 2021-08-12 10-30-07<br>batch_position: 13<br>idle_time: 279.0<br>sample: 0.025 mg/ml<br>method: SAA_411_Pac.M<br>timestamp: 2021-08-12 11:27:34<br>detector: G1315C<br>pump: G7110B<br>start_time: 2021-08-12 11:28:08<br>end_time: 2021-08-12 11:32:08<br>runtime: 239.7000000000036",
          "index: 26<br>name: 210812_Pac--014<br>path: D:/ExtractedSignals\\210812_Pac 2021-08-12 10-30-07\\210812_Pac--014.D<br>batch: 210812_Pac 2021-08-12 10-30-07<br>batch_position: 14<br>idle_time: 279.0<br>sample: Blank<br>method: SAA_411_Pac.M<br>timestamp: 2021-08-12 11:32:13<br>detector: G7110B<br>pump: G7110B<br>start_time: 2021-08-12 11:32:46<br>end_time: 2021-08-12 11:36:47<br>runtime: 239.7000000000036",
          "index: 85<br>name: 210813_Pac--003<br>path: D:/ExtractedSignals\\210813_Pac 2021-08-13 10-37-27\\210813_Pac--003.D<br>batch: 210813_Pac 2021-08-13 10-37-27<br>batch_position: 3<br>idle_time: 278.0<br>sample: Blank<br>method: SAA_411_Pac.M<br>timestamp: 2021-08-13 10:48:34<br>detector: G1315C<br>pump: G7116B<br>start_time: 2021-08-13 10:49:08<br>end_time: 2021-08-13 10:53:08<br>runtime: 239.7000000000036",
          "index: 86<br>name: 210813_Pac--004<br>path: D:/ExtractedSignals\\210813_Pac 2021-08-13 10-37-27\\210813_Pac--004.D<br>batch: 210813_Pac 2021-08-13 10-37-27<br>batch_position: 4<br>idle_time: 279.0<br>sample: Blank<br>method: SAA_411_Pac.M<br>timestamp: 2021-08-13 10:53:13<br>detector: G1315C<br>pump: G7110B<br>start_time: 2021-08-13 10:53:47<br>end_time: 2021-08-13 10:57:47<br>runtime: 239.7000000000036",
          "index: 87<br>name: 210813_Pac--005<br>path: D:/ExtractedSignals\\210813_Pac 2021-08-13 10-37-27\\210813_Pac--005.D<br>batch: 210813_Pac 2021-08-13 10-37-27<br>batch_position: 5<br>idle_time: 279.0<br>sample: NaCl 0,9%<br>method: SAA_411_Pac.M<br>timestamp: 2021-08-13 10:57:52<br>detector: G7110B<br>pump: G7110B<br>start_time: 2021-08-13 10:58:26<br>end_time: 2021-08-13 11:02:27<br>runtime: 239.7000000000036",
          "index: 88<br>name: 210813_Pac--006<br>path: D:/ExtractedSignals\\210813_Pac 2021-08-13 10-37-27\\210813_Pac--006.D<br>batch: 210813_Pac 2021-08-13 10-37-27<br>batch_position: 6<br>idle_time: 279.0<br>sample: Blank<br>method: SAA_411_Pac.M<br>timestamp: 2021-08-13 11:02:31<br>detector: G1315C<br>pump: G7110B<br>start_time: 2021-08-13 11:03:05<br>end_time: 2021-08-13 11:07:06<br>runtime: 239.7000000000036",
          "index: 89<br>name: 210813_Pac--007<br>path: D:/ExtractedSignals\\210813_Pac 2021-08-13 10-37-27\\210813_Pac--007.D<br>batch: 210813_Pac 2021-08-13 10-37-27<br>batch_position: 7<br>idle_time: 279.0<br>sample: 0.025 mg/ml<br>method: SAA_411_Pac.M<br>timestamp: 2021-08-13 11:07:10<br>detector: G1315C<br>pump: G7116B<br>start_time: 2021-08-13 11:07:44<br>end_time: 2021-08-13 11:11:45<br>runtime: 239.7000000000036",
          "index: 90<br>name: 210813_Pac--008<br>path: D:/ExtractedSignals\\210813_Pac 2021-08-13 10-37-27\\210813_Pac--008.D<br>batch: 210813_Pac 2021-08-13 10-37-27<br>batch_position: 8<br>idle_time: 279.0<br>sample: Blank<br>method: SAA_411_Pac.M<br>timestamp: 2021-08-13 11:11:49<br>detector: G1315C<br>pump: G7110B<br>start_time: 2021-08-13 11:12:23<br>end_time: 2021-08-13 11:16:23<br>runtime: 239.7000000000036",
          "index: 91<br>name: 210813_Pac--009<br>path: D:/ExtractedSignals\\210813_Pac 2021-08-13 10-37-27\\210813_Pac--009.D<br>batch: 210813_Pac 2021-08-13 10-37-27<br>batch_position: 9<br>idle_time: 279.0<br>sample: 210812/004 :20<br>method: SAA_411_Pac.M<br>timestamp: 2021-08-13 11:16:28<br>detector: G1315C<br>pump: G7110B<br>start_time: 2021-08-13 11:17:02<br>end_time: 2021-08-13 11:21:03<br>runtime: 239.7000000000036",
          "index: 92<br>name: 210813_Pac--010<br>path: D:/ExtractedSignals\\210813_Pac 2021-08-13 10-37-27\\210813_Pac--010.D<br>batch: 210813_Pac 2021-08-13 10-37-27<br>batch_position: 10<br>idle_time: 280.0<br>sample: 210812/004 :20<br>method: SAA_411_Pac.M<br>timestamp: 2021-08-13 11:21:08<br>detector: G1315C<br>pump: G7110B<br>start_time: 2021-08-13 11:21:41<br>end_time: 2021-08-13 11:25:42<br>runtime: 239.7000000000036",
          "index: 93<br>name: 210813_Pac--011<br>path: D:/ExtractedSignals\\210813_Pac 2021-08-13 10-37-27\\210813_Pac--011.D<br>batch: 210813_Pac 2021-08-13 10-37-27<br>batch_position: 11<br>idle_time: 278.0<br>sample: 210812/004 :20<br>method: SAA_411_Pac.M<br>timestamp: 2021-08-13 11:25:46<br>detector: G1315C<br>pump: G7110B<br>start_time: 2021-08-13 11:26:21<br>end_time: 2021-08-13 11:30:21<br>runtime: 239.7000000000036",
          "index: 94<br>name: 210813_Pac--012<br>path: D:/ExtractedSignals\\210813_Pac 2021-08-13 10-37-27\\210813_Pac--012.D<br>batch: 210813_Pac 2021-08-13 10-37-27<br>batch_position: 12<br>idle_time: 280.0<br>sample: Blank<br>method: SAA_411_Pac.M<br>timestamp: 2021-08-13 11:30:26<br>detector: G1315C<br>pump: G7110B<br>start_time: 2021-08-13 11:30:59<br>end_time: 2021-08-13 11:34:59<br>runtime: 239.7000000000036",
          "index: 95<br>name: 210813_Pac--013<br>path: D:/ExtractedSignals\\210813_Pac 2021-08-13 10-37-27\\210813_Pac--013.D<br>batch: 210813_Pac 2021-08-13 10-37-27<br>batch_position: 13<br>idle_time: 278.0<br>sample: 0.025 mg/ml<br>method: SAA_411_Pac.M<br>timestamp: 2021-08-13 11:35:04<br>detector: G1315C<br>pump: G7110B<br>start_time: 2021-08-13 11:35:38<br>end_time: 2021-08-13 11:39:38<br>runtime: 239.7000000000036",
          "index: 96<br>name: 210813_Pac--014<br>path: D:/ExtractedSignals\\210813_Pac 2021-08-13 10-37-27\\210813_Pac--014.D<br>batch: 210813_Pac 2021-08-13 10-37-27<br>batch_position: 14<br>idle_time: 279.0<br>sample: Blank<br>method: SAA_411_Pac.M<br>timestamp: 2021-08-13 11:39:43<br>detector: G1315C<br>pump: G7110B<br>start_time: 2021-08-13 11:40:16<br>end_time: 2021-08-13 11:44:17<br>runtime: 239.7000000000036"
         ],
         "type": "scatter",
         "x": [
          0,
          1,
          2,
          3,
          4,
          5,
          6,
          7,
          8,
          9,
          10,
          11,
          12,
          13,
          14,
          15,
          16,
          17,
          18,
          19,
          20,
          21
         ],
         "y": [
          0.0024454398522629,
          0.0030675089025506,
          0.0045889879367038,
          0.0081437650534816,
          0.004138349588992,
          0.0060550150001586,
          0.0023939805723302,
          0.0018217011188012,
          0.0024912225187645,
          0.0050865680810479,
          0.004345759166141,
          0.0034378506219316,
          0.003365560659788,
          0,
          0.0034562799505515,
          0.0032523542413814,
          0.0009260226273003,
          0.0016890499335842,
          0.0041907095772687,
          0.0047041550790935,
          0.0044984494144025,
          0.0026945301590769
         ]
        },
        {
         "hovertemplate": "<b>%{text}</b><br><b>x: </b>%{x}<br><b>seasonal_fft_mean_0: </b>%{y}<extra></extra>",
         "mode": "lines",
         "name": "seasonal_fft_mean_0",
         "text": [
          "index: 17<br>name: 210812_Pac--005<br>path: D:/ExtractedSignals\\210812_Pac 2021-08-12 10-30-07\\210812_Pac--005.D<br>batch: 210812_Pac 2021-08-12 10-30-07<br>batch_position: 5<br>idle_time: 279.0<br>sample: NaCl 0,9%<br>method: SAA_411_Pac.M<br>timestamp: 2021-08-12 10:50:23<br>detector: G1315C<br>pump: G7110B<br>start_time: 2021-08-12 10:50:57<br>end_time: 2021-08-12 10:54:57<br>runtime: 239.7000000000036",
          "index: 18<br>name: 210812_Pac--006<br>path: D:/ExtractedSignals\\210812_Pac 2021-08-12 10-30-07\\210812_Pac--006.D<br>batch: 210812_Pac 2021-08-12 10-30-07<br>batch_position: 6<br>idle_time: 279.0<br>sample: Blank<br>method: SAA_411_Pac.M<br>timestamp: 2021-08-12 10:55:02<br>detector: G1315C<br>pump: G7110B<br>start_time: 2021-08-12 10:55:36<br>end_time: 2021-08-12 10:59:36<br>runtime: 239.7000000000036",
          "index: 19<br>name: 210812_Pac--007<br>path: D:/ExtractedSignals\\210812_Pac 2021-08-12 10-30-07\\210812_Pac--007.D<br>batch: 210812_Pac 2021-08-12 10-30-07<br>batch_position: 7<br>idle_time: 279.0<br>sample: 0.025 mg/ml<br>method: SAA_411_Pac.M<br>timestamp: 2021-08-12 10:59:41<br>detector: G1315C<br>pump: G7110B<br>start_time: 2021-08-12 11:00:15<br>end_time: 2021-08-12 11:04:15<br>runtime: 239.7000000000036",
          "index: 20<br>name: 210812_Pac--008<br>path: D:/ExtractedSignals\\210812_Pac 2021-08-12 10-30-07\\210812_Pac--008.D<br>batch: 210812_Pac 2021-08-12 10-30-07<br>batch_position: 8<br>idle_time: 279.0<br>sample: Blank<br>method: SAA_411_Pac.M<br>timestamp: 2021-08-12 11:04:20<br>detector: G1315C<br>pump: G7110B<br>start_time: 2021-08-12 11:04:54<br>end_time: 2021-08-12 11:08:54<br>runtime: 239.7000000000036",
          "index: 21<br>name: 210812_Pac--009<br>path: D:/ExtractedSignals\\210812_Pac 2021-08-12 10-30-07\\210812_Pac--009.D<br>batch: 210812_Pac 2021-08-12 10-30-07<br>batch_position: 9<br>idle_time: 279.0<br>sample: 210806/036 :10<br>method: SAA_411_Pac.M<br>timestamp: 2021-08-12 11:08:59<br>detector: G1315C<br>pump: G7110B<br>start_time: 2021-08-12 11:09:32<br>end_time: 2021-08-12 11:13:32<br>runtime: 239.7000000000036",
          "index: 22<br>name: 210812_Pac--010<br>path: D:/ExtractedSignals\\210812_Pac 2021-08-12 10-30-07\\210812_Pac--010.D<br>batch: 210812_Pac 2021-08-12 10-30-07<br>batch_position: 10<br>idle_time: 278.0<br>sample: 210806/036 :10<br>method: SAA_411_Pac.M<br>timestamp: 2021-08-12 11:13:37<br>detector: G7110B<br>pump: G7110B<br>start_time: 2021-08-12 11:14:11<br>end_time: 2021-08-12 11:18:11<br>runtime: 239.7000000000036",
          "index: 23<br>name: 210812_Pac--011<br>path: D:/ExtractedSignals\\210812_Pac 2021-08-12 10-30-07\\210812_Pac--011.D<br>batch: 210812_Pac 2021-08-12 10-30-07<br>batch_position: 11<br>idle_time: 279.0<br>sample: 210806/036 :10<br>method: SAA_411_Pac.M<br>timestamp: 2021-08-12 11:18:16<br>detector: G7110B<br>pump: G7110B<br>start_time: 2021-08-12 11:18:50<br>end_time: 2021-08-12 11:22:50<br>runtime: 239.7000000000036",
          "index: 24<br>name: 210812_Pac--012<br>path: D:/ExtractedSignals\\210812_Pac 2021-08-12 10-30-07\\210812_Pac--012.D<br>batch: 210812_Pac 2021-08-12 10-30-07<br>batch_position: 12<br>idle_time: 279.0<br>sample: Blank<br>method: SAA_411_Pac.M<br>timestamp: 2021-08-12 11:22:55<br>detector: G1315C<br>pump: G7110B<br>start_time: 2021-08-12 11:23:29<br>end_time: 2021-08-12 11:27:29<br>runtime: 239.7000000000036",
          "index: 25<br>name: 210812_Pac--013<br>path: D:/ExtractedSignals\\210812_Pac 2021-08-12 10-30-07\\210812_Pac--013.D<br>batch: 210812_Pac 2021-08-12 10-30-07<br>batch_position: 13<br>idle_time: 279.0<br>sample: 0.025 mg/ml<br>method: SAA_411_Pac.M<br>timestamp: 2021-08-12 11:27:34<br>detector: G1315C<br>pump: G7110B<br>start_time: 2021-08-12 11:28:08<br>end_time: 2021-08-12 11:32:08<br>runtime: 239.7000000000036",
          "index: 26<br>name: 210812_Pac--014<br>path: D:/ExtractedSignals\\210812_Pac 2021-08-12 10-30-07\\210812_Pac--014.D<br>batch: 210812_Pac 2021-08-12 10-30-07<br>batch_position: 14<br>idle_time: 279.0<br>sample: Blank<br>method: SAA_411_Pac.M<br>timestamp: 2021-08-12 11:32:13<br>detector: G7110B<br>pump: G7110B<br>start_time: 2021-08-12 11:32:46<br>end_time: 2021-08-12 11:36:47<br>runtime: 239.7000000000036",
          "index: 85<br>name: 210813_Pac--003<br>path: D:/ExtractedSignals\\210813_Pac 2021-08-13 10-37-27\\210813_Pac--003.D<br>batch: 210813_Pac 2021-08-13 10-37-27<br>batch_position: 3<br>idle_time: 278.0<br>sample: Blank<br>method: SAA_411_Pac.M<br>timestamp: 2021-08-13 10:48:34<br>detector: G1315C<br>pump: G7116B<br>start_time: 2021-08-13 10:49:08<br>end_time: 2021-08-13 10:53:08<br>runtime: 239.7000000000036",
          "index: 86<br>name: 210813_Pac--004<br>path: D:/ExtractedSignals\\210813_Pac 2021-08-13 10-37-27\\210813_Pac--004.D<br>batch: 210813_Pac 2021-08-13 10-37-27<br>batch_position: 4<br>idle_time: 279.0<br>sample: Blank<br>method: SAA_411_Pac.M<br>timestamp: 2021-08-13 10:53:13<br>detector: G1315C<br>pump: G7110B<br>start_time: 2021-08-13 10:53:47<br>end_time: 2021-08-13 10:57:47<br>runtime: 239.7000000000036",
          "index: 87<br>name: 210813_Pac--005<br>path: D:/ExtractedSignals\\210813_Pac 2021-08-13 10-37-27\\210813_Pac--005.D<br>batch: 210813_Pac 2021-08-13 10-37-27<br>batch_position: 5<br>idle_time: 279.0<br>sample: NaCl 0,9%<br>method: SAA_411_Pac.M<br>timestamp: 2021-08-13 10:57:52<br>detector: G7110B<br>pump: G7110B<br>start_time: 2021-08-13 10:58:26<br>end_time: 2021-08-13 11:02:27<br>runtime: 239.7000000000036",
          "index: 88<br>name: 210813_Pac--006<br>path: D:/ExtractedSignals\\210813_Pac 2021-08-13 10-37-27\\210813_Pac--006.D<br>batch: 210813_Pac 2021-08-13 10-37-27<br>batch_position: 6<br>idle_time: 279.0<br>sample: Blank<br>method: SAA_411_Pac.M<br>timestamp: 2021-08-13 11:02:31<br>detector: G1315C<br>pump: G7110B<br>start_time: 2021-08-13 11:03:05<br>end_time: 2021-08-13 11:07:06<br>runtime: 239.7000000000036",
          "index: 89<br>name: 210813_Pac--007<br>path: D:/ExtractedSignals\\210813_Pac 2021-08-13 10-37-27\\210813_Pac--007.D<br>batch: 210813_Pac 2021-08-13 10-37-27<br>batch_position: 7<br>idle_time: 279.0<br>sample: 0.025 mg/ml<br>method: SAA_411_Pac.M<br>timestamp: 2021-08-13 11:07:10<br>detector: G1315C<br>pump: G7116B<br>start_time: 2021-08-13 11:07:44<br>end_time: 2021-08-13 11:11:45<br>runtime: 239.7000000000036",
          "index: 90<br>name: 210813_Pac--008<br>path: D:/ExtractedSignals\\210813_Pac 2021-08-13 10-37-27\\210813_Pac--008.D<br>batch: 210813_Pac 2021-08-13 10-37-27<br>batch_position: 8<br>idle_time: 279.0<br>sample: Blank<br>method: SAA_411_Pac.M<br>timestamp: 2021-08-13 11:11:49<br>detector: G1315C<br>pump: G7110B<br>start_time: 2021-08-13 11:12:23<br>end_time: 2021-08-13 11:16:23<br>runtime: 239.7000000000036",
          "index: 91<br>name: 210813_Pac--009<br>path: D:/ExtractedSignals\\210813_Pac 2021-08-13 10-37-27\\210813_Pac--009.D<br>batch: 210813_Pac 2021-08-13 10-37-27<br>batch_position: 9<br>idle_time: 279.0<br>sample: 210812/004 :20<br>method: SAA_411_Pac.M<br>timestamp: 2021-08-13 11:16:28<br>detector: G1315C<br>pump: G7110B<br>start_time: 2021-08-13 11:17:02<br>end_time: 2021-08-13 11:21:03<br>runtime: 239.7000000000036",
          "index: 92<br>name: 210813_Pac--010<br>path: D:/ExtractedSignals\\210813_Pac 2021-08-13 10-37-27\\210813_Pac--010.D<br>batch: 210813_Pac 2021-08-13 10-37-27<br>batch_position: 10<br>idle_time: 280.0<br>sample: 210812/004 :20<br>method: SAA_411_Pac.M<br>timestamp: 2021-08-13 11:21:08<br>detector: G1315C<br>pump: G7110B<br>start_time: 2021-08-13 11:21:41<br>end_time: 2021-08-13 11:25:42<br>runtime: 239.7000000000036",
          "index: 93<br>name: 210813_Pac--011<br>path: D:/ExtractedSignals\\210813_Pac 2021-08-13 10-37-27\\210813_Pac--011.D<br>batch: 210813_Pac 2021-08-13 10-37-27<br>batch_position: 11<br>idle_time: 278.0<br>sample: 210812/004 :20<br>method: SAA_411_Pac.M<br>timestamp: 2021-08-13 11:25:46<br>detector: G1315C<br>pump: G7110B<br>start_time: 2021-08-13 11:26:21<br>end_time: 2021-08-13 11:30:21<br>runtime: 239.7000000000036",
          "index: 94<br>name: 210813_Pac--012<br>path: D:/ExtractedSignals\\210813_Pac 2021-08-13 10-37-27\\210813_Pac--012.D<br>batch: 210813_Pac 2021-08-13 10-37-27<br>batch_position: 12<br>idle_time: 280.0<br>sample: Blank<br>method: SAA_411_Pac.M<br>timestamp: 2021-08-13 11:30:26<br>detector: G1315C<br>pump: G7110B<br>start_time: 2021-08-13 11:30:59<br>end_time: 2021-08-13 11:34:59<br>runtime: 239.7000000000036",
          "index: 95<br>name: 210813_Pac--013<br>path: D:/ExtractedSignals\\210813_Pac 2021-08-13 10-37-27\\210813_Pac--013.D<br>batch: 210813_Pac 2021-08-13 10-37-27<br>batch_position: 13<br>idle_time: 278.0<br>sample: 0.025 mg/ml<br>method: SAA_411_Pac.M<br>timestamp: 2021-08-13 11:35:04<br>detector: G1315C<br>pump: G7110B<br>start_time: 2021-08-13 11:35:38<br>end_time: 2021-08-13 11:39:38<br>runtime: 239.7000000000036",
          "index: 96<br>name: 210813_Pac--014<br>path: D:/ExtractedSignals\\210813_Pac 2021-08-13 10-37-27\\210813_Pac--014.D<br>batch: 210813_Pac 2021-08-13 10-37-27<br>batch_position: 14<br>idle_time: 279.0<br>sample: Blank<br>method: SAA_411_Pac.M<br>timestamp: 2021-08-13 11:39:43<br>detector: G1315C<br>pump: G7110B<br>start_time: 2021-08-13 11:40:16<br>end_time: 2021-08-13 11:44:17<br>runtime: 239.7000000000036"
         ],
         "type": "scatter",
         "x": [
          0,
          1,
          2,
          3,
          4,
          5,
          6,
          7,
          8,
          9,
          10,
          11,
          12,
          13,
          14,
          15,
          16,
          17,
          18,
          19,
          20,
          21
         ],
         "y": [
          0,
          0,
          0,
          0,
          0,
          0,
          0,
          0,
          0,
          0,
          0,
          0,
          0,
          0,
          0,
          0,
          0,
          0,
          0,
          0,
          0,
          0
         ]
        },
        {
         "hovertemplate": "<b>%{text}</b><br><b>x: </b>%{x}<br><b>seasonal_fft_sum_0: </b>%{y}<extra></extra>",
         "mode": "lines",
         "name": "seasonal_fft_sum_0",
         "text": [
          "index: 17<br>name: 210812_Pac--005<br>path: D:/ExtractedSignals\\210812_Pac 2021-08-12 10-30-07\\210812_Pac--005.D<br>batch: 210812_Pac 2021-08-12 10-30-07<br>batch_position: 5<br>idle_time: 279.0<br>sample: NaCl 0,9%<br>method: SAA_411_Pac.M<br>timestamp: 2021-08-12 10:50:23<br>detector: G1315C<br>pump: G7110B<br>start_time: 2021-08-12 10:50:57<br>end_time: 2021-08-12 10:54:57<br>runtime: 239.7000000000036",
          "index: 18<br>name: 210812_Pac--006<br>path: D:/ExtractedSignals\\210812_Pac 2021-08-12 10-30-07\\210812_Pac--006.D<br>batch: 210812_Pac 2021-08-12 10-30-07<br>batch_position: 6<br>idle_time: 279.0<br>sample: Blank<br>method: SAA_411_Pac.M<br>timestamp: 2021-08-12 10:55:02<br>detector: G1315C<br>pump: G7110B<br>start_time: 2021-08-12 10:55:36<br>end_time: 2021-08-12 10:59:36<br>runtime: 239.7000000000036",
          "index: 19<br>name: 210812_Pac--007<br>path: D:/ExtractedSignals\\210812_Pac 2021-08-12 10-30-07\\210812_Pac--007.D<br>batch: 210812_Pac 2021-08-12 10-30-07<br>batch_position: 7<br>idle_time: 279.0<br>sample: 0.025 mg/ml<br>method: SAA_411_Pac.M<br>timestamp: 2021-08-12 10:59:41<br>detector: G1315C<br>pump: G7110B<br>start_time: 2021-08-12 11:00:15<br>end_time: 2021-08-12 11:04:15<br>runtime: 239.7000000000036",
          "index: 20<br>name: 210812_Pac--008<br>path: D:/ExtractedSignals\\210812_Pac 2021-08-12 10-30-07\\210812_Pac--008.D<br>batch: 210812_Pac 2021-08-12 10-30-07<br>batch_position: 8<br>idle_time: 279.0<br>sample: Blank<br>method: SAA_411_Pac.M<br>timestamp: 2021-08-12 11:04:20<br>detector: G1315C<br>pump: G7110B<br>start_time: 2021-08-12 11:04:54<br>end_time: 2021-08-12 11:08:54<br>runtime: 239.7000000000036",
          "index: 21<br>name: 210812_Pac--009<br>path: D:/ExtractedSignals\\210812_Pac 2021-08-12 10-30-07\\210812_Pac--009.D<br>batch: 210812_Pac 2021-08-12 10-30-07<br>batch_position: 9<br>idle_time: 279.0<br>sample: 210806/036 :10<br>method: SAA_411_Pac.M<br>timestamp: 2021-08-12 11:08:59<br>detector: G1315C<br>pump: G7110B<br>start_time: 2021-08-12 11:09:32<br>end_time: 2021-08-12 11:13:32<br>runtime: 239.7000000000036",
          "index: 22<br>name: 210812_Pac--010<br>path: D:/ExtractedSignals\\210812_Pac 2021-08-12 10-30-07\\210812_Pac--010.D<br>batch: 210812_Pac 2021-08-12 10-30-07<br>batch_position: 10<br>idle_time: 278.0<br>sample: 210806/036 :10<br>method: SAA_411_Pac.M<br>timestamp: 2021-08-12 11:13:37<br>detector: G7110B<br>pump: G7110B<br>start_time: 2021-08-12 11:14:11<br>end_time: 2021-08-12 11:18:11<br>runtime: 239.7000000000036",
          "index: 23<br>name: 210812_Pac--011<br>path: D:/ExtractedSignals\\210812_Pac 2021-08-12 10-30-07\\210812_Pac--011.D<br>batch: 210812_Pac 2021-08-12 10-30-07<br>batch_position: 11<br>idle_time: 279.0<br>sample: 210806/036 :10<br>method: SAA_411_Pac.M<br>timestamp: 2021-08-12 11:18:16<br>detector: G7110B<br>pump: G7110B<br>start_time: 2021-08-12 11:18:50<br>end_time: 2021-08-12 11:22:50<br>runtime: 239.7000000000036",
          "index: 24<br>name: 210812_Pac--012<br>path: D:/ExtractedSignals\\210812_Pac 2021-08-12 10-30-07\\210812_Pac--012.D<br>batch: 210812_Pac 2021-08-12 10-30-07<br>batch_position: 12<br>idle_time: 279.0<br>sample: Blank<br>method: SAA_411_Pac.M<br>timestamp: 2021-08-12 11:22:55<br>detector: G1315C<br>pump: G7110B<br>start_time: 2021-08-12 11:23:29<br>end_time: 2021-08-12 11:27:29<br>runtime: 239.7000000000036",
          "index: 25<br>name: 210812_Pac--013<br>path: D:/ExtractedSignals\\210812_Pac 2021-08-12 10-30-07\\210812_Pac--013.D<br>batch: 210812_Pac 2021-08-12 10-30-07<br>batch_position: 13<br>idle_time: 279.0<br>sample: 0.025 mg/ml<br>method: SAA_411_Pac.M<br>timestamp: 2021-08-12 11:27:34<br>detector: G1315C<br>pump: G7110B<br>start_time: 2021-08-12 11:28:08<br>end_time: 2021-08-12 11:32:08<br>runtime: 239.7000000000036",
          "index: 26<br>name: 210812_Pac--014<br>path: D:/ExtractedSignals\\210812_Pac 2021-08-12 10-30-07\\210812_Pac--014.D<br>batch: 210812_Pac 2021-08-12 10-30-07<br>batch_position: 14<br>idle_time: 279.0<br>sample: Blank<br>method: SAA_411_Pac.M<br>timestamp: 2021-08-12 11:32:13<br>detector: G7110B<br>pump: G7110B<br>start_time: 2021-08-12 11:32:46<br>end_time: 2021-08-12 11:36:47<br>runtime: 239.7000000000036",
          "index: 85<br>name: 210813_Pac--003<br>path: D:/ExtractedSignals\\210813_Pac 2021-08-13 10-37-27\\210813_Pac--003.D<br>batch: 210813_Pac 2021-08-13 10-37-27<br>batch_position: 3<br>idle_time: 278.0<br>sample: Blank<br>method: SAA_411_Pac.M<br>timestamp: 2021-08-13 10:48:34<br>detector: G1315C<br>pump: G7116B<br>start_time: 2021-08-13 10:49:08<br>end_time: 2021-08-13 10:53:08<br>runtime: 239.7000000000036",
          "index: 86<br>name: 210813_Pac--004<br>path: D:/ExtractedSignals\\210813_Pac 2021-08-13 10-37-27\\210813_Pac--004.D<br>batch: 210813_Pac 2021-08-13 10-37-27<br>batch_position: 4<br>idle_time: 279.0<br>sample: Blank<br>method: SAA_411_Pac.M<br>timestamp: 2021-08-13 10:53:13<br>detector: G1315C<br>pump: G7110B<br>start_time: 2021-08-13 10:53:47<br>end_time: 2021-08-13 10:57:47<br>runtime: 239.7000000000036",
          "index: 87<br>name: 210813_Pac--005<br>path: D:/ExtractedSignals\\210813_Pac 2021-08-13 10-37-27\\210813_Pac--005.D<br>batch: 210813_Pac 2021-08-13 10-37-27<br>batch_position: 5<br>idle_time: 279.0<br>sample: NaCl 0,9%<br>method: SAA_411_Pac.M<br>timestamp: 2021-08-13 10:57:52<br>detector: G7110B<br>pump: G7110B<br>start_time: 2021-08-13 10:58:26<br>end_time: 2021-08-13 11:02:27<br>runtime: 239.7000000000036",
          "index: 88<br>name: 210813_Pac--006<br>path: D:/ExtractedSignals\\210813_Pac 2021-08-13 10-37-27\\210813_Pac--006.D<br>batch: 210813_Pac 2021-08-13 10-37-27<br>batch_position: 6<br>idle_time: 279.0<br>sample: Blank<br>method: SAA_411_Pac.M<br>timestamp: 2021-08-13 11:02:31<br>detector: G1315C<br>pump: G7110B<br>start_time: 2021-08-13 11:03:05<br>end_time: 2021-08-13 11:07:06<br>runtime: 239.7000000000036",
          "index: 89<br>name: 210813_Pac--007<br>path: D:/ExtractedSignals\\210813_Pac 2021-08-13 10-37-27\\210813_Pac--007.D<br>batch: 210813_Pac 2021-08-13 10-37-27<br>batch_position: 7<br>idle_time: 279.0<br>sample: 0.025 mg/ml<br>method: SAA_411_Pac.M<br>timestamp: 2021-08-13 11:07:10<br>detector: G1315C<br>pump: G7116B<br>start_time: 2021-08-13 11:07:44<br>end_time: 2021-08-13 11:11:45<br>runtime: 239.7000000000036",
          "index: 90<br>name: 210813_Pac--008<br>path: D:/ExtractedSignals\\210813_Pac 2021-08-13 10-37-27\\210813_Pac--008.D<br>batch: 210813_Pac 2021-08-13 10-37-27<br>batch_position: 8<br>idle_time: 279.0<br>sample: Blank<br>method: SAA_411_Pac.M<br>timestamp: 2021-08-13 11:11:49<br>detector: G1315C<br>pump: G7110B<br>start_time: 2021-08-13 11:12:23<br>end_time: 2021-08-13 11:16:23<br>runtime: 239.7000000000036",
          "index: 91<br>name: 210813_Pac--009<br>path: D:/ExtractedSignals\\210813_Pac 2021-08-13 10-37-27\\210813_Pac--009.D<br>batch: 210813_Pac 2021-08-13 10-37-27<br>batch_position: 9<br>idle_time: 279.0<br>sample: 210812/004 :20<br>method: SAA_411_Pac.M<br>timestamp: 2021-08-13 11:16:28<br>detector: G1315C<br>pump: G7110B<br>start_time: 2021-08-13 11:17:02<br>end_time: 2021-08-13 11:21:03<br>runtime: 239.7000000000036",
          "index: 92<br>name: 210813_Pac--010<br>path: D:/ExtractedSignals\\210813_Pac 2021-08-13 10-37-27\\210813_Pac--010.D<br>batch: 210813_Pac 2021-08-13 10-37-27<br>batch_position: 10<br>idle_time: 280.0<br>sample: 210812/004 :20<br>method: SAA_411_Pac.M<br>timestamp: 2021-08-13 11:21:08<br>detector: G1315C<br>pump: G7110B<br>start_time: 2021-08-13 11:21:41<br>end_time: 2021-08-13 11:25:42<br>runtime: 239.7000000000036",
          "index: 93<br>name: 210813_Pac--011<br>path: D:/ExtractedSignals\\210813_Pac 2021-08-13 10-37-27\\210813_Pac--011.D<br>batch: 210813_Pac 2021-08-13 10-37-27<br>batch_position: 11<br>idle_time: 278.0<br>sample: 210812/004 :20<br>method: SAA_411_Pac.M<br>timestamp: 2021-08-13 11:25:46<br>detector: G1315C<br>pump: G7110B<br>start_time: 2021-08-13 11:26:21<br>end_time: 2021-08-13 11:30:21<br>runtime: 239.7000000000036",
          "index: 94<br>name: 210813_Pac--012<br>path: D:/ExtractedSignals\\210813_Pac 2021-08-13 10-37-27\\210813_Pac--012.D<br>batch: 210813_Pac 2021-08-13 10-37-27<br>batch_position: 12<br>idle_time: 280.0<br>sample: Blank<br>method: SAA_411_Pac.M<br>timestamp: 2021-08-13 11:30:26<br>detector: G1315C<br>pump: G7110B<br>start_time: 2021-08-13 11:30:59<br>end_time: 2021-08-13 11:34:59<br>runtime: 239.7000000000036",
          "index: 95<br>name: 210813_Pac--013<br>path: D:/ExtractedSignals\\210813_Pac 2021-08-13 10-37-27\\210813_Pac--013.D<br>batch: 210813_Pac 2021-08-13 10-37-27<br>batch_position: 13<br>idle_time: 278.0<br>sample: 0.025 mg/ml<br>method: SAA_411_Pac.M<br>timestamp: 2021-08-13 11:35:04<br>detector: G1315C<br>pump: G7110B<br>start_time: 2021-08-13 11:35:38<br>end_time: 2021-08-13 11:39:38<br>runtime: 239.7000000000036",
          "index: 96<br>name: 210813_Pac--014<br>path: D:/ExtractedSignals\\210813_Pac 2021-08-13 10-37-27\\210813_Pac--014.D<br>batch: 210813_Pac 2021-08-13 10-37-27<br>batch_position: 14<br>idle_time: 279.0<br>sample: Blank<br>method: SAA_411_Pac.M<br>timestamp: 2021-08-13 11:39:43<br>detector: G1315C<br>pump: G7110B<br>start_time: 2021-08-13 11:40:16<br>end_time: 2021-08-13 11:44:17<br>runtime: 239.7000000000036"
         ],
         "type": "scatter",
         "x": [
          0,
          1,
          2,
          3,
          4,
          5,
          6,
          7,
          8,
          9,
          10,
          11,
          12,
          13,
          14,
          15,
          16,
          17,
          18,
          19,
          20,
          21
         ],
         "y": [
          0,
          0,
          0,
          0,
          0,
          0,
          0,
          0,
          0,
          0,
          0,
          0,
          0,
          0,
          0,
          0,
          0,
          0,
          0,
          0,
          0,
          0
         ]
        },
        {
         "hovertemplate": "<b>%{text}</b><br><b>x: </b>%{x}<br><b>residual_fft_mean_0: </b>%{y}<extra></extra>",
         "mode": "lines",
         "name": "residual_fft_mean_0",
         "text": [
          "index: 17<br>name: 210812_Pac--005<br>path: D:/ExtractedSignals\\210812_Pac 2021-08-12 10-30-07\\210812_Pac--005.D<br>batch: 210812_Pac 2021-08-12 10-30-07<br>batch_position: 5<br>idle_time: 279.0<br>sample: NaCl 0,9%<br>method: SAA_411_Pac.M<br>timestamp: 2021-08-12 10:50:23<br>detector: G1315C<br>pump: G7110B<br>start_time: 2021-08-12 10:50:57<br>end_time: 2021-08-12 10:54:57<br>runtime: 239.7000000000036",
          "index: 18<br>name: 210812_Pac--006<br>path: D:/ExtractedSignals\\210812_Pac 2021-08-12 10-30-07\\210812_Pac--006.D<br>batch: 210812_Pac 2021-08-12 10-30-07<br>batch_position: 6<br>idle_time: 279.0<br>sample: Blank<br>method: SAA_411_Pac.M<br>timestamp: 2021-08-12 10:55:02<br>detector: G1315C<br>pump: G7110B<br>start_time: 2021-08-12 10:55:36<br>end_time: 2021-08-12 10:59:36<br>runtime: 239.7000000000036",
          "index: 19<br>name: 210812_Pac--007<br>path: D:/ExtractedSignals\\210812_Pac 2021-08-12 10-30-07\\210812_Pac--007.D<br>batch: 210812_Pac 2021-08-12 10-30-07<br>batch_position: 7<br>idle_time: 279.0<br>sample: 0.025 mg/ml<br>method: SAA_411_Pac.M<br>timestamp: 2021-08-12 10:59:41<br>detector: G1315C<br>pump: G7110B<br>start_time: 2021-08-12 11:00:15<br>end_time: 2021-08-12 11:04:15<br>runtime: 239.7000000000036",
          "index: 20<br>name: 210812_Pac--008<br>path: D:/ExtractedSignals\\210812_Pac 2021-08-12 10-30-07\\210812_Pac--008.D<br>batch: 210812_Pac 2021-08-12 10-30-07<br>batch_position: 8<br>idle_time: 279.0<br>sample: Blank<br>method: SAA_411_Pac.M<br>timestamp: 2021-08-12 11:04:20<br>detector: G1315C<br>pump: G7110B<br>start_time: 2021-08-12 11:04:54<br>end_time: 2021-08-12 11:08:54<br>runtime: 239.7000000000036",
          "index: 21<br>name: 210812_Pac--009<br>path: D:/ExtractedSignals\\210812_Pac 2021-08-12 10-30-07\\210812_Pac--009.D<br>batch: 210812_Pac 2021-08-12 10-30-07<br>batch_position: 9<br>idle_time: 279.0<br>sample: 210806/036 :10<br>method: SAA_411_Pac.M<br>timestamp: 2021-08-12 11:08:59<br>detector: G1315C<br>pump: G7110B<br>start_time: 2021-08-12 11:09:32<br>end_time: 2021-08-12 11:13:32<br>runtime: 239.7000000000036",
          "index: 22<br>name: 210812_Pac--010<br>path: D:/ExtractedSignals\\210812_Pac 2021-08-12 10-30-07\\210812_Pac--010.D<br>batch: 210812_Pac 2021-08-12 10-30-07<br>batch_position: 10<br>idle_time: 278.0<br>sample: 210806/036 :10<br>method: SAA_411_Pac.M<br>timestamp: 2021-08-12 11:13:37<br>detector: G7110B<br>pump: G7110B<br>start_time: 2021-08-12 11:14:11<br>end_time: 2021-08-12 11:18:11<br>runtime: 239.7000000000036",
          "index: 23<br>name: 210812_Pac--011<br>path: D:/ExtractedSignals\\210812_Pac 2021-08-12 10-30-07\\210812_Pac--011.D<br>batch: 210812_Pac 2021-08-12 10-30-07<br>batch_position: 11<br>idle_time: 279.0<br>sample: 210806/036 :10<br>method: SAA_411_Pac.M<br>timestamp: 2021-08-12 11:18:16<br>detector: G7110B<br>pump: G7110B<br>start_time: 2021-08-12 11:18:50<br>end_time: 2021-08-12 11:22:50<br>runtime: 239.7000000000036",
          "index: 24<br>name: 210812_Pac--012<br>path: D:/ExtractedSignals\\210812_Pac 2021-08-12 10-30-07\\210812_Pac--012.D<br>batch: 210812_Pac 2021-08-12 10-30-07<br>batch_position: 12<br>idle_time: 279.0<br>sample: Blank<br>method: SAA_411_Pac.M<br>timestamp: 2021-08-12 11:22:55<br>detector: G1315C<br>pump: G7110B<br>start_time: 2021-08-12 11:23:29<br>end_time: 2021-08-12 11:27:29<br>runtime: 239.7000000000036",
          "index: 25<br>name: 210812_Pac--013<br>path: D:/ExtractedSignals\\210812_Pac 2021-08-12 10-30-07\\210812_Pac--013.D<br>batch: 210812_Pac 2021-08-12 10-30-07<br>batch_position: 13<br>idle_time: 279.0<br>sample: 0.025 mg/ml<br>method: SAA_411_Pac.M<br>timestamp: 2021-08-12 11:27:34<br>detector: G1315C<br>pump: G7110B<br>start_time: 2021-08-12 11:28:08<br>end_time: 2021-08-12 11:32:08<br>runtime: 239.7000000000036",
          "index: 26<br>name: 210812_Pac--014<br>path: D:/ExtractedSignals\\210812_Pac 2021-08-12 10-30-07\\210812_Pac--014.D<br>batch: 210812_Pac 2021-08-12 10-30-07<br>batch_position: 14<br>idle_time: 279.0<br>sample: Blank<br>method: SAA_411_Pac.M<br>timestamp: 2021-08-12 11:32:13<br>detector: G7110B<br>pump: G7110B<br>start_time: 2021-08-12 11:32:46<br>end_time: 2021-08-12 11:36:47<br>runtime: 239.7000000000036",
          "index: 85<br>name: 210813_Pac--003<br>path: D:/ExtractedSignals\\210813_Pac 2021-08-13 10-37-27\\210813_Pac--003.D<br>batch: 210813_Pac 2021-08-13 10-37-27<br>batch_position: 3<br>idle_time: 278.0<br>sample: Blank<br>method: SAA_411_Pac.M<br>timestamp: 2021-08-13 10:48:34<br>detector: G1315C<br>pump: G7116B<br>start_time: 2021-08-13 10:49:08<br>end_time: 2021-08-13 10:53:08<br>runtime: 239.7000000000036",
          "index: 86<br>name: 210813_Pac--004<br>path: D:/ExtractedSignals\\210813_Pac 2021-08-13 10-37-27\\210813_Pac--004.D<br>batch: 210813_Pac 2021-08-13 10-37-27<br>batch_position: 4<br>idle_time: 279.0<br>sample: Blank<br>method: SAA_411_Pac.M<br>timestamp: 2021-08-13 10:53:13<br>detector: G1315C<br>pump: G7110B<br>start_time: 2021-08-13 10:53:47<br>end_time: 2021-08-13 10:57:47<br>runtime: 239.7000000000036",
          "index: 87<br>name: 210813_Pac--005<br>path: D:/ExtractedSignals\\210813_Pac 2021-08-13 10-37-27\\210813_Pac--005.D<br>batch: 210813_Pac 2021-08-13 10-37-27<br>batch_position: 5<br>idle_time: 279.0<br>sample: NaCl 0,9%<br>method: SAA_411_Pac.M<br>timestamp: 2021-08-13 10:57:52<br>detector: G7110B<br>pump: G7110B<br>start_time: 2021-08-13 10:58:26<br>end_time: 2021-08-13 11:02:27<br>runtime: 239.7000000000036",
          "index: 88<br>name: 210813_Pac--006<br>path: D:/ExtractedSignals\\210813_Pac 2021-08-13 10-37-27\\210813_Pac--006.D<br>batch: 210813_Pac 2021-08-13 10-37-27<br>batch_position: 6<br>idle_time: 279.0<br>sample: Blank<br>method: SAA_411_Pac.M<br>timestamp: 2021-08-13 11:02:31<br>detector: G1315C<br>pump: G7110B<br>start_time: 2021-08-13 11:03:05<br>end_time: 2021-08-13 11:07:06<br>runtime: 239.7000000000036",
          "index: 89<br>name: 210813_Pac--007<br>path: D:/ExtractedSignals\\210813_Pac 2021-08-13 10-37-27\\210813_Pac--007.D<br>batch: 210813_Pac 2021-08-13 10-37-27<br>batch_position: 7<br>idle_time: 279.0<br>sample: 0.025 mg/ml<br>method: SAA_411_Pac.M<br>timestamp: 2021-08-13 11:07:10<br>detector: G1315C<br>pump: G7116B<br>start_time: 2021-08-13 11:07:44<br>end_time: 2021-08-13 11:11:45<br>runtime: 239.7000000000036",
          "index: 90<br>name: 210813_Pac--008<br>path: D:/ExtractedSignals\\210813_Pac 2021-08-13 10-37-27\\210813_Pac--008.D<br>batch: 210813_Pac 2021-08-13 10-37-27<br>batch_position: 8<br>idle_time: 279.0<br>sample: Blank<br>method: SAA_411_Pac.M<br>timestamp: 2021-08-13 11:11:49<br>detector: G1315C<br>pump: G7110B<br>start_time: 2021-08-13 11:12:23<br>end_time: 2021-08-13 11:16:23<br>runtime: 239.7000000000036",
          "index: 91<br>name: 210813_Pac--009<br>path: D:/ExtractedSignals\\210813_Pac 2021-08-13 10-37-27\\210813_Pac--009.D<br>batch: 210813_Pac 2021-08-13 10-37-27<br>batch_position: 9<br>idle_time: 279.0<br>sample: 210812/004 :20<br>method: SAA_411_Pac.M<br>timestamp: 2021-08-13 11:16:28<br>detector: G1315C<br>pump: G7110B<br>start_time: 2021-08-13 11:17:02<br>end_time: 2021-08-13 11:21:03<br>runtime: 239.7000000000036",
          "index: 92<br>name: 210813_Pac--010<br>path: D:/ExtractedSignals\\210813_Pac 2021-08-13 10-37-27\\210813_Pac--010.D<br>batch: 210813_Pac 2021-08-13 10-37-27<br>batch_position: 10<br>idle_time: 280.0<br>sample: 210812/004 :20<br>method: SAA_411_Pac.M<br>timestamp: 2021-08-13 11:21:08<br>detector: G1315C<br>pump: G7110B<br>start_time: 2021-08-13 11:21:41<br>end_time: 2021-08-13 11:25:42<br>runtime: 239.7000000000036",
          "index: 93<br>name: 210813_Pac--011<br>path: D:/ExtractedSignals\\210813_Pac 2021-08-13 10-37-27\\210813_Pac--011.D<br>batch: 210813_Pac 2021-08-13 10-37-27<br>batch_position: 11<br>idle_time: 278.0<br>sample: 210812/004 :20<br>method: SAA_411_Pac.M<br>timestamp: 2021-08-13 11:25:46<br>detector: G1315C<br>pump: G7110B<br>start_time: 2021-08-13 11:26:21<br>end_time: 2021-08-13 11:30:21<br>runtime: 239.7000000000036",
          "index: 94<br>name: 210813_Pac--012<br>path: D:/ExtractedSignals\\210813_Pac 2021-08-13 10-37-27\\210813_Pac--012.D<br>batch: 210813_Pac 2021-08-13 10-37-27<br>batch_position: 12<br>idle_time: 280.0<br>sample: Blank<br>method: SAA_411_Pac.M<br>timestamp: 2021-08-13 11:30:26<br>detector: G1315C<br>pump: G7110B<br>start_time: 2021-08-13 11:30:59<br>end_time: 2021-08-13 11:34:59<br>runtime: 239.7000000000036",
          "index: 95<br>name: 210813_Pac--013<br>path: D:/ExtractedSignals\\210813_Pac 2021-08-13 10-37-27\\210813_Pac--013.D<br>batch: 210813_Pac 2021-08-13 10-37-27<br>batch_position: 13<br>idle_time: 278.0<br>sample: 0.025 mg/ml<br>method: SAA_411_Pac.M<br>timestamp: 2021-08-13 11:35:04<br>detector: G1315C<br>pump: G7110B<br>start_time: 2021-08-13 11:35:38<br>end_time: 2021-08-13 11:39:38<br>runtime: 239.7000000000036",
          "index: 96<br>name: 210813_Pac--014<br>path: D:/ExtractedSignals\\210813_Pac 2021-08-13 10-37-27\\210813_Pac--014.D<br>batch: 210813_Pac 2021-08-13 10-37-27<br>batch_position: 14<br>idle_time: 279.0<br>sample: Blank<br>method: SAA_411_Pac.M<br>timestamp: 2021-08-13 11:39:43<br>detector: G1315C<br>pump: G7110B<br>start_time: 2021-08-13 11:40:16<br>end_time: 2021-08-13 11:44:17<br>runtime: 239.7000000000036"
         ],
         "type": "scatter",
         "x": [
          0,
          1,
          2,
          3,
          4,
          5,
          6,
          7,
          8,
          9,
          10,
          11,
          12,
          13,
          14,
          15,
          16,
          17,
          18,
          19,
          20,
          21
         ],
         "y": [
          0.0197008960358964,
          0.005157131444549,
          0.0057994733898947,
          0.0127015358438923,
          0.0306345494828945,
          0.0118945042676197,
          0.0258061545725335,
          0.0311158717066818,
          0,
          0.0136641966900467,
          0.0329487274078921,
          0.0194402909854788,
          0.0315364933038823,
          0.0160293855803441,
          0.0209361717706702,
          0.0174898018919045,
          0.0078142233648579,
          0.0116494550308527,
          0.0011100912234886,
          0.0194889962560636,
          0.0263727054435831,
          0.0394120935074868
         ]
        },
        {
         "hovertemplate": "<b>%{text}</b><br><b>x: </b>%{x}<br><b>residual_fft_sum_0: </b>%{y}<extra></extra>",
         "mode": "lines",
         "name": "residual_fft_sum_0",
         "text": [
          "index: 17<br>name: 210812_Pac--005<br>path: D:/ExtractedSignals\\210812_Pac 2021-08-12 10-30-07\\210812_Pac--005.D<br>batch: 210812_Pac 2021-08-12 10-30-07<br>batch_position: 5<br>idle_time: 279.0<br>sample: NaCl 0,9%<br>method: SAA_411_Pac.M<br>timestamp: 2021-08-12 10:50:23<br>detector: G1315C<br>pump: G7110B<br>start_time: 2021-08-12 10:50:57<br>end_time: 2021-08-12 10:54:57<br>runtime: 239.7000000000036",
          "index: 18<br>name: 210812_Pac--006<br>path: D:/ExtractedSignals\\210812_Pac 2021-08-12 10-30-07\\210812_Pac--006.D<br>batch: 210812_Pac 2021-08-12 10-30-07<br>batch_position: 6<br>idle_time: 279.0<br>sample: Blank<br>method: SAA_411_Pac.M<br>timestamp: 2021-08-12 10:55:02<br>detector: G1315C<br>pump: G7110B<br>start_time: 2021-08-12 10:55:36<br>end_time: 2021-08-12 10:59:36<br>runtime: 239.7000000000036",
          "index: 19<br>name: 210812_Pac--007<br>path: D:/ExtractedSignals\\210812_Pac 2021-08-12 10-30-07\\210812_Pac--007.D<br>batch: 210812_Pac 2021-08-12 10-30-07<br>batch_position: 7<br>idle_time: 279.0<br>sample: 0.025 mg/ml<br>method: SAA_411_Pac.M<br>timestamp: 2021-08-12 10:59:41<br>detector: G1315C<br>pump: G7110B<br>start_time: 2021-08-12 11:00:15<br>end_time: 2021-08-12 11:04:15<br>runtime: 239.7000000000036",
          "index: 20<br>name: 210812_Pac--008<br>path: D:/ExtractedSignals\\210812_Pac 2021-08-12 10-30-07\\210812_Pac--008.D<br>batch: 210812_Pac 2021-08-12 10-30-07<br>batch_position: 8<br>idle_time: 279.0<br>sample: Blank<br>method: SAA_411_Pac.M<br>timestamp: 2021-08-12 11:04:20<br>detector: G1315C<br>pump: G7110B<br>start_time: 2021-08-12 11:04:54<br>end_time: 2021-08-12 11:08:54<br>runtime: 239.7000000000036",
          "index: 21<br>name: 210812_Pac--009<br>path: D:/ExtractedSignals\\210812_Pac 2021-08-12 10-30-07\\210812_Pac--009.D<br>batch: 210812_Pac 2021-08-12 10-30-07<br>batch_position: 9<br>idle_time: 279.0<br>sample: 210806/036 :10<br>method: SAA_411_Pac.M<br>timestamp: 2021-08-12 11:08:59<br>detector: G1315C<br>pump: G7110B<br>start_time: 2021-08-12 11:09:32<br>end_time: 2021-08-12 11:13:32<br>runtime: 239.7000000000036",
          "index: 22<br>name: 210812_Pac--010<br>path: D:/ExtractedSignals\\210812_Pac 2021-08-12 10-30-07\\210812_Pac--010.D<br>batch: 210812_Pac 2021-08-12 10-30-07<br>batch_position: 10<br>idle_time: 278.0<br>sample: 210806/036 :10<br>method: SAA_411_Pac.M<br>timestamp: 2021-08-12 11:13:37<br>detector: G7110B<br>pump: G7110B<br>start_time: 2021-08-12 11:14:11<br>end_time: 2021-08-12 11:18:11<br>runtime: 239.7000000000036",
          "index: 23<br>name: 210812_Pac--011<br>path: D:/ExtractedSignals\\210812_Pac 2021-08-12 10-30-07\\210812_Pac--011.D<br>batch: 210812_Pac 2021-08-12 10-30-07<br>batch_position: 11<br>idle_time: 279.0<br>sample: 210806/036 :10<br>method: SAA_411_Pac.M<br>timestamp: 2021-08-12 11:18:16<br>detector: G7110B<br>pump: G7110B<br>start_time: 2021-08-12 11:18:50<br>end_time: 2021-08-12 11:22:50<br>runtime: 239.7000000000036",
          "index: 24<br>name: 210812_Pac--012<br>path: D:/ExtractedSignals\\210812_Pac 2021-08-12 10-30-07\\210812_Pac--012.D<br>batch: 210812_Pac 2021-08-12 10-30-07<br>batch_position: 12<br>idle_time: 279.0<br>sample: Blank<br>method: SAA_411_Pac.M<br>timestamp: 2021-08-12 11:22:55<br>detector: G1315C<br>pump: G7110B<br>start_time: 2021-08-12 11:23:29<br>end_time: 2021-08-12 11:27:29<br>runtime: 239.7000000000036",
          "index: 25<br>name: 210812_Pac--013<br>path: D:/ExtractedSignals\\210812_Pac 2021-08-12 10-30-07\\210812_Pac--013.D<br>batch: 210812_Pac 2021-08-12 10-30-07<br>batch_position: 13<br>idle_time: 279.0<br>sample: 0.025 mg/ml<br>method: SAA_411_Pac.M<br>timestamp: 2021-08-12 11:27:34<br>detector: G1315C<br>pump: G7110B<br>start_time: 2021-08-12 11:28:08<br>end_time: 2021-08-12 11:32:08<br>runtime: 239.7000000000036",
          "index: 26<br>name: 210812_Pac--014<br>path: D:/ExtractedSignals\\210812_Pac 2021-08-12 10-30-07\\210812_Pac--014.D<br>batch: 210812_Pac 2021-08-12 10-30-07<br>batch_position: 14<br>idle_time: 279.0<br>sample: Blank<br>method: SAA_411_Pac.M<br>timestamp: 2021-08-12 11:32:13<br>detector: G7110B<br>pump: G7110B<br>start_time: 2021-08-12 11:32:46<br>end_time: 2021-08-12 11:36:47<br>runtime: 239.7000000000036",
          "index: 85<br>name: 210813_Pac--003<br>path: D:/ExtractedSignals\\210813_Pac 2021-08-13 10-37-27\\210813_Pac--003.D<br>batch: 210813_Pac 2021-08-13 10-37-27<br>batch_position: 3<br>idle_time: 278.0<br>sample: Blank<br>method: SAA_411_Pac.M<br>timestamp: 2021-08-13 10:48:34<br>detector: G1315C<br>pump: G7116B<br>start_time: 2021-08-13 10:49:08<br>end_time: 2021-08-13 10:53:08<br>runtime: 239.7000000000036",
          "index: 86<br>name: 210813_Pac--004<br>path: D:/ExtractedSignals\\210813_Pac 2021-08-13 10-37-27\\210813_Pac--004.D<br>batch: 210813_Pac 2021-08-13 10-37-27<br>batch_position: 4<br>idle_time: 279.0<br>sample: Blank<br>method: SAA_411_Pac.M<br>timestamp: 2021-08-13 10:53:13<br>detector: G1315C<br>pump: G7110B<br>start_time: 2021-08-13 10:53:47<br>end_time: 2021-08-13 10:57:47<br>runtime: 239.7000000000036",
          "index: 87<br>name: 210813_Pac--005<br>path: D:/ExtractedSignals\\210813_Pac 2021-08-13 10-37-27\\210813_Pac--005.D<br>batch: 210813_Pac 2021-08-13 10-37-27<br>batch_position: 5<br>idle_time: 279.0<br>sample: NaCl 0,9%<br>method: SAA_411_Pac.M<br>timestamp: 2021-08-13 10:57:52<br>detector: G7110B<br>pump: G7110B<br>start_time: 2021-08-13 10:58:26<br>end_time: 2021-08-13 11:02:27<br>runtime: 239.7000000000036",
          "index: 88<br>name: 210813_Pac--006<br>path: D:/ExtractedSignals\\210813_Pac 2021-08-13 10-37-27\\210813_Pac--006.D<br>batch: 210813_Pac 2021-08-13 10-37-27<br>batch_position: 6<br>idle_time: 279.0<br>sample: Blank<br>method: SAA_411_Pac.M<br>timestamp: 2021-08-13 11:02:31<br>detector: G1315C<br>pump: G7110B<br>start_time: 2021-08-13 11:03:05<br>end_time: 2021-08-13 11:07:06<br>runtime: 239.7000000000036",
          "index: 89<br>name: 210813_Pac--007<br>path: D:/ExtractedSignals\\210813_Pac 2021-08-13 10-37-27\\210813_Pac--007.D<br>batch: 210813_Pac 2021-08-13 10-37-27<br>batch_position: 7<br>idle_time: 279.0<br>sample: 0.025 mg/ml<br>method: SAA_411_Pac.M<br>timestamp: 2021-08-13 11:07:10<br>detector: G1315C<br>pump: G7116B<br>start_time: 2021-08-13 11:07:44<br>end_time: 2021-08-13 11:11:45<br>runtime: 239.7000000000036",
          "index: 90<br>name: 210813_Pac--008<br>path: D:/ExtractedSignals\\210813_Pac 2021-08-13 10-37-27\\210813_Pac--008.D<br>batch: 210813_Pac 2021-08-13 10-37-27<br>batch_position: 8<br>idle_time: 279.0<br>sample: Blank<br>method: SAA_411_Pac.M<br>timestamp: 2021-08-13 11:11:49<br>detector: G1315C<br>pump: G7110B<br>start_time: 2021-08-13 11:12:23<br>end_time: 2021-08-13 11:16:23<br>runtime: 239.7000000000036",
          "index: 91<br>name: 210813_Pac--009<br>path: D:/ExtractedSignals\\210813_Pac 2021-08-13 10-37-27\\210813_Pac--009.D<br>batch: 210813_Pac 2021-08-13 10-37-27<br>batch_position: 9<br>idle_time: 279.0<br>sample: 210812/004 :20<br>method: SAA_411_Pac.M<br>timestamp: 2021-08-13 11:16:28<br>detector: G1315C<br>pump: G7110B<br>start_time: 2021-08-13 11:17:02<br>end_time: 2021-08-13 11:21:03<br>runtime: 239.7000000000036",
          "index: 92<br>name: 210813_Pac--010<br>path: D:/ExtractedSignals\\210813_Pac 2021-08-13 10-37-27\\210813_Pac--010.D<br>batch: 210813_Pac 2021-08-13 10-37-27<br>batch_position: 10<br>idle_time: 280.0<br>sample: 210812/004 :20<br>method: SAA_411_Pac.M<br>timestamp: 2021-08-13 11:21:08<br>detector: G1315C<br>pump: G7110B<br>start_time: 2021-08-13 11:21:41<br>end_time: 2021-08-13 11:25:42<br>runtime: 239.7000000000036",
          "index: 93<br>name: 210813_Pac--011<br>path: D:/ExtractedSignals\\210813_Pac 2021-08-13 10-37-27\\210813_Pac--011.D<br>batch: 210813_Pac 2021-08-13 10-37-27<br>batch_position: 11<br>idle_time: 278.0<br>sample: 210812/004 :20<br>method: SAA_411_Pac.M<br>timestamp: 2021-08-13 11:25:46<br>detector: G1315C<br>pump: G7110B<br>start_time: 2021-08-13 11:26:21<br>end_time: 2021-08-13 11:30:21<br>runtime: 239.7000000000036",
          "index: 94<br>name: 210813_Pac--012<br>path: D:/ExtractedSignals\\210813_Pac 2021-08-13 10-37-27\\210813_Pac--012.D<br>batch: 210813_Pac 2021-08-13 10-37-27<br>batch_position: 12<br>idle_time: 280.0<br>sample: Blank<br>method: SAA_411_Pac.M<br>timestamp: 2021-08-13 11:30:26<br>detector: G1315C<br>pump: G7110B<br>start_time: 2021-08-13 11:30:59<br>end_time: 2021-08-13 11:34:59<br>runtime: 239.7000000000036",
          "index: 95<br>name: 210813_Pac--013<br>path: D:/ExtractedSignals\\210813_Pac 2021-08-13 10-37-27\\210813_Pac--013.D<br>batch: 210813_Pac 2021-08-13 10-37-27<br>batch_position: 13<br>idle_time: 278.0<br>sample: 0.025 mg/ml<br>method: SAA_411_Pac.M<br>timestamp: 2021-08-13 11:35:04<br>detector: G1315C<br>pump: G7110B<br>start_time: 2021-08-13 11:35:38<br>end_time: 2021-08-13 11:39:38<br>runtime: 239.7000000000036",
          "index: 96<br>name: 210813_Pac--014<br>path: D:/ExtractedSignals\\210813_Pac 2021-08-13 10-37-27\\210813_Pac--014.D<br>batch: 210813_Pac 2021-08-13 10-37-27<br>batch_position: 14<br>idle_time: 279.0<br>sample: Blank<br>method: SAA_411_Pac.M<br>timestamp: 2021-08-13 11:39:43<br>detector: G1315C<br>pump: G7110B<br>start_time: 2021-08-13 11:40:16<br>end_time: 2021-08-13 11:44:17<br>runtime: 239.7000000000036"
         ],
         "type": "scatter",
         "x": [
          0,
          1,
          2,
          3,
          4,
          5,
          6,
          7,
          8,
          9,
          10,
          11,
          12,
          13,
          14,
          15,
          16,
          17,
          18,
          19,
          20,
          21
         ],
         "y": [
          0.0197008960358964,
          0.005157131444549,
          0.0057994733898947,
          0.0127015358438923,
          0.0306345494828945,
          0.0118945042676197,
          0.0258061545725335,
          0.0311158717066818,
          0,
          0.0136641966900467,
          0.0329487274078921,
          0.0194402909854788,
          0.0315364933038823,
          0.0160293855803441,
          0.0209361717706702,
          0.0174898018919045,
          0.0078142233648579,
          0.0116494550308527,
          0.0011100912234886,
          0.0194889962560636,
          0.0263727054435831,
          0.0394120935074868
         ]
        },
        {
         "hovertemplate": "<b>%{text}</b><br><b>x: </b>%{x}<br><b>seasonal_fft_mean_1: </b>%{y}<extra></extra>",
         "mode": "lines",
         "name": "seasonal_fft_mean_1",
         "text": [
          "index: 17<br>name: 210812_Pac--005<br>path: D:/ExtractedSignals\\210812_Pac 2021-08-12 10-30-07\\210812_Pac--005.D<br>batch: 210812_Pac 2021-08-12 10-30-07<br>batch_position: 5<br>idle_time: 279.0<br>sample: NaCl 0,9%<br>method: SAA_411_Pac.M<br>timestamp: 2021-08-12 10:50:23<br>detector: G1315C<br>pump: G7110B<br>start_time: 2021-08-12 10:50:57<br>end_time: 2021-08-12 10:54:57<br>runtime: 239.7000000000036",
          "index: 18<br>name: 210812_Pac--006<br>path: D:/ExtractedSignals\\210812_Pac 2021-08-12 10-30-07\\210812_Pac--006.D<br>batch: 210812_Pac 2021-08-12 10-30-07<br>batch_position: 6<br>idle_time: 279.0<br>sample: Blank<br>method: SAA_411_Pac.M<br>timestamp: 2021-08-12 10:55:02<br>detector: G1315C<br>pump: G7110B<br>start_time: 2021-08-12 10:55:36<br>end_time: 2021-08-12 10:59:36<br>runtime: 239.7000000000036",
          "index: 19<br>name: 210812_Pac--007<br>path: D:/ExtractedSignals\\210812_Pac 2021-08-12 10-30-07\\210812_Pac--007.D<br>batch: 210812_Pac 2021-08-12 10-30-07<br>batch_position: 7<br>idle_time: 279.0<br>sample: 0.025 mg/ml<br>method: SAA_411_Pac.M<br>timestamp: 2021-08-12 10:59:41<br>detector: G1315C<br>pump: G7110B<br>start_time: 2021-08-12 11:00:15<br>end_time: 2021-08-12 11:04:15<br>runtime: 239.7000000000036",
          "index: 20<br>name: 210812_Pac--008<br>path: D:/ExtractedSignals\\210812_Pac 2021-08-12 10-30-07\\210812_Pac--008.D<br>batch: 210812_Pac 2021-08-12 10-30-07<br>batch_position: 8<br>idle_time: 279.0<br>sample: Blank<br>method: SAA_411_Pac.M<br>timestamp: 2021-08-12 11:04:20<br>detector: G1315C<br>pump: G7110B<br>start_time: 2021-08-12 11:04:54<br>end_time: 2021-08-12 11:08:54<br>runtime: 239.7000000000036",
          "index: 21<br>name: 210812_Pac--009<br>path: D:/ExtractedSignals\\210812_Pac 2021-08-12 10-30-07\\210812_Pac--009.D<br>batch: 210812_Pac 2021-08-12 10-30-07<br>batch_position: 9<br>idle_time: 279.0<br>sample: 210806/036 :10<br>method: SAA_411_Pac.M<br>timestamp: 2021-08-12 11:08:59<br>detector: G1315C<br>pump: G7110B<br>start_time: 2021-08-12 11:09:32<br>end_time: 2021-08-12 11:13:32<br>runtime: 239.7000000000036",
          "index: 22<br>name: 210812_Pac--010<br>path: D:/ExtractedSignals\\210812_Pac 2021-08-12 10-30-07\\210812_Pac--010.D<br>batch: 210812_Pac 2021-08-12 10-30-07<br>batch_position: 10<br>idle_time: 278.0<br>sample: 210806/036 :10<br>method: SAA_411_Pac.M<br>timestamp: 2021-08-12 11:13:37<br>detector: G7110B<br>pump: G7110B<br>start_time: 2021-08-12 11:14:11<br>end_time: 2021-08-12 11:18:11<br>runtime: 239.7000000000036",
          "index: 23<br>name: 210812_Pac--011<br>path: D:/ExtractedSignals\\210812_Pac 2021-08-12 10-30-07\\210812_Pac--011.D<br>batch: 210812_Pac 2021-08-12 10-30-07<br>batch_position: 11<br>idle_time: 279.0<br>sample: 210806/036 :10<br>method: SAA_411_Pac.M<br>timestamp: 2021-08-12 11:18:16<br>detector: G7110B<br>pump: G7110B<br>start_time: 2021-08-12 11:18:50<br>end_time: 2021-08-12 11:22:50<br>runtime: 239.7000000000036",
          "index: 24<br>name: 210812_Pac--012<br>path: D:/ExtractedSignals\\210812_Pac 2021-08-12 10-30-07\\210812_Pac--012.D<br>batch: 210812_Pac 2021-08-12 10-30-07<br>batch_position: 12<br>idle_time: 279.0<br>sample: Blank<br>method: SAA_411_Pac.M<br>timestamp: 2021-08-12 11:22:55<br>detector: G1315C<br>pump: G7110B<br>start_time: 2021-08-12 11:23:29<br>end_time: 2021-08-12 11:27:29<br>runtime: 239.7000000000036",
          "index: 25<br>name: 210812_Pac--013<br>path: D:/ExtractedSignals\\210812_Pac 2021-08-12 10-30-07\\210812_Pac--013.D<br>batch: 210812_Pac 2021-08-12 10-30-07<br>batch_position: 13<br>idle_time: 279.0<br>sample: 0.025 mg/ml<br>method: SAA_411_Pac.M<br>timestamp: 2021-08-12 11:27:34<br>detector: G1315C<br>pump: G7110B<br>start_time: 2021-08-12 11:28:08<br>end_time: 2021-08-12 11:32:08<br>runtime: 239.7000000000036",
          "index: 26<br>name: 210812_Pac--014<br>path: D:/ExtractedSignals\\210812_Pac 2021-08-12 10-30-07\\210812_Pac--014.D<br>batch: 210812_Pac 2021-08-12 10-30-07<br>batch_position: 14<br>idle_time: 279.0<br>sample: Blank<br>method: SAA_411_Pac.M<br>timestamp: 2021-08-12 11:32:13<br>detector: G7110B<br>pump: G7110B<br>start_time: 2021-08-12 11:32:46<br>end_time: 2021-08-12 11:36:47<br>runtime: 239.7000000000036",
          "index: 85<br>name: 210813_Pac--003<br>path: D:/ExtractedSignals\\210813_Pac 2021-08-13 10-37-27\\210813_Pac--003.D<br>batch: 210813_Pac 2021-08-13 10-37-27<br>batch_position: 3<br>idle_time: 278.0<br>sample: Blank<br>method: SAA_411_Pac.M<br>timestamp: 2021-08-13 10:48:34<br>detector: G1315C<br>pump: G7116B<br>start_time: 2021-08-13 10:49:08<br>end_time: 2021-08-13 10:53:08<br>runtime: 239.7000000000036",
          "index: 86<br>name: 210813_Pac--004<br>path: D:/ExtractedSignals\\210813_Pac 2021-08-13 10-37-27\\210813_Pac--004.D<br>batch: 210813_Pac 2021-08-13 10-37-27<br>batch_position: 4<br>idle_time: 279.0<br>sample: Blank<br>method: SAA_411_Pac.M<br>timestamp: 2021-08-13 10:53:13<br>detector: G1315C<br>pump: G7110B<br>start_time: 2021-08-13 10:53:47<br>end_time: 2021-08-13 10:57:47<br>runtime: 239.7000000000036",
          "index: 87<br>name: 210813_Pac--005<br>path: D:/ExtractedSignals\\210813_Pac 2021-08-13 10-37-27\\210813_Pac--005.D<br>batch: 210813_Pac 2021-08-13 10-37-27<br>batch_position: 5<br>idle_time: 279.0<br>sample: NaCl 0,9%<br>method: SAA_411_Pac.M<br>timestamp: 2021-08-13 10:57:52<br>detector: G7110B<br>pump: G7110B<br>start_time: 2021-08-13 10:58:26<br>end_time: 2021-08-13 11:02:27<br>runtime: 239.7000000000036",
          "index: 88<br>name: 210813_Pac--006<br>path: D:/ExtractedSignals\\210813_Pac 2021-08-13 10-37-27\\210813_Pac--006.D<br>batch: 210813_Pac 2021-08-13 10-37-27<br>batch_position: 6<br>idle_time: 279.0<br>sample: Blank<br>method: SAA_411_Pac.M<br>timestamp: 2021-08-13 11:02:31<br>detector: G1315C<br>pump: G7110B<br>start_time: 2021-08-13 11:03:05<br>end_time: 2021-08-13 11:07:06<br>runtime: 239.7000000000036",
          "index: 89<br>name: 210813_Pac--007<br>path: D:/ExtractedSignals\\210813_Pac 2021-08-13 10-37-27\\210813_Pac--007.D<br>batch: 210813_Pac 2021-08-13 10-37-27<br>batch_position: 7<br>idle_time: 279.0<br>sample: 0.025 mg/ml<br>method: SAA_411_Pac.M<br>timestamp: 2021-08-13 11:07:10<br>detector: G1315C<br>pump: G7116B<br>start_time: 2021-08-13 11:07:44<br>end_time: 2021-08-13 11:11:45<br>runtime: 239.7000000000036",
          "index: 90<br>name: 210813_Pac--008<br>path: D:/ExtractedSignals\\210813_Pac 2021-08-13 10-37-27\\210813_Pac--008.D<br>batch: 210813_Pac 2021-08-13 10-37-27<br>batch_position: 8<br>idle_time: 279.0<br>sample: Blank<br>method: SAA_411_Pac.M<br>timestamp: 2021-08-13 11:11:49<br>detector: G1315C<br>pump: G7110B<br>start_time: 2021-08-13 11:12:23<br>end_time: 2021-08-13 11:16:23<br>runtime: 239.7000000000036",
          "index: 91<br>name: 210813_Pac--009<br>path: D:/ExtractedSignals\\210813_Pac 2021-08-13 10-37-27\\210813_Pac--009.D<br>batch: 210813_Pac 2021-08-13 10-37-27<br>batch_position: 9<br>idle_time: 279.0<br>sample: 210812/004 :20<br>method: SAA_411_Pac.M<br>timestamp: 2021-08-13 11:16:28<br>detector: G1315C<br>pump: G7110B<br>start_time: 2021-08-13 11:17:02<br>end_time: 2021-08-13 11:21:03<br>runtime: 239.7000000000036",
          "index: 92<br>name: 210813_Pac--010<br>path: D:/ExtractedSignals\\210813_Pac 2021-08-13 10-37-27\\210813_Pac--010.D<br>batch: 210813_Pac 2021-08-13 10-37-27<br>batch_position: 10<br>idle_time: 280.0<br>sample: 210812/004 :20<br>method: SAA_411_Pac.M<br>timestamp: 2021-08-13 11:21:08<br>detector: G1315C<br>pump: G7110B<br>start_time: 2021-08-13 11:21:41<br>end_time: 2021-08-13 11:25:42<br>runtime: 239.7000000000036",
          "index: 93<br>name: 210813_Pac--011<br>path: D:/ExtractedSignals\\210813_Pac 2021-08-13 10-37-27\\210813_Pac--011.D<br>batch: 210813_Pac 2021-08-13 10-37-27<br>batch_position: 11<br>idle_time: 278.0<br>sample: 210812/004 :20<br>method: SAA_411_Pac.M<br>timestamp: 2021-08-13 11:25:46<br>detector: G1315C<br>pump: G7110B<br>start_time: 2021-08-13 11:26:21<br>end_time: 2021-08-13 11:30:21<br>runtime: 239.7000000000036",
          "index: 94<br>name: 210813_Pac--012<br>path: D:/ExtractedSignals\\210813_Pac 2021-08-13 10-37-27\\210813_Pac--012.D<br>batch: 210813_Pac 2021-08-13 10-37-27<br>batch_position: 12<br>idle_time: 280.0<br>sample: Blank<br>method: SAA_411_Pac.M<br>timestamp: 2021-08-13 11:30:26<br>detector: G1315C<br>pump: G7110B<br>start_time: 2021-08-13 11:30:59<br>end_time: 2021-08-13 11:34:59<br>runtime: 239.7000000000036",
          "index: 95<br>name: 210813_Pac--013<br>path: D:/ExtractedSignals\\210813_Pac 2021-08-13 10-37-27\\210813_Pac--013.D<br>batch: 210813_Pac 2021-08-13 10-37-27<br>batch_position: 13<br>idle_time: 278.0<br>sample: 0.025 mg/ml<br>method: SAA_411_Pac.M<br>timestamp: 2021-08-13 11:35:04<br>detector: G1315C<br>pump: G7110B<br>start_time: 2021-08-13 11:35:38<br>end_time: 2021-08-13 11:39:38<br>runtime: 239.7000000000036",
          "index: 96<br>name: 210813_Pac--014<br>path: D:/ExtractedSignals\\210813_Pac 2021-08-13 10-37-27\\210813_Pac--014.D<br>batch: 210813_Pac 2021-08-13 10-37-27<br>batch_position: 14<br>idle_time: 279.0<br>sample: Blank<br>method: SAA_411_Pac.M<br>timestamp: 2021-08-13 11:39:43<br>detector: G1315C<br>pump: G7110B<br>start_time: 2021-08-13 11:40:16<br>end_time: 2021-08-13 11:44:17<br>runtime: 239.7000000000036"
         ],
         "type": "scatter",
         "x": [
          0,
          1,
          2,
          3,
          4,
          5,
          6,
          7,
          8,
          9,
          10,
          11,
          12,
          13,
          14,
          15,
          16,
          17,
          18,
          19,
          20,
          21
         ],
         "y": [
          0.0114574269900408,
          0.0093874362842248,
          0.0020685847907406,
          0.0076704773879444,
          0.0218304575676972,
          0.0013434430981819,
          0.0117125030799681,
          0.0009768619655928,
          0.0068159037415893,
          0.0061515794365744,
          0.0177139802834048,
          0.0327631177906959,
          0.0115020094867602,
          0.0230813421163376,
          0.014942726251551,
          0.0206695305375078,
          0.0124160067750632,
          0.0044154833366805,
          0.0029492507204416,
          0.0086887109153527,
          0.00822897084217,
          0.0197262310746548
         ]
        },
        {
         "hovertemplate": "<b>%{text}</b><br><b>x: </b>%{x}<br><b>seasonal_fft_sum_1: </b>%{y}<extra></extra>",
         "mode": "lines",
         "name": "seasonal_fft_sum_1",
         "text": [
          "index: 17<br>name: 210812_Pac--005<br>path: D:/ExtractedSignals\\210812_Pac 2021-08-12 10-30-07\\210812_Pac--005.D<br>batch: 210812_Pac 2021-08-12 10-30-07<br>batch_position: 5<br>idle_time: 279.0<br>sample: NaCl 0,9%<br>method: SAA_411_Pac.M<br>timestamp: 2021-08-12 10:50:23<br>detector: G1315C<br>pump: G7110B<br>start_time: 2021-08-12 10:50:57<br>end_time: 2021-08-12 10:54:57<br>runtime: 239.7000000000036",
          "index: 18<br>name: 210812_Pac--006<br>path: D:/ExtractedSignals\\210812_Pac 2021-08-12 10-30-07\\210812_Pac--006.D<br>batch: 210812_Pac 2021-08-12 10-30-07<br>batch_position: 6<br>idle_time: 279.0<br>sample: Blank<br>method: SAA_411_Pac.M<br>timestamp: 2021-08-12 10:55:02<br>detector: G1315C<br>pump: G7110B<br>start_time: 2021-08-12 10:55:36<br>end_time: 2021-08-12 10:59:36<br>runtime: 239.7000000000036",
          "index: 19<br>name: 210812_Pac--007<br>path: D:/ExtractedSignals\\210812_Pac 2021-08-12 10-30-07\\210812_Pac--007.D<br>batch: 210812_Pac 2021-08-12 10-30-07<br>batch_position: 7<br>idle_time: 279.0<br>sample: 0.025 mg/ml<br>method: SAA_411_Pac.M<br>timestamp: 2021-08-12 10:59:41<br>detector: G1315C<br>pump: G7110B<br>start_time: 2021-08-12 11:00:15<br>end_time: 2021-08-12 11:04:15<br>runtime: 239.7000000000036",
          "index: 20<br>name: 210812_Pac--008<br>path: D:/ExtractedSignals\\210812_Pac 2021-08-12 10-30-07\\210812_Pac--008.D<br>batch: 210812_Pac 2021-08-12 10-30-07<br>batch_position: 8<br>idle_time: 279.0<br>sample: Blank<br>method: SAA_411_Pac.M<br>timestamp: 2021-08-12 11:04:20<br>detector: G1315C<br>pump: G7110B<br>start_time: 2021-08-12 11:04:54<br>end_time: 2021-08-12 11:08:54<br>runtime: 239.7000000000036",
          "index: 21<br>name: 210812_Pac--009<br>path: D:/ExtractedSignals\\210812_Pac 2021-08-12 10-30-07\\210812_Pac--009.D<br>batch: 210812_Pac 2021-08-12 10-30-07<br>batch_position: 9<br>idle_time: 279.0<br>sample: 210806/036 :10<br>method: SAA_411_Pac.M<br>timestamp: 2021-08-12 11:08:59<br>detector: G1315C<br>pump: G7110B<br>start_time: 2021-08-12 11:09:32<br>end_time: 2021-08-12 11:13:32<br>runtime: 239.7000000000036",
          "index: 22<br>name: 210812_Pac--010<br>path: D:/ExtractedSignals\\210812_Pac 2021-08-12 10-30-07\\210812_Pac--010.D<br>batch: 210812_Pac 2021-08-12 10-30-07<br>batch_position: 10<br>idle_time: 278.0<br>sample: 210806/036 :10<br>method: SAA_411_Pac.M<br>timestamp: 2021-08-12 11:13:37<br>detector: G7110B<br>pump: G7110B<br>start_time: 2021-08-12 11:14:11<br>end_time: 2021-08-12 11:18:11<br>runtime: 239.7000000000036",
          "index: 23<br>name: 210812_Pac--011<br>path: D:/ExtractedSignals\\210812_Pac 2021-08-12 10-30-07\\210812_Pac--011.D<br>batch: 210812_Pac 2021-08-12 10-30-07<br>batch_position: 11<br>idle_time: 279.0<br>sample: 210806/036 :10<br>method: SAA_411_Pac.M<br>timestamp: 2021-08-12 11:18:16<br>detector: G7110B<br>pump: G7110B<br>start_time: 2021-08-12 11:18:50<br>end_time: 2021-08-12 11:22:50<br>runtime: 239.7000000000036",
          "index: 24<br>name: 210812_Pac--012<br>path: D:/ExtractedSignals\\210812_Pac 2021-08-12 10-30-07\\210812_Pac--012.D<br>batch: 210812_Pac 2021-08-12 10-30-07<br>batch_position: 12<br>idle_time: 279.0<br>sample: Blank<br>method: SAA_411_Pac.M<br>timestamp: 2021-08-12 11:22:55<br>detector: G1315C<br>pump: G7110B<br>start_time: 2021-08-12 11:23:29<br>end_time: 2021-08-12 11:27:29<br>runtime: 239.7000000000036",
          "index: 25<br>name: 210812_Pac--013<br>path: D:/ExtractedSignals\\210812_Pac 2021-08-12 10-30-07\\210812_Pac--013.D<br>batch: 210812_Pac 2021-08-12 10-30-07<br>batch_position: 13<br>idle_time: 279.0<br>sample: 0.025 mg/ml<br>method: SAA_411_Pac.M<br>timestamp: 2021-08-12 11:27:34<br>detector: G1315C<br>pump: G7110B<br>start_time: 2021-08-12 11:28:08<br>end_time: 2021-08-12 11:32:08<br>runtime: 239.7000000000036",
          "index: 26<br>name: 210812_Pac--014<br>path: D:/ExtractedSignals\\210812_Pac 2021-08-12 10-30-07\\210812_Pac--014.D<br>batch: 210812_Pac 2021-08-12 10-30-07<br>batch_position: 14<br>idle_time: 279.0<br>sample: Blank<br>method: SAA_411_Pac.M<br>timestamp: 2021-08-12 11:32:13<br>detector: G7110B<br>pump: G7110B<br>start_time: 2021-08-12 11:32:46<br>end_time: 2021-08-12 11:36:47<br>runtime: 239.7000000000036",
          "index: 85<br>name: 210813_Pac--003<br>path: D:/ExtractedSignals\\210813_Pac 2021-08-13 10-37-27\\210813_Pac--003.D<br>batch: 210813_Pac 2021-08-13 10-37-27<br>batch_position: 3<br>idle_time: 278.0<br>sample: Blank<br>method: SAA_411_Pac.M<br>timestamp: 2021-08-13 10:48:34<br>detector: G1315C<br>pump: G7116B<br>start_time: 2021-08-13 10:49:08<br>end_time: 2021-08-13 10:53:08<br>runtime: 239.7000000000036",
          "index: 86<br>name: 210813_Pac--004<br>path: D:/ExtractedSignals\\210813_Pac 2021-08-13 10-37-27\\210813_Pac--004.D<br>batch: 210813_Pac 2021-08-13 10-37-27<br>batch_position: 4<br>idle_time: 279.0<br>sample: Blank<br>method: SAA_411_Pac.M<br>timestamp: 2021-08-13 10:53:13<br>detector: G1315C<br>pump: G7110B<br>start_time: 2021-08-13 10:53:47<br>end_time: 2021-08-13 10:57:47<br>runtime: 239.7000000000036",
          "index: 87<br>name: 210813_Pac--005<br>path: D:/ExtractedSignals\\210813_Pac 2021-08-13 10-37-27\\210813_Pac--005.D<br>batch: 210813_Pac 2021-08-13 10-37-27<br>batch_position: 5<br>idle_time: 279.0<br>sample: NaCl 0,9%<br>method: SAA_411_Pac.M<br>timestamp: 2021-08-13 10:57:52<br>detector: G7110B<br>pump: G7110B<br>start_time: 2021-08-13 10:58:26<br>end_time: 2021-08-13 11:02:27<br>runtime: 239.7000000000036",
          "index: 88<br>name: 210813_Pac--006<br>path: D:/ExtractedSignals\\210813_Pac 2021-08-13 10-37-27\\210813_Pac--006.D<br>batch: 210813_Pac 2021-08-13 10-37-27<br>batch_position: 6<br>idle_time: 279.0<br>sample: Blank<br>method: SAA_411_Pac.M<br>timestamp: 2021-08-13 11:02:31<br>detector: G1315C<br>pump: G7110B<br>start_time: 2021-08-13 11:03:05<br>end_time: 2021-08-13 11:07:06<br>runtime: 239.7000000000036",
          "index: 89<br>name: 210813_Pac--007<br>path: D:/ExtractedSignals\\210813_Pac 2021-08-13 10-37-27\\210813_Pac--007.D<br>batch: 210813_Pac 2021-08-13 10-37-27<br>batch_position: 7<br>idle_time: 279.0<br>sample: 0.025 mg/ml<br>method: SAA_411_Pac.M<br>timestamp: 2021-08-13 11:07:10<br>detector: G1315C<br>pump: G7116B<br>start_time: 2021-08-13 11:07:44<br>end_time: 2021-08-13 11:11:45<br>runtime: 239.7000000000036",
          "index: 90<br>name: 210813_Pac--008<br>path: D:/ExtractedSignals\\210813_Pac 2021-08-13 10-37-27\\210813_Pac--008.D<br>batch: 210813_Pac 2021-08-13 10-37-27<br>batch_position: 8<br>idle_time: 279.0<br>sample: Blank<br>method: SAA_411_Pac.M<br>timestamp: 2021-08-13 11:11:49<br>detector: G1315C<br>pump: G7110B<br>start_time: 2021-08-13 11:12:23<br>end_time: 2021-08-13 11:16:23<br>runtime: 239.7000000000036",
          "index: 91<br>name: 210813_Pac--009<br>path: D:/ExtractedSignals\\210813_Pac 2021-08-13 10-37-27\\210813_Pac--009.D<br>batch: 210813_Pac 2021-08-13 10-37-27<br>batch_position: 9<br>idle_time: 279.0<br>sample: 210812/004 :20<br>method: SAA_411_Pac.M<br>timestamp: 2021-08-13 11:16:28<br>detector: G1315C<br>pump: G7110B<br>start_time: 2021-08-13 11:17:02<br>end_time: 2021-08-13 11:21:03<br>runtime: 239.7000000000036",
          "index: 92<br>name: 210813_Pac--010<br>path: D:/ExtractedSignals\\210813_Pac 2021-08-13 10-37-27\\210813_Pac--010.D<br>batch: 210813_Pac 2021-08-13 10-37-27<br>batch_position: 10<br>idle_time: 280.0<br>sample: 210812/004 :20<br>method: SAA_411_Pac.M<br>timestamp: 2021-08-13 11:21:08<br>detector: G1315C<br>pump: G7110B<br>start_time: 2021-08-13 11:21:41<br>end_time: 2021-08-13 11:25:42<br>runtime: 239.7000000000036",
          "index: 93<br>name: 210813_Pac--011<br>path: D:/ExtractedSignals\\210813_Pac 2021-08-13 10-37-27\\210813_Pac--011.D<br>batch: 210813_Pac 2021-08-13 10-37-27<br>batch_position: 11<br>idle_time: 278.0<br>sample: 210812/004 :20<br>method: SAA_411_Pac.M<br>timestamp: 2021-08-13 11:25:46<br>detector: G1315C<br>pump: G7110B<br>start_time: 2021-08-13 11:26:21<br>end_time: 2021-08-13 11:30:21<br>runtime: 239.7000000000036",
          "index: 94<br>name: 210813_Pac--012<br>path: D:/ExtractedSignals\\210813_Pac 2021-08-13 10-37-27\\210813_Pac--012.D<br>batch: 210813_Pac 2021-08-13 10-37-27<br>batch_position: 12<br>idle_time: 280.0<br>sample: Blank<br>method: SAA_411_Pac.M<br>timestamp: 2021-08-13 11:30:26<br>detector: G1315C<br>pump: G7110B<br>start_time: 2021-08-13 11:30:59<br>end_time: 2021-08-13 11:34:59<br>runtime: 239.7000000000036",
          "index: 95<br>name: 210813_Pac--013<br>path: D:/ExtractedSignals\\210813_Pac 2021-08-13 10-37-27\\210813_Pac--013.D<br>batch: 210813_Pac 2021-08-13 10-37-27<br>batch_position: 13<br>idle_time: 278.0<br>sample: 0.025 mg/ml<br>method: SAA_411_Pac.M<br>timestamp: 2021-08-13 11:35:04<br>detector: G1315C<br>pump: G7110B<br>start_time: 2021-08-13 11:35:38<br>end_time: 2021-08-13 11:39:38<br>runtime: 239.7000000000036",
          "index: 96<br>name: 210813_Pac--014<br>path: D:/ExtractedSignals\\210813_Pac 2021-08-13 10-37-27\\210813_Pac--014.D<br>batch: 210813_Pac 2021-08-13 10-37-27<br>batch_position: 14<br>idle_time: 279.0<br>sample: Blank<br>method: SAA_411_Pac.M<br>timestamp: 2021-08-13 11:39:43<br>detector: G1315C<br>pump: G7110B<br>start_time: 2021-08-13 11:40:16<br>end_time: 2021-08-13 11:44:17<br>runtime: 239.7000000000036"
         ],
         "type": "scatter",
         "x": [
          0,
          1,
          2,
          3,
          4,
          5,
          6,
          7,
          8,
          9,
          10,
          11,
          12,
          13,
          14,
          15,
          16,
          17,
          18,
          19,
          20,
          21
         ],
         "y": [
          0.0114574269900408,
          0.0093874362842248,
          0.0020685847907406,
          0.0076704773879444,
          0.0218304575676972,
          0.0013434430981819,
          0.0117125030799681,
          0.0009768619655928,
          0.0068159037415893,
          0.0061515794365744,
          0.0177139802834048,
          0.0327631177906959,
          0.0115020094867602,
          0.0230813421163376,
          0.014942726251551,
          0.0206695305375078,
          0.0124160067750632,
          0.0044154833366805,
          0.0029492507204416,
          0.0086887109153527,
          0.00822897084217,
          0.0197262310746548
         ]
        },
        {
         "hovertemplate": "<b>%{text}</b><br><b>x: </b>%{x}<br><b>residual_fft_mean_1: </b>%{y}<extra></extra>",
         "mode": "lines",
         "name": "residual_fft_mean_1",
         "text": [
          "index: 17<br>name: 210812_Pac--005<br>path: D:/ExtractedSignals\\210812_Pac 2021-08-12 10-30-07\\210812_Pac--005.D<br>batch: 210812_Pac 2021-08-12 10-30-07<br>batch_position: 5<br>idle_time: 279.0<br>sample: NaCl 0,9%<br>method: SAA_411_Pac.M<br>timestamp: 2021-08-12 10:50:23<br>detector: G1315C<br>pump: G7110B<br>start_time: 2021-08-12 10:50:57<br>end_time: 2021-08-12 10:54:57<br>runtime: 239.7000000000036",
          "index: 18<br>name: 210812_Pac--006<br>path: D:/ExtractedSignals\\210812_Pac 2021-08-12 10-30-07\\210812_Pac--006.D<br>batch: 210812_Pac 2021-08-12 10-30-07<br>batch_position: 6<br>idle_time: 279.0<br>sample: Blank<br>method: SAA_411_Pac.M<br>timestamp: 2021-08-12 10:55:02<br>detector: G1315C<br>pump: G7110B<br>start_time: 2021-08-12 10:55:36<br>end_time: 2021-08-12 10:59:36<br>runtime: 239.7000000000036",
          "index: 19<br>name: 210812_Pac--007<br>path: D:/ExtractedSignals\\210812_Pac 2021-08-12 10-30-07\\210812_Pac--007.D<br>batch: 210812_Pac 2021-08-12 10-30-07<br>batch_position: 7<br>idle_time: 279.0<br>sample: 0.025 mg/ml<br>method: SAA_411_Pac.M<br>timestamp: 2021-08-12 10:59:41<br>detector: G1315C<br>pump: G7110B<br>start_time: 2021-08-12 11:00:15<br>end_time: 2021-08-12 11:04:15<br>runtime: 239.7000000000036",
          "index: 20<br>name: 210812_Pac--008<br>path: D:/ExtractedSignals\\210812_Pac 2021-08-12 10-30-07\\210812_Pac--008.D<br>batch: 210812_Pac 2021-08-12 10-30-07<br>batch_position: 8<br>idle_time: 279.0<br>sample: Blank<br>method: SAA_411_Pac.M<br>timestamp: 2021-08-12 11:04:20<br>detector: G1315C<br>pump: G7110B<br>start_time: 2021-08-12 11:04:54<br>end_time: 2021-08-12 11:08:54<br>runtime: 239.7000000000036",
          "index: 21<br>name: 210812_Pac--009<br>path: D:/ExtractedSignals\\210812_Pac 2021-08-12 10-30-07\\210812_Pac--009.D<br>batch: 210812_Pac 2021-08-12 10-30-07<br>batch_position: 9<br>idle_time: 279.0<br>sample: 210806/036 :10<br>method: SAA_411_Pac.M<br>timestamp: 2021-08-12 11:08:59<br>detector: G1315C<br>pump: G7110B<br>start_time: 2021-08-12 11:09:32<br>end_time: 2021-08-12 11:13:32<br>runtime: 239.7000000000036",
          "index: 22<br>name: 210812_Pac--010<br>path: D:/ExtractedSignals\\210812_Pac 2021-08-12 10-30-07\\210812_Pac--010.D<br>batch: 210812_Pac 2021-08-12 10-30-07<br>batch_position: 10<br>idle_time: 278.0<br>sample: 210806/036 :10<br>method: SAA_411_Pac.M<br>timestamp: 2021-08-12 11:13:37<br>detector: G7110B<br>pump: G7110B<br>start_time: 2021-08-12 11:14:11<br>end_time: 2021-08-12 11:18:11<br>runtime: 239.7000000000036",
          "index: 23<br>name: 210812_Pac--011<br>path: D:/ExtractedSignals\\210812_Pac 2021-08-12 10-30-07\\210812_Pac--011.D<br>batch: 210812_Pac 2021-08-12 10-30-07<br>batch_position: 11<br>idle_time: 279.0<br>sample: 210806/036 :10<br>method: SAA_411_Pac.M<br>timestamp: 2021-08-12 11:18:16<br>detector: G7110B<br>pump: G7110B<br>start_time: 2021-08-12 11:18:50<br>end_time: 2021-08-12 11:22:50<br>runtime: 239.7000000000036",
          "index: 24<br>name: 210812_Pac--012<br>path: D:/ExtractedSignals\\210812_Pac 2021-08-12 10-30-07\\210812_Pac--012.D<br>batch: 210812_Pac 2021-08-12 10-30-07<br>batch_position: 12<br>idle_time: 279.0<br>sample: Blank<br>method: SAA_411_Pac.M<br>timestamp: 2021-08-12 11:22:55<br>detector: G1315C<br>pump: G7110B<br>start_time: 2021-08-12 11:23:29<br>end_time: 2021-08-12 11:27:29<br>runtime: 239.7000000000036",
          "index: 25<br>name: 210812_Pac--013<br>path: D:/ExtractedSignals\\210812_Pac 2021-08-12 10-30-07\\210812_Pac--013.D<br>batch: 210812_Pac 2021-08-12 10-30-07<br>batch_position: 13<br>idle_time: 279.0<br>sample: 0.025 mg/ml<br>method: SAA_411_Pac.M<br>timestamp: 2021-08-12 11:27:34<br>detector: G1315C<br>pump: G7110B<br>start_time: 2021-08-12 11:28:08<br>end_time: 2021-08-12 11:32:08<br>runtime: 239.7000000000036",
          "index: 26<br>name: 210812_Pac--014<br>path: D:/ExtractedSignals\\210812_Pac 2021-08-12 10-30-07\\210812_Pac--014.D<br>batch: 210812_Pac 2021-08-12 10-30-07<br>batch_position: 14<br>idle_time: 279.0<br>sample: Blank<br>method: SAA_411_Pac.M<br>timestamp: 2021-08-12 11:32:13<br>detector: G7110B<br>pump: G7110B<br>start_time: 2021-08-12 11:32:46<br>end_time: 2021-08-12 11:36:47<br>runtime: 239.7000000000036",
          "index: 85<br>name: 210813_Pac--003<br>path: D:/ExtractedSignals\\210813_Pac 2021-08-13 10-37-27\\210813_Pac--003.D<br>batch: 210813_Pac 2021-08-13 10-37-27<br>batch_position: 3<br>idle_time: 278.0<br>sample: Blank<br>method: SAA_411_Pac.M<br>timestamp: 2021-08-13 10:48:34<br>detector: G1315C<br>pump: G7116B<br>start_time: 2021-08-13 10:49:08<br>end_time: 2021-08-13 10:53:08<br>runtime: 239.7000000000036",
          "index: 86<br>name: 210813_Pac--004<br>path: D:/ExtractedSignals\\210813_Pac 2021-08-13 10-37-27\\210813_Pac--004.D<br>batch: 210813_Pac 2021-08-13 10-37-27<br>batch_position: 4<br>idle_time: 279.0<br>sample: Blank<br>method: SAA_411_Pac.M<br>timestamp: 2021-08-13 10:53:13<br>detector: G1315C<br>pump: G7110B<br>start_time: 2021-08-13 10:53:47<br>end_time: 2021-08-13 10:57:47<br>runtime: 239.7000000000036",
          "index: 87<br>name: 210813_Pac--005<br>path: D:/ExtractedSignals\\210813_Pac 2021-08-13 10-37-27\\210813_Pac--005.D<br>batch: 210813_Pac 2021-08-13 10-37-27<br>batch_position: 5<br>idle_time: 279.0<br>sample: NaCl 0,9%<br>method: SAA_411_Pac.M<br>timestamp: 2021-08-13 10:57:52<br>detector: G7110B<br>pump: G7110B<br>start_time: 2021-08-13 10:58:26<br>end_time: 2021-08-13 11:02:27<br>runtime: 239.7000000000036",
          "index: 88<br>name: 210813_Pac--006<br>path: D:/ExtractedSignals\\210813_Pac 2021-08-13 10-37-27\\210813_Pac--006.D<br>batch: 210813_Pac 2021-08-13 10-37-27<br>batch_position: 6<br>idle_time: 279.0<br>sample: Blank<br>method: SAA_411_Pac.M<br>timestamp: 2021-08-13 11:02:31<br>detector: G1315C<br>pump: G7110B<br>start_time: 2021-08-13 11:03:05<br>end_time: 2021-08-13 11:07:06<br>runtime: 239.7000000000036",
          "index: 89<br>name: 210813_Pac--007<br>path: D:/ExtractedSignals\\210813_Pac 2021-08-13 10-37-27\\210813_Pac--007.D<br>batch: 210813_Pac 2021-08-13 10-37-27<br>batch_position: 7<br>idle_time: 279.0<br>sample: 0.025 mg/ml<br>method: SAA_411_Pac.M<br>timestamp: 2021-08-13 11:07:10<br>detector: G1315C<br>pump: G7116B<br>start_time: 2021-08-13 11:07:44<br>end_time: 2021-08-13 11:11:45<br>runtime: 239.7000000000036",
          "index: 90<br>name: 210813_Pac--008<br>path: D:/ExtractedSignals\\210813_Pac 2021-08-13 10-37-27\\210813_Pac--008.D<br>batch: 210813_Pac 2021-08-13 10-37-27<br>batch_position: 8<br>idle_time: 279.0<br>sample: Blank<br>method: SAA_411_Pac.M<br>timestamp: 2021-08-13 11:11:49<br>detector: G1315C<br>pump: G7110B<br>start_time: 2021-08-13 11:12:23<br>end_time: 2021-08-13 11:16:23<br>runtime: 239.7000000000036",
          "index: 91<br>name: 210813_Pac--009<br>path: D:/ExtractedSignals\\210813_Pac 2021-08-13 10-37-27\\210813_Pac--009.D<br>batch: 210813_Pac 2021-08-13 10-37-27<br>batch_position: 9<br>idle_time: 279.0<br>sample: 210812/004 :20<br>method: SAA_411_Pac.M<br>timestamp: 2021-08-13 11:16:28<br>detector: G1315C<br>pump: G7110B<br>start_time: 2021-08-13 11:17:02<br>end_time: 2021-08-13 11:21:03<br>runtime: 239.7000000000036",
          "index: 92<br>name: 210813_Pac--010<br>path: D:/ExtractedSignals\\210813_Pac 2021-08-13 10-37-27\\210813_Pac--010.D<br>batch: 210813_Pac 2021-08-13 10-37-27<br>batch_position: 10<br>idle_time: 280.0<br>sample: 210812/004 :20<br>method: SAA_411_Pac.M<br>timestamp: 2021-08-13 11:21:08<br>detector: G1315C<br>pump: G7110B<br>start_time: 2021-08-13 11:21:41<br>end_time: 2021-08-13 11:25:42<br>runtime: 239.7000000000036",
          "index: 93<br>name: 210813_Pac--011<br>path: D:/ExtractedSignals\\210813_Pac 2021-08-13 10-37-27\\210813_Pac--011.D<br>batch: 210813_Pac 2021-08-13 10-37-27<br>batch_position: 11<br>idle_time: 278.0<br>sample: 210812/004 :20<br>method: SAA_411_Pac.M<br>timestamp: 2021-08-13 11:25:46<br>detector: G1315C<br>pump: G7110B<br>start_time: 2021-08-13 11:26:21<br>end_time: 2021-08-13 11:30:21<br>runtime: 239.7000000000036",
          "index: 94<br>name: 210813_Pac--012<br>path: D:/ExtractedSignals\\210813_Pac 2021-08-13 10-37-27\\210813_Pac--012.D<br>batch: 210813_Pac 2021-08-13 10-37-27<br>batch_position: 12<br>idle_time: 280.0<br>sample: Blank<br>method: SAA_411_Pac.M<br>timestamp: 2021-08-13 11:30:26<br>detector: G1315C<br>pump: G7110B<br>start_time: 2021-08-13 11:30:59<br>end_time: 2021-08-13 11:34:59<br>runtime: 239.7000000000036",
          "index: 95<br>name: 210813_Pac--013<br>path: D:/ExtractedSignals\\210813_Pac 2021-08-13 10-37-27\\210813_Pac--013.D<br>batch: 210813_Pac 2021-08-13 10-37-27<br>batch_position: 13<br>idle_time: 278.0<br>sample: 0.025 mg/ml<br>method: SAA_411_Pac.M<br>timestamp: 2021-08-13 11:35:04<br>detector: G1315C<br>pump: G7110B<br>start_time: 2021-08-13 11:35:38<br>end_time: 2021-08-13 11:39:38<br>runtime: 239.7000000000036",
          "index: 96<br>name: 210813_Pac--014<br>path: D:/ExtractedSignals\\210813_Pac 2021-08-13 10-37-27\\210813_Pac--014.D<br>batch: 210813_Pac 2021-08-13 10-37-27<br>batch_position: 14<br>idle_time: 279.0<br>sample: Blank<br>method: SAA_411_Pac.M<br>timestamp: 2021-08-13 11:39:43<br>detector: G1315C<br>pump: G7110B<br>start_time: 2021-08-13 11:40:16<br>end_time: 2021-08-13 11:44:17<br>runtime: 239.7000000000036"
         ],
         "type": "scatter",
         "x": [
          0,
          1,
          2,
          3,
          4,
          5,
          6,
          7,
          8,
          9,
          10,
          11,
          12,
          13,
          14,
          15,
          16,
          17,
          18,
          19,
          20,
          21
         ],
         "y": [
          0.0074835297766798,
          0.0064875519250034,
          0.0038379370102297,
          0.0094937900489063,
          0.0089261176804455,
          0.000004926972054775797,
          0.0086392860276104,
          0.0105338101332198,
          0.0000718127683471334,
          0.0071609466206058,
          0.0118270825055176,
          0.0060081736741133,
          0.0099797214752557,
          0.0051416882074799,
          0,
          0.0061442933337152,
          0.001762229175983,
          0.0063581936018449,
          0.0009085021175862,
          0.0074502519453115,
          0.0069094641509257,
          0.012904609776621
         ]
        },
        {
         "hovertemplate": "<b>%{text}</b><br><b>x: </b>%{x}<br><b>residual_fft_sum_1: </b>%{y}<extra></extra>",
         "mode": "lines",
         "name": "residual_fft_sum_1",
         "text": [
          "index: 17<br>name: 210812_Pac--005<br>path: D:/ExtractedSignals\\210812_Pac 2021-08-12 10-30-07\\210812_Pac--005.D<br>batch: 210812_Pac 2021-08-12 10-30-07<br>batch_position: 5<br>idle_time: 279.0<br>sample: NaCl 0,9%<br>method: SAA_411_Pac.M<br>timestamp: 2021-08-12 10:50:23<br>detector: G1315C<br>pump: G7110B<br>start_time: 2021-08-12 10:50:57<br>end_time: 2021-08-12 10:54:57<br>runtime: 239.7000000000036",
          "index: 18<br>name: 210812_Pac--006<br>path: D:/ExtractedSignals\\210812_Pac 2021-08-12 10-30-07\\210812_Pac--006.D<br>batch: 210812_Pac 2021-08-12 10-30-07<br>batch_position: 6<br>idle_time: 279.0<br>sample: Blank<br>method: SAA_411_Pac.M<br>timestamp: 2021-08-12 10:55:02<br>detector: G1315C<br>pump: G7110B<br>start_time: 2021-08-12 10:55:36<br>end_time: 2021-08-12 10:59:36<br>runtime: 239.7000000000036",
          "index: 19<br>name: 210812_Pac--007<br>path: D:/ExtractedSignals\\210812_Pac 2021-08-12 10-30-07\\210812_Pac--007.D<br>batch: 210812_Pac 2021-08-12 10-30-07<br>batch_position: 7<br>idle_time: 279.0<br>sample: 0.025 mg/ml<br>method: SAA_411_Pac.M<br>timestamp: 2021-08-12 10:59:41<br>detector: G1315C<br>pump: G7110B<br>start_time: 2021-08-12 11:00:15<br>end_time: 2021-08-12 11:04:15<br>runtime: 239.7000000000036",
          "index: 20<br>name: 210812_Pac--008<br>path: D:/ExtractedSignals\\210812_Pac 2021-08-12 10-30-07\\210812_Pac--008.D<br>batch: 210812_Pac 2021-08-12 10-30-07<br>batch_position: 8<br>idle_time: 279.0<br>sample: Blank<br>method: SAA_411_Pac.M<br>timestamp: 2021-08-12 11:04:20<br>detector: G1315C<br>pump: G7110B<br>start_time: 2021-08-12 11:04:54<br>end_time: 2021-08-12 11:08:54<br>runtime: 239.7000000000036",
          "index: 21<br>name: 210812_Pac--009<br>path: D:/ExtractedSignals\\210812_Pac 2021-08-12 10-30-07\\210812_Pac--009.D<br>batch: 210812_Pac 2021-08-12 10-30-07<br>batch_position: 9<br>idle_time: 279.0<br>sample: 210806/036 :10<br>method: SAA_411_Pac.M<br>timestamp: 2021-08-12 11:08:59<br>detector: G1315C<br>pump: G7110B<br>start_time: 2021-08-12 11:09:32<br>end_time: 2021-08-12 11:13:32<br>runtime: 239.7000000000036",
          "index: 22<br>name: 210812_Pac--010<br>path: D:/ExtractedSignals\\210812_Pac 2021-08-12 10-30-07\\210812_Pac--010.D<br>batch: 210812_Pac 2021-08-12 10-30-07<br>batch_position: 10<br>idle_time: 278.0<br>sample: 210806/036 :10<br>method: SAA_411_Pac.M<br>timestamp: 2021-08-12 11:13:37<br>detector: G7110B<br>pump: G7110B<br>start_time: 2021-08-12 11:14:11<br>end_time: 2021-08-12 11:18:11<br>runtime: 239.7000000000036",
          "index: 23<br>name: 210812_Pac--011<br>path: D:/ExtractedSignals\\210812_Pac 2021-08-12 10-30-07\\210812_Pac--011.D<br>batch: 210812_Pac 2021-08-12 10-30-07<br>batch_position: 11<br>idle_time: 279.0<br>sample: 210806/036 :10<br>method: SAA_411_Pac.M<br>timestamp: 2021-08-12 11:18:16<br>detector: G7110B<br>pump: G7110B<br>start_time: 2021-08-12 11:18:50<br>end_time: 2021-08-12 11:22:50<br>runtime: 239.7000000000036",
          "index: 24<br>name: 210812_Pac--012<br>path: D:/ExtractedSignals\\210812_Pac 2021-08-12 10-30-07\\210812_Pac--012.D<br>batch: 210812_Pac 2021-08-12 10-30-07<br>batch_position: 12<br>idle_time: 279.0<br>sample: Blank<br>method: SAA_411_Pac.M<br>timestamp: 2021-08-12 11:22:55<br>detector: G1315C<br>pump: G7110B<br>start_time: 2021-08-12 11:23:29<br>end_time: 2021-08-12 11:27:29<br>runtime: 239.7000000000036",
          "index: 25<br>name: 210812_Pac--013<br>path: D:/ExtractedSignals\\210812_Pac 2021-08-12 10-30-07\\210812_Pac--013.D<br>batch: 210812_Pac 2021-08-12 10-30-07<br>batch_position: 13<br>idle_time: 279.0<br>sample: 0.025 mg/ml<br>method: SAA_411_Pac.M<br>timestamp: 2021-08-12 11:27:34<br>detector: G1315C<br>pump: G7110B<br>start_time: 2021-08-12 11:28:08<br>end_time: 2021-08-12 11:32:08<br>runtime: 239.7000000000036",
          "index: 26<br>name: 210812_Pac--014<br>path: D:/ExtractedSignals\\210812_Pac 2021-08-12 10-30-07\\210812_Pac--014.D<br>batch: 210812_Pac 2021-08-12 10-30-07<br>batch_position: 14<br>idle_time: 279.0<br>sample: Blank<br>method: SAA_411_Pac.M<br>timestamp: 2021-08-12 11:32:13<br>detector: G7110B<br>pump: G7110B<br>start_time: 2021-08-12 11:32:46<br>end_time: 2021-08-12 11:36:47<br>runtime: 239.7000000000036",
          "index: 85<br>name: 210813_Pac--003<br>path: D:/ExtractedSignals\\210813_Pac 2021-08-13 10-37-27\\210813_Pac--003.D<br>batch: 210813_Pac 2021-08-13 10-37-27<br>batch_position: 3<br>idle_time: 278.0<br>sample: Blank<br>method: SAA_411_Pac.M<br>timestamp: 2021-08-13 10:48:34<br>detector: G1315C<br>pump: G7116B<br>start_time: 2021-08-13 10:49:08<br>end_time: 2021-08-13 10:53:08<br>runtime: 239.7000000000036",
          "index: 86<br>name: 210813_Pac--004<br>path: D:/ExtractedSignals\\210813_Pac 2021-08-13 10-37-27\\210813_Pac--004.D<br>batch: 210813_Pac 2021-08-13 10-37-27<br>batch_position: 4<br>idle_time: 279.0<br>sample: Blank<br>method: SAA_411_Pac.M<br>timestamp: 2021-08-13 10:53:13<br>detector: G1315C<br>pump: G7110B<br>start_time: 2021-08-13 10:53:47<br>end_time: 2021-08-13 10:57:47<br>runtime: 239.7000000000036",
          "index: 87<br>name: 210813_Pac--005<br>path: D:/ExtractedSignals\\210813_Pac 2021-08-13 10-37-27\\210813_Pac--005.D<br>batch: 210813_Pac 2021-08-13 10-37-27<br>batch_position: 5<br>idle_time: 279.0<br>sample: NaCl 0,9%<br>method: SAA_411_Pac.M<br>timestamp: 2021-08-13 10:57:52<br>detector: G7110B<br>pump: G7110B<br>start_time: 2021-08-13 10:58:26<br>end_time: 2021-08-13 11:02:27<br>runtime: 239.7000000000036",
          "index: 88<br>name: 210813_Pac--006<br>path: D:/ExtractedSignals\\210813_Pac 2021-08-13 10-37-27\\210813_Pac--006.D<br>batch: 210813_Pac 2021-08-13 10-37-27<br>batch_position: 6<br>idle_time: 279.0<br>sample: Blank<br>method: SAA_411_Pac.M<br>timestamp: 2021-08-13 11:02:31<br>detector: G1315C<br>pump: G7110B<br>start_time: 2021-08-13 11:03:05<br>end_time: 2021-08-13 11:07:06<br>runtime: 239.7000000000036",
          "index: 89<br>name: 210813_Pac--007<br>path: D:/ExtractedSignals\\210813_Pac 2021-08-13 10-37-27\\210813_Pac--007.D<br>batch: 210813_Pac 2021-08-13 10-37-27<br>batch_position: 7<br>idle_time: 279.0<br>sample: 0.025 mg/ml<br>method: SAA_411_Pac.M<br>timestamp: 2021-08-13 11:07:10<br>detector: G1315C<br>pump: G7116B<br>start_time: 2021-08-13 11:07:44<br>end_time: 2021-08-13 11:11:45<br>runtime: 239.7000000000036",
          "index: 90<br>name: 210813_Pac--008<br>path: D:/ExtractedSignals\\210813_Pac 2021-08-13 10-37-27\\210813_Pac--008.D<br>batch: 210813_Pac 2021-08-13 10-37-27<br>batch_position: 8<br>idle_time: 279.0<br>sample: Blank<br>method: SAA_411_Pac.M<br>timestamp: 2021-08-13 11:11:49<br>detector: G1315C<br>pump: G7110B<br>start_time: 2021-08-13 11:12:23<br>end_time: 2021-08-13 11:16:23<br>runtime: 239.7000000000036",
          "index: 91<br>name: 210813_Pac--009<br>path: D:/ExtractedSignals\\210813_Pac 2021-08-13 10-37-27\\210813_Pac--009.D<br>batch: 210813_Pac 2021-08-13 10-37-27<br>batch_position: 9<br>idle_time: 279.0<br>sample: 210812/004 :20<br>method: SAA_411_Pac.M<br>timestamp: 2021-08-13 11:16:28<br>detector: G1315C<br>pump: G7110B<br>start_time: 2021-08-13 11:17:02<br>end_time: 2021-08-13 11:21:03<br>runtime: 239.7000000000036",
          "index: 92<br>name: 210813_Pac--010<br>path: D:/ExtractedSignals\\210813_Pac 2021-08-13 10-37-27\\210813_Pac--010.D<br>batch: 210813_Pac 2021-08-13 10-37-27<br>batch_position: 10<br>idle_time: 280.0<br>sample: 210812/004 :20<br>method: SAA_411_Pac.M<br>timestamp: 2021-08-13 11:21:08<br>detector: G1315C<br>pump: G7110B<br>start_time: 2021-08-13 11:21:41<br>end_time: 2021-08-13 11:25:42<br>runtime: 239.7000000000036",
          "index: 93<br>name: 210813_Pac--011<br>path: D:/ExtractedSignals\\210813_Pac 2021-08-13 10-37-27\\210813_Pac--011.D<br>batch: 210813_Pac 2021-08-13 10-37-27<br>batch_position: 11<br>idle_time: 278.0<br>sample: 210812/004 :20<br>method: SAA_411_Pac.M<br>timestamp: 2021-08-13 11:25:46<br>detector: G1315C<br>pump: G7110B<br>start_time: 2021-08-13 11:26:21<br>end_time: 2021-08-13 11:30:21<br>runtime: 239.7000000000036",
          "index: 94<br>name: 210813_Pac--012<br>path: D:/ExtractedSignals\\210813_Pac 2021-08-13 10-37-27\\210813_Pac--012.D<br>batch: 210813_Pac 2021-08-13 10-37-27<br>batch_position: 12<br>idle_time: 280.0<br>sample: Blank<br>method: SAA_411_Pac.M<br>timestamp: 2021-08-13 11:30:26<br>detector: G1315C<br>pump: G7110B<br>start_time: 2021-08-13 11:30:59<br>end_time: 2021-08-13 11:34:59<br>runtime: 239.7000000000036",
          "index: 95<br>name: 210813_Pac--013<br>path: D:/ExtractedSignals\\210813_Pac 2021-08-13 10-37-27\\210813_Pac--013.D<br>batch: 210813_Pac 2021-08-13 10-37-27<br>batch_position: 13<br>idle_time: 278.0<br>sample: 0.025 mg/ml<br>method: SAA_411_Pac.M<br>timestamp: 2021-08-13 11:35:04<br>detector: G1315C<br>pump: G7110B<br>start_time: 2021-08-13 11:35:38<br>end_time: 2021-08-13 11:39:38<br>runtime: 239.7000000000036",
          "index: 96<br>name: 210813_Pac--014<br>path: D:/ExtractedSignals\\210813_Pac 2021-08-13 10-37-27\\210813_Pac--014.D<br>batch: 210813_Pac 2021-08-13 10-37-27<br>batch_position: 14<br>idle_time: 279.0<br>sample: Blank<br>method: SAA_411_Pac.M<br>timestamp: 2021-08-13 11:39:43<br>detector: G1315C<br>pump: G7110B<br>start_time: 2021-08-13 11:40:16<br>end_time: 2021-08-13 11:44:17<br>runtime: 239.7000000000036"
         ],
         "type": "scatter",
         "x": [
          0,
          1,
          2,
          3,
          4,
          5,
          6,
          7,
          8,
          9,
          10,
          11,
          12,
          13,
          14,
          15,
          16,
          17,
          18,
          19,
          20,
          21
         ],
         "y": [
          0.0074835297766798,
          0.0064875519250034,
          0.0038379370102297,
          0.0094937900489063,
          0.0089261176804455,
          0.000004926972054775797,
          0.0086392860276104,
          0.0105338101332198,
          0.0000718127683471334,
          0.0071609466206058,
          0.0118270825055176,
          0.0060081736741133,
          0.0099797214752557,
          0.0051416882074799,
          0,
          0.0061442933337152,
          0.001762229175983,
          0.0063581936018449,
          0.0009085021175862,
          0.0074502519453115,
          0.0069094641509257,
          0.012904609776621
         ]
        },
        {
         "hovertemplate": "<b>%{text}</b><br><b>x: </b>%{x}<br><b>seasonal_fft_mean_2: </b>%{y}<extra></extra>",
         "mode": "lines",
         "name": "seasonal_fft_mean_2",
         "text": [
          "index: 17<br>name: 210812_Pac--005<br>path: D:/ExtractedSignals\\210812_Pac 2021-08-12 10-30-07\\210812_Pac--005.D<br>batch: 210812_Pac 2021-08-12 10-30-07<br>batch_position: 5<br>idle_time: 279.0<br>sample: NaCl 0,9%<br>method: SAA_411_Pac.M<br>timestamp: 2021-08-12 10:50:23<br>detector: G1315C<br>pump: G7110B<br>start_time: 2021-08-12 10:50:57<br>end_time: 2021-08-12 10:54:57<br>runtime: 239.7000000000036",
          "index: 18<br>name: 210812_Pac--006<br>path: D:/ExtractedSignals\\210812_Pac 2021-08-12 10-30-07\\210812_Pac--006.D<br>batch: 210812_Pac 2021-08-12 10-30-07<br>batch_position: 6<br>idle_time: 279.0<br>sample: Blank<br>method: SAA_411_Pac.M<br>timestamp: 2021-08-12 10:55:02<br>detector: G1315C<br>pump: G7110B<br>start_time: 2021-08-12 10:55:36<br>end_time: 2021-08-12 10:59:36<br>runtime: 239.7000000000036",
          "index: 19<br>name: 210812_Pac--007<br>path: D:/ExtractedSignals\\210812_Pac 2021-08-12 10-30-07\\210812_Pac--007.D<br>batch: 210812_Pac 2021-08-12 10-30-07<br>batch_position: 7<br>idle_time: 279.0<br>sample: 0.025 mg/ml<br>method: SAA_411_Pac.M<br>timestamp: 2021-08-12 10:59:41<br>detector: G1315C<br>pump: G7110B<br>start_time: 2021-08-12 11:00:15<br>end_time: 2021-08-12 11:04:15<br>runtime: 239.7000000000036",
          "index: 20<br>name: 210812_Pac--008<br>path: D:/ExtractedSignals\\210812_Pac 2021-08-12 10-30-07\\210812_Pac--008.D<br>batch: 210812_Pac 2021-08-12 10-30-07<br>batch_position: 8<br>idle_time: 279.0<br>sample: Blank<br>method: SAA_411_Pac.M<br>timestamp: 2021-08-12 11:04:20<br>detector: G1315C<br>pump: G7110B<br>start_time: 2021-08-12 11:04:54<br>end_time: 2021-08-12 11:08:54<br>runtime: 239.7000000000036",
          "index: 21<br>name: 210812_Pac--009<br>path: D:/ExtractedSignals\\210812_Pac 2021-08-12 10-30-07\\210812_Pac--009.D<br>batch: 210812_Pac 2021-08-12 10-30-07<br>batch_position: 9<br>idle_time: 279.0<br>sample: 210806/036 :10<br>method: SAA_411_Pac.M<br>timestamp: 2021-08-12 11:08:59<br>detector: G1315C<br>pump: G7110B<br>start_time: 2021-08-12 11:09:32<br>end_time: 2021-08-12 11:13:32<br>runtime: 239.7000000000036",
          "index: 22<br>name: 210812_Pac--010<br>path: D:/ExtractedSignals\\210812_Pac 2021-08-12 10-30-07\\210812_Pac--010.D<br>batch: 210812_Pac 2021-08-12 10-30-07<br>batch_position: 10<br>idle_time: 278.0<br>sample: 210806/036 :10<br>method: SAA_411_Pac.M<br>timestamp: 2021-08-12 11:13:37<br>detector: G7110B<br>pump: G7110B<br>start_time: 2021-08-12 11:14:11<br>end_time: 2021-08-12 11:18:11<br>runtime: 239.7000000000036",
          "index: 23<br>name: 210812_Pac--011<br>path: D:/ExtractedSignals\\210812_Pac 2021-08-12 10-30-07\\210812_Pac--011.D<br>batch: 210812_Pac 2021-08-12 10-30-07<br>batch_position: 11<br>idle_time: 279.0<br>sample: 210806/036 :10<br>method: SAA_411_Pac.M<br>timestamp: 2021-08-12 11:18:16<br>detector: G7110B<br>pump: G7110B<br>start_time: 2021-08-12 11:18:50<br>end_time: 2021-08-12 11:22:50<br>runtime: 239.7000000000036",
          "index: 24<br>name: 210812_Pac--012<br>path: D:/ExtractedSignals\\210812_Pac 2021-08-12 10-30-07\\210812_Pac--012.D<br>batch: 210812_Pac 2021-08-12 10-30-07<br>batch_position: 12<br>idle_time: 279.0<br>sample: Blank<br>method: SAA_411_Pac.M<br>timestamp: 2021-08-12 11:22:55<br>detector: G1315C<br>pump: G7110B<br>start_time: 2021-08-12 11:23:29<br>end_time: 2021-08-12 11:27:29<br>runtime: 239.7000000000036",
          "index: 25<br>name: 210812_Pac--013<br>path: D:/ExtractedSignals\\210812_Pac 2021-08-12 10-30-07\\210812_Pac--013.D<br>batch: 210812_Pac 2021-08-12 10-30-07<br>batch_position: 13<br>idle_time: 279.0<br>sample: 0.025 mg/ml<br>method: SAA_411_Pac.M<br>timestamp: 2021-08-12 11:27:34<br>detector: G1315C<br>pump: G7110B<br>start_time: 2021-08-12 11:28:08<br>end_time: 2021-08-12 11:32:08<br>runtime: 239.7000000000036",
          "index: 26<br>name: 210812_Pac--014<br>path: D:/ExtractedSignals\\210812_Pac 2021-08-12 10-30-07\\210812_Pac--014.D<br>batch: 210812_Pac 2021-08-12 10-30-07<br>batch_position: 14<br>idle_time: 279.0<br>sample: Blank<br>method: SAA_411_Pac.M<br>timestamp: 2021-08-12 11:32:13<br>detector: G7110B<br>pump: G7110B<br>start_time: 2021-08-12 11:32:46<br>end_time: 2021-08-12 11:36:47<br>runtime: 239.7000000000036",
          "index: 85<br>name: 210813_Pac--003<br>path: D:/ExtractedSignals\\210813_Pac 2021-08-13 10-37-27\\210813_Pac--003.D<br>batch: 210813_Pac 2021-08-13 10-37-27<br>batch_position: 3<br>idle_time: 278.0<br>sample: Blank<br>method: SAA_411_Pac.M<br>timestamp: 2021-08-13 10:48:34<br>detector: G1315C<br>pump: G7116B<br>start_time: 2021-08-13 10:49:08<br>end_time: 2021-08-13 10:53:08<br>runtime: 239.7000000000036",
          "index: 86<br>name: 210813_Pac--004<br>path: D:/ExtractedSignals\\210813_Pac 2021-08-13 10-37-27\\210813_Pac--004.D<br>batch: 210813_Pac 2021-08-13 10-37-27<br>batch_position: 4<br>idle_time: 279.0<br>sample: Blank<br>method: SAA_411_Pac.M<br>timestamp: 2021-08-13 10:53:13<br>detector: G1315C<br>pump: G7110B<br>start_time: 2021-08-13 10:53:47<br>end_time: 2021-08-13 10:57:47<br>runtime: 239.7000000000036",
          "index: 87<br>name: 210813_Pac--005<br>path: D:/ExtractedSignals\\210813_Pac 2021-08-13 10-37-27\\210813_Pac--005.D<br>batch: 210813_Pac 2021-08-13 10-37-27<br>batch_position: 5<br>idle_time: 279.0<br>sample: NaCl 0,9%<br>method: SAA_411_Pac.M<br>timestamp: 2021-08-13 10:57:52<br>detector: G7110B<br>pump: G7110B<br>start_time: 2021-08-13 10:58:26<br>end_time: 2021-08-13 11:02:27<br>runtime: 239.7000000000036",
          "index: 88<br>name: 210813_Pac--006<br>path: D:/ExtractedSignals\\210813_Pac 2021-08-13 10-37-27\\210813_Pac--006.D<br>batch: 210813_Pac 2021-08-13 10-37-27<br>batch_position: 6<br>idle_time: 279.0<br>sample: Blank<br>method: SAA_411_Pac.M<br>timestamp: 2021-08-13 11:02:31<br>detector: G1315C<br>pump: G7110B<br>start_time: 2021-08-13 11:03:05<br>end_time: 2021-08-13 11:07:06<br>runtime: 239.7000000000036",
          "index: 89<br>name: 210813_Pac--007<br>path: D:/ExtractedSignals\\210813_Pac 2021-08-13 10-37-27\\210813_Pac--007.D<br>batch: 210813_Pac 2021-08-13 10-37-27<br>batch_position: 7<br>idle_time: 279.0<br>sample: 0.025 mg/ml<br>method: SAA_411_Pac.M<br>timestamp: 2021-08-13 11:07:10<br>detector: G1315C<br>pump: G7116B<br>start_time: 2021-08-13 11:07:44<br>end_time: 2021-08-13 11:11:45<br>runtime: 239.7000000000036",
          "index: 90<br>name: 210813_Pac--008<br>path: D:/ExtractedSignals\\210813_Pac 2021-08-13 10-37-27\\210813_Pac--008.D<br>batch: 210813_Pac 2021-08-13 10-37-27<br>batch_position: 8<br>idle_time: 279.0<br>sample: Blank<br>method: SAA_411_Pac.M<br>timestamp: 2021-08-13 11:11:49<br>detector: G1315C<br>pump: G7110B<br>start_time: 2021-08-13 11:12:23<br>end_time: 2021-08-13 11:16:23<br>runtime: 239.7000000000036",
          "index: 91<br>name: 210813_Pac--009<br>path: D:/ExtractedSignals\\210813_Pac 2021-08-13 10-37-27\\210813_Pac--009.D<br>batch: 210813_Pac 2021-08-13 10-37-27<br>batch_position: 9<br>idle_time: 279.0<br>sample: 210812/004 :20<br>method: SAA_411_Pac.M<br>timestamp: 2021-08-13 11:16:28<br>detector: G1315C<br>pump: G7110B<br>start_time: 2021-08-13 11:17:02<br>end_time: 2021-08-13 11:21:03<br>runtime: 239.7000000000036",
          "index: 92<br>name: 210813_Pac--010<br>path: D:/ExtractedSignals\\210813_Pac 2021-08-13 10-37-27\\210813_Pac--010.D<br>batch: 210813_Pac 2021-08-13 10-37-27<br>batch_position: 10<br>idle_time: 280.0<br>sample: 210812/004 :20<br>method: SAA_411_Pac.M<br>timestamp: 2021-08-13 11:21:08<br>detector: G1315C<br>pump: G7110B<br>start_time: 2021-08-13 11:21:41<br>end_time: 2021-08-13 11:25:42<br>runtime: 239.7000000000036",
          "index: 93<br>name: 210813_Pac--011<br>path: D:/ExtractedSignals\\210813_Pac 2021-08-13 10-37-27\\210813_Pac--011.D<br>batch: 210813_Pac 2021-08-13 10-37-27<br>batch_position: 11<br>idle_time: 278.0<br>sample: 210812/004 :20<br>method: SAA_411_Pac.M<br>timestamp: 2021-08-13 11:25:46<br>detector: G1315C<br>pump: G7110B<br>start_time: 2021-08-13 11:26:21<br>end_time: 2021-08-13 11:30:21<br>runtime: 239.7000000000036",
          "index: 94<br>name: 210813_Pac--012<br>path: D:/ExtractedSignals\\210813_Pac 2021-08-13 10-37-27\\210813_Pac--012.D<br>batch: 210813_Pac 2021-08-13 10-37-27<br>batch_position: 12<br>idle_time: 280.0<br>sample: Blank<br>method: SAA_411_Pac.M<br>timestamp: 2021-08-13 11:30:26<br>detector: G1315C<br>pump: G7110B<br>start_time: 2021-08-13 11:30:59<br>end_time: 2021-08-13 11:34:59<br>runtime: 239.7000000000036",
          "index: 95<br>name: 210813_Pac--013<br>path: D:/ExtractedSignals\\210813_Pac 2021-08-13 10-37-27\\210813_Pac--013.D<br>batch: 210813_Pac 2021-08-13 10-37-27<br>batch_position: 13<br>idle_time: 278.0<br>sample: 0.025 mg/ml<br>method: SAA_411_Pac.M<br>timestamp: 2021-08-13 11:35:04<br>detector: G1315C<br>pump: G7110B<br>start_time: 2021-08-13 11:35:38<br>end_time: 2021-08-13 11:39:38<br>runtime: 239.7000000000036",
          "index: 96<br>name: 210813_Pac--014<br>path: D:/ExtractedSignals\\210813_Pac 2021-08-13 10-37-27\\210813_Pac--014.D<br>batch: 210813_Pac 2021-08-13 10-37-27<br>batch_position: 14<br>idle_time: 279.0<br>sample: Blank<br>method: SAA_411_Pac.M<br>timestamp: 2021-08-13 11:39:43<br>detector: G1315C<br>pump: G7110B<br>start_time: 2021-08-13 11:40:16<br>end_time: 2021-08-13 11:44:17<br>runtime: 239.7000000000036"
         ],
         "type": "scatter",
         "x": [
          0,
          1,
          2,
          3,
          4,
          5,
          6,
          7,
          8,
          9,
          10,
          11,
          12,
          13,
          14,
          15,
          16,
          17,
          18,
          19,
          20,
          21
         ],
         "y": [
          0.0023174753457747,
          0.041162456034389,
          0.0233034624036566,
          0.0421595361543344,
          0.0524277765788144,
          0.0796080643247148,
          0.0138860604421341,
          0.0286827651289916,
          0.0349078836051092,
          0.0278637328617255,
          0.010317240693033,
          0.0285896040284615,
          0.0249110327193204,
          0.0576786568048617,
          0.0952714658593604,
          0.0331820666164277,
          0.0504638626100348,
          0.0519106405953871,
          0.0174033447387609,
          0.0571803174485206,
          0.0266650466364026,
          0.0323179155576738
         ]
        },
        {
         "hovertemplate": "<b>%{text}</b><br><b>x: </b>%{x}<br><b>seasonal_fft_sum_2: </b>%{y}<extra></extra>",
         "mode": "lines",
         "name": "seasonal_fft_sum_2",
         "text": [
          "index: 17<br>name: 210812_Pac--005<br>path: D:/ExtractedSignals\\210812_Pac 2021-08-12 10-30-07\\210812_Pac--005.D<br>batch: 210812_Pac 2021-08-12 10-30-07<br>batch_position: 5<br>idle_time: 279.0<br>sample: NaCl 0,9%<br>method: SAA_411_Pac.M<br>timestamp: 2021-08-12 10:50:23<br>detector: G1315C<br>pump: G7110B<br>start_time: 2021-08-12 10:50:57<br>end_time: 2021-08-12 10:54:57<br>runtime: 239.7000000000036",
          "index: 18<br>name: 210812_Pac--006<br>path: D:/ExtractedSignals\\210812_Pac 2021-08-12 10-30-07\\210812_Pac--006.D<br>batch: 210812_Pac 2021-08-12 10-30-07<br>batch_position: 6<br>idle_time: 279.0<br>sample: Blank<br>method: SAA_411_Pac.M<br>timestamp: 2021-08-12 10:55:02<br>detector: G1315C<br>pump: G7110B<br>start_time: 2021-08-12 10:55:36<br>end_time: 2021-08-12 10:59:36<br>runtime: 239.7000000000036",
          "index: 19<br>name: 210812_Pac--007<br>path: D:/ExtractedSignals\\210812_Pac 2021-08-12 10-30-07\\210812_Pac--007.D<br>batch: 210812_Pac 2021-08-12 10-30-07<br>batch_position: 7<br>idle_time: 279.0<br>sample: 0.025 mg/ml<br>method: SAA_411_Pac.M<br>timestamp: 2021-08-12 10:59:41<br>detector: G1315C<br>pump: G7110B<br>start_time: 2021-08-12 11:00:15<br>end_time: 2021-08-12 11:04:15<br>runtime: 239.7000000000036",
          "index: 20<br>name: 210812_Pac--008<br>path: D:/ExtractedSignals\\210812_Pac 2021-08-12 10-30-07\\210812_Pac--008.D<br>batch: 210812_Pac 2021-08-12 10-30-07<br>batch_position: 8<br>idle_time: 279.0<br>sample: Blank<br>method: SAA_411_Pac.M<br>timestamp: 2021-08-12 11:04:20<br>detector: G1315C<br>pump: G7110B<br>start_time: 2021-08-12 11:04:54<br>end_time: 2021-08-12 11:08:54<br>runtime: 239.7000000000036",
          "index: 21<br>name: 210812_Pac--009<br>path: D:/ExtractedSignals\\210812_Pac 2021-08-12 10-30-07\\210812_Pac--009.D<br>batch: 210812_Pac 2021-08-12 10-30-07<br>batch_position: 9<br>idle_time: 279.0<br>sample: 210806/036 :10<br>method: SAA_411_Pac.M<br>timestamp: 2021-08-12 11:08:59<br>detector: G1315C<br>pump: G7110B<br>start_time: 2021-08-12 11:09:32<br>end_time: 2021-08-12 11:13:32<br>runtime: 239.7000000000036",
          "index: 22<br>name: 210812_Pac--010<br>path: D:/ExtractedSignals\\210812_Pac 2021-08-12 10-30-07\\210812_Pac--010.D<br>batch: 210812_Pac 2021-08-12 10-30-07<br>batch_position: 10<br>idle_time: 278.0<br>sample: 210806/036 :10<br>method: SAA_411_Pac.M<br>timestamp: 2021-08-12 11:13:37<br>detector: G7110B<br>pump: G7110B<br>start_time: 2021-08-12 11:14:11<br>end_time: 2021-08-12 11:18:11<br>runtime: 239.7000000000036",
          "index: 23<br>name: 210812_Pac--011<br>path: D:/ExtractedSignals\\210812_Pac 2021-08-12 10-30-07\\210812_Pac--011.D<br>batch: 210812_Pac 2021-08-12 10-30-07<br>batch_position: 11<br>idle_time: 279.0<br>sample: 210806/036 :10<br>method: SAA_411_Pac.M<br>timestamp: 2021-08-12 11:18:16<br>detector: G7110B<br>pump: G7110B<br>start_time: 2021-08-12 11:18:50<br>end_time: 2021-08-12 11:22:50<br>runtime: 239.7000000000036",
          "index: 24<br>name: 210812_Pac--012<br>path: D:/ExtractedSignals\\210812_Pac 2021-08-12 10-30-07\\210812_Pac--012.D<br>batch: 210812_Pac 2021-08-12 10-30-07<br>batch_position: 12<br>idle_time: 279.0<br>sample: Blank<br>method: SAA_411_Pac.M<br>timestamp: 2021-08-12 11:22:55<br>detector: G1315C<br>pump: G7110B<br>start_time: 2021-08-12 11:23:29<br>end_time: 2021-08-12 11:27:29<br>runtime: 239.7000000000036",
          "index: 25<br>name: 210812_Pac--013<br>path: D:/ExtractedSignals\\210812_Pac 2021-08-12 10-30-07\\210812_Pac--013.D<br>batch: 210812_Pac 2021-08-12 10-30-07<br>batch_position: 13<br>idle_time: 279.0<br>sample: 0.025 mg/ml<br>method: SAA_411_Pac.M<br>timestamp: 2021-08-12 11:27:34<br>detector: G1315C<br>pump: G7110B<br>start_time: 2021-08-12 11:28:08<br>end_time: 2021-08-12 11:32:08<br>runtime: 239.7000000000036",
          "index: 26<br>name: 210812_Pac--014<br>path: D:/ExtractedSignals\\210812_Pac 2021-08-12 10-30-07\\210812_Pac--014.D<br>batch: 210812_Pac 2021-08-12 10-30-07<br>batch_position: 14<br>idle_time: 279.0<br>sample: Blank<br>method: SAA_411_Pac.M<br>timestamp: 2021-08-12 11:32:13<br>detector: G7110B<br>pump: G7110B<br>start_time: 2021-08-12 11:32:46<br>end_time: 2021-08-12 11:36:47<br>runtime: 239.7000000000036",
          "index: 85<br>name: 210813_Pac--003<br>path: D:/ExtractedSignals\\210813_Pac 2021-08-13 10-37-27\\210813_Pac--003.D<br>batch: 210813_Pac 2021-08-13 10-37-27<br>batch_position: 3<br>idle_time: 278.0<br>sample: Blank<br>method: SAA_411_Pac.M<br>timestamp: 2021-08-13 10:48:34<br>detector: G1315C<br>pump: G7116B<br>start_time: 2021-08-13 10:49:08<br>end_time: 2021-08-13 10:53:08<br>runtime: 239.7000000000036",
          "index: 86<br>name: 210813_Pac--004<br>path: D:/ExtractedSignals\\210813_Pac 2021-08-13 10-37-27\\210813_Pac--004.D<br>batch: 210813_Pac 2021-08-13 10-37-27<br>batch_position: 4<br>idle_time: 279.0<br>sample: Blank<br>method: SAA_411_Pac.M<br>timestamp: 2021-08-13 10:53:13<br>detector: G1315C<br>pump: G7110B<br>start_time: 2021-08-13 10:53:47<br>end_time: 2021-08-13 10:57:47<br>runtime: 239.7000000000036",
          "index: 87<br>name: 210813_Pac--005<br>path: D:/ExtractedSignals\\210813_Pac 2021-08-13 10-37-27\\210813_Pac--005.D<br>batch: 210813_Pac 2021-08-13 10-37-27<br>batch_position: 5<br>idle_time: 279.0<br>sample: NaCl 0,9%<br>method: SAA_411_Pac.M<br>timestamp: 2021-08-13 10:57:52<br>detector: G7110B<br>pump: G7110B<br>start_time: 2021-08-13 10:58:26<br>end_time: 2021-08-13 11:02:27<br>runtime: 239.7000000000036",
          "index: 88<br>name: 210813_Pac--006<br>path: D:/ExtractedSignals\\210813_Pac 2021-08-13 10-37-27\\210813_Pac--006.D<br>batch: 210813_Pac 2021-08-13 10-37-27<br>batch_position: 6<br>idle_time: 279.0<br>sample: Blank<br>method: SAA_411_Pac.M<br>timestamp: 2021-08-13 11:02:31<br>detector: G1315C<br>pump: G7110B<br>start_time: 2021-08-13 11:03:05<br>end_time: 2021-08-13 11:07:06<br>runtime: 239.7000000000036",
          "index: 89<br>name: 210813_Pac--007<br>path: D:/ExtractedSignals\\210813_Pac 2021-08-13 10-37-27\\210813_Pac--007.D<br>batch: 210813_Pac 2021-08-13 10-37-27<br>batch_position: 7<br>idle_time: 279.0<br>sample: 0.025 mg/ml<br>method: SAA_411_Pac.M<br>timestamp: 2021-08-13 11:07:10<br>detector: G1315C<br>pump: G7116B<br>start_time: 2021-08-13 11:07:44<br>end_time: 2021-08-13 11:11:45<br>runtime: 239.7000000000036",
          "index: 90<br>name: 210813_Pac--008<br>path: D:/ExtractedSignals\\210813_Pac 2021-08-13 10-37-27\\210813_Pac--008.D<br>batch: 210813_Pac 2021-08-13 10-37-27<br>batch_position: 8<br>idle_time: 279.0<br>sample: Blank<br>method: SAA_411_Pac.M<br>timestamp: 2021-08-13 11:11:49<br>detector: G1315C<br>pump: G7110B<br>start_time: 2021-08-13 11:12:23<br>end_time: 2021-08-13 11:16:23<br>runtime: 239.7000000000036",
          "index: 91<br>name: 210813_Pac--009<br>path: D:/ExtractedSignals\\210813_Pac 2021-08-13 10-37-27\\210813_Pac--009.D<br>batch: 210813_Pac 2021-08-13 10-37-27<br>batch_position: 9<br>idle_time: 279.0<br>sample: 210812/004 :20<br>method: SAA_411_Pac.M<br>timestamp: 2021-08-13 11:16:28<br>detector: G1315C<br>pump: G7110B<br>start_time: 2021-08-13 11:17:02<br>end_time: 2021-08-13 11:21:03<br>runtime: 239.7000000000036",
          "index: 92<br>name: 210813_Pac--010<br>path: D:/ExtractedSignals\\210813_Pac 2021-08-13 10-37-27\\210813_Pac--010.D<br>batch: 210813_Pac 2021-08-13 10-37-27<br>batch_position: 10<br>idle_time: 280.0<br>sample: 210812/004 :20<br>method: SAA_411_Pac.M<br>timestamp: 2021-08-13 11:21:08<br>detector: G1315C<br>pump: G7110B<br>start_time: 2021-08-13 11:21:41<br>end_time: 2021-08-13 11:25:42<br>runtime: 239.7000000000036",
          "index: 93<br>name: 210813_Pac--011<br>path: D:/ExtractedSignals\\210813_Pac 2021-08-13 10-37-27\\210813_Pac--011.D<br>batch: 210813_Pac 2021-08-13 10-37-27<br>batch_position: 11<br>idle_time: 278.0<br>sample: 210812/004 :20<br>method: SAA_411_Pac.M<br>timestamp: 2021-08-13 11:25:46<br>detector: G1315C<br>pump: G7110B<br>start_time: 2021-08-13 11:26:21<br>end_time: 2021-08-13 11:30:21<br>runtime: 239.7000000000036",
          "index: 94<br>name: 210813_Pac--012<br>path: D:/ExtractedSignals\\210813_Pac 2021-08-13 10-37-27\\210813_Pac--012.D<br>batch: 210813_Pac 2021-08-13 10-37-27<br>batch_position: 12<br>idle_time: 280.0<br>sample: Blank<br>method: SAA_411_Pac.M<br>timestamp: 2021-08-13 11:30:26<br>detector: G1315C<br>pump: G7110B<br>start_time: 2021-08-13 11:30:59<br>end_time: 2021-08-13 11:34:59<br>runtime: 239.7000000000036",
          "index: 95<br>name: 210813_Pac--013<br>path: D:/ExtractedSignals\\210813_Pac 2021-08-13 10-37-27\\210813_Pac--013.D<br>batch: 210813_Pac 2021-08-13 10-37-27<br>batch_position: 13<br>idle_time: 278.0<br>sample: 0.025 mg/ml<br>method: SAA_411_Pac.M<br>timestamp: 2021-08-13 11:35:04<br>detector: G1315C<br>pump: G7110B<br>start_time: 2021-08-13 11:35:38<br>end_time: 2021-08-13 11:39:38<br>runtime: 239.7000000000036",
          "index: 96<br>name: 210813_Pac--014<br>path: D:/ExtractedSignals\\210813_Pac 2021-08-13 10-37-27\\210813_Pac--014.D<br>batch: 210813_Pac 2021-08-13 10-37-27<br>batch_position: 14<br>idle_time: 279.0<br>sample: Blank<br>method: SAA_411_Pac.M<br>timestamp: 2021-08-13 11:39:43<br>detector: G1315C<br>pump: G7110B<br>start_time: 2021-08-13 11:40:16<br>end_time: 2021-08-13 11:44:17<br>runtime: 239.7000000000036"
         ],
         "type": "scatter",
         "x": [
          0,
          1,
          2,
          3,
          4,
          5,
          6,
          7,
          8,
          9,
          10,
          11,
          12,
          13,
          14,
          15,
          16,
          17,
          18,
          19,
          20,
          21
         ],
         "y": [
          0.0023174753457747,
          0.041162456034389,
          0.0233034624036566,
          0.0421595361543344,
          0.0524277765788144,
          0.0796080643247148,
          0.0138860604421341,
          0.0286827651289916,
          0.0349078836051092,
          0.0278637328617255,
          0.0103172406930331,
          0.0285896040284615,
          0.0249110327193204,
          0.0576786568048617,
          0.0952714658593604,
          0.0331820666164277,
          0.0504638626100348,
          0.0519106405953871,
          0.0174033447387609,
          0.0571803174485206,
          0.0266650466364026,
          0.0323179155576738
         ]
        },
        {
         "hovertemplate": "<b>%{text}</b><br><b>x: </b>%{x}<br><b>residual_fft_mean_2: </b>%{y}<extra></extra>",
         "mode": "lines",
         "name": "residual_fft_mean_2",
         "text": [
          "index: 17<br>name: 210812_Pac--005<br>path: D:/ExtractedSignals\\210812_Pac 2021-08-12 10-30-07\\210812_Pac--005.D<br>batch: 210812_Pac 2021-08-12 10-30-07<br>batch_position: 5<br>idle_time: 279.0<br>sample: NaCl 0,9%<br>method: SAA_411_Pac.M<br>timestamp: 2021-08-12 10:50:23<br>detector: G1315C<br>pump: G7110B<br>start_time: 2021-08-12 10:50:57<br>end_time: 2021-08-12 10:54:57<br>runtime: 239.7000000000036",
          "index: 18<br>name: 210812_Pac--006<br>path: D:/ExtractedSignals\\210812_Pac 2021-08-12 10-30-07\\210812_Pac--006.D<br>batch: 210812_Pac 2021-08-12 10-30-07<br>batch_position: 6<br>idle_time: 279.0<br>sample: Blank<br>method: SAA_411_Pac.M<br>timestamp: 2021-08-12 10:55:02<br>detector: G1315C<br>pump: G7110B<br>start_time: 2021-08-12 10:55:36<br>end_time: 2021-08-12 10:59:36<br>runtime: 239.7000000000036",
          "index: 19<br>name: 210812_Pac--007<br>path: D:/ExtractedSignals\\210812_Pac 2021-08-12 10-30-07\\210812_Pac--007.D<br>batch: 210812_Pac 2021-08-12 10-30-07<br>batch_position: 7<br>idle_time: 279.0<br>sample: 0.025 mg/ml<br>method: SAA_411_Pac.M<br>timestamp: 2021-08-12 10:59:41<br>detector: G1315C<br>pump: G7110B<br>start_time: 2021-08-12 11:00:15<br>end_time: 2021-08-12 11:04:15<br>runtime: 239.7000000000036",
          "index: 20<br>name: 210812_Pac--008<br>path: D:/ExtractedSignals\\210812_Pac 2021-08-12 10-30-07\\210812_Pac--008.D<br>batch: 210812_Pac 2021-08-12 10-30-07<br>batch_position: 8<br>idle_time: 279.0<br>sample: Blank<br>method: SAA_411_Pac.M<br>timestamp: 2021-08-12 11:04:20<br>detector: G1315C<br>pump: G7110B<br>start_time: 2021-08-12 11:04:54<br>end_time: 2021-08-12 11:08:54<br>runtime: 239.7000000000036",
          "index: 21<br>name: 210812_Pac--009<br>path: D:/ExtractedSignals\\210812_Pac 2021-08-12 10-30-07\\210812_Pac--009.D<br>batch: 210812_Pac 2021-08-12 10-30-07<br>batch_position: 9<br>idle_time: 279.0<br>sample: 210806/036 :10<br>method: SAA_411_Pac.M<br>timestamp: 2021-08-12 11:08:59<br>detector: G1315C<br>pump: G7110B<br>start_time: 2021-08-12 11:09:32<br>end_time: 2021-08-12 11:13:32<br>runtime: 239.7000000000036",
          "index: 22<br>name: 210812_Pac--010<br>path: D:/ExtractedSignals\\210812_Pac 2021-08-12 10-30-07\\210812_Pac--010.D<br>batch: 210812_Pac 2021-08-12 10-30-07<br>batch_position: 10<br>idle_time: 278.0<br>sample: 210806/036 :10<br>method: SAA_411_Pac.M<br>timestamp: 2021-08-12 11:13:37<br>detector: G7110B<br>pump: G7110B<br>start_time: 2021-08-12 11:14:11<br>end_time: 2021-08-12 11:18:11<br>runtime: 239.7000000000036",
          "index: 23<br>name: 210812_Pac--011<br>path: D:/ExtractedSignals\\210812_Pac 2021-08-12 10-30-07\\210812_Pac--011.D<br>batch: 210812_Pac 2021-08-12 10-30-07<br>batch_position: 11<br>idle_time: 279.0<br>sample: 210806/036 :10<br>method: SAA_411_Pac.M<br>timestamp: 2021-08-12 11:18:16<br>detector: G7110B<br>pump: G7110B<br>start_time: 2021-08-12 11:18:50<br>end_time: 2021-08-12 11:22:50<br>runtime: 239.7000000000036",
          "index: 24<br>name: 210812_Pac--012<br>path: D:/ExtractedSignals\\210812_Pac 2021-08-12 10-30-07\\210812_Pac--012.D<br>batch: 210812_Pac 2021-08-12 10-30-07<br>batch_position: 12<br>idle_time: 279.0<br>sample: Blank<br>method: SAA_411_Pac.M<br>timestamp: 2021-08-12 11:22:55<br>detector: G1315C<br>pump: G7110B<br>start_time: 2021-08-12 11:23:29<br>end_time: 2021-08-12 11:27:29<br>runtime: 239.7000000000036",
          "index: 25<br>name: 210812_Pac--013<br>path: D:/ExtractedSignals\\210812_Pac 2021-08-12 10-30-07\\210812_Pac--013.D<br>batch: 210812_Pac 2021-08-12 10-30-07<br>batch_position: 13<br>idle_time: 279.0<br>sample: 0.025 mg/ml<br>method: SAA_411_Pac.M<br>timestamp: 2021-08-12 11:27:34<br>detector: G1315C<br>pump: G7110B<br>start_time: 2021-08-12 11:28:08<br>end_time: 2021-08-12 11:32:08<br>runtime: 239.7000000000036",
          "index: 26<br>name: 210812_Pac--014<br>path: D:/ExtractedSignals\\210812_Pac 2021-08-12 10-30-07\\210812_Pac--014.D<br>batch: 210812_Pac 2021-08-12 10-30-07<br>batch_position: 14<br>idle_time: 279.0<br>sample: Blank<br>method: SAA_411_Pac.M<br>timestamp: 2021-08-12 11:32:13<br>detector: G7110B<br>pump: G7110B<br>start_time: 2021-08-12 11:32:46<br>end_time: 2021-08-12 11:36:47<br>runtime: 239.7000000000036",
          "index: 85<br>name: 210813_Pac--003<br>path: D:/ExtractedSignals\\210813_Pac 2021-08-13 10-37-27\\210813_Pac--003.D<br>batch: 210813_Pac 2021-08-13 10-37-27<br>batch_position: 3<br>idle_time: 278.0<br>sample: Blank<br>method: SAA_411_Pac.M<br>timestamp: 2021-08-13 10:48:34<br>detector: G1315C<br>pump: G7116B<br>start_time: 2021-08-13 10:49:08<br>end_time: 2021-08-13 10:53:08<br>runtime: 239.7000000000036",
          "index: 86<br>name: 210813_Pac--004<br>path: D:/ExtractedSignals\\210813_Pac 2021-08-13 10-37-27\\210813_Pac--004.D<br>batch: 210813_Pac 2021-08-13 10-37-27<br>batch_position: 4<br>idle_time: 279.0<br>sample: Blank<br>method: SAA_411_Pac.M<br>timestamp: 2021-08-13 10:53:13<br>detector: G1315C<br>pump: G7110B<br>start_time: 2021-08-13 10:53:47<br>end_time: 2021-08-13 10:57:47<br>runtime: 239.7000000000036",
          "index: 87<br>name: 210813_Pac--005<br>path: D:/ExtractedSignals\\210813_Pac 2021-08-13 10-37-27\\210813_Pac--005.D<br>batch: 210813_Pac 2021-08-13 10-37-27<br>batch_position: 5<br>idle_time: 279.0<br>sample: NaCl 0,9%<br>method: SAA_411_Pac.M<br>timestamp: 2021-08-13 10:57:52<br>detector: G7110B<br>pump: G7110B<br>start_time: 2021-08-13 10:58:26<br>end_time: 2021-08-13 11:02:27<br>runtime: 239.7000000000036",
          "index: 88<br>name: 210813_Pac--006<br>path: D:/ExtractedSignals\\210813_Pac 2021-08-13 10-37-27\\210813_Pac--006.D<br>batch: 210813_Pac 2021-08-13 10-37-27<br>batch_position: 6<br>idle_time: 279.0<br>sample: Blank<br>method: SAA_411_Pac.M<br>timestamp: 2021-08-13 11:02:31<br>detector: G1315C<br>pump: G7110B<br>start_time: 2021-08-13 11:03:05<br>end_time: 2021-08-13 11:07:06<br>runtime: 239.7000000000036",
          "index: 89<br>name: 210813_Pac--007<br>path: D:/ExtractedSignals\\210813_Pac 2021-08-13 10-37-27\\210813_Pac--007.D<br>batch: 210813_Pac 2021-08-13 10-37-27<br>batch_position: 7<br>idle_time: 279.0<br>sample: 0.025 mg/ml<br>method: SAA_411_Pac.M<br>timestamp: 2021-08-13 11:07:10<br>detector: G1315C<br>pump: G7116B<br>start_time: 2021-08-13 11:07:44<br>end_time: 2021-08-13 11:11:45<br>runtime: 239.7000000000036",
          "index: 90<br>name: 210813_Pac--008<br>path: D:/ExtractedSignals\\210813_Pac 2021-08-13 10-37-27\\210813_Pac--008.D<br>batch: 210813_Pac 2021-08-13 10-37-27<br>batch_position: 8<br>idle_time: 279.0<br>sample: Blank<br>method: SAA_411_Pac.M<br>timestamp: 2021-08-13 11:11:49<br>detector: G1315C<br>pump: G7110B<br>start_time: 2021-08-13 11:12:23<br>end_time: 2021-08-13 11:16:23<br>runtime: 239.7000000000036",
          "index: 91<br>name: 210813_Pac--009<br>path: D:/ExtractedSignals\\210813_Pac 2021-08-13 10-37-27\\210813_Pac--009.D<br>batch: 210813_Pac 2021-08-13 10-37-27<br>batch_position: 9<br>idle_time: 279.0<br>sample: 210812/004 :20<br>method: SAA_411_Pac.M<br>timestamp: 2021-08-13 11:16:28<br>detector: G1315C<br>pump: G7110B<br>start_time: 2021-08-13 11:17:02<br>end_time: 2021-08-13 11:21:03<br>runtime: 239.7000000000036",
          "index: 92<br>name: 210813_Pac--010<br>path: D:/ExtractedSignals\\210813_Pac 2021-08-13 10-37-27\\210813_Pac--010.D<br>batch: 210813_Pac 2021-08-13 10-37-27<br>batch_position: 10<br>idle_time: 280.0<br>sample: 210812/004 :20<br>method: SAA_411_Pac.M<br>timestamp: 2021-08-13 11:21:08<br>detector: G1315C<br>pump: G7110B<br>start_time: 2021-08-13 11:21:41<br>end_time: 2021-08-13 11:25:42<br>runtime: 239.7000000000036",
          "index: 93<br>name: 210813_Pac--011<br>path: D:/ExtractedSignals\\210813_Pac 2021-08-13 10-37-27\\210813_Pac--011.D<br>batch: 210813_Pac 2021-08-13 10-37-27<br>batch_position: 11<br>idle_time: 278.0<br>sample: 210812/004 :20<br>method: SAA_411_Pac.M<br>timestamp: 2021-08-13 11:25:46<br>detector: G1315C<br>pump: G7110B<br>start_time: 2021-08-13 11:26:21<br>end_time: 2021-08-13 11:30:21<br>runtime: 239.7000000000036",
          "index: 94<br>name: 210813_Pac--012<br>path: D:/ExtractedSignals\\210813_Pac 2021-08-13 10-37-27\\210813_Pac--012.D<br>batch: 210813_Pac 2021-08-13 10-37-27<br>batch_position: 12<br>idle_time: 280.0<br>sample: Blank<br>method: SAA_411_Pac.M<br>timestamp: 2021-08-13 11:30:26<br>detector: G1315C<br>pump: G7110B<br>start_time: 2021-08-13 11:30:59<br>end_time: 2021-08-13 11:34:59<br>runtime: 239.7000000000036",
          "index: 95<br>name: 210813_Pac--013<br>path: D:/ExtractedSignals\\210813_Pac 2021-08-13 10-37-27\\210813_Pac--013.D<br>batch: 210813_Pac 2021-08-13 10-37-27<br>batch_position: 13<br>idle_time: 278.0<br>sample: 0.025 mg/ml<br>method: SAA_411_Pac.M<br>timestamp: 2021-08-13 11:35:04<br>detector: G1315C<br>pump: G7110B<br>start_time: 2021-08-13 11:35:38<br>end_time: 2021-08-13 11:39:38<br>runtime: 239.7000000000036",
          "index: 96<br>name: 210813_Pac--014<br>path: D:/ExtractedSignals\\210813_Pac 2021-08-13 10-37-27\\210813_Pac--014.D<br>batch: 210813_Pac 2021-08-13 10-37-27<br>batch_position: 14<br>idle_time: 279.0<br>sample: Blank<br>method: SAA_411_Pac.M<br>timestamp: 2021-08-13 11:39:43<br>detector: G1315C<br>pump: G7110B<br>start_time: 2021-08-13 11:40:16<br>end_time: 2021-08-13 11:44:17<br>runtime: 239.7000000000036"
         ],
         "type": "scatter",
         "x": [
          0,
          1,
          2,
          3,
          4,
          5,
          6,
          7,
          8,
          9,
          10,
          11,
          12,
          13,
          14,
          15,
          16,
          17,
          18,
          19,
          20,
          21
         ],
         "y": [
          0.008269584609189,
          0.0144245984070524,
          0.0148235569169513,
          0.0160259050512812,
          0.0191153711277323,
          0.0385288263664541,
          0.0089186263527546,
          0.0044122199475959,
          0.0069100611909189,
          0.0052904726716839,
          0.0085940496285655,
          0.008231120726196,
          0.0069430360738711,
          0.0069454063849872,
          0.0484397304026699,
          0.0036527954752566,
          0.0069487339197512,
          0.0122698568677798,
          0.0120622139228035,
          0.0066242347504409,
          0.0036061070919767,
          0.0059195268007819
         ]
        },
        {
         "hovertemplate": "<b>%{text}</b><br><b>x: </b>%{x}<br><b>residual_fft_sum_2: </b>%{y}<extra></extra>",
         "mode": "lines",
         "name": "residual_fft_sum_2",
         "text": [
          "index: 17<br>name: 210812_Pac--005<br>path: D:/ExtractedSignals\\210812_Pac 2021-08-12 10-30-07\\210812_Pac--005.D<br>batch: 210812_Pac 2021-08-12 10-30-07<br>batch_position: 5<br>idle_time: 279.0<br>sample: NaCl 0,9%<br>method: SAA_411_Pac.M<br>timestamp: 2021-08-12 10:50:23<br>detector: G1315C<br>pump: G7110B<br>start_time: 2021-08-12 10:50:57<br>end_time: 2021-08-12 10:54:57<br>runtime: 239.7000000000036",
          "index: 18<br>name: 210812_Pac--006<br>path: D:/ExtractedSignals\\210812_Pac 2021-08-12 10-30-07\\210812_Pac--006.D<br>batch: 210812_Pac 2021-08-12 10-30-07<br>batch_position: 6<br>idle_time: 279.0<br>sample: Blank<br>method: SAA_411_Pac.M<br>timestamp: 2021-08-12 10:55:02<br>detector: G1315C<br>pump: G7110B<br>start_time: 2021-08-12 10:55:36<br>end_time: 2021-08-12 10:59:36<br>runtime: 239.7000000000036",
          "index: 19<br>name: 210812_Pac--007<br>path: D:/ExtractedSignals\\210812_Pac 2021-08-12 10-30-07\\210812_Pac--007.D<br>batch: 210812_Pac 2021-08-12 10-30-07<br>batch_position: 7<br>idle_time: 279.0<br>sample: 0.025 mg/ml<br>method: SAA_411_Pac.M<br>timestamp: 2021-08-12 10:59:41<br>detector: G1315C<br>pump: G7110B<br>start_time: 2021-08-12 11:00:15<br>end_time: 2021-08-12 11:04:15<br>runtime: 239.7000000000036",
          "index: 20<br>name: 210812_Pac--008<br>path: D:/ExtractedSignals\\210812_Pac 2021-08-12 10-30-07\\210812_Pac--008.D<br>batch: 210812_Pac 2021-08-12 10-30-07<br>batch_position: 8<br>idle_time: 279.0<br>sample: Blank<br>method: SAA_411_Pac.M<br>timestamp: 2021-08-12 11:04:20<br>detector: G1315C<br>pump: G7110B<br>start_time: 2021-08-12 11:04:54<br>end_time: 2021-08-12 11:08:54<br>runtime: 239.7000000000036",
          "index: 21<br>name: 210812_Pac--009<br>path: D:/ExtractedSignals\\210812_Pac 2021-08-12 10-30-07\\210812_Pac--009.D<br>batch: 210812_Pac 2021-08-12 10-30-07<br>batch_position: 9<br>idle_time: 279.0<br>sample: 210806/036 :10<br>method: SAA_411_Pac.M<br>timestamp: 2021-08-12 11:08:59<br>detector: G1315C<br>pump: G7110B<br>start_time: 2021-08-12 11:09:32<br>end_time: 2021-08-12 11:13:32<br>runtime: 239.7000000000036",
          "index: 22<br>name: 210812_Pac--010<br>path: D:/ExtractedSignals\\210812_Pac 2021-08-12 10-30-07\\210812_Pac--010.D<br>batch: 210812_Pac 2021-08-12 10-30-07<br>batch_position: 10<br>idle_time: 278.0<br>sample: 210806/036 :10<br>method: SAA_411_Pac.M<br>timestamp: 2021-08-12 11:13:37<br>detector: G7110B<br>pump: G7110B<br>start_time: 2021-08-12 11:14:11<br>end_time: 2021-08-12 11:18:11<br>runtime: 239.7000000000036",
          "index: 23<br>name: 210812_Pac--011<br>path: D:/ExtractedSignals\\210812_Pac 2021-08-12 10-30-07\\210812_Pac--011.D<br>batch: 210812_Pac 2021-08-12 10-30-07<br>batch_position: 11<br>idle_time: 279.0<br>sample: 210806/036 :10<br>method: SAA_411_Pac.M<br>timestamp: 2021-08-12 11:18:16<br>detector: G7110B<br>pump: G7110B<br>start_time: 2021-08-12 11:18:50<br>end_time: 2021-08-12 11:22:50<br>runtime: 239.7000000000036",
          "index: 24<br>name: 210812_Pac--012<br>path: D:/ExtractedSignals\\210812_Pac 2021-08-12 10-30-07\\210812_Pac--012.D<br>batch: 210812_Pac 2021-08-12 10-30-07<br>batch_position: 12<br>idle_time: 279.0<br>sample: Blank<br>method: SAA_411_Pac.M<br>timestamp: 2021-08-12 11:22:55<br>detector: G1315C<br>pump: G7110B<br>start_time: 2021-08-12 11:23:29<br>end_time: 2021-08-12 11:27:29<br>runtime: 239.7000000000036",
          "index: 25<br>name: 210812_Pac--013<br>path: D:/ExtractedSignals\\210812_Pac 2021-08-12 10-30-07\\210812_Pac--013.D<br>batch: 210812_Pac 2021-08-12 10-30-07<br>batch_position: 13<br>idle_time: 279.0<br>sample: 0.025 mg/ml<br>method: SAA_411_Pac.M<br>timestamp: 2021-08-12 11:27:34<br>detector: G1315C<br>pump: G7110B<br>start_time: 2021-08-12 11:28:08<br>end_time: 2021-08-12 11:32:08<br>runtime: 239.7000000000036",
          "index: 26<br>name: 210812_Pac--014<br>path: D:/ExtractedSignals\\210812_Pac 2021-08-12 10-30-07\\210812_Pac--014.D<br>batch: 210812_Pac 2021-08-12 10-30-07<br>batch_position: 14<br>idle_time: 279.0<br>sample: Blank<br>method: SAA_411_Pac.M<br>timestamp: 2021-08-12 11:32:13<br>detector: G7110B<br>pump: G7110B<br>start_time: 2021-08-12 11:32:46<br>end_time: 2021-08-12 11:36:47<br>runtime: 239.7000000000036",
          "index: 85<br>name: 210813_Pac--003<br>path: D:/ExtractedSignals\\210813_Pac 2021-08-13 10-37-27\\210813_Pac--003.D<br>batch: 210813_Pac 2021-08-13 10-37-27<br>batch_position: 3<br>idle_time: 278.0<br>sample: Blank<br>method: SAA_411_Pac.M<br>timestamp: 2021-08-13 10:48:34<br>detector: G1315C<br>pump: G7116B<br>start_time: 2021-08-13 10:49:08<br>end_time: 2021-08-13 10:53:08<br>runtime: 239.7000000000036",
          "index: 86<br>name: 210813_Pac--004<br>path: D:/ExtractedSignals\\210813_Pac 2021-08-13 10-37-27\\210813_Pac--004.D<br>batch: 210813_Pac 2021-08-13 10-37-27<br>batch_position: 4<br>idle_time: 279.0<br>sample: Blank<br>method: SAA_411_Pac.M<br>timestamp: 2021-08-13 10:53:13<br>detector: G1315C<br>pump: G7110B<br>start_time: 2021-08-13 10:53:47<br>end_time: 2021-08-13 10:57:47<br>runtime: 239.7000000000036",
          "index: 87<br>name: 210813_Pac--005<br>path: D:/ExtractedSignals\\210813_Pac 2021-08-13 10-37-27\\210813_Pac--005.D<br>batch: 210813_Pac 2021-08-13 10-37-27<br>batch_position: 5<br>idle_time: 279.0<br>sample: NaCl 0,9%<br>method: SAA_411_Pac.M<br>timestamp: 2021-08-13 10:57:52<br>detector: G7110B<br>pump: G7110B<br>start_time: 2021-08-13 10:58:26<br>end_time: 2021-08-13 11:02:27<br>runtime: 239.7000000000036",
          "index: 88<br>name: 210813_Pac--006<br>path: D:/ExtractedSignals\\210813_Pac 2021-08-13 10-37-27\\210813_Pac--006.D<br>batch: 210813_Pac 2021-08-13 10-37-27<br>batch_position: 6<br>idle_time: 279.0<br>sample: Blank<br>method: SAA_411_Pac.M<br>timestamp: 2021-08-13 11:02:31<br>detector: G1315C<br>pump: G7110B<br>start_time: 2021-08-13 11:03:05<br>end_time: 2021-08-13 11:07:06<br>runtime: 239.7000000000036",
          "index: 89<br>name: 210813_Pac--007<br>path: D:/ExtractedSignals\\210813_Pac 2021-08-13 10-37-27\\210813_Pac--007.D<br>batch: 210813_Pac 2021-08-13 10-37-27<br>batch_position: 7<br>idle_time: 279.0<br>sample: 0.025 mg/ml<br>method: SAA_411_Pac.M<br>timestamp: 2021-08-13 11:07:10<br>detector: G1315C<br>pump: G7116B<br>start_time: 2021-08-13 11:07:44<br>end_time: 2021-08-13 11:11:45<br>runtime: 239.7000000000036",
          "index: 90<br>name: 210813_Pac--008<br>path: D:/ExtractedSignals\\210813_Pac 2021-08-13 10-37-27\\210813_Pac--008.D<br>batch: 210813_Pac 2021-08-13 10-37-27<br>batch_position: 8<br>idle_time: 279.0<br>sample: Blank<br>method: SAA_411_Pac.M<br>timestamp: 2021-08-13 11:11:49<br>detector: G1315C<br>pump: G7110B<br>start_time: 2021-08-13 11:12:23<br>end_time: 2021-08-13 11:16:23<br>runtime: 239.7000000000036",
          "index: 91<br>name: 210813_Pac--009<br>path: D:/ExtractedSignals\\210813_Pac 2021-08-13 10-37-27\\210813_Pac--009.D<br>batch: 210813_Pac 2021-08-13 10-37-27<br>batch_position: 9<br>idle_time: 279.0<br>sample: 210812/004 :20<br>method: SAA_411_Pac.M<br>timestamp: 2021-08-13 11:16:28<br>detector: G1315C<br>pump: G7110B<br>start_time: 2021-08-13 11:17:02<br>end_time: 2021-08-13 11:21:03<br>runtime: 239.7000000000036",
          "index: 92<br>name: 210813_Pac--010<br>path: D:/ExtractedSignals\\210813_Pac 2021-08-13 10-37-27\\210813_Pac--010.D<br>batch: 210813_Pac 2021-08-13 10-37-27<br>batch_position: 10<br>idle_time: 280.0<br>sample: 210812/004 :20<br>method: SAA_411_Pac.M<br>timestamp: 2021-08-13 11:21:08<br>detector: G1315C<br>pump: G7110B<br>start_time: 2021-08-13 11:21:41<br>end_time: 2021-08-13 11:25:42<br>runtime: 239.7000000000036",
          "index: 93<br>name: 210813_Pac--011<br>path: D:/ExtractedSignals\\210813_Pac 2021-08-13 10-37-27\\210813_Pac--011.D<br>batch: 210813_Pac 2021-08-13 10-37-27<br>batch_position: 11<br>idle_time: 278.0<br>sample: 210812/004 :20<br>method: SAA_411_Pac.M<br>timestamp: 2021-08-13 11:25:46<br>detector: G1315C<br>pump: G7110B<br>start_time: 2021-08-13 11:26:21<br>end_time: 2021-08-13 11:30:21<br>runtime: 239.7000000000036",
          "index: 94<br>name: 210813_Pac--012<br>path: D:/ExtractedSignals\\210813_Pac 2021-08-13 10-37-27\\210813_Pac--012.D<br>batch: 210813_Pac 2021-08-13 10-37-27<br>batch_position: 12<br>idle_time: 280.0<br>sample: Blank<br>method: SAA_411_Pac.M<br>timestamp: 2021-08-13 11:30:26<br>detector: G1315C<br>pump: G7110B<br>start_time: 2021-08-13 11:30:59<br>end_time: 2021-08-13 11:34:59<br>runtime: 239.7000000000036",
          "index: 95<br>name: 210813_Pac--013<br>path: D:/ExtractedSignals\\210813_Pac 2021-08-13 10-37-27\\210813_Pac--013.D<br>batch: 210813_Pac 2021-08-13 10-37-27<br>batch_position: 13<br>idle_time: 278.0<br>sample: 0.025 mg/ml<br>method: SAA_411_Pac.M<br>timestamp: 2021-08-13 11:35:04<br>detector: G1315C<br>pump: G7110B<br>start_time: 2021-08-13 11:35:38<br>end_time: 2021-08-13 11:39:38<br>runtime: 239.7000000000036",
          "index: 96<br>name: 210813_Pac--014<br>path: D:/ExtractedSignals\\210813_Pac 2021-08-13 10-37-27\\210813_Pac--014.D<br>batch: 210813_Pac 2021-08-13 10-37-27<br>batch_position: 14<br>idle_time: 279.0<br>sample: Blank<br>method: SAA_411_Pac.M<br>timestamp: 2021-08-13 11:39:43<br>detector: G1315C<br>pump: G7110B<br>start_time: 2021-08-13 11:40:16<br>end_time: 2021-08-13 11:44:17<br>runtime: 239.7000000000036"
         ],
         "type": "scatter",
         "x": [
          0,
          1,
          2,
          3,
          4,
          5,
          6,
          7,
          8,
          9,
          10,
          11,
          12,
          13,
          14,
          15,
          16,
          17,
          18,
          19,
          20,
          21
         ],
         "y": [
          0.008269584609189,
          0.0144245984070524,
          0.0148235569169513,
          0.0160259050512812,
          0.0191153711277323,
          0.0385288263664541,
          0.0089186263527546,
          0.0044122199475959,
          0.0069100611909189,
          0.0052904726716839,
          0.0085940496285655,
          0.008231120726196,
          0.0069430360738711,
          0.0069454063849872,
          0.0484397304026699,
          0.0036527954752566,
          0.0069487339197512,
          0.0122698568677798,
          0.0120622139228035,
          0.0066242347504409,
          0.0036061070919767,
          0.0059195268007819
         ]
        },
        {
         "hovertemplate": "<b>%{text}</b><br><b>x: </b>%{x}<br><b>seasonal_fft_mean_3: </b>%{y}<extra></extra>",
         "mode": "lines",
         "name": "seasonal_fft_mean_3",
         "text": [
          "index: 17<br>name: 210812_Pac--005<br>path: D:/ExtractedSignals\\210812_Pac 2021-08-12 10-30-07\\210812_Pac--005.D<br>batch: 210812_Pac 2021-08-12 10-30-07<br>batch_position: 5<br>idle_time: 279.0<br>sample: NaCl 0,9%<br>method: SAA_411_Pac.M<br>timestamp: 2021-08-12 10:50:23<br>detector: G1315C<br>pump: G7110B<br>start_time: 2021-08-12 10:50:57<br>end_time: 2021-08-12 10:54:57<br>runtime: 239.7000000000036",
          "index: 18<br>name: 210812_Pac--006<br>path: D:/ExtractedSignals\\210812_Pac 2021-08-12 10-30-07\\210812_Pac--006.D<br>batch: 210812_Pac 2021-08-12 10-30-07<br>batch_position: 6<br>idle_time: 279.0<br>sample: Blank<br>method: SAA_411_Pac.M<br>timestamp: 2021-08-12 10:55:02<br>detector: G1315C<br>pump: G7110B<br>start_time: 2021-08-12 10:55:36<br>end_time: 2021-08-12 10:59:36<br>runtime: 239.7000000000036",
          "index: 19<br>name: 210812_Pac--007<br>path: D:/ExtractedSignals\\210812_Pac 2021-08-12 10-30-07\\210812_Pac--007.D<br>batch: 210812_Pac 2021-08-12 10-30-07<br>batch_position: 7<br>idle_time: 279.0<br>sample: 0.025 mg/ml<br>method: SAA_411_Pac.M<br>timestamp: 2021-08-12 10:59:41<br>detector: G1315C<br>pump: G7110B<br>start_time: 2021-08-12 11:00:15<br>end_time: 2021-08-12 11:04:15<br>runtime: 239.7000000000036",
          "index: 20<br>name: 210812_Pac--008<br>path: D:/ExtractedSignals\\210812_Pac 2021-08-12 10-30-07\\210812_Pac--008.D<br>batch: 210812_Pac 2021-08-12 10-30-07<br>batch_position: 8<br>idle_time: 279.0<br>sample: Blank<br>method: SAA_411_Pac.M<br>timestamp: 2021-08-12 11:04:20<br>detector: G1315C<br>pump: G7110B<br>start_time: 2021-08-12 11:04:54<br>end_time: 2021-08-12 11:08:54<br>runtime: 239.7000000000036",
          "index: 21<br>name: 210812_Pac--009<br>path: D:/ExtractedSignals\\210812_Pac 2021-08-12 10-30-07\\210812_Pac--009.D<br>batch: 210812_Pac 2021-08-12 10-30-07<br>batch_position: 9<br>idle_time: 279.0<br>sample: 210806/036 :10<br>method: SAA_411_Pac.M<br>timestamp: 2021-08-12 11:08:59<br>detector: G1315C<br>pump: G7110B<br>start_time: 2021-08-12 11:09:32<br>end_time: 2021-08-12 11:13:32<br>runtime: 239.7000000000036",
          "index: 22<br>name: 210812_Pac--010<br>path: D:/ExtractedSignals\\210812_Pac 2021-08-12 10-30-07\\210812_Pac--010.D<br>batch: 210812_Pac 2021-08-12 10-30-07<br>batch_position: 10<br>idle_time: 278.0<br>sample: 210806/036 :10<br>method: SAA_411_Pac.M<br>timestamp: 2021-08-12 11:13:37<br>detector: G7110B<br>pump: G7110B<br>start_time: 2021-08-12 11:14:11<br>end_time: 2021-08-12 11:18:11<br>runtime: 239.7000000000036",
          "index: 23<br>name: 210812_Pac--011<br>path: D:/ExtractedSignals\\210812_Pac 2021-08-12 10-30-07\\210812_Pac--011.D<br>batch: 210812_Pac 2021-08-12 10-30-07<br>batch_position: 11<br>idle_time: 279.0<br>sample: 210806/036 :10<br>method: SAA_411_Pac.M<br>timestamp: 2021-08-12 11:18:16<br>detector: G7110B<br>pump: G7110B<br>start_time: 2021-08-12 11:18:50<br>end_time: 2021-08-12 11:22:50<br>runtime: 239.7000000000036",
          "index: 24<br>name: 210812_Pac--012<br>path: D:/ExtractedSignals\\210812_Pac 2021-08-12 10-30-07\\210812_Pac--012.D<br>batch: 210812_Pac 2021-08-12 10-30-07<br>batch_position: 12<br>idle_time: 279.0<br>sample: Blank<br>method: SAA_411_Pac.M<br>timestamp: 2021-08-12 11:22:55<br>detector: G1315C<br>pump: G7110B<br>start_time: 2021-08-12 11:23:29<br>end_time: 2021-08-12 11:27:29<br>runtime: 239.7000000000036",
          "index: 25<br>name: 210812_Pac--013<br>path: D:/ExtractedSignals\\210812_Pac 2021-08-12 10-30-07\\210812_Pac--013.D<br>batch: 210812_Pac 2021-08-12 10-30-07<br>batch_position: 13<br>idle_time: 279.0<br>sample: 0.025 mg/ml<br>method: SAA_411_Pac.M<br>timestamp: 2021-08-12 11:27:34<br>detector: G1315C<br>pump: G7110B<br>start_time: 2021-08-12 11:28:08<br>end_time: 2021-08-12 11:32:08<br>runtime: 239.7000000000036",
          "index: 26<br>name: 210812_Pac--014<br>path: D:/ExtractedSignals\\210812_Pac 2021-08-12 10-30-07\\210812_Pac--014.D<br>batch: 210812_Pac 2021-08-12 10-30-07<br>batch_position: 14<br>idle_time: 279.0<br>sample: Blank<br>method: SAA_411_Pac.M<br>timestamp: 2021-08-12 11:32:13<br>detector: G7110B<br>pump: G7110B<br>start_time: 2021-08-12 11:32:46<br>end_time: 2021-08-12 11:36:47<br>runtime: 239.7000000000036",
          "index: 85<br>name: 210813_Pac--003<br>path: D:/ExtractedSignals\\210813_Pac 2021-08-13 10-37-27\\210813_Pac--003.D<br>batch: 210813_Pac 2021-08-13 10-37-27<br>batch_position: 3<br>idle_time: 278.0<br>sample: Blank<br>method: SAA_411_Pac.M<br>timestamp: 2021-08-13 10:48:34<br>detector: G1315C<br>pump: G7116B<br>start_time: 2021-08-13 10:49:08<br>end_time: 2021-08-13 10:53:08<br>runtime: 239.7000000000036",
          "index: 86<br>name: 210813_Pac--004<br>path: D:/ExtractedSignals\\210813_Pac 2021-08-13 10-37-27\\210813_Pac--004.D<br>batch: 210813_Pac 2021-08-13 10-37-27<br>batch_position: 4<br>idle_time: 279.0<br>sample: Blank<br>method: SAA_411_Pac.M<br>timestamp: 2021-08-13 10:53:13<br>detector: G1315C<br>pump: G7110B<br>start_time: 2021-08-13 10:53:47<br>end_time: 2021-08-13 10:57:47<br>runtime: 239.7000000000036",
          "index: 87<br>name: 210813_Pac--005<br>path: D:/ExtractedSignals\\210813_Pac 2021-08-13 10-37-27\\210813_Pac--005.D<br>batch: 210813_Pac 2021-08-13 10-37-27<br>batch_position: 5<br>idle_time: 279.0<br>sample: NaCl 0,9%<br>method: SAA_411_Pac.M<br>timestamp: 2021-08-13 10:57:52<br>detector: G7110B<br>pump: G7110B<br>start_time: 2021-08-13 10:58:26<br>end_time: 2021-08-13 11:02:27<br>runtime: 239.7000000000036",
          "index: 88<br>name: 210813_Pac--006<br>path: D:/ExtractedSignals\\210813_Pac 2021-08-13 10-37-27\\210813_Pac--006.D<br>batch: 210813_Pac 2021-08-13 10-37-27<br>batch_position: 6<br>idle_time: 279.0<br>sample: Blank<br>method: SAA_411_Pac.M<br>timestamp: 2021-08-13 11:02:31<br>detector: G1315C<br>pump: G7110B<br>start_time: 2021-08-13 11:03:05<br>end_time: 2021-08-13 11:07:06<br>runtime: 239.7000000000036",
          "index: 89<br>name: 210813_Pac--007<br>path: D:/ExtractedSignals\\210813_Pac 2021-08-13 10-37-27\\210813_Pac--007.D<br>batch: 210813_Pac 2021-08-13 10-37-27<br>batch_position: 7<br>idle_time: 279.0<br>sample: 0.025 mg/ml<br>method: SAA_411_Pac.M<br>timestamp: 2021-08-13 11:07:10<br>detector: G1315C<br>pump: G7116B<br>start_time: 2021-08-13 11:07:44<br>end_time: 2021-08-13 11:11:45<br>runtime: 239.7000000000036",
          "index: 90<br>name: 210813_Pac--008<br>path: D:/ExtractedSignals\\210813_Pac 2021-08-13 10-37-27\\210813_Pac--008.D<br>batch: 210813_Pac 2021-08-13 10-37-27<br>batch_position: 8<br>idle_time: 279.0<br>sample: Blank<br>method: SAA_411_Pac.M<br>timestamp: 2021-08-13 11:11:49<br>detector: G1315C<br>pump: G7110B<br>start_time: 2021-08-13 11:12:23<br>end_time: 2021-08-13 11:16:23<br>runtime: 239.7000000000036",
          "index: 91<br>name: 210813_Pac--009<br>path: D:/ExtractedSignals\\210813_Pac 2021-08-13 10-37-27\\210813_Pac--009.D<br>batch: 210813_Pac 2021-08-13 10-37-27<br>batch_position: 9<br>idle_time: 279.0<br>sample: 210812/004 :20<br>method: SAA_411_Pac.M<br>timestamp: 2021-08-13 11:16:28<br>detector: G1315C<br>pump: G7110B<br>start_time: 2021-08-13 11:17:02<br>end_time: 2021-08-13 11:21:03<br>runtime: 239.7000000000036",
          "index: 92<br>name: 210813_Pac--010<br>path: D:/ExtractedSignals\\210813_Pac 2021-08-13 10-37-27\\210813_Pac--010.D<br>batch: 210813_Pac 2021-08-13 10-37-27<br>batch_position: 10<br>idle_time: 280.0<br>sample: 210812/004 :20<br>method: SAA_411_Pac.M<br>timestamp: 2021-08-13 11:21:08<br>detector: G1315C<br>pump: G7110B<br>start_time: 2021-08-13 11:21:41<br>end_time: 2021-08-13 11:25:42<br>runtime: 239.7000000000036",
          "index: 93<br>name: 210813_Pac--011<br>path: D:/ExtractedSignals\\210813_Pac 2021-08-13 10-37-27\\210813_Pac--011.D<br>batch: 210813_Pac 2021-08-13 10-37-27<br>batch_position: 11<br>idle_time: 278.0<br>sample: 210812/004 :20<br>method: SAA_411_Pac.M<br>timestamp: 2021-08-13 11:25:46<br>detector: G1315C<br>pump: G7110B<br>start_time: 2021-08-13 11:26:21<br>end_time: 2021-08-13 11:30:21<br>runtime: 239.7000000000036",
          "index: 94<br>name: 210813_Pac--012<br>path: D:/ExtractedSignals\\210813_Pac 2021-08-13 10-37-27\\210813_Pac--012.D<br>batch: 210813_Pac 2021-08-13 10-37-27<br>batch_position: 12<br>idle_time: 280.0<br>sample: Blank<br>method: SAA_411_Pac.M<br>timestamp: 2021-08-13 11:30:26<br>detector: G1315C<br>pump: G7110B<br>start_time: 2021-08-13 11:30:59<br>end_time: 2021-08-13 11:34:59<br>runtime: 239.7000000000036",
          "index: 95<br>name: 210813_Pac--013<br>path: D:/ExtractedSignals\\210813_Pac 2021-08-13 10-37-27\\210813_Pac--013.D<br>batch: 210813_Pac 2021-08-13 10-37-27<br>batch_position: 13<br>idle_time: 278.0<br>sample: 0.025 mg/ml<br>method: SAA_411_Pac.M<br>timestamp: 2021-08-13 11:35:04<br>detector: G1315C<br>pump: G7110B<br>start_time: 2021-08-13 11:35:38<br>end_time: 2021-08-13 11:39:38<br>runtime: 239.7000000000036",
          "index: 96<br>name: 210813_Pac--014<br>path: D:/ExtractedSignals\\210813_Pac 2021-08-13 10-37-27\\210813_Pac--014.D<br>batch: 210813_Pac 2021-08-13 10-37-27<br>batch_position: 14<br>idle_time: 279.0<br>sample: Blank<br>method: SAA_411_Pac.M<br>timestamp: 2021-08-13 11:39:43<br>detector: G1315C<br>pump: G7110B<br>start_time: 2021-08-13 11:40:16<br>end_time: 2021-08-13 11:44:17<br>runtime: 239.7000000000036"
         ],
         "type": "scatter",
         "x": [
          0,
          1,
          2,
          3,
          4,
          5,
          6,
          7,
          8,
          9,
          10,
          11,
          12,
          13,
          14,
          15,
          16,
          17,
          18,
          19,
          20,
          21
         ],
         "y": [
          0.0826127778730677,
          0.0427157228492202,
          0.0999905477326278,
          0.2239251746792872,
          0.0702283479780808,
          0.2250501055991345,
          0.055084704390628,
          0.0680124098665646,
          0.1273022867080594,
          0.0841215961764265,
          0.0843540592270175,
          0.1537328155123305,
          0.1083304689867585,
          0.0758213877944339,
          0.1689659295204817,
          0.0189873799238616,
          0.1003779881908413,
          0.131668587527266,
          0.12080066866811,
          0.0933537743998518,
          0.0387778252246054,
          0.0713512108433782
         ]
        },
        {
         "hovertemplate": "<b>%{text}</b><br><b>x: </b>%{x}<br><b>seasonal_fft_sum_3: </b>%{y}<extra></extra>",
         "mode": "lines",
         "name": "seasonal_fft_sum_3",
         "text": [
          "index: 17<br>name: 210812_Pac--005<br>path: D:/ExtractedSignals\\210812_Pac 2021-08-12 10-30-07\\210812_Pac--005.D<br>batch: 210812_Pac 2021-08-12 10-30-07<br>batch_position: 5<br>idle_time: 279.0<br>sample: NaCl 0,9%<br>method: SAA_411_Pac.M<br>timestamp: 2021-08-12 10:50:23<br>detector: G1315C<br>pump: G7110B<br>start_time: 2021-08-12 10:50:57<br>end_time: 2021-08-12 10:54:57<br>runtime: 239.7000000000036",
          "index: 18<br>name: 210812_Pac--006<br>path: D:/ExtractedSignals\\210812_Pac 2021-08-12 10-30-07\\210812_Pac--006.D<br>batch: 210812_Pac 2021-08-12 10-30-07<br>batch_position: 6<br>idle_time: 279.0<br>sample: Blank<br>method: SAA_411_Pac.M<br>timestamp: 2021-08-12 10:55:02<br>detector: G1315C<br>pump: G7110B<br>start_time: 2021-08-12 10:55:36<br>end_time: 2021-08-12 10:59:36<br>runtime: 239.7000000000036",
          "index: 19<br>name: 210812_Pac--007<br>path: D:/ExtractedSignals\\210812_Pac 2021-08-12 10-30-07\\210812_Pac--007.D<br>batch: 210812_Pac 2021-08-12 10-30-07<br>batch_position: 7<br>idle_time: 279.0<br>sample: 0.025 mg/ml<br>method: SAA_411_Pac.M<br>timestamp: 2021-08-12 10:59:41<br>detector: G1315C<br>pump: G7110B<br>start_time: 2021-08-12 11:00:15<br>end_time: 2021-08-12 11:04:15<br>runtime: 239.7000000000036",
          "index: 20<br>name: 210812_Pac--008<br>path: D:/ExtractedSignals\\210812_Pac 2021-08-12 10-30-07\\210812_Pac--008.D<br>batch: 210812_Pac 2021-08-12 10-30-07<br>batch_position: 8<br>idle_time: 279.0<br>sample: Blank<br>method: SAA_411_Pac.M<br>timestamp: 2021-08-12 11:04:20<br>detector: G1315C<br>pump: G7110B<br>start_time: 2021-08-12 11:04:54<br>end_time: 2021-08-12 11:08:54<br>runtime: 239.7000000000036",
          "index: 21<br>name: 210812_Pac--009<br>path: D:/ExtractedSignals\\210812_Pac 2021-08-12 10-30-07\\210812_Pac--009.D<br>batch: 210812_Pac 2021-08-12 10-30-07<br>batch_position: 9<br>idle_time: 279.0<br>sample: 210806/036 :10<br>method: SAA_411_Pac.M<br>timestamp: 2021-08-12 11:08:59<br>detector: G1315C<br>pump: G7110B<br>start_time: 2021-08-12 11:09:32<br>end_time: 2021-08-12 11:13:32<br>runtime: 239.7000000000036",
          "index: 22<br>name: 210812_Pac--010<br>path: D:/ExtractedSignals\\210812_Pac 2021-08-12 10-30-07\\210812_Pac--010.D<br>batch: 210812_Pac 2021-08-12 10-30-07<br>batch_position: 10<br>idle_time: 278.0<br>sample: 210806/036 :10<br>method: SAA_411_Pac.M<br>timestamp: 2021-08-12 11:13:37<br>detector: G7110B<br>pump: G7110B<br>start_time: 2021-08-12 11:14:11<br>end_time: 2021-08-12 11:18:11<br>runtime: 239.7000000000036",
          "index: 23<br>name: 210812_Pac--011<br>path: D:/ExtractedSignals\\210812_Pac 2021-08-12 10-30-07\\210812_Pac--011.D<br>batch: 210812_Pac 2021-08-12 10-30-07<br>batch_position: 11<br>idle_time: 279.0<br>sample: 210806/036 :10<br>method: SAA_411_Pac.M<br>timestamp: 2021-08-12 11:18:16<br>detector: G7110B<br>pump: G7110B<br>start_time: 2021-08-12 11:18:50<br>end_time: 2021-08-12 11:22:50<br>runtime: 239.7000000000036",
          "index: 24<br>name: 210812_Pac--012<br>path: D:/ExtractedSignals\\210812_Pac 2021-08-12 10-30-07\\210812_Pac--012.D<br>batch: 210812_Pac 2021-08-12 10-30-07<br>batch_position: 12<br>idle_time: 279.0<br>sample: Blank<br>method: SAA_411_Pac.M<br>timestamp: 2021-08-12 11:22:55<br>detector: G1315C<br>pump: G7110B<br>start_time: 2021-08-12 11:23:29<br>end_time: 2021-08-12 11:27:29<br>runtime: 239.7000000000036",
          "index: 25<br>name: 210812_Pac--013<br>path: D:/ExtractedSignals\\210812_Pac 2021-08-12 10-30-07\\210812_Pac--013.D<br>batch: 210812_Pac 2021-08-12 10-30-07<br>batch_position: 13<br>idle_time: 279.0<br>sample: 0.025 mg/ml<br>method: SAA_411_Pac.M<br>timestamp: 2021-08-12 11:27:34<br>detector: G1315C<br>pump: G7110B<br>start_time: 2021-08-12 11:28:08<br>end_time: 2021-08-12 11:32:08<br>runtime: 239.7000000000036",
          "index: 26<br>name: 210812_Pac--014<br>path: D:/ExtractedSignals\\210812_Pac 2021-08-12 10-30-07\\210812_Pac--014.D<br>batch: 210812_Pac 2021-08-12 10-30-07<br>batch_position: 14<br>idle_time: 279.0<br>sample: Blank<br>method: SAA_411_Pac.M<br>timestamp: 2021-08-12 11:32:13<br>detector: G7110B<br>pump: G7110B<br>start_time: 2021-08-12 11:32:46<br>end_time: 2021-08-12 11:36:47<br>runtime: 239.7000000000036",
          "index: 85<br>name: 210813_Pac--003<br>path: D:/ExtractedSignals\\210813_Pac 2021-08-13 10-37-27\\210813_Pac--003.D<br>batch: 210813_Pac 2021-08-13 10-37-27<br>batch_position: 3<br>idle_time: 278.0<br>sample: Blank<br>method: SAA_411_Pac.M<br>timestamp: 2021-08-13 10:48:34<br>detector: G1315C<br>pump: G7116B<br>start_time: 2021-08-13 10:49:08<br>end_time: 2021-08-13 10:53:08<br>runtime: 239.7000000000036",
          "index: 86<br>name: 210813_Pac--004<br>path: D:/ExtractedSignals\\210813_Pac 2021-08-13 10-37-27\\210813_Pac--004.D<br>batch: 210813_Pac 2021-08-13 10-37-27<br>batch_position: 4<br>idle_time: 279.0<br>sample: Blank<br>method: SAA_411_Pac.M<br>timestamp: 2021-08-13 10:53:13<br>detector: G1315C<br>pump: G7110B<br>start_time: 2021-08-13 10:53:47<br>end_time: 2021-08-13 10:57:47<br>runtime: 239.7000000000036",
          "index: 87<br>name: 210813_Pac--005<br>path: D:/ExtractedSignals\\210813_Pac 2021-08-13 10-37-27\\210813_Pac--005.D<br>batch: 210813_Pac 2021-08-13 10-37-27<br>batch_position: 5<br>idle_time: 279.0<br>sample: NaCl 0,9%<br>method: SAA_411_Pac.M<br>timestamp: 2021-08-13 10:57:52<br>detector: G7110B<br>pump: G7110B<br>start_time: 2021-08-13 10:58:26<br>end_time: 2021-08-13 11:02:27<br>runtime: 239.7000000000036",
          "index: 88<br>name: 210813_Pac--006<br>path: D:/ExtractedSignals\\210813_Pac 2021-08-13 10-37-27\\210813_Pac--006.D<br>batch: 210813_Pac 2021-08-13 10-37-27<br>batch_position: 6<br>idle_time: 279.0<br>sample: Blank<br>method: SAA_411_Pac.M<br>timestamp: 2021-08-13 11:02:31<br>detector: G1315C<br>pump: G7110B<br>start_time: 2021-08-13 11:03:05<br>end_time: 2021-08-13 11:07:06<br>runtime: 239.7000000000036",
          "index: 89<br>name: 210813_Pac--007<br>path: D:/ExtractedSignals\\210813_Pac 2021-08-13 10-37-27\\210813_Pac--007.D<br>batch: 210813_Pac 2021-08-13 10-37-27<br>batch_position: 7<br>idle_time: 279.0<br>sample: 0.025 mg/ml<br>method: SAA_411_Pac.M<br>timestamp: 2021-08-13 11:07:10<br>detector: G1315C<br>pump: G7116B<br>start_time: 2021-08-13 11:07:44<br>end_time: 2021-08-13 11:11:45<br>runtime: 239.7000000000036",
          "index: 90<br>name: 210813_Pac--008<br>path: D:/ExtractedSignals\\210813_Pac 2021-08-13 10-37-27\\210813_Pac--008.D<br>batch: 210813_Pac 2021-08-13 10-37-27<br>batch_position: 8<br>idle_time: 279.0<br>sample: Blank<br>method: SAA_411_Pac.M<br>timestamp: 2021-08-13 11:11:49<br>detector: G1315C<br>pump: G7110B<br>start_time: 2021-08-13 11:12:23<br>end_time: 2021-08-13 11:16:23<br>runtime: 239.7000000000036",
          "index: 91<br>name: 210813_Pac--009<br>path: D:/ExtractedSignals\\210813_Pac 2021-08-13 10-37-27\\210813_Pac--009.D<br>batch: 210813_Pac 2021-08-13 10-37-27<br>batch_position: 9<br>idle_time: 279.0<br>sample: 210812/004 :20<br>method: SAA_411_Pac.M<br>timestamp: 2021-08-13 11:16:28<br>detector: G1315C<br>pump: G7110B<br>start_time: 2021-08-13 11:17:02<br>end_time: 2021-08-13 11:21:03<br>runtime: 239.7000000000036",
          "index: 92<br>name: 210813_Pac--010<br>path: D:/ExtractedSignals\\210813_Pac 2021-08-13 10-37-27\\210813_Pac--010.D<br>batch: 210813_Pac 2021-08-13 10-37-27<br>batch_position: 10<br>idle_time: 280.0<br>sample: 210812/004 :20<br>method: SAA_411_Pac.M<br>timestamp: 2021-08-13 11:21:08<br>detector: G1315C<br>pump: G7110B<br>start_time: 2021-08-13 11:21:41<br>end_time: 2021-08-13 11:25:42<br>runtime: 239.7000000000036",
          "index: 93<br>name: 210813_Pac--011<br>path: D:/ExtractedSignals\\210813_Pac 2021-08-13 10-37-27\\210813_Pac--011.D<br>batch: 210813_Pac 2021-08-13 10-37-27<br>batch_position: 11<br>idle_time: 278.0<br>sample: 210812/004 :20<br>method: SAA_411_Pac.M<br>timestamp: 2021-08-13 11:25:46<br>detector: G1315C<br>pump: G7110B<br>start_time: 2021-08-13 11:26:21<br>end_time: 2021-08-13 11:30:21<br>runtime: 239.7000000000036",
          "index: 94<br>name: 210813_Pac--012<br>path: D:/ExtractedSignals\\210813_Pac 2021-08-13 10-37-27\\210813_Pac--012.D<br>batch: 210813_Pac 2021-08-13 10-37-27<br>batch_position: 12<br>idle_time: 280.0<br>sample: Blank<br>method: SAA_411_Pac.M<br>timestamp: 2021-08-13 11:30:26<br>detector: G1315C<br>pump: G7110B<br>start_time: 2021-08-13 11:30:59<br>end_time: 2021-08-13 11:34:59<br>runtime: 239.7000000000036",
          "index: 95<br>name: 210813_Pac--013<br>path: D:/ExtractedSignals\\210813_Pac 2021-08-13 10-37-27\\210813_Pac--013.D<br>batch: 210813_Pac 2021-08-13 10-37-27<br>batch_position: 13<br>idle_time: 278.0<br>sample: 0.025 mg/ml<br>method: SAA_411_Pac.M<br>timestamp: 2021-08-13 11:35:04<br>detector: G1315C<br>pump: G7110B<br>start_time: 2021-08-13 11:35:38<br>end_time: 2021-08-13 11:39:38<br>runtime: 239.7000000000036",
          "index: 96<br>name: 210813_Pac--014<br>path: D:/ExtractedSignals\\210813_Pac 2021-08-13 10-37-27\\210813_Pac--014.D<br>batch: 210813_Pac 2021-08-13 10-37-27<br>batch_position: 14<br>idle_time: 279.0<br>sample: Blank<br>method: SAA_411_Pac.M<br>timestamp: 2021-08-13 11:39:43<br>detector: G1315C<br>pump: G7110B<br>start_time: 2021-08-13 11:40:16<br>end_time: 2021-08-13 11:44:17<br>runtime: 239.7000000000036"
         ],
         "type": "scatter",
         "x": [
          0,
          1,
          2,
          3,
          4,
          5,
          6,
          7,
          8,
          9,
          10,
          11,
          12,
          13,
          14,
          15,
          16,
          17,
          18,
          19,
          20,
          21
         ],
         "y": [
          0.0826127778730677,
          0.0427157228492202,
          0.0999905477326277,
          0.2239251746792872,
          0.0702283479780808,
          0.2250501055991345,
          0.055084704390628,
          0.0680124098665646,
          0.1273022867080594,
          0.0841215961764265,
          0.0843540592270174,
          0.1537328155123305,
          0.1083304689867585,
          0.0758213877944339,
          0.1689659295204817,
          0.0189873799238616,
          0.1003779881908412,
          0.131668587527266,
          0.1208006686681099,
          0.0933537743998518,
          0.0387778252246054,
          0.0713512108433782
         ]
        },
        {
         "hovertemplate": "<b>%{text}</b><br><b>x: </b>%{x}<br><b>residual_fft_mean_3: </b>%{y}<extra></extra>",
         "mode": "lines",
         "name": "residual_fft_mean_3",
         "text": [
          "index: 17<br>name: 210812_Pac--005<br>path: D:/ExtractedSignals\\210812_Pac 2021-08-12 10-30-07\\210812_Pac--005.D<br>batch: 210812_Pac 2021-08-12 10-30-07<br>batch_position: 5<br>idle_time: 279.0<br>sample: NaCl 0,9%<br>method: SAA_411_Pac.M<br>timestamp: 2021-08-12 10:50:23<br>detector: G1315C<br>pump: G7110B<br>start_time: 2021-08-12 10:50:57<br>end_time: 2021-08-12 10:54:57<br>runtime: 239.7000000000036",
          "index: 18<br>name: 210812_Pac--006<br>path: D:/ExtractedSignals\\210812_Pac 2021-08-12 10-30-07\\210812_Pac--006.D<br>batch: 210812_Pac 2021-08-12 10-30-07<br>batch_position: 6<br>idle_time: 279.0<br>sample: Blank<br>method: SAA_411_Pac.M<br>timestamp: 2021-08-12 10:55:02<br>detector: G1315C<br>pump: G7110B<br>start_time: 2021-08-12 10:55:36<br>end_time: 2021-08-12 10:59:36<br>runtime: 239.7000000000036",
          "index: 19<br>name: 210812_Pac--007<br>path: D:/ExtractedSignals\\210812_Pac 2021-08-12 10-30-07\\210812_Pac--007.D<br>batch: 210812_Pac 2021-08-12 10-30-07<br>batch_position: 7<br>idle_time: 279.0<br>sample: 0.025 mg/ml<br>method: SAA_411_Pac.M<br>timestamp: 2021-08-12 10:59:41<br>detector: G1315C<br>pump: G7110B<br>start_time: 2021-08-12 11:00:15<br>end_time: 2021-08-12 11:04:15<br>runtime: 239.7000000000036",
          "index: 20<br>name: 210812_Pac--008<br>path: D:/ExtractedSignals\\210812_Pac 2021-08-12 10-30-07\\210812_Pac--008.D<br>batch: 210812_Pac 2021-08-12 10-30-07<br>batch_position: 8<br>idle_time: 279.0<br>sample: Blank<br>method: SAA_411_Pac.M<br>timestamp: 2021-08-12 11:04:20<br>detector: G1315C<br>pump: G7110B<br>start_time: 2021-08-12 11:04:54<br>end_time: 2021-08-12 11:08:54<br>runtime: 239.7000000000036",
          "index: 21<br>name: 210812_Pac--009<br>path: D:/ExtractedSignals\\210812_Pac 2021-08-12 10-30-07\\210812_Pac--009.D<br>batch: 210812_Pac 2021-08-12 10-30-07<br>batch_position: 9<br>idle_time: 279.0<br>sample: 210806/036 :10<br>method: SAA_411_Pac.M<br>timestamp: 2021-08-12 11:08:59<br>detector: G1315C<br>pump: G7110B<br>start_time: 2021-08-12 11:09:32<br>end_time: 2021-08-12 11:13:32<br>runtime: 239.7000000000036",
          "index: 22<br>name: 210812_Pac--010<br>path: D:/ExtractedSignals\\210812_Pac 2021-08-12 10-30-07\\210812_Pac--010.D<br>batch: 210812_Pac 2021-08-12 10-30-07<br>batch_position: 10<br>idle_time: 278.0<br>sample: 210806/036 :10<br>method: SAA_411_Pac.M<br>timestamp: 2021-08-12 11:13:37<br>detector: G7110B<br>pump: G7110B<br>start_time: 2021-08-12 11:14:11<br>end_time: 2021-08-12 11:18:11<br>runtime: 239.7000000000036",
          "index: 23<br>name: 210812_Pac--011<br>path: D:/ExtractedSignals\\210812_Pac 2021-08-12 10-30-07\\210812_Pac--011.D<br>batch: 210812_Pac 2021-08-12 10-30-07<br>batch_position: 11<br>idle_time: 279.0<br>sample: 210806/036 :10<br>method: SAA_411_Pac.M<br>timestamp: 2021-08-12 11:18:16<br>detector: G7110B<br>pump: G7110B<br>start_time: 2021-08-12 11:18:50<br>end_time: 2021-08-12 11:22:50<br>runtime: 239.7000000000036",
          "index: 24<br>name: 210812_Pac--012<br>path: D:/ExtractedSignals\\210812_Pac 2021-08-12 10-30-07\\210812_Pac--012.D<br>batch: 210812_Pac 2021-08-12 10-30-07<br>batch_position: 12<br>idle_time: 279.0<br>sample: Blank<br>method: SAA_411_Pac.M<br>timestamp: 2021-08-12 11:22:55<br>detector: G1315C<br>pump: G7110B<br>start_time: 2021-08-12 11:23:29<br>end_time: 2021-08-12 11:27:29<br>runtime: 239.7000000000036",
          "index: 25<br>name: 210812_Pac--013<br>path: D:/ExtractedSignals\\210812_Pac 2021-08-12 10-30-07\\210812_Pac--013.D<br>batch: 210812_Pac 2021-08-12 10-30-07<br>batch_position: 13<br>idle_time: 279.0<br>sample: 0.025 mg/ml<br>method: SAA_411_Pac.M<br>timestamp: 2021-08-12 11:27:34<br>detector: G1315C<br>pump: G7110B<br>start_time: 2021-08-12 11:28:08<br>end_time: 2021-08-12 11:32:08<br>runtime: 239.7000000000036",
          "index: 26<br>name: 210812_Pac--014<br>path: D:/ExtractedSignals\\210812_Pac 2021-08-12 10-30-07\\210812_Pac--014.D<br>batch: 210812_Pac 2021-08-12 10-30-07<br>batch_position: 14<br>idle_time: 279.0<br>sample: Blank<br>method: SAA_411_Pac.M<br>timestamp: 2021-08-12 11:32:13<br>detector: G7110B<br>pump: G7110B<br>start_time: 2021-08-12 11:32:46<br>end_time: 2021-08-12 11:36:47<br>runtime: 239.7000000000036",
          "index: 85<br>name: 210813_Pac--003<br>path: D:/ExtractedSignals\\210813_Pac 2021-08-13 10-37-27\\210813_Pac--003.D<br>batch: 210813_Pac 2021-08-13 10-37-27<br>batch_position: 3<br>idle_time: 278.0<br>sample: Blank<br>method: SAA_411_Pac.M<br>timestamp: 2021-08-13 10:48:34<br>detector: G1315C<br>pump: G7116B<br>start_time: 2021-08-13 10:49:08<br>end_time: 2021-08-13 10:53:08<br>runtime: 239.7000000000036",
          "index: 86<br>name: 210813_Pac--004<br>path: D:/ExtractedSignals\\210813_Pac 2021-08-13 10-37-27\\210813_Pac--004.D<br>batch: 210813_Pac 2021-08-13 10-37-27<br>batch_position: 4<br>idle_time: 279.0<br>sample: Blank<br>method: SAA_411_Pac.M<br>timestamp: 2021-08-13 10:53:13<br>detector: G1315C<br>pump: G7110B<br>start_time: 2021-08-13 10:53:47<br>end_time: 2021-08-13 10:57:47<br>runtime: 239.7000000000036",
          "index: 87<br>name: 210813_Pac--005<br>path: D:/ExtractedSignals\\210813_Pac 2021-08-13 10-37-27\\210813_Pac--005.D<br>batch: 210813_Pac 2021-08-13 10-37-27<br>batch_position: 5<br>idle_time: 279.0<br>sample: NaCl 0,9%<br>method: SAA_411_Pac.M<br>timestamp: 2021-08-13 10:57:52<br>detector: G7110B<br>pump: G7110B<br>start_time: 2021-08-13 10:58:26<br>end_time: 2021-08-13 11:02:27<br>runtime: 239.7000000000036",
          "index: 88<br>name: 210813_Pac--006<br>path: D:/ExtractedSignals\\210813_Pac 2021-08-13 10-37-27\\210813_Pac--006.D<br>batch: 210813_Pac 2021-08-13 10-37-27<br>batch_position: 6<br>idle_time: 279.0<br>sample: Blank<br>method: SAA_411_Pac.M<br>timestamp: 2021-08-13 11:02:31<br>detector: G1315C<br>pump: G7110B<br>start_time: 2021-08-13 11:03:05<br>end_time: 2021-08-13 11:07:06<br>runtime: 239.7000000000036",
          "index: 89<br>name: 210813_Pac--007<br>path: D:/ExtractedSignals\\210813_Pac 2021-08-13 10-37-27\\210813_Pac--007.D<br>batch: 210813_Pac 2021-08-13 10-37-27<br>batch_position: 7<br>idle_time: 279.0<br>sample: 0.025 mg/ml<br>method: SAA_411_Pac.M<br>timestamp: 2021-08-13 11:07:10<br>detector: G1315C<br>pump: G7116B<br>start_time: 2021-08-13 11:07:44<br>end_time: 2021-08-13 11:11:45<br>runtime: 239.7000000000036",
          "index: 90<br>name: 210813_Pac--008<br>path: D:/ExtractedSignals\\210813_Pac 2021-08-13 10-37-27\\210813_Pac--008.D<br>batch: 210813_Pac 2021-08-13 10-37-27<br>batch_position: 8<br>idle_time: 279.0<br>sample: Blank<br>method: SAA_411_Pac.M<br>timestamp: 2021-08-13 11:11:49<br>detector: G1315C<br>pump: G7110B<br>start_time: 2021-08-13 11:12:23<br>end_time: 2021-08-13 11:16:23<br>runtime: 239.7000000000036",
          "index: 91<br>name: 210813_Pac--009<br>path: D:/ExtractedSignals\\210813_Pac 2021-08-13 10-37-27\\210813_Pac--009.D<br>batch: 210813_Pac 2021-08-13 10-37-27<br>batch_position: 9<br>idle_time: 279.0<br>sample: 210812/004 :20<br>method: SAA_411_Pac.M<br>timestamp: 2021-08-13 11:16:28<br>detector: G1315C<br>pump: G7110B<br>start_time: 2021-08-13 11:17:02<br>end_time: 2021-08-13 11:21:03<br>runtime: 239.7000000000036",
          "index: 92<br>name: 210813_Pac--010<br>path: D:/ExtractedSignals\\210813_Pac 2021-08-13 10-37-27\\210813_Pac--010.D<br>batch: 210813_Pac 2021-08-13 10-37-27<br>batch_position: 10<br>idle_time: 280.0<br>sample: 210812/004 :20<br>method: SAA_411_Pac.M<br>timestamp: 2021-08-13 11:21:08<br>detector: G1315C<br>pump: G7110B<br>start_time: 2021-08-13 11:21:41<br>end_time: 2021-08-13 11:25:42<br>runtime: 239.7000000000036",
          "index: 93<br>name: 210813_Pac--011<br>path: D:/ExtractedSignals\\210813_Pac 2021-08-13 10-37-27\\210813_Pac--011.D<br>batch: 210813_Pac 2021-08-13 10-37-27<br>batch_position: 11<br>idle_time: 278.0<br>sample: 210812/004 :20<br>method: SAA_411_Pac.M<br>timestamp: 2021-08-13 11:25:46<br>detector: G1315C<br>pump: G7110B<br>start_time: 2021-08-13 11:26:21<br>end_time: 2021-08-13 11:30:21<br>runtime: 239.7000000000036",
          "index: 94<br>name: 210813_Pac--012<br>path: D:/ExtractedSignals\\210813_Pac 2021-08-13 10-37-27\\210813_Pac--012.D<br>batch: 210813_Pac 2021-08-13 10-37-27<br>batch_position: 12<br>idle_time: 280.0<br>sample: Blank<br>method: SAA_411_Pac.M<br>timestamp: 2021-08-13 11:30:26<br>detector: G1315C<br>pump: G7110B<br>start_time: 2021-08-13 11:30:59<br>end_time: 2021-08-13 11:34:59<br>runtime: 239.7000000000036",
          "index: 95<br>name: 210813_Pac--013<br>path: D:/ExtractedSignals\\210813_Pac 2021-08-13 10-37-27\\210813_Pac--013.D<br>batch: 210813_Pac 2021-08-13 10-37-27<br>batch_position: 13<br>idle_time: 278.0<br>sample: 0.025 mg/ml<br>method: SAA_411_Pac.M<br>timestamp: 2021-08-13 11:35:04<br>detector: G1315C<br>pump: G7110B<br>start_time: 2021-08-13 11:35:38<br>end_time: 2021-08-13 11:39:38<br>runtime: 239.7000000000036",
          "index: 96<br>name: 210813_Pac--014<br>path: D:/ExtractedSignals\\210813_Pac 2021-08-13 10-37-27\\210813_Pac--014.D<br>batch: 210813_Pac 2021-08-13 10-37-27<br>batch_position: 14<br>idle_time: 279.0<br>sample: Blank<br>method: SAA_411_Pac.M<br>timestamp: 2021-08-13 11:39:43<br>detector: G1315C<br>pump: G7110B<br>start_time: 2021-08-13 11:40:16<br>end_time: 2021-08-13 11:44:17<br>runtime: 239.7000000000036"
         ],
         "type": "scatter",
         "x": [
          0,
          1,
          2,
          3,
          4,
          5,
          6,
          7,
          8,
          9,
          10,
          11,
          12,
          13,
          14,
          15,
          16,
          17,
          18,
          19,
          20,
          21
         ],
         "y": [
          0.0183277187368497,
          0.0135427140534952,
          0.0169569675544579,
          0.0164889780616527,
          0.0175632154122388,
          0.0697778033663869,
          0.0112742683661419,
          0.004817833081247,
          0.0249099340037088,
          0.0087067054066316,
          0.0062784536442391,
          0.0158277704771117,
          0.0072904285649955,
          0.0113513603751599,
          0.095804992621084,
          0.0079610283179472,
          0.0080560817735142,
          0.0168908776378527,
          0.007036505577366,
          0.0150961135519818,
          0.0071541527835328,
          0.0157352085343963
         ]
        },
        {
         "hovertemplate": "<b>%{text}</b><br><b>x: </b>%{x}<br><b>residual_fft_sum_3: </b>%{y}<extra></extra>",
         "mode": "lines",
         "name": "residual_fft_sum_3",
         "text": [
          "index: 17<br>name: 210812_Pac--005<br>path: D:/ExtractedSignals\\210812_Pac 2021-08-12 10-30-07\\210812_Pac--005.D<br>batch: 210812_Pac 2021-08-12 10-30-07<br>batch_position: 5<br>idle_time: 279.0<br>sample: NaCl 0,9%<br>method: SAA_411_Pac.M<br>timestamp: 2021-08-12 10:50:23<br>detector: G1315C<br>pump: G7110B<br>start_time: 2021-08-12 10:50:57<br>end_time: 2021-08-12 10:54:57<br>runtime: 239.7000000000036",
          "index: 18<br>name: 210812_Pac--006<br>path: D:/ExtractedSignals\\210812_Pac 2021-08-12 10-30-07\\210812_Pac--006.D<br>batch: 210812_Pac 2021-08-12 10-30-07<br>batch_position: 6<br>idle_time: 279.0<br>sample: Blank<br>method: SAA_411_Pac.M<br>timestamp: 2021-08-12 10:55:02<br>detector: G1315C<br>pump: G7110B<br>start_time: 2021-08-12 10:55:36<br>end_time: 2021-08-12 10:59:36<br>runtime: 239.7000000000036",
          "index: 19<br>name: 210812_Pac--007<br>path: D:/ExtractedSignals\\210812_Pac 2021-08-12 10-30-07\\210812_Pac--007.D<br>batch: 210812_Pac 2021-08-12 10-30-07<br>batch_position: 7<br>idle_time: 279.0<br>sample: 0.025 mg/ml<br>method: SAA_411_Pac.M<br>timestamp: 2021-08-12 10:59:41<br>detector: G1315C<br>pump: G7110B<br>start_time: 2021-08-12 11:00:15<br>end_time: 2021-08-12 11:04:15<br>runtime: 239.7000000000036",
          "index: 20<br>name: 210812_Pac--008<br>path: D:/ExtractedSignals\\210812_Pac 2021-08-12 10-30-07\\210812_Pac--008.D<br>batch: 210812_Pac 2021-08-12 10-30-07<br>batch_position: 8<br>idle_time: 279.0<br>sample: Blank<br>method: SAA_411_Pac.M<br>timestamp: 2021-08-12 11:04:20<br>detector: G1315C<br>pump: G7110B<br>start_time: 2021-08-12 11:04:54<br>end_time: 2021-08-12 11:08:54<br>runtime: 239.7000000000036",
          "index: 21<br>name: 210812_Pac--009<br>path: D:/ExtractedSignals\\210812_Pac 2021-08-12 10-30-07\\210812_Pac--009.D<br>batch: 210812_Pac 2021-08-12 10-30-07<br>batch_position: 9<br>idle_time: 279.0<br>sample: 210806/036 :10<br>method: SAA_411_Pac.M<br>timestamp: 2021-08-12 11:08:59<br>detector: G1315C<br>pump: G7110B<br>start_time: 2021-08-12 11:09:32<br>end_time: 2021-08-12 11:13:32<br>runtime: 239.7000000000036",
          "index: 22<br>name: 210812_Pac--010<br>path: D:/ExtractedSignals\\210812_Pac 2021-08-12 10-30-07\\210812_Pac--010.D<br>batch: 210812_Pac 2021-08-12 10-30-07<br>batch_position: 10<br>idle_time: 278.0<br>sample: 210806/036 :10<br>method: SAA_411_Pac.M<br>timestamp: 2021-08-12 11:13:37<br>detector: G7110B<br>pump: G7110B<br>start_time: 2021-08-12 11:14:11<br>end_time: 2021-08-12 11:18:11<br>runtime: 239.7000000000036",
          "index: 23<br>name: 210812_Pac--011<br>path: D:/ExtractedSignals\\210812_Pac 2021-08-12 10-30-07\\210812_Pac--011.D<br>batch: 210812_Pac 2021-08-12 10-30-07<br>batch_position: 11<br>idle_time: 279.0<br>sample: 210806/036 :10<br>method: SAA_411_Pac.M<br>timestamp: 2021-08-12 11:18:16<br>detector: G7110B<br>pump: G7110B<br>start_time: 2021-08-12 11:18:50<br>end_time: 2021-08-12 11:22:50<br>runtime: 239.7000000000036",
          "index: 24<br>name: 210812_Pac--012<br>path: D:/ExtractedSignals\\210812_Pac 2021-08-12 10-30-07\\210812_Pac--012.D<br>batch: 210812_Pac 2021-08-12 10-30-07<br>batch_position: 12<br>idle_time: 279.0<br>sample: Blank<br>method: SAA_411_Pac.M<br>timestamp: 2021-08-12 11:22:55<br>detector: G1315C<br>pump: G7110B<br>start_time: 2021-08-12 11:23:29<br>end_time: 2021-08-12 11:27:29<br>runtime: 239.7000000000036",
          "index: 25<br>name: 210812_Pac--013<br>path: D:/ExtractedSignals\\210812_Pac 2021-08-12 10-30-07\\210812_Pac--013.D<br>batch: 210812_Pac 2021-08-12 10-30-07<br>batch_position: 13<br>idle_time: 279.0<br>sample: 0.025 mg/ml<br>method: SAA_411_Pac.M<br>timestamp: 2021-08-12 11:27:34<br>detector: G1315C<br>pump: G7110B<br>start_time: 2021-08-12 11:28:08<br>end_time: 2021-08-12 11:32:08<br>runtime: 239.7000000000036",
          "index: 26<br>name: 210812_Pac--014<br>path: D:/ExtractedSignals\\210812_Pac 2021-08-12 10-30-07\\210812_Pac--014.D<br>batch: 210812_Pac 2021-08-12 10-30-07<br>batch_position: 14<br>idle_time: 279.0<br>sample: Blank<br>method: SAA_411_Pac.M<br>timestamp: 2021-08-12 11:32:13<br>detector: G7110B<br>pump: G7110B<br>start_time: 2021-08-12 11:32:46<br>end_time: 2021-08-12 11:36:47<br>runtime: 239.7000000000036",
          "index: 85<br>name: 210813_Pac--003<br>path: D:/ExtractedSignals\\210813_Pac 2021-08-13 10-37-27\\210813_Pac--003.D<br>batch: 210813_Pac 2021-08-13 10-37-27<br>batch_position: 3<br>idle_time: 278.0<br>sample: Blank<br>method: SAA_411_Pac.M<br>timestamp: 2021-08-13 10:48:34<br>detector: G1315C<br>pump: G7116B<br>start_time: 2021-08-13 10:49:08<br>end_time: 2021-08-13 10:53:08<br>runtime: 239.7000000000036",
          "index: 86<br>name: 210813_Pac--004<br>path: D:/ExtractedSignals\\210813_Pac 2021-08-13 10-37-27\\210813_Pac--004.D<br>batch: 210813_Pac 2021-08-13 10-37-27<br>batch_position: 4<br>idle_time: 279.0<br>sample: Blank<br>method: SAA_411_Pac.M<br>timestamp: 2021-08-13 10:53:13<br>detector: G1315C<br>pump: G7110B<br>start_time: 2021-08-13 10:53:47<br>end_time: 2021-08-13 10:57:47<br>runtime: 239.7000000000036",
          "index: 87<br>name: 210813_Pac--005<br>path: D:/ExtractedSignals\\210813_Pac 2021-08-13 10-37-27\\210813_Pac--005.D<br>batch: 210813_Pac 2021-08-13 10-37-27<br>batch_position: 5<br>idle_time: 279.0<br>sample: NaCl 0,9%<br>method: SAA_411_Pac.M<br>timestamp: 2021-08-13 10:57:52<br>detector: G7110B<br>pump: G7110B<br>start_time: 2021-08-13 10:58:26<br>end_time: 2021-08-13 11:02:27<br>runtime: 239.7000000000036",
          "index: 88<br>name: 210813_Pac--006<br>path: D:/ExtractedSignals\\210813_Pac 2021-08-13 10-37-27\\210813_Pac--006.D<br>batch: 210813_Pac 2021-08-13 10-37-27<br>batch_position: 6<br>idle_time: 279.0<br>sample: Blank<br>method: SAA_411_Pac.M<br>timestamp: 2021-08-13 11:02:31<br>detector: G1315C<br>pump: G7110B<br>start_time: 2021-08-13 11:03:05<br>end_time: 2021-08-13 11:07:06<br>runtime: 239.7000000000036",
          "index: 89<br>name: 210813_Pac--007<br>path: D:/ExtractedSignals\\210813_Pac 2021-08-13 10-37-27\\210813_Pac--007.D<br>batch: 210813_Pac 2021-08-13 10-37-27<br>batch_position: 7<br>idle_time: 279.0<br>sample: 0.025 mg/ml<br>method: SAA_411_Pac.M<br>timestamp: 2021-08-13 11:07:10<br>detector: G1315C<br>pump: G7116B<br>start_time: 2021-08-13 11:07:44<br>end_time: 2021-08-13 11:11:45<br>runtime: 239.7000000000036",
          "index: 90<br>name: 210813_Pac--008<br>path: D:/ExtractedSignals\\210813_Pac 2021-08-13 10-37-27\\210813_Pac--008.D<br>batch: 210813_Pac 2021-08-13 10-37-27<br>batch_position: 8<br>idle_time: 279.0<br>sample: Blank<br>method: SAA_411_Pac.M<br>timestamp: 2021-08-13 11:11:49<br>detector: G1315C<br>pump: G7110B<br>start_time: 2021-08-13 11:12:23<br>end_time: 2021-08-13 11:16:23<br>runtime: 239.7000000000036",
          "index: 91<br>name: 210813_Pac--009<br>path: D:/ExtractedSignals\\210813_Pac 2021-08-13 10-37-27\\210813_Pac--009.D<br>batch: 210813_Pac 2021-08-13 10-37-27<br>batch_position: 9<br>idle_time: 279.0<br>sample: 210812/004 :20<br>method: SAA_411_Pac.M<br>timestamp: 2021-08-13 11:16:28<br>detector: G1315C<br>pump: G7110B<br>start_time: 2021-08-13 11:17:02<br>end_time: 2021-08-13 11:21:03<br>runtime: 239.7000000000036",
          "index: 92<br>name: 210813_Pac--010<br>path: D:/ExtractedSignals\\210813_Pac 2021-08-13 10-37-27\\210813_Pac--010.D<br>batch: 210813_Pac 2021-08-13 10-37-27<br>batch_position: 10<br>idle_time: 280.0<br>sample: 210812/004 :20<br>method: SAA_411_Pac.M<br>timestamp: 2021-08-13 11:21:08<br>detector: G1315C<br>pump: G7110B<br>start_time: 2021-08-13 11:21:41<br>end_time: 2021-08-13 11:25:42<br>runtime: 239.7000000000036",
          "index: 93<br>name: 210813_Pac--011<br>path: D:/ExtractedSignals\\210813_Pac 2021-08-13 10-37-27\\210813_Pac--011.D<br>batch: 210813_Pac 2021-08-13 10-37-27<br>batch_position: 11<br>idle_time: 278.0<br>sample: 210812/004 :20<br>method: SAA_411_Pac.M<br>timestamp: 2021-08-13 11:25:46<br>detector: G1315C<br>pump: G7110B<br>start_time: 2021-08-13 11:26:21<br>end_time: 2021-08-13 11:30:21<br>runtime: 239.7000000000036",
          "index: 94<br>name: 210813_Pac--012<br>path: D:/ExtractedSignals\\210813_Pac 2021-08-13 10-37-27\\210813_Pac--012.D<br>batch: 210813_Pac 2021-08-13 10-37-27<br>batch_position: 12<br>idle_time: 280.0<br>sample: Blank<br>method: SAA_411_Pac.M<br>timestamp: 2021-08-13 11:30:26<br>detector: G1315C<br>pump: G7110B<br>start_time: 2021-08-13 11:30:59<br>end_time: 2021-08-13 11:34:59<br>runtime: 239.7000000000036",
          "index: 95<br>name: 210813_Pac--013<br>path: D:/ExtractedSignals\\210813_Pac 2021-08-13 10-37-27\\210813_Pac--013.D<br>batch: 210813_Pac 2021-08-13 10-37-27<br>batch_position: 13<br>idle_time: 278.0<br>sample: 0.025 mg/ml<br>method: SAA_411_Pac.M<br>timestamp: 2021-08-13 11:35:04<br>detector: G1315C<br>pump: G7110B<br>start_time: 2021-08-13 11:35:38<br>end_time: 2021-08-13 11:39:38<br>runtime: 239.7000000000036",
          "index: 96<br>name: 210813_Pac--014<br>path: D:/ExtractedSignals\\210813_Pac 2021-08-13 10-37-27\\210813_Pac--014.D<br>batch: 210813_Pac 2021-08-13 10-37-27<br>batch_position: 14<br>idle_time: 279.0<br>sample: Blank<br>method: SAA_411_Pac.M<br>timestamp: 2021-08-13 11:39:43<br>detector: G1315C<br>pump: G7110B<br>start_time: 2021-08-13 11:40:16<br>end_time: 2021-08-13 11:44:17<br>runtime: 239.7000000000036"
         ],
         "type": "scatter",
         "x": [
          0,
          1,
          2,
          3,
          4,
          5,
          6,
          7,
          8,
          9,
          10,
          11,
          12,
          13,
          14,
          15,
          16,
          17,
          18,
          19,
          20,
          21
         ],
         "y": [
          0.0183277187368497,
          0.0135427140534952,
          0.0169569675544578,
          0.0164889780616527,
          0.0175632154122388,
          0.0697778033663869,
          0.0112742683661419,
          0.004817833081247,
          0.0249099340037088,
          0.0087067054066315,
          0.0062784536442391,
          0.0158277704771117,
          0.0072904285649955,
          0.0113513603751599,
          0.095804992621084,
          0.0079610283179472,
          0.0080560817735142,
          0.0168908776378527,
          0.007036505577366,
          0.0150961135519818,
          0.0071541527835328,
          0.0157352085343963
         ]
        },
        {
         "hovertemplate": "<b>%{text}</b><br><b>x: </b>%{x}<br><b>seasonal_fft_mean_4: </b>%{y}<extra></extra>",
         "mode": "lines",
         "name": "seasonal_fft_mean_4",
         "text": [
          "index: 17<br>name: 210812_Pac--005<br>path: D:/ExtractedSignals\\210812_Pac 2021-08-12 10-30-07\\210812_Pac--005.D<br>batch: 210812_Pac 2021-08-12 10-30-07<br>batch_position: 5<br>idle_time: 279.0<br>sample: NaCl 0,9%<br>method: SAA_411_Pac.M<br>timestamp: 2021-08-12 10:50:23<br>detector: G1315C<br>pump: G7110B<br>start_time: 2021-08-12 10:50:57<br>end_time: 2021-08-12 10:54:57<br>runtime: 239.7000000000036",
          "index: 18<br>name: 210812_Pac--006<br>path: D:/ExtractedSignals\\210812_Pac 2021-08-12 10-30-07\\210812_Pac--006.D<br>batch: 210812_Pac 2021-08-12 10-30-07<br>batch_position: 6<br>idle_time: 279.0<br>sample: Blank<br>method: SAA_411_Pac.M<br>timestamp: 2021-08-12 10:55:02<br>detector: G1315C<br>pump: G7110B<br>start_time: 2021-08-12 10:55:36<br>end_time: 2021-08-12 10:59:36<br>runtime: 239.7000000000036",
          "index: 19<br>name: 210812_Pac--007<br>path: D:/ExtractedSignals\\210812_Pac 2021-08-12 10-30-07\\210812_Pac--007.D<br>batch: 210812_Pac 2021-08-12 10-30-07<br>batch_position: 7<br>idle_time: 279.0<br>sample: 0.025 mg/ml<br>method: SAA_411_Pac.M<br>timestamp: 2021-08-12 10:59:41<br>detector: G1315C<br>pump: G7110B<br>start_time: 2021-08-12 11:00:15<br>end_time: 2021-08-12 11:04:15<br>runtime: 239.7000000000036",
          "index: 20<br>name: 210812_Pac--008<br>path: D:/ExtractedSignals\\210812_Pac 2021-08-12 10-30-07\\210812_Pac--008.D<br>batch: 210812_Pac 2021-08-12 10-30-07<br>batch_position: 8<br>idle_time: 279.0<br>sample: Blank<br>method: SAA_411_Pac.M<br>timestamp: 2021-08-12 11:04:20<br>detector: G1315C<br>pump: G7110B<br>start_time: 2021-08-12 11:04:54<br>end_time: 2021-08-12 11:08:54<br>runtime: 239.7000000000036",
          "index: 21<br>name: 210812_Pac--009<br>path: D:/ExtractedSignals\\210812_Pac 2021-08-12 10-30-07\\210812_Pac--009.D<br>batch: 210812_Pac 2021-08-12 10-30-07<br>batch_position: 9<br>idle_time: 279.0<br>sample: 210806/036 :10<br>method: SAA_411_Pac.M<br>timestamp: 2021-08-12 11:08:59<br>detector: G1315C<br>pump: G7110B<br>start_time: 2021-08-12 11:09:32<br>end_time: 2021-08-12 11:13:32<br>runtime: 239.7000000000036",
          "index: 22<br>name: 210812_Pac--010<br>path: D:/ExtractedSignals\\210812_Pac 2021-08-12 10-30-07\\210812_Pac--010.D<br>batch: 210812_Pac 2021-08-12 10-30-07<br>batch_position: 10<br>idle_time: 278.0<br>sample: 210806/036 :10<br>method: SAA_411_Pac.M<br>timestamp: 2021-08-12 11:13:37<br>detector: G7110B<br>pump: G7110B<br>start_time: 2021-08-12 11:14:11<br>end_time: 2021-08-12 11:18:11<br>runtime: 239.7000000000036",
          "index: 23<br>name: 210812_Pac--011<br>path: D:/ExtractedSignals\\210812_Pac 2021-08-12 10-30-07\\210812_Pac--011.D<br>batch: 210812_Pac 2021-08-12 10-30-07<br>batch_position: 11<br>idle_time: 279.0<br>sample: 210806/036 :10<br>method: SAA_411_Pac.M<br>timestamp: 2021-08-12 11:18:16<br>detector: G7110B<br>pump: G7110B<br>start_time: 2021-08-12 11:18:50<br>end_time: 2021-08-12 11:22:50<br>runtime: 239.7000000000036",
          "index: 24<br>name: 210812_Pac--012<br>path: D:/ExtractedSignals\\210812_Pac 2021-08-12 10-30-07\\210812_Pac--012.D<br>batch: 210812_Pac 2021-08-12 10-30-07<br>batch_position: 12<br>idle_time: 279.0<br>sample: Blank<br>method: SAA_411_Pac.M<br>timestamp: 2021-08-12 11:22:55<br>detector: G1315C<br>pump: G7110B<br>start_time: 2021-08-12 11:23:29<br>end_time: 2021-08-12 11:27:29<br>runtime: 239.7000000000036",
          "index: 25<br>name: 210812_Pac--013<br>path: D:/ExtractedSignals\\210812_Pac 2021-08-12 10-30-07\\210812_Pac--013.D<br>batch: 210812_Pac 2021-08-12 10-30-07<br>batch_position: 13<br>idle_time: 279.0<br>sample: 0.025 mg/ml<br>method: SAA_411_Pac.M<br>timestamp: 2021-08-12 11:27:34<br>detector: G1315C<br>pump: G7110B<br>start_time: 2021-08-12 11:28:08<br>end_time: 2021-08-12 11:32:08<br>runtime: 239.7000000000036",
          "index: 26<br>name: 210812_Pac--014<br>path: D:/ExtractedSignals\\210812_Pac 2021-08-12 10-30-07\\210812_Pac--014.D<br>batch: 210812_Pac 2021-08-12 10-30-07<br>batch_position: 14<br>idle_time: 279.0<br>sample: Blank<br>method: SAA_411_Pac.M<br>timestamp: 2021-08-12 11:32:13<br>detector: G7110B<br>pump: G7110B<br>start_time: 2021-08-12 11:32:46<br>end_time: 2021-08-12 11:36:47<br>runtime: 239.7000000000036",
          "index: 85<br>name: 210813_Pac--003<br>path: D:/ExtractedSignals\\210813_Pac 2021-08-13 10-37-27\\210813_Pac--003.D<br>batch: 210813_Pac 2021-08-13 10-37-27<br>batch_position: 3<br>idle_time: 278.0<br>sample: Blank<br>method: SAA_411_Pac.M<br>timestamp: 2021-08-13 10:48:34<br>detector: G1315C<br>pump: G7116B<br>start_time: 2021-08-13 10:49:08<br>end_time: 2021-08-13 10:53:08<br>runtime: 239.7000000000036",
          "index: 86<br>name: 210813_Pac--004<br>path: D:/ExtractedSignals\\210813_Pac 2021-08-13 10-37-27\\210813_Pac--004.D<br>batch: 210813_Pac 2021-08-13 10-37-27<br>batch_position: 4<br>idle_time: 279.0<br>sample: Blank<br>method: SAA_411_Pac.M<br>timestamp: 2021-08-13 10:53:13<br>detector: G1315C<br>pump: G7110B<br>start_time: 2021-08-13 10:53:47<br>end_time: 2021-08-13 10:57:47<br>runtime: 239.7000000000036",
          "index: 87<br>name: 210813_Pac--005<br>path: D:/ExtractedSignals\\210813_Pac 2021-08-13 10-37-27\\210813_Pac--005.D<br>batch: 210813_Pac 2021-08-13 10-37-27<br>batch_position: 5<br>idle_time: 279.0<br>sample: NaCl 0,9%<br>method: SAA_411_Pac.M<br>timestamp: 2021-08-13 10:57:52<br>detector: G7110B<br>pump: G7110B<br>start_time: 2021-08-13 10:58:26<br>end_time: 2021-08-13 11:02:27<br>runtime: 239.7000000000036",
          "index: 88<br>name: 210813_Pac--006<br>path: D:/ExtractedSignals\\210813_Pac 2021-08-13 10-37-27\\210813_Pac--006.D<br>batch: 210813_Pac 2021-08-13 10-37-27<br>batch_position: 6<br>idle_time: 279.0<br>sample: Blank<br>method: SAA_411_Pac.M<br>timestamp: 2021-08-13 11:02:31<br>detector: G1315C<br>pump: G7110B<br>start_time: 2021-08-13 11:03:05<br>end_time: 2021-08-13 11:07:06<br>runtime: 239.7000000000036",
          "index: 89<br>name: 210813_Pac--007<br>path: D:/ExtractedSignals\\210813_Pac 2021-08-13 10-37-27\\210813_Pac--007.D<br>batch: 210813_Pac 2021-08-13 10-37-27<br>batch_position: 7<br>idle_time: 279.0<br>sample: 0.025 mg/ml<br>method: SAA_411_Pac.M<br>timestamp: 2021-08-13 11:07:10<br>detector: G1315C<br>pump: G7116B<br>start_time: 2021-08-13 11:07:44<br>end_time: 2021-08-13 11:11:45<br>runtime: 239.7000000000036",
          "index: 90<br>name: 210813_Pac--008<br>path: D:/ExtractedSignals\\210813_Pac 2021-08-13 10-37-27\\210813_Pac--008.D<br>batch: 210813_Pac 2021-08-13 10-37-27<br>batch_position: 8<br>idle_time: 279.0<br>sample: Blank<br>method: SAA_411_Pac.M<br>timestamp: 2021-08-13 11:11:49<br>detector: G1315C<br>pump: G7110B<br>start_time: 2021-08-13 11:12:23<br>end_time: 2021-08-13 11:16:23<br>runtime: 239.7000000000036",
          "index: 91<br>name: 210813_Pac--009<br>path: D:/ExtractedSignals\\210813_Pac 2021-08-13 10-37-27\\210813_Pac--009.D<br>batch: 210813_Pac 2021-08-13 10-37-27<br>batch_position: 9<br>idle_time: 279.0<br>sample: 210812/004 :20<br>method: SAA_411_Pac.M<br>timestamp: 2021-08-13 11:16:28<br>detector: G1315C<br>pump: G7110B<br>start_time: 2021-08-13 11:17:02<br>end_time: 2021-08-13 11:21:03<br>runtime: 239.7000000000036",
          "index: 92<br>name: 210813_Pac--010<br>path: D:/ExtractedSignals\\210813_Pac 2021-08-13 10-37-27\\210813_Pac--010.D<br>batch: 210813_Pac 2021-08-13 10-37-27<br>batch_position: 10<br>idle_time: 280.0<br>sample: 210812/004 :20<br>method: SAA_411_Pac.M<br>timestamp: 2021-08-13 11:21:08<br>detector: G1315C<br>pump: G7110B<br>start_time: 2021-08-13 11:21:41<br>end_time: 2021-08-13 11:25:42<br>runtime: 239.7000000000036",
          "index: 93<br>name: 210813_Pac--011<br>path: D:/ExtractedSignals\\210813_Pac 2021-08-13 10-37-27\\210813_Pac--011.D<br>batch: 210813_Pac 2021-08-13 10-37-27<br>batch_position: 11<br>idle_time: 278.0<br>sample: 210812/004 :20<br>method: SAA_411_Pac.M<br>timestamp: 2021-08-13 11:25:46<br>detector: G1315C<br>pump: G7110B<br>start_time: 2021-08-13 11:26:21<br>end_time: 2021-08-13 11:30:21<br>runtime: 239.7000000000036",
          "index: 94<br>name: 210813_Pac--012<br>path: D:/ExtractedSignals\\210813_Pac 2021-08-13 10-37-27\\210813_Pac--012.D<br>batch: 210813_Pac 2021-08-13 10-37-27<br>batch_position: 12<br>idle_time: 280.0<br>sample: Blank<br>method: SAA_411_Pac.M<br>timestamp: 2021-08-13 11:30:26<br>detector: G1315C<br>pump: G7110B<br>start_time: 2021-08-13 11:30:59<br>end_time: 2021-08-13 11:34:59<br>runtime: 239.7000000000036",
          "index: 95<br>name: 210813_Pac--013<br>path: D:/ExtractedSignals\\210813_Pac 2021-08-13 10-37-27\\210813_Pac--013.D<br>batch: 210813_Pac 2021-08-13 10-37-27<br>batch_position: 13<br>idle_time: 278.0<br>sample: 0.025 mg/ml<br>method: SAA_411_Pac.M<br>timestamp: 2021-08-13 11:35:04<br>detector: G1315C<br>pump: G7110B<br>start_time: 2021-08-13 11:35:38<br>end_time: 2021-08-13 11:39:38<br>runtime: 239.7000000000036",
          "index: 96<br>name: 210813_Pac--014<br>path: D:/ExtractedSignals\\210813_Pac 2021-08-13 10-37-27\\210813_Pac--014.D<br>batch: 210813_Pac 2021-08-13 10-37-27<br>batch_position: 14<br>idle_time: 279.0<br>sample: Blank<br>method: SAA_411_Pac.M<br>timestamp: 2021-08-13 11:39:43<br>detector: G1315C<br>pump: G7110B<br>start_time: 2021-08-13 11:40:16<br>end_time: 2021-08-13 11:44:17<br>runtime: 239.7000000000036"
         ],
         "type": "scatter",
         "x": [
          0,
          1,
          2,
          3,
          4,
          5,
          6,
          7,
          8,
          9,
          10,
          11,
          12,
          13,
          14,
          15,
          16,
          17,
          18,
          19,
          20,
          21
         ],
         "y": [
          0.1406474095219187,
          0.0371119145935281,
          0.0310215044027799,
          0.0116753713829197,
          0.0612858838112777,
          0.2654553779116107,
          0.1356503250303072,
          0.2027627606798395,
          0.0471707372798447,
          0.0779271328420683,
          0.1353330788113435,
          0.157604985153955,
          0.223598264532101,
          0.0797493920774269,
          0.3192023475985979,
          0.0167430617966739,
          0.0572385218161971,
          0.2020030590647896,
          0.1043036451901756,
          0.0846603953967471,
          0.0441158875723958,
          0.0678726469504565
         ]
        },
        {
         "hovertemplate": "<b>%{text}</b><br><b>x: </b>%{x}<br><b>seasonal_fft_sum_4: </b>%{y}<extra></extra>",
         "mode": "lines",
         "name": "seasonal_fft_sum_4",
         "text": [
          "index: 17<br>name: 210812_Pac--005<br>path: D:/ExtractedSignals\\210812_Pac 2021-08-12 10-30-07\\210812_Pac--005.D<br>batch: 210812_Pac 2021-08-12 10-30-07<br>batch_position: 5<br>idle_time: 279.0<br>sample: NaCl 0,9%<br>method: SAA_411_Pac.M<br>timestamp: 2021-08-12 10:50:23<br>detector: G1315C<br>pump: G7110B<br>start_time: 2021-08-12 10:50:57<br>end_time: 2021-08-12 10:54:57<br>runtime: 239.7000000000036",
          "index: 18<br>name: 210812_Pac--006<br>path: D:/ExtractedSignals\\210812_Pac 2021-08-12 10-30-07\\210812_Pac--006.D<br>batch: 210812_Pac 2021-08-12 10-30-07<br>batch_position: 6<br>idle_time: 279.0<br>sample: Blank<br>method: SAA_411_Pac.M<br>timestamp: 2021-08-12 10:55:02<br>detector: G1315C<br>pump: G7110B<br>start_time: 2021-08-12 10:55:36<br>end_time: 2021-08-12 10:59:36<br>runtime: 239.7000000000036",
          "index: 19<br>name: 210812_Pac--007<br>path: D:/ExtractedSignals\\210812_Pac 2021-08-12 10-30-07\\210812_Pac--007.D<br>batch: 210812_Pac 2021-08-12 10-30-07<br>batch_position: 7<br>idle_time: 279.0<br>sample: 0.025 mg/ml<br>method: SAA_411_Pac.M<br>timestamp: 2021-08-12 10:59:41<br>detector: G1315C<br>pump: G7110B<br>start_time: 2021-08-12 11:00:15<br>end_time: 2021-08-12 11:04:15<br>runtime: 239.7000000000036",
          "index: 20<br>name: 210812_Pac--008<br>path: D:/ExtractedSignals\\210812_Pac 2021-08-12 10-30-07\\210812_Pac--008.D<br>batch: 210812_Pac 2021-08-12 10-30-07<br>batch_position: 8<br>idle_time: 279.0<br>sample: Blank<br>method: SAA_411_Pac.M<br>timestamp: 2021-08-12 11:04:20<br>detector: G1315C<br>pump: G7110B<br>start_time: 2021-08-12 11:04:54<br>end_time: 2021-08-12 11:08:54<br>runtime: 239.7000000000036",
          "index: 21<br>name: 210812_Pac--009<br>path: D:/ExtractedSignals\\210812_Pac 2021-08-12 10-30-07\\210812_Pac--009.D<br>batch: 210812_Pac 2021-08-12 10-30-07<br>batch_position: 9<br>idle_time: 279.0<br>sample: 210806/036 :10<br>method: SAA_411_Pac.M<br>timestamp: 2021-08-12 11:08:59<br>detector: G1315C<br>pump: G7110B<br>start_time: 2021-08-12 11:09:32<br>end_time: 2021-08-12 11:13:32<br>runtime: 239.7000000000036",
          "index: 22<br>name: 210812_Pac--010<br>path: D:/ExtractedSignals\\210812_Pac 2021-08-12 10-30-07\\210812_Pac--010.D<br>batch: 210812_Pac 2021-08-12 10-30-07<br>batch_position: 10<br>idle_time: 278.0<br>sample: 210806/036 :10<br>method: SAA_411_Pac.M<br>timestamp: 2021-08-12 11:13:37<br>detector: G7110B<br>pump: G7110B<br>start_time: 2021-08-12 11:14:11<br>end_time: 2021-08-12 11:18:11<br>runtime: 239.7000000000036",
          "index: 23<br>name: 210812_Pac--011<br>path: D:/ExtractedSignals\\210812_Pac 2021-08-12 10-30-07\\210812_Pac--011.D<br>batch: 210812_Pac 2021-08-12 10-30-07<br>batch_position: 11<br>idle_time: 279.0<br>sample: 210806/036 :10<br>method: SAA_411_Pac.M<br>timestamp: 2021-08-12 11:18:16<br>detector: G7110B<br>pump: G7110B<br>start_time: 2021-08-12 11:18:50<br>end_time: 2021-08-12 11:22:50<br>runtime: 239.7000000000036",
          "index: 24<br>name: 210812_Pac--012<br>path: D:/ExtractedSignals\\210812_Pac 2021-08-12 10-30-07\\210812_Pac--012.D<br>batch: 210812_Pac 2021-08-12 10-30-07<br>batch_position: 12<br>idle_time: 279.0<br>sample: Blank<br>method: SAA_411_Pac.M<br>timestamp: 2021-08-12 11:22:55<br>detector: G1315C<br>pump: G7110B<br>start_time: 2021-08-12 11:23:29<br>end_time: 2021-08-12 11:27:29<br>runtime: 239.7000000000036",
          "index: 25<br>name: 210812_Pac--013<br>path: D:/ExtractedSignals\\210812_Pac 2021-08-12 10-30-07\\210812_Pac--013.D<br>batch: 210812_Pac 2021-08-12 10-30-07<br>batch_position: 13<br>idle_time: 279.0<br>sample: 0.025 mg/ml<br>method: SAA_411_Pac.M<br>timestamp: 2021-08-12 11:27:34<br>detector: G1315C<br>pump: G7110B<br>start_time: 2021-08-12 11:28:08<br>end_time: 2021-08-12 11:32:08<br>runtime: 239.7000000000036",
          "index: 26<br>name: 210812_Pac--014<br>path: D:/ExtractedSignals\\210812_Pac 2021-08-12 10-30-07\\210812_Pac--014.D<br>batch: 210812_Pac 2021-08-12 10-30-07<br>batch_position: 14<br>idle_time: 279.0<br>sample: Blank<br>method: SAA_411_Pac.M<br>timestamp: 2021-08-12 11:32:13<br>detector: G7110B<br>pump: G7110B<br>start_time: 2021-08-12 11:32:46<br>end_time: 2021-08-12 11:36:47<br>runtime: 239.7000000000036",
          "index: 85<br>name: 210813_Pac--003<br>path: D:/ExtractedSignals\\210813_Pac 2021-08-13 10-37-27\\210813_Pac--003.D<br>batch: 210813_Pac 2021-08-13 10-37-27<br>batch_position: 3<br>idle_time: 278.0<br>sample: Blank<br>method: SAA_411_Pac.M<br>timestamp: 2021-08-13 10:48:34<br>detector: G1315C<br>pump: G7116B<br>start_time: 2021-08-13 10:49:08<br>end_time: 2021-08-13 10:53:08<br>runtime: 239.7000000000036",
          "index: 86<br>name: 210813_Pac--004<br>path: D:/ExtractedSignals\\210813_Pac 2021-08-13 10-37-27\\210813_Pac--004.D<br>batch: 210813_Pac 2021-08-13 10-37-27<br>batch_position: 4<br>idle_time: 279.0<br>sample: Blank<br>method: SAA_411_Pac.M<br>timestamp: 2021-08-13 10:53:13<br>detector: G1315C<br>pump: G7110B<br>start_time: 2021-08-13 10:53:47<br>end_time: 2021-08-13 10:57:47<br>runtime: 239.7000000000036",
          "index: 87<br>name: 210813_Pac--005<br>path: D:/ExtractedSignals\\210813_Pac 2021-08-13 10-37-27\\210813_Pac--005.D<br>batch: 210813_Pac 2021-08-13 10-37-27<br>batch_position: 5<br>idle_time: 279.0<br>sample: NaCl 0,9%<br>method: SAA_411_Pac.M<br>timestamp: 2021-08-13 10:57:52<br>detector: G7110B<br>pump: G7110B<br>start_time: 2021-08-13 10:58:26<br>end_time: 2021-08-13 11:02:27<br>runtime: 239.7000000000036",
          "index: 88<br>name: 210813_Pac--006<br>path: D:/ExtractedSignals\\210813_Pac 2021-08-13 10-37-27\\210813_Pac--006.D<br>batch: 210813_Pac 2021-08-13 10-37-27<br>batch_position: 6<br>idle_time: 279.0<br>sample: Blank<br>method: SAA_411_Pac.M<br>timestamp: 2021-08-13 11:02:31<br>detector: G1315C<br>pump: G7110B<br>start_time: 2021-08-13 11:03:05<br>end_time: 2021-08-13 11:07:06<br>runtime: 239.7000000000036",
          "index: 89<br>name: 210813_Pac--007<br>path: D:/ExtractedSignals\\210813_Pac 2021-08-13 10-37-27\\210813_Pac--007.D<br>batch: 210813_Pac 2021-08-13 10-37-27<br>batch_position: 7<br>idle_time: 279.0<br>sample: 0.025 mg/ml<br>method: SAA_411_Pac.M<br>timestamp: 2021-08-13 11:07:10<br>detector: G1315C<br>pump: G7116B<br>start_time: 2021-08-13 11:07:44<br>end_time: 2021-08-13 11:11:45<br>runtime: 239.7000000000036",
          "index: 90<br>name: 210813_Pac--008<br>path: D:/ExtractedSignals\\210813_Pac 2021-08-13 10-37-27\\210813_Pac--008.D<br>batch: 210813_Pac 2021-08-13 10-37-27<br>batch_position: 8<br>idle_time: 279.0<br>sample: Blank<br>method: SAA_411_Pac.M<br>timestamp: 2021-08-13 11:11:49<br>detector: G1315C<br>pump: G7110B<br>start_time: 2021-08-13 11:12:23<br>end_time: 2021-08-13 11:16:23<br>runtime: 239.7000000000036",
          "index: 91<br>name: 210813_Pac--009<br>path: D:/ExtractedSignals\\210813_Pac 2021-08-13 10-37-27\\210813_Pac--009.D<br>batch: 210813_Pac 2021-08-13 10-37-27<br>batch_position: 9<br>idle_time: 279.0<br>sample: 210812/004 :20<br>method: SAA_411_Pac.M<br>timestamp: 2021-08-13 11:16:28<br>detector: G1315C<br>pump: G7110B<br>start_time: 2021-08-13 11:17:02<br>end_time: 2021-08-13 11:21:03<br>runtime: 239.7000000000036",
          "index: 92<br>name: 210813_Pac--010<br>path: D:/ExtractedSignals\\210813_Pac 2021-08-13 10-37-27\\210813_Pac--010.D<br>batch: 210813_Pac 2021-08-13 10-37-27<br>batch_position: 10<br>idle_time: 280.0<br>sample: 210812/004 :20<br>method: SAA_411_Pac.M<br>timestamp: 2021-08-13 11:21:08<br>detector: G1315C<br>pump: G7110B<br>start_time: 2021-08-13 11:21:41<br>end_time: 2021-08-13 11:25:42<br>runtime: 239.7000000000036",
          "index: 93<br>name: 210813_Pac--011<br>path: D:/ExtractedSignals\\210813_Pac 2021-08-13 10-37-27\\210813_Pac--011.D<br>batch: 210813_Pac 2021-08-13 10-37-27<br>batch_position: 11<br>idle_time: 278.0<br>sample: 210812/004 :20<br>method: SAA_411_Pac.M<br>timestamp: 2021-08-13 11:25:46<br>detector: G1315C<br>pump: G7110B<br>start_time: 2021-08-13 11:26:21<br>end_time: 2021-08-13 11:30:21<br>runtime: 239.7000000000036",
          "index: 94<br>name: 210813_Pac--012<br>path: D:/ExtractedSignals\\210813_Pac 2021-08-13 10-37-27\\210813_Pac--012.D<br>batch: 210813_Pac 2021-08-13 10-37-27<br>batch_position: 12<br>idle_time: 280.0<br>sample: Blank<br>method: SAA_411_Pac.M<br>timestamp: 2021-08-13 11:30:26<br>detector: G1315C<br>pump: G7110B<br>start_time: 2021-08-13 11:30:59<br>end_time: 2021-08-13 11:34:59<br>runtime: 239.7000000000036",
          "index: 95<br>name: 210813_Pac--013<br>path: D:/ExtractedSignals\\210813_Pac 2021-08-13 10-37-27\\210813_Pac--013.D<br>batch: 210813_Pac 2021-08-13 10-37-27<br>batch_position: 13<br>idle_time: 278.0<br>sample: 0.025 mg/ml<br>method: SAA_411_Pac.M<br>timestamp: 2021-08-13 11:35:04<br>detector: G1315C<br>pump: G7110B<br>start_time: 2021-08-13 11:35:38<br>end_time: 2021-08-13 11:39:38<br>runtime: 239.7000000000036",
          "index: 96<br>name: 210813_Pac--014<br>path: D:/ExtractedSignals\\210813_Pac 2021-08-13 10-37-27\\210813_Pac--014.D<br>batch: 210813_Pac 2021-08-13 10-37-27<br>batch_position: 14<br>idle_time: 279.0<br>sample: Blank<br>method: SAA_411_Pac.M<br>timestamp: 2021-08-13 11:39:43<br>detector: G1315C<br>pump: G7110B<br>start_time: 2021-08-13 11:40:16<br>end_time: 2021-08-13 11:44:17<br>runtime: 239.7000000000036"
         ],
         "type": "scatter",
         "x": [
          0,
          1,
          2,
          3,
          4,
          5,
          6,
          7,
          8,
          9,
          10,
          11,
          12,
          13,
          14,
          15,
          16,
          17,
          18,
          19,
          20,
          21
         ],
         "y": [
          0.1406474095219187,
          0.0371119145935281,
          0.0310215044027799,
          0.0116753713829197,
          0.0612858838112777,
          0.2654553779116106,
          0.1356503250303072,
          0.2027627606798395,
          0.0471707372798447,
          0.0779271328420683,
          0.1353330788113435,
          0.157604985153955,
          0.223598264532101,
          0.0797493920774269,
          0.3192023475985978,
          0.0167430617966739,
          0.0572385218161971,
          0.2020030590647896,
          0.1043036451901756,
          0.0846603953967472,
          0.0441158875723958,
          0.0678726469504565
         ]
        },
        {
         "hovertemplate": "<b>%{text}</b><br><b>x: </b>%{x}<br><b>residual_fft_mean_4: </b>%{y}<extra></extra>",
         "mode": "lines",
         "name": "residual_fft_mean_4",
         "text": [
          "index: 17<br>name: 210812_Pac--005<br>path: D:/ExtractedSignals\\210812_Pac 2021-08-12 10-30-07\\210812_Pac--005.D<br>batch: 210812_Pac 2021-08-12 10-30-07<br>batch_position: 5<br>idle_time: 279.0<br>sample: NaCl 0,9%<br>method: SAA_411_Pac.M<br>timestamp: 2021-08-12 10:50:23<br>detector: G1315C<br>pump: G7110B<br>start_time: 2021-08-12 10:50:57<br>end_time: 2021-08-12 10:54:57<br>runtime: 239.7000000000036",
          "index: 18<br>name: 210812_Pac--006<br>path: D:/ExtractedSignals\\210812_Pac 2021-08-12 10-30-07\\210812_Pac--006.D<br>batch: 210812_Pac 2021-08-12 10-30-07<br>batch_position: 6<br>idle_time: 279.0<br>sample: Blank<br>method: SAA_411_Pac.M<br>timestamp: 2021-08-12 10:55:02<br>detector: G1315C<br>pump: G7110B<br>start_time: 2021-08-12 10:55:36<br>end_time: 2021-08-12 10:59:36<br>runtime: 239.7000000000036",
          "index: 19<br>name: 210812_Pac--007<br>path: D:/ExtractedSignals\\210812_Pac 2021-08-12 10-30-07\\210812_Pac--007.D<br>batch: 210812_Pac 2021-08-12 10-30-07<br>batch_position: 7<br>idle_time: 279.0<br>sample: 0.025 mg/ml<br>method: SAA_411_Pac.M<br>timestamp: 2021-08-12 10:59:41<br>detector: G1315C<br>pump: G7110B<br>start_time: 2021-08-12 11:00:15<br>end_time: 2021-08-12 11:04:15<br>runtime: 239.7000000000036",
          "index: 20<br>name: 210812_Pac--008<br>path: D:/ExtractedSignals\\210812_Pac 2021-08-12 10-30-07\\210812_Pac--008.D<br>batch: 210812_Pac 2021-08-12 10-30-07<br>batch_position: 8<br>idle_time: 279.0<br>sample: Blank<br>method: SAA_411_Pac.M<br>timestamp: 2021-08-12 11:04:20<br>detector: G1315C<br>pump: G7110B<br>start_time: 2021-08-12 11:04:54<br>end_time: 2021-08-12 11:08:54<br>runtime: 239.7000000000036",
          "index: 21<br>name: 210812_Pac--009<br>path: D:/ExtractedSignals\\210812_Pac 2021-08-12 10-30-07\\210812_Pac--009.D<br>batch: 210812_Pac 2021-08-12 10-30-07<br>batch_position: 9<br>idle_time: 279.0<br>sample: 210806/036 :10<br>method: SAA_411_Pac.M<br>timestamp: 2021-08-12 11:08:59<br>detector: G1315C<br>pump: G7110B<br>start_time: 2021-08-12 11:09:32<br>end_time: 2021-08-12 11:13:32<br>runtime: 239.7000000000036",
          "index: 22<br>name: 210812_Pac--010<br>path: D:/ExtractedSignals\\210812_Pac 2021-08-12 10-30-07\\210812_Pac--010.D<br>batch: 210812_Pac 2021-08-12 10-30-07<br>batch_position: 10<br>idle_time: 278.0<br>sample: 210806/036 :10<br>method: SAA_411_Pac.M<br>timestamp: 2021-08-12 11:13:37<br>detector: G7110B<br>pump: G7110B<br>start_time: 2021-08-12 11:14:11<br>end_time: 2021-08-12 11:18:11<br>runtime: 239.7000000000036",
          "index: 23<br>name: 210812_Pac--011<br>path: D:/ExtractedSignals\\210812_Pac 2021-08-12 10-30-07\\210812_Pac--011.D<br>batch: 210812_Pac 2021-08-12 10-30-07<br>batch_position: 11<br>idle_time: 279.0<br>sample: 210806/036 :10<br>method: SAA_411_Pac.M<br>timestamp: 2021-08-12 11:18:16<br>detector: G7110B<br>pump: G7110B<br>start_time: 2021-08-12 11:18:50<br>end_time: 2021-08-12 11:22:50<br>runtime: 239.7000000000036",
          "index: 24<br>name: 210812_Pac--012<br>path: D:/ExtractedSignals\\210812_Pac 2021-08-12 10-30-07\\210812_Pac--012.D<br>batch: 210812_Pac 2021-08-12 10-30-07<br>batch_position: 12<br>idle_time: 279.0<br>sample: Blank<br>method: SAA_411_Pac.M<br>timestamp: 2021-08-12 11:22:55<br>detector: G1315C<br>pump: G7110B<br>start_time: 2021-08-12 11:23:29<br>end_time: 2021-08-12 11:27:29<br>runtime: 239.7000000000036",
          "index: 25<br>name: 210812_Pac--013<br>path: D:/ExtractedSignals\\210812_Pac 2021-08-12 10-30-07\\210812_Pac--013.D<br>batch: 210812_Pac 2021-08-12 10-30-07<br>batch_position: 13<br>idle_time: 279.0<br>sample: 0.025 mg/ml<br>method: SAA_411_Pac.M<br>timestamp: 2021-08-12 11:27:34<br>detector: G1315C<br>pump: G7110B<br>start_time: 2021-08-12 11:28:08<br>end_time: 2021-08-12 11:32:08<br>runtime: 239.7000000000036",
          "index: 26<br>name: 210812_Pac--014<br>path: D:/ExtractedSignals\\210812_Pac 2021-08-12 10-30-07\\210812_Pac--014.D<br>batch: 210812_Pac 2021-08-12 10-30-07<br>batch_position: 14<br>idle_time: 279.0<br>sample: Blank<br>method: SAA_411_Pac.M<br>timestamp: 2021-08-12 11:32:13<br>detector: G7110B<br>pump: G7110B<br>start_time: 2021-08-12 11:32:46<br>end_time: 2021-08-12 11:36:47<br>runtime: 239.7000000000036",
          "index: 85<br>name: 210813_Pac--003<br>path: D:/ExtractedSignals\\210813_Pac 2021-08-13 10-37-27\\210813_Pac--003.D<br>batch: 210813_Pac 2021-08-13 10-37-27<br>batch_position: 3<br>idle_time: 278.0<br>sample: Blank<br>method: SAA_411_Pac.M<br>timestamp: 2021-08-13 10:48:34<br>detector: G1315C<br>pump: G7116B<br>start_time: 2021-08-13 10:49:08<br>end_time: 2021-08-13 10:53:08<br>runtime: 239.7000000000036",
          "index: 86<br>name: 210813_Pac--004<br>path: D:/ExtractedSignals\\210813_Pac 2021-08-13 10-37-27\\210813_Pac--004.D<br>batch: 210813_Pac 2021-08-13 10-37-27<br>batch_position: 4<br>idle_time: 279.0<br>sample: Blank<br>method: SAA_411_Pac.M<br>timestamp: 2021-08-13 10:53:13<br>detector: G1315C<br>pump: G7110B<br>start_time: 2021-08-13 10:53:47<br>end_time: 2021-08-13 10:57:47<br>runtime: 239.7000000000036",
          "index: 87<br>name: 210813_Pac--005<br>path: D:/ExtractedSignals\\210813_Pac 2021-08-13 10-37-27\\210813_Pac--005.D<br>batch: 210813_Pac 2021-08-13 10-37-27<br>batch_position: 5<br>idle_time: 279.0<br>sample: NaCl 0,9%<br>method: SAA_411_Pac.M<br>timestamp: 2021-08-13 10:57:52<br>detector: G7110B<br>pump: G7110B<br>start_time: 2021-08-13 10:58:26<br>end_time: 2021-08-13 11:02:27<br>runtime: 239.7000000000036",
          "index: 88<br>name: 210813_Pac--006<br>path: D:/ExtractedSignals\\210813_Pac 2021-08-13 10-37-27\\210813_Pac--006.D<br>batch: 210813_Pac 2021-08-13 10-37-27<br>batch_position: 6<br>idle_time: 279.0<br>sample: Blank<br>method: SAA_411_Pac.M<br>timestamp: 2021-08-13 11:02:31<br>detector: G1315C<br>pump: G7110B<br>start_time: 2021-08-13 11:03:05<br>end_time: 2021-08-13 11:07:06<br>runtime: 239.7000000000036",
          "index: 89<br>name: 210813_Pac--007<br>path: D:/ExtractedSignals\\210813_Pac 2021-08-13 10-37-27\\210813_Pac--007.D<br>batch: 210813_Pac 2021-08-13 10-37-27<br>batch_position: 7<br>idle_time: 279.0<br>sample: 0.025 mg/ml<br>method: SAA_411_Pac.M<br>timestamp: 2021-08-13 11:07:10<br>detector: G1315C<br>pump: G7116B<br>start_time: 2021-08-13 11:07:44<br>end_time: 2021-08-13 11:11:45<br>runtime: 239.7000000000036",
          "index: 90<br>name: 210813_Pac--008<br>path: D:/ExtractedSignals\\210813_Pac 2021-08-13 10-37-27\\210813_Pac--008.D<br>batch: 210813_Pac 2021-08-13 10-37-27<br>batch_position: 8<br>idle_time: 279.0<br>sample: Blank<br>method: SAA_411_Pac.M<br>timestamp: 2021-08-13 11:11:49<br>detector: G1315C<br>pump: G7110B<br>start_time: 2021-08-13 11:12:23<br>end_time: 2021-08-13 11:16:23<br>runtime: 239.7000000000036",
          "index: 91<br>name: 210813_Pac--009<br>path: D:/ExtractedSignals\\210813_Pac 2021-08-13 10-37-27\\210813_Pac--009.D<br>batch: 210813_Pac 2021-08-13 10-37-27<br>batch_position: 9<br>idle_time: 279.0<br>sample: 210812/004 :20<br>method: SAA_411_Pac.M<br>timestamp: 2021-08-13 11:16:28<br>detector: G1315C<br>pump: G7110B<br>start_time: 2021-08-13 11:17:02<br>end_time: 2021-08-13 11:21:03<br>runtime: 239.7000000000036",
          "index: 92<br>name: 210813_Pac--010<br>path: D:/ExtractedSignals\\210813_Pac 2021-08-13 10-37-27\\210813_Pac--010.D<br>batch: 210813_Pac 2021-08-13 10-37-27<br>batch_position: 10<br>idle_time: 280.0<br>sample: 210812/004 :20<br>method: SAA_411_Pac.M<br>timestamp: 2021-08-13 11:21:08<br>detector: G1315C<br>pump: G7110B<br>start_time: 2021-08-13 11:21:41<br>end_time: 2021-08-13 11:25:42<br>runtime: 239.7000000000036",
          "index: 93<br>name: 210813_Pac--011<br>path: D:/ExtractedSignals\\210813_Pac 2021-08-13 10-37-27\\210813_Pac--011.D<br>batch: 210813_Pac 2021-08-13 10-37-27<br>batch_position: 11<br>idle_time: 278.0<br>sample: 210812/004 :20<br>method: SAA_411_Pac.M<br>timestamp: 2021-08-13 11:25:46<br>detector: G1315C<br>pump: G7110B<br>start_time: 2021-08-13 11:26:21<br>end_time: 2021-08-13 11:30:21<br>runtime: 239.7000000000036",
          "index: 94<br>name: 210813_Pac--012<br>path: D:/ExtractedSignals\\210813_Pac 2021-08-13 10-37-27\\210813_Pac--012.D<br>batch: 210813_Pac 2021-08-13 10-37-27<br>batch_position: 12<br>idle_time: 280.0<br>sample: Blank<br>method: SAA_411_Pac.M<br>timestamp: 2021-08-13 11:30:26<br>detector: G1315C<br>pump: G7110B<br>start_time: 2021-08-13 11:30:59<br>end_time: 2021-08-13 11:34:59<br>runtime: 239.7000000000036",
          "index: 95<br>name: 210813_Pac--013<br>path: D:/ExtractedSignals\\210813_Pac 2021-08-13 10-37-27\\210813_Pac--013.D<br>batch: 210813_Pac 2021-08-13 10-37-27<br>batch_position: 13<br>idle_time: 278.0<br>sample: 0.025 mg/ml<br>method: SAA_411_Pac.M<br>timestamp: 2021-08-13 11:35:04<br>detector: G1315C<br>pump: G7110B<br>start_time: 2021-08-13 11:35:38<br>end_time: 2021-08-13 11:39:38<br>runtime: 239.7000000000036",
          "index: 96<br>name: 210813_Pac--014<br>path: D:/ExtractedSignals\\210813_Pac 2021-08-13 10-37-27\\210813_Pac--014.D<br>batch: 210813_Pac 2021-08-13 10-37-27<br>batch_position: 14<br>idle_time: 279.0<br>sample: Blank<br>method: SAA_411_Pac.M<br>timestamp: 2021-08-13 11:39:43<br>detector: G1315C<br>pump: G7110B<br>start_time: 2021-08-13 11:40:16<br>end_time: 2021-08-13 11:44:17<br>runtime: 239.7000000000036"
         ],
         "type": "scatter",
         "x": [
          0,
          1,
          2,
          3,
          4,
          5,
          6,
          7,
          8,
          9,
          10,
          11,
          12,
          13,
          14,
          15,
          16,
          17,
          18,
          19,
          20,
          21
         ],
         "y": [
          0.0284657326861115,
          0.0286013568209432,
          0.0327087105232786,
          0.0234371054573676,
          0.0230188060134023,
          0.0955594528883713,
          0.0196982725595759,
          0,
          0.0391448103666832,
          0.0168366171652824,
          0.0247745017246831,
          0.0241585891829049,
          0.0209641759650316,
          0.0171215029709667,
          0.1275559704330479,
          0.0173834154523913,
          0.0085263994551544,
          0.0164345603760604,
          0.006525678360183,
          0.0250347580148377,
          0.019108280904992,
          0.0240186709143784
         ]
        },
        {
         "hovertemplate": "<b>%{text}</b><br><b>x: </b>%{x}<br><b>residual_fft_sum_4: </b>%{y}<extra></extra>",
         "mode": "lines",
         "name": "residual_fft_sum_4",
         "text": [
          "index: 17<br>name: 210812_Pac--005<br>path: D:/ExtractedSignals\\210812_Pac 2021-08-12 10-30-07\\210812_Pac--005.D<br>batch: 210812_Pac 2021-08-12 10-30-07<br>batch_position: 5<br>idle_time: 279.0<br>sample: NaCl 0,9%<br>method: SAA_411_Pac.M<br>timestamp: 2021-08-12 10:50:23<br>detector: G1315C<br>pump: G7110B<br>start_time: 2021-08-12 10:50:57<br>end_time: 2021-08-12 10:54:57<br>runtime: 239.7000000000036",
          "index: 18<br>name: 210812_Pac--006<br>path: D:/ExtractedSignals\\210812_Pac 2021-08-12 10-30-07\\210812_Pac--006.D<br>batch: 210812_Pac 2021-08-12 10-30-07<br>batch_position: 6<br>idle_time: 279.0<br>sample: Blank<br>method: SAA_411_Pac.M<br>timestamp: 2021-08-12 10:55:02<br>detector: G1315C<br>pump: G7110B<br>start_time: 2021-08-12 10:55:36<br>end_time: 2021-08-12 10:59:36<br>runtime: 239.7000000000036",
          "index: 19<br>name: 210812_Pac--007<br>path: D:/ExtractedSignals\\210812_Pac 2021-08-12 10-30-07\\210812_Pac--007.D<br>batch: 210812_Pac 2021-08-12 10-30-07<br>batch_position: 7<br>idle_time: 279.0<br>sample: 0.025 mg/ml<br>method: SAA_411_Pac.M<br>timestamp: 2021-08-12 10:59:41<br>detector: G1315C<br>pump: G7110B<br>start_time: 2021-08-12 11:00:15<br>end_time: 2021-08-12 11:04:15<br>runtime: 239.7000000000036",
          "index: 20<br>name: 210812_Pac--008<br>path: D:/ExtractedSignals\\210812_Pac 2021-08-12 10-30-07\\210812_Pac--008.D<br>batch: 210812_Pac 2021-08-12 10-30-07<br>batch_position: 8<br>idle_time: 279.0<br>sample: Blank<br>method: SAA_411_Pac.M<br>timestamp: 2021-08-12 11:04:20<br>detector: G1315C<br>pump: G7110B<br>start_time: 2021-08-12 11:04:54<br>end_time: 2021-08-12 11:08:54<br>runtime: 239.7000000000036",
          "index: 21<br>name: 210812_Pac--009<br>path: D:/ExtractedSignals\\210812_Pac 2021-08-12 10-30-07\\210812_Pac--009.D<br>batch: 210812_Pac 2021-08-12 10-30-07<br>batch_position: 9<br>idle_time: 279.0<br>sample: 210806/036 :10<br>method: SAA_411_Pac.M<br>timestamp: 2021-08-12 11:08:59<br>detector: G1315C<br>pump: G7110B<br>start_time: 2021-08-12 11:09:32<br>end_time: 2021-08-12 11:13:32<br>runtime: 239.7000000000036",
          "index: 22<br>name: 210812_Pac--010<br>path: D:/ExtractedSignals\\210812_Pac 2021-08-12 10-30-07\\210812_Pac--010.D<br>batch: 210812_Pac 2021-08-12 10-30-07<br>batch_position: 10<br>idle_time: 278.0<br>sample: 210806/036 :10<br>method: SAA_411_Pac.M<br>timestamp: 2021-08-12 11:13:37<br>detector: G7110B<br>pump: G7110B<br>start_time: 2021-08-12 11:14:11<br>end_time: 2021-08-12 11:18:11<br>runtime: 239.7000000000036",
          "index: 23<br>name: 210812_Pac--011<br>path: D:/ExtractedSignals\\210812_Pac 2021-08-12 10-30-07\\210812_Pac--011.D<br>batch: 210812_Pac 2021-08-12 10-30-07<br>batch_position: 11<br>idle_time: 279.0<br>sample: 210806/036 :10<br>method: SAA_411_Pac.M<br>timestamp: 2021-08-12 11:18:16<br>detector: G7110B<br>pump: G7110B<br>start_time: 2021-08-12 11:18:50<br>end_time: 2021-08-12 11:22:50<br>runtime: 239.7000000000036",
          "index: 24<br>name: 210812_Pac--012<br>path: D:/ExtractedSignals\\210812_Pac 2021-08-12 10-30-07\\210812_Pac--012.D<br>batch: 210812_Pac 2021-08-12 10-30-07<br>batch_position: 12<br>idle_time: 279.0<br>sample: Blank<br>method: SAA_411_Pac.M<br>timestamp: 2021-08-12 11:22:55<br>detector: G1315C<br>pump: G7110B<br>start_time: 2021-08-12 11:23:29<br>end_time: 2021-08-12 11:27:29<br>runtime: 239.7000000000036",
          "index: 25<br>name: 210812_Pac--013<br>path: D:/ExtractedSignals\\210812_Pac 2021-08-12 10-30-07\\210812_Pac--013.D<br>batch: 210812_Pac 2021-08-12 10-30-07<br>batch_position: 13<br>idle_time: 279.0<br>sample: 0.025 mg/ml<br>method: SAA_411_Pac.M<br>timestamp: 2021-08-12 11:27:34<br>detector: G1315C<br>pump: G7110B<br>start_time: 2021-08-12 11:28:08<br>end_time: 2021-08-12 11:32:08<br>runtime: 239.7000000000036",
          "index: 26<br>name: 210812_Pac--014<br>path: D:/ExtractedSignals\\210812_Pac 2021-08-12 10-30-07\\210812_Pac--014.D<br>batch: 210812_Pac 2021-08-12 10-30-07<br>batch_position: 14<br>idle_time: 279.0<br>sample: Blank<br>method: SAA_411_Pac.M<br>timestamp: 2021-08-12 11:32:13<br>detector: G7110B<br>pump: G7110B<br>start_time: 2021-08-12 11:32:46<br>end_time: 2021-08-12 11:36:47<br>runtime: 239.7000000000036",
          "index: 85<br>name: 210813_Pac--003<br>path: D:/ExtractedSignals\\210813_Pac 2021-08-13 10-37-27\\210813_Pac--003.D<br>batch: 210813_Pac 2021-08-13 10-37-27<br>batch_position: 3<br>idle_time: 278.0<br>sample: Blank<br>method: SAA_411_Pac.M<br>timestamp: 2021-08-13 10:48:34<br>detector: G1315C<br>pump: G7116B<br>start_time: 2021-08-13 10:49:08<br>end_time: 2021-08-13 10:53:08<br>runtime: 239.7000000000036",
          "index: 86<br>name: 210813_Pac--004<br>path: D:/ExtractedSignals\\210813_Pac 2021-08-13 10-37-27\\210813_Pac--004.D<br>batch: 210813_Pac 2021-08-13 10-37-27<br>batch_position: 4<br>idle_time: 279.0<br>sample: Blank<br>method: SAA_411_Pac.M<br>timestamp: 2021-08-13 10:53:13<br>detector: G1315C<br>pump: G7110B<br>start_time: 2021-08-13 10:53:47<br>end_time: 2021-08-13 10:57:47<br>runtime: 239.7000000000036",
          "index: 87<br>name: 210813_Pac--005<br>path: D:/ExtractedSignals\\210813_Pac 2021-08-13 10-37-27\\210813_Pac--005.D<br>batch: 210813_Pac 2021-08-13 10-37-27<br>batch_position: 5<br>idle_time: 279.0<br>sample: NaCl 0,9%<br>method: SAA_411_Pac.M<br>timestamp: 2021-08-13 10:57:52<br>detector: G7110B<br>pump: G7110B<br>start_time: 2021-08-13 10:58:26<br>end_time: 2021-08-13 11:02:27<br>runtime: 239.7000000000036",
          "index: 88<br>name: 210813_Pac--006<br>path: D:/ExtractedSignals\\210813_Pac 2021-08-13 10-37-27\\210813_Pac--006.D<br>batch: 210813_Pac 2021-08-13 10-37-27<br>batch_position: 6<br>idle_time: 279.0<br>sample: Blank<br>method: SAA_411_Pac.M<br>timestamp: 2021-08-13 11:02:31<br>detector: G1315C<br>pump: G7110B<br>start_time: 2021-08-13 11:03:05<br>end_time: 2021-08-13 11:07:06<br>runtime: 239.7000000000036",
          "index: 89<br>name: 210813_Pac--007<br>path: D:/ExtractedSignals\\210813_Pac 2021-08-13 10-37-27\\210813_Pac--007.D<br>batch: 210813_Pac 2021-08-13 10-37-27<br>batch_position: 7<br>idle_time: 279.0<br>sample: 0.025 mg/ml<br>method: SAA_411_Pac.M<br>timestamp: 2021-08-13 11:07:10<br>detector: G1315C<br>pump: G7116B<br>start_time: 2021-08-13 11:07:44<br>end_time: 2021-08-13 11:11:45<br>runtime: 239.7000000000036",
          "index: 90<br>name: 210813_Pac--008<br>path: D:/ExtractedSignals\\210813_Pac 2021-08-13 10-37-27\\210813_Pac--008.D<br>batch: 210813_Pac 2021-08-13 10-37-27<br>batch_position: 8<br>idle_time: 279.0<br>sample: Blank<br>method: SAA_411_Pac.M<br>timestamp: 2021-08-13 11:11:49<br>detector: G1315C<br>pump: G7110B<br>start_time: 2021-08-13 11:12:23<br>end_time: 2021-08-13 11:16:23<br>runtime: 239.7000000000036",
          "index: 91<br>name: 210813_Pac--009<br>path: D:/ExtractedSignals\\210813_Pac 2021-08-13 10-37-27\\210813_Pac--009.D<br>batch: 210813_Pac 2021-08-13 10-37-27<br>batch_position: 9<br>idle_time: 279.0<br>sample: 210812/004 :20<br>method: SAA_411_Pac.M<br>timestamp: 2021-08-13 11:16:28<br>detector: G1315C<br>pump: G7110B<br>start_time: 2021-08-13 11:17:02<br>end_time: 2021-08-13 11:21:03<br>runtime: 239.7000000000036",
          "index: 92<br>name: 210813_Pac--010<br>path: D:/ExtractedSignals\\210813_Pac 2021-08-13 10-37-27\\210813_Pac--010.D<br>batch: 210813_Pac 2021-08-13 10-37-27<br>batch_position: 10<br>idle_time: 280.0<br>sample: 210812/004 :20<br>method: SAA_411_Pac.M<br>timestamp: 2021-08-13 11:21:08<br>detector: G1315C<br>pump: G7110B<br>start_time: 2021-08-13 11:21:41<br>end_time: 2021-08-13 11:25:42<br>runtime: 239.7000000000036",
          "index: 93<br>name: 210813_Pac--011<br>path: D:/ExtractedSignals\\210813_Pac 2021-08-13 10-37-27\\210813_Pac--011.D<br>batch: 210813_Pac 2021-08-13 10-37-27<br>batch_position: 11<br>idle_time: 278.0<br>sample: 210812/004 :20<br>method: SAA_411_Pac.M<br>timestamp: 2021-08-13 11:25:46<br>detector: G1315C<br>pump: G7110B<br>start_time: 2021-08-13 11:26:21<br>end_time: 2021-08-13 11:30:21<br>runtime: 239.7000000000036",
          "index: 94<br>name: 210813_Pac--012<br>path: D:/ExtractedSignals\\210813_Pac 2021-08-13 10-37-27\\210813_Pac--012.D<br>batch: 210813_Pac 2021-08-13 10-37-27<br>batch_position: 12<br>idle_time: 280.0<br>sample: Blank<br>method: SAA_411_Pac.M<br>timestamp: 2021-08-13 11:30:26<br>detector: G1315C<br>pump: G7110B<br>start_time: 2021-08-13 11:30:59<br>end_time: 2021-08-13 11:34:59<br>runtime: 239.7000000000036",
          "index: 95<br>name: 210813_Pac--013<br>path: D:/ExtractedSignals\\210813_Pac 2021-08-13 10-37-27\\210813_Pac--013.D<br>batch: 210813_Pac 2021-08-13 10-37-27<br>batch_position: 13<br>idle_time: 278.0<br>sample: 0.025 mg/ml<br>method: SAA_411_Pac.M<br>timestamp: 2021-08-13 11:35:04<br>detector: G1315C<br>pump: G7110B<br>start_time: 2021-08-13 11:35:38<br>end_time: 2021-08-13 11:39:38<br>runtime: 239.7000000000036",
          "index: 96<br>name: 210813_Pac--014<br>path: D:/ExtractedSignals\\210813_Pac 2021-08-13 10-37-27\\210813_Pac--014.D<br>batch: 210813_Pac 2021-08-13 10-37-27<br>batch_position: 14<br>idle_time: 279.0<br>sample: Blank<br>method: SAA_411_Pac.M<br>timestamp: 2021-08-13 11:39:43<br>detector: G1315C<br>pump: G7110B<br>start_time: 2021-08-13 11:40:16<br>end_time: 2021-08-13 11:44:17<br>runtime: 239.7000000000036"
         ],
         "type": "scatter",
         "x": [
          0,
          1,
          2,
          3,
          4,
          5,
          6,
          7,
          8,
          9,
          10,
          11,
          12,
          13,
          14,
          15,
          16,
          17,
          18,
          19,
          20,
          21
         ],
         "y": [
          0.0284657326861115,
          0.0286013568209432,
          0.0327087105232786,
          0.0234371054573676,
          0.0230188060134023,
          0.0955594528883713,
          0.0196982725595759,
          0,
          0.0391448103666832,
          0.0168366171652824,
          0.0247745017246831,
          0.0241585891829049,
          0.0209641759650315,
          0.0171215029709667,
          0.1275559704330479,
          0.0173834154523913,
          0.0085263994551544,
          0.0164345603760604,
          0.006525678360183,
          0.0250347580148377,
          0.019108280904992,
          0.0240186709143784
         ]
        }
       ],
       "layout": {
        "legend": {
         "title": {
          "text": "Features"
         }
        },
        "template": {
         "data": {
          "bar": [
           {
            "error_x": {
             "color": "rgb(36,36,36)"
            },
            "error_y": {
             "color": "rgb(36,36,36)"
            },
            "marker": {
             "line": {
              "color": "white",
              "width": 0.5
             },
             "pattern": {
              "fillmode": "overlay",
              "size": 10,
              "solidity": 0.2
             }
            },
            "type": "bar"
           }
          ],
          "barpolar": [
           {
            "marker": {
             "line": {
              "color": "white",
              "width": 0.5
             },
             "pattern": {
              "fillmode": "overlay",
              "size": 10,
              "solidity": 0.2
             }
            },
            "type": "barpolar"
           }
          ],
          "carpet": [
           {
            "aaxis": {
             "endlinecolor": "rgb(36,36,36)",
             "gridcolor": "white",
             "linecolor": "white",
             "minorgridcolor": "white",
             "startlinecolor": "rgb(36,36,36)"
            },
            "baxis": {
             "endlinecolor": "rgb(36,36,36)",
             "gridcolor": "white",
             "linecolor": "white",
             "minorgridcolor": "white",
             "startlinecolor": "rgb(36,36,36)"
            },
            "type": "carpet"
           }
          ],
          "choropleth": [
           {
            "colorbar": {
             "outlinewidth": 1,
             "tickcolor": "rgb(36,36,36)",
             "ticks": "outside"
            },
            "type": "choropleth"
           }
          ],
          "contour": [
           {
            "colorbar": {
             "outlinewidth": 1,
             "tickcolor": "rgb(36,36,36)",
             "ticks": "outside"
            },
            "colorscale": [
             [
              0,
              "#440154"
             ],
             [
              0.1111111111111111,
              "#482878"
             ],
             [
              0.2222222222222222,
              "#3e4989"
             ],
             [
              0.3333333333333333,
              "#31688e"
             ],
             [
              0.4444444444444444,
              "#26828e"
             ],
             [
              0.5555555555555556,
              "#1f9e89"
             ],
             [
              0.6666666666666666,
              "#35b779"
             ],
             [
              0.7777777777777778,
              "#6ece58"
             ],
             [
              0.8888888888888888,
              "#b5de2b"
             ],
             [
              1,
              "#fde725"
             ]
            ],
            "type": "contour"
           }
          ],
          "contourcarpet": [
           {
            "colorbar": {
             "outlinewidth": 1,
             "tickcolor": "rgb(36,36,36)",
             "ticks": "outside"
            },
            "type": "contourcarpet"
           }
          ],
          "heatmap": [
           {
            "colorbar": {
             "outlinewidth": 1,
             "tickcolor": "rgb(36,36,36)",
             "ticks": "outside"
            },
            "colorscale": [
             [
              0,
              "#440154"
             ],
             [
              0.1111111111111111,
              "#482878"
             ],
             [
              0.2222222222222222,
              "#3e4989"
             ],
             [
              0.3333333333333333,
              "#31688e"
             ],
             [
              0.4444444444444444,
              "#26828e"
             ],
             [
              0.5555555555555556,
              "#1f9e89"
             ],
             [
              0.6666666666666666,
              "#35b779"
             ],
             [
              0.7777777777777778,
              "#6ece58"
             ],
             [
              0.8888888888888888,
              "#b5de2b"
             ],
             [
              1,
              "#fde725"
             ]
            ],
            "type": "heatmap"
           }
          ],
          "heatmapgl": [
           {
            "colorbar": {
             "outlinewidth": 1,
             "tickcolor": "rgb(36,36,36)",
             "ticks": "outside"
            },
            "colorscale": [
             [
              0,
              "#440154"
             ],
             [
              0.1111111111111111,
              "#482878"
             ],
             [
              0.2222222222222222,
              "#3e4989"
             ],
             [
              0.3333333333333333,
              "#31688e"
             ],
             [
              0.4444444444444444,
              "#26828e"
             ],
             [
              0.5555555555555556,
              "#1f9e89"
             ],
             [
              0.6666666666666666,
              "#35b779"
             ],
             [
              0.7777777777777778,
              "#6ece58"
             ],
             [
              0.8888888888888888,
              "#b5de2b"
             ],
             [
              1,
              "#fde725"
             ]
            ],
            "type": "heatmapgl"
           }
          ],
          "histogram": [
           {
            "marker": {
             "line": {
              "color": "white",
              "width": 0.6
             }
            },
            "type": "histogram"
           }
          ],
          "histogram2d": [
           {
            "colorbar": {
             "outlinewidth": 1,
             "tickcolor": "rgb(36,36,36)",
             "ticks": "outside"
            },
            "colorscale": [
             [
              0,
              "#440154"
             ],
             [
              0.1111111111111111,
              "#482878"
             ],
             [
              0.2222222222222222,
              "#3e4989"
             ],
             [
              0.3333333333333333,
              "#31688e"
             ],
             [
              0.4444444444444444,
              "#26828e"
             ],
             [
              0.5555555555555556,
              "#1f9e89"
             ],
             [
              0.6666666666666666,
              "#35b779"
             ],
             [
              0.7777777777777778,
              "#6ece58"
             ],
             [
              0.8888888888888888,
              "#b5de2b"
             ],
             [
              1,
              "#fde725"
             ]
            ],
            "type": "histogram2d"
           }
          ],
          "histogram2dcontour": [
           {
            "colorbar": {
             "outlinewidth": 1,
             "tickcolor": "rgb(36,36,36)",
             "ticks": "outside"
            },
            "colorscale": [
             [
              0,
              "#440154"
             ],
             [
              0.1111111111111111,
              "#482878"
             ],
             [
              0.2222222222222222,
              "#3e4989"
             ],
             [
              0.3333333333333333,
              "#31688e"
             ],
             [
              0.4444444444444444,
              "#26828e"
             ],
             [
              0.5555555555555556,
              "#1f9e89"
             ],
             [
              0.6666666666666666,
              "#35b779"
             ],
             [
              0.7777777777777778,
              "#6ece58"
             ],
             [
              0.8888888888888888,
              "#b5de2b"
             ],
             [
              1,
              "#fde725"
             ]
            ],
            "type": "histogram2dcontour"
           }
          ],
          "mesh3d": [
           {
            "colorbar": {
             "outlinewidth": 1,
             "tickcolor": "rgb(36,36,36)",
             "ticks": "outside"
            },
            "type": "mesh3d"
           }
          ],
          "parcoords": [
           {
            "line": {
             "colorbar": {
              "outlinewidth": 1,
              "tickcolor": "rgb(36,36,36)",
              "ticks": "outside"
             }
            },
            "type": "parcoords"
           }
          ],
          "pie": [
           {
            "automargin": true,
            "type": "pie"
           }
          ],
          "scatter": [
           {
            "fillpattern": {
             "fillmode": "overlay",
             "size": 10,
             "solidity": 0.2
            },
            "type": "scatter"
           }
          ],
          "scatter3d": [
           {
            "line": {
             "colorbar": {
              "outlinewidth": 1,
              "tickcolor": "rgb(36,36,36)",
              "ticks": "outside"
             }
            },
            "marker": {
             "colorbar": {
              "outlinewidth": 1,
              "tickcolor": "rgb(36,36,36)",
              "ticks": "outside"
             }
            },
            "type": "scatter3d"
           }
          ],
          "scattercarpet": [
           {
            "marker": {
             "colorbar": {
              "outlinewidth": 1,
              "tickcolor": "rgb(36,36,36)",
              "ticks": "outside"
             }
            },
            "type": "scattercarpet"
           }
          ],
          "scattergeo": [
           {
            "marker": {
             "colorbar": {
              "outlinewidth": 1,
              "tickcolor": "rgb(36,36,36)",
              "ticks": "outside"
             }
            },
            "type": "scattergeo"
           }
          ],
          "scattergl": [
           {
            "marker": {
             "colorbar": {
              "outlinewidth": 1,
              "tickcolor": "rgb(36,36,36)",
              "ticks": "outside"
             }
            },
            "type": "scattergl"
           }
          ],
          "scattermapbox": [
           {
            "marker": {
             "colorbar": {
              "outlinewidth": 1,
              "tickcolor": "rgb(36,36,36)",
              "ticks": "outside"
             }
            },
            "type": "scattermapbox"
           }
          ],
          "scatterpolar": [
           {
            "marker": {
             "colorbar": {
              "outlinewidth": 1,
              "tickcolor": "rgb(36,36,36)",
              "ticks": "outside"
             }
            },
            "type": "scatterpolar"
           }
          ],
          "scatterpolargl": [
           {
            "marker": {
             "colorbar": {
              "outlinewidth": 1,
              "tickcolor": "rgb(36,36,36)",
              "ticks": "outside"
             }
            },
            "type": "scatterpolargl"
           }
          ],
          "scatterternary": [
           {
            "marker": {
             "colorbar": {
              "outlinewidth": 1,
              "tickcolor": "rgb(36,36,36)",
              "ticks": "outside"
             }
            },
            "type": "scatterternary"
           }
          ],
          "surface": [
           {
            "colorbar": {
             "outlinewidth": 1,
             "tickcolor": "rgb(36,36,36)",
             "ticks": "outside"
            },
            "colorscale": [
             [
              0,
              "#440154"
             ],
             [
              0.1111111111111111,
              "#482878"
             ],
             [
              0.2222222222222222,
              "#3e4989"
             ],
             [
              0.3333333333333333,
              "#31688e"
             ],
             [
              0.4444444444444444,
              "#26828e"
             ],
             [
              0.5555555555555556,
              "#1f9e89"
             ],
             [
              0.6666666666666666,
              "#35b779"
             ],
             [
              0.7777777777777778,
              "#6ece58"
             ],
             [
              0.8888888888888888,
              "#b5de2b"
             ],
             [
              1,
              "#fde725"
             ]
            ],
            "type": "surface"
           }
          ],
          "table": [
           {
            "cells": {
             "fill": {
              "color": "rgb(237,237,237)"
             },
             "line": {
              "color": "white"
             }
            },
            "header": {
             "fill": {
              "color": "rgb(217,217,217)"
             },
             "line": {
              "color": "white"
             }
            },
            "type": "table"
           }
          ]
         },
         "layout": {
          "annotationdefaults": {
           "arrowhead": 0,
           "arrowwidth": 1
          },
          "autotypenumbers": "strict",
          "coloraxis": {
           "colorbar": {
            "outlinewidth": 1,
            "tickcolor": "rgb(36,36,36)",
            "ticks": "outside"
           }
          },
          "colorscale": {
           "diverging": [
            [
             0,
             "rgb(103,0,31)"
            ],
            [
             0.1,
             "rgb(178,24,43)"
            ],
            [
             0.2,
             "rgb(214,96,77)"
            ],
            [
             0.3,
             "rgb(244,165,130)"
            ],
            [
             0.4,
             "rgb(253,219,199)"
            ],
            [
             0.5,
             "rgb(247,247,247)"
            ],
            [
             0.6,
             "rgb(209,229,240)"
            ],
            [
             0.7,
             "rgb(146,197,222)"
            ],
            [
             0.8,
             "rgb(67,147,195)"
            ],
            [
             0.9,
             "rgb(33,102,172)"
            ],
            [
             1,
             "rgb(5,48,97)"
            ]
           ],
           "sequential": [
            [
             0,
             "#440154"
            ],
            [
             0.1111111111111111,
             "#482878"
            ],
            [
             0.2222222222222222,
             "#3e4989"
            ],
            [
             0.3333333333333333,
             "#31688e"
            ],
            [
             0.4444444444444444,
             "#26828e"
            ],
            [
             0.5555555555555556,
             "#1f9e89"
            ],
            [
             0.6666666666666666,
             "#35b779"
            ],
            [
             0.7777777777777778,
             "#6ece58"
            ],
            [
             0.8888888888888888,
             "#b5de2b"
            ],
            [
             1,
             "#fde725"
            ]
           ],
           "sequentialminus": [
            [
             0,
             "#440154"
            ],
            [
             0.1111111111111111,
             "#482878"
            ],
            [
             0.2222222222222222,
             "#3e4989"
            ],
            [
             0.3333333333333333,
             "#31688e"
            ],
            [
             0.4444444444444444,
             "#26828e"
            ],
            [
             0.5555555555555556,
             "#1f9e89"
            ],
            [
             0.6666666666666666,
             "#35b779"
            ],
            [
             0.7777777777777778,
             "#6ece58"
            ],
            [
             0.8888888888888888,
             "#b5de2b"
            ],
            [
             1,
             "#fde725"
            ]
           ]
          },
          "colorway": [
           "#1F77B4",
           "#FF7F0E",
           "#2CA02C",
           "#D62728",
           "#9467BD",
           "#8C564B",
           "#E377C2",
           "#7F7F7F",
           "#BCBD22",
           "#17BECF"
          ],
          "font": {
           "color": "rgb(36,36,36)"
          },
          "geo": {
           "bgcolor": "white",
           "lakecolor": "white",
           "landcolor": "white",
           "showlakes": true,
           "showland": true,
           "subunitcolor": "white"
          },
          "hoverlabel": {
           "align": "left"
          },
          "hovermode": "closest",
          "mapbox": {
           "style": "light"
          },
          "paper_bgcolor": "white",
          "plot_bgcolor": "white",
          "polar": {
           "angularaxis": {
            "gridcolor": "rgb(232,232,232)",
            "linecolor": "rgb(36,36,36)",
            "showgrid": false,
            "showline": true,
            "ticks": "outside"
           },
           "bgcolor": "white",
           "radialaxis": {
            "gridcolor": "rgb(232,232,232)",
            "linecolor": "rgb(36,36,36)",
            "showgrid": false,
            "showline": true,
            "ticks": "outside"
           }
          },
          "scene": {
           "xaxis": {
            "backgroundcolor": "white",
            "gridcolor": "rgb(232,232,232)",
            "gridwidth": 2,
            "linecolor": "rgb(36,36,36)",
            "showbackground": true,
            "showgrid": false,
            "showline": true,
            "ticks": "outside",
            "zeroline": false,
            "zerolinecolor": "rgb(36,36,36)"
           },
           "yaxis": {
            "backgroundcolor": "white",
            "gridcolor": "rgb(232,232,232)",
            "gridwidth": 2,
            "linecolor": "rgb(36,36,36)",
            "showbackground": true,
            "showgrid": false,
            "showline": true,
            "ticks": "outside",
            "zeroline": false,
            "zerolinecolor": "rgb(36,36,36)"
           },
           "zaxis": {
            "backgroundcolor": "white",
            "gridcolor": "rgb(232,232,232)",
            "gridwidth": 2,
            "linecolor": "rgb(36,36,36)",
            "showbackground": true,
            "showgrid": false,
            "showline": true,
            "ticks": "outside",
            "zeroline": false,
            "zerolinecolor": "rgb(36,36,36)"
           }
          },
          "shapedefaults": {
           "fillcolor": "black",
           "line": {
            "width": 0
           },
           "opacity": 0.3
          },
          "ternary": {
           "aaxis": {
            "gridcolor": "rgb(232,232,232)",
            "linecolor": "rgb(36,36,36)",
            "showgrid": false,
            "showline": true,
            "ticks": "outside"
           },
           "baxis": {
            "gridcolor": "rgb(232,232,232)",
            "linecolor": "rgb(36,36,36)",
            "showgrid": false,
            "showline": true,
            "ticks": "outside"
           },
           "bgcolor": "white",
           "caxis": {
            "gridcolor": "rgb(232,232,232)",
            "linecolor": "rgb(36,36,36)",
            "showgrid": false,
            "showline": true,
            "ticks": "outside"
           }
          },
          "title": {
           "x": 0.05
          },
          "xaxis": {
           "automargin": true,
           "gridcolor": "rgb(232,232,232)",
           "linecolor": "rgb(36,36,36)",
           "showgrid": false,
           "showline": true,
           "ticks": "outside",
           "title": {
            "standoff": 15
           },
           "zeroline": false,
           "zerolinecolor": "rgb(36,36,36)"
          },
          "yaxis": {
           "automargin": true,
           "gridcolor": "rgb(232,232,232)",
           "linecolor": "rgb(36,36,36)",
           "showgrid": false,
           "showline": true,
           "ticks": "outside",
           "title": {
            "standoff": 15
           },
           "zeroline": false,
           "zerolinecolor": "rgb(36,36,36)"
          }
         }
        },
        "xaxis": {
         "title": {
          "text": "Analysis index"
         }
        },
        "yaxis": {
         "title": {
          "text": "Value / U.A."
         }
        }
       }
      }
     },
     "metadata": {},
     "output_type": "display_data"
    }
   ],
   "source": [
    "import pandas as pd\n",
    "from src.StreamPort.machine_learning.analyses import MachineLearningAnalyses\n",
    "\n",
    "train_data = pd.read_csv(\"train_features.csv\")\n",
    "train_metadata = pd.read_csv(\"train_metadata.csv\")\n",
    "ana = MachineLearningAnalyses(variables = train_data, metadata = train_metadata)\n",
    "print(ana)\n",
    "ana.plot_data()"
   ]
  },
  {
   "cell_type": "code",
   "execution_count": null,
   "metadata": {},
   "outputs": [
    {
     "name": "stdout",
     "output_type": "stream",
     "text": [
      "<class 'src.StreamPort.machine_learning.analyses.IsolationForestAnalyses'>\n"
     ]
    },
    {
     "data": {
      "application/vnd.plotly.v1+json": {
       "config": {
        "plotlyServerURL": "https://plot.ly"
       },
       "data": [
        {
         "hovertemplate": [
          "<b>index: </b>17<br><b>name: </b>210812_Pac--005<br><b>path: </b>D:/ExtractedSignals\\210812_Pac 2021-08-12 10-30-07\\210812_Pac--005.D<br><b>batch: </b>210812_Pac 2021-08-12 10-30-07<br><b>batch_position: </b>5<br><b>idle_time: </b>279.0<br><b>sample: </b>NaCl 0,9%<br><b>method: </b>SAA_411_Pac.M<br><b>timestamp: </b>2021-08-12 10:50:23<br><b>detector: </b>G1315C<br><b>pump: </b>G7110B<br><b>start_time: </b>2021-08-12 10:50:57<br><b>end_time: </b>2021-08-12 10:54:57<br><b>runtime: </b>239.7000000000036",
          "<b>index: </b>18<br><b>name: </b>210812_Pac--006<br><b>path: </b>D:/ExtractedSignals\\210812_Pac 2021-08-12 10-30-07\\210812_Pac--006.D<br><b>batch: </b>210812_Pac 2021-08-12 10-30-07<br><b>batch_position: </b>6<br><b>idle_time: </b>279.0<br><b>sample: </b>Blank<br><b>method: </b>SAA_411_Pac.M<br><b>timestamp: </b>2021-08-12 10:55:02<br><b>detector: </b>G1315C<br><b>pump: </b>G7110B<br><b>start_time: </b>2021-08-12 10:55:36<br><b>end_time: </b>2021-08-12 10:59:36<br><b>runtime: </b>239.7000000000036",
          "<b>index: </b>19<br><b>name: </b>210812_Pac--007<br><b>path: </b>D:/ExtractedSignals\\210812_Pac 2021-08-12 10-30-07\\210812_Pac--007.D<br><b>batch: </b>210812_Pac 2021-08-12 10-30-07<br><b>batch_position: </b>7<br><b>idle_time: </b>279.0<br><b>sample: </b>0.025 mg/ml<br><b>method: </b>SAA_411_Pac.M<br><b>timestamp: </b>2021-08-12 10:59:41<br><b>detector: </b>G1315C<br><b>pump: </b>G7110B<br><b>start_time: </b>2021-08-12 11:00:15<br><b>end_time: </b>2021-08-12 11:04:15<br><b>runtime: </b>239.7000000000036",
          "<b>index: </b>20<br><b>name: </b>210812_Pac--008<br><b>path: </b>D:/ExtractedSignals\\210812_Pac 2021-08-12 10-30-07\\210812_Pac--008.D<br><b>batch: </b>210812_Pac 2021-08-12 10-30-07<br><b>batch_position: </b>8<br><b>idle_time: </b>279.0<br><b>sample: </b>Blank<br><b>method: </b>SAA_411_Pac.M<br><b>timestamp: </b>2021-08-12 11:04:20<br><b>detector: </b>G1315C<br><b>pump: </b>G7110B<br><b>start_time: </b>2021-08-12 11:04:54<br><b>end_time: </b>2021-08-12 11:08:54<br><b>runtime: </b>239.7000000000036",
          "<b>index: </b>21<br><b>name: </b>210812_Pac--009<br><b>path: </b>D:/ExtractedSignals\\210812_Pac 2021-08-12 10-30-07\\210812_Pac--009.D<br><b>batch: </b>210812_Pac 2021-08-12 10-30-07<br><b>batch_position: </b>9<br><b>idle_time: </b>279.0<br><b>sample: </b>210806/036 :10<br><b>method: </b>SAA_411_Pac.M<br><b>timestamp: </b>2021-08-12 11:08:59<br><b>detector: </b>G1315C<br><b>pump: </b>G7110B<br><b>start_time: </b>2021-08-12 11:09:32<br><b>end_time: </b>2021-08-12 11:13:32<br><b>runtime: </b>239.7000000000036",
          "<b>index: </b>22<br><b>name: </b>210812_Pac--010<br><b>path: </b>D:/ExtractedSignals\\210812_Pac 2021-08-12 10-30-07\\210812_Pac--010.D<br><b>batch: </b>210812_Pac 2021-08-12 10-30-07<br><b>batch_position: </b>10<br><b>idle_time: </b>278.0<br><b>sample: </b>210806/036 :10<br><b>method: </b>SAA_411_Pac.M<br><b>timestamp: </b>2021-08-12 11:13:37<br><b>detector: </b>G7110B<br><b>pump: </b>G7110B<br><b>start_time: </b>2021-08-12 11:14:11<br><b>end_time: </b>2021-08-12 11:18:11<br><b>runtime: </b>239.7000000000036",
          "<b>index: </b>23<br><b>name: </b>210812_Pac--011<br><b>path: </b>D:/ExtractedSignals\\210812_Pac 2021-08-12 10-30-07\\210812_Pac--011.D<br><b>batch: </b>210812_Pac 2021-08-12 10-30-07<br><b>batch_position: </b>11<br><b>idle_time: </b>279.0<br><b>sample: </b>210806/036 :10<br><b>method: </b>SAA_411_Pac.M<br><b>timestamp: </b>2021-08-12 11:18:16<br><b>detector: </b>G7110B<br><b>pump: </b>G7110B<br><b>start_time: </b>2021-08-12 11:18:50<br><b>end_time: </b>2021-08-12 11:22:50<br><b>runtime: </b>239.7000000000036",
          "<b>index: </b>24<br><b>name: </b>210812_Pac--012<br><b>path: </b>D:/ExtractedSignals\\210812_Pac 2021-08-12 10-30-07\\210812_Pac--012.D<br><b>batch: </b>210812_Pac 2021-08-12 10-30-07<br><b>batch_position: </b>12<br><b>idle_time: </b>279.0<br><b>sample: </b>Blank<br><b>method: </b>SAA_411_Pac.M<br><b>timestamp: </b>2021-08-12 11:22:55<br><b>detector: </b>G1315C<br><b>pump: </b>G7110B<br><b>start_time: </b>2021-08-12 11:23:29<br><b>end_time: </b>2021-08-12 11:27:29<br><b>runtime: </b>239.7000000000036",
          "<b>index: </b>25<br><b>name: </b>210812_Pac--013<br><b>path: </b>D:/ExtractedSignals\\210812_Pac 2021-08-12 10-30-07\\210812_Pac--013.D<br><b>batch: </b>210812_Pac 2021-08-12 10-30-07<br><b>batch_position: </b>13<br><b>idle_time: </b>279.0<br><b>sample: </b>0.025 mg/ml<br><b>method: </b>SAA_411_Pac.M<br><b>timestamp: </b>2021-08-12 11:27:34<br><b>detector: </b>G1315C<br><b>pump: </b>G7110B<br><b>start_time: </b>2021-08-12 11:28:08<br><b>end_time: </b>2021-08-12 11:32:08<br><b>runtime: </b>239.7000000000036",
          "<b>index: </b>26<br><b>name: </b>210812_Pac--014<br><b>path: </b>D:/ExtractedSignals\\210812_Pac 2021-08-12 10-30-07\\210812_Pac--014.D<br><b>batch: </b>210812_Pac 2021-08-12 10-30-07<br><b>batch_position: </b>14<br><b>idle_time: </b>279.0<br><b>sample: </b>Blank<br><b>method: </b>SAA_411_Pac.M<br><b>timestamp: </b>2021-08-12 11:32:13<br><b>detector: </b>G7110B<br><b>pump: </b>G7110B<br><b>start_time: </b>2021-08-12 11:32:46<br><b>end_time: </b>2021-08-12 11:36:47<br><b>runtime: </b>239.7000000000036",
          "<b>index: </b>85<br><b>name: </b>210813_Pac--003<br><b>path: </b>D:/ExtractedSignals\\210813_Pac 2021-08-13 10-37-27\\210813_Pac--003.D<br><b>batch: </b>210813_Pac 2021-08-13 10-37-27<br><b>batch_position: </b>3<br><b>idle_time: </b>278.0<br><b>sample: </b>Blank<br><b>method: </b>SAA_411_Pac.M<br><b>timestamp: </b>2021-08-13 10:48:34<br><b>detector: </b>G1315C<br><b>pump: </b>G7116B<br><b>start_time: </b>2021-08-13 10:49:08<br><b>end_time: </b>2021-08-13 10:53:08<br><b>runtime: </b>239.7000000000036",
          "<b>index: </b>86<br><b>name: </b>210813_Pac--004<br><b>path: </b>D:/ExtractedSignals\\210813_Pac 2021-08-13 10-37-27\\210813_Pac--004.D<br><b>batch: </b>210813_Pac 2021-08-13 10-37-27<br><b>batch_position: </b>4<br><b>idle_time: </b>279.0<br><b>sample: </b>Blank<br><b>method: </b>SAA_411_Pac.M<br><b>timestamp: </b>2021-08-13 10:53:13<br><b>detector: </b>G1315C<br><b>pump: </b>G7110B<br><b>start_time: </b>2021-08-13 10:53:47<br><b>end_time: </b>2021-08-13 10:57:47<br><b>runtime: </b>239.7000000000036",
          "<b>index: </b>87<br><b>name: </b>210813_Pac--005<br><b>path: </b>D:/ExtractedSignals\\210813_Pac 2021-08-13 10-37-27\\210813_Pac--005.D<br><b>batch: </b>210813_Pac 2021-08-13 10-37-27<br><b>batch_position: </b>5<br><b>idle_time: </b>279.0<br><b>sample: </b>NaCl 0,9%<br><b>method: </b>SAA_411_Pac.M<br><b>timestamp: </b>2021-08-13 10:57:52<br><b>detector: </b>G7110B<br><b>pump: </b>G7110B<br><b>start_time: </b>2021-08-13 10:58:26<br><b>end_time: </b>2021-08-13 11:02:27<br><b>runtime: </b>239.7000000000036",
          "<b>index: </b>88<br><b>name: </b>210813_Pac--006<br><b>path: </b>D:/ExtractedSignals\\210813_Pac 2021-08-13 10-37-27\\210813_Pac--006.D<br><b>batch: </b>210813_Pac 2021-08-13 10-37-27<br><b>batch_position: </b>6<br><b>idle_time: </b>279.0<br><b>sample: </b>Blank<br><b>method: </b>SAA_411_Pac.M<br><b>timestamp: </b>2021-08-13 11:02:31<br><b>detector: </b>G1315C<br><b>pump: </b>G7110B<br><b>start_time: </b>2021-08-13 11:03:05<br><b>end_time: </b>2021-08-13 11:07:06<br><b>runtime: </b>239.7000000000036",
          "<b>index: </b>89<br><b>name: </b>210813_Pac--007<br><b>path: </b>D:/ExtractedSignals\\210813_Pac 2021-08-13 10-37-27\\210813_Pac--007.D<br><b>batch: </b>210813_Pac 2021-08-13 10-37-27<br><b>batch_position: </b>7<br><b>idle_time: </b>279.0<br><b>sample: </b>0.025 mg/ml<br><b>method: </b>SAA_411_Pac.M<br><b>timestamp: </b>2021-08-13 11:07:10<br><b>detector: </b>G1315C<br><b>pump: </b>G7116B<br><b>start_time: </b>2021-08-13 11:07:44<br><b>end_time: </b>2021-08-13 11:11:45<br><b>runtime: </b>239.7000000000036",
          "<b>index: </b>90<br><b>name: </b>210813_Pac--008<br><b>path: </b>D:/ExtractedSignals\\210813_Pac 2021-08-13 10-37-27\\210813_Pac--008.D<br><b>batch: </b>210813_Pac 2021-08-13 10-37-27<br><b>batch_position: </b>8<br><b>idle_time: </b>279.0<br><b>sample: </b>Blank<br><b>method: </b>SAA_411_Pac.M<br><b>timestamp: </b>2021-08-13 11:11:49<br><b>detector: </b>G1315C<br><b>pump: </b>G7110B<br><b>start_time: </b>2021-08-13 11:12:23<br><b>end_time: </b>2021-08-13 11:16:23<br><b>runtime: </b>239.7000000000036",
          "<b>index: </b>91<br><b>name: </b>210813_Pac--009<br><b>path: </b>D:/ExtractedSignals\\210813_Pac 2021-08-13 10-37-27\\210813_Pac--009.D<br><b>batch: </b>210813_Pac 2021-08-13 10-37-27<br><b>batch_position: </b>9<br><b>idle_time: </b>279.0<br><b>sample: </b>210812/004 :20<br><b>method: </b>SAA_411_Pac.M<br><b>timestamp: </b>2021-08-13 11:16:28<br><b>detector: </b>G1315C<br><b>pump: </b>G7110B<br><b>start_time: </b>2021-08-13 11:17:02<br><b>end_time: </b>2021-08-13 11:21:03<br><b>runtime: </b>239.7000000000036",
          "<b>index: </b>92<br><b>name: </b>210813_Pac--010<br><b>path: </b>D:/ExtractedSignals\\210813_Pac 2021-08-13 10-37-27\\210813_Pac--010.D<br><b>batch: </b>210813_Pac 2021-08-13 10-37-27<br><b>batch_position: </b>10<br><b>idle_time: </b>280.0<br><b>sample: </b>210812/004 :20<br><b>method: </b>SAA_411_Pac.M<br><b>timestamp: </b>2021-08-13 11:21:08<br><b>detector: </b>G1315C<br><b>pump: </b>G7110B<br><b>start_time: </b>2021-08-13 11:21:41<br><b>end_time: </b>2021-08-13 11:25:42<br><b>runtime: </b>239.7000000000036",
          "<b>index: </b>93<br><b>name: </b>210813_Pac--011<br><b>path: </b>D:/ExtractedSignals\\210813_Pac 2021-08-13 10-37-27\\210813_Pac--011.D<br><b>batch: </b>210813_Pac 2021-08-13 10-37-27<br><b>batch_position: </b>11<br><b>idle_time: </b>278.0<br><b>sample: </b>210812/004 :20<br><b>method: </b>SAA_411_Pac.M<br><b>timestamp: </b>2021-08-13 11:25:46<br><b>detector: </b>G1315C<br><b>pump: </b>G7110B<br><b>start_time: </b>2021-08-13 11:26:21<br><b>end_time: </b>2021-08-13 11:30:21<br><b>runtime: </b>239.7000000000036",
          "<b>index: </b>94<br><b>name: </b>210813_Pac--012<br><b>path: </b>D:/ExtractedSignals\\210813_Pac 2021-08-13 10-37-27\\210813_Pac--012.D<br><b>batch: </b>210813_Pac 2021-08-13 10-37-27<br><b>batch_position: </b>12<br><b>idle_time: </b>280.0<br><b>sample: </b>Blank<br><b>method: </b>SAA_411_Pac.M<br><b>timestamp: </b>2021-08-13 11:30:26<br><b>detector: </b>G1315C<br><b>pump: </b>G7110B<br><b>start_time: </b>2021-08-13 11:30:59<br><b>end_time: </b>2021-08-13 11:34:59<br><b>runtime: </b>239.7000000000036",
          "<b>index: </b>95<br><b>name: </b>210813_Pac--013<br><b>path: </b>D:/ExtractedSignals\\210813_Pac 2021-08-13 10-37-27\\210813_Pac--013.D<br><b>batch: </b>210813_Pac 2021-08-13 10-37-27<br><b>batch_position: </b>13<br><b>idle_time: </b>278.0<br><b>sample: </b>0.025 mg/ml<br><b>method: </b>SAA_411_Pac.M<br><b>timestamp: </b>2021-08-13 11:35:04<br><b>detector: </b>G1315C<br><b>pump: </b>G7110B<br><b>start_time: </b>2021-08-13 11:35:38<br><b>end_time: </b>2021-08-13 11:39:38<br><b>runtime: </b>239.7000000000036",
          "<b>index: </b>96<br><b>name: </b>210813_Pac--014<br><b>path: </b>D:/ExtractedSignals\\210813_Pac 2021-08-13 10-37-27\\210813_Pac--014.D<br><b>batch: </b>210813_Pac 2021-08-13 10-37-27<br><b>batch_position: </b>14<br><b>idle_time: </b>279.0<br><b>sample: </b>Blank<br><b>method: </b>SAA_411_Pac.M<br><b>timestamp: </b>2021-08-13 11:39:43<br><b>detector: </b>G1315C<br><b>pump: </b>G7110B<br><b>start_time: </b>2021-08-13 11:40:16<br><b>end_time: </b>2021-08-13 11:44:17<br><b>runtime: </b>239.7000000000036"
         ],
         "legendgroup": "Train",
         "line": {
          "color": "black"
         },
         "marker": {
          "color": "black",
          "size": 10
         },
         "mode": "lines+markers",
         "name": "Train Scores",
         "text": [
          "<b>index: </b>17<br><b>name: </b>210812_Pac--005<br><b>path: </b>D:/ExtractedSignals\\210812_Pac 2021-08-12 10-30-07\\210812_Pac--005.D<br><b>batch: </b>210812_Pac 2021-08-12 10-30-07<br><b>batch_position: </b>5<br><b>idle_time: </b>279.0<br><b>sample: </b>NaCl 0,9%<br><b>method: </b>SAA_411_Pac.M<br><b>timestamp: </b>2021-08-12 10:50:23<br><b>detector: </b>G1315C<br><b>pump: </b>G7110B<br><b>start_time: </b>2021-08-12 10:50:57<br><b>end_time: </b>2021-08-12 10:54:57<br><b>runtime: </b>239.7000000000036",
          "<b>index: </b>18<br><b>name: </b>210812_Pac--006<br><b>path: </b>D:/ExtractedSignals\\210812_Pac 2021-08-12 10-30-07\\210812_Pac--006.D<br><b>batch: </b>210812_Pac 2021-08-12 10-30-07<br><b>batch_position: </b>6<br><b>idle_time: </b>279.0<br><b>sample: </b>Blank<br><b>method: </b>SAA_411_Pac.M<br><b>timestamp: </b>2021-08-12 10:55:02<br><b>detector: </b>G1315C<br><b>pump: </b>G7110B<br><b>start_time: </b>2021-08-12 10:55:36<br><b>end_time: </b>2021-08-12 10:59:36<br><b>runtime: </b>239.7000000000036",
          "<b>index: </b>19<br><b>name: </b>210812_Pac--007<br><b>path: </b>D:/ExtractedSignals\\210812_Pac 2021-08-12 10-30-07\\210812_Pac--007.D<br><b>batch: </b>210812_Pac 2021-08-12 10-30-07<br><b>batch_position: </b>7<br><b>idle_time: </b>279.0<br><b>sample: </b>0.025 mg/ml<br><b>method: </b>SAA_411_Pac.M<br><b>timestamp: </b>2021-08-12 10:59:41<br><b>detector: </b>G1315C<br><b>pump: </b>G7110B<br><b>start_time: </b>2021-08-12 11:00:15<br><b>end_time: </b>2021-08-12 11:04:15<br><b>runtime: </b>239.7000000000036",
          "<b>index: </b>20<br><b>name: </b>210812_Pac--008<br><b>path: </b>D:/ExtractedSignals\\210812_Pac 2021-08-12 10-30-07\\210812_Pac--008.D<br><b>batch: </b>210812_Pac 2021-08-12 10-30-07<br><b>batch_position: </b>8<br><b>idle_time: </b>279.0<br><b>sample: </b>Blank<br><b>method: </b>SAA_411_Pac.M<br><b>timestamp: </b>2021-08-12 11:04:20<br><b>detector: </b>G1315C<br><b>pump: </b>G7110B<br><b>start_time: </b>2021-08-12 11:04:54<br><b>end_time: </b>2021-08-12 11:08:54<br><b>runtime: </b>239.7000000000036",
          "<b>index: </b>21<br><b>name: </b>210812_Pac--009<br><b>path: </b>D:/ExtractedSignals\\210812_Pac 2021-08-12 10-30-07\\210812_Pac--009.D<br><b>batch: </b>210812_Pac 2021-08-12 10-30-07<br><b>batch_position: </b>9<br><b>idle_time: </b>279.0<br><b>sample: </b>210806/036 :10<br><b>method: </b>SAA_411_Pac.M<br><b>timestamp: </b>2021-08-12 11:08:59<br><b>detector: </b>G1315C<br><b>pump: </b>G7110B<br><b>start_time: </b>2021-08-12 11:09:32<br><b>end_time: </b>2021-08-12 11:13:32<br><b>runtime: </b>239.7000000000036",
          "<b>index: </b>22<br><b>name: </b>210812_Pac--010<br><b>path: </b>D:/ExtractedSignals\\210812_Pac 2021-08-12 10-30-07\\210812_Pac--010.D<br><b>batch: </b>210812_Pac 2021-08-12 10-30-07<br><b>batch_position: </b>10<br><b>idle_time: </b>278.0<br><b>sample: </b>210806/036 :10<br><b>method: </b>SAA_411_Pac.M<br><b>timestamp: </b>2021-08-12 11:13:37<br><b>detector: </b>G7110B<br><b>pump: </b>G7110B<br><b>start_time: </b>2021-08-12 11:14:11<br><b>end_time: </b>2021-08-12 11:18:11<br><b>runtime: </b>239.7000000000036",
          "<b>index: </b>23<br><b>name: </b>210812_Pac--011<br><b>path: </b>D:/ExtractedSignals\\210812_Pac 2021-08-12 10-30-07\\210812_Pac--011.D<br><b>batch: </b>210812_Pac 2021-08-12 10-30-07<br><b>batch_position: </b>11<br><b>idle_time: </b>279.0<br><b>sample: </b>210806/036 :10<br><b>method: </b>SAA_411_Pac.M<br><b>timestamp: </b>2021-08-12 11:18:16<br><b>detector: </b>G7110B<br><b>pump: </b>G7110B<br><b>start_time: </b>2021-08-12 11:18:50<br><b>end_time: </b>2021-08-12 11:22:50<br><b>runtime: </b>239.7000000000036",
          "<b>index: </b>24<br><b>name: </b>210812_Pac--012<br><b>path: </b>D:/ExtractedSignals\\210812_Pac 2021-08-12 10-30-07\\210812_Pac--012.D<br><b>batch: </b>210812_Pac 2021-08-12 10-30-07<br><b>batch_position: </b>12<br><b>idle_time: </b>279.0<br><b>sample: </b>Blank<br><b>method: </b>SAA_411_Pac.M<br><b>timestamp: </b>2021-08-12 11:22:55<br><b>detector: </b>G1315C<br><b>pump: </b>G7110B<br><b>start_time: </b>2021-08-12 11:23:29<br><b>end_time: </b>2021-08-12 11:27:29<br><b>runtime: </b>239.7000000000036",
          "<b>index: </b>25<br><b>name: </b>210812_Pac--013<br><b>path: </b>D:/ExtractedSignals\\210812_Pac 2021-08-12 10-30-07\\210812_Pac--013.D<br><b>batch: </b>210812_Pac 2021-08-12 10-30-07<br><b>batch_position: </b>13<br><b>idle_time: </b>279.0<br><b>sample: </b>0.025 mg/ml<br><b>method: </b>SAA_411_Pac.M<br><b>timestamp: </b>2021-08-12 11:27:34<br><b>detector: </b>G1315C<br><b>pump: </b>G7110B<br><b>start_time: </b>2021-08-12 11:28:08<br><b>end_time: </b>2021-08-12 11:32:08<br><b>runtime: </b>239.7000000000036",
          "<b>index: </b>26<br><b>name: </b>210812_Pac--014<br><b>path: </b>D:/ExtractedSignals\\210812_Pac 2021-08-12 10-30-07\\210812_Pac--014.D<br><b>batch: </b>210812_Pac 2021-08-12 10-30-07<br><b>batch_position: </b>14<br><b>idle_time: </b>279.0<br><b>sample: </b>Blank<br><b>method: </b>SAA_411_Pac.M<br><b>timestamp: </b>2021-08-12 11:32:13<br><b>detector: </b>G7110B<br><b>pump: </b>G7110B<br><b>start_time: </b>2021-08-12 11:32:46<br><b>end_time: </b>2021-08-12 11:36:47<br><b>runtime: </b>239.7000000000036",
          "<b>index: </b>85<br><b>name: </b>210813_Pac--003<br><b>path: </b>D:/ExtractedSignals\\210813_Pac 2021-08-13 10-37-27\\210813_Pac--003.D<br><b>batch: </b>210813_Pac 2021-08-13 10-37-27<br><b>batch_position: </b>3<br><b>idle_time: </b>278.0<br><b>sample: </b>Blank<br><b>method: </b>SAA_411_Pac.M<br><b>timestamp: </b>2021-08-13 10:48:34<br><b>detector: </b>G1315C<br><b>pump: </b>G7116B<br><b>start_time: </b>2021-08-13 10:49:08<br><b>end_time: </b>2021-08-13 10:53:08<br><b>runtime: </b>239.7000000000036",
          "<b>index: </b>86<br><b>name: </b>210813_Pac--004<br><b>path: </b>D:/ExtractedSignals\\210813_Pac 2021-08-13 10-37-27\\210813_Pac--004.D<br><b>batch: </b>210813_Pac 2021-08-13 10-37-27<br><b>batch_position: </b>4<br><b>idle_time: </b>279.0<br><b>sample: </b>Blank<br><b>method: </b>SAA_411_Pac.M<br><b>timestamp: </b>2021-08-13 10:53:13<br><b>detector: </b>G1315C<br><b>pump: </b>G7110B<br><b>start_time: </b>2021-08-13 10:53:47<br><b>end_time: </b>2021-08-13 10:57:47<br><b>runtime: </b>239.7000000000036",
          "<b>index: </b>87<br><b>name: </b>210813_Pac--005<br><b>path: </b>D:/ExtractedSignals\\210813_Pac 2021-08-13 10-37-27\\210813_Pac--005.D<br><b>batch: </b>210813_Pac 2021-08-13 10-37-27<br><b>batch_position: </b>5<br><b>idle_time: </b>279.0<br><b>sample: </b>NaCl 0,9%<br><b>method: </b>SAA_411_Pac.M<br><b>timestamp: </b>2021-08-13 10:57:52<br><b>detector: </b>G7110B<br><b>pump: </b>G7110B<br><b>start_time: </b>2021-08-13 10:58:26<br><b>end_time: </b>2021-08-13 11:02:27<br><b>runtime: </b>239.7000000000036",
          "<b>index: </b>88<br><b>name: </b>210813_Pac--006<br><b>path: </b>D:/ExtractedSignals\\210813_Pac 2021-08-13 10-37-27\\210813_Pac--006.D<br><b>batch: </b>210813_Pac 2021-08-13 10-37-27<br><b>batch_position: </b>6<br><b>idle_time: </b>279.0<br><b>sample: </b>Blank<br><b>method: </b>SAA_411_Pac.M<br><b>timestamp: </b>2021-08-13 11:02:31<br><b>detector: </b>G1315C<br><b>pump: </b>G7110B<br><b>start_time: </b>2021-08-13 11:03:05<br><b>end_time: </b>2021-08-13 11:07:06<br><b>runtime: </b>239.7000000000036",
          "<b>index: </b>89<br><b>name: </b>210813_Pac--007<br><b>path: </b>D:/ExtractedSignals\\210813_Pac 2021-08-13 10-37-27\\210813_Pac--007.D<br><b>batch: </b>210813_Pac 2021-08-13 10-37-27<br><b>batch_position: </b>7<br><b>idle_time: </b>279.0<br><b>sample: </b>0.025 mg/ml<br><b>method: </b>SAA_411_Pac.M<br><b>timestamp: </b>2021-08-13 11:07:10<br><b>detector: </b>G1315C<br><b>pump: </b>G7116B<br><b>start_time: </b>2021-08-13 11:07:44<br><b>end_time: </b>2021-08-13 11:11:45<br><b>runtime: </b>239.7000000000036",
          "<b>index: </b>90<br><b>name: </b>210813_Pac--008<br><b>path: </b>D:/ExtractedSignals\\210813_Pac 2021-08-13 10-37-27\\210813_Pac--008.D<br><b>batch: </b>210813_Pac 2021-08-13 10-37-27<br><b>batch_position: </b>8<br><b>idle_time: </b>279.0<br><b>sample: </b>Blank<br><b>method: </b>SAA_411_Pac.M<br><b>timestamp: </b>2021-08-13 11:11:49<br><b>detector: </b>G1315C<br><b>pump: </b>G7110B<br><b>start_time: </b>2021-08-13 11:12:23<br><b>end_time: </b>2021-08-13 11:16:23<br><b>runtime: </b>239.7000000000036",
          "<b>index: </b>91<br><b>name: </b>210813_Pac--009<br><b>path: </b>D:/ExtractedSignals\\210813_Pac 2021-08-13 10-37-27\\210813_Pac--009.D<br><b>batch: </b>210813_Pac 2021-08-13 10-37-27<br><b>batch_position: </b>9<br><b>idle_time: </b>279.0<br><b>sample: </b>210812/004 :20<br><b>method: </b>SAA_411_Pac.M<br><b>timestamp: </b>2021-08-13 11:16:28<br><b>detector: </b>G1315C<br><b>pump: </b>G7110B<br><b>start_time: </b>2021-08-13 11:17:02<br><b>end_time: </b>2021-08-13 11:21:03<br><b>runtime: </b>239.7000000000036",
          "<b>index: </b>92<br><b>name: </b>210813_Pac--010<br><b>path: </b>D:/ExtractedSignals\\210813_Pac 2021-08-13 10-37-27\\210813_Pac--010.D<br><b>batch: </b>210813_Pac 2021-08-13 10-37-27<br><b>batch_position: </b>10<br><b>idle_time: </b>280.0<br><b>sample: </b>210812/004 :20<br><b>method: </b>SAA_411_Pac.M<br><b>timestamp: </b>2021-08-13 11:21:08<br><b>detector: </b>G1315C<br><b>pump: </b>G7110B<br><b>start_time: </b>2021-08-13 11:21:41<br><b>end_time: </b>2021-08-13 11:25:42<br><b>runtime: </b>239.7000000000036",
          "<b>index: </b>93<br><b>name: </b>210813_Pac--011<br><b>path: </b>D:/ExtractedSignals\\210813_Pac 2021-08-13 10-37-27\\210813_Pac--011.D<br><b>batch: </b>210813_Pac 2021-08-13 10-37-27<br><b>batch_position: </b>11<br><b>idle_time: </b>278.0<br><b>sample: </b>210812/004 :20<br><b>method: </b>SAA_411_Pac.M<br><b>timestamp: </b>2021-08-13 11:25:46<br><b>detector: </b>G1315C<br><b>pump: </b>G7110B<br><b>start_time: </b>2021-08-13 11:26:21<br><b>end_time: </b>2021-08-13 11:30:21<br><b>runtime: </b>239.7000000000036",
          "<b>index: </b>94<br><b>name: </b>210813_Pac--012<br><b>path: </b>D:/ExtractedSignals\\210813_Pac 2021-08-13 10-37-27\\210813_Pac--012.D<br><b>batch: </b>210813_Pac 2021-08-13 10-37-27<br><b>batch_position: </b>12<br><b>idle_time: </b>280.0<br><b>sample: </b>Blank<br><b>method: </b>SAA_411_Pac.M<br><b>timestamp: </b>2021-08-13 11:30:26<br><b>detector: </b>G1315C<br><b>pump: </b>G7110B<br><b>start_time: </b>2021-08-13 11:30:59<br><b>end_time: </b>2021-08-13 11:34:59<br><b>runtime: </b>239.7000000000036",
          "<b>index: </b>95<br><b>name: </b>210813_Pac--013<br><b>path: </b>D:/ExtractedSignals\\210813_Pac 2021-08-13 10-37-27\\210813_Pac--013.D<br><b>batch: </b>210813_Pac 2021-08-13 10-37-27<br><b>batch_position: </b>13<br><b>idle_time: </b>278.0<br><b>sample: </b>0.025 mg/ml<br><b>method: </b>SAA_411_Pac.M<br><b>timestamp: </b>2021-08-13 11:35:04<br><b>detector: </b>G1315C<br><b>pump: </b>G7110B<br><b>start_time: </b>2021-08-13 11:35:38<br><b>end_time: </b>2021-08-13 11:39:38<br><b>runtime: </b>239.7000000000036",
          "<b>index: </b>96<br><b>name: </b>210813_Pac--014<br><b>path: </b>D:/ExtractedSignals\\210813_Pac 2021-08-13 10-37-27\\210813_Pac--014.D<br><b>batch: </b>210813_Pac 2021-08-13 10-37-27<br><b>batch_position: </b>14<br><b>idle_time: </b>279.0<br><b>sample: </b>Blank<br><b>method: </b>SAA_411_Pac.M<br><b>timestamp: </b>2021-08-13 11:39:43<br><b>detector: </b>G1315C<br><b>pump: </b>G7110B<br><b>start_time: </b>2021-08-13 11:40:16<br><b>end_time: </b>2021-08-13 11:44:17<br><b>runtime: </b>239.7000000000036"
         ],
         "type": "scatter",
         "x": [
          0,
          1,
          2,
          3,
          4,
          5,
          6,
          7,
          8,
          9,
          10,
          11,
          12,
          13,
          14,
          15,
          16,
          17,
          18,
          19,
          20,
          21
         ],
         "y": [
          0.11920414796855555,
          0.14004584119552432,
          0.14137115845852494,
          0.12064190494396854,
          0.12885533395746745,
          0.006356533008497589,
          0.1455747477627508,
          0.11813747532122526,
          0.13888883674985103,
          0.1626269375651775,
          0.09129847806387015,
          0.1603016891431578,
          0.15668008535173505,
          0.12382080374565824,
          -0.0016897113060563296,
          0.14455088941316396,
          0.11747618736803767,
          0.16088865975102268,
          0.11550655532518389,
          0.1566865626252414,
          0.15181269549894288,
          0.12570411830163775
         ]
        },
        {
         "legendgroup": "Threshold",
         "line": {
          "color": "red",
          "dash": "dash"
         },
         "mode": "lines",
         "name": "Threshold",
         "type": "scatter",
         "x": [
          0,
          21
         ],
         "y": [
          -0.003533322434700517,
          -0.003533322434700517
         ]
        },
        {
         "hovertemplate": [
          "<b>index: </b>27<br><b>name: </b>210812_Pac<br><b>path: </b>D:/ExtractedSignals\\210812_Pac 2021-08-12 10-30-07\\210812_Pac.D<br><b>batch: </b>210812_Pac 2021-08-12 10-30-07<br><b>batch_position: </b>1<br><b>idle_time: </b>173.0<br><b>sample: </b>Blank<br><b>method: </b>SAA_411_Pac.M<br><b>timestamp: </b>2021-08-12 10:30:12<br><b>detector: </b>G7110B<br><b>pump: </b>G7110B<br><b>start_time: </b>2021-08-12 10:32:20<br><b>end_time: </b>2021-08-12 10:36:21<br><b>runtime: </b>239.7000000000036",
          "<b>index: </b>14<br><b>name: </b>210812_Pac--002<br><b>path: </b>D:/ExtractedSignals\\210812_Pac 2021-08-12 10-30-07\\210812_Pac--002.D<br><b>batch: </b>210812_Pac 2021-08-12 10-30-07<br><b>batch_position: </b>2<br><b>idle_time: </b>374.0<br><b>sample: </b>Blank<br><b>method: </b>SAA_411_Pac.M<br><b>timestamp: </b>2021-08-12 10:36:26<br><b>detector: </b>G1315C<br><b>pump: </b>G7110B<br><b>start_time: </b>2021-08-12 10:37:00<br><b>end_time: </b>2021-08-12 10:41:00<br><b>runtime: </b>239.7000000000036",
          "<b>index: </b>15<br><b>name: </b>210812_Pac--003<br><b>path: </b>D:/ExtractedSignals\\210812_Pac 2021-08-12 10-30-07\\210812_Pac--003.D<br><b>batch: </b>210812_Pac 2021-08-12 10-30-07<br><b>batch_position: </b>3<br><b>idle_time: </b>279.0<br><b>sample: </b>Blank<br><b>method: </b>SAA_411_Pac.M<br><b>timestamp: </b>2021-08-12 10:41:05<br><b>detector: </b>G1315C<br><b>pump: </b>G7110B<br><b>start_time: </b>2021-08-12 10:41:39<br><b>end_time: </b>2021-08-12 10:45:39<br><b>runtime: </b>239.7000000000036",
          "<b>index: </b>16<br><b>name: </b>210812_Pac--004<br><b>path: </b>D:/ExtractedSignals\\210812_Pac 2021-08-12 10-30-07\\210812_Pac--004.D<br><b>batch: </b>210812_Pac 2021-08-12 10-30-07<br><b>batch_position: </b>4<br><b>idle_time: </b>279.0<br><b>sample: </b>Blank<br><b>method: </b>SAA_411_Pac.M<br><b>timestamp: </b>2021-08-12 10:45:44<br><b>detector: </b>G1315C<br><b>pump: </b>G7110B<br><b>start_time: </b>2021-08-12 10:46:18<br><b>end_time: </b>2021-08-12 10:50:18<br><b>runtime: </b>239.7000000000036"
         ],
         "legendgroup": "Prediction",
         "line": {
          "color": "red"
         },
         "marker": {
          "color": "red",
          "size": 10
         },
         "mode": "lines+markers",
         "name": "Prediction Scores",
         "text": [
          "<b>index: </b>27<br><b>name: </b>210812_Pac<br><b>path: </b>D:/ExtractedSignals\\210812_Pac 2021-08-12 10-30-07\\210812_Pac.D<br><b>batch: </b>210812_Pac 2021-08-12 10-30-07<br><b>batch_position: </b>1<br><b>idle_time: </b>173.0<br><b>sample: </b>Blank<br><b>method: </b>SAA_411_Pac.M<br><b>timestamp: </b>2021-08-12 10:30:12<br><b>detector: </b>G7110B<br><b>pump: </b>G7110B<br><b>start_time: </b>2021-08-12 10:32:20<br><b>end_time: </b>2021-08-12 10:36:21<br><b>runtime: </b>239.7000000000036",
          "<b>index: </b>14<br><b>name: </b>210812_Pac--002<br><b>path: </b>D:/ExtractedSignals\\210812_Pac 2021-08-12 10-30-07\\210812_Pac--002.D<br><b>batch: </b>210812_Pac 2021-08-12 10-30-07<br><b>batch_position: </b>2<br><b>idle_time: </b>374.0<br><b>sample: </b>Blank<br><b>method: </b>SAA_411_Pac.M<br><b>timestamp: </b>2021-08-12 10:36:26<br><b>detector: </b>G1315C<br><b>pump: </b>G7110B<br><b>start_time: </b>2021-08-12 10:37:00<br><b>end_time: </b>2021-08-12 10:41:00<br><b>runtime: </b>239.7000000000036",
          "<b>index: </b>15<br><b>name: </b>210812_Pac--003<br><b>path: </b>D:/ExtractedSignals\\210812_Pac 2021-08-12 10-30-07\\210812_Pac--003.D<br><b>batch: </b>210812_Pac 2021-08-12 10-30-07<br><b>batch_position: </b>3<br><b>idle_time: </b>279.0<br><b>sample: </b>Blank<br><b>method: </b>SAA_411_Pac.M<br><b>timestamp: </b>2021-08-12 10:41:05<br><b>detector: </b>G1315C<br><b>pump: </b>G7110B<br><b>start_time: </b>2021-08-12 10:41:39<br><b>end_time: </b>2021-08-12 10:45:39<br><b>runtime: </b>239.7000000000036",
          "<b>index: </b>16<br><b>name: </b>210812_Pac--004<br><b>path: </b>D:/ExtractedSignals\\210812_Pac 2021-08-12 10-30-07\\210812_Pac--004.D<br><b>batch: </b>210812_Pac 2021-08-12 10-30-07<br><b>batch_position: </b>4<br><b>idle_time: </b>279.0<br><b>sample: </b>Blank<br><b>method: </b>SAA_411_Pac.M<br><b>timestamp: </b>2021-08-12 10:45:44<br><b>detector: </b>G1315C<br><b>pump: </b>G7110B<br><b>start_time: </b>2021-08-12 10:46:18<br><b>end_time: </b>2021-08-12 10:50:18<br><b>runtime: </b>239.7000000000036"
         ],
         "type": "scatter",
         "x": [
          22,
          23,
          24,
          25
         ],
         "y": [
          -0.08205016242685803,
          -0.10313189432627923,
          -0.06841196817363404,
          -0.08921147738337487
         ]
        }
       ],
       "layout": {
        "legend": {
         "title": {
          "text": "Scores"
         }
        },
        "template": {
         "data": {
          "bar": [
           {
            "error_x": {
             "color": "rgb(36,36,36)"
            },
            "error_y": {
             "color": "rgb(36,36,36)"
            },
            "marker": {
             "line": {
              "color": "white",
              "width": 0.5
             },
             "pattern": {
              "fillmode": "overlay",
              "size": 10,
              "solidity": 0.2
             }
            },
            "type": "bar"
           }
          ],
          "barpolar": [
           {
            "marker": {
             "line": {
              "color": "white",
              "width": 0.5
             },
             "pattern": {
              "fillmode": "overlay",
              "size": 10,
              "solidity": 0.2
             }
            },
            "type": "barpolar"
           }
          ],
          "carpet": [
           {
            "aaxis": {
             "endlinecolor": "rgb(36,36,36)",
             "gridcolor": "white",
             "linecolor": "white",
             "minorgridcolor": "white",
             "startlinecolor": "rgb(36,36,36)"
            },
            "baxis": {
             "endlinecolor": "rgb(36,36,36)",
             "gridcolor": "white",
             "linecolor": "white",
             "minorgridcolor": "white",
             "startlinecolor": "rgb(36,36,36)"
            },
            "type": "carpet"
           }
          ],
          "choropleth": [
           {
            "colorbar": {
             "outlinewidth": 1,
             "tickcolor": "rgb(36,36,36)",
             "ticks": "outside"
            },
            "type": "choropleth"
           }
          ],
          "contour": [
           {
            "colorbar": {
             "outlinewidth": 1,
             "tickcolor": "rgb(36,36,36)",
             "ticks": "outside"
            },
            "colorscale": [
             [
              0,
              "#440154"
             ],
             [
              0.1111111111111111,
              "#482878"
             ],
             [
              0.2222222222222222,
              "#3e4989"
             ],
             [
              0.3333333333333333,
              "#31688e"
             ],
             [
              0.4444444444444444,
              "#26828e"
             ],
             [
              0.5555555555555556,
              "#1f9e89"
             ],
             [
              0.6666666666666666,
              "#35b779"
             ],
             [
              0.7777777777777778,
              "#6ece58"
             ],
             [
              0.8888888888888888,
              "#b5de2b"
             ],
             [
              1,
              "#fde725"
             ]
            ],
            "type": "contour"
           }
          ],
          "contourcarpet": [
           {
            "colorbar": {
             "outlinewidth": 1,
             "tickcolor": "rgb(36,36,36)",
             "ticks": "outside"
            },
            "type": "contourcarpet"
           }
          ],
          "heatmap": [
           {
            "colorbar": {
             "outlinewidth": 1,
             "tickcolor": "rgb(36,36,36)",
             "ticks": "outside"
            },
            "colorscale": [
             [
              0,
              "#440154"
             ],
             [
              0.1111111111111111,
              "#482878"
             ],
             [
              0.2222222222222222,
              "#3e4989"
             ],
             [
              0.3333333333333333,
              "#31688e"
             ],
             [
              0.4444444444444444,
              "#26828e"
             ],
             [
              0.5555555555555556,
              "#1f9e89"
             ],
             [
              0.6666666666666666,
              "#35b779"
             ],
             [
              0.7777777777777778,
              "#6ece58"
             ],
             [
              0.8888888888888888,
              "#b5de2b"
             ],
             [
              1,
              "#fde725"
             ]
            ],
            "type": "heatmap"
           }
          ],
          "heatmapgl": [
           {
            "colorbar": {
             "outlinewidth": 1,
             "tickcolor": "rgb(36,36,36)",
             "ticks": "outside"
            },
            "colorscale": [
             [
              0,
              "#440154"
             ],
             [
              0.1111111111111111,
              "#482878"
             ],
             [
              0.2222222222222222,
              "#3e4989"
             ],
             [
              0.3333333333333333,
              "#31688e"
             ],
             [
              0.4444444444444444,
              "#26828e"
             ],
             [
              0.5555555555555556,
              "#1f9e89"
             ],
             [
              0.6666666666666666,
              "#35b779"
             ],
             [
              0.7777777777777778,
              "#6ece58"
             ],
             [
              0.8888888888888888,
              "#b5de2b"
             ],
             [
              1,
              "#fde725"
             ]
            ],
            "type": "heatmapgl"
           }
          ],
          "histogram": [
           {
            "marker": {
             "line": {
              "color": "white",
              "width": 0.6
             }
            },
            "type": "histogram"
           }
          ],
          "histogram2d": [
           {
            "colorbar": {
             "outlinewidth": 1,
             "tickcolor": "rgb(36,36,36)",
             "ticks": "outside"
            },
            "colorscale": [
             [
              0,
              "#440154"
             ],
             [
              0.1111111111111111,
              "#482878"
             ],
             [
              0.2222222222222222,
              "#3e4989"
             ],
             [
              0.3333333333333333,
              "#31688e"
             ],
             [
              0.4444444444444444,
              "#26828e"
             ],
             [
              0.5555555555555556,
              "#1f9e89"
             ],
             [
              0.6666666666666666,
              "#35b779"
             ],
             [
              0.7777777777777778,
              "#6ece58"
             ],
             [
              0.8888888888888888,
              "#b5de2b"
             ],
             [
              1,
              "#fde725"
             ]
            ],
            "type": "histogram2d"
           }
          ],
          "histogram2dcontour": [
           {
            "colorbar": {
             "outlinewidth": 1,
             "tickcolor": "rgb(36,36,36)",
             "ticks": "outside"
            },
            "colorscale": [
             [
              0,
              "#440154"
             ],
             [
              0.1111111111111111,
              "#482878"
             ],
             [
              0.2222222222222222,
              "#3e4989"
             ],
             [
              0.3333333333333333,
              "#31688e"
             ],
             [
              0.4444444444444444,
              "#26828e"
             ],
             [
              0.5555555555555556,
              "#1f9e89"
             ],
             [
              0.6666666666666666,
              "#35b779"
             ],
             [
              0.7777777777777778,
              "#6ece58"
             ],
             [
              0.8888888888888888,
              "#b5de2b"
             ],
             [
              1,
              "#fde725"
             ]
            ],
            "type": "histogram2dcontour"
           }
          ],
          "mesh3d": [
           {
            "colorbar": {
             "outlinewidth": 1,
             "tickcolor": "rgb(36,36,36)",
             "ticks": "outside"
            },
            "type": "mesh3d"
           }
          ],
          "parcoords": [
           {
            "line": {
             "colorbar": {
              "outlinewidth": 1,
              "tickcolor": "rgb(36,36,36)",
              "ticks": "outside"
             }
            },
            "type": "parcoords"
           }
          ],
          "pie": [
           {
            "automargin": true,
            "type": "pie"
           }
          ],
          "scatter": [
           {
            "fillpattern": {
             "fillmode": "overlay",
             "size": 10,
             "solidity": 0.2
            },
            "type": "scatter"
           }
          ],
          "scatter3d": [
           {
            "line": {
             "colorbar": {
              "outlinewidth": 1,
              "tickcolor": "rgb(36,36,36)",
              "ticks": "outside"
             }
            },
            "marker": {
             "colorbar": {
              "outlinewidth": 1,
              "tickcolor": "rgb(36,36,36)",
              "ticks": "outside"
             }
            },
            "type": "scatter3d"
           }
          ],
          "scattercarpet": [
           {
            "marker": {
             "colorbar": {
              "outlinewidth": 1,
              "tickcolor": "rgb(36,36,36)",
              "ticks": "outside"
             }
            },
            "type": "scattercarpet"
           }
          ],
          "scattergeo": [
           {
            "marker": {
             "colorbar": {
              "outlinewidth": 1,
              "tickcolor": "rgb(36,36,36)",
              "ticks": "outside"
             }
            },
            "type": "scattergeo"
           }
          ],
          "scattergl": [
           {
            "marker": {
             "colorbar": {
              "outlinewidth": 1,
              "tickcolor": "rgb(36,36,36)",
              "ticks": "outside"
             }
            },
            "type": "scattergl"
           }
          ],
          "scattermapbox": [
           {
            "marker": {
             "colorbar": {
              "outlinewidth": 1,
              "tickcolor": "rgb(36,36,36)",
              "ticks": "outside"
             }
            },
            "type": "scattermapbox"
           }
          ],
          "scatterpolar": [
           {
            "marker": {
             "colorbar": {
              "outlinewidth": 1,
              "tickcolor": "rgb(36,36,36)",
              "ticks": "outside"
             }
            },
            "type": "scatterpolar"
           }
          ],
          "scatterpolargl": [
           {
            "marker": {
             "colorbar": {
              "outlinewidth": 1,
              "tickcolor": "rgb(36,36,36)",
              "ticks": "outside"
             }
            },
            "type": "scatterpolargl"
           }
          ],
          "scatterternary": [
           {
            "marker": {
             "colorbar": {
              "outlinewidth": 1,
              "tickcolor": "rgb(36,36,36)",
              "ticks": "outside"
             }
            },
            "type": "scatterternary"
           }
          ],
          "surface": [
           {
            "colorbar": {
             "outlinewidth": 1,
             "tickcolor": "rgb(36,36,36)",
             "ticks": "outside"
            },
            "colorscale": [
             [
              0,
              "#440154"
             ],
             [
              0.1111111111111111,
              "#482878"
             ],
             [
              0.2222222222222222,
              "#3e4989"
             ],
             [
              0.3333333333333333,
              "#31688e"
             ],
             [
              0.4444444444444444,
              "#26828e"
             ],
             [
              0.5555555555555556,
              "#1f9e89"
             ],
             [
              0.6666666666666666,
              "#35b779"
             ],
             [
              0.7777777777777778,
              "#6ece58"
             ],
             [
              0.8888888888888888,
              "#b5de2b"
             ],
             [
              1,
              "#fde725"
             ]
            ],
            "type": "surface"
           }
          ],
          "table": [
           {
            "cells": {
             "fill": {
              "color": "rgb(237,237,237)"
             },
             "line": {
              "color": "white"
             }
            },
            "header": {
             "fill": {
              "color": "rgb(217,217,217)"
             },
             "line": {
              "color": "white"
             }
            },
            "type": "table"
           }
          ]
         },
         "layout": {
          "annotationdefaults": {
           "arrowhead": 0,
           "arrowwidth": 1
          },
          "autotypenumbers": "strict",
          "coloraxis": {
           "colorbar": {
            "outlinewidth": 1,
            "tickcolor": "rgb(36,36,36)",
            "ticks": "outside"
           }
          },
          "colorscale": {
           "diverging": [
            [
             0,
             "rgb(103,0,31)"
            ],
            [
             0.1,
             "rgb(178,24,43)"
            ],
            [
             0.2,
             "rgb(214,96,77)"
            ],
            [
             0.3,
             "rgb(244,165,130)"
            ],
            [
             0.4,
             "rgb(253,219,199)"
            ],
            [
             0.5,
             "rgb(247,247,247)"
            ],
            [
             0.6,
             "rgb(209,229,240)"
            ],
            [
             0.7,
             "rgb(146,197,222)"
            ],
            [
             0.8,
             "rgb(67,147,195)"
            ],
            [
             0.9,
             "rgb(33,102,172)"
            ],
            [
             1,
             "rgb(5,48,97)"
            ]
           ],
           "sequential": [
            [
             0,
             "#440154"
            ],
            [
             0.1111111111111111,
             "#482878"
            ],
            [
             0.2222222222222222,
             "#3e4989"
            ],
            [
             0.3333333333333333,
             "#31688e"
            ],
            [
             0.4444444444444444,
             "#26828e"
            ],
            [
             0.5555555555555556,
             "#1f9e89"
            ],
            [
             0.6666666666666666,
             "#35b779"
            ],
            [
             0.7777777777777778,
             "#6ece58"
            ],
            [
             0.8888888888888888,
             "#b5de2b"
            ],
            [
             1,
             "#fde725"
            ]
           ],
           "sequentialminus": [
            [
             0,
             "#440154"
            ],
            [
             0.1111111111111111,
             "#482878"
            ],
            [
             0.2222222222222222,
             "#3e4989"
            ],
            [
             0.3333333333333333,
             "#31688e"
            ],
            [
             0.4444444444444444,
             "#26828e"
            ],
            [
             0.5555555555555556,
             "#1f9e89"
            ],
            [
             0.6666666666666666,
             "#35b779"
            ],
            [
             0.7777777777777778,
             "#6ece58"
            ],
            [
             0.8888888888888888,
             "#b5de2b"
            ],
            [
             1,
             "#fde725"
            ]
           ]
          },
          "colorway": [
           "#1F77B4",
           "#FF7F0E",
           "#2CA02C",
           "#D62728",
           "#9467BD",
           "#8C564B",
           "#E377C2",
           "#7F7F7F",
           "#BCBD22",
           "#17BECF"
          ],
          "font": {
           "color": "rgb(36,36,36)"
          },
          "geo": {
           "bgcolor": "white",
           "lakecolor": "white",
           "landcolor": "white",
           "showlakes": true,
           "showland": true,
           "subunitcolor": "white"
          },
          "hoverlabel": {
           "align": "left"
          },
          "hovermode": "closest",
          "mapbox": {
           "style": "light"
          },
          "paper_bgcolor": "white",
          "plot_bgcolor": "white",
          "polar": {
           "angularaxis": {
            "gridcolor": "rgb(232,232,232)",
            "linecolor": "rgb(36,36,36)",
            "showgrid": false,
            "showline": true,
            "ticks": "outside"
           },
           "bgcolor": "white",
           "radialaxis": {
            "gridcolor": "rgb(232,232,232)",
            "linecolor": "rgb(36,36,36)",
            "showgrid": false,
            "showline": true,
            "ticks": "outside"
           }
          },
          "scene": {
           "xaxis": {
            "backgroundcolor": "white",
            "gridcolor": "rgb(232,232,232)",
            "gridwidth": 2,
            "linecolor": "rgb(36,36,36)",
            "showbackground": true,
            "showgrid": false,
            "showline": true,
            "ticks": "outside",
            "zeroline": false,
            "zerolinecolor": "rgb(36,36,36)"
           },
           "yaxis": {
            "backgroundcolor": "white",
            "gridcolor": "rgb(232,232,232)",
            "gridwidth": 2,
            "linecolor": "rgb(36,36,36)",
            "showbackground": true,
            "showgrid": false,
            "showline": true,
            "ticks": "outside",
            "zeroline": false,
            "zerolinecolor": "rgb(36,36,36)"
           },
           "zaxis": {
            "backgroundcolor": "white",
            "gridcolor": "rgb(232,232,232)",
            "gridwidth": 2,
            "linecolor": "rgb(36,36,36)",
            "showbackground": true,
            "showgrid": false,
            "showline": true,
            "ticks": "outside",
            "zeroline": false,
            "zerolinecolor": "rgb(36,36,36)"
           }
          },
          "shapedefaults": {
           "fillcolor": "black",
           "line": {
            "width": 0
           },
           "opacity": 0.3
          },
          "ternary": {
           "aaxis": {
            "gridcolor": "rgb(232,232,232)",
            "linecolor": "rgb(36,36,36)",
            "showgrid": false,
            "showline": true,
            "ticks": "outside"
           },
           "baxis": {
            "gridcolor": "rgb(232,232,232)",
            "linecolor": "rgb(36,36,36)",
            "showgrid": false,
            "showline": true,
            "ticks": "outside"
           },
           "bgcolor": "white",
           "caxis": {
            "gridcolor": "rgb(232,232,232)",
            "linecolor": "rgb(36,36,36)",
            "showgrid": false,
            "showline": true,
            "ticks": "outside"
           }
          },
          "title": {
           "x": 0.05
          },
          "xaxis": {
           "automargin": true,
           "gridcolor": "rgb(232,232,232)",
           "linecolor": "rgb(36,36,36)",
           "showgrid": false,
           "showline": true,
           "ticks": "outside",
           "title": {
            "standoff": 15
           },
           "zeroline": false,
           "zerolinecolor": "rgb(36,36,36)"
          },
          "yaxis": {
           "automargin": true,
           "gridcolor": "rgb(232,232,232)",
           "linecolor": "rgb(36,36,36)",
           "showgrid": false,
           "showline": true,
           "ticks": "outside",
           "title": {
            "standoff": 15
           },
           "zeroline": false,
           "zerolinecolor": "rgb(36,36,36)"
          }
         }
        },
        "xaxis": {
         "title": {
          "text": "Analysis index"
         }
        },
        "yaxis": {
         "title": {
          "text": "Score / U.A."
         }
        }
       }
      }
     },
     "metadata": {},
     "output_type": "display_data"
    }
   ],
   "source": [
    "import numpy as np\n",
    "from src.StreamPort.machine_learning.methods import MachineLearningMethodIsolationForestSklearn\n",
    "\n",
    "iso = MachineLearningMethodIsolationForestSklearn(random_state = 30, contamination = 0.01)\n",
    "ana = iso.run(ana) #fits the model\n",
    "print(ana.__class__)\n",
    "\n",
    "test_data = pd.read_csv(\"test_features.csv\")\n",
    "test_metadata = pd.read_csv(\"test_metadata.csv\")\n",
    "ana.predict(test_data, test_metadata)\n",
    "\n",
    "ana.plot_scores()"
   ]
  },
  {
   "cell_type": "code",
   "execution_count": 3,
   "metadata": {},
   "outputs": [
    {
     "data": {
      "application/vnd.plotly.v1+json": {
       "config": {
        "plotlyServerURL": "https://plot.ly"
       },
       "data": [
        {
         "hovertemplate": [
          "<b>index: </b>17<br><b>name: </b>210812_Pac--005<br><b>path: </b>D:/ExtractedSignals\\210812_Pac 2021-08-12 10-30-07\\210812_Pac--005.D<br><b>batch: </b>210812_Pac 2021-08-12 10-30-07<br><b>batch_position: </b>5<br><b>idle_time: </b>279.0<br><b>sample: </b>NaCl 0,9%<br><b>method: </b>SAA_411_Pac.M<br><b>timestamp: </b>2021-08-12 10:50:23<br><b>detector: </b>G1315C<br><b>pump: </b>G7110B<br><b>start_time: </b>2021-08-12 10:50:57<br><b>end_time: </b>2021-08-12 10:54:57<br><b>runtime: </b>239.7000000000036",
          "<b>index: </b>18<br><b>name: </b>210812_Pac--006<br><b>path: </b>D:/ExtractedSignals\\210812_Pac 2021-08-12 10-30-07\\210812_Pac--006.D<br><b>batch: </b>210812_Pac 2021-08-12 10-30-07<br><b>batch_position: </b>6<br><b>idle_time: </b>279.0<br><b>sample: </b>Blank<br><b>method: </b>SAA_411_Pac.M<br><b>timestamp: </b>2021-08-12 10:55:02<br><b>detector: </b>G1315C<br><b>pump: </b>G7110B<br><b>start_time: </b>2021-08-12 10:55:36<br><b>end_time: </b>2021-08-12 10:59:36<br><b>runtime: </b>239.7000000000036",
          "<b>index: </b>19<br><b>name: </b>210812_Pac--007<br><b>path: </b>D:/ExtractedSignals\\210812_Pac 2021-08-12 10-30-07\\210812_Pac--007.D<br><b>batch: </b>210812_Pac 2021-08-12 10-30-07<br><b>batch_position: </b>7<br><b>idle_time: </b>279.0<br><b>sample: </b>0.025 mg/ml<br><b>method: </b>SAA_411_Pac.M<br><b>timestamp: </b>2021-08-12 10:59:41<br><b>detector: </b>G1315C<br><b>pump: </b>G7110B<br><b>start_time: </b>2021-08-12 11:00:15<br><b>end_time: </b>2021-08-12 11:04:15<br><b>runtime: </b>239.7000000000036",
          "<b>index: </b>20<br><b>name: </b>210812_Pac--008<br><b>path: </b>D:/ExtractedSignals\\210812_Pac 2021-08-12 10-30-07\\210812_Pac--008.D<br><b>batch: </b>210812_Pac 2021-08-12 10-30-07<br><b>batch_position: </b>8<br><b>idle_time: </b>279.0<br><b>sample: </b>Blank<br><b>method: </b>SAA_411_Pac.M<br><b>timestamp: </b>2021-08-12 11:04:20<br><b>detector: </b>G1315C<br><b>pump: </b>G7110B<br><b>start_time: </b>2021-08-12 11:04:54<br><b>end_time: </b>2021-08-12 11:08:54<br><b>runtime: </b>239.7000000000036",
          "<b>index: </b>21<br><b>name: </b>210812_Pac--009<br><b>path: </b>D:/ExtractedSignals\\210812_Pac 2021-08-12 10-30-07\\210812_Pac--009.D<br><b>batch: </b>210812_Pac 2021-08-12 10-30-07<br><b>batch_position: </b>9<br><b>idle_time: </b>279.0<br><b>sample: </b>210806/036 :10<br><b>method: </b>SAA_411_Pac.M<br><b>timestamp: </b>2021-08-12 11:08:59<br><b>detector: </b>G1315C<br><b>pump: </b>G7110B<br><b>start_time: </b>2021-08-12 11:09:32<br><b>end_time: </b>2021-08-12 11:13:32<br><b>runtime: </b>239.7000000000036",
          "<b>index: </b>22<br><b>name: </b>210812_Pac--010<br><b>path: </b>D:/ExtractedSignals\\210812_Pac 2021-08-12 10-30-07\\210812_Pac--010.D<br><b>batch: </b>210812_Pac 2021-08-12 10-30-07<br><b>batch_position: </b>10<br><b>idle_time: </b>278.0<br><b>sample: </b>210806/036 :10<br><b>method: </b>SAA_411_Pac.M<br><b>timestamp: </b>2021-08-12 11:13:37<br><b>detector: </b>G7110B<br><b>pump: </b>G7110B<br><b>start_time: </b>2021-08-12 11:14:11<br><b>end_time: </b>2021-08-12 11:18:11<br><b>runtime: </b>239.7000000000036",
          "<b>index: </b>23<br><b>name: </b>210812_Pac--011<br><b>path: </b>D:/ExtractedSignals\\210812_Pac 2021-08-12 10-30-07\\210812_Pac--011.D<br><b>batch: </b>210812_Pac 2021-08-12 10-30-07<br><b>batch_position: </b>11<br><b>idle_time: </b>279.0<br><b>sample: </b>210806/036 :10<br><b>method: </b>SAA_411_Pac.M<br><b>timestamp: </b>2021-08-12 11:18:16<br><b>detector: </b>G7110B<br><b>pump: </b>G7110B<br><b>start_time: </b>2021-08-12 11:18:50<br><b>end_time: </b>2021-08-12 11:22:50<br><b>runtime: </b>239.7000000000036",
          "<b>index: </b>24<br><b>name: </b>210812_Pac--012<br><b>path: </b>D:/ExtractedSignals\\210812_Pac 2021-08-12 10-30-07\\210812_Pac--012.D<br><b>batch: </b>210812_Pac 2021-08-12 10-30-07<br><b>batch_position: </b>12<br><b>idle_time: </b>279.0<br><b>sample: </b>Blank<br><b>method: </b>SAA_411_Pac.M<br><b>timestamp: </b>2021-08-12 11:22:55<br><b>detector: </b>G1315C<br><b>pump: </b>G7110B<br><b>start_time: </b>2021-08-12 11:23:29<br><b>end_time: </b>2021-08-12 11:27:29<br><b>runtime: </b>239.7000000000036",
          "<b>index: </b>25<br><b>name: </b>210812_Pac--013<br><b>path: </b>D:/ExtractedSignals\\210812_Pac 2021-08-12 10-30-07\\210812_Pac--013.D<br><b>batch: </b>210812_Pac 2021-08-12 10-30-07<br><b>batch_position: </b>13<br><b>idle_time: </b>279.0<br><b>sample: </b>0.025 mg/ml<br><b>method: </b>SAA_411_Pac.M<br><b>timestamp: </b>2021-08-12 11:27:34<br><b>detector: </b>G1315C<br><b>pump: </b>G7110B<br><b>start_time: </b>2021-08-12 11:28:08<br><b>end_time: </b>2021-08-12 11:32:08<br><b>runtime: </b>239.7000000000036",
          "<b>index: </b>26<br><b>name: </b>210812_Pac--014<br><b>path: </b>D:/ExtractedSignals\\210812_Pac 2021-08-12 10-30-07\\210812_Pac--014.D<br><b>batch: </b>210812_Pac 2021-08-12 10-30-07<br><b>batch_position: </b>14<br><b>idle_time: </b>279.0<br><b>sample: </b>Blank<br><b>method: </b>SAA_411_Pac.M<br><b>timestamp: </b>2021-08-12 11:32:13<br><b>detector: </b>G7110B<br><b>pump: </b>G7110B<br><b>start_time: </b>2021-08-12 11:32:46<br><b>end_time: </b>2021-08-12 11:36:47<br><b>runtime: </b>239.7000000000036",
          "<b>index: </b>85<br><b>name: </b>210813_Pac--003<br><b>path: </b>D:/ExtractedSignals\\210813_Pac 2021-08-13 10-37-27\\210813_Pac--003.D<br><b>batch: </b>210813_Pac 2021-08-13 10-37-27<br><b>batch_position: </b>3<br><b>idle_time: </b>278.0<br><b>sample: </b>Blank<br><b>method: </b>SAA_411_Pac.M<br><b>timestamp: </b>2021-08-13 10:48:34<br><b>detector: </b>G1315C<br><b>pump: </b>G7116B<br><b>start_time: </b>2021-08-13 10:49:08<br><b>end_time: </b>2021-08-13 10:53:08<br><b>runtime: </b>239.7000000000036",
          "<b>index: </b>86<br><b>name: </b>210813_Pac--004<br><b>path: </b>D:/ExtractedSignals\\210813_Pac 2021-08-13 10-37-27\\210813_Pac--004.D<br><b>batch: </b>210813_Pac 2021-08-13 10-37-27<br><b>batch_position: </b>4<br><b>idle_time: </b>279.0<br><b>sample: </b>Blank<br><b>method: </b>SAA_411_Pac.M<br><b>timestamp: </b>2021-08-13 10:53:13<br><b>detector: </b>G1315C<br><b>pump: </b>G7110B<br><b>start_time: </b>2021-08-13 10:53:47<br><b>end_time: </b>2021-08-13 10:57:47<br><b>runtime: </b>239.7000000000036",
          "<b>index: </b>87<br><b>name: </b>210813_Pac--005<br><b>path: </b>D:/ExtractedSignals\\210813_Pac 2021-08-13 10-37-27\\210813_Pac--005.D<br><b>batch: </b>210813_Pac 2021-08-13 10-37-27<br><b>batch_position: </b>5<br><b>idle_time: </b>279.0<br><b>sample: </b>NaCl 0,9%<br><b>method: </b>SAA_411_Pac.M<br><b>timestamp: </b>2021-08-13 10:57:52<br><b>detector: </b>G7110B<br><b>pump: </b>G7110B<br><b>start_time: </b>2021-08-13 10:58:26<br><b>end_time: </b>2021-08-13 11:02:27<br><b>runtime: </b>239.7000000000036",
          "<b>index: </b>88<br><b>name: </b>210813_Pac--006<br><b>path: </b>D:/ExtractedSignals\\210813_Pac 2021-08-13 10-37-27\\210813_Pac--006.D<br><b>batch: </b>210813_Pac 2021-08-13 10-37-27<br><b>batch_position: </b>6<br><b>idle_time: </b>279.0<br><b>sample: </b>Blank<br><b>method: </b>SAA_411_Pac.M<br><b>timestamp: </b>2021-08-13 11:02:31<br><b>detector: </b>G1315C<br><b>pump: </b>G7110B<br><b>start_time: </b>2021-08-13 11:03:05<br><b>end_time: </b>2021-08-13 11:07:06<br><b>runtime: </b>239.7000000000036",
          "<b>index: </b>89<br><b>name: </b>210813_Pac--007<br><b>path: </b>D:/ExtractedSignals\\210813_Pac 2021-08-13 10-37-27\\210813_Pac--007.D<br><b>batch: </b>210813_Pac 2021-08-13 10-37-27<br><b>batch_position: </b>7<br><b>idle_time: </b>279.0<br><b>sample: </b>0.025 mg/ml<br><b>method: </b>SAA_411_Pac.M<br><b>timestamp: </b>2021-08-13 11:07:10<br><b>detector: </b>G1315C<br><b>pump: </b>G7116B<br><b>start_time: </b>2021-08-13 11:07:44<br><b>end_time: </b>2021-08-13 11:11:45<br><b>runtime: </b>239.7000000000036",
          "<b>index: </b>90<br><b>name: </b>210813_Pac--008<br><b>path: </b>D:/ExtractedSignals\\210813_Pac 2021-08-13 10-37-27\\210813_Pac--008.D<br><b>batch: </b>210813_Pac 2021-08-13 10-37-27<br><b>batch_position: </b>8<br><b>idle_time: </b>279.0<br><b>sample: </b>Blank<br><b>method: </b>SAA_411_Pac.M<br><b>timestamp: </b>2021-08-13 11:11:49<br><b>detector: </b>G1315C<br><b>pump: </b>G7110B<br><b>start_time: </b>2021-08-13 11:12:23<br><b>end_time: </b>2021-08-13 11:16:23<br><b>runtime: </b>239.7000000000036",
          "<b>index: </b>91<br><b>name: </b>210813_Pac--009<br><b>path: </b>D:/ExtractedSignals\\210813_Pac 2021-08-13 10-37-27\\210813_Pac--009.D<br><b>batch: </b>210813_Pac 2021-08-13 10-37-27<br><b>batch_position: </b>9<br><b>idle_time: </b>279.0<br><b>sample: </b>210812/004 :20<br><b>method: </b>SAA_411_Pac.M<br><b>timestamp: </b>2021-08-13 11:16:28<br><b>detector: </b>G1315C<br><b>pump: </b>G7110B<br><b>start_time: </b>2021-08-13 11:17:02<br><b>end_time: </b>2021-08-13 11:21:03<br><b>runtime: </b>239.7000000000036",
          "<b>index: </b>92<br><b>name: </b>210813_Pac--010<br><b>path: </b>D:/ExtractedSignals\\210813_Pac 2021-08-13 10-37-27\\210813_Pac--010.D<br><b>batch: </b>210813_Pac 2021-08-13 10-37-27<br><b>batch_position: </b>10<br><b>idle_time: </b>280.0<br><b>sample: </b>210812/004 :20<br><b>method: </b>SAA_411_Pac.M<br><b>timestamp: </b>2021-08-13 11:21:08<br><b>detector: </b>G1315C<br><b>pump: </b>G7110B<br><b>start_time: </b>2021-08-13 11:21:41<br><b>end_time: </b>2021-08-13 11:25:42<br><b>runtime: </b>239.7000000000036",
          "<b>index: </b>93<br><b>name: </b>210813_Pac--011<br><b>path: </b>D:/ExtractedSignals\\210813_Pac 2021-08-13 10-37-27\\210813_Pac--011.D<br><b>batch: </b>210813_Pac 2021-08-13 10-37-27<br><b>batch_position: </b>11<br><b>idle_time: </b>278.0<br><b>sample: </b>210812/004 :20<br><b>method: </b>SAA_411_Pac.M<br><b>timestamp: </b>2021-08-13 11:25:46<br><b>detector: </b>G1315C<br><b>pump: </b>G7110B<br><b>start_time: </b>2021-08-13 11:26:21<br><b>end_time: </b>2021-08-13 11:30:21<br><b>runtime: </b>239.7000000000036",
          "<b>index: </b>94<br><b>name: </b>210813_Pac--012<br><b>path: </b>D:/ExtractedSignals\\210813_Pac 2021-08-13 10-37-27\\210813_Pac--012.D<br><b>batch: </b>210813_Pac 2021-08-13 10-37-27<br><b>batch_position: </b>12<br><b>idle_time: </b>280.0<br><b>sample: </b>Blank<br><b>method: </b>SAA_411_Pac.M<br><b>timestamp: </b>2021-08-13 11:30:26<br><b>detector: </b>G1315C<br><b>pump: </b>G7110B<br><b>start_time: </b>2021-08-13 11:30:59<br><b>end_time: </b>2021-08-13 11:34:59<br><b>runtime: </b>239.7000000000036",
          "<b>index: </b>95<br><b>name: </b>210813_Pac--013<br><b>path: </b>D:/ExtractedSignals\\210813_Pac 2021-08-13 10-37-27\\210813_Pac--013.D<br><b>batch: </b>210813_Pac 2021-08-13 10-37-27<br><b>batch_position: </b>13<br><b>idle_time: </b>278.0<br><b>sample: </b>0.025 mg/ml<br><b>method: </b>SAA_411_Pac.M<br><b>timestamp: </b>2021-08-13 11:35:04<br><b>detector: </b>G1315C<br><b>pump: </b>G7110B<br><b>start_time: </b>2021-08-13 11:35:38<br><b>end_time: </b>2021-08-13 11:39:38<br><b>runtime: </b>239.7000000000036",
          "<b>index: </b>96<br><b>name: </b>210813_Pac--014<br><b>path: </b>D:/ExtractedSignals\\210813_Pac 2021-08-13 10-37-27\\210813_Pac--014.D<br><b>batch: </b>210813_Pac 2021-08-13 10-37-27<br><b>batch_position: </b>14<br><b>idle_time: </b>279.0<br><b>sample: </b>Blank<br><b>method: </b>SAA_411_Pac.M<br><b>timestamp: </b>2021-08-13 11:39:43<br><b>detector: </b>G1315C<br><b>pump: </b>G7110B<br><b>start_time: </b>2021-08-13 11:40:16<br><b>end_time: </b>2021-08-13 11:44:17<br><b>runtime: </b>239.7000000000036"
         ],
         "legendgroup": "Train",
         "line": {
          "color": "black"
         },
         "marker": {
          "color": "black",
          "size": 10
         },
         "mode": "lines+markers",
         "name": "Train Scores",
         "text": [
          "<b>index: </b>17<br><b>name: </b>210812_Pac--005<br><b>path: </b>D:/ExtractedSignals\\210812_Pac 2021-08-12 10-30-07\\210812_Pac--005.D<br><b>batch: </b>210812_Pac 2021-08-12 10-30-07<br><b>batch_position: </b>5<br><b>idle_time: </b>279.0<br><b>sample: </b>NaCl 0,9%<br><b>method: </b>SAA_411_Pac.M<br><b>timestamp: </b>2021-08-12 10:50:23<br><b>detector: </b>G1315C<br><b>pump: </b>G7110B<br><b>start_time: </b>2021-08-12 10:50:57<br><b>end_time: </b>2021-08-12 10:54:57<br><b>runtime: </b>239.7000000000036",
          "<b>index: </b>18<br><b>name: </b>210812_Pac--006<br><b>path: </b>D:/ExtractedSignals\\210812_Pac 2021-08-12 10-30-07\\210812_Pac--006.D<br><b>batch: </b>210812_Pac 2021-08-12 10-30-07<br><b>batch_position: </b>6<br><b>idle_time: </b>279.0<br><b>sample: </b>Blank<br><b>method: </b>SAA_411_Pac.M<br><b>timestamp: </b>2021-08-12 10:55:02<br><b>detector: </b>G1315C<br><b>pump: </b>G7110B<br><b>start_time: </b>2021-08-12 10:55:36<br><b>end_time: </b>2021-08-12 10:59:36<br><b>runtime: </b>239.7000000000036",
          "<b>index: </b>19<br><b>name: </b>210812_Pac--007<br><b>path: </b>D:/ExtractedSignals\\210812_Pac 2021-08-12 10-30-07\\210812_Pac--007.D<br><b>batch: </b>210812_Pac 2021-08-12 10-30-07<br><b>batch_position: </b>7<br><b>idle_time: </b>279.0<br><b>sample: </b>0.025 mg/ml<br><b>method: </b>SAA_411_Pac.M<br><b>timestamp: </b>2021-08-12 10:59:41<br><b>detector: </b>G1315C<br><b>pump: </b>G7110B<br><b>start_time: </b>2021-08-12 11:00:15<br><b>end_time: </b>2021-08-12 11:04:15<br><b>runtime: </b>239.7000000000036",
          "<b>index: </b>20<br><b>name: </b>210812_Pac--008<br><b>path: </b>D:/ExtractedSignals\\210812_Pac 2021-08-12 10-30-07\\210812_Pac--008.D<br><b>batch: </b>210812_Pac 2021-08-12 10-30-07<br><b>batch_position: </b>8<br><b>idle_time: </b>279.0<br><b>sample: </b>Blank<br><b>method: </b>SAA_411_Pac.M<br><b>timestamp: </b>2021-08-12 11:04:20<br><b>detector: </b>G1315C<br><b>pump: </b>G7110B<br><b>start_time: </b>2021-08-12 11:04:54<br><b>end_time: </b>2021-08-12 11:08:54<br><b>runtime: </b>239.7000000000036",
          "<b>index: </b>21<br><b>name: </b>210812_Pac--009<br><b>path: </b>D:/ExtractedSignals\\210812_Pac 2021-08-12 10-30-07\\210812_Pac--009.D<br><b>batch: </b>210812_Pac 2021-08-12 10-30-07<br><b>batch_position: </b>9<br><b>idle_time: </b>279.0<br><b>sample: </b>210806/036 :10<br><b>method: </b>SAA_411_Pac.M<br><b>timestamp: </b>2021-08-12 11:08:59<br><b>detector: </b>G1315C<br><b>pump: </b>G7110B<br><b>start_time: </b>2021-08-12 11:09:32<br><b>end_time: </b>2021-08-12 11:13:32<br><b>runtime: </b>239.7000000000036",
          "<b>index: </b>22<br><b>name: </b>210812_Pac--010<br><b>path: </b>D:/ExtractedSignals\\210812_Pac 2021-08-12 10-30-07\\210812_Pac--010.D<br><b>batch: </b>210812_Pac 2021-08-12 10-30-07<br><b>batch_position: </b>10<br><b>idle_time: </b>278.0<br><b>sample: </b>210806/036 :10<br><b>method: </b>SAA_411_Pac.M<br><b>timestamp: </b>2021-08-12 11:13:37<br><b>detector: </b>G7110B<br><b>pump: </b>G7110B<br><b>start_time: </b>2021-08-12 11:14:11<br><b>end_time: </b>2021-08-12 11:18:11<br><b>runtime: </b>239.7000000000036",
          "<b>index: </b>23<br><b>name: </b>210812_Pac--011<br><b>path: </b>D:/ExtractedSignals\\210812_Pac 2021-08-12 10-30-07\\210812_Pac--011.D<br><b>batch: </b>210812_Pac 2021-08-12 10-30-07<br><b>batch_position: </b>11<br><b>idle_time: </b>279.0<br><b>sample: </b>210806/036 :10<br><b>method: </b>SAA_411_Pac.M<br><b>timestamp: </b>2021-08-12 11:18:16<br><b>detector: </b>G7110B<br><b>pump: </b>G7110B<br><b>start_time: </b>2021-08-12 11:18:50<br><b>end_time: </b>2021-08-12 11:22:50<br><b>runtime: </b>239.7000000000036",
          "<b>index: </b>24<br><b>name: </b>210812_Pac--012<br><b>path: </b>D:/ExtractedSignals\\210812_Pac 2021-08-12 10-30-07\\210812_Pac--012.D<br><b>batch: </b>210812_Pac 2021-08-12 10-30-07<br><b>batch_position: </b>12<br><b>idle_time: </b>279.0<br><b>sample: </b>Blank<br><b>method: </b>SAA_411_Pac.M<br><b>timestamp: </b>2021-08-12 11:22:55<br><b>detector: </b>G1315C<br><b>pump: </b>G7110B<br><b>start_time: </b>2021-08-12 11:23:29<br><b>end_time: </b>2021-08-12 11:27:29<br><b>runtime: </b>239.7000000000036",
          "<b>index: </b>25<br><b>name: </b>210812_Pac--013<br><b>path: </b>D:/ExtractedSignals\\210812_Pac 2021-08-12 10-30-07\\210812_Pac--013.D<br><b>batch: </b>210812_Pac 2021-08-12 10-30-07<br><b>batch_position: </b>13<br><b>idle_time: </b>279.0<br><b>sample: </b>0.025 mg/ml<br><b>method: </b>SAA_411_Pac.M<br><b>timestamp: </b>2021-08-12 11:27:34<br><b>detector: </b>G1315C<br><b>pump: </b>G7110B<br><b>start_time: </b>2021-08-12 11:28:08<br><b>end_time: </b>2021-08-12 11:32:08<br><b>runtime: </b>239.7000000000036",
          "<b>index: </b>26<br><b>name: </b>210812_Pac--014<br><b>path: </b>D:/ExtractedSignals\\210812_Pac 2021-08-12 10-30-07\\210812_Pac--014.D<br><b>batch: </b>210812_Pac 2021-08-12 10-30-07<br><b>batch_position: </b>14<br><b>idle_time: </b>279.0<br><b>sample: </b>Blank<br><b>method: </b>SAA_411_Pac.M<br><b>timestamp: </b>2021-08-12 11:32:13<br><b>detector: </b>G7110B<br><b>pump: </b>G7110B<br><b>start_time: </b>2021-08-12 11:32:46<br><b>end_time: </b>2021-08-12 11:36:47<br><b>runtime: </b>239.7000000000036",
          "<b>index: </b>85<br><b>name: </b>210813_Pac--003<br><b>path: </b>D:/ExtractedSignals\\210813_Pac 2021-08-13 10-37-27\\210813_Pac--003.D<br><b>batch: </b>210813_Pac 2021-08-13 10-37-27<br><b>batch_position: </b>3<br><b>idle_time: </b>278.0<br><b>sample: </b>Blank<br><b>method: </b>SAA_411_Pac.M<br><b>timestamp: </b>2021-08-13 10:48:34<br><b>detector: </b>G1315C<br><b>pump: </b>G7116B<br><b>start_time: </b>2021-08-13 10:49:08<br><b>end_time: </b>2021-08-13 10:53:08<br><b>runtime: </b>239.7000000000036",
          "<b>index: </b>86<br><b>name: </b>210813_Pac--004<br><b>path: </b>D:/ExtractedSignals\\210813_Pac 2021-08-13 10-37-27\\210813_Pac--004.D<br><b>batch: </b>210813_Pac 2021-08-13 10-37-27<br><b>batch_position: </b>4<br><b>idle_time: </b>279.0<br><b>sample: </b>Blank<br><b>method: </b>SAA_411_Pac.M<br><b>timestamp: </b>2021-08-13 10:53:13<br><b>detector: </b>G1315C<br><b>pump: </b>G7110B<br><b>start_time: </b>2021-08-13 10:53:47<br><b>end_time: </b>2021-08-13 10:57:47<br><b>runtime: </b>239.7000000000036",
          "<b>index: </b>87<br><b>name: </b>210813_Pac--005<br><b>path: </b>D:/ExtractedSignals\\210813_Pac 2021-08-13 10-37-27\\210813_Pac--005.D<br><b>batch: </b>210813_Pac 2021-08-13 10-37-27<br><b>batch_position: </b>5<br><b>idle_time: </b>279.0<br><b>sample: </b>NaCl 0,9%<br><b>method: </b>SAA_411_Pac.M<br><b>timestamp: </b>2021-08-13 10:57:52<br><b>detector: </b>G7110B<br><b>pump: </b>G7110B<br><b>start_time: </b>2021-08-13 10:58:26<br><b>end_time: </b>2021-08-13 11:02:27<br><b>runtime: </b>239.7000000000036",
          "<b>index: </b>88<br><b>name: </b>210813_Pac--006<br><b>path: </b>D:/ExtractedSignals\\210813_Pac 2021-08-13 10-37-27\\210813_Pac--006.D<br><b>batch: </b>210813_Pac 2021-08-13 10-37-27<br><b>batch_position: </b>6<br><b>idle_time: </b>279.0<br><b>sample: </b>Blank<br><b>method: </b>SAA_411_Pac.M<br><b>timestamp: </b>2021-08-13 11:02:31<br><b>detector: </b>G1315C<br><b>pump: </b>G7110B<br><b>start_time: </b>2021-08-13 11:03:05<br><b>end_time: </b>2021-08-13 11:07:06<br><b>runtime: </b>239.7000000000036",
          "<b>index: </b>89<br><b>name: </b>210813_Pac--007<br><b>path: </b>D:/ExtractedSignals\\210813_Pac 2021-08-13 10-37-27\\210813_Pac--007.D<br><b>batch: </b>210813_Pac 2021-08-13 10-37-27<br><b>batch_position: </b>7<br><b>idle_time: </b>279.0<br><b>sample: </b>0.025 mg/ml<br><b>method: </b>SAA_411_Pac.M<br><b>timestamp: </b>2021-08-13 11:07:10<br><b>detector: </b>G1315C<br><b>pump: </b>G7116B<br><b>start_time: </b>2021-08-13 11:07:44<br><b>end_time: </b>2021-08-13 11:11:45<br><b>runtime: </b>239.7000000000036",
          "<b>index: </b>90<br><b>name: </b>210813_Pac--008<br><b>path: </b>D:/ExtractedSignals\\210813_Pac 2021-08-13 10-37-27\\210813_Pac--008.D<br><b>batch: </b>210813_Pac 2021-08-13 10-37-27<br><b>batch_position: </b>8<br><b>idle_time: </b>279.0<br><b>sample: </b>Blank<br><b>method: </b>SAA_411_Pac.M<br><b>timestamp: </b>2021-08-13 11:11:49<br><b>detector: </b>G1315C<br><b>pump: </b>G7110B<br><b>start_time: </b>2021-08-13 11:12:23<br><b>end_time: </b>2021-08-13 11:16:23<br><b>runtime: </b>239.7000000000036",
          "<b>index: </b>91<br><b>name: </b>210813_Pac--009<br><b>path: </b>D:/ExtractedSignals\\210813_Pac 2021-08-13 10-37-27\\210813_Pac--009.D<br><b>batch: </b>210813_Pac 2021-08-13 10-37-27<br><b>batch_position: </b>9<br><b>idle_time: </b>279.0<br><b>sample: </b>210812/004 :20<br><b>method: </b>SAA_411_Pac.M<br><b>timestamp: </b>2021-08-13 11:16:28<br><b>detector: </b>G1315C<br><b>pump: </b>G7110B<br><b>start_time: </b>2021-08-13 11:17:02<br><b>end_time: </b>2021-08-13 11:21:03<br><b>runtime: </b>239.7000000000036",
          "<b>index: </b>92<br><b>name: </b>210813_Pac--010<br><b>path: </b>D:/ExtractedSignals\\210813_Pac 2021-08-13 10-37-27\\210813_Pac--010.D<br><b>batch: </b>210813_Pac 2021-08-13 10-37-27<br><b>batch_position: </b>10<br><b>idle_time: </b>280.0<br><b>sample: </b>210812/004 :20<br><b>method: </b>SAA_411_Pac.M<br><b>timestamp: </b>2021-08-13 11:21:08<br><b>detector: </b>G1315C<br><b>pump: </b>G7110B<br><b>start_time: </b>2021-08-13 11:21:41<br><b>end_time: </b>2021-08-13 11:25:42<br><b>runtime: </b>239.7000000000036",
          "<b>index: </b>93<br><b>name: </b>210813_Pac--011<br><b>path: </b>D:/ExtractedSignals\\210813_Pac 2021-08-13 10-37-27\\210813_Pac--011.D<br><b>batch: </b>210813_Pac 2021-08-13 10-37-27<br><b>batch_position: </b>11<br><b>idle_time: </b>278.0<br><b>sample: </b>210812/004 :20<br><b>method: </b>SAA_411_Pac.M<br><b>timestamp: </b>2021-08-13 11:25:46<br><b>detector: </b>G1315C<br><b>pump: </b>G7110B<br><b>start_time: </b>2021-08-13 11:26:21<br><b>end_time: </b>2021-08-13 11:30:21<br><b>runtime: </b>239.7000000000036",
          "<b>index: </b>94<br><b>name: </b>210813_Pac--012<br><b>path: </b>D:/ExtractedSignals\\210813_Pac 2021-08-13 10-37-27\\210813_Pac--012.D<br><b>batch: </b>210813_Pac 2021-08-13 10-37-27<br><b>batch_position: </b>12<br><b>idle_time: </b>280.0<br><b>sample: </b>Blank<br><b>method: </b>SAA_411_Pac.M<br><b>timestamp: </b>2021-08-13 11:30:26<br><b>detector: </b>G1315C<br><b>pump: </b>G7110B<br><b>start_time: </b>2021-08-13 11:30:59<br><b>end_time: </b>2021-08-13 11:34:59<br><b>runtime: </b>239.7000000000036",
          "<b>index: </b>95<br><b>name: </b>210813_Pac--013<br><b>path: </b>D:/ExtractedSignals\\210813_Pac 2021-08-13 10-37-27\\210813_Pac--013.D<br><b>batch: </b>210813_Pac 2021-08-13 10-37-27<br><b>batch_position: </b>13<br><b>idle_time: </b>278.0<br><b>sample: </b>0.025 mg/ml<br><b>method: </b>SAA_411_Pac.M<br><b>timestamp: </b>2021-08-13 11:35:04<br><b>detector: </b>G1315C<br><b>pump: </b>G7110B<br><b>start_time: </b>2021-08-13 11:35:38<br><b>end_time: </b>2021-08-13 11:39:38<br><b>runtime: </b>239.7000000000036",
          "<b>index: </b>96<br><b>name: </b>210813_Pac--014<br><b>path: </b>D:/ExtractedSignals\\210813_Pac 2021-08-13 10-37-27\\210813_Pac--014.D<br><b>batch: </b>210813_Pac 2021-08-13 10-37-27<br><b>batch_position: </b>14<br><b>idle_time: </b>279.0<br><b>sample: </b>Blank<br><b>method: </b>SAA_411_Pac.M<br><b>timestamp: </b>2021-08-13 11:39:43<br><b>detector: </b>G1315C<br><b>pump: </b>G7110B<br><b>start_time: </b>2021-08-13 11:40:16<br><b>end_time: </b>2021-08-13 11:44:17<br><b>runtime: </b>239.7000000000036"
         ],
         "type": "scatter",
         "x": [
          0,
          1,
          2,
          3,
          4,
          5,
          6,
          7,
          8,
          9,
          10,
          11,
          12,
          13,
          14,
          15,
          16,
          17,
          18,
          19,
          20,
          21
         ],
         "y": [
          0.11920414796855555,
          0.14004584119552432,
          0.14137115845852494,
          0.12064190494396854,
          0.12885533395746745,
          0.006356533008497589,
          0.1455747477627508,
          0.11813747532122526,
          0.13888883674985103,
          0.1626269375651775,
          0.09129847806387015,
          0.1603016891431578,
          0.15668008535173505,
          0.12382080374565824,
          -0.0016897113060563296,
          0.14455088941316396,
          0.11747618736803767,
          0.16088865975102268,
          0.11550655532518389,
          0.1566865626252414,
          0.15181269549894288,
          0.12570411830163775
         ]
        },
        {
         "legendgroup": "Threshold",
         "line": {
          "color": "red",
          "dash": "dash"
         },
         "mode": "lines",
         "name": "Threshold",
         "type": "scatter",
         "x": [
          0,
          21
         ],
         "y": [
          -0.003533322434700517,
          -0.003533322434700517
         ]
        },
        {
         "hovertemplate": [
          "<b>index: </b>309<br><b>name: </b>210910_Pac--011<br><b>path: </b>D:/ExtractedSignals\\210910_Pac 2021-09-10 14-25-54\\210910_Pac--011.D<br><b>batch: </b>210910_Pac 2021-09-10 14-25-54<br><b>batch_position: </b>11<br><b>idle_time: </b>278.0<br><b>sample: </b>210903/021 :10<br><b>method: </b>SAA_411_Pac.M<br><b>timestamp: </b>2021-09-10 15:13:50<br><b>detector: </b>G1315C<br><b>pump: </b>G7110B<br><b>start_time: </b>2021-09-10 15:14:22<br><b>end_time: </b>2021-09-10 15:18:23<br><b>runtime: </b>239.7000000000036",
          "<b>index: </b>310<br><b>name: </b>210910_Pac--012<br><b>path: </b>D:/ExtractedSignals\\210910_Pac 2021-09-10 14-25-54\\210910_Pac--012.D<br><b>batch: </b>210910_Pac 2021-09-10 14-25-54<br><b>batch_position: </b>12<br><b>idle_time: </b>278.0<br><b>sample: </b>Blank<br><b>method: </b>SAA_411_Pac.M<br><b>timestamp: </b>2021-09-10 15:18:28<br><b>detector: </b>G1315C<br><b>pump: </b>G7110B<br><b>start_time: </b>2021-09-10 15:19:00<br><b>end_time: </b>2021-09-10 15:23:01<br><b>runtime: </b>239.7000000000036",
          "<b>index: </b>311<br><b>name: </b>210910_Pac--013<br><b>path: </b>D:/ExtractedSignals\\210910_Pac 2021-09-10 14-25-54\\210910_Pac--013.D<br><b>batch: </b>210910_Pac 2021-09-10 14-25-54<br><b>batch_position: </b>13<br><b>idle_time: </b>278.0<br><b>sample: </b>0.025 mg/ml<br><b>method: </b>SAA_411_Pac.M<br><b>timestamp: </b>2021-09-10 15:23:06<br><b>detector: </b>G1315C<br><b>pump: </b>G7110B<br><b>start_time: </b>2021-09-10 15:23:38<br><b>end_time: </b>2021-09-10 15:27:39<br><b>runtime: </b>239.7000000000036",
          "<b>index: </b>312<br><b>name: </b>210910_Pac--014<br><b>path: </b>D:/ExtractedSignals\\210910_Pac 2021-09-10 14-25-54\\210910_Pac--014.D<br><b>batch: </b>210910_Pac 2021-09-10 14-25-54<br><b>batch_position: </b>14<br><b>idle_time: </b>278.0<br><b>sample: </b>Blank<br><b>method: </b>SAA_411_Pac.M<br><b>timestamp: </b>2021-09-10 15:27:44<br><b>detector: </b>G1315C<br><b>pump: </b>G7110B<br><b>start_time: </b>2021-09-10 15:28:17<br><b>end_time: </b>2021-09-10 15:32:17<br><b>runtime: </b>239.7000000000036"
         ],
         "legendgroup": "Prediction",
         "line": {
          "color": "red"
         },
         "marker": {
          "color": "red",
          "size": 10
         },
         "mode": "lines+markers",
         "name": "Prediction Scores",
         "text": [
          "<b>index: </b>309<br><b>name: </b>210910_Pac--011<br><b>path: </b>D:/ExtractedSignals\\210910_Pac 2021-09-10 14-25-54\\210910_Pac--011.D<br><b>batch: </b>210910_Pac 2021-09-10 14-25-54<br><b>batch_position: </b>11<br><b>idle_time: </b>278.0<br><b>sample: </b>210903/021 :10<br><b>method: </b>SAA_411_Pac.M<br><b>timestamp: </b>2021-09-10 15:13:50<br><b>detector: </b>G1315C<br><b>pump: </b>G7110B<br><b>start_time: </b>2021-09-10 15:14:22<br><b>end_time: </b>2021-09-10 15:18:23<br><b>runtime: </b>239.7000000000036",
          "<b>index: </b>310<br><b>name: </b>210910_Pac--012<br><b>path: </b>D:/ExtractedSignals\\210910_Pac 2021-09-10 14-25-54\\210910_Pac--012.D<br><b>batch: </b>210910_Pac 2021-09-10 14-25-54<br><b>batch_position: </b>12<br><b>idle_time: </b>278.0<br><b>sample: </b>Blank<br><b>method: </b>SAA_411_Pac.M<br><b>timestamp: </b>2021-09-10 15:18:28<br><b>detector: </b>G1315C<br><b>pump: </b>G7110B<br><b>start_time: </b>2021-09-10 15:19:00<br><b>end_time: </b>2021-09-10 15:23:01<br><b>runtime: </b>239.7000000000036",
          "<b>index: </b>311<br><b>name: </b>210910_Pac--013<br><b>path: </b>D:/ExtractedSignals\\210910_Pac 2021-09-10 14-25-54\\210910_Pac--013.D<br><b>batch: </b>210910_Pac 2021-09-10 14-25-54<br><b>batch_position: </b>13<br><b>idle_time: </b>278.0<br><b>sample: </b>0.025 mg/ml<br><b>method: </b>SAA_411_Pac.M<br><b>timestamp: </b>2021-09-10 15:23:06<br><b>detector: </b>G1315C<br><b>pump: </b>G7110B<br><b>start_time: </b>2021-09-10 15:23:38<br><b>end_time: </b>2021-09-10 15:27:39<br><b>runtime: </b>239.7000000000036",
          "<b>index: </b>312<br><b>name: </b>210910_Pac--014<br><b>path: </b>D:/ExtractedSignals\\210910_Pac 2021-09-10 14-25-54\\210910_Pac--014.D<br><b>batch: </b>210910_Pac 2021-09-10 14-25-54<br><b>batch_position: </b>14<br><b>idle_time: </b>278.0<br><b>sample: </b>Blank<br><b>method: </b>SAA_411_Pac.M<br><b>timestamp: </b>2021-09-10 15:27:44<br><b>detector: </b>G1315C<br><b>pump: </b>G7110B<br><b>start_time: </b>2021-09-10 15:28:17<br><b>end_time: </b>2021-09-10 15:32:17<br><b>runtime: </b>239.7000000000036"
         ],
         "type": "scatter",
         "x": [
          22,
          23,
          24,
          25
         ],
         "y": [
          0.13588483829821862,
          0.07372342464935489,
          0.020400874762728005,
          0.0916305641848173
         ]
        }
       ],
       "layout": {
        "legend": {
         "title": {
          "text": "Scores"
         }
        },
        "template": {
         "data": {
          "bar": [
           {
            "error_x": {
             "color": "rgb(36,36,36)"
            },
            "error_y": {
             "color": "rgb(36,36,36)"
            },
            "marker": {
             "line": {
              "color": "white",
              "width": 0.5
             },
             "pattern": {
              "fillmode": "overlay",
              "size": 10,
              "solidity": 0.2
             }
            },
            "type": "bar"
           }
          ],
          "barpolar": [
           {
            "marker": {
             "line": {
              "color": "white",
              "width": 0.5
             },
             "pattern": {
              "fillmode": "overlay",
              "size": 10,
              "solidity": 0.2
             }
            },
            "type": "barpolar"
           }
          ],
          "carpet": [
           {
            "aaxis": {
             "endlinecolor": "rgb(36,36,36)",
             "gridcolor": "white",
             "linecolor": "white",
             "minorgridcolor": "white",
             "startlinecolor": "rgb(36,36,36)"
            },
            "baxis": {
             "endlinecolor": "rgb(36,36,36)",
             "gridcolor": "white",
             "linecolor": "white",
             "minorgridcolor": "white",
             "startlinecolor": "rgb(36,36,36)"
            },
            "type": "carpet"
           }
          ],
          "choropleth": [
           {
            "colorbar": {
             "outlinewidth": 1,
             "tickcolor": "rgb(36,36,36)",
             "ticks": "outside"
            },
            "type": "choropleth"
           }
          ],
          "contour": [
           {
            "colorbar": {
             "outlinewidth": 1,
             "tickcolor": "rgb(36,36,36)",
             "ticks": "outside"
            },
            "colorscale": [
             [
              0,
              "#440154"
             ],
             [
              0.1111111111111111,
              "#482878"
             ],
             [
              0.2222222222222222,
              "#3e4989"
             ],
             [
              0.3333333333333333,
              "#31688e"
             ],
             [
              0.4444444444444444,
              "#26828e"
             ],
             [
              0.5555555555555556,
              "#1f9e89"
             ],
             [
              0.6666666666666666,
              "#35b779"
             ],
             [
              0.7777777777777778,
              "#6ece58"
             ],
             [
              0.8888888888888888,
              "#b5de2b"
             ],
             [
              1,
              "#fde725"
             ]
            ],
            "type": "contour"
           }
          ],
          "contourcarpet": [
           {
            "colorbar": {
             "outlinewidth": 1,
             "tickcolor": "rgb(36,36,36)",
             "ticks": "outside"
            },
            "type": "contourcarpet"
           }
          ],
          "heatmap": [
           {
            "colorbar": {
             "outlinewidth": 1,
             "tickcolor": "rgb(36,36,36)",
             "ticks": "outside"
            },
            "colorscale": [
             [
              0,
              "#440154"
             ],
             [
              0.1111111111111111,
              "#482878"
             ],
             [
              0.2222222222222222,
              "#3e4989"
             ],
             [
              0.3333333333333333,
              "#31688e"
             ],
             [
              0.4444444444444444,
              "#26828e"
             ],
             [
              0.5555555555555556,
              "#1f9e89"
             ],
             [
              0.6666666666666666,
              "#35b779"
             ],
             [
              0.7777777777777778,
              "#6ece58"
             ],
             [
              0.8888888888888888,
              "#b5de2b"
             ],
             [
              1,
              "#fde725"
             ]
            ],
            "type": "heatmap"
           }
          ],
          "heatmapgl": [
           {
            "colorbar": {
             "outlinewidth": 1,
             "tickcolor": "rgb(36,36,36)",
             "ticks": "outside"
            },
            "colorscale": [
             [
              0,
              "#440154"
             ],
             [
              0.1111111111111111,
              "#482878"
             ],
             [
              0.2222222222222222,
              "#3e4989"
             ],
             [
              0.3333333333333333,
              "#31688e"
             ],
             [
              0.4444444444444444,
              "#26828e"
             ],
             [
              0.5555555555555556,
              "#1f9e89"
             ],
             [
              0.6666666666666666,
              "#35b779"
             ],
             [
              0.7777777777777778,
              "#6ece58"
             ],
             [
              0.8888888888888888,
              "#b5de2b"
             ],
             [
              1,
              "#fde725"
             ]
            ],
            "type": "heatmapgl"
           }
          ],
          "histogram": [
           {
            "marker": {
             "line": {
              "color": "white",
              "width": 0.6
             }
            },
            "type": "histogram"
           }
          ],
          "histogram2d": [
           {
            "colorbar": {
             "outlinewidth": 1,
             "tickcolor": "rgb(36,36,36)",
             "ticks": "outside"
            },
            "colorscale": [
             [
              0,
              "#440154"
             ],
             [
              0.1111111111111111,
              "#482878"
             ],
             [
              0.2222222222222222,
              "#3e4989"
             ],
             [
              0.3333333333333333,
              "#31688e"
             ],
             [
              0.4444444444444444,
              "#26828e"
             ],
             [
              0.5555555555555556,
              "#1f9e89"
             ],
             [
              0.6666666666666666,
              "#35b779"
             ],
             [
              0.7777777777777778,
              "#6ece58"
             ],
             [
              0.8888888888888888,
              "#b5de2b"
             ],
             [
              1,
              "#fde725"
             ]
            ],
            "type": "histogram2d"
           }
          ],
          "histogram2dcontour": [
           {
            "colorbar": {
             "outlinewidth": 1,
             "tickcolor": "rgb(36,36,36)",
             "ticks": "outside"
            },
            "colorscale": [
             [
              0,
              "#440154"
             ],
             [
              0.1111111111111111,
              "#482878"
             ],
             [
              0.2222222222222222,
              "#3e4989"
             ],
             [
              0.3333333333333333,
              "#31688e"
             ],
             [
              0.4444444444444444,
              "#26828e"
             ],
             [
              0.5555555555555556,
              "#1f9e89"
             ],
             [
              0.6666666666666666,
              "#35b779"
             ],
             [
              0.7777777777777778,
              "#6ece58"
             ],
             [
              0.8888888888888888,
              "#b5de2b"
             ],
             [
              1,
              "#fde725"
             ]
            ],
            "type": "histogram2dcontour"
           }
          ],
          "mesh3d": [
           {
            "colorbar": {
             "outlinewidth": 1,
             "tickcolor": "rgb(36,36,36)",
             "ticks": "outside"
            },
            "type": "mesh3d"
           }
          ],
          "parcoords": [
           {
            "line": {
             "colorbar": {
              "outlinewidth": 1,
              "tickcolor": "rgb(36,36,36)",
              "ticks": "outside"
             }
            },
            "type": "parcoords"
           }
          ],
          "pie": [
           {
            "automargin": true,
            "type": "pie"
           }
          ],
          "scatter": [
           {
            "fillpattern": {
             "fillmode": "overlay",
             "size": 10,
             "solidity": 0.2
            },
            "type": "scatter"
           }
          ],
          "scatter3d": [
           {
            "line": {
             "colorbar": {
              "outlinewidth": 1,
              "tickcolor": "rgb(36,36,36)",
              "ticks": "outside"
             }
            },
            "marker": {
             "colorbar": {
              "outlinewidth": 1,
              "tickcolor": "rgb(36,36,36)",
              "ticks": "outside"
             }
            },
            "type": "scatter3d"
           }
          ],
          "scattercarpet": [
           {
            "marker": {
             "colorbar": {
              "outlinewidth": 1,
              "tickcolor": "rgb(36,36,36)",
              "ticks": "outside"
             }
            },
            "type": "scattercarpet"
           }
          ],
          "scattergeo": [
           {
            "marker": {
             "colorbar": {
              "outlinewidth": 1,
              "tickcolor": "rgb(36,36,36)",
              "ticks": "outside"
             }
            },
            "type": "scattergeo"
           }
          ],
          "scattergl": [
           {
            "marker": {
             "colorbar": {
              "outlinewidth": 1,
              "tickcolor": "rgb(36,36,36)",
              "ticks": "outside"
             }
            },
            "type": "scattergl"
           }
          ],
          "scattermapbox": [
           {
            "marker": {
             "colorbar": {
              "outlinewidth": 1,
              "tickcolor": "rgb(36,36,36)",
              "ticks": "outside"
             }
            },
            "type": "scattermapbox"
           }
          ],
          "scatterpolar": [
           {
            "marker": {
             "colorbar": {
              "outlinewidth": 1,
              "tickcolor": "rgb(36,36,36)",
              "ticks": "outside"
             }
            },
            "type": "scatterpolar"
           }
          ],
          "scatterpolargl": [
           {
            "marker": {
             "colorbar": {
              "outlinewidth": 1,
              "tickcolor": "rgb(36,36,36)",
              "ticks": "outside"
             }
            },
            "type": "scatterpolargl"
           }
          ],
          "scatterternary": [
           {
            "marker": {
             "colorbar": {
              "outlinewidth": 1,
              "tickcolor": "rgb(36,36,36)",
              "ticks": "outside"
             }
            },
            "type": "scatterternary"
           }
          ],
          "surface": [
           {
            "colorbar": {
             "outlinewidth": 1,
             "tickcolor": "rgb(36,36,36)",
             "ticks": "outside"
            },
            "colorscale": [
             [
              0,
              "#440154"
             ],
             [
              0.1111111111111111,
              "#482878"
             ],
             [
              0.2222222222222222,
              "#3e4989"
             ],
             [
              0.3333333333333333,
              "#31688e"
             ],
             [
              0.4444444444444444,
              "#26828e"
             ],
             [
              0.5555555555555556,
              "#1f9e89"
             ],
             [
              0.6666666666666666,
              "#35b779"
             ],
             [
              0.7777777777777778,
              "#6ece58"
             ],
             [
              0.8888888888888888,
              "#b5de2b"
             ],
             [
              1,
              "#fde725"
             ]
            ],
            "type": "surface"
           }
          ],
          "table": [
           {
            "cells": {
             "fill": {
              "color": "rgb(237,237,237)"
             },
             "line": {
              "color": "white"
             }
            },
            "header": {
             "fill": {
              "color": "rgb(217,217,217)"
             },
             "line": {
              "color": "white"
             }
            },
            "type": "table"
           }
          ]
         },
         "layout": {
          "annotationdefaults": {
           "arrowhead": 0,
           "arrowwidth": 1
          },
          "autotypenumbers": "strict",
          "coloraxis": {
           "colorbar": {
            "outlinewidth": 1,
            "tickcolor": "rgb(36,36,36)",
            "ticks": "outside"
           }
          },
          "colorscale": {
           "diverging": [
            [
             0,
             "rgb(103,0,31)"
            ],
            [
             0.1,
             "rgb(178,24,43)"
            ],
            [
             0.2,
             "rgb(214,96,77)"
            ],
            [
             0.3,
             "rgb(244,165,130)"
            ],
            [
             0.4,
             "rgb(253,219,199)"
            ],
            [
             0.5,
             "rgb(247,247,247)"
            ],
            [
             0.6,
             "rgb(209,229,240)"
            ],
            [
             0.7,
             "rgb(146,197,222)"
            ],
            [
             0.8,
             "rgb(67,147,195)"
            ],
            [
             0.9,
             "rgb(33,102,172)"
            ],
            [
             1,
             "rgb(5,48,97)"
            ]
           ],
           "sequential": [
            [
             0,
             "#440154"
            ],
            [
             0.1111111111111111,
             "#482878"
            ],
            [
             0.2222222222222222,
             "#3e4989"
            ],
            [
             0.3333333333333333,
             "#31688e"
            ],
            [
             0.4444444444444444,
             "#26828e"
            ],
            [
             0.5555555555555556,
             "#1f9e89"
            ],
            [
             0.6666666666666666,
             "#35b779"
            ],
            [
             0.7777777777777778,
             "#6ece58"
            ],
            [
             0.8888888888888888,
             "#b5de2b"
            ],
            [
             1,
             "#fde725"
            ]
           ],
           "sequentialminus": [
            [
             0,
             "#440154"
            ],
            [
             0.1111111111111111,
             "#482878"
            ],
            [
             0.2222222222222222,
             "#3e4989"
            ],
            [
             0.3333333333333333,
             "#31688e"
            ],
            [
             0.4444444444444444,
             "#26828e"
            ],
            [
             0.5555555555555556,
             "#1f9e89"
            ],
            [
             0.6666666666666666,
             "#35b779"
            ],
            [
             0.7777777777777778,
             "#6ece58"
            ],
            [
             0.8888888888888888,
             "#b5de2b"
            ],
            [
             1,
             "#fde725"
            ]
           ]
          },
          "colorway": [
           "#1F77B4",
           "#FF7F0E",
           "#2CA02C",
           "#D62728",
           "#9467BD",
           "#8C564B",
           "#E377C2",
           "#7F7F7F",
           "#BCBD22",
           "#17BECF"
          ],
          "font": {
           "color": "rgb(36,36,36)"
          },
          "geo": {
           "bgcolor": "white",
           "lakecolor": "white",
           "landcolor": "white",
           "showlakes": true,
           "showland": true,
           "subunitcolor": "white"
          },
          "hoverlabel": {
           "align": "left"
          },
          "hovermode": "closest",
          "mapbox": {
           "style": "light"
          },
          "paper_bgcolor": "white",
          "plot_bgcolor": "white",
          "polar": {
           "angularaxis": {
            "gridcolor": "rgb(232,232,232)",
            "linecolor": "rgb(36,36,36)",
            "showgrid": false,
            "showline": true,
            "ticks": "outside"
           },
           "bgcolor": "white",
           "radialaxis": {
            "gridcolor": "rgb(232,232,232)",
            "linecolor": "rgb(36,36,36)",
            "showgrid": false,
            "showline": true,
            "ticks": "outside"
           }
          },
          "scene": {
           "xaxis": {
            "backgroundcolor": "white",
            "gridcolor": "rgb(232,232,232)",
            "gridwidth": 2,
            "linecolor": "rgb(36,36,36)",
            "showbackground": true,
            "showgrid": false,
            "showline": true,
            "ticks": "outside",
            "zeroline": false,
            "zerolinecolor": "rgb(36,36,36)"
           },
           "yaxis": {
            "backgroundcolor": "white",
            "gridcolor": "rgb(232,232,232)",
            "gridwidth": 2,
            "linecolor": "rgb(36,36,36)",
            "showbackground": true,
            "showgrid": false,
            "showline": true,
            "ticks": "outside",
            "zeroline": false,
            "zerolinecolor": "rgb(36,36,36)"
           },
           "zaxis": {
            "backgroundcolor": "white",
            "gridcolor": "rgb(232,232,232)",
            "gridwidth": 2,
            "linecolor": "rgb(36,36,36)",
            "showbackground": true,
            "showgrid": false,
            "showline": true,
            "ticks": "outside",
            "zeroline": false,
            "zerolinecolor": "rgb(36,36,36)"
           }
          },
          "shapedefaults": {
           "fillcolor": "black",
           "line": {
            "width": 0
           },
           "opacity": 0.3
          },
          "ternary": {
           "aaxis": {
            "gridcolor": "rgb(232,232,232)",
            "linecolor": "rgb(36,36,36)",
            "showgrid": false,
            "showline": true,
            "ticks": "outside"
           },
           "baxis": {
            "gridcolor": "rgb(232,232,232)",
            "linecolor": "rgb(36,36,36)",
            "showgrid": false,
            "showline": true,
            "ticks": "outside"
           },
           "bgcolor": "white",
           "caxis": {
            "gridcolor": "rgb(232,232,232)",
            "linecolor": "rgb(36,36,36)",
            "showgrid": false,
            "showline": true,
            "ticks": "outside"
           }
          },
          "title": {
           "x": 0.05
          },
          "xaxis": {
           "automargin": true,
           "gridcolor": "rgb(232,232,232)",
           "linecolor": "rgb(36,36,36)",
           "showgrid": false,
           "showline": true,
           "ticks": "outside",
           "title": {
            "standoff": 15
           },
           "zeroline": false,
           "zerolinecolor": "rgb(36,36,36)"
          },
          "yaxis": {
           "automargin": true,
           "gridcolor": "rgb(232,232,232)",
           "linecolor": "rgb(36,36,36)",
           "showgrid": false,
           "showline": true,
           "ticks": "outside",
           "title": {
            "standoff": 15
           },
           "zeroline": false,
           "zerolinecolor": "rgb(36,36,36)"
          }
         }
        },
        "xaxis": {
         "title": {
          "text": "Analysis index"
         }
        },
        "yaxis": {
         "title": {
          "text": "Score / U.A."
         }
        }
       }
      }
     },
     "metadata": {},
     "output_type": "display_data"
    }
   ],
   "source": [
    "test_2_data = pd.read_csv(\"test_2_features.csv\")\n",
    "test_2_metadata = pd.read_csv(\"test_2_metadata.csv\")\n",
    "ana.predict(test_2_data, test_2_metadata)\n",
    "ana.plot_scores()"
   ]
  },
  {
   "cell_type": "markdown",
   "metadata": {},
   "source": [
    "#### Load the CSV File  "
   ]
  },
  {
   "cell_type": "markdown",
   "metadata": {},
   "source": [
    "This method loads the dataset from csv file and create a list of Analyses object. Used the data to make a matrix with the Analyses names and visualizes the results using a scatter plot.  "
   ]
  },
  {
   "cell_type": "code",
   "execution_count": null,
   "metadata": {},
   "outputs": [],
   "source": [
    "from src.StreamPort.ml.MachineLearningEngine import MachineLearningEngine\n",
    "from sklearn.decomposition import PCA \n",
    "import matplotlib.pyplot as plt\n",
    "\n",
    "#Creates an empty MachineLearningEngine object and prints it\n",
    "path = 'feature_list.csv'\n",
    "engine = MachineLearningEngine()\n",
    "engine.add_analyses_from_csv(path)\n",
    "\n",
    "engine.print()\n",
    "\n",
    "print(\"Create a list of Analyses object and prints it\" )\n",
    "for Analyses in engine._analyses:\n",
    "    print(f\"Analyses: {Analyses.name}\")\n",
    "    for key, value in Analyses.data.items():\n",
    "        print(f\"{key}: {value}\")\n",
    "    print(\"\\n\")\n",
    "\n",
    "rownames = engine.get_analyses_names()\n",
    "print(\"Analysename: \", rownames)\n",
    "\n",
    "mat = engine.get_data()\n",
    "mat.index = rownames\n",
    "print(\"Matrix: \\n\", mat)\n"
   ]
  },
  {
   "cell_type": "markdown",
   "metadata": {},
   "source": [
    "#### Make a Principle Conponent Analyses (PCA)\n",
    "\n",
    "The method implements a machine learning engine that perfporms PCA on the dataset and visualizes the results. ProcessingSetting is the parent of MakePCA. The ProcessingMethod used to assemble data processing workflows within the each engine. The subclass MakePCASKL of MakePCA using skitklearn algorithm to perform the PCA."
   ]
  },
  {
   "cell_type": "code",
   "execution_count": null,
   "metadata": {},
   "outputs": [],
   "source": [
    "from src.StreamPort.ml.MachineLearningEngine import MachineLearningEngine\n",
    "from src.StreamPort.ml.MachineLearningProcessingMethod import  MakeModelPCASKL\n",
    "import webbrowser\n",
    "\n",
    "#Creates an empty MachineLearningEngine object and prints it\n",
    "path = 'feature_list.csv'\n",
    "engine = MachineLearningEngine()\n",
    "engine.add_analyses_from_csv(path)\n",
    "\n",
    "class_path = 'new_metadata.csv'\n",
    "engine.add_classes_from_csv(class_path)\n",
    "\n",
    "#engine.print()\n",
    "#print(engine.get_classes())\n",
    "\n",
    "# !!! make a general data plot\n",
    "engine.plot_data()\n",
    "webbrowser.open('general_data_plot.html')\n",
    "# x axis in the index of the features (i.e., col names)\n",
    "# y axis is the valule for each Analyses\n",
    "# color legend is applied for each Analyses\n",
    "\n",
    "# Add the ProcessingMethod to the _settings attribute with add settings\n",
    "pca_model = MakeModelPCASKL(n_components = 2, center_data= True)\n",
    "engine.add_settings(pca_model)\n",
    "#engine.print()\n",
    "# Create a method in the ML engine to perfom PCA and collect the results\n",
    "engine.run_workflow()\n",
    "# The results are added to the _results atribute of the engine\n",
    "# make a plot method in the ML engine for the PCA results and classes\n",
    "engine.plot_pca()\n",
    "# make a loadings plot after confirming the scores plot"
   ]
  },
  {
   "cell_type": "code",
   "execution_count": null,
   "metadata": {},
   "outputs": [],
   "source": [
    "import pandas as pd\n",
    "import webbrowser\n",
    "from src.StreamPort.ml.MachineLearningEngine import MachineLearningEngine\n",
    "from src.StreamPort.ml.MachineLearningProcessingMethod import MakeModelPCASKL\n",
    "\n",
    "path = 'feature_list.csv'\n",
    "class_path = 'new_metadata.csv'\n",
    "df = pd.read_csv(class_path)\n",
    "\n",
    "engine = MachineLearningEngine() \n",
    "engine.add_analyses_from_csv(path)\n",
    "\n",
    "#plot both month\n",
    "engine.add_month_classes(df, ['march', 'april']) \n",
    "\n",
    "pca_model = MakeModelPCASKL(n_components = 2, center_data= True)\n",
    "engine.add_settings(pca_model)\n",
    "engine.print()\n",
    "engine.run_workflow()\n",
    "engine.plot_pca()\n",
    "webbrowser.open('pca_scores_plot.html')\n",
    "webbrowser.open('pca_loadings_plot.html')\n",
    "\n",
    "#plot only march\n",
    "engine = MachineLearningEngine() \n",
    "engine.add_analyses_from_csv(path)\n",
    "engine.add_month_classes(df, 'march') \n",
    "\n",
    "pca_model = MakeModelPCASKL(n_components = 2, center_data= True)\n",
    "engine.add_settings(pca_model)\n",
    "engine.print()\n",
    "engine.run_workflow()\n",
    "engine.plot_pca()\n",
    "\n",
    "#plot only april\n",
    "engine = MachineLearningEngine() \n",
    "engine.add_analyses_from_csv(path)\n",
    "engine.add_month_classes(df, 'april') \n",
    "\n",
    "pca_model = MakeModelPCASKL(n_components = 2, center_data= True)\n",
    "engine.add_settings(pca_model)\n",
    "engine.print()\n",
    "engine.run_workflow()\n",
    "engine.plot_pca()"
   ]
  },
  {
   "cell_type": "markdown",
   "metadata": {},
   "source": [
    "#### Make a Density-Based Spatial Clustering of Application with Noise (DBSCAN)\n",
    "\n"
   ]
  },
  {
   "cell_type": "code",
   "execution_count": null,
   "metadata": {},
   "outputs": [],
   "source": [
    "from src.StreamPort.ml.MachineLearningEngine import MachineLearningEngine\n",
    "import pandas as pd\n",
    "import numpy as np\n",
    "from sklearn.cluster import DBSCAN\n",
    "import plotly.express as px\n",
    "\n",
    "eps = 1.5  \n",
    "min_samples = 5  \n",
    "\n",
    "path = 'feature_list.csv'  \n",
    "engine = MachineLearningEngine()  \n",
    "engine.add_analyses_from_csv(path)  \n",
    "engine.print()  \n",
    "\n",
    "df = pd.read_csv(path)\n",
    "data = df.drop(columns=['name'])  \n",
    "\n",
    "dbscan = DBSCAN(eps=eps, min_samples=min_samples)\n",
    "labels = dbscan.fit_predict(data)  \n",
    "\n",
    "n_clusters = len(set(labels)) - (1 if -1 in labels else 0)  \n",
    "n_noise = list(labels).count(-1) \n",
    "print(f\"Anzahl der geschätzten Cluster: {n_clusters}\")\n",
    "print(f\"Anzahl der Rauschpunkte: {n_noise}\")\n",
    "\n",
    "data['Cluster'] = labels  \n",
    "data['Cluster'] = data['Cluster'].astype(str)  \n",
    "\n",
    "random_columns = np.random.choice(data.columns, 2, replace=False)\n",
    "fig = px.scatter(data, x=random_columns[0], y=random_columns[1], color='Cluster',\n",
    "                 title=\"DBSCAN Clustering Results\",\n",
    "                 color_continuous_scale=px.colors.diverging.Tealrose,\n",
    "                 labels={'color': 'Cluster ID'})\n",
    "\n",
    "fig.show()  "
   ]
  },
  {
   "cell_type": "markdown",
   "metadata": {},
   "source": [
    "### Uniform Manifold Approximation and Projection (UMAP)"
   ]
  },
  {
   "cell_type": "code",
   "execution_count": null,
   "metadata": {},
   "outputs": [],
   "source": [
    "from src.StreamPort.ml.MachineLearningEngine import MachineLearningEngine\n",
    "from src.StreamPort.ml.MachineLearningProcessingMethod import  MakeModelUMAP\n",
    "\n",
    "#Creates an empty MachineLearningEngine object and prints it\n",
    "path = 'feature_list.csv'\n",
    "engine = MachineLearningEngine()\n",
    "engine.add_analyses_from_csv(path)\n",
    "\n",
    "class_path = 'feature_metadata.csv'\n",
    "engine.add_classes_from_csv(class_path)\n",
    "#engine.print()\n",
    "\n",
    "#plot all classes\n",
    "umap_model = MakeModelUMAP(n_neighbors=15, min_dist=0.1, n_components=2,random_state=42)\n",
    "engine.add_settings(umap_model)\n",
    "#engine.print()\n",
    "engine.run_workflow()\n",
    "engine.plot_umap()\n",
    "\n",
    "#plot both months\n",
    "engine = MachineLearningEngine()\n",
    "engine.add_analyses_from_csv(path)\n",
    "engine.add_month_classes(df, ['march', 'april']) \n",
    "umap_model = MakeModelUMAP(n_neighbors=15, min_dist=0.1, n_components=2,random_state=42)\n",
    "engine.add_settings(umap_model)\n",
    "#engine.print()\n",
    "engine.run_workflow()\n",
    "engine.plot_umap()\n"
   ]
  },
  {
   "cell_type": "code",
   "execution_count": null,
   "metadata": {},
   "outputs": [],
   "source": [
    "from src.StreamPort.ml.MachineLearningEngine import MachineLearningEngine\n",
    "from src.StreamPort.ml.MachineLearningProcessingMethod import  MakeModelUMAP\n",
    "import pandas as pd\n",
    "\n",
    "path = 'feature_list.csv'\n",
    "engine = MachineLearningEngine()\n",
    "engine.add_analyses_from_csv(path)\n",
    "\n",
    "class_path = 'new_metadata.csv'\n",
    "df = pd.read_csv(class_path)\n",
    "\n",
    "#plot march\n",
    "engine.add_month_classes(df, 'march') \n",
    "\n",
    "umap_model = MakeModelUMAP(n_neighbors=15, min_dist=0.1, n_components=2, random_state=42)\n",
    "engine.add_settings(umap_model)\n",
    "engine.run_workflow()\n",
    "engine.plot_umap()  \n",
    "\n",
    "engine = MachineLearningEngine() \n",
    "engine.add_analyses_from_csv(path)\n",
    "\n",
    "#plot april\n",
    "engine.add_month_classes(df, 'april')  \n",
    "\n",
    "umap_model = MakeModelUMAP(n_neighbors=15, min_dist=0.1, n_components=2, random_state=42)\n",
    "engine.add_settings(umap_model)\n",
    "engine.run_workflow()\n",
    "engine.plot_umap()  "
   ]
  },
  {
   "cell_type": "markdown",
   "metadata": {},
   "source": [
    "### Random Forest Classifier\n",
    "\n",
    "update . . . 1.short data 2.long data (only used the classes csv, idk if is it right!) "
   ]
  },
  {
   "cell_type": "code",
   "execution_count": null,
   "metadata": {},
   "outputs": [],
   "source": [
    "import pandas as pd\n",
    "import plotly.express as px\n",
    "from sklearn.model_selection import train_test_split, GridSearchCV\n",
    "from sklearn.ensemble import RandomForestClassifier\n",
    "from sklearn.metrics import accuracy_score, classification_report, confusion_matrix\n",
    "from sklearn.preprocessing import LabelEncoder\n",
    "from sklearn.tree import export_graphviz\n",
    "from IPython.display import Image\n",
    "import graphviz\n",
    "\n",
    "# read\n",
    "df = pd.read_csv('new_metadata.csv')\n",
    "target_column = 'class'\n",
    "print(df.shape)\n",
    "print(df.info())\n",
    "print(df.head())\n",
    "\n",
    "# used label encoder for encode the columns\n",
    "label_encoders = {}\n",
    "for column in df.columns:\n",
    "    if df[column].dtype == 'object':  \n",
    "        le = LabelEncoder()\n",
    "        df[column] = le.fit_transform(df[column])\n",
    "        label_encoders[column] = le  \n",
    "\n",
    "# split data\n",
    "X = df.drop(columns=[target_column])\n",
    "y = df[target_column]\n",
    "\n",
    "X_train, X_test, y_train, y_test = train_test_split(X, y, test_size=0.2, random_state=42)\n",
    "\n",
    "# define the parameter for gridsearchcv\n",
    "param_grid = {\n",
    "    'n_estimators': [50, 500],\n",
    "    'max_depth': [3, 20]\n",
    "}\n",
    "\n",
    "# initalize random forest classifier and gridsearchcv\n",
    "rf = RandomForestClassifier(random_state=42)\n",
    "grid_search = GridSearchCV(estimator=rf, param_grid=param_grid, \n",
    "                           cv=5, scoring='accuracy', verbose=1, n_jobs=-1)\n",
    "\n",
    "# execute grid\n",
    "print(\"Starte GridSearch...\")\n",
    "grid_search.fit(X_train, y_train)\n",
    "\n",
    "# see the best hyperparameters and the model for it\n",
    "print(\"Best hyperparameters:\", grid_search.best_params_)\n",
    "print(\"Best Cross-Validation-Accuracy:\", grid_search.best_score_)\n",
    "\n",
    "# final model with the best hyperparameters\n",
    "best_rf = grid_search.best_estimator_\n",
    "y_pred = best_rf.predict(X_test)\n",
    "\n",
    "# evaltuation of accuracy\n",
    "accuracy = accuracy_score(y_test, y_pred)\n",
    "print(\"Accuracy:\", accuracy)\n",
    "class_report = classification_report(y_test, y_pred)\n",
    "print(\"ClassificationReport:\\n\", class_report)\n",
    "\n",
    "# confusionmatrix\n",
    "conf_matrix = confusion_matrix(y_test, y_pred)\n",
    "conf_matrix_df = pd.DataFrame(conf_matrix, \n",
    "                              index=label_encoders[target_column].classes_, \n",
    "                              columns=label_encoders[target_column].classes_)\n",
    "\n",
    "# visualize the confusionsmatrix\n",
    "fig_conf_matrix = px.imshow(conf_matrix_df, \n",
    "                            labels=dict(x=\"Predicted\", y=\"Actual\", color=\"Count\"), \n",
    "                            x=label_encoders[target_column].classes_, \n",
    "                            y=label_encoders[target_column].classes_,\n",
    "                            title=\"Confusion Matrix\")\n",
    "\n",
    "fig_conf_matrix.update_layout(coloraxis_showscale=True)\n",
    "fig_conf_matrix.show()\n",
    "\n",
    "# visualize feature importance\n",
    "feature_importances = best_rf.feature_importances_\n",
    "features = X.columns\n",
    "importance_df = pd.DataFrame({'Feature': features, 'Importance': feature_importances})\n",
    "fig = px.bar(importance_df, x='Feature', y='Importance', title='Random Forest Feature Importances')\n",
    "fig.show()\n",
    "\n",
    "# export the first three decision trees from the forest\n",
    "for i in range(3):\n",
    "    tree = best_rf.estimators_[i]\n",
    "    dot_data = export_graphviz(tree,\n",
    "                               feature_names=X_train.columns,  \n",
    "                               filled=True,  \n",
    "                               max_depth=2, \n",
    "                               impurity=False, \n",
    "                               proportion=True)\n",
    "    graph = graphviz.Source(dot_data)\n",
    "    display(graph)\n",
    "\n"
   ]
  },
  {
   "cell_type": "code",
   "execution_count": null,
   "metadata": {},
   "outputs": [],
   "source": [
    "import pandas as pd\n",
    "import plotly.express as px\n",
    "from sklearn.model_selection import train_test_split, GridSearchCV\n",
    "from sklearn.ensemble import RandomForestClassifier\n",
    "from sklearn.metrics import accuracy_score, classification_report, confusion_matrix\n",
    "from sklearn.preprocessing import LabelEncoder\n",
    "from sklearn.tree import export_graphviz\n",
    "from IPython.display import Image\n",
    "import graphviz\n",
    "\n",
    "# read\n",
    "df = pd.read_csv('groups_classes.csv')\n",
    "target_column = 'class'\n",
    "print(df.shape)\n",
    "print(df.info())\n",
    "print(df.head())\n",
    "\n",
    "# used label encoder for encode the columns\n",
    "label_encoders = {}\n",
    "for column in df.columns:\n",
    "    if df[column].dtype == 'object':  \n",
    "        le = LabelEncoder()\n",
    "        df[column] = le.fit_transform(df[column])\n",
    "        label_encoders[column] = le  \n",
    "\n",
    "# split data\n",
    "X = df.drop(columns=[target_column])\n",
    "y = df[target_column]\n",
    "\n",
    "X_train, X_test, y_train, y_test = train_test_split(X, y, test_size=0.2, random_state=42)\n",
    "\n",
    "# define the parameter for gridsearchcv\n",
    "param_grid = {\n",
    "    'n_estimators': [50, 500],\n",
    "    'max_depth': [3, 20]\n",
    "}\n",
    "\n",
    "# initalize random forest classifier and gridsearchcv\n",
    "rf = RandomForestClassifier(random_state=42)\n",
    "grid_search = GridSearchCV(estimator=rf, param_grid=param_grid, \n",
    "                           cv=5, scoring='accuracy', verbose=1, n_jobs=-1)\n",
    "\n",
    "# execute grid\n",
    "print(\"Starte GridSearch...\")\n",
    "grid_search.fit(X_train, y_train)\n",
    "\n",
    "# see the best hyperparameters and the model for it\n",
    "print(\"Best hyperparameters:\", grid_search.best_params_)\n",
    "print(\"Best Cross-Validation-Accuracy:\", grid_search.best_score_)\n",
    "\n",
    "# final model with the best hyperparameters\n",
    "best_rf = grid_search.best_estimator_\n",
    "y_pred = best_rf.predict(X_test)\n",
    "\n",
    "# evaltuation of accuracy\n",
    "accuracy = accuracy_score(y_test, y_pred)\n",
    "print(\"Accuracy:\", accuracy)\n",
    "class_report = classification_report(y_test, y_pred)\n",
    "print(\"ClassificationReport:\\n\", class_report)\n",
    "\n",
    "# confusionmatrix\n",
    "conf_matrix = confusion_matrix(y_test, y_pred)\n",
    "conf_matrix_df = pd.DataFrame(conf_matrix, \n",
    "                              index=label_encoders[target_column].classes_, \n",
    "                              columns=label_encoders[target_column].classes_)\n",
    "\n",
    "# visualize the confusionsmatrix\n",
    "fig_conf_matrix = px.imshow(conf_matrix_df, \n",
    "                            labels=dict(x=\"Predicted\", y=\"Actual\", color=\"Count\"), \n",
    "                            x=label_encoders[target_column].classes_, \n",
    "                            y=label_encoders[target_column].classes_,\n",
    "                            title=\"Confusion Matrix\")\n",
    "\n",
    "fig_conf_matrix.update_layout(coloraxis_showscale=True)\n",
    "fig_conf_matrix.show()\n",
    "\n",
    "# visualize feature importance\n",
    "feature_importances = best_rf.feature_importances_\n",
    "features = X.columns\n",
    "importance_df = pd.DataFrame({'Feature': features, 'Importance': feature_importances})\n",
    "fig = px.bar(importance_df, x='Feature', y='Importance', title='Random Forest Feature Importances')\n",
    "fig.show()\n",
    "\n",
    "# export the first three decision trees from the forest\n",
    "for i in range(3):\n",
    "    tree = best_rf.estimators_[i]\n",
    "    dot_data = export_graphviz(tree,\n",
    "                               feature_names=X_train.columns,  \n",
    "                               filled=True,  \n",
    "                               max_depth=2, \n",
    "                               impurity=False, \n",
    "                               proportion=True)\n",
    "    graph = graphviz.Source(dot_data)\n",
    "    display(graph)\n",
    "\n"
   ]
  },
  {
   "cell_type": "markdown",
   "metadata": {},
   "source": [
    "### Hierarchical Density-Based Spatial Clustering of Application (HDBSCAN)"
   ]
  },
  {
   "cell_type": "code",
   "execution_count": null,
   "metadata": {},
   "outputs": [],
   "source": [
    "from src.StreamPort.ml.MachineLearningEngine import MachineLearningEngine\n",
    "import pandas as pd\n",
    "import numpy as np\n",
    "from sklearn.cluster import HDBSCAN\n",
    "from sklearn.preprocessing import LabelEncoder\n",
    "import plotly.express as px\n",
    "\n",
    "path = 'feature_list.csv'\n",
    "engine = MachineLearningEngine()\n",
    "engine.add_analyses_from_csv(path)\n",
    "engine.print()\n",
    "\n",
    "df = pd.read_csv(path)\n",
    "data = df.drop(columns=['name'])\n",
    "\n",
    "label_encoders = {}\n",
    "for column in data.columns:\n",
    "    if data[column].dtype == 'object':  \n",
    "        le = LabelEncoder()\n",
    "        data[column] = le.fit_transform(data[column])\n",
    "        label_encoders[column] = le\n",
    "\n",
    "\n",
    "random_columns = np.random.choice(data.columns, 2, replace=False)\n",
    "\n",
    "clusterer = HDBSCAN(min_cluster_size=3)\n",
    "cluster_labels = clusterer.fit_predict(data)\n",
    "data['cluster'] = cluster_labels  \n",
    "\n",
    "fig = px.scatter(\n",
    "    data,\n",
    "    x=random_columns[0],\n",
    "    y=random_columns[1],\n",
    "    color='cluster',\n",
    "    title='HDBSCAN Clustering mit Plotly'\n",
    ")\n",
    "fig.show()\n"
   ]
  },
  {
   "cell_type": "markdown",
   "metadata": {},
   "source": [
    "### K-Means Cluster"
   ]
  },
  {
   "cell_type": "code",
   "execution_count": null,
   "metadata": {},
   "outputs": [],
   "source": [
    "from src.StreamPort.ml.MachineLearningEngine import MachineLearningEngine\n",
    "\n",
    "import pandas as pd\n",
    "import numpy as np\n",
    "from sklearn.cluster import KMeans\n",
    "import plotly.express as px\n",
    "\n",
    "path = 'feature_list.csv'\n",
    "engine = MachineLearningEngine()\n",
    "engine.add_analyses_from_csv(path)\n",
    "\n",
    "df = pd.read_csv(path)\n",
    "data = df.drop(columns=['name']) \n",
    "\n",
    "# Define number of clusters for KMeans\n",
    "n_clusters = 4  # Specify the number of clusters you expect\n",
    "\n",
    "kmeans = KMeans(n_clusters=n_clusters, random_state=0)\n",
    "labels = kmeans.fit_predict(data)\n",
    "\n",
    "data['Cluster'] = labels.astype(str) \n",
    "\n",
    "random_columns = np.random.choice(data.columns[:-1], 2, replace=False)\n",
    "\n",
    "fig = px.scatter(\n",
    "    data, \n",
    "    x=random_columns[0], \n",
    "    y=random_columns[1], \n",
    "    color='Cluster',\n",
    "    title=\"KMeans Clustering Results\",\n",
    "    color_discrete_sequence=px.colors.qualitative.Pastel,\n",
    "    labels={'color': 'Cluster ID'}\n",
    ")\n",
    "\n",
    "fig.show()\n"
   ]
  },
  {
   "cell_type": "markdown",
   "metadata": {},
   "source": [
    "## NEW DATA ##"
   ]
  },
  {
   "cell_type": "markdown",
   "metadata": {},
   "source": [
    "### umap plot for the 'negative' and 'positive' classes. "
   ]
  },
  {
   "cell_type": "code",
   "execution_count": null,
   "metadata": {},
   "outputs": [],
   "source": [
    "import pandas as pd\n",
    "from src.StreamPort.ml.MachineLearningEngine import MachineLearningEngine\n",
    "from src.StreamPort.ml.MachineLearningProcessingMethod import MakeModelUMAP\n",
    "\n",
    "path = 'groups_ints.csv'\n",
    "class_path = 'groups_classes.csv'\n",
    "df = pd.read_csv(class_path)\n",
    "\n",
    "engine = MachineLearningEngine() \n",
    "engine.add_analyses_from_csv(path)\n",
    "\n",
    "#plot negative polarity classes\n",
    "engine.add_polarity_classes(df, 'negative') \n",
    "\n",
    "umap_model_neg = MakeModelUMAP(n_neighbors=15, min_dist=0.1, n_components=2, random_state=42)\n",
    "engine.add_settings(umap_model_neg)\n",
    "engine.run_workflow()\n",
    "engine.plot_umap()\n",
    "\n",
    "#plot positive polarity classes\n",
    "engine = MachineLearningEngine()  \n",
    "engine.add_analyses_from_csv(path)\n",
    "\n",
    "engine.add_polarity_classes(df, 'positive')\n",
    "\n",
    "umap_model_pos = MakeModelUMAP(n_neighbors=15, min_dist=0.1, n_components=2, random_state=42)\n",
    "engine.add_settings(umap_model_pos)\n",
    "engine.run_workflow()\n",
    "engine.plot_umap()\n",
    " \n"
   ]
  },
  {
   "cell_type": "code",
   "execution_count": null,
   "metadata": {},
   "outputs": [],
   "source": [
    "import pandas as pd\n",
    "from src.StreamPort.ml.MachineLearningEngine import MachineLearningEngine\n",
    "from src.StreamPort.ml.MachineLearningProcessingMethod import MakeModelUMAP\n",
    "\n",
    "path = 'groups_ints.csv'\n",
    "class_path = 'groups_classes.csv'\n",
    "df = pd.read_csv(class_path)\n",
    "\n",
    "engine = MachineLearningEngine() \n",
    "engine.add_analyses_from_csv(path)\n",
    "\n",
    "#plot both polarity\n",
    "engine.add_polarity_classes(df, ['negative', 'positive']) \n",
    "\n",
    "umap_model = MakeModelUMAP(n_neighbors=15, min_dist=0.1, n_components=2, random_state=42)\n",
    "engine.add_settings(umap_model)\n",
    "engine.run_workflow()\n",
    "engine.plot_umap()  "
   ]
  },
  {
   "cell_type": "markdown",
   "metadata": {},
   "source": [
    "### pca plot for the new data"
   ]
  },
  {
   "cell_type": "code",
   "execution_count": null,
   "metadata": {},
   "outputs": [],
   "source": [
    "from src.StreamPort.ml.MachineLearningEngine import MachineLearningEngine\n",
    "from src.StreamPort.ml.MachineLearningProcessingMethod import  MakeModelPCASKL\n",
    "import webbrowser\n",
    "\n",
    "#Creates an empty MachineLearningEngine object and prints it\n",
    "path = 'groups_ints.csv'\n",
    "engine = MachineLearningEngine()\n",
    "engine.add_analyses_from_csv(path)\n",
    "\n",
    "class_path = 'groups_classes.csv'\n",
    "engine.add_classes_from_csv(class_path)\n",
    "engine.print()\n",
    "engine.plot_data()\n",
    "# webbrowser.open('general_data_plot.html')\n",
    "\n",
    "pca_model = MakeModelPCASKL(n_components = 2, center_data= True)\n",
    "engine.add_settings(pca_model)\n",
    "#engine.print()\n",
    "engine.run_workflow()\n",
    "engine.plot_pca()\n",
    "# webbrowser.open('pca_scores_plot.html')\n",
    "# webbrowser.open('pca_loadings_plot.html')"
   ]
  },
  {
   "cell_type": "markdown",
   "metadata": {},
   "source": [
    "plot pca for the 'negative' and 'positive' classes."
   ]
  },
  {
   "cell_type": "code",
   "execution_count": null,
   "metadata": {},
   "outputs": [],
   "source": [
    "from src.StreamPort.ml.MachineLearningEngine import MachineLearningEngine\n",
    "from src.StreamPort.ml.MachineLearningProcessingMethod import  MakeModelPCASKL\n",
    "import pandas as pd\n",
    "\n",
    "#Creates an empty MachineLearningEngine object and prints it\n",
    "path = 'groups_ints.csv'\n",
    "class_path = 'groups_classes.csv'\n",
    "df = pd.read_csv(class_path)\n",
    "\n",
    "engine = MachineLearningEngine() \n",
    "engine.add_analyses_from_csv(path)\n",
    "\n",
    "# Plot negative polarity classes in PCA\n",
    "engine.add_polarity_classes(df, 'negative')\n",
    "\n",
    "pca_model_neg = MakeModelPCASKL(n_components = 2, center_data= True)\n",
    "engine.add_settings(pca_model_neg)\n",
    "engine.run_workflow()\n",
    "engine.plot_pca()\n",
    "\n",
    "engine = MachineLearningEngine() \n",
    "engine.add_analyses_from_csv(path)\n",
    "\n",
    "#plot positive polarity classes in PCA\n",
    "engine.add_polarity_classes(df, 'positive')\n",
    "\n",
    "pca_model_pos = MakeModelPCASKL(n_components = 2, center_data= True)\n",
    "engine.add_settings(pca_model_pos)\n",
    "engine.run_workflow()\n",
    "engine.plot_pca()  \n"
   ]
  },
  {
   "cell_type": "markdown",
   "metadata": {},
   "source": [
    "### dbscan plot for the new data"
   ]
  },
  {
   "cell_type": "code",
   "execution_count": null,
   "metadata": {},
   "outputs": [],
   "source": [
    "from src.StreamPort.ml.MachineLearningEngine import MachineLearningEngine\n",
    "\n",
    "import numpy as np\n",
    "import pandas as pd\n",
    "from sklearn.cluster import DBSCAN\n",
    "import plotly.express as px\n",
    "\n",
    "path = 'groups_ints.csv'\n",
    "engine = MachineLearningEngine()\n",
    "engine.add_analyses_from_csv(path)\n",
    "\n",
    "class_path = 'groups_classes.csv'\n",
    "engine.add_classes_from_csv(class_path)\n",
    "\n",
    "# Set DBSCAN parameters\n",
    "eps = 1.5  # Radius around a point to consider others as neighbors\n",
    "min_samples = 5  # Minimum neighbors a point must have to not be considered noise\n",
    "\n",
    "df = pd.read_csv(path)\n",
    "data = df.drop(columns=['name']) \n",
    "\n",
    "dbscan = DBSCAN(eps=eps, min_samples=min_samples)\n",
    "labels = dbscan.fit_predict(data) \n",
    "\n",
    "# Calculate and print estimated number of clusters and noise points\n",
    "n_clusters = len(set(labels)) - (1 if -1 in labels else 0)  # Number of clusters\n",
    "n_noise = list(labels).count(-1)  # Number of noise points\n",
    "print(f\"Estimated number of clusters: {n_clusters}\")\n",
    "print(f\"Number of noise points: {n_noise}\")\n",
    "\n",
    "# Add cluster labels to the data\n",
    "data['Cluster'] = labels\n",
    "data['Cluster'] = data['Cluster'].astype(str)  # Convert cluster labels to strings for categorical display\n",
    "\n",
    "random_columns = np.random.choice(data.columns, 2, replace=False)\n",
    "\n",
    "fig = px.scatter(\n",
    "    data, \n",
    "    x=random_columns[0], \n",
    "    y=random_columns[1], \n",
    "    color='Cluster',\n",
    "    title=\"DBSCAN Clustering Results\",\n",
    "    color_continuous_scale=px.colors.diverging.Tealrose,\n",
    "    labels={'color': 'Cluster ID'}\n",
    ")\n",
    "fig.show()  \n"
   ]
  },
  {
   "cell_type": "markdown",
   "metadata": {},
   "source": [
    "### random forest plot\n",
    "\n",
    "show you at the meeting. . ."
   ]
  },
  {
   "cell_type": "code",
   "execution_count": null,
   "metadata": {},
   "outputs": [],
   "source": [
    "import pandas as pd\n",
    "import numpy as np\n",
    "import plotly.graph_objects as go\n",
    "import plotly.express as px\n",
    "from sklearn.model_selection import train_test_split, RandomizedSearchCV\n",
    "from sklearn.ensemble import RandomForestClassifier\n",
    "from sklearn.metrics import accuracy_score, classification_report, confusion_matrix, ConfusionMatrixDisplay\n",
    "from sklearn.preprocessing import OrdinalEncoder\n",
    "from sklearn.tree import export_graphviz\n",
    "from graphviz import Source\n",
    "from IPython.display import Image\n",
    "from scipy.stats import randint\n",
    "\n",
    "# read data\n",
    "features_df = pd.read_csv('groups_ints.csv')  \n",
    "labels_df = pd.read_csv('groups_classes.csv') \n",
    "merged_df = pd.merge(features_df, labels_df, on='name')\n",
    "print(merged_df.info())\n",
    "print(merged_df.shape)\n",
    "print(merged_df.head())\n",
    "\n",
    "# prepare data\n",
    "X = merged_df.drop(['name','class'], axis=1)\n",
    "y = merged_df['class']\n",
    "\n",
    "# use oridalencoder\n",
    "ordinal_encoder = OrdinalEncoder(handle_unknown='use_encoded_value', unknown_value=-1)\n",
    "X_encoded = ordinal_encoder.fit_transform(X)\n",
    "\n",
    "# split the data\n",
    "X_train, X_test, y_train, y_test = train_test_split(X_encoded, y, test_size=0.2, random_state=42)\n",
    "\n",
    "param_dist = {\n",
    "    'n_estimators': [50, 500],\n",
    "    'max_depth': [3, 20]\n",
    "    }\n",
    "\n",
    "# initialisiere and fit randomforestclassifier\n",
    "rf = RandomForestClassifier(random_state=42)\n",
    "rf.fit(X_train, y_train) # train the model\n",
    "y_pred_oe = rf.predict(X_test)\n",
    "\n",
    "# use random search to find the best hyperparameters\n",
    "rand_search = RandomizedSearchCV(estimator=rf, \n",
    "                                 param_distributions = param_dist, \n",
    "                                 n_iter=5, \n",
    "                                 cv=5)\n",
    "\n",
    "# fit the random search object to the data\n",
    "print(\"Starting RandomizedSearch...\")\n",
    "rand_search.fit(X_train, y_train)\n",
    "\n",
    "# print the best hyperparameters\n",
    "print('Best hyperparameters:',  rand_search.best_params_)\n",
    "\n",
    "# create a variable for the best model\n",
    "best_rf = rand_search.best_estimator_\n",
    "y_pred = best_rf.predict(X_test)\n",
    "\n",
    "# add accuracy\n",
    "accuracy_oe = accuracy_score(y_test, y_pred_oe)\n",
    "print(\"Accuracy: \", accuracy_oe)\n",
    "#print(\"Classification report:\\n\", classification_report(y_test, y_pred_oe))\n",
    "\n",
    "# create the confusion matrix\n",
    "cm = confusion_matrix(y_test, y_pred_oe)\n",
    "cm_df = pd.DataFrame(cm, index=best_rf.classes_, columns=best_rf.classes_)\n",
    "\n",
    "ConfusionMatrixDisplay(confusion_matrix=cm).plot()\n",
    "\n",
    "# plot the confusion matrix using plotly\n",
    "fig = go.Figure(data=go.Heatmap(\n",
    "                    z=cm_df.values,\n",
    "                    x=cm_df.columns,\n",
    "                    y=cm_df.index,\n",
    "                    colorscale='Blues',\n",
    "                    zmin=0, zmax=np.max(cm_df.values),\n",
    "                    colorbar=dict(title='Count'),\n",
    "                    hovertemplate='True Label: %{y}<br>Predicted: %{x}<br>Count: %{z}'\n",
    "                ))\n",
    "\n",
    "fig.update_layout(\n",
    "    title='Confusion Matrix',\n",
    "    xaxis_title='Predicted Label',\n",
    "    yaxis_title='True Label',\n",
    "    autosize=True,\n",
    "    xaxis=dict(tickmode='array', tickvals=np.arange(len(cm_df.columns)), ticktext=cm_df.columns),\n",
    "    yaxis=dict(tickmode='array', tickvals=np.arange(len(cm_df.index)), ticktext=cm_df.index)\n",
    ")\n",
    "\n",
    "fig.show()\n",
    "\n",
    "\n",
    "# export the first three decision trees from the forest\n",
    "for i in range(3):\n",
    "    tree = best_rf.estimators_[i]\n",
    "    dot_data = export_graphviz(tree,\n",
    "                               feature_names=X.columns,  \n",
    "                               filled=True,  \n",
    "                               max_depth=2, \n",
    "                               impurity=False, \n",
    "                               proportion=True)\n",
    "    graph = Source(dot_data)\n",
    "    display(graph)\n"
   ]
  },
  {
   "cell_type": "markdown",
   "metadata": {},
   "source": [
    "copy the encoded x_train and x_test"
   ]
  },
  {
   "cell_type": "code",
   "execution_count": null,
   "metadata": {},
   "outputs": [],
   "source": [
    "import pandas as pd\n",
    "import numpy as np\n",
    "import plotly.graph_objects as go\n",
    "from sklearn.model_selection import train_test_split, RandomizedSearchCV\n",
    "from sklearn.ensemble import RandomForestClassifier\n",
    "from sklearn.metrics import accuracy_score, classification_report, confusion_matrix, ConfusionMatrixDisplay\n",
    "from sklearn.preprocessing import OrdinalEncoder\n",
    "from sklearn.tree import export_graphviz\n",
    "from graphviz import Source\n",
    "from scipy.stats import randint\n",
    "\n",
    "# read data\n",
    "features_df = pd.read_csv('groups_ints.csv')  \n",
    "labels_df = pd.read_csv('groups_classes.csv') \n",
    "merged_df = pd.merge(features_df, labels_df, on='name')\n",
    "print(merged_df.info())\n",
    "print(merged_df.shape)\n",
    "print(merged_df.head())\n",
    "\n",
    "# prepare data\n",
    "X = merged_df.drop(['name', 'class'], axis=1)\n",
    "y = merged_df['class']\n",
    "\n",
    "# column to encode\n",
    "cols_to_encode = ['polarity', 'month', 'year','tag','monthclass']\n",
    "non_numerical_cols = X.select_dtypes(include=['object']).columns\n",
    "\n",
    "# split data\n",
    "X_train, X_test, y_train, y_test = train_test_split(X, y, test_size=0.2, random_state=42)\n",
    "\n",
    "# use ordinalencoder\n",
    "ordinal_encoder = OrdinalEncoder(handle_unknown='use_encoded_value', unknown_value=-1)\n",
    "X_train_encoded = X_train.copy()\n",
    "X_test_encoded = X_test.copy()\n",
    "\n",
    "X_train[cols_to_encode] = ordinal_encoder.fit_transform(X_train[cols_to_encode])\n",
    "X_test[cols_to_encode] = ordinal_encoder.transform(X_test[cols_to_encode])\n",
    "\n",
    "# initialisiere and fit randomforestclassifier\n",
    "rf_classifier = RandomForestClassifier(n_estimators=100, random_state=42)\n",
    "rf_classifier.fit(X_train, y_train)\n",
    "y_pred_oe = rf_classifier.predict(X_test)\n",
    "\n",
    "# use randomizedsearchcv\n",
    "param_dist = {'n_estimators': randint(50, 500), 'max_depth': randint(1, 20)}\n",
    "rand_search = RandomizedSearchCV(\n",
    "    rf_classifier, \n",
    "    param_distributions=param_dist, \n",
    "    n_iter=5, \n",
    "    cv=5,\n",
    "    random_state=42\n",
    ")\n",
    "rand_search.fit(X_train, y_train)\n",
    "best_rf = rand_search.best_estimator_\n",
    "\n",
    "# see best hyperparameter and accuracy\n",
    "print(\"Best hyperparameters: \", rand_search.best_params_)\n",
    "accuracy_oe = accuracy_score(y_test, y_pred_oe)\n",
    "print(\"Accuracy: \", accuracy_oe)\n",
    "print(\"Classification report:\\n\", classification_report(y_test, y_pred_oe))\n",
    "\n",
    "# confusionsmatrix\n",
    "cm = confusion_matrix(y_test, y_pred_oe)\n",
    "ConfusionMatrixDisplay(confusion_matrix=cm).plot()\n",
    "\n",
    "cm_df = pd.DataFrame(cm, index=best_rf.classes_, columns=best_rf.classes_)\n",
    "fig = go.Figure(data=go.Heatmap(\n",
    "    z=cm_df.values,\n",
    "    x=cm_df.columns,\n",
    "    y=cm_df.index,\n",
    "    colorscale='Blues',\n",
    "    zmin=0, zmax=np.max(cm_df.values),\n",
    "    colorbar=dict(title='Count'),\n",
    "    hovertemplate='True Label: %{y}<br>Predicted: %{x}<br>Count: %{z}'\n",
    "))\n",
    "fig.update_layout(\n",
    "    title='Confusion Matrix',\n",
    "    xaxis_title='Predicted Label',\n",
    "    yaxis_title='True Label',\n",
    "    autosize=True\n",
    ")\n",
    "fig.show()\n",
    "\n",
    "# Export the first three decision trees from the forest\n",
    "for i in range(3):\n",
    "    tree = rf_classifier.estimators_[i]\n",
    "    dot_data = export_graphviz(tree,\n",
    "                               feature_names=X_train.columns,  \n",
    "                               filled=True,  \n",
    "                               max_depth=2, \n",
    "                               impurity=False, \n",
    "                               proportion=True)\n",
    "    graph = Source(dot_data)\n",
    "    display(graph)\n"
   ]
  },
  {
   "cell_type": "code",
   "execution_count": null,
   "metadata": {},
   "outputs": [],
   "source": [
    "import pandas as pd\n",
    "import numpy as np\n",
    "import plotly.graph_objects as go\n",
    "from sklearn.model_selection import train_test_split, RandomizedSearchCV\n",
    "from sklearn.ensemble import RandomForestClassifier\n",
    "from sklearn.metrics import accuracy_score, classification_report, confusion_matrix, ConfusionMatrixDisplay\n",
    "from sklearn.preprocessing import OrdinalEncoder\n",
    "from sklearn.tree import export_graphviz\n",
    "from graphviz import Source\n",
    "from scipy.stats import randint\n",
    "\n",
    "# read data\n",
    "features_df = pd.read_csv('feature_list.csv')  \n",
    "labels_df = pd.read_csv('new_metadata.csv') \n",
    "merged_df = pd.merge(features_df, labels_df, on='name')\n",
    "print(merged_df.info())\n",
    "print(merged_df.shape)\n",
    "print(merged_df.head())\n",
    "\n",
    "# prepare data\n",
    "X = merged_df.drop(['name','class'], axis=1)\n",
    "y = merged_df['class']\n",
    "\n",
    "# use oridalencoder\n",
    "ordinal_encoder = OrdinalEncoder(handle_unknown='use_encoded_value', unknown_value=-1)\n",
    "X_encoded = ordinal_encoder.fit_transform(X)\n",
    "\n",
    "# split the data\n",
    "X_train, X_test, y_train, y_test = train_test_split(X_encoded, y, test_size=0.2, random_state=42)\n",
    "\n",
    "\n",
    "param_dist = {\n",
    "    'n_estimators': [50, 500],\n",
    "    'max_depth': [3, 20]\n",
    "    }\n",
    "\n",
    "# initialisiere and fit RandomForestClassifier\n",
    "rf = RandomForestClassifier(random_state=42)\n",
    "rf.fit(X_train, y_train) # train the model\n",
    "y_pred_oe = rf.predict(X_test)\n",
    "\n",
    "# Use random search to find the best hyperparameters\n",
    "rand_search = RandomizedSearchCV(estimator=rf, \n",
    "                                 param_distributions = param_dist, \n",
    "                                 n_iter=5, \n",
    "                                 cv=5)\n",
    "# Fit the random search object to the data\n",
    "print(\"Starting RandomizedSearch...\")\n",
    "rand_search.fit(X_train, y_train)\n",
    "\n",
    "# Print the best hyperparameters\n",
    "print(\"Best hyperparameters:\",  rand_search.best_params_)\n",
    "\n",
    "# Create a variable for the best model\n",
    "best_rf = rand_search.best_estimator_\n",
    "y_pred = best_rf.predict(X_test)\n",
    "\n",
    "# add accuracy\n",
    "accuracy_oe = accuracy_score(y_test, y_pred_oe)\n",
    "print(\"Accuracy: \", accuracy_oe)\n",
    "#print(\"Classification report:\\n\", classification_report(y_test, y_pred_oe))\n",
    "\n",
    "# create the confusion matrix\n",
    "cm = confusion_matrix(y_test, y_pred_oe)\n",
    "cm_df = pd.DataFrame(cm, index=best_rf.classes_, columns=best_rf.classes_)\n",
    "\n",
    "ConfusionMatrixDisplay(confusion_matrix=cm).plot()\n",
    "\n",
    "# plot the confusion matrix using plotly\n",
    "fig = go.Figure(data=go.Heatmap(\n",
    "                    z=cm_df.values,\n",
    "                    x=cm_df.columns,\n",
    "                    y=cm_df.index,\n",
    "                    colorscale='Blues',\n",
    "                    zmin=0, zmax=np.max(cm_df.values),\n",
    "                    colorbar=dict(title='Count'),\n",
    "                    hovertemplate='True Label: %{y}<br>Predicted: %{x}<br>Count: %{z}'\n",
    "                ))\n",
    "\n",
    "fig.update_layout(\n",
    "    title='Confusion Matrix',\n",
    "    xaxis_title='Predicted Label',\n",
    "    yaxis_title='True Label',\n",
    "    autosize=True,\n",
    "    xaxis=dict(tickmode='array', tickvals=np.arange(len(cm_df.columns)), ticktext=cm_df.columns),\n",
    "    yaxis=dict(tickmode='array', tickvals=np.arange(len(cm_df.index)), ticktext=cm_df.index)\n",
    ")\n",
    "\n",
    "fig.show()\n",
    "\n",
    "\n",
    "# Export the first three decision trees from the forest\n",
    "for i in range(3):\n",
    "    tree = best_rf.estimators_[i]\n",
    "    dot_data = export_graphviz(tree,\n",
    "                               feature_names=X.columns,  \n",
    "                               filled=True,  \n",
    "                               max_depth=2, \n",
    "                               impurity=False, \n",
    "                               proportion=True)\n",
    "    graph = Source(dot_data)\n",
    "    display(graph)\n",
    "\n"
   ]
  },
  {
   "cell_type": "markdown",
   "metadata": {},
   "source": [
    "### hdbscan plot for the new data\n"
   ]
  },
  {
   "cell_type": "code",
   "execution_count": null,
   "metadata": {},
   "outputs": [],
   "source": [
    "from src.StreamPort.ml.MachineLearningEngine import MachineLearningEngine\n",
    "import pandas as pd\n",
    "import numpy as np\n",
    "from sklearn.cluster import HDBSCAN\n",
    "from sklearn.preprocessing import LabelEncoder\n",
    "import plotly.express as px\n",
    "\n",
    "path = 'groups_ints.csv'\n",
    "engine = MachineLearningEngine()\n",
    "engine.add_analyses_from_csv(path)\n",
    "engine.print()\n",
    "\n",
    "df = pd.read_csv(path)\n",
    "data = df.drop(columns=['name'])\n",
    "\n",
    "label_encoders = {}\n",
    "for column in data.columns:\n",
    "    if data[column].dtype == 'object': \n",
    "        le = LabelEncoder()\n",
    "        data[column] = le.fit_transform(data[column])\n",
    "        label_encoders[column] = le\n",
    "\n",
    "random_columns = np.random.choice(data.columns, 2, replace=False)\n",
    "\n",
    "clusterer = HDBSCAN(min_cluster_size=3)\n",
    "cluster_labels = clusterer.fit_predict(data)\n",
    "data['cluster'] = cluster_labels  \n",
    "\n",
    "fig = px.scatter(\n",
    "    data,\n",
    "    x=random_columns[0],\n",
    "    y=random_columns[1],\n",
    "    color='cluster',\n",
    "    title='HDBSCAN Clustering mit Plotly'\n",
    ")\n",
    "fig.show()\n"
   ]
  },
  {
   "cell_type": "markdown",
   "metadata": {},
   "source": [
    "### k-means plot"
   ]
  },
  {
   "cell_type": "code",
   "execution_count": null,
   "metadata": {},
   "outputs": [],
   "source": [
    "import pandas as pd\n",
    "import plotly.express as px\n",
    "from sklearn.cluster import KMeans\n",
    "from sklearn.decomposition import PCA\n",
    "from sklearn.preprocessing import LabelEncoder\n",
    "\n",
    "df = pd.read_csv('groups_ints.csv')\n",
    "data = df.drop(columns=['name'])\n",
    "\n",
    "label_encoders = {}\n",
    "for column in data.columns:\n",
    "    if data[column].dtype == 'object': \n",
    "        le = LabelEncoder()\n",
    "        data[column] = le.fit_transform(data[column])\n",
    "        label_encoders[column] = le  \n",
    "\n",
    "pca = PCA(n_components=2)\n",
    "data_pca = pca.fit_transform(data)\n",
    "\n",
    "kmeans = KMeans(n_clusters=5, random_state=42) \n",
    "cluster_labels = kmeans.fit_predict(data)\n",
    "\n",
    "pca_df = pd.DataFrame(data_pca, columns=['PCA1', 'PCA2'])\n",
    "pca_df['Cluster'] = cluster_labels.astype(str)  \n",
    "\n",
    "fig = px.scatter(pca_df, x='PCA1', y='PCA2', color='Cluster', title='KMeans Clustering Results',\n",
    "                 labels={'PCA1': 'Principal Component 1', 'PCA2': 'Principal Component 2'})\n",
    "\n",
    "fig.show()"
   ]
  },
  {
   "cell_type": "code",
   "execution_count": null,
   "metadata": {},
   "outputs": [],
   "source": [
    "from src.StreamPort.ml.MachineLearningEngine import MachineLearningEngine\n",
    "\n",
    "import pandas as pd\n",
    "import numpy as np\n",
    "from sklearn.cluster import KMeans\n",
    "import plotly.express as px\n",
    "\n",
    "path = 'groups_ints.csv'\n",
    "engine = MachineLearningEngine()\n",
    "engine.add_analyses_from_csv(path)\n",
    "\n",
    "df = pd.read_csv(path)\n",
    "data = df.drop(columns=['name'])  \n",
    "\n",
    "# Define number of clusters for KMeans\n",
    "n_clusters = 10  # Specify the number of clusters you expect\n",
    "\n",
    "kmeans = KMeans(n_clusters=n_clusters, random_state=0)\n",
    "labels = kmeans.fit_predict(data)\n",
    "\n",
    "data['Cluster'] = labels.astype(str)  # Convert to string for color coding in plot\n",
    "\n",
    "random_columns = np.random.choice(data.columns[:-1], 2, replace=False)\n",
    "\n",
    "fig = px.scatter(\n",
    "    data, \n",
    "    x=random_columns[0], \n",
    "    y=random_columns[1], \n",
    "    color='Cluster',\n",
    "    title=\"KMeans Clustering Results\",\n",
    "    color_discrete_sequence=px.colors.qualitative.Pastel,\n",
    "    labels={'color': 'Cluster ID'}\n",
    ")\n",
    "\n",
    "fig.show()"
   ]
  },
  {
   "cell_type": "markdown",
   "metadata": {},
   "source": [
    "### filter 'month' with umap "
   ]
  },
  {
   "cell_type": "code",
   "execution_count": null,
   "metadata": {},
   "outputs": [],
   "source": [
    "import pandas as pd\n",
    "from src.StreamPort.ml.MachineLearningEngine import MachineLearningEngine\n",
    "from src.StreamPort.ml.MachineLearningProcessingMethod import MakeModelUMAP\n",
    "\n",
    "path = 'groups_ints.csv'\n",
    "class_path = 'groups_classes.csv'\n",
    "df = pd.read_csv(class_path)\n",
    "\n",
    "engine = MachineLearningEngine() \n",
    "engine.add_analyses_from_csv(path)\n",
    "\n",
    "engine.add_month_classes(df, 'may')  \n",
    "\n",
    "umap_model = MakeModelUMAP(n_neighbors=15, min_dist=0.1, n_components=2, random_state=42)\n",
    "engine.add_settings(umap_model)\n",
    "engine.run_workflow()\n",
    "engine.plot_umap()  \n"
   ]
  },
  {
   "cell_type": "code",
   "execution_count": null,
   "metadata": {},
   "outputs": [],
   "source": [
    "print(\"plot pos classes\")\n",
    "engine = MachineLearningEngine()  \n",
    "engine.add_analyses_from_csv(path)\n",
    "\n",
    "engine.add_month_classes(df, 'april')  \n",
    "\n",
    "umap_model = MakeModelUMAP(n_neighbors=15, min_dist=0.1, n_components=2, random_state=42)\n",
    "engine.add_settings(umap_model)\n",
    "engine.run_workflow()\n",
    "engine.plot_umap()  "
   ]
  },
  {
   "cell_type": "code",
   "execution_count": null,
   "metadata": {},
   "outputs": [],
   "source": [
    "import pandas as pd\n",
    "from src.StreamPort.ml.MachineLearningEngine import MachineLearningEngine\n",
    "from src.StreamPort.ml.MachineLearningProcessingMethod import MakeModelUMAP\n",
    "\n",
    "path = 'groups_ints.csv'\n",
    "class_path = 'groups_classes.csv'\n",
    "df = pd.read_csv(class_path)\n",
    "\n",
    "engine = MachineLearningEngine() \n",
    "engine.add_analyses_from_csv(path)\n",
    "\n",
    "engine.add_month_classes(df, 'april')  \n",
    "\n",
    "umap_model = MakeModelUMAP(n_neighbors=15, min_dist=0.1, n_components=2, random_state=42)\n",
    "engine.add_settings(umap_model)\n",
    "engine.run_workflow()\n",
    "engine.plot_umap() "
   ]
  },
  {
   "cell_type": "code",
   "execution_count": null,
   "metadata": {},
   "outputs": [],
   "source": [
    "import pandas as pd\n",
    "from src.StreamPort.ml.MachineLearningEngine import MachineLearningEngine, MachineLearningAnalyses\n",
    "from src.StreamPort.ml.MachineLearningProcessingMethod import MakeModelUMAP\n",
    "\n",
    "path = 'groups_ints.csv'\n",
    "class_path = 'groups_classes.csv'\n",
    "df = pd.read_csv(class_path)\n",
    "\n",
    "engine = MachineLearningEngine() \n",
    "engine.add_analyses_from_csv(path)\n",
    "\n",
    "for index, row in df.iterrows():\n",
    "        row_value = row.tolist()[1:] \n",
    "        class_name = row['month']\n",
    "        ana = MachineLearningAnalyses(name=str(class_name), \n",
    "                                          data={\"x\": np.array(df.columns.tolist()[1:]), \n",
    "                                                \"y\": np.array(row_value)})\n",
    "        if ana.validate():\n",
    "            engine.add_classes(class_name)\n",
    "        else:\n",
    "            print(f\"Analyses {class_name} did not pass validation.\") \n",
    "\n",
    "umap_model = MakeModelUMAP(n_neighbors=15, min_dist=0.1, n_components=2, random_state=42)\n",
    "engine.add_settings(umap_model)\n",
    "engine.run_workflow()\n",
    "engine.plot_umap() "
   ]
  },
  {
   "cell_type": "markdown",
   "metadata": {},
   "source": [
    "### filter 'month' plot with pca"
   ]
  },
  {
   "cell_type": "code",
   "execution_count": null,
   "metadata": {},
   "outputs": [],
   "source": [
    "import pandas as pd\n",
    "import webbrowser\n",
    "from src.StreamPort.ml.MachineLearningEngine import MachineLearningEngine\n",
    "from src.StreamPort.ml.MachineLearningProcessingMethod import MakeModelPCASKL\n",
    "\n",
    "path = 'groups_ints.csv'\n",
    "class_path = 'groups_classes.csv'\n",
    "df = pd.read_csv(class_path)\n",
    "\n",
    "engine = MachineLearningEngine() \n",
    "engine.add_analyses_from_csv(path)\n",
    "\n",
    "engine.add_month_classes(df, 'may') \n",
    "\n",
    "pca_model = MakeModelPCASKL(n_components = 2, center_data= True)\n",
    "engine.add_settings(pca_model)\n",
    "engine.print()\n",
    "engine.run_workflow()\n",
    "engine.plot_pca()\n",
    "webbrowser.open('pca_scores_plot.html')\n",
    "webbrowser.open('pca_loadings_plot.html')"
   ]
  },
  {
   "cell_type": "code",
   "execution_count": null,
   "metadata": {},
   "outputs": [],
   "source": [
    "import pandas as pd\n",
    "import webbrowser\n",
    "from src.StreamPort.ml.MachineLearningEngine import MachineLearningEngine\n",
    "from src.StreamPort.ml.MachineLearningProcessingMethod import MakeModelPCASKL\n",
    "\n",
    "path = 'groups_ints.csv'\n",
    "class_path = 'groups_classes.csv'\n",
    "df = pd.read_csv(class_path)\n",
    "\n",
    "engine = MachineLearningEngine() \n",
    "engine.add_analyses_from_csv(path)\n",
    "\n",
    "engine.add_month_classes(df, 'december') \n",
    "\n",
    "pca_model = MakeModelPCASKL(n_components = 10, center_data= True)\n",
    "engine.add_settings(pca_model)\n",
    "engine.print()\n",
    "engine.run_workflow()\n",
    "engine.plot_pca()\n",
    "webbrowser.open('pca_scores_plot.html')\n",
    "webbrowser.open('pca_loadings_plot.html')"
   ]
  },
  {
   "cell_type": "code",
   "execution_count": null,
   "metadata": {},
   "outputs": [],
   "source": [
    "import pandas as pd\n",
    "import webbrowser\n",
    "from src.StreamPort.ml.MachineLearningEngine import MachineLearningEngine\n",
    "from src.StreamPort.ml.MachineLearningProcessingMethod import MakeModelPCASKL\n",
    "\n",
    "path = 'groups_ints.csv'\n",
    "class_path = 'groups_classes.csv'\n",
    "df = pd.read_csv(class_path)\n",
    "\n",
    "engine = MachineLearningEngine() \n",
    "engine.add_analyses_from_csv(path)\n",
    "\n",
    "engine.add_month_classes(df, ['may', 'april']) \n",
    "\n",
    "pca_model = MakeModelPCASKL(n_components = 2, center_data= True)\n",
    "engine.add_settings(pca_model)\n",
    "engine.print()\n",
    "engine.run_workflow()\n",
    "engine.plot_pca()\n",
    "webbrowser.open('pca_scores_plot.html')\n",
    "webbrowser.open('pca_loadings_plot.html')"
   ]
  },
  {
   "cell_type": "markdown",
   "metadata": {},
   "source": [
    "### pca umap test for feautre list"
   ]
  },
  {
   "cell_type": "code",
   "execution_count": null,
   "metadata": {},
   "outputs": [],
   "source": [
    "import pandas as pd\n",
    "import numpy as np\n",
    "from sklearn.preprocessing import StandardScaler\n",
    "from sklearn.decomposition import PCA\n",
    "import plotly.express as px\n",
    "\n",
    "path = 'feature_list.csv'\n",
    "df_data = pd.read_csv(path)\n",
    "class_path = 'new_metadata.csv'\n",
    "df_classes = pd.read_csv(class_path)\n",
    "\n",
    "print(df_data.shape)\n",
    "print(df_classes.shape)\n",
    "\n",
    "df_merged = pd.merge(df_data, df_classes)\n",
    "print(df_merged.shape)\n",
    "print(df_merged.head())\n",
    "\n",
    "# standardize dataset\n",
    "df_data_numeric = df_merged.select_dtypes(include=[np.number])\n",
    "scaler = StandardScaler()\n",
    "data_scaled = scaler.fit_transform(df_data_numeric)\n",
    "\n",
    "# the month with the most entries\n",
    "month_counts = df_merged['month'].value_counts()\n",
    "print(\"Anzahl der Einträge pro Monat:\\n\", month_counts)\n",
    "\n",
    "# unique months/classes\n",
    "unique_months = df_merged['month'].unique()\n",
    "unique_classes = df_merged['class'].unique()\n",
    "\n",
    "# find number of components\n",
    "nums = np.arange(1,20)\n",
    "var_ratio = []\n",
    "for num in nums:\n",
    "  pca = PCA(n_components=num)\n",
    "  pca.fit(data_scaled)\n",
    "  var_ratio.append(np.sum(pca.explained_variance_ratio_))\n",
    "\n",
    "df_var = pd.DataFrame({\"num\" : nums, \"var_ratio\" : var_ratio})\n",
    "fig = px.line(df_var, x='num', y='var_ratio', markers=True,\n",
    "              title=\"Explained Variance\",\n",
    "              labels={'num': 'Number of Components', 'var_ratio': 'Explained Variance Ratio'})\n",
    "fig.show()\n",
    "\n",
    "# pca\n",
    "n_components=10\n",
    "pca = PCA(n_components=n_components)\n",
    "principal_components = pca.fit_transform(data_scaled)\n",
    "print(principal_components.shape)\n",
    "\n",
    "pca_df = pd.DataFrame(data=principal_components[:, [0,1]],columns=['PC1', 'PC2'])\n",
    "pca_df['class'] = df_merged['class'].values  \n",
    "pca_df['month'] = df_merged['month'].values \n",
    "\n",
    "# get min/max for axis scaling\n",
    "offset = 5\n",
    "minC1 = pca_df.min()[0] - offset\n",
    "maxC1 = pca_df.max()[0] + offset\n",
    "minC2 = pca_df.min()[1] - offset\n",
    "maxC2 = pca_df.max()[1] + offset\n",
    "fig = px.scatter(\n",
    "        pca_df, x='PC1', y='PC2', color='class',\n",
    "        facet_row='month',\n",
    "        title=f'PCA results by month',\n",
    "        labels={'PC1': 'Hauptkomponente 1', 'PC2': 'Hauptkomponente 2', 'color': 'class'},\n",
    "        range_x=[minC1, maxC1], range_y=[minC2, maxC2]\n",
    ")\n",
    "fig.show()\n",
    "\n",
    "# loop through each class\n",
    "fig = px.scatter(\n",
    "        pca_df, x='PC1', y='PC2', color='month', symbol='month',\n",
    "        facet_row='class',\n",
    "        title=f'PCA results by class',\n",
    "        labels={'PC1': 'Hauptkomponente 1', 'PC2': 'Hauptkomponente 2', 'color': 'month'},\n",
    "        range_x=[minC1, maxC1], range_y=[minC2, maxC2]\n",
    "    )\n",
    "\n",
    "fig.show()\n"
   ]
  },
  {
   "cell_type": "code",
   "execution_count": null,
   "metadata": {},
   "outputs": [],
   "source": [
    "import pandas as pd\n",
    "import numpy as np\n",
    "from sklearn.preprocessing import StandardScaler\n",
    "import umap\n",
    "import plotly.express as px\n",
    "\n",
    "path = 'feature_list.csv'\n",
    "df_data = pd.read_csv(path)\n",
    "class_path = 'new_metadata.csv'\n",
    "df_classes = pd.read_csv(class_path)\n",
    "\n",
    "df_merged = pd.merge(df_data, df_classes)\n",
    "df_data_numeric = df_merged.select_dtypes(include=[np.number])\n",
    "\n",
    "# standardize dataset\n",
    "scaler = StandardScaler()\n",
    "data_scaled = scaler.fit_transform(df_data_numeric)\n",
    "\n",
    "# use umap \n",
    "n_components = 2\n",
    "umap_model = umap.UMAP(n_components=n_components, random_state=42)\n",
    "umap_components = umap_model.fit_transform(data_scaled)\n",
    "\n",
    "umap_df = pd.DataFrame(data=umap_components, columns=['UMAP1', 'UMAP2'])\n",
    "umap_df['class'] = df_merged['class'].values\n",
    "umap_df['month'] = df_merged['month'].values\n",
    "\n",
    "fig = px.scatter(umap_df, x='UMAP1', y='UMAP2', color='month', title='UMAP für alle Monate',\n",
    "                 labels={'UMAP1': 'UMAP Komponente 1', 'UMAP2': 'UMAP Komponente 2'})\n",
    "fig.show()\n",
    "\n",
    "# find the month with the max entries\n",
    "month_counts = df_merged['month'].value_counts()\n",
    "max_entries_month = month_counts.idxmax()\n",
    "max_entries_count = month_counts.max()\n",
    "\n",
    "print(f\"Der Monat mit den meisten Einträgen ist {max_entries_month} mit {max_entries_count} Einträgen.\")\n",
    "print(\"Anzahl der Einträge pro Monat:\\n\", month_counts)\n",
    "\n",
    "\n",
    "# unique months\n",
    "unique_months = df_merged['month'].unique()\n",
    "\n",
    "# loop through each month\n",
    "for month in unique_months:\n",
    "    # filter data for the current month\n",
    "    month_data = umap_df[umap_df['month'] == month]\n",
    "    \n",
    "    # plot pca for current month\n",
    "    fig = px.scatter(\n",
    "        month_data, x='UMAP1', y='UMAP2', color='class',\n",
    "        title=f'UMAP 2D Scatter Plot für {month}',\n",
    "        labels={'color': 'class'}\n",
    "    )\n",
    "    fig.update_layout(xaxis_title=\"UMAP1\", yaxis_title=\"UMAP2\")\n",
    "    fig.show()\n"
   ]
  },
  {
   "cell_type": "markdown",
   "metadata": {},
   "source": [
    "#### Test umap and pca for groups"
   ]
  },
  {
   "cell_type": "code",
   "execution_count": null,
   "metadata": {},
   "outputs": [],
   "source": [
    "import pandas as pd\n",
    "import numpy as np\n",
    "from sklearn.preprocessing import StandardScaler\n",
    "import umap\n",
    "from src.StreamPort.ml.MachineLearningEngine import MachineLearningEngine\n",
    "from src.StreamPort.ml.MachineLearningProcessingMethod import MakeModelUMAP\n",
    "import plotly.express as px\n",
    "\n",
    "path = 'groups_ints.csv'\n",
    "df_data = pd.read_csv(path)\n",
    "class_path = 'groups_classes.csv'\n",
    "df_classes = pd.read_csv(class_path)\n",
    "\n",
    "engine = MachineLearningEngine()\n",
    "engine.add_analyses_from_csv(path)\n",
    "engine.add_classes_from_csv(class_path)\n",
    "engine.print()\n",
    "\n",
    "df_merged = pd.merge(df_data, df_classes)\n",
    "df_data_numeric = df_merged.select_dtypes(include=[np.number])\n",
    "\n",
    "# standardize dataset\n",
    "scaler = StandardScaler()\n",
    "data_scaled = scaler.fit_transform(df_data_numeric)\n",
    "\n",
    "# use umap \n",
    "n_components = 2\n",
    "umap_model = umap.UMAP(n_components=n_components, random_state=42)\n",
    "umap_components = umap_model.fit_transform(data_scaled)\n",
    "\n",
    "umap_df = pd.DataFrame(data=umap_components, columns=['UMAP1', 'UMAP2'])\n",
    "umap_df['class'] = df_merged['class'].values\n",
    "umap_df['month'] = df_merged['month'].values\n",
    "\n",
    "fig = px.scatter(umap_df, x='UMAP1', y='UMAP2', color='month', title='UMAP für alle Monate',\n",
    "                 labels={'UMAP1': 'UMAP Komponente 1', 'UMAP2': 'UMAP Komponente 2'})\n",
    "fig.show()\n",
    "\n",
    "# find the month with the max entries\n",
    "month_counts = df_merged['month'].value_counts()\n",
    "max_entries_month = month_counts.idxmax()\n",
    "max_entries_count = month_counts.max()\n",
    "\n",
    "print(f\"Der Monat mit den meisten Einträgen ist {max_entries_month} mit {max_entries_count} Einträgen.\")\n",
    "print(\"Anzahl der Einträge pro Monat:\\n\", month_counts)\n",
    "\n",
    "\n",
    "# unique months\n",
    "unique_months = df_merged['month'].unique()\n",
    "\n",
    "# loop through each month\n",
    "for month in unique_months:\n",
    "    # filter data for the current month\n",
    "    month_data = umap_df[umap_df['month'] == month]\n",
    "    \n",
    "    # plot pca for current month\n",
    "    fig = px.scatter(\n",
    "        month_data, x='UMAP1', y='UMAP2', color='class',\n",
    "        title=f'UMAP 2D Scatter Plot für {month}',\n",
    "        labels={'color': 'class'}\n",
    "    )\n",
    "    fig.update_layout(xaxis_title=\"UMAP1\", yaxis_title=\"UMAP2\")\n",
    "    fig.show()\n"
   ]
  },
  {
   "cell_type": "code",
   "execution_count": null,
   "metadata": {},
   "outputs": [],
   "source": [
    "from src.StreamPort.ml.MachineLearningEngine import MachineLearningEngine\n",
    "import pandas as pd\n",
    "from sklearn.preprocessing import StandardScaler\n",
    "from sklearn.decomposition import PCA\n",
    "import plotly.express as px\n",
    "\n",
    "path = 'groups_ints.csv'\n",
    "df_data = pd.read_csv(path)\n",
    "class_path = 'groups_classes.csv'\n",
    "df_classes = pd.read_csv(class_path)\n",
    "\n",
    "print(df_data.shape)\n",
    "print(df_classes.shape)\n",
    "\n",
    "df_merged = pd.merge(df_data, df_classes)\n",
    "print(df_merged.shape)\n",
    "print(df_merged.head())\n",
    "\n",
    "# standardize dataset\n",
    "df_data_numeric = df_merged.select_dtypes(include=[np.number])\n",
    "scaler = StandardScaler()\n",
    "data_scaled = scaler.fit_transform(df_data_numeric)\n",
    "\n",
    "# the month with the most entries\n",
    "month_counts = df_merged['month'].value_counts()\n",
    "print(\"Anzahl der Einträge pro Monat:\\n\", month_counts)\n",
    "\n",
    "# unique months/classes\n",
    "unique_months = df_merged['month'].unique()\n",
    "unique_classes = df_merged['class'].unique()\n",
    "\n",
    "# find number of components\n",
    "nums = np.arange(1,20)\n",
    "var_ratio = []\n",
    "for num in nums:\n",
    "    pca = PCA(n_components=num)\n",
    "    pca.fit(data_scaled)\n",
    "    var_ratio.append(np.sum(pca.explained_variance_ratio_))\n",
    "\n",
    "df_var = pd.DataFrame({\"num\" : nums, \"var_ratio\" : var_ratio})\n",
    "fig = px.line(df_var, x='num', y='var_ratio', markers=True,\n",
    "              title=\"Explained Variance\",\n",
    "              labels={'num': 'Number of Components', 'var_ratio': 'Explained Variance Ratio'})\n",
    "fig.show()\n",
    "\n",
    "# pca\n",
    "n_components=10\n",
    "pca = PCA(n_components=n_components)\n",
    "principal_components = pca.fit_transform(data_scaled)\n",
    "print(principal_components.shape)\n",
    "\n",
    "pca_df = pd.DataFrame(data=principal_components[:, [0,1]],columns=['PC1', 'PC2'])\n",
    "pca_df['class'] = df_merged['class'].values  \n",
    "pca_df['month'] = df_merged['month'].values \n",
    "\n",
    "# get min/max for axis scaling\n",
    "offset = 5\n",
    "minC1 = pca_df.min()[0] - offset\n",
    "maxC1 = pca_df.max()[0] + offset\n",
    "minC2 = pca_df.min()[1] - offset\n",
    "maxC2 = pca_df.max()[1] + offset\n",
    "fig = px.scatter(\n",
    "        pca_df, x='PC1', y='PC2', color='class',\n",
    "        facet_row='month',\n",
    "        title=f'PCA results by month',\n",
    "        labels={'PC1': 'Hauptkomponente 1', 'PC2': 'Hauptkomponente 2', 'color': 'class'},\n",
    "        range_x=[minC1, maxC1], range_y=[minC2, maxC2]\n",
    ")\n",
    "fig.show()\n",
    "\n",
    "# loop through each class\n",
    "fig = px.scatter(\n",
    "        pca_df, x='PC1', y='PC2', color='month', symbol='month',\n",
    "        facet_row='class',\n",
    "        title=f'PCA results by class',\n",
    "        labels={'PC1': 'Hauptkomponente 1', 'PC2': 'Hauptkomponente 2', 'color': 'month'},\n",
    "        range_x=[minC1, maxC1], range_y=[minC2, maxC2]\n",
    "    )\n",
    "\n",
    "fig.show()"
   ]
  }
 ],
 "metadata": {
  "kernelspec": {
   "display_name": "sp",
   "language": "python",
   "name": "python3"
  },
  "language_info": {
   "codemirror_mode": {
    "name": "ipython",
    "version": 3
   },
   "file_extension": ".py",
   "mimetype": "text/x-python",
   "name": "python",
   "nbconvert_exporter": "python",
   "pygments_lexer": "ipython3",
   "version": "3.12.1"
  }
 },
 "nbformat": 4,
 "nbformat_minor": 2
}
