{
 "cells": [
  {
   "cell_type": "code",
   "execution_count": null,
   "metadata": {},
   "outputs": [],
   "source": [
    "import sys\n",
    "print(sys.executable)"
   ]
  },
  {
   "cell_type": "markdown",
   "metadata": {},
   "source": [
    "# Test CoreEngine and Basic classes"
   ]
  },
  {
   "cell_type": "code",
   "execution_count": 1,
   "metadata": {},
   "outputs": [
    {
     "name": "stdout",
     "output_type": "stream",
     "text": [
      "CoreEngine \n",
      "  name: None \n",
      "  author: None \n",
      "  path: None \n",
      "  date: 2024-03-23 08:35:37.833156 \n",
      "\n",
      "\n",
      " ProcessingSettings\n",
      " call         None\n",
      " algorithm    None\n",
      " version      None\n",
      " software     None\n",
      " developer    None\n",
      " contact      None\n",
      " link         None\n",
      " doi          None\n",
      "\n",
      " parameters: empty \n",
      "\n",
      "1\n",
      "[1, 2, 3]\n"
     ]
    }
   ],
   "source": [
    "from src.StreamPort.core.CoreEngine import CoreEngine\n",
    "from src.StreamPort.core.Analyses import Analyses\n",
    "from src.StreamPort.core.ProjectHeaders import ProjectHeaders\n",
    "from src.StreamPort.core.ProcessingSettings import ProcessingSettings\n",
    "\n",
    "x = CoreEngine()\n",
    "x.print()\n",
    "\n",
    "# ana1 = Analyses(name = \"Analysis 1\")\n",
    "# anaList = [ana1, Analyses(name = \"Analysis 2\"), Analyses(name = \"Analysis 3\")]\n",
    "# ana1.print()\n",
    "\n",
    "# x.add_analyses(anaList)\n",
    "# print(x._analyses.__len__())\n",
    "# x.remove_analyses(0)\n",
    "# print(x._analyses.__len__())\n",
    "\n",
    "# ph = ProjectHeaders()\n",
    "# ph.print()\n",
    "\n",
    "# x.add_headers(headers={\"name\": \"Example Name\", \"description\": \"demo description\"})\n",
    "# x.print()\n",
    "\n",
    "settings = ProcessingSettings()\n",
    "settings.print()\n",
    "\n",
    "x.add_settings(settings)\n",
    "\n",
    "print(x._settings.__len__())\n",
    "\n",
    "a = [1, 2, 3]\n",
    "\n",
    "print(a)\n"
   ]
  },
  {
   "cell_type": "markdown",
   "metadata": {},
   "source": [
    "# Test Class Inheritance"
   ]
  },
  {
   "cell_type": "code",
   "execution_count": null,
   "metadata": {},
   "outputs": [],
   "source": [
    "class Person:\n",
    "  \"\"\"Class docstrings go here.\"\"\"\n",
    "\n",
    "  def __init__(self, fname, lname):\n",
    "    self.firstname = fname\n",
    "    self.lastname = lname\n",
    "\n",
    "  def printname(self):\n",
    "    \"\"\"Class method docstrings go here.\"\"\"\n",
    "    print(self.firstname, self.lastname)\n",
    "\n",
    "  def welcome_from_parent(self):\n",
    "    print(\"Welcome from parent class\")\n",
    "\n",
    "#Use the Person class to create an object, and then execute the printname method:\n",
    "\n",
    "x = Person(\"John\", \"Doe\")\n",
    "\n",
    "x.printname()\n",
    "\n",
    "class Student(Person):\n",
    "  def __init__(self, fname, lname, year):\n",
    "    super().__init__(fname, lname)\n",
    "    self.graduationyear = year\n",
    "\n",
    "  def welcome(self):\n",
    "    print(\"Welcome\", self.firstname, self.lastname, \"to the class of\", self.graduationyear)\n",
    "\n",
    "  def printname(self):\n",
    "    print(self.firstname, self.lastname, \"overwritten!\")\n",
    "\n",
    "  def printname_from_parent(self):\n",
    "    super().printname()\n",
    "\n",
    "x = Student(\"Mike\", \"Olsen\", 2019)\n",
    "\n",
    "x.printname()\n",
    "\n",
    "x.printname_from_parent()\n",
    "\n",
    "x.welcome()\n",
    "\n",
    "x.welcome_from_parent()\n",
    "\n",
    "help(Person)"
   ]
  },
  {
   "cell_type": "code",
   "execution_count": null,
   "metadata": {},
   "outputs": [],
   "source": [
    "import sys\n",
    "print(sys.executable)"
   ]
  }
 ],
 "metadata": {
  "kernelspec": {
   "display_name": "sp",
   "language": "python",
   "name": "python3"
  },
  "language_info": {
   "codemirror_mode": {
    "name": "ipython",
    "version": 3
   },
   "file_extension": ".py",
   "mimetype": "text/x-python",
   "name": "python",
   "nbconvert_exporter": "python",
   "pygments_lexer": "ipython3",
   "version": "3.12.1"
  }
 },
 "nbformat": 4,
 "nbformat_minor": 2
}
